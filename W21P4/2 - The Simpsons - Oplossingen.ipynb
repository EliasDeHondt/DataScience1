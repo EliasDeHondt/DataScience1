{
 "nbformat": 4,
 "nbformat_minor": 0,
 "metadata": {
  "colab": {
   "name": "2 - The Simpsons - Oplossingen.ipynb",
   "provenance": []
  },
  "kernelspec": {
   "display_name": "Python 3",
   "language": "python",
   "name": "python3"
  },
  "language_info": {
   "codemirror_mode": {
    "name": "ipython",
    "version": 3
   },
   "file_extension": ".py",
   "mimetype": "text/x-python",
   "name": "python",
   "nbconvert_exporter": "python",
   "pygments_lexer": "ipython3",
   "version": "3.8.7"
  }
 },
 "cells": [
  {
   "cell_type": "code",
   "metadata": {
    "colab": {
     "base_uri": "https://localhost:8080/"
    },
    "id": "3harFIPJr_G9",
    "pycharm": {
     "name": "#%%\n"
    },
    "scrolled": true,
    "executionInfo": {
     "status": "ok",
     "timestamp": 1620391781034,
     "user_tz": -120,
     "elapsed": 6416,
     "user": {
      "displayName": "Rony Baekeland",
      "photoUrl": "",
      "userId": "01731985152349302060"
     }
    },
    "outputId": "8c9e3ad0-1ab9-4e9d-b8a7-99a3fe80efd1"
   },
   "source": [
    "import os\n",
    "\n",
    "os.environ[\"PATH\"] += os.pathsep + 'C:/Program Files/Graphviz/bin/'\n",
    "import numpy as np\n",
    "import pandas as pd\n",
    "import math\n",
    "import matplotlib.pyplot as plt\n",
    "import graphviz\n",
    "\n",
    "# hack omwille van bug in Id3Estimator\n",
    "import six\n",
    "import sys\n",
    "!pip install decision-tree-id3\n",
    "sys.modules['sklearn.externals.six'] = six\n",
    "from id3 import Id3Estimator, export_graphviz, export_text"
   ],
   "execution_count": 1,
   "outputs": [
    {
     "output_type": "stream",
     "text": [
      "Collecting decision-tree-id3\n",
      "  Downloading https://files.pythonhosted.org/packages/53/60/9b51eb3b5096afa1fce2718f56c99f8e183162dae114c56592112ab54329/decision-tree-id3-0.1.2.tar.gz\n",
      "Collecting nose>=1.1.2\n",
      "\u001B[?25l  Downloading https://files.pythonhosted.org/packages/15/d8/dd071918c040f50fa1cf80da16423af51ff8ce4a0f2399b7bf8de45ac3d9/nose-1.3.7-py3-none-any.whl (154kB)\n",
      "\u001B[K     |████████████████████████████████| 163kB 6.8MB/s \n",
      "\u001B[?25hRequirement already satisfied: scikit-learn>=0.17 in /usr/local/lib/python3.7/dist-packages (from decision-tree-id3) (0.22.2.post1)\n",
      "Requirement already satisfied: numpy>=1.6.1 in /usr/local/lib/python3.7/dist-packages (from decision-tree-id3) (1.19.5)\n",
      "Requirement already satisfied: joblib>=0.11 in /usr/local/lib/python3.7/dist-packages (from scikit-learn>=0.17->decision-tree-id3) (1.0.1)\n",
      "Requirement already satisfied: scipy>=0.17.0 in /usr/local/lib/python3.7/dist-packages (from scikit-learn>=0.17->decision-tree-id3) (1.4.1)\n",
      "Building wheels for collected packages: decision-tree-id3\n",
      "  Building wheel for decision-tree-id3 (setup.py) ... \u001B[?25l\u001B[?25hdone\n",
      "  Created wheel for decision-tree-id3: filename=decision_tree_id3-0.1.2-cp37-none-any.whl size=15962 sha256=40ed99412588f09d853d553f99709f2d64a7cae4a4c1714ddc66f5512fafee16\n",
      "  Stored in directory: /root/.cache/pip/wheels/2d/d6/f2/96cb2cc307503a88b1235aef5c794990e460bd044f382070f9\n",
      "Successfully built decision-tree-id3\n",
      "Installing collected packages: nose, decision-tree-id3\n",
      "Successfully installed decision-tree-id3-0.1.2 nose-1.3.7\n"
     ],
     "name": "stdout"
    }
   ]
  },
  {
   "cell_type": "markdown",
   "metadata": {
    "id": "H1IpgOqir_HH",
    "pycharm": {
     "name": "#%% md\n"
    }
   },
   "source": [
    "# The Simpsons"
   ]
  },
  {
   "cell_type": "markdown",
   "metadata": {
    "id": "II3u00svr_HI",
    "pycharm": {
     "name": "#%% md\n"
    }
   },
   "source": [
    "1.  Lees het bestand van de simpsons in (simpsons_nominal.csv)\n",
    "Deze tabel bevat informatie over 9 karakters uit de Simpsons.\n",
    "Deze dataset is al omgezet naar nominale meetwaarden.\n",
    "We gaan onderzoeken of we 'geslacht' kunnen afleiden uit  haarlengte, gewicht en leeftijd"
   ]
  },
  {
   "cell_type": "code",
   "metadata": {
    "colab": {
     "base_uri": "https://localhost:8080/"
    },
    "id": "8fOqIKXBr_HI",
    "pycharm": {
     "name": "#%%\n"
    },
    "executionInfo": {
     "status": "ok",
     "timestamp": 1620391790491,
     "user_tz": -120,
     "elapsed": 733,
     "user": {
      "displayName": "Rony Baekeland",
      "photoUrl": "",
      "userId": "01731985152349302060"
     }
    },
    "outputId": "18ee8363-99c8-40e7-8a32-7fca563eda9d"
   },
   "source": [
    "simpsons_nominal = pd.read_csv(\"datasets/simpsons_nominal.csv\")\n",
    "simpsons_nominal.info()"
   ],
   "execution_count": 3,
   "outputs": [
    {
     "output_type": "stream",
     "text": [
      "<class 'pandas.core.frame.DataFrame'>\n",
      "RangeIndex: 9 entries, 0 to 8\n",
      "Data columns (total 4 columns):\n",
      " #   Column      Non-Null Count  Dtype \n",
      "---  ------      --------------  ----- \n",
      " 0   haarlengte  9 non-null      object\n",
      " 1   gewicht     9 non-null      object\n",
      " 2   leeftijd    9 non-null      object\n",
      " 3   geslacht    9 non-null      object\n",
      "dtypes: object(4)\n",
      "memory usage: 416.0+ bytes\n"
     ],
     "name": "stdout"
    }
   ]
  },
  {
   "cell_type": "markdown",
   "metadata": {
    "id": "YuKV_xmsr_HK",
    "pycharm": {
     "name": "#%% md\n"
    }
   },
   "source": [
    "2.  Bereken zelf de entropie van deze tabel. Schrijf ook de formule op."
   ]
  },
  {
   "cell_type": "code",
   "metadata": {
    "colab": {
     "base_uri": "https://localhost:8080/"
    },
    "id": "up6xhCXrr_HL",
    "pycharm": {
     "name": "#%%\n"
    },
    "executionInfo": {
     "status": "ok",
     "timestamp": 1620392117653,
     "user_tz": -120,
     "elapsed": 1105,
     "user": {
      "displayName": "Rony Baekeland",
      "photoUrl": "",
      "userId": "01731985152349302060"
     }
    },
    "outputId": "3f4c43c9-91c0-4dbb-eb0f-1aa5999d464d"
   },
   "source": [
    "len_set = len(simpsons_nominal.geslacht)\n",
    "\n",
    "#Voor 'geslacht'\n",
    "print(f'\\ngeslacht : {simpsons_nominal.geslacht.unique()}')\n",
    "len_geslacht_M = len(simpsons_nominal[simpsons_nominal.geslacht == 'M'])\n",
    "len_geslacht_V = len(simpsons_nominal[simpsons_nominal.geslacht == 'V'])\n",
    "print(\n",
    "    f'Er zijn {len_geslacht_V} instanties voor \"V\" en {len_geslacht_M} instanties voor \"M\" op een totaal van {len_set}')\n",
    "entropie_geslacht = -len_geslacht_V /len_set* np.log2(len_geslacht_V / len_set) -len_geslacht_M /len_set * np.log2(len_geslacht_M / len_set)\n",
    "print(f'De entropie van die kolom is dus {entropie_geslacht}')\n",
    "\n",
    "\n",
    "def entropy(column: pd.Series, base=None):\n",
    "    # Bepaal de fracties voor alle kolom waarden v\n",
    "    fractions = column.value_counts(normalize=True, sort=False)\n",
    "    base = 2 if base is None else base\n",
    "    return -(fractions * np.log(fractions) / np.log(base)).sum()\n",
    "\n",
    "\n",
    "# Check : bereken de entropie voor enkel 1 kolom\n",
    "print(f'Entropie voor geslacht (met eigen functie): {entropy(simpsons_nominal.geslacht).round(4)}')\n",
    "\n",
    "#De formule staat in  de cursus op hoofdstuk  4.1 Entropie"
   ],
   "execution_count": 5,
   "outputs": [
    {
     "output_type": "stream",
     "text": [
      "\n",
      "geslacht : ['M' 'V']\n",
      "Er zijn 4 instanties voor \"V\" en 5 instanties voor \"M\" op een totaal van 9\n",
      "De entropie van die kolom is dus 0.9910760598382222\n",
      "Entropie voor geslacht (met eigen functie): 0.9911\n"
     ],
     "name": "stdout"
    }
   ]
  },
  {
   "cell_type": "markdown",
   "metadata": {
    "id": "NLg241p8r_HM",
    "pycharm": {
     "name": "#%% md\n"
    }
   },
   "source": [
    "3.  Bereken de gain voor iedere kolom.  \n",
    "Kan je ook de gain van de laatste kolom berekenen?\n",
    "Schrijf ook telkens de formule op?"
   ]
  },
  {
   "cell_type": "code",
   "metadata": {
    "colab": {
     "base_uri": "https://localhost:8080/"
    },
    "id": "85eBQPj9r_HM",
    "pycharm": {
     "name": "#%%\n"
    },
    "executionInfo": {
     "elapsed": 943,
     "status": "ok",
     "timestamp": 1620288203637,
     "user": {
      "displayName": "Rony Baekeland",
      "photoUrl": "",
      "userId": "01731985152349302060"
     },
     "user_tz": -120
    },
    "outputId": "2ce4dc87-2280-42c7-b2d3-7c7819d11d6e"
   },
   "source": [
    "def information_gain(inputData: pd.DataFrame, columnName: str, targetName: str):\n",
    "    # bepaal entropie van parent table\n",
    "    entropy_parent = entropy(inputData[targetName])\n",
    "    child_entropies = []\n",
    "    child_weights = []\n",
    "    # compute entropies of child tables\n",
    "    for (label, fraction) in inputData[columnName].value_counts().items():\n",
    "        child_df = inputData[inputData[columnName] == label]\n",
    "        child_entropies.append(entropy(child_df[targetName]))\n",
    "        child_weights.append(int(fraction))\n",
    "    # calculate the difference between parent entropy and weighted child entropies\n",
    "    return entropy_parent - np.average(child_entropies, weights=child_weights)\n",
    "\n",
    "\n",
    "print(\"Initiële Information Gain voor alle kolommen\")\n",
    "targetVariable = 'geslacht'\n",
    "inf_gain = {}\n",
    "for label in simpsons_nominal.columns:\n",
    "    if targetVariable != label:\n",
    "        inf_gain[label] = information_gain(simpsons_nominal, label, targetVariable)\n",
    "        print(f'{label: <12} {inf_gain[label]}')"
   ],
   "execution_count": null,
   "outputs": [
    {
     "output_type": "stream",
     "text": [
      "Initiële Information Gain voor alle kolommen\n",
      "haarlengte   0.45165906291896163\n",
      "gewicht      0.5900048960119098\n",
      "leeftijd     0.07278022578373256\n"
     ],
     "name": "stdout"
    }
   ]
  },
  {
   "cell_type": "markdown",
   "metadata": {
    "id": "zLviY8IYr_HM",
    "pycharm": {
     "name": "#%% md\n"
    }
   },
   "source": [
    "4.  Bepaal de subtabel waarbij het gewicht altijd <=160 is."
   ]
  },
  {
   "cell_type": "code",
   "metadata": {
    "colab": {
     "base_uri": "https://localhost:8080/"
    },
    "id": "rE20Alvsr_HN",
    "pycharm": {
     "name": "#%%\n"
    },
    "executionInfo": {
     "elapsed": 505,
     "status": "ok",
     "timestamp": 1620288232837,
     "user": {
      "displayName": "Rony Baekeland",
      "photoUrl": "",
      "userId": "01731985152349302060"
     },
     "user_tz": -120
    },
    "outputId": "8bd98b28-904f-4927-dd1a-e008c712ff9a"
   },
   "source": [
    "simpsons_licht = simpsons_nominal.loc[simpsons_nominal.gewicht == '<=160']\n",
    "print(simpsons_licht)\n"
   ],
   "execution_count": null,
   "outputs": [
    {
     "output_type": "stream",
     "text": [
      "  haarlengte gewicht leeftijd geslacht\n",
      "1         >5   <=160    30-40        V\n",
      "2         <3   <=160      <30        M\n",
      "3         >5   <=160      <30        V\n",
      "4        3-5   <=160      <30        V\n",
      "6         >5   <=160      >40        V\n"
     ],
     "name": "stdout"
    }
   ]
  },
  {
   "cell_type": "markdown",
   "metadata": {
    "id": "iAk_5G-Xr_HN",
    "pycharm": {
     "name": "#%% md\n"
    }
   },
   "source": [
    "5.  Wat is de entropie van deze subtabel?\n",
    "En hoe verhoudt zich dat tov. entropie van de originele tabel?"
   ]
  },
  {
   "cell_type": "code",
   "metadata": {
    "colab": {
     "base_uri": "https://localhost:8080/"
    },
    "id": "7e75kgnAr_HN",
    "pycharm": {
     "name": "#%%\n"
    },
    "executionInfo": {
     "elapsed": 471,
     "status": "ok",
     "timestamp": 1620288235078,
     "user": {
      "displayName": "Rony Baekeland",
      "photoUrl": "",
      "userId": "01731985152349302060"
     },
     "user_tz": -120
    },
    "outputId": "69d7b2d6-76f8-4c16-bd00-c23ab7cb71fb"
   },
   "source": [
    "print(entropy(simpsons_licht.geslacht))\n",
    "print(entropy(simpsons_nominal.geslacht))\n",
    "\n",
    "print(f'Gain is {entropy(simpsons_nominal.geslacht) - entropy(simpsons_licht.geslacht)}')"
   ],
   "execution_count": null,
   "outputs": [
    {
     "output_type": "stream",
     "text": [
      "0.7219280948873623\n",
      "0.9910760598382221\n",
      "Gain is 0.2691479649508598\n"
     ],
     "name": "stdout"
    }
   ]
  },
  {
   "cell_type": "markdown",
   "metadata": {
    "id": "R-Rgoinor_HO",
    "pycharm": {
     "name": "#%% md\n"
    }
   },
   "source": [
    "6.  Bepaal de gain voor iedere kolom van deze subtabel.  \n",
    "Welke kolom kies je dus voor de volgende stap?"
   ]
  },
  {
   "cell_type": "code",
   "metadata": {
    "colab": {
     "base_uri": "https://localhost:8080/"
    },
    "id": "fuBpEUXXr_HO",
    "pycharm": {
     "name": "#%%\n"
    },
    "executionInfo": {
     "elapsed": 468,
     "status": "ok",
     "timestamp": 1620288249668,
     "user": {
      "displayName": "Rony Baekeland",
      "photoUrl": "",
      "userId": "01731985152349302060"
     },
     "user_tz": -120
    },
    "outputId": "8f0ef20d-fc36-4cc7-8608-9fd3d70eb366"
   },
   "source": [
    "print('alle Gains for subtabel')\n",
    "for label in simpsons_licht.columns:\n",
    "    print('{:<12}  {}'.format(label, information_gain(simpsons_licht, label, 'geslacht')))\n",
    "\n",
    "print('We kiezen daarna dus haarlengte')"
   ],
   "execution_count": null,
   "outputs": [
    {
     "output_type": "stream",
     "text": [
      "alle Gains for subtabel\n",
      "haarlengte    0.7219280948873623\n",
      "gewicht       0.0\n",
      "leeftijd      0.17095059445466854\n",
      "geslacht      0.7219280948873623\n",
      "We kiezen daarna dus haarlengte\n"
     ],
     "name": "stdout"
    }
   ]
  },
  {
   "cell_type": "markdown",
   "metadata": {
    "id": "nHEXQcoZr_HO",
    "pycharm": {
     "name": "#%% md\n"
    }
   },
   "source": [
    "7.  Maak de boomstructuur in Python"
   ]
  },
  {
   "cell_type": "code",
   "metadata": {
    "colab": {
     "base_uri": "https://localhost:8080/",
     "height": 500
    },
    "id": "mJ205UJyr_HO",
    "pycharm": {
     "name": "#%%\n"
    },
    "executionInfo": {
     "status": "ok",
     "timestamp": 1620392696141,
     "user_tz": -120,
     "elapsed": 961,
     "user": {
      "displayName": "Rony Baekeland",
      "photoUrl": "",
      "userId": "01731985152349302060"
     }
    },
    "outputId": "9ac6f4b5-2b29-400f-ef91-640c2e52b3f2"
   },
   "source": [
    "model = Id3Estimator()\n",
    "# X = features, y = target\n",
    "X = simpsons_nominal.drop(['geslacht'], axis=1).to_numpy().tolist()\n",
    "y = simpsons_nominal['geslacht'].to_numpy().tolist()\n",
    "model.fit(X, y)\n",
    "print(export_text(model.tree_, feature_names=simpsons_nominal.drop(['geslacht'], axis=1).columns))\n",
    "\n",
    "model_tree = export_graphviz(model.tree_, feature_names=simpsons_nominal.drop(columns=['geslacht']).columns)\n",
    "graph = graphviz.Source(model_tree.dot_tree)\n",
    "graph"
   ],
   "execution_count": 6,
   "outputs": [
    {
     "output_type": "stream",
     "text": [
      "/usr/local/lib/python3.7/dist-packages/sklearn/utils/validation.py:755: FutureWarning: Beginning in version 0.22, arrays of bytes/strings will be converted to decimal numbers if dtype='numeric'. It is recommended that you convert the array to a float dtype before using it in scikit-learn, for example by using your_array = your_array.astype(np.float64).\n",
      "  estimator=estimator)\n"
     ],
     "name": "stderr"
    },
    {
     "output_type": "stream",
     "text": [
      "\n",
      "gewicht <=160\n",
      "|   haarlengte 3-5: V (1) \n",
      "|   haarlengte <3: M (1) \n",
      "|   haarlengte >5: V (3) \n",
      "gewicht >160: M (4) \n",
      "\n"
     ],
     "name": "stdout"
    },
    {
     "output_type": "execute_result",
     "data": {
      "text/plain": [
       "<graphviz.files.Source at 0x7fab57117fd0>"
      ],
      "image/svg+xml": "<?xml version=\"1.0\" encoding=\"UTF-8\" standalone=\"no\"?>\n<!DOCTYPE svg PUBLIC \"-//W3C//DTD SVG 1.1//EN\"\n \"http://www.w3.org/Graphics/SVG/1.1/DTD/svg11.dtd\">\n<!-- Generated by graphviz version 2.40.1 (20161225.0304)\n -->\n<!-- Title: ID3_Tree Pages: 1 -->\n<svg width=\"217pt\" height=\"222pt\"\n viewBox=\"0.00 0.00 217.00 222.00\" xmlns=\"http://www.w3.org/2000/svg\" xmlns:xlink=\"http://www.w3.org/1999/xlink\">\n<g id=\"graph0\" class=\"graph\" transform=\"scale(1 1) rotate(0) translate(4 218)\">\n<title>ID3_Tree</title>\n<polygon fill=\"#ffffff\" stroke=\"transparent\" points=\"-4,4 -4,-218 213,-218 213,4 -4,4\"/>\n<!-- 0 -->\n<g id=\"node1\" class=\"node\">\n<title>0</title>\n<polygon fill=\"#d3d3d3\" stroke=\"#000000\" points=\"171,-214 109,-214 109,-178 171,-178 171,-214\"/>\n<text text-anchor=\"middle\" x=\"140\" y=\"-192.3\" font-family=\"Times,serif\" font-size=\"14.00\" fill=\"#000000\">gewicht</text>\n</g>\n<!-- 1 -->\n<g id=\"node2\" class=\"node\">\n<title>1</title>\n<polygon fill=\"#d3d3d3\" stroke=\"#000000\" points=\"136.5,-126 61.5,-126 61.5,-90 136.5,-90 136.5,-126\"/>\n<text text-anchor=\"middle\" x=\"99\" y=\"-104.3\" font-family=\"Times,serif\" font-size=\"14.00\" fill=\"#000000\">haarlengte</text>\n</g>\n<!-- 0&#45;&gt;1 -->\n<g id=\"edge1\" class=\"edge\">\n<title>0&#45;&gt;1</title>\n<path fill=\"none\" stroke=\"#000000\" d=\"M129.3819,-177.9147C126.2143,-172.2547 122.8342,-165.9359 120,-160 116.2422,-152.1296 112.5429,-143.4003 109.3214,-135.3767\"/>\n<polygon fill=\"#000000\" stroke=\"#000000\" points=\"112.57,-134.0737 105.6569,-126.045 106.0543,-136.6324 112.57,-134.0737\"/>\n<text text-anchor=\"middle\" x=\"140\" y=\"-148.8\" font-family=\"Times,serif\" font-size=\"14.00\" fill=\"#000000\">&lt;=160</text>\n</g>\n<!-- 5 -->\n<g id=\"node6\" class=\"node\">\n<title>5</title>\n<polygon fill=\"#d3d3d3\" stroke=\"#000000\" points=\"209,-127 155,-127 155,-89 209,-89 209,-127\"/>\n<text text-anchor=\"middle\" x=\"182\" y=\"-111.8\" font-family=\"Times,serif\" font-size=\"14.00\" fill=\"#000000\">M</text>\n<text text-anchor=\"middle\" x=\"182\" y=\"-96.8\" font-family=\"Times,serif\" font-size=\"14.00\" fill=\"#000000\">(4)</text>\n</g>\n<!-- 0&#45;&gt;5 -->\n<g id=\"edge5\" class=\"edge\">\n<title>0&#45;&gt;5</title>\n<path fill=\"none\" stroke=\"#000000\" d=\"M150.5582,-177.8858C153.7234,-172.2247 157.1172,-165.9124 160,-160 163.6248,-152.5658 167.2501,-144.3833 170.4818,-136.7534\"/>\n<polygon fill=\"#000000\" stroke=\"#000000\" points=\"173.729,-138.0598 174.335,-127.4823 167.2651,-135.3732 173.729,-138.0598\"/>\n<text text-anchor=\"middle\" x=\"182.5\" y=\"-148.8\" font-family=\"Times,serif\" font-size=\"14.00\" fill=\"#000000\">&gt;160</text>\n</g>\n<!-- 2 -->\n<g id=\"node3\" class=\"node\">\n<title>2</title>\n<polygon fill=\"#d3d3d3\" stroke=\"#000000\" points=\"54,-38 0,-38 0,0 54,0 54,-38\"/>\n<text text-anchor=\"middle\" x=\"27\" y=\"-22.8\" font-family=\"Times,serif\" font-size=\"14.00\" fill=\"#000000\">V</text>\n<text text-anchor=\"middle\" x=\"27\" y=\"-7.8\" font-family=\"Times,serif\" font-size=\"14.00\" fill=\"#000000\">(1)</text>\n</g>\n<!-- 1&#45;&gt;2 -->\n<g id=\"edge2\" class=\"edge\">\n<title>1&#45;&gt;2</title>\n<path fill=\"none\" stroke=\"#000000\" d=\"M84.4297,-89.9895C74.2623,-77.4214 60.5091,-60.421 49.0107,-46.2077\"/>\n<polygon fill=\"#000000\" stroke=\"#000000\" points=\"51.5559,-43.789 42.5454,-38.2158 46.1138,-48.1916 51.5559,-43.789\"/>\n<text text-anchor=\"middle\" x=\"78\" y=\"-59.8\" font-family=\"Times,serif\" font-size=\"14.00\" fill=\"#000000\">3&#45;5</text>\n</g>\n<!-- 3 -->\n<g id=\"node4\" class=\"node\">\n<title>3</title>\n<polygon fill=\"#d3d3d3\" stroke=\"#000000\" points=\"126,-38 72,-38 72,0 126,0 126,-38\"/>\n<text text-anchor=\"middle\" x=\"99\" y=\"-22.8\" font-family=\"Times,serif\" font-size=\"14.00\" fill=\"#000000\">M</text>\n<text text-anchor=\"middle\" x=\"99\" y=\"-7.8\" font-family=\"Times,serif\" font-size=\"14.00\" fill=\"#000000\">(1)</text>\n</g>\n<!-- 1&#45;&gt;3 -->\n<g id=\"edge3\" class=\"edge\">\n<title>1&#45;&gt;3</title>\n<path fill=\"none\" stroke=\"#000000\" d=\"M99,-89.9895C99,-78.0087 99,-62.0001 99,-48.2178\"/>\n<polygon fill=\"#000000\" stroke=\"#000000\" points=\"102.5001,-48.2158 99,-38.2158 95.5001,-48.2158 102.5001,-48.2158\"/>\n<text text-anchor=\"middle\" x=\"107\" y=\"-59.8\" font-family=\"Times,serif\" font-size=\"14.00\" fill=\"#000000\">&lt;3</text>\n</g>\n<!-- 4 -->\n<g id=\"node5\" class=\"node\">\n<title>4</title>\n<polygon fill=\"#d3d3d3\" stroke=\"#000000\" points=\"198,-38 144,-38 144,0 198,0 198,-38\"/>\n<text text-anchor=\"middle\" x=\"171\" y=\"-22.8\" font-family=\"Times,serif\" font-size=\"14.00\" fill=\"#000000\">V</text>\n<text text-anchor=\"middle\" x=\"171\" y=\"-7.8\" font-family=\"Times,serif\" font-size=\"14.00\" fill=\"#000000\">(3)</text>\n</g>\n<!-- 1&#45;&gt;4 -->\n<g id=\"edge4\" class=\"edge\">\n<title>1&#45;&gt;4</title>\n<path fill=\"none\" stroke=\"#000000\" d=\"M113.5703,-89.9895C123.7377,-77.4214 137.4909,-60.421 148.9893,-46.2077\"/>\n<polygon fill=\"#000000\" stroke=\"#000000\" points=\"151.8862,-48.1916 155.4546,-38.2158 146.4441,-43.789 151.8862,-48.1916\"/>\n<text text-anchor=\"middle\" x=\"148\" y=\"-59.8\" font-family=\"Times,serif\" font-size=\"14.00\" fill=\"#000000\">&gt;5</text>\n</g>\n</g>\n</svg>\n"
     },
     "metadata": {
      "tags": []
     },
     "execution_count": 6
    }
   ]
  },
  {
   "cell_type": "markdown",
   "metadata": {
    "id": "ZddPckV8r_HP",
    "pycharm": {
     "name": "#%% md\n"
    }
   },
   "source": [
    "8. Welk geslacht verwacht je voor een gloednieuw Simpson karakter met volgende eigenschappen?\n",
    " * haarlengte = '>5'\n",
    " * gewicht = '>160'\n",
    " * leeftijd = '30-40'"
   ]
  },
  {
   "cell_type": "code",
   "metadata": {
    "colab": {
     "base_uri": "https://localhost:8080/",
     "height": 90
    },
    "id": "uBrnNL3ir_HP",
    "pycharm": {
     "name": "#%%\n"
    },
    "executionInfo": {
     "elapsed": 491,
     "status": "ok",
     "timestamp": 1620288304272,
     "user": {
      "displayName": "Rony Baekeland",
      "photoUrl": "",
      "userId": "01731985152349302060"
     },
     "user_tz": -120
    },
    "outputId": "723c72d2-93a5-4f5a-b77c-2595e52fc4d6"
   },
   "source": [
    "Z = np.array([['>5', '>160', '30-40']])\n",
    "display(model.predict(Z))\n",
    "#==> Mannelijk"
   ],
   "execution_count": null,
   "outputs": [
    {
     "output_type": "stream",
     "text": [
      "/usr/local/lib/python3.7/dist-packages/id3/id3.py:171: FutureWarning: Beginning in version 0.22, arrays of bytes/strings will be converted to decimal numbers if dtype='numeric'. It is recommended that you convert the array to a float dtype before using it in scikit-learn, for example by using your_array = your_array.astype(np.float64).\n",
      "  X = check_array(X)\n"
     ],
     "name": "stderr"
    },
    {
     "output_type": "display_data",
     "data": {
      "text/plain": [
       "array(['M'], dtype='<U1')"
      ]
     },
     "metadata": {
      "tags": []
     }
    }
   ]
  },
  {
   "cell_type": "markdown",
   "metadata": {
    "id": "4pHREE2ir_HP",
    "pycharm": {
     "name": "#%% md\n"
    }
   },
   "source": [
    "9. Extra : Probeer nu eens een DecisionTree op te stellen met DecisionTreeClassifier uit scikit-learn.tree"
   ]
  },
  {
   "cell_type": "code",
   "metadata": {
    "colab": {
     "base_uri": "https://localhost:8080/",
     "height": 248
    },
    "id": "96UcsjVWr_HQ",
    "pycharm": {
     "name": "#%%\n"
    },
    "executionInfo": {
     "elapsed": 1145,
     "status": "ok",
     "timestamp": 1620288380087,
     "user": {
      "displayName": "Rony Baekeland",
      "photoUrl": "",
      "userId": "01731985152349302060"
     },
     "user_tz": -120
    },
    "outputId": "5e236d77-703d-40c5-d40f-283b7d0e2bdc"
   },
   "source": [
    "'''DecisionTreeClassifier'''\n",
    "from sklearn import tree\n",
    "from sklearn.tree import DecisionTreeClassifier\n",
    "\n",
    "simpsons = pd.read_csv(\"datasets/simpsons.csv\")\n",
    "classifier = DecisionTreeClassifier(criterion='entropy')\n",
    "classifier.fit(simpsons.drop(['geslacht', 'naam'], axis=1), simpsons['geslacht'])\n",
    "\n",
    "tree.plot_tree(classifier, feature_names=simpsons.drop(['geslacht', 'naam'], axis=1).columns.values,\n",
    "               class_names=['cluster {}'.format(i) for i in\n",
    "                            np.unique(simpsons['geslacht'])], filled=True)\n",
    "plt.show()"
   ],
   "execution_count": null,
   "outputs": [
    {
     "output_type": "display_data",
     "data": {
      "image/png": "[encoded data removed]",
      "text/plain": [
       "<Figure size 432x288 with 1 Axes>"
      ]
     },
     "metadata": {
      "tags": [],
      "needs_background": "light"
     }
    }
   ]
  },
  {
   "cell_type": "code",
   "metadata": {
    "id": "it16xbo8r_HQ",
    "pycharm": {
     "name": "#%%\n"
    }
   },
   "source": [],
   "execution_count": null,
   "outputs": []
  }
 ]
}