{
 "nbformat": 4,
 "nbformat_minor": 0,
 "metadata": {
  "kernelspec": {
   "display_name": "Python 3",
   "language": "python",
   "name": "python3"
  },
  "language_info": {
   "codemirror_mode": {
    "name": "ipython",
    "version": 2
   },
   "file_extension": ".py",
   "mimetype": "text/x-python",
   "name": "python",
   "nbconvert_exporter": "python",
   "pygments_lexer": "ipython2",
   "version": "2.7.6"
  },
  "colab": {
   "name": "3 - Scores - oplossingen.ipynb",
   "provenance": [],
   "collapsed_sections": []
  }
 },
 "cells": [
  {
   "cell_type": "code",
   "metadata": {
    "collapsed": true,
    "pycharm": {
     "name": "#%%\n"
    },
    "id": "ku8dNyUgbT8a"
   },
   "source": [
    "import sys\n",
    "\n",
    "import graphviz\n",
    "import numpy as np\n",
    "import pandas as pd\n",
    "# hack omwille van bug in Id3Estimator\n",
    "import six\n",
    "from id3.export import DotTree\n",
    "\n",
    "sys.modules['sklearn.externals.six'] = six\n",
    "from id3 import Id3Estimator, export_graphviz\n",
    "\n",
    "from sklearn import tree\n",
    "from sklearn.tree import DecisionTreeClassifier"
   ],
   "execution_count": null,
   "outputs": []
  },
  {
   "cell_type": "markdown",
   "metadata": {
    "collapsed": false,
    "id": "nTPxMbPNbT8h",
    "pycharm": {
     "name": "#%% md\n"
    }
   },
   "source": [
    "# Scores voor vakken voorspellen"
   ]
  },
  {
   "cell_type": "markdown",
   "metadata": {
    "collapsed": false,
    "pycharm": {
     "name": "#%% md\n"
    },
    "id": "-D7hPoz5bT8i"
   },
   "source": [
    "We geven een lijst van studenten aan een docent en vragen hoe hij/zij deze studenten inschat.\n",
    "De docent mag aan iedere student een score toekennen volgens zijn gevoel (niet volgens punten).\n",
    "We verwachten dat een docent dit onbewust toch zal doen op basis van zijn eigen vakken.\n"
   ]
  },
  {
   "cell_type": "markdown",
   "metadata": {
    "collapsed": false,
    "pycharm": {
     "name": "#%% md\n"
    },
    "id": "cimfjrYXbT8i"
   },
   "source": [
    "1. Lees het bestand \"studentenScores.csv\" in.  Hierin zie je de subjectieve scores, gegeven door de docent.  De score kan zijn: \"goed\", \"gemiddeld\", \"slecht\".  We vragen ons nu af op basis van welke criteria de docent zijn scores heeft gegeven."
   ]
  },
  {
   "cell_type": "code",
   "metadata": {
    "pycharm": {
     "name": "#%%\n"
    },
    "id": "66VBIIOZbT8j",
    "outputId": "82f9eadb-aca2-4c77-f47a-3922a7aaa9b1"
   },
   "source": [
    "grades = pd.read_csv(\"../datasets/studentenScores.csv\")\n",
    "grades.score = grades.score.astype(\n",
    "    pd.CategoricalDtype(categories=['slecht', 'gemiddeld', 'goed'], ordered=True))\n",
    "\n",
    "grades.info()\n",
    "grades.head()"
   ],
   "execution_count": null,
   "outputs": [
    {
     "output_type": "stream",
     "text": [
      "<class 'pandas.core.frame.DataFrame'>\n",
      "RangeIndex: 100 entries, 0 to 99\n",
      "Data columns (total 10 columns):\n",
      " #   Column  Non-Null Count  Dtype   \n",
      "---  ------  --------------  -----   \n",
      " 0   vak1    100 non-null    int64   \n",
      " 1   vak2    100 non-null    int64   \n",
      " 2   vak3    100 non-null    int64   \n",
      " 3   vak4    100 non-null    int64   \n",
      " 4   vak5    100 non-null    int64   \n",
      " 5   vak6    100 non-null    int64   \n",
      " 6   vak7    100 non-null    int64   \n",
      " 7   vak8    100 non-null    int64   \n",
      " 8   vak9    100 non-null    int64   \n",
      " 9   score   100 non-null    category\n",
      "dtypes: category(1), int64(9)\n",
      "memory usage: 7.4 KB\n"
     ],
     "name": "stdout"
    },
    {
     "output_type": "execute_result",
     "data": {
      "text/plain": [
       "   vak1  vak2  vak3  vak4  vak5  vak6  vak7  vak8  vak9      score\n",
       "0    13     9    17     2    17     1     0    14    18  gemiddeld\n",
       "1    10    13     5    20    20    14     4     2    10       goed\n",
       "2    13     4     2    19     3     9    16    13     7       goed\n",
       "3     8     3    17     7    16    10    15     9     8     slecht\n",
       "4     1    12    13     2     9    10     2     2    13     slecht"
      ],
      "text/html": [
       "<div>\n",
       "<style scoped>\n",
       "    .dataframe tbody tr th:only-of-type {\n",
       "        vertical-align: middle;\n",
       "    }\n",
       "\n",
       "    .dataframe tbody tr th {\n",
       "        vertical-align: top;\n",
       "    }\n",
       "\n",
       "    .dataframe thead th {\n",
       "        text-align: right;\n",
       "    }\n",
       "</style>\n",
       "<table border=\"1\" class=\"dataframe\">\n",
       "  <thead>\n",
       "    <tr style=\"text-align: right;\">\n",
       "      <th></th>\n",
       "      <th>vak1</th>\n",
       "      <th>vak2</th>\n",
       "      <th>vak3</th>\n",
       "      <th>vak4</th>\n",
       "      <th>vak5</th>\n",
       "      <th>vak6</th>\n",
       "      <th>vak7</th>\n",
       "      <th>vak8</th>\n",
       "      <th>vak9</th>\n",
       "      <th>score</th>\n",
       "    </tr>\n",
       "  </thead>\n",
       "  <tbody>\n",
       "    <tr>\n",
       "      <th>0</th>\n",
       "      <td>13</td>\n",
       "      <td>9</td>\n",
       "      <td>17</td>\n",
       "      <td>2</td>\n",
       "      <td>17</td>\n",
       "      <td>1</td>\n",
       "      <td>0</td>\n",
       "      <td>14</td>\n",
       "      <td>18</td>\n",
       "      <td>gemiddeld</td>\n",
       "    </tr>\n",
       "    <tr>\n",
       "      <th>1</th>\n",
       "      <td>10</td>\n",
       "      <td>13</td>\n",
       "      <td>5</td>\n",
       "      <td>20</td>\n",
       "      <td>20</td>\n",
       "      <td>14</td>\n",
       "      <td>4</td>\n",
       "      <td>2</td>\n",
       "      <td>10</td>\n",
       "      <td>goed</td>\n",
       "    </tr>\n",
       "    <tr>\n",
       "      <th>2</th>\n",
       "      <td>13</td>\n",
       "      <td>4</td>\n",
       "      <td>2</td>\n",
       "      <td>19</td>\n",
       "      <td>3</td>\n",
       "      <td>9</td>\n",
       "      <td>16</td>\n",
       "      <td>13</td>\n",
       "      <td>7</td>\n",
       "      <td>goed</td>\n",
       "    </tr>\n",
       "    <tr>\n",
       "      <th>3</th>\n",
       "      <td>8</td>\n",
       "      <td>3</td>\n",
       "      <td>17</td>\n",
       "      <td>7</td>\n",
       "      <td>16</td>\n",
       "      <td>10</td>\n",
       "      <td>15</td>\n",
       "      <td>9</td>\n",
       "      <td>8</td>\n",
       "      <td>slecht</td>\n",
       "    </tr>\n",
       "    <tr>\n",
       "      <th>4</th>\n",
       "      <td>1</td>\n",
       "      <td>12</td>\n",
       "      <td>13</td>\n",
       "      <td>2</td>\n",
       "      <td>9</td>\n",
       "      <td>10</td>\n",
       "      <td>2</td>\n",
       "      <td>2</td>\n",
       "      <td>13</td>\n",
       "      <td>slecht</td>\n",
       "    </tr>\n",
       "  </tbody>\n",
       "</table>\n",
       "</div>"
      ]
     },
     "metadata": {
      "tags": []
     },
     "execution_count": 4
    }
   ]
  },
  {
   "cell_type": "markdown",
   "metadata": {
    "collapsed": false,
    "id": "6PAmzvSIbT8k",
    "pycharm": {
     "name": "#%% md\n"
    }
   },
   "source": [
    "2. Stel daartoe een beslissingsboom op voor de score."
   ]
  },
  {
   "cell_type": "code",
   "metadata": {
    "pycharm": {
     "name": "#%%\n"
    },
    "id": "dZRRlB1RbT8k",
    "outputId": "645ce871-bba2-4846-f3cf-e481ce26367e"
   },
   "source": [
    "%%capture --no-display\n",
    "\n",
    "model = Id3Estimator()\n",
    "\n",
    "X = grades.drop(['score'], axis=1).to_numpy().tolist()\n",
    "y = grades['score'].to_numpy().tolist()\n",
    "model.fit(X, y)\n",
    "\n",
    "model_tree = DotTree()\n",
    "_ = export_graphviz(model.tree_, model_tree, feature_names=grades.drop(columns=['score']).columns)\n",
    "graphviz.Source(model_tree.dot_tree)"
   ],
   "execution_count": null,
   "outputs": [
    {
     "output_type": "execute_result",
     "data": {
      "text/plain": [
       "Id3Estimator(gain_ratio=False, is_repeating=False, max_depth=None,\n",
       "             min_entropy_decrease=0.0, min_samples_split=2, prune=False)"
      ]
     },
     "metadata": {
      "tags": []
     },
     "execution_count": 5
    },
    {
     "output_type": "execute_result",
     "data": {
      "text/plain": [
       "<graphviz.files.Source at 0x1ce33811580>"
      ],
      "image/svg+xml": "<?xml version=\"1.0\" encoding=\"UTF-8\" standalone=\"no\"?>\r\n<!DOCTYPE svg PUBLIC \"-//W3C//DTD SVG 1.1//EN\"\r\n \"http://www.w3.org/Graphics/SVG/1.1/DTD/svg11.dtd\">\r\n<!-- Generated by graphviz version 2.38.0 (20140413.2041)\r\n -->\r\n<!-- Title: ID3_Tree Pages: 1 -->\r\n<svg width=\"175pt\" height=\"222pt\"\r\n viewBox=\"0.00 0.00 175.00 222.00\" xmlns=\"http://www.w3.org/2000/svg\" xmlns:xlink=\"http://www.w3.org/1999/xlink\">\r\n<g id=\"graph0\" class=\"graph\" transform=\"scale(1 1) rotate(0) translate(4 218)\">\r\n<title>ID3_Tree</title>\r\n<polygon fill=\"white\" stroke=\"none\" points=\"-4,4 -4,-218 171,-218 171,4 -4,4\"/>\r\n<!-- 0 -->\r\n<g id=\"node1\" class=\"node\"><title>0</title>\r\n<polygon fill=\"lightgrey\" stroke=\"black\" points=\"131,-214 77,-214 77,-178 131,-178 131,-214\"/>\r\n<text text-anchor=\"middle\" x=\"104\" y=\"-192.3\" font-family=\"Times New Roman,serif\" font-size=\"14.00\">vak4</text>\r\n</g>\r\n<!-- 1 -->\r\n<g id=\"node2\" class=\"node\"><title>1</title>\r\n<polygon fill=\"lightgrey\" stroke=\"black\" points=\"95,-126 41,-126 41,-90 95,-90 95,-126\"/>\r\n<text text-anchor=\"middle\" x=\"68\" y=\"-104.3\" font-family=\"Times New Roman,serif\" font-size=\"14.00\">vak1</text>\r\n</g>\r\n<!-- 0&#45;&gt;1 -->\r\n<g id=\"edge1\" class=\"edge\"><title>0&#45;&gt;1</title>\r\n<path fill=\"none\" stroke=\"black\" d=\"M82.3772,-177.689C77.4288,-172.557 72.8042,-166.54 70,-160 66.8792,-152.721 65.6937,-144.309 65.4726,-136.441\"/>\r\n<polygon fill=\"black\" stroke=\"black\" points=\"68.9765,-136.276 65.6776,-126.208 61.9779,-136.136 68.9765,-136.276\"/>\r\n<text text-anchor=\"middle\" x=\"94\" y=\"-148.8\" font-family=\"Times New Roman,serif\" font-size=\"14.00\">&lt;=13.50</text>\r\n</g>\r\n<!-- 4 -->\r\n<g id=\"node5\" class=\"node\"><title>4</title>\r\n<polygon fill=\"lightgrey\" stroke=\"black\" points=\"167,-127 113,-127 113,-89 167,-89 167,-127\"/>\r\n<text text-anchor=\"middle\" x=\"140\" y=\"-111.8\" font-family=\"Times New Roman,serif\" font-size=\"14.00\">goed</text>\r\n<text text-anchor=\"middle\" x=\"140\" y=\"-96.8\" font-family=\"Times New Roman,serif\" font-size=\"14.00\">(28)</text>\r\n</g>\r\n<!-- 0&#45;&gt;4 -->\r\n<g id=\"edge4\" class=\"edge\"><title>0&#45;&gt;4</title>\r\n<path fill=\"none\" stroke=\"black\" d=\"M111.285,-177.597C116.212,-165.827 122.822,-150.035 128.459,-136.57\"/>\r\n<polygon fill=\"black\" stroke=\"black\" points=\"131.72,-137.844 132.353,-127.268 125.263,-135.141 131.72,-137.844\"/>\r\n<text text-anchor=\"middle\" x=\"144\" y=\"-148.8\" font-family=\"Times New Roman,serif\" font-size=\"14.00\">&gt;13.50</text>\r\n</g>\r\n<!-- 2 -->\r\n<g id=\"node3\" class=\"node\"><title>2</title>\r\n<polygon fill=\"lightgrey\" stroke=\"black\" points=\"54,-38 0,-38 0,-0 54,-0 54,-38\"/>\r\n<text text-anchor=\"middle\" x=\"27\" y=\"-22.8\" font-family=\"Times New Roman,serif\" font-size=\"14.00\">slecht</text>\r\n<text text-anchor=\"middle\" x=\"27\" y=\"-7.8\" font-family=\"Times New Roman,serif\" font-size=\"14.00\">(38)</text>\r\n</g>\r\n<!-- 1&#45;&gt;2 -->\r\n<g id=\"edge2\" class=\"edge\"><title>1&#45;&gt;2</title>\r\n<path fill=\"none\" stroke=\"black\" d=\"M56.5643,-89.8012C52.9374,-83.9672 49.0749,-77.3237 46,-71 42.4376,-63.6737 39.1196,-55.4974 36.2855,-47.8746\"/>\r\n<polygon fill=\"black\" stroke=\"black\" points=\"39.5213,-46.5285 32.8587,-38.2907 32.9299,-48.8853 39.5213,-46.5285\"/>\r\n<text text-anchor=\"middle\" x=\"66.5\" y=\"-59.8\" font-family=\"Times New Roman,serif\" font-size=\"14.00\">&lt;=9.50</text>\r\n</g>\r\n<!-- 3 -->\r\n<g id=\"node4\" class=\"node\"><title>3</title>\r\n<polygon fill=\"lightgrey\" stroke=\"black\" points=\"146,-38 72,-38 72,-0 146,-0 146,-38\"/>\r\n<text text-anchor=\"middle\" x=\"109\" y=\"-22.8\" font-family=\"Times New Roman,serif\" font-size=\"14.00\">gemiddeld</text>\r\n<text text-anchor=\"middle\" x=\"109\" y=\"-7.8\" font-family=\"Times New Roman,serif\" font-size=\"14.00\">(34)</text>\r\n</g>\r\n<!-- 1&#45;&gt;3 -->\r\n<g id=\"edge3\" class=\"edge\"><title>1&#45;&gt;3</title>\r\n<path fill=\"none\" stroke=\"black\" d=\"M77.3616,-89.9265C80.5246,-83.9867 84.0098,-77.2469 87,-71 90.6299,-63.4166 94.3391,-55.0831 97.6526,-47.39\"/>\r\n<polygon fill=\"black\" stroke=\"black\" points=\"100.914,-48.665 101.602,-38.0926 94.4709,-45.928 100.914,-48.665\"/>\r\n<text text-anchor=\"middle\" x=\"109.5\" y=\"-59.8\" font-family=\"Times New Roman,serif\" font-size=\"14.00\">&gt;9.50</text>\r\n</g>\r\n</g>\r\n</svg>\r\n"
     },
     "metadata": {
      "tags": []
     },
     "execution_count": 5
    }
   ]
  },
  {
   "cell_type": "markdown",
   "metadata": {
    "collapsed": false,
    "id": "UzoGyzqsbT8k",
    "pycharm": {
     "name": "#%% md\n"
    }
   },
   "source": [
    "3. Welke vakken geeft de docent?"
   ]
  },
  {
   "cell_type": "code",
   "metadata": {
    "pycharm": {
     "name": "#%%\n"
    },
    "id": "EteFfPQNbT8l",
    "outputId": "09c6ea1c-7e67-4f9c-b2dc-07188ce65c63"
   },
   "source": [
    "grades['scores_likert'] = grades.score.cat.codes\n",
    "grades.corr()['scores_likert'].sort_values(ascending=False)\n",
    "# de scores op likert schaal correleren het meest met vakken 4 en 1.\n",
    "grades.drop('scores_likert', axis=1, inplace=True)"
   ],
   "execution_count": null,
   "outputs": [
    {
     "output_type": "execute_result",
     "data": {
      "text/plain": [
       "scores_likert    1.000000\n",
       "vak4             0.656066\n",
       "vak1             0.306245\n",
       "vak5             0.122656\n",
       "vak7             0.112636\n",
       "vak8             0.072779\n",
       "vak9            -0.032974\n",
       "vak3            -0.062490\n",
       "vak6            -0.102909\n",
       "vak2            -0.147735\n",
       "Name: scores_likert, dtype: float64"
      ]
     },
     "metadata": {
      "tags": []
     },
     "execution_count": 6
    }
   ]
  },
  {
   "cell_type": "code",
   "metadata": {
    "pycharm": {
     "name": "#%%\n"
    },
    "id": "m8IJwpF1bT8l",
    "outputId": "7fb51bc9-c3d2-4dce-b80b-99773be7e575"
   },
   "source": [
    "# alternatieve oplossing\n",
    "#Laten we eerst een andere maat voor 'score' gebruiken - vb. het gemiddelde\n",
    "grades['avg'] = grades.drop('score', axis=1).mean(axis=1)\n",
    "#Als we sorteren op het gemiddelde over alle vakken dan zien we dat er amper correlatie is tussen SCORE en AVG, hetgeen enige 'subjectiviteit' aantoont.\n",
    "grades.sort_values(by=['avg'], ascending=False)\n",
    "\n",
    "# Uit de boomstructuur zien we dat studenten die hoog (> 13.50) scoren op Vak 4\n",
    "# door de docent als \"GOED\" beoordeeld onafhankelijk van zijn andere vakken.\n",
    "\n",
    "#Als we nu alle data sorteren op Vak4\n",
    "grades.sort_values(by=['vak4'], ascending=False)\n",
    "#Dan zien we ineens WEL een sterke correlatie tussen die sortering en de score (ie. hoog op Vak4 => score=goed)\n",
    "\n",
    "#gooi de tijdelijke kolom terug weg\n",
    "grades = grades.drop('avg', axis=1)\n",
    "print(grades.shape)"
   ],
   "execution_count": null,
   "outputs": [
    {
     "output_type": "execute_result",
     "data": {
      "text/plain": [
       "    vak1  vak2  vak3  vak4  vak5  vak6  vak7  vak8  vak9      score        avg\n",
       "33     7    15    17    12     9    19    18    17    19     slecht  14.777778\n",
       "48    17    15    17    20     7    15    18    12     4       goed  13.888889\n",
       "36     3    19    15    16    19    19     6    11    14       goed  13.555556\n",
       "30    16    16     9     7    14    19     9    12    18  gemiddeld  13.333333\n",
       "15    14     8    18    13     4    17    13    20    10  gemiddeld  13.000000\n",
       "..   ...   ...   ...   ...   ...   ...   ...   ...   ...        ...        ...\n",
       "38     8    16     1     2     9     2    12     4     2     slecht   6.222222\n",
       "93     5     3    16     2    13     2     0    12     1     slecht   6.000000\n",
       "61    18    10     0     4     2     1     2    13     2  gemiddeld   5.777778\n",
       "84    11     3     0     3     1     1     4    12    16  gemiddeld   5.666667\n",
       "9      3    10     1     5     1     1    10     5     1     slecht   4.111111\n",
       "\n",
       "[100 rows x 11 columns]"
      ],
      "text/html": [
       "<div>\n",
       "<style scoped>\n",
       "    .dataframe tbody tr th:only-of-type {\n",
       "        vertical-align: middle;\n",
       "    }\n",
       "\n",
       "    .dataframe tbody tr th {\n",
       "        vertical-align: top;\n",
       "    }\n",
       "\n",
       "    .dataframe thead th {\n",
       "        text-align: right;\n",
       "    }\n",
       "</style>\n",
       "<table border=\"1\" class=\"dataframe\">\n",
       "  <thead>\n",
       "    <tr style=\"text-align: right;\">\n",
       "      <th></th>\n",
       "      <th>vak1</th>\n",
       "      <th>vak2</th>\n",
       "      <th>vak3</th>\n",
       "      <th>vak4</th>\n",
       "      <th>vak5</th>\n",
       "      <th>vak6</th>\n",
       "      <th>vak7</th>\n",
       "      <th>vak8</th>\n",
       "      <th>vak9</th>\n",
       "      <th>score</th>\n",
       "      <th>avg</th>\n",
       "    </tr>\n",
       "  </thead>\n",
       "  <tbody>\n",
       "    <tr>\n",
       "      <th>33</th>\n",
       "      <td>7</td>\n",
       "      <td>15</td>\n",
       "      <td>17</td>\n",
       "      <td>12</td>\n",
       "      <td>9</td>\n",
       "      <td>19</td>\n",
       "      <td>18</td>\n",
       "      <td>17</td>\n",
       "      <td>19</td>\n",
       "      <td>slecht</td>\n",
       "      <td>14.777778</td>\n",
       "    </tr>\n",
       "    <tr>\n",
       "      <th>48</th>\n",
       "      <td>17</td>\n",
       "      <td>15</td>\n",
       "      <td>17</td>\n",
       "      <td>20</td>\n",
       "      <td>7</td>\n",
       "      <td>15</td>\n",
       "      <td>18</td>\n",
       "      <td>12</td>\n",
       "      <td>4</td>\n",
       "      <td>goed</td>\n",
       "      <td>13.888889</td>\n",
       "    </tr>\n",
       "    <tr>\n",
       "      <th>36</th>\n",
       "      <td>3</td>\n",
       "      <td>19</td>\n",
       "      <td>15</td>\n",
       "      <td>16</td>\n",
       "      <td>19</td>\n",
       "      <td>19</td>\n",
       "      <td>6</td>\n",
       "      <td>11</td>\n",
       "      <td>14</td>\n",
       "      <td>goed</td>\n",
       "      <td>13.555556</td>\n",
       "    </tr>\n",
       "    <tr>\n",
       "      <th>30</th>\n",
       "      <td>16</td>\n",
       "      <td>16</td>\n",
       "      <td>9</td>\n",
       "      <td>7</td>\n",
       "      <td>14</td>\n",
       "      <td>19</td>\n",
       "      <td>9</td>\n",
       "      <td>12</td>\n",
       "      <td>18</td>\n",
       "      <td>gemiddeld</td>\n",
       "      <td>13.333333</td>\n",
       "    </tr>\n",
       "    <tr>\n",
       "      <th>15</th>\n",
       "      <td>14</td>\n",
       "      <td>8</td>\n",
       "      <td>18</td>\n",
       "      <td>13</td>\n",
       "      <td>4</td>\n",
       "      <td>17</td>\n",
       "      <td>13</td>\n",
       "      <td>20</td>\n",
       "      <td>10</td>\n",
       "      <td>gemiddeld</td>\n",
       "      <td>13.000000</td>\n",
       "    </tr>\n",
       "    <tr>\n",
       "      <th>...</th>\n",
       "      <td>...</td>\n",
       "      <td>...</td>\n",
       "      <td>...</td>\n",
       "      <td>...</td>\n",
       "      <td>...</td>\n",
       "      <td>...</td>\n",
       "      <td>...</td>\n",
       "      <td>...</td>\n",
       "      <td>...</td>\n",
       "      <td>...</td>\n",
       "      <td>...</td>\n",
       "    </tr>\n",
       "    <tr>\n",
       "      <th>38</th>\n",
       "      <td>8</td>\n",
       "      <td>16</td>\n",
       "      <td>1</td>\n",
       "      <td>2</td>\n",
       "      <td>9</td>\n",
       "      <td>2</td>\n",
       "      <td>12</td>\n",
       "      <td>4</td>\n",
       "      <td>2</td>\n",
       "      <td>slecht</td>\n",
       "      <td>6.222222</td>\n",
       "    </tr>\n",
       "    <tr>\n",
       "      <th>93</th>\n",
       "      <td>5</td>\n",
       "      <td>3</td>\n",
       "      <td>16</td>\n",
       "      <td>2</td>\n",
       "      <td>13</td>\n",
       "      <td>2</td>\n",
       "      <td>0</td>\n",
       "      <td>12</td>\n",
       "      <td>1</td>\n",
       "      <td>slecht</td>\n",
       "      <td>6.000000</td>\n",
       "    </tr>\n",
       "    <tr>\n",
       "      <th>61</th>\n",
       "      <td>18</td>\n",
       "      <td>10</td>\n",
       "      <td>0</td>\n",
       "      <td>4</td>\n",
       "      <td>2</td>\n",
       "      <td>1</td>\n",
       "      <td>2</td>\n",
       "      <td>13</td>\n",
       "      <td>2</td>\n",
       "      <td>gemiddeld</td>\n",
       "      <td>5.777778</td>\n",
       "    </tr>\n",
       "    <tr>\n",
       "      <th>84</th>\n",
       "      <td>11</td>\n",
       "      <td>3</td>\n",
       "      <td>0</td>\n",
       "      <td>3</td>\n",
       "      <td>1</td>\n",
       "      <td>1</td>\n",
       "      <td>4</td>\n",
       "      <td>12</td>\n",
       "      <td>16</td>\n",
       "      <td>gemiddeld</td>\n",
       "      <td>5.666667</td>\n",
       "    </tr>\n",
       "    <tr>\n",
       "      <th>9</th>\n",
       "      <td>3</td>\n",
       "      <td>10</td>\n",
       "      <td>1</td>\n",
       "      <td>5</td>\n",
       "      <td>1</td>\n",
       "      <td>1</td>\n",
       "      <td>10</td>\n",
       "      <td>5</td>\n",
       "      <td>1</td>\n",
       "      <td>slecht</td>\n",
       "      <td>4.111111</td>\n",
       "    </tr>\n",
       "  </tbody>\n",
       "</table>\n",
       "<p>100 rows × 11 columns</p>\n",
       "</div>"
      ]
     },
     "metadata": {
      "tags": []
     },
     "execution_count": 7
    },
    {
     "output_type": "execute_result",
     "data": {
      "text/plain": [
       "    vak1  vak2  vak3  vak4  vak5  vak6  vak7  vak8  vak9      score        avg\n",
       "48    17    15    17    20     7    15    18    12     4       goed  13.888889\n",
       "1     10    13     5    20    20    14     4     2    10       goed  10.888889\n",
       "37     0     7    17    19     9     6     6     0     4       goed   7.555556\n",
       "2     13     4     2    19     3     9    16    13     7       goed   9.555556\n",
       "51     6    17    14    19    12     1     5    18     5       goed  10.777778\n",
       "..   ...   ...   ...   ...   ...   ...   ...   ...   ...        ...        ...\n",
       "28     9     1    10     1    13     6    17    13     0     slecht   7.777778\n",
       "26     8    17     0     1    10    12     3    12    12     slecht   8.333333\n",
       "96    16    10    16     1     8    11    19     0    13  gemiddeld  10.444444\n",
       "5     17     2    19     1    13    14     5     5     2  gemiddeld   8.666667\n",
       "46    16     9     5     0     8     4     0     8     8  gemiddeld   6.444444\n",
       "\n",
       "[100 rows x 11 columns]"
      ],
      "text/html": [
       "<div>\n",
       "<style scoped>\n",
       "    .dataframe tbody tr th:only-of-type {\n",
       "        vertical-align: middle;\n",
       "    }\n",
       "\n",
       "    .dataframe tbody tr th {\n",
       "        vertical-align: top;\n",
       "    }\n",
       "\n",
       "    .dataframe thead th {\n",
       "        text-align: right;\n",
       "    }\n",
       "</style>\n",
       "<table border=\"1\" class=\"dataframe\">\n",
       "  <thead>\n",
       "    <tr style=\"text-align: right;\">\n",
       "      <th></th>\n",
       "      <th>vak1</th>\n",
       "      <th>vak2</th>\n",
       "      <th>vak3</th>\n",
       "      <th>vak4</th>\n",
       "      <th>vak5</th>\n",
       "      <th>vak6</th>\n",
       "      <th>vak7</th>\n",
       "      <th>vak8</th>\n",
       "      <th>vak9</th>\n",
       "      <th>score</th>\n",
       "      <th>avg</th>\n",
       "    </tr>\n",
       "  </thead>\n",
       "  <tbody>\n",
       "    <tr>\n",
       "      <th>48</th>\n",
       "      <td>17</td>\n",
       "      <td>15</td>\n",
       "      <td>17</td>\n",
       "      <td>20</td>\n",
       "      <td>7</td>\n",
       "      <td>15</td>\n",
       "      <td>18</td>\n",
       "      <td>12</td>\n",
       "      <td>4</td>\n",
       "      <td>goed</td>\n",
       "      <td>13.888889</td>\n",
       "    </tr>\n",
       "    <tr>\n",
       "      <th>1</th>\n",
       "      <td>10</td>\n",
       "      <td>13</td>\n",
       "      <td>5</td>\n",
       "      <td>20</td>\n",
       "      <td>20</td>\n",
       "      <td>14</td>\n",
       "      <td>4</td>\n",
       "      <td>2</td>\n",
       "      <td>10</td>\n",
       "      <td>goed</td>\n",
       "      <td>10.888889</td>\n",
       "    </tr>\n",
       "    <tr>\n",
       "      <th>37</th>\n",
       "      <td>0</td>\n",
       "      <td>7</td>\n",
       "      <td>17</td>\n",
       "      <td>19</td>\n",
       "      <td>9</td>\n",
       "      <td>6</td>\n",
       "      <td>6</td>\n",
       "      <td>0</td>\n",
       "      <td>4</td>\n",
       "      <td>goed</td>\n",
       "      <td>7.555556</td>\n",
       "    </tr>\n",
       "    <tr>\n",
       "      <th>2</th>\n",
       "      <td>13</td>\n",
       "      <td>4</td>\n",
       "      <td>2</td>\n",
       "      <td>19</td>\n",
       "      <td>3</td>\n",
       "      <td>9</td>\n",
       "      <td>16</td>\n",
       "      <td>13</td>\n",
       "      <td>7</td>\n",
       "      <td>goed</td>\n",
       "      <td>9.555556</td>\n",
       "    </tr>\n",
       "    <tr>\n",
       "      <th>51</th>\n",
       "      <td>6</td>\n",
       "      <td>17</td>\n",
       "      <td>14</td>\n",
       "      <td>19</td>\n",
       "      <td>12</td>\n",
       "      <td>1</td>\n",
       "      <td>5</td>\n",
       "      <td>18</td>\n",
       "      <td>5</td>\n",
       "      <td>goed</td>\n",
       "      <td>10.777778</td>\n",
       "    </tr>\n",
       "    <tr>\n",
       "      <th>...</th>\n",
       "      <td>...</td>\n",
       "      <td>...</td>\n",
       "      <td>...</td>\n",
       "      <td>...</td>\n",
       "      <td>...</td>\n",
       "      <td>...</td>\n",
       "      <td>...</td>\n",
       "      <td>...</td>\n",
       "      <td>...</td>\n",
       "      <td>...</td>\n",
       "      <td>...</td>\n",
       "    </tr>\n",
       "    <tr>\n",
       "      <th>28</th>\n",
       "      <td>9</td>\n",
       "      <td>1</td>\n",
       "      <td>10</td>\n",
       "      <td>1</td>\n",
       "      <td>13</td>\n",
       "      <td>6</td>\n",
       "      <td>17</td>\n",
       "      <td>13</td>\n",
       "      <td>0</td>\n",
       "      <td>slecht</td>\n",
       "      <td>7.777778</td>\n",
       "    </tr>\n",
       "    <tr>\n",
       "      <th>26</th>\n",
       "      <td>8</td>\n",
       "      <td>17</td>\n",
       "      <td>0</td>\n",
       "      <td>1</td>\n",
       "      <td>10</td>\n",
       "      <td>12</td>\n",
       "      <td>3</td>\n",
       "      <td>12</td>\n",
       "      <td>12</td>\n",
       "      <td>slecht</td>\n",
       "      <td>8.333333</td>\n",
       "    </tr>\n",
       "    <tr>\n",
       "      <th>96</th>\n",
       "      <td>16</td>\n",
       "      <td>10</td>\n",
       "      <td>16</td>\n",
       "      <td>1</td>\n",
       "      <td>8</td>\n",
       "      <td>11</td>\n",
       "      <td>19</td>\n",
       "      <td>0</td>\n",
       "      <td>13</td>\n",
       "      <td>gemiddeld</td>\n",
       "      <td>10.444444</td>\n",
       "    </tr>\n",
       "    <tr>\n",
       "      <th>5</th>\n",
       "      <td>17</td>\n",
       "      <td>2</td>\n",
       "      <td>19</td>\n",
       "      <td>1</td>\n",
       "      <td>13</td>\n",
       "      <td>14</td>\n",
       "      <td>5</td>\n",
       "      <td>5</td>\n",
       "      <td>2</td>\n",
       "      <td>gemiddeld</td>\n",
       "      <td>8.666667</td>\n",
       "    </tr>\n",
       "    <tr>\n",
       "      <th>46</th>\n",
       "      <td>16</td>\n",
       "      <td>9</td>\n",
       "      <td>5</td>\n",
       "      <td>0</td>\n",
       "      <td>8</td>\n",
       "      <td>4</td>\n",
       "      <td>0</td>\n",
       "      <td>8</td>\n",
       "      <td>8</td>\n",
       "      <td>gemiddeld</td>\n",
       "      <td>6.444444</td>\n",
       "    </tr>\n",
       "  </tbody>\n",
       "</table>\n",
       "<p>100 rows × 11 columns</p>\n",
       "</div>"
      ]
     },
     "metadata": {
      "tags": []
     },
     "execution_count": 7
    },
    {
     "output_type": "stream",
     "text": [
      "(100, 10)\n"
     ],
     "name": "stdout"
    }
   ]
  },
  {
   "cell_type": "markdown",
   "metadata": {
    "collapsed": false,
    "id": "zIJ76mr1bT8l",
    "pycharm": {
     "name": "#%% md\n"
    }
   },
   "source": [
    "4. De boomstructuur is nogal complex.\n",
    "\n",
    "Dat komt omdat de punten veel waarden kunnen aannemen.\n",
    "We kunnen dit oplossen door de punten op te delen in categorieën:\n",
    " * niet geslaagd (0-9),\n",
    " * voldoening (10-13),\n",
    " * onderscheiding (14-15),\n",
    " * grote onderscheiding (16-20).\n",
    "\n",
    "Probeer de scores zo in te delen.\n"
   ]
  },
  {
   "cell_type": "code",
   "metadata": {
    "pycharm": {
     "name": "#%%\n"
    },
    "id": "ex97Col6bT8m"
   },
   "source": [
    "grades_cat = grades.drop('score', axis=1).apply(pd.cut,\n",
    "                                                bins=[0, 10, 14, 16, 21],\n",
    "                                                right=False,\n",
    "                                                labels=['niet geslaagd', 'voldoening', 'onderscheiding',\n",
    "                                                        'grote onderscheiding'])\n",
    "grades_cat['score'] = grades.score"
   ],
   "execution_count": null,
   "outputs": []
  },
  {
   "cell_type": "markdown",
   "metadata": {
    "collapsed": false,
    "id": "sspTUjJhbT8m",
    "pycharm": {
     "name": "#%% md\n"
    }
   },
   "source": [
    "5. Bereken nu de boomstructuur opnieuw.  Is dit duidelijker?"
   ]
  },
  {
   "cell_type": "code",
   "metadata": {
    "pycharm": {
     "name": "#%%\n"
    },
    "id": "cE_1XgdQbT8m",
    "outputId": "1549c1be-67f7-4642-fdbd-e9d684e2183e"
   },
   "source": [
    "%%capture --no-display\n",
    "\n",
    "model = Id3Estimator()\n",
    "X = grades_cat.drop(['score'], axis=1).values.tolist()\n",
    "y = grades_cat['score'].values.tolist()\n",
    "model.fit(X, y)\n",
    "\n",
    "model_tree = DotTree()\n",
    "_ = export_graphviz(model.tree_, model_tree, feature_names=grades_cat.drop(columns=['score']).columns)\n",
    "graph = graphviz.Source(model_tree.dot_tree)\n",
    "graph"
   ],
   "execution_count": null,
   "outputs": [
    {
     "output_type": "execute_result",
     "data": {
      "text/plain": [
       "Id3Estimator(gain_ratio=False, is_repeating=False, max_depth=None,\n",
       "             min_entropy_decrease=0.0, min_samples_split=2, prune=False)"
      ]
     },
     "metadata": {
      "tags": []
     },
     "execution_count": 9
    },
    {
     "output_type": "execute_result",
     "data": {
      "text/plain": [
       "<graphviz.files.Source at 0x1ce33863f40>"
      ],
      "image/svg+xml": "<?xml version=\"1.0\" encoding=\"UTF-8\" standalone=\"no\"?>\r\n<!DOCTYPE svg PUBLIC \"-//W3C//DTD SVG 1.1//EN\"\r\n \"http://www.w3.org/Graphics/SVG/1.1/DTD/svg11.dtd\">\r\n<!-- Generated by graphviz version 2.38.0 (20140413.2041)\r\n -->\r\n<!-- Title: ID3_Tree Pages: 1 -->\r\n<svg width=\"869pt\" height=\"222pt\"\r\n viewBox=\"0.00 0.00 869.00 222.00\" xmlns=\"http://www.w3.org/2000/svg\" xmlns:xlink=\"http://www.w3.org/1999/xlink\">\r\n<g id=\"graph0\" class=\"graph\" transform=\"scale(1 1) rotate(0) translate(4 218)\">\r\n<title>ID3_Tree</title>\r\n<polygon fill=\"white\" stroke=\"none\" points=\"-4,4 -4,-218 865,-218 865,4 -4,4\"/>\r\n<!-- 0 -->\r\n<g id=\"node1\" class=\"node\"><title>0</title>\r\n<polygon fill=\"lightgrey\" stroke=\"black\" points=\"382,-214 328,-214 328,-178 382,-178 382,-214\"/>\r\n<text text-anchor=\"middle\" x=\"355\" y=\"-192.3\" font-family=\"Times New Roman,serif\" font-size=\"14.00\">vak4</text>\r\n</g>\r\n<!-- 1 -->\r\n<g id=\"node2\" class=\"node\"><title>1</title>\r\n<polygon fill=\"lightgrey\" stroke=\"black\" points=\"194,-127 140,-127 140,-89 194,-89 194,-127\"/>\r\n<text text-anchor=\"middle\" x=\"167\" y=\"-111.8\" font-family=\"Times New Roman,serif\" font-size=\"14.00\">goed</text>\r\n<text text-anchor=\"middle\" x=\"167\" y=\"-96.8\" font-family=\"Times New Roman,serif\" font-size=\"14.00\">(16)</text>\r\n</g>\r\n<!-- 0&#45;&gt;1 -->\r\n<g id=\"edge1\" class=\"edge\"><title>0&#45;&gt;1</title>\r\n<path fill=\"none\" stroke=\"black\" d=\"M327.635,-193.744C281.545,-191.014 191.45,-182.827 171,-160 165.5,-153.861 163.462,-145.469 163.099,-137.266\"/>\r\n<polygon fill=\"black\" stroke=\"black\" points=\"166.6,-137.259 163.4,-127.159 159.604,-137.05 166.6,-137.259\"/>\r\n<text text-anchor=\"middle\" x=\"230\" y=\"-148.8\" font-family=\"Times New Roman,serif\" font-size=\"14.00\">grote onderscheiding</text>\r\n</g>\r\n<!-- 2 -->\r\n<g id=\"node3\" class=\"node\"><title>2</title>\r\n<polygon fill=\"lightgrey\" stroke=\"black\" points=\"300,-126 246,-126 246,-90 300,-90 300,-126\"/>\r\n<text text-anchor=\"middle\" x=\"273\" y=\"-104.3\" font-family=\"Times New Roman,serif\" font-size=\"14.00\">vak1</text>\r\n</g>\r\n<!-- 0&#45;&gt;2 -->\r\n<g id=\"edge2\" class=\"edge\"><title>0&#45;&gt;2</title>\r\n<path fill=\"none\" stroke=\"black\" d=\"M327.743,-178.832C319.883,-173.43 311.644,-166.988 305,-160 298.018,-152.657 291.735,-143.562 286.623,-135.096\"/>\r\n<polygon fill=\"black\" stroke=\"black\" points=\"289.57,-133.199 281.558,-126.267 283.499,-136.683 289.57,-133.199\"/>\r\n<text text-anchor=\"middle\" x=\"341\" y=\"-148.8\" font-family=\"Times New Roman,serif\" font-size=\"14.00\">niet geslaagd</text>\r\n</g>\r\n<!-- 7 -->\r\n<g id=\"node8\" class=\"node\"><title>7</title>\r\n<polygon fill=\"lightgrey\" stroke=\"black\" points=\"430,-127 376,-127 376,-89 430,-89 430,-127\"/>\r\n<text text-anchor=\"middle\" x=\"403\" y=\"-111.8\" font-family=\"Times New Roman,serif\" font-size=\"14.00\">goed</text>\r\n<text text-anchor=\"middle\" x=\"403\" y=\"-96.8\" font-family=\"Times New Roman,serif\" font-size=\"14.00\">(12)</text>\r\n</g>\r\n<!-- 0&#45;&gt;7 -->\r\n<g id=\"edge7\" class=\"edge\"><title>0&#45;&gt;7</title>\r\n<path fill=\"none\" stroke=\"black\" d=\"M369.057,-177.739C373.185,-172.25 377.521,-166.033 381,-160 385.2,-152.717 389.091,-144.479 392.396,-136.782\"/>\r\n<polygon fill=\"black\" stroke=\"black\" points=\"395.675,-138.012 396.249,-127.433 389.203,-135.345 395.675,-138.012\"/>\r\n<text text-anchor=\"middle\" x=\"430.5\" y=\"-148.8\" font-family=\"Times New Roman,serif\" font-size=\"14.00\">onderscheiding</text>\r\n</g>\r\n<!-- 8 -->\r\n<g id=\"node9\" class=\"node\"><title>8</title>\r\n<polygon fill=\"lightgrey\" stroke=\"black\" points=\"641,-126 587,-126 587,-90 641,-90 641,-126\"/>\r\n<text text-anchor=\"middle\" x=\"614\" y=\"-104.3\" font-family=\"Times New Roman,serif\" font-size=\"14.00\">vak1</text>\r\n</g>\r\n<!-- 0&#45;&gt;8 -->\r\n<g id=\"edge8\" class=\"edge\"><title>0&#45;&gt;8</title>\r\n<path fill=\"none\" stroke=\"black\" d=\"M382.318,-187.81C407.165,-181.117 444.766,-170.606 477,-160 511.354,-148.697 549.911,-134.175 577.348,-123.52\"/>\r\n<polygon fill=\"black\" stroke=\"black\" points=\"578.882,-126.679 586.925,-119.782 576.337,-120.157 578.882,-126.679\"/>\r\n<text text-anchor=\"middle\" x=\"549\" y=\"-148.8\" font-family=\"Times New Roman,serif\" font-size=\"14.00\">voldoening</text>\r\n</g>\r\n<!-- 3 -->\r\n<g id=\"node4\" class=\"node\"><title>3</title>\r\n<polygon fill=\"lightgrey\" stroke=\"black\" points=\"74,-38 0,-38 0,-0 74,-0 74,-38\"/>\r\n<text text-anchor=\"middle\" x=\"37\" y=\"-22.8\" font-family=\"Times New Roman,serif\" font-size=\"14.00\">gemiddeld</text>\r\n<text text-anchor=\"middle\" x=\"37\" y=\"-7.8\" font-family=\"Times New Roman,serif\" font-size=\"14.00\">(14)</text>\r\n</g>\r\n<!-- 2&#45;&gt;3 -->\r\n<g id=\"edge3\" class=\"edge\"><title>2&#45;&gt;3</title>\r\n<path fill=\"none\" stroke=\"black\" d=\"M245.914,-99.2195C233.003,-95.7207 217.291,-91.7656 203,-89 142.707,-77.3316 116.955,-105.28 66,-71 57.4697,-65.2613 51.1578,-56.1194 46.641,-47.1501\"/>\r\n<polygon fill=\"black\" stroke=\"black\" points=\"49.8366,-45.7222 42.5661,-38.0156 43.4438,-48.574 49.8366,-45.7222\"/>\r\n<text text-anchor=\"middle\" x=\"125\" y=\"-59.8\" font-family=\"Times New Roman,serif\" font-size=\"14.00\">grote onderscheiding</text>\r\n</g>\r\n<!-- 4 -->\r\n<g id=\"node5\" class=\"node\"><title>4</title>\r\n<polygon fill=\"lightgrey\" stroke=\"black\" points=\"205,-38 151,-38 151,-0 205,-0 205,-38\"/>\r\n<text text-anchor=\"middle\" x=\"178\" y=\"-22.8\" font-family=\"Times New Roman,serif\" font-size=\"14.00\">slecht</text>\r\n<text text-anchor=\"middle\" x=\"178\" y=\"-7.8\" font-family=\"Times New Roman,serif\" font-size=\"14.00\">(28)</text>\r\n</g>\r\n<!-- 2&#45;&gt;4 -->\r\n<g id=\"edge4\" class=\"edge\"><title>2&#45;&gt;4</title>\r\n<path fill=\"none\" stroke=\"black\" d=\"M245.952,-99.8374C229.829,-94.3264 210.031,-85.1988 197,-71 191.095,-64.5661 186.978,-56.1306 184.127,-47.9772\"/>\r\n<polygon fill=\"black\" stroke=\"black\" points=\"187.459,-46.9042 181.242,-38.3254 180.752,-48.909 187.459,-46.9042\"/>\r\n<text text-anchor=\"middle\" x=\"233\" y=\"-59.8\" font-family=\"Times New Roman,serif\" font-size=\"14.00\">niet geslaagd</text>\r\n</g>\r\n<!-- 5 -->\r\n<g id=\"node6\" class=\"node\"><title>5</title>\r\n<polygon fill=\"lightgrey\" stroke=\"black\" points=\"310,-38 236,-38 236,-0 310,-0 310,-38\"/>\r\n<text text-anchor=\"middle\" x=\"273\" y=\"-22.8\" font-family=\"Times New Roman,serif\" font-size=\"14.00\">gemiddeld</text>\r\n<text text-anchor=\"middle\" x=\"273\" y=\"-7.8\" font-family=\"Times New Roman,serif\" font-size=\"14.00\">(4)</text>\r\n</g>\r\n<!-- 2&#45;&gt;5 -->\r\n<g id=\"edge5\" class=\"edge\"><title>2&#45;&gt;5</title>\r\n<path fill=\"none\" stroke=\"black\" d=\"M273,-89.8116C273,-78.011 273,-62.0725 273,-48.404\"/>\r\n<polygon fill=\"black\" stroke=\"black\" points=\"276.5,-48.0512 273,-38.0512 269.5,-48.0512 276.5,-48.0512\"/>\r\n<text text-anchor=\"middle\" x=\"315.5\" y=\"-59.8\" font-family=\"Times New Roman,serif\" font-size=\"14.00\">onderscheiding</text>\r\n</g>\r\n<!-- 6 -->\r\n<g id=\"node7\" class=\"node\"><title>6</title>\r\n<polygon fill=\"lightgrey\" stroke=\"black\" points=\"418,-38 344,-38 344,-0 418,-0 418,-38\"/>\r\n<text text-anchor=\"middle\" x=\"381\" y=\"-22.8\" font-family=\"Times New Roman,serif\" font-size=\"14.00\">gemiddeld</text>\r\n<text text-anchor=\"middle\" x=\"381\" y=\"-7.8\" font-family=\"Times New Roman,serif\" font-size=\"14.00\">(9)</text>\r\n</g>\r\n<!-- 2&#45;&gt;6 -->\r\n<g id=\"edge6\" class=\"edge\"><title>2&#45;&gt;6</title>\r\n<path fill=\"none\" stroke=\"black\" d=\"M300.048,-101.34C318.68,-96.2089 342.89,-86.9364 359,-71 365.504,-64.566 370.209,-55.8962 373.555,-47.5315\"/>\r\n<polygon fill=\"black\" stroke=\"black\" points=\"376.889,-48.5992 376.885,-38.0044 370.281,-46.2895 376.889,-48.5992\"/>\r\n<text text-anchor=\"middle\" x=\"400\" y=\"-59.8\" font-family=\"Times New Roman,serif\" font-size=\"14.00\">voldoening</text>\r\n</g>\r\n<!-- 9 -->\r\n<g id=\"node10\" class=\"node\"><title>9</title>\r\n<polygon fill=\"lightgrey\" stroke=\"black\" points=\"510,-38 436,-38 436,-0 510,-0 510,-38\"/>\r\n<text text-anchor=\"middle\" x=\"473\" y=\"-22.8\" font-family=\"Times New Roman,serif\" font-size=\"14.00\">gemiddeld</text>\r\n<text text-anchor=\"middle\" x=\"473\" y=\"-7.8\" font-family=\"Times New Roman,serif\" font-size=\"14.00\">(2)</text>\r\n</g>\r\n<!-- 8&#45;&gt;9 -->\r\n<g id=\"edge9\" class=\"edge\"><title>8&#45;&gt;9</title>\r\n<path fill=\"none\" stroke=\"black\" d=\"M586.809,-105.825C559.552,-103.237 518.001,-95.2497 492,-71 485.516,-64.9523 481.232,-56.4852 478.407,-48.1851\"/>\r\n<polygon fill=\"black\" stroke=\"black\" points=\"481.709,-46.9982 475.635,-38.3176 474.97,-48.8916 481.709,-46.9982\"/>\r\n<text text-anchor=\"middle\" x=\"551\" y=\"-59.8\" font-family=\"Times New Roman,serif\" font-size=\"14.00\">grote onderscheiding</text>\r\n</g>\r\n<!-- 10 -->\r\n<g id=\"node11\" class=\"node\"><title>10</title>\r\n<polygon fill=\"lightgrey\" stroke=\"black\" points=\"641,-38 587,-38 587,-0 641,-0 641,-38\"/>\r\n<text text-anchor=\"middle\" x=\"614\" y=\"-22.8\" font-family=\"Times New Roman,serif\" font-size=\"14.00\">slecht</text>\r\n<text text-anchor=\"middle\" x=\"614\" y=\"-7.8\" font-family=\"Times New Roman,serif\" font-size=\"14.00\">(10)</text>\r\n</g>\r\n<!-- 8&#45;&gt;10 -->\r\n<g id=\"edge10\" class=\"edge\"><title>8&#45;&gt;10</title>\r\n<path fill=\"none\" stroke=\"black\" d=\"M614,-89.8116C614,-78.011 614,-62.0725 614,-48.404\"/>\r\n<polygon fill=\"black\" stroke=\"black\" points=\"617.5,-48.0512 614,-38.0512 610.5,-48.0512 617.5,-48.0512\"/>\r\n<text text-anchor=\"middle\" x=\"650\" y=\"-59.8\" font-family=\"Times New Roman,serif\" font-size=\"14.00\">niet geslaagd</text>\r\n</g>\r\n<!-- 11 -->\r\n<g id=\"node12\" class=\"node\"><title>11</title>\r\n<polygon fill=\"lightgrey\" stroke=\"black\" points=\"746,-38 672,-38 672,-0 746,-0 746,-38\"/>\r\n<text text-anchor=\"middle\" x=\"709\" y=\"-22.8\" font-family=\"Times New Roman,serif\" font-size=\"14.00\">gemiddeld</text>\r\n<text text-anchor=\"middle\" x=\"709\" y=\"-7.8\" font-family=\"Times New Roman,serif\" font-size=\"14.00\">(2)</text>\r\n</g>\r\n<!-- 8&#45;&gt;11 -->\r\n<g id=\"edge11\" class=\"edge\"><title>8&#45;&gt;11</title>\r\n<path fill=\"none\" stroke=\"black\" d=\"M641.155,-98.8334C656.29,-93.1112 674.54,-84.1112 687,-71 693.139,-64.5399 697.713,-56.097 701.052,-47.9451\"/>\r\n<polygon fill=\"black\" stroke=\"black\" points=\"704.431,-48.893 704.534,-38.2986 697.846,-46.5164 704.431,-48.893\"/>\r\n<text text-anchor=\"middle\" x=\"739.5\" y=\"-59.8\" font-family=\"Times New Roman,serif\" font-size=\"14.00\">onderscheiding</text>\r\n</g>\r\n<!-- 12 -->\r\n<g id=\"node13\" class=\"node\"><title>12</title>\r\n<polygon fill=\"lightgrey\" stroke=\"black\" points=\"854,-38 780,-38 780,-0 854,-0 854,-38\"/>\r\n<text text-anchor=\"middle\" x=\"817\" y=\"-22.8\" font-family=\"Times New Roman,serif\" font-size=\"14.00\">gemiddeld</text>\r\n<text text-anchor=\"middle\" x=\"817\" y=\"-7.8\" font-family=\"Times New Roman,serif\" font-size=\"14.00\">(3)</text>\r\n</g>\r\n<!-- 8&#45;&gt;12 -->\r\n<g id=\"edge12\" class=\"edge\"><title>8&#45;&gt;12</title>\r\n<path fill=\"none\" stroke=\"black\" d=\"M641.048,-107.733C677.302,-107.391 742.159,-102 786,-71 794.414,-65.0505 800.969,-56.0265 805.84,-47.2148\"/>\r\n<polygon fill=\"black\" stroke=\"black\" points=\"808.981,-48.7575 810.313,-38.2466 802.717,-45.6329 808.981,-48.7575\"/>\r\n<text text-anchor=\"middle\" x=\"830\" y=\"-59.8\" font-family=\"Times New Roman,serif\" font-size=\"14.00\">voldoening</text>\r\n</g>\r\n</g>\r\n</svg>\r\n"
     },
     "metadata": {
      "tags": []
     },
     "execution_count": 9
    }
   ]
  },
  {
   "cell_type": "markdown",
   "metadata": {
    "collapsed": false,
    "id": "xLFvN662bT8n",
    "pycharm": {
     "name": "#%% md\n"
    }
   },
   "source": [
    "6. Hoe zou de docent iemand inschatten als die volgende punten heeft: 9, 14, 13, 12, 15, 13, 7, 10, 18"
   ]
  },
  {
   "cell_type": "code",
   "metadata": {
    "pycharm": {
     "name": "#%%\n"
    },
    "id": "INN6IN44bT8n",
    "outputId": "cfd094d4-7292-4039-b231-6ab839ed2da8"
   },
   "source": [
    "%%capture --no-display\n",
    "scores = pd.cut([9, 14, 13, 12, 15, 13, 7, 10, 18], bins=[0, 10, 14, 16, 21],\n",
    "                right=False, labels=['niet geslaagd', 'voldoening', 'onderscheiding', 'grote onderscheiding']).tolist()\n",
    "model.predict([scores])\n",
    "## => SLECHT"
   ],
   "execution_count": null,
   "outputs": [
    {
     "output_type": "execute_result",
     "data": {
      "text/plain": [
       "array(['slecht'], dtype='<U9')"
      ]
     },
     "metadata": {
      "tags": []
     },
     "execution_count": 10
    }
   ]
  },
  {
   "cell_type": "markdown",
   "metadata": {
    "collapsed": false,
    "id": "zfbJR-nnbT8o",
    "pycharm": {
     "name": "#%% md\n"
    }
   },
   "source": [
    "7. Maak eens een boomstructuur met het C4.5 algoritme en een ScitKit DecisionTree op de originele gegevens en kijk welk resultaat daar uit komt."
   ]
  },
  {
   "cell_type": "code",
   "metadata": {
    "pycharm": {
     "name": "#%%\n"
    },
    "id": "p4MR696abT8o",
    "outputId": "222c5e9a-5e6c-4e57-814c-43bbc7e26455"
   },
   "source": [
    "classifier = DecisionTreeClassifier(criterion='entropy')\n",
    "X = grades.drop(columns=['score'])\n",
    "y = grades.score\n",
    "classifier.fit(X, y)\n",
    "\n",
    "#print(export_text(classifier, feature_names=X.columns))\n",
    "\n",
    "import matplotlib.pyplot as plt\n",
    "\n",
    "fig, ax = plt.subplots(figsize=(8, 8))\n",
    "_ = tree.plot_tree(classifier,\n",
    "                   ax=ax,\n",
    "                   feature_names=X.columns.values,\n",
    "                   class_names=['{}'.format(i) for i in np.unique(y)],\n",
    "                   filled=True, fontsize=12, rounded=True)\n"
   ],
   "execution_count": null,
   "outputs": [
    {
     "output_type": "execute_result",
     "data": {
      "text/plain": [
       "DecisionTreeClassifier(ccp_alpha=0.0, class_weight=None, criterion='entropy',\n",
       "                       max_depth=None, max_features=None, max_leaf_nodes=None,\n",
       "                       min_impurity_decrease=0.0, min_impurity_split=None,\n",
       "                       min_samples_leaf=1, min_samples_split=2,\n",
       "                       min_weight_fraction_leaf=0.0, presort='deprecated',\n",
       "                       random_state=None, splitter='best')"
      ]
     },
     "metadata": {
      "tags": []
     },
     "execution_count": 11
    },
    {
     "output_type": "display_data",
     "data": {
      "text/plain": [
       "<Figure size 576x576 with 1 Axes>"
      ],
      "image/png": "[encoded data removed]"
     },
     "metadata": {
      "tags": [],
      "needs_background": "light"
     }
    }
   ]
  },
  {
   "cell_type": "markdown",
   "metadata": {
    "collapsed": false,
    "id": "lI4p6E_LbT8p",
    "pycharm": {
     "name": "#%% md\n"
    }
   },
   "source": [
    "8. Maak eens een boomstructuur met een ScitKit DecisionTree op de onehot encoded gegevens (gebruik Pandas `get_dummies`) en kijk welk resultaat daar uit komt."
   ]
  },
  {
   "cell_type": "code",
   "metadata": {
    "pycharm": {
     "name": "#%%\n"
    },
    "id": "o9M_XDG9bT8p",
    "outputId": "6dfeada5-e34b-40f6-a0f3-bc6ca5b213f0"
   },
   "source": [
    "X = pd.get_dummies(grades_cat.drop(columns=['score']))\n",
    "y = grades_cat.score\n",
    "classifier.fit(X, y)\n",
    "\n",
    "import matplotlib.pyplot as plt\n",
    "\n",
    "fig, ax = plt.subplots(figsize=(20, 8))\n",
    "_ = tree.plot_tree(classifier,\n",
    "                   ax=ax,\n",
    "                   feature_names=X.columns.values,\n",
    "                   class_names=['{}'.format(i) for i in np.unique(y)],\n",
    "                   filled=True, fontsize=12, rounded=True)\n"
   ],
   "execution_count": null,
   "outputs": [
    {
     "output_type": "execute_result",
     "data": {
      "text/plain": [
       "DecisionTreeClassifier(ccp_alpha=0.0, class_weight=None, criterion='entropy',\n",
       "                       max_depth=None, max_features=None, max_leaf_nodes=None,\n",
       "                       min_impurity_decrease=0.0, min_impurity_split=None,\n",
       "                       min_samples_leaf=1, min_samples_split=2,\n",
       "                       min_weight_fraction_leaf=0.0, presort='deprecated',\n",
       "                       random_state=None, splitter='best')"
      ]
     },
     "metadata": {
      "tags": []
     },
     "execution_count": 13
    },
    {
     "output_type": "display_data",
     "data": {
      "text/plain": [
       "<Figure size 1440x576 with 1 Axes>"
      ],
      "image/png": "[encoded data removed]"
     },
     "metadata": {
      "tags": [],
      "needs_background": "light"
     }
    }
   ]
  }
 ]
}