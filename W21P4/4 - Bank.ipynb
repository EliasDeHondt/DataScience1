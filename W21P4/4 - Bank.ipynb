{
 "cells": [
  {
   "cell_type": "markdown",
   "metadata": {
    "collapsed": false
   },
   "source": [
    "1. Lees het bestand bank.csv in.  Het kan worden gebruikt om na te gaan of iemand een lening kan krijgen (kolom \"pep\" geeft dit weer)"
   ]
  },
  {
   "cell_type": "code",
   "execution_count": 2,
   "outputs": [
    {
     "data": {
      "text/plain": "          id  age     sex      region    income married  children  car   \n0    ID12101   48  FEMALE  INNER_CITY  17546.00      NO         1   NO  \\\n1    ID12102   40    MALE        TOWN  30085.10     YES         3  YES   \n2    ID12103   51  FEMALE  INNER_CITY  16575.40     YES         0  YES   \n3    ID12104   23  FEMALE        TOWN  20375.40     YES         3   NO   \n4    ID12105   57  FEMALE       RURAL  50576.30     YES         0   NO   \n..       ...  ...     ...         ...       ...     ...       ...  ...   \n595  ID12696   61  FEMALE  INNER_CITY  47025.00      NO         2  YES   \n596  ID12697   30  FEMALE  INNER_CITY   9672.25     YES         0  YES   \n597  ID12698   31  FEMALE        TOWN  15976.30     YES         0  YES   \n598  ID12699   29    MALE  INNER_CITY  14711.80     YES         0   NO   \n599  ID12700   38    MALE        TOWN  26671.60      NO         0  YES   \n\n    save_act current_act mortgage  pep  \n0         NO          NO       NO  YES  \n1         NO         YES      YES   NO  \n2        YES         YES       NO   NO  \n3         NO         YES       NO   NO  \n4        YES          NO       NO   NO  \n..       ...         ...      ...  ...  \n595      YES         YES      YES   NO  \n596      YES         YES       NO   NO  \n597      YES          NO       NO  YES  \n598      YES          NO      YES   NO  \n599       NO         YES      YES  YES  \n\n[600 rows x 12 columns]",
      "text/html": "<div>\n<style scoped>\n    .dataframe tbody tr th:only-of-type {\n        vertical-align: middle;\n    }\n\n    .dataframe tbody tr th {\n        vertical-align: top;\n    }\n\n    .dataframe thead th {\n        text-align: right;\n    }\n</style>\n<table border=\"1\" class=\"dataframe\">\n  <thead>\n    <tr style=\"text-align: right;\">\n      <th></th>\n      <th>id</th>\n      <th>age</th>\n      <th>sex</th>\n      <th>region</th>\n      <th>income</th>\n      <th>married</th>\n      <th>children</th>\n      <th>car</th>\n      <th>save_act</th>\n      <th>current_act</th>\n      <th>mortgage</th>\n      <th>pep</th>\n    </tr>\n  </thead>\n  <tbody>\n    <tr>\n      <th>0</th>\n      <td>ID12101</td>\n      <td>48</td>\n      <td>FEMALE</td>\n      <td>INNER_CITY</td>\n      <td>17546.00</td>\n      <td>NO</td>\n      <td>1</td>\n      <td>NO</td>\n      <td>NO</td>\n      <td>NO</td>\n      <td>NO</td>\n      <td>YES</td>\n    </tr>\n    <tr>\n      <th>1</th>\n      <td>ID12102</td>\n      <td>40</td>\n      <td>MALE</td>\n      <td>TOWN</td>\n      <td>30085.10</td>\n      <td>YES</td>\n      <td>3</td>\n      <td>YES</td>\n      <td>NO</td>\n      <td>YES</td>\n      <td>YES</td>\n      <td>NO</td>\n    </tr>\n    <tr>\n      <th>2</th>\n      <td>ID12103</td>\n      <td>51</td>\n      <td>FEMALE</td>\n      <td>INNER_CITY</td>\n      <td>16575.40</td>\n      <td>YES</td>\n      <td>0</td>\n      <td>YES</td>\n      <td>YES</td>\n      <td>YES</td>\n      <td>NO</td>\n      <td>NO</td>\n    </tr>\n    <tr>\n      <th>3</th>\n      <td>ID12104</td>\n      <td>23</td>\n      <td>FEMALE</td>\n      <td>TOWN</td>\n      <td>20375.40</td>\n      <td>YES</td>\n      <td>3</td>\n      <td>NO</td>\n      <td>NO</td>\n      <td>YES</td>\n      <td>NO</td>\n      <td>NO</td>\n    </tr>\n    <tr>\n      <th>4</th>\n      <td>ID12105</td>\n      <td>57</td>\n      <td>FEMALE</td>\n      <td>RURAL</td>\n      <td>50576.30</td>\n      <td>YES</td>\n      <td>0</td>\n      <td>NO</td>\n      <td>YES</td>\n      <td>NO</td>\n      <td>NO</td>\n      <td>NO</td>\n    </tr>\n    <tr>\n      <th>...</th>\n      <td>...</td>\n      <td>...</td>\n      <td>...</td>\n      <td>...</td>\n      <td>...</td>\n      <td>...</td>\n      <td>...</td>\n      <td>...</td>\n      <td>...</td>\n      <td>...</td>\n      <td>...</td>\n      <td>...</td>\n    </tr>\n    <tr>\n      <th>595</th>\n      <td>ID12696</td>\n      <td>61</td>\n      <td>FEMALE</td>\n      <td>INNER_CITY</td>\n      <td>47025.00</td>\n      <td>NO</td>\n      <td>2</td>\n      <td>YES</td>\n      <td>YES</td>\n      <td>YES</td>\n      <td>YES</td>\n      <td>NO</td>\n    </tr>\n    <tr>\n      <th>596</th>\n      <td>ID12697</td>\n      <td>30</td>\n      <td>FEMALE</td>\n      <td>INNER_CITY</td>\n      <td>9672.25</td>\n      <td>YES</td>\n      <td>0</td>\n      <td>YES</td>\n      <td>YES</td>\n      <td>YES</td>\n      <td>NO</td>\n      <td>NO</td>\n    </tr>\n    <tr>\n      <th>597</th>\n      <td>ID12698</td>\n      <td>31</td>\n      <td>FEMALE</td>\n      <td>TOWN</td>\n      <td>15976.30</td>\n      <td>YES</td>\n      <td>0</td>\n      <td>YES</td>\n      <td>YES</td>\n      <td>NO</td>\n      <td>NO</td>\n      <td>YES</td>\n    </tr>\n    <tr>\n      <th>598</th>\n      <td>ID12699</td>\n      <td>29</td>\n      <td>MALE</td>\n      <td>INNER_CITY</td>\n      <td>14711.80</td>\n      <td>YES</td>\n      <td>0</td>\n      <td>NO</td>\n      <td>YES</td>\n      <td>NO</td>\n      <td>YES</td>\n      <td>NO</td>\n    </tr>\n    <tr>\n      <th>599</th>\n      <td>ID12700</td>\n      <td>38</td>\n      <td>MALE</td>\n      <td>TOWN</td>\n      <td>26671.60</td>\n      <td>NO</td>\n      <td>0</td>\n      <td>YES</td>\n      <td>NO</td>\n      <td>YES</td>\n      <td>YES</td>\n      <td>YES</td>\n    </tr>\n  </tbody>\n</table>\n<p>600 rows × 12 columns</p>\n</div>"
     },
     "metadata": {},
     "output_type": "display_data"
    }
   ],
   "source": [
    "import numpy as np\n",
    "import pandas as pd\n",
    "import graphviz\n",
    "from id3 import Id3Estimator, export_graphviz\n",
    "\n",
    "bank = pd.read_csv('data/bank.csv')\n",
    "display(bank)"
   ],
   "metadata": {
    "collapsed": false,
    "ExecuteTime": {
     "start_time": "2023-05-11T11:23:58.274148Z",
     "end_time": "2023-05-11T11:23:58.312872Z"
    }
   }
  },
  {
   "cell_type": "markdown",
   "metadata": {
    "collapsed": false
   },
   "source": [
    "2. Dit bestand is niet direct bruikbaar voor ID3 en moet dus aangepast worden:\n",
    " * de kolom \"id\" bevat unieke id's voor klanten en kunnen dus niets voorspellen.  Verwijder deze kolom.\n",
    " * in dit bestand zitten ook continue variabelen (income, age, children)\n",
    "  * zet de waarden van \"income\" om in 5 categorieën (klassen)\n",
    "   * ]0 - 15538,8]\n",
    "   * ]15538,8 - 21506,2]\n",
    "   * ]21506,2 - 30404,3]\n",
    "   * ]30404,3 - 44288,3]\n",
    "   * ]44288,3 - 100000]\n",
    "  * zet de waarden van \"age\" om in 2 categorieën:   ]0 - 41] en ]41-100]\n",
    " * de waarden van children kunnen maar 4 waarden aannemen, dus dat laten we zo"
   ]
  },
  {
   "cell_type": "code",
   "execution_count": 7,
   "outputs": [
    {
     "ename": "KeyError",
     "evalue": "\"['id'] not found in axis\"",
     "output_type": "error",
     "traceback": [
      "\u001B[1;31m---------------------------------------------------------------------------\u001B[0m",
      "\u001B[1;31mKeyError\u001B[0m                                  Traceback (most recent call last)",
      "Cell \u001B[1;32mIn[7], line 1\u001B[0m\n\u001B[1;32m----> 1\u001B[0m bank \u001B[38;5;241m=\u001B[39m \u001B[43mbank\u001B[49m\u001B[38;5;241;43m.\u001B[39;49m\u001B[43mdrop\u001B[49m\u001B[43m(\u001B[49m\u001B[43m[\u001B[49m\u001B[38;5;124;43m'\u001B[39;49m\u001B[38;5;124;43mid\u001B[39;49m\u001B[38;5;124;43m'\u001B[39;49m\u001B[43m]\u001B[49m\u001B[43m,\u001B[49m\u001B[43m \u001B[49m\u001B[43maxis\u001B[49m\u001B[38;5;241;43m=\u001B[39;49m\u001B[38;5;241;43m1\u001B[39;49m\u001B[43m)\u001B[49m\n\u001B[0;32m      2\u001B[0m display(bank)\n",
      "File \u001B[1;32m~\\Downloads\\DataScience1\\venv\\lib\\site-packages\\pandas\\core\\frame.py:5266\u001B[0m, in \u001B[0;36mDataFrame.drop\u001B[1;34m(self, labels, axis, index, columns, level, inplace, errors)\u001B[0m\n\u001B[0;32m   5118\u001B[0m \u001B[38;5;28;01mdef\u001B[39;00m \u001B[38;5;21mdrop\u001B[39m(\n\u001B[0;32m   5119\u001B[0m     \u001B[38;5;28mself\u001B[39m,\n\u001B[0;32m   5120\u001B[0m     labels: IndexLabel \u001B[38;5;241m=\u001B[39m \u001B[38;5;28;01mNone\u001B[39;00m,\n\u001B[1;32m   (...)\u001B[0m\n\u001B[0;32m   5127\u001B[0m     errors: IgnoreRaise \u001B[38;5;241m=\u001B[39m \u001B[38;5;124m\"\u001B[39m\u001B[38;5;124mraise\u001B[39m\u001B[38;5;124m\"\u001B[39m,\n\u001B[0;32m   5128\u001B[0m ) \u001B[38;5;241m-\u001B[39m\u001B[38;5;241m>\u001B[39m DataFrame \u001B[38;5;241m|\u001B[39m \u001B[38;5;28;01mNone\u001B[39;00m:\n\u001B[0;32m   5129\u001B[0m \u001B[38;5;250m    \u001B[39m\u001B[38;5;124;03m\"\"\"\u001B[39;00m\n\u001B[0;32m   5130\u001B[0m \u001B[38;5;124;03m    Drop specified labels from rows or columns.\u001B[39;00m\n\u001B[0;32m   5131\u001B[0m \n\u001B[1;32m   (...)\u001B[0m\n\u001B[0;32m   5264\u001B[0m \u001B[38;5;124;03m            weight  1.0     0.8\u001B[39;00m\n\u001B[0;32m   5265\u001B[0m \u001B[38;5;124;03m    \"\"\"\u001B[39;00m\n\u001B[1;32m-> 5266\u001B[0m     \u001B[38;5;28;01mreturn\u001B[39;00m \u001B[38;5;28;43msuper\u001B[39;49m\u001B[43m(\u001B[49m\u001B[43m)\u001B[49m\u001B[38;5;241;43m.\u001B[39;49m\u001B[43mdrop\u001B[49m\u001B[43m(\u001B[49m\n\u001B[0;32m   5267\u001B[0m \u001B[43m        \u001B[49m\u001B[43mlabels\u001B[49m\u001B[38;5;241;43m=\u001B[39;49m\u001B[43mlabels\u001B[49m\u001B[43m,\u001B[49m\n\u001B[0;32m   5268\u001B[0m \u001B[43m        \u001B[49m\u001B[43maxis\u001B[49m\u001B[38;5;241;43m=\u001B[39;49m\u001B[43maxis\u001B[49m\u001B[43m,\u001B[49m\n\u001B[0;32m   5269\u001B[0m \u001B[43m        \u001B[49m\u001B[43mindex\u001B[49m\u001B[38;5;241;43m=\u001B[39;49m\u001B[43mindex\u001B[49m\u001B[43m,\u001B[49m\n\u001B[0;32m   5270\u001B[0m \u001B[43m        \u001B[49m\u001B[43mcolumns\u001B[49m\u001B[38;5;241;43m=\u001B[39;49m\u001B[43mcolumns\u001B[49m\u001B[43m,\u001B[49m\n\u001B[0;32m   5271\u001B[0m \u001B[43m        \u001B[49m\u001B[43mlevel\u001B[49m\u001B[38;5;241;43m=\u001B[39;49m\u001B[43mlevel\u001B[49m\u001B[43m,\u001B[49m\n\u001B[0;32m   5272\u001B[0m \u001B[43m        \u001B[49m\u001B[43minplace\u001B[49m\u001B[38;5;241;43m=\u001B[39;49m\u001B[43minplace\u001B[49m\u001B[43m,\u001B[49m\n\u001B[0;32m   5273\u001B[0m \u001B[43m        \u001B[49m\u001B[43merrors\u001B[49m\u001B[38;5;241;43m=\u001B[39;49m\u001B[43merrors\u001B[49m\u001B[43m,\u001B[49m\n\u001B[0;32m   5274\u001B[0m \u001B[43m    \u001B[49m\u001B[43m)\u001B[49m\n",
      "File \u001B[1;32m~\\Downloads\\DataScience1\\venv\\lib\\site-packages\\pandas\\core\\generic.py:4549\u001B[0m, in \u001B[0;36mNDFrame.drop\u001B[1;34m(self, labels, axis, index, columns, level, inplace, errors)\u001B[0m\n\u001B[0;32m   4547\u001B[0m \u001B[38;5;28;01mfor\u001B[39;00m axis, labels \u001B[38;5;129;01min\u001B[39;00m axes\u001B[38;5;241m.\u001B[39mitems():\n\u001B[0;32m   4548\u001B[0m     \u001B[38;5;28;01mif\u001B[39;00m labels \u001B[38;5;129;01mis\u001B[39;00m \u001B[38;5;129;01mnot\u001B[39;00m \u001B[38;5;28;01mNone\u001B[39;00m:\n\u001B[1;32m-> 4549\u001B[0m         obj \u001B[38;5;241m=\u001B[39m \u001B[43mobj\u001B[49m\u001B[38;5;241;43m.\u001B[39;49m\u001B[43m_drop_axis\u001B[49m\u001B[43m(\u001B[49m\u001B[43mlabels\u001B[49m\u001B[43m,\u001B[49m\u001B[43m \u001B[49m\u001B[43maxis\u001B[49m\u001B[43m,\u001B[49m\u001B[43m \u001B[49m\u001B[43mlevel\u001B[49m\u001B[38;5;241;43m=\u001B[39;49m\u001B[43mlevel\u001B[49m\u001B[43m,\u001B[49m\u001B[43m \u001B[49m\u001B[43merrors\u001B[49m\u001B[38;5;241;43m=\u001B[39;49m\u001B[43merrors\u001B[49m\u001B[43m)\u001B[49m\n\u001B[0;32m   4551\u001B[0m \u001B[38;5;28;01mif\u001B[39;00m inplace:\n\u001B[0;32m   4552\u001B[0m     \u001B[38;5;28mself\u001B[39m\u001B[38;5;241m.\u001B[39m_update_inplace(obj)\n",
      "File \u001B[1;32m~\\Downloads\\DataScience1\\venv\\lib\\site-packages\\pandas\\core\\generic.py:4591\u001B[0m, in \u001B[0;36mNDFrame._drop_axis\u001B[1;34m(self, labels, axis, level, errors, only_slice)\u001B[0m\n\u001B[0;32m   4589\u001B[0m         new_axis \u001B[38;5;241m=\u001B[39m axis\u001B[38;5;241m.\u001B[39mdrop(labels, level\u001B[38;5;241m=\u001B[39mlevel, errors\u001B[38;5;241m=\u001B[39merrors)\n\u001B[0;32m   4590\u001B[0m     \u001B[38;5;28;01melse\u001B[39;00m:\n\u001B[1;32m-> 4591\u001B[0m         new_axis \u001B[38;5;241m=\u001B[39m \u001B[43maxis\u001B[49m\u001B[38;5;241;43m.\u001B[39;49m\u001B[43mdrop\u001B[49m\u001B[43m(\u001B[49m\u001B[43mlabels\u001B[49m\u001B[43m,\u001B[49m\u001B[43m \u001B[49m\u001B[43merrors\u001B[49m\u001B[38;5;241;43m=\u001B[39;49m\u001B[43merrors\u001B[49m\u001B[43m)\u001B[49m\n\u001B[0;32m   4592\u001B[0m     indexer \u001B[38;5;241m=\u001B[39m axis\u001B[38;5;241m.\u001B[39mget_indexer(new_axis)\n\u001B[0;32m   4594\u001B[0m \u001B[38;5;66;03m# Case for non-unique axis\u001B[39;00m\n\u001B[0;32m   4595\u001B[0m \u001B[38;5;28;01melse\u001B[39;00m:\n",
      "File \u001B[1;32m~\\Downloads\\DataScience1\\venv\\lib\\site-packages\\pandas\\core\\indexes\\base.py:6696\u001B[0m, in \u001B[0;36mIndex.drop\u001B[1;34m(self, labels, errors)\u001B[0m\n\u001B[0;32m   6694\u001B[0m \u001B[38;5;28;01mif\u001B[39;00m mask\u001B[38;5;241m.\u001B[39many():\n\u001B[0;32m   6695\u001B[0m     \u001B[38;5;28;01mif\u001B[39;00m errors \u001B[38;5;241m!=\u001B[39m \u001B[38;5;124m\"\u001B[39m\u001B[38;5;124mignore\u001B[39m\u001B[38;5;124m\"\u001B[39m:\n\u001B[1;32m-> 6696\u001B[0m         \u001B[38;5;28;01mraise\u001B[39;00m \u001B[38;5;167;01mKeyError\u001B[39;00m(\u001B[38;5;124mf\u001B[39m\u001B[38;5;124m\"\u001B[39m\u001B[38;5;132;01m{\u001B[39;00m\u001B[38;5;28mlist\u001B[39m(labels[mask])\u001B[38;5;132;01m}\u001B[39;00m\u001B[38;5;124m not found in axis\u001B[39m\u001B[38;5;124m\"\u001B[39m)\n\u001B[0;32m   6697\u001B[0m     indexer \u001B[38;5;241m=\u001B[39m indexer[\u001B[38;5;241m~\u001B[39mmask]\n\u001B[0;32m   6698\u001B[0m \u001B[38;5;28;01mreturn\u001B[39;00m \u001B[38;5;28mself\u001B[39m\u001B[38;5;241m.\u001B[39mdelete(indexer)\n",
      "\u001B[1;31mKeyError\u001B[0m: \"['id'] not found in axis\""
     ]
    }
   ],
   "source": [
    "bank = bank.drop(['id'], axis=1)\n",
    "display(bank)"
   ],
   "metadata": {
    "collapsed": false,
    "ExecuteTime": {
     "start_time": "2023-05-11T11:34:03.398706Z",
     "end_time": "2023-05-11T11:34:03.422488Z"
    }
   }
  },
  {
   "cell_type": "markdown",
   "metadata": {
    "collapsed": false
   },
   "source": [
    "3. Maak een beslissingsboom met het ID3 algoritme.\n",
    "Probeer de resulterende boom te interpreteren.  Komt dit overeen met je intuïtie?"
   ]
  },
  {
   "cell_type": "code",
   "execution_count": null,
   "outputs": [],
   "source": [],
   "metadata": {
    "collapsed": false
   }
  },
  {
   "cell_type": "markdown",
   "metadata": {
    "collapsed": false
   },
   "source": [
    "4. Lees de oorspronkelijke data opnieuw in.\n",
    "Verwijder alle nominale en ordinale attributen. Aangezien er continue variabelen zijn, kan je niet kiezen voor ID3 algoritme, maar je kan wel kiezen voor C4.5 m.b.v. de Scikit Learn DecisionTreeClassifier. Voer dit algoritme uit en kijk wat het resultaat is.  Is dit beter of slechter dan ID3?"
   ]
  },
  {
   "cell_type": "code",
   "execution_count": null,
   "outputs": [],
   "source": [],
   "metadata": {
    "collapsed": false
   }
  },
  {
   "cell_type": "markdown",
   "metadata": {
    "collapsed": false
   },
   "source": [
    "5. Lees de oorspronkelijke data opnieuw in.\n",
    "Ditmaal gaan geen attributen verwijderen en toch C4.5 gebruiken m.b.v. de Scikit Learn DecisionTreeClassifier en Pandas `get_dummies`. Voer dit algoritme uit en kijk wat het resultaat is.  Is dit beter of slechter dan vorige oplossingen?"
   ]
  },
  {
   "cell_type": "code",
   "execution_count": null,
   "outputs": [],
   "source": [],
   "metadata": {
    "collapsed": false
   }
  }
 ],
 "metadata": {
  "kernelspec": {
   "display_name": "Python 3",
   "language": "python",
   "name": "python3"
  },
  "language_info": {
   "codemirror_mode": {
    "name": "ipython",
    "version": 2
   },
   "file_extension": ".py",
   "mimetype": "text/x-python",
   "name": "python",
   "nbconvert_exporter": "python",
   "pygments_lexer": "ipython2",
   "version": "2.7.6"
  }
 },
 "nbformat": 4,
 "nbformat_minor": 0
}
