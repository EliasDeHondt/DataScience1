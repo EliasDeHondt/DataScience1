{
 "cells": [
  {
   "cell_type": "markdown",
   "metadata": {
    "collapsed": false
   },
   "source": [
    "1. Lees het bestand bank.csv in.  Het kan worden gebruikt om na te gaan of iemand een lening kan krijgen (kolom \"pep\" geeft dit weer)"
   ]
  },
  {
   "cell_type": "code",
   "execution_count": null,
   "outputs": [],
   "source": [],
   "metadata": {
    "collapsed": false
   }
  },
  {
   "cell_type": "markdown",
   "metadata": {
    "collapsed": false
   },
   "source": [
    "2. Dit bestand is niet direct bruikbaar voor ID3 en moet dus aangepast worden:\n",
    " * de kolom \"id\" bevat unieke id's voor klanten en kunnen dus niets voorspellen.  Verwijder deze kolom.\n",
    " * in dit bestand zitten ook continue variabelen (income, age, children)\n",
    "  * zet de waarden van \"income\" om in 5 categorieën (klassen)\n",
    "   * ]0 - 15538,8]\n",
    "   * ]15538,8 - 21506,2]\n",
    "   * ]21506,2 - 30404,3]\n",
    "   * ]30404,3 - 44288,3]\n",
    "   * ]44288,3 - 100000]\n",
    "  * zet de waarden van \"age\" om in 2 categorieën:   ]0 - 41] en ]41-100]\n",
    " * de waarden van children kunnen maar 4 waarden aannemen, dus dat laten we zo"
   ]
  },
  {
   "cell_type": "code",
   "execution_count": null,
   "outputs": [],
   "source": [],
   "metadata": {
    "collapsed": false
   }
  },
  {
   "cell_type": "markdown",
   "metadata": {
    "collapsed": false
   },
   "source": [
    "3. Maak een beslissingsboom met het ID3 algoritme.\n",
    "Probeer de resulterende boom te interpreteren.  Komt dit overeen met je intuïtie?"
   ]
  },
  {
   "cell_type": "code",
   "execution_count": null,
   "outputs": [],
   "source": [],
   "metadata": {
    "collapsed": false
   }
  },
  {
   "cell_type": "markdown",
   "metadata": {
    "collapsed": false
   },
   "source": [
    "4. Lees de oorspronkelijke data opnieuw in.\n",
    "Verwijder alle nominale en ordinale attributen. Aangezien er continue variabelen zijn, kan je niet kiezen voor ID3 algoritme, maar je kan wel kiezen voor C4.5 m.b.v. de Scikit Learn DecisionTreeClassifier. Voer dit algoritme uit en kijk wat het resultaat is.  Is dit beter of slechter dan ID3?"
   ]
  },
  {
   "cell_type": "code",
   "execution_count": null,
   "outputs": [],
   "source": [],
   "metadata": {
    "collapsed": false
   }
  },
  {
   "cell_type": "markdown",
   "metadata": {
    "collapsed": false
   },
   "source": [
    "5. Lees de oorspronkelijke data opnieuw in.\n",
    "Ditmaal gaan geen attributen verwijderen en toch C4.5 gebruiken m.b.v. de Scikit Learn DecisionTreeClassifier en Pandas `get_dummies`. Voer dit algoritme uit en kijk wat het resultaat is.  Is dit beter of slechter dan vorige oplossingen?"
   ]
  },
  {
   "cell_type": "code",
   "execution_count": null,
   "outputs": [],
   "source": [],
   "metadata": {
    "collapsed": false
   }
  }
 ],
 "metadata": {
  "kernelspec": {
   "display_name": "Python 3",
   "language": "python",
   "name": "python3"
  },
  "language_info": {
   "codemirror_mode": {
    "name": "ipython",
    "version": 2
   },
   "file_extension": ".py",
   "mimetype": "text/x-python",
   "name": "python",
   "nbconvert_exporter": "python",
   "pygments_lexer": "ipython2",
   "version": "2.7.6"
  }
 },
 "nbformat": 4,
 "nbformat_minor": 0
}
