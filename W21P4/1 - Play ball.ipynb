{
 "cells": [
  {
   "cell_type": "markdown",
   "metadata": {
    "collapsed": true
   },
   "source": [
    "# Play Ball"
   ]
  },
  {
   "cell_type": "markdown",
   "metadata": {},
   "source": [
    "1. Lees het bestand playball.csv.\n",
    "Deze tabel laat toe om te beslissen of er een wedstrijd gespeeld zal worden, afhankelijk van de weersomstandigheden.\n",
    "Deze dataset is al omgezet naar nominale meetwaarden."
   ]
  },
  {
   "cell_type": "code",
   "execution_count": 1,
   "outputs": [
    {
     "data": {
      "text/plain": "     Outlook Temperature Humidity    Wind Play\n0      Sunny         Hot     High    Weak   No\n1      Sunny         Hot     High  Strong   No\n2   Overcast         Hot     High    Weak  Yes\n3       Rain        Mild     High    Weak  Yes\n4       Rain        Cool   Normal    Weak  Yes\n5       Rain        Cool   Normal  Strong   No\n6   Overcast        Cool   Normal  Strong  Yes\n7      Sunny        Mild     High    Weak   No\n8      Sunny        Cool   Normal    Weak  Yes\n9       Rain        Mild   Normal    Weak  Yes\n10     Sunny        Mild   Normal  Strong  Yes\n11  Overcast        Mild     High  Strong  Yes\n12  Overcast         Hot   Normal    Weak  Yes\n13      Rain        Mild     High  Strong   No",
      "text/html": "<div>\n<style scoped>\n    .dataframe tbody tr th:only-of-type {\n        vertical-align: middle;\n    }\n\n    .dataframe tbody tr th {\n        vertical-align: top;\n    }\n\n    .dataframe thead th {\n        text-align: right;\n    }\n</style>\n<table border=\"1\" class=\"dataframe\">\n  <thead>\n    <tr style=\"text-align: right;\">\n      <th></th>\n      <th>Outlook</th>\n      <th>Temperature</th>\n      <th>Humidity</th>\n      <th>Wind</th>\n      <th>Play</th>\n    </tr>\n  </thead>\n  <tbody>\n    <tr>\n      <th>0</th>\n      <td>Sunny</td>\n      <td>Hot</td>\n      <td>High</td>\n      <td>Weak</td>\n      <td>No</td>\n    </tr>\n    <tr>\n      <th>1</th>\n      <td>Sunny</td>\n      <td>Hot</td>\n      <td>High</td>\n      <td>Strong</td>\n      <td>No</td>\n    </tr>\n    <tr>\n      <th>2</th>\n      <td>Overcast</td>\n      <td>Hot</td>\n      <td>High</td>\n      <td>Weak</td>\n      <td>Yes</td>\n    </tr>\n    <tr>\n      <th>3</th>\n      <td>Rain</td>\n      <td>Mild</td>\n      <td>High</td>\n      <td>Weak</td>\n      <td>Yes</td>\n    </tr>\n    <tr>\n      <th>4</th>\n      <td>Rain</td>\n      <td>Cool</td>\n      <td>Normal</td>\n      <td>Weak</td>\n      <td>Yes</td>\n    </tr>\n    <tr>\n      <th>5</th>\n      <td>Rain</td>\n      <td>Cool</td>\n      <td>Normal</td>\n      <td>Strong</td>\n      <td>No</td>\n    </tr>\n    <tr>\n      <th>6</th>\n      <td>Overcast</td>\n      <td>Cool</td>\n      <td>Normal</td>\n      <td>Strong</td>\n      <td>Yes</td>\n    </tr>\n    <tr>\n      <th>7</th>\n      <td>Sunny</td>\n      <td>Mild</td>\n      <td>High</td>\n      <td>Weak</td>\n      <td>No</td>\n    </tr>\n    <tr>\n      <th>8</th>\n      <td>Sunny</td>\n      <td>Cool</td>\n      <td>Normal</td>\n      <td>Weak</td>\n      <td>Yes</td>\n    </tr>\n    <tr>\n      <th>9</th>\n      <td>Rain</td>\n      <td>Mild</td>\n      <td>Normal</td>\n      <td>Weak</td>\n      <td>Yes</td>\n    </tr>\n    <tr>\n      <th>10</th>\n      <td>Sunny</td>\n      <td>Mild</td>\n      <td>Normal</td>\n      <td>Strong</td>\n      <td>Yes</td>\n    </tr>\n    <tr>\n      <th>11</th>\n      <td>Overcast</td>\n      <td>Mild</td>\n      <td>High</td>\n      <td>Strong</td>\n      <td>Yes</td>\n    </tr>\n    <tr>\n      <th>12</th>\n      <td>Overcast</td>\n      <td>Hot</td>\n      <td>Normal</td>\n      <td>Weak</td>\n      <td>Yes</td>\n    </tr>\n    <tr>\n      <th>13</th>\n      <td>Rain</td>\n      <td>Mild</td>\n      <td>High</td>\n      <td>Strong</td>\n      <td>No</td>\n    </tr>\n  </tbody>\n</table>\n</div>"
     },
     "metadata": {},
     "output_type": "display_data"
    }
   ],
   "source": [
    "import numpy as np\n",
    "import pandas as pd\n",
    "import graphviz\n",
    "from id3 import Id3Estimator, export_graphviz\n",
    "\n",
    "playBall = pd.read_csv('data/playBall.csv')\n",
    "display(playBall)"
   ],
   "metadata": {
    "collapsed": false,
    "ExecuteTime": {
     "start_time": "2023-05-11T10:58:20.307685Z",
     "end_time": "2023-05-11T10:58:20.616403Z"
    }
   }
  },
  {
   "cell_type": "markdown",
   "metadata": {},
   "source": [
    "2. Bereken de entropie van deze tabel.  Schrijf ook de formule op.\n"
   ]
  },
  {
   "cell_type": "code",
   "execution_count": 7,
   "outputs": [
    {
     "name": "stdout",
     "output_type": "stream",
     "text": [
      "Entropy, E(S) = 0.9402859586706311\n",
      "\n",
      "\n",
      "Outlook        1.577406\n",
      "Temperature    1.556657\n",
      "Humidity       1.000000\n",
      "Wind           0.985228\n",
      "Play           0.940286\n",
      "dtype: float64\n"
     ]
    }
   ],
   "source": [
    "def entropy(series: pd.Series, base=None):\n",
    "    vc = series.value_counts(normalize=True, sort=False)\n",
    "    base = 2 if base is None else base\n",
    "    return -(vc * np.log2(vc)).sum()\n",
    "    # return -(vc * np.log(vc) / np.log(base)).sum()\n",
    "\n",
    "E_ouder = entropy(playBall.Play)\n",
    "print('Entropy, E(S) =', E_ouder)\n",
    "print(\"\\n\")\n",
    "E_ouder = playBall.apply(entropy)\n",
    "print(E_ouder);"
   ],
   "metadata": {
    "collapsed": false,
    "ExecuteTime": {
     "start_time": "2023-05-11T11:04:24.779115Z",
     "end_time": "2023-05-11T11:04:24.817847Z"
    }
   }
  },
  {
   "cell_type": "markdown",
   "metadata": {},
   "source": [
    "3. Bereken de gain voor iedere kolom.  Schrijf telkens de formule op."
   ]
  },
  {
   "cell_type": "code",
   "execution_count": 12,
   "outputs": [
    {
     "name": "stdout",
     "output_type": "stream",
     "text": [
      "Initiële Information Gain voor alle kolommen\n",
      "Outlook:  0.24674981977443922\n",
      "Temperature:  0.02922256565895487\n",
      "Humidity:  0.1518355013623417\n",
      "Wind:  0.04812703040826949\n"
     ]
    }
   ],
   "source": [
    "def information_gain(parent_table: pd.DataFrame, attribute: str, target: str):\n",
    "    # bepaal entropie van parent table\n",
    "    entropy_parent = entropy(parent_table[target])\n",
    "    child_entropies = []\n",
    "    child_weights = []\n",
    "\n",
    "    # bereken entropies of child tables\n",
    "    for (label, fraction) in parent_table[attribute].value_counts().items():\n",
    "        child_df = parent_table[parent_table[attribute] == label]\n",
    "        child_entropies.append(entropy(child_df[target]))\n",
    "        child_weights.append(int(fraction))\n",
    "\n",
    "    # calculate the difference between parent entropy and weighted child entropies\n",
    "    return entropy_parent - np.average(child_entropies, weights=child_weights)\n",
    "\n",
    "IG_Outlook = information_gain(playBall, 'Outlook', 'Play')\n",
    "IG_Temperature= information_gain(playBall, 'Temperature', 'Play')\n",
    "IG_Humidity = information_gain(playBall, 'Humidity', 'Play')\n",
    "IG_Wind = information_gain(playBall, 'Wind', 'Play')\n",
    "\n",
    "print(\"Initiële Information Gain voor alle kolommen\")\n",
    "print(\"Outlook: \", IG_Outlook)\n",
    "print(\"Temperature: \", IG_Temperature)\n",
    "print(\"Humidity: \", IG_Humidity)\n",
    "print(\"Wind: \", IG_Wind)"
   ],
   "metadata": {
    "collapsed": false,
    "ExecuteTime": {
     "start_time": "2023-05-11T11:30:07.616247Z",
     "end_time": "2023-05-11T11:30:07.653968Z"
    }
   }
  },
  {
   "cell_type": "markdown",
   "metadata": {},
   "source": [
    "4. Welke kolom kies je voor de eerste node?"
   ]
  },
  {
   "cell_type": "code",
   "execution_count": 14,
   "outputs": [],
   "source": [
    "# Outlook"
   ],
   "metadata": {
    "collapsed": false,
    "ExecuteTime": {
     "start_time": "2023-05-11T11:32:39.226493Z",
     "end_time": "2023-05-11T11:32:39.241555Z"
    }
   }
  },
  {
   "cell_type": "markdown",
   "metadata": {},
   "source": [
    "5. Bepaal handmatig de rest van de boomstructuur en bepaal voor iedere node de entropie van de overeenkomstige tabel"
   ]
  },
  {
   "cell_type": "code",
   "execution_count": null,
   "outputs": [],
   "source": [],
   "metadata": {
    "collapsed": false
   }
  },
  {
   "cell_type": "markdown",
   "metadata": {},
   "source": [
    "6. Maak de boomstructuur ook eens met Python."
   ]
  },
  {
   "cell_type": "code",
   "execution_count": null,
   "outputs": [],
   "source": [],
   "metadata": {
    "collapsed": false
   }
  },
  {
   "cell_type": "markdown",
   "metadata": {},
   "source": [
    "7. Maak nu een voorspelling? Wordt er gespeeld bij volgende weersomstandigheden?\n",
    " * Outlook = Sunny\n",
    " * Temperature = Mild\n",
    " * Humidity = High\n",
    " * Wind = Weak"
   ]
  },
  {
   "cell_type": "code",
   "execution_count": 20,
   "metadata": {},
   "outputs": [],
   "source": []
  }
 ],
 "metadata": {
  "kernelspec": {
   "display_name": "Python 3",
   "language": "python",
   "name": "python3"
  },
  "language_info": {
   "codemirror_mode": {
    "name": "ipython",
    "version": 3
   },
   "file_extension": ".py",
   "mimetype": "text/x-python",
   "name": "python",
   "nbconvert_exporter": "python",
   "pygments_lexer": "ipython3",
   "version": "3.8.7"
  }
 },
 "nbformat": 4,
 "nbformat_minor": 1
}
