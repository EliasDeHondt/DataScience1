{
 "cells": [
  {
   "cell_type": "markdown",
   "metadata": {
    "collapsed": true
   },
   "source": [
    "# Play Ball"
   ]
  },
  {
   "cell_type": "markdown",
   "metadata": {},
   "source": [
    "1. Lees het bestand playball.csv.\n",
    "Deze tabel laat toe om te beslissen of er een wedstrijd gespeeld zal worden, afhankelijk van de weersomstandigheden.\n",
    "Deze dataset is al omgezet naar nominale meetwaarden."
   ]
  },
  {
   "cell_type": "code",
   "execution_count": 1,
   "outputs": [
    {
     "data": {
      "text/plain": "     Outlook Temperature Humidity    Wind Play\n0      Sunny         Hot     High    Weak   No\n1      Sunny         Hot     High  Strong   No\n2   Overcast         Hot     High    Weak  Yes\n3       Rain        Mild     High    Weak  Yes\n4       Rain        Cool   Normal    Weak  Yes\n5       Rain        Cool   Normal  Strong   No\n6   Overcast        Cool   Normal  Strong  Yes\n7      Sunny        Mild     High    Weak   No\n8      Sunny        Cool   Normal    Weak  Yes\n9       Rain        Mild   Normal    Weak  Yes\n10     Sunny        Mild   Normal  Strong  Yes\n11  Overcast        Mild     High  Strong  Yes\n12  Overcast         Hot   Normal    Weak  Yes\n13      Rain        Mild     High  Strong   No",
      "text/html": "<div>\n<style scoped>\n    .dataframe tbody tr th:only-of-type {\n        vertical-align: middle;\n    }\n\n    .dataframe tbody tr th {\n        vertical-align: top;\n    }\n\n    .dataframe thead th {\n        text-align: right;\n    }\n</style>\n<table border=\"1\" class=\"dataframe\">\n  <thead>\n    <tr style=\"text-align: right;\">\n      <th></th>\n      <th>Outlook</th>\n      <th>Temperature</th>\n      <th>Humidity</th>\n      <th>Wind</th>\n      <th>Play</th>\n    </tr>\n  </thead>\n  <tbody>\n    <tr>\n      <th>0</th>\n      <td>Sunny</td>\n      <td>Hot</td>\n      <td>High</td>\n      <td>Weak</td>\n      <td>No</td>\n    </tr>\n    <tr>\n      <th>1</th>\n      <td>Sunny</td>\n      <td>Hot</td>\n      <td>High</td>\n      <td>Strong</td>\n      <td>No</td>\n    </tr>\n    <tr>\n      <th>2</th>\n      <td>Overcast</td>\n      <td>Hot</td>\n      <td>High</td>\n      <td>Weak</td>\n      <td>Yes</td>\n    </tr>\n    <tr>\n      <th>3</th>\n      <td>Rain</td>\n      <td>Mild</td>\n      <td>High</td>\n      <td>Weak</td>\n      <td>Yes</td>\n    </tr>\n    <tr>\n      <th>4</th>\n      <td>Rain</td>\n      <td>Cool</td>\n      <td>Normal</td>\n      <td>Weak</td>\n      <td>Yes</td>\n    </tr>\n    <tr>\n      <th>5</th>\n      <td>Rain</td>\n      <td>Cool</td>\n      <td>Normal</td>\n      <td>Strong</td>\n      <td>No</td>\n    </tr>\n    <tr>\n      <th>6</th>\n      <td>Overcast</td>\n      <td>Cool</td>\n      <td>Normal</td>\n      <td>Strong</td>\n      <td>Yes</td>\n    </tr>\n    <tr>\n      <th>7</th>\n      <td>Sunny</td>\n      <td>Mild</td>\n      <td>High</td>\n      <td>Weak</td>\n      <td>No</td>\n    </tr>\n    <tr>\n      <th>8</th>\n      <td>Sunny</td>\n      <td>Cool</td>\n      <td>Normal</td>\n      <td>Weak</td>\n      <td>Yes</td>\n    </tr>\n    <tr>\n      <th>9</th>\n      <td>Rain</td>\n      <td>Mild</td>\n      <td>Normal</td>\n      <td>Weak</td>\n      <td>Yes</td>\n    </tr>\n    <tr>\n      <th>10</th>\n      <td>Sunny</td>\n      <td>Mild</td>\n      <td>Normal</td>\n      <td>Strong</td>\n      <td>Yes</td>\n    </tr>\n    <tr>\n      <th>11</th>\n      <td>Overcast</td>\n      <td>Mild</td>\n      <td>High</td>\n      <td>Strong</td>\n      <td>Yes</td>\n    </tr>\n    <tr>\n      <th>12</th>\n      <td>Overcast</td>\n      <td>Hot</td>\n      <td>Normal</td>\n      <td>Weak</td>\n      <td>Yes</td>\n    </tr>\n    <tr>\n      <th>13</th>\n      <td>Rain</td>\n      <td>Mild</td>\n      <td>High</td>\n      <td>Strong</td>\n      <td>No</td>\n    </tr>\n  </tbody>\n</table>\n</div>"
     },
     "metadata": {},
     "output_type": "display_data"
    }
   ],
   "source": [
    "import numpy as np\n",
    "import pandas as pd\n",
    "\n",
    "playBall = pd.read_csv('data/playBall.csv')\n",
    "display(playBall)"
   ],
   "metadata": {
    "collapsed": false,
    "ExecuteTime": {
     "end_time": "2023-05-12T18:41:21.099741600Z",
     "start_time": "2023-05-12T18:41:20.587788Z"
    }
   }
  },
  {
   "cell_type": "markdown",
   "metadata": {},
   "source": [
    "2. Bereken de entropie van deze tabel.  Schrijf ook de formule op.\n"
   ]
  },
  {
   "cell_type": "code",
   "execution_count": 2,
   "outputs": [
    {
     "name": "stdout",
     "output_type": "stream",
     "text": [
      "Entropy, E(S) = 0.9402859586706311\n",
      "\n",
      "\n",
      "Outlook        1.577406\n",
      "Temperature    1.556657\n",
      "Humidity       1.000000\n",
      "Wind           0.985228\n",
      "Play           0.940286\n",
      "dtype: float64\n"
     ]
    }
   ],
   "source": [
    "def entropy(series: pd.Series):\n",
    "    vc = series.value_counts(normalize=True, sort=False)\n",
    "    return -(vc * np.log2(vc)).sum()\n",
    "\n",
    "E_ouder = entropy(playBall.Play)\n",
    "print('Entropy, E(S) =', E_ouder)\n",
    "print(\"\\n\")\n",
    "E_ouder = playBall.apply(entropy)\n",
    "print(E_ouder)"
   ],
   "metadata": {
    "collapsed": false,
    "ExecuteTime": {
     "end_time": "2023-05-12T18:41:21.147168Z",
     "start_time": "2023-05-12T18:41:21.077763600Z"
    }
   }
  },
  {
   "cell_type": "markdown",
   "metadata": {},
   "source": [
    "3. Bereken de gain voor iedere kolom.  Schrijf telkens de formule op."
   ]
  },
  {
   "cell_type": "code",
   "execution_count": 3,
   "outputs": [
    {
     "name": "stdout",
     "output_type": "stream",
     "text": [
      "Initiële Information Gain voor alle kolommen\n",
      "Outlook:  0.24674981977443922\n",
      "Temperature:  0.02922256565895487\n",
      "Humidity:  0.1518355013623417\n",
      "Wind:  0.04812703040826949\n"
     ]
    }
   ],
   "source": [
    "def information_gain(parent_table: pd.DataFrame, attribute: str, target: str):\n",
    "    # bepaal entropie van parent table\n",
    "    entropy_parent = entropy(parent_table[target])\n",
    "    child_entropies = []\n",
    "    child_weights = []\n",
    "\n",
    "    # bereken entropies of child tables\n",
    "    for (label, fraction) in parent_table[attribute].value_counts().items():\n",
    "        child_df = parent_table[parent_table[attribute] == label]\n",
    "        child_entropies.append(entropy(child_df[target]))\n",
    "        child_weights.append(int(fraction))\n",
    "\n",
    "    # calculate the difference between parent entropy and weighted child entropies\n",
    "    return entropy_parent - np.average(child_entropies, weights=child_weights)\n",
    "\n",
    "IG_Outlook = information_gain(playBall, 'Outlook', 'Play')\n",
    "IG_Temperature= information_gain(playBall, 'Temperature', 'Play')\n",
    "IG_Humidity = information_gain(playBall, 'Humidity', 'Play')\n",
    "IG_Wind = information_gain(playBall, 'Wind', 'Play')\n",
    "\n",
    "print(\"Initiële Information Gain voor alle kolommen\")\n",
    "print(\"Outlook: \", IG_Outlook)\n",
    "print(\"Temperature: \", IG_Temperature)\n",
    "print(\"Humidity: \", IG_Humidity)\n",
    "print(\"Wind: \", IG_Wind)"
   ],
   "metadata": {
    "collapsed": false,
    "ExecuteTime": {
     "end_time": "2023-05-12T18:41:21.243906Z",
     "start_time": "2023-05-12T18:41:21.116923500Z"
    }
   }
  },
  {
   "cell_type": "markdown",
   "metadata": {},
   "source": [
    "4. Welke kolom kies je voor de eerste node?"
   ]
  },
  {
   "cell_type": "code",
   "execution_count": 4,
   "outputs": [],
   "source": [
    "# Outlook"
   ],
   "metadata": {
    "collapsed": false,
    "ExecuteTime": {
     "end_time": "2023-05-12T18:41:21.381375500Z",
     "start_time": "2023-05-12T18:41:21.137705Z"
    }
   }
  },
  {
   "cell_type": "markdown",
   "metadata": {},
   "source": [
    "5. Bepaal handmatig de rest van de boomstructuur en bepaal voor iedere node de entropie van de overeenkomstige tabel"
   ]
  },
  {
   "cell_type": "code",
   "execution_count": 5,
   "outputs": [],
   "source": [
    "# Ik zie hier de meerwaarde niet in van deze vraagstelling. Dit is pure bezigheidstherapie."
   ],
   "metadata": {
    "collapsed": false,
    "ExecuteTime": {
     "end_time": "2023-05-12T18:41:21.460710Z",
     "start_time": "2023-05-12T18:41:21.153060700Z"
    }
   }
  },
  {
   "cell_type": "markdown",
   "metadata": {},
   "source": [
    "6. Maak de boomstructuur ook eens met Python."
   ]
  },
  {
   "cell_type": "code",
   "execution_count": 6,
   "outputs": [
    {
     "data": {
      "image/svg+xml": "<?xml version=\"1.0\" encoding=\"UTF-8\" standalone=\"no\"?>\n<!DOCTYPE svg PUBLIC \"-//W3C//DTD SVG 1.1//EN\"\n \"http://www.w3.org/Graphics/SVG/1.1/DTD/svg11.dtd\">\n<!-- Generated by graphviz version 8.0.5 (20230430.1635)\n -->\n<!-- Title: ID3_Tree Pages: 1 -->\n<svg width=\"283pt\" height=\"227pt\"\n viewBox=\"0.00 0.00 283.00 226.50\" xmlns=\"http://www.w3.org/2000/svg\" xmlns:xlink=\"http://www.w3.org/1999/xlink\">\n<g id=\"graph0\" class=\"graph\" transform=\"scale(1 1) rotate(0) translate(4 222.5)\">\n<title>ID3_Tree</title>\n<polygon fill=\"white\" stroke=\"none\" points=\"-4,4 -4,-222.5 279,-222.5 279,4 -4,4\"/>\n<!-- 0 -->\n<g id=\"node1\" class=\"node\">\n<title>0</title>\n<polygon fill=\"lightgrey\" stroke=\"black\" points=\"130.88,-218.5 69.12,-218.5 69.12,-182.5 130.88,-182.5 130.88,-218.5\"/>\n<text text-anchor=\"middle\" x=\"100\" y=\"-195.07\" font-family=\"Times New Roman,serif\" font-size=\"14.00\">Outlook</text>\n</g>\n<!-- 1 -->\n<g id=\"node2\" class=\"node\">\n<title>1</title>\n<polygon fill=\"lightgrey\" stroke=\"black\" points=\"54,-130.75 0,-130.75 0,-91.25 54,-91.25 54,-130.75\"/>\n<text text-anchor=\"middle\" x=\"27\" y=\"-113.45\" font-family=\"Times New Roman,serif\" font-size=\"14.00\">Yes</text>\n<text text-anchor=\"middle\" x=\"27\" y=\"-97.7\" font-family=\"Times New Roman,serif\" font-size=\"14.00\">(4)</text>\n</g>\n<!-- 0&#45;&gt;1 -->\n<g id=\"edge1\" class=\"edge\">\n<title>0&#45;&gt;1</title>\n<path fill=\"none\" stroke=\"black\" d=\"M68.77,-184.23C60.39,-178.93 51.95,-172.32 45.75,-164.5 40.5,-157.88 36.65,-149.67 33.86,-141.72\"/>\n<polygon fill=\"black\" stroke=\"black\" points=\"36.92,-140.77 30.67,-132.22 30.22,-142.81 36.92,-140.77\"/>\n<text text-anchor=\"middle\" x=\"71.12\" y=\"-151.2\" font-family=\"Times New Roman,serif\" font-size=\"14.00\">Overcast</text>\n</g>\n<!-- 2 -->\n<g id=\"node3\" class=\"node\">\n<title>2</title>\n<polygon fill=\"lightgrey\" stroke=\"black\" points=\"126,-129 72,-129 72,-93 126,-93 126,-129\"/>\n<text text-anchor=\"middle\" x=\"99\" y=\"-105.58\" font-family=\"Times New Roman,serif\" font-size=\"14.00\">Wind</text>\n</g>\n<!-- 0&#45;&gt;2 -->\n<g id=\"edge2\" class=\"edge\">\n<title>0&#45;&gt;2</title>\n<path fill=\"none\" stroke=\"black\" d=\"M99.8,-182.21C99.67,-170.23 99.48,-154 99.32,-140.16\"/>\n<polygon fill=\"black\" stroke=\"black\" points=\"102.81,-140.21 99.2,-130.25 95.81,-140.29 102.81,-140.21\"/>\n<text text-anchor=\"middle\" x=\"112.75\" y=\"-151.2\" font-family=\"Times New Roman,serif\" font-size=\"14.00\">Rain</text>\n</g>\n<!-- 5 -->\n<g id=\"node6\" class=\"node\">\n<title>5</title>\n<polygon fill=\"lightgrey\" stroke=\"black\" points=\"211.5,-129 144.5,-129 144.5,-93 211.5,-93 211.5,-129\"/>\n<text text-anchor=\"middle\" x=\"178\" y=\"-105.58\" font-family=\"Times New Roman,serif\" font-size=\"14.00\">Humidity</text>\n</g>\n<!-- 0&#45;&gt;5 -->\n<g id=\"edge5\" class=\"edge\">\n<title>0&#45;&gt;5</title>\n<path fill=\"none\" stroke=\"black\" d=\"M115.41,-182.21C126.84,-169.39 142.6,-151.71 155.45,-137.3\"/>\n<polygon fill=\"black\" stroke=\"black\" points=\"157.58,-140.04 161.62,-130.25 152.35,-135.39 157.58,-140.04\"/>\n<text text-anchor=\"middle\" x=\"161.62\" y=\"-151.2\" font-family=\"Times New Roman,serif\" font-size=\"14.00\">Sunny</text>\n</g>\n<!-- 3 -->\n<g id=\"node4\" class=\"node\">\n<title>3</title>\n<polygon fill=\"lightgrey\" stroke=\"black\" points=\"56,-39.5 2,-39.5 2,0 56,0 56,-39.5\"/>\n<text text-anchor=\"middle\" x=\"29\" y=\"-22.2\" font-family=\"Times New Roman,serif\" font-size=\"14.00\">No</text>\n<text text-anchor=\"middle\" x=\"29\" y=\"-6.45\" font-family=\"Times New Roman,serif\" font-size=\"14.00\">(2)</text>\n</g>\n<!-- 2&#45;&gt;3 -->\n<g id=\"edge3\" class=\"edge\">\n<title>2&#45;&gt;3</title>\n<path fill=\"none\" stroke=\"black\" d=\"M77.55,-92.86C71,-87.04 64.06,-80.23 58.5,-73.25 52.66,-65.93 47.3,-57.3 42.79,-49.18\"/>\n<polygon fill=\"black\" stroke=\"black\" points=\"45.52,-47.85 37.74,-40.65 39.33,-51.12 45.52,-47.85\"/>\n<text text-anchor=\"middle\" x=\"77.75\" y=\"-59.95\" font-family=\"Times New Roman,serif\" font-size=\"14.00\">Strong</text>\n</g>\n<!-- 4 -->\n<g id=\"node5\" class=\"node\">\n<title>4</title>\n<polygon fill=\"lightgrey\" stroke=\"black\" points=\"128,-39.5 74,-39.5 74,0 128,0 128,-39.5\"/>\n<text text-anchor=\"middle\" x=\"101\" y=\"-22.2\" font-family=\"Times New Roman,serif\" font-size=\"14.00\">Yes</text>\n<text text-anchor=\"middle\" x=\"101\" y=\"-6.45\" font-family=\"Times New Roman,serif\" font-size=\"14.00\">(3)</text>\n</g>\n<!-- 2&#45;&gt;4 -->\n<g id=\"edge4\" class=\"edge\">\n<title>2&#45;&gt;4</title>\n<path fill=\"none\" stroke=\"black\" d=\"M99.39,-92.79C99.65,-80.8 100.02,-64.5 100.33,-50.43\"/>\n<polygon fill=\"black\" stroke=\"black\" points=\"103.85,-50.84 100.57,-40.76 96.85,-50.68 103.85,-50.84\"/>\n<text text-anchor=\"middle\" x=\"117.12\" y=\"-59.95\" font-family=\"Times New Roman,serif\" font-size=\"14.00\">Weak</text>\n</g>\n<!-- 6 -->\n<g id=\"node7\" class=\"node\">\n<title>6</title>\n<polygon fill=\"lightgrey\" stroke=\"black\" points=\"203,-39.5 149,-39.5 149,0 203,0 203,-39.5\"/>\n<text text-anchor=\"middle\" x=\"176\" y=\"-22.2\" font-family=\"Times New Roman,serif\" font-size=\"14.00\">No</text>\n<text text-anchor=\"middle\" x=\"176\" y=\"-6.45\" font-family=\"Times New Roman,serif\" font-size=\"14.00\">(3)</text>\n</g>\n<!-- 5&#45;&gt;6 -->\n<g id=\"edge6\" class=\"edge\">\n<title>5&#45;&gt;6</title>\n<path fill=\"none\" stroke=\"black\" d=\"M177.61,-92.79C177.35,-80.8 176.98,-64.5 176.67,-50.43\"/>\n<polygon fill=\"black\" stroke=\"black\" points=\"180.15,-50.68 176.43,-40.76 173.15,-50.84 180.15,-50.68\"/>\n<text text-anchor=\"middle\" x=\"191.12\" y=\"-59.95\" font-family=\"Times New Roman,serif\" font-size=\"14.00\">High</text>\n</g>\n<!-- 7 -->\n<g id=\"node8\" class=\"node\">\n<title>7</title>\n<polygon fill=\"lightgrey\" stroke=\"black\" points=\"275,-39.5 221,-39.5 221,0 275,0 275,-39.5\"/>\n<text text-anchor=\"middle\" x=\"248\" y=\"-22.2\" font-family=\"Times New Roman,serif\" font-size=\"14.00\">Yes</text>\n<text text-anchor=\"middle\" x=\"248\" y=\"-6.45\" font-family=\"Times New Roman,serif\" font-size=\"14.00\">(2)</text>\n</g>\n<!-- 5&#45;&gt;7 -->\n<g id=\"edge7\" class=\"edge\">\n<title>5&#45;&gt;7</title>\n<path fill=\"none\" stroke=\"black\" d=\"M192.46,-92.53C197.43,-86.46 203,-79.59 208,-73.25 214.29,-65.28 221.02,-56.53 227.13,-48.5\"/>\n<polygon fill=\"black\" stroke=\"black\" points=\"230.46,-50.91 233.71,-40.82 224.88,-46.68 230.46,-50.91\"/>\n<text text-anchor=\"middle\" x=\"239.62\" y=\"-59.95\" font-family=\"Times New Roman,serif\" font-size=\"14.00\">Normal</text>\n</g>\n</g>\n</svg>\n",
      "text/plain": "<graphviz.sources.Source at 0x1e925c154b0>"
     },
     "execution_count": 6,
     "metadata": {},
     "output_type": "execute_result"
    }
   ],
   "source": [
    "import graphviz\n",
    "from id3 import Id3Estimator, export_graphviz\n",
    "\n",
    "X = playBall.drop(columns=['Play'], axis=1)\n",
    "y = playBall['Play']\n",
    "\n",
    "model = Id3Estimator()\n",
    "\n",
    "# Bouw het model\n",
    "model.fit(X, y)\n",
    "\n",
    "# maak model\n",
    "model_tree = export_graphviz(model.tree_, feature_names=X.columns)\n",
    "# toon beslissingsboom\n",
    "graphviz.Source(model_tree.dot_tree)"
   ],
   "metadata": {
    "collapsed": false,
    "ExecuteTime": {
     "end_time": "2023-05-12T18:41:23.780459700Z",
     "start_time": "2023-05-12T18:41:21.165608400Z"
    }
   }
  },
  {
   "cell_type": "markdown",
   "metadata": {},
   "source": [
    "7. Maak nu een voorspelling? Wordt er gespeeld bij volgende weersomstandigheden?\n",
    " * Outlook = Sunny\n",
    " * Temperature = Mild\n",
    " * Humidity = High\n",
    " * Wind = Weak"
   ]
  },
  {
   "cell_type": "code",
   "execution_count": 7,
   "metadata": {
    "ExecuteTime": {
     "end_time": "2023-05-12T18:41:23.795906800Z",
     "start_time": "2023-05-12T18:41:23.748212Z"
    }
   },
   "outputs": [
    {
     "name": "stdout",
     "output_type": "stream",
     "text": [
      "['No']\n"
     ]
    }
   ],
   "source": [
    "# Voorspelling:\n",
    "voorspelling = np.array([['Sunny', 'Mild', 'High', 'Weak']])\n",
    "print(model.predict(voorspelling)) # \"No\""
   ]
  }
 ],
 "metadata": {
  "kernelspec": {
   "display_name": "Python 3",
   "language": "python",
   "name": "python3"
  },
  "language_info": {
   "codemirror_mode": {
    "name": "ipython",
    "version": 3
   },
   "file_extension": ".py",
   "mimetype": "text/x-python",
   "name": "python",
   "nbconvert_exporter": "python",
   "pygments_lexer": "ipython3",
   "version": "3.8.7"
  }
 },
 "nbformat": 4,
 "nbformat_minor": 1
}
