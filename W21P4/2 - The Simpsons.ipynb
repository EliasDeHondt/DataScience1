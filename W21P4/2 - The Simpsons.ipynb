{
 "cells": [
  {
   "cell_type": "markdown",
   "metadata": {},
   "source": [
    "# The Simpsons"
   ]
  },
  {
   "cell_type": "markdown",
   "metadata": {},
   "source": [
    "1.  Lees het bestand van de simpsons in (simpsons_nominal.csv)\n",
    "Deze tabel bevat informatie over 9 karakters uit de Simpsons.\n",
    "Deze dataset is al omgezet naar nominale meetwaarden.\n",
    "We gaan onderzoeken of we 'geslacht' kunnen afleiden uit  haarlengte, gewicht en leeftijd"
   ]
  },
  {
   "cell_type": "code",
   "execution_count": 2,
   "outputs": [
    {
     "data": {
      "text/plain": "  haarlengte gewicht leeftijd geslacht\n0         <3    >160    30-40        M\n1         >5   <=160    30-40        V\n2         <3   <=160      <30        M\n3         >5   <=160      <30        V\n4        3-5   <=160      <30        V\n5         <3    >160      >40        M\n6         >5   <=160      >40        V\n7         >5    >160    30-40        M\n8         >5    >160      >40        M",
      "text/html": "<div>\n<style scoped>\n    .dataframe tbody tr th:only-of-type {\n        vertical-align: middle;\n    }\n\n    .dataframe tbody tr th {\n        vertical-align: top;\n    }\n\n    .dataframe thead th {\n        text-align: right;\n    }\n</style>\n<table border=\"1\" class=\"dataframe\">\n  <thead>\n    <tr style=\"text-align: right;\">\n      <th></th>\n      <th>haarlengte</th>\n      <th>gewicht</th>\n      <th>leeftijd</th>\n      <th>geslacht</th>\n    </tr>\n  </thead>\n  <tbody>\n    <tr>\n      <th>0</th>\n      <td>&lt;3</td>\n      <td>&gt;160</td>\n      <td>30-40</td>\n      <td>M</td>\n    </tr>\n    <tr>\n      <th>1</th>\n      <td>&gt;5</td>\n      <td>&lt;=160</td>\n      <td>30-40</td>\n      <td>V</td>\n    </tr>\n    <tr>\n      <th>2</th>\n      <td>&lt;3</td>\n      <td>&lt;=160</td>\n      <td>&lt;30</td>\n      <td>M</td>\n    </tr>\n    <tr>\n      <th>3</th>\n      <td>&gt;5</td>\n      <td>&lt;=160</td>\n      <td>&lt;30</td>\n      <td>V</td>\n    </tr>\n    <tr>\n      <th>4</th>\n      <td>3-5</td>\n      <td>&lt;=160</td>\n      <td>&lt;30</td>\n      <td>V</td>\n    </tr>\n    <tr>\n      <th>5</th>\n      <td>&lt;3</td>\n      <td>&gt;160</td>\n      <td>&gt;40</td>\n      <td>M</td>\n    </tr>\n    <tr>\n      <th>6</th>\n      <td>&gt;5</td>\n      <td>&lt;=160</td>\n      <td>&gt;40</td>\n      <td>V</td>\n    </tr>\n    <tr>\n      <th>7</th>\n      <td>&gt;5</td>\n      <td>&gt;160</td>\n      <td>30-40</td>\n      <td>M</td>\n    </tr>\n    <tr>\n      <th>8</th>\n      <td>&gt;5</td>\n      <td>&gt;160</td>\n      <td>&gt;40</td>\n      <td>M</td>\n    </tr>\n  </tbody>\n</table>\n</div>"
     },
     "metadata": {},
     "output_type": "display_data"
    }
   ],
   "source": [
    "import numpy as np\n",
    "import pandas as pd\n",
    "import graphviz\n",
    "from id3 import Id3Estimator, export_graphviz\n",
    "\n",
    "simpsons_nominal = pd.read_csv('data/simpsons_nominal.csv')\n",
    "display(simpsons_nominal)"
   ],
   "metadata": {
    "collapsed": false,
    "ExecuteTime": {
     "start_time": "2023-05-11T11:27:32.463757Z",
     "end_time": "2023-05-11T11:27:32.500731Z"
    }
   }
  },
  {
   "cell_type": "markdown",
   "metadata": {},
   "source": [
    "2.  Bereken zelf de entropie van deze tabel. Schrijf ook de formule op."
   ]
  },
  {
   "cell_type": "code",
   "execution_count": null,
   "outputs": [],
   "source": [],
   "metadata": {
    "collapsed": false
   }
  },
  {
   "cell_type": "markdown",
   "metadata": {},
   "source": [
    "3.  Bereken de gain voor iedere kolom.  \n",
    "Kan je ook de gain van de laatste kolom berekenen?\n",
    "Schrijf ook telkens de formule op?"
   ]
  },
  {
   "cell_type": "code",
   "execution_count": null,
   "outputs": [],
   "source": [],
   "metadata": {
    "collapsed": false
   }
  },
  {
   "cell_type": "markdown",
   "metadata": {},
   "source": [
    "4.  Bepaal de subtabel waarbij het gewicht altijd <=160 is."
   ]
  },
  {
   "cell_type": "code",
   "execution_count": null,
   "outputs": [],
   "source": [],
   "metadata": {
    "collapsed": false
   }
  },
  {
   "cell_type": "markdown",
   "metadata": {},
   "source": [
    "5.  Wat is de entropie van deze subtabel?\n",
    "En hoe verhoudt zich dat tov. entropie van de originele tabel?"
   ]
  },
  {
   "cell_type": "code",
   "execution_count": null,
   "outputs": [],
   "source": [],
   "metadata": {
    "collapsed": false
   }
  },
  {
   "cell_type": "markdown",
   "metadata": {},
   "source": [
    "6.  Bepaal de gain voor iedere kolom van deze subtabel.  \n",
    "Welke kolom kies je dus voor de volgende stap?"
   ]
  },
  {
   "cell_type": "code",
   "execution_count": null,
   "outputs": [],
   "source": [],
   "metadata": {
    "collapsed": false
   }
  },
  {
   "cell_type": "markdown",
   "metadata": {},
   "source": [
    "7.  Maak de boomstructuur in Python"
   ]
  },
  {
   "cell_type": "code",
   "execution_count": null,
   "outputs": [],
   "source": [],
   "metadata": {
    "collapsed": false
   }
  },
  {
   "cell_type": "markdown",
   "metadata": {},
   "source": [
    "8. Welk geslacht verwacht je voor een gloednieuw Simpson karakter met volgende eigenschappen?\n",
    " * haarlengte = '>5'\n",
    " * gewicht = '>160'\n",
    " * leeftijd = '30-40'"
   ]
  },
  {
   "cell_type": "code",
   "execution_count": null,
   "outputs": [],
   "source": [],
   "metadata": {
    "collapsed": false
   }
  },
  {
   "cell_type": "markdown",
   "metadata": {},
   "source": [
    "9. Extra : Probeer nu eens een DecisionTree op te stellen met DecisionTreeClassifier uit scikit-learn.tree"
   ]
  },
  {
   "cell_type": "code",
   "execution_count": null,
   "outputs": [],
   "source": [],
   "metadata": {
    "collapsed": false
   }
  }
 ],
 "metadata": {
  "kernelspec": {
   "display_name": "Python 3",
   "language": "python",
   "name": "python3"
  },
  "language_info": {
   "codemirror_mode": {
    "name": "ipython",
    "version": 3
   },
   "file_extension": ".py",
   "mimetype": "text/x-python",
   "name": "python",
   "nbconvert_exporter": "python",
   "pygments_lexer": "ipython3",
   "version": "3.8.7"
  }
 },
 "nbformat": 4,
 "nbformat_minor": 1
}
