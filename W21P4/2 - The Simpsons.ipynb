{
 "cells": [
  {
   "cell_type": "markdown",
   "metadata": {},
   "source": [
    "# The Simpsons"
   ]
  },
  {
   "cell_type": "markdown",
   "metadata": {
    "pycharm": {
     "name": "#%% md\n"
    }
   },
   "source": [
    "1.  Lees het bestand van de simpsons in (simpsons_nominal.csv)\n",
    "Deze tabel bevat informatie over 9 karakters uit de Simpsons.\n",
    "Deze dataset is al omgezet naar nominale meetwaarden.\n",
    "We gaan onderzoeken of we 'geslacht' kunnen afleiden uit  haarlengte, gewicht en leeftijd"
   ]
  },
  {
   "cell_type": "markdown",
   "metadata": {
    "pycharm": {
     "name": "#%% md\n"
    }
   },
   "source": [
    "2.  Bereken zelf de entropie van deze tabel. Schrijf ook de formule op."
   ]
  },
  {
   "cell_type": "markdown",
   "metadata": {
    "pycharm": {
     "name": "#%% md\n"
    }
   },
   "source": [
    "3.  Bereken de gain voor iedere kolom.  \n",
    "Kan je ook de gain van de laatste kolom berekenen?\n",
    "Schrijf ook telkens de formule op?"
   ]
  },
  {
   "cell_type": "markdown",
   "metadata": {
    "pycharm": {
     "name": "#%% md\n"
    }
   },
   "source": [
    "4.  Bepaal de subtabel waarbij het gewicht altijd <=160 is."
   ]
  },
  {
   "cell_type": "markdown",
   "metadata": {},
   "source": [
    "5.  Wat is de entropie van deze subtabel?\n",
    "En hoe verhoudt zich dat tov. entropie van de originele tabel?"
   ]
  },
  {
   "cell_type": "markdown",
   "metadata": {},
   "source": [
    "6.  Bepaal de gain voor iedere kolom van deze subtabel.  \n",
    "Welke kolom kies je dus voor de volgende stap?"
   ]
  },
  {
   "cell_type": "markdown",
   "metadata": {},
   "source": [
    "7.  Maak de boomstructuur in Python"
   ]
  },
  {
   "cell_type": "markdown",
   "metadata": {
    "pycharm": {
     "name": "#%% md\n"
    }
   },
   "source": [
    "8. Welk geslacht verwacht je voor een gloednieuw Simpson karakter met volgende eigenschappen?\n",
    " * haarlengte = '>5'\n",
    " * gewicht = '>160'\n",
    " * leeftijd = '30-40'"
   ]
  },
  {
   "cell_type": "markdown",
   "metadata": {},
   "source": [
    "9. Extra : Probeer nu eens een DecisionTree op te stellen met DecisionTreeClassifier uit scikit-learn.tree"
   ]
  }
 ],
 "metadata": {
  "kernelspec": {
   "display_name": "Python 3",
   "language": "python",
   "name": "python3"
  },
  "language_info": {
   "codemirror_mode": {
    "name": "ipython",
    "version": 3
   },
   "file_extension": ".py",
   "mimetype": "text/x-python",
   "name": "python",
   "nbconvert_exporter": "python",
   "pygments_lexer": "ipython3",
   "version": "3.8.7"
  }
 },
 "nbformat": 4,
 "nbformat_minor": 1
}
