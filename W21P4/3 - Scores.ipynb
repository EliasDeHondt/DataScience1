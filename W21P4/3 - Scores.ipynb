{
 "cells": [
  {
   "cell_type": "markdown",
   "metadata": {
    "collapsed": false,
    "pycharm": {
     "name": "#%% md\n"
    }
   },
   "source": [
    "# Scores voor vakken voorspellen"
   ]
  },
  {
   "cell_type": "markdown",
   "metadata": {
    "collapsed": false,
    "pycharm": {
     "name": "#%% md\n"
    }
   },
   "source": [
    "We geven een lijst van studenten aan een docent en vragen hoe hij/zij deze studenten inschat.\n",
    "De docent mag aan iedere student een score toekennen volgens zijn gevoel (niet volgens punten).\n",
    "We verwachten dat een docent dit onbewust toch zal doen op basis van zijn eigen vakken.\n"
   ]
  },
  {
   "cell_type": "markdown",
   "metadata": {
    "collapsed": false,
    "pycharm": {
     "name": "#%% md\n"
    }
   },
   "source": [
    "1. Lees het bestand \"studentenScores.csv\" in.  Hierin zie je de subjectieve scores, gegeven door de docent.  De score kan zijn: \"goed\", \"gemiddeld\", \"slecht\".  We vragen ons nu af op basis van welke criteria de docent zijn scores heeft gegeven."
   ]
  },
  {
   "cell_type": "markdown",
   "metadata": {
    "collapsed": false,
    "pycharm": {
     "name": "#%% md\n"
    }
   },
   "source": [
    "2. Stel daartoe een beslissingsboom op voor de score."
   ]
  },
  {
   "cell_type": "markdown",
   "metadata": {
    "collapsed": false,
    "pycharm": {
     "name": "#%% md\n"
    }
   },
   "source": [
    "3. Welke vakken geeft de docent?"
   ]
  },
  {
   "cell_type": "markdown",
   "metadata": {
    "collapsed": false,
    "pycharm": {
     "name": "#%% md\n"
    }
   },
   "source": [
    "4. De boomstructuur is nogal complex.\n",
    "\n",
    "Dat komt omdat de punten veel waarden kunnen aannemen.\n",
    "We kunnen dit oplossen door de punten op te delen in categorieën:\n",
    " * niet geslaagd (0-9),\n",
    " * voldoening (10-13),\n",
    " * onderscheiding (14-15),\n",
    " * grote onderscheiding (16-20).\n",
    "\n",
    "Probeer de scores zo in te delen.\n"
   ]
  },
  {
   "cell_type": "markdown",
   "metadata": {
    "collapsed": false,
    "pycharm": {
     "name": "#%% md\n"
    }
   },
   "source": [
    "5. Bereken nu de boomstructuur opnieuw.  Is dit duidelijker?"
   ]
  },
  {
   "cell_type": "markdown",
   "metadata": {
    "collapsed": false,
    "pycharm": {
     "name": "#%% md\n"
    }
   },
   "source": [
    "6. Hoe zou de docent iemand inschatten als die volgende punten heeft: 9, 14, 13, 12, 15, 13, 7, 10, 18"
   ]
  },
  {
   "cell_type": "markdown",
   "metadata": {
    "collapsed": false,
    "pycharm": {
     "name": "#%% md\n"
    }
   },
   "source": [
    "7. Maak eens een boomstructuur met het C4.5 algoritme en een ScitKit DecisionTree op de originele gegevens en kijk welk resultaat daar uit komt."
   ]
  },
  {
   "cell_type": "markdown",
   "metadata": {
    "collapsed": false,
    "pycharm": {
     "name": "#%% md\n"
    }
   },
   "source": [
    "8. Maak eens een boomstructuur met een ScitKit DecisionTree op de onehot encoded gegevens (gebruik Pandas `get_dummies`) en kijk welk resultaat daar uit komt."
   ]
  }
 ],
 "metadata": {
  "kernelspec": {
   "display_name": "Python 3",
   "language": "python",
   "name": "python3"
  },
  "language_info": {
   "codemirror_mode": {
    "name": "ipython",
    "version": 2
   },
   "file_extension": ".py",
   "mimetype": "text/x-python",
   "name": "python",
   "nbconvert_exporter": "python",
   "pygments_lexer": "ipython2",
   "version": "2.7.6"
  }
 },
 "nbformat": 4,
 "nbformat_minor": 0
}