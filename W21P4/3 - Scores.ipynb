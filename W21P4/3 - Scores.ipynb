{
 "cells": [
  {
   "cell_type": "markdown",
   "metadata": {
    "collapsed": false
   },
   "source": [
    "# Scores voor vakken voorspellen"
   ]
  },
  {
   "cell_type": "markdown",
   "metadata": {
    "collapsed": false
   },
   "source": [
    "We geven een lijst van studenten aan een docent en vragen hoe hij/zij deze studenten inschat.\n",
    "De docent mag aan iedere student een score toekennen volgens zijn gevoel (niet volgens punten).\n",
    "We verwachten dat een docent dit onbewust toch zal doen op basis van zijn eigen vakken.\n"
   ]
  },
  {
   "cell_type": "markdown",
   "metadata": {
    "collapsed": false
   },
   "source": [
    "1. Lees het bestand \"studentenScores.csv\" in.  Hierin zie je de subjectieve scores, gegeven door de docent.  De score kan zijn: \"goed\", \"gemiddeld\", \"slecht\".  We vragen ons nu af op basis van welke criteria de docent zijn scores heeft gegeven."
   ]
  },
  {
   "cell_type": "code",
   "execution_count": 1,
   "outputs": [
    {
     "data": {
      "text/plain": "    vak1  vak2  vak3  vak4  vak5  vak6  vak7  vak8  vak9      score\n0     13     9    17     2    17     1     0    14    18  gemiddeld\n1     10    13     5    20    20    14     4     2    10       goed\n2     13     4     2    19     3     9    16    13     7       goed\n3      8     3    17     7    16    10    15     9     8     slecht\n4      1    12    13     2     9    10     2     2    13     slecht\n..   ...   ...   ...   ...   ...   ...   ...   ...   ...        ...\n95    14    10    15     4     4     6    10    13     8  gemiddeld\n96    16    10    16     1     8    11    19     0    13  gemiddeld\n97     0    20     9     7    13    11    18    10     9     slecht\n98    14    15    16     9     4     8    10    18     9  gemiddeld\n99    14    20     6     2    12     4     7    14     3  gemiddeld\n\n[100 rows x 10 columns]",
      "text/html": "<div>\n<style scoped>\n    .dataframe tbody tr th:only-of-type {\n        vertical-align: middle;\n    }\n\n    .dataframe tbody tr th {\n        vertical-align: top;\n    }\n\n    .dataframe thead th {\n        text-align: right;\n    }\n</style>\n<table border=\"1\" class=\"dataframe\">\n  <thead>\n    <tr style=\"text-align: right;\">\n      <th></th>\n      <th>vak1</th>\n      <th>vak2</th>\n      <th>vak3</th>\n      <th>vak4</th>\n      <th>vak5</th>\n      <th>vak6</th>\n      <th>vak7</th>\n      <th>vak8</th>\n      <th>vak9</th>\n      <th>score</th>\n    </tr>\n  </thead>\n  <tbody>\n    <tr>\n      <th>0</th>\n      <td>13</td>\n      <td>9</td>\n      <td>17</td>\n      <td>2</td>\n      <td>17</td>\n      <td>1</td>\n      <td>0</td>\n      <td>14</td>\n      <td>18</td>\n      <td>gemiddeld</td>\n    </tr>\n    <tr>\n      <th>1</th>\n      <td>10</td>\n      <td>13</td>\n      <td>5</td>\n      <td>20</td>\n      <td>20</td>\n      <td>14</td>\n      <td>4</td>\n      <td>2</td>\n      <td>10</td>\n      <td>goed</td>\n    </tr>\n    <tr>\n      <th>2</th>\n      <td>13</td>\n      <td>4</td>\n      <td>2</td>\n      <td>19</td>\n      <td>3</td>\n      <td>9</td>\n      <td>16</td>\n      <td>13</td>\n      <td>7</td>\n      <td>goed</td>\n    </tr>\n    <tr>\n      <th>3</th>\n      <td>8</td>\n      <td>3</td>\n      <td>17</td>\n      <td>7</td>\n      <td>16</td>\n      <td>10</td>\n      <td>15</td>\n      <td>9</td>\n      <td>8</td>\n      <td>slecht</td>\n    </tr>\n    <tr>\n      <th>4</th>\n      <td>1</td>\n      <td>12</td>\n      <td>13</td>\n      <td>2</td>\n      <td>9</td>\n      <td>10</td>\n      <td>2</td>\n      <td>2</td>\n      <td>13</td>\n      <td>slecht</td>\n    </tr>\n    <tr>\n      <th>...</th>\n      <td>...</td>\n      <td>...</td>\n      <td>...</td>\n      <td>...</td>\n      <td>...</td>\n      <td>...</td>\n      <td>...</td>\n      <td>...</td>\n      <td>...</td>\n      <td>...</td>\n    </tr>\n    <tr>\n      <th>95</th>\n      <td>14</td>\n      <td>10</td>\n      <td>15</td>\n      <td>4</td>\n      <td>4</td>\n      <td>6</td>\n      <td>10</td>\n      <td>13</td>\n      <td>8</td>\n      <td>gemiddeld</td>\n    </tr>\n    <tr>\n      <th>96</th>\n      <td>16</td>\n      <td>10</td>\n      <td>16</td>\n      <td>1</td>\n      <td>8</td>\n      <td>11</td>\n      <td>19</td>\n      <td>0</td>\n      <td>13</td>\n      <td>gemiddeld</td>\n    </tr>\n    <tr>\n      <th>97</th>\n      <td>0</td>\n      <td>20</td>\n      <td>9</td>\n      <td>7</td>\n      <td>13</td>\n      <td>11</td>\n      <td>18</td>\n      <td>10</td>\n      <td>9</td>\n      <td>slecht</td>\n    </tr>\n    <tr>\n      <th>98</th>\n      <td>14</td>\n      <td>15</td>\n      <td>16</td>\n      <td>9</td>\n      <td>4</td>\n      <td>8</td>\n      <td>10</td>\n      <td>18</td>\n      <td>9</td>\n      <td>gemiddeld</td>\n    </tr>\n    <tr>\n      <th>99</th>\n      <td>14</td>\n      <td>20</td>\n      <td>6</td>\n      <td>2</td>\n      <td>12</td>\n      <td>4</td>\n      <td>7</td>\n      <td>14</td>\n      <td>3</td>\n      <td>gemiddeld</td>\n    </tr>\n  </tbody>\n</table>\n<p>100 rows × 10 columns</p>\n</div>"
     },
     "metadata": {},
     "output_type": "display_data"
    }
   ],
   "source": [
    "import numpy as np\n",
    "import pandas as pd\n",
    "import graphviz\n",
    "from id3 import Id3Estimator, export_graphviz\n",
    "\n",
    "studentenScores = pd.read_csv('data/studentenScores.csv')\n",
    "display(studentenScores)"
   ],
   "metadata": {
    "collapsed": false,
    "ExecuteTime": {
     "start_time": "2023-05-11T11:26:50.272681Z",
     "end_time": "2023-05-11T11:26:51.524021Z"
    }
   }
  },
  {
   "cell_type": "markdown",
   "metadata": {
    "collapsed": false
   },
   "source": [
    "2. Stel daartoe een beslissingsboom op voor de score."
   ]
  },
  {
   "cell_type": "code",
   "execution_count": null,
   "outputs": [],
   "source": [],
   "metadata": {
    "collapsed": false
   }
  },
  {
   "cell_type": "markdown",
   "metadata": {
    "collapsed": false
   },
   "source": [
    "3. Welke vakken geeft de docent?"
   ]
  },
  {
   "cell_type": "code",
   "execution_count": null,
   "outputs": [],
   "source": [],
   "metadata": {
    "collapsed": false
   }
  },
  {
   "cell_type": "markdown",
   "metadata": {
    "collapsed": false
   },
   "source": [
    "4. De boomstructuur is nogal complex.\n",
    "\n",
    "Dat komt omdat de punten veel waarden kunnen aannemen.\n",
    "We kunnen dit oplossen door de punten op te delen in categorieën:\n",
    " * niet geslaagd (0-9),\n",
    " * voldoening (10-13),\n",
    " * onderscheiding (14-15),\n",
    " * grote onderscheiding (16-20).\n",
    "\n",
    "Probeer de scores zo in te delen.\n"
   ]
  },
  {
   "cell_type": "code",
   "execution_count": null,
   "outputs": [],
   "source": [],
   "metadata": {
    "collapsed": false
   }
  },
  {
   "cell_type": "markdown",
   "metadata": {
    "collapsed": false
   },
   "source": [
    "5. Bereken nu de boomstructuur opnieuw.  Is dit duidelijker?"
   ]
  },
  {
   "cell_type": "code",
   "execution_count": null,
   "outputs": [],
   "source": [],
   "metadata": {
    "collapsed": false
   }
  },
  {
   "cell_type": "markdown",
   "metadata": {
    "collapsed": false
   },
   "source": [
    "6. Hoe zou de docent iemand inschatten als die volgende punten heeft: 9, 14, 13, 12, 15, 13, 7, 10, 18"
   ]
  },
  {
   "cell_type": "code",
   "execution_count": null,
   "outputs": [],
   "source": [],
   "metadata": {
    "collapsed": false
   }
  },
  {
   "cell_type": "markdown",
   "metadata": {
    "collapsed": false
   },
   "source": [
    "7. Maak eens een boomstructuur met het C4.5 algoritme en een ScitKit DecisionTree op de originele gegevens en kijk welk resultaat daar uit komt."
   ]
  },
  {
   "cell_type": "code",
   "execution_count": null,
   "outputs": [],
   "source": [],
   "metadata": {
    "collapsed": false
   }
  },
  {
   "cell_type": "markdown",
   "metadata": {
    "collapsed": false
   },
   "source": [
    "8. Maak eens een boomstructuur met een ScitKit DecisionTree op de onehot encoded gegevens (gebruik Pandas `get_dummies`) en kijk welk resultaat daar uit komt."
   ]
  },
  {
   "cell_type": "code",
   "execution_count": null,
   "outputs": [],
   "source": [],
   "metadata": {
    "collapsed": false
   }
  }
 ],
 "metadata": {
  "kernelspec": {
   "display_name": "Python 3",
   "language": "python",
   "name": "python3"
  },
  "language_info": {
   "codemirror_mode": {
    "name": "ipython",
    "version": 2
   },
   "file_extension": ".py",
   "mimetype": "text/x-python",
   "name": "python",
   "nbconvert_exporter": "python",
   "pygments_lexer": "ipython2",
   "version": "2.7.6"
  }
 },
 "nbformat": 4,
 "nbformat_minor": 0
}
