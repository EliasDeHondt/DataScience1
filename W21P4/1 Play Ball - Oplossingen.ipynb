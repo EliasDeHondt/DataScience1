{
 "nbformat": 4,
 "nbformat_minor": 0,
 "metadata": {
  "colab": {
   "name": "1 - Play ball - oplossingen.ipynb",
   "provenance": []
  },
  "kernelspec": {
   "display_name": "Python 3",
   "language": "python",
   "name": "python3"
  },
  "language_info": {
   "codemirror_mode": {
    "name": "ipython",
    "version": 3
   },
   "file_extension": ".py",
   "mimetype": "text/x-python",
   "name": "python",
   "nbconvert_exporter": "python",
   "pygments_lexer": "ipython3",
   "version": "3.8.7"
  }
 },
 "cells": [
  {
   "cell_type": "code",
   "metadata": {
    "colab": {
     "base_uri": "https://localhost:8080/"
    },
    "id": "dANJpz8fWuCH",
    "pycharm": {
     "is_executing": true
    },
    "executionInfo": {
     "status": "ok",
     "timestamp": 1624186575646,
     "user_tz": -120,
     "elapsed": 9206,
     "user": {
      "displayName": "Rony Baekeland",
      "photoUrl": "",
      "userId": "01731985152349302060"
     }
    },
    "outputId": "2ef24282-c1c5-4417-a9d6-6916fbfccdb3"
   },
   "source": [
    "import numpy as np\n",
    "import pandas as pd\n",
    "import matplotlib.pyplot as plt\n",
    "!pip install graphviz\n",
    "import graphviz\n",
    "\n",
    "# hack omwille van bug in Id3Estimator\n",
    "import six\n",
    "import sys\n",
    "!pip install decision-tree-id3\n",
    "\n",
    "sys.modules['sklearn.externals.six'] = six\n",
    "from id3 import Id3Estimator, export_graphviz, export_text"
   ],
   "execution_count": 1,
   "outputs": [
    {
     "output_type": "stream",
     "text": [
      "Requirement already satisfied: graphviz in /usr/local/lib/python3.7/dist-packages (0.10.1)\n",
      "Collecting decision-tree-id3\n",
      "  Downloading https://files.pythonhosted.org/packages/53/60/9b51eb3b5096afa1fce2718f56c99f8e183162dae114c56592112ab54329/decision-tree-id3-0.1.2.tar.gz\n",
      "Collecting nose>=1.1.2\n",
      "\u001B[?25l  Downloading https://files.pythonhosted.org/packages/15/d8/dd071918c040f50fa1cf80da16423af51ff8ce4a0f2399b7bf8de45ac3d9/nose-1.3.7-py3-none-any.whl (154kB)\n",
      "\u001B[K     |████████████████████████████████| 163kB 5.6MB/s \n",
      "\u001B[?25hRequirement already satisfied: scikit-learn>=0.17 in /usr/local/lib/python3.7/dist-packages (from decision-tree-id3) (0.22.2.post1)\n",
      "Requirement already satisfied: numpy>=1.6.1 in /usr/local/lib/python3.7/dist-packages (from decision-tree-id3) (1.19.5)\n",
      "Requirement already satisfied: joblib>=0.11 in /usr/local/lib/python3.7/dist-packages (from scikit-learn>=0.17->decision-tree-id3) (1.0.1)\n",
      "Requirement already satisfied: scipy>=0.17.0 in /usr/local/lib/python3.7/dist-packages (from scikit-learn>=0.17->decision-tree-id3) (1.4.1)\n",
      "Building wheels for collected packages: decision-tree-id3\n",
      "  Building wheel for decision-tree-id3 (setup.py) ... \u001B[?25l\u001B[?25hdone\n",
      "  Created wheel for decision-tree-id3: filename=decision_tree_id3-0.1.2-cp37-none-any.whl size=15962 sha256=c4b5854a3796235d7a37c51f534e4c3b2d5ae322b238219073b47dd2afb71e91\n",
      "  Stored in directory: /root/.cache/pip/wheels/2d/d6/f2/96cb2cc307503a88b1235aef5c794990e460bd044f382070f9\n",
      "Successfully built decision-tree-id3\n",
      "Installing collected packages: nose, decision-tree-id3\n",
      "Successfully installed decision-tree-id3-0.1.2 nose-1.3.7\n"
     ],
     "name": "stdout"
    }
   ]
  },
  {
   "cell_type": "markdown",
   "metadata": {
    "collapsed": true,
    "id": "bGIaIXZ5WuCR"
   },
   "source": [
    "# Play Ball"
   ]
  },
  {
   "cell_type": "markdown",
   "metadata": {
    "id": "Lvk119oIWuCR"
   },
   "source": [
    "1. Lees het bestand playball.csv.\n",
    "Deze tabel laat toe om te beslissen of er een wedstrijd gespeeld zal worden, afhankelijk van de weersomstandigheden.\n",
    "Deze dataset is al omgezet naar nominale meetwaarden."
   ]
  },
  {
   "cell_type": "code",
   "metadata": {
    "colab": {
     "base_uri": "https://localhost:8080/",
     "height": 488
    },
    "id": "LAGjXUj3WuCS",
    "pycharm": {
     "is_executing": true
    },
    "executionInfo": {
     "elapsed": 613,
     "status": "ok",
     "timestamp": 1620389110634,
     "user": {
      "displayName": "Rony Baekeland",
      "photoUrl": "",
      "userId": "01731985152349302060"
     },
     "user_tz": -120
    },
    "outputId": "7a6843b2-b8da-4014-aa0a-d60df85cd0e2"
   },
   "source": [
    "playball = pd.read_csv('../datasets/playBall.csv')\n",
    "playball"
   ],
   "execution_count": null,
   "outputs": [
    {
     "output_type": "execute_result",
     "data": {
      "text/html": [
       "<div>\n",
       "<style scoped>\n",
       "    .dataframe tbody tr th:only-of-type {\n",
       "        vertical-align: middle;\n",
       "    }\n",
       "\n",
       "    .dataframe tbody tr th {\n",
       "        vertical-align: top;\n",
       "    }\n",
       "\n",
       "    .dataframe thead th {\n",
       "        text-align: right;\n",
       "    }\n",
       "</style>\n",
       "<table border=\"1\" class=\"dataframe\">\n",
       "  <thead>\n",
       "    <tr style=\"text-align: right;\">\n",
       "      <th></th>\n",
       "      <th>Outlook</th>\n",
       "      <th>Temperature</th>\n",
       "      <th>Humidity</th>\n",
       "      <th>Wind</th>\n",
       "      <th>Play</th>\n",
       "    </tr>\n",
       "  </thead>\n",
       "  <tbody>\n",
       "    <tr>\n",
       "      <th>0</th>\n",
       "      <td>Sunny</td>\n",
       "      <td>Hot</td>\n",
       "      <td>High</td>\n",
       "      <td>Weak</td>\n",
       "      <td>No</td>\n",
       "    </tr>\n",
       "    <tr>\n",
       "      <th>1</th>\n",
       "      <td>Sunny</td>\n",
       "      <td>Hot</td>\n",
       "      <td>High</td>\n",
       "      <td>Strong</td>\n",
       "      <td>No</td>\n",
       "    </tr>\n",
       "    <tr>\n",
       "      <th>2</th>\n",
       "      <td>Overcast</td>\n",
       "      <td>Hot</td>\n",
       "      <td>High</td>\n",
       "      <td>Weak</td>\n",
       "      <td>Yes</td>\n",
       "    </tr>\n",
       "    <tr>\n",
       "      <th>3</th>\n",
       "      <td>Rain</td>\n",
       "      <td>Mild</td>\n",
       "      <td>High</td>\n",
       "      <td>Weak</td>\n",
       "      <td>Yes</td>\n",
       "    </tr>\n",
       "    <tr>\n",
       "      <th>4</th>\n",
       "      <td>Rain</td>\n",
       "      <td>Cool</td>\n",
       "      <td>Normal</td>\n",
       "      <td>Weak</td>\n",
       "      <td>Yes</td>\n",
       "    </tr>\n",
       "    <tr>\n",
       "      <th>5</th>\n",
       "      <td>Rain</td>\n",
       "      <td>Cool</td>\n",
       "      <td>Normal</td>\n",
       "      <td>Strong</td>\n",
       "      <td>No</td>\n",
       "    </tr>\n",
       "    <tr>\n",
       "      <th>6</th>\n",
       "      <td>Overcast</td>\n",
       "      <td>Cool</td>\n",
       "      <td>Normal</td>\n",
       "      <td>Strong</td>\n",
       "      <td>Yes</td>\n",
       "    </tr>\n",
       "    <tr>\n",
       "      <th>7</th>\n",
       "      <td>Sunny</td>\n",
       "      <td>Mild</td>\n",
       "      <td>High</td>\n",
       "      <td>Weak</td>\n",
       "      <td>No</td>\n",
       "    </tr>\n",
       "    <tr>\n",
       "      <th>8</th>\n",
       "      <td>Sunny</td>\n",
       "      <td>Cool</td>\n",
       "      <td>Normal</td>\n",
       "      <td>Weak</td>\n",
       "      <td>Yes</td>\n",
       "    </tr>\n",
       "    <tr>\n",
       "      <th>9</th>\n",
       "      <td>Rain</td>\n",
       "      <td>Mild</td>\n",
       "      <td>Normal</td>\n",
       "      <td>Weak</td>\n",
       "      <td>Yes</td>\n",
       "    </tr>\n",
       "    <tr>\n",
       "      <th>10</th>\n",
       "      <td>Sunny</td>\n",
       "      <td>Mild</td>\n",
       "      <td>Normal</td>\n",
       "      <td>Strong</td>\n",
       "      <td>Yes</td>\n",
       "    </tr>\n",
       "    <tr>\n",
       "      <th>11</th>\n",
       "      <td>Overcast</td>\n",
       "      <td>Mild</td>\n",
       "      <td>High</td>\n",
       "      <td>Strong</td>\n",
       "      <td>Yes</td>\n",
       "    </tr>\n",
       "    <tr>\n",
       "      <th>12</th>\n",
       "      <td>Overcast</td>\n",
       "      <td>Hot</td>\n",
       "      <td>Normal</td>\n",
       "      <td>Weak</td>\n",
       "      <td>Yes</td>\n",
       "    </tr>\n",
       "    <tr>\n",
       "      <th>13</th>\n",
       "      <td>Rain</td>\n",
       "      <td>Mild</td>\n",
       "      <td>High</td>\n",
       "      <td>Strong</td>\n",
       "      <td>No</td>\n",
       "    </tr>\n",
       "  </tbody>\n",
       "</table>\n",
       "</div>"
      ],
      "text/plain": [
       "     Outlook Temperature Humidity    Wind Play\n",
       "0      Sunny         Hot     High    Weak   No\n",
       "1      Sunny         Hot     High  Strong   No\n",
       "2   Overcast         Hot     High    Weak  Yes\n",
       "3       Rain        Mild     High    Weak  Yes\n",
       "4       Rain        Cool   Normal    Weak  Yes\n",
       "5       Rain        Cool   Normal  Strong   No\n",
       "6   Overcast        Cool   Normal  Strong  Yes\n",
       "7      Sunny        Mild     High    Weak   No\n",
       "8      Sunny        Cool   Normal    Weak  Yes\n",
       "9       Rain        Mild   Normal    Weak  Yes\n",
       "10     Sunny        Mild   Normal  Strong  Yes\n",
       "11  Overcast        Mild     High  Strong  Yes\n",
       "12  Overcast         Hot   Normal    Weak  Yes\n",
       "13      Rain        Mild     High  Strong   No"
      ]
     },
     "metadata": {
      "tags": []
     },
     "execution_count": 8
    }
   ]
  },
  {
   "cell_type": "markdown",
   "metadata": {
    "id": "0PUCYSyYWuCT"
   },
   "source": [
    "2. Bereken de entropie van deze tabel.  Schrijf ook de formule op.\n"
   ]
  },
  {
   "cell_type": "code",
   "metadata": {
    "colab": {
     "base_uri": "https://localhost:8080/"
    },
    "id": "oEtlTG7dWuCU",
    "executionInfo": {
     "elapsed": 594,
     "status": "ok",
     "timestamp": 1620390254195,
     "user": {
      "displayName": "Rony Baekeland",
      "photoUrl": "",
      "userId": "01731985152349302060"
     },
     "user_tz": -120
    },
    "outputId": "57cc9d27-9d48-40d2-83aa-b951ed8b58b0"
   },
   "source": [
    "def entropy(column: pd.Series, base=None):\n",
    "    # Bepaal de fracties voor alle kolom waarden v\n",
    "    fractions = column.value_counts(normalize=True, sort=False)\n",
    "    base = 2 if base is None else base\n",
    "    return -(fractions * np.log(fractions) / np.log(base)).sum()\n",
    "\n",
    "\n",
    "# bereken de entropie voor alle kolommen\n",
    "print(playball.apply(entropy))\n",
    "# bereken de entropie voor enkel de Target kolom\n",
    "print(f'\\n==> Entropie voor Play : {entropy(playball.Play).round(2)}')\n",
    "\n",
    "#De formule staat in  de cursus op hoofdstuk  4.1 Entropie"
   ],
   "execution_count": null,
   "outputs": [
    {
     "output_type": "stream",
     "text": [
      "Outlook        1.577406\n",
      "Temperature    1.556657\n",
      "Humidity       1.000000\n",
      "Wind           0.985228\n",
      "Play           0.940286\n",
      "dtype: float64\n",
      "\n",
      "==> Entropie voor Play : 0.94\n"
     ],
     "name": "stdout"
    }
   ]
  },
  {
   "cell_type": "markdown",
   "metadata": {
    "id": "ub2fO0P6WuCU"
   },
   "source": [
    "3. Bereken de gain voor iedere kolom.  Schrijf telkens de formule op."
   ]
  },
  {
   "cell_type": "code",
   "metadata": {
    "colab": {
     "base_uri": "https://localhost:8080/"
    },
    "id": "Pb4r3Qq0WuCV",
    "scrolled": true,
    "executionInfo": {
     "elapsed": 1079,
     "status": "ok",
     "timestamp": 1620390258668,
     "user": {
      "displayName": "Rony Baekeland",
      "photoUrl": "",
      "userId": "01731985152349302060"
     },
     "user_tz": -120
    },
    "outputId": "c72acc69-fa87-4a05-910a-66924f7f8b73"
   },
   "source": [
    "def information_gain(inputData: pd.DataFrame, columnName: str, targetName: str):\n",
    "    # bepaal entropie van parent table\n",
    "    entropy_parent = entropy(inputData[targetName])\n",
    "    child_entropies = []\n",
    "    child_weights = []\n",
    "    # compute entropies of child tables\n",
    "    for (label, fraction) in inputData[columnName].value_counts().items():\n",
    "        child_df = inputData[inputData[columnName] == label]\n",
    "        child_entropies.append(entropy(child_df[targetName]))\n",
    "        child_weights.append(int(fraction))\n",
    "    # calculate the difference between parent entropy and weighted child entropies\n",
    "    return entropy_parent - np.average(child_entropies, weights=child_weights)\n",
    "\n",
    "print(\"Initiële Information Gain voor alle kolommen\")\n",
    "\n",
    "targetVariable = 'Play'\n",
    "inf_gain = {}\n",
    "for label in playball.columns:\n",
    "    if (targetVariable != label):\n",
    "        inf_gain[label] = information_gain(playball, label, targetVariable)\n",
    "        print(f'{label: <12} {inf_gain[label]}')"
   ],
   "execution_count": null,
   "outputs": [
    {
     "output_type": "stream",
     "text": [
      "Initiële Information Gain voor alle kolommen\n",
      "Outlook      0.24674981977443888\n",
      "Temperature  0.029222565658954647\n",
      "Humidity     0.15183550136234147\n",
      "Wind         0.04812703040826927\n"
     ],
     "name": "stdout"
    }
   ]
  },
  {
   "cell_type": "markdown",
   "metadata": {
    "id": "vTKXKfGqWuCV"
   },
   "source": [
    "4. Welke kolom kies je voor de eerste node?"
   ]
  },
  {
   "cell_type": "code",
   "metadata": {
    "colab": {
     "base_uri": "https://localhost:8080/"
    },
    "id": "ia0MR0lJWuCW",
    "executionInfo": {
     "elapsed": 1422,
     "status": "ok",
     "timestamp": 1620390262101,
     "user": {
      "displayName": "Rony Baekeland",
      "photoUrl": "",
      "userId": "01731985152349302060"
     },
     "user_tz": -120
    },
    "outputId": "0e90669f-fa40-4042-db98-a532aa34a629"
   },
   "source": [
    "#We kiezen de kolom met hoogste information gain\n",
    "max_inf_gain = max(inf_gain, key=inf_gain.get)\n",
    "\n",
    "for label in inf_gain:\n",
    "    x = '→ ' if (label == max_inf_gain) else ''\n",
    "    print(f'{x}{label: <12} {inf_gain[label]}')\n",
    "\n",
    "print(f'\\nDe kolom met hoogste information gain → {max_inf_gain}')"
   ],
   "execution_count": null,
   "outputs": [
    {
     "output_type": "stream",
     "text": [
      "→ Outlook      0.24674981977443888\n",
      "Temperature  0.029222565658954647\n",
      "Humidity     0.15183550136234147\n",
      "Wind         0.04812703040826927\n",
      "\n",
      "De kolom met hoogste information gain → Outlook\n"
     ],
     "name": "stdout"
    }
   ]
  },
  {
   "cell_type": "markdown",
   "metadata": {
    "id": "ZkV7o6TiWuCW"
   },
   "source": [
    "5. Bepaal handmatig de rest van de boomstructuur en bepaal voor iedere node de entropie van de overeenkomstige tabel"
   ]
  },
  {
   "cell_type": "code",
   "metadata": {
    "colab": {
     "base_uri": "https://localhost:8080/"
    },
    "id": "53Dn3J56WuCX",
    "executionInfo": {
     "elapsed": 740,
     "status": "ok",
     "timestamp": 1620376243489,
     "user": {
      "displayName": "Rony Baekeland",
      "photoUrl": "",
      "userId": "01731985152349302060"
     },
     "user_tz": -120
    },
    "outputId": "3503ff55-bd77-43e7-c5fa-707789b02746"
   },
   "source": [
    "## see c. : outlook highest information gain\n",
    "print('Iteratie 1 → Outlook')\n",
    "playball.Outlook.values\n",
    "Outlook_Overcast = playball.loc[playball.Outlook == 'Overcast']\n",
    "print(Outlook_Overcast)\n",
    "Outlook_Sunny = playball.loc[playball.Outlook == 'Sunny']\n",
    "print(Outlook_Sunny)\n",
    "Outlook_Rain = playball.loc[playball.Outlook == 'Rain']\n",
    "\n",
    "print('\\n Iteratie 2.1 → Outlook=Overcast')\n",
    "for label in Outlook_Overcast.columns:\n",
    "    print('  {}: {}'.format(label, information_gain(Outlook_Overcast, label, targetVariable)))\n",
    "## => Outlook == Overcast => YES\n",
    "print(' Iteratie 2.1 → DONE')\n",
    "\n",
    "print('\\n Iteratie 2.2 → Outlook=Sunny')\n",
    "for label in Outlook_Sunny.columns:\n",
    "    print('  {}: {}'.format(label, information_gain(Outlook_Sunny, label, targetVariable)))\n",
    "\n",
    "## => Outlook == Sunny => split on Humidity\n",
    "Outlook_Sunny.Humidity.values\n",
    "Outlook_Sunny_humidity_High = Outlook_Sunny.loc[Outlook_Sunny.Humidity == 'High']\n",
    "Outlook_Sunny_humidity_Normal = Outlook_Sunny.loc[Outlook_Sunny.Humidity == 'Normal']\n",
    "\n",
    "print('\\n  Iteratie 2.2.1 → Outlook=Sunny,Humidity=High')\n",
    "for label in Outlook_Sunny_humidity_High.columns:\n",
    "    print('   {}: {}'.format(label, information_gain(Outlook_Sunny_humidity_High, label, targetVariable)))\n",
    "## => Outlook == Sunny => Humidity == High => NO\n",
    "print('  Iteratie 2.2.1 → DONE')\n",
    "\n",
    "print('\\n  Iteratie 2.2.2 → Outlook=Sunny,Humidity=Normal')\n",
    "for label in Outlook_Sunny_humidity_Normal.columns:\n",
    "    print('   {}: {}'.format(label, information_gain(Outlook_Sunny_humidity_Normal, label, targetVariable)))\n",
    "## => Outlook == Sunny => Humidity == Normal => YES\n",
    "print('  Iteratie 2.2.2 → DONE')\n",
    "print(' Iteratie 2.2 → DONE')\n",
    "\n",
    "print('\\n Iteratie 3.1 → Outlook=Rain')\n",
    "for label in Outlook_Rain.columns:\n",
    "    print('  {}: {}'.format(label, information_gain(Outlook_Rain, label, targetVariable)))\n",
    "\n",
    "## => Outlook = Rain => split on Wind\n",
    "Outlook_Rain.Wind.values\n",
    "Outlook_Rain_wind_Weak = Outlook_Rain.loc[Outlook_Rain.Wind == 'Weak']\n",
    "Outlook_Rain_wind_Strong = Outlook_Rain.loc[Outlook_Rain.Wind == 'Strong']\n",
    "\n",
    "print('\\n  Iteratie 3.1.1 → Outlook=Rain,Wind=Weak')\n",
    "for label in Outlook_Rain_wind_Weak.columns:\n",
    "    print('   {}: {}'.format(label, information_gain(Outlook_Rain_wind_Weak, label, targetVariable)))\n",
    "## => Outlook == Rain => Wind == Weak => YES\n",
    "print('  Iteratie 3.1.1 → DONE')\n",
    "\n",
    "print('\\n  Iteratie 3.1.2 → Outlook=Rain,Wind=Strong')\n",
    "for label in Outlook_Rain_wind_Strong.columns:\n",
    "    print('   {}: {}'.format(label, information_gain(Outlook_Rain_wind_Strong, label, targetVariable)))\n",
    "## => Outlook == Rain => Wind == Strong => NO\n",
    "print('  Iteratie 3.1.2 → DONE')\n",
    "print(' Iteratie 3 → DONE')\n",
    "print('ALL DONE')"
   ],
   "execution_count": null,
   "outputs": [
    {
     "output_type": "stream",
     "text": [
      "Iteratie 1 → Outlook\n",
      "     Outlook Temperature Humidity    Wind Play\n",
      "2   Overcast         Hot     High    Weak  Yes\n",
      "6   Overcast        Cool   Normal  Strong  Yes\n",
      "11  Overcast        Mild     High  Strong  Yes\n",
      "12  Overcast         Hot   Normal    Weak  Yes\n",
      "   Outlook Temperature Humidity    Wind Play\n",
      "0    Sunny         Hot     High    Weak   No\n",
      "1    Sunny         Hot     High  Strong   No\n",
      "7    Sunny        Mild     High    Weak   No\n",
      "8    Sunny        Cool   Normal    Weak  Yes\n",
      "10   Sunny        Mild   Normal  Strong  Yes\n",
      "\n",
      " Iteratie 2.1 → Outlook=Overcast\n",
      "  Outlook: -0.0\n",
      "  Temperature: -0.0\n",
      "  Humidity: -0.0\n",
      "  Wind: -0.0\n",
      "  Play: -0.0\n",
      " Iteratie 2.1 → DONE\n",
      "\n",
      " Iteratie 2.2 → Outlook=Sunny\n",
      "  Outlook: 0.0\n",
      "  Temperature: 0.5709505944546688\n",
      "  Humidity: 0.9709505944546688\n",
      "  Wind: 0.019973094021975113\n",
      "  Play: 0.9709505944546688\n",
      "\n",
      "  Iteratie 2.2.1 → Outlook=Sunny,Humidity=High\n",
      "   Outlook: -0.0\n",
      "   Temperature: -0.0\n",
      "   Humidity: -0.0\n",
      "   Wind: -0.0\n",
      "   Play: -0.0\n",
      "  Iteratie 2.2.1 → DONE\n",
      "\n",
      "  Iteratie 2.2.2 → Outlook=Sunny,Humidity=Normal\n",
      "   Outlook: -0.0\n",
      "   Temperature: -0.0\n",
      "   Humidity: -0.0\n",
      "   Wind: -0.0\n",
      "   Play: -0.0\n",
      "  Iteratie 2.2.2 → DONE\n",
      " Iteratie 2.2 → DONE\n",
      "\n",
      " Iteratie 3.1 → Outlook=Rain\n",
      "  Outlook: 0.0\n",
      "  Temperature: 0.019973094021975113\n",
      "  Humidity: 0.019973094021975113\n",
      "  Wind: 0.9709505944546688\n",
      "  Play: 0.9709505944546688\n",
      "\n",
      "  Iteratie 3.1.1 → Outlook=Rain,Wind=Weak\n",
      "   Outlook: -0.0\n",
      "   Temperature: -0.0\n",
      "   Humidity: -0.0\n",
      "   Wind: -0.0\n",
      "   Play: -0.0\n",
      "  Iteratie 3.1.1 → DONE\n",
      "\n",
      "  Iteratie 3.1.2 → Outlook=Rain,Wind=Strong\n",
      "   Outlook: -0.0\n",
      "   Temperature: -0.0\n",
      "   Humidity: -0.0\n",
      "   Wind: -0.0\n",
      "   Play: -0.0\n",
      "  Iteratie 3.1.2 → DONE\n",
      " Iteratie 3 → DONE\n",
      "ALL DONE\n"
     ],
     "name": "stdout"
    }
   ]
  },
  {
   "cell_type": "markdown",
   "metadata": {
    "id": "wkVf52EyWuCZ"
   },
   "source": [
    "6. Maak de boomstructuur ook eens met Python."
   ]
  },
  {
   "cell_type": "code",
   "metadata": {
    "colab": {
     "base_uri": "https://localhost:8080/",
     "height": 317
    },
    "id": "I4HBMB2IWuCa",
    "executionInfo": {
     "elapsed": 579,
     "status": "ok",
     "timestamp": 1620391389968,
     "user": {
      "displayName": "Rony Baekeland",
      "photoUrl": "",
      "userId": "01731985152349302060"
     },
     "user_tz": -120
    },
    "outputId": "06e9ea47-9bd1-4691-9aee-bd7f432b08f5"
   },
   "source": [
    "%%capture --no-display\n",
    "X = playball.drop(columns=['Play']).to_numpy().tolist()\n",
    "y = playball.Play.to_numpy().tolist()\n",
    "feature_names = playball.drop(columns=['Play']).columns\n",
    "\n",
    "model = Id3Estimator()\n",
    "model.fit(X, y)\n",
    "\n",
    "#Meerdere manier om tree te tonen op scherm\n",
    "#Optie 1 : Print als ASCII\n",
    "export_text(model.tree_, feature_names=playball.drop(['Play'], axis=1).columns)\n",
    "\n",
    "\n",
    "#Optie 2 : gebruik GraphViz om model om te zetten naar grafisch object\n",
    "model_tree = export_graphviz(model.tree_, feature_names=playball.drop(columns=['Play']).columns)\n",
    "graph = graphviz.Source(model_tree.dot_tree)\n",
    "graph"
   ],
   "execution_count": null,
   "outputs": [
    {
     "output_type": "execute_result",
     "data": {
      "image/svg+xml": "<?xml version=\"1.0\" encoding=\"UTF-8\" standalone=\"no\"?>\r\n<!DOCTYPE svg PUBLIC \"-//W3C//DTD SVG 1.1//EN\"\r\n \"http://www.w3.org/Graphics/SVG/1.1/DTD/svg11.dtd\">\r\n<!-- Generated by graphviz version 2.47.1 (20210417.1919)\r\n -->\r\n<!-- Title: ID3_Tree Pages: 1 -->\r\n<svg width=\"284pt\" height=\"222pt\"\r\n viewBox=\"0.00 0.00 284.00 222.00\" xmlns=\"http://www.w3.org/2000/svg\" xmlns:xlink=\"http://www.w3.org/1999/xlink\">\r\n<g id=\"graph0\" class=\"graph\" transform=\"scale(1 1) rotate(0) translate(4 218)\">\r\n<title>ID3_Tree</title>\r\n<polygon fill=\"white\" stroke=\"transparent\" points=\"-4,4 -4,-218 280,-218 280,4 -4,4\"/>\r\n<!-- 0 -->\r\n<g id=\"node1\" class=\"node\">\r\n<title>0</title>\r\n<polygon fill=\"lightgrey\" stroke=\"black\" points=\"132,-214 70,-214 70,-178 132,-178 132,-214\"/>\r\n<text text-anchor=\"middle\" x=\"101\" y=\"-192.3\" font-family=\"Times New Roman,serif\" font-size=\"14.00\">Outlook</text>\r\n</g>\r\n<!-- 1 -->\r\n<g id=\"node2\" class=\"node\">\r\n<title>1</title>\r\n<polygon fill=\"lightgrey\" stroke=\"black\" points=\"54,-127 0,-127 0,-89 54,-89 54,-127\"/>\r\n<text text-anchor=\"middle\" x=\"27\" y=\"-111.8\" font-family=\"Times New Roman,serif\" font-size=\"14.00\">Yes</text>\r\n<text text-anchor=\"middle\" x=\"27\" y=\"-96.8\" font-family=\"Times New Roman,serif\" font-size=\"14.00\">(4)</text>\r\n</g>\r\n<!-- 0&#45;&gt;1 -->\r\n<g id=\"edge1\" class=\"edge\">\r\n<title>0&#45;&gt;1</title>\r\n<path fill=\"none\" stroke=\"black\" d=\"M69.91,-180.62C60.88,-175.21 51.67,-168.32 45,-160 39.71,-153.41 35.92,-145.15 33.22,-137.2\"/>\r\n<polygon fill=\"black\" stroke=\"black\" points=\"36.54,-136.08 30.36,-127.47 29.82,-138.05 36.54,-136.08\"/>\r\n<text text-anchor=\"middle\" x=\"70.5\" y=\"-148.8\" font-family=\"Times New Roman,serif\" font-size=\"14.00\">Overcast</text>\r\n</g>\r\n<!-- 2 -->\r\n<g id=\"node3\" class=\"node\">\r\n<title>2</title>\r\n<polygon fill=\"lightgrey\" stroke=\"black\" points=\"127,-126 73,-126 73,-90 127,-90 127,-126\"/>\r\n<text text-anchor=\"middle\" x=\"100\" y=\"-104.3\" font-family=\"Times New Roman,serif\" font-size=\"14.00\">Wind</text>\r\n</g>\r\n<!-- 0&#45;&gt;2 -->\r\n<g id=\"edge2\" class=\"edge\">\r\n<title>0&#45;&gt;2</title>\r\n<path fill=\"none\" stroke=\"black\" d=\"M100.8,-177.6C100.66,-165.75 100.47,-149.82 100.32,-136.29\"/>\r\n<polygon fill=\"black\" stroke=\"black\" points=\"103.81,-136.04 100.2,-126.08 96.82,-136.12 103.81,-136.04\"/>\r\n<text text-anchor=\"middle\" x=\"113\" y=\"-148.8\" font-family=\"Times New Roman,serif\" font-size=\"14.00\">Rain</text>\r\n</g>\r\n<!-- 5 -->\r\n<g id=\"node6\" class=\"node\">\r\n<title>5</title>\r\n<polygon fill=\"lightgrey\" stroke=\"black\" points=\"213,-126 145,-126 145,-90 213,-90 213,-126\"/>\r\n<text text-anchor=\"middle\" x=\"179\" y=\"-104.3\" font-family=\"Times New Roman,serif\" font-size=\"14.00\">Humidity</text>\r\n</g>\r\n<!-- 0&#45;&gt;5 -->\r\n<g id=\"edge5\" class=\"edge\">\r\n<title>0&#45;&gt;5</title>\r\n<path fill=\"none\" stroke=\"black\" d=\"M116.78,-177.6C128.28,-164.92 144,-147.59 156.76,-133.52\"/>\r\n<polygon fill=\"black\" stroke=\"black\" points=\"159.38,-135.84 163.51,-126.08 154.19,-131.14 159.38,-135.84\"/>\r\n<text text-anchor=\"middle\" x=\"162\" y=\"-148.8\" font-family=\"Times New Roman,serif\" font-size=\"14.00\">Sunny</text>\r\n</g>\r\n<!-- 3 -->\r\n<g id=\"node4\" class=\"node\">\r\n<title>3</title>\r\n<polygon fill=\"lightgrey\" stroke=\"black\" points=\"57,-38 3,-38 3,0 57,0 57,-38\"/>\r\n<text text-anchor=\"middle\" x=\"30\" y=\"-22.8\" font-family=\"Times New Roman,serif\" font-size=\"14.00\">No</text>\r\n<text text-anchor=\"middle\" x=\"30\" y=\"-7.8\" font-family=\"Times New Roman,serif\" font-size=\"14.00\">(2)</text>\r\n</g>\r\n<!-- 2&#45;&gt;3 -->\r\n<g id=\"edge3\" class=\"edge\">\r\n<title>2&#45;&gt;3</title>\r\n<path fill=\"none\" stroke=\"black\" d=\"M76.8,-89.68C70.26,-84.15 63.45,-77.71 58,-71 52.23,-63.9 47.04,-55.44 42.74,-47.47\"/>\r\n<polygon fill=\"black\" stroke=\"black\" points=\"45.8,-45.76 38.12,-38.45 39.57,-48.95 45.8,-45.76\"/>\r\n<text text-anchor=\"middle\" x=\"77\" y=\"-59.8\" font-family=\"Times New Roman,serif\" font-size=\"14.00\">Strong</text>\r\n</g>\r\n<!-- 4 -->\r\n<g id=\"node5\" class=\"node\">\r\n<title>4</title>\r\n<polygon fill=\"lightgrey\" stroke=\"black\" points=\"129,-38 75,-38 75,0 129,0 129,-38\"/>\r\n<text text-anchor=\"middle\" x=\"102\" y=\"-22.8\" font-family=\"Times New Roman,serif\" font-size=\"14.00\">Yes</text>\r\n<text text-anchor=\"middle\" x=\"102\" y=\"-7.8\" font-family=\"Times New Roman,serif\" font-size=\"14.00\">(3)</text>\r\n</g>\r\n<!-- 2&#45;&gt;4 -->\r\n<g id=\"edge4\" class=\"edge\">\r\n<title>2&#45;&gt;4</title>\r\n<path fill=\"none\" stroke=\"black\" d=\"M100.4,-89.81C100.67,-78.01 101.03,-62.07 101.35,-48.4\"/>\r\n<polygon fill=\"black\" stroke=\"black\" points=\"104.85,-48.13 101.59,-38.05 97.86,-47.97 104.85,-48.13\"/>\r\n<text text-anchor=\"middle\" x=\"117.5\" y=\"-59.8\" font-family=\"Times New Roman,serif\" font-size=\"14.00\">Weak</text>\r\n</g>\r\n<!-- 6 -->\r\n<g id=\"node7\" class=\"node\">\r\n<title>6</title>\r\n<polygon fill=\"lightgrey\" stroke=\"black\" points=\"204,-38 150,-38 150,0 204,0 204,-38\"/>\r\n<text text-anchor=\"middle\" x=\"177\" y=\"-22.8\" font-family=\"Times New Roman,serif\" font-size=\"14.00\">No</text>\r\n<text text-anchor=\"middle\" x=\"177\" y=\"-7.8\" font-family=\"Times New Roman,serif\" font-size=\"14.00\">(3)</text>\r\n</g>\r\n<!-- 5&#45;&gt;6 -->\r\n<g id=\"edge6\" class=\"edge\">\r\n<title>5&#45;&gt;6</title>\r\n<path fill=\"none\" stroke=\"black\" d=\"M178.6,-89.81C178.33,-78.01 177.97,-62.07 177.65,-48.4\"/>\r\n<polygon fill=\"black\" stroke=\"black\" points=\"181.14,-47.97 177.41,-38.05 174.15,-48.13 181.14,-47.97\"/>\r\n<text text-anchor=\"middle\" x=\"191.5\" y=\"-59.8\" font-family=\"Times New Roman,serif\" font-size=\"14.00\">High</text>\r\n</g>\r\n<!-- 7 -->\r\n<g id=\"node8\" class=\"node\">\r\n<title>7</title>\r\n<polygon fill=\"lightgrey\" stroke=\"black\" points=\"276,-38 222,-38 222,0 276,0 276,-38\"/>\r\n<text text-anchor=\"middle\" x=\"249\" y=\"-22.8\" font-family=\"Times New Roman,serif\" font-size=\"14.00\">Yes</text>\r\n<text text-anchor=\"middle\" x=\"249\" y=\"-7.8\" font-family=\"Times New Roman,serif\" font-size=\"14.00\">(2)</text>\r\n</g>\r\n<!-- 5&#45;&gt;7 -->\r\n<g id=\"edge7\" class=\"edge\">\r\n<title>5&#45;&gt;7</title>\r\n<path fill=\"none\" stroke=\"black\" d=\"M193.45,-89.87C198.42,-83.93 203.99,-77.2 209,-71 215.51,-62.95 222.51,-54.09 228.81,-46.05\"/>\r\n<polygon fill=\"black\" stroke=\"black\" points=\"231.67,-48.08 235.06,-38.04 226.15,-43.77 231.67,-48.08\"/>\r\n<text text-anchor=\"middle\" x=\"241\" y=\"-59.8\" font-family=\"Times New Roman,serif\" font-size=\"14.00\">Normal</text>\r\n</g>\r\n</g>\r\n</svg>\r\n",
      "text/plain": [
       "<graphviz.files.Source at 0x2c54c7c3040>"
      ]
     },
     "metadata": {
      "tags": []
     },
     "execution_count": 13
    }
   ]
  },
  {
   "cell_type": "code",
   "metadata": {
    "colab": {
     "base_uri": "https://localhost:8080/",
     "height": 487
    },
    "id": "v_1cat-oWuCa",
    "executionInfo": {
     "elapsed": 1223,
     "status": "ok",
     "timestamp": 1620287754880,
     "user": {
      "displayName": "Rony Baekeland",
      "photoUrl": "",
      "userId": "01731985152349302060"
     },
     "user_tz": -120
    },
    "outputId": "9716a8e1-0034-481a-e36a-5e234949ca93"
   },
   "source": [
    "#  Nog enkele extra mogelijkheden om boomstructuur te maken via dotfiles en png files\n",
    "import os\n",
    "\n",
    "os.environ[\"PATH\"] += os.pathsep + 'C:/Program Files/Graphviz/bin/'\n",
    "#Optie 3 : gebruik GraphViz om om te zetten naar aparte .dot file\n",
    "#install GraphViz from https://graphviz.org/download/#windows\n",
    "#make sure to add it's bin folder to PATH https://superuser.com/questions/949560/how-do-i-set-system-environment-variables-in-windows-10\n",
    "#model_tree = export_graphviz(model.tree_, 'tree-playball.dot', feature_names=feature_names)\n",
    "\n",
    "#Optie 3.1 : install the 'dotPlugin' in Pycharm : https://plugins.jetbrains.com/plugin/10312-dotplugin\n",
    "#en open het nieuwe bestand in pyCharm\n",
    "\n",
    "#Optie 3.2 : gebruik graphiviz om het nieuwe bestand te tonen\n",
    "graphviz.Source.from_file('tree-playball.dot')\n",
    "\n",
    "#Optie 3.3 : gebruik graphiviz vanaf de commandline om nieuwe bestand naar PNG om te zetten\n",
    "! dot -Tpng tree-playball.dot -o tree-playball.png\n",
    "\n",
    "img = plt.imread('tree-playball.png')\n",
    "plt.figure(figsize=(10, 10))\n",
    "plt.imshow(img)\n",
    "plt.show()"
   ],
   "execution_count": null,
   "outputs": [
    {
     "output_type": "display_data",
     "data": {
      "image/png": "[encoded data removed]",
      "text/plain": [
       "<Figure size 720x720 with 1 Axes>"
      ]
     },
     "metadata": {
      "tags": [],
      "needs_background": "light"
     }
    }
   ]
  },
  {
   "cell_type": "markdown",
   "metadata": {
    "id": "NVACMYp8WuCb"
   },
   "source": [
    "7. Maak nu een voorspelling? Wordt er gespeeld bij volgende weersomstandigheden?\n",
    " * Outlook = Sunny\n",
    " * Temperature = Mild\n",
    " * Humidity = High\n",
    " * Wind = Weak"
   ]
  },
  {
   "cell_type": "code",
   "metadata": {
    "colab": {
     "base_uri": "https://localhost:8080/"
    },
    "id": "gtCIvnGpWuCb",
    "executionInfo": {
     "elapsed": 843,
     "status": "ok",
     "timestamp": 1620376282077,
     "user": {
      "displayName": "Rony Baekeland",
      "photoUrl": "",
      "userId": "01731985152349302060"
     },
     "user_tz": -120
    },
    "outputId": "10293057-f6bc-4643-e019-aa50ad226c23"
   },
   "source": [
    "Z = np.array([['Sunny', 'Mild', 'High', 'Weak']])\n",
    "model.predict(Z)\n",
    "## => NO"
   ],
   "execution_count": null,
   "outputs": [
    {
     "output_type": "stream",
     "text": [
      "c:\\users\\baekelr\\datascience1\\datascience\\lib\\site-packages\\sklearn\\utils\\validation.py:72: FutureWarning: Beginning in version 0.22, arrays of bytes/strings will be converted to decimal numbers if dtype='numeric'. It is recommended that you convert the array to a float dtype before using it in scikit-learn, for example by using your_array = your_array.astype(np.float64).\n",
      "  return f(**kwargs)\n"
     ],
     "name": "stderr"
    },
    {
     "output_type": "execute_result",
     "data": {
      "text/plain": [
       "array(['No'], dtype='<U3')"
      ]
     },
     "metadata": {
      "tags": []
     },
     "execution_count": 14
    }
   ]
  }
 ]
}
