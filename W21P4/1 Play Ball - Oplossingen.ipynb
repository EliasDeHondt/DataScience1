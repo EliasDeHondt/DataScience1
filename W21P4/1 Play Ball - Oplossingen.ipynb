{
 "nbformat": 4,
 "nbformat_minor": 0,
 "metadata": {
  "colab": {
   "name": "1 - Play ball - oplossingen.ipynb",
   "provenance": []
  },
  "kernelspec": {
   "display_name": "Python 3",
   "language": "python",
   "name": "python3"
  },
  "language_info": {
   "codemirror_mode": {
    "name": "ipython",
    "version": 3
   },
   "file_extension": ".py",
   "mimetype": "text/x-python",
   "name": "python",
   "nbconvert_exporter": "python",
   "pygments_lexer": "ipython3",
   "version": "3.8.7"
  }
 },
 "cells": [
  {
   "cell_type": "markdown",
   "metadata": {
    "collapsed": true,
    "id": "bGIaIXZ5WuCR"
   },
   "source": [
    "# Play Ball"
   ]
  },
  {
   "cell_type": "markdown",
   "metadata": {
    "id": "Lvk119oIWuCR"
   },
   "source": [
    "1. Lees het bestand playball.csv.\n",
    "Deze tabel laat toe om te beslissen of er een wedstrijd gespeeld zal worden, afhankelijk van de weersomstandigheden.\n",
    "Deze dataset is al omgezet naar nominale meetwaarden."
   ]
  },
  {
   "cell_type": "code",
   "metadata": {
    "colab": {
     "base_uri": "https://localhost:8080/",
     "height": 488
    },
    "id": "LAGjXUj3WuCS",
    "pycharm": {
     "is_executing": true
    },
    "executionInfo": {
     "elapsed": 613,
     "status": "ok",
     "timestamp": 1620389110634,
     "user": {
      "displayName": "Rony Baekeland",
      "photoUrl": "",
      "userId": "01731985152349302060"
     },
     "user_tz": -120
    },
    "outputId": "7a6843b2-b8da-4014-aa0a-d60df85cd0e2",
    "ExecuteTime": {
     "end_time": "2023-06-12T17:42:20.811611Z",
     "start_time": "2023-06-12T17:42:20.710573100Z"
    }
   },
   "source": [
    "import pandas as pd\n",
    "\n",
    "playball = pd.read_csv('data/playBall.csv')\n",
    "playball"
   ],
   "execution_count": 3,
   "outputs": [
    {
     "data": {
      "text/plain": "     Outlook Temperature Humidity    Wind Play\n0      Sunny         Hot     High    Weak   No\n1      Sunny         Hot     High  Strong   No\n2   Overcast         Hot     High    Weak  Yes\n3       Rain        Mild     High    Weak  Yes\n4       Rain        Cool   Normal    Weak  Yes\n5       Rain        Cool   Normal  Strong   No\n6   Overcast        Cool   Normal  Strong  Yes\n7      Sunny        Mild     High    Weak   No\n8      Sunny        Cool   Normal    Weak  Yes\n9       Rain        Mild   Normal    Weak  Yes\n10     Sunny        Mild   Normal  Strong  Yes\n11  Overcast        Mild     High  Strong  Yes\n12  Overcast         Hot   Normal    Weak  Yes\n13      Rain        Mild     High  Strong   No",
      "text/html": "<div>\n<style scoped>\n    .dataframe tbody tr th:only-of-type {\n        vertical-align: middle;\n    }\n\n    .dataframe tbody tr th {\n        vertical-align: top;\n    }\n\n    .dataframe thead th {\n        text-align: right;\n    }\n</style>\n<table border=\"1\" class=\"dataframe\">\n  <thead>\n    <tr style=\"text-align: right;\">\n      <th></th>\n      <th>Outlook</th>\n      <th>Temperature</th>\n      <th>Humidity</th>\n      <th>Wind</th>\n      <th>Play</th>\n    </tr>\n  </thead>\n  <tbody>\n    <tr>\n      <th>0</th>\n      <td>Sunny</td>\n      <td>Hot</td>\n      <td>High</td>\n      <td>Weak</td>\n      <td>No</td>\n    </tr>\n    <tr>\n      <th>1</th>\n      <td>Sunny</td>\n      <td>Hot</td>\n      <td>High</td>\n      <td>Strong</td>\n      <td>No</td>\n    </tr>\n    <tr>\n      <th>2</th>\n      <td>Overcast</td>\n      <td>Hot</td>\n      <td>High</td>\n      <td>Weak</td>\n      <td>Yes</td>\n    </tr>\n    <tr>\n      <th>3</th>\n      <td>Rain</td>\n      <td>Mild</td>\n      <td>High</td>\n      <td>Weak</td>\n      <td>Yes</td>\n    </tr>\n    <tr>\n      <th>4</th>\n      <td>Rain</td>\n      <td>Cool</td>\n      <td>Normal</td>\n      <td>Weak</td>\n      <td>Yes</td>\n    </tr>\n    <tr>\n      <th>5</th>\n      <td>Rain</td>\n      <td>Cool</td>\n      <td>Normal</td>\n      <td>Strong</td>\n      <td>No</td>\n    </tr>\n    <tr>\n      <th>6</th>\n      <td>Overcast</td>\n      <td>Cool</td>\n      <td>Normal</td>\n      <td>Strong</td>\n      <td>Yes</td>\n    </tr>\n    <tr>\n      <th>7</th>\n      <td>Sunny</td>\n      <td>Mild</td>\n      <td>High</td>\n      <td>Weak</td>\n      <td>No</td>\n    </tr>\n    <tr>\n      <th>8</th>\n      <td>Sunny</td>\n      <td>Cool</td>\n      <td>Normal</td>\n      <td>Weak</td>\n      <td>Yes</td>\n    </tr>\n    <tr>\n      <th>9</th>\n      <td>Rain</td>\n      <td>Mild</td>\n      <td>Normal</td>\n      <td>Weak</td>\n      <td>Yes</td>\n    </tr>\n    <tr>\n      <th>10</th>\n      <td>Sunny</td>\n      <td>Mild</td>\n      <td>Normal</td>\n      <td>Strong</td>\n      <td>Yes</td>\n    </tr>\n    <tr>\n      <th>11</th>\n      <td>Overcast</td>\n      <td>Mild</td>\n      <td>High</td>\n      <td>Strong</td>\n      <td>Yes</td>\n    </tr>\n    <tr>\n      <th>12</th>\n      <td>Overcast</td>\n      <td>Hot</td>\n      <td>Normal</td>\n      <td>Weak</td>\n      <td>Yes</td>\n    </tr>\n    <tr>\n      <th>13</th>\n      <td>Rain</td>\n      <td>Mild</td>\n      <td>High</td>\n      <td>Strong</td>\n      <td>No</td>\n    </tr>\n  </tbody>\n</table>\n</div>"
     },
     "execution_count": 3,
     "metadata": {},
     "output_type": "execute_result"
    }
   ]
  },
  {
   "cell_type": "markdown",
   "metadata": {
    "id": "0PUCYSyYWuCT"
   },
   "source": [
    "2. Bereken de entropie van deze tabel.  Schrijf ook de formule op.\n"
   ]
  },
  {
   "cell_type": "code",
   "metadata": {
    "colab": {
     "base_uri": "https://localhost:8080/"
    },
    "id": "oEtlTG7dWuCU",
    "executionInfo": {
     "elapsed": 594,
     "status": "ok",
     "timestamp": 1620390254195,
     "user": {
      "displayName": "Rony Baekeland",
      "photoUrl": "",
      "userId": "01731985152349302060"
     },
     "user_tz": -120
    },
    "outputId": "57cc9d27-9d48-40d2-83aa-b951ed8b58b0",
    "ExecuteTime": {
     "end_time": "2023-06-12T17:42:20.812635600Z",
     "start_time": "2023-06-12T17:42:20.744279700Z"
    }
   },
   "source": [
    "import numpy as np\n",
    "\n",
    "def entropy(column: pd.Series, base=None):\n",
    "    # Bepaal de fracties voor alle kolom waarden v\n",
    "    fractions = column.value_counts(normalize=True, sort=False)\n",
    "    base = 2 if base is None else base\n",
    "    return -(fractions * np.log(fractions) / np.log(base)).sum()\n",
    "\n",
    "\n",
    "# bereken de entropie voor alle kolommen\n",
    "print(playball.apply(entropy))\n",
    "# bereken de entropie voor enkel de Target kolom\n",
    "print(f'\\n==> Entropie voor Play : {entropy(playball.Play).round(2)}')\n",
    "\n",
    "#De formule staat in  de cursus op hoofdstuk  4.1 Entropie"
   ],
   "execution_count": 4,
   "outputs": [
    {
     "name": "stdout",
     "output_type": "stream",
     "text": [
      "Outlook        1.577406\n",
      "Temperature    1.556657\n",
      "Humidity       1.000000\n",
      "Wind           0.985228\n",
      "Play           0.940286\n",
      "dtype: float64\n",
      "\n",
      "==> Entropie voor Play : 0.94\n"
     ]
    }
   ]
  },
  {
   "cell_type": "markdown",
   "metadata": {
    "id": "ub2fO0P6WuCU"
   },
   "source": [
    "3. Bereken de gain voor iedere kolom.  Schrijf telkens de formule op."
   ]
  },
  {
   "cell_type": "code",
   "metadata": {
    "colab": {
     "base_uri": "https://localhost:8080/"
    },
    "id": "Pb4r3Qq0WuCV",
    "scrolled": true,
    "executionInfo": {
     "elapsed": 1079,
     "status": "ok",
     "timestamp": 1620390258668,
     "user": {
      "displayName": "Rony Baekeland",
      "photoUrl": "",
      "userId": "01731985152349302060"
     },
     "user_tz": -120
    },
    "outputId": "c72acc69-fa87-4a05-910a-66924f7f8b73",
    "ExecuteTime": {
     "end_time": "2023-06-12T17:42:20.812635600Z",
     "start_time": "2023-06-12T17:42:20.764461900Z"
    }
   },
   "source": [
    "def information_gain(inputData: pd.DataFrame, columnName: str, targetName: str):\n",
    "    # bepaal entropie van parent table\n",
    "    entropy_parent = entropy(inputData[targetName])\n",
    "    child_entropies = []\n",
    "    child_weights = []\n",
    "    # compute entropies of child tables\n",
    "    for (label, fraction) in inputData[columnName].value_counts().items():\n",
    "        child_df = inputData[inputData[columnName] == label]\n",
    "        child_entropies.append(entropy(child_df[targetName]))\n",
    "        child_weights.append(int(fraction))\n",
    "    # calculate the difference between parent entropy and weighted child entropies\n",
    "    return entropy_parent - np.average(child_entropies, weights=child_weights)\n",
    "\n",
    "print(\"Initiële Information Gain voor alle kolommen\")\n",
    "\n",
    "targetVariable = 'Play'\n",
    "inf_gain = {}\n",
    "for label in playball.columns:\n",
    "    if (targetVariable != label):\n",
    "        inf_gain[label] = information_gain(playball, label, targetVariable)\n",
    "        print(f'{label: <12} {inf_gain[label]}')"
   ],
   "execution_count": 5,
   "outputs": [
    {
     "name": "stdout",
     "output_type": "stream",
     "text": [
      "Initiële Information Gain voor alle kolommen\n",
      "Outlook      0.24674981977443888\n",
      "Temperature  0.029222565658954647\n",
      "Humidity     0.15183550136234147\n",
      "Wind         0.04812703040826927\n"
     ]
    }
   ]
  },
  {
   "cell_type": "markdown",
   "metadata": {
    "id": "vTKXKfGqWuCV"
   },
   "source": [
    "4. Welke kolom kies je voor de eerste node?"
   ]
  },
  {
   "cell_type": "code",
   "metadata": {
    "colab": {
     "base_uri": "https://localhost:8080/"
    },
    "id": "ia0MR0lJWuCW",
    "executionInfo": {
     "elapsed": 1422,
     "status": "ok",
     "timestamp": 1620390262101,
     "user": {
      "displayName": "Rony Baekeland",
      "photoUrl": "",
      "userId": "01731985152349302060"
     },
     "user_tz": -120
    },
    "outputId": "0e90669f-fa40-4042-db98-a532aa34a629",
    "ExecuteTime": {
     "end_time": "2023-06-12T17:42:20.812635600Z",
     "start_time": "2023-06-12T17:42:20.791665200Z"
    }
   },
   "source": [
    "#We kiezen de kolom met hoogste information gain\n",
    "max_inf_gain = max(inf_gain, key=inf_gain.get)\n",
    "\n",
    "for label in inf_gain:\n",
    "    x = '→ ' if (label == max_inf_gain) else ''\n",
    "    print(f'{x}{label: <12} {inf_gain[label]}')\n",
    "\n",
    "print(f'\\nDe kolom met hoogste information gain → {max_inf_gain}')"
   ],
   "execution_count": 6,
   "outputs": [
    {
     "name": "stdout",
     "output_type": "stream",
     "text": [
      "→ Outlook      0.24674981977443888\n",
      "Temperature  0.029222565658954647\n",
      "Humidity     0.15183550136234147\n",
      "Wind         0.04812703040826927\n",
      "\n",
      "De kolom met hoogste information gain → Outlook\n"
     ]
    }
   ]
  },
  {
   "cell_type": "markdown",
   "metadata": {
    "id": "ZkV7o6TiWuCW"
   },
   "source": [
    "5. Bepaal handmatig de rest van de boomstructuur en bepaal voor iedere node de entropie van de overeenkomstige tabel"
   ]
  },
  {
   "cell_type": "code",
   "metadata": {
    "colab": {
     "base_uri": "https://localhost:8080/"
    },
    "id": "53Dn3J56WuCX",
    "executionInfo": {
     "elapsed": 740,
     "status": "ok",
     "timestamp": 1620376243489,
     "user": {
      "displayName": "Rony Baekeland",
      "photoUrl": "",
      "userId": "01731985152349302060"
     },
     "user_tz": -120
    },
    "outputId": "3503ff55-bd77-43e7-c5fa-707789b02746",
    "ExecuteTime": {
     "end_time": "2023-06-12T17:42:36.142260700Z",
     "start_time": "2023-06-12T17:42:36.090464600Z"
    }
   },
   "source": [
    "## see c. : outlook highest information gain\n",
    "print('Iteratie 1 → Outlook')\n",
    "playball.Outlook.values\n",
    "Outlook_Overcast = playball.loc[playball.Outlook == 'Overcast']\n",
    "print(Outlook_Overcast)\n",
    "Outlook_Sunny = playball.loc[playball.Outlook == 'Sunny']\n",
    "print(Outlook_Sunny)\n",
    "Outlook_Rain = playball.loc[playball.Outlook == 'Rain']\n",
    "\n",
    "print('\\n Iteratie 2.1 → Outlook=Overcast')\n",
    "for label in Outlook_Overcast.columns:\n",
    "    print('  {}: {}'.format(label, information_gain(Outlook_Overcast, label, targetVariable)))\n",
    "## => Outlook == Overcast => YES\n",
    "print(' Iteratie 2.1 → DONE')\n",
    "\n",
    "print('\\n Iteratie 2.2 → Outlook=Sunny')\n",
    "for label in Outlook_Sunny.columns:\n",
    "    print('  {}: {}'.format(label, information_gain(Outlook_Sunny, label, targetVariable)))\n",
    "\n",
    "## => Outlook == Sunny => split on Humidity\n",
    "Outlook_Sunny.Humidity.values\n",
    "Outlook_Sunny_humidity_High = Outlook_Sunny.loc[Outlook_Sunny.Humidity == 'High']\n",
    "Outlook_Sunny_humidity_Normal = Outlook_Sunny.loc[Outlook_Sunny.Humidity == 'Normal']\n",
    "\n",
    "print('\\n  Iteratie 2.2.1 → Outlook=Sunny,Humidity=High')\n",
    "for label in Outlook_Sunny_humidity_High.columns:\n",
    "    print('   {}: {}'.format(label, information_gain(Outlook_Sunny_humidity_High, label, targetVariable)))\n",
    "## => Outlook == Sunny => Humidity == High => NO\n",
    "print('  Iteratie 2.2.1 → DONE')\n",
    "\n",
    "print('\\n  Iteratie 2.2.2 → Outlook=Sunny,Humidity=Normal')\n",
    "for label in Outlook_Sunny_humidity_Normal.columns:\n",
    "    print('   {}: {}'.format(label, information_gain(Outlook_Sunny_humidity_Normal, label, targetVariable)))\n",
    "## => Outlook == Sunny => Humidity == Normal => YES\n",
    "print('  Iteratie 2.2.2 → DONE')\n",
    "print(' Iteratie 2.2 → DONE')\n",
    "\n",
    "print('\\n Iteratie 3.1 → Outlook=Rain')\n",
    "for label in Outlook_Rain.columns:\n",
    "    print('  {}: {}'.format(label, information_gain(Outlook_Rain, label, targetVariable)))\n",
    "\n",
    "## => Outlook = Rain => split on Wind\n",
    "Outlook_Rain.Wind.values\n",
    "Outlook_Rain_wind_Weak = Outlook_Rain.loc[Outlook_Rain.Wind == 'Weak']\n",
    "Outlook_Rain_wind_Strong = Outlook_Rain.loc[Outlook_Rain.Wind == 'Strong']\n",
    "\n",
    "print('\\n  Iteratie 3.1.1 → Outlook=Rain,Wind=Weak')\n",
    "for label in Outlook_Rain_wind_Weak.columns:\n",
    "    print('   {}: {}'.format(label, information_gain(Outlook_Rain_wind_Weak, label, targetVariable)))\n",
    "## => Outlook == Rain => Wind == Weak => YES\n",
    "print('  Iteratie 3.1.1 → DONE')\n",
    "\n",
    "print('\\n  Iteratie 3.1.2 → Outlook=Rain,Wind=Strong')\n",
    "for label in Outlook_Rain_wind_Strong.columns:\n",
    "    print('   {}: {}'.format(label, information_gain(Outlook_Rain_wind_Strong, label, targetVariable)))\n",
    "## => Outlook == Rain => Wind == Strong => NO\n",
    "print('  Iteratie 3.1.2 → DONE')\n",
    "print(' Iteratie 3 → DONE')\n",
    "print('ALL DONE')"
   ],
   "execution_count": 11,
   "outputs": [
    {
     "name": "stdout",
     "output_type": "stream",
     "text": [
      "Iteratie 1 → Outlook\n",
      "     Outlook Temperature Humidity    Wind Play\n",
      "2   Overcast         Hot     High    Weak  Yes\n",
      "6   Overcast        Cool   Normal  Strong  Yes\n",
      "11  Overcast        Mild     High  Strong  Yes\n",
      "12  Overcast         Hot   Normal    Weak  Yes\n",
      "   Outlook Temperature Humidity    Wind Play\n",
      "0    Sunny         Hot     High    Weak   No\n",
      "1    Sunny         Hot     High  Strong   No\n",
      "7    Sunny        Mild     High    Weak   No\n",
      "8    Sunny        Cool   Normal    Weak  Yes\n",
      "10   Sunny        Mild   Normal  Strong  Yes\n",
      "\n",
      " Iteratie 2.1 → Outlook=Overcast\n",
      "  Outlook: -0.0\n",
      "  Temperature: -0.0\n",
      "  Humidity: -0.0\n",
      "  Wind: -0.0\n",
      "  Play: -0.0\n",
      " Iteratie 2.1 → DONE\n",
      "\n",
      " Iteratie 2.2 → Outlook=Sunny\n",
      "  Outlook: 0.0\n",
      "  Temperature: 0.5709505944546688\n",
      "  Humidity: 0.9709505944546688\n",
      "  Wind: 0.019973094021975113\n",
      "  Play: 0.9709505944546688\n",
      "\n",
      "  Iteratie 2.2.1 → Outlook=Sunny,Humidity=High\n",
      "   Outlook: -0.0\n",
      "   Temperature: -0.0\n",
      "   Humidity: -0.0\n",
      "   Wind: -0.0\n",
      "   Play: -0.0\n",
      "  Iteratie 2.2.1 → DONE\n",
      "\n",
      "  Iteratie 2.2.2 → Outlook=Sunny,Humidity=Normal\n",
      "   Outlook: -0.0\n",
      "   Temperature: -0.0\n",
      "   Humidity: -0.0\n",
      "   Wind: -0.0\n",
      "   Play: -0.0\n",
      "  Iteratie 2.2.2 → DONE\n",
      " Iteratie 2.2 → DONE\n",
      "\n",
      " Iteratie 3.1 → Outlook=Rain\n",
      "  Outlook: 0.0\n",
      "  Temperature: 0.019973094021975113\n",
      "  Humidity: 0.019973094021975113\n",
      "  Wind: 0.9709505944546688\n",
      "  Play: 0.9709505944546688\n",
      "\n",
      "  Iteratie 3.1.1 → Outlook=Rain,Wind=Weak\n",
      "   Outlook: -0.0\n",
      "   Temperature: -0.0\n",
      "   Humidity: -0.0\n",
      "   Wind: -0.0\n",
      "   Play: -0.0\n",
      "  Iteratie 3.1.1 → DONE\n",
      "\n",
      "  Iteratie 3.1.2 → Outlook=Rain,Wind=Strong\n",
      "   Outlook: -0.0\n",
      "   Temperature: -0.0\n",
      "   Humidity: -0.0\n",
      "   Wind: -0.0\n",
      "   Play: -0.0\n",
      "  Iteratie 3.1.2 → DONE\n",
      " Iteratie 3 → DONE\n",
      "ALL DONE\n"
     ]
    }
   ]
  },
  {
   "cell_type": "markdown",
   "metadata": {
    "id": "wkVf52EyWuCZ"
   },
   "source": [
    "6. Maak de boomstructuur ook eens met Python."
   ]
  },
  {
   "cell_type": "code",
   "metadata": {
    "colab": {
     "base_uri": "https://localhost:8080/",
     "height": 317
    },
    "id": "I4HBMB2IWuCa",
    "executionInfo": {
     "elapsed": 579,
     "status": "ok",
     "timestamp": 1620391389968,
     "user": {
      "displayName": "Rony Baekeland",
      "photoUrl": "",
      "userId": "01731985152349302060"
     },
     "user_tz": -120
    },
    "outputId": "06e9ea47-9bd1-4691-9aee-bd7f432b08f5",
    "ExecuteTime": {
     "end_time": "2023-06-12T17:42:38.610596500Z",
     "start_time": "2023-06-12T17:42:38.597823400Z"
    }
   },
   "source": [
    "from id3 import Id3Estimator, export_graphviz, export_text\n",
    "import graphviz\n",
    "%%capture --no-display\n",
    "X = playball.drop(columns=['Play']).to_numpy().tolist()\n",
    "y = playball.Play.to_numpy().tolist()\n",
    "feature_names = playball.drop(columns=['Play']).columns\n",
    "\n",
    "model = Id3Estimator()\n",
    "model.fit(X, y)\n",
    "\n",
    "#Meerdere manier om tree te tonen op scherm\n",
    "#Optie 1 : Print als ASCII\n",
    "export_text(model.tree_, feature_names=playball.drop(['Play'], axis=1).columns)\n",
    "\n",
    "\n",
    "#Optie 2 : gebruik GraphViz om model om te zetten naar grafisch object\n",
    "model_tree = export_graphviz(model.tree_, feature_names=playball.drop(columns=['Play']).columns)\n",
    "graph = graphviz.Source(model_tree.dot_tree)\n",
    "graph"
   ],
   "execution_count": 12,
   "outputs": [
    {
     "name": "stderr",
     "output_type": "stream",
     "text": [
      "UsageError: Line magic function `%%capture` not found.\n"
     ]
    }
   ]
  },
  {
   "cell_type": "code",
   "metadata": {
    "colab": {
     "base_uri": "https://localhost:8080/",
     "height": 487
    },
    "id": "v_1cat-oWuCa",
    "executionInfo": {
     "elapsed": 1223,
     "status": "ok",
     "timestamp": 1620287754880,
     "user": {
      "displayName": "Rony Baekeland",
      "photoUrl": "",
      "userId": "01731985152349302060"
     },
     "user_tz": -120
    },
    "outputId": "9716a8e1-0034-481a-e36a-5e234949ca93",
    "ExecuteTime": {
     "end_time": "2023-06-12T17:42:40.114689200Z",
     "start_time": "2023-06-12T17:42:40.079488900Z"
    }
   },
   "source": [
    "from pygments.lexers import graphviz\n",
    "from matplotlib import pyplot as plt\n",
    "#  Nog enkele extra mogelijkheden om boomstructuur te maken via dotfiles en png files\n",
    "import os\n",
    "\n",
    "os.environ[\"PATH\"] += os.pathsep + 'C:/Program Files/Graphviz/bin/'\n",
    "#Optie 3 : gebruik GraphViz om om te zetten naar aparte .dot file\n",
    "#install GraphViz from https://graphviz.org/download/#windows\n",
    "#make sure to add it's bin folder to PATH https://superuser.com/questions/949560/how-do-i-set-system-environment-variables-in-windows-10\n",
    "#model_tree = export_graphviz(model.tree_, 'tree-playball.dot', feature_names=feature_names)\n",
    "\n",
    "#Optie 3.1 : install the 'dotPlugin' in Pycharm : https://plugins.jetbrains.com/plugin/10312-dotplugin\n",
    "#en open het nieuwe bestand in pyCharm\n",
    "\n",
    "#Optie 3.2 : gebruik graphiviz om het nieuwe bestand te tonen\n",
    "graphviz.Source.from_file('tree-playball.dot')\n",
    "\n",
    "#Optie 3.3 : gebruik graphiviz vanaf de commandline om nieuwe bestand naar PNG om te zetten\n",
    "! dot -Tpng tree-playball.dot -o tree-playball.png\n",
    "\n",
    "img = plt.imread('tree-playball.png')\n",
    "plt.figure(figsize=(10, 10))\n",
    "plt.imshow(img)\n",
    "plt.show()"
   ],
   "execution_count": 13,
   "outputs": [
    {
     "ename": "AttributeError",
     "evalue": "module 'pygments.lexers.graphviz' has no attribute 'Source'",
     "output_type": "error",
     "traceback": [
      "\u001B[1;31m---------------------------------------------------------------------------\u001B[0m",
      "\u001B[1;31mAttributeError\u001B[0m                            Traceback (most recent call last)",
      "Cell \u001B[1;32mIn[13], line 16\u001B[0m\n\u001B[0;32m      6\u001B[0m os\u001B[38;5;241m.\u001B[39menviron[\u001B[38;5;124m\"\u001B[39m\u001B[38;5;124mPATH\u001B[39m\u001B[38;5;124m\"\u001B[39m] \u001B[38;5;241m+\u001B[39m\u001B[38;5;241m=\u001B[39m os\u001B[38;5;241m.\u001B[39mpathsep \u001B[38;5;241m+\u001B[39m \u001B[38;5;124m'\u001B[39m\u001B[38;5;124mC:/Program Files/Graphviz/bin/\u001B[39m\u001B[38;5;124m'\u001B[39m\n\u001B[0;32m      7\u001B[0m \u001B[38;5;66;03m#Optie 3 : gebruik GraphViz om om te zetten naar aparte .dot file\u001B[39;00m\n\u001B[0;32m      8\u001B[0m \u001B[38;5;66;03m#install GraphViz from https://graphviz.org/download/#windows\u001B[39;00m\n\u001B[0;32m      9\u001B[0m \u001B[38;5;66;03m#make sure to add it's bin folder to PATH https://superuser.com/questions/949560/how-do-i-set-system-environment-variables-in-windows-10\u001B[39;00m\n\u001B[1;32m   (...)\u001B[0m\n\u001B[0;32m     14\u001B[0m \n\u001B[0;32m     15\u001B[0m \u001B[38;5;66;03m#Optie 3.2 : gebruik graphiviz om het nieuwe bestand te tonen\u001B[39;00m\n\u001B[1;32m---> 16\u001B[0m \u001B[43mgraphviz\u001B[49m\u001B[38;5;241;43m.\u001B[39;49m\u001B[43mSource\u001B[49m\u001B[38;5;241m.\u001B[39mfrom_file(\u001B[38;5;124m'\u001B[39m\u001B[38;5;124mtree-playball.dot\u001B[39m\u001B[38;5;124m'\u001B[39m)\n\u001B[0;32m     18\u001B[0m \u001B[38;5;66;03m#Optie 3.3 : gebruik graphiviz vanaf de commandline om nieuwe bestand naar PNG om te zetten\u001B[39;00m\n\u001B[0;32m     19\u001B[0m get_ipython()\u001B[38;5;241m.\u001B[39msystem(\u001B[38;5;124m'\u001B[39m\u001B[38;5;124m dot -Tpng tree-playball.dot -o tree-playball.png\u001B[39m\u001B[38;5;124m'\u001B[39m)\n",
      "\u001B[1;31mAttributeError\u001B[0m: module 'pygments.lexers.graphviz' has no attribute 'Source'"
     ]
    }
   ]
  },
  {
   "cell_type": "markdown",
   "metadata": {
    "id": "NVACMYp8WuCb"
   },
   "source": [
    "7. Maak nu een voorspelling? Wordt er gespeeld bij volgende weersomstandigheden?\n",
    " * Outlook = Sunny\n",
    " * Temperature = Mild\n",
    " * Humidity = High\n",
    " * Wind = Weak"
   ]
  },
  {
   "cell_type": "code",
   "metadata": {
    "colab": {
     "base_uri": "https://localhost:8080/"
    },
    "id": "gtCIvnGpWuCb",
    "executionInfo": {
     "elapsed": 843,
     "status": "ok",
     "timestamp": 1620376282077,
     "user": {
      "displayName": "Rony Baekeland",
      "photoUrl": "",
      "userId": "01731985152349302060"
     },
     "user_tz": -120
    },
    "outputId": "10293057-f6bc-4643-e019-aa50ad226c23",
    "ExecuteTime": {
     "end_time": "2023-06-12T17:42:27.395793200Z",
     "start_time": "2023-06-12T17:42:27.362237Z"
    }
   },
   "source": [
    "Z = np.array([['Sunny', 'Mild', 'High', 'Weak']])\n",
    "model.predict(Z)\n",
    "## => NO"
   ],
   "execution_count": 9,
   "outputs": [
    {
     "ename": "NameError",
     "evalue": "name 'model' is not defined",
     "output_type": "error",
     "traceback": [
      "\u001B[1;31m---------------------------------------------------------------------------\u001B[0m",
      "\u001B[1;31mNameError\u001B[0m                                 Traceback (most recent call last)",
      "Cell \u001B[1;32mIn[9], line 2\u001B[0m\n\u001B[0;32m      1\u001B[0m Z \u001B[38;5;241m=\u001B[39m np\u001B[38;5;241m.\u001B[39marray([[\u001B[38;5;124m'\u001B[39m\u001B[38;5;124mSunny\u001B[39m\u001B[38;5;124m'\u001B[39m, \u001B[38;5;124m'\u001B[39m\u001B[38;5;124mMild\u001B[39m\u001B[38;5;124m'\u001B[39m, \u001B[38;5;124m'\u001B[39m\u001B[38;5;124mHigh\u001B[39m\u001B[38;5;124m'\u001B[39m, \u001B[38;5;124m'\u001B[39m\u001B[38;5;124mWeak\u001B[39m\u001B[38;5;124m'\u001B[39m]])\n\u001B[1;32m----> 2\u001B[0m \u001B[43mmodel\u001B[49m\u001B[38;5;241m.\u001B[39mpredict(Z)\n\u001B[0;32m      3\u001B[0m \u001B[38;5;66;03m## => NO\u001B[39;00m\n",
      "\u001B[1;31mNameError\u001B[0m: name 'model' is not defined"
     ]
    }
   ]
  }
 ]
}
