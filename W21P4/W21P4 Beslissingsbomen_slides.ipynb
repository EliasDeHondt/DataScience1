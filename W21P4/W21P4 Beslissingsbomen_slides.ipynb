{
 "nbformat": 4,
 "nbformat_minor": 0,
 "metadata": {
  "celltoolbar": "Edit Metadata",
  "kernelspec": {
   "display_name": "Python 3",
   "language": "python",
   "name": "python3"
  },
  "language_info": {
   "codemirror_mode": {
    "name": "ipython",
    "version": 3
   },
   "file_extension": ".py",
   "mimetype": "text/x-python",
   "name": "python",
   "nbconvert_exporter": "python",
   "pygments_lexer": "ipython3",
   "version": "3.7.6"
  },
  "colab": {
   "name": "Beslissingsbomen_slides.ipynb",
   "provenance": []
  }
 },
 "cells": [
  {
   "cell_type": "markdown",
   "metadata": {
    "id": "MUSDUn1VaU5i"
   },
   "source": [
    "# Beslissingsbomen"
   ]
  },
  {
   "cell_type": "code",
   "metadata": {
    "id": "qk7L9YW4aU5q",
    "outputId": "2d2b4547-bc1e-453d-c673-b7347b833958",
    "ExecuteTime": {
     "end_time": "2023-05-12T19:53:26.008508Z",
     "start_time": "2023-05-12T19:53:25.624506700Z"
    }
   },
   "source": [
    "import numpy as np\n",
    "import pandas as pd\n",
    "from IPython import InteractiveShell\n",
    "\n",
    "InteractiveShell.ast_node_interactivity = \"all\"\n",
    "\n",
    "simpsons = pd.read_csv('data/simpsons_nominal.csv')\n",
    "display(simpsons)"
   ],
   "execution_count": 1,
   "outputs": [
    {
     "data": {
      "text/plain": "  haarlengte gewicht leeftijd geslacht\n0         <3    >160    30-40        M\n1         >5   <=160    30-40        V\n2         <3   <=160      <30        M\n3         >5   <=160      <30        V\n4        3-5   <=160      <30        V\n5         <3    >160      >40        M\n6         >5   <=160      >40        V\n7         >5    >160    30-40        M\n8         >5    >160      >40        M",
      "text/html": "<div>\n<style scoped>\n    .dataframe tbody tr th:only-of-type {\n        vertical-align: middle;\n    }\n\n    .dataframe tbody tr th {\n        vertical-align: top;\n    }\n\n    .dataframe thead th {\n        text-align: right;\n    }\n</style>\n<table border=\"1\" class=\"dataframe\">\n  <thead>\n    <tr style=\"text-align: right;\">\n      <th></th>\n      <th>haarlengte</th>\n      <th>gewicht</th>\n      <th>leeftijd</th>\n      <th>geslacht</th>\n    </tr>\n  </thead>\n  <tbody>\n    <tr>\n      <th>0</th>\n      <td>&lt;3</td>\n      <td>&gt;160</td>\n      <td>30-40</td>\n      <td>M</td>\n    </tr>\n    <tr>\n      <th>1</th>\n      <td>&gt;5</td>\n      <td>&lt;=160</td>\n      <td>30-40</td>\n      <td>V</td>\n    </tr>\n    <tr>\n      <th>2</th>\n      <td>&lt;3</td>\n      <td>&lt;=160</td>\n      <td>&lt;30</td>\n      <td>M</td>\n    </tr>\n    <tr>\n      <th>3</th>\n      <td>&gt;5</td>\n      <td>&lt;=160</td>\n      <td>&lt;30</td>\n      <td>V</td>\n    </tr>\n    <tr>\n      <th>4</th>\n      <td>3-5</td>\n      <td>&lt;=160</td>\n      <td>&lt;30</td>\n      <td>V</td>\n    </tr>\n    <tr>\n      <th>5</th>\n      <td>&lt;3</td>\n      <td>&gt;160</td>\n      <td>&gt;40</td>\n      <td>M</td>\n    </tr>\n    <tr>\n      <th>6</th>\n      <td>&gt;5</td>\n      <td>&lt;=160</td>\n      <td>&gt;40</td>\n      <td>V</td>\n    </tr>\n    <tr>\n      <th>7</th>\n      <td>&gt;5</td>\n      <td>&gt;160</td>\n      <td>30-40</td>\n      <td>M</td>\n    </tr>\n    <tr>\n      <th>8</th>\n      <td>&gt;5</td>\n      <td>&gt;160</td>\n      <td>&gt;40</td>\n      <td>M</td>\n    </tr>\n  </tbody>\n</table>\n</div>"
     },
     "metadata": {},
     "output_type": "display_data"
    }
   ]
  },
  {
   "cell_type": "markdown",
   "source": [
    "# Simpsons\n",
    "\n",
    "Kenmerken of attributen van de Simpsons zijn\n",
    "* haarlengte\n",
    "* gewicht\n",
    "* leeftijd\n",
    "\n",
    "Eén kolom is target:\n",
    "* geslacht\n"
   ],
   "metadata": {
    "collapsed": false
   }
  },
  {
   "cell_type": "code",
   "execution_count": 2,
   "outputs": [
    {
     "data": {
      "text/plain": "array(['<3', '>5', '3-5'], dtype=object)"
     },
     "metadata": {},
     "output_type": "display_data"
    }
   ],
   "source": [
    "# kies haarlengte als kolom\n",
    "kolom_naam = 'haarlengte'\n",
    "display(simpsons[kolom_naam].unique())"
   ],
   "metadata": {
    "collapsed": false,
    "ExecuteTime": {
     "end_time": "2023-05-12T19:53:26.023573100Z",
     "start_time": "2023-05-12T19:53:26.011020500Z"
    }
   }
  },
  {
   "cell_type": "code",
   "execution_count": 3,
   "outputs": [
    {
     "data": {
      "text/plain": "  haarlengte gewicht leeftijd geslacht\n0         <3    >160    30-40        M\n2         <3   <=160      <30        M\n5         <3    >160      >40        M",
      "text/html": "<div>\n<style scoped>\n    .dataframe tbody tr th:only-of-type {\n        vertical-align: middle;\n    }\n\n    .dataframe tbody tr th {\n        vertical-align: top;\n    }\n\n    .dataframe thead th {\n        text-align: right;\n    }\n</style>\n<table border=\"1\" class=\"dataframe\">\n  <thead>\n    <tr style=\"text-align: right;\">\n      <th></th>\n      <th>haarlengte</th>\n      <th>gewicht</th>\n      <th>leeftijd</th>\n      <th>geslacht</th>\n    </tr>\n  </thead>\n  <tbody>\n    <tr>\n      <th>0</th>\n      <td>&lt;3</td>\n      <td>&gt;160</td>\n      <td>30-40</td>\n      <td>M</td>\n    </tr>\n    <tr>\n      <th>2</th>\n      <td>&lt;3</td>\n      <td>&lt;=160</td>\n      <td>&lt;30</td>\n      <td>M</td>\n    </tr>\n    <tr>\n      <th>5</th>\n      <td>&lt;3</td>\n      <td>&gt;160</td>\n      <td>&gt;40</td>\n      <td>M</td>\n    </tr>\n  </tbody>\n</table>\n</div>"
     },
     "metadata": {},
     "output_type": "display_data"
    },
    {
     "data": {
      "text/plain": "  haarlengte gewicht leeftijd geslacht\n1         >5   <=160    30-40        V\n3         >5   <=160      <30        V\n6         >5   <=160      >40        V\n7         >5    >160    30-40        M\n8         >5    >160      >40        M",
      "text/html": "<div>\n<style scoped>\n    .dataframe tbody tr th:only-of-type {\n        vertical-align: middle;\n    }\n\n    .dataframe tbody tr th {\n        vertical-align: top;\n    }\n\n    .dataframe thead th {\n        text-align: right;\n    }\n</style>\n<table border=\"1\" class=\"dataframe\">\n  <thead>\n    <tr style=\"text-align: right;\">\n      <th></th>\n      <th>haarlengte</th>\n      <th>gewicht</th>\n      <th>leeftijd</th>\n      <th>geslacht</th>\n    </tr>\n  </thead>\n  <tbody>\n    <tr>\n      <th>1</th>\n      <td>&gt;5</td>\n      <td>&lt;=160</td>\n      <td>30-40</td>\n      <td>V</td>\n    </tr>\n    <tr>\n      <th>3</th>\n      <td>&gt;5</td>\n      <td>&lt;=160</td>\n      <td>&lt;30</td>\n      <td>V</td>\n    </tr>\n    <tr>\n      <th>6</th>\n      <td>&gt;5</td>\n      <td>&lt;=160</td>\n      <td>&gt;40</td>\n      <td>V</td>\n    </tr>\n    <tr>\n      <th>7</th>\n      <td>&gt;5</td>\n      <td>&gt;160</td>\n      <td>30-40</td>\n      <td>M</td>\n    </tr>\n    <tr>\n      <th>8</th>\n      <td>&gt;5</td>\n      <td>&gt;160</td>\n      <td>&gt;40</td>\n      <td>M</td>\n    </tr>\n  </tbody>\n</table>\n</div>"
     },
     "metadata": {},
     "output_type": "display_data"
    },
    {
     "data": {
      "text/plain": "  haarlengte gewicht leeftijd geslacht\n4        3-5   <=160      <30        V",
      "text/html": "<div>\n<style scoped>\n    .dataframe tbody tr th:only-of-type {\n        vertical-align: middle;\n    }\n\n    .dataframe tbody tr th {\n        vertical-align: top;\n    }\n\n    .dataframe thead th {\n        text-align: right;\n    }\n</style>\n<table border=\"1\" class=\"dataframe\">\n  <thead>\n    <tr style=\"text-align: right;\">\n      <th></th>\n      <th>haarlengte</th>\n      <th>gewicht</th>\n      <th>leeftijd</th>\n      <th>geslacht</th>\n    </tr>\n  </thead>\n  <tbody>\n    <tr>\n      <th>4</th>\n      <td>3-5</td>\n      <td>&lt;=160</td>\n      <td>&lt;30</td>\n      <td>V</td>\n    </tr>\n  </tbody>\n</table>\n</div>"
     },
     "metadata": {},
     "output_type": "display_data"
    }
   ],
   "source": [
    "kind_tabel_1 = simpsons[simpsons[kolom_naam] == '<3']\n",
    "kind_tabel_2 = simpsons[simpsons[kolom_naam] == '>5']\n",
    "kind_tabel_3 = simpsons[simpsons[kolom_naam] == '3-5']\n",
    "display(kind_tabel_1)\n",
    "display(kind_tabel_2)\n",
    "display(kind_tabel_3)"
   ],
   "metadata": {
    "collapsed": false,
    "ExecuteTime": {
     "end_time": "2023-05-12T19:53:26.097715300Z",
     "start_time": "2023-05-12T19:53:26.026582400Z"
    }
   }
  },
  {
   "cell_type": "code",
   "execution_count": 4,
   "outputs": [
    {
     "data": {
      "text/plain": "geslacht\nM    5\nV    4\nName: count, dtype: int64"
     },
     "metadata": {},
     "output_type": "display_data"
    },
    {
     "data": {
      "text/plain": "geslacht\nM    3\nName: count, dtype: int64"
     },
     "metadata": {},
     "output_type": "display_data"
    },
    {
     "data": {
      "text/plain": "geslacht\nV    3\nM    2\nName: count, dtype: int64"
     },
     "metadata": {},
     "output_type": "display_data"
    },
    {
     "data": {
      "text/plain": "geslacht\nV    1\nName: count, dtype: int64"
     },
     "metadata": {},
     "output_type": "display_data"
    }
   ],
   "source": [
    "display(simpsons.geslacht.value_counts())  # oudertabel\n",
    "\n",
    "display(kind_tabel_1.geslacht.value_counts())\n",
    "display(kind_tabel_2.geslacht.value_counts())\n",
    "display(kind_tabel_3.geslacht.value_counts())"
   ],
   "metadata": {
    "collapsed": false,
    "ExecuteTime": {
     "end_time": "2023-05-12T19:53:26.125939900Z",
     "start_time": "2023-05-12T19:53:26.058319100Z"
    }
   }
  },
  {
   "cell_type": "markdown",
   "metadata": {
    "collapsed": false,
    "id": "bDnh6QPCaU5t"
   },
   "source": [
    "## Entropie"
   ]
  },
  {
   "cell_type": "code",
   "metadata": {
    "id": "aC4V8T2OaU5t",
    "ExecuteTime": {
     "end_time": "2023-05-12T19:53:26.125939900Z",
     "start_time": "2023-05-12T19:53:26.087985300Z"
    }
   },
   "source": [
    "def entropy(series: pd.Series, base=None):\n",
    "    vc = series.value_counts(normalize=True, sort=False)\n",
    "    base = 2 if base is None else base\n",
    "    return -(vc * np.log2(vc)).sum()\n",
    "    # return -(vc * np.log(vc) / np.log(base)).sum()"
   ],
   "execution_count": 5,
   "outputs": []
  },
  {
   "cell_type": "code",
   "metadata": {
    "id": "_A_8Vdk9aU5u",
    "outputId": "fd7e628e-daeb-468d-f1d9-35efefab7cb6",
    "ExecuteTime": {
     "end_time": "2023-05-12T19:53:26.145333300Z",
     "start_time": "2023-05-12T19:53:26.109359500Z"
    }
   },
   "source": [
    "E_ouder = entropy(simpsons.geslacht)\n",
    "print('Entropy, E(S) =', E_ouder);"
   ],
   "execution_count": 6,
   "outputs": [
    {
     "name": "stdout",
     "output_type": "stream",
     "text": [
      "Entropy, E(S) = 0.9910760598382222\n"
     ]
    }
   ]
  },
  {
   "cell_type": "markdown",
   "metadata": {
    "collapsed": false,
    "id": "kNhB0MaBaU5u"
   },
   "source": [
    "## Information Gain"
   ]
  },
  {
   "cell_type": "code",
   "execution_count": 7,
   "outputs": [
    {
     "name": "stdout",
     "output_type": "stream",
     "text": [
      "-0.0\n",
      "0.9709505944546686\n",
      "-0.0\n"
     ]
    }
   ],
   "source": [
    "print(entropy(kind_tabel_1.geslacht))\n",
    "print(entropy(kind_tabel_2.geslacht))\n",
    "print(entropy(kind_tabel_3.geslacht))"
   ],
   "metadata": {
    "collapsed": false,
    "ExecuteTime": {
     "end_time": "2023-05-12T19:53:26.165850300Z",
     "start_time": "2023-05-12T19:53:26.119829200Z"
    }
   }
  },
  {
   "cell_type": "code",
   "execution_count": 8,
   "outputs": [
    {
     "data": {
      "text/plain": "0.5394169969192604"
     },
     "metadata": {},
     "output_type": "display_data"
    }
   ],
   "source": [
    "E1 = entropy(kind_tabel_1.geslacht)  # 0.0\n",
    "E2 = entropy(kind_tabel_2.geslacht)  # 0.971\n",
    "E3 = entropy(kind_tabel_3.geslacht)  # 0\n",
    "\n",
    "E_gewogen = np.average([E1, E2, E3], weights=[3, 5, 1])\n",
    "display(E_gewogen)"
   ],
   "metadata": {
    "collapsed": false,
    "ExecuteTime": {
     "end_time": "2023-05-12T19:53:26.210229900Z",
     "start_time": "2023-05-12T19:53:26.137070900Z"
    }
   }
  },
  {
   "cell_type": "code",
   "execution_count": 9,
   "outputs": [
    {
     "data": {
      "text/plain": "0.45165906291896185"
     },
     "metadata": {},
     "output_type": "display_data"
    }
   ],
   "source": [
    "IG_haarlengte = E_ouder - E_gewogen\n",
    "display(IG_haarlengte)"
   ],
   "metadata": {
    "collapsed": false,
    "ExecuteTime": {
     "end_time": "2023-05-12T19:53:26.211238900Z",
     "start_time": "2023-05-12T19:53:26.152787800Z"
    }
   }
  },
  {
   "cell_type": "code",
   "execution_count": 10,
   "outputs": [],
   "source": [
    "def information_gain(parent_table: pd.DataFrame, attribute: str, target: str):\n",
    "    # bepaal entropie van parent table\n",
    "    entropy_parent = entropy(parent_table[target])\n",
    "    child_entropies = []\n",
    "    child_weights = []\n",
    "\n",
    "    # bereken entropies of child tables\n",
    "    for (label, fraction) in parent_table[attribute].value_counts().items():\n",
    "        child_df = parent_table[parent_table[attribute] == label]\n",
    "        child_entropies.append(entropy(child_df[target]))\n",
    "        child_weights.append(int(fraction))\n",
    "\n",
    "    # calculate the difference between parent entropy and weighted child entropies\n",
    "    return entropy_parent - np.average(child_entropies, weights=child_weights)"
   ],
   "metadata": {
    "collapsed": false,
    "ExecuteTime": {
     "end_time": "2023-05-12T19:53:26.211238900Z",
     "start_time": "2023-05-12T19:53:26.168971400Z"
    }
   }
  },
  {
   "cell_type": "code",
   "execution_count": 11,
   "outputs": [
    {
     "name": "stdout",
     "output_type": "stream",
     "text": [
      "0.45165906291896185\n",
      "0.07278022578373267\n",
      "0.5900048960119099\n"
     ]
    }
   ],
   "source": [
    "IG_haarlengte = information_gain(simpsons, 'haarlengte', 'geslacht') # 0.45165906291896185\n",
    "IG_leeftijd = information_gain(simpsons, 'leeftijd', 'geslacht') # 0.07278022578373267\n",
    "IG_gewicht = information_gain(simpsons, 'gewicht', 'geslacht') # 0.5900048960119099\n",
    "\n",
    "print(IG_haarlengte)\n",
    "print(IG_leeftijd)\n",
    "print(IG_gewicht)"
   ],
   "metadata": {
    "collapsed": false,
    "ExecuteTime": {
     "end_time": "2023-05-12T19:53:26.212262400Z",
     "start_time": "2023-05-12T19:53:26.183051300Z"
    }
   }
  },
  {
   "cell_type": "code",
   "metadata": {
    "id": "YwqU8EoiaU5v",
    "outputId": "7dbb0787-19d8-4f67-a443-b03b0d3c37a5",
    "ExecuteTime": {
     "end_time": "2023-05-12T19:53:26.227645600Z",
     "start_time": "2023-05-12T19:53:26.213269800Z"
    }
   },
   "source": [
    "for key, group in simpsons.groupby(by='gewicht', as_index=False):\n",
    "    display(pd.DataFrame(group))"
   ],
   "execution_count": 12,
   "outputs": [
    {
     "data": {
      "text/plain": "  haarlengte gewicht leeftijd geslacht\n1         >5   <=160    30-40        V\n2         <3   <=160      <30        M\n3         >5   <=160      <30        V\n4        3-5   <=160      <30        V\n6         >5   <=160      >40        V",
      "text/html": "<div>\n<style scoped>\n    .dataframe tbody tr th:only-of-type {\n        vertical-align: middle;\n    }\n\n    .dataframe tbody tr th {\n        vertical-align: top;\n    }\n\n    .dataframe thead th {\n        text-align: right;\n    }\n</style>\n<table border=\"1\" class=\"dataframe\">\n  <thead>\n    <tr style=\"text-align: right;\">\n      <th></th>\n      <th>haarlengte</th>\n      <th>gewicht</th>\n      <th>leeftijd</th>\n      <th>geslacht</th>\n    </tr>\n  </thead>\n  <tbody>\n    <tr>\n      <th>1</th>\n      <td>&gt;5</td>\n      <td>&lt;=160</td>\n      <td>30-40</td>\n      <td>V</td>\n    </tr>\n    <tr>\n      <th>2</th>\n      <td>&lt;3</td>\n      <td>&lt;=160</td>\n      <td>&lt;30</td>\n      <td>M</td>\n    </tr>\n    <tr>\n      <th>3</th>\n      <td>&gt;5</td>\n      <td>&lt;=160</td>\n      <td>&lt;30</td>\n      <td>V</td>\n    </tr>\n    <tr>\n      <th>4</th>\n      <td>3-5</td>\n      <td>&lt;=160</td>\n      <td>&lt;30</td>\n      <td>V</td>\n    </tr>\n    <tr>\n      <th>6</th>\n      <td>&gt;5</td>\n      <td>&lt;=160</td>\n      <td>&gt;40</td>\n      <td>V</td>\n    </tr>\n  </tbody>\n</table>\n</div>"
     },
     "metadata": {},
     "output_type": "display_data"
    },
    {
     "data": {
      "text/plain": "  haarlengte gewicht leeftijd geslacht\n0         <3    >160    30-40        M\n5         <3    >160      >40        M\n7         >5    >160    30-40        M\n8         >5    >160      >40        M",
      "text/html": "<div>\n<style scoped>\n    .dataframe tbody tr th:only-of-type {\n        vertical-align: middle;\n    }\n\n    .dataframe tbody tr th {\n        vertical-align: top;\n    }\n\n    .dataframe thead th {\n        text-align: right;\n    }\n</style>\n<table border=\"1\" class=\"dataframe\">\n  <thead>\n    <tr style=\"text-align: right;\">\n      <th></th>\n      <th>haarlengte</th>\n      <th>gewicht</th>\n      <th>leeftijd</th>\n      <th>geslacht</th>\n    </tr>\n  </thead>\n  <tbody>\n    <tr>\n      <th>0</th>\n      <td>&lt;3</td>\n      <td>&gt;160</td>\n      <td>30-40</td>\n      <td>M</td>\n    </tr>\n    <tr>\n      <th>5</th>\n      <td>&lt;3</td>\n      <td>&gt;160</td>\n      <td>&gt;40</td>\n      <td>M</td>\n    </tr>\n    <tr>\n      <th>7</th>\n      <td>&gt;5</td>\n      <td>&gt;160</td>\n      <td>30-40</td>\n      <td>M</td>\n    </tr>\n    <tr>\n      <th>8</th>\n      <td>&gt;5</td>\n      <td>&gt;160</td>\n      <td>&gt;40</td>\n      <td>M</td>\n    </tr>\n  </tbody>\n</table>\n</div>"
     },
     "metadata": {},
     "output_type": "display_data"
    }
   ]
  },
  {
   "cell_type": "code",
   "metadata": {
    "id": "hiiQ_Sx7aU5w",
    "outputId": "d83a23cf-12d7-4b68-a78a-074d8fb25c29",
    "ExecuteTime": {
     "end_time": "2023-05-12T19:53:26.272014700Z",
     "start_time": "2023-05-12T19:53:26.228649400Z"
    }
   },
   "source": [
    "s = simpsons['haarlengte']\n",
    "for (label, count) in s.value_counts(normalize=True).items():\n",
    "    print('{} {}'.format(label, count))\n",
    "    print(simpsons['haarlengte'][simpsons['haarlengte'] == label])"
   ],
   "execution_count": 13,
   "outputs": [
    {
     "name": "stdout",
     "output_type": "stream",
     "text": [
      ">5 0.5555555555555556\n",
      "1    >5\n",
      "3    >5\n",
      "6    >5\n",
      "7    >5\n",
      "8    >5\n",
      "Name: haarlengte, dtype: object\n",
      "<3 0.3333333333333333\n",
      "0    <3\n",
      "2    <3\n",
      "5    <3\n",
      "Name: haarlengte, dtype: object\n",
      "3-5 0.1111111111111111\n",
      "4    3-5\n",
      "Name: haarlengte, dtype: object\n"
     ]
    }
   ]
  },
  {
   "cell_type": "markdown",
   "source": [
    "## ID3Estimator & Graphviz packages installeren\n",
    "\n",
    "* `pip install decision-tree-id-fork`\n",
    "* Graphviz <a href=\"https://graphviz.org/download/\">installeren</a> (nodig voor de visualisatie) door te downloaden van de website voor Windows en Mac en te installeren.\n",
    "    *  Zorg ervoor dat je GraphViz toevoegt aan je PATH in de installatiewizard!\n",
    "    *  Anders krijg je _ExecutableNotFound: failed to execute WindowsPath('dot'), make sure the Graphviz executables are on your systems' PATH_\n",
    "* `pip install graphviz` moet je ook nog doen"
   ],
   "metadata": {
    "collapsed": false
   }
  },
  {
   "cell_type": "code",
   "execution_count": 14,
   "outputs": [
    {
     "name": "stdout",
     "output_type": "stream",
     "text": [
      "  haarlengte gewicht leeftijd\n",
      "0         <3    >160    30-40\n",
      "1         >5   <=160    30-40\n",
      "2         <3   <=160      <30\n",
      "3         >5   <=160      <30\n",
      "4        3-5   <=160      <30\n",
      "5         <3    >160      >40\n",
      "6         >5   <=160      >40\n",
      "7         >5    >160    30-40\n",
      "8         >5    >160      >40\n",
      "0    M\n",
      "1    V\n",
      "2    M\n",
      "3    V\n",
      "4    V\n",
      "5    M\n",
      "6    V\n",
      "7    M\n",
      "8    M\n",
      "Name: geslacht, dtype: object\n"
     ]
    }
   ],
   "source": [
    "import pandas as pd\n",
    "import graphviz\n",
    "from id3 import Id3Estimator, export_graphviz\n",
    "\n",
    "simpsons = pd.read_csv(\"data/simpsons_nominal.csv\")\n",
    "model = Id3Estimator()\n",
    "\n",
    "# X = attributen; y = target\n",
    "X = simpsons.drop(columns=['geslacht'], axis=1)\n",
    "y = simpsons['geslacht']\n",
    "print(X)\n",
    "print(y)"
   ],
   "metadata": {
    "collapsed": false,
    "ExecuteTime": {
     "end_time": "2023-05-12T19:53:26.991060400Z",
     "start_time": "2023-05-12T19:53:26.245631800Z"
    }
   }
  },
  {
   "cell_type": "code",
   "execution_count": 15,
   "outputs": [
    {
     "data": {
      "text/plain": "Id3Estimator()",
      "text/html": "<style>#sk-container-id-1 {color: black;background-color: white;}#sk-container-id-1 pre{padding: 0;}#sk-container-id-1 div.sk-toggleable {background-color: white;}#sk-container-id-1 label.sk-toggleable__label {cursor: pointer;display: block;width: 100%;margin-bottom: 0;padding: 0.3em;box-sizing: border-box;text-align: center;}#sk-container-id-1 label.sk-toggleable__label-arrow:before {content: \"▸\";float: left;margin-right: 0.25em;color: #696969;}#sk-container-id-1 label.sk-toggleable__label-arrow:hover:before {color: black;}#sk-container-id-1 div.sk-estimator:hover label.sk-toggleable__label-arrow:before {color: black;}#sk-container-id-1 div.sk-toggleable__content {max-height: 0;max-width: 0;overflow: hidden;text-align: left;background-color: #f0f8ff;}#sk-container-id-1 div.sk-toggleable__content pre {margin: 0.2em;color: black;border-radius: 0.25em;background-color: #f0f8ff;}#sk-container-id-1 input.sk-toggleable__control:checked~div.sk-toggleable__content {max-height: 200px;max-width: 100%;overflow: auto;}#sk-container-id-1 input.sk-toggleable__control:checked~label.sk-toggleable__label-arrow:before {content: \"▾\";}#sk-container-id-1 div.sk-estimator input.sk-toggleable__control:checked~label.sk-toggleable__label {background-color: #d4ebff;}#sk-container-id-1 div.sk-label input.sk-toggleable__control:checked~label.sk-toggleable__label {background-color: #d4ebff;}#sk-container-id-1 input.sk-hidden--visually {border: 0;clip: rect(1px 1px 1px 1px);clip: rect(1px, 1px, 1px, 1px);height: 1px;margin: -1px;overflow: hidden;padding: 0;position: absolute;width: 1px;}#sk-container-id-1 div.sk-estimator {font-family: monospace;background-color: #f0f8ff;border: 1px dotted black;border-radius: 0.25em;box-sizing: border-box;margin-bottom: 0.5em;}#sk-container-id-1 div.sk-estimator:hover {background-color: #d4ebff;}#sk-container-id-1 div.sk-parallel-item::after {content: \"\";width: 100%;border-bottom: 1px solid gray;flex-grow: 1;}#sk-container-id-1 div.sk-label:hover label.sk-toggleable__label {background-color: #d4ebff;}#sk-container-id-1 div.sk-serial::before {content: \"\";position: absolute;border-left: 1px solid gray;box-sizing: border-box;top: 0;bottom: 0;left: 50%;z-index: 0;}#sk-container-id-1 div.sk-serial {display: flex;flex-direction: column;align-items: center;background-color: white;padding-right: 0.2em;padding-left: 0.2em;position: relative;}#sk-container-id-1 div.sk-item {position: relative;z-index: 1;}#sk-container-id-1 div.sk-parallel {display: flex;align-items: stretch;justify-content: center;background-color: white;position: relative;}#sk-container-id-1 div.sk-item::before, #sk-container-id-1 div.sk-parallel-item::before {content: \"\";position: absolute;border-left: 1px solid gray;box-sizing: border-box;top: 0;bottom: 0;left: 50%;z-index: -1;}#sk-container-id-1 div.sk-parallel-item {display: flex;flex-direction: column;z-index: 1;position: relative;background-color: white;}#sk-container-id-1 div.sk-parallel-item:first-child::after {align-self: flex-end;width: 50%;}#sk-container-id-1 div.sk-parallel-item:last-child::after {align-self: flex-start;width: 50%;}#sk-container-id-1 div.sk-parallel-item:only-child::after {width: 0;}#sk-container-id-1 div.sk-dashed-wrapped {border: 1px dashed gray;margin: 0 0.4em 0.5em 0.4em;box-sizing: border-box;padding-bottom: 0.4em;background-color: white;}#sk-container-id-1 div.sk-label label {font-family: monospace;font-weight: bold;display: inline-block;line-height: 1.2em;}#sk-container-id-1 div.sk-label-container {text-align: center;}#sk-container-id-1 div.sk-container {/* jupyter's `normalize.less` sets `[hidden] { display: none; }` but bootstrap.min.css set `[hidden] { display: none !important; }` so we also need the `!important` here to be able to override the default hidden behavior on the sphinx rendered scikit-learn.org. See: https://github.com/scikit-learn/scikit-learn/issues/21755 */display: inline-block !important;position: relative;}#sk-container-id-1 div.sk-text-repr-fallback {display: none;}</style><div id=\"sk-container-id-1\" class=\"sk-top-container\"><div class=\"sk-text-repr-fallback\"><pre>Id3Estimator()</pre><b>In a Jupyter environment, please rerun this cell to show the HTML representation or trust the notebook. <br />On GitHub, the HTML representation is unable to render, please try loading this page with nbviewer.org.</b></div><div class=\"sk-container\" hidden><div class=\"sk-item\"><div class=\"sk-estimator sk-toggleable\"><input class=\"sk-toggleable__control sk-hidden--visually\" id=\"sk-estimator-id-1\" type=\"checkbox\" checked><label for=\"sk-estimator-id-1\" class=\"sk-toggleable__label sk-toggleable__label-arrow\">Id3Estimator</label><div class=\"sk-toggleable__content\"><pre>Id3Estimator()</pre></div></div></div></div></div>"
     },
     "execution_count": 15,
     "metadata": {},
     "output_type": "execute_result"
    },
    {
     "data": {
      "image/svg+xml": "<?xml version=\"1.0\" encoding=\"UTF-8\" standalone=\"no\"?>\n<!DOCTYPE svg PUBLIC \"-//W3C//DTD SVG 1.1//EN\"\n \"http://www.w3.org/Graphics/SVG/1.1/DTD/svg11.dtd\">\n<!-- Generated by graphviz version 8.0.5 (20230430.1635)\n -->\n<!-- Title: ID3_Tree Pages: 1 -->\n<svg width=\"215pt\" height=\"227pt\"\n viewBox=\"0.00 0.00 215.00 226.50\" xmlns=\"http://www.w3.org/2000/svg\" xmlns:xlink=\"http://www.w3.org/1999/xlink\">\n<g id=\"graph0\" class=\"graph\" transform=\"scale(1 1) rotate(0) translate(4 222.5)\">\n<title>ID3_Tree</title>\n<polygon fill=\"white\" stroke=\"none\" points=\"-4,4 -4,-222.5 211,-222.5 211,4 -4,4\"/>\n<!-- 0 -->\n<g id=\"node1\" class=\"node\">\n<title>0</title>\n<polygon fill=\"lightgrey\" stroke=\"black\" points=\"169.38,-218.5 110.62,-218.5 110.62,-182.5 169.38,-182.5 169.38,-218.5\"/>\n<text text-anchor=\"middle\" x=\"140\" y=\"-195.07\" font-family=\"Times New Roman,serif\" font-size=\"14.00\">gewicht</text>\n</g>\n<!-- 1 -->\n<g id=\"node2\" class=\"node\">\n<title>1</title>\n<polygon fill=\"lightgrey\" stroke=\"black\" points=\"134.75,-129 63.25,-129 63.25,-93 134.75,-93 134.75,-129\"/>\n<text text-anchor=\"middle\" x=\"99\" y=\"-105.58\" font-family=\"Times New Roman,serif\" font-size=\"14.00\">haarlengte</text>\n</g>\n<!-- 0&#45;&gt;1 -->\n<g id=\"edge1\" class=\"edge\">\n<title>0&#45;&gt;1</title>\n<path fill=\"none\" stroke=\"black\" d=\"M126.92,-182.28C123.14,-176.79 119.23,-170.56 116.25,-164.5 112.37,-156.6 109.05,-147.61 106.39,-139.34\"/>\n<polygon fill=\"black\" stroke=\"black\" points=\"109.52,-138.59 103.29,-130.02 102.82,-140.6 109.52,-138.59\"/>\n<text text-anchor=\"middle\" x=\"135.38\" y=\"-151.2\" font-family=\"Times New Roman,serif\" font-size=\"14.00\">&lt;=160</text>\n</g>\n<!-- 5 -->\n<g id=\"node6\" class=\"node\">\n<title>5</title>\n<polygon fill=\"lightgrey\" stroke=\"black\" points=\"207,-130.75 153,-130.75 153,-91.25 207,-91.25 207,-130.75\"/>\n<text text-anchor=\"middle\" x=\"180\" y=\"-113.45\" font-family=\"Times New Roman,serif\" font-size=\"14.00\">M</text>\n<text text-anchor=\"middle\" x=\"180\" y=\"-97.7\" font-family=\"Times New Roman,serif\" font-size=\"14.00\">(4)</text>\n</g>\n<!-- 0&#45;&gt;5 -->\n<g id=\"edge5\" class=\"edge\">\n<title>0&#45;&gt;5</title>\n<path fill=\"none\" stroke=\"black\" d=\"M147.9,-182.21C153.27,-170.47 160.51,-154.64 166.75,-140.99\"/>\n<polygon fill=\"black\" stroke=\"black\" points=\"170.31,-142.62 171.28,-132.07 163.94,-139.71 170.31,-142.62\"/>\n<text text-anchor=\"middle\" x=\"177.25\" y=\"-151.2\" font-family=\"Times New Roman,serif\" font-size=\"14.00\">&gt;160</text>\n</g>\n<!-- 2 -->\n<g id=\"node3\" class=\"node\">\n<title>2</title>\n<polygon fill=\"lightgrey\" stroke=\"black\" points=\"54,-39.5 0,-39.5 0,0 54,0 54,-39.5\"/>\n<text text-anchor=\"middle\" x=\"27\" y=\"-22.2\" font-family=\"Times New Roman,serif\" font-size=\"14.00\">V</text>\n<text text-anchor=\"middle\" x=\"27\" y=\"-6.45\" font-family=\"Times New Roman,serif\" font-size=\"14.00\">(1)</text>\n</g>\n<!-- 1&#45;&gt;2 -->\n<g id=\"edge2\" class=\"edge\">\n<title>1&#45;&gt;2</title>\n<path fill=\"none\" stroke=\"black\" d=\"M85.12,-92.79C74.87,-80.09 60.72,-62.55 48.94,-47.95\"/>\n<polygon fill=\"black\" stroke=\"black\" points=\"51.34,-46.35 42.34,-40.76 45.89,-50.74 51.34,-46.35\"/>\n<text text-anchor=\"middle\" x=\"77\" y=\"-59.95\" font-family=\"Times New Roman,serif\" font-size=\"14.00\">3&#45;5</text>\n</g>\n<!-- 3 -->\n<g id=\"node4\" class=\"node\">\n<title>3</title>\n<polygon fill=\"lightgrey\" stroke=\"black\" points=\"126,-39.5 72,-39.5 72,0 126,0 126,-39.5\"/>\n<text text-anchor=\"middle\" x=\"99\" y=\"-22.2\" font-family=\"Times New Roman,serif\" font-size=\"14.00\">M</text>\n<text text-anchor=\"middle\" x=\"99\" y=\"-6.45\" font-family=\"Times New Roman,serif\" font-size=\"14.00\">(1)</text>\n</g>\n<!-- 1&#45;&gt;3 -->\n<g id=\"edge3\" class=\"edge\">\n<title>1&#45;&gt;3</title>\n<path fill=\"none\" stroke=\"black\" d=\"M99,-92.79C99,-80.8 99,-64.5 99,-50.43\"/>\n<polygon fill=\"black\" stroke=\"black\" points=\"102.5,-50.76 99,-40.76 95.5,-50.76 102.5,-50.76\"/>\n<text text-anchor=\"middle\" x=\"106.5\" y=\"-59.95\" font-family=\"Times New Roman,serif\" font-size=\"14.00\">&lt;3</text>\n</g>\n<!-- 4 -->\n<g id=\"node5\" class=\"node\">\n<title>4</title>\n<polygon fill=\"lightgrey\" stroke=\"black\" points=\"198,-39.5 144,-39.5 144,0 198,0 198,-39.5\"/>\n<text text-anchor=\"middle\" x=\"171\" y=\"-22.2\" font-family=\"Times New Roman,serif\" font-size=\"14.00\">V</text>\n<text text-anchor=\"middle\" x=\"171\" y=\"-6.45\" font-family=\"Times New Roman,serif\" font-size=\"14.00\">(3)</text>\n</g>\n<!-- 1&#45;&gt;4 -->\n<g id=\"edge4\" class=\"edge\">\n<title>1&#45;&gt;4</title>\n<path fill=\"none\" stroke=\"black\" d=\"M112.88,-92.79C123.13,-80.09 137.28,-62.55 149.06,-47.95\"/>\n<polygon fill=\"black\" stroke=\"black\" points=\"152.11,-50.74 155.66,-40.76 146.66,-46.35 152.11,-50.74\"/>\n<text text-anchor=\"middle\" x=\"147.5\" y=\"-59.95\" font-family=\"Times New Roman,serif\" font-size=\"14.00\">&gt;5</text>\n</g>\n</g>\n</svg>\n",
      "text/plain": "<graphviz.sources.Source at 0x24943ec1c60>"
     },
     "execution_count": 15,
     "metadata": {},
     "output_type": "execute_result"
    },
    {
     "data": {
      "text/plain": "array(['M', 'V'], dtype=object)"
     },
     "execution_count": 15,
     "metadata": {},
     "output_type": "execute_result"
    }
   ],
   "source": [
    "# bouw het model\n",
    "model.fit(X, y)\n",
    "\n",
    "# maak model\n",
    "model_tree = export_graphviz(model.tree_, feature_names=X.columns)\n",
    "# toon beslissingsboom\n",
    "graphviz.Source(model_tree.dot_tree)\n",
    "\n",
    "# test model\n",
    "# Comic Guy is een ...\n",
    "model.predict(np.array([\n",
    "    ['>5', '>160', '30-40'], # comic guy\n",
    "    ['>5','<=160', '30-40']  # comic girl\n",
    "]))\n"
   ],
   "metadata": {
    "collapsed": false,
    "ExecuteTime": {
     "end_time": "2023-05-12T19:53:27.052824500Z",
     "start_time": "2023-05-12T19:53:26.995489200Z"
    }
   }
  },
  {
   "cell_type": "code",
   "execution_count": 16,
   "outputs": [
    {
     "data": {
      "text/plain": "     naam  haarlengte  gewicht  leeftijd geslacht\n0   Homer           0      250        36        M\n1   Marge          10      150        34        V\n2    Bart           2       90        10        M\n3    Lisa           6       78         8        V\n4  Maggie           4       20         1        V\n5     Abe           1      170        70        M\n6   Selma           8      160        41        V\n7    Otto          10      180        38        M\n8  Krusty           6      200        45        M",
      "text/html": "<div>\n<style scoped>\n    .dataframe tbody tr th:only-of-type {\n        vertical-align: middle;\n    }\n\n    .dataframe tbody tr th {\n        vertical-align: top;\n    }\n\n    .dataframe thead th {\n        text-align: right;\n    }\n</style>\n<table border=\"1\" class=\"dataframe\">\n  <thead>\n    <tr style=\"text-align: right;\">\n      <th></th>\n      <th>naam</th>\n      <th>haarlengte</th>\n      <th>gewicht</th>\n      <th>leeftijd</th>\n      <th>geslacht</th>\n    </tr>\n  </thead>\n  <tbody>\n    <tr>\n      <th>0</th>\n      <td>Homer</td>\n      <td>0</td>\n      <td>250</td>\n      <td>36</td>\n      <td>M</td>\n    </tr>\n    <tr>\n      <th>1</th>\n      <td>Marge</td>\n      <td>10</td>\n      <td>150</td>\n      <td>34</td>\n      <td>V</td>\n    </tr>\n    <tr>\n      <th>2</th>\n      <td>Bart</td>\n      <td>2</td>\n      <td>90</td>\n      <td>10</td>\n      <td>M</td>\n    </tr>\n    <tr>\n      <th>3</th>\n      <td>Lisa</td>\n      <td>6</td>\n      <td>78</td>\n      <td>8</td>\n      <td>V</td>\n    </tr>\n    <tr>\n      <th>4</th>\n      <td>Maggie</td>\n      <td>4</td>\n      <td>20</td>\n      <td>1</td>\n      <td>V</td>\n    </tr>\n    <tr>\n      <th>5</th>\n      <td>Abe</td>\n      <td>1</td>\n      <td>170</td>\n      <td>70</td>\n      <td>M</td>\n    </tr>\n    <tr>\n      <th>6</th>\n      <td>Selma</td>\n      <td>8</td>\n      <td>160</td>\n      <td>41</td>\n      <td>V</td>\n    </tr>\n    <tr>\n      <th>7</th>\n      <td>Otto</td>\n      <td>10</td>\n      <td>180</td>\n      <td>38</td>\n      <td>M</td>\n    </tr>\n    <tr>\n      <th>8</th>\n      <td>Krusty</td>\n      <td>6</td>\n      <td>200</td>\n      <td>45</td>\n      <td>M</td>\n    </tr>\n  </tbody>\n</table>\n</div>"
     },
     "metadata": {},
     "output_type": "display_data"
    },
    {
     "ename": "ValueError",
     "evalue": "could not convert string to float: 'Homer'",
     "output_type": "error",
     "traceback": [
      "\u001B[1;31m---------------------------------------------------------------------------\u001B[0m",
      "\u001B[1;31mValueError\u001B[0m                                Traceback (most recent call last)",
      "Cell \u001B[1;32mIn[16], line 12\u001B[0m\n\u001B[0;32m      9\u001B[0m y \u001B[38;5;241m=\u001B[39m simpsons\u001B[38;5;241m.\u001B[39mgeslacht\n\u001B[0;32m     11\u001B[0m model \u001B[38;5;241m=\u001B[39m DecisionTreeClassifier(criterion\u001B[38;5;241m=\u001B[39m\u001B[38;5;124m'\u001B[39m\u001B[38;5;124mentropy\u001B[39m\u001B[38;5;124m'\u001B[39m)\n\u001B[1;32m---> 12\u001B[0m \u001B[43mmodel\u001B[49m\u001B[38;5;241;43m.\u001B[39;49m\u001B[43mfit\u001B[49m\u001B[43m(\u001B[49m\u001B[43mX\u001B[49m\u001B[43m,\u001B[49m\u001B[43m \u001B[49m\u001B[43my\u001B[49m\u001B[43m)\u001B[49m\n\u001B[0;32m     14\u001B[0m fig, ax \u001B[38;5;241m=\u001B[39m plt\u001B[38;5;241m.\u001B[39msubplots(figsize\u001B[38;5;241m=\u001B[39m(\u001B[38;5;241m10\u001B[39m, \u001B[38;5;241m5\u001B[39m))\n\u001B[0;32m     15\u001B[0m _ \u001B[38;5;241m=\u001B[39m tree\u001B[38;5;241m.\u001B[39mplot_tree(model, ax\u001B[38;5;241m=\u001B[39max, feature_names\u001B[38;5;241m=\u001B[39mX\u001B[38;5;241m.\u001B[39mcolumns, class_names\u001B[38;5;241m=\u001B[39mnp\u001B[38;5;241m.\u001B[39munique(y), filled\u001B[38;5;241m=\u001B[39m\u001B[38;5;28;01mTrue\u001B[39;00m, fontsize\u001B[38;5;241m=\u001B[39m\u001B[38;5;241m10\u001B[39m, rounded\u001B[38;5;241m=\u001B[39m\u001B[38;5;28;01mTrue\u001B[39;00m)\n",
      "File \u001B[1;32m~\\Downloads\\DataScience1\\venv\\lib\\site-packages\\sklearn\\tree\\_classes.py:889\u001B[0m, in \u001B[0;36mDecisionTreeClassifier.fit\u001B[1;34m(self, X, y, sample_weight, check_input)\u001B[0m\n\u001B[0;32m    859\u001B[0m \u001B[38;5;28;01mdef\u001B[39;00m \u001B[38;5;21mfit\u001B[39m(\u001B[38;5;28mself\u001B[39m, X, y, sample_weight\u001B[38;5;241m=\u001B[39m\u001B[38;5;28;01mNone\u001B[39;00m, check_input\u001B[38;5;241m=\u001B[39m\u001B[38;5;28;01mTrue\u001B[39;00m):\n\u001B[0;32m    860\u001B[0m \u001B[38;5;250m    \u001B[39m\u001B[38;5;124;03m\"\"\"Build a decision tree classifier from the training set (X, y).\u001B[39;00m\n\u001B[0;32m    861\u001B[0m \n\u001B[0;32m    862\u001B[0m \u001B[38;5;124;03m    Parameters\u001B[39;00m\n\u001B[1;32m   (...)\u001B[0m\n\u001B[0;32m    886\u001B[0m \u001B[38;5;124;03m        Fitted estimator.\u001B[39;00m\n\u001B[0;32m    887\u001B[0m \u001B[38;5;124;03m    \"\"\"\u001B[39;00m\n\u001B[1;32m--> 889\u001B[0m     \u001B[38;5;28;43msuper\u001B[39;49m\u001B[43m(\u001B[49m\u001B[43m)\u001B[49m\u001B[38;5;241;43m.\u001B[39;49m\u001B[43mfit\u001B[49m\u001B[43m(\u001B[49m\n\u001B[0;32m    890\u001B[0m \u001B[43m        \u001B[49m\u001B[43mX\u001B[49m\u001B[43m,\u001B[49m\n\u001B[0;32m    891\u001B[0m \u001B[43m        \u001B[49m\u001B[43my\u001B[49m\u001B[43m,\u001B[49m\n\u001B[0;32m    892\u001B[0m \u001B[43m        \u001B[49m\u001B[43msample_weight\u001B[49m\u001B[38;5;241;43m=\u001B[39;49m\u001B[43msample_weight\u001B[49m\u001B[43m,\u001B[49m\n\u001B[0;32m    893\u001B[0m \u001B[43m        \u001B[49m\u001B[43mcheck_input\u001B[49m\u001B[38;5;241;43m=\u001B[39;49m\u001B[43mcheck_input\u001B[49m\u001B[43m,\u001B[49m\n\u001B[0;32m    894\u001B[0m \u001B[43m    \u001B[49m\u001B[43m)\u001B[49m\n\u001B[0;32m    895\u001B[0m     \u001B[38;5;28;01mreturn\u001B[39;00m \u001B[38;5;28mself\u001B[39m\n",
      "File \u001B[1;32m~\\Downloads\\DataScience1\\venv\\lib\\site-packages\\sklearn\\tree\\_classes.py:186\u001B[0m, in \u001B[0;36mBaseDecisionTree.fit\u001B[1;34m(self, X, y, sample_weight, check_input)\u001B[0m\n\u001B[0;32m    184\u001B[0m check_X_params \u001B[38;5;241m=\u001B[39m \u001B[38;5;28mdict\u001B[39m(dtype\u001B[38;5;241m=\u001B[39mDTYPE, accept_sparse\u001B[38;5;241m=\u001B[39m\u001B[38;5;124m\"\u001B[39m\u001B[38;5;124mcsc\u001B[39m\u001B[38;5;124m\"\u001B[39m)\n\u001B[0;32m    185\u001B[0m check_y_params \u001B[38;5;241m=\u001B[39m \u001B[38;5;28mdict\u001B[39m(ensure_2d\u001B[38;5;241m=\u001B[39m\u001B[38;5;28;01mFalse\u001B[39;00m, dtype\u001B[38;5;241m=\u001B[39m\u001B[38;5;28;01mNone\u001B[39;00m)\n\u001B[1;32m--> 186\u001B[0m X, y \u001B[38;5;241m=\u001B[39m \u001B[38;5;28;43mself\u001B[39;49m\u001B[38;5;241;43m.\u001B[39;49m\u001B[43m_validate_data\u001B[49m\u001B[43m(\u001B[49m\n\u001B[0;32m    187\u001B[0m \u001B[43m    \u001B[49m\u001B[43mX\u001B[49m\u001B[43m,\u001B[49m\u001B[43m \u001B[49m\u001B[43my\u001B[49m\u001B[43m,\u001B[49m\u001B[43m \u001B[49m\u001B[43mvalidate_separately\u001B[49m\u001B[38;5;241;43m=\u001B[39;49m\u001B[43m(\u001B[49m\u001B[43mcheck_X_params\u001B[49m\u001B[43m,\u001B[49m\u001B[43m \u001B[49m\u001B[43mcheck_y_params\u001B[49m\u001B[43m)\u001B[49m\n\u001B[0;32m    188\u001B[0m \u001B[43m\u001B[49m\u001B[43m)\u001B[49m\n\u001B[0;32m    189\u001B[0m \u001B[38;5;28;01mif\u001B[39;00m issparse(X):\n\u001B[0;32m    190\u001B[0m     X\u001B[38;5;241m.\u001B[39msort_indices()\n",
      "File \u001B[1;32m~\\Downloads\\DataScience1\\venv\\lib\\site-packages\\sklearn\\base.py:579\u001B[0m, in \u001B[0;36mBaseEstimator._validate_data\u001B[1;34m(self, X, y, reset, validate_separately, **check_params)\u001B[0m\n\u001B[0;32m    577\u001B[0m \u001B[38;5;28;01mif\u001B[39;00m \u001B[38;5;124m\"\u001B[39m\u001B[38;5;124mestimator\u001B[39m\u001B[38;5;124m\"\u001B[39m \u001B[38;5;129;01mnot\u001B[39;00m \u001B[38;5;129;01min\u001B[39;00m check_X_params:\n\u001B[0;32m    578\u001B[0m     check_X_params \u001B[38;5;241m=\u001B[39m {\u001B[38;5;241m*\u001B[39m\u001B[38;5;241m*\u001B[39mdefault_check_params, \u001B[38;5;241m*\u001B[39m\u001B[38;5;241m*\u001B[39mcheck_X_params}\n\u001B[1;32m--> 579\u001B[0m X \u001B[38;5;241m=\u001B[39m check_array(X, input_name\u001B[38;5;241m=\u001B[39m\u001B[38;5;124m\"\u001B[39m\u001B[38;5;124mX\u001B[39m\u001B[38;5;124m\"\u001B[39m, \u001B[38;5;241m*\u001B[39m\u001B[38;5;241m*\u001B[39mcheck_X_params)\n\u001B[0;32m    580\u001B[0m \u001B[38;5;28;01mif\u001B[39;00m \u001B[38;5;124m\"\u001B[39m\u001B[38;5;124mestimator\u001B[39m\u001B[38;5;124m\"\u001B[39m \u001B[38;5;129;01mnot\u001B[39;00m \u001B[38;5;129;01min\u001B[39;00m check_y_params:\n\u001B[0;32m    581\u001B[0m     check_y_params \u001B[38;5;241m=\u001B[39m {\u001B[38;5;241m*\u001B[39m\u001B[38;5;241m*\u001B[39mdefault_check_params, \u001B[38;5;241m*\u001B[39m\u001B[38;5;241m*\u001B[39mcheck_y_params}\n",
      "File \u001B[1;32m~\\Downloads\\DataScience1\\venv\\lib\\site-packages\\sklearn\\utils\\validation.py:879\u001B[0m, in \u001B[0;36mcheck_array\u001B[1;34m(array, accept_sparse, accept_large_sparse, dtype, order, copy, force_all_finite, ensure_2d, allow_nd, ensure_min_samples, ensure_min_features, estimator, input_name)\u001B[0m\n\u001B[0;32m    877\u001B[0m         array \u001B[38;5;241m=\u001B[39m xp\u001B[38;5;241m.\u001B[39mastype(array, dtype, copy\u001B[38;5;241m=\u001B[39m\u001B[38;5;28;01mFalse\u001B[39;00m)\n\u001B[0;32m    878\u001B[0m     \u001B[38;5;28;01melse\u001B[39;00m:\n\u001B[1;32m--> 879\u001B[0m         array \u001B[38;5;241m=\u001B[39m \u001B[43m_asarray_with_order\u001B[49m\u001B[43m(\u001B[49m\u001B[43marray\u001B[49m\u001B[43m,\u001B[49m\u001B[43m \u001B[49m\u001B[43morder\u001B[49m\u001B[38;5;241;43m=\u001B[39;49m\u001B[43morder\u001B[49m\u001B[43m,\u001B[49m\u001B[43m \u001B[49m\u001B[43mdtype\u001B[49m\u001B[38;5;241;43m=\u001B[39;49m\u001B[43mdtype\u001B[49m\u001B[43m,\u001B[49m\u001B[43m \u001B[49m\u001B[43mxp\u001B[49m\u001B[38;5;241;43m=\u001B[39;49m\u001B[43mxp\u001B[49m\u001B[43m)\u001B[49m\n\u001B[0;32m    880\u001B[0m \u001B[38;5;28;01mexcept\u001B[39;00m ComplexWarning \u001B[38;5;28;01mas\u001B[39;00m complex_warning:\n\u001B[0;32m    881\u001B[0m     \u001B[38;5;28;01mraise\u001B[39;00m \u001B[38;5;167;01mValueError\u001B[39;00m(\n\u001B[0;32m    882\u001B[0m         \u001B[38;5;124m\"\u001B[39m\u001B[38;5;124mComplex data not supported\u001B[39m\u001B[38;5;130;01m\\n\u001B[39;00m\u001B[38;5;132;01m{}\u001B[39;00m\u001B[38;5;130;01m\\n\u001B[39;00m\u001B[38;5;124m\"\u001B[39m\u001B[38;5;241m.\u001B[39mformat(array)\n\u001B[0;32m    883\u001B[0m     ) \u001B[38;5;28;01mfrom\u001B[39;00m \u001B[38;5;21;01mcomplex_warning\u001B[39;00m\n",
      "File \u001B[1;32m~\\Downloads\\DataScience1\\venv\\lib\\site-packages\\sklearn\\utils\\_array_api.py:185\u001B[0m, in \u001B[0;36m_asarray_with_order\u001B[1;34m(array, dtype, order, copy, xp)\u001B[0m\n\u001B[0;32m    182\u001B[0m     xp, _ \u001B[38;5;241m=\u001B[39m get_namespace(array)\n\u001B[0;32m    183\u001B[0m \u001B[38;5;28;01mif\u001B[39;00m xp\u001B[38;5;241m.\u001B[39m\u001B[38;5;18m__name__\u001B[39m \u001B[38;5;129;01min\u001B[39;00m {\u001B[38;5;124m\"\u001B[39m\u001B[38;5;124mnumpy\u001B[39m\u001B[38;5;124m\"\u001B[39m, \u001B[38;5;124m\"\u001B[39m\u001B[38;5;124mnumpy.array_api\u001B[39m\u001B[38;5;124m\"\u001B[39m}:\n\u001B[0;32m    184\u001B[0m     \u001B[38;5;66;03m# Use NumPy API to support order\u001B[39;00m\n\u001B[1;32m--> 185\u001B[0m     array \u001B[38;5;241m=\u001B[39m \u001B[43mnumpy\u001B[49m\u001B[38;5;241;43m.\u001B[39;49m\u001B[43masarray\u001B[49m\u001B[43m(\u001B[49m\u001B[43marray\u001B[49m\u001B[43m,\u001B[49m\u001B[43m \u001B[49m\u001B[43morder\u001B[49m\u001B[38;5;241;43m=\u001B[39;49m\u001B[43morder\u001B[49m\u001B[43m,\u001B[49m\u001B[43m \u001B[49m\u001B[43mdtype\u001B[49m\u001B[38;5;241;43m=\u001B[39;49m\u001B[43mdtype\u001B[49m\u001B[43m)\u001B[49m\n\u001B[0;32m    186\u001B[0m     \u001B[38;5;28;01mreturn\u001B[39;00m xp\u001B[38;5;241m.\u001B[39masarray(array, copy\u001B[38;5;241m=\u001B[39mcopy)\n\u001B[0;32m    187\u001B[0m \u001B[38;5;28;01melse\u001B[39;00m:\n",
      "File \u001B[1;32m~\\Downloads\\DataScience1\\venv\\lib\\site-packages\\pandas\\core\\generic.py:1998\u001B[0m, in \u001B[0;36mNDFrame.__array__\u001B[1;34m(self, dtype)\u001B[0m\n\u001B[0;32m   1996\u001B[0m \u001B[38;5;28;01mdef\u001B[39;00m \u001B[38;5;21m__array__\u001B[39m(\u001B[38;5;28mself\u001B[39m, dtype: npt\u001B[38;5;241m.\u001B[39mDTypeLike \u001B[38;5;241m|\u001B[39m \u001B[38;5;28;01mNone\u001B[39;00m \u001B[38;5;241m=\u001B[39m \u001B[38;5;28;01mNone\u001B[39;00m) \u001B[38;5;241m-\u001B[39m\u001B[38;5;241m>\u001B[39m np\u001B[38;5;241m.\u001B[39mndarray:\n\u001B[0;32m   1997\u001B[0m     values \u001B[38;5;241m=\u001B[39m \u001B[38;5;28mself\u001B[39m\u001B[38;5;241m.\u001B[39m_values\n\u001B[1;32m-> 1998\u001B[0m     arr \u001B[38;5;241m=\u001B[39m \u001B[43mnp\u001B[49m\u001B[38;5;241;43m.\u001B[39;49m\u001B[43masarray\u001B[49m\u001B[43m(\u001B[49m\u001B[43mvalues\u001B[49m\u001B[43m,\u001B[49m\u001B[43m \u001B[49m\u001B[43mdtype\u001B[49m\u001B[38;5;241;43m=\u001B[39;49m\u001B[43mdtype\u001B[49m\u001B[43m)\u001B[49m\n\u001B[0;32m   1999\u001B[0m     \u001B[38;5;28;01mif\u001B[39;00m (\n\u001B[0;32m   2000\u001B[0m         astype_is_view(values\u001B[38;5;241m.\u001B[39mdtype, arr\u001B[38;5;241m.\u001B[39mdtype)\n\u001B[0;32m   2001\u001B[0m         \u001B[38;5;129;01mand\u001B[39;00m using_copy_on_write()\n\u001B[0;32m   2002\u001B[0m         \u001B[38;5;129;01mand\u001B[39;00m \u001B[38;5;28mself\u001B[39m\u001B[38;5;241m.\u001B[39m_mgr\u001B[38;5;241m.\u001B[39mis_single_block\n\u001B[0;32m   2003\u001B[0m     ):\n\u001B[0;32m   2004\u001B[0m         \u001B[38;5;66;03m# Check if both conversions can be done without a copy\u001B[39;00m\n\u001B[0;32m   2005\u001B[0m         \u001B[38;5;28;01mif\u001B[39;00m astype_is_view(\u001B[38;5;28mself\u001B[39m\u001B[38;5;241m.\u001B[39mdtypes\u001B[38;5;241m.\u001B[39miloc[\u001B[38;5;241m0\u001B[39m], values\u001B[38;5;241m.\u001B[39mdtype) \u001B[38;5;129;01mand\u001B[39;00m astype_is_view(\n\u001B[0;32m   2006\u001B[0m             values\u001B[38;5;241m.\u001B[39mdtype, arr\u001B[38;5;241m.\u001B[39mdtype\n\u001B[0;32m   2007\u001B[0m         ):\n",
      "\u001B[1;31mValueError\u001B[0m: could not convert string to float: 'Homer'"
     ]
    }
   ],
   "source": [
    "from sklearn import tree\n",
    "from sklearn.tree import DecisionTreeClassifier\n",
    "import matplotlib.pyplot as plt\n",
    "\n",
    "simpsons = pd.read_csv('data/simpsons.csv')\n",
    "display(simpsons)\n",
    "\n",
    "X = simpsons.drop(columns=['geslacht'])\n",
    "y = simpsons.geslacht\n",
    "\n",
    "model = DecisionTreeClassifier(criterion='entropy')\n",
    "model.fit(X, y)\n",
    "\n",
    "fig, ax = plt.subplots(figsize=(10, 5))\n",
    "_ = tree.plot_tree(model, ax=ax, feature_names=X.columns, class_names=np.unique(y), filled=True, fontsize=10, rounded=True)"
   ],
   "metadata": {
    "collapsed": false,
    "ExecuteTime": {
     "end_time": "2023-05-12T19:53:28.932634200Z",
     "start_time": "2023-05-12T19:53:27.055292700Z"
    }
   }
  },
  {
   "cell_type": "markdown",
   "metadata": {
    "collapsed": false,
    "id": "uU2X8GD-aU5y"
   },
   "source": [
    "## Pandas getdummies functie\n",
    "\n",
    "Met de `get_dummies` functie van Pandas kun je een kolom met categorische waarden omzetten naar meerdere kolommen met numerieke waarden. Dit is nodig omdat de DecisionTreeClassifier implementatie van Scikit-learn alleen numerieke waarden accepteert."
   ]
  },
  {
   "cell_type": "code",
   "metadata": {
    "id": "MiYGkkbaaU5y",
    "outputId": "b802312f-0247-4e35-bbc4-0b4e952c03de"
   },
   "source": [
    "from sklearn import tree\n",
    "from sklearn.tree import DecisionTreeClassifier\n",
    "import matplotlib.pyplot as plt\n",
    "\n",
    "simpsons = pd.read_csv('data/simpsons_nominal.csv', index_col=0)\n",
    "\n",
    "X = pd.get_dummies(simpsons.drop(columns=['geslacht']))\n",
    "y = simpsons.geslacht\n",
    "\n",
    "# toon dummies versie van Simpsons nominale dataset\n",
    "X.style.highlight_max(color='lightgreen', axis=0)\n",
    "\n",
    "model = DecisionTreeClassifier(criterion='entropy')\n",
    "model.fit(X, y)\n",
    "\n",
    "_, ax = plt.subplots(figsize=(10, 5))\n",
    "_ = tree.plot_tree(model, ax=ax, feature_names=X.columns, class_names=np.unique(y), filled=True, fontsize=10, rounded=True)"
   ],
   "execution_count": null,
   "outputs": []
  }
 ]
}
