{
 "cells": [
  {
   "cell_type": "markdown",
   "metadata": {},
   "source": [
    "# Populariteit van een app\n",
    "\n",
    "Een bedrijf heeft vorige maand een nieuwe app gelanceerd. Ze hebben iedere dag genoteerd hoeveel mensen deze gedownload hebben. Je vindt deze gegevens in “populariteitApp.csv”.\n",
    "\n",
    "Er zijn in dit geval geen verkeerde of ontbrekende gegevens.  Je zou het bestand dus gemakkelijk moeten kunnen lezen. Je moet wel zorgen dat de kolom \"downloads\" van het type `float` wordt.\n"
   ]
  },
  {
   "cell_type": "code",
   "execution_count": 19,
   "outputs": [
    {
     "data": {
      "text/plain": "         datum  downloads\n0   2013-03-01        2.0\n1   2013-03-02        5.0\n2   2013-03-03        6.0\n3   2013-03-04        4.0\n4   2013-03-05        4.0\n5   2013-03-06        9.0\n6   2013-03-07        9.0\n7   2013-03-08       10.0\n8   2013-03-09       11.0\n9   2013-03-10       13.0\n10  2013-03-11       13.0\n11  2013-03-12       12.0\n12  2013-03-13       15.0\n13  2013-03-14       16.0\n14  2013-03-15       15.0\n15  2013-03-16       18.0\n16  2013-03-17       20.0\n17  2013-03-18       19.0\n18  2013-03-19       19.0\n19  2013-03-20       21.0\n20  2013-03-21       21.0\n21  2013-03-22       22.0\n22  2013-03-23       25.0\n23  2013-03-24       27.0\n24  2013-03-25       26.0\n25  2013-03-26       27.0\n26  2013-03-27       28.0\n27  2013-03-28       30.0\n28  2013-03-29       29.0\n29  2013-03-30       32.0\n30  2013-03-31       34.0",
      "text/html": "<div>\n<style scoped>\n    .dataframe tbody tr th:only-of-type {\n        vertical-align: middle;\n    }\n\n    .dataframe tbody tr th {\n        vertical-align: top;\n    }\n\n    .dataframe thead th {\n        text-align: right;\n    }\n</style>\n<table border=\"1\" class=\"dataframe\">\n  <thead>\n    <tr style=\"text-align: right;\">\n      <th></th>\n      <th>datum</th>\n      <th>downloads</th>\n    </tr>\n  </thead>\n  <tbody>\n    <tr>\n      <th>0</th>\n      <td>2013-03-01</td>\n      <td>2.0</td>\n    </tr>\n    <tr>\n      <th>1</th>\n      <td>2013-03-02</td>\n      <td>5.0</td>\n    </tr>\n    <tr>\n      <th>2</th>\n      <td>2013-03-03</td>\n      <td>6.0</td>\n    </tr>\n    <tr>\n      <th>3</th>\n      <td>2013-03-04</td>\n      <td>4.0</td>\n    </tr>\n    <tr>\n      <th>4</th>\n      <td>2013-03-05</td>\n      <td>4.0</td>\n    </tr>\n    <tr>\n      <th>5</th>\n      <td>2013-03-06</td>\n      <td>9.0</td>\n    </tr>\n    <tr>\n      <th>6</th>\n      <td>2013-03-07</td>\n      <td>9.0</td>\n    </tr>\n    <tr>\n      <th>7</th>\n      <td>2013-03-08</td>\n      <td>10.0</td>\n    </tr>\n    <tr>\n      <th>8</th>\n      <td>2013-03-09</td>\n      <td>11.0</td>\n    </tr>\n    <tr>\n      <th>9</th>\n      <td>2013-03-10</td>\n      <td>13.0</td>\n    </tr>\n    <tr>\n      <th>10</th>\n      <td>2013-03-11</td>\n      <td>13.0</td>\n    </tr>\n    <tr>\n      <th>11</th>\n      <td>2013-03-12</td>\n      <td>12.0</td>\n    </tr>\n    <tr>\n      <th>12</th>\n      <td>2013-03-13</td>\n      <td>15.0</td>\n    </tr>\n    <tr>\n      <th>13</th>\n      <td>2013-03-14</td>\n      <td>16.0</td>\n    </tr>\n    <tr>\n      <th>14</th>\n      <td>2013-03-15</td>\n      <td>15.0</td>\n    </tr>\n    <tr>\n      <th>15</th>\n      <td>2013-03-16</td>\n      <td>18.0</td>\n    </tr>\n    <tr>\n      <th>16</th>\n      <td>2013-03-17</td>\n      <td>20.0</td>\n    </tr>\n    <tr>\n      <th>17</th>\n      <td>2013-03-18</td>\n      <td>19.0</td>\n    </tr>\n    <tr>\n      <th>18</th>\n      <td>2013-03-19</td>\n      <td>19.0</td>\n    </tr>\n    <tr>\n      <th>19</th>\n      <td>2013-03-20</td>\n      <td>21.0</td>\n    </tr>\n    <tr>\n      <th>20</th>\n      <td>2013-03-21</td>\n      <td>21.0</td>\n    </tr>\n    <tr>\n      <th>21</th>\n      <td>2013-03-22</td>\n      <td>22.0</td>\n    </tr>\n    <tr>\n      <th>22</th>\n      <td>2013-03-23</td>\n      <td>25.0</td>\n    </tr>\n    <tr>\n      <th>23</th>\n      <td>2013-03-24</td>\n      <td>27.0</td>\n    </tr>\n    <tr>\n      <th>24</th>\n      <td>2013-03-25</td>\n      <td>26.0</td>\n    </tr>\n    <tr>\n      <th>25</th>\n      <td>2013-03-26</td>\n      <td>27.0</td>\n    </tr>\n    <tr>\n      <th>26</th>\n      <td>2013-03-27</td>\n      <td>28.0</td>\n    </tr>\n    <tr>\n      <th>27</th>\n      <td>2013-03-28</td>\n      <td>30.0</td>\n    </tr>\n    <tr>\n      <th>28</th>\n      <td>2013-03-29</td>\n      <td>29.0</td>\n    </tr>\n    <tr>\n      <th>29</th>\n      <td>2013-03-30</td>\n      <td>32.0</td>\n    </tr>\n    <tr>\n      <th>30</th>\n      <td>2013-03-31</td>\n      <td>34.0</td>\n    </tr>\n  </tbody>\n</table>\n</div>"
     },
     "metadata": {},
     "output_type": "display_data"
    }
   ],
   "source": [
    "import pandas as pd\n",
    "import numpy as np\n",
    "from statsmodels.tsa.seasonal import seasonal_decompose\n",
    "from statsmodels.tsa.api import SimpleExpSmoothing\n",
    "\n",
    "populariteitApp = pd.read_csv('data/populariteitApp.csv', sep=',')\n",
    "populariteitApp['downloads'] = populariteitApp['downloads'].astype(float)\n",
    "\n",
    "display(populariteitApp)"
   ],
   "metadata": {
    "collapsed": false,
    "ExecuteTime": {
     "end_time": "2023-06-12T17:36:49.898353600Z",
     "start_time": "2023-06-12T17:36:49.754622Z"
    }
   }
  },
  {
   "cell_type": "markdown",
   "metadata": {},
   "source": [
    "1.\tMaak een plot van de gegevens zodat je al wat inzicht krijgt in de data."
   ]
  },
  {
   "cell_type": "code",
   "execution_count": 20,
   "outputs": [
    {
     "data": {
      "text/plain": "<Figure size 1000x500 with 1 Axes>",
      "image/png": "[encoded data removed]"
     },
     "metadata": {},
     "output_type": "display_data"
    }
   ],
   "source": [
    "from matplotlib import pyplot as plt\n",
    "\n",
    "fig,ax=plt.subplots(figsize=(10, 5))\n",
    "_=ax.plot(populariteitApp.downloads, marker='o')"
   ],
   "metadata": {
    "collapsed": false,
    "ExecuteTime": {
     "end_time": "2023-06-12T17:36:50.087348200Z",
     "start_time": "2023-06-12T17:36:49.779651300Z"
    }
   }
  },
  {
   "cell_type": "markdown",
   "metadata": {},
   "source": [
    "2.\tKan je de seizoensgrootte vinden?\n",
    "Tip: gebruik acorr-functie op downloads die je eerst omzet naar Numpy array van floats."
   ]
  },
  {
   "cell_type": "code",
   "execution_count": 21,
   "outputs": [
    {
     "data": {
      "text/plain": "    lags       acf\n15     0  1.000000\n16     1  0.946835\n14    -1  0.946835\n13    -2  0.897689\n17     2  0.897689\n18     3  0.857920\n12    -3  0.857920\n19     4  0.811788\n11    -4  0.811788\n20     5  0.766996\n10    -5  0.766996\n21     6  0.724632\n9     -6  0.724632\n22     7  0.683774\n8     -7  0.683774\n23     8  0.634963\n7     -8  0.634963\n6     -9  0.589334\n24     9  0.589334\n25    10  0.552662\n5    -10  0.552662\n26    11  0.515824\n4    -11  0.515824\n3    -12  0.476055\n27    12  0.476055\n2    -13  0.442230\n28    13  0.442230\n1    -14  0.407652\n29    14  0.407652\n0    -15  0.366293\n30    15  0.366293",
      "text/html": "<div>\n<style scoped>\n    .dataframe tbody tr th:only-of-type {\n        vertical-align: middle;\n    }\n\n    .dataframe tbody tr th {\n        vertical-align: top;\n    }\n\n    .dataframe thead th {\n        text-align: right;\n    }\n</style>\n<table border=\"1\" class=\"dataframe\">\n  <thead>\n    <tr style=\"text-align: right;\">\n      <th></th>\n      <th>lags</th>\n      <th>acf</th>\n    </tr>\n  </thead>\n  <tbody>\n    <tr>\n      <th>15</th>\n      <td>0</td>\n      <td>1.000000</td>\n    </tr>\n    <tr>\n      <th>16</th>\n      <td>1</td>\n      <td>0.946835</td>\n    </tr>\n    <tr>\n      <th>14</th>\n      <td>-1</td>\n      <td>0.946835</td>\n    </tr>\n    <tr>\n      <th>13</th>\n      <td>-2</td>\n      <td>0.897689</td>\n    </tr>\n    <tr>\n      <th>17</th>\n      <td>2</td>\n      <td>0.897689</td>\n    </tr>\n    <tr>\n      <th>18</th>\n      <td>3</td>\n      <td>0.857920</td>\n    </tr>\n    <tr>\n      <th>12</th>\n      <td>-3</td>\n      <td>0.857920</td>\n    </tr>\n    <tr>\n      <th>19</th>\n      <td>4</td>\n      <td>0.811788</td>\n    </tr>\n    <tr>\n      <th>11</th>\n      <td>-4</td>\n      <td>0.811788</td>\n    </tr>\n    <tr>\n      <th>20</th>\n      <td>5</td>\n      <td>0.766996</td>\n    </tr>\n    <tr>\n      <th>10</th>\n      <td>-5</td>\n      <td>0.766996</td>\n    </tr>\n    <tr>\n      <th>21</th>\n      <td>6</td>\n      <td>0.724632</td>\n    </tr>\n    <tr>\n      <th>9</th>\n      <td>-6</td>\n      <td>0.724632</td>\n    </tr>\n    <tr>\n      <th>22</th>\n      <td>7</td>\n      <td>0.683774</td>\n    </tr>\n    <tr>\n      <th>8</th>\n      <td>-7</td>\n      <td>0.683774</td>\n    </tr>\n    <tr>\n      <th>23</th>\n      <td>8</td>\n      <td>0.634963</td>\n    </tr>\n    <tr>\n      <th>7</th>\n      <td>-8</td>\n      <td>0.634963</td>\n    </tr>\n    <tr>\n      <th>6</th>\n      <td>-9</td>\n      <td>0.589334</td>\n    </tr>\n    <tr>\n      <th>24</th>\n      <td>9</td>\n      <td>0.589334</td>\n    </tr>\n    <tr>\n      <th>25</th>\n      <td>10</td>\n      <td>0.552662</td>\n    </tr>\n    <tr>\n      <th>5</th>\n      <td>-10</td>\n      <td>0.552662</td>\n    </tr>\n    <tr>\n      <th>26</th>\n      <td>11</td>\n      <td>0.515824</td>\n    </tr>\n    <tr>\n      <th>4</th>\n      <td>-11</td>\n      <td>0.515824</td>\n    </tr>\n    <tr>\n      <th>3</th>\n      <td>-12</td>\n      <td>0.476055</td>\n    </tr>\n    <tr>\n      <th>27</th>\n      <td>12</td>\n      <td>0.476055</td>\n    </tr>\n    <tr>\n      <th>2</th>\n      <td>-13</td>\n      <td>0.442230</td>\n    </tr>\n    <tr>\n      <th>28</th>\n      <td>13</td>\n      <td>0.442230</td>\n    </tr>\n    <tr>\n      <th>1</th>\n      <td>-14</td>\n      <td>0.407652</td>\n    </tr>\n    <tr>\n      <th>29</th>\n      <td>14</td>\n      <td>0.407652</td>\n    </tr>\n    <tr>\n      <th>0</th>\n      <td>-15</td>\n      <td>0.366293</td>\n    </tr>\n    <tr>\n      <th>30</th>\n      <td>15</td>\n      <td>0.366293</td>\n    </tr>\n  </tbody>\n</table>\n</div>"
     },
     "metadata": {},
     "output_type": "display_data"
    },
    {
     "name": "stdout",
     "output_type": "stream",
     "text": [
      "Periode: [1]\n"
     ]
    },
    {
     "data": {
      "text/plain": "<Figure size 1000x500 with 1 Axes>",
      "image/png": "[encoded data removed]"
     },
     "metadata": {},
     "output_type": "display_data"
    }
   ],
   "source": [
    "from statsmodels.tsa.stattools import acf\n",
    "import matplotlib.pyplot as plt\n",
    "\n",
    "def find_period(y: np.array, maxlags=10, top_n=1) -> int:\n",
    "    acf_vals = acf(y, nlags=maxlags)\n",
    "    return (np.argsort(-1 * acf_vals)[1:top_n+1])\n",
    "\n",
    "downloads = populariteitApp['downloads']\n",
    "\n",
    "fig, ax = plt.subplots(figsize=(10, 5))\n",
    "lags, acfs, _, _ = ax.acorr(downloads, maxlags=15)\n",
    "autocorrelatie = pd.DataFrame({'lags': lags, 'acf': acfs}).sort_values(by='acf', ascending=False)\n",
    "display(autocorrelatie)\n",
    "\n",
    "periode = find_period(downloads, maxlags=20, top_n=1)\n",
    "print(\"Periode:\", periode)"
   ],
   "metadata": {
    "collapsed": false,
    "ExecuteTime": {
     "end_time": "2023-06-12T17:36:50.113586900Z",
     "start_time": "2023-06-12T17:36:49.960482500Z"
    }
   }
  },
  {
   "cell_type": "markdown",
   "metadata": {},
   "source": [
    "3.\tVoorspel nu, voor iedere voorspellingsmethode, de drie volgende dagen.  Bereken telkens de MAE, RMSE en de MAPE.\n",
    "\n",
    "Vervolledig volgende tabel met alle resultaten.\n",
    "\n",
    "| techniek             | dag 1 | dag 2 | dag 3 | MAE | RMSE | MAPE |\n",
    "|----------------------|-------|-------|-------|-----|------|------|\n",
    "| naief (observatie)             | &nbsp;| &nbsp;|&nbsp; |&nbsp;|&nbsp;|&nbsp;|\n",
    "| average           | &nbsp;| &nbsp;|&nbsp; |&nbsp;|&nbsp;|&nbsp;|\n",
    "| voortschrijdend(m=5) | &nbsp;| &nbsp;|&nbsp; |&nbsp;|&nbsp;|&nbsp;|\n",
    "| lin.comb. (m=13)     | &nbsp;| &nbsp;|&nbsp; |&nbsp;|&nbsp;|&nbsp;|\n",
    "| trend                | &nbsp;| &nbsp;|&nbsp; |&nbsp;|&nbsp;|&nbsp;|\n",
    "| add. decomp. (m=7)   | &nbsp;| &nbsp;|&nbsp; |&nbsp;|&nbsp;|&nbsp;|\n",
    "| multi.decomp. (m=7)  | &nbsp;| &nbsp;|&nbsp; |&nbsp;|&nbsp;|&nbsp;|"
   ]
  },
  {
   "cell_type": "code",
   "execution_count": 22,
   "outputs": [
    {
     "data": {
      "text/plain": "                     dag 1      dag 2      dag 3       MAE      RMSE      MAPE\nnaive            34.000000  34.000000  34.000000  1.533333  1.914854  0.119949\ngemiddelde       17.483871  17.483871  17.483871  8.202828  9.302767  0.433869\nvoortschrijdend  30.600000  31.120000  31.344000  3.130769  3.366578  0.183542\nlin_comb         36.832063  37.384059  42.098808  1.531631  1.780848  0.048856\ntrend            33.309677  34.298790  35.287903  1.003642  1.156301  0.104034\nadd_model        33.988637  34.962483  35.936330  1.158930  1.485943  0.132680\nmult_model       32.118228  33.065599  34.012969  1.135491  1.323084  0.110438",
      "text/html": "<div>\n<style scoped>\n    .dataframe tbody tr th:only-of-type {\n        vertical-align: middle;\n    }\n\n    .dataframe tbody tr th {\n        vertical-align: top;\n    }\n\n    .dataframe thead th {\n        text-align: right;\n    }\n</style>\n<table border=\"1\" class=\"dataframe\">\n  <thead>\n    <tr style=\"text-align: right;\">\n      <th></th>\n      <th>dag 1</th>\n      <th>dag 2</th>\n      <th>dag 3</th>\n      <th>MAE</th>\n      <th>RMSE</th>\n      <th>MAPE</th>\n    </tr>\n  </thead>\n  <tbody>\n    <tr>\n      <th>naive</th>\n      <td>34.000000</td>\n      <td>34.000000</td>\n      <td>34.000000</td>\n      <td>1.533333</td>\n      <td>1.914854</td>\n      <td>0.119949</td>\n    </tr>\n    <tr>\n      <th>gemiddelde</th>\n      <td>17.483871</td>\n      <td>17.483871</td>\n      <td>17.483871</td>\n      <td>8.202828</td>\n      <td>9.302767</td>\n      <td>0.433869</td>\n    </tr>\n    <tr>\n      <th>voortschrijdend</th>\n      <td>30.600000</td>\n      <td>31.120000</td>\n      <td>31.344000</td>\n      <td>3.130769</td>\n      <td>3.366578</td>\n      <td>0.183542</td>\n    </tr>\n    <tr>\n      <th>lin_comb</th>\n      <td>36.832063</td>\n      <td>37.384059</td>\n      <td>42.098808</td>\n      <td>1.531631</td>\n      <td>1.780848</td>\n      <td>0.048856</td>\n    </tr>\n    <tr>\n      <th>trend</th>\n      <td>33.309677</td>\n      <td>34.298790</td>\n      <td>35.287903</td>\n      <td>1.003642</td>\n      <td>1.156301</td>\n      <td>0.104034</td>\n    </tr>\n    <tr>\n      <th>add_model</th>\n      <td>33.988637</td>\n      <td>34.962483</td>\n      <td>35.936330</td>\n      <td>1.158930</td>\n      <td>1.485943</td>\n      <td>0.132680</td>\n    </tr>\n    <tr>\n      <th>mult_model</th>\n      <td>32.118228</td>\n      <td>33.065599</td>\n      <td>34.012969</td>\n      <td>1.135491</td>\n      <td>1.323084</td>\n      <td>0.110438</td>\n    </tr>\n  </tbody>\n</table>\n</div>"
     },
     "metadata": {},
     "output_type": "display_data"
    }
   ],
   "source": [
    "from W20P4.forecast import *\n",
    "from statsmodels.tsa.seasonal import seasonal_decompose\n",
    "\n",
    "n = populariteitApp.downloads.size\n",
    "nn = n + 3\n",
    "downloads = populariteitApp.downloads.to_numpy()\n",
    "# voorspellingen doen voo\n",
    "naief = predict(downloads, 0, nn, naive)\n",
    "gemiddelde = predict(downloads, 0, nn, average)\n",
    "voortschrijdend = predict(downloads, 0, nn, moving_average, 5)\n",
    "lin_comb = predict(downloads, 0, nn, linear_combination, 13)\n",
    "trend = create_trend_model(downloads)(np.arange(nn).reshape(-1, 1))\n",
    "add_model = seasonal_decompose(downloads, model='additive', period=7)\n",
    "mult_model = seasonal_decompose(downloads, model='multiplicative', period=7)\n",
    "\n",
    "# voorspellingen voor de komende 3 dagen\n",
    "\n",
    "# seasonal decompositie voorspellingen hebben twee modellen nodig: regressie en sd model\n",
    "reg_model = GeneralRegression()\n",
    "x = np.arange(n)[~np.isnan(add_model.trend)]\n",
    "y = add_model.trend[~np.isnan(add_model.trend)]\n",
    "reg_model.fit(x, y)\n",
    "\n",
    "add_model_pred = seasonal_decomposition_forecast(reg_model, mult_model, 0, nn)\n",
    "mult_model_pred = seasonal_decomposition_forecast(reg_model, mult_model, 0, nn, method='multiplicative')\n",
    "\n",
    "dagen = pd.concat([\n",
    "    pd.Series(naief[n:nn], name='naive'),\n",
    "    pd.Series(gemiddelde[n:nn], name='gemiddelde'),\n",
    "    pd.Series(voortschrijdend[n:nn], name='voortschrijdend'),\n",
    "    pd.Series(lin_comb[n:nn], name='lin_comb'),\n",
    "    pd.Series(trend[n:nn], name='trend'),\n",
    "    pd.Series(add_model_pred[n:nn], name='add_model'),\n",
    "    pd.Series(mult_model_pred[n:nn], name='mult_model')],\n",
    "    axis=1)\n",
    "dagen.index = ['dag {}'.format(i) for i in range(1, 4)]\n",
    "\n",
    "# errors berekenen\n",
    "errors = pd.concat([\n",
    "    forecast_errors(downloads, naief[:n], method='naive'),\n",
    "    forecast_errors(downloads, gemiddelde[:n], method='gemiddelde'),\n",
    "    forecast_errors(downloads, voortschrijdend[:n], method='voortschrijdend'),\n",
    "    forecast_errors(downloads, lin_comb[:n], method='lin_comb'),\n",
    "    forecast_errors(downloads, trend[:n], method='trend'),\n",
    "    forecast_errors(downloads, add_model_pred[:n], method='add_model'),\n",
    "    forecast_errors(downloads, mult_model_pred[:n], method='mult_model')])\n",
    "\n",
    "alleData = pd.merge(dagen.transpose(), errors, left_index=True, right_index=True)\n",
    "display(alleData)"
   ],
   "metadata": {
    "collapsed": false,
    "ExecuteTime": {
     "end_time": "2023-06-12T17:36:50.274814400Z",
     "start_time": "2023-06-12T17:36:50.111376700Z"
    }
   }
  },
  {
   "cell_type": "markdown",
   "metadata": {},
   "source": [
    "4.\tlineaire combinatie: welke gewichten vind je?  Welke waarde speelt dus de grootste rol in het voorspellen van de volgende waarde?"
   ]
  },
  {
   "cell_type": "code",
   "execution_count": 23,
   "outputs": [
    {
     "name": "stdout",
     "output_type": "stream",
     "text": [
      "nan\n"
     ]
    }
   ],
   "source": [
    "from W20P4.forecast import bereken_gewichten\n",
    "\n",
    "gewichten = bereken_gewichten(x, 13)\n",
    "print(gewichten)"
   ],
   "metadata": {
    "collapsed": false,
    "ExecuteTime": {
     "end_time": "2023-06-12T17:36:50.275857100Z",
     "start_time": "2023-06-12T17:36:50.154529Z"
    }
   }
  },
  {
   "cell_type": "markdown",
   "metadata": {},
   "source": [
    "5.\ttrend: wat is de formule van de regressielijn?"
   ]
  },
  {
   "cell_type": "code",
   "execution_count": 24,
   "outputs": [],
   "source": [
    "# y = m * x + b\n",
    "# waarbij:\n",
    "#     y de afhankelijke variabele is (populairiteit)\n",
    "#     x de onafhankelijke variabele is (tijd)\n",
    "#     m de helling van de lijn is (toename van populairiteit per eenheid tijd)\n",
    "#     b de intercept van de lijn is (populairiteit op tijdstip 0)"
   ],
   "metadata": {
    "collapsed": false,
    "ExecuteTime": {
     "end_time": "2023-06-12T17:36:50.276771300Z",
     "start_time": "2023-06-12T17:36:50.169670100Z"
    }
   }
  },
  {
   "cell_type": "markdown",
   "metadata": {},
   "source": [
    "6.\tadditieve decompositie: wat is de formule voor de trendlijn?"
   ]
  },
  {
   "cell_type": "code",
   "execution_count": 25,
   "outputs": [],
   "source": [
    "# In additieve decompositie wordt de tijdreeks opgesplitst in drie componenten:\n",
    "# trend, seizoensinvloeden en rest. De formule voor de trendlijn bij additieve\n",
    "# decompositie kan worden berekend door de trendcomponent te nemen en daarvan de\n",
    "# seizoensinvloeden en de restcomponent af te trekken:\n",
    "#\n",
    "# trendlijn = trend - seizoensinvloeden - rest"
   ],
   "metadata": {
    "collapsed": false,
    "ExecuteTime": {
     "end_time": "2023-06-12T17:36:50.276771300Z",
     "start_time": "2023-06-12T17:36:50.185584200Z"
    }
   }
  },
  {
   "cell_type": "markdown",
   "metadata": {},
   "source": [
    "7.\tadditieve decompositie: wat zijn de waarden voor het weerkerend patroon?"
   ]
  },
  {
   "cell_type": "code",
   "execution_count": 26,
   "outputs": [
    {
     "data": {
      "text/plain": "           0\n0  -0.741497\n1   0.496599\n2   1.591837\n3  -0.443878\n4  -1.408163\n5   0.377551\n6   0.127551\n7  -0.741497\n8   0.496599\n9   1.591837\n10 -0.443878\n11 -1.408163\n12  0.377551\n13  0.127551\n14 -0.741497\n15  0.496599\n16  1.591837\n17 -0.443878\n18 -1.408163\n19  0.377551\n20  0.127551\n21 -0.741497\n22  0.496599\n23  1.591837\n24 -0.443878\n25 -1.408163\n26  0.377551\n27  0.127551\n28 -0.741497\n29  0.496599\n30  1.591837",
      "text/html": "<div>\n<style scoped>\n    .dataframe tbody tr th:only-of-type {\n        vertical-align: middle;\n    }\n\n    .dataframe tbody tr th {\n        vertical-align: top;\n    }\n\n    .dataframe thead th {\n        text-align: right;\n    }\n</style>\n<table border=\"1\" class=\"dataframe\">\n  <thead>\n    <tr style=\"text-align: right;\">\n      <th></th>\n      <th>0</th>\n    </tr>\n  </thead>\n  <tbody>\n    <tr>\n      <th>0</th>\n      <td>-0.741497</td>\n    </tr>\n    <tr>\n      <th>1</th>\n      <td>0.496599</td>\n    </tr>\n    <tr>\n      <th>2</th>\n      <td>1.591837</td>\n    </tr>\n    <tr>\n      <th>3</th>\n      <td>-0.443878</td>\n    </tr>\n    <tr>\n      <th>4</th>\n      <td>-1.408163</td>\n    </tr>\n    <tr>\n      <th>5</th>\n      <td>0.377551</td>\n    </tr>\n    <tr>\n      <th>6</th>\n      <td>0.127551</td>\n    </tr>\n    <tr>\n      <th>7</th>\n      <td>-0.741497</td>\n    </tr>\n    <tr>\n      <th>8</th>\n      <td>0.496599</td>\n    </tr>\n    <tr>\n      <th>9</th>\n      <td>1.591837</td>\n    </tr>\n    <tr>\n      <th>10</th>\n      <td>-0.443878</td>\n    </tr>\n    <tr>\n      <th>11</th>\n      <td>-1.408163</td>\n    </tr>\n    <tr>\n      <th>12</th>\n      <td>0.377551</td>\n    </tr>\n    <tr>\n      <th>13</th>\n      <td>0.127551</td>\n    </tr>\n    <tr>\n      <th>14</th>\n      <td>-0.741497</td>\n    </tr>\n    <tr>\n      <th>15</th>\n      <td>0.496599</td>\n    </tr>\n    <tr>\n      <th>16</th>\n      <td>1.591837</td>\n    </tr>\n    <tr>\n      <th>17</th>\n      <td>-0.443878</td>\n    </tr>\n    <tr>\n      <th>18</th>\n      <td>-1.408163</td>\n    </tr>\n    <tr>\n      <th>19</th>\n      <td>0.377551</td>\n    </tr>\n    <tr>\n      <th>20</th>\n      <td>0.127551</td>\n    </tr>\n    <tr>\n      <th>21</th>\n      <td>-0.741497</td>\n    </tr>\n    <tr>\n      <th>22</th>\n      <td>0.496599</td>\n    </tr>\n    <tr>\n      <th>23</th>\n      <td>1.591837</td>\n    </tr>\n    <tr>\n      <th>24</th>\n      <td>-0.443878</td>\n    </tr>\n    <tr>\n      <th>25</th>\n      <td>-1.408163</td>\n    </tr>\n    <tr>\n      <th>26</th>\n      <td>0.377551</td>\n    </tr>\n    <tr>\n      <th>27</th>\n      <td>0.127551</td>\n    </tr>\n    <tr>\n      <th>28</th>\n      <td>-0.741497</td>\n    </tr>\n    <tr>\n      <th>29</th>\n      <td>0.496599</td>\n    </tr>\n    <tr>\n      <th>30</th>\n      <td>1.591837</td>\n    </tr>\n  </tbody>\n</table>\n</div>"
     },
     "metadata": {},
     "output_type": "display_data"
    }
   ],
   "source": [
    "additive_model = seasonal_decompose(downloads, model='additive', period=7)\n",
    "seasonal = pd.DataFrame(additive_model.seasonal)\n",
    "display(seasonal)"
   ],
   "metadata": {
    "collapsed": false,
    "ExecuteTime": {
     "end_time": "2023-06-12T17:36:50.277841200Z",
     "start_time": "2023-06-12T17:36:50.212631900Z"
    }
   }
  },
  {
   "cell_type": "markdown",
   "metadata": {},
   "source": [
    "8.\tmultiplicatieve decompositie: wat is de formule voor de trendlijn?"
   ]
  },
  {
   "cell_type": "code",
   "execution_count": 27,
   "outputs": [],
   "source": [
    "# In een multiplicatieve decompositie wordt de tijdserie geschreven als de product van een trendlijn,\n",
    "# een seizoenscomponent en een residu. De formule voor de trendlijn in een multiplicatieve decompositie is:\n",
    "#\n",
    "# Trend = Y / (S * R)\n",
    "#\n",
    "# waarbij Y de oorspronkelijke tijdserie is, S de seizoenscomponent en R het residu."
   ],
   "metadata": {
    "collapsed": false,
    "ExecuteTime": {
     "end_time": "2023-06-12T17:36:50.300012500Z",
     "start_time": "2023-06-12T17:36:50.215644100Z"
    }
   }
  },
  {
   "cell_type": "markdown",
   "metadata": {},
   "source": [
    "9.\tmultiplicatieve decompositie: wat zijn de waarden voor het weerkerend patroon?"
   ]
  },
  {
   "cell_type": "code",
   "execution_count": 28,
   "outputs": [
    {
     "data": {
      "text/plain": "          0\n0  0.972813\n1  1.034956\n2  1.100970\n3  0.939276\n4  0.863758\n5  1.063280\n6  1.024946",
      "text/html": "<div>\n<style scoped>\n    .dataframe tbody tr th:only-of-type {\n        vertical-align: middle;\n    }\n\n    .dataframe tbody tr th {\n        vertical-align: top;\n    }\n\n    .dataframe thead th {\n        text-align: right;\n    }\n</style>\n<table border=\"1\" class=\"dataframe\">\n  <thead>\n    <tr style=\"text-align: right;\">\n      <th></th>\n      <th>0</th>\n    </tr>\n  </thead>\n  <tbody>\n    <tr>\n      <th>0</th>\n      <td>0.972813</td>\n    </tr>\n    <tr>\n      <th>1</th>\n      <td>1.034956</td>\n    </tr>\n    <tr>\n      <th>2</th>\n      <td>1.100970</td>\n    </tr>\n    <tr>\n      <th>3</th>\n      <td>0.939276</td>\n    </tr>\n    <tr>\n      <th>4</th>\n      <td>0.863758</td>\n    </tr>\n    <tr>\n      <th>5</th>\n      <td>1.063280</td>\n    </tr>\n    <tr>\n      <th>6</th>\n      <td>1.024946</td>\n    </tr>\n  </tbody>\n</table>\n</div>"
     },
     "metadata": {},
     "output_type": "display_data"
    }
   ],
   "source": [
    "multiplicatieve_model = seasonal_decompose(downloads, model='multiplicatieve', period=7)\n",
    "seasonal = pd.DataFrame(multiplicatieve_model.seasonal[:7])\n",
    "display(seasonal)"
   ],
   "metadata": {
    "collapsed": false,
    "ExecuteTime": {
     "end_time": "2023-06-12T17:36:50.302525800Z",
     "start_time": "2023-06-12T17:36:50.235167800Z"
    }
   }
  },
  {
   "cell_type": "markdown",
   "metadata": {},
   "source": [
    "10.\twelke techniek geeft de beste voorspelling en waarom?\n"
   ]
  },
  {
   "cell_type": "code",
   "execution_count": 29,
   "outputs": [
    {
     "data": {
      "text/plain": "                           MAE      RMSE      MAPE\nmultiplicative_model  0.868624  1.153251  0.083637",
      "text/html": "<div>\n<style scoped>\n    .dataframe tbody tr th:only-of-type {\n        vertical-align: middle;\n    }\n\n    .dataframe tbody tr th {\n        vertical-align: top;\n    }\n\n    .dataframe thead th {\n        text-align: right;\n    }\n</style>\n<table border=\"1\" class=\"dataframe\">\n  <thead>\n    <tr style=\"text-align: right;\">\n      <th></th>\n      <th>MAE</th>\n      <th>RMSE</th>\n      <th>MAPE</th>\n    </tr>\n  </thead>\n  <tbody>\n    <tr>\n      <th>multiplicative_model</th>\n      <td>0.868624</td>\n      <td>1.153251</td>\n      <td>0.083637</td>\n    </tr>\n  </tbody>\n</table>\n</div>"
     },
     "metadata": {},
     "output_type": "display_data"
    },
    {
     "data": {
      "text/plain": "                     MAE     RMSE      MAPE\nadditive_model  0.507237  0.65991  0.051763",
      "text/html": "<div>\n<style scoped>\n    .dataframe tbody tr th:only-of-type {\n        vertical-align: middle;\n    }\n\n    .dataframe tbody tr th {\n        vertical-align: top;\n    }\n\n    .dataframe thead th {\n        text-align: right;\n    }\n</style>\n<table border=\"1\" class=\"dataframe\">\n  <thead>\n    <tr style=\"text-align: right;\">\n      <th></th>\n      <th>MAE</th>\n      <th>RMSE</th>\n      <th>MAPE</th>\n    </tr>\n  </thead>\n  <tbody>\n    <tr>\n      <th>additive_model</th>\n      <td>0.507237</td>\n      <td>0.65991</td>\n      <td>0.051763</td>\n    </tr>\n  </tbody>\n</table>\n</div>"
     },
     "metadata": {},
     "output_type": "display_data"
    }
   ],
   "source": [
    "multiplicatieve_model = seasonal_decompose(downloads, model='multiplicatieve', period=7)\n",
    "additive_model = seasonal_decompose(downloads, model='additive', period=7)\n",
    "\n",
    "n = populariteitApp.downloads.size\n",
    "\n",
    "\n",
    "predictions = seasonal_decomposition_forecast(reg_model, multiplicatieve_model, 0, 31, method='multiplicative', m=7)\n",
    "errors = forecast_errors(populariteitApp.downloads, predictions, method='multiplicative_model')\n",
    "display(errors)\n",
    "\n",
    "predictions = seasonal_decomposition_forecast(reg_model, additive_model, 0, 31, method='additive', m=7)\n",
    "errors = forecast_errors(populariteitApp.downloads, predictions, method='additive_model')\n",
    "display(errors)"
   ],
   "metadata": {
    "collapsed": false,
    "ExecuteTime": {
     "end_time": "2023-06-12T17:36:50.304525400Z",
     "start_time": "2023-06-12T17:36:50.259604800Z"
    }
   }
  },
  {
   "cell_type": "markdown",
   "source": [
    "11. Zoek de periode van de dataset."
   ],
   "metadata": {
    "collapsed": false
   }
  },
  {
   "cell_type": "code",
   "execution_count": 30,
   "outputs": [
    {
     "data": {
      "text/plain": "    lags       acf\n15     0  1.000000\n16     1  0.946835\n14    -1  0.946835\n13    -2  0.897689\n17     2  0.897689\n18     3  0.857920\n12    -3  0.857920\n19     4  0.811788\n11    -4  0.811788\n20     5  0.766996\n10    -5  0.766996\n21     6  0.724632\n9     -6  0.724632\n22     7  0.683774\n8     -7  0.683774\n23     8  0.634963\n7     -8  0.634963\n6     -9  0.589334\n24     9  0.589334\n25    10  0.552662\n5    -10  0.552662\n26    11  0.515824\n4    -11  0.515824\n3    -12  0.476055\n27    12  0.476055\n2    -13  0.442230\n28    13  0.442230\n1    -14  0.407652\n29    14  0.407652\n0    -15  0.366293\n30    15  0.366293",
      "text/html": "<div>\n<style scoped>\n    .dataframe tbody tr th:only-of-type {\n        vertical-align: middle;\n    }\n\n    .dataframe tbody tr th {\n        vertical-align: top;\n    }\n\n    .dataframe thead th {\n        text-align: right;\n    }\n</style>\n<table border=\"1\" class=\"dataframe\">\n  <thead>\n    <tr style=\"text-align: right;\">\n      <th></th>\n      <th>lags</th>\n      <th>acf</th>\n    </tr>\n  </thead>\n  <tbody>\n    <tr>\n      <th>15</th>\n      <td>0</td>\n      <td>1.000000</td>\n    </tr>\n    <tr>\n      <th>16</th>\n      <td>1</td>\n      <td>0.946835</td>\n    </tr>\n    <tr>\n      <th>14</th>\n      <td>-1</td>\n      <td>0.946835</td>\n    </tr>\n    <tr>\n      <th>13</th>\n      <td>-2</td>\n      <td>0.897689</td>\n    </tr>\n    <tr>\n      <th>17</th>\n      <td>2</td>\n      <td>0.897689</td>\n    </tr>\n    <tr>\n      <th>18</th>\n      <td>3</td>\n      <td>0.857920</td>\n    </tr>\n    <tr>\n      <th>12</th>\n      <td>-3</td>\n      <td>0.857920</td>\n    </tr>\n    <tr>\n      <th>19</th>\n      <td>4</td>\n      <td>0.811788</td>\n    </tr>\n    <tr>\n      <th>11</th>\n      <td>-4</td>\n      <td>0.811788</td>\n    </tr>\n    <tr>\n      <th>20</th>\n      <td>5</td>\n      <td>0.766996</td>\n    </tr>\n    <tr>\n      <th>10</th>\n      <td>-5</td>\n      <td>0.766996</td>\n    </tr>\n    <tr>\n      <th>21</th>\n      <td>6</td>\n      <td>0.724632</td>\n    </tr>\n    <tr>\n      <th>9</th>\n      <td>-6</td>\n      <td>0.724632</td>\n    </tr>\n    <tr>\n      <th>22</th>\n      <td>7</td>\n      <td>0.683774</td>\n    </tr>\n    <tr>\n      <th>8</th>\n      <td>-7</td>\n      <td>0.683774</td>\n    </tr>\n    <tr>\n      <th>23</th>\n      <td>8</td>\n      <td>0.634963</td>\n    </tr>\n    <tr>\n      <th>7</th>\n      <td>-8</td>\n      <td>0.634963</td>\n    </tr>\n    <tr>\n      <th>6</th>\n      <td>-9</td>\n      <td>0.589334</td>\n    </tr>\n    <tr>\n      <th>24</th>\n      <td>9</td>\n      <td>0.589334</td>\n    </tr>\n    <tr>\n      <th>25</th>\n      <td>10</td>\n      <td>0.552662</td>\n    </tr>\n    <tr>\n      <th>5</th>\n      <td>-10</td>\n      <td>0.552662</td>\n    </tr>\n    <tr>\n      <th>26</th>\n      <td>11</td>\n      <td>0.515824</td>\n    </tr>\n    <tr>\n      <th>4</th>\n      <td>-11</td>\n      <td>0.515824</td>\n    </tr>\n    <tr>\n      <th>3</th>\n      <td>-12</td>\n      <td>0.476055</td>\n    </tr>\n    <tr>\n      <th>27</th>\n      <td>12</td>\n      <td>0.476055</td>\n    </tr>\n    <tr>\n      <th>2</th>\n      <td>-13</td>\n      <td>0.442230</td>\n    </tr>\n    <tr>\n      <th>28</th>\n      <td>13</td>\n      <td>0.442230</td>\n    </tr>\n    <tr>\n      <th>1</th>\n      <td>-14</td>\n      <td>0.407652</td>\n    </tr>\n    <tr>\n      <th>29</th>\n      <td>14</td>\n      <td>0.407652</td>\n    </tr>\n    <tr>\n      <th>0</th>\n      <td>-15</td>\n      <td>0.366293</td>\n    </tr>\n    <tr>\n      <th>30</th>\n      <td>15</td>\n      <td>0.366293</td>\n    </tr>\n  </tbody>\n</table>\n</div>"
     },
     "metadata": {},
     "output_type": "display_data"
    },
    {
     "name": "stdout",
     "output_type": "stream",
     "text": [
      "Periode: [1]\n"
     ]
    },
    {
     "data": {
      "text/plain": "<Figure size 1000x500 with 1 Axes>",
      "image/png": "[encoded data removed]"
     },
     "metadata": {},
     "output_type": "display_data"
    }
   ],
   "source": [
    "def find_period(y: np.array, maxlags=10, top_n=1) -> int:\n",
    "    acf_vals = acf(y, nlags=maxlags)\n",
    "    return (np.argsort(-1 * acf_vals)[1:top_n+1])\n",
    "\n",
    "downloads = populariteitApp['downloads']\n",
    "\n",
    "fig, ax = plt.subplots(figsize=(10, 5))\n",
    "lags, acfs, _, _ = ax.acorr(downloads, maxlags=15)\n",
    "autocorrelatie = pd.DataFrame({'lags': lags, 'acf': acfs}).sort_values(by='acf', ascending=False)\n",
    "display(autocorrelatie)\n",
    "\n",
    "periode = find_period(downloads, maxlags=20, top_n=1)\n",
    "print(\"Periode:\", periode)"
   ],
   "metadata": {
    "collapsed": false,
    "ExecuteTime": {
     "end_time": "2023-06-12T17:36:50.661368600Z",
     "start_time": "2023-06-12T17:36:50.287448800Z"
    }
   }
  }
 ],
 "metadata": {
  "kernelspec": {
   "display_name": "Python 3",
   "language": "python",
   "name": "python3"
  },
  "language_info": {
   "codemirror_mode": {
    "name": "ipython",
    "version": 3
   },
   "file_extension": ".py",
   "mimetype": "text/x-python",
   "name": "python",
   "nbconvert_exporter": "python",
   "pygments_lexer": "ipython3",
   "version": "3.8.7"
  }
 },
 "nbformat": 4,
 "nbformat_minor": 1
}
