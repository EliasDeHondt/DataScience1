{
 "cells": [
  {
   "cell_type": "markdown",
   "metadata": {},
   "source": [
    "# Populariteit van een app\n",
    "\n",
    "Een bedrijf heeft vorige maand een nieuwe app gelanceerd. Ze hebben iedere dag genoteerd hoeveel mensen deze gedownload hebben. Je vindt deze gegevens in “populariteitApp.csv”.\n",
    "\n",
    "Er zijn in dit geval geen verkeerde of ontbrekende gegevens.  Je zou het bestand dus gemakkelijk moeten kunnen lezen. Je moet wel zorgen dat de kolom \"downloads\" van het type `float` wordt.\n"
   ]
  },
  {
   "cell_type": "code",
   "execution_count": 1,
   "outputs": [
    {
     "data": {
      "text/plain": "         datum  downloads\n0   2013-03-01          2\n1   2013-03-02          5\n2   2013-03-03          6\n3   2013-03-04          4\n4   2013-03-05          4\n5   2013-03-06          9\n6   2013-03-07          9\n7   2013-03-08         10\n8   2013-03-09         11\n9   2013-03-10         13\n10  2013-03-11         13\n11  2013-03-12         12\n12  2013-03-13         15\n13  2013-03-14         16\n14  2013-03-15         15\n15  2013-03-16         18\n16  2013-03-17         20\n17  2013-03-18         19\n18  2013-03-19         19\n19  2013-03-20         21\n20  2013-03-21         21\n21  2013-03-22         22\n22  2013-03-23         25\n23  2013-03-24         27\n24  2013-03-25         26\n25  2013-03-26         27\n26  2013-03-27         28\n27  2013-03-28         30\n28  2013-03-29         29\n29  2013-03-30         32\n30  2013-03-31         34",
      "text/html": "<div>\n<style scoped>\n    .dataframe tbody tr th:only-of-type {\n        vertical-align: middle;\n    }\n\n    .dataframe tbody tr th {\n        vertical-align: top;\n    }\n\n    .dataframe thead th {\n        text-align: right;\n    }\n</style>\n<table border=\"1\" class=\"dataframe\">\n  <thead>\n    <tr style=\"text-align: right;\">\n      <th></th>\n      <th>datum</th>\n      <th>downloads</th>\n    </tr>\n  </thead>\n  <tbody>\n    <tr>\n      <th>0</th>\n      <td>2013-03-01</td>\n      <td>2</td>\n    </tr>\n    <tr>\n      <th>1</th>\n      <td>2013-03-02</td>\n      <td>5</td>\n    </tr>\n    <tr>\n      <th>2</th>\n      <td>2013-03-03</td>\n      <td>6</td>\n    </tr>\n    <tr>\n      <th>3</th>\n      <td>2013-03-04</td>\n      <td>4</td>\n    </tr>\n    <tr>\n      <th>4</th>\n      <td>2013-03-05</td>\n      <td>4</td>\n    </tr>\n    <tr>\n      <th>5</th>\n      <td>2013-03-06</td>\n      <td>9</td>\n    </tr>\n    <tr>\n      <th>6</th>\n      <td>2013-03-07</td>\n      <td>9</td>\n    </tr>\n    <tr>\n      <th>7</th>\n      <td>2013-03-08</td>\n      <td>10</td>\n    </tr>\n    <tr>\n      <th>8</th>\n      <td>2013-03-09</td>\n      <td>11</td>\n    </tr>\n    <tr>\n      <th>9</th>\n      <td>2013-03-10</td>\n      <td>13</td>\n    </tr>\n    <tr>\n      <th>10</th>\n      <td>2013-03-11</td>\n      <td>13</td>\n    </tr>\n    <tr>\n      <th>11</th>\n      <td>2013-03-12</td>\n      <td>12</td>\n    </tr>\n    <tr>\n      <th>12</th>\n      <td>2013-03-13</td>\n      <td>15</td>\n    </tr>\n    <tr>\n      <th>13</th>\n      <td>2013-03-14</td>\n      <td>16</td>\n    </tr>\n    <tr>\n      <th>14</th>\n      <td>2013-03-15</td>\n      <td>15</td>\n    </tr>\n    <tr>\n      <th>15</th>\n      <td>2013-03-16</td>\n      <td>18</td>\n    </tr>\n    <tr>\n      <th>16</th>\n      <td>2013-03-17</td>\n      <td>20</td>\n    </tr>\n    <tr>\n      <th>17</th>\n      <td>2013-03-18</td>\n      <td>19</td>\n    </tr>\n    <tr>\n      <th>18</th>\n      <td>2013-03-19</td>\n      <td>19</td>\n    </tr>\n    <tr>\n      <th>19</th>\n      <td>2013-03-20</td>\n      <td>21</td>\n    </tr>\n    <tr>\n      <th>20</th>\n      <td>2013-03-21</td>\n      <td>21</td>\n    </tr>\n    <tr>\n      <th>21</th>\n      <td>2013-03-22</td>\n      <td>22</td>\n    </tr>\n    <tr>\n      <th>22</th>\n      <td>2013-03-23</td>\n      <td>25</td>\n    </tr>\n    <tr>\n      <th>23</th>\n      <td>2013-03-24</td>\n      <td>27</td>\n    </tr>\n    <tr>\n      <th>24</th>\n      <td>2013-03-25</td>\n      <td>26</td>\n    </tr>\n    <tr>\n      <th>25</th>\n      <td>2013-03-26</td>\n      <td>27</td>\n    </tr>\n    <tr>\n      <th>26</th>\n      <td>2013-03-27</td>\n      <td>28</td>\n    </tr>\n    <tr>\n      <th>27</th>\n      <td>2013-03-28</td>\n      <td>30</td>\n    </tr>\n    <tr>\n      <th>28</th>\n      <td>2013-03-29</td>\n      <td>29</td>\n    </tr>\n    <tr>\n      <th>29</th>\n      <td>2013-03-30</td>\n      <td>32</td>\n    </tr>\n    <tr>\n      <th>30</th>\n      <td>2013-03-31</td>\n      <td>34</td>\n    </tr>\n  </tbody>\n</table>\n</div>"
     },
     "metadata": {},
     "output_type": "display_data"
    }
   ],
   "source": [
    "import pandas as pd\n",
    "\n",
    "populariteitApp = pd.read_csv('data/populariteitApp.csv', sep=',')\n",
    "\n",
    "display(populariteitApp)"
   ],
   "metadata": {
    "collapsed": false,
    "ExecuteTime": {
     "start_time": "2023-04-30T16:45:56.168120Z",
     "end_time": "2023-04-30T16:45:56.491483Z"
    }
   }
  },
  {
   "cell_type": "markdown",
   "metadata": {},
   "source": [
    "1.\tMaak een plot van de gegevens zodat je al wat inzicht krijgt in de data."
   ]
  },
  {
   "cell_type": "code",
   "execution_count": 1,
   "outputs": [],
   "source": [],
   "metadata": {
    "collapsed": false,
    "ExecuteTime": {
     "start_time": "2023-04-30T16:45:56.493483Z",
     "end_time": "2023-04-30T16:45:56.524278Z"
    }
   }
  },
  {
   "cell_type": "markdown",
   "metadata": {},
   "source": [
    "2.\tKan je de seizoensgrootte vinden?\n",
    "Tip: gebruik acorr-functie op downloads die je eerst omzet naar Numpy array van floats."
   ]
  },
  {
   "cell_type": "code",
   "execution_count": 1,
   "outputs": [],
   "source": [],
   "metadata": {
    "collapsed": false,
    "ExecuteTime": {
     "start_time": "2023-04-30T16:45:56.508855Z",
     "end_time": "2023-04-30T16:45:56.565130Z"
    }
   }
  },
  {
   "cell_type": "markdown",
   "metadata": {},
   "source": [
    "3.\tVoorspel nu, voor iedere voorspellingsmethode, de drie volgende dagen.  Bereken telkens de MAE, RMSE en de MAPE.\n",
    "\n",
    "Vervolledig volgende tabel met alle resultaten.\n",
    "\n",
    "|techniek               | dag 1 | dag 2 | dag 3 | MAE | RMSE | MAPE |\n",
    "|-----------------------|-------|-------|-------|-----|------|------|\n",
    "| naief                 | &nbsp;| &nbsp;|&nbsp; |&nbsp;|&nbsp;|&nbsp;|\n",
    "| gemiddelde            | &nbsp;| &nbsp;|&nbsp; |&nbsp;|&nbsp;|&nbsp;|\n",
    "| voortschrijdend(m=5)  | &nbsp;| &nbsp;|&nbsp; |&nbsp;|&nbsp;|&nbsp;|\n",
    "| lin.comb. (m=13)      | &nbsp;| &nbsp;|&nbsp; |&nbsp;|&nbsp;|&nbsp;|\n",
    "| trend                 | &nbsp;| &nbsp;|&nbsp; |&nbsp;|&nbsp;|&nbsp;|\n",
    "| add. decomp. (m=7)    | &nbsp;| &nbsp;|&nbsp; |&nbsp;|&nbsp;|&nbsp;|\n",
    "| multi.decomp. (m=7)   | &nbsp;| &nbsp;|&nbsp; |&nbsp;|&nbsp;|&nbsp;|"
   ]
  },
  {
   "cell_type": "code",
   "execution_count": 1,
   "outputs": [],
   "source": [],
   "metadata": {
    "collapsed": false,
    "ExecuteTime": {
     "start_time": "2023-04-30T16:45:56.524278Z",
     "end_time": "2023-04-30T16:45:56.611374Z"
    }
   }
  },
  {
   "cell_type": "markdown",
   "metadata": {},
   "source": [
    "4.\tlineaire combinatie: welke gewichten vind je?  Welke waarde speelt dus de grootste rol in het voorspellen van de volgende waarde?"
   ]
  },
  {
   "cell_type": "code",
   "execution_count": 1,
   "outputs": [],
   "source": [],
   "metadata": {
    "collapsed": false,
    "ExecuteTime": {
     "start_time": "2023-04-30T16:45:56.541841Z",
     "end_time": "2023-04-30T16:45:56.653555Z"
    }
   }
  },
  {
   "cell_type": "markdown",
   "metadata": {},
   "source": [
    "5.\ttrend: wat is de formule van de regressielijn?"
   ]
  },
  {
   "cell_type": "code",
   "execution_count": 1,
   "outputs": [],
   "source": [],
   "metadata": {
    "collapsed": false,
    "ExecuteTime": {
     "start_time": "2023-04-30T16:45:56.553460Z",
     "end_time": "2023-04-30T16:45:56.653555Z"
    }
   }
  },
  {
   "cell_type": "markdown",
   "metadata": {},
   "source": [
    "6.\tadditieve decompositie: wat is de formule voor de trendlijn?"
   ]
  },
  {
   "cell_type": "code",
   "execution_count": 1,
   "outputs": [],
   "source": [],
   "metadata": {
    "collapsed": false,
    "ExecuteTime": {
     "start_time": "2023-04-30T16:45:56.569793Z",
     "end_time": "2023-04-30T16:45:56.653555Z"
    }
   }
  },
  {
   "cell_type": "markdown",
   "metadata": {},
   "source": [
    "7.\tadditieve decompositie: wat zijn de waarden voor het weerkerend patroon?"
   ]
  },
  {
   "cell_type": "code",
   "execution_count": 1,
   "outputs": [],
   "source": [],
   "metadata": {
    "collapsed": false,
    "ExecuteTime": {
     "start_time": "2023-04-30T16:45:56.585316Z",
     "end_time": "2023-04-30T16:45:56.654548Z"
    }
   }
  },
  {
   "cell_type": "markdown",
   "metadata": {},
   "source": [
    "8.\tmultiplicatieve decompositie: wat is de formule voor de trendlijn?"
   ]
  },
  {
   "cell_type": "code",
   "execution_count": 1,
   "outputs": [],
   "source": [],
   "metadata": {
    "collapsed": false,
    "ExecuteTime": {
     "start_time": "2023-04-30T16:45:56.601572Z",
     "end_time": "2023-04-30T16:45:56.654548Z"
    }
   }
  },
  {
   "cell_type": "markdown",
   "metadata": {},
   "source": [
    "9.\tmultiplicatieve decompositie: wat zijn de waarden voor het weerkerend patroon?"
   ]
  },
  {
   "cell_type": "code",
   "execution_count": 1,
   "outputs": [],
   "source": [],
   "metadata": {
    "collapsed": false,
    "ExecuteTime": {
     "start_time": "2023-04-30T16:45:56.616044Z",
     "end_time": "2023-04-30T16:45:56.654548Z"
    }
   }
  },
  {
   "cell_type": "markdown",
   "metadata": {},
   "source": [
    "10.\twelke techniek geeft de beste voorspelling en waarom?\n"
   ]
  },
  {
   "cell_type": "code",
   "execution_count": 1,
   "outputs": [],
   "source": [],
   "metadata": {
    "collapsed": false,
    "ExecuteTime": {
     "start_time": "2023-04-30T16:45:56.633947Z",
     "end_time": "2023-04-30T16:45:56.654548Z"
    }
   }
  }
 ],
 "metadata": {
  "kernelspec": {
   "display_name": "Python 3",
   "language": "python",
   "name": "python3"
  },
  "language_info": {
   "codemirror_mode": {
    "name": "ipython",
    "version": 3
   },
   "file_extension": ".py",
   "mimetype": "text/x-python",
   "name": "python",
   "nbconvert_exporter": "python",
   "pygments_lexer": "ipython3",
   "version": "3.8.7"
  }
 },
 "nbformat": 4,
 "nbformat_minor": 1
}
