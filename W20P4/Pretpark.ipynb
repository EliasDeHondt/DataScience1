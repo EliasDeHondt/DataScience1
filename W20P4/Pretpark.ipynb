{
 "cells": [
  {
   "cell_type": "markdown",
   "metadata": {
    "collapsed": true
   },
   "source": [
    "# Bezoekers in een pretpark\n",
    "Een pretpark wil kunnen voorspellen hoeveel bezoekers er zullen komen in een bepaalde maand. Daarvoor hebben ze gedurende 4 jaar opgeschreven hoeveel bezoekers er waren, voor iedere maand. Je vindt deze data in “pretpark.csv”.  Deze data is ook direct leesbaar in Python (geen foute of ontbrekende data). Je moet wel zorgen dat de kolom `aantal_bezoekers` een float wordt."
   ]
  },
  {
   "cell_type": "code",
   "execution_count": 1,
   "outputs": [
    {
     "data": {
      "text/plain": "    jaar  maand  aantal_bezoekers\n0      1      1               120\n1      1      2                89\n2      1      3               492\n3      1      4               586\n4      1      5              1300\n5      1      6              1173\n6      1      7              1688\n7      1      8              1715\n8      1      9               528\n9      1     10               247\n10     1     11               136\n11     1     12                81\n12     2      1               163\n13     2      2               129\n14     2      3               698\n15     2      4               894\n16     2      5              1828\n17     2      6              1404\n18     2      7              2302\n19     2      8              2345\n20     2      9               708\n21     2     10               292\n22     2     11               172\n23     2     12                74\n24     3      1               169\n25     3      2               184\n26     3      3               908\n27     3      4              1167\n28     3      5              2271\n29     3      6              1427\n30     3      7              2789\n31     3      8              2548\n32     3      9               751\n33     3     10               381\n34     3     11               224\n35     3     12               105\n36     4      1               230\n37     4      2               204\n38     4      3              1031\n39     4      4              1334\n40     4      5              2676\n41     4      6              1882\n42     4      7              3323\n43     4      8              3412\n44     4      9              1038\n45     4     10               452\n46     4     11               256\n47     4     12               112",
      "text/html": "<div>\n<style scoped>\n    .dataframe tbody tr th:only-of-type {\n        vertical-align: middle;\n    }\n\n    .dataframe tbody tr th {\n        vertical-align: top;\n    }\n\n    .dataframe thead th {\n        text-align: right;\n    }\n</style>\n<table border=\"1\" class=\"dataframe\">\n  <thead>\n    <tr style=\"text-align: right;\">\n      <th></th>\n      <th>jaar</th>\n      <th>maand</th>\n      <th>aantal_bezoekers</th>\n    </tr>\n  </thead>\n  <tbody>\n    <tr>\n      <th>0</th>\n      <td>1</td>\n      <td>1</td>\n      <td>120</td>\n    </tr>\n    <tr>\n      <th>1</th>\n      <td>1</td>\n      <td>2</td>\n      <td>89</td>\n    </tr>\n    <tr>\n      <th>2</th>\n      <td>1</td>\n      <td>3</td>\n      <td>492</td>\n    </tr>\n    <tr>\n      <th>3</th>\n      <td>1</td>\n      <td>4</td>\n      <td>586</td>\n    </tr>\n    <tr>\n      <th>4</th>\n      <td>1</td>\n      <td>5</td>\n      <td>1300</td>\n    </tr>\n    <tr>\n      <th>5</th>\n      <td>1</td>\n      <td>6</td>\n      <td>1173</td>\n    </tr>\n    <tr>\n      <th>6</th>\n      <td>1</td>\n      <td>7</td>\n      <td>1688</td>\n    </tr>\n    <tr>\n      <th>7</th>\n      <td>1</td>\n      <td>8</td>\n      <td>1715</td>\n    </tr>\n    <tr>\n      <th>8</th>\n      <td>1</td>\n      <td>9</td>\n      <td>528</td>\n    </tr>\n    <tr>\n      <th>9</th>\n      <td>1</td>\n      <td>10</td>\n      <td>247</td>\n    </tr>\n    <tr>\n      <th>10</th>\n      <td>1</td>\n      <td>11</td>\n      <td>136</td>\n    </tr>\n    <tr>\n      <th>11</th>\n      <td>1</td>\n      <td>12</td>\n      <td>81</td>\n    </tr>\n    <tr>\n      <th>12</th>\n      <td>2</td>\n      <td>1</td>\n      <td>163</td>\n    </tr>\n    <tr>\n      <th>13</th>\n      <td>2</td>\n      <td>2</td>\n      <td>129</td>\n    </tr>\n    <tr>\n      <th>14</th>\n      <td>2</td>\n      <td>3</td>\n      <td>698</td>\n    </tr>\n    <tr>\n      <th>15</th>\n      <td>2</td>\n      <td>4</td>\n      <td>894</td>\n    </tr>\n    <tr>\n      <th>16</th>\n      <td>2</td>\n      <td>5</td>\n      <td>1828</td>\n    </tr>\n    <tr>\n      <th>17</th>\n      <td>2</td>\n      <td>6</td>\n      <td>1404</td>\n    </tr>\n    <tr>\n      <th>18</th>\n      <td>2</td>\n      <td>7</td>\n      <td>2302</td>\n    </tr>\n    <tr>\n      <th>19</th>\n      <td>2</td>\n      <td>8</td>\n      <td>2345</td>\n    </tr>\n    <tr>\n      <th>20</th>\n      <td>2</td>\n      <td>9</td>\n      <td>708</td>\n    </tr>\n    <tr>\n      <th>21</th>\n      <td>2</td>\n      <td>10</td>\n      <td>292</td>\n    </tr>\n    <tr>\n      <th>22</th>\n      <td>2</td>\n      <td>11</td>\n      <td>172</td>\n    </tr>\n    <tr>\n      <th>23</th>\n      <td>2</td>\n      <td>12</td>\n      <td>74</td>\n    </tr>\n    <tr>\n      <th>24</th>\n      <td>3</td>\n      <td>1</td>\n      <td>169</td>\n    </tr>\n    <tr>\n      <th>25</th>\n      <td>3</td>\n      <td>2</td>\n      <td>184</td>\n    </tr>\n    <tr>\n      <th>26</th>\n      <td>3</td>\n      <td>3</td>\n      <td>908</td>\n    </tr>\n    <tr>\n      <th>27</th>\n      <td>3</td>\n      <td>4</td>\n      <td>1167</td>\n    </tr>\n    <tr>\n      <th>28</th>\n      <td>3</td>\n      <td>5</td>\n      <td>2271</td>\n    </tr>\n    <tr>\n      <th>29</th>\n      <td>3</td>\n      <td>6</td>\n      <td>1427</td>\n    </tr>\n    <tr>\n      <th>30</th>\n      <td>3</td>\n      <td>7</td>\n      <td>2789</td>\n    </tr>\n    <tr>\n      <th>31</th>\n      <td>3</td>\n      <td>8</td>\n      <td>2548</td>\n    </tr>\n    <tr>\n      <th>32</th>\n      <td>3</td>\n      <td>9</td>\n      <td>751</td>\n    </tr>\n    <tr>\n      <th>33</th>\n      <td>3</td>\n      <td>10</td>\n      <td>381</td>\n    </tr>\n    <tr>\n      <th>34</th>\n      <td>3</td>\n      <td>11</td>\n      <td>224</td>\n    </tr>\n    <tr>\n      <th>35</th>\n      <td>3</td>\n      <td>12</td>\n      <td>105</td>\n    </tr>\n    <tr>\n      <th>36</th>\n      <td>4</td>\n      <td>1</td>\n      <td>230</td>\n    </tr>\n    <tr>\n      <th>37</th>\n      <td>4</td>\n      <td>2</td>\n      <td>204</td>\n    </tr>\n    <tr>\n      <th>38</th>\n      <td>4</td>\n      <td>3</td>\n      <td>1031</td>\n    </tr>\n    <tr>\n      <th>39</th>\n      <td>4</td>\n      <td>4</td>\n      <td>1334</td>\n    </tr>\n    <tr>\n      <th>40</th>\n      <td>4</td>\n      <td>5</td>\n      <td>2676</td>\n    </tr>\n    <tr>\n      <th>41</th>\n      <td>4</td>\n      <td>6</td>\n      <td>1882</td>\n    </tr>\n    <tr>\n      <th>42</th>\n      <td>4</td>\n      <td>7</td>\n      <td>3323</td>\n    </tr>\n    <tr>\n      <th>43</th>\n      <td>4</td>\n      <td>8</td>\n      <td>3412</td>\n    </tr>\n    <tr>\n      <th>44</th>\n      <td>4</td>\n      <td>9</td>\n      <td>1038</td>\n    </tr>\n    <tr>\n      <th>45</th>\n      <td>4</td>\n      <td>10</td>\n      <td>452</td>\n    </tr>\n    <tr>\n      <th>46</th>\n      <td>4</td>\n      <td>11</td>\n      <td>256</td>\n    </tr>\n    <tr>\n      <th>47</th>\n      <td>4</td>\n      <td>12</td>\n      <td>112</td>\n    </tr>\n  </tbody>\n</table>\n</div>"
     },
     "metadata": {},
     "output_type": "display_data"
    }
   ],
   "source": [
    "import pandas as pd\n",
    "\n",
    "pretpark = pd.read_csv('data/pretpark.csv', sep=';')\n",
    "\n",
    "display(pretpark)"
   ],
   "metadata": {
    "collapsed": false,
    "ExecuteTime": {
     "start_time": "2023-04-28T09:58:57.230953Z",
     "end_time": "2023-04-28T09:58:57.576131Z"
    }
   }
  },
  {
   "cell_type": "markdown",
   "metadata": {
    "collapsed": false
   },
   "source": [
    "1.\tMaak een grafiek van de data. Wat merk je visueel op? Stijgt of daalt het aantal bezoekers? Is er een patroon herkenbaar?"
   ]
  },
  {
   "cell_type": "code",
   "execution_count": null,
   "outputs": [],
   "source": [],
   "metadata": {
    "collapsed": false
   }
  },
  {
   "cell_type": "markdown",
   "metadata": {
    "collapsed": false
   },
   "source": [
    "2.\tZou je het additief of multiplicatief model gebruiken?"
   ]
  },
  {
   "cell_type": "code",
   "execution_count": null,
   "outputs": [],
   "source": [],
   "metadata": {
    "collapsed": false
   }
  },
  {
   "cell_type": "markdown",
   "metadata": {
    "collapsed": false
   },
   "source": [
    "3.\tWat is de grootte van 1 “seizoen”?"
   ]
  },
  {
   "cell_type": "code",
   "execution_count": null,
   "outputs": [],
   "source": [],
   "metadata": {
    "collapsed": false
   }
  },
  {
   "cell_type": "markdown",
   "metadata": {
    "collapsed": false
   },
   "source": [
    "4.\tDoe nu een decompositie.  Plot deze in een diagram."
   ]
  },
  {
   "cell_type": "code",
   "execution_count": null,
   "outputs": [],
   "source": [],
   "metadata": {
    "collapsed": false
   }
  },
  {
   "cell_type": "markdown",
   "metadata": {
    "collapsed": false
   },
   "source": [
    "5.\tWe gaan nu een model maken om voorspellingen te doen naar de toekomst. Doe een lineaire regressie op de trend en bepaal de slope en de intercept. Welke vergelijking vind je voor de trend?"
   ]
  },
  {
   "cell_type": "code",
   "execution_count": null,
   "outputs": [],
   "source": [],
   "metadata": {
    "collapsed": false
   }
  },
  {
   "cell_type": "markdown",
   "metadata": {
    "collapsed": false
   },
   "source": [
    "6.\tBereken de waarden van de trend voor het komende jaar.  Welke waarden kom je uit?"
   ]
  },
  {
   "cell_type": "code",
   "execution_count": null,
   "outputs": [],
   "source": [],
   "metadata": {
    "collapsed": false
   }
  },
  {
   "cell_type": "markdown",
   "metadata": {
    "collapsed": false
   },
   "source": [
    "7.\tWat zijn de waarden van het seizoen?"
   ]
  },
  {
   "cell_type": "code",
   "execution_count": null,
   "outputs": [],
   "source": [],
   "metadata": {
    "collapsed": false
   }
  },
  {
   "cell_type": "markdown",
   "metadata": {
    "collapsed": false
   },
   "source": [
    "8.\tVermenigvuldig de trend-waarden nu met het patroon. Je hebt nu een schatting van het aantal bezoekers voor het volgende jaar.  Welke waarden kom je uit (rond de waarden af op een geheel getal)?"
   ]
  },
  {
   "cell_type": "code",
   "execution_count": null,
   "outputs": [],
   "source": [],
   "metadata": {
    "collapsed": false
   }
  },
  {
   "cell_type": "markdown",
   "metadata": {
    "collapsed": false
   },
   "source": [
    "9.\tWat is de MAE, RMSE en de MAPE? Wat is de betekenis van de MAPE?"
   ]
  },
  {
   "cell_type": "code",
   "execution_count": null,
   "outputs": [],
   "source": [],
   "metadata": {
    "collapsed": false
   }
  }
 ],
 "metadata": {
  "kernelspec": {
   "display_name": "Python 3",
   "language": "python",
   "name": "python3"
  },
  "language_info": {
   "codemirror_mode": {
    "name": "ipython",
    "version": 2
   },
   "file_extension": ".py",
   "mimetype": "text/x-python",
   "name": "python",
   "nbconvert_exporter": "python",
   "pygments_lexer": "ipython2",
   "version": "2.7.6"
  }
 },
 "nbformat": 4,
 "nbformat_minor": 0
}
