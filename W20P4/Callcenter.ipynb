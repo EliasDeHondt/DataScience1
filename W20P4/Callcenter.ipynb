{
 "cells": [
  {
   "cell_type": "markdown",
   "metadata": {
    "collapsed": false
   },
   "source": [
    "# Callcenter calls"
   ]
  },
  {
   "cell_type": "markdown",
   "metadata": {
    "collapsed": false
   },
   "source": [
    "Om de verloven van het personeel van een call center te plannen wil men het aantal calls van de volgende 3 maand voorspellen aan de hand van Seasonal Decomposition Forecasting. Het aantal calls per maand vind je terug in het bestand `calls4jaar.csv` (oude examenvraag)"
   ]
  },
  {
   "cell_type": "code",
   "execution_count": 1,
   "outputs": [
    {
     "data": {
      "text/plain": "    Jaar  Maand  AantalCalls\n0      1      1        12808\n1      1      2        13668\n2      1      3        14087\n3      1      4         7497\n4      1      5        10716\n5      1      6         8805\n6      1      7         1783\n7      1      8         2223\n8      1      9         6320\n9      1     10         4122\n10     1     11         8522\n11     1     12         9849\n12     2      1        10359\n13     2      2        14040\n14     2      3        12615\n15     2      4         6865\n16     2      5         9805\n17     2      6         6922\n18     2      7         1700\n19     2      8         1902\n20     2      9         5096\n21     2     10         3844\n22     2     11         7487\n23     2     12         9279\n24     3      1         9748\n25     3      2        11432\n26     3      3        10847\n27     3      4         5897\n28     3      5         8436\n29     3      6         6425\n30     3      7         1389\n31     3      8         1711\n32     3      9         4789\n33     3     10         3244\n34     3     11         6485\n35     3     12         7772\n36     4      1         8332\n37     4      2         9193\n38     4      3         9200\n39     4      4         5073\n40     4      5         7216\n41     4      6         5457\n42     4      7         1224\n43     4      8         1456\n44     4      9         3770\n45     4     10         2953\n46     4     11         5207\n47     4     12         6766",
      "text/html": "<div>\n<style scoped>\n    .dataframe tbody tr th:only-of-type {\n        vertical-align: middle;\n    }\n\n    .dataframe tbody tr th {\n        vertical-align: top;\n    }\n\n    .dataframe thead th {\n        text-align: right;\n    }\n</style>\n<table border=\"1\" class=\"dataframe\">\n  <thead>\n    <tr style=\"text-align: right;\">\n      <th></th>\n      <th>Jaar</th>\n      <th>Maand</th>\n      <th>AantalCalls</th>\n    </tr>\n  </thead>\n  <tbody>\n    <tr>\n      <th>0</th>\n      <td>1</td>\n      <td>1</td>\n      <td>12808</td>\n    </tr>\n    <tr>\n      <th>1</th>\n      <td>1</td>\n      <td>2</td>\n      <td>13668</td>\n    </tr>\n    <tr>\n      <th>2</th>\n      <td>1</td>\n      <td>3</td>\n      <td>14087</td>\n    </tr>\n    <tr>\n      <th>3</th>\n      <td>1</td>\n      <td>4</td>\n      <td>7497</td>\n    </tr>\n    <tr>\n      <th>4</th>\n      <td>1</td>\n      <td>5</td>\n      <td>10716</td>\n    </tr>\n    <tr>\n      <th>5</th>\n      <td>1</td>\n      <td>6</td>\n      <td>8805</td>\n    </tr>\n    <tr>\n      <th>6</th>\n      <td>1</td>\n      <td>7</td>\n      <td>1783</td>\n    </tr>\n    <tr>\n      <th>7</th>\n      <td>1</td>\n      <td>8</td>\n      <td>2223</td>\n    </tr>\n    <tr>\n      <th>8</th>\n      <td>1</td>\n      <td>9</td>\n      <td>6320</td>\n    </tr>\n    <tr>\n      <th>9</th>\n      <td>1</td>\n      <td>10</td>\n      <td>4122</td>\n    </tr>\n    <tr>\n      <th>10</th>\n      <td>1</td>\n      <td>11</td>\n      <td>8522</td>\n    </tr>\n    <tr>\n      <th>11</th>\n      <td>1</td>\n      <td>12</td>\n      <td>9849</td>\n    </tr>\n    <tr>\n      <th>12</th>\n      <td>2</td>\n      <td>1</td>\n      <td>10359</td>\n    </tr>\n    <tr>\n      <th>13</th>\n      <td>2</td>\n      <td>2</td>\n      <td>14040</td>\n    </tr>\n    <tr>\n      <th>14</th>\n      <td>2</td>\n      <td>3</td>\n      <td>12615</td>\n    </tr>\n    <tr>\n      <th>15</th>\n      <td>2</td>\n      <td>4</td>\n      <td>6865</td>\n    </tr>\n    <tr>\n      <th>16</th>\n      <td>2</td>\n      <td>5</td>\n      <td>9805</td>\n    </tr>\n    <tr>\n      <th>17</th>\n      <td>2</td>\n      <td>6</td>\n      <td>6922</td>\n    </tr>\n    <tr>\n      <th>18</th>\n      <td>2</td>\n      <td>7</td>\n      <td>1700</td>\n    </tr>\n    <tr>\n      <th>19</th>\n      <td>2</td>\n      <td>8</td>\n      <td>1902</td>\n    </tr>\n    <tr>\n      <th>20</th>\n      <td>2</td>\n      <td>9</td>\n      <td>5096</td>\n    </tr>\n    <tr>\n      <th>21</th>\n      <td>2</td>\n      <td>10</td>\n      <td>3844</td>\n    </tr>\n    <tr>\n      <th>22</th>\n      <td>2</td>\n      <td>11</td>\n      <td>7487</td>\n    </tr>\n    <tr>\n      <th>23</th>\n      <td>2</td>\n      <td>12</td>\n      <td>9279</td>\n    </tr>\n    <tr>\n      <th>24</th>\n      <td>3</td>\n      <td>1</td>\n      <td>9748</td>\n    </tr>\n    <tr>\n      <th>25</th>\n      <td>3</td>\n      <td>2</td>\n      <td>11432</td>\n    </tr>\n    <tr>\n      <th>26</th>\n      <td>3</td>\n      <td>3</td>\n      <td>10847</td>\n    </tr>\n    <tr>\n      <th>27</th>\n      <td>3</td>\n      <td>4</td>\n      <td>5897</td>\n    </tr>\n    <tr>\n      <th>28</th>\n      <td>3</td>\n      <td>5</td>\n      <td>8436</td>\n    </tr>\n    <tr>\n      <th>29</th>\n      <td>3</td>\n      <td>6</td>\n      <td>6425</td>\n    </tr>\n    <tr>\n      <th>30</th>\n      <td>3</td>\n      <td>7</td>\n      <td>1389</td>\n    </tr>\n    <tr>\n      <th>31</th>\n      <td>3</td>\n      <td>8</td>\n      <td>1711</td>\n    </tr>\n    <tr>\n      <th>32</th>\n      <td>3</td>\n      <td>9</td>\n      <td>4789</td>\n    </tr>\n    <tr>\n      <th>33</th>\n      <td>3</td>\n      <td>10</td>\n      <td>3244</td>\n    </tr>\n    <tr>\n      <th>34</th>\n      <td>3</td>\n      <td>11</td>\n      <td>6485</td>\n    </tr>\n    <tr>\n      <th>35</th>\n      <td>3</td>\n      <td>12</td>\n      <td>7772</td>\n    </tr>\n    <tr>\n      <th>36</th>\n      <td>4</td>\n      <td>1</td>\n      <td>8332</td>\n    </tr>\n    <tr>\n      <th>37</th>\n      <td>4</td>\n      <td>2</td>\n      <td>9193</td>\n    </tr>\n    <tr>\n      <th>38</th>\n      <td>4</td>\n      <td>3</td>\n      <td>9200</td>\n    </tr>\n    <tr>\n      <th>39</th>\n      <td>4</td>\n      <td>4</td>\n      <td>5073</td>\n    </tr>\n    <tr>\n      <th>40</th>\n      <td>4</td>\n      <td>5</td>\n      <td>7216</td>\n    </tr>\n    <tr>\n      <th>41</th>\n      <td>4</td>\n      <td>6</td>\n      <td>5457</td>\n    </tr>\n    <tr>\n      <th>42</th>\n      <td>4</td>\n      <td>7</td>\n      <td>1224</td>\n    </tr>\n    <tr>\n      <th>43</th>\n      <td>4</td>\n      <td>8</td>\n      <td>1456</td>\n    </tr>\n    <tr>\n      <th>44</th>\n      <td>4</td>\n      <td>9</td>\n      <td>3770</td>\n    </tr>\n    <tr>\n      <th>45</th>\n      <td>4</td>\n      <td>10</td>\n      <td>2953</td>\n    </tr>\n    <tr>\n      <th>46</th>\n      <td>4</td>\n      <td>11</td>\n      <td>5207</td>\n    </tr>\n    <tr>\n      <th>47</th>\n      <td>4</td>\n      <td>12</td>\n      <td>6766</td>\n    </tr>\n  </tbody>\n</table>\n</div>"
     },
     "metadata": {},
     "output_type": "display_data"
    }
   ],
   "source": [
    "import pandas as pd\n",
    "\n",
    "alls4jaar = pd.read_csv('data/calls4jaar.csv', sep=';')\n",
    "\n",
    "display(alls4jaar)"
   ],
   "metadata": {
    "collapsed": false,
    "ExecuteTime": {
     "start_time": "2023-04-28T09:57:32.253133Z",
     "end_time": "2023-04-28T09:57:33.247771Z"
    }
   }
  },
  {
   "cell_type": "markdown",
   "metadata": {
    "collapsed": false
   },
   "source": [
    "a) Bekijk met autocorrelatie wat de periode van de seizoen component is. Wat is de periode? Vergeet niet dat je daarvoor float-waarden moet hebben. Misschien moet je het aantal lags ook vergroten."
   ]
  },
  {
   "cell_type": "code",
   "execution_count": null,
   "outputs": [],
   "source": [],
   "metadata": {
    "collapsed": false
   }
  },
  {
   "cell_type": "markdown",
   "metadata": {
    "collapsed": false
   },
   "source": [
    "b) Hoe groot is de autocorrelatie voor deze periode?"
   ]
  },
  {
   "cell_type": "code",
   "execution_count": null,
   "outputs": [],
   "source": [],
   "metadata": {
    "collapsed": false
   }
  },
  {
   "cell_type": "markdown",
   "metadata": {
    "collapsed": false
   },
   "source": [
    "c) Gaan we het additief of multiplicatief model gebruiken? Maak een grafiek van het aantal calls."
   ]
  },
  {
   "cell_type": "code",
   "execution_count": null,
   "outputs": [],
   "source": [],
   "metadata": {
    "collapsed": false
   }
  },
  {
   "cell_type": "markdown",
   "metadata": {
    "collapsed": false
   },
   "source": [
    "d) Als we de trend benaderen door een rechte, wat is de waarde van de slope (richtingscoëfficient)?"
   ]
  },
  {
   "cell_type": "code",
   "execution_count": null,
   "outputs": [],
   "source": [],
   "metadata": {
    "collapsed": false
   }
  },
  {
   "cell_type": "markdown",
   "metadata": {
    "collapsed": false
   },
   "source": [
    "e) Geef de voorspelling voor de volgende 2 maand en maak ook een grafiek."
   ]
  },
  {
   "cell_type": "code",
   "execution_count": null,
   "outputs": [],
   "source": [],
   "metadata": {
    "collapsed": false
   }
  },
  {
   "cell_type": "markdown",
   "metadata": {
    "collapsed": false
   },
   "source": [
    "f) Geef de waarde van de MAPE voor het model."
   ]
  },
  {
   "cell_type": "code",
   "execution_count": null,
   "outputs": [],
   "source": [],
   "metadata": {
    "collapsed": false
   }
  }
 ],
 "metadata": {
  "kernelspec": {
   "display_name": "Python 3",
   "language": "python",
   "name": "python3"
  },
  "language_info": {
   "codemirror_mode": {
    "name": "ipython",
    "version": 2
   },
   "file_extension": ".py",
   "mimetype": "text/x-python",
   "name": "python",
   "nbconvert_exporter": "python",
   "pygments_lexer": "ipython2",
   "version": "2.7.6"
  }
 },
 "nbformat": 4,
 "nbformat_minor": 0
}
