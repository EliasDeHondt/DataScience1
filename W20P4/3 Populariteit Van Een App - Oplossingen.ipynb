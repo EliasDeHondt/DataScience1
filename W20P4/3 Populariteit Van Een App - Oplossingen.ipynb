{
 "cells": [
  {
   "cell_type": "markdown",
   "metadata": {
    "collapsed": true
   },
   "source": [
    "# Populariteit van een app"
   ]
  },
  {
   "cell_type": "markdown",
   "metadata": {},
   "source": [
    "Een bedrijf heeft vorige maand een nieuwe app gelanceerd. Ze hebben iedere dag genoteerd hoeveel mensen deze gedownload hebben. Je vindt deze gegevens in “populariteitApp.csv”.\n",
    "\n",
    "Er zijn in dit geval geen verkeerde of ontbrekende gegevens.  Je zou het bestand dus gemakkelijk moeten kunnen lezen. Je moet wel zorgen dat de kolom \"downloads\" van het type `float` wordt.\n"
   ]
  },
  {
   "cell_type": "markdown",
   "metadata": {},
   "source": [
    "1.\tMaak een plot van de gegevens zodat je al wat inzicht krijgt in de data."
   ]
  },
  {
   "cell_type": "markdown",
   "metadata": {},
   "source": [
    "2.\tKan je de seizoensgrootte vinden?\n",
    "Tip: gebruik acorr-functie op downloads die je eerst omzet naar Numpy array van floats."
   ]
  },
  {
   "cell_type": "markdown",
   "metadata": {},
   "source": [
    "3.\tVoorspel nu, voor iedere voorspellingsmethode, de drie volgende dagen.  Bereken telkens de MAE, RMSE en de MAPE.\n",
    "\n",
    "Vervolledig volgende tabel met alle resultaten.\n",
    "\n",
    "|techniek               | dag 1 | dag 2 | dag 3 | MAE | RMSE | MAPE |\n",
    "|-----------------------|-------|-------|-------|-----|------|------|\n",
    "| naief                 | &nbsp;| &nbsp;|&nbsp; |&nbsp;&nbsp;|&nbsp;|\n",
    "| gemiddelde            | &nbsp;| &nbsp;|&nbsp; |&nbsp;&nbsp;|&nbsp;|\n",
    "| voortschrijdend(m=5)  | &nbsp;| &nbsp;|&nbsp; |&nbsp;&nbsp;|&nbsp;|\n",
    "| lin.comb. (m=13)      | &nbsp;| &nbsp;|&nbsp; |&nbsp;&nbsp;|&nbsp;|\n",
    "| trend                 | &nbsp;| &nbsp;|&nbsp; |&nbsp;&nbsp;|&nbsp;|\n",
    "| add. decomp. (m=7)    | &nbsp;| &nbsp;|&nbsp; |&nbsp;&nbsp;|&nbsp;|\n",
    "| multi.decomp. (m=7)   | &nbsp;| &nbsp;|&nbsp; |&nbsp;&nbsp;|&nbsp;|"
   ]
  },
  {
   "cell_type": "markdown",
   "metadata": {},
   "source": [
    "4.\tlineaire combinatie: welke gewichten vind je?  Welke waarde speelt dus de grootste rol in het voorspellen van de volgende waarde?"
   ]
  },
  {
   "cell_type": "markdown",
   "metadata": {},
   "source": [
    "5.\ttrend: wat is de formule van de regressielijn?"
   ]
  },
  {
   "cell_type": "markdown",
   "metadata": {},
   "source": [
    "6.\tadditieve decompositie: wat is de formule voor de trendlijn?"
   ]
  },
  {
   "cell_type": "markdown",
   "metadata": {},
   "source": [
    "7.\tadditieve decompositie: wat zijn de waarden voor het weerkerend patroon?"
   ]
  },
  {
   "cell_type": "markdown",
   "metadata": {},
   "source": [
    "8.\tmultiplicatieve decompositie: wat is de formule voor de trendlijn?"
   ]
  },
  {
   "cell_type": "markdown",
   "metadata": {},
   "source": [
    "9.\tmultiplicatieve decompositie: wat zijn de waarden voor het weerkerend patroon?"
   ]
  },
  {
   "cell_type": "markdown",
   "metadata": {},
   "source": [
    "10.\twelke techniek geeft de beste voorspelling en waarom?\n"
   ]
  }
 ],
 "metadata": {
  "kernelspec": {
   "display_name": "Python 3",
   "language": "python",
   "name": "python3"
  },
  "language_info": {
   "codemirror_mode": {
    "name": "ipython",
    "version": 3
   },
   "file_extension": ".py",
   "mimetype": "text/x-python",
   "name": "python",
   "nbconvert_exporter": "python",
   "pygments_lexer": "ipython3",
   "version": "3.8.7"
  }
 },
 "nbformat": 4,
 "nbformat_minor": 1
}
