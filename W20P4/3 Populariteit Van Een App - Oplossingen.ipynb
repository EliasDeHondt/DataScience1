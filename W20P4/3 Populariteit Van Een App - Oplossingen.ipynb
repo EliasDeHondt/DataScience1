{
  "cells": [
    {
      "cell_type": "markdown",
      "metadata": {
        "collapsed": true,
        "id": "ibnL8EKowcyP",
        "pycharm": {
          "name": "#%% md\n"
        }
      },
      "source": [
        "# Popularitieit van een app"
      ]
    },
    {
      "cell_type": "markdown",
      "metadata": {
        "id": "e6XvI4Qcwcyc",
        "pycharm": {
          "name": "#%% md\n"
        }
      },
      "source": [
        "Een bedrijf heeft vorige maand een nieuwe app gelanceerd. Ze hebben iedere dag genoteerd hoeveel mensen deze gedownload hebben. Je vindt deze gegevens in “populariteitApp.csv”.\n",
        "\n",
        "Er zijn in dit geval geen verkeerde of ontbrekende gegevens.  Je zou het bestand dus gemakkelijk moeten kunnen lezen. Je moet wel zorgen dat de kolom \"downloads\" van het type `float` wordt.\n"
      ]
    },
    {
      "cell_type": "markdown",
      "metadata": {
        "id": "LIX2W85swcyc",
        "pycharm": {
          "name": "#%% md\n"
        }
      },
      "source": [
        "1.\tMaak een plot van de gegevens zodat je al wat inzicht krijgt in de data."
      ]
    },
    {
      "cell_type": "code",
      "execution_count": null,
      "metadata": {
        "colab": {
          "base_uri": "https://localhost:8080/",
          "height": 389
        },
        "id": "w6FR3yi2wcyd",
        "outputId": "e58e6032-6a46-4e9b-fc03-bfacc4cbcc12",
        "pycharm": {
          "name": "#%%\n"
        }
      },
      "outputs": [
        {
          "name": "stdout",
          "output_type": "stream",
          "text": [
            "<class 'pandas.core.frame.DataFrame'>\n",
            "RangeIndex: 31 entries, 0 to 30\n",
            "Data columns (total 2 columns):\n",
            " #   Column     Non-Null Count  Dtype  \n",
            "---  ------     --------------  -----  \n",
            " 0   datum      31 non-null     object \n",
            " 1   downloads  31 non-null     float64\n",
            "dtypes: float64(1), object(1)\n",
            "memory usage: 624.0+ bytes\n"
          ]
        },
        {
          "data": {
            "text/plain": "<Figure size 432x288 with 1 Axes>",
            "image/png": "[encoded data removed]"
          },
          "metadata": {
            "needs_background": "light"
          },
          "output_type": "display_data"
        }
      ],
      "source": [
        "import numpy as np\n",
        "import pandas as pd\n",
        "from scripts.forecast import *\n",
        "\n",
        "app = pd.read_csv('../datasets/populariteitApp.csv')\n",
        "app.downloads = app.downloads.astype(float)\n",
        "app.info()\n",
        "_ = app.plot()"
      ]
    },
    {
      "cell_type": "markdown",
      "metadata": {
        "id": "CFsfcfqkwcyf",
        "pycharm": {
          "name": "#%% md\n"
        }
      },
      "source": [
        "2.\tKan je de seizoensgrootte vinden?\n",
        "Tip: gebruik acorr-functie op downloads die je eerst omzet naar Numpy array van floats."
      ]
    },
    {
      "cell_type": "code",
      "execution_count": null,
      "metadata": {
        "id": "t8I324y1wcyg",
        "pycharm": {
          "name": "#%%\n"
        },
        "outputId": "4b35ddc4-63fb-4b1d-e269-e35203d672c7"
      },
      "outputs": [
        {
          "name": "stdout",
          "output_type": "stream",
          "text": [
            "m = [1]\n"
          ]
        },
        {
          "data": {
            "image/png": "[encoded data removed]",
            "text/plain": [
              "<Figure size 720x360 with 1 Axes>"
            ]
          },
          "metadata": {
            "needs_background": "light"
          },
          "output_type": "display_data"
        }
      ],
      "source": [
        "fig, ax = plt.subplots(figsize=(10, 5))\n",
        "lags, acfs, _, _ = ax.acorr(app.downloads)\n",
        "_ = ax.set_xticks(range(-10, 11))\n",
        "_ = ax.set_xlabel('offset')\n",
        "_ = ax.set_ylabel('correlatie')\n",
        "_ = ax.set_title('Auto-correlation opbrengsten')\n",
        "\n",
        "# De acorr figuur laat niet echt een seizoen zien.\n",
        "# Ook visueel is er niet echt een seizoen te zien.\n",
        "\n",
        "m = find_period(app.downloads)\n",
        "print('m =', m)\n",
        "# Periode is 1 maar dit hier geen echte periode, want er is geen herhaling."
      ]
    },
    {
      "cell_type": "markdown",
      "metadata": {
        "id": "gjlg2v9Mwcyh",
        "pycharm": {
          "name": "#%% md\n"
        }
      },
      "source": [
        "3.\tVoorspel nu, voor iedere voorspellingsmethode, de drie volgende dagen.  Bereken telkens de MAE, RMSE en de MAPE.\n",
        "\n",
        "Vervolledig volgende tabel met alle resultaten.\n",
        "\n",
        "|techniek               | dag 1 | dag 2 | dag 3 | MAE | RMSE | MAPE |\n",
        "|-----------------------|-------|-------|-------|-----|------|------|\n",
        "| naief                 | &nbsp;| &nbsp;|&nbsp; |&nbsp;&nbsp;|&nbsp;|\n",
        "| gemiddelde            | &nbsp;| &nbsp;|&nbsp; |&nbsp;&nbsp;|&nbsp;|\n",
        "| voortschrijdend(m=5)  | &nbsp;| &nbsp;|&nbsp; |&nbsp;&nbsp;|&nbsp;|\n",
        "| lin.comb. (m=13)      | &nbsp;| &nbsp;|&nbsp; |&nbsp;&nbsp;|&nbsp;|\n",
        "| trend                 | &nbsp;| &nbsp;|&nbsp; |&nbsp;&nbsp;|&nbsp;|\n",
        "| add. decomp. (m=7)    | &nbsp;| &nbsp;|&nbsp; |&nbsp;&nbsp;|&nbsp;|\n",
        "| multi.decomp. (m=7)   | &nbsp;| &nbsp;|&nbsp; |&nbsp;&nbsp;|&nbsp;|"
      ]
    },
    {
      "cell_type": "code",
      "execution_count": null,
      "metadata": {
        "colab": {
          "base_uri": "https://localhost:8080/",
          "height": 300
        },
        "id": "Flf8Bodpwcyh",
        "outputId": "9e3667a7-467a-4ae2-83ec-0eefb1ea19df",
        "pycharm": {
          "is_executing": true,
          "name": "#%%\n"
        }
      },
      "outputs": [
        {
          "data": {
            "text/html": [
              "<div>\n",
              "<style scoped>\n",
              "    .dataframe tbody tr th:only-of-type {\n",
              "        vertical-align: middle;\n",
              "    }\n",
              "\n",
              "    .dataframe tbody tr th {\n",
              "        vertical-align: top;\n",
              "    }\n",
              "\n",
              "    .dataframe thead th {\n",
              "        text-align: right;\n",
              "    }\n",
              "</style>\n",
              "<table border=\"1\" class=\"dataframe\">\n",
              "  <thead>\n",
              "    <tr style=\"text-align: right;\">\n",
              "      <th></th>\n",
              "      <th>dag 1</th>\n",
              "      <th>dag 2</th>\n",
              "      <th>dag 3</th>\n",
              "      <th>MAE</th>\n",
              "      <th>RMSE</th>\n",
              "      <th>MAPE</th>\n",
              "    </tr>\n",
              "  </thead>\n",
              "  <tbody>\n",
              "    <tr>\n",
              "      <th>naive</th>\n",
              "      <td>34.000000</td>\n",
              "      <td>34.000000</td>\n",
              "      <td>34.000000</td>\n",
              "      <td>1.533333</td>\n",
              "      <td>1.914854</td>\n",
              "      <td>0.119949</td>\n",
              "    </tr>\n",
              "    <tr>\n",
              "      <th>gemiddelde</th>\n",
              "      <td>17.483871</td>\n",
              "      <td>17.483871</td>\n",
              "      <td>17.483871</td>\n",
              "      <td>8.202828</td>\n",
              "      <td>9.302767</td>\n",
              "      <td>0.433869</td>\n",
              "    </tr>\n",
              "    <tr>\n",
              "      <th>voortschrijdend</th>\n",
              "      <td>30.600000</td>\n",
              "      <td>31.120000</td>\n",
              "      <td>31.344000</td>\n",
              "      <td>3.130769</td>\n",
              "      <td>3.366578</td>\n",
              "      <td>0.183542</td>\n",
              "    </tr>\n",
              "    <tr>\n",
              "      <th>lin_comb</th>\n",
              "      <td>36.832063</td>\n",
              "      <td>37.384059</td>\n",
              "      <td>42.098808</td>\n",
              "      <td>1.531631</td>\n",
              "      <td>1.780848</td>\n",
              "      <td>0.048856</td>\n",
              "    </tr>\n",
              "    <tr>\n",
              "      <th>trend</th>\n",
              "      <td>33.309677</td>\n",
              "      <td>34.298790</td>\n",
              "      <td>35.287903</td>\n",
              "      <td>1.003642</td>\n",
              "      <td>1.156301</td>\n",
              "      <td>0.104034</td>\n",
              "    </tr>\n",
              "    <tr>\n",
              "      <th>add_model</th>\n",
              "      <td>33.988637</td>\n",
              "      <td>34.962483</td>\n",
              "      <td>35.936330</td>\n",
              "      <td>1.158930</td>\n",
              "      <td>1.485943</td>\n",
              "      <td>0.132680</td>\n",
              "    </tr>\n",
              "    <tr>\n",
              "      <th>mult_model</th>\n",
              "      <td>32.118228</td>\n",
              "      <td>33.065599</td>\n",
              "      <td>34.012969</td>\n",
              "      <td>1.135491</td>\n",
              "      <td>1.323084</td>\n",
              "      <td>0.110438</td>\n",
              "    </tr>\n",
              "  </tbody>\n",
              "</table>\n",
              "</div>"
            ],
            "text/plain": [
              "                     dag 1      dag 2      dag 3       MAE      RMSE      MAPE\n",
              "naive            34.000000  34.000000  34.000000  1.533333  1.914854  0.119949\n",
              "gemiddelde       17.483871  17.483871  17.483871  8.202828  9.302767  0.433869\n",
              "voortschrijdend  30.600000  31.120000  31.344000  3.130769  3.366578  0.183542\n",
              "lin_comb         36.832063  37.384059  42.098808  1.531631  1.780848  0.048856\n",
              "trend            33.309677  34.298790  35.287903  1.003642  1.156301  0.104034\n",
              "add_model        33.988637  34.962483  35.936330  1.158930  1.485943  0.132680\n",
              "mult_model       32.118228  33.065599  34.012969  1.135491  1.323084  0.110438"
            ]
          },
          "execution_count": 5,
          "metadata": {},
          "output_type": "execute_result"
        }
      ],
      "source": [
        "from statsmodels.tsa.seasonal import seasonal_decompose\n",
        "\n",
        "n = app.downloads.size\n",
        "nn = n + 3\n",
        "downloads = app.downloads.to_numpy()\n",
        "# voorspellingen doen voo\n",
        "naief = predict(downloads, 0, nn, naive)\n",
        "gemiddelde = predict(downloads, 0, nn, average)\n",
        "voortschrijdend = predict(downloads, 0, nn, moving_average, 5)\n",
        "lin_comb = predict(downloads, 0, nn, linear_combination, 13)\n",
        "trend = create_trend_model(downloads)(np.arange(nn).reshape(-1, 1))\n",
        "add_model = seasonal_decompose(downloads, model='additive', period=7)\n",
        "mult_model = seasonal_decompose(downloads, model='multiplicative', period=7)\n",
        "\n",
        "# voorspellingen voor de komende 3 dagen\n",
        "\n",
        "# seasonal decompositie voorspellingen hebben twee modellen nodig: regressie en sd model\n",
        "reg_model = GeneralRegression()\n",
        "x = np.arange(n)[~np.isnan(add_model.trend)]\n",
        "y = add_model.trend[~np.isnan(add_model.trend)]\n",
        "reg_model.fit(x, y)\n",
        "\n",
        "add_model_pred = seasonal_decomposition_forecast(reg_model, mult_model, 0, nn)\n",
        "mult_model_pred = seasonal_decomposition_forecast(reg_model, mult_model, 0, nn, method='multiplicative')\n",
        "\n",
        "dagen = pd.concat([\n",
        "    pd.Series(naief[n:nn], name='naive'),\n",
        "    pd.Series(gemiddelde[n:nn], name='gemiddelde'),\n",
        "    pd.Series(voortschrijdend[n:nn], name='voortschrijdend'),\n",
        "    pd.Series(lin_comb[n:nn], name='lin_comb'),\n",
        "    pd.Series(trend[n:nn], name='trend'),\n",
        "    pd.Series(add_model_pred[n:nn], name='add_model'),\n",
        "    pd.Series(mult_model_pred[n:nn], name='mult_model')],\n",
        "    axis=1)\n",
        "dagen.index = ['dag {}'.format(i) for i in range(1, 4)]\n",
        "\n",
        "# errors berekenen\n",
        "errors = pd.concat([\n",
        "    forecast_errors(downloads, naief[:n], method='naive'),\n",
        "    forecast_errors(downloads, gemiddelde[:n], method='gemiddelde'),\n",
        "    forecast_errors(downloads, voortschrijdend[:n], method='voortschrijdend'),\n",
        "    forecast_errors(downloads, lin_comb[:n], method='lin_comb'),\n",
        "    forecast_errors(downloads, trend[:n], method='trend'),\n",
        "    forecast_errors(downloads, add_model_pred[:n], method='add_model'),\n",
        "    forecast_errors(downloads, mult_model_pred[:n], method='mult_model')])\n",
        "\n",
        "pd.merge(dagen.transpose(), errors, left_index=True, right_index=True)"
      ]
    },
    {
      "cell_type": "markdown",
      "metadata": {
        "id": "bbHmjXLOwcyj",
        "pycharm": {
          "name": "#%% md\n"
        }
      },
      "source": [
        "4.\tlineaire combinatie: welke gewichten vind je?  Welke waarde speelt dus de grootste rol in het voorspellen van de volgende waarde?"
      ]
    },
    {
      "cell_type": "code",
      "execution_count": null,
      "metadata": {
        "id": "czaAdYg1wcyj",
        "pycharm": {
          "is_executing": true,
          "name": "#%%\n"
        },
        "outputId": "dbd3b9a5-f731-429a-c270-a7ffc163cac2"
      },
      "outputs": [
        {
          "data": {
            "text/plain": [
              "nan"
            ]
          },
          "execution_count": 6,
          "metadata": {},
          "output_type": "execute_result"
        }
      ],
      "source": [
        "bereken_gewichten(x, 13)"
      ]
    },
    {
      "cell_type": "markdown",
      "metadata": {
        "id": "z-hx5ysRwcyk",
        "pycharm": {
          "name": "#%% md\n"
        }
      },
      "source": [
        "5.\ttrend: wat is de formule van de regressielijn?"
      ]
    },
    {
      "cell_type": "code",
      "execution_count": null,
      "metadata": {
        "id": "lnQCdyjGwcyl",
        "pycharm": {
          "is_executing": true,
          "name": "#%%\n"
        },
        "outputId": "780cb935-a0a5-4a76-ad17-ec2e77a458f1"
      },
      "outputs": [
        {
          "name": "stdout",
          "output_type": "stream",
          "text": [
            "y = 0.989113 * x + 2.647177\n"
          ]
        }
      ],
      "source": [
        "model = GeneralRegression()\n",
        "model.fit(np.arange(n), downloads)\n",
        "print('y = {:2f} * x + {:2f}'.format(model.coef_[1], model.intercept_))"
      ]
    },
    {
      "cell_type": "markdown",
      "metadata": {
        "id": "T20-A5kAwcym",
        "pycharm": {
          "name": "#%% md\n"
        }
      },
      "source": [
        "6.\tadditieve decompositie: wat is de formule voor de trendlijn?"
      ]
    },
    {
      "cell_type": "code",
      "execution_count": null,
      "metadata": {
        "id": "vISuv6fXwcym",
        "pycharm": {
          "is_executing": true,
          "name": "#%%\n"
        },
        "outputId": "328cdfae-0de3-4bf6-a4c8-0f7a234ac81e"
      },
      "outputs": [
        {
          "name": "stdout",
          "output_type": "stream",
          "text": [
            "y = 0.989113 * x + 2.647177\n"
          ]
        }
      ],
      "source": [
        "reg_model = GeneralRegression()\n",
        "x = np.arange(n)[~np.isnan(add_model.trend)]\n",
        "y = add_model.trend[~np.isnan(add_model.trend)]\n",
        "reg_model.fit(x, y)\n",
        "print('y = {:2f} * x + {:2f}'.format(model.coef_[1], model.intercept_))"
      ]
    },
    {
      "cell_type": "markdown",
      "metadata": {
        "id": "HRCJ34Ljwcyn",
        "pycharm": {
          "name": "#%% md\n"
        }
      },
      "source": [
        "7.\tadditieve decompositie: wat zijn de waarden voor het weerkerend patroon?"
      ]
    },
    {
      "cell_type": "code",
      "execution_count": null,
      "metadata": {
        "id": "SpmFgHG0wcyn",
        "pycharm": {
          "is_executing": true,
          "name": "#%%\n"
        }
      },
      "outputs": [],
      "source": [
        "add_model.seasonal[:7]"
      ]
    },
    {
      "cell_type": "markdown",
      "metadata": {
        "id": "WSLalNONwcyn",
        "pycharm": {
          "name": "#%% md\n"
        }
      },
      "source": [
        "8.\tmultiplicatieve decompositie: wat is de formule voor de trendlijn?"
      ]
    },
    {
      "cell_type": "code",
      "execution_count": null,
      "metadata": {
        "id": "mi0NVyhzwcyn",
        "pycharm": {
          "is_executing": true,
          "name": "#%%\n"
        }
      },
      "outputs": [],
      "source": [
        "# zelfde als bij additief model"
      ]
    },
    {
      "cell_type": "markdown",
      "metadata": {
        "id": "5cJyOQ-uwcyo",
        "pycharm": {
          "name": "#%% md\n"
        }
      },
      "source": [
        "9.\tmultiplicatieve decompositie: wat zijn de waarden voor het weerkerend patroon?"
      ]
    },
    {
      "cell_type": "code",
      "execution_count": null,
      "metadata": {
        "id": "bnHWfcZQwcyo",
        "pycharm": {
          "is_executing": true,
          "name": "#%%\n"
        }
      },
      "outputs": [],
      "source": [
        "mult_model.seasonal[:7]"
      ]
    },
    {
      "cell_type": "markdown",
      "metadata": {
        "id": "SpkS401ewcyo",
        "pycharm": {
          "name": "#%% md\n"
        }
      },
      "source": [
        "10.\twelke techniek geeft de beste voorspelling en waarom?"
      ]
    },
    {
      "cell_type": "code",
      "execution_count": null,
      "metadata": {
        "id": "VKSHwgYLwcyo",
        "pycharm": {
          "name": "#%%\n"
        }
      },
      "outputs": [],
      "source": [
        "# De laagste MAPE zit bij lineaire combinatie.  Dat is dus de beste keuze in dit geval.\n",
        "# Als je echter een andere waarde neemt voor de seizoensgrootte, krijg je veel slechtere resultaten (probeer maar eens).\n",
        "# Vandaar dat men in de praktijk waarschijnlijk beter multiplicatieve decompositie gebruikt (die ook een lage MAPE heeft)."
      ]
    }
  ],
  "metadata": {
    "colab": {
      "provenance": []
    },
    "kernelspec": {
      "display_name": "Python 3",
      "language": "python",
      "name": "python3"
    },
    "language_info": {
      "codemirror_mode": {
        "name": "ipython",
        "version": 3
      },
      "file_extension": ".py",
      "mimetype": "text/x-python",
      "name": "python",
      "nbconvert_exporter": "python",
      "pygments_lexer": "ipython3",
      "version": "3.8.7"
    }
  },
  "nbformat": 4,
  "nbformat_minor": 0
}