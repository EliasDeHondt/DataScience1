{
 "cells": [
  {
   "cell_type": "markdown",
   "metadata": {
    "id": "Xxo5WFHR7LOG"
   },
   "source": [
    "## Stress en weersomstandigheden\n",
    "### Set up\n"
   ]
  },
  {
   "cell_type": "markdown",
   "metadata": {
    "collapsed": true,
    "id": "CYV5LTB_7LOP"
   },
   "source": [
    "In deze studie vragen we ons af welke invloed het weer heeft op het stressgevoel. We vroegen een aantal\n",
    "personen om iedere dag hun stressgevoel te noteren. Bij deze gegevens noteerden we de gemiddelde\n",
    "temperatuur, luchtvochtigheid en hoeveelheid neerslag op die dag."
   ]
  },
  {
   "cell_type": "markdown",
   "metadata": {
    "id": "O5tPMc1P7LOP"
   },
   "source": [
    "1. Lees de data in. Welke kolommen bevatten NA-waarden? Verwijder de rijen met NA-waarden.\n",
    "Verwijder de rijen met extreme uitschieters bij neerslag. De luchtvochtigheid mag niet hoger zijn dan 100. \n",
    "Verwijder de rijen waarbij dat zo is. Hoeveel rijen hou je nu over?"
   ]
  },
  {
   "cell_type": "code",
   "execution_count": null,
   "outputs": [],
   "source": [],
   "metadata": {
    "collapsed": false,
    "ExecuteTime": {
     "start_time": "2023-04-20T10:40:21.966882Z",
     "end_time": "2023-04-20T10:40:21.979113Z"
    }
   }
  },
  {
   "cell_type": "markdown",
   "metadata": {
    "id": "hLej9t6i7LOT"
   },
   "source": [
    "2. Welk meetniveau hebben de kolommen?"
   ]
  },
  {
   "cell_type": "code",
   "execution_count": null,
   "outputs": [],
   "source": [],
   "metadata": {
    "collapsed": false,
    "ExecuteTime": {
     "start_time": "2023-04-20T10:40:21.979113Z",
     "end_time": "2023-04-20T10:40:21.994938Z"
    }
   }
  },
  {
   "cell_type": "markdown",
   "metadata": {
    "id": "Un7Xvt9O7LOU"
   },
   "source": [
    "3. Wat is de gemiddelde temperatuur, luchtvochtigheid en neerslag?"
   ]
  },
  {
   "cell_type": "code",
   "execution_count": null,
   "outputs": [],
   "source": [],
   "metadata": {
    "collapsed": false,
    "ExecuteTime": {
     "start_time": "2023-04-20T10:40:21.996905Z",
     "end_time": "2023-04-20T10:40:22.002533Z"
    }
   }
  },
  {
   "cell_type": "markdown",
   "metadata": {
    "id": "jHsNDYpz7LOW"
   },
   "source": [
    "4. Zoek de correlatie tussen stress en temperatuur. Welke methode gebruik je best? Welke waarde\n",
    "vind je? Wat betekent deze?"
   ]
  },
  {
   "cell_type": "code",
   "execution_count": null,
   "outputs": [],
   "source": [],
   "metadata": {
    "collapsed": false,
    "ExecuteTime": {
     "start_time": "2023-04-20T10:40:22.007949Z",
     "end_time": "2023-04-20T10:40:22.040812Z"
    }
   }
  },
  {
   "cell_type": "markdown",
   "metadata": {
    "id": "DGHcxmfc7LOX"
   },
   "source": [
    "4. Zoek de correlatie tussen stress en temperatuur. Welke methode gebruik je best? Welke waarde\n",
    "vind je? Wat betekent deze?"
   ]
  },
  {
   "cell_type": "code",
   "execution_count": null,
   "outputs": [],
   "source": [],
   "metadata": {
    "collapsed": false,
    "ExecuteTime": {
     "start_time": "2023-04-20T10:40:22.026893Z",
     "end_time": "2023-04-20T10:40:22.050047Z"
    }
   }
  },
  {
   "cell_type": "markdown",
   "metadata": {
    "id": "6M4kFa5s7LOZ"
   },
   "source": [
    "5. Zoek de correlatie tussen stress en luchtvochtigheid. Welke waarde vind je? Wat betekent deze?"
   ]
  },
  {
   "cell_type": "code",
   "execution_count": null,
   "outputs": [],
   "source": [],
   "metadata": {
    "collapsed": false,
    "ExecuteTime": {
     "start_time": "2023-04-20T10:40:22.037497Z",
     "end_time": "2023-04-20T10:40:22.053076Z"
    }
   }
  },
  {
   "cell_type": "markdown",
   "metadata": {
    "id": "wMJ8gTNo7LOZ"
   },
   "source": [
    "6. Zoek de correlatie tussen stress en neerslag. Welke waarde vind je? Wat betekent deze?"
   ]
  },
  {
   "cell_type": "code",
   "execution_count": null,
   "outputs": [],
   "source": [],
   "metadata": {
    "collapsed": false,
    "ExecuteTime": {
     "start_time": "2023-04-20T10:40:22.053076Z",
     "end_time": "2023-04-20T10:40:22.058876Z"
    }
   }
  },
  {
   "cell_type": "markdown",
   "metadata": {
    "id": "uPiRvk127LOa"
   },
   "source": [
    "7. Welke factoren spelen dus een rol in het stressgevoel?"
   ]
  },
  {
   "cell_type": "code",
   "execution_count": null,
   "outputs": [],
   "source": [],
   "metadata": {
    "collapsed": false,
    "ExecuteTime": {
     "start_time": "2023-04-20T10:40:22.061222Z",
     "end_time": "2023-04-20T10:40:22.089260Z"
    }
   }
  }
 ],
 "metadata": {
  "colab": {
   "collapsed_sections": [],
   "name": "Stress en weersomstandigheden.ipynb",
   "provenance": [],
   "toc_visible": true
  },
  "kernelspec": {
   "display_name": "Python 3",
   "language": "python",
   "name": "python3"
  },
  "language_info": {
   "codemirror_mode": {
    "name": "ipython",
    "version": 3
   },
   "file_extension": ".py",
   "mimetype": "text/x-python",
   "name": "python",
   "nbconvert_exporter": "python",
   "pygments_lexer": "ipython3",
   "version": "3.8.7"
  }
 },
 "nbformat": 4,
 "nbformat_minor": 1
}
