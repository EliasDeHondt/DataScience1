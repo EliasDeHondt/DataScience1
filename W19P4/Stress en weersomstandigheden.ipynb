{
 "cells": [
  {
   "cell_type": "markdown",
   "metadata": {
    "id": "Xxo5WFHR7LOG"
   },
   "source": [
    "## Stress en weersomstandigheden\n",
    "### Set up\n"
   ]
  },
  {
   "cell_type": "markdown",
   "metadata": {
    "collapsed": true,
    "id": "CYV5LTB_7LOP"
   },
   "source": [
    "In deze studie vragen we ons af welke invloed het weer heeft op het stressgevoel. We vroegen een aantal\n",
    "personen om iedere dag hun stressgevoel te noteren. Bij deze gegevens noteerden we de gemiddelde\n",
    "temperatuur, luchtvochtigheid en hoeveelheid neerslag op die dag."
   ]
  },
  {
   "cell_type": "markdown",
   "metadata": {
    "id": "O5tPMc1P7LOP"
   },
   "source": [
    "1. Lees de data \"stress.csv\" in. Welke kolommen bevatten NA-waarden? Verwijder de rijen met NA-waarden.\n",
    "Verwijder de rijen met extreme uitschieters bij neerslag. De luchtvochtigheid mag niet hoger zijn dan 100. \n",
    "Verwijder de rijen waarbij dat zo is. Hoeveel rijen hou je nu over?"
   ]
  },
  {
   "cell_type": "code",
   "execution_count": 31,
   "outputs": [
    {
     "data": {
      "text/plain": "                  stress  temp  neerslag  vochtigheid stressniveau_code\n0                normaal  18.3       2.5         72.0                 1\n1     licht gestresseerd   7.4       2.7         69.0                 2\n2     licht gestresseerd  12.6       2.5         76.0                 2\n3                normaal  14.1       2.3         73.0                 1\n4     licht gestresseerd  12.8       3.1         85.0                 2\n...                  ...   ...       ...          ...               ...\n1082  licht gestresseerd  15.9       2.3         86.0                 2\n1083  licht gestresseerd  11.0       2.5         95.0                 2\n1084  licht gestresseerd   7.3       2.4         83.0                 2\n1085  licht gestresseerd   4.6       2.1         79.0                 2\n1086  licht gestresseerd  12.0       2.7         74.0                 2\n\n[1087 rows x 5 columns]",
      "text/html": "<div>\n<style scoped>\n    .dataframe tbody tr th:only-of-type {\n        vertical-align: middle;\n    }\n\n    .dataframe tbody tr th {\n        vertical-align: top;\n    }\n\n    .dataframe thead th {\n        text-align: right;\n    }\n</style>\n<table border=\"1\" class=\"dataframe\">\n  <thead>\n    <tr style=\"text-align: right;\">\n      <th></th>\n      <th>stress</th>\n      <th>temp</th>\n      <th>neerslag</th>\n      <th>vochtigheid</th>\n      <th>stressniveau_code</th>\n    </tr>\n  </thead>\n  <tbody>\n    <tr>\n      <th>0</th>\n      <td>normaal</td>\n      <td>18.3</td>\n      <td>2.5</td>\n      <td>72.0</td>\n      <td>1</td>\n    </tr>\n    <tr>\n      <th>1</th>\n      <td>licht gestresseerd</td>\n      <td>7.4</td>\n      <td>2.7</td>\n      <td>69.0</td>\n      <td>2</td>\n    </tr>\n    <tr>\n      <th>2</th>\n      <td>licht gestresseerd</td>\n      <td>12.6</td>\n      <td>2.5</td>\n      <td>76.0</td>\n      <td>2</td>\n    </tr>\n    <tr>\n      <th>3</th>\n      <td>normaal</td>\n      <td>14.1</td>\n      <td>2.3</td>\n      <td>73.0</td>\n      <td>1</td>\n    </tr>\n    <tr>\n      <th>4</th>\n      <td>licht gestresseerd</td>\n      <td>12.8</td>\n      <td>3.1</td>\n      <td>85.0</td>\n      <td>2</td>\n    </tr>\n    <tr>\n      <th>...</th>\n      <td>...</td>\n      <td>...</td>\n      <td>...</td>\n      <td>...</td>\n      <td>...</td>\n    </tr>\n    <tr>\n      <th>1082</th>\n      <td>licht gestresseerd</td>\n      <td>15.9</td>\n      <td>2.3</td>\n      <td>86.0</td>\n      <td>2</td>\n    </tr>\n    <tr>\n      <th>1083</th>\n      <td>licht gestresseerd</td>\n      <td>11.0</td>\n      <td>2.5</td>\n      <td>95.0</td>\n      <td>2</td>\n    </tr>\n    <tr>\n      <th>1084</th>\n      <td>licht gestresseerd</td>\n      <td>7.3</td>\n      <td>2.4</td>\n      <td>83.0</td>\n      <td>2</td>\n    </tr>\n    <tr>\n      <th>1085</th>\n      <td>licht gestresseerd</td>\n      <td>4.6</td>\n      <td>2.1</td>\n      <td>79.0</td>\n      <td>2</td>\n    </tr>\n    <tr>\n      <th>1086</th>\n      <td>licht gestresseerd</td>\n      <td>12.0</td>\n      <td>2.7</td>\n      <td>74.0</td>\n      <td>2</td>\n    </tr>\n  </tbody>\n</table>\n<p>1087 rows × 5 columns</p>\n</div>"
     },
     "metadata": {},
     "output_type": "display_data"
    },
    {
     "name": "stdout",
     "output_type": "stream",
     "text": [
      "1087\n"
     ]
    }
   ],
   "source": [
    "import pandas as pd\n",
    "\n",
    "# Lees de data \"stress.csv\"\n",
    "stress = pd.read_csv('data/stress.csv', sep='\\t', decimal=',')\n",
    "\n",
    "# Welke kolommen bevatten NA-waarden? \"temp\" en \"neerslag\"\n",
    "\n",
    "# Verwijder de rijen met NA-waarden.\n",
    "stress = stress.dropna()\n",
    "stress.dropna(inplace=True)\n",
    "\n",
    "# Verwijder de rijen met extreme uitschieters bij neerslag.\n",
    "Q1 = stress.neerslag.quantile(0.25)\n",
    "Q3 = stress.neerslag.quantile(0.75)\n",
    "IQR = Q3 - Q1\n",
    "\n",
    "lower_bound = Q1 - IQR * 1.5\n",
    "upper_bound = Q3 + IQR * 1.5\n",
    "\n",
    "stress = stress[(stress['neerslag'] >= lower_bound)  & (stress['neerslag'] <= upper_bound)]\n",
    "\n",
    "# De luchtvochtigheid mag niet hoger zijn dan 100. Verwijder de rijen waarbij dat zo is.\n",
    "stress = stress[stress['vochtigheid'] <= 100]\n",
    "\n",
    "stress.reset_index(drop=True, inplace=True) # De index resetten\n",
    "\n",
    "display(stress)\n",
    "\n",
    "# Hoeveel rijen hou je nu over?\n",
    "print(len(stress))"
   ],
   "metadata": {
    "collapsed": false,
    "ExecuteTime": {
     "start_time": "2023-04-22T19:17:42.910985Z",
     "end_time": "2023-04-22T19:17:43.016124Z"
    }
   }
  },
  {
   "cell_type": "markdown",
   "metadata": {
    "id": "hLej9t6i7LOT"
   },
   "source": [
    "2. Welk meetniveau hebben de kolommen?"
   ]
  },
  {
   "cell_type": "code",
   "execution_count": 32,
   "outputs": [
    {
     "name": "stdout",
     "output_type": "stream",
     "text": [
      "stress                object\n",
      "temp                 float64\n",
      "neerslag             float64\n",
      "vochtigheid          float64\n",
      "stressniveau_code     object\n",
      "dtype: object\n"
     ]
    }
   ],
   "source": [
    "print(stress.dtypes)\n",
    "# stress -> object -> Nominaal\n",
    "# temp -> float64 -> Ratio\n",
    "# neerslag -> float64 -> Ratio\n",
    "# vochtigheid -> float64 -> Ratio"
   ],
   "metadata": {
    "collapsed": false,
    "ExecuteTime": {
     "start_time": "2023-04-22T19:17:42.943664Z",
     "end_time": "2023-04-22T19:17:43.027637Z"
    }
   }
  },
  {
   "cell_type": "markdown",
   "metadata": {
    "id": "Un7Xvt9O7LOU"
   },
   "source": [
    "3. Wat is de gemiddelde temperatuur, luchtvochtigheid en neerslag?"
   ]
  },
  {
   "cell_type": "code",
   "execution_count": 33,
   "outputs": [
    {
     "name": "stdout",
     "output_type": "stream",
     "text": [
      "Gemiddelde temperatuur -> 10.324839006439742\n",
      "Gemiddelde luchtvochtigheid -> 79.86476540938362\n",
      "Gemiddelde neerslag -> 2.371297148114075\n"
     ]
    }
   ],
   "source": [
    "print(\"Gemiddelde temperatuur ->\", stress['temp'].mean())\n",
    "print(\"Gemiddelde luchtvochtigheid ->\", stress['vochtigheid'].mean())\n",
    "print(\"Gemiddelde neerslag ->\", stress['neerslag'].mean())"
   ],
   "metadata": {
    "collapsed": false,
    "ExecuteTime": {
     "start_time": "2023-04-22T19:17:42.959209Z",
     "end_time": "2023-04-22T19:17:43.027637Z"
    }
   }
  },
  {
   "cell_type": "code",
   "execution_count": 41,
   "outputs": [
    {
     "data": {
      "text/plain": "                  stress  temp  neerslag  vochtigheid  stressniveau_code\n0                normaal  18.3       2.5         72.0                  2\n1     licht gestresseerd   7.4       2.7         69.0                  3\n2     licht gestresseerd  12.6       2.5         76.0                  3\n3                normaal  14.1       2.3         73.0                  2\n4     licht gestresseerd  12.8       3.1         85.0                  3\n...                  ...   ...       ...          ...                ...\n1082  licht gestresseerd  15.9       2.3         86.0                  3\n1083  licht gestresseerd  11.0       2.5         95.0                  3\n1084  licht gestresseerd   7.3       2.4         83.0                  3\n1085  licht gestresseerd   4.6       2.1         79.0                  3\n1086  licht gestresseerd  12.0       2.7         74.0                  3\n\n[1087 rows x 5 columns]",
      "text/html": "<div>\n<style scoped>\n    .dataframe tbody tr th:only-of-type {\n        vertical-align: middle;\n    }\n\n    .dataframe tbody tr th {\n        vertical-align: top;\n    }\n\n    .dataframe thead th {\n        text-align: right;\n    }\n</style>\n<table border=\"1\" class=\"dataframe\">\n  <thead>\n    <tr style=\"text-align: right;\">\n      <th></th>\n      <th>stress</th>\n      <th>temp</th>\n      <th>neerslag</th>\n      <th>vochtigheid</th>\n      <th>stressniveau_code</th>\n    </tr>\n  </thead>\n  <tbody>\n    <tr>\n      <th>0</th>\n      <td>normaal</td>\n      <td>18.3</td>\n      <td>2.5</td>\n      <td>72.0</td>\n      <td>2</td>\n    </tr>\n    <tr>\n      <th>1</th>\n      <td>licht gestresseerd</td>\n      <td>7.4</td>\n      <td>2.7</td>\n      <td>69.0</td>\n      <td>3</td>\n    </tr>\n    <tr>\n      <th>2</th>\n      <td>licht gestresseerd</td>\n      <td>12.6</td>\n      <td>2.5</td>\n      <td>76.0</td>\n      <td>3</td>\n    </tr>\n    <tr>\n      <th>3</th>\n      <td>normaal</td>\n      <td>14.1</td>\n      <td>2.3</td>\n      <td>73.0</td>\n      <td>2</td>\n    </tr>\n    <tr>\n      <th>4</th>\n      <td>licht gestresseerd</td>\n      <td>12.8</td>\n      <td>3.1</td>\n      <td>85.0</td>\n      <td>3</td>\n    </tr>\n    <tr>\n      <th>...</th>\n      <td>...</td>\n      <td>...</td>\n      <td>...</td>\n      <td>...</td>\n      <td>...</td>\n    </tr>\n    <tr>\n      <th>1082</th>\n      <td>licht gestresseerd</td>\n      <td>15.9</td>\n      <td>2.3</td>\n      <td>86.0</td>\n      <td>3</td>\n    </tr>\n    <tr>\n      <th>1083</th>\n      <td>licht gestresseerd</td>\n      <td>11.0</td>\n      <td>2.5</td>\n      <td>95.0</td>\n      <td>3</td>\n    </tr>\n    <tr>\n      <th>1084</th>\n      <td>licht gestresseerd</td>\n      <td>7.3</td>\n      <td>2.4</td>\n      <td>83.0</td>\n      <td>3</td>\n    </tr>\n    <tr>\n      <th>1085</th>\n      <td>licht gestresseerd</td>\n      <td>4.6</td>\n      <td>2.1</td>\n      <td>79.0</td>\n      <td>3</td>\n    </tr>\n    <tr>\n      <th>1086</th>\n      <td>licht gestresseerd</td>\n      <td>12.0</td>\n      <td>2.7</td>\n      <td>74.0</td>\n      <td>3</td>\n    </tr>\n  </tbody>\n</table>\n<p>1087 rows × 5 columns</p>\n</div>"
     },
     "metadata": {},
     "output_type": "display_data"
    }
   ],
   "source": [
    "stress['stressniveau_code'] = stress['stress'].replace({\n",
    "    'zen': 1,\n",
    "    'normaal': 2,\n",
    "    'licht gestresseerd': 3,\n",
    "    'gestresseerd': 4,\n",
    "    'help, ik verzuip!': 5\n",
    "})\n",
    "\n",
    "stress['stressniveau_code'] = stress['stressniveau_code'].astype(int)\n",
    "\n",
    "display(stress)"
   ],
   "metadata": {
    "collapsed": false,
    "ExecuteTime": {
     "start_time": "2023-04-22T19:21:12.519075Z",
     "end_time": "2023-04-22T19:21:12.540307Z"
    }
   }
  },
  {
   "cell_type": "markdown",
   "metadata": {
    "id": "jHsNDYpz7LOW"
   },
   "source": [
    "4. Zoek de correlatie tussen stress en temperatuur. Welke methode gebruik je best? Welke waarde\n",
    "vind je? Wat betekent deze?"
   ]
  },
  {
   "cell_type": "code",
   "execution_count": 43,
   "outputs": [
    {
     "name": "stdout",
     "output_type": "stream",
     "text": [
      "-0.7939370435339832\n"
     ]
    }
   ],
   "source": [
    "correlatie = stress['stressniveau_code'].corr(stress['temp'])\n",
    "print(correlatie)\n",
    "# De correlatie (-0.7939370435339832) is negatief, dus je zou kunnen concluderen hoe hoger de temperatuur, hoe lager het stressniveau."
   ],
   "metadata": {
    "collapsed": false,
    "ExecuteTime": {
     "start_time": "2023-04-22T19:21:40.830587Z",
     "end_time": "2023-04-22T19:21:40.856597Z"
    }
   }
  },
  {
   "cell_type": "markdown",
   "metadata": {
    "id": "6M4kFa5s7LOZ"
   },
   "source": [
    "5. Zoek de correlatie tussen stress en luchtvochtigheid. Welke waarde vind je? Wat betekent deze?"
   ]
  },
  {
   "cell_type": "code",
   "execution_count": 45,
   "outputs": [
    {
     "name": "stdout",
     "output_type": "stream",
     "text": [
      "0.4095039270811681\n"
     ]
    }
   ],
   "source": [
    "correlatie = stress['stressniveau_code'].corr(stress['vochtigheid'])\n",
    "print(correlatie)\n",
    "# De correlatie (0.4095039270811681) is positief, dus je zou kunnen redeneren. Hoe hoger het stressniveau. Hoe hoger.De vochtigheid."
   ],
   "metadata": {
    "collapsed": false,
    "ExecuteTime": {
     "start_time": "2023-04-22T19:22:01.092901Z",
     "end_time": "2023-04-22T19:22:01.138330Z"
    }
   }
  },
  {
   "cell_type": "markdown",
   "metadata": {
    "id": "wMJ8gTNo7LOZ"
   },
   "source": [
    "6. Zoek de correlatie tussen stress en neerslag. Welke waarde vind je? Wat betekent deze?"
   ]
  },
  {
   "cell_type": "code",
   "execution_count": 44,
   "outputs": [
    {
     "name": "stdout",
     "output_type": "stream",
     "text": [
      "-0.00508631404211952\n"
     ]
    }
   ],
   "source": [
    "correlatie = stress['stressniveau_code'].corr(stress['neerslag'])\n",
    "print(correlatie)\n",
    "# De correlatie (-0.00508631404211952) is negatief, maar ligt zeer dicht bij nul niet relevant?"
   ],
   "metadata": {
    "collapsed": false,
    "ExecuteTime": {
     "start_time": "2023-04-22T19:21:58.978495Z",
     "end_time": "2023-04-22T19:21:58.998621Z"
    }
   }
  },
  {
   "cell_type": "markdown",
   "metadata": {
    "id": "uPiRvk127LOa"
   },
   "source": [
    "7. Welke factoren spelen dus een rol in het stressgevoel?"
   ]
  },
  {
   "cell_type": "code",
   "execution_count": 36,
   "outputs": [],
   "source": [
    "# Een negatieve correlatie duidt op een omgekeerd verband, wat betekent dat bij een toename van de ene variabele de andere variabele afneemt. Dus in dit geval betekent een negatieve correlatie tussen stressniveau en temperatuur dat hogere temperaturen samengaan met een lager stressniveau.\n",
    "\n",
    "# Een positieve correlatie duidt op een direct verband, wat betekent dat bij een toename van de ene variabele de andere variabele ook toeneemt. Dus in dit geval betekent een positieve correlatie tussen stressniveau en vochtigheid dat hogere niveaus van stress samengaan met hogere vochtigheid.\n",
    "\n",
    "# Een correlatie dicht bij nul geeft aan dat er geen lineair verband is tussen de twee variabelen. Dit betekent echter niet dat er helemaal geen verband is tussen de variabelen, er kan nog steeds een niet-lineair verband of een verband met een vertragingseffect tussen de variabelen bestaan. Het is daarom belangrijk om ook andere statistische technieken te gebruiken om verbanden tussen variabelen te onderzoeken en te bevestigen.\n",
    "\n",
    "# Conclusie, factoren die een rol spelen In het stressniveau -> temp en vochtigheid"
   ],
   "metadata": {
    "collapsed": false,
    "ExecuteTime": {
     "start_time": "2023-04-22T19:17:43.020629Z",
     "end_time": "2023-04-22T19:17:43.109149Z"
    }
   }
  }
 ],
 "metadata": {
  "colab": {
   "collapsed_sections": [],
   "name": "Stress en weersomstandigheden.ipynb",
   "provenance": [],
   "toc_visible": true
  },
  "kernelspec": {
   "display_name": "Python 3",
   "language": "python",
   "name": "python3"
  },
  "language_info": {
   "codemirror_mode": {
    "name": "ipython",
    "version": 3
   },
   "file_extension": ".py",
   "mimetype": "text/x-python",
   "name": "python",
   "nbconvert_exporter": "python",
   "pygments_lexer": "ipython3",
   "version": "3.8.7"
  }
 },
 "nbformat": 4,
 "nbformat_minor": 1
}
