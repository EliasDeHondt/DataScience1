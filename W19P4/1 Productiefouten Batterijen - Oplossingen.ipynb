{
 "nbformat": 4,
 "nbformat_minor": 0,
 "metadata": {
  "kernelspec": {
   "display_name": "Python 3",
   "language": "python",
   "name": "python3"
  },
  "language_info": {
   "codemirror_mode": {
    "name": "ipython",
    "version": 3
   },
   "file_extension": ".py",
   "mimetype": "text/x-python",
   "name": "python",
   "nbconvert_exporter": "python",
   "pygments_lexer": "ipython3",
   "version": "3.8.7"
  },
  "colab": {
   "name": "Productiefouten batterijen.ipynb",
   "provenance": []
  }
 },
 "cells": [
  {
   "cell_type": "markdown",
   "metadata": {
    "id": "w7yKZ55E8S0s"
   },
   "source": [
    "# Productiefouten batterijen\n",
    "\n",
    "### Setup"
   ]
  },
  {
   "cell_type": "code",
   "metadata": {
    "pycharm": {
     "is_executing": true
    },
    "id": "PPdQAWyv8S01"
   },
   "source": [
    "import pandas as pd\n",
    "import numpy as np\n",
    "import math as m\n",
    "import matplotlib.pyplot as plt\n",
    "from scipy import stats\n",
    "from hulpfuncties import *\n",
    "\n",
    "from IPython.core.display import display\n",
    "from IPython.core.interactiveshell import InteractiveShell\n"
   ],
   "execution_count": null,
   "outputs": []
  },
  {
   "cell_type": "markdown",
   "metadata": {
    "id": "i4rnwMZX8S02"
   },
   "source": [
    "### Opgave\n",
    "\n",
    "In een fabriek worden batterijen voor smartphones gefabriceerd. De vraag naar deze batterijen varieert\n",
    "nogal sterk. Men heeft het vermoeden dat als de vraag (en dus ook de productie) stijgt, het percentage\n",
    "ontploffende batterijen ook stijgt (en dus: de kwaliteit daalt onder de werkdruk). Dit wil men verifiëren.\n",
    "Er wordt een meting gedaan. Iedere dag wordt het aantal geproduceerde batterijen bijgehouden. Als er een\n",
    "defecte batterij terug wordt gebracht (of er een ontploft), wordt nagegaan op welke dag deze geproduceerd\n",
    "werd. De data vind je terug in het bestand \"batterijen.csv\".\n",
    "De eerste kolom geeft weer hoeveel er geproduceerd werd en de tweede kolom laat zien hoeveel batterijen\n",
    "er defect waren."
   ]
  },
  {
   "cell_type": "markdown",
   "metadata": {
    "id": "yulGl7Rd8S02"
   },
   "source": [
    "1. Lees het bestand in. Er zijn lijnen met meer dan 2 waarden. Bekijk wat Python hiermee doet als je de\n",
    "waarden inleest. Verwijder deze lijn uit de data. Er zijn uitschieters in de kolom aantalDefect.\n",
    "Verwijder deze. Hoeveel rijen hou je nu over?"
   ]
  },
  {
   "cell_type": "code",
   "metadata": {
    "pycharm": {
     "is_executing": true
    },
    "id": "lGBTam9s8S03",
    "outputId": "3aebbbfe-c8d3-4efa-b68a-58883437ddd5"
   },
   "source": [
    "batterijen=pd.read_csv(\"../datasets/batterijen.csv\",skiprows=[56],sep=\",\") # we kregen eerst een foutmelding dat er 3 waarden stonden op lijn 57\n",
    "batterijen.loc[50:60,:]\n",
    "len(batterijen)\n"
   ],
   "execution_count": null,
   "outputs": [
    {
     "output_type": "execute_result",
     "data": {
      "text/plain": [
       "96"
      ]
     },
     "metadata": {
      "tags": []
     },
     "execution_count": 15
    }
   ]
  },
  {
   "cell_type": "code",
   "metadata": {
    "pycharm": {
     "is_executing": true
    },
    "id": "wbTPozFQ8S04",
    "outputId": "682548ca-bc81-4114-a670-d98cc5744e71"
   },
   "source": [
    "# we verwijderen nu de uitschieters\n",
    "batterijenZU=batterijen[~uitschieters(batterijen['aantalDefect'])].copy()\n",
    "batterijenZU.head()\n",
    "len(batterijenZU)"
   ],
   "execution_count": null,
   "outputs": [
    {
     "output_type": "execute_result",
     "data": {
      "text/plain": [
       "93"
      ]
     },
     "metadata": {
      "tags": []
     },
     "execution_count": 18
    }
   ]
  },
  {
   "cell_type": "markdown",
   "metadata": {
    "id": "SR7mLfzE8S04"
   },
   "source": [
    "Er stonden 3 uitschieters in de kolom. Er zijn nog 93 rijen over."
   ]
  },
  {
   "cell_type": "markdown",
   "metadata": {
    "id": "SlvbOWZ_8S05"
   },
   "source": [
    "2. Maak een scatterplot van de twee variabelen. Is er een lineair verband?"
   ]
  },
  {
   "cell_type": "code",
   "metadata": {
    "pycharm": {
     "is_executing": true
    },
    "id": "3j7j1aTw8S05",
    "outputId": "6deaac9e-5984-4c80-9de2-a494b51bf3cf"
   },
   "source": [
    "ax=plt.axes()\n",
    "_=ax.scatter(x=batterijenZU.geproduceerd,y=batterijenZU.aantalDefect, alpha=0.9, c='magenta')\n",
    "_=ax.set_title('Scatter plot  productie vs defecten')\n",
    "_=ax.set_xlabel('geproduceerd')\n",
    "_=ax.set_ylabel('aantal defecten')\n",
    "plt.show()\n",
    "#Er is eerder een niet-lineair verband."
   ],
   "execution_count": null,
   "outputs": [
    {
     "output_type": "display_data",
     "data": {
      "image/png": "[encoded data removed]",
      "text/plain": [
       "<Figure size 432x288 with 1 Axes>"
      ]
     },
     "metadata": {
      "tags": [],
      "needs_background": "light"
     }
    }
   ]
  },
  {
   "cell_type": "markdown",
   "metadata": {
    "id": "tCy7LvD28S06"
   },
   "source": [
    "3. Welke correlatie vind je met de methode van Kendall?"
   ]
  },
  {
   "cell_type": "code",
   "metadata": {
    "pycharm": {
     "is_executing": true
    },
    "id": "NrIW-kNB8S06",
    "outputId": "45acfe43-be3b-4623-9462-bc9145ce115d"
   },
   "source": [
    "batterijenZU.corr(method='kendall')"
   ],
   "execution_count": null,
   "outputs": [
    {
     "output_type": "execute_result",
     "data": {
      "text/html": [
       "<div>\n",
       "<style scoped>\n",
       "    .dataframe tbody tr th:only-of-type {\n",
       "        vertical-align: middle;\n",
       "    }\n",
       "\n",
       "    .dataframe tbody tr th {\n",
       "        vertical-align: top;\n",
       "    }\n",
       "\n",
       "    .dataframe thead th {\n",
       "        text-align: right;\n",
       "    }\n",
       "</style>\n",
       "<table border=\"1\" class=\"dataframe\">\n",
       "  <thead>\n",
       "    <tr style=\"text-align: right;\">\n",
       "      <th></th>\n",
       "      <th>geproduceerd</th>\n",
       "      <th>aantalDefect</th>\n",
       "    </tr>\n",
       "  </thead>\n",
       "  <tbody>\n",
       "    <tr>\n",
       "      <th>geproduceerd</th>\n",
       "      <td>1.000000</td>\n",
       "      <td>0.814006</td>\n",
       "    </tr>\n",
       "    <tr>\n",
       "      <th>aantalDefect</th>\n",
       "      <td>0.814006</td>\n",
       "      <td>1.000000</td>\n",
       "    </tr>\n",
       "  </tbody>\n",
       "</table>\n",
       "</div>"
      ],
      "text/plain": [
       "              geproduceerd  aantalDefect\n",
       "geproduceerd      1.000000      0.814006\n",
       "aantalDefect      0.814006      1.000000"
      ]
     },
     "metadata": {
      "tags": []
     },
     "execution_count": 8
    }
   ]
  },
  {
   "cell_type": "markdown",
   "metadata": {
    "id": "f3J6EavL8S06"
   },
   "source": [
    "0.814 een hoge correlatie"
   ]
  },
  {
   "cell_type": "markdown",
   "metadata": {
    "id": "imeCMQ2z8S06"
   },
   "source": [
    "4. Eigenlijk zijn we niet geïnteresseerd in het absolute aantal defecte batterijen, maar wel in het\n",
    "percentage. Deel dus het aantal defecte door het aantal geproduceerde batterijen. Wat is het\n",
    "gemiddeld percentage defecte batterijen?"
   ]
  },
  {
   "cell_type": "code",
   "metadata": {
    "pycharm": {
     "is_executing": true
    },
    "id": "WMpTVo8H8S07",
    "outputId": "90d4a043-b811-4432-f145-d02c308d5d3b"
   },
   "source": [
    "batterijenZU['percDefect']=batterijenZU['aantalDefect']/batterijenZU['geproduceerd']*100\n",
    "batterijenZU.percDefect.mean() # gemiddelde percentages kapotte batterijen\n"
   ],
   "execution_count": null,
   "outputs": [
    {
     "output_type": "execute_result",
     "data": {
      "text/plain": [
       "1.7060941708921773"
      ]
     },
     "metadata": {
      "tags": []
     },
     "execution_count": 9
    }
   ]
  },
  {
   "cell_type": "markdown",
   "metadata": {
    "id": "EhyxeVVO8S07"
   },
   "source": [
    "5. Maak terug een scatterplot met het percentage defecte batterijen. Zie je het verschil met de vorige\n",
    "grafiek?"
   ]
  },
  {
   "cell_type": "code",
   "metadata": {
    "pycharm": {
     "is_executing": true
    },
    "id": "rSgC5FRQ8S07",
    "outputId": "c4d936f2-3e7a-4b61-fdbb-178468e3f353"
   },
   "source": [
    "ax1=plt.axes()\n",
    "_=ax1.scatter(x=batterijenZU.geproduceerd,y=batterijenZU.percDefect, alpha=0.5, c='green')\n",
    "_=ax1.set_title('Scatter plot  productie vs percentage defecten')\n",
    "_=ax1.set_xlabel('geproduceerd')\n",
    "_=ax1.set_ylabel('aantal percentage defecten')\n",
    "plt.show()\n",
    "\n",
    "# Nu is er wel mogelijke een lineair verband."
   ],
   "execution_count": null,
   "outputs": [
    {
     "output_type": "display_data",
     "data": {
      "image/png": "[encoded data removed]",
      "text/plain": [
       "<Figure size 432x288 with 1 Axes>"
      ]
     },
     "metadata": {
      "tags": [],
      "needs_background": "light"
     }
    }
   ]
  },
  {
   "cell_type": "markdown",
   "metadata": {
    "id": "7bO5v_C18S08"
   },
   "source": [
    "6. Bereken nu de correlatie tussen het aantal geproduceerde batterijen en het percentage defecte batterijen. Wat besluit je?"
   ]
  },
  {
   "cell_type": "code",
   "metadata": {
    "pycharm": {
     "is_executing": true
    },
    "id": "thh0p72l8S08"
   },
   "source": [
    "R=batterijenZU.geproduceerd.corr(batterijenZU.percDefect, method='pearson')"
   ],
   "execution_count": null,
   "outputs": []
  },
  {
   "cell_type": "markdown",
   "metadata": {
    "id": "-HgJq8dq8S08"
   },
   "source": [
    "7. Wat is de waarde van R²? Wat betekent dit?"
   ]
  },
  {
   "cell_type": "code",
   "metadata": {
    "pycharm": {
     "is_executing": true
    },
    "id": "daMLv4yl8S09",
    "outputId": "813325d2-e474-4382-82ba-70e5ba519688"
   },
   "source": [
    "R*R"
   ],
   "execution_count": null,
   "outputs": [
    {
     "output_type": "execute_result",
     "data": {
      "text/plain": [
       "0.723025738257096"
      ]
     },
     "metadata": {
      "tags": []
     },
     "execution_count": 12
    }
   ]
  },
  {
   "cell_type": "markdown",
   "metadata": {
    "id": "MbBqLFKj8S09"
   },
   "source": [
    "72% van het percentage defecten is te verklaren door het geproduceerde aantal"
   ]
  },
  {
   "cell_type": "markdown",
   "metadata": {
    "id": "cOKZ9kKE8S09"
   },
   "source": [
    "8. Teken de regressielijn bij de scatterplot. Wat zijn de waarden voor slope en intercept?"
   ]
  },
  {
   "cell_type": "code",
   "metadata": {
    "pycharm": {
     "is_executing": true
    },
    "id": "wsb0v-088S09",
    "outputId": "08699510-2421-47eb-a011-b06956a5bf56"
   },
   "source": [
    "#oplossing m.b.v. Scikit Learn\n",
    "import matplotlib.pyplot as plt\n",
    "import numpy as np\n",
    "from sklearn.linear_model import  LinearRegression\n",
    "from sklearn.metrics import mean_squared_error, r2_score\n",
    "regr = LinearRegression()\n",
    "train_data=np.array(batterijenZU.geproduceerd).reshape(-1, 1)\n",
    "train_target=np.array(batterijenZU.percDefect)\n",
    "regr.fit(train_data,train_target)\n",
    "print(\"R2 score voor training data=\",regr.score(train_data,train_target))\n",
    "print(\"coefficient=\",regr.coef_)\n",
    "print(\"intercept=\",regr.intercept_)\n",
    "\n",
    "\n"
   ],
   "execution_count": null,
   "outputs": [
    {
     "output_type": "execute_result",
     "data": {
      "text/plain": [
       "LinearRegression()"
      ]
     },
     "metadata": {
      "tags": []
     },
     "execution_count": 31
    },
    {
     "output_type": "stream",
     "text": [
      "R2 score voor training data= 0.7230257382570955\n",
      "coefficient= [0.00074391]\n",
      "intercept= -0.055871712509944604\n"
     ],
     "name": "stdout"
    }
   ]
  },
  {
   "cell_type": "code",
   "metadata": {
    "pycharm": {
     "is_executing": true
    },
    "id": "e2swUhqj8S0-",
    "outputId": "90cb1aee-ed0f-41b9-9144-dccc807550eb"
   },
   "source": [
    "# plotten van de gegevens\n",
    "_=plt.figure()\n",
    "ax=plt.axes()\n",
    "_=ax.scatter(batterijenZU.geproduceerd,batterijenZU.percDefect)\n",
    "#plot regressielijn\n",
    "xx = np.arange(batterijenZU.geproduceerd.min(), \n",
    "               batterijenZU.geproduceerd.max(),\n",
    "    (batterijenZU.geproduceerd.max()-batterijenZU.geproduceerd.min())/100)\n",
    "yy = regr.predict(xx.reshape(-1,1))\n",
    "#plot band\n",
    "_=ax.plot(xx, yy, color=\"red\")\n",
    "_=ax.set_xlabel(\"geproduceerd\")\n",
    "_=ax.set_ylabel(\"percentage defecten)\")\n",
    "plt.show()"
   ],
   "execution_count": null,
   "outputs": [
    {
     "output_type": "display_data",
     "data": {
      "image/png": "[encoded data removed]",
      "text/plain": [
       "<Figure size 432x288 with 1 Axes>"
      ]
     },
     "metadata": {
      "tags": [],
      "needs_background": "light"
     }
    }
   ]
  },
  {
   "cell_type": "markdown",
   "metadata": {
    "id": "CORRbupV8S0-"
   },
   "source": [
    "9. Wat is de standaardschattingsfout? Wat betekent dit?"
   ]
  },
  {
   "cell_type": "code",
   "metadata": {
    "pycharm": {
     "is_executing": true
    },
    "id": "oHWuDboC8S0-",
    "outputId": "c9e1c669-deb8-4368-bf60-e619333a02c8"
   },
   "source": [
    "se = m.sqrt(((regr.predict(train_data)-train_target)**2).mean())\n",
    "print(\"standaardschattingsfout\",se)\n",
    "# geeft idee van de gemiddelde fout die we maken als we het model gebruiken"
   ],
   "execution_count": null,
   "outputs": [
    {
     "output_type": "stream",
     "text": [
      "standaardschattingsfout 0.4493474606782797\n"
     ],
     "name": "stdout"
    }
   ]
  },
  {
   "cell_type": "markdown",
   "metadata": {
    "id": "eFjCRp6m8S0_"
   },
   "source": [
    "10. Als de productie opgedreven zou worden tot 8000 batterijen/dag. Hoeveel defecte batterijen zou je\n",
    "dan verwachten?"
   ]
  },
  {
   "cell_type": "code",
   "metadata": {
    "pycharm": {
     "is_executing": true
    },
    "id": "A68hro1k8S0_",
    "outputId": "155badc3-ab86-4973-ac40-f0cd88ba77fe"
   },
   "source": [
    "pred=regr.predict([[8000]])\n",
    "print(pred*8000/100)"
   ],
   "execution_count": null,
   "outputs": [
    {
     "output_type": "stream",
     "text": [
      "[471.63132568]\n"
     ],
     "name": "stdout"
    }
   ]
  },
  {
   "cell_type": "markdown",
   "metadata": {
    "id": "gZ5sEsnn8S0_"
   },
   "source": [
    "11. Hoeveel batterijen kan de fabriek per dag produceren zodat er hoogstens 1 procent defect is?"
   ]
  },
  {
   "cell_type": "code",
   "metadata": {
    "pycharm": {
     "is_executing": true
    },
    "id": "HyHiybO68S0_",
    "outputId": "40cb2a31-3fed-4651-940b-d4395f7fee20"
   },
   "source": [
    "# 1=regr.intercept_+regr.coef_*totaalaantal\n",
    "# 1-regr.intercept_=regr.coef*totaalaantal\n",
    "# (1-regr.intercept_)/regr.coef=totaalaantal\n",
    "print(f\"productie1procent= {(1-regr.intercept_)/regr.coef_}\")"
   ],
   "execution_count": null,
   "outputs": [
    {
     "output_type": "stream",
     "text": [
      "productie1procent= [1419.35809217]\n"
     ],
     "name": "stdout"
    }
   ]
  },
  {
   "cell_type": "markdown",
   "metadata": {
    "id": "aP5Rm8bE8S1A"
   },
   "source": [
    "Met de polyfit krijgen we dezelfde antwoorden op vragen 8 en 9 zie hieronder:"
   ]
  },
  {
   "cell_type": "code",
   "metadata": {
    "pycharm": {
     "is_executing": true
    },
    "id": "jBAElSeu8S1A",
    "outputId": "57e57a9e-dac3-4986-aaf1-baa80be5da23"
   },
   "source": [
    "# we gaan eerst het regressiemodel opstellen en de coefficienten a en b bepalen\n",
    "x=batterijenZU.geproduceerd\n",
    "y=batterijenZU.percDefect\n",
    "model=np.polyfit(x,y,1) # de 1 duidt op een lineair verband\n",
    "print(model)"
   ],
   "execution_count": null,
   "outputs": [
    {
     "output_type": "stream",
     "text": [
      "[ 0.00074391 -0.05587171]\n"
     ],
     "name": "stdout"
    }
   ]
  },
  {
   "cell_type": "code",
   "metadata": {
    "pycharm": {
     "is_executing": true
    },
    "id": "_HumBmB38S1A"
   },
   "source": [
    "b,a=model # a is intercept (afkapwaarde op de y-as) en b is de slope(richtingscoefficient)"
   ],
   "execution_count": null,
   "outputs": []
  },
  {
   "cell_type": "code",
   "metadata": {
    "pycharm": {
     "is_executing": true
    },
    "id": "5f_oROSe8S1A",
    "outputId": "fcfcefa3-3d83-433e-de6a-b734096858e3"
   },
   "source": [
    "print(f\"intercept ={a}\")\n",
    "print(f\"slope ={b}\")"
   ],
   "execution_count": null,
   "outputs": [
    {
     "output_type": "stream",
     "text": [
      "intercept =-0.05587171250994515\n",
      "slope =0.0007439079104402145\n"
     ],
     "name": "stdout"
    }
   ]
  },
  {
   "cell_type": "code",
   "metadata": {
    "pycharm": {
     "is_executing": true
    },
    "id": "KhJQUSV68S1B",
    "outputId": "605a4015-16dc-4f8f-c28c-01c6e0601712"
   },
   "source": [
    "#kan ook op polyfit manier\n",
    "predict = np.poly1d(model) #predict is een functie gebaseerd op het model en stelt de recht voor\n",
    "se = m.sqrt(((predict(x)-y)**2).mean()) # dit is de standaard schattingsfout!!\n",
    "fig=plt.figure()\n",
    "ax1=plt.axes()\n",
    "_=ax1.scatter(x, y)\n",
    "_=ax1.fill_between(xx, yy-se, yy+se, color=\"yellow\",alpha=0.4)\n",
    "_=ax1.plot(xx, yy, color=\"red\")\n",
    "_=ax1.set_xlabel(\"geproduceerd\")\n",
    "_=ax1.set_ylabel(\"percentage defecten)\")\n",
    "plt.show()"
   ],
   "execution_count": null,
   "outputs": [
    {
     "output_type": "display_data",
     "data": {
      "image/png": "[encoded data removed]",
      "text/plain": [
       "<Figure size 432x288 with 1 Axes>"
      ]
     },
     "metadata": {
      "tags": [],
      "needs_background": "light"
     }
    }
   ]
  },
  {
   "cell_type": "code",
   "metadata": {
    "id": "eqBlcaIa8S1B"
   },
   "source": [],
   "execution_count": null,
   "outputs": []
  },
  {
   "cell_type": "code",
   "metadata": {
    "id": "fhuGUDdk8S1B"
   },
   "source": [],
   "execution_count": null,
   "outputs": []
  }
 ]
}
