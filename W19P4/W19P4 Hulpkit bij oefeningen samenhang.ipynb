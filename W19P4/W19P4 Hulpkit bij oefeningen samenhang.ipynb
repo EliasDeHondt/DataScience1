{
 "cells": [
  {
   "cell_type": "code",
   "execution_count": 1,
   "metadata": {
    "id": "9n52ReB02MeB",
    "outputId": "924004f6-5ca2-4d75-d6f4-095bf741af0d",
    "ExecuteTime": {
     "start_time": "2023-04-20T20:05:49.935386Z",
     "end_time": "2023-04-20T20:05:53.745401Z"
    }
   },
   "outputs": [
    {
     "name": "stdout",
     "output_type": "stream",
     "text": [
      "de folder met datasets = data/\n"
     ]
    },
    {
     "name": "stderr",
     "output_type": "stream",
     "text": [
      "C:\\Users\\elias\\AppData\\Local\\Temp\\ipykernel_19872\\1863312042.py:9: DeprecationWarning: Importing display from IPython.core.display is deprecated since IPython 7.14, please import from IPython display\n",
      "  from IPython.core.display import display\n"
     ]
    }
   ],
   "source": [
    "#SET UP om datafiles te lezen\n",
    "import pandas as pd\n",
    "import numpy as np\n",
    "import math as m\n",
    "import matplotlib.pyplot as plt\n",
    "from scipy import stats\n",
    "\n",
    "\n",
    "from IPython.core.display import display\n",
    "from IPython.core.interactiveshell import InteractiveShell\n",
    "InteractiveShell.ast_node_interactivity = \"all\"\n",
    "\n",
    "\n",
    "print('de folder met datasets = '  + 'data/')\n"
   ]
  },
  {
   "cell_type": "markdown",
   "metadata": {
    "id": "fKiBoflW2MeH"
   },
   "source": [
    "### Correlatie"
   ]
  },
  {
   "cell_type": "code",
   "execution_count": 4,
   "metadata": {
    "colab": {
     "base_uri": "https://localhost:8080/"
    },
    "executionInfo": {
     "elapsed": 2008,
     "status": "ok",
     "timestamp": 1619082983480,
     "user": {
      "displayName": "Rony Baekeland",
      "photoUrl": "",
      "userId": "01731985152349302060"
     },
     "user_tz": -120
    },
    "id": "XHd2DPsE2MeK",
    "outputId": "5d255b7f-6338-40fe-8d3e-b2b551a4dece",
    "ExecuteTime": {
     "start_time": "2023-04-20T20:06:19.365937Z",
     "end_time": "2023-04-20T20:06:19.389312Z"
    }
   },
   "outputs": [
    {
     "name": "stdout",
     "output_type": "stream",
     "text": [
      "[[ 1.         -0.00479391]\n",
      " [-0.00479391  1.        ]]\n"
     ]
    }
   ],
   "source": [
    "import pandas as pd\n",
    "import numpy as np\n",
    "import matplotlib.pyplot as plt\n",
    "from scipy import stats\n",
    "\n",
    "rng=np.random.RandomState(42) #initialiseren van de randomgenerator\n",
    "x=10*rng.rand(300)#  geeft een randomgetal tussen 0 en 10\n",
    "y=(x-4.96)*(x-4.96)\n",
    "z= 2*x+1+rng.randn(300)\n",
    "xgem=x.mean()\n",
    "ygem=y.mean()#correlatie in numpy enkel pearson\n",
    "print(np.corrcoef(x,y))# geeft correlatiematrix voor pearson"
   ]
  },
  {
   "cell_type": "code",
   "execution_count": 4,
   "metadata": {
    "colab": {
     "base_uri": "https://localhost:8080/"
    },
    "executionInfo": {
     "elapsed": 1700,
     "status": "ok",
     "timestamp": 1619082986351,
     "user": {
      "displayName": "Rony Baekeland",
      "photoUrl": "",
      "userId": "01731985152349302060"
     },
     "user_tz": -120
    },
    "id": "PshTt5Qx2MeL",
    "outputId": "f1c260f0-cce2-4d82-a7ac-743d5a291c87",
    "ExecuteTime": {
     "start_time": "2023-04-20T10:32:58.492299Z",
     "end_time": "2023-04-20T10:32:58.585254Z"
    }
   },
   "outputs": [
    {
     "name": "stdout",
     "output_type": "stream",
     "text": [
      "          x         y         z\n",
      "x  1.000000 -0.004794  0.986576\n",
      "y -0.004794  1.000000 -0.009601\n",
      "z  0.986576 -0.009601  1.000000\n",
      "-0.004793905502208458\n"
     ]
    }
   ],
   "source": [
    "# correlaties berekenen in pandas dataframe of pandas series\n",
    "df=pd.DataFrame({'x':x.tolist(),'y':y.tolist(),'z':z.tolist()})\n",
    "print(df.corr(method='pearson'))                 # geeft matrix van mogelijke correlaties voor de hele dataframe\n",
    "print(df['x'].corr(df['y'],method='pearson'))    # vergelijkt pandas Series df['x'] en df['y']"
   ]
  },
  {
   "cell_type": "code",
   "execution_count": 5,
   "metadata": {
    "colab": {
     "base_uri": "https://localhost:8080/"
    },
    "executionInfo": {
     "elapsed": 890,
     "status": "ok",
     "timestamp": 1619082988013,
     "user": {
      "displayName": "Rony Baekeland",
      "photoUrl": "",
      "userId": "01731985152349302060"
     },
     "user_tz": -120
    },
    "id": "12r9S71A2MeN",
    "outputId": "05330cb2-b629-4496-dbe6-181a1504816e",
    "ExecuteTime": {
     "start_time": "2023-04-20T20:06:33.611397Z",
     "end_time": "2023-04-20T20:06:33.631187Z"
    }
   },
   "outputs": [
    {
     "name": "stdout",
     "output_type": "stream",
     "text": [
      "-0.39999999999999997\n"
     ]
    }
   ],
   "source": [
    "#correlatie in in pandas, met method kan men de methode vastlegggen\n",
    "df=pd.DataFrame({'roeien':[1,2,3,4],'loopband':[3,2,4,1]})\n",
    "print(df.roeien.corr(df.loopband,method='spearman'))"
   ]
  },
  {
   "cell_type": "code",
   "execution_count": 6,
   "metadata": {
    "colab": {
     "base_uri": "https://localhost:8080/"
    },
    "executionInfo": {
     "elapsed": 469,
     "status": "ok",
     "timestamp": 1619082989829,
     "user": {
      "displayName": "Rony Baekeland",
      "photoUrl": "",
      "userId": "01731985152349302060"
     },
     "user_tz": -120
    },
    "id": "XxHjqxlf2MeO",
    "outputId": "bf60a5bf-6aba-48fb-8b58-2f770785e50b",
    "ExecuteTime": {
     "start_time": "2023-04-20T20:06:34.733178Z",
     "end_time": "2023-04-20T20:06:34.790641Z"
    }
   },
   "outputs": [
    {
     "name": "stdout",
     "output_type": "stream",
     "text": [
      "-0.3333333333333334\n"
     ]
    }
   ],
   "source": [
    "#correlatie in in pandas, met method kan men de methode vastlegggen\n",
    "df=pd.DataFrame({'roeien':[1,2,3,4],'loopband':[3,2,4,1]})\n",
    "print(df.roeien.corr(df.loopband,method='kendall'))"
   ]
  },
  {
   "cell_type": "markdown",
   "metadata": {
    "id": "zK1IFok_2MeS"
   },
   "source": [
    "### Lineaire regressie in SciKit Learn"
   ]
  },
  {
   "cell_type": "markdown",
   "metadata": {
    "id": "DrMNQyx42MeU"
   },
   "source": [
    "\n",
    "\n",
    "\n",
    "Voordelen SciKit Learn:\n",
    "\n",
    "- scikit learn heeft regressie +..\n",
    "- clustering, classificatie, preprocessing,dimensie reductie en helpt bij model selectie\n",
    "- gebruik van andere modellen is analoog aan het regressiemodel \n",
    "- het pakket is ook voor big data redelijk snel\n",
    "(https://www.freecodecamp.org/news/data-science-with-python-8-ways-to-do-linear-regression-and-measure-their-speed-b5577d75f8b/)\n",
    "\n",
    "\n"
   ]
  },
  {
   "cell_type": "markdown",
   "metadata": {
    "id": "H1Kl4D_m2MeV"
   },
   "source": [
    "#### Eenvoudigste regressie model"
   ]
  },
  {
   "cell_type": "code",
   "execution_count": 7,
   "metadata": {
    "colab": {
     "base_uri": "https://localhost:8080/"
    },
    "executionInfo": {
     "elapsed": 891,
     "status": "ok",
     "timestamp": 1619082993763,
     "user": {
      "displayName": "Rony Baekeland",
      "photoUrl": "",
      "userId": "01731985152349302060"
     },
     "user_tz": -120
    },
    "id": "H9KP9RSY2MeW",
    "outputId": "a768e3d4-fcf1-47a4-b900-750c7cc2cded"
   },
   "outputs": [
    {
     "ename": "ImportError",
     "evalue": "DLL load failed while importing _csr_polynomial_expansion: De bestandsnaam of -extensie is te lang.",
     "output_type": "error",
     "traceback": [
      "\u001B[1;31m---------------------------------------------------------------------------\u001B[0m",
      "\u001B[1;31mImportError\u001B[0m                               Traceback (most recent call last)",
      "Cell \u001B[1;32mIn[7], line 1\u001B[0m\n\u001B[1;32m----> 1\u001B[0m \u001B[38;5;28;01mfrom\u001B[39;00m \u001B[38;5;21;01msklearn\u001B[39;00m \u001B[38;5;28;01mimport\u001B[39;00m linear_model\n\u001B[0;32m      2\u001B[0m reg \u001B[38;5;241m=\u001B[39m linear_model\u001B[38;5;241m.\u001B[39mLinearRegression()\n\u001B[0;32m      3\u001B[0m reg\u001B[38;5;241m.\u001B[39mfit([[\u001B[38;5;241m0\u001B[39m], [\u001B[38;5;241m1\u001B[39m], [\u001B[38;5;241m2\u001B[39m]], [\u001B[38;5;241m1\u001B[39m, \u001B[38;5;241m2\u001B[39m,\u001B[38;5;241m3\u001B[39m]) \n",
      "File \u001B[1;32m~\\OneDrive\\Data Core\\Documents\\School Documents\\(5) KdG\\Toegepaste Informatica\\[1] Toegepaste Informatica Eerste Jaar\\[1] Data science\\Data-Science-PyCharm\\lib\\site-packages\\sklearn\\linear_model\\__init__.py:9\u001B[0m\n\u001B[0;32m      1\u001B[0m \u001B[38;5;124;03m\"\"\"\u001B[39;00m\n\u001B[0;32m      2\u001B[0m \u001B[38;5;124;03mThe :mod:`sklearn.linear_model` module implements a variety of linear models.\u001B[39;00m\n\u001B[0;32m      3\u001B[0m \u001B[38;5;124;03m\"\"\"\u001B[39;00m\n\u001B[0;32m      5\u001B[0m \u001B[38;5;66;03m# See http://scikit-learn.sourceforge.net/modules/sgd.html and\u001B[39;00m\n\u001B[0;32m      6\u001B[0m \u001B[38;5;66;03m# http://scikit-learn.sourceforge.net/modules/linear_model.html for\u001B[39;00m\n\u001B[0;32m      7\u001B[0m \u001B[38;5;66;03m# complete documentation.\u001B[39;00m\n\u001B[1;32m----> 9\u001B[0m \u001B[38;5;28;01mfrom\u001B[39;00m \u001B[38;5;21;01m.\u001B[39;00m\u001B[38;5;21;01m_base\u001B[39;00m \u001B[38;5;28;01mimport\u001B[39;00m LinearRegression\n\u001B[0;32m     10\u001B[0m \u001B[38;5;28;01mfrom\u001B[39;00m \u001B[38;5;21;01m.\u001B[39;00m\u001B[38;5;21;01m_bayes\u001B[39;00m \u001B[38;5;28;01mimport\u001B[39;00m BayesianRidge, ARDRegression\n\u001B[0;32m     11\u001B[0m \u001B[38;5;28;01mfrom\u001B[39;00m \u001B[38;5;21;01m.\u001B[39;00m\u001B[38;5;21;01m_least_angle\u001B[39;00m \u001B[38;5;28;01mimport\u001B[39;00m (\n\u001B[0;32m     12\u001B[0m     Lars,\n\u001B[0;32m     13\u001B[0m     LassoLars,\n\u001B[1;32m   (...)\u001B[0m\n\u001B[0;32m     18\u001B[0m     LassoLarsIC,\n\u001B[0;32m     19\u001B[0m )\n",
      "File \u001B[1;32m~\\OneDrive\\Data Core\\Documents\\School Documents\\(5) KdG\\Toegepaste Informatica\\[1] Toegepaste Informatica Eerste Jaar\\[1] Data science\\Data-Science-PyCharm\\lib\\site-packages\\sklearn\\linear_model\\_base.py:31\u001B[0m\n\u001B[0;32m     28\u001B[0m \u001B[38;5;28;01mfrom\u001B[39;00m \u001B[38;5;21;01mnumbers\u001B[39;00m \u001B[38;5;28;01mimport\u001B[39;00m Integral\n\u001B[0;32m     30\u001B[0m \u001B[38;5;28;01mfrom\u001B[39;00m \u001B[38;5;21;01m.\u001B[39;00m\u001B[38;5;21;01m.\u001B[39;00m\u001B[38;5;21;01mbase\u001B[39;00m \u001B[38;5;28;01mimport\u001B[39;00m BaseEstimator, ClassifierMixin, RegressorMixin, MultiOutputMixin\n\u001B[1;32m---> 31\u001B[0m \u001B[38;5;28;01mfrom\u001B[39;00m \u001B[38;5;21;01m.\u001B[39;00m\u001B[38;5;21;01m.\u001B[39;00m\u001B[38;5;21;01mpreprocessing\u001B[39;00m\u001B[38;5;21;01m.\u001B[39;00m\u001B[38;5;21;01m_data\u001B[39;00m \u001B[38;5;28;01mimport\u001B[39;00m _is_constant_feature\n\u001B[0;32m     32\u001B[0m \u001B[38;5;28;01mfrom\u001B[39;00m \u001B[38;5;21;01m.\u001B[39;00m\u001B[38;5;21;01m.\u001B[39;00m\u001B[38;5;21;01mutils\u001B[39;00m \u001B[38;5;28;01mimport\u001B[39;00m check_array\n\u001B[0;32m     33\u001B[0m \u001B[38;5;28;01mfrom\u001B[39;00m \u001B[38;5;21;01m.\u001B[39;00m\u001B[38;5;21;01m.\u001B[39;00m\u001B[38;5;21;01mutils\u001B[39;00m\u001B[38;5;21;01m.\u001B[39;00m\u001B[38;5;21;01mvalidation\u001B[39;00m \u001B[38;5;28;01mimport\u001B[39;00m FLOAT_DTYPES\n",
      "File \u001B[1;32m~\\OneDrive\\Data Core\\Documents\\School Documents\\(5) KdG\\Toegepaste Informatica\\[1] Toegepaste Informatica Eerste Jaar\\[1] Data science\\Data-Science-PyCharm\\lib\\site-packages\\sklearn\\preprocessing\\__init__.py:37\u001B[0m\n\u001B[0;32m     33\u001B[0m \u001B[38;5;28;01mfrom\u001B[39;00m \u001B[38;5;21;01m.\u001B[39;00m\u001B[38;5;21;01m_label\u001B[39;00m \u001B[38;5;28;01mimport\u001B[39;00m MultiLabelBinarizer\n\u001B[0;32m     35\u001B[0m \u001B[38;5;28;01mfrom\u001B[39;00m \u001B[38;5;21;01m.\u001B[39;00m\u001B[38;5;21;01m_discretization\u001B[39;00m \u001B[38;5;28;01mimport\u001B[39;00m KBinsDiscretizer\n\u001B[1;32m---> 37\u001B[0m \u001B[38;5;28;01mfrom\u001B[39;00m \u001B[38;5;21;01m.\u001B[39;00m\u001B[38;5;21;01m_polynomial\u001B[39;00m \u001B[38;5;28;01mimport\u001B[39;00m PolynomialFeatures\n\u001B[0;32m     38\u001B[0m \u001B[38;5;28;01mfrom\u001B[39;00m \u001B[38;5;21;01m.\u001B[39;00m\u001B[38;5;21;01m_polynomial\u001B[39;00m \u001B[38;5;28;01mimport\u001B[39;00m SplineTransformer\n\u001B[0;32m     41\u001B[0m __all__ \u001B[38;5;241m=\u001B[39m [\n\u001B[0;32m     42\u001B[0m     \u001B[38;5;124m\"\u001B[39m\u001B[38;5;124mBinarizer\u001B[39m\u001B[38;5;124m\"\u001B[39m,\n\u001B[0;32m     43\u001B[0m     \u001B[38;5;124m\"\u001B[39m\u001B[38;5;124mFunctionTransformer\u001B[39m\u001B[38;5;124m\"\u001B[39m,\n\u001B[1;32m   (...)\u001B[0m\n\u001B[0;32m     69\u001B[0m     \u001B[38;5;124m\"\u001B[39m\u001B[38;5;124mpower_transform\u001B[39m\u001B[38;5;124m\"\u001B[39m,\n\u001B[0;32m     70\u001B[0m ]\n",
      "File \u001B[1;32m~\\OneDrive\\Data Core\\Documents\\School Documents\\(5) KdG\\Toegepaste Informatica\\[1] Toegepaste Informatica Eerste Jaar\\[1] Data science\\Data-Science-PyCharm\\lib\\site-packages\\sklearn\\preprocessing\\_polynomial.py:21\u001B[0m\n\u001B[0;32m     18\u001B[0m \u001B[38;5;28;01mfrom\u001B[39;00m \u001B[38;5;21;01m.\u001B[39;00m\u001B[38;5;21;01m.\u001B[39;00m\u001B[38;5;21;01mutils\u001B[39;00m\u001B[38;5;21;01m.\u001B[39;00m\u001B[38;5;21;01m_param_validation\u001B[39;00m \u001B[38;5;28;01mimport\u001B[39;00m Interval, StrOptions\n\u001B[0;32m     19\u001B[0m \u001B[38;5;28;01mfrom\u001B[39;00m \u001B[38;5;21;01m.\u001B[39;00m\u001B[38;5;21;01m.\u001B[39;00m\u001B[38;5;21;01mutils\u001B[39;00m\u001B[38;5;21;01m.\u001B[39;00m\u001B[38;5;21;01mstats\u001B[39;00m \u001B[38;5;28;01mimport\u001B[39;00m _weighted_percentile\n\u001B[1;32m---> 21\u001B[0m \u001B[38;5;28;01mfrom\u001B[39;00m \u001B[38;5;21;01m.\u001B[39;00m\u001B[38;5;21;01m_csr_polynomial_expansion\u001B[39;00m \u001B[38;5;28;01mimport\u001B[39;00m _csr_polynomial_expansion\n\u001B[0;32m     24\u001B[0m __all__ \u001B[38;5;241m=\u001B[39m [\n\u001B[0;32m     25\u001B[0m     \u001B[38;5;124m\"\u001B[39m\u001B[38;5;124mPolynomialFeatures\u001B[39m\u001B[38;5;124m\"\u001B[39m,\n\u001B[0;32m     26\u001B[0m     \u001B[38;5;124m\"\u001B[39m\u001B[38;5;124mSplineTransformer\u001B[39m\u001B[38;5;124m\"\u001B[39m,\n\u001B[0;32m     27\u001B[0m ]\n\u001B[0;32m     30\u001B[0m \u001B[38;5;28;01mclass\u001B[39;00m \u001B[38;5;21;01mPolynomialFeatures\u001B[39;00m(TransformerMixin, BaseEstimator):\n",
      "\u001B[1;31mImportError\u001B[0m: DLL load failed while importing _csr_polynomial_expansion: De bestandsnaam of -extensie is te lang."
     ]
    }
   ],
   "source": [
    "from sklearn import linear_model\n",
    "reg = linear_model.LinearRegression()\n",
    "reg.fit([[0], [1], [2]], [1, 2,3]) \n",
    "print(reg.coef_) #richtingscoefficient van de rechte\n",
    "print(reg.intercept_)#y-waarde van snypunt op y-as\n",
    "print(reg.score([[0.7], [1], [1.5]], [0.5, 1,3])) #"
   ]
  },
  {
   "cell_type": "markdown",
   "metadata": {
    "id": "JEn2a5P92Mea"
   },
   "source": [
    "#### Voorspellingen maken 1 onafhankelijke (x) en 1 afhankelijke variabele (y)"
   ]
  },
  {
   "cell_type": "code",
   "execution_count": 8,
   "metadata": {
    "colab": {
     "base_uri": "https://localhost:8080/"
    },
    "executionInfo": {
     "elapsed": 761,
     "status": "ok",
     "timestamp": 1619083057083,
     "user": {
      "displayName": "Rony Baekeland",
      "photoUrl": "",
      "userId": "01731985152349302060"
     },
     "user_tz": -120
    },
    "id": "nc4BJgTa2Meb",
    "outputId": "adcca568-fdb0-4ffc-cd8c-02c2983b943f"
   },
   "outputs": [
    {
     "ename": "ImportError",
     "evalue": "DLL load failed while importing _csr_polynomial_expansion: De bestandsnaam of -extensie is te lang.",
     "output_type": "error",
     "traceback": [
      "\u001B[1;31m---------------------------------------------------------------------------\u001B[0m",
      "\u001B[1;31mImportError\u001B[0m                               Traceback (most recent call last)",
      "Cell \u001B[1;32mIn[8], line 1\u001B[0m\n\u001B[1;32m----> 1\u001B[0m \u001B[38;5;28;01mfrom\u001B[39;00m \u001B[38;5;21;01msklearn\u001B[39;00m \u001B[38;5;28;01mimport\u001B[39;00m linear_model\n\u001B[0;32m      2\u001B[0m reg \u001B[38;5;241m=\u001B[39m linear_model\u001B[38;5;241m.\u001B[39mLinearRegression()\n\u001B[0;32m      3\u001B[0m X_train\u001B[38;5;241m=\u001B[39m[[\u001B[38;5;241m0\u001B[39m], [\u001B[38;5;241m1\u001B[39m], [\u001B[38;5;241m2\u001B[39m]]\n",
      "File \u001B[1;32m~\\OneDrive\\Data Core\\Documents\\School Documents\\(5) KdG\\Toegepaste Informatica\\[1] Toegepaste Informatica Eerste Jaar\\[1] Data science\\Data-Science-PyCharm\\lib\\site-packages\\sklearn\\linear_model\\__init__.py:11\u001B[0m\n\u001B[0;32m      9\u001B[0m \u001B[38;5;28;01mfrom\u001B[39;00m \u001B[38;5;21;01m.\u001B[39;00m\u001B[38;5;21;01m_base\u001B[39;00m \u001B[38;5;28;01mimport\u001B[39;00m LinearRegression\n\u001B[0;32m     10\u001B[0m \u001B[38;5;28;01mfrom\u001B[39;00m \u001B[38;5;21;01m.\u001B[39;00m\u001B[38;5;21;01m_bayes\u001B[39;00m \u001B[38;5;28;01mimport\u001B[39;00m BayesianRidge, ARDRegression\n\u001B[1;32m---> 11\u001B[0m \u001B[38;5;28;01mfrom\u001B[39;00m \u001B[38;5;21;01m.\u001B[39;00m\u001B[38;5;21;01m_least_angle\u001B[39;00m \u001B[38;5;28;01mimport\u001B[39;00m (\n\u001B[0;32m     12\u001B[0m     Lars,\n\u001B[0;32m     13\u001B[0m     LassoLars,\n\u001B[0;32m     14\u001B[0m     lars_path,\n\u001B[0;32m     15\u001B[0m     lars_path_gram,\n\u001B[0;32m     16\u001B[0m     LarsCV,\n\u001B[0;32m     17\u001B[0m     LassoLarsCV,\n\u001B[0;32m     18\u001B[0m     LassoLarsIC,\n\u001B[0;32m     19\u001B[0m )\n\u001B[0;32m     20\u001B[0m \u001B[38;5;28;01mfrom\u001B[39;00m \u001B[38;5;21;01m.\u001B[39;00m\u001B[38;5;21;01m_coordinate_descent\u001B[39;00m \u001B[38;5;28;01mimport\u001B[39;00m (\n\u001B[0;32m     21\u001B[0m     Lasso,\n\u001B[0;32m     22\u001B[0m     ElasticNet,\n\u001B[1;32m   (...)\u001B[0m\n\u001B[0;32m     30\u001B[0m     MultiTaskLassoCV,\n\u001B[0;32m     31\u001B[0m )\n\u001B[0;32m     32\u001B[0m \u001B[38;5;28;01mfrom\u001B[39;00m \u001B[38;5;21;01m.\u001B[39;00m\u001B[38;5;21;01m_glm\u001B[39;00m \u001B[38;5;28;01mimport\u001B[39;00m PoissonRegressor, GammaRegressor, TweedieRegressor\n",
      "File \u001B[1;32m~\\OneDrive\\Data Core\\Documents\\School Documents\\(5) KdG\\Toegepaste Informatica\\[1] Toegepaste Informatica Eerste Jaar\\[1] Data science\\Data-Science-PyCharm\\lib\\site-packages\\sklearn\\linear_model\\_least_angle.py:28\u001B[0m\n\u001B[0;32m     26\u001B[0m \u001B[38;5;28;01mfrom\u001B[39;00m \u001B[38;5;21;01m.\u001B[39;00m\u001B[38;5;21;01m.\u001B[39;00m\u001B[38;5;21;01mutils\u001B[39;00m \u001B[38;5;28;01mimport\u001B[39;00m check_random_state\n\u001B[0;32m     27\u001B[0m \u001B[38;5;28;01mfrom\u001B[39;00m \u001B[38;5;21;01m.\u001B[39;00m\u001B[38;5;21;01m.\u001B[39;00m\u001B[38;5;21;01mutils\u001B[39;00m\u001B[38;5;21;01m.\u001B[39;00m\u001B[38;5;21;01m_param_validation\u001B[39;00m \u001B[38;5;28;01mimport\u001B[39;00m Hidden, Interval, StrOptions\n\u001B[1;32m---> 28\u001B[0m \u001B[38;5;28;01mfrom\u001B[39;00m \u001B[38;5;21;01m.\u001B[39;00m\u001B[38;5;21;01m.\u001B[39;00m\u001B[38;5;21;01mmodel_selection\u001B[39;00m \u001B[38;5;28;01mimport\u001B[39;00m check_cv\n\u001B[0;32m     29\u001B[0m \u001B[38;5;28;01mfrom\u001B[39;00m \u001B[38;5;21;01m.\u001B[39;00m\u001B[38;5;21;01m.\u001B[39;00m\u001B[38;5;21;01mexceptions\u001B[39;00m \u001B[38;5;28;01mimport\u001B[39;00m ConvergenceWarning\n\u001B[0;32m     30\u001B[0m \u001B[38;5;28;01mfrom\u001B[39;00m \u001B[38;5;21;01m.\u001B[39;00m\u001B[38;5;21;01m.\u001B[39;00m\u001B[38;5;21;01mutils\u001B[39;00m\u001B[38;5;21;01m.\u001B[39;00m\u001B[38;5;21;01mparallel\u001B[39;00m \u001B[38;5;28;01mimport\u001B[39;00m delayed, Parallel\n",
      "File \u001B[1;32m~\\OneDrive\\Data Core\\Documents\\School Documents\\(5) KdG\\Toegepaste Informatica\\[1] Toegepaste Informatica Eerste Jaar\\[1] Data science\\Data-Science-PyCharm\\lib\\site-packages\\sklearn\\model_selection\\__init__.py:23\u001B[0m\n\u001B[0;32m     20\u001B[0m \u001B[38;5;28;01mfrom\u001B[39;00m \u001B[38;5;21;01m.\u001B[39;00m\u001B[38;5;21;01m_split\u001B[39;00m \u001B[38;5;28;01mimport\u001B[39;00m train_test_split\n\u001B[0;32m     21\u001B[0m \u001B[38;5;28;01mfrom\u001B[39;00m \u001B[38;5;21;01m.\u001B[39;00m\u001B[38;5;21;01m_split\u001B[39;00m \u001B[38;5;28;01mimport\u001B[39;00m check_cv\n\u001B[1;32m---> 23\u001B[0m \u001B[38;5;28;01mfrom\u001B[39;00m \u001B[38;5;21;01m.\u001B[39;00m\u001B[38;5;21;01m_validation\u001B[39;00m \u001B[38;5;28;01mimport\u001B[39;00m cross_val_score\n\u001B[0;32m     24\u001B[0m \u001B[38;5;28;01mfrom\u001B[39;00m \u001B[38;5;21;01m.\u001B[39;00m\u001B[38;5;21;01m_validation\u001B[39;00m \u001B[38;5;28;01mimport\u001B[39;00m cross_val_predict\n\u001B[0;32m     25\u001B[0m \u001B[38;5;28;01mfrom\u001B[39;00m \u001B[38;5;21;01m.\u001B[39;00m\u001B[38;5;21;01m_validation\u001B[39;00m \u001B[38;5;28;01mimport\u001B[39;00m cross_validate\n",
      "File \u001B[1;32m~\\OneDrive\\Data Core\\Documents\\School Documents\\(5) KdG\\Toegepaste Informatica\\[1] Toegepaste Informatica Eerste Jaar\\[1] Data science\\Data-Science-PyCharm\\lib\\site-packages\\sklearn\\model_selection\\_validation.py:32\u001B[0m\n\u001B[0;32m     30\u001B[0m \u001B[38;5;28;01mfrom\u001B[39;00m \u001B[38;5;21;01m.\u001B[39;00m\u001B[38;5;21;01m.\u001B[39;00m\u001B[38;5;21;01mutils\u001B[39;00m\u001B[38;5;21;01m.\u001B[39;00m\u001B[38;5;21;01mparallel\u001B[39;00m \u001B[38;5;28;01mimport\u001B[39;00m delayed, Parallel\n\u001B[0;32m     31\u001B[0m \u001B[38;5;28;01mfrom\u001B[39;00m \u001B[38;5;21;01m.\u001B[39;00m\u001B[38;5;21;01m.\u001B[39;00m\u001B[38;5;21;01mutils\u001B[39;00m\u001B[38;5;21;01m.\u001B[39;00m\u001B[38;5;21;01mmetaestimators\u001B[39;00m \u001B[38;5;28;01mimport\u001B[39;00m _safe_split\n\u001B[1;32m---> 32\u001B[0m \u001B[38;5;28;01mfrom\u001B[39;00m \u001B[38;5;21;01m.\u001B[39;00m\u001B[38;5;21;01m.\u001B[39;00m\u001B[38;5;21;01mmetrics\u001B[39;00m \u001B[38;5;28;01mimport\u001B[39;00m check_scoring\n\u001B[0;32m     33\u001B[0m \u001B[38;5;28;01mfrom\u001B[39;00m \u001B[38;5;21;01m.\u001B[39;00m\u001B[38;5;21;01m.\u001B[39;00m\u001B[38;5;21;01mmetrics\u001B[39;00m\u001B[38;5;21;01m.\u001B[39;00m\u001B[38;5;21;01m_scorer\u001B[39;00m \u001B[38;5;28;01mimport\u001B[39;00m _check_multimetric_scoring, _MultimetricScorer\n\u001B[0;32m     34\u001B[0m \u001B[38;5;28;01mfrom\u001B[39;00m \u001B[38;5;21;01m.\u001B[39;00m\u001B[38;5;21;01m.\u001B[39;00m\u001B[38;5;21;01mexceptions\u001B[39;00m \u001B[38;5;28;01mimport\u001B[39;00m FitFailedWarning\n",
      "File \u001B[1;32m~\\OneDrive\\Data Core\\Documents\\School Documents\\(5) KdG\\Toegepaste Informatica\\[1] Toegepaste Informatica Eerste Jaar\\[1] Data science\\Data-Science-PyCharm\\lib\\site-packages\\sklearn\\metrics\\__init__.py:7\u001B[0m\n\u001B[0;32m      1\u001B[0m \u001B[38;5;124;03m\"\"\"\u001B[39;00m\n\u001B[0;32m      2\u001B[0m \u001B[38;5;124;03mThe :mod:`sklearn.metrics` module includes score functions, performance metrics\u001B[39;00m\n\u001B[0;32m      3\u001B[0m \u001B[38;5;124;03mand pairwise metrics and distance computations.\u001B[39;00m\n\u001B[0;32m      4\u001B[0m \u001B[38;5;124;03m\"\"\"\u001B[39;00m\n\u001B[1;32m----> 7\u001B[0m \u001B[38;5;28;01mfrom\u001B[39;00m \u001B[38;5;21;01m.\u001B[39;00m\u001B[38;5;21;01m_ranking\u001B[39;00m \u001B[38;5;28;01mimport\u001B[39;00m auc\n\u001B[0;32m      8\u001B[0m \u001B[38;5;28;01mfrom\u001B[39;00m \u001B[38;5;21;01m.\u001B[39;00m\u001B[38;5;21;01m_ranking\u001B[39;00m \u001B[38;5;28;01mimport\u001B[39;00m average_precision_score\n\u001B[0;32m      9\u001B[0m \u001B[38;5;28;01mfrom\u001B[39;00m \u001B[38;5;21;01m.\u001B[39;00m\u001B[38;5;21;01m_ranking\u001B[39;00m \u001B[38;5;28;01mimport\u001B[39;00m coverage_error\n",
      "File \u001B[1;32m~\\OneDrive\\Data Core\\Documents\\School Documents\\(5) KdG\\Toegepaste Informatica\\[1] Toegepaste Informatica Eerste Jaar\\[1] Data science\\Data-Science-PyCharm\\lib\\site-packages\\sklearn\\metrics\\_ranking.py:37\u001B[0m\n\u001B[0;32m     35\u001B[0m \u001B[38;5;28;01mfrom\u001B[39;00m \u001B[38;5;21;01m.\u001B[39;00m\u001B[38;5;21;01m.\u001B[39;00m\u001B[38;5;21;01mutils\u001B[39;00m\u001B[38;5;21;01m.\u001B[39;00m\u001B[38;5;21;01msparsefuncs\u001B[39;00m \u001B[38;5;28;01mimport\u001B[39;00m count_nonzero\n\u001B[0;32m     36\u001B[0m \u001B[38;5;28;01mfrom\u001B[39;00m \u001B[38;5;21;01m.\u001B[39;00m\u001B[38;5;21;01m.\u001B[39;00m\u001B[38;5;21;01mexceptions\u001B[39;00m \u001B[38;5;28;01mimport\u001B[39;00m UndefinedMetricWarning\n\u001B[1;32m---> 37\u001B[0m \u001B[38;5;28;01mfrom\u001B[39;00m \u001B[38;5;21;01m.\u001B[39;00m\u001B[38;5;21;01m.\u001B[39;00m\u001B[38;5;21;01mpreprocessing\u001B[39;00m \u001B[38;5;28;01mimport\u001B[39;00m label_binarize\n\u001B[0;32m     38\u001B[0m \u001B[38;5;28;01mfrom\u001B[39;00m \u001B[38;5;21;01m.\u001B[39;00m\u001B[38;5;21;01m.\u001B[39;00m\u001B[38;5;21;01mutils\u001B[39;00m\u001B[38;5;21;01m.\u001B[39;00m\u001B[38;5;21;01m_encode\u001B[39;00m \u001B[38;5;28;01mimport\u001B[39;00m _encode, _unique\n\u001B[0;32m     40\u001B[0m \u001B[38;5;28;01mfrom\u001B[39;00m \u001B[38;5;21;01m.\u001B[39;00m\u001B[38;5;21;01m_base\u001B[39;00m \u001B[38;5;28;01mimport\u001B[39;00m (\n\u001B[0;32m     41\u001B[0m     _average_binary_score,\n\u001B[0;32m     42\u001B[0m     _average_multiclass_ovo_score,\n\u001B[0;32m     43\u001B[0m     _check_pos_label_consistency,\n\u001B[0;32m     44\u001B[0m )\n",
      "File \u001B[1;32m~\\OneDrive\\Data Core\\Documents\\School Documents\\(5) KdG\\Toegepaste Informatica\\[1] Toegepaste Informatica Eerste Jaar\\[1] Data science\\Data-Science-PyCharm\\lib\\site-packages\\sklearn\\preprocessing\\__init__.py:37\u001B[0m\n\u001B[0;32m     33\u001B[0m \u001B[38;5;28;01mfrom\u001B[39;00m \u001B[38;5;21;01m.\u001B[39;00m\u001B[38;5;21;01m_label\u001B[39;00m \u001B[38;5;28;01mimport\u001B[39;00m MultiLabelBinarizer\n\u001B[0;32m     35\u001B[0m \u001B[38;5;28;01mfrom\u001B[39;00m \u001B[38;5;21;01m.\u001B[39;00m\u001B[38;5;21;01m_discretization\u001B[39;00m \u001B[38;5;28;01mimport\u001B[39;00m KBinsDiscretizer\n\u001B[1;32m---> 37\u001B[0m \u001B[38;5;28;01mfrom\u001B[39;00m \u001B[38;5;21;01m.\u001B[39;00m\u001B[38;5;21;01m_polynomial\u001B[39;00m \u001B[38;5;28;01mimport\u001B[39;00m PolynomialFeatures\n\u001B[0;32m     38\u001B[0m \u001B[38;5;28;01mfrom\u001B[39;00m \u001B[38;5;21;01m.\u001B[39;00m\u001B[38;5;21;01m_polynomial\u001B[39;00m \u001B[38;5;28;01mimport\u001B[39;00m SplineTransformer\n\u001B[0;32m     41\u001B[0m __all__ \u001B[38;5;241m=\u001B[39m [\n\u001B[0;32m     42\u001B[0m     \u001B[38;5;124m\"\u001B[39m\u001B[38;5;124mBinarizer\u001B[39m\u001B[38;5;124m\"\u001B[39m,\n\u001B[0;32m     43\u001B[0m     \u001B[38;5;124m\"\u001B[39m\u001B[38;5;124mFunctionTransformer\u001B[39m\u001B[38;5;124m\"\u001B[39m,\n\u001B[1;32m   (...)\u001B[0m\n\u001B[0;32m     69\u001B[0m     \u001B[38;5;124m\"\u001B[39m\u001B[38;5;124mpower_transform\u001B[39m\u001B[38;5;124m\"\u001B[39m,\n\u001B[0;32m     70\u001B[0m ]\n",
      "File \u001B[1;32m~\\OneDrive\\Data Core\\Documents\\School Documents\\(5) KdG\\Toegepaste Informatica\\[1] Toegepaste Informatica Eerste Jaar\\[1] Data science\\Data-Science-PyCharm\\lib\\site-packages\\sklearn\\preprocessing\\_polynomial.py:21\u001B[0m\n\u001B[0;32m     18\u001B[0m \u001B[38;5;28;01mfrom\u001B[39;00m \u001B[38;5;21;01m.\u001B[39;00m\u001B[38;5;21;01m.\u001B[39;00m\u001B[38;5;21;01mutils\u001B[39;00m\u001B[38;5;21;01m.\u001B[39;00m\u001B[38;5;21;01m_param_validation\u001B[39;00m \u001B[38;5;28;01mimport\u001B[39;00m Interval, StrOptions\n\u001B[0;32m     19\u001B[0m \u001B[38;5;28;01mfrom\u001B[39;00m \u001B[38;5;21;01m.\u001B[39;00m\u001B[38;5;21;01m.\u001B[39;00m\u001B[38;5;21;01mutils\u001B[39;00m\u001B[38;5;21;01m.\u001B[39;00m\u001B[38;5;21;01mstats\u001B[39;00m \u001B[38;5;28;01mimport\u001B[39;00m _weighted_percentile\n\u001B[1;32m---> 21\u001B[0m \u001B[38;5;28;01mfrom\u001B[39;00m \u001B[38;5;21;01m.\u001B[39;00m\u001B[38;5;21;01m_csr_polynomial_expansion\u001B[39;00m \u001B[38;5;28;01mimport\u001B[39;00m _csr_polynomial_expansion\n\u001B[0;32m     24\u001B[0m __all__ \u001B[38;5;241m=\u001B[39m [\n\u001B[0;32m     25\u001B[0m     \u001B[38;5;124m\"\u001B[39m\u001B[38;5;124mPolynomialFeatures\u001B[39m\u001B[38;5;124m\"\u001B[39m,\n\u001B[0;32m     26\u001B[0m     \u001B[38;5;124m\"\u001B[39m\u001B[38;5;124mSplineTransformer\u001B[39m\u001B[38;5;124m\"\u001B[39m,\n\u001B[0;32m     27\u001B[0m ]\n\u001B[0;32m     30\u001B[0m \u001B[38;5;28;01mclass\u001B[39;00m \u001B[38;5;21;01mPolynomialFeatures\u001B[39;00m(TransformerMixin, BaseEstimator):\n",
      "\u001B[1;31mImportError\u001B[0m: DLL load failed while importing _csr_polynomial_expansion: De bestandsnaam of -extensie is te lang."
     ]
    }
   ],
   "source": [
    "from sklearn import linear_model\n",
    "reg = linear_model.LinearRegression()\n",
    "X_train=[[0], [1], [2]]\n",
    "y_train=[1, 2,3]\n",
    "X_test= [[0.5],[3]]\n",
    "y_test=[0.7,4.5]\n",
    "reg.fit(X_train, y_train) \n",
    "y_pred_test=reg.predict(X_test)\n",
    "print(\"coeff\",reg.coef_) \n",
    "print(\"intercept\",reg.intercept_)\n",
    "print(\"score\",reg.score(X_test,y_test))\n",
    "print(\"voorspellingen\",y_pred_test)\n"
   ]
  },
  {
   "cell_type": "code",
   "execution_count": null,
   "metadata": {
    "colab": {
     "base_uri": "https://localhost:8080/"
    },
    "executionInfo": {
     "elapsed": 979,
     "status": "ok",
     "timestamp": 1619083062561,
     "user": {
      "displayName": "Rony Baekeland",
      "photoUrl": "",
      "userId": "01731985152349302060"
     },
     "user_tz": -120
    },
    "id": "70INYx_I2Mec",
    "outputId": "fd3349e3-667a-4902-8f4f-623054e21037"
   },
   "outputs": [],
   "source": [
    "#wat doet np.newaxis met een array?\n",
    "a=np.array([[1,2,3,4,5,6],[11,12,13,14,15,16]])\n",
    "b=a[:,np.newaxis]\n",
    "print(a)\n",
    "print(b)"
   ]
  },
  {
   "cell_type": "code",
   "execution_count": null,
   "metadata": {
    "id": "1cp5Hams2Med",
    "outputId": "9a60f5e6-d863-4950-928e-d0c95e07eb00"
   },
   "outputs": [],
   "source": [
    "# zoeken verband tussen x en z , z is de 'afhankelijke'\n",
    "from sklearn import linear_model\n",
    "from sklearn.metrics import mean_squared_error\n",
    "#print(x)\n",
    "X=x[:,np.newaxis]# plaats haakjes rond iedere xi is nodig bij numpy array \n",
    "#print(X)\n",
    "X_train=X[:-50]\n",
    "z_train=z[:-50]\n",
    "X_test=X[-50:]\n",
    "z_test=z[-50:]\n",
    "reg2 = linear_model.LinearRegression()\n",
    "reg2.fit(X_train,z_train) # np.newaxis zet de waarden van x tussen extra haakjes \n",
    "print(\"coef\",reg2.coef_) #richtingscoefficient van de rechte\n",
    "print(\"intercept\",reg2.intercept_)#y-waarde van snypunt op y-as\n",
    "z_pred=reg2.predict(X_test)\n",
    "print(\"mse\",mean_squared_error(z_pred,z_test))\n"
   ]
  },
  {
   "cell_type": "markdown",
   "metadata": {
    "id": "pW-94ljW2Mee"
   },
   "source": [
    "#### Voorspellingen maken 2 onafhankelijke (x,y) en 1 afhankelijke variabele (z)"
   ]
  },
  {
   "cell_type": "code",
   "execution_count": null,
   "metadata": {
    "id": "IG9kGbfA2Mee",
    "outputId": "315e9395-337a-4954-c95a-ae1993a1d2f4"
   },
   "outputs": [],
   "source": [
    "# zoeken verband tussne x en z , z is de 'afhankelijke'\n",
    "from sklearn import linear_model\n",
    "from sklearn.metrics import mean_squared_error\n",
    "X=df.iloc[:,0:2]# x,y onafhankelijke\n",
    "print(X)\n",
    "X_train=X[:-50]\n",
    "z_train=y[:-50]\n",
    "X_test=X[-50:]\n",
    "z_test=y[-50:]\n",
    "reg = linear_model.LinearRegression()\n",
    "reg.fit(X_train,z_train) \n",
    "print(\"coef\",reg.coef_) #richtingscoefficient van de rechte\n",
    "print(\"intercept\",reg.intercept_)#y-waarde van snypunt op y-as\n",
    "z_pred=reg.predict(X_test)\n",
    "print(\"mse\",mean_squared_error(z_pred,z_test))\n"
   ]
  },
  {
   "cell_type": "markdown",
   "metadata": {
    "id": "Gzr21HeX2Meh"
   },
   "source": [
    "#### Introductie van train_test_split module en meervoudige regressie"
   ]
  },
  {
   "cell_type": "markdown",
   "metadata": {
    "id": "syOSUyRV2Mei"
   },
   "source": [
    "#### Voorbeeld van polynoom regressie (vierde graadsfunctie functie)\n",
    "bron:https://moonbooks.org/Articles/How-to-implement-a-polynomial-linear-regression-using-scikit-learn-and-python-3-/"
   ]
  },
  {
   "cell_type": "code",
   "execution_count": null,
   "metadata": {
    "id": "fGg5S1GD2Mej"
   },
   "outputs": [],
   "source": [
    "import matplotlib.pyplot as plt\n",
    "import numpy as np\n",
    "import random\n",
    "rng=np.random.RandomState(42) #initialiseren van de randomgenerator\n",
    "x=10*rng.rand(300)#  geeft een randomgetal tussen 0 en 10\n",
    "y=(x-4.96)*(x-4.96)\n",
    "z= 2*x+1+rng.randn(300)"
   ]
  },
  {
   "cell_type": "code",
   "execution_count": null,
   "metadata": {
    "id": "-sOmihcj2Mek",
    "outputId": "538a4a8b-deba-4be9-f309-4fee271debe2"
   },
   "outputs": [],
   "source": [
    "from sklearn.linear_model import LinearRegression  \n",
    "from sklearn.preprocessing import PolynomialFeatures \n",
    "from sklearn.metrics import mean_squared_error, r2_score\n",
    "\n",
    "# Stap 1: training data\n",
    "\n",
    "X = [i for i in range(10)]\n",
    "Y = [x+random.random()*x-x/2 for x in X]\n",
    "\n",
    "X = np.asarray(X)\n",
    "Y = np.asarray(Y)\n",
    "\n",
    "print(X)\n",
    "X = X[:,np.newaxis]\n",
    "Y = Y[:,np.newaxis]\n",
    "print(X)\n",
    "plt.scatter(X,Y)\n"
   ]
  },
  {
   "cell_type": "code",
   "execution_count": null,
   "metadata": {
    "id": "9fu2dpOb2Mem",
    "outputId": "0ff09ca5-5757-4b79-8f80-738d68fe114e"
   },
   "outputs": [],
   "source": [
    "# Stap 2: data preparatie\n",
    "\n",
    "nb_degree = 4\n",
    "\n",
    "polynomial_features = PolynomialFeatures(degree = nb_degree)\n",
    "\n",
    "X_TRANSF = polynomial_features.fit_transform(X)\n",
    "\n",
    "print(X_TRANSF)# we zien via print dat x0=1 x1=x x2=x^2 x3=x^3...\n",
    "#----------------------------------------------------------------------------------------#"
   ]
  },
  {
   "cell_type": "code",
   "execution_count": null,
   "metadata": {
    "id": "L012oUZy2Mew",
    "outputId": "9e2b59f0-99d9-4e3a-e134-d9f266cf11a4"
   },
   "outputs": [],
   "source": [
    "# Stap 3: definitie en training\n",
    "\n",
    "model = LinearRegression()\n",
    "\n",
    "model.fit(X_TRANSF, Y)\n",
    "\n",
    "#----------------------------------------------------------------------------------------#\n",
    "# Stap 4: berekening R2 en se\n",
    "\n",
    "Y_NEW = model.predict(X_TRANSF)\n",
    "\n",
    "se = np.sqrt(mean_squared_error(Y,Y_NEW))\n",
    "r2 = r2_score(Y,Y_NEW)\n",
    "\n",
    "print('RMSE of se: ', se) #se wordt soms afgekort\n",
    "print('R2: ', r2)\n"
   ]
  },
  {
   "cell_type": "code",
   "execution_count": null,
   "metadata": {
    "id": "NkTi-Wfc2Mey",
    "outputId": "487adff8-dead-4ee7-b36a-2292bda643b3"
   },
   "outputs": [],
   "source": [
    "# Step 5: predictie\n",
    "\n",
    "x_new_min = 0.0\n",
    "x_new_max = 10.0\n",
    "\n",
    "X_NEW = np.linspace(x_new_min, x_new_max, 100)\n",
    "X_NEW = X_NEW[:,np.newaxis]\n",
    "\n",
    "X_NEW_TRANSF = polynomial_features.fit_transform(X_NEW)\n",
    "\n",
    "Y_NEW = model.predict(X_NEW_TRANSF)\n",
    "\n",
    "plt.plot(X_NEW, Y_NEW, color='red', linewidth=3)\n",
    "plt.scatter(X,Y)\n",
    "plt.grid()\n",
    "plt.xlim(x_new_min,x_new_max)\n",
    "plt.ylim(0,10)\n",
    "\n",
    "title = 'Degree = {}; RMSE = {}; R2 = {}'.format(nb_degree, round(rmse,2), round(r2,2))\n",
    "\n",
    "plt.title(\"Polynomial Linear Regression \\n \" + title,\n",
    "          fontsize=10)\n",
    "plt.xlabel('x')\n",
    "plt.ylabel('y')\n",
    "\n",
    "plt.savefig(\"polynomial_linear_regression.png\", bbox_inches='tight')\n",
    "plt.show()"
   ]
  },
  {
   "cell_type": "code",
   "execution_count": null,
   "metadata": {
    "id": "mno2TqXJ2Mez",
    "outputId": "be11c2f3-a391-4665-fe5f-b12003de9c4a"
   },
   "outputs": [],
   "source": [
    "# werkwijze voor exponentiele regressie met 1 variabele \n",
    "from sklearn import linear_model\n",
    "reg = linear_model.LinearRegression()\n",
    "X_train=[ [1], [2],[3],[4],[5],[6]]\n",
    "y_train=[ 2, 4,8,16,32,63]\n",
    "X_test= [[4.5],[7]]\n",
    "y_test=[50,110]\n",
    "#transformeren de gegevens door log te nemen van de y-waarden\n",
    "reg.fit(X_train, np.log(y_train)) \n",
    "y_pred_test=reg.predict(X_test)\n",
    "print(\"coeff\",reg.coef_) \n",
    "print(\"intercept\",reg.intercept_)\n",
    "print(\"score\",reg.score(X_test,y_test))\n",
    "print(\"voorspellingen\",np.exp(y_pred_test))\n",
    "#we moeten de voorspellingen terug zetten door exponentiele te nemen"
   ]
  }
 ],
 "metadata": {
  "colab": {
   "name": "Hulpkit bij oefeningen samenhang.ipynb",
   "provenance": []
  },
  "kernelspec": {
   "display_name": "Python 3",
   "language": "python",
   "name": "python3"
  },
  "language_info": {
   "codemirror_mode": {
    "name": "ipython",
    "version": 3
   },
   "file_extension": ".py",
   "mimetype": "text/x-python",
   "name": "python",
   "nbconvert_exporter": "python",
   "pygments_lexer": "ipython3",
   "version": "3.8.7"
  }
 },
 "nbformat": 4,
 "nbformat_minor": 1
}
