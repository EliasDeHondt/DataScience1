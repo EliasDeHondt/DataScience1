{
 "cells": [
  {
   "cell_type": "markdown",
   "metadata": {
    "id": "Xxo5WFHR7LOG"
   },
   "source": [
    "## Stress en weersomstandigheden\n",
    "### Set up\n"
   ]
  },
  {
   "cell_type": "code",
   "execution_count": 2,
   "metadata": {
    "colab": {
     "base_uri": "https://localhost:8080/"
    },
    "executionInfo": {
     "elapsed": 1023,
     "status": "ok",
     "timestamp": 1618329452271,
     "user": {
      "displayName": "Rony Baekeland",
      "photoUrl": "",
      "userId": "01731985152349302060"
     },
     "user_tz": -120
    },
    "id": "2taqNlSJ7LON",
    "outputId": "16d5c1f3-424b-453d-a6fd-9820416865f8",
    "pycharm": {
     "is_executing": true,
     "name": "#%%\n"
    }
   },
   "outputs": [],
   "source": [
    "import pandas as pd\n",
    "import numpy as np\n",
    "import math as m\n",
    "import matplotlib.pyplot as plt\n",
    "from IPython.core.display import display\n",
    "from IPython.core.interactiveshell import InteractiveShell\n",
    "\n"
   ]
  },
  {
   "cell_type": "markdown",
   "metadata": {
    "collapsed": true,
    "id": "CYV5LTB_7LOP"
   },
   "source": [
    "In deze studie vragen we ons af welke invloed het weer heeft op het stressgevoel. We vroegen een aantal\n",
    "personen om iedere dag hun stressgevoel te noteren. Bij deze gegevens noteerden we de gemiddelde\n",
    "temperatuur, luchtvochtigheid en hoeveelheid neerslag op die dag."
   ]
  },
  {
   "cell_type": "markdown",
   "metadata": {
    "id": "O5tPMc1P7LOP"
   },
   "source": [
    "1. Lees de data in. Welke kolommen bevatten NA-waarden? Verwijder de rijen met NA-waarden.\n",
    "Verwijder de rijen met extreme uitschieters bij neerslag. De luchtvochtigheid mag niet hoger zijn dan 100. \n",
    "Verwijder de rijen waarbij dat zo is. Hoeveel rijen hou je nu over? "
   ]
  },
  {
   "cell_type": "code",
   "execution_count": 4,
   "metadata": {
    "executionInfo": {
     "elapsed": 1853,
     "status": "ok",
     "timestamp": 1618329464558,
     "user": {
      "displayName": "Rony Baekeland",
      "photoUrl": "",
      "userId": "01731985152349302060"
     },
     "user_tz": -120
    },
    "id": "-I4A9DG37LOQ",
    "pycharm": {
     "name": "#%%\n"
    }
   },
   "outputs": [
    {
     "data": {
      "text/plain": [
       "1095"
      ]
     },
     "execution_count": 4,
     "metadata": {},
     "output_type": "execute_result"
    }
   ],
   "source": [
    "from hulpfuncties import *\n",
    "\n",
    "missing_values = ['n/a', 'na', 'nan', 'N/A', 'NA', 'NaN', 'NAN', '--', 'Missing', 'missing', 'Unknown', 'unknown']\n",
    "stress = pd.read_csv(\"../datasets/stress.csv\", sep=\"\\t\", decimal=\",\", na_values=missing_values)     \n",
    "len(stress)\n"
   ]
  },
  {
   "cell_type": "code",
   "execution_count": 13,
   "metadata": {
    "colab": {
     "base_uri": "https://localhost:8080/",
     "height": 297
    },
    "executionInfo": {
     "elapsed": 525,
     "status": "ok",
     "timestamp": 1618329467971,
     "user": {
      "displayName": "Rony Baekeland",
      "photoUrl": "",
      "userId": "01731985152349302060"
     },
     "user_tz": -120
    },
    "id": "ovEXA7y37LOQ",
    "outputId": "cb8c74bc-0308-4766-d092-9a59afcbdca0"
   },
   "outputs": [
    {
     "name": "stdout",
     "output_type": "stream",
     "text": [
      "<class 'pandas.core.frame.DataFrame'>\n",
      "Int64Index: 1092 entries, 0 to 1094\n",
      "Data columns (total 4 columns):\n",
      " #   Column       Non-Null Count  Dtype  \n",
      "---  ------       --------------  -----  \n",
      " 0   stress       1092 non-null   object \n",
      " 1   temp         1092 non-null   float64\n",
      " 2   neerslag     1092 non-null   float64\n",
      " 3   vochtigheid  1092 non-null   float64\n",
      "dtypes: float64(3), object(1)\n",
      "memory usage: 42.7+ KB\n"
     ]
    },
    {
     "data": {
      "text/html": [
       "<div>\n",
       "<style scoped>\n",
       "    .dataframe tbody tr th:only-of-type {\n",
       "        vertical-align: middle;\n",
       "    }\n",
       "\n",
       "    .dataframe tbody tr th {\n",
       "        vertical-align: top;\n",
       "    }\n",
       "\n",
       "    .dataframe thead th {\n",
       "        text-align: right;\n",
       "    }\n",
       "</style>\n",
       "<table border=\"1\" class=\"dataframe\">\n",
       "  <thead>\n",
       "    <tr style=\"text-align: right;\">\n",
       "      <th></th>\n",
       "      <th>stress</th>\n",
       "      <th>temp</th>\n",
       "      <th>neerslag</th>\n",
       "      <th>vochtigheid</th>\n",
       "    </tr>\n",
       "  </thead>\n",
       "  <tbody>\n",
       "    <tr>\n",
       "      <th>0</th>\n",
       "      <td>normaal</td>\n",
       "      <td>18.3</td>\n",
       "      <td>2.5</td>\n",
       "      <td>72.0</td>\n",
       "    </tr>\n",
       "    <tr>\n",
       "      <th>1</th>\n",
       "      <td>licht gestresseerd</td>\n",
       "      <td>7.4</td>\n",
       "      <td>2.7</td>\n",
       "      <td>69.0</td>\n",
       "    </tr>\n",
       "    <tr>\n",
       "      <th>2</th>\n",
       "      <td>licht gestresseerd</td>\n",
       "      <td>12.6</td>\n",
       "      <td>2.5</td>\n",
       "      <td>76.0</td>\n",
       "    </tr>\n",
       "    <tr>\n",
       "      <th>3</th>\n",
       "      <td>normaal</td>\n",
       "      <td>14.1</td>\n",
       "      <td>2.3</td>\n",
       "      <td>73.0</td>\n",
       "    </tr>\n",
       "    <tr>\n",
       "      <th>4</th>\n",
       "      <td>licht gestresseerd</td>\n",
       "      <td>12.8</td>\n",
       "      <td>3.1</td>\n",
       "      <td>85.0</td>\n",
       "    </tr>\n",
       "    <tr>\n",
       "      <th>...</th>\n",
       "      <td>...</td>\n",
       "      <td>...</td>\n",
       "      <td>...</td>\n",
       "      <td>...</td>\n",
       "    </tr>\n",
       "    <tr>\n",
       "      <th>1090</th>\n",
       "      <td>gestresseerd</td>\n",
       "      <td>3.1</td>\n",
       "      <td>1.6</td>\n",
       "      <td>87.0</td>\n",
       "    </tr>\n",
       "    <tr>\n",
       "      <th>1091</th>\n",
       "      <td>licht gestresseerd</td>\n",
       "      <td>11.0</td>\n",
       "      <td>2.5</td>\n",
       "      <td>95.0</td>\n",
       "    </tr>\n",
       "    <tr>\n",
       "      <th>1092</th>\n",
       "      <td>licht gestresseerd</td>\n",
       "      <td>7.3</td>\n",
       "      <td>2.4</td>\n",
       "      <td>83.0</td>\n",
       "    </tr>\n",
       "    <tr>\n",
       "      <th>1093</th>\n",
       "      <td>licht gestresseerd</td>\n",
       "      <td>4.6</td>\n",
       "      <td>2.1</td>\n",
       "      <td>79.0</td>\n",
       "    </tr>\n",
       "    <tr>\n",
       "      <th>1094</th>\n",
       "      <td>licht gestresseerd</td>\n",
       "      <td>12.0</td>\n",
       "      <td>2.7</td>\n",
       "      <td>74.0</td>\n",
       "    </tr>\n",
       "  </tbody>\n",
       "</table>\n",
       "<p>1092 rows × 4 columns</p>\n",
       "</div>"
      ],
      "text/plain": [
       "                  stress  temp  neerslag  vochtigheid\n",
       "0                normaal  18.3       2.5         72.0\n",
       "1     licht gestresseerd   7.4       2.7         69.0\n",
       "2     licht gestresseerd  12.6       2.5         76.0\n",
       "3                normaal  14.1       2.3         73.0\n",
       "4     licht gestresseerd  12.8       3.1         85.0\n",
       "...                  ...   ...       ...          ...\n",
       "1090        gestresseerd   3.1       1.6         87.0\n",
       "1091  licht gestresseerd  11.0       2.5         95.0\n",
       "1092  licht gestresseerd   7.3       2.4         83.0\n",
       "1093  licht gestresseerd   4.6       2.1         79.0\n",
       "1094  licht gestresseerd  12.0       2.7         74.0\n",
       "\n",
       "[1092 rows x 4 columns]"
      ]
     },
     "execution_count": 13,
     "metadata": {},
     "output_type": "execute_result"
    }
   ],
   "source": [
    "stress.head()\n",
    "stress.isnull().sum()\n",
    "stress.info()\n",
    "stress.head()\n",
    "stress"
   ]
  },
  {
   "cell_type": "code",
   "execution_count": 10,
   "metadata": {
    "colab": {
     "base_uri": "https://localhost:8080/"
    },
    "executionInfo": {
     "elapsed": 543,
     "status": "ok",
     "timestamp": 1618329471101,
     "user": {
      "displayName": "Rony Baekeland",
      "photoUrl": "",
      "userId": "01731985152349302060"
     },
     "user_tz": -120
    },
    "id": "gr3ZNzTy7LOR",
    "outputId": "3af607ce-940c-4f15-f504-4b5585ac4b9b"
   },
   "outputs": [
    {
     "name": "stdout",
     "output_type": "stream",
     "text": [
      "1092\n"
     ]
    }
   ],
   "source": [
    "stress.dropna(axis=0, how='any', inplace=True)\n",
    "print(len(stress))\n"
   ]
  },
  {
   "cell_type": "code",
   "execution_count": 11,
   "metadata": {
    "colab": {
     "base_uri": "https://localhost:8080/"
    },
    "executionInfo": {
     "elapsed": 454,
     "status": "ok",
     "timestamp": 1618262219901,
     "user": {
      "displayName": "Rony Baekeland",
      "photoUrl": "",
      "userId": "01731985152349302060"
     },
     "user_tz": -120
    },
    "id": "JoZCDqga7LOS",
    "outputId": "88379326-2e7d-42ce-d8c8-6e369e1aeacd"
   },
   "outputs": [
    {
     "data": {
      "text/plain": [
       "stress         0\n",
       "temp           0\n",
       "neerslag       0\n",
       "vochtigheid    0\n",
       "dtype: int64"
      ]
     },
     "execution_count": 11,
     "metadata": {},
     "output_type": "execute_result"
    }
   ],
   "source": [
    "stress.isnull().sum()"
   ]
  },
  {
   "cell_type": "code",
   "execution_count": 7,
   "metadata": {
    "executionInfo": {
     "elapsed": 703,
     "status": "ok",
     "timestamp": 1618329474005,
     "user": {
      "displayName": "Rony Baekeland",
      "photoUrl": "",
      "userId": "01731985152349302060"
     },
     "user_tz": -120
    },
    "id": "tR5Dx4xp7LOS"
   },
   "outputs": [],
   "source": [
    "stressZenV100 = stress[~((uitschieters(stress.neerslag, mode='extreem')) | (stress['vochtigheid'] > 100))].copy()"
   ]
  },
  {
   "cell_type": "code",
   "execution_count": 8,
   "metadata": {
    "colab": {
     "base_uri": "https://localhost:8080/"
    },
    "executionInfo": {
     "elapsed": 489,
     "status": "ok",
     "timestamp": 1618329476320,
     "user": {
      "displayName": "Rony Baekeland",
      "photoUrl": "",
      "userId": "01731985152349302060"
     },
     "user_tz": -120
    },
    "id": "mYwRwY9W7LOS",
    "outputId": "fbcfc375-1736-40b5-8835-f10f58ab8425"
   },
   "outputs": [
    {
     "data": {
      "text/plain": [
       "1090"
      ]
     },
     "execution_count": 8,
     "metadata": {},
     "output_type": "execute_result"
    }
   ],
   "source": [
    "len(stressZenV100)  #aantal zonder extreme neerslag en vochtigheid niet groter  dan 100"
   ]
  },
  {
   "cell_type": "markdown",
   "metadata": {
    "id": "hLej9t6i7LOT"
   },
   "source": [
    "2. Welk meetniveau hebben de kolommen?"
   ]
  },
  {
   "cell_type": "markdown",
   "metadata": {
    "id": "JHatGA_A7LOU"
   },
   "source": [
    "stress:ordinaal temp:interval vochtigheid,neerslag:ratio"
   ]
  },
  {
   "cell_type": "markdown",
   "metadata": {
    "id": "Un7Xvt9O7LOU"
   },
   "source": [
    "3. Wat is de gemiddelde temperatuur, luchtvochtigheid en neerslag?"
   ]
  },
  {
   "cell_type": "code",
   "execution_count": 9,
   "metadata": {
    "colab": {
     "base_uri": "https://localhost:8080/",
     "height": 318
    },
    "executionInfo": {
     "elapsed": 510,
     "status": "ok",
     "timestamp": 1618329482643,
     "user": {
      "displayName": "Rony Baekeland",
      "photoUrl": "",
      "userId": "01731985152349302060"
     },
     "user_tz": -120
    },
    "id": "SkCccRvD7LOV",
    "outputId": "e607dc0f-1a5a-49c4-b43f-95b727d52cc5"
   },
   "outputs": [
    {
     "name": "stdout",
     "output_type": "stream",
     "text": [
      "Gemiddelde neerslag:2.3707339449541283\n"
     ]
    },
    {
     "data": {
      "text/html": [
       "<div>\n",
       "<style scoped>\n",
       "    .dataframe tbody tr th:only-of-type {\n",
       "        vertical-align: middle;\n",
       "    }\n",
       "\n",
       "    .dataframe tbody tr th {\n",
       "        vertical-align: top;\n",
       "    }\n",
       "\n",
       "    .dataframe thead th {\n",
       "        text-align: right;\n",
       "    }\n",
       "</style>\n",
       "<table border=\"1\" class=\"dataframe\">\n",
       "  <thead>\n",
       "    <tr style=\"text-align: right;\">\n",
       "      <th></th>\n",
       "      <th>temp</th>\n",
       "      <th>neerslag</th>\n",
       "      <th>vochtigheid</th>\n",
       "    </tr>\n",
       "  </thead>\n",
       "  <tbody>\n",
       "    <tr>\n",
       "      <th>count</th>\n",
       "      <td>1090.000000</td>\n",
       "      <td>1090.000000</td>\n",
       "      <td>1090.000000</td>\n",
       "    </tr>\n",
       "    <tr>\n",
       "      <th>mean</th>\n",
       "      <td>10.321101</td>\n",
       "      <td>2.370734</td>\n",
       "      <td>79.875229</td>\n",
       "    </tr>\n",
       "    <tr>\n",
       "      <th>std</th>\n",
       "      <td>5.658306</td>\n",
       "      <td>0.270014</td>\n",
       "      <td>6.220839</td>\n",
       "    </tr>\n",
       "    <tr>\n",
       "      <th>min</th>\n",
       "      <td>-8.500000</td>\n",
       "      <td>1.600000</td>\n",
       "      <td>60.000000</td>\n",
       "    </tr>\n",
       "    <tr>\n",
       "      <th>25%</th>\n",
       "      <td>6.600000</td>\n",
       "      <td>2.200000</td>\n",
       "      <td>76.000000</td>\n",
       "    </tr>\n",
       "    <tr>\n",
       "      <th>50%</th>\n",
       "      <td>10.400000</td>\n",
       "      <td>2.400000</td>\n",
       "      <td>80.000000</td>\n",
       "    </tr>\n",
       "    <tr>\n",
       "      <th>75%</th>\n",
       "      <td>14.200000</td>\n",
       "      <td>2.600000</td>\n",
       "      <td>84.000000</td>\n",
       "    </tr>\n",
       "    <tr>\n",
       "      <th>max</th>\n",
       "      <td>30.300000</td>\n",
       "      <td>3.300000</td>\n",
       "      <td>99.000000</td>\n",
       "    </tr>\n",
       "  </tbody>\n",
       "</table>\n",
       "</div>"
      ],
      "text/plain": [
       "              temp     neerslag  vochtigheid\n",
       "count  1090.000000  1090.000000  1090.000000\n",
       "mean     10.321101     2.370734    79.875229\n",
       "std       5.658306     0.270014     6.220839\n",
       "min      -8.500000     1.600000    60.000000\n",
       "25%       6.600000     2.200000    76.000000\n",
       "50%      10.400000     2.400000    80.000000\n",
       "75%      14.200000     2.600000    84.000000\n",
       "max      30.300000     3.300000    99.000000"
      ]
     },
     "execution_count": 9,
     "metadata": {},
     "output_type": "execute_result"
    }
   ],
   "source": [
    "# kan apart zoals bijvoorbeeld hieronder voor neerslag\n",
    "print(f\"Gemiddelde neerslag:{stressZenV100.neerslag.mean()}\")\n",
    "# maar via describe krijgen we alle statistieken tegelijk\n",
    "stressZenV100.describe()"
   ]
  },
  {
   "cell_type": "markdown",
   "metadata": {
    "id": "jHsNDYpz7LOW"
   },
   "source": [
    "4. Zoek de correlatie tussen stress en temperatuur. Welke methode gebruik je best? Welke waarde\n",
    "vind je? Wat betekent deze?"
   ]
  },
  {
   "cell_type": "code",
   "execution_count": 10,
   "metadata": {
    "colab": {
     "base_uri": "https://localhost:8080/"
    },
    "executionInfo": {
     "elapsed": 553,
     "status": "ok",
     "timestamp": 1618329486248,
     "user": {
      "displayName": "Rony Baekeland",
      "photoUrl": "",
      "userId": "01731985152349302060"
     },
     "user_tz": -120
    },
    "id": "-8vJU0rP7LOW",
    "outputId": "2b7a4eb8-2679-4e19-a089-ebcc0d4b7bab"
   },
   "outputs": [
    {
     "name": "stdout",
     "output_type": "stream",
     "text": [
      "<class 'pandas.core.frame.DataFrame'>\n",
      "Int64Index: 1090 entries, 0 to 1094\n",
      "Data columns (total 4 columns):\n",
      " #   Column       Non-Null Count  Dtype  \n",
      "---  ------       --------------  -----  \n",
      " 0   stress       1090 non-null   object \n",
      " 1   temp         1090 non-null   float64\n",
      " 2   neerslag     1090 non-null   float64\n",
      " 3   vochtigheid  1090 non-null   float64\n",
      "dtypes: float64(3), object(1)\n",
      "memory usage: 42.6+ KB\n"
     ]
    }
   ],
   "source": [
    "stressZenV100.info()  # we controleren of alle variabelen het juiste datatype hebben"
   ]
  },
  {
   "cell_type": "code",
   "execution_count": 11,
   "metadata": {
    "colab": {
     "base_uri": "https://localhost:8080/"
    },
    "executionInfo": {
     "elapsed": 479,
     "status": "ok",
     "timestamp": 1618329489063,
     "user": {
      "displayName": "Rony Baekeland",
      "photoUrl": "",
      "userId": "01731985152349302060"
     },
     "user_tz": -120
    },
    "id": "2FpuTrjh7LOX",
    "outputId": "bc9d4c72-119a-4954-9f7f-d4500b240ac0"
   },
   "outputs": [
    {
     "data": {
      "text/plain": [
       "array(['normaal', 'licht gestresseerd', 'gestresseerd',\n",
       "       'help, ik verzuip!', 'zen'], dtype=object)"
      ]
     },
     "execution_count": 11,
     "metadata": {},
     "output_type": "execute_result"
    }
   ],
   "source": [
    "# we moeten de stress variabele nog omvormen tot een categorische variabele van de ordinaal type\n",
    "# we bekijken alle mogelijke waarden die deze variabele kan aannemen\n",
    "stressZenV100.stress.unique()"
   ]
  },
  {
   "cell_type": "code",
   "execution_count": 12,
   "metadata": {
    "executionInfo": {
     "elapsed": 779,
     "status": "ok",
     "timestamp": 1618329492720,
     "user": {
      "displayName": "Rony Baekeland",
      "photoUrl": "",
      "userId": "01731985152349302060"
     },
     "user_tz": -120
    },
    "id": "ozDJuMoI7LOX"
   },
   "outputs": [],
   "source": [
    "# we herschikken die hier in de juiste volgorde en maken van stress een ordinaal meetniveau\n",
    "stresslevels = ['zen', 'normaal', 'licht gestresseerd', 'gestresseerd', 'help, ik verzuip!']\n",
    "stressZenV100.stress = pd.Categorical(stressZenV100.stress, categories=stresslevels, ordered=True)"
   ]
  },
  {
   "cell_type": "code",
   "execution_count": 13,
   "metadata": {
    "colab": {
     "base_uri": "https://localhost:8080/"
    },
    "executionInfo": {
     "elapsed": 705,
     "status": "ok",
     "timestamp": 1618329494395,
     "user": {
      "displayName": "Rony Baekeland",
      "photoUrl": "",
      "userId": "01731985152349302060"
     },
     "user_tz": -120
    },
    "id": "Q8NC2igm7LOX",
    "outputId": "cd61bf65-37cd-4bf5-d20f-c41954e3e81f"
   },
   "outputs": [
    {
     "name": "stdout",
     "output_type": "stream",
     "text": [
      "<class 'pandas.core.frame.DataFrame'>\n",
      "Int64Index: 1090 entries, 0 to 1094\n",
      "Data columns (total 4 columns):\n",
      " #   Column       Non-Null Count  Dtype   \n",
      "---  ------       --------------  -----   \n",
      " 0   stress       1090 non-null   category\n",
      " 1   temp         1090 non-null   float64 \n",
      " 2   neerslag     1090 non-null   float64 \n",
      " 3   vochtigheid  1090 non-null   float64 \n",
      "dtypes: category(1), float64(3)\n",
      "memory usage: 35.3 KB\n"
     ]
    }
   ],
   "source": [
    "stressZenV100.info()  #controle of stress nu van type categorie is"
   ]
  },
  {
   "cell_type": "markdown",
   "metadata": {
    "id": "DGHcxmfc7LOX"
   },
   "source": [
    "4. Zoek de correlatie tussen stress en temperatuur. Welke methode gebruik je best? Welke waarde\n",
    "vind je? Wat betekent deze?"
   ]
  },
  {
   "cell_type": "code",
   "execution_count": 14,
   "metadata": {
    "colab": {
     "base_uri": "https://localhost:8080/"
    },
    "executionInfo": {
     "elapsed": 513,
     "status": "ok",
     "timestamp": 1618329501268,
     "user": {
      "displayName": "Rony Baekeland",
      "photoUrl": "",
      "userId": "01731985152349302060"
     },
     "user_tz": -120
    },
    "id": "k6WmtM107LOY",
    "outputId": "aa5c90e0-4bae-4f73-e060-044c26b78eae"
   },
   "outputs": [
    {
     "data": {
      "text/plain": [
       "0.6533314631732314"
      ]
     },
     "execution_count": 14,
     "metadata": {},
     "output_type": "execute_result"
    }
   ],
   "source": [
    "# we hebben de keuze tussen spearman en Kendall omdat beide kunnen werken met ordinale data\n",
    "stressZenV100.stress.corr(stressZenV100.temp, method='kendall')"
   ]
  },
  {
   "cell_type": "code",
   "execution_count": 15,
   "metadata": {
    "colab": {
     "base_uri": "https://localhost:8080/"
    },
    "executionInfo": {
     "elapsed": 712,
     "status": "ok",
     "timestamp": 1618329502628,
     "user": {
      "displayName": "Rony Baekeland",
      "photoUrl": "",
      "userId": "01731985152349302060"
     },
     "user_tz": -120
    },
    "id": "8_26ZWny7LOY",
    "outputId": "bc1f949d-6bd4-4cfa-9360-be0790b0f7bd"
   },
   "outputs": [
    {
     "data": {
      "text/plain": [
       "0.775593821462883"
      ]
     },
     "execution_count": 15,
     "metadata": {},
     "output_type": "execute_result"
    }
   ],
   "source": [
    "stressZenV100.stress.corr(stressZenV100.temp, method='spearman')"
   ]
  },
  {
   "cell_type": "markdown",
   "metadata": {
    "id": "Q6ma447g7LOY"
   },
   "source": [
    "Dat er toch een aanzienlijk deel van het stress niveau positief gerelateerd is met temp. Dus hoe hoger de temperatuur hoe groter het stressniveau.\n"
   ]
  },
  {
   "cell_type": "markdown",
   "metadata": {
    "id": "6M4kFa5s7LOZ"
   },
   "source": [
    "5. Zoek de correlatie tussen stress en luchtvochtigheid. Welke waarde vind je? Wat betekent deze?"
   ]
  },
  {
   "cell_type": "code",
   "execution_count": 17,
   "metadata": {
    "colab": {
     "base_uri": "https://localhost:8080/"
    },
    "executionInfo": {
     "elapsed": 399,
     "status": "ok",
     "timestamp": 1618329508193,
     "user": {
      "displayName": "Rony Baekeland",
      "photoUrl": "",
      "userId": "01731985152349302060"
     },
     "user_tz": -120
    },
    "id": "o0djIykx7LOZ",
    "outputId": "86d028ba-2ece-4c33-f710-ef739132c40b"
   },
   "outputs": [
    {
     "data": {
      "text/plain": [
       "-0.3220206998144224"
      ]
     },
     "execution_count": 17,
     "metadata": {},
     "output_type": "execute_result"
    }
   ],
   "source": [
    "stressZenV100.stress.corr(stressZenV100.vochtigheid, method='kendall')"
   ]
  },
  {
   "cell_type": "markdown",
   "metadata": {
    "id": "jQBWbc7c7LOZ"
   },
   "source": [
    "Licht verband hoe vochtiger hoe minder het stressniveau."
   ]
  },
  {
   "cell_type": "markdown",
   "metadata": {
    "id": "wMJ8gTNo7LOZ"
   },
   "source": [
    "6. Zoek de correlatie tussen stress en neerslag. Welke waarde vind je? Wat betekent deze?"
   ]
  },
  {
   "cell_type": "code",
   "execution_count": 18,
   "metadata": {
    "colab": {
     "base_uri": "https://localhost:8080/"
    },
    "executionInfo": {
     "elapsed": 521,
     "status": "ok",
     "timestamp": 1618329510399,
     "user": {
      "displayName": "Rony Baekeland",
      "photoUrl": "",
      "userId": "01731985152349302060"
     },
     "user_tz": -120
    },
    "id": "v3XCVWPz7LOZ",
    "outputId": "edd58f3a-bb57-45e2-daea-00eb2b7356d8"
   },
   "outputs": [
    {
     "data": {
      "text/plain": [
       "0.0032704318362192096"
      ]
     },
     "execution_count": 18,
     "metadata": {},
     "output_type": "execute_result"
    }
   ],
   "source": [
    "stressZenV100.stress.corr(stressZenV100.neerslag, method='kendall')"
   ]
  },
  {
   "cell_type": "markdown",
   "metadata": {
    "id": "C_ct2GoK7LOa"
   },
   "source": [
    "Er is geen correlatie tussen stress en neerslag in deze dataset."
   ]
  },
  {
   "cell_type": "markdown",
   "metadata": {
    "id": "uPiRvk127LOa"
   },
   "source": [
    "7. Welke factoren spelen dus een rol in het stressgevoel?"
   ]
  },
  {
   "cell_type": "markdown",
   "metadata": {
    "id": "ZRtEB2Cj7LOa"
   },
   "source": [
    "Enkel vochtigheid en temperatuur zijn gecorreleerd met het stressniveau in deze dataset."
   ]
  }
 ],
 "metadata": {
  "colab": {
   "collapsed_sections": [],
   "name": "Stress en weersomstandigheden.ipynb",
   "provenance": [],
   "toc_visible": true
  },
  "kernelspec": {
   "display_name": "Python 3",
   "language": "python",
   "name": "python3"
  },
  "language_info": {
   "codemirror_mode": {
    "name": "ipython",
    "version": 3
   },
   "file_extension": ".py",
   "mimetype": "text/x-python",
   "name": "python",
   "nbconvert_exporter": "python",
   "pygments_lexer": "ipython3",
   "version": "3.8.7"
  }
 },
 "nbformat": 4,
 "nbformat_minor": 1
}