{
 "cells": [
  {
   "cell_type": "markdown",
   "metadata": {},
   "source": [
    "# Productiefouten batterijen\n",
    "\n",
    "### Setup"
   ]
  },
  {
   "cell_type": "markdown",
   "metadata": {},
   "source": [
    "### Opgave\n",
    "\n",
    "In een fabriek worden batterijen voor smartphones gefabriceerd. De vraag naar deze batterijen varieert\n",
    "nogal sterk. Men heeft het vermoeden dat als de vraag (en dus ook de productie) stijgt, het percentage\n",
    "ontploffende batterijen ook stijgt (en dus: de kwaliteit daalt onder de werkdruk). Dit wil men verifiëren.\n",
    "Er wordt een meting gedaan. Iedere dag wordt het aantal geproduceerde batterijen bijgehouden. Als er een\n",
    "defecte batterij terug wordt gebracht (of er een ontploft), wordt nagegaan op welke dag deze geproduceerd\n",
    "werd. De data vind je terug in het bestand \"batterijen.csv\".\n",
    "De eerste kolom geeft weer hoeveel er geproduceerd werd en de tweede kolom laat zien hoeveel batterijen\n",
    "er defect waren."
   ]
  },
  {
   "cell_type": "markdown",
   "metadata": {},
   "source": [
    "1. Lees het bestand in. Er zijn lijnen met meer dan 2 waarden. Bekijk wat Python hiermee doet als je de\n",
    "waarden inleest. Verwijder deze lijn uit de data. Er zijn uitschieters in de kolom aantalDefect.\n",
    "Verwijder deze. Hoeveel rijen hou je nu over?"
   ]
  },
  {
   "cell_type": "code",
   "execution_count": null,
   "outputs": [],
   "source": [],
   "metadata": {
    "collapsed": false,
    "ExecuteTime": {
     "start_time": "2023-04-20T10:39:21.978884Z",
     "end_time": "2023-04-20T10:39:21.981023Z"
    }
   }
  },
  {
   "cell_type": "markdown",
   "metadata": {},
   "source": [
    "2. Maak een scatterplot van de twee variabelen. Is er een lineair verband?"
   ]
  },
  {
   "cell_type": "code",
   "execution_count": null,
   "outputs": [],
   "source": [],
   "metadata": {
    "collapsed": false,
    "ExecuteTime": {
     "start_time": "2023-04-20T10:39:21.983997Z",
     "end_time": "2023-04-20T10:39:21.993752Z"
    }
   }
  },
  {
   "cell_type": "markdown",
   "metadata": {},
   "source": [
    "3. Welke correlatie vind je met de methode van Kendall?"
   ]
  },
  {
   "cell_type": "code",
   "execution_count": null,
   "outputs": [],
   "source": [],
   "metadata": {
    "collapsed": false,
    "ExecuteTime": {
     "start_time": "2023-04-20T10:39:21.995830Z",
     "end_time": "2023-04-20T10:39:22.001352Z"
    }
   }
  },
  {
   "cell_type": "markdown",
   "metadata": {},
   "source": [
    "4. Eigenlijk zijn we niet geïnteresseerd in het absolute aantal defecte batterijen, maar wel in het\n",
    "percentage. Deel dus het aantal defecte door het aantal geproduceerde batterijen. Wat is het\n",
    "gemiddeld percentage defecte batterijen?"
   ]
  },
  {
   "cell_type": "code",
   "execution_count": null,
   "outputs": [],
   "source": [],
   "metadata": {
    "collapsed": false,
    "ExecuteTime": {
     "start_time": "2023-04-20T10:39:22.001352Z",
     "end_time": "2023-04-20T10:39:22.025608Z"
    }
   }
  },
  {
   "cell_type": "markdown",
   "metadata": {},
   "source": [
    "5. Maak terug een scatterplot met het percentage defecte batterijen. Zie je het verschil met de vorige\n",
    "grafiek?"
   ]
  },
  {
   "cell_type": "code",
   "execution_count": null,
   "outputs": [],
   "source": [],
   "metadata": {
    "collapsed": false,
    "ExecuteTime": {
     "start_time": "2023-04-20T10:39:22.009364Z",
     "end_time": "2023-04-20T10:39:22.025608Z"
    }
   }
  },
  {
   "cell_type": "markdown",
   "metadata": {},
   "source": [
    "6. Bereken nu de correlatie tussen het aantal geproduceerde batterijen en het percentage defecte\n",
    "batterijen. Wat besluit je?"
   ]
  },
  {
   "cell_type": "code",
   "execution_count": null,
   "outputs": [],
   "source": [],
   "metadata": {
    "collapsed": false,
    "ExecuteTime": {
     "start_time": "2023-04-20T10:39:22.025608Z",
     "end_time": "2023-04-20T10:39:22.040251Z"
    }
   }
  },
  {
   "cell_type": "markdown",
   "metadata": {},
   "source": [
    "7. Wat is de waarde van R²? Wat betekent dit?"
   ]
  },
  {
   "cell_type": "code",
   "execution_count": null,
   "outputs": [],
   "source": [],
   "metadata": {
    "collapsed": false,
    "ExecuteTime": {
     "start_time": "2023-04-20T10:39:22.036659Z",
     "end_time": "2023-04-20T10:39:22.041894Z"
    }
   }
  },
  {
   "cell_type": "markdown",
   "metadata": {},
   "source": [
    "8. Teken de regressielijn bij de scatterplot. Wat zijn de waarden voor slope en intercept?\n",
    "9. Wat is de standaardschattingsfout? Wat betekent dit?"
   ]
  },
  {
   "cell_type": "code",
   "execution_count": null,
   "outputs": [],
   "source": [],
   "metadata": {
    "collapsed": false,
    "ExecuteTime": {
     "start_time": "2023-04-20T10:39:22.045821Z",
     "end_time": "2023-04-20T10:39:22.082429Z"
    }
   }
  },
  {
   "cell_type": "markdown",
   "metadata": {},
   "source": [
    "10. Als de productie opgedreven zou worden tot 8000 batterijen/dag. Hoeveel defecte batterijen zou je\n",
    "dan verwachten?"
   ]
  },
  {
   "cell_type": "code",
   "execution_count": null,
   "outputs": [],
   "source": [],
   "metadata": {
    "collapsed": false,
    "ExecuteTime": {
     "start_time": "2023-04-20T10:39:22.063906Z",
     "end_time": "2023-04-20T10:39:22.082429Z"
    }
   }
  },
  {
   "cell_type": "markdown",
   "metadata": {},
   "source": [
    "11. Hoeveel batterijen kan de fabriek per dag produceren zodat er hoogstens 1 procent defect is?"
   ]
  },
  {
   "cell_type": "code",
   "execution_count": null,
   "outputs": [],
   "source": [],
   "metadata": {
    "collapsed": false,
    "ExecuteTime": {
     "start_time": "2023-04-20T10:39:22.074427Z",
     "end_time": "2023-04-20T10:39:22.093528Z"
    }
   }
  }
 ],
 "metadata": {
  "kernelspec": {
   "display_name": "Python 3",
   "language": "python",
   "name": "python3"
  },
  "language_info": {
   "codemirror_mode": {
    "name": "ipython",
    "version": 3
   },
   "file_extension": ".py",
   "mimetype": "text/x-python",
   "name": "python",
   "nbconvert_exporter": "python",
   "pygments_lexer": "ipython3",
   "version": "3.8.7"
  }
 },
 "nbformat": 4,
 "nbformat_minor": 1
}
