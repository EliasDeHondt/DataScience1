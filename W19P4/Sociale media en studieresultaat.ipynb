{
 "cells": [
  {
   "cell_type": "markdown",
   "metadata": {
    "id": "BNyX18OOSDuM"
   },
   "source": [
    "## Sociale media en studieresultaten\n",
    "We willen nagaan of er een verband bestaat tussen het gebruik van sociale media en de prestaties van\n",
    "studenten.\n",
    "We vragen aan 1064 studenten hoeveel uren ze gemiddeld per dag met sociale media bezig zijn. Onder\n",
    "sociale media verstaan we Facebook, YouTube, blogs, Twitter, MySpace en LinkedIn.\n",
    "We gaan ook na wat de eindscore is van deze studenten op het einde van het jaar.\n",
    "Het resultaat van deze enquête vind je in het bestand \"socialeMediaVsPunten.csv\"."
   ]
  },
  {
   "cell_type": "markdown",
   "metadata": {
    "id": "wJ6e8qKPS8Vi"
   },
   "source": [
    "## Setup"
   ]
  },
  {
   "cell_type": "markdown",
   "metadata": {
    "id": "GSBR88PZSxsT"
   },
   "source": [
    "1. Lees dit bestand in. Let erop dat het aantal uren als getallen wordt gelezen. Verwijder de rijen waar\n",
    "een onbekende waarde staat. Verwijder nu de rijen met uitschieters (maak eventueel gebruik van de hulpfuncties.py uit de oefeningen van centrummaten). Hoeveel rijen schieten er over?"
   ]
  },
  {
   "cell_type": "code",
   "execution_count": null,
   "outputs": [],
   "source": [],
   "metadata": {
    "collapsed": false
   }
  },
  {
   "cell_type": "markdown",
   "metadata": {
    "id": "XPbFUewlSzf7"
   },
   "source": [
    "2. Maak een histogram van de uren en de punten apart"
   ]
  },
  {
   "cell_type": "code",
   "execution_count": null,
   "outputs": [],
   "source": [],
   "metadata": {
    "collapsed": false
   }
  },
  {
   "cell_type": "markdown",
   "metadata": {
    "id": "kUqk4wwVguUp"
   },
   "source": [
    "3. Wat is het gemiddeld aantal uren dat een student aan sociale media spendeert?"
   ]
  },
  {
   "cell_type": "code",
   "execution_count": null,
   "outputs": [],
   "source": [],
   "metadata": {
    "collapsed": false
   }
  },
  {
   "cell_type": "markdown",
   "metadata": {
    "id": "xAmpeQ3gzN0V"
   },
   "source": [
    "4. Wat is de standaardafwijking van het aantal uren? Wat betekent dit?"
   ]
  },
  {
   "cell_type": "code",
   "execution_count": null,
   "outputs": [],
   "source": [],
   "metadata": {
    "collapsed": false
   }
  },
  {
   "cell_type": "markdown",
   "metadata": {
    "id": "p48C0-kV2Vc4"
   },
   "source": [
    "5. Wat is de gemiddelde score van de studenten?\n"
   ]
  },
  {
   "cell_type": "code",
   "execution_count": null,
   "outputs": [],
   "source": [],
   "metadata": {
    "collapsed": false
   }
  },
  {
   "cell_type": "markdown",
   "metadata": {
    "id": "c_PFyyhw1MmI"
   },
   "source": [
    "6. Wat is de standaardafwijking van de score?\n",
    "\n"
   ]
  },
  {
   "cell_type": "code",
   "execution_count": null,
   "outputs": [],
   "source": [],
   "metadata": {
    "collapsed": false
   }
  },
  {
   "cell_type": "markdown",
   "metadata": {
    "id": "t7VaJ__82uEx"
   },
   "source": [
    "7. Maak een scatterplot van de 2 variabelen. Welke correlatie verwacht je?\n",
    "\n",
    "\n",
    "\n",
    "\n",
    "8. Bereken de correlatie tussen de 2 variabelen. Doe dit ook eens via de Z-scores (Pearson). Wat\n",
    "besluit je?"
   ]
  },
  {
   "cell_type": "code",
   "execution_count": null,
   "outputs": [],
   "source": [],
   "metadata": {
    "collapsed": false
   }
  },
  {
   "cell_type": "markdown",
   "metadata": {
    "id": "4kc7CP4o9yqO"
   },
   "source": [
    "9. Welke rangcorrelatie vind je volgens Kendall? Wat betekent deze waarde?"
   ]
  },
  {
   "cell_type": "code",
   "execution_count": null,
   "outputs": [],
   "source": [],
   "metadata": {
    "collapsed": false
   }
  },
  {
   "cell_type": "markdown",
   "metadata": {
    "id": "hgCY1pSUMZku"
   },
   "source": [
    "10. Heeft het zin om hier een regressielijn te bepalen? Waarom wel/niet? Bepaal de regressielijn als dit\n",
    "zin heeft"
   ]
  },
  {
   "cell_type": "code",
   "execution_count": null,
   "outputs": [],
   "source": [],
   "metadata": {
    "collapsed": false
   }
  }
 ],
 "metadata": {
  "colab": {
   "collapsed_sections": [],
   "name": "Sociale media en studieresultaat.ipynb",
   "provenance": [],
   "toc_visible": true
  },
  "kernelspec": {
   "display_name": "Python 3",
   "language": "python",
   "name": "python3"
  },
  "language_info": {
   "codemirror_mode": {
    "name": "ipython",
    "version": 3
   },
   "file_extension": ".py",
   "mimetype": "text/x-python",
   "name": "python",
   "nbconvert_exporter": "python",
   "pygments_lexer": "ipython3",
   "version": "3.8.7"
  }
 },
 "nbformat": 4,
 "nbformat_minor": 1
}
