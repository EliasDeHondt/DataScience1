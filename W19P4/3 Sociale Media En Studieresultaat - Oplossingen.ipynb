{
  "nbformat": 4,
  "nbformat_minor": 0,
  "metadata": {
    "kernelspec": {
      "display_name": "Python 3",
      "language": "python",
      "name": "python3"
    },
    "language_info": {
      "codemirror_mode": {
        "name": "ipython",
        "version": 2
      },
      "file_extension": ".py",
      "mimetype": "text/x-python",
      "name": "python",
      "nbconvert_exporter": "python",
      "pygments_lexer": "ipython2",
      "version": "2.7.6"
    },
    "colab": {
      "provenance": [],
      "toc_visible": true
    }
  },
  "cells": [
    {
      "cell_type": "markdown",
      "metadata": {
        "id": "BNyX18OOSDuM"
      },
      "source": [
        "## Sociale media en studieresultaten\n",
        "We willen nagaan of er een verband bestaat tussen het gebruik van sociale media en de prestaties van studenten. We vragen aan 1064 studenten hoeveel uren ze gemiddeld per dag met sociale media bezig zijn. Onder sociale media verstaan we Facebook, YouTube, blogs, Twitter, MySpace en LinkedIn. We gaan ook na wat de eindscore is van deze studenten op het einde van het jaar. Het resultaat van deze enquête vind je in het bestand \"socialeMediaVsPunten.csv\"."
      ]
    },
    {
      "cell_type": "markdown",
      "metadata": {
        "id": "wJ6e8qKPS8Vi"
      },
      "source": [
        "## Setup"
      ]
    },
    {
      "cell_type": "code",
      "metadata": {
        "colab": {
          "base_uri": "https://localhost:8080/"
        },
        "id": "GcnwHyuGHLNt",
        "pycharm": {
          "name": "#%% keep\n"
        },
        "outputId": "4e9f4832-d133-4c45-e71a-f9abc8d4872e"
      },
      "source": [
        "import pandas as pd\n",
        "import numpy as np\n",
        "import matplotlib.pyplot as plt\n",
        "from scipy import stats\n",
        "\n",
        "from IPython.core.interactiveshell import InteractiveShell\n",
        "\n",
        "InteractiveShell.ast_node_interactivity = \"all\"\n",
        "local = False\n",
        "\n",
        "if local:\n",
        "    oefenFolder = '../'\n",
        "else:\n",
        "    from google.colab import drive\n",
        "\n",
        "    drive.mount('/content/drive')\n",
        "\n",
        "    #vervang dit naar het pad in Google Drive waar jou datasets staan\n",
        "    !rm / content / oefeningen\n",
        "    !ln -s \"/content/drive/Shareddrives/Data Science 1/2020-21/Lesmateriaal/6 samenhang/oefeningen\" \"/content/oefeningen\"\n",
        "    !ls -la / content / oefeningen\n",
        "    oefenFolder = '/content/oefeningen/'\n",
        "    #\n",
        "    #   #we moeten ook het script uitschieters.py kunnen importeren.\n",
        "    #   #daarom moeten we dit script in de folder \"/content\" copieren.\n",
        "    !cp \"/content/drive/Shareddrives/Data Science 1/2020-21/Lesmateriaal/5 centrum en spreiding/oefeningen/hulpfuncties.py\" \"/content/\"\n",
        "# \n",
        "print('de folder met datasets = ' + oefenFolder + 'datasets/')"
      ],
      "execution_count": null,
      "outputs": [
        {
          "output_type": "stream",
          "text": [
            "Mounted at /content/drive\n",
            "rm: cannot remove '/': Is a directory\n",
            "rm: cannot remove 'content': No such file or directory\n",
            "rm: cannot remove '/': Is a directory\n",
            "rm: cannot remove 'oefeningen': No such file or directory\n",
            "ls: cannot access 'content': No such file or directory\n",
            "lrwxrwxrwx 1 root root   86 Apr 13 20:14 oefeningen -> '/content/drive/Shareddrives/Data Science 1/2020-21/Lesmateriaal/6 samenhang/oefeningen'\n",
            "\n",
            "/:\n",
            "total 104\n",
            "drwxr-xr-x   1 root root 4096 Apr 13 20:11 .\n",
            "drwxr-xr-x   1 root root 4096 Apr 13 20:11 ..\n",
            "drwxr-xr-x   1 root root 4096 Apr  7 13:27 bin\n",
            "drwxr-xr-x   2 root root 4096 Apr 24  2018 boot\n",
            "drwxr-xr-x   1 root root 4096 Apr 13 20:14 content\n",
            "drwxr-xr-x   1 root root 4096 Apr 12 13:54 datalab\n",
            "drwxr-xr-x   5 root root  360 Apr 13 20:11 dev\n",
            "-rwxr-xr-x   1 root root    0 Apr 13 20:11 .dockerenv\n",
            "drwxr-xr-x   1 root root 4096 Apr 13 20:11 etc\n",
            "drwxr-xr-x   2 root root 4096 Apr 24  2018 home\n",
            "drwxr-xr-x   1 root root 4096 Apr  7 13:29 lib\n",
            "drwxr-xr-x   2 root root 4096 Apr  7 13:19 lib32\n",
            "drwxr-xr-x   1 root root 4096 Apr  7 13:19 lib64\n",
            "drwxr-xr-x   2 root root 4096 Sep 21  2020 media\n",
            "drwxr-xr-x   2 root root 4096 Sep 21  2020 mnt\n",
            "drwxr-xr-x   1 root root 4096 Apr  7 13:30 opt\n",
            "dr-xr-xr-x 125 root root    0 Apr 13 20:11 proc\n",
            "drwx------   1 root root 4096 Apr 13 20:11 root\n",
            "drwxr-xr-x   1 root root 4096 Apr  7 13:22 run\n",
            "drwxr-xr-x   1 root root 4096 Apr  7 13:27 sbin\n",
            "drwxr-xr-x   2 root root 4096 Sep 21  2020 srv\n",
            "dr-xr-xr-x  12 root root    0 Apr 13 20:11 sys\n",
            "drwxr-xr-x   4 root root 4096 Apr 12 13:49 tensorflow-1.15.2\n",
            "drwxrwxrwt   1 root root 4096 Apr 13 20:14 tmp\n",
            "drwxr-xr-x   1 root root 4096 Apr 12 13:54 tools\n",
            "drwxr-xr-x   1 root root 4096 Apr  7 13:30 usr\n",
            "drwxr-xr-x   1 root root 4096 Apr 13 20:11 var\n",
            "\n",
            "/:\n",
            "total 104\n",
            "drwxr-xr-x   1 root root 4096 Apr 13 20:11 .\n",
            "drwxr-xr-x   1 root root 4096 Apr 13 20:11 ..\n",
            "drwxr-xr-x   1 root root 4096 Apr  7 13:27 bin\n",
            "drwxr-xr-x   2 root root 4096 Apr 24  2018 boot\n",
            "drwxr-xr-x   1 root root 4096 Apr 13 20:14 content\n",
            "drwxr-xr-x   1 root root 4096 Apr 12 13:54 datalab\n",
            "drwxr-xr-x   5 root root  360 Apr 13 20:11 dev\n",
            "-rwxr-xr-x   1 root root    0 Apr 13 20:11 .dockerenv\n",
            "drwxr-xr-x   1 root root 4096 Apr 13 20:11 etc\n",
            "drwxr-xr-x   2 root root 4096 Apr 24  2018 home\n",
            "drwxr-xr-x   1 root root 4096 Apr  7 13:29 lib\n",
            "drwxr-xr-x   2 root root 4096 Apr  7 13:19 lib32\n",
            "drwxr-xr-x   1 root root 4096 Apr  7 13:19 lib64\n",
            "drwxr-xr-x   2 root root 4096 Sep 21  2020 media\n",
            "drwxr-xr-x   2 root root 4096 Sep 21  2020 mnt\n",
            "drwxr-xr-x   1 root root 4096 Apr  7 13:30 opt\n",
            "dr-xr-xr-x 125 root root    0 Apr 13 20:11 proc\n",
            "drwx------   1 root root 4096 Apr 13 20:11 root\n",
            "drwxr-xr-x   1 root root 4096 Apr  7 13:22 run\n",
            "drwxr-xr-x   1 root root 4096 Apr  7 13:27 sbin\n",
            "drwxr-xr-x   2 root root 4096 Sep 21  2020 srv\n",
            "dr-xr-xr-x  12 root root    0 Apr 13 20:14 sys\n",
            "drwxr-xr-x   4 root root 4096 Apr 12 13:49 tensorflow-1.15.2\n",
            "drwxrwxrwt   1 root root 4096 Apr 13 20:14 tmp\n",
            "drwxr-xr-x   1 root root 4096 Apr 12 13:54 tools\n",
            "drwxr-xr-x   1 root root 4096 Apr  7 13:30 usr\n",
            "drwxr-xr-x   1 root root 4096 Apr 13 20:11 var\n",
            "de folder met datasets = /content/oefeningen/datasets/\n"
          ],
          "name": "stdout"
        }
      ]
    },
    {
      "cell_type": "markdown",
      "metadata": {
        "id": "GSBR88PZSxsT"
      },
      "source": [
        "1. lees dit bestand in. Let erop dat het aantal uren als getallen wordt gelezen. Verwijder de rijen waar\n",
        "een onbekende waarde staat. Verwijder nu de rijen met uitschieters (maak eventueel gebruik van de hulpfuncties.py uit de oefeningen van centrummaten). Hoeveel rijen schieten er over?"
      ]
    },
    {
      "cell_type": "code",
      "metadata": {
        "colab": {
          "base_uri": "https://localhost:8080/",
          "height": 261
        },
        "id": "CxUyviEcTGOZ",
        "outputId": "71d1d434-b579-4220-9d9b-c5dbf33da800"
      },
      "source": [
        "from hulpfuncties import *\n",
        "\n",
        "socialeMediaVsPunten = pd.read_csv(oefenFolder + 'datasets/socialeMediaVsPunten.csv', na_values=['onbekend'], sep=',',\n",
        "                                   decimal='.')\n",
        "socialeMediaVsPunten.head()\n",
        "socialeMediaVsPunten.dtypes"
      ],
      "execution_count": null,
      "outputs": [
        {
          "output_type": "execute_result",
          "data": {
            "text/html": [
              "<div>\n",
              "<style scoped>\n",
              "    .dataframe tbody tr th:only-of-type {\n",
              "        vertical-align: middle;\n",
              "    }\n",
              "\n",
              "    .dataframe tbody tr th {\n",
              "        vertical-align: top;\n",
              "    }\n",
              "\n",
              "    .dataframe thead th {\n",
              "        text-align: right;\n",
              "    }\n",
              "</style>\n",
              "<table border=\"1\" class=\"dataframe\">\n",
              "  <thead>\n",
              "    <tr style=\"text-align: right;\">\n",
              "      <th></th>\n",
              "      <th>uren</th>\n",
              "      <th>punten</th>\n",
              "    </tr>\n",
              "  </thead>\n",
              "  <tbody>\n",
              "    <tr>\n",
              "      <th>0</th>\n",
              "      <td>0.70</td>\n",
              "      <td>15</td>\n",
              "    </tr>\n",
              "    <tr>\n",
              "      <th>1</th>\n",
              "      <td>0.68</td>\n",
              "      <td>18</td>\n",
              "    </tr>\n",
              "    <tr>\n",
              "      <th>2</th>\n",
              "      <td>1.50</td>\n",
              "      <td>14</td>\n",
              "    </tr>\n",
              "    <tr>\n",
              "      <th>3</th>\n",
              "      <td>2.40</td>\n",
              "      <td>6</td>\n",
              "    </tr>\n",
              "    <tr>\n",
              "      <th>4</th>\n",
              "      <td>0.00</td>\n",
              "      <td>18</td>\n",
              "    </tr>\n",
              "  </tbody>\n",
              "</table>\n",
              "</div>"
            ],
            "text/plain": [
              "   uren  punten\n",
              "0  0.70      15\n",
              "1  0.68      18\n",
              "2  1.50      14\n",
              "3  2.40       6\n",
              "4  0.00      18"
            ]
          },
          "metadata": {
            "tags": []
          },
          "execution_count": 2
        },
        {
          "output_type": "execute_result",
          "data": {
            "text/plain": [
              "uren      float64\n",
              "punten      int64\n",
              "dtype: object"
            ]
          },
          "metadata": {
            "tags": []
          },
          "execution_count": 2
        }
      ]
    },
    {
      "cell_type": "code",
      "metadata": {
        "collapsed": true,
        "colab": {
          "base_uri": "https://localhost:8080/"
        },
        "id": "piOWJEEdSCmd",
        "outputId": "7881295a-e357-4bec-91ba-48f15c9c7eea"
      },
      "source": [
        "print(socialeMediaVsPunten.sort_values(by='uren'))\n",
        "socialeMediaVsPunten.dropna(inplace=True)\n",
        "socialeMediaVsPntZU = socialeMediaVsPunten[~uitschieters(socialeMediaVsPunten.uren)]\n",
        "print(f\"Aantal rijen dat overblijft:{len(socialeMediaVsPntZU)}\")"
      ],
      "execution_count": null,
      "outputs": [
        {
          "output_type": "stream",
          "text": [
            "     uren  punten\n",
            "242  0.00       9\n",
            "4    0.00      18\n",
            "828  0.01       1\n",
            "510  0.01      10\n",
            "631  0.02       7\n",
            "..    ...     ...\n",
            "284  3.88      17\n",
            "191  3.93      18\n",
            "536  4.17       3\n",
            "651  4.20      14\n",
            "662   NaN       0\n",
            "\n",
            "[1064 rows x 2 columns]\n",
            "Aantal rijen dat overblijft:1058\n"
          ],
          "name": "stdout"
        }
      ]
    },
    {
      "cell_type": "markdown",
      "metadata": {
        "id": "XPbFUewlSzf7"
      },
      "source": [
        "2. maak een histogram van de uren en de punten apart"
      ]
    },
    {
      "cell_type": "code",
      "metadata": {
        "id": "aVJrzFxwg3K9",
        "colab": {
          "base_uri": "https://localhost:8080/",
          "height": 422
        },
        "outputId": "28d51a46-6167-4af7-930e-2b47e1af5212"
      },
      "source": [
        "ax = plt.axes()\n",
        "ax.hist(x=socialeMediaVsPntZU.uren, bins=15)\n",
        "# we kunnen de settings ook in  commando doorgeven\n",
        "ax.set(xlabel='uren op, sociale media', ylabel='frequentie', title='verdeling van tijd op sociale media')\n",
        "plt.show()"
      ],
      "execution_count": null,
      "outputs": [
        {
          "output_type": "execute_result",
          "data": {
            "text/plain": [
              "(array([ 68., 106., 109.,  98., 137., 120.,  95.,  77.,  84.,  43.,  53.,\n",
              "         29.,  18.,  17.,   4.]),\n",
              " array([0.  , 0.23, 0.46, 0.69, 0.92, 1.15, 1.38, 1.61, 1.84, 2.07, 2.3 ,\n",
              "        2.53, 2.76, 2.99, 3.22, 3.45]),\n",
              " <a list of 15 Patch objects>)"
            ]
          },
          "metadata": {
            "tags": []
          },
          "execution_count": 21
        },
        {
          "output_type": "execute_result",
          "data": {
            "text/plain": [
              "[Text(0, 0.5, 'frequentie'),\n",
              " Text(0.5, 0, 'uren op, sociale media'),\n",
              " Text(0.5, 1.0, 'verdeling van tijd op sociale media')]"
            ]
          },
          "metadata": {
            "tags": []
          },
          "execution_count": 21
        },
        {
          "output_type": "display_data",
          "data": {
            "image/png": "[encoded data removed]",
            "text/plain": [
              "<Figure size 432x288 with 1 Axes>"
            ]
          },
          "metadata": {
            "tags": [],
            "needs_background": "light"
          }
        }
      ]
    },
    {
      "cell_type": "code",
      "metadata": {
        "colab": {
          "base_uri": "https://localhost:8080/",
          "height": 422
        },
        "id": "u71p0rCAwXcy",
        "outputId": "aff73cce-31b2-44d8-dbc9-257f96fe2fbb"
      },
      "source": [
        "ax = plt.axes()\n",
        "ax.hist(x=socialeMediaVsPntZU.punten, bins=15, range=[0, 20], color='red')\n",
        "# we kunnen ook meerdere set commando's geven \n",
        "ax.set_xlabel('punten')\n",
        "ax.set_ylabel('frequentie')\n",
        "ax.set_title('puntenverdeling')\n",
        "plt.show()"
      ],
      "execution_count": null,
      "outputs": [
        {
          "output_type": "execute_result",
          "data": {
            "text/plain": [
              "(array([ 28.,  17.,  21.,  70.,  55.,  57., 161.,  75.,  79., 181.,  78.,\n",
              "         65.,  92.,  46.,  31.]),\n",
              " array([ 0.        ,  1.33333333,  2.66666667,  4.        ,  5.33333333,\n",
              "         6.66666667,  8.        ,  9.33333333, 10.66666667, 12.        ,\n",
              "        13.33333333, 14.66666667, 16.        , 17.33333333, 18.66666667,\n",
              "        20.        ]),\n",
              " <a list of 15 Patch objects>)"
            ]
          },
          "metadata": {
            "tags": []
          },
          "execution_count": 22
        },
        {
          "output_type": "execute_result",
          "data": {
            "text/plain": [
              "Text(0.5, 0, 'punten')"
            ]
          },
          "metadata": {
            "tags": []
          },
          "execution_count": 22
        },
        {
          "output_type": "execute_result",
          "data": {
            "text/plain": [
              "Text(0, 0.5, 'frequentie')"
            ]
          },
          "metadata": {
            "tags": []
          },
          "execution_count": 22
        },
        {
          "output_type": "execute_result",
          "data": {
            "text/plain": [
              "Text(0.5, 1.0, 'puntenverdeling')"
            ]
          },
          "metadata": {
            "tags": []
          },
          "execution_count": 22
        },
        {
          "output_type": "display_data",
          "data": {
            "image/png": "[encoded data removed]",
            "text/plain": [
              "<Figure size 432x288 with 1 Axes>"
            ]
          },
          "metadata": {
            "tags": [],
            "needs_background": "light"
          }
        }
      ]
    },
    {
      "cell_type": "markdown",
      "metadata": {
        "id": "kUqk4wwVguUp"
      },
      "source": [
        "3. wat is het gemiddeld aantal uren dat een student aan sociale media spendeert?"
      ]
    },
    {
      "cell_type": "code",
      "metadata": {
        "colab": {
          "base_uri": "https://localhost:8080/"
        },
        "id": "6enVARz2yiNy",
        "outputId": "fd07976c-35cc-4bdb-b756-e29c1274a077"
      },
      "source": [
        "socialeMediaVsPntZU.uren.mean()"
      ],
      "execution_count": null,
      "outputs": [
        {
          "output_type": "execute_result",
          "data": {
            "text/plain": [
              "1.264111531190925"
            ]
          },
          "metadata": {
            "tags": []
          },
          "execution_count": 7
        }
      ]
    },
    {
      "cell_type": "markdown",
      "metadata": {
        "id": "xAmpeQ3gzN0V"
      },
      "source": [
        "4. wat is de standaardafwijking van het aantal uren? Wat betekent dit?"
      ]
    },
    {
      "cell_type": "code",
      "metadata": {
        "colab": {
          "base_uri": "https://localhost:8080/"
        },
        "id": "SpYBYD2AzUCa",
        "outputId": "955ee3d1-6d42-493b-9871-bf85558412ab"
      },
      "source": [
        "socialeMediaVsPntZU.uren.std()"
      ],
      "execution_count": null,
      "outputs": [
        {
          "output_type": "execute_result",
          "data": {
            "text/plain": [
              "0.7578589912098026"
            ]
          },
          "metadata": {
            "tags": []
          },
          "execution_count": 8
        }
      ]
    },
    {
      "cell_type": "markdown",
      "metadata": {
        "id": "0ScWdO02zcut"
      },
      "source": [
        "Meer dan 97,5% van de studenten besteed minder dan 2,76 uur per dag aan sociale media.\n",
        "\n",
        "\n",
        " "
      ]
    },
    {
      "cell_type": "markdown",
      "metadata": {
        "id": "p48C0-kV2Vc4"
      },
      "source": [
        "5. wat is de gemiddelde score van de studenten?\n",
        "\n",
        "\n",
        "\n",
        "---\n",
        "\n"
      ]
    },
    {
      "cell_type": "code",
      "metadata": {
        "id": "0JJFAPNA1SvB",
        "colab": {
          "base_uri": "https://localhost:8080/"
        },
        "outputId": "5d115cf5-cd40-478d-b2ec-8ced03205d32"
      },
      "source": [
        "socialeMediaVsPntZU.punten.mean()  #gemiddelde"
      ],
      "execution_count": null,
      "outputs": [
        {
          "output_type": "execute_result",
          "data": {
            "text/plain": [
              "10.99054820415879"
            ]
          },
          "metadata": {
            "tags": []
          },
          "execution_count": 9
        }
      ]
    },
    {
      "cell_type": "markdown",
      "metadata": {
        "id": "o6nwe74Q19xp"
      },
      "source": []
    },
    {
      "cell_type": "markdown",
      "metadata": {
        "id": "c_PFyyhw1MmI"
      },
      "source": [
        "6. wat is de standaardafwijking van de score?\n",
        "\n",
        "\n",
        "---\n",
        "\n"
      ]
    },
    {
      "cell_type": "code",
      "metadata": {
        "colab": {
          "base_uri": "https://localhost:8080/"
        },
        "id": "qbD3cryd2l1H",
        "outputId": "77e950fd-09cb-43d5-bb12-e26f099816b5"
      },
      "source": [
        "socialeMediaVsPntZU.punten.std()  #standaardafwijking"
      ],
      "execution_count": null,
      "outputs": [
        {
          "output_type": "execute_result",
          "data": {
            "text/plain": [
              "6.080810697118652"
            ]
          },
          "metadata": {
            "tags": []
          },
          "execution_count": 10
        }
      ]
    },
    {
      "cell_type": "markdown",
      "metadata": {
        "id": "t7VaJ__82uEx"
      },
      "source": [
        "7. maak een scatterplot van de 2 variabelen. Welke correlatie verwacht je?\n"
      ]
    },
    {
      "cell_type": "code",
      "metadata": {
        "colab": {
          "base_uri": "https://localhost:8080/",
          "height": 368
        },
        "id": "j50ZB8GS2107",
        "outputId": "54f93dae-efef-4e8e-95e0-22771c9fb2f6"
      },
      "source": [
        "ax = plt.axes()\n",
        "ax.scatter(x=socialeMediaVsPntZU.uren, y=socialeMediaVsPntZU.punten)\n",
        "ax.set(title=\"Social media vs punten\", xlabel=\"Uren per dag op sociale media\", ylabel=\"Punten\",\n",
        "       ylim=(0, 20))  # anders is de y-schaal van 0 tot 100\n",
        "plt.show()"
      ],
      "execution_count": null,
      "outputs": [
        {
          "output_type": "execute_result",
          "data": {
            "text/plain": [
              "<matplotlib.collections.PathCollection at 0x7f0e418d7810>"
            ]
          },
          "metadata": {
            "tags": []
          },
          "execution_count": 11
        },
        {
          "output_type": "execute_result",
          "data": {
            "text/plain": [
              "[(0.0, 20.0),\n",
              " Text(0, 0.5, 'Punten'),\n",
              " Text(0.5, 0, 'Uren per dag op sociale media'),\n",
              " Text(0.5, 1.0, 'Social media vs punten')]"
            ]
          },
          "metadata": {
            "tags": []
          },
          "execution_count": 11
        },
        {
          "output_type": "display_data",
          "data": {
            "image/png": "[encoded data removed]",
            "text/plain": [
              "<Figure size 432x288 with 1 Axes>"
            ]
          },
          "metadata": {
            "tags": [],
            "needs_background": "light"
          }
        }
      ]
    },
    {
      "cell_type": "markdown",
      "metadata": {
        "id": "5EWXYUFb5cNp"
      },
      "source": [
        "Correlatie zou ongeveer nul zijn\n",
        "\n"
      ]
    },
    {
      "cell_type": "markdown",
      "metadata": {
        "id": "9q8i95FC66DC"
      },
      "source": [
        "8. bereken de correlatie tussen de 2 variabelen. Doe dit ook eens via de Z-scores (Pearson). Wat besluit je?"
      ]
    },
    {
      "cell_type": "code",
      "metadata": {
        "colab": {
          "base_uri": "https://localhost:8080/",
          "height": 112
        },
        "id": "tj5jWSmE63K5",
        "outputId": "71f09831-1c9a-4a6a-d6a8-a291c47a78f1"
      },
      "source": [
        "socialeMediaVsPntZU.corr(method='pearson')\n",
        "\n",
        "zscores_soc_ptn = pd.DataFrame(stats.zscore(socialeMediaVsPntZU))\n",
        "corZ = (zscores_soc_ptn[0] * zscores_soc_ptn[1]).mean()\n",
        "print(corZ)  # geeft hetzelfde uiteraard"
      ],
      "execution_count": null,
      "outputs": [
        {
          "output_type": "execute_result",
          "data": {
            "text/html": [
              "<div>\n",
              "<style scoped>\n",
              "    .dataframe tbody tr th:only-of-type {\n",
              "        vertical-align: middle;\n",
              "    }\n",
              "\n",
              "    .dataframe tbody tr th {\n",
              "        vertical-align: top;\n",
              "    }\n",
              "\n",
              "    .dataframe thead th {\n",
              "        text-align: right;\n",
              "    }\n",
              "</style>\n",
              "<table border=\"1\" class=\"dataframe\">\n",
              "  <thead>\n",
              "    <tr style=\"text-align: right;\">\n",
              "      <th></th>\n",
              "      <th>uren</th>\n",
              "      <th>punten</th>\n",
              "    </tr>\n",
              "  </thead>\n",
              "  <tbody>\n",
              "    <tr>\n",
              "      <th>uren</th>\n",
              "      <td>1.000000</td>\n",
              "      <td>-0.008996</td>\n",
              "    </tr>\n",
              "    <tr>\n",
              "      <th>punten</th>\n",
              "      <td>-0.008996</td>\n",
              "      <td>1.000000</td>\n",
              "    </tr>\n",
              "  </tbody>\n",
              "</table>\n",
              "</div>"
            ],
            "text/plain": [
              "            uren    punten\n",
              "uren    1.000000 -0.008996\n",
              "punten -0.008996  1.000000"
            ]
          },
          "metadata": {
            "tags": []
          },
          "execution_count": 14
        }
      ]
    },
    {
      "cell_type": "markdown",
      "metadata": {
        "id": "gziT7buj9f5j"
      },
      "source": [
        "De berekening via de Z-scores en via de corr methode is op afronding na gelijk t.t.z. bijna nul. dit is ook duidelijk uit de scatterplot"
      ]
    },
    {
      "cell_type": "markdown",
      "metadata": {
        "id": "4kc7CP4o9yqO"
      },
      "source": [
        "9. welke rangcorrelatie vind je volgens Kendall? Wat betekent deze waarde?"
      ]
    },
    {
      "cell_type": "code",
      "metadata": {
        "colab": {
          "base_uri": "https://localhost:8080/",
          "height": 112
        },
        "id": "Hgq115dv93tF",
        "outputId": "08c62484-5577-448f-93a9-71de10eceae5"
      },
      "source": [
        "socialeMediaVsPntZU.corr(method='kendall')"
      ],
      "execution_count": null,
      "outputs": [
        {
          "output_type": "execute_result",
          "data": {
            "text/html": [
              "<div>\n",
              "<style scoped>\n",
              "    .dataframe tbody tr th:only-of-type {\n",
              "        vertical-align: middle;\n",
              "    }\n",
              "\n",
              "    .dataframe tbody tr th {\n",
              "        vertical-align: top;\n",
              "    }\n",
              "\n",
              "    .dataframe thead th {\n",
              "        text-align: right;\n",
              "    }\n",
              "</style>\n",
              "<table border=\"1\" class=\"dataframe\">\n",
              "  <thead>\n",
              "    <tr style=\"text-align: right;\">\n",
              "      <th></th>\n",
              "      <th>uren</th>\n",
              "      <th>punten</th>\n",
              "    </tr>\n",
              "  </thead>\n",
              "  <tbody>\n",
              "    <tr>\n",
              "      <th>uren</th>\n",
              "      <td>1.000000</td>\n",
              "      <td>-0.006119</td>\n",
              "    </tr>\n",
              "    <tr>\n",
              "      <th>punten</th>\n",
              "      <td>-0.006119</td>\n",
              "      <td>1.000000</td>\n",
              "    </tr>\n",
              "  </tbody>\n",
              "</table>\n",
              "</div>"
            ],
            "text/plain": [
              "            uren    punten\n",
              "uren    1.000000 -0.006119\n",
              "punten -0.006119  1.000000"
            ]
          },
          "metadata": {
            "tags": []
          },
          "execution_count": 17
        }
      ]
    },
    {
      "cell_type": "markdown",
      "metadata": {
        "id": "hgCY1pSUMZku"
      },
      "source": [
        "10. heeft het zin om hier een regressielijn te bepalen? Waarom wel/niet? Bepaal de regressielijn als dit zin heeft"
      ]
    },
    {
      "cell_type": "code",
      "execution_count": null,
      "outputs": [],
      "source": [
        "# Omdat r en Kendall T bijna nul zijn heeft dit geen zin, Als er geen correlatie is dan is er geen lineair verband en uit de scatterplot zien we ook geen mogelijk ander verband.\n"
      ],
      "metadata": {
        "pycharm": {
          "name": "#%%\n"
        },
        "id": "zD6fFgnuJkCP"
      }
    }
  ]
}