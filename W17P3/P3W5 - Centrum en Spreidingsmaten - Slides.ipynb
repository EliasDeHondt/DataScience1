{
 "nbformat": 4,
 "nbformat_minor": 0,
 "metadata": {
  "kernelspec": {
   "display_name": "Python 3",
   "language": "python",
   "name": "python3"
  },
  "language_info": {
   "codemirror_mode": {
    "name": "ipython",
    "version": 3
   },
   "file_extension": ".py",
   "mimetype": "text/x-python",
   "name": "python",
   "nbconvert_exporter": "python",
   "pygments_lexer": "ipython3",
   "version": "3.8.7"
  },
  "toc": {
   "base_numbering": 1,
   "nav_menu": {},
   "number_sections": true,
   "sideBar": true,
   "skip_h1_title": false,
   "title_cell": "Table of Contents",
   "title_sidebar": "Contents",
   "toc_cell": false,
   "toc_position": {},
   "toc_section_display": true,
   "toc_window_display": true
  },
  "varInspector": {
   "cols": {
    "lenName": 16,
    "lenType": 16,
    "lenVar": 40
   },
   "kernels_config": {
    "python": {
     "delete_cmd_postfix": "",
     "delete_cmd_prefix": "del ",
     "library": "var_list.py",
     "varRefreshCmd": "print(var_dic_list())"
    },
    "r": {
     "delete_cmd_postfix": ") ",
     "delete_cmd_prefix": "rm(",
     "library": "var_list.r",
     "varRefreshCmd": "cat(var_dic_list()) "
    }
   },
   "types_to_exclude": [
    "module",
    "function",
    "builtin_function_or_method",
    "instance",
    "_Feature"
   ],
   "window_display": false
  },
  "colab": {
   "name": "P3W5 - Centrum en Spreidingsmaten - Slides.ipynb",
   "provenance": [],
   "collapsed_sections": [
    "sOYqJ7SN2cfy"
   ],
   "toc_visible": true
  }
 },
 "cells": [
  {
   "cell_type": "markdown",
   "metadata": {
    "id": "Sg6my1JV6CW6"
   },
   "source": [
    "# Setup"
   ]
  },
  {
   "cell_type": "code",
   "metadata": {
    "colab": {
     "base_uri": "https://localhost:8080/"
    },
    "id": "os1WmiPW2cfj",
    "executionInfo": {
     "status": "ok",
     "timestamp": 1615902849858,
     "user_tz": -60,
     "elapsed": 28329,
     "user": {
      "displayName": "Roeland De Meester",
      "photoUrl": "https://lh3.googleusercontent.com/a-/AOh14GgHFLlRcHRUHl0ul5JvDMiUd09ps_mERs2jpo2D=s64",
      "userId": "00580425314421673417"
     }
    },
    "outputId": "a627a55a-dc8b-4740-d7a7-d2af9f80b62c"
   },
   "source": [
    "from IPython import InteractiveShell\n",
    "import matplotlib.pyplot as plt\n",
    "import numpy as np\n",
    "import pandas as pd\n",
    "\n",
    "# zorg dat alle output getoond wordt\n",
    "InteractiveShell.ast_node_interactivity = \"all\""
   ],
   "execution_count": 1,
   "outputs": []
  },
  {
   "cell_type": "markdown",
   "metadata": {
    "collapsed": false,
    "id": "Z4nuX8rf2cfp"
   },
   "source": [
    "# Centrummaten\n",
    "\n",
    "## Voorbereiding"
   ]
  },
  {
   "cell_type": "code",
   "metadata": {
    "colab": {
     "base_uri": "https://localhost:8080/",
     "height": 419
    },
    "id": "i3PAWvFU2cfp",
    "executionInfo": {
     "status": "ok",
     "timestamp": 1615902856433,
     "user_tz": -60,
     "elapsed": 4683,
     "user": {
      "displayName": "Roeland De Meester",
      "photoUrl": "https://lh3.googleusercontent.com/a-/AOh14GgHFLlRcHRUHl0ul5JvDMiUd09ps_mERs2jpo2D=s64",
      "userId": "00580425314421673417"
     }
    },
    "outputId": "74b14acb-50c5-43ec-8185-735304a913f3"
   },
   "source": [
    "# Zoek en download de file 'laptops.csv' en plaats deze ergens in je pycharm/colab project\n",
    "# lees de data in\n",
    "laptops = pd.read_csv('data/laptops.csv', sep=';', decimal=',')\n",
    "\n",
    "# pas de levels aan van de gegevens op ordinale meetschaal\n",
    "laptops.cpuGeneration = pd.Categorical(laptops.cpuGeneration, ordered=True,\n",
    "                                       categories=['Sandy Bridge', 'Ivy Bridge', 'Haswell', 'Broadwell', 'Skylake', 'Kabylake'])\n",
    "laptops.cpuType = pd.Categorical(laptops.cpuType, ordered=True, categories=['i3', 'i5', 'i7'])\n",
    "\n",
    "# nominaal meetniveau\n",
    "laptops.brand = pd.Categorical(laptops.brand)\n",
    "\n",
    "print(laptops.head())"
   ],
   "execution_count": 2,
   "outputs": [
    {
     "name": "stdout",
     "output_type": "stream",
     "text": [
      "  cpuGeneration cpuType   RAM  diskspace    brand\n",
      "0      Kabylake      i7   4.0      232.5  Toshiba\n",
      "1      Kabylake      i5   2.0      992.5     Acer\n",
      "2       Haswell      i7  16.0      495.6     Dell\n",
      "3       Skylake      i7   4.0      217.2  Toshiba\n",
      "4     Broadwell      i5   4.0      245.8     Acer\n"
     ]
    }
   ]
  },
  {
   "cell_type": "markdown",
   "metadata": {
    "collapsed": false,
    "id": "5eQiJSi12cfq"
   },
   "source": [
    "## De modus berekenen"
   ]
  },
  {
   "cell_type": "code",
   "metadata": {
    "colab": {
     "base_uri": "https://localhost:8080/"
    },
    "id": "6GjNKCo72cfq",
    "executionInfo": {
     "status": "ok",
     "timestamp": 1615823551998,
     "user_tz": -60,
     "elapsed": 432,
     "user": {
      "displayName": "Roeland De Meester",
      "photoUrl": "https://lh3.googleusercontent.com/a-/AOh14GgHFLlRcHRUHl0ul5JvDMiUd09ps_mERs2jpo2D=s64",
      "userId": "00580425314421673417"
     }
    },
    "outputId": "3d8848b4-c7ba-4d5f-d3f3-9673529a9776"
   },
   "source": [
    "# welke waarde komt het meest voor - gebruik de mode() functie\n",
    "\n",
    "print(f'Modus = {laptops.cpuGeneration.mode()[0]}')\n",
    "\n",
    "# check: value_counts toon het aantal per category\n",
    "print(laptops.cpuGeneration.value_counts().to_frame()) # .to_frame() (kolom)\n",
    "\n",
    "# een ander voorbeeld\n",
    "print(f'Modus = {laptops.cpuType.mode()[0]}')\n",
    "print(laptops.cpuType.value_counts())"
   ],
   "execution_count": 34,
   "outputs": [
    {
     "name": "stdout",
     "output_type": "stream",
     "text": [
      "              cpuGeneration\n",
      "Broadwell               218\n",
      "Haswell                 166\n",
      "Skylake                 155\n",
      "Kabylake                143\n",
      "Ivy Bridge              107\n",
      "Sandy Bridge             63\n"
     ]
    }
   ]
  },
  {
   "cell_type": "markdown",
   "metadata": {
    "collapsed": false,
    "id": "18qxzmfl2cfq"
   },
   "source": [
    "## De mediaan berekenen"
   ]
  },
  {
   "cell_type": "code",
   "metadata": {
    "colab": {
     "base_uri": "https://localhost:8080/",
     "height": 438
    },
    "id": "k0kbe3B22cfr",
    "executionInfo": {
     "status": "error",
     "timestamp": 1615823736481,
     "user_tz": -60,
     "elapsed": 387,
     "user": {
      "displayName": "Roeland De Meester",
      "photoUrl": "https://lh3.googleusercontent.com/a-/AOh14GgHFLlRcHRUHl0ul5JvDMiUd09ps_mERs2jpo2D=s64",
      "userId": "00580425314421673417"
     }
    },
    "outputId": "9a2b105c-f302-492e-a9f9-c62b538772f8"
   },
   "source": [
    "# gebruik de median() functie\n",
    "print(laptops.RAM.median())\n",
    "print(laptops.diskspace.median())\n",
    "\n",
    "# median werkt niet op categorical data\n",
    "# print(laptops.cpuGeneration.median())\n",
    "\n",
    "# Dit moet volgende  error geven : \n",
    "# TypeError: Categorical cannot perform the operation median\n",
    "\n",
    "# werkt wel met de quantile() functie (zie verder)\n",
    "print(laptops.cpuGeneration.quantile(0.5)) # .median() voor Categorical = .quantile(0.5)"
   ],
   "execution_count": 4,
   "outputs": [
    {
     "name": "stdout",
     "output_type": "stream",
     "text": [
      "4.0\n",
      "249.8\n",
      "Broadwell\n"
     ]
    }
   ]
  },
  {
   "cell_type": "markdown",
   "metadata": {
    "collapsed": false,
    "id": "IGpQ2ht62cfr"
   },
   "source": [
    "## Zelf median berekenen voor categorical data"
   ]
  },
  {
   "cell_type": "code",
   "metadata": {
    "colab": {
     "base_uri": "https://localhost:8080/"
    },
    "id": "6mh5qsJ-2cfr",
    "executionInfo": {
     "status": "ok",
     "timestamp": 1615308861774,
     "user_tz": -60,
     "elapsed": 543,
     "user": {
      "displayName": "Roeland De Meester",
      "photoUrl": "https://lh3.googleusercontent.com/a-/AOh14GgHFLlRcHRUHl0ul5JvDMiUd09ps_mERs2jpo2D=s64",
      "userId": "00580425314421673417"
     }
    },
    "outputId": "8c369a70-f396-4e81-e43a-33099f1fa466"
   },
   "source": [
    "# print(laptops.cpuGeneration.median())\n",
    "def median_categorical(data):\n",
    "    import math\n",
    "    d = data.dropna()\n",
    "    n = len(d)\n",
    "    middle = math.floor(n / 2)\n",
    "    return d.sort_values().reset_index(drop=True)[middle]\n",
    "\n",
    "\n",
    "# check of het werkt voor\n",
    "print(median_categorical(laptops.RAM))\n",
    "print(median_categorical(laptops.cpuGeneration))\n",
    "print(median_categorical(laptops.cpuType))"
   ],
   "execution_count": 5,
   "outputs": [
    {
     "name": "stdout",
     "output_type": "stream",
     "text": [
      "4.0\n",
      "Broadwell\n",
      "i5\n"
     ]
    }
   ]
  },
  {
   "cell_type": "markdown",
   "metadata": {
    "collapsed": false,
    "id": "Vi7ut4_82cfs"
   },
   "source": [
    "## Het gemiddelde berekenen"
   ]
  },
  {
   "cell_type": "code",
   "metadata": {
    "colab": {
     "base_uri": "https://localhost:8080/",
     "height": 408
    },
    "id": "x8LZgbQB2cfs",
    "executionInfo": {
     "status": "error",
     "timestamp": 1615308414238,
     "user_tz": -60,
     "elapsed": 541,
     "user": {
      "displayName": "Roeland De Meester",
      "photoUrl": "https://lh3.googleusercontent.com/a-/AOh14GgHFLlRcHRUHl0ul5JvDMiUd09ps_mERs2jpo2D=s64",
      "userId": "00580425314421673417"
     }
    },
    "outputId": "4c23fcc8-42e7-46f6-bb8c-e784aed9ea38"
   },
   "source": [
    "# gebruik de mean() functie\n",
    "print(f'Gemiddelde = {laptops.RAM.mean():.2f}')\n",
    "print(f'Gemiddelde = {laptops.diskspace.mean():.2f}')\n",
    "\n",
    "# MEAN werkt niet op categorical data\n",
    "# print(f'Gemiddelde = {laptops.cpuGeneration.mean():.2f}')\n",
    "# geen work-around mogelijk deze keer\n",
    "\n",
    "# Dit moet volgende  error geven :\n",
    "# TypeError: Categorical cannot perform the operation median"
   ],
   "execution_count": 6,
   "outputs": [
    {
     "name": "stdout",
     "output_type": "stream",
     "text": [
      "Gemiddelde = 6.13\n",
      "Gemiddelde = 356.76\n"
     ]
    }
   ]
  },
  {
   "cell_type": "code",
   "execution_count": 7,
   "outputs": [
    {
     "name": "stdout",
     "output_type": "stream",
     "text": [
      "6.130994152046783\n"
     ]
    }
   ],
   "source": [
    "abs_freq = laptops.RAM.value_counts()\n",
    "print(pd.Series(np.repeat(abs_freq.index, abs_freq)).mean())"
   ],
   "metadata": {
    "collapsed": false
   }
  },
  {
   "cell_type": "markdown",
   "metadata": {
    "collapsed": false,
    "id": "Z6BORu0q2cfs"
   },
   "source": [
    "## De mediaan berekenen bij gegeven frequenties"
   ]
  },
  {
   "cell_type": "code",
   "metadata": {
    "colab": {
     "base_uri": "https://localhost:8080/"
    },
    "id": "o1Wqck8j2cfs",
    "executionInfo": {
     "status": "ok",
     "timestamp": 1615824144734,
     "user_tz": -60,
     "elapsed": 389,
     "user": {
      "displayName": "Roeland De Meester",
      "photoUrl": "https://lh3.googleusercontent.com/a-/AOh14GgHFLlRcHRUHl0ul5JvDMiUd09ps_mERs2jpo2D=s64",
      "userId": "00580425314421673417"
     }
    },
    "outputId": "d9c194fd-3e6a-4daf-b55b-0ee8e7a61c35"
   },
   "source": [
    "from IPython.core.display import Markdown\n",
    "\n",
    "\n",
    "\n",
    "\n",
    "# value_counts(normalize=True) geeft relatieve frequentie per category\n",
    "# rel_freq = laptops.cpuGeneration.value_counts(normalize=True).sort_index()\n",
    "# print(rel_freq.to_frame())\n",
    "#\n",
    "# # omzetten naar cumulatieve frequenties per category\n",
    "# cum_freq = rel_freq.cumsum() * 100\n",
    "# print(cum_freq.to_frame())\n",
    "#\n",
    "# Markdown('### Enkel cumulatieve freq > 50')\n",
    "# print(cum_freq[cum_freq > 50].to_frame())\n",
    "#\n",
    "# Markdown('### Median is eerste die cum freq > 50 heeft')\n",
    "# print(cum_freq[cum_freq > 50].index[0])\n",
    "# print(cum_freq[cum_freq > 50][0])"
   ],
   "execution_count": 36,
   "outputs": [
    {
     "name": "stdout",
     "output_type": "stream",
     "text": [
      "Het meetniveau van de serie kan niet worden bepaald\n"
     ]
    }
   ]
  },
  {
   "cell_type": "markdown",
   "metadata": {
    "collapsed": false,
    "id": "xx7JNOeG2cft"
   },
   "source": [
    "## Het gewogen gemiddelde berekenen"
   ]
  },
  {
   "cell_type": "code",
   "metadata": {
    "colab": {
     "base_uri": "https://localhost:8080/"
    },
    "id": "lEJ601mk2cft",
    "executionInfo": {
     "status": "ok",
     "timestamp": 1615824431612,
     "user_tz": -60,
     "elapsed": 425,
     "user": {
      "displayName": "Roeland De Meester",
      "photoUrl": "https://lh3.googleusercontent.com/a-/AOh14GgHFLlRcHRUHl0ul5JvDMiUd09ps_mERs2jpo2D=s64",
      "userId": "00580425314421673417"
     }
    },
    "outputId": "1c68f1c8-dabd-44f3-be36-880a6fe0f1ac"
   },
   "source": [
    "studiepunten = pd.Series([6, 11, 5, 3, 3, 7, 4, 7, 7, 3, 4])\n",
    "scores = pd.Series([18, 15, 12, 10, 18, 13, 17, 15, 13, 12, 12])\n",
    "gewogen = sum(studiepunten * scores) / sum(studiepunten)\n",
    "print(gewogen)"
   ],
   "execution_count": 9,
   "outputs": [
    {
     "name": "stdout",
     "output_type": "stream",
     "text": [
      "14.266666666666667\n"
     ]
    }
   ]
  },
  {
   "cell_type": "code",
   "execution_count": 10,
   "outputs": [
    {
     "name": "stdout",
     "output_type": "stream",
     "text": [
      "14.266666666666667\n"
     ]
    }
   ],
   "source": [
    "f = studiepunten / sum(studiepunten)\n",
    "\n",
    "print(sum(f * scores))"
   ],
   "metadata": {
    "collapsed": false
   }
  },
  {
   "cell_type": "markdown",
   "source": [
    "Kan ook met de numpy functie `average`. Deze functie heeft een parameter `weights` waar je de gewichten kan meegeven."
   ],
   "metadata": {
    "collapsed": false
   }
  },
  {
   "cell_type": "code",
   "execution_count": 11,
   "outputs": [
    {
     "name": "stdout",
     "output_type": "stream",
     "text": [
      "14.266666666666667\n"
     ]
    }
   ],
   "source": [
    "print(np.average(scores, weights=studiepunten))"
   ],
   "metadata": {
    "collapsed": false
   }
  },
  {
   "cell_type": "markdown",
   "metadata": {
    "collapsed": false,
    "id": "14Ay1HZS2cft"
   },
   "source": [
    "## Het meetkundig gemiddelde berekenen\n"
   ]
  },
  {
   "cell_type": "code",
   "metadata": {
    "colab": {
     "base_uri": "https://localhost:8080/"
    },
    "id": "WHGxlqBH2cfu",
    "executionInfo": {
     "status": "ok",
     "timestamp": 1615308493097,
     "user_tz": -60,
     "elapsed": 500,
     "user": {
      "displayName": "Roeland De Meester",
      "photoUrl": "https://lh3.googleusercontent.com/a-/AOh14GgHFLlRcHRUHl0ul5JvDMiUd09ps_mERs2jpo2D=s64",
      "userId": "00580425314421673417"
     }
    },
    "outputId": "448e4adb-42c4-47c2-ded0-06a258ee38cb"
   },
   "source": [
    "from scipy.stats import gmean\n",
    "\n",
    "koers = pd.Series([5, 3, -2])\n",
    "koers = koers / 100 + 1\n",
    "Markdown('Berekende meetkundig gemiddelde voor koers')\n",
    "print((np.exp(np.mean(np.log(koers))) - 1) * 100)\n",
    "\n",
    "Markdown('Gebruik \\' gmean \\'  als meetkundig gemiddelde voor koers')\n",
    "print((gmean(koers) - 1) * 100)\n",
    "# ter info : GMean staat voor 'Geometric Mean'\n",
    "\n",
    "# alternatieve berekeningswijze\n",
    "Markdown('Nog een alternatieve berekeningswijze')\n",
    "print((np.prod(koers) ** (1 / len(koers)) - 1) * 100)"
   ],
   "execution_count": 12,
   "outputs": [
    {
     "data": {
      "text/plain": "<IPython.core.display.Markdown object>",
      "text/markdown": "Berekende meetkundig gemiddelde voor koers"
     },
     "execution_count": 12,
     "metadata": {},
     "output_type": "execute_result"
    },
    {
     "name": "stdout",
     "output_type": "stream",
     "text": [
      "1.9571138432914026\n"
     ]
    },
    {
     "data": {
      "text/plain": "<IPython.core.display.Markdown object>",
      "text/markdown": "Gebruik ' gmean '  als meetkundig gemiddelde voor koers"
     },
     "execution_count": 12,
     "metadata": {},
     "output_type": "execute_result"
    },
    {
     "name": "stdout",
     "output_type": "stream",
     "text": [
      "1.9571138432914026\n"
     ]
    },
    {
     "data": {
      "text/plain": "<IPython.core.display.Markdown object>",
      "text/markdown": "Nog een alternatieve berekeningswijze"
     },
     "execution_count": 12,
     "metadata": {},
     "output_type": "execute_result"
    },
    {
     "name": "stdout",
     "output_type": "stream",
     "text": [
      "1.9571138432914026\n"
     ]
    }
   ]
  },
  {
   "cell_type": "markdown",
   "metadata": {
    "collapsed": false,
    "id": "pLQ4vTza2cfu"
   },
   "source": [
    "## Het harmonisch gemiddelde berekenen"
   ]
  },
  {
   "cell_type": "code",
   "metadata": {
    "colab": {
     "base_uri": "https://localhost:8080/"
    },
    "id": "R8ShJZB92cfu",
    "executionInfo": {
     "status": "ok",
     "timestamp": 1615308499739,
     "user_tz": -60,
     "elapsed": 409,
     "user": {
      "displayName": "Roeland De Meester",
      "photoUrl": "https://lh3.googleusercontent.com/a-/AOh14GgHFLlRcHRUHl0ul5JvDMiUd09ps_mERs2jpo2D=s64",
      "userId": "00580425314421673417"
     }
    },
    "outputId": "d6558e8c-6434-4a18-97b4-47bd893f5387"
   },
   "source": [
    "snelheid = pd.Series([120, 100])\n",
    "Markdown('Berekende harmonisch gemiddelde voor snelheid')\n",
    "print(1 / np.mean(1 / snelheid))\n",
    "from scipy import stats\n",
    "\n",
    "Markdown('Gebruik \\'hmean\\'  als harmonisch gemiddelde voor snelheid')\n",
    "print(stats.hmean(snelheid))\n",
    "# ter info : HMean staat voor 'Harmonic Mean'"
   ],
   "execution_count": 13,
   "outputs": [
    {
     "data": {
      "text/plain": "<IPython.core.display.Markdown object>",
      "text/markdown": "Berekende harmonisch gemiddelde voor snelheid"
     },
     "execution_count": 13,
     "metadata": {},
     "output_type": "execute_result"
    },
    {
     "name": "stdout",
     "output_type": "stream",
     "text": [
      "109.0909090909091\n"
     ]
    },
    {
     "data": {
      "text/plain": "<IPython.core.display.Markdown object>",
      "text/markdown": "Gebruik 'hmean'  als harmonisch gemiddelde voor snelheid"
     },
     "execution_count": 13,
     "metadata": {},
     "output_type": "execute_result"
    },
    {
     "name": "stdout",
     "output_type": "stream",
     "text": [
      "109.0909090909091\n"
     ]
    }
   ]
  },
  {
   "cell_type": "markdown",
   "metadata": {
    "collapsed": false,
    "id": "Uo10fCF-2cfu"
   },
   "source": [
    "# Spreidingsmaten\n",
    "\n",
    "## Kwantielen berekenen"
   ]
  },
  {
   "cell_type": "code",
   "metadata": {
    "colab": {
     "base_uri": "https://localhost:8080/"
    },
    "id": "Mtt_DHSi2cfv",
    "executionInfo": {
     "status": "ok",
     "timestamp": 1615308521191,
     "user_tz": -60,
     "elapsed": 527,
     "user": {
      "displayName": "Roeland De Meester",
      "photoUrl": "https://lh3.googleusercontent.com/a-/AOh14GgHFLlRcHRUHl0ul5JvDMiUd09ps_mERs2jpo2D=s64",
      "userId": "00580425314421673417"
     }
    },
    "outputId": "1366fdfd-2719-41d9-b1f3-d86b151a6285"
   },
   "source": [
    "# We zijn alleen geïnteresseerd in HD's kleiner dan 100 GB\n",
    "laptops_small = laptops[laptops.diskspace < 100]\n",
    "\n",
    "# Gebruik voor kwartielen, decielen en percentielen de functie quantile\n",
    "Markdown('Bereken kwantiel voor laptops diskspaces')\n",
    "laptops_small.diskspace.quantile(q=[0.25, 0.5, 0.75])\n",
    "\n",
    "# Gebruik voor de interkwartielafstand de functie IQR:\n",
    "Markdown('Bereken interkwartielafstand voor laptops')\n",
    "stats.iqr(laptops_small.diskspace.dropna())"
   ],
   "execution_count": 14,
   "outputs": [
    {
     "data": {
      "text/plain": "<IPython.core.display.Markdown object>",
      "text/markdown": "Bereken kwantiel voor laptops diskspaces"
     },
     "execution_count": 14,
     "metadata": {},
     "output_type": "execute_result"
    },
    {
     "data": {
      "text/plain": "0.25    90.4\n0.50    93.8\n0.75    96.5\nName: diskspace, dtype: float64"
     },
     "execution_count": 14,
     "metadata": {},
     "output_type": "execute_result"
    },
    {
     "data": {
      "text/plain": "<IPython.core.display.Markdown object>",
      "text/markdown": "Bereken interkwartielafstand voor laptops"
     },
     "execution_count": 14,
     "metadata": {},
     "output_type": "execute_result"
    },
    {
     "data": {
      "text/plain": "6.099999999999994"
     },
     "execution_count": 14,
     "metadata": {},
     "output_type": "execute_result"
    }
   ]
  },
  {
   "cell_type": "code",
   "execution_count": 15,
   "outputs": [
    {
     "data": {
      "text/plain": "     cpuGeneration cpuType   RAM  diskspace    brand\n0.25       Haswell      i5   4.0     227.80     Asus\n0.50     Broadwell      i5   4.0     249.80       HP\n0.75       Skylake      i5   8.0     489.85   Lenovo\n1.00      Kabylake      i7  16.0    1023.80  Toshiba",
      "text/html": "<div>\n<style scoped>\n    .dataframe tbody tr th:only-of-type {\n        vertical-align: middle;\n    }\n\n    .dataframe tbody tr th {\n        vertical-align: top;\n    }\n\n    .dataframe thead th {\n        text-align: right;\n    }\n</style>\n<table border=\"1\" class=\"dataframe\">\n  <thead>\n    <tr style=\"text-align: right;\">\n      <th></th>\n      <th>cpuGeneration</th>\n      <th>cpuType</th>\n      <th>RAM</th>\n      <th>diskspace</th>\n      <th>brand</th>\n    </tr>\n  </thead>\n  <tbody>\n    <tr>\n      <th>0.25</th>\n      <td>Haswell</td>\n      <td>i5</td>\n      <td>4.0</td>\n      <td>227.80</td>\n      <td>Asus</td>\n    </tr>\n    <tr>\n      <th>0.50</th>\n      <td>Broadwell</td>\n      <td>i5</td>\n      <td>4.0</td>\n      <td>249.80</td>\n      <td>HP</td>\n    </tr>\n    <tr>\n      <th>0.75</th>\n      <td>Skylake</td>\n      <td>i5</td>\n      <td>8.0</td>\n      <td>489.85</td>\n      <td>Lenovo</td>\n    </tr>\n    <tr>\n      <th>1.00</th>\n      <td>Kabylake</td>\n      <td>i7</td>\n      <td>16.0</td>\n      <td>1023.80</td>\n      <td>Toshiba</td>\n    </tr>\n  </tbody>\n</table>\n</div>"
     },
     "execution_count": 15,
     "metadata": {},
     "output_type": "execute_result"
    }
   ],
   "source": [
    "laptops.quantile(q=np.repeat(1 / 4, 4).cumsum(), numeric_only=False)"
   ],
   "metadata": {
    "collapsed": false
   }
  },
  {
   "cell_type": "markdown",
   "metadata": {
    "collapsed": false,
    "id": "1nifNP-w2cfv"
   },
   "source": [
    "## Boxplot\n",
    "Aangezien de dataset van de harde schijven bevat rond 4 soorten HD's.\n",
    "(1T, 500Mb, 250Mb en 100Mb) dat zie je goed in de scatterplot hieronder."
   ]
  },
  {
   "cell_type": "code",
   "metadata": {
    "colab": {
     "base_uri": "https://localhost:8080/",
     "height": 1000
    },
    "id": "ZvAX4b9W2cfw",
    "executionInfo": {
     "status": "ok",
     "timestamp": 1615826204991,
     "user_tz": -60,
     "elapsed": 1016,
     "user": {
      "displayName": "Roeland De Meester",
      "photoUrl": "https://lh3.googleusercontent.com/a-/AOh14GgHFLlRcHRUHl0ul5JvDMiUd09ps_mERs2jpo2D=s64",
      "userId": "00580425314421673417"
     }
    },
    "outputId": "01098ce3-bef1-45d7-9068-adeeafe1e7b5"
   },
   "source": [
    "fig, ax = plt.subplots()\n",
    "_ = plt.scatter(x=laptops.index, y=laptops.diskspace, facecolors='none', edgecolors='b')"
   ],
   "execution_count": 16,
   "outputs": [
    {
     "data": {
      "text/plain": "<Figure size 640x480 with 1 Axes>",
      "image/png": "[encoded data removed]"
     },
     "metadata": {},
     "output_type": "display_data"
    }
   ]
  },
  {
   "cell_type": "markdown",
   "source": [
    "We gaan dus alleen kijken naar HD's die kleiner zijn dan 100 GB zodat we slechts 1 median, 1 mean en 1 modus hebben om ons zorgen over te maken.\n",
    "\n",
    "Om de demonstratie wat relevanter te maken worden er ook eerst enkele uitschieters toegevoegd."
   ],
   "metadata": {
    "collapsed": false
   }
  },
  {
   "cell_type": "code",
   "execution_count": 17,
   "outputs": [],
   "source": [
    "laptops_small = laptops[laptops.diskspace < 100]\n",
    "# We voegen zelf een paar outliers toe\n",
    "laptops_small.at[8, 'diskspace'] = 110\n",
    "laptops_small.at[22, 'diskspace'] = 135\n",
    "laptops_small.at[124, 'diskspace'] = 30\n",
    "laptops_small.at[447, 'diskspace'] = 75"
   ],
   "metadata": {
    "collapsed": false
   }
  },
  {
   "cell_type": "markdown",
   "source": [
    "## Boxplot"
   ],
   "metadata": {
    "collapsed": false
   }
  },
  {
   "cell_type": "code",
   "execution_count": 18,
   "outputs": [
    {
     "name": "stdout",
     "output_type": "stream",
     "text": [
      "    cpuGeneration cpuType   RAM  diskspace    brand\n",
      "8         Skylake      i5   8.0      110.0   Medion\n",
      "22       Kabylake      i5   4.0      135.0  Toshiba\n",
      "26        Haswell      i5   4.0       96.1       HP\n",
      "60      Broadwell      i5  16.0       88.9       HP\n",
      "73      Broadwell      i5   4.0       95.5     Dell\n",
      "120       Haswell      i7   4.0       98.3  Toshiba\n",
      "121       Haswell      i7   4.0       90.4     Acer\n",
      "124     Broadwell      i3   2.0       30.0    Apple\n",
      "142       Haswell      i5   1.0       94.5     Acer\n",
      "205       Haswell      i3   4.0       93.9       HP\n",
      "212       Haswell      i5   2.0       96.5       HP\n",
      "227    Ivy Bridge      i5   4.0       95.6   Lenovo\n",
      "231    Ivy Bridge      i5   2.0       88.3     Dell\n",
      "244      Kabylake      i5   1.0       99.1   Lenovo\n",
      "304     Broadwell      i5   4.0       89.0     Dell\n",
      "364       Haswell      i5   2.0       90.7    Apple\n",
      "391      Kabylake      i5   2.0       89.1     Dell\n",
      "396     Broadwell      i5   4.0       90.7     Acer\n",
      "443     Broadwell      i5   1.0       93.8  Toshiba\n",
      "447      Kabylake      i5   8.0       75.0     Dell\n",
      "468    Ivy Bridge      i7  16.0       95.2    Apple\n",
      "502     Broadwell      i5   4.0       92.3  Toshiba\n",
      "527       Haswell      i5   1.0       99.0    Apple\n",
      "532       Haswell      i5   2.0       89.8     Asus\n",
      "562  Sandy Bridge      i5   2.0       90.9  Toshiba\n",
      "592      Kabylake      i5   2.0       89.1     Acer\n",
      "632      Kabylake      i3   8.0       97.9     Dell\n",
      "735     Broadwell      i3   4.0       90.2  Toshiba\n",
      "816  Sandy Bridge      i3   2.0       92.4   Lenovo\n"
     ]
    },
    {
     "data": {
      "text/plain": "<Figure size 640x480 with 1 Axes>",
      "image/png": "[encoded data removed]"
     },
     "metadata": {},
     "output_type": "display_data"
    }
   ],
   "source": [
    "fig, ax = plt.subplots()\n",
    "print(laptops_small)\n",
    "_ = laptops_small.boxplot(ax=ax, column=['diskspace'])\n",
    "_ = ax.set_title('Schrijfruimte in laptops')\n",
    "_ = ax.set_ylabel('Schrijfruimte (GB)')"
   ],
   "metadata": {
    "collapsed": false
   }
  },
  {
   "cell_type": "markdown",
   "source": [
    "Je kan ook meerdere kolommen plotten.\n",
    "\n",
    "<font color='red'>*Volgende grafiek is informatief.*</font>"
   ],
   "metadata": {
    "collapsed": false
   }
  },
  {
   "cell_type": "code",
   "execution_count": 19,
   "outputs": [
    {
     "data": {
      "text/plain": "<Figure size 1000x700 with 1 Axes>",
      "image/png": "[encoded data removed]"
     },
     "metadata": {},
     "output_type": "display_data"
    }
   ],
   "source": [
    "fig, ax = plt.subplots(figsize=(10, 7))\n",
    "_ = laptops_small.boxplot(ax=ax, by='RAM', column=['diskspace'])\n",
    "_ = ax.set_title('Schrijfruimte in laptops per RAM')\n",
    "_ = ax.set_ylabel('Schrijfruimte (GB)')\n",
    "_ = fig.suptitle('')"
   ],
   "metadata": {
    "collapsed": false
   }
  },
  {
   "cell_type": "markdown",
   "metadata": {
    "collapsed": false,
    "id": "-npqwsOa2cfw"
   },
   "source": [
    "## IQR gebruiken om outliers te vinden"
   ]
  },
  {
   "cell_type": "code",
   "metadata": {
    "id": "gsMkpv2a2cfw",
    "colab": {
     "base_uri": "https://localhost:8080/"
    },
    "executionInfo": {
     "status": "ok",
     "timestamp": 1615309439810,
     "user_tz": -60,
     "elapsed": 555,
     "user": {
      "displayName": "Roeland De Meester",
      "photoUrl": "https://lh3.googleusercontent.com/a-/AOh14GgHFLlRcHRUHl0ul5JvDMiUd09ps_mERs2jpo2D=s64",
      "userId": "00580425314421673417"
     }
    },
    "outputId": "aa1a3ae0-4a16-4df2-b1eb-3a8389b57b0a"
   },
   "source": [
    "Q1 = laptops_small.diskspace.quantile(0.25)\n",
    "Q3 = laptops_small.diskspace.quantile(0.75)\n",
    "IQR = Q3 - Q1\n",
    "print('IQR : ', IQR)\n",
    "\n",
    "# We gebruiken hier ~  als NOT operator.\n",
    "# m.a.w.. de outliers zijn alle gegevens die NIET tussen de 2 extreme waarden liggen\n",
    "\n",
    "outliers = laptops_small.diskspace[~laptops_small.diskspace.between(Q1 - 1.5 * IQR, Q3 + 1.5 * IQR)]\n",
    "extreme_outliers = laptops_small.diskspace[~laptops_small.diskspace.between(Q1 - 3 * IQR, Q3 + 3 * IQR)]\n",
    "\n",
    "print('\\noutliers:')\n",
    "print(outliers)\n",
    "print('\\nextreme outliers:')\n",
    "print(extreme_outliers)"
   ],
   "execution_count": 20,
   "outputs": [
    {
     "name": "stdout",
     "output_type": "stream",
     "text": [
      "IQR :  6.299999999999997\n",
      "\n",
      "outliers:\n",
      "8      110.0\n",
      "22     135.0\n",
      "124     30.0\n",
      "447     75.0\n",
      "Name: diskspace, dtype: float64\n",
      "\n",
      "extreme outliers:\n",
      "22     135.0\n",
      "124     30.0\n",
      "Name: diskspace, dtype: float64\n"
     ]
    }
   ]
  },
  {
   "cell_type": "code",
   "execution_count": 21,
   "outputs": [
    {
     "name": "stdout",
     "output_type": "stream",
     "text": [
      "    cpuGeneration cpuType   RAM  diskspace    brand\n",
      "1        Kabylake      i5   2.0      992.5     Acer\n",
      "51        Haswell      i5  16.0     1018.5  Toshiba\n",
      "89        Haswell      i3  16.0      997.4  Toshiba\n",
      "105      Kabylake      i3   8.0      987.7     Dell\n",
      "141  Sandy Bridge      i5   8.0     1011.8       HP\n",
      "145       Skylake      i5   4.0      995.0     Dell\n",
      "178     Broadwell      i7   1.0        NaN       HP\n",
      "179     Broadwell      i5   2.0     1009.4     Acer\n",
      "180       Skylake      i5   4.0     1006.7     Asus\n",
      "184      Kabylake      i5  16.0      994.8       HP\n",
      "206       Skylake      i3   8.0     1013.5     Dell\n",
      "268       Skylake      i5   8.0      993.2    Apple\n",
      "277      Kabylake      i5   8.0     1003.6     Dell\n",
      "280       Haswell      i3   8.0      996.7  Toshiba\n",
      "286      Kabylake      i5   8.0     1006.2    Apple\n",
      "296     Broadwell      i5   2.0      998.8  Toshiba\n",
      "316    Ivy Bridge      i5   8.0      997.6     Dell\n",
      "323    Ivy Bridge      i5   1.0     1022.5     Acer\n",
      "337      Kabylake      i5   4.0        NaN    Apple\n",
      "344       Skylake      i5  16.0        NaN       HP\n",
      "368     Broadwell      i5   8.0     1002.1     Asus\n",
      "381     Broadwell      i5   4.0     1006.5       HP\n",
      "406      Kabylake      i3   2.0     1020.9  Toshiba\n",
      "439     Broadwell      i5   1.0        NaN       HP\n",
      "445       Haswell      i5   4.0      990.6       HP\n",
      "470    Ivy Bridge      i5   8.0     1002.8     Dell\n",
      "480       Skylake      i3   4.0      986.2     Acer\n",
      "484      Kabylake      i7   4.0     1013.9     Acer\n",
      "501  Sandy Bridge      i3   2.0      993.6     Acer\n",
      "514     Broadwell      i5   8.0     1005.7   Medion\n",
      "523  Sandy Bridge      i5   2.0      988.2       HP\n",
      "530       Haswell      i5  16.0     1019.3    Apple\n",
      "531       Skylake      i5   4.0      994.0   Lenovo\n",
      "551  Sandy Bridge      i5   4.0     1006.6  Toshiba\n",
      "574       Haswell      i5  16.0      990.7     Asus\n",
      "588    Ivy Bridge      i3   4.0      986.5    Apple\n",
      "610    Ivy Bridge      i5   4.0     1013.3   Lenovo\n",
      "677       Haswell      i7   1.0      985.3     Acer\n",
      "689    Ivy Bridge      i3   8.0      996.9   Lenovo\n",
      "703       Skylake      i5   8.0     1023.8  Toshiba\n",
      "720  Sandy Bridge      i5   4.0      995.8    Apple\n",
      "744    Ivy Bridge      i5  16.0     1022.1  Toshiba\n",
      "795      Kabylake      i5  16.0     1021.1     Acer\n",
      "810       Skylake      i3   8.0     1020.9    Apple\n",
      "840  Sandy Bridge      i5   4.0        NaN    Apple\n",
      "852     Broadwell      i3   4.0        NaN     Asus\n"
     ]
    }
   ],
   "source": [
    "IQR = (Q3 := laptops.diskspace.quantile(0.75)) - (Q1 := laptops.diskspace.quantile(0.25))\n",
    "outliers = ~laptops.diskspace.between(Q1 - 1.5 * IQR, Q3 + 1.5 * IQR)\n",
    "print(laptops[outliers])"
   ],
   "metadata": {
    "collapsed": false
   }
  },
  {
   "cell_type": "markdown",
   "metadata": {
    "id": "pfxeg1eO6YGw"
   },
   "source": [
    "## Extra : Plot Afwijkingen\n",
    "<font color='red'>*Volgende grafiek is louter informatief.*</font>"
   ]
  },
  {
   "cell_type": "code",
   "metadata": {
    "colab": {
     "base_uri": "https://localhost:8080/",
     "height": 350
    },
    "id": "fAU7plzJ7mUB",
    "executionInfo": {
     "status": "ok",
     "timestamp": 1615309445053,
     "user_tz": -60,
     "elapsed": 723,
     "user": {
      "displayName": "Roeland De Meester",
      "photoUrl": "https://lh3.googleusercontent.com/a-/AOh14GgHFLlRcHRUHl0ul5JvDMiUd09ps_mERs2jpo2D=s64",
      "userId": "00580425314421673417"
     }
    },
    "outputId": "7e7483dd-fcf7-467d-d560-37f4bfc4c8f5"
   },
   "source": [
    "# Maak van het gemiddelde een Series met de functie repeat\n",
    "means = laptops_small.diskspace.mean().repeat(laptops_small.diskspace.size)\n",
    "\n",
    "# we gaan verticale streepjes maken op de grafiek\n",
    "# de x-waarden zijn 2 keer hetzelfde, de y waarden zijn gemiddelde en diskspace\n",
    "x = (laptops_small.index, laptops_small.index)\n",
    "y = (means, laptops_small.diskspace)\n",
    "# list(zip(*x, *y))\n",
    "\n",
    "fig, ax = plt.subplots(figsize=(10, 5))\n",
    "# de meetpunten (diskspace) plotten we met scatterplot\n",
    "_ = ax.scatter(x=laptops_small.index, y=laptops_small.diskspace, label='diskspace (MB)', color='red', marker='x')\n",
    "\n",
    "# Het gemiddelde plotten we met een horizontale lijn\n",
    "_ = ax.axhline(laptops_small.diskspace.mean(), color='black', linestyle='--', label='mean')\n",
    "\n",
    "# De afwijkingen t.o.v. het gemiddelde plotten we met een verticale lijn\n",
    "_ = ax.plot(x, y, color='red', linestyle='--', linewidth=0.7)\n",
    "_ = ax.set_xlabel('index')\n",
    "_ = ax.set_ylabel('diskspace (MB)')\n",
    "_ = ax.set_title('Afwijking t.o.v. gemiddelde voor laptops met HD < 100GB')\n",
    "_ = ax.legend()"
   ],
   "execution_count": 22,
   "outputs": [
    {
     "data": {
      "text/plain": "<Figure size 1000x500 with 1 Axes>",
      "image/png": "[encoded data removed]"
     },
     "metadata": {},
     "output_type": "display_data"
    }
   ]
  },
  {
   "cell_type": "markdown",
   "metadata": {
    "collapsed": false,
    "id": "wLBSO82n2cfx"
   },
   "source": [
    "## Absoluut Gemiddelde Afwijking"
   ]
  },
  {
   "cell_type": "code",
   "metadata": {
    "colab": {
     "base_uri": "https://localhost:8080/"
    },
    "id": "NRbLE5Ok2cfx",
    "executionInfo": {
     "status": "ok",
     "timestamp": 1615309492099,
     "user_tz": -60,
     "elapsed": 523,
     "user": {
      "displayName": "Roeland De Meester",
      "photoUrl": "https://lh3.googleusercontent.com/a-/AOh14GgHFLlRcHRUHl0ul5JvDMiUd09ps_mERs2jpo2D=s64",
      "userId": "00580425314421673417"
     }
    },
    "outputId": "3f71e571-4a35-4106-c835-9f8568f8aff1"
   },
   "source": [
    "mean = laptops_small.diskspace.mean()\n",
    "mad = laptops_small.diskspace.mad()\n",
    "print('MAD : ', mad)\n",
    "\n",
    "print('\\noutliers:')\n",
    "print(laptops_small.diskspace[~laptops_small.diskspace.between(mean - mad, mean + mad)])"
   ],
   "execution_count": 23,
   "outputs": [
    {
     "name": "stdout",
     "output_type": "stream",
     "text": [
      "MAD :  7.451129607609989\n",
      "\n",
      "outliers:\n",
      "8      110.0\n",
      "22     135.0\n",
      "124     30.0\n",
      "447     75.0\n",
      "Name: diskspace, dtype: float64\n"
     ]
    },
    {
     "name": "stderr",
     "output_type": "stream",
     "text": [
      "C:\\Users\\elias\\AppData\\Local\\Temp\\ipykernel_33004\\1624325078.py:2: FutureWarning: The 'mad' method is deprecated and will be removed in a future version. To compute the same result, you may do `(df - df.mean()).abs().mean()`.\n",
      "  mad = laptops_small.diskspace.mad()\n"
     ]
    }
   ]
  },
  {
   "cell_type": "markdown",
   "metadata": {
    "collapsed": false,
    "id": "Jyw78hbC2cfx"
   },
   "source": [
    "## Variantie en Standaardafwijking"
   ]
  },
  {
   "cell_type": "code",
   "execution_count": 24,
   "outputs": [
    {
     "name": "stdout",
     "output_type": "stream",
     "text": [
      "variantie  : \n",
      "RAM           14.527094\n",
      "diskspace    236.685764\n",
      "dtype: float64\n",
      "\n",
      "standaard afwijking  : \n",
      "RAM           3.811442\n",
      "diskspace    15.384595\n",
      "dtype: float64\n",
      "\n",
      "[check]berekende standaard afwijking : \n",
      "RAM           3.811442\n",
      "diskspace    15.384595\n",
      "dtype: float64\n"
     ]
    },
    {
     "name": "stderr",
     "output_type": "stream",
     "text": [
      "C:\\Users\\elias\\AppData\\Local\\Temp\\ipykernel_33004\\1323327714.py:3: FutureWarning: The default value of numeric_only in DataFrame.var is deprecated. In a future version, it will default to False. In addition, specifying 'numeric_only=None' is deprecated. Select only valid columns or specify the value of numeric_only to silence this warning.\n",
      "  print(laptops_small.var())\n",
      "C:\\Users\\elias\\AppData\\Local\\Temp\\ipykernel_33004\\1323327714.py:6: FutureWarning: The default value of numeric_only in DataFrame.std is deprecated. In a future version, it will default to False. In addition, specifying 'numeric_only=None' is deprecated. Select only valid columns or specify the value of numeric_only to silence this warning.\n",
      "  print(laptops_small.std())\n",
      "C:\\Users\\elias\\AppData\\Local\\Temp\\ipykernel_33004\\1323327714.py:9: FutureWarning: The default value of numeric_only in DataFrame.var is deprecated. In a future version, it will default to False. In addition, specifying 'numeric_only=None' is deprecated. Select only valid columns or specify the value of numeric_only to silence this warning.\n",
      "  print(laptops_small.var().apply(np.sqrt))\n"
     ]
    }
   ],
   "source": [
    "# We berekenen de variantie met Dataframe.var\n",
    "print('variantie  : ')\n",
    "print(laptops_small.var())\n",
    "# We berekenen de standaard afwijking met Dataframe.std\n",
    "print('\\nstandaard afwijking  : ')\n",
    "print(laptops_small.std())\n",
    "# We checken even of de berekening correct is  ie. std = sqrt(var)\n",
    "print('\\n[check]berekende standaard afwijking : ')\n",
    "print(laptops_small.var().apply(np.sqrt))\n"
   ],
   "metadata": {
    "collapsed": false
   }
  },
  {
   "cell_type": "markdown",
   "metadata": {
    "collapsed": false,
    "id": "sOYqJ7SN2cfy"
   },
   "source": [
    "## Extra : variantie steekproef vs. variantie populatie\n",
    "\n",
    "<font color='red'>*Volgende sectie is louter informatief.*</font>\n"
   ]
  },
  {
   "cell_type": "code",
   "metadata": {
    "id": "wefCyJBD2cfy",
    "outputId": "03a082ab-994c-475a-f527-c41748e469d4"
   },
   "source": [
    "#We definieren een kleine dataset met marks\n",
    "info = {\n",
    "    'Name': ['Parker', 'Smith', 'John', 'William'],\n",
    "    'sub1_Marks': [52, 38, 42, 37],\n",
    "    'sub2_Marks': [41, 35, 29, 36]}\n",
    "data = pd.DataFrame(info)\n",
    "\n",
    "#We berekenen zelf de som van kwadraat van verschillen tov. gemiddelde\n",
    "print(data.sub1_Marks.mean())\n",
    "diffs = data.sub1_Marks - data.sub1_Marks.mean()\n",
    "sq_diffs = diffs.pow(2)\n",
    "sq_sum = sq_diffs.sum()\n",
    "\n",
    "#We berekenen zelf de variantie door te delen door het aantal marks (ie. 4)\n",
    "print('bereken zelf de variantie en std. afwijking ')\n",
    "var = sq_sum / 4\n",
    "print(var)\n",
    "print(np.sqrt(var))\n",
    "\n",
    "print('\\ngebruik nu de python functies var en std')\n",
    "print(data.sub1_Marks.var())\n",
    "print(data.sub1_Marks.std())\n",
    "print(' .. die zijn niet gelijk!')\n",
    "\n",
    "print('\\nWaarom?')\n",
    "print('We mogen niet door N delen maar N-1.')\n",
    "#check de specs : https://pandas.pydata.org/pandas-docs/stable/reference/api/pandas.DataFrame.var.html\n",
    "var = sq_sum / 3\n",
    "print(var)\n",
    "print(np.sqrt(var))\n",
    "print(' .. dan hebben we de correcte afwijking!')"
   ],
   "execution_count": 25,
   "outputs": [
    {
     "name": "stdout",
     "output_type": "stream",
     "text": [
      "42.25\n",
      "bereken zelf de variantie en std. afwijking \n",
      "35.1875\n",
      "5.931905258852336\n",
      "\n",
      "gebruik nu de python functies var en std\n",
      "46.916666666666664\n",
      "6.849574196011505\n",
      " .. die zijn niet gelijk!\n",
      "\n",
      "Waarom?\n",
      "We mogen niet door N delen maar N-1.\n",
      "46.916666666666664\n",
      "6.849574196011505\n",
      " .. dan hebben we de correcte afwijking!\n"
     ]
    }
   ]
  },
  {
   "cell_type": "markdown",
   "metadata": {
    "collapsed": false,
    "id": "sErL2Wld2cfy"
   },
   "source": [
    "## Extra : Z-scores gebruiken\n",
    "\n",
    "\n",
    "<font color='red'>*Volgende sectie is louter informatief.*</font>"
   ]
  },
  {
   "cell_type": "code",
   "metadata": {
    "id": "Mnc-Cw5e2cfy",
    "outputId": "20ad7b46-a0d9-4ddb-888d-2dfa437ccdde"
   },
   "source": [
    "from scipy import stats\n",
    "\n",
    "zscores = stats.zscore(laptops_small.diskspace)\n",
    "\n",
    "fig, ax = plt.subplots(figsize=(5, 10))\n",
    "_ = ax.scatter(laptops_small.diskspace.index, zscores)\n",
    "_ = ax.set_xlabel('index')\n",
    "_ = ax.set_ylabel('Z-score')\n",
    "_ = ax.set_title('Standaardscore voor laptops met HD < 100GB')\n",
    "plt.show()\n"
   ],
   "execution_count": 26,
   "outputs": [
    {
     "data": {
      "text/plain": "<Figure size 500x1000 with 1 Axes>",
      "image/png": "[encoded data removed]"
     },
     "metadata": {},
     "output_type": "display_data"
    }
   ]
  }
 ]
}
