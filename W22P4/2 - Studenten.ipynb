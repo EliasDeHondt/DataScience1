{
 "cells": [
  {
   "cell_type": "markdown",
   "metadata": {
    "collapsed": true,
    "id": "Zvrjc_6U1PjK",
    "pycharm": {
     "name": "#%% md\n"
    }
   },
   "source": [
    "# Studenten"
   ]
  },
  {
   "cell_type": "code",
   "execution_count": null,
   "metadata": {},
   "outputs": [],
   "source": []
  },
  {
   "cell_type": "markdown",
   "metadata": {
    "id": "iryIkzdDZt8x"
   },
   "source": [
    "1. Lees het bestand \"studentenScores.csv\" in. Hierin staan de scores van 100 studenten op bepaalde vakken\n"
   ]
  },
  {
   "cell_type": "code",
   "execution_count": null,
   "metadata": {},
   "outputs": [],
   "source": []
  },
  {
   "cell_type": "markdown",
   "metadata": {
    "id": "QCi1w1pKZufv"
   },
   "source": [
    "2. In de file staan de punten van 100 studenten voor 9 vakken en een beoordeling in het algemeen door de docenten op basis van deze punten en hun werkattitude. Bereken de afstand tussen de eerste student (student0) en de tweede student (student1) voor deze 9 vakken op de volgende manieren:\n",
    "    *  euclidisch\n",
    "    *  gestandaardiseerd euclidisch\n",
    "    *  manhattan\n",
    "\n"
   ]
  },
  {
   "cell_type": "code",
   "execution_count": null,
   "metadata": {},
   "outputs": [],
   "source": []
  },
  {
   "cell_type": "markdown",
   "metadata": {
    "id": "11HAyqBKZu9C"
   },
   "source": [
    "3. We zoeken 4 clusters in deze set. Kies volgende centroids:\n",
    "    *  (9, 3, 14, 1, 6, 10, 10, 15,11)\n",
    "    *  (12, 18, 9, 5, 18, 1, 3, 18,12)\n",
    "    *  (6, 15, 13, 18, 9, 15, 20, 18,13)\n",
    "    *  (5, 4, 7, 18, 20, 17, 1, 15,14)\n",
    "\n",
    "\n",
    "\n",
    "> Bereken nu de euclidische afstand van student met rangnummer 1 (dit is dan de tweede student eigenlijk want we beginnen te tellen bij 0) , 10, 20 en 30 tot deze centroids.\n",
    "TIP: Maak eerst een dataframe van de centroids en dan een dataframe van de 4 studenten.\n",
    "\n",
    "\n",
    "\n"
   ]
  },
  {
   "cell_type": "code",
   "execution_count": null,
   "metadata": {},
   "outputs": [],
   "source": []
  },
  {
   "cell_type": "markdown",
   "metadata": {
    "id": "0Ma-CWNwZu-P"
   },
   "source": [
    "\n",
    "4. Bij welke centroid zou je deze studenten indelen?"
   ]
  },
  {
   "cell_type": "code",
   "execution_count": null,
   "metadata": {},
   "outputs": [],
   "source": []
  },
  {
   "cell_type": "markdown",
   "metadata": {
    "id": "kctwL90LZu_g"
   },
   "source": [
    "5. Bepaal de categorieën (clusters) van iedere student a.d.h.v. het K-means algoritme. Hoeveel studenten zitten er in iedere categorie?"
   ]
  },
  {
   "cell_type": "code",
   "execution_count": null,
   "metadata": {},
   "outputs": [],
   "source": []
  },
  {
   "cell_type": "markdown",
   "metadata": {
    "id": "IuVr73sZZvAu"
   },
   "source": [
    "\n",
    "6. Voeg een kolom toe waarin de categorie staat. Gebruik DecisionTreeClassifier om een beslissingsboom op te stellen."
   ]
  },
  {
   "cell_type": "code",
   "execution_count": null,
   "metadata": {},
   "outputs": [],
   "source": []
  },
  {
   "cell_type": "markdown",
   "metadata": {
    "id": "K47ieu1lZvB-"
   },
   "source": [
    "7. Bereken voor iedere categorie ook de gemiddelden over de 9 vakken. Hoe zou je deze 4 categorieën typeren?\n"
   ]
  },
  {
   "cell_type": "code",
   "execution_count": null,
   "metadata": {},
   "outputs": [],
   "source": []
  },
  {
   "cell_type": "markdown",
   "metadata": {
    "collapsed": false,
    "id": "WSCSx4bz1PjQ",
    "pycharm": {
     "name": "#%% md\n"
    }
   },
   "source": [
    "8. In welke categorie valt een nieuwe student met de volgende punten: (10, 15, 12, 11, 13, 14, 9, 10,11)?\n",
    "\n"
   ]
  },
  {
   "cell_type": "code",
   "execution_count": null,
   "metadata": {},
   "outputs": [],
   "source": []
  }
 ],
 "metadata": {
  "colab": {
   "collapsed_sections": [],
   "name": "2 - Studenten - oplossingen.ipynb",
   "provenance": []
  },
  "kernelspec": {
   "display_name": "Python 3",
   "language": "python",
   "name": "python3"
  },
  "language_info": {
   "codemirror_mode": {
    "name": "ipython",
    "version": 2
   },
   "file_extension": ".py",
   "mimetype": "text/x-python",
   "name": "python",
   "nbconvert_exporter": "python",
   "pygments_lexer": "ipython2",
   "version": "2.7.6"
  }
 },
 "nbformat": 4,
 "nbformat_minor": 0
}
