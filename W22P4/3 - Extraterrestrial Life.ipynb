{
 "cells": [
  {
   "cell_type": "markdown",
   "metadata": {
    "collapsed": true,
    "id": "awGQrJ1qH0GG",
    "pycharm": {
     "name": "#%% md\n"
    }
   },
   "source": [
    "# Extraterrestrial life..."
   ]
  },
  {
   "cell_type": "markdown",
   "metadata": {
    "collapsed": false,
    "id": "5rHNC_7GH0GN",
    "pycharm": {
     "name": "#%% md\n"
    }
   },
   "source": [
    "Na een lange reis, stort het ruimteschip van spaceman Spiff neer op een verre planeet. Alles lijkt rustig, maar Spiff ontdekt dat er levende wezens op deze planeet rondlopen. Als goed onderzoeker, begint hij onmiddellijk data te verzamelen over deze wezens. Met zijn \"Mertilizer\" kan hij de wezens vangen. Per wezen schrijft hij het volgende op:\n",
    "* het aantal poten dat ze hebben,\n",
    "* het aantal ogen die ze hebben,\n",
    "* hun lengte,\n",
    "* hun breedte,\n",
    "* hun hoogte,\n",
    "* de aanwezigheid van een staart,\n",
    "* hun kleur,\n",
    "* het al dan niet aanwezig zijn van vleugels\n",
    "\n",
    "Je vindt deze data in het bestand: \"spiffs metingen.csv\"."
   ]
  },
  {
   "cell_type": "code",
   "execution_count": null,
   "metadata": {},
   "outputs": [],
   "source": []
  },
  {
   "cell_type": "markdown",
   "metadata": {
    "id": "UpfvInzAH3nL"
   },
   "source": [
    "1. Lees het bestand in"
   ]
  },
  {
   "cell_type": "code",
   "execution_count": null,
   "metadata": {},
   "outputs": [],
   "source": []
  },
  {
   "cell_type": "markdown",
   "metadata": {
    "id": "43tADarcH3rg"
   },
   "source": [
    "\n",
    "2. Maak een dendrogram van deze data. Je merkt dat het dendrogram teveel takken heeft. Gebruik de truncate_mode optie 'level' en parameter p in dendrogram om aantal niveaus te beperken. Zoek op in de scipy documentatie (google) hoe je dit kan doen."
   ]
  },
  {
   "cell_type": "code",
   "execution_count": null,
   "metadata": {},
   "outputs": [],
   "source": []
  },
  {
   "cell_type": "markdown",
   "metadata": {
    "id": "atFb7hxQH3uo"
   },
   "source": [
    "3. Bepaal de hoogte waarbij er 3 clusters zijn"
   ]
  },
  {
   "cell_type": "code",
   "execution_count": null,
   "metadata": {},
   "outputs": [],
   "source": []
  },
  {
   "cell_type": "markdown",
   "metadata": {
    "id": "L_OGst_6H3xR"
   },
   "source": [
    "\n",
    "\n",
    "4. Maak een scatterplot waarbij je het aantal ogen in de X-as zet en de lengte in de Y-as. Gebruik de cluster als kleur. Wat zie je?"
   ]
  },
  {
   "cell_type": "code",
   "execution_count": null,
   "metadata": {},
   "outputs": [],
   "source": []
  },
  {
   "cell_type": "code",
   "execution_count": null,
   "metadata": {},
   "outputs": [],
   "source": []
  },
  {
   "cell_type": "code",
   "execution_count": null,
   "metadata": {},
   "outputs": [],
   "source": []
  },
  {
   "cell_type": "markdown",
   "metadata": {
    "id": "vkaWscp-H3zy"
   },
   "source": [
    "5. Doe dit ook voor 4 clusters. Welke cluster werd er opgesplitst?"
   ]
  },
  {
   "cell_type": "code",
   "execution_count": null,
   "metadata": {},
   "outputs": [],
   "source": []
  },
  {
   "cell_type": "markdown",
   "metadata": {
    "id": "ord4i5tmH32p"
   },
   "source": [
    "6. Zoek met k-means 3 clusters. Bekijk de centroids. Welke soorten wezens zijn er op deze planeet?"
   ]
  },
  {
   "cell_type": "code",
   "execution_count": null,
   "metadata": {},
   "outputs": [],
   "source": []
  },
  {
   "cell_type": "markdown",
   "metadata": {
    "collapsed": false,
    "id": "BRrWDwpNH0GO",
    "pycharm": {
     "name": "#%% md\n"
    }
   },
   "source": [
    "7. Voeg een kolom toe aan de data met de clusternummer. Zoek nu een beslissingsboom die bepaalt tot welke categorie een ruimtewezen behoort."
   ]
  },
  {
   "cell_type": "code",
   "execution_count": null,
   "metadata": {},
   "outputs": [],
   "source": []
  }
 ],
 "metadata": {
  "colab": {
   "collapsed_sections": [],
   "history_visible": true,
   "name": "3 - Extraterrestrial Life - oplossingen.ipynb",
   "provenance": []
  },
  "kernelspec": {
   "display_name": "Python 3",
   "language": "python",
   "name": "python3"
  },
  "language_info": {
   "codemirror_mode": {
    "name": "ipython",
    "version": 2
   },
   "file_extension": ".py",
   "mimetype": "text/x-python",
   "name": "python",
   "nbconvert_exporter": "python",
   "pygments_lexer": "ipython2",
   "version": "2.7.6"
  }
 },
 "nbformat": 4,
 "nbformat_minor": 0
}
