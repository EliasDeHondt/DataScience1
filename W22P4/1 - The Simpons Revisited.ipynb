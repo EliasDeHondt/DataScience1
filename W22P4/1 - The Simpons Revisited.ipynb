{
 "cells": [
  {
   "cell_type": "markdown",
   "metadata": {
    "collapsed": true,
    "id": "u-MmH6m0U6dN",
    "pycharm": {
     "name": "#%% md\n"
    }
   },
   "source": [
    "# De Simpsons revisited"
   ]
  },
  {
   "cell_type": "markdown",
   "metadata": {
    "id": "mOa21m5TTMr0"
   },
   "source": [
    "In deze oefening willen we nagaan welke soorten Simpsons er zijn. Hiervoor gebruiken we de oorspronkelijke data (waarbij de attributen continu zijn).\n",
    "Je vindt deze in \"simpsons.csv\".\n",
    "\n",
    "1. Lees het bestand in, wis de kolommen \"naam\" en \"geslacht\" want deze zijn nominaal."
   ]
  },
  {
   "cell_type": "code",
   "execution_count": 1,
   "metadata": {
    "ExecuteTime": {
     "end_time": "2023-05-19T14:00:54.397367100Z",
     "start_time": "2023-05-19T14:00:54.383339Z"
    }
   },
   "outputs": [
    {
     "data": {
      "text/plain": "        haarlengte  gewicht  leeftijd\nnaam                                 \nHomer            0      250        36\nMarge           10      150        34\nBart             2       90        10\nLisa             6       78         8\nMaggie           4       20         1\nAbe              1      170        70\nSelma            8      160        41\nOtto            10      180        38\nKrusty           6      200        45",
      "text/html": "<div>\n<style scoped>\n    .dataframe tbody tr th:only-of-type {\n        vertical-align: middle;\n    }\n\n    .dataframe tbody tr th {\n        vertical-align: top;\n    }\n\n    .dataframe thead th {\n        text-align: right;\n    }\n</style>\n<table border=\"1\" class=\"dataframe\">\n  <thead>\n    <tr style=\"text-align: right;\">\n      <th></th>\n      <th>haarlengte</th>\n      <th>gewicht</th>\n      <th>leeftijd</th>\n    </tr>\n    <tr>\n      <th>naam</th>\n      <th></th>\n      <th></th>\n      <th></th>\n    </tr>\n  </thead>\n  <tbody>\n    <tr>\n      <th>Homer</th>\n      <td>0</td>\n      <td>250</td>\n      <td>36</td>\n    </tr>\n    <tr>\n      <th>Marge</th>\n      <td>10</td>\n      <td>150</td>\n      <td>34</td>\n    </tr>\n    <tr>\n      <th>Bart</th>\n      <td>2</td>\n      <td>90</td>\n      <td>10</td>\n    </tr>\n    <tr>\n      <th>Lisa</th>\n      <td>6</td>\n      <td>78</td>\n      <td>8</td>\n    </tr>\n    <tr>\n      <th>Maggie</th>\n      <td>4</td>\n      <td>20</td>\n      <td>1</td>\n    </tr>\n    <tr>\n      <th>Abe</th>\n      <td>1</td>\n      <td>170</td>\n      <td>70</td>\n    </tr>\n    <tr>\n      <th>Selma</th>\n      <td>8</td>\n      <td>160</td>\n      <td>41</td>\n    </tr>\n    <tr>\n      <th>Otto</th>\n      <td>10</td>\n      <td>180</td>\n      <td>38</td>\n    </tr>\n    <tr>\n      <th>Krusty</th>\n      <td>6</td>\n      <td>200</td>\n      <td>45</td>\n    </tr>\n  </tbody>\n</table>\n</div>"
     },
     "metadata": {},
     "output_type": "display_data"
    }
   ],
   "source": [
    "import pandas as pd\n",
    "import numpy as np\n",
    "\n",
    "simpsons = pd.read_csv(\"data/simpsons origineel.csv\")\n",
    "simpsons.index = simpsons.naam\n",
    "simpsons = simpsons.drop(['naam', 'geslacht'], axis=1)\n",
    "display(simpsons)"
   ]
  },
  {
   "cell_type": "markdown",
   "metadata": {
    "id": "Gb5uKhvcTdf8"
   },
   "source": [
    "2. Bepaal de euclidische afstanden tussen de Simpsons."
   ]
  },
  {
   "cell_type": "code",
   "execution_count": 2,
   "metadata": {
    "ExecuteTime": {
     "end_time": "2023-05-19T14:00:57.991157200Z",
     "start_time": "2023-05-19T14:00:57.960046800Z"
    }
   },
   "outputs": [
    {
     "data": {
      "text/plain": "naam         Homer       Marge        Bart        Lisa      Maggie   \nnaam                                                                 \nHomer     0.000000  100.518655  162.111073  174.367428  232.682187  \\\nMarge   100.518655    0.000000   65.115282   76.655072  134.257216   \nBart    162.111073   65.115282    0.000000   12.806248   70.604532   \nLisa    174.367428   76.655072   12.806248    0.000000   58.455111   \nMaggie  232.682187  134.257216   70.604532   58.455111    0.000000   \nAbe      86.931007   42.154478  100.005000  111.054041  165.136307   \nSelma    90.493094   12.369317   76.791927   88.413800  145.657132   \nOtto     70.738957   30.265492   94.593869  106.395489  164.331981   \nKrusty   51.156622   51.351728  115.503247  127.487254  185.310550   \n\nnaam           Abe       Selma        Otto      Krusty  \nnaam                                                    \nHomer    86.931007   90.493094   70.738957   51.156622  \nMarge    42.154478   12.369317   30.265492   51.351728  \nBart    100.005000   76.791927   94.593869  115.503247  \nLisa    111.054041   88.413800  106.395489  127.487254  \nMaggie  165.136307  145.657132  164.331981  185.310550  \nAbe       0.000000   31.464265   34.713110   39.370039  \nSelma    31.464265    0.000000   20.322401   40.249224  \nOtto     34.713110   20.322401    0.000000   21.563859  \nKrusty   39.370039   40.249224   21.563859    0.000000  ",
      "text/html": "<div>\n<style scoped>\n    .dataframe tbody tr th:only-of-type {\n        vertical-align: middle;\n    }\n\n    .dataframe tbody tr th {\n        vertical-align: top;\n    }\n\n    .dataframe thead th {\n        text-align: right;\n    }\n</style>\n<table border=\"1\" class=\"dataframe\">\n  <thead>\n    <tr style=\"text-align: right;\">\n      <th>naam</th>\n      <th>Homer</th>\n      <th>Marge</th>\n      <th>Bart</th>\n      <th>Lisa</th>\n      <th>Maggie</th>\n      <th>Abe</th>\n      <th>Selma</th>\n      <th>Otto</th>\n      <th>Krusty</th>\n    </tr>\n    <tr>\n      <th>naam</th>\n      <th></th>\n      <th></th>\n      <th></th>\n      <th></th>\n      <th></th>\n      <th></th>\n      <th></th>\n      <th></th>\n      <th></th>\n    </tr>\n  </thead>\n  <tbody>\n    <tr>\n      <th>Homer</th>\n      <td>0.000000</td>\n      <td>100.518655</td>\n      <td>162.111073</td>\n      <td>174.367428</td>\n      <td>232.682187</td>\n      <td>86.931007</td>\n      <td>90.493094</td>\n      <td>70.738957</td>\n      <td>51.156622</td>\n    </tr>\n    <tr>\n      <th>Marge</th>\n      <td>100.518655</td>\n      <td>0.000000</td>\n      <td>65.115282</td>\n      <td>76.655072</td>\n      <td>134.257216</td>\n      <td>42.154478</td>\n      <td>12.369317</td>\n      <td>30.265492</td>\n      <td>51.351728</td>\n    </tr>\n    <tr>\n      <th>Bart</th>\n      <td>162.111073</td>\n      <td>65.115282</td>\n      <td>0.000000</td>\n      <td>12.806248</td>\n      <td>70.604532</td>\n      <td>100.005000</td>\n      <td>76.791927</td>\n      <td>94.593869</td>\n      <td>115.503247</td>\n    </tr>\n    <tr>\n      <th>Lisa</th>\n      <td>174.367428</td>\n      <td>76.655072</td>\n      <td>12.806248</td>\n      <td>0.000000</td>\n      <td>58.455111</td>\n      <td>111.054041</td>\n      <td>88.413800</td>\n      <td>106.395489</td>\n      <td>127.487254</td>\n    </tr>\n    <tr>\n      <th>Maggie</th>\n      <td>232.682187</td>\n      <td>134.257216</td>\n      <td>70.604532</td>\n      <td>58.455111</td>\n      <td>0.000000</td>\n      <td>165.136307</td>\n      <td>145.657132</td>\n      <td>164.331981</td>\n      <td>185.310550</td>\n    </tr>\n    <tr>\n      <th>Abe</th>\n      <td>86.931007</td>\n      <td>42.154478</td>\n      <td>100.005000</td>\n      <td>111.054041</td>\n      <td>165.136307</td>\n      <td>0.000000</td>\n      <td>31.464265</td>\n      <td>34.713110</td>\n      <td>39.370039</td>\n    </tr>\n    <tr>\n      <th>Selma</th>\n      <td>90.493094</td>\n      <td>12.369317</td>\n      <td>76.791927</td>\n      <td>88.413800</td>\n      <td>145.657132</td>\n      <td>31.464265</td>\n      <td>0.000000</td>\n      <td>20.322401</td>\n      <td>40.249224</td>\n    </tr>\n    <tr>\n      <th>Otto</th>\n      <td>70.738957</td>\n      <td>30.265492</td>\n      <td>94.593869</td>\n      <td>106.395489</td>\n      <td>164.331981</td>\n      <td>34.713110</td>\n      <td>20.322401</td>\n      <td>0.000000</td>\n      <td>21.563859</td>\n    </tr>\n    <tr>\n      <th>Krusty</th>\n      <td>51.156622</td>\n      <td>51.351728</td>\n      <td>115.503247</td>\n      <td>127.487254</td>\n      <td>185.310550</td>\n      <td>39.370039</td>\n      <td>40.249224</td>\n      <td>21.563859</td>\n      <td>0.000000</td>\n    </tr>\n  </tbody>\n</table>\n</div>"
     },
     "metadata": {},
     "output_type": "display_data"
    }
   ],
   "source": [
    "from scipy.spatial.distance import cdist\n",
    "\n",
    "afstanden_euclidische = pd.DataFrame(cdist(simpsons, simpsons), columns=simpsons.index, index=simpsons.index) # Afstanden Euclidische\n",
    "\n",
    "display(afstanden_euclidische)"
   ]
  },
  {
   "cell_type": "markdown",
   "metadata": {
    "id": "eSQ0lxnbTdk3"
   },
   "source": [
    "3. Welke Simpsons zijn het dichtst bij elkaar?"
   ]
  },
  {
   "cell_type": "code",
   "execution_count": 3,
   "metadata": {
    "ExecuteTime": {
     "end_time": "2023-05-19T14:00:59.912529900Z",
     "start_time": "2023-05-19T14:00:59.877743Z"
    }
   },
   "outputs": [
    {
     "name": "stdout",
     "output_type": "stream",
     "text": [
      "De Simpsons-personages 'Selma' en 'Marge' zijn het dichtst bij elkaar met een afstand van 12.36931687685298.\n"
     ]
    }
   ],
   "source": [
    "# Filteren op afstanden groter dan nul\n",
    "nonzero_distances = afstanden_euclidische.mask(afstanden_euclidische <= 0, np.inf)\n",
    "\n",
    "# Indexen van de minimale waarden in de gefilterde afstandenmatrix vinden\n",
    "min_indices = np.unravel_index(np.argsort(nonzero_distances.values, axis=None), nonzero_distances.values.shape)\n",
    "\n",
    "# Eerste minimale afstand en bijbehorende Simpsons-personages vinden\n",
    "min_distance = nonzero_distances.iloc[min_indices[0][0], min_indices[1][0]]\n",
    "personage1 = nonzero_distances.index[min_indices[0][0]]\n",
    "personage2 = nonzero_distances.columns[min_indices[1][0]]\n",
    "\n",
    "# Resultaat weergeven\n",
    "print(f\"De Simpsons-personages '{personage1}' en '{personage2}' zijn het dichtst bij elkaar met een afstand van {min_distance}.\")\n",
    "# De Simpsons-personages 'Selma' en 'Marge' zijn het dichtst bij elkaar met een afstand van 12.36931687685298."
   ]
  },
  {
   "cell_type": "markdown",
   "metadata": {
    "id": "Z99YVDQMTdp-"
   },
   "source": [
    "4. Wat is de Manhattan afstand tussen Homer en Bart?"
   ]
  },
  {
   "cell_type": "code",
   "execution_count": 4,
   "metadata": {
    "ExecuteTime": {
     "end_time": "2023-05-19T14:01:01.975849200Z",
     "start_time": "2023-05-19T14:01:01.889347200Z"
    }
   },
   "outputs": [
    {
     "data": {
      "text/plain": "naam    Homer  Marge   Bart   Lisa  Maggie    Abe  Selma   Otto  Krusty\nnaam                                                                   \nHomer     0.0  112.0  188.0  206.0   269.0  115.0  103.0   82.0    65.0\nMarge   112.0    0.0   92.0  102.0   169.0   65.0   19.0   34.0    65.0\nBart    188.0   92.0    0.0   18.0    81.0  141.0  107.0  126.0   149.0\nLisa    206.0  102.0   18.0    0.0    67.0  159.0  117.0  136.0   159.0\nMaggie  269.0  169.0   81.0   67.0     0.0  222.0  184.0  203.0   226.0\nAbe     115.0   65.0  141.0  159.0   222.0    0.0   46.0   51.0    60.0\nSelma   103.0   19.0  107.0  117.0   184.0   46.0    0.0   25.0    46.0\nOtto     82.0   34.0  126.0  136.0   203.0   51.0   25.0    0.0    31.0\nKrusty   65.0   65.0  149.0  159.0   226.0   60.0   46.0   31.0     0.0",
      "text/html": "<div>\n<style scoped>\n    .dataframe tbody tr th:only-of-type {\n        vertical-align: middle;\n    }\n\n    .dataframe tbody tr th {\n        vertical-align: top;\n    }\n\n    .dataframe thead th {\n        text-align: right;\n    }\n</style>\n<table border=\"1\" class=\"dataframe\">\n  <thead>\n    <tr style=\"text-align: right;\">\n      <th>naam</th>\n      <th>Homer</th>\n      <th>Marge</th>\n      <th>Bart</th>\n      <th>Lisa</th>\n      <th>Maggie</th>\n      <th>Abe</th>\n      <th>Selma</th>\n      <th>Otto</th>\n      <th>Krusty</th>\n    </tr>\n    <tr>\n      <th>naam</th>\n      <th></th>\n      <th></th>\n      <th></th>\n      <th></th>\n      <th></th>\n      <th></th>\n      <th></th>\n      <th></th>\n      <th></th>\n    </tr>\n  </thead>\n  <tbody>\n    <tr>\n      <th>Homer</th>\n      <td>0.0</td>\n      <td>112.0</td>\n      <td>188.0</td>\n      <td>206.0</td>\n      <td>269.0</td>\n      <td>115.0</td>\n      <td>103.0</td>\n      <td>82.0</td>\n      <td>65.0</td>\n    </tr>\n    <tr>\n      <th>Marge</th>\n      <td>112.0</td>\n      <td>0.0</td>\n      <td>92.0</td>\n      <td>102.0</td>\n      <td>169.0</td>\n      <td>65.0</td>\n      <td>19.0</td>\n      <td>34.0</td>\n      <td>65.0</td>\n    </tr>\n    <tr>\n      <th>Bart</th>\n      <td>188.0</td>\n      <td>92.0</td>\n      <td>0.0</td>\n      <td>18.0</td>\n      <td>81.0</td>\n      <td>141.0</td>\n      <td>107.0</td>\n      <td>126.0</td>\n      <td>149.0</td>\n    </tr>\n    <tr>\n      <th>Lisa</th>\n      <td>206.0</td>\n      <td>102.0</td>\n      <td>18.0</td>\n      <td>0.0</td>\n      <td>67.0</td>\n      <td>159.0</td>\n      <td>117.0</td>\n      <td>136.0</td>\n      <td>159.0</td>\n    </tr>\n    <tr>\n      <th>Maggie</th>\n      <td>269.0</td>\n      <td>169.0</td>\n      <td>81.0</td>\n      <td>67.0</td>\n      <td>0.0</td>\n      <td>222.0</td>\n      <td>184.0</td>\n      <td>203.0</td>\n      <td>226.0</td>\n    </tr>\n    <tr>\n      <th>Abe</th>\n      <td>115.0</td>\n      <td>65.0</td>\n      <td>141.0</td>\n      <td>159.0</td>\n      <td>222.0</td>\n      <td>0.0</td>\n      <td>46.0</td>\n      <td>51.0</td>\n      <td>60.0</td>\n    </tr>\n    <tr>\n      <th>Selma</th>\n      <td>103.0</td>\n      <td>19.0</td>\n      <td>107.0</td>\n      <td>117.0</td>\n      <td>184.0</td>\n      <td>46.0</td>\n      <td>0.0</td>\n      <td>25.0</td>\n      <td>46.0</td>\n    </tr>\n    <tr>\n      <th>Otto</th>\n      <td>82.0</td>\n      <td>34.0</td>\n      <td>126.0</td>\n      <td>136.0</td>\n      <td>203.0</td>\n      <td>51.0</td>\n      <td>25.0</td>\n      <td>0.0</td>\n      <td>31.0</td>\n    </tr>\n    <tr>\n      <th>Krusty</th>\n      <td>65.0</td>\n      <td>65.0</td>\n      <td>149.0</td>\n      <td>159.0</td>\n      <td>226.0</td>\n      <td>60.0</td>\n      <td>46.0</td>\n      <td>31.0</td>\n      <td>0.0</td>\n    </tr>\n  </tbody>\n</table>\n</div>"
     },
     "metadata": {},
     "output_type": "display_data"
    }
   ],
   "source": [
    "afstanden_manhattan = pd.DataFrame(cdist(simpsons, simpsons, metric=\"cityblock\"), columns=simpsons.index, index=simpsons.index) # Afstanden Manhattan\n",
    "\n",
    "display(afstanden_manhattan)\n",
    "# 188.0"
   ]
  },
  {
   "cell_type": "markdown",
   "metadata": {
    "id": "fWdQX4nsTdvP"
   },
   "source": [
    "5. Wat is de gestandaardiseerde euclidische afstand tussen Marge en Maggie?"
   ]
  },
  {
   "cell_type": "code",
   "execution_count": 8,
   "metadata": {
    "ExecuteTime": {
     "end_time": "2023-05-19T14:03:30.585410800Z",
     "start_time": "2023-05-19T14:03:30.517980400Z"
    }
   },
   "outputs": [
    {
     "name": "stdout",
     "output_type": "stream",
     "text": [
      "De gestandaardiseerde Euclidische afstand tussen Marge en Maggie is: 0.08457882396015143\n"
     ]
    }
   ],
   "source": [
    "# Importeren van de zscore-functie uit scipy.stats\n",
    "from scipy.stats import zscore\n",
    "\n",
    "# Standaardiseren van de afstandenmatrix met behulp van z-score\n",
    "afstanden_gestandaardiseerd = afstanden_euclidische.apply(zscore, axis=0)\n",
    "\n",
    "# Berekenen van de gestandaardiseerde Euclidische afstand tussen Marge en Maggie\n",
    "gestandaardiseerde_afstand = afstanden_gestandaardiseerd.loc['Marge', 'Maggie']\n",
    "\n",
    "# Resultaat weergeven\n",
    "print(f\"De gestandaardiseerde Euclidische afstand tussen Marge en Maggie is: {gestandaardiseerde_afstand}\")"
   ]
  },
  {
   "cell_type": "markdown",
   "metadata": {
    "id": "W96140f4WAEz"
   },
   "source": [
    "6. Maak nu een dendrogram (gebruik euclidische afstanden)\n"
   ]
  },
  {
   "cell_type": "code",
   "execution_count": null,
   "metadata": {},
   "outputs": [],
   "source": []
  },
  {
   "cell_type": "markdown",
   "metadata": {
    "id": "DjdawEytWAPg"
   },
   "source": [
    "7. Als je 2 clusters zou moeten selecteren uit deze boom, welke zijn dat dan? Hoe zou je die clusters benoemen?"
   ]
  },
  {
   "cell_type": "code",
   "execution_count": null,
   "metadata": {},
   "outputs": [],
   "source": []
  },
  {
   "cell_type": "markdown",
   "metadata": {
    "id": "LrhbeeakWAV8"
   },
   "source": [
    "8. Maak een scatterplot van de Simpsons waarbij je in de X-as leeftijd zet en in de Y-as het gewicht. Gebruik het clusternummer voor de kleur.\n"
   ]
  },
  {
   "cell_type": "code",
   "execution_count": null,
   "metadata": {},
   "outputs": [],
   "source": []
  },
  {
   "cell_type": "markdown",
   "metadata": {
    "id": "zXbhPJKzWAZ9"
   },
   "source": [
    "9. Bepaal nu 3 clusters uit de boom en maak weer een plot. Welke Simpsons zitten nu in welke categorie?"
   ]
  },
  {
   "cell_type": "code",
   "execution_count": null,
   "metadata": {},
   "outputs": [],
   "source": []
  },
  {
   "cell_type": "markdown",
   "metadata": {
    "id": "_VcIcD1mWAeD"
   },
   "source": [
    "10. Probeer nu 2 clusters te maken met het k-means algoritme. Kijk naar de centroids. In welke coördinaten verschillen deze centroids het meest?"
   ]
  },
  {
   "cell_type": "code",
   "execution_count": null,
   "metadata": {},
   "outputs": [],
   "source": []
  },
  {
   "cell_type": "markdown",
   "metadata": {
    "collapsed": false,
    "id": "3ZG3i7gOU6di",
    "pycharm": {
     "name": "#%% md\n"
    }
   },
   "source": [
    "\n",
    "11. Kan je een beslissingsboom opstellen die bepaalt in welke cluster een Simpson valt?\n",
    "Maak hiertoe een kolom bij waarin het clusternummer staat en gebruik DecisionTreeClassifier om de boom op te stellen."
   ]
  },
  {
   "cell_type": "code",
   "execution_count": null,
   "metadata": {},
   "outputs": [],
   "source": []
  }
 ],
 "metadata": {
  "colab": {
   "collapsed_sections": [],
   "name": "1 - The Simpons Revisited - oplossingen.ipynb",
   "provenance": []
  },
  "kernelspec": {
   "display_name": "Python 3",
   "language": "python",
   "name": "python3"
  },
  "language_info": {
   "codemirror_mode": {
    "name": "ipython",
    "version": 2
   },
   "file_extension": ".py",
   "mimetype": "text/x-python",
   "name": "python",
   "nbconvert_exporter": "python",
   "pygments_lexer": "ipython2",
   "version": "2.7.6"
  }
 },
 "nbformat": 4,
 "nbformat_minor": 0
}
