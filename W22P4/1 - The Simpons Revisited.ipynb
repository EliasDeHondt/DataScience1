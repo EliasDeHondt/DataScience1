{
 "cells": [
  {
   "cell_type": "markdown",
   "metadata": {
    "collapsed": true,
    "id": "u-MmH6m0U6dN",
    "pycharm": {
     "name": "#%% md\n"
    }
   },
   "source": [
    "# De Simpsons revisited"
   ]
  },
  {
   "cell_type": "markdown",
   "metadata": {
    "id": "mOa21m5TTMr0"
   },
   "source": [
    "In deze oefening willen we nagaan welke soorten Simpsons er zijn. Hiervoor gebruiken we de oorspronkelijke data (waarbij de attributen continu zijn).\n",
    "Je vindt deze in \"simpsons.csv\".\n",
    "\n",
    "1. Lees het bestand in, wis de kolommen \"naam\" en \"geslacht\" want deze zijn nominaal."
   ]
  },
  {
   "cell_type": "code",
   "execution_count": 3,
   "metadata": {
    "ExecuteTime": {
     "end_time": "2023-06-02T12:11:56.138630700Z",
     "start_time": "2023-06-02T12:11:55.931936300Z"
    }
   },
   "outputs": [
    {
     "data": {
      "text/plain": "        haarlengte  gewicht  leeftijd\nnaam                                 \nHomer            0      250        36\nMarge           10      150        34\nBart             2       90        10\nLisa             6       78         8\nMaggie           4       20         1\nAbe              1      170        70\nSelma            8      160        41\nOtto            10      180        38\nKrusty           6      200        45",
      "text/html": "<div>\n<style scoped>\n    .dataframe tbody tr th:only-of-type {\n        vertical-align: middle;\n    }\n\n    .dataframe tbody tr th {\n        vertical-align: top;\n    }\n\n    .dataframe thead th {\n        text-align: right;\n    }\n</style>\n<table border=\"1\" class=\"dataframe\">\n  <thead>\n    <tr style=\"text-align: right;\">\n      <th></th>\n      <th>haarlengte</th>\n      <th>gewicht</th>\n      <th>leeftijd</th>\n    </tr>\n    <tr>\n      <th>naam</th>\n      <th></th>\n      <th></th>\n      <th></th>\n    </tr>\n  </thead>\n  <tbody>\n    <tr>\n      <th>Homer</th>\n      <td>0</td>\n      <td>250</td>\n      <td>36</td>\n    </tr>\n    <tr>\n      <th>Marge</th>\n      <td>10</td>\n      <td>150</td>\n      <td>34</td>\n    </tr>\n    <tr>\n      <th>Bart</th>\n      <td>2</td>\n      <td>90</td>\n      <td>10</td>\n    </tr>\n    <tr>\n      <th>Lisa</th>\n      <td>6</td>\n      <td>78</td>\n      <td>8</td>\n    </tr>\n    <tr>\n      <th>Maggie</th>\n      <td>4</td>\n      <td>20</td>\n      <td>1</td>\n    </tr>\n    <tr>\n      <th>Abe</th>\n      <td>1</td>\n      <td>170</td>\n      <td>70</td>\n    </tr>\n    <tr>\n      <th>Selma</th>\n      <td>8</td>\n      <td>160</td>\n      <td>41</td>\n    </tr>\n    <tr>\n      <th>Otto</th>\n      <td>10</td>\n      <td>180</td>\n      <td>38</td>\n    </tr>\n    <tr>\n      <th>Krusty</th>\n      <td>6</td>\n      <td>200</td>\n      <td>45</td>\n    </tr>\n  </tbody>\n</table>\n</div>"
     },
     "metadata": {},
     "output_type": "display_data"
    }
   ],
   "source": [
    "import pandas as pd\n",
    "import numpy as np\n",
    "\n",
    "simpsons = pd.read_csv(\"data/simpsons origineel.csv\")\n",
    "simpsons.index = simpsons.naam\n",
    "simpsons = simpsons.drop(['naam', 'geslacht'], axis=1)\n",
    "display(simpsons)"
   ]
  },
  {
   "cell_type": "markdown",
   "metadata": {
    "id": "Gb5uKhvcTdf8"
   },
   "source": [
    "2. Bepaal de euclidische afstanden tussen de Simpsons."
   ]
  },
  {
   "cell_type": "code",
   "execution_count": null,
   "metadata": {
    "is_executing": true,
    "ExecuteTime": {
     "start_time": "2023-06-02T12:11:55.981935700Z"
    }
   },
   "outputs": [],
   "source": [
    "from scipy.spatial.distance import cdist\n",
    "\n",
    "euclidische_afstanden = pd.DataFrame(cdist(simpsons, simpsons), columns=simpsons.index, index=simpsons.index) # Euclidische Afstanden\n",
    "\n",
    "display(euclidische_afstanden)"
   ]
  },
  {
   "cell_type": "markdown",
   "metadata": {
    "id": "eSQ0lxnbTdk3"
   },
   "source": [
    "3. Welke Simpsons zijn het dichtst bij elkaar?"
   ]
  },
  {
   "cell_type": "code",
   "execution_count": null,
   "metadata": {
    "is_executing": true
   },
   "outputs": [],
   "source": [
    "# Filteren op afstanden groter dan nul\n",
    "nonzero_distances = euclidische_afstanden.mask(euclidische_afstanden <= 0, np.inf)\n",
    "\n",
    "# Indexen van de minimale waarden in de gefilterde afstandenmatrix vinden\n",
    "min_indices = np.unravel_index(np.argsort(nonzero_distances.values, axis=None), nonzero_distances.values.shape)\n",
    "\n",
    "# Eerste minimale afstand en bijbehorende Simpsons-personages vinden\n",
    "min_distance = nonzero_distances.iloc[min_indices[0][0], min_indices[1][0]]\n",
    "personage1 = nonzero_distances.index[min_indices[0][0]]\n",
    "personage2 = nonzero_distances.columns[min_indices[1][0]]\n",
    "\n",
    "# Resultaat weergeven\n",
    "print(f\"De Simpsons-personages '{personage1}' en '{personage2}' zijn het dichtst bij elkaar met een afstand van {min_distance}.\")\n",
    "# De Simpsons-personages 'Selma' en 'Marge' zijn het dichtst bij elkaar met een afstand van 12.36931687685298."
   ]
  },
  {
   "cell_type": "markdown",
   "metadata": {
    "id": "Z99YVDQMTdp-"
   },
   "source": [
    "4. Wat is de Manhattan afstand tussen Homer en Bart?"
   ]
  },
  {
   "cell_type": "code",
   "execution_count": null,
   "metadata": {
    "is_executing": true
   },
   "outputs": [
    {
     "data": {
      "text/plain": "naam    Homer  Marge   Bart   Lisa  Maggie    Abe  Selma   Otto  Krusty\nnaam                                                                   \nHomer     0.0  112.0  188.0  206.0   269.0  115.0  103.0   82.0    65.0\nMarge   112.0    0.0   92.0  102.0   169.0   65.0   19.0   34.0    65.0\nBart    188.0   92.0    0.0   18.0    81.0  141.0  107.0  126.0   149.0\nLisa    206.0  102.0   18.0    0.0    67.0  159.0  117.0  136.0   159.0\nMaggie  269.0  169.0   81.0   67.0     0.0  222.0  184.0  203.0   226.0\nAbe     115.0   65.0  141.0  159.0   222.0    0.0   46.0   51.0    60.0\nSelma   103.0   19.0  107.0  117.0   184.0   46.0    0.0   25.0    46.0\nOtto     82.0   34.0  126.0  136.0   203.0   51.0   25.0    0.0    31.0\nKrusty   65.0   65.0  149.0  159.0   226.0   60.0   46.0   31.0     0.0",
      "text/html": "<div>\n<style scoped>\n    .dataframe tbody tr th:only-of-type {\n        vertical-align: middle;\n    }\n\n    .dataframe tbody tr th {\n        vertical-align: top;\n    }\n\n    .dataframe thead th {\n        text-align: right;\n    }\n</style>\n<table border=\"1\" class=\"dataframe\">\n  <thead>\n    <tr style=\"text-align: right;\">\n      <th>naam</th>\n      <th>Homer</th>\n      <th>Marge</th>\n      <th>Bart</th>\n      <th>Lisa</th>\n      <th>Maggie</th>\n      <th>Abe</th>\n      <th>Selma</th>\n      <th>Otto</th>\n      <th>Krusty</th>\n    </tr>\n    <tr>\n      <th>naam</th>\n      <th></th>\n      <th></th>\n      <th></th>\n      <th></th>\n      <th></th>\n      <th></th>\n      <th></th>\n      <th></th>\n      <th></th>\n    </tr>\n  </thead>\n  <tbody>\n    <tr>\n      <th>Homer</th>\n      <td>0.0</td>\n      <td>112.0</td>\n      <td>188.0</td>\n      <td>206.0</td>\n      <td>269.0</td>\n      <td>115.0</td>\n      <td>103.0</td>\n      <td>82.0</td>\n      <td>65.0</td>\n    </tr>\n    <tr>\n      <th>Marge</th>\n      <td>112.0</td>\n      <td>0.0</td>\n      <td>92.0</td>\n      <td>102.0</td>\n      <td>169.0</td>\n      <td>65.0</td>\n      <td>19.0</td>\n      <td>34.0</td>\n      <td>65.0</td>\n    </tr>\n    <tr>\n      <th>Bart</th>\n      <td>188.0</td>\n      <td>92.0</td>\n      <td>0.0</td>\n      <td>18.0</td>\n      <td>81.0</td>\n      <td>141.0</td>\n      <td>107.0</td>\n      <td>126.0</td>\n      <td>149.0</td>\n    </tr>\n    <tr>\n      <th>Lisa</th>\n      <td>206.0</td>\n      <td>102.0</td>\n      <td>18.0</td>\n      <td>0.0</td>\n      <td>67.0</td>\n      <td>159.0</td>\n      <td>117.0</td>\n      <td>136.0</td>\n      <td>159.0</td>\n    </tr>\n    <tr>\n      <th>Maggie</th>\n      <td>269.0</td>\n      <td>169.0</td>\n      <td>81.0</td>\n      <td>67.0</td>\n      <td>0.0</td>\n      <td>222.0</td>\n      <td>184.0</td>\n      <td>203.0</td>\n      <td>226.0</td>\n    </tr>\n    <tr>\n      <th>Abe</th>\n      <td>115.0</td>\n      <td>65.0</td>\n      <td>141.0</td>\n      <td>159.0</td>\n      <td>222.0</td>\n      <td>0.0</td>\n      <td>46.0</td>\n      <td>51.0</td>\n      <td>60.0</td>\n    </tr>\n    <tr>\n      <th>Selma</th>\n      <td>103.0</td>\n      <td>19.0</td>\n      <td>107.0</td>\n      <td>117.0</td>\n      <td>184.0</td>\n      <td>46.0</td>\n      <td>0.0</td>\n      <td>25.0</td>\n      <td>46.0</td>\n    </tr>\n    <tr>\n      <th>Otto</th>\n      <td>82.0</td>\n      <td>34.0</td>\n      <td>126.0</td>\n      <td>136.0</td>\n      <td>203.0</td>\n      <td>51.0</td>\n      <td>25.0</td>\n      <td>0.0</td>\n      <td>31.0</td>\n    </tr>\n    <tr>\n      <th>Krusty</th>\n      <td>65.0</td>\n      <td>65.0</td>\n      <td>149.0</td>\n      <td>159.0</td>\n      <td>226.0</td>\n      <td>60.0</td>\n      <td>46.0</td>\n      <td>31.0</td>\n      <td>0.0</td>\n    </tr>\n  </tbody>\n</table>\n</div>"
     },
     "metadata": {},
     "output_type": "display_data"
    }
   ],
   "source": [
    "afstanden_manhattan = pd.DataFrame(cdist(simpsons, simpsons, metric=\"cityblock\"), columns=simpsons.index, index=simpsons.index) # Afstanden Manhattan\n",
    "\n",
    "display(afstanden_manhattan)\n",
    "# 188.0"
   ]
  },
  {
   "cell_type": "markdown",
   "metadata": {
    "id": "fWdQX4nsTdvP"
   },
   "source": [
    "5. Wat is de gestandaardiseerde euclidische afstand tussen Marge en Maggie?"
   ]
  },
  {
   "cell_type": "code",
   "execution_count": null,
   "metadata": {
    "is_executing": true,
    "ExecuteTime": {
     "start_time": "2023-06-02T12:11:56.096784800Z"
    }
   },
   "outputs": [
    {
     "name": "stdout",
     "output_type": "stream",
     "text": [
      "De gestandaardiseerde Euclidische afstand tussen Marge en Maggie is: 2.9759431592020307\n"
     ]
    }
   ],
   "source": [
    "# Importeren van de zscore-functie uit scipy.stats\n",
    "from scipy.stats import zscore\n",
    "\n",
    "# Standaardiseren van de afstandenmatrix met behulp van z-score\n",
    "afstanden_gestandaardiseerd = pd.DataFrame(data=cdist(simpsons, simpsons, metric=\"seuclidean\"), columns=simpsons.index.values, index=simpsons.index.values)\n",
    "\n",
    "# Berekenen van de gestandaardiseerde Euclidische afstand tussen Marge en Maggie\n",
    "gestandaardiseerde_afstand = afstanden_gestandaardiseerd.loc['Marge', 'Maggie']\n",
    "\n",
    "# Resultaat weergeven\n",
    "print(f\"De gestandaardiseerde Euclidische afstand tussen Marge en Maggie is: {gestandaardiseerde_afstand}\")"
   ]
  },
  {
   "cell_type": "markdown",
   "metadata": {
    "id": "W96140f4WAEz"
   },
   "source": [
    "6. Maak nu een dendrogram (gebruik euclidische afstanden)\n"
   ]
  },
  {
   "cell_type": "code",
   "execution_count": null,
   "metadata": {
    "is_executing": true,
    "ExecuteTime": {
     "start_time": "2023-06-02T12:11:56.115091200Z"
    }
   },
   "outputs": [
    {
     "name": "stderr",
     "output_type": "stream",
     "text": [
      "C:\\Users\\elias\\AppData\\Local\\Temp\\ipykernel_26584\\2930186074.py:11: ClusterWarning: scipy.cluster: The symmetric non-negative hollow observation matrix looks suspiciously like an uncondensed distance matrix\n",
      "  distances_single = linkage(afstanden_euclidische, method='single') # Single linkage (kleinste afstand eerst)\n"
     ]
    },
    {
     "data": {
      "text/plain": "<Figure size 1200x500 with 1 Axes>",
      "image/png": "[encoded data removed]"
     },
     "metadata": {},
     "output_type": "display_data"
    }
   ],
   "source": [
    "from matplotlib import pyplot as plt\n",
    "import matplotlib\n",
    "from scipy.cluster.hierarchy import linkage, dendrogram\n",
    "from scipy.spatial.distance import cdist\n",
    "\n",
    "afstanden_euclidische = pd.DataFrame(cdist(simpsons, simpsons), columns=simpsons.index, index=simpsons.index) # Afstanden Euclidische\n",
    "\n",
    "colors = list(matplotlib.colors.cnames.keys())[0:100:2] # Kleuren voor de dendrogram\n",
    "\n",
    "fig, ax = plt.subplots(figsize=(12, 5))\n",
    "distances_single = linkage(afstanden_euclidische, method='single') # Single linkage (kleinste afstand eerst)\n",
    "# distances_complete = linkage(afstanden_euclidische, method='complete') # Complete linkage (grootste afstand eerst)\n",
    "_ = ax.set_title('Dendrogram met single linkage')\n",
    "_ = ax.set_xlabel('punt')\n",
    "_ = ax.set_ylabel('Euclidische afstand')\n",
    "_ = ax.grid(linestyle='--', axis='y')\n",
    "\n",
    "dgram = dendrogram(distances_single, labels=afstanden_euclidische.index.values, link_color_func=lambda x: colors[x], ax=ax)"
   ]
  },
  {
   "cell_type": "markdown",
   "metadata": {
    "id": "DjdawEytWAPg"
   },
   "source": [
    "7. Als je 2 clusters zou moeten selecteren uit deze boom, welke zijn dat dan? Hoe zou je die clusters benoemen?"
   ]
  },
  {
   "cell_type": "code",
   "execution_count": null,
   "metadata": {
    "is_executing": true
   },
   "outputs": [],
   "source": [
    "from sklearn.cluster import AgglomerativeClustering\n",
    "\n",
    "cluster = AgglomerativeClustering(n_clusters=2, metric='manhattan', linkage='single')\n",
    "cluster.fit(simpsons)\n",
    "simpsons['cluster_with_2'] = cluster.labels_\n",
    "display(simpsons)"
   ]
  },
  {
   "cell_type": "markdown",
   "metadata": {
    "id": "LrhbeeakWAV8"
   },
   "source": [
    "8. Maak een scatterplot van de Simpsons waarbij je in de X-as leeftijd zet en in de Y-as het gewicht. Gebruik het clusternummer voor de kleur.\n"
   ]
  },
  {
   "cell_type": "code",
   "execution_count": 9,
   "metadata": {
    "ExecuteTime": {
     "end_time": "2023-06-02T12:11:57.447406400Z",
     "start_time": "2023-06-02T12:11:56.464353600Z"
    }
   },
   "outputs": [
    {
     "ename": "AttributeError",
     "evalue": "'DataFrame' object has no attribute 'cluster_with_2'",
     "output_type": "error",
     "traceback": [
      "\u001B[1;31m---------------------------------------------------------------------------\u001B[0m",
      "\u001B[1;31mAttributeError\u001B[0m                            Traceback (most recent call last)",
      "Cell \u001B[1;32mIn[9], line 4\u001B[0m\n\u001B[0;32m      1\u001B[0m \u001B[38;5;28;01mimport\u001B[39;00m \u001B[38;5;21;01mmatplotlib\u001B[39;00m\u001B[38;5;21;01m.\u001B[39;00m\u001B[38;5;21;01mpyplot\u001B[39;00m \u001B[38;5;28;01mas\u001B[39;00m \u001B[38;5;21;01mplt\u001B[39;00m\n\u001B[0;32m      3\u001B[0m fig, ax\u001B[38;5;241m=\u001B[39mplt\u001B[38;5;241m.\u001B[39msubplots(figsize\u001B[38;5;241m=\u001B[39m(\u001B[38;5;241m10\u001B[39m,\u001B[38;5;241m5\u001B[39m))\n\u001B[1;32m----> 4\u001B[0m ax\u001B[38;5;241m.\u001B[39mscatter(simpsons\u001B[38;5;241m.\u001B[39mleeftijd, simpsons\u001B[38;5;241m.\u001B[39mgewicht, c\u001B[38;5;241m=\u001B[39m\u001B[43msimpsons\u001B[49m\u001B[38;5;241;43m.\u001B[39;49m\u001B[43mcluster_with_2\u001B[49m, cmap\u001B[38;5;241m=\u001B[39m\u001B[38;5;124m'\u001B[39m\u001B[38;5;124mrainbow\u001B[39m\u001B[38;5;124m'\u001B[39m) \u001B[38;5;66;03m# \"c=simpsons.cluster_with_2, cmap='rainbow'\" voor kleuren\u001B[39;00m\n\u001B[0;32m      5\u001B[0m ax\u001B[38;5;241m.\u001B[39mset_title(\u001B[38;5;124m'\u001B[39m\u001B[38;5;124mY vs X\u001B[39m\u001B[38;5;124m'\u001B[39m)\n\u001B[0;32m      6\u001B[0m ax\u001B[38;5;241m.\u001B[39mset_xlabel(\u001B[38;5;124m'\u001B[39m\u001B[38;5;124mX\u001B[39m\u001B[38;5;124m'\u001B[39m)\n",
      "File \u001B[1;32m~\\Downloads\\DataScience1\\venv\\lib\\site-packages\\pandas\\core\\generic.py:5989\u001B[0m, in \u001B[0;36mNDFrame.__getattr__\u001B[1;34m(self, name)\u001B[0m\n\u001B[0;32m   5982\u001B[0m \u001B[38;5;28;01mif\u001B[39;00m (\n\u001B[0;32m   5983\u001B[0m     name \u001B[38;5;129;01mnot\u001B[39;00m \u001B[38;5;129;01min\u001B[39;00m \u001B[38;5;28mself\u001B[39m\u001B[38;5;241m.\u001B[39m_internal_names_set\n\u001B[0;32m   5984\u001B[0m     \u001B[38;5;129;01mand\u001B[39;00m name \u001B[38;5;129;01mnot\u001B[39;00m \u001B[38;5;129;01min\u001B[39;00m \u001B[38;5;28mself\u001B[39m\u001B[38;5;241m.\u001B[39m_metadata\n\u001B[0;32m   5985\u001B[0m     \u001B[38;5;129;01mand\u001B[39;00m name \u001B[38;5;129;01mnot\u001B[39;00m \u001B[38;5;129;01min\u001B[39;00m \u001B[38;5;28mself\u001B[39m\u001B[38;5;241m.\u001B[39m_accessors\n\u001B[0;32m   5986\u001B[0m     \u001B[38;5;129;01mand\u001B[39;00m \u001B[38;5;28mself\u001B[39m\u001B[38;5;241m.\u001B[39m_info_axis\u001B[38;5;241m.\u001B[39m_can_hold_identifiers_and_holds_name(name)\n\u001B[0;32m   5987\u001B[0m ):\n\u001B[0;32m   5988\u001B[0m     \u001B[38;5;28;01mreturn\u001B[39;00m \u001B[38;5;28mself\u001B[39m[name]\n\u001B[1;32m-> 5989\u001B[0m \u001B[38;5;28;01mreturn\u001B[39;00m \u001B[38;5;28;43mobject\u001B[39;49m\u001B[38;5;241;43m.\u001B[39;49m\u001B[38;5;21;43m__getattribute__\u001B[39;49m\u001B[43m(\u001B[49m\u001B[38;5;28;43mself\u001B[39;49m\u001B[43m,\u001B[49m\u001B[43m \u001B[49m\u001B[43mname\u001B[49m\u001B[43m)\u001B[49m\n",
      "\u001B[1;31mAttributeError\u001B[0m: 'DataFrame' object has no attribute 'cluster_with_2'"
     ]
    },
    {
     "data": {
      "text/plain": "<Figure size 1000x500 with 1 Axes>",
      "image/png": "[encoded data removed]"
     },
     "metadata": {},
     "output_type": "display_data"
    }
   ],
   "source": [
    "import matplotlib.pyplot as plt\n",
    "\n",
    "fig, ax=plt.subplots(figsize=(10,5))\n",
    "ax.scatter(simpsons.leeftijd, simpsons.gewicht, c=simpsons.cluster_with_2, cmap='rainbow') # \"c=simpsons.cluster_with_2, cmap='rainbow'\" voor kleuren\n",
    "ax.set_title('Y vs X')\n",
    "ax.set_xlabel('X')\n",
    "ax.set_ylabel('Y')\n",
    "_=ax.grid(linestyle='--', axis='x')"
   ]
  },
  {
   "cell_type": "markdown",
   "metadata": {
    "id": "zXbhPJKzWAZ9"
   },
   "source": [
    "9. Bepaal nu 3 clusters uit de boom en maak weer een plot. Welke Simpsons zitten nu in welke categorie?"
   ]
  },
  {
   "cell_type": "code",
   "execution_count": null,
   "metadata": {
    "ExecuteTime": {
     "start_time": "2023-06-02T12:11:57.435719300Z"
    }
   },
   "outputs": [],
   "source": [
    "from sklearn.cluster import AgglomerativeClustering\n",
    "\n",
    "cluster = AgglomerativeClustering(n_clusters=3, metric='manhattan', linkage='single')\n",
    "cluster.fit(simpsons)\n",
    "simpsons['cluster_with_3'] = cluster.labels_\n",
    "print(simpsons)"
   ]
  },
  {
   "cell_type": "code",
   "execution_count": null,
   "outputs": [],
   "source": [
    "fig, ax=plt.subplots(figsize=(10,5))\n",
    "ax.scatter(simpsons.leeftijd, simpsons.gewicht, c=simpsons.cluster_with_3, cmap='rainbow') # \"c=simpsons.cluster_with_3, cmap='rainbow'\" voor kleuren\n",
    "ax.set_title('Y vs X')\n",
    "ax.set_xlabel('X')\n",
    "ax.set_ylabel('Y')\n",
    "_=ax.grid(linestyle='--', axis='x')"
   ],
   "metadata": {
    "collapsed": false
   }
  },
  {
   "cell_type": "markdown",
   "metadata": {
    "id": "_VcIcD1mWAeD"
   },
   "source": [
    "10. Probeer nu 2 clusters te maken met het k-means algoritme. Kijk naar de centroids. In welke coördinaten verschillen deze centroids het meest?"
   ]
  },
  {
   "cell_type": "code",
   "execution_count": null,
   "metadata": {},
   "outputs": [],
   "source": [
    "# K-means algoritme\n",
    "from sklearn.cluster import KMeans\n",
    "model = KMeans(n_clusters=2, n_init='auto', max_iter=100)\n",
    "model.fit(simpsons)\n",
    "model_simpsons_KMeans = pd.DataFrame(zip(simpsons.leeftijd, simpsons.gewicht, model.labels_), columns=[\"x\", \"y\", \"cluster\"])\n",
    "display(model_simpsons_KMeans)\n",
    "\n",
    "# Berekenen en visualiseren van centroids\n",
    "fig, ax = plt.subplots(figsize=(5, 5))\n",
    "ax.scatter(simpsons.gewicht, simpsons.leeftijd, c=model.labels_)\n",
    "ax.scatter(model.cluster_centers_[:, 1], model.cluster_centers_[:, 2], c='black', s=100)\n",
    "ax.set_xlabel(\"gewicht\")\n",
    "ax.set_ylabel(\"leeftijd\")\n",
    "ax.grid(linestyle='--')"
   ]
  },
  {
   "cell_type": "markdown",
   "metadata": {
    "collapsed": false,
    "id": "3ZG3i7gOU6di",
    "pycharm": {
     "name": "#%% md\n"
    }
   },
   "source": [
    "\n",
    "11. Kan je een beslissingsboom opstellen die bepaalt in welke cluster een Simpson valt?\n",
    "Maak hiertoe een kolom bij waarin het clusternummer staat en gebruik DecisionTreeClassifier om de boom op te stellen."
   ]
  },
  {
   "cell_type": "code",
   "execution_count": null,
   "metadata": {},
   "outputs": [],
   "source": [
    "from sklearn.tree import DecisionTreeClassifier\n",
    "from sklearn import tree\n",
    "\n",
    "from sklearn.cluster import KMeans\n",
    "model = KMeans(n_clusters=2, n_init='auto', max_iter=100)\n",
    "model.fit(simpsons)\n",
    "\n",
    "classifier = DecisionTreeClassifier(criterion='entropy')\n",
    "classifier.fit(simpsons.drop(['cluster_with_3', 'cluster_with_2'], axis=1), model.labels_)\n",
    "\n",
    "_ = tree.plot_tree(classifier, feature_names=['haarlengte', 'gewicht', 'leeftijd'], class_names=['cluster {}'.format(i) for i in np.unique(model.labels_)], filled=True)"
   ]
  }
 ],
 "metadata": {
  "colab": {
   "collapsed_sections": [],
   "name": "1 - The Simpons Revisited - oplossingen.ipynb",
   "provenance": []
  },
  "kernelspec": {
   "display_name": "Python 3",
   "language": "python",
   "name": "python3"
  },
  "language_info": {
   "codemirror_mode": {
    "name": "ipython",
    "version": 2
   },
   "file_extension": ".py",
   "mimetype": "text/x-python",
   "name": "python",
   "nbconvert_exporter": "python",
   "pygments_lexer": "ipython2",
   "version": "2.7.6"
  }
 },
 "nbformat": 4,
 "nbformat_minor": 0
}
