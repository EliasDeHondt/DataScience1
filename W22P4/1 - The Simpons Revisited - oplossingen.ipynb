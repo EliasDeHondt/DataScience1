{
 "nbformat": 4,
 "nbformat_minor": 0,
 "metadata": {
  "kernelspec": {
   "display_name": "Python 3",
   "language": "python",
   "name": "python3"
  },
  "language_info": {
   "codemirror_mode": {
    "name": "ipython",
    "version": 2
   },
   "file_extension": ".py",
   "mimetype": "text/x-python",
   "name": "python",
   "nbconvert_exporter": "python",
   "pygments_lexer": "ipython2",
   "version": "2.7.6"
  },
  "colab": {
   "name": "1 - The Simpons Revisited - oplossingen.ipynb",
   "provenance": [],
   "collapsed_sections": []
  }
 },
 "cells": [
  {
   "cell_type": "markdown",
   "metadata": {
    "collapsed": true,
    "pycharm": {
     "name": "#%% md\n"
    },
    "id": "u-MmH6m0U6dN"
   },
   "source": [
    "# De Simpsons revisited"
   ]
  },
  {
   "cell_type": "code",
   "metadata": {
    "pycharm": {
     "name": "#%%\n"
    },
    "id": "KlT23iU6SrwK",
    "executionInfo": {
     "status": "ok",
     "timestamp": 1621586269624,
     "user_tz": -120,
     "elapsed": 1390,
     "user": {
      "displayName": "Rony Baekeland",
      "photoUrl": "",
      "userId": "01731985152349302060"
     }
    }
   },
   "source": [
    "import sys\n",
    "import matplotlib\n",
    "import matplotlib.pyplot as plt\n",
    "import numpy as np\n",
    "import six\n",
    "\n",
    "sys.modules['sklearn.externals.six'] = six\n",
    "from IPython.display import display\n",
    "import scipy.stats as stats\n",
    "from scipy.spatial.distance import cdist\n",
    "from scipy.cluster.hierarchy import dendrogram, linkage\n",
    "from sklearn import tree\n",
    "from sklearn.tree import DecisionTreeClassifier\n",
    "from sklearn.neighbors import DistanceMetric\n"
   ],
   "execution_count": 7,
   "outputs": []
  },
  {
   "cell_type": "markdown",
   "metadata": {
    "id": "mOa21m5TTMr0",
    "pycharm": {
     "name": "#%% md\n"
    }
   },
   "source": [
    "In deze oefening willen we nagaan welke soorten Simpsons er zijn. Hiervoor gebruiken we de oorspronkelijke data (waarbij de attributen continu zijn).\n",
    "Je vindt deze in \"simpsons.csv\".\n",
    "\n",
    "1. Lees het bestand in, wis de kolommen \"naam\" en \"geslacht\" want deze zijn nominaal."
   ]
  },
  {
   "cell_type": "code",
   "metadata": {
    "pycharm": {
     "name": "#%%\n"
    },
    "colab": {
     "base_uri": "https://localhost:8080/"
    },
    "id": "pxtYxvoiSrwJ",
    "executionInfo": {
     "status": "ok",
     "timestamp": 1621586263846,
     "user_tz": -120,
     "elapsed": 183,
     "user": {
      "displayName": "Rony Baekeland",
      "photoUrl": "",
      "userId": "01731985152349302060"
     }
    },
    "outputId": "b9e5d305-bfc1-458e-9241-9f943b87d921"
   },
   "source": [
    "import pandas as pd\n",
    "\n",
    "simpsons = pd.read_csv(\"datasets/simpsons origineel.csv\")\n",
    "# we gaan namen vergelijken daarom handig om namen als index te gebruiken\n",
    "simpsons.index = simpsons.naam\n",
    "simpsons = simpsons.drop(['naam', 'geslacht'], axis=1)\n",
    "simpsons.info()\n",
    "print(simpsons.head(10))"
   ],
   "execution_count": 6,
   "outputs": [
    {
     "output_type": "stream",
     "text": [
      "<class 'pandas.core.frame.DataFrame'>\n",
      "Index: 9 entries, Homer to Krusty\n",
      "Data columns (total 3 columns):\n",
      " #   Column      Non-Null Count  Dtype\n",
      "---  ------      --------------  -----\n",
      " 0   haarlengte  9 non-null      int64\n",
      " 1   gewicht     9 non-null      int64\n",
      " 2   leeftijd    9 non-null      int64\n",
      "dtypes: int64(3)\n",
      "memory usage: 288.0+ bytes\n",
      "        haarlengte  gewicht  leeftijd\n",
      "naam                                 \n",
      "Homer            0      250        36\n",
      "Marge           10      150        34\n",
      "Bart             2       90        10\n",
      "Lisa             6       78         8\n",
      "Maggie           4       20         1\n",
      "Abe              1      170        70\n",
      "Selma            8      160        41\n",
      "Otto            10      180        38\n",
      "Krusty           6      200        45\n"
     ],
     "name": "stdout"
    }
   ]
  },
  {
   "cell_type": "markdown",
   "metadata": {
    "id": "Gb5uKhvcTdf8",
    "pycharm": {
     "name": "#%% md\n"
    }
   },
   "source": [
    "2. Bepaal de euclidische afstanden tussen de Simpsons."
   ]
  },
  {
   "cell_type": "code",
   "metadata": {
    "colab": {
     "base_uri": "https://localhost:8080/",
     "height": 646
    },
    "id": "P3zRvCtPWgwc",
    "executionInfo": {
     "status": "ok",
     "timestamp": 1621586272935,
     "user_tz": -120,
     "elapsed": 180,
     "user": {
      "displayName": "Rony Baekeland",
      "photoUrl": "",
      "userId": "01731985152349302060"
     }
    },
    "outputId": "ef62c86b-a9bc-4f1f-831a-ae9cc8174f7a",
    "pycharm": {
     "name": "#%%\n"
    }
   },
   "source": [
    "afstand_eu = pd.DataFrame(data=cdist(simpsons, simpsons), columns=simpsons.index.values, index=simpsons.index.values)\n",
    "display(afstand_eu)\n",
    "\n",
    "# alternatief\n",
    "dist_obj = DistanceMetric.get_metric('euclidean')\n",
    "afstand_eu = pd.DataFrame(data=dist_obj.pairwise(simpsons), columns=simpsons.index.values, index=simpsons.index.values)\n",
    "display(afstand_eu)"
   ],
   "execution_count": 8,
   "outputs": [
    {
     "output_type": "display_data",
     "data": {
      "text/html": [
       "<div>\n",
       "<style scoped>\n",
       "    .dataframe tbody tr th:only-of-type {\n",
       "        vertical-align: middle;\n",
       "    }\n",
       "\n",
       "    .dataframe tbody tr th {\n",
       "        vertical-align: top;\n",
       "    }\n",
       "\n",
       "    .dataframe thead th {\n",
       "        text-align: right;\n",
       "    }\n",
       "</style>\n",
       "<table border=\"1\" class=\"dataframe\">\n",
       "  <thead>\n",
       "    <tr style=\"text-align: right;\">\n",
       "      <th></th>\n",
       "      <th>Homer</th>\n",
       "      <th>Marge</th>\n",
       "      <th>Bart</th>\n",
       "      <th>Lisa</th>\n",
       "      <th>Maggie</th>\n",
       "      <th>Abe</th>\n",
       "      <th>Selma</th>\n",
       "      <th>Otto</th>\n",
       "      <th>Krusty</th>\n",
       "    </tr>\n",
       "  </thead>\n",
       "  <tbody>\n",
       "    <tr>\n",
       "      <th>Homer</th>\n",
       "      <td>0.000000</td>\n",
       "      <td>100.518655</td>\n",
       "      <td>162.111073</td>\n",
       "      <td>174.367428</td>\n",
       "      <td>232.682187</td>\n",
       "      <td>86.931007</td>\n",
       "      <td>90.493094</td>\n",
       "      <td>70.738957</td>\n",
       "      <td>51.156622</td>\n",
       "    </tr>\n",
       "    <tr>\n",
       "      <th>Marge</th>\n",
       "      <td>100.518655</td>\n",
       "      <td>0.000000</td>\n",
       "      <td>65.115282</td>\n",
       "      <td>76.655072</td>\n",
       "      <td>134.257216</td>\n",
       "      <td>42.154478</td>\n",
       "      <td>12.369317</td>\n",
       "      <td>30.265492</td>\n",
       "      <td>51.351728</td>\n",
       "    </tr>\n",
       "    <tr>\n",
       "      <th>Bart</th>\n",
       "      <td>162.111073</td>\n",
       "      <td>65.115282</td>\n",
       "      <td>0.000000</td>\n",
       "      <td>12.806248</td>\n",
       "      <td>70.604532</td>\n",
       "      <td>100.005000</td>\n",
       "      <td>76.791927</td>\n",
       "      <td>94.593869</td>\n",
       "      <td>115.503247</td>\n",
       "    </tr>\n",
       "    <tr>\n",
       "      <th>Lisa</th>\n",
       "      <td>174.367428</td>\n",
       "      <td>76.655072</td>\n",
       "      <td>12.806248</td>\n",
       "      <td>0.000000</td>\n",
       "      <td>58.455111</td>\n",
       "      <td>111.054041</td>\n",
       "      <td>88.413800</td>\n",
       "      <td>106.395489</td>\n",
       "      <td>127.487254</td>\n",
       "    </tr>\n",
       "    <tr>\n",
       "      <th>Maggie</th>\n",
       "      <td>232.682187</td>\n",
       "      <td>134.257216</td>\n",
       "      <td>70.604532</td>\n",
       "      <td>58.455111</td>\n",
       "      <td>0.000000</td>\n",
       "      <td>165.136307</td>\n",
       "      <td>145.657132</td>\n",
       "      <td>164.331981</td>\n",
       "      <td>185.310550</td>\n",
       "    </tr>\n",
       "    <tr>\n",
       "      <th>Abe</th>\n",
       "      <td>86.931007</td>\n",
       "      <td>42.154478</td>\n",
       "      <td>100.005000</td>\n",
       "      <td>111.054041</td>\n",
       "      <td>165.136307</td>\n",
       "      <td>0.000000</td>\n",
       "      <td>31.464265</td>\n",
       "      <td>34.713110</td>\n",
       "      <td>39.370039</td>\n",
       "    </tr>\n",
       "    <tr>\n",
       "      <th>Selma</th>\n",
       "      <td>90.493094</td>\n",
       "      <td>12.369317</td>\n",
       "      <td>76.791927</td>\n",
       "      <td>88.413800</td>\n",
       "      <td>145.657132</td>\n",
       "      <td>31.464265</td>\n",
       "      <td>0.000000</td>\n",
       "      <td>20.322401</td>\n",
       "      <td>40.249224</td>\n",
       "    </tr>\n",
       "    <tr>\n",
       "      <th>Otto</th>\n",
       "      <td>70.738957</td>\n",
       "      <td>30.265492</td>\n",
       "      <td>94.593869</td>\n",
       "      <td>106.395489</td>\n",
       "      <td>164.331981</td>\n",
       "      <td>34.713110</td>\n",
       "      <td>20.322401</td>\n",
       "      <td>0.000000</td>\n",
       "      <td>21.563859</td>\n",
       "    </tr>\n",
       "    <tr>\n",
       "      <th>Krusty</th>\n",
       "      <td>51.156622</td>\n",
       "      <td>51.351728</td>\n",
       "      <td>115.503247</td>\n",
       "      <td>127.487254</td>\n",
       "      <td>185.310550</td>\n",
       "      <td>39.370039</td>\n",
       "      <td>40.249224</td>\n",
       "      <td>21.563859</td>\n",
       "      <td>0.000000</td>\n",
       "    </tr>\n",
       "  </tbody>\n",
       "</table>\n",
       "</div>"
      ],
      "text/plain": [
       "             Homer       Marge        Bart  ...       Selma        Otto      Krusty\n",
       "Homer     0.000000  100.518655  162.111073  ...   90.493094   70.738957   51.156622\n",
       "Marge   100.518655    0.000000   65.115282  ...   12.369317   30.265492   51.351728\n",
       "Bart    162.111073   65.115282    0.000000  ...   76.791927   94.593869  115.503247\n",
       "Lisa    174.367428   76.655072   12.806248  ...   88.413800  106.395489  127.487254\n",
       "Maggie  232.682187  134.257216   70.604532  ...  145.657132  164.331981  185.310550\n",
       "Abe      86.931007   42.154478  100.005000  ...   31.464265   34.713110   39.370039\n",
       "Selma    90.493094   12.369317   76.791927  ...    0.000000   20.322401   40.249224\n",
       "Otto     70.738957   30.265492   94.593869  ...   20.322401    0.000000   21.563859\n",
       "Krusty   51.156622   51.351728  115.503247  ...   40.249224   21.563859    0.000000\n",
       "\n",
       "[9 rows x 9 columns]"
      ]
     },
     "metadata": {
      "tags": []
     }
    },
    {
     "output_type": "display_data",
     "data": {
      "text/html": [
       "<div>\n",
       "<style scoped>\n",
       "    .dataframe tbody tr th:only-of-type {\n",
       "        vertical-align: middle;\n",
       "    }\n",
       "\n",
       "    .dataframe tbody tr th {\n",
       "        vertical-align: top;\n",
       "    }\n",
       "\n",
       "    .dataframe thead th {\n",
       "        text-align: right;\n",
       "    }\n",
       "</style>\n",
       "<table border=\"1\" class=\"dataframe\">\n",
       "  <thead>\n",
       "    <tr style=\"text-align: right;\">\n",
       "      <th></th>\n",
       "      <th>Homer</th>\n",
       "      <th>Marge</th>\n",
       "      <th>Bart</th>\n",
       "      <th>Lisa</th>\n",
       "      <th>Maggie</th>\n",
       "      <th>Abe</th>\n",
       "      <th>Selma</th>\n",
       "      <th>Otto</th>\n",
       "      <th>Krusty</th>\n",
       "    </tr>\n",
       "  </thead>\n",
       "  <tbody>\n",
       "    <tr>\n",
       "      <th>Homer</th>\n",
       "      <td>0.000000</td>\n",
       "      <td>100.518655</td>\n",
       "      <td>162.111073</td>\n",
       "      <td>174.367428</td>\n",
       "      <td>232.682187</td>\n",
       "      <td>86.931007</td>\n",
       "      <td>90.493094</td>\n",
       "      <td>70.738957</td>\n",
       "      <td>51.156622</td>\n",
       "    </tr>\n",
       "    <tr>\n",
       "      <th>Marge</th>\n",
       "      <td>100.518655</td>\n",
       "      <td>0.000000</td>\n",
       "      <td>65.115282</td>\n",
       "      <td>76.655072</td>\n",
       "      <td>134.257216</td>\n",
       "      <td>42.154478</td>\n",
       "      <td>12.369317</td>\n",
       "      <td>30.265492</td>\n",
       "      <td>51.351728</td>\n",
       "    </tr>\n",
       "    <tr>\n",
       "      <th>Bart</th>\n",
       "      <td>162.111073</td>\n",
       "      <td>65.115282</td>\n",
       "      <td>0.000000</td>\n",
       "      <td>12.806248</td>\n",
       "      <td>70.604532</td>\n",
       "      <td>100.005000</td>\n",
       "      <td>76.791927</td>\n",
       "      <td>94.593869</td>\n",
       "      <td>115.503247</td>\n",
       "    </tr>\n",
       "    <tr>\n",
       "      <th>Lisa</th>\n",
       "      <td>174.367428</td>\n",
       "      <td>76.655072</td>\n",
       "      <td>12.806248</td>\n",
       "      <td>0.000000</td>\n",
       "      <td>58.455111</td>\n",
       "      <td>111.054041</td>\n",
       "      <td>88.413800</td>\n",
       "      <td>106.395489</td>\n",
       "      <td>127.487254</td>\n",
       "    </tr>\n",
       "    <tr>\n",
       "      <th>Maggie</th>\n",
       "      <td>232.682187</td>\n",
       "      <td>134.257216</td>\n",
       "      <td>70.604532</td>\n",
       "      <td>58.455111</td>\n",
       "      <td>0.000000</td>\n",
       "      <td>165.136307</td>\n",
       "      <td>145.657132</td>\n",
       "      <td>164.331981</td>\n",
       "      <td>185.310550</td>\n",
       "    </tr>\n",
       "    <tr>\n",
       "      <th>Abe</th>\n",
       "      <td>86.931007</td>\n",
       "      <td>42.154478</td>\n",
       "      <td>100.005000</td>\n",
       "      <td>111.054041</td>\n",
       "      <td>165.136307</td>\n",
       "      <td>0.000000</td>\n",
       "      <td>31.464265</td>\n",
       "      <td>34.713110</td>\n",
       "      <td>39.370039</td>\n",
       "    </tr>\n",
       "    <tr>\n",
       "      <th>Selma</th>\n",
       "      <td>90.493094</td>\n",
       "      <td>12.369317</td>\n",
       "      <td>76.791927</td>\n",
       "      <td>88.413800</td>\n",
       "      <td>145.657132</td>\n",
       "      <td>31.464265</td>\n",
       "      <td>0.000000</td>\n",
       "      <td>20.322401</td>\n",
       "      <td>40.249224</td>\n",
       "    </tr>\n",
       "    <tr>\n",
       "      <th>Otto</th>\n",
       "      <td>70.738957</td>\n",
       "      <td>30.265492</td>\n",
       "      <td>94.593869</td>\n",
       "      <td>106.395489</td>\n",
       "      <td>164.331981</td>\n",
       "      <td>34.713110</td>\n",
       "      <td>20.322401</td>\n",
       "      <td>0.000000</td>\n",
       "      <td>21.563859</td>\n",
       "    </tr>\n",
       "    <tr>\n",
       "      <th>Krusty</th>\n",
       "      <td>51.156622</td>\n",
       "      <td>51.351728</td>\n",
       "      <td>115.503247</td>\n",
       "      <td>127.487254</td>\n",
       "      <td>185.310550</td>\n",
       "      <td>39.370039</td>\n",
       "      <td>40.249224</td>\n",
       "      <td>21.563859</td>\n",
       "      <td>0.000000</td>\n",
       "    </tr>\n",
       "  </tbody>\n",
       "</table>\n",
       "</div>"
      ],
      "text/plain": [
       "             Homer       Marge        Bart  ...       Selma        Otto      Krusty\n",
       "Homer     0.000000  100.518655  162.111073  ...   90.493094   70.738957   51.156622\n",
       "Marge   100.518655    0.000000   65.115282  ...   12.369317   30.265492   51.351728\n",
       "Bart    162.111073   65.115282    0.000000  ...   76.791927   94.593869  115.503247\n",
       "Lisa    174.367428   76.655072   12.806248  ...   88.413800  106.395489  127.487254\n",
       "Maggie  232.682187  134.257216   70.604532  ...  145.657132  164.331981  185.310550\n",
       "Abe      86.931007   42.154478  100.005000  ...   31.464265   34.713110   39.370039\n",
       "Selma    90.493094   12.369317   76.791927  ...    0.000000   20.322401   40.249224\n",
       "Otto     70.738957   30.265492   94.593869  ...   20.322401    0.000000   21.563859\n",
       "Krusty   51.156622   51.351728  115.503247  ...   40.249224   21.563859    0.000000\n",
       "\n",
       "[9 rows x 9 columns]"
      ]
     },
     "metadata": {
      "tags": []
     }
    }
   ]
  },
  {
   "cell_type": "markdown",
   "metadata": {
    "id": "eSQ0lxnbTdk3",
    "pycharm": {
     "name": "#%% md\n"
    }
   },
   "source": [
    "3. Welke Simpsons zijn het dichtst bij elkaar?"
   ]
  },
  {
   "cell_type": "code",
   "metadata": {
    "colab": {
     "base_uri": "https://localhost:8080/"
    },
    "id": "DOiikvr0cN4H",
    "executionInfo": {
     "status": "ok",
     "timestamp": 1621586276107,
     "user_tz": -120,
     "elapsed": 201,
     "user": {
      "displayName": "Rony Baekeland",
      "photoUrl": "",
      "userId": "01731985152349302060"
     }
    },
    "outputId": "a6f6965b-0eab-4059-a0fe-5d5f321c2f5e",
    "pycharm": {
     "name": "#%%\n"
    }
   },
   "source": [
    "afstandenSimpsons = pd.DataFrame([[afstand_eu.loc[naamr, naamk], naamk, naamr] for naamr in afstand_eu.columns for naamk in afstand_eu.columns if\n",
    "     naamr != naamk], columns=[\"afstand\", \"naam1\", \"naam2\"])\n",
    "print(afstandenSimpsons.sort_values(by=[\"afstand\"]))\n",
    "#marge en selma"
   ],
   "execution_count": 9,
   "outputs": [
    {
     "output_type": "stream",
     "text": [
      "       afstand   naam1   naam2\n",
      "49   12.369317   Marge   Selma\n",
      "13   12.369317   Selma   Marge\n",
      "26   12.806248    Bart    Lisa\n",
      "18   12.806248    Lisa    Bart\n",
      "54   20.322401    Otto   Selma\n",
      "..         ...     ...     ...\n",
      "2   174.367428    Lisa   Homer\n",
      "68  185.310550  Maggie  Krusty\n",
      "39  185.310550  Krusty  Maggie\n",
      "3   232.682187  Maggie   Homer\n",
      "32  232.682187   Homer  Maggie\n",
      "\n",
      "[72 rows x 3 columns]\n"
     ],
     "name": "stdout"
    }
   ]
  },
  {
   "cell_type": "markdown",
   "metadata": {
    "id": "Z99YVDQMTdp-",
    "pycharm": {
     "name": "#%% md\n"
    }
   },
   "source": [
    "4. Wat is de Manhattan afstand tussen Homer en Bart?"
   ]
  },
  {
   "cell_type": "code",
   "metadata": {
    "colab": {
     "base_uri": "https://localhost:8080/",
     "height": 331
    },
    "id": "Q1APmcIsWhTk",
    "executionInfo": {
     "status": "ok",
     "timestamp": 1621586278376,
     "user_tz": -120,
     "elapsed": 190,
     "user": {
      "displayName": "Rony Baekeland",
      "photoUrl": "",
      "userId": "01731985152349302060"
     }
    },
    "outputId": "a09457ea-5ef1-4170-e4be-e633dd285c00",
    "pycharm": {
     "name": "#%%\n"
    }
   },
   "source": [
    "afstand_eu = pd.DataFrame(data=cdist(simpsons, simpsons, metric=\"cityblock\"), columns=simpsons.index.values, index=simpsons.index.values)\n",
    "display(afstand_eu)\n",
    "# 188"
   ],
   "execution_count": 10,
   "outputs": [
    {
     "output_type": "display_data",
     "data": {
      "text/html": [
       "<div>\n",
       "<style scoped>\n",
       "    .dataframe tbody tr th:only-of-type {\n",
       "        vertical-align: middle;\n",
       "    }\n",
       "\n",
       "    .dataframe tbody tr th {\n",
       "        vertical-align: top;\n",
       "    }\n",
       "\n",
       "    .dataframe thead th {\n",
       "        text-align: right;\n",
       "    }\n",
       "</style>\n",
       "<table border=\"1\" class=\"dataframe\">\n",
       "  <thead>\n",
       "    <tr style=\"text-align: right;\">\n",
       "      <th></th>\n",
       "      <th>Homer</th>\n",
       "      <th>Marge</th>\n",
       "      <th>Bart</th>\n",
       "      <th>Lisa</th>\n",
       "      <th>Maggie</th>\n",
       "      <th>Abe</th>\n",
       "      <th>Selma</th>\n",
       "      <th>Otto</th>\n",
       "      <th>Krusty</th>\n",
       "    </tr>\n",
       "  </thead>\n",
       "  <tbody>\n",
       "    <tr>\n",
       "      <th>Homer</th>\n",
       "      <td>0.0</td>\n",
       "      <td>112.0</td>\n",
       "      <td>188.0</td>\n",
       "      <td>206.0</td>\n",
       "      <td>269.0</td>\n",
       "      <td>115.0</td>\n",
       "      <td>103.0</td>\n",
       "      <td>82.0</td>\n",
       "      <td>65.0</td>\n",
       "    </tr>\n",
       "    <tr>\n",
       "      <th>Marge</th>\n",
       "      <td>112.0</td>\n",
       "      <td>0.0</td>\n",
       "      <td>92.0</td>\n",
       "      <td>102.0</td>\n",
       "      <td>169.0</td>\n",
       "      <td>65.0</td>\n",
       "      <td>19.0</td>\n",
       "      <td>34.0</td>\n",
       "      <td>65.0</td>\n",
       "    </tr>\n",
       "    <tr>\n",
       "      <th>Bart</th>\n",
       "      <td>188.0</td>\n",
       "      <td>92.0</td>\n",
       "      <td>0.0</td>\n",
       "      <td>18.0</td>\n",
       "      <td>81.0</td>\n",
       "      <td>141.0</td>\n",
       "      <td>107.0</td>\n",
       "      <td>126.0</td>\n",
       "      <td>149.0</td>\n",
       "    </tr>\n",
       "    <tr>\n",
       "      <th>Lisa</th>\n",
       "      <td>206.0</td>\n",
       "      <td>102.0</td>\n",
       "      <td>18.0</td>\n",
       "      <td>0.0</td>\n",
       "      <td>67.0</td>\n",
       "      <td>159.0</td>\n",
       "      <td>117.0</td>\n",
       "      <td>136.0</td>\n",
       "      <td>159.0</td>\n",
       "    </tr>\n",
       "    <tr>\n",
       "      <th>Maggie</th>\n",
       "      <td>269.0</td>\n",
       "      <td>169.0</td>\n",
       "      <td>81.0</td>\n",
       "      <td>67.0</td>\n",
       "      <td>0.0</td>\n",
       "      <td>222.0</td>\n",
       "      <td>184.0</td>\n",
       "      <td>203.0</td>\n",
       "      <td>226.0</td>\n",
       "    </tr>\n",
       "    <tr>\n",
       "      <th>Abe</th>\n",
       "      <td>115.0</td>\n",
       "      <td>65.0</td>\n",
       "      <td>141.0</td>\n",
       "      <td>159.0</td>\n",
       "      <td>222.0</td>\n",
       "      <td>0.0</td>\n",
       "      <td>46.0</td>\n",
       "      <td>51.0</td>\n",
       "      <td>60.0</td>\n",
       "    </tr>\n",
       "    <tr>\n",
       "      <th>Selma</th>\n",
       "      <td>103.0</td>\n",
       "      <td>19.0</td>\n",
       "      <td>107.0</td>\n",
       "      <td>117.0</td>\n",
       "      <td>184.0</td>\n",
       "      <td>46.0</td>\n",
       "      <td>0.0</td>\n",
       "      <td>25.0</td>\n",
       "      <td>46.0</td>\n",
       "    </tr>\n",
       "    <tr>\n",
       "      <th>Otto</th>\n",
       "      <td>82.0</td>\n",
       "      <td>34.0</td>\n",
       "      <td>126.0</td>\n",
       "      <td>136.0</td>\n",
       "      <td>203.0</td>\n",
       "      <td>51.0</td>\n",
       "      <td>25.0</td>\n",
       "      <td>0.0</td>\n",
       "      <td>31.0</td>\n",
       "    </tr>\n",
       "    <tr>\n",
       "      <th>Krusty</th>\n",
       "      <td>65.0</td>\n",
       "      <td>65.0</td>\n",
       "      <td>149.0</td>\n",
       "      <td>159.0</td>\n",
       "      <td>226.0</td>\n",
       "      <td>60.0</td>\n",
       "      <td>46.0</td>\n",
       "      <td>31.0</td>\n",
       "      <td>0.0</td>\n",
       "    </tr>\n",
       "  </tbody>\n",
       "</table>\n",
       "</div>"
      ],
      "text/plain": [
       "        Homer  Marge   Bart   Lisa  Maggie    Abe  Selma   Otto  Krusty\n",
       "Homer     0.0  112.0  188.0  206.0   269.0  115.0  103.0   82.0    65.0\n",
       "Marge   112.0    0.0   92.0  102.0   169.0   65.0   19.0   34.0    65.0\n",
       "Bart    188.0   92.0    0.0   18.0    81.0  141.0  107.0  126.0   149.0\n",
       "Lisa    206.0  102.0   18.0    0.0    67.0  159.0  117.0  136.0   159.0\n",
       "Maggie  269.0  169.0   81.0   67.0     0.0  222.0  184.0  203.0   226.0\n",
       "Abe     115.0   65.0  141.0  159.0   222.0    0.0   46.0   51.0    60.0\n",
       "Selma   103.0   19.0  107.0  117.0   184.0   46.0    0.0   25.0    46.0\n",
       "Otto     82.0   34.0  126.0  136.0   203.0   51.0   25.0    0.0    31.0\n",
       "Krusty   65.0   65.0  149.0  159.0   226.0   60.0   46.0   31.0     0.0"
      ]
     },
     "metadata": {
      "tags": []
     }
    }
   ]
  },
  {
   "cell_type": "markdown",
   "metadata": {
    "id": "fWdQX4nsTdvP",
    "pycharm": {
     "name": "#%% md\n"
    }
   },
   "source": [
    "5. Wat is de gestandaardiseerde euclidische afstand tussen Marge en Maggie?"
   ]
  },
  {
   "cell_type": "code",
   "metadata": {
    "id": "2E5PqbPcWiMk",
    "colab": {
     "base_uri": "https://localhost:8080/",
     "height": 646
    },
    "executionInfo": {
     "status": "ok",
     "timestamp": 1621586280639,
     "user_tz": -120,
     "elapsed": 209,
     "user": {
      "displayName": "Rony Baekeland",
      "photoUrl": "",
      "userId": "01731985152349302060"
     }
    },
    "outputId": "7e8d8df5-6e50-47c0-ce04-aef77ac346fb",
    "pycharm": {
     "name": "#%%\n"
    }
   },
   "source": [
    "afstand_eu = pd.DataFrame(data=cdist(simpsons, simpsons, metric=\"seuclidean\"), columns=simpsons.index.values,\n",
    "                          index=simpsons.index.values)\n",
    "display(afstand_eu)\n",
    "# 2.975943\n",
    "\n",
    "# of\n",
    "simpsons_Z = pd.DataFrame(data=stats.zscore(simpsons, axis=0), columns=simpsons.columns.values,\n",
    "                          index=simpsons.index.values)\n",
    "simpsons_Z.gewicht.mean()\n",
    "simpsons_Z.gewicht.std()\n",
    "simpsons_Z.leeftijd.mean()\n",
    "simpsons_Z.leeftijd.std()\n",
    "simpsons_Z['haarlengte'].mean()\n",
    "simpsons_Z['haarlengte'].std()\n",
    "afstandZ_eu = pd.DataFrame(data=cdist(simpsons_Z, simpsons_Z), columns=simpsons_Z.index.values,\n",
    "                           index=simpsons_Z.index.values)\n",
    "display(afstandZ_eu)\n",
    "\n"
   ],
   "execution_count": 11,
   "outputs": [
    {
     "output_type": "display_data",
     "data": {
      "text/html": [
       "<div>\n",
       "<style scoped>\n",
       "    .dataframe tbody tr th:only-of-type {\n",
       "        vertical-align: middle;\n",
       "    }\n",
       "\n",
       "    .dataframe tbody tr th {\n",
       "        vertical-align: top;\n",
       "    }\n",
       "\n",
       "    .dataframe thead th {\n",
       "        text-align: right;\n",
       "    }\n",
       "</style>\n",
       "<table border=\"1\" class=\"dataframe\">\n",
       "  <thead>\n",
       "    <tr style=\"text-align: right;\">\n",
       "      <th></th>\n",
       "      <th>Homer</th>\n",
       "      <th>Marge</th>\n",
       "      <th>Bart</th>\n",
       "      <th>Lisa</th>\n",
       "      <th>Maggie</th>\n",
       "      <th>Abe</th>\n",
       "      <th>Selma</th>\n",
       "      <th>Otto</th>\n",
       "      <th>Krusty</th>\n",
       "    </tr>\n",
       "  </thead>\n",
       "  <tbody>\n",
       "    <tr>\n",
       "      <th>Homer</th>\n",
       "      <td>0.000000</td>\n",
       "      <td>3.129265</td>\n",
       "      <td>2.714563</td>\n",
       "      <td>3.303446</td>\n",
       "      <td>3.927929</td>\n",
       "      <td>2.017076</td>\n",
       "      <td>2.585639</td>\n",
       "      <td>2.947674</td>\n",
       "      <td>1.861902</td>\n",
       "    </tr>\n",
       "    <tr>\n",
       "      <th>Marge</th>\n",
       "      <td>3.129265</td>\n",
       "      <td>0.000000</td>\n",
       "      <td>2.637183</td>\n",
       "      <td>1.966131</td>\n",
       "      <td>2.975943</td>\n",
       "      <td>3.030141</td>\n",
       "      <td>0.661020</td>\n",
       "      <td>0.480447</td>\n",
       "      <td>1.425834</td>\n",
       "    </tr>\n",
       "    <tr>\n",
       "      <th>Bart</th>\n",
       "      <td>2.714563</td>\n",
       "      <td>2.637183</td>\n",
       "      <td>0.000000</td>\n",
       "      <td>1.122187</td>\n",
       "      <td>1.244079</td>\n",
       "      <td>3.095406</td>\n",
       "      <td>2.443563</td>\n",
       "      <td>2.897863</td>\n",
       "      <td>2.569145</td>\n",
       "    </tr>\n",
       "    <tr>\n",
       "      <th>Lisa</th>\n",
       "      <td>3.303446</td>\n",
       "      <td>1.966131</td>\n",
       "      <td>1.122187</td>\n",
       "      <td>0.000000</td>\n",
       "      <td>1.069204</td>\n",
       "      <td>3.522388</td>\n",
       "      <td>2.053327</td>\n",
       "      <td>2.345299</td>\n",
       "      <td>2.511692</td>\n",
       "    </tr>\n",
       "    <tr>\n",
       "      <th>Maggie</th>\n",
       "      <td>3.927929</td>\n",
       "      <td>2.975943</td>\n",
       "      <td>1.244079</td>\n",
       "      <td>1.069204</td>\n",
       "      <td>0.000000</td>\n",
       "      <td>4.036536</td>\n",
       "      <td>3.011513</td>\n",
       "      <td>3.371988</td>\n",
       "      <td>3.417952</td>\n",
       "    </tr>\n",
       "    <tr>\n",
       "      <th>Abe</th>\n",
       "      <td>2.017076</td>\n",
       "      <td>3.030141</td>\n",
       "      <td>3.095406</td>\n",
       "      <td>3.522388</td>\n",
       "      <td>4.036536</td>\n",
       "      <td>0.000000</td>\n",
       "      <td>2.377446</td>\n",
       "      <td>2.916041</td>\n",
       "      <td>1.873348</td>\n",
       "    </tr>\n",
       "    <tr>\n",
       "      <th>Selma</th>\n",
       "      <td>2.585639</td>\n",
       "      <td>0.661020</td>\n",
       "      <td>2.443563</td>\n",
       "      <td>2.053327</td>\n",
       "      <td>3.011513</td>\n",
       "      <td>2.377446</td>\n",
       "      <td>0.000000</td>\n",
       "      <td>0.641586</td>\n",
       "      <td>0.828899</td>\n",
       "    </tr>\n",
       "    <tr>\n",
       "      <th>Otto</th>\n",
       "      <td>2.947674</td>\n",
       "      <td>0.480447</td>\n",
       "      <td>2.897863</td>\n",
       "      <td>2.345299</td>\n",
       "      <td>3.371988</td>\n",
       "      <td>2.916041</td>\n",
       "      <td>0.641586</td>\n",
       "      <td>0.000000</td>\n",
       "      <td>1.190043</td>\n",
       "    </tr>\n",
       "    <tr>\n",
       "      <th>Krusty</th>\n",
       "      <td>1.861902</td>\n",
       "      <td>1.425834</td>\n",
       "      <td>2.569145</td>\n",
       "      <td>2.511692</td>\n",
       "      <td>3.417952</td>\n",
       "      <td>1.873348</td>\n",
       "      <td>0.828899</td>\n",
       "      <td>1.190043</td>\n",
       "      <td>0.000000</td>\n",
       "    </tr>\n",
       "  </tbody>\n",
       "</table>\n",
       "</div>"
      ],
      "text/plain": [
       "           Homer     Marge      Bart  ...     Selma      Otto    Krusty\n",
       "Homer   0.000000  3.129265  2.714563  ...  2.585639  2.947674  1.861902\n",
       "Marge   3.129265  0.000000  2.637183  ...  0.661020  0.480447  1.425834\n",
       "Bart    2.714563  2.637183  0.000000  ...  2.443563  2.897863  2.569145\n",
       "Lisa    3.303446  1.966131  1.122187  ...  2.053327  2.345299  2.511692\n",
       "Maggie  3.927929  2.975943  1.244079  ...  3.011513  3.371988  3.417952\n",
       "Abe     2.017076  3.030141  3.095406  ...  2.377446  2.916041  1.873348\n",
       "Selma   2.585639  0.661020  2.443563  ...  0.000000  0.641586  0.828899\n",
       "Otto    2.947674  0.480447  2.897863  ...  0.641586  0.000000  1.190043\n",
       "Krusty  1.861902  1.425834  2.569145  ...  0.828899  1.190043  0.000000\n",
       "\n",
       "[9 rows x 9 columns]"
      ]
     },
     "metadata": {
      "tags": []
     }
    },
    {
     "output_type": "display_data",
     "data": {
      "text/html": [
       "<div>\n",
       "<style scoped>\n",
       "    .dataframe tbody tr th:only-of-type {\n",
       "        vertical-align: middle;\n",
       "    }\n",
       "\n",
       "    .dataframe tbody tr th {\n",
       "        vertical-align: top;\n",
       "    }\n",
       "\n",
       "    .dataframe thead th {\n",
       "        text-align: right;\n",
       "    }\n",
       "</style>\n",
       "<table border=\"1\" class=\"dataframe\">\n",
       "  <thead>\n",
       "    <tr style=\"text-align: right;\">\n",
       "      <th></th>\n",
       "      <th>Homer</th>\n",
       "      <th>Marge</th>\n",
       "      <th>Bart</th>\n",
       "      <th>Lisa</th>\n",
       "      <th>Maggie</th>\n",
       "      <th>Abe</th>\n",
       "      <th>Selma</th>\n",
       "      <th>Otto</th>\n",
       "      <th>Krusty</th>\n",
       "    </tr>\n",
       "  </thead>\n",
       "  <tbody>\n",
       "    <tr>\n",
       "      <th>Homer</th>\n",
       "      <td>0.000000</td>\n",
       "      <td>3.219987</td>\n",
       "      <td>2.793262</td>\n",
       "      <td>3.399218</td>\n",
       "      <td>4.041806</td>\n",
       "      <td>2.075554</td>\n",
       "      <td>2.660600</td>\n",
       "      <td>3.033132</td>\n",
       "      <td>1.915881</td>\n",
       "    </tr>\n",
       "    <tr>\n",
       "      <th>Marge</th>\n",
       "      <td>3.219987</td>\n",
       "      <td>0.000000</td>\n",
       "      <td>2.713639</td>\n",
       "      <td>2.023132</td>\n",
       "      <td>3.062220</td>\n",
       "      <td>3.117990</td>\n",
       "      <td>0.680184</td>\n",
       "      <td>0.494376</td>\n",
       "      <td>1.467171</td>\n",
       "    </tr>\n",
       "    <tr>\n",
       "      <th>Bart</th>\n",
       "      <td>2.793262</td>\n",
       "      <td>2.713639</td>\n",
       "      <td>0.000000</td>\n",
       "      <td>1.154721</td>\n",
       "      <td>1.280147</td>\n",
       "      <td>3.185147</td>\n",
       "      <td>2.514406</td>\n",
       "      <td>2.981876</td>\n",
       "      <td>2.643629</td>\n",
       "    </tr>\n",
       "    <tr>\n",
       "      <th>Lisa</th>\n",
       "      <td>3.399218</td>\n",
       "      <td>2.023132</td>\n",
       "      <td>1.154721</td>\n",
       "      <td>0.000000</td>\n",
       "      <td>1.100202</td>\n",
       "      <td>3.624507</td>\n",
       "      <td>2.112856</td>\n",
       "      <td>2.413293</td>\n",
       "      <td>2.584509</td>\n",
       "    </tr>\n",
       "    <tr>\n",
       "      <th>Maggie</th>\n",
       "      <td>4.041806</td>\n",
       "      <td>3.062220</td>\n",
       "      <td>1.280147</td>\n",
       "      <td>1.100202</td>\n",
       "      <td>0.000000</td>\n",
       "      <td>4.153561</td>\n",
       "      <td>3.098822</td>\n",
       "      <td>3.469747</td>\n",
       "      <td>3.517043</td>\n",
       "    </tr>\n",
       "    <tr>\n",
       "      <th>Abe</th>\n",
       "      <td>2.075554</td>\n",
       "      <td>3.117990</td>\n",
       "      <td>3.185147</td>\n",
       "      <td>3.624507</td>\n",
       "      <td>4.153561</td>\n",
       "      <td>0.000000</td>\n",
       "      <td>2.446372</td>\n",
       "      <td>3.000581</td>\n",
       "      <td>1.927660</td>\n",
       "    </tr>\n",
       "    <tr>\n",
       "      <th>Selma</th>\n",
       "      <td>2.660600</td>\n",
       "      <td>0.680184</td>\n",
       "      <td>2.514406</td>\n",
       "      <td>2.112856</td>\n",
       "      <td>3.098822</td>\n",
       "      <td>2.446372</td>\n",
       "      <td>0.000000</td>\n",
       "      <td>0.660186</td>\n",
       "      <td>0.852930</td>\n",
       "    </tr>\n",
       "    <tr>\n",
       "      <th>Otto</th>\n",
       "      <td>3.033132</td>\n",
       "      <td>0.494376</td>\n",
       "      <td>2.981876</td>\n",
       "      <td>2.413293</td>\n",
       "      <td>3.469747</td>\n",
       "      <td>3.000581</td>\n",
       "      <td>0.660186</td>\n",
       "      <td>0.000000</td>\n",
       "      <td>1.224545</td>\n",
       "    </tr>\n",
       "    <tr>\n",
       "      <th>Krusty</th>\n",
       "      <td>1.915881</td>\n",
       "      <td>1.467171</td>\n",
       "      <td>2.643629</td>\n",
       "      <td>2.584509</td>\n",
       "      <td>3.517043</td>\n",
       "      <td>1.927660</td>\n",
       "      <td>0.852930</td>\n",
       "      <td>1.224545</td>\n",
       "      <td>0.000000</td>\n",
       "    </tr>\n",
       "  </tbody>\n",
       "</table>\n",
       "</div>"
      ],
      "text/plain": [
       "           Homer     Marge      Bart  ...     Selma      Otto    Krusty\n",
       "Homer   0.000000  3.219987  2.793262  ...  2.660600  3.033132  1.915881\n",
       "Marge   3.219987  0.000000  2.713639  ...  0.680184  0.494376  1.467171\n",
       "Bart    2.793262  2.713639  0.000000  ...  2.514406  2.981876  2.643629\n",
       "Lisa    3.399218  2.023132  1.154721  ...  2.112856  2.413293  2.584509\n",
       "Maggie  4.041806  3.062220  1.280147  ...  3.098822  3.469747  3.517043\n",
       "Abe     2.075554  3.117990  3.185147  ...  2.446372  3.000581  1.927660\n",
       "Selma   2.660600  0.680184  2.514406  ...  0.000000  0.660186  0.852930\n",
       "Otto    3.033132  0.494376  2.981876  ...  0.660186  0.000000  1.224545\n",
       "Krusty  1.915881  1.467171  2.643629  ...  0.852930  1.224545  0.000000\n",
       "\n",
       "[9 rows x 9 columns]"
      ]
     },
     "metadata": {
      "tags": []
     }
    }
   ]
  },
  {
   "cell_type": "markdown",
   "metadata": {
    "id": "W96140f4WAEz",
    "pycharm": {
     "name": "#%% md\n"
    }
   },
   "source": [
    "6. Maak nu een dendrogram (gebruik euclidische afstanden)\n"
   ]
  },
  {
   "cell_type": "code",
   "metadata": {
    "id": "S9VXcQEIWjCW",
    "colab": {
     "base_uri": "https://localhost:8080/",
     "height": 280
    },
    "executionInfo": {
     "status": "ok",
     "timestamp": 1621586287476,
     "user_tz": -120,
     "elapsed": 649,
     "user": {
      "displayName": "Rony Baekeland",
      "photoUrl": "",
      "userId": "01731985152349302060"
     }
    },
    "outputId": "a1c15a82-0be1-4d13-f4aa-630bf193342f",
    "pycharm": {
     "name": "#%%\n"
    }
   },
   "source": [
    "def plot_dendrogram(dataset, hor=True):\n",
    "    colors = list(matplotlib.colors.cnames.keys())\n",
    "    ax = plt.axes()\n",
    "    distances = linkage(dataset, method='single')\n",
    "    ax.set_title(\"Dendrogram\")\n",
    "    ax.set_ylabel('Euclidische afstand')\n",
    "    ax.grid(linestyle='--', axis='y')\n",
    "    if (hor):\n",
    "        orient = 'right'\n",
    "    else:\n",
    "        orient = 'top'\n",
    "    dgram = dendrogram(distances, labels=dataset.index.values,\n",
    "                       link_color_func=lambda x: colors[x % len(colors)],\n",
    "                       leaf_font_size=8., ax=ax, orientation=orient)\n",
    "    plt.show()\n",
    "\n",
    "\n",
    "plot_dendrogram(simpsons, False)"
   ],
   "execution_count": 12,
   "outputs": [
    {
     "output_type": "display_data",
     "data": {
      "image/png": "[encoded data removed]",
      "text/plain": [
       "<Figure size 432x288 with 1 Axes>"
      ]
     },
     "metadata": {
      "tags": [],
      "needs_background": "light"
     }
    }
   ]
  },
  {
   "cell_type": "markdown",
   "metadata": {
    "id": "DjdawEytWAPg",
    "pycharm": {
     "name": "#%% md\n"
    }
   },
   "source": [
    "7. Als je 2 clusters zou moeten selecteren uit deze boom, welke zijn dat dan? Hoe zou je die clusters benoemen?"
   ]
  },
  {
   "cell_type": "code",
   "metadata": {
    "id": "DJE_hjtBWjzM",
    "colab": {
     "base_uri": "https://localhost:8080/"
    },
    "executionInfo": {
     "status": "ok",
     "timestamp": 1621586494789,
     "user_tz": -120,
     "elapsed": 192,
     "user": {
      "displayName": "Rony Baekeland",
      "photoUrl": "",
      "userId": "01731985152349302060"
     }
    },
    "outputId": "35a7a75f-e062-4104-d78b-232271b167e9",
    "pycharm": {
     "name": "#%%\n"
    }
   },
   "source": [
    "# kinderen en volwassenen\n",
    "from sklearn.cluster import AgglomerativeClustering\n",
    "\n",
    "cluster = AgglomerativeClustering(n_clusters=2, affinity='manhattan', linkage='single')\n",
    "cluster.fit(simpsons)\n",
    "simpsons['cluster_with_2'] = cluster.labels_\n",
    "print(simpsons)"
   ],
   "execution_count": 21,
   "outputs": [
    {
     "output_type": "stream",
     "text": [
      "        haarlengte  gewicht  leeftijd  cluster_with_2\n",
      "naam                                                 \n",
      "Homer            0      250        36               1\n",
      "Marge           10      150        34               1\n",
      "Bart             2       90        10               0\n",
      "Lisa             6       78         8               0\n",
      "Maggie           4       20         1               0\n",
      "Abe              1      170        70               1\n",
      "Selma            8      160        41               1\n",
      "Otto            10      180        38               1\n",
      "Krusty           6      200        45               1\n"
     ],
     "name": "stdout"
    }
   ]
  },
  {
   "cell_type": "markdown",
   "metadata": {
    "id": "LrhbeeakWAV8",
    "pycharm": {
     "name": "#%% md\n"
    }
   },
   "source": [
    "8. Maak een scatterplot van de Simpsons waarbij je in de X-as leeftijd zet en in de Y-as het gewicht. Gebruik het clusternummer voor de kleur.\n"
   ]
  },
  {
   "cell_type": "code",
   "metadata": {
    "id": "cd6zbxUdWkdC",
    "colab": {
     "base_uri": "https://localhost:8080/",
     "height": 283
    },
    "executionInfo": {
     "status": "ok",
     "timestamp": 1621586533723,
     "user_tz": -120,
     "elapsed": 525,
     "user": {
      "displayName": "Rony Baekeland",
      "photoUrl": "",
      "userId": "01731985152349302060"
     }
    },
    "outputId": "675b45ee-f9c0-4c7a-a1b4-8569fab5a2de",
    "pycharm": {
     "name": "#%%\n"
    }
   },
   "source": [
    "ax = plt.axes()\n",
    "cluster0 = simpsons[simpsons.cluster_with_2 == 0]\n",
    "cluster1 = simpsons[simpsons.cluster_with_2 == 1]\n",
    "ax.scatter(x=cluster0.gewicht, y=cluster0.leeftijd, color=\"red\")\n",
    "ax.scatter(x=cluster1.gewicht, y=cluster1.leeftijd, color=\"blue\")"
   ],
   "execution_count": 22,
   "outputs": [
    {
     "output_type": "execute_result",
     "data": {
      "text/plain": [
       "<matplotlib.collections.PathCollection at 0x7ff98213a110>"
      ]
     },
     "metadata": {
      "tags": []
     },
     "execution_count": 22
    },
    {
     "output_type": "display_data",
     "data": {
      "image/png": "[encoded data removed]",
      "text/plain": [
       "<Figure size 432x288 with 1 Axes>"
      ]
     },
     "metadata": {
      "tags": [],
      "needs_background": "light"
     }
    }
   ]
  },
  {
   "cell_type": "markdown",
   "metadata": {
    "id": "zXbhPJKzWAZ9",
    "pycharm": {
     "name": "#%% md\n"
    }
   },
   "source": [
    "9. Bepaal nu 3 clusters uit de boom en maak weer een plot. Welke Simpsons zitten nu in welke categorie?"
   ]
  },
  {
   "cell_type": "code",
   "metadata": {
    "id": "yDznYww0WlDi",
    "colab": {
     "base_uri": "https://localhost:8080/"
    },
    "executionInfo": {
     "status": "ok",
     "timestamp": 1621586608066,
     "user_tz": -120,
     "elapsed": 210,
     "user": {
      "displayName": "Rony Baekeland",
      "photoUrl": "",
      "userId": "01731985152349302060"
     }
    },
    "outputId": "306ae5d1-2df9-44ba-ad06-0cb013d39e52",
    "pycharm": {
     "name": "#%%\n"
    }
   },
   "source": [
    "cluster = AgglomerativeClustering(n_clusters=3, affinity='euclidean', linkage='ward')\n",
    "cluster.fit(simpsons)\n",
    "simpsons['cluster_with_3'] = cluster.labels_\n",
    "print(simpsons)"
   ],
   "execution_count": 23,
   "outputs": [
    {
     "output_type": "stream",
     "text": [
      "        haarlengte  gewicht  leeftijd  cluster_with_2  cluster_with_3\n",
      "naam                                                                 \n",
      "Homer            0      250        36               1               2\n",
      "Marge           10      150        34               1               1\n",
      "Bart             2       90        10               0               0\n",
      "Lisa             6       78         8               0               0\n",
      "Maggie           4       20         1               0               0\n",
      "Abe              1      170        70               1               1\n",
      "Selma            8      160        41               1               1\n",
      "Otto            10      180        38               1               1\n",
      "Krusty           6      200        45               1               1\n"
     ],
     "name": "stdout"
    }
   ]
  },
  {
   "cell_type": "markdown",
   "metadata": {
    "id": "_VcIcD1mWAeD",
    "pycharm": {
     "name": "#%% md\n"
    }
   },
   "source": [
    "10. Probeer nu 2 clusters te maken met het k-means algoritme. Kijk naar de centroids. In welke coördinaten verschillen deze centroids het meest?"
   ]
  },
  {
   "cell_type": "code",
   "metadata": {
    "id": "qOGVe2gwWlng",
    "colab": {
     "base_uri": "https://localhost:8080/",
     "height": 606
    },
    "executionInfo": {
     "status": "ok",
     "timestamp": 1621587466151,
     "user_tz": -120,
     "elapsed": 696,
     "user": {
      "displayName": "Rony Baekeland",
      "photoUrl": "",
      "userId": "01731985152349302060"
     }
    },
    "outputId": "39da73b0-74c8-4dfc-a4ce-eabcec0e686b",
    "pycharm": {
     "name": "#%%\n"
    }
   },
   "source": [
    "from sklearn.cluster import KMeans\n",
    "import matplotlib.pyplot as plt\n",
    "\n",
    "model = KMeans(n_clusters=2)\n",
    "model.fit(simpsons)\n",
    "model.labels_\n",
    "#plotten van de data\n",
    "fig, ax = plt.subplots(figsize=(10, 10))\n",
    "ax.scatter(simpsons.gewicht, simpsons.leeftijd, c=model.labels_)\n",
    "ax.scatter(model.cluster_centers_[:, 1],\n",
    "           model.cluster_centers_[:, 2], c='black', s=200)\n",
    "ax.set_xlabel(\"gewicht\")\n",
    "ax.set_ylabel(\"leeftijd\")\n",
    "ax.grid(linestyle='--')"
   ],
   "execution_count": 25,
   "outputs": [
    {
     "output_type": "display_data",
     "data": {
      "image/png": "[encoded data removed]",
      "text/plain": [
       "<Figure size 720x720 with 1 Axes>"
      ]
     },
     "metadata": {
      "tags": [],
      "needs_background": "light"
     }
    }
   ]
  },
  {
   "cell_type": "markdown",
   "metadata": {
    "collapsed": false,
    "pycharm": {
     "name": "#%% md\n"
    },
    "id": "3ZG3i7gOU6di"
   },
   "source": [
    "\n",
    "11.Kan je een beslissingsboom opstellen die bepaalt in welke cluster een Simpson valt?\n",
    "Maak hiertoe een kolom bij waarin het clusternummer staat en gebruik DecisionTreeClassifier om de boom op te stellen."
   ]
  },
  {
   "cell_type": "code",
   "metadata": {
    "id": "fCPjTX7hWmNm",
    "colab": {
     "base_uri": "https://localhost:8080/",
     "height": 303
    },
    "executionInfo": {
     "status": "ok",
     "timestamp": 1621587762686,
     "user_tz": -120,
     "elapsed": 856,
     "user": {
      "displayName": "Rony Baekeland",
      "photoUrl": "",
      "userId": "01731985152349302060"
     }
    },
    "outputId": "64a72266-844a-44a4-fca7-e26bb554e682",
    "pycharm": {
     "name": "#%%\n"
    }
   },
   "source": [
    "classifier = DecisionTreeClassifier(criterion='entropy')\n",
    "classifier.fit(simpsons.drop(['cluster_with_3', 'cluster_with_2'], axis=1), model.labels_)\n",
    "\n",
    "_ = tree.plot_tree(classifier, feature_names=['haarlengte', 'gewicht', 'leeftijd'],\n",
    "               class_names=['cluster {}'.format(i) for i in np.unique(model.labels_)],\n",
    "               filled=True)"
   ],
   "execution_count": 26,
   "outputs": [
    {
     "output_type": "execute_result",
     "data": {
      "text/plain": [
       "[Text(167.4, 163.07999999999998, 'leeftijd <= 22.0\\nentropy = 0.918\\nsamples = 9\\nvalue = [6, 3]\\nclass = cluster 0'),\n",
       " Text(83.7, 54.360000000000014, 'entropy = 0.0\\nsamples = 3\\nvalue = [0, 3]\\nclass = cluster 1'),\n",
       " Text(251.10000000000002, 54.360000000000014, 'entropy = 0.0\\nsamples = 6\\nvalue = [6, 0]\\nclass = cluster 0')]"
      ]
     },
     "metadata": {
      "tags": []
     },
     "execution_count": 26
    },
    {
     "output_type": "display_data",
     "data": {
      "image/png": "[encoded data removed]",
      "text/plain": [
       "<Figure size 432x288 with 1 Axes>"
      ]
     },
     "metadata": {
      "tags": [],
      "needs_background": "light"
     }
    }
   ]
  }
 ]
}
