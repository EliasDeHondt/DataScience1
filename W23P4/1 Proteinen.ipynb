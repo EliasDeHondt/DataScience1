{
 "nbformat": 4,
 "nbformat_minor": 0,
 "metadata": {
  "kernelspec": {
   "display_name": "Python 3",
   "language": "python",
   "name": "python3"
  },
  "language_info": {
   "codemirror_mode": {
    "name": "ipython",
    "version": 2
   },
   "file_extension": ".py",
   "mimetype": "text/x-python",
   "name": "python",
   "nbconvert_exporter": "python",
   "pygments_lexer": "ipython2",
   "version": "2.7.6"
  },
  "colab": {
   "name": "1 Proteinen.ipynb",
   "provenance": [],
   "collapsed_sections": []
  }
 },
 "cells": [
  {
   "cell_type": "markdown",
   "metadata": {
    "collapsed": true,
    "pycharm": {
     "name": "#%% md\n"
    },
    "id": "CEP-yjO0qqVY"
   },
   "source": [
    "# Proteïnen\n",
    "De onderstaande gegevens met betrekking tot de gemiddelde proteïneconsumptie komende van verschillende voedselbronnen door inwoners in 25 Europese landen, kan je terug vinden op Canvas (Protein consumption in 25 European countries.csv).\n",
    "\n",
    "<font size=2>_Bron: Manly, Bryan and Navarro Alberto , Jorge (2017): Multivariate Statistical Methods A Primer, Fourth Edition, CRC Press_</font>"
   ]
  },
  {
   "cell_type": "code",
   "metadata": {
    "pycharm": {
     "name": "#%%\n"
    },
    "id": "QuoPYzpLqqVd",
    "outputId": "089bdda4-b601-4af7-d83d-e5ba5e7a9686"
   },
   "source": [
    "# keep\n",
    "protein.head()"
   ],
   "execution_count": null,
   "outputs": [
    {
     "output_type": "execute_result",
     "data": {
      "text/html": [
       "<div>\n",
       "<style scoped>\n",
       "    .dataframe tbody tr th:only-of-type {\n",
       "        vertical-align: middle;\n",
       "    }\n",
       "\n",
       "    .dataframe tbody tr th {\n",
       "        vertical-align: top;\n",
       "    }\n",
       "\n",
       "    .dataframe thead th {\n",
       "        text-align: right;\n",
       "    }\n",
       "</style>\n",
       "<table border=\"1\" class=\"dataframe\">\n",
       "  <thead>\n",
       "    <tr style=\"text-align: right;\">\n",
       "      <th></th>\n",
       "      <th>Red_Meat</th>\n",
       "      <th>White_Meat</th>\n",
       "      <th>Eggs</th>\n",
       "      <th>Milk</th>\n",
       "      <th>Fish</th>\n",
       "      <th>Cereal</th>\n",
       "      <th>Starch</th>\n",
       "      <th>Nuts</th>\n",
       "      <th>Fruits_Vegetables</th>\n",
       "    </tr>\n",
       "    <tr>\n",
       "      <th>Country</th>\n",
       "      <th></th>\n",
       "      <th></th>\n",
       "      <th></th>\n",
       "      <th></th>\n",
       "      <th></th>\n",
       "      <th></th>\n",
       "      <th></th>\n",
       "      <th></th>\n",
       "      <th></th>\n",
       "    </tr>\n",
       "  </thead>\n",
       "  <tbody>\n",
       "    <tr>\n",
       "      <th>Albania</th>\n",
       "      <td>10.1</td>\n",
       "      <td>1.4</td>\n",
       "      <td>0.5</td>\n",
       "      <td>8.9</td>\n",
       "      <td>0.2</td>\n",
       "      <td>42.3</td>\n",
       "      <td>0.6</td>\n",
       "      <td>5.5</td>\n",
       "      <td>1.7</td>\n",
       "    </tr>\n",
       "    <tr>\n",
       "      <th>Austria</th>\n",
       "      <td>8.9</td>\n",
       "      <td>14.0</td>\n",
       "      <td>4.3</td>\n",
       "      <td>19.9</td>\n",
       "      <td>2.1</td>\n",
       "      <td>28.0</td>\n",
       "      <td>3.6</td>\n",
       "      <td>1.3</td>\n",
       "      <td>4.3</td>\n",
       "    </tr>\n",
       "    <tr>\n",
       "      <th>Belgium</th>\n",
       "      <td>13.5</td>\n",
       "      <td>9.3</td>\n",
       "      <td>4.1</td>\n",
       "      <td>17.5</td>\n",
       "      <td>4.5</td>\n",
       "      <td>26.6</td>\n",
       "      <td>5.7</td>\n",
       "      <td>2.1</td>\n",
       "      <td>4.0</td>\n",
       "    </tr>\n",
       "    <tr>\n",
       "      <th>Bulgaria</th>\n",
       "      <td>7.8</td>\n",
       "      <td>6.0</td>\n",
       "      <td>1.6</td>\n",
       "      <td>8.3</td>\n",
       "      <td>1.2</td>\n",
       "      <td>56.7</td>\n",
       "      <td>1.1</td>\n",
       "      <td>3.7</td>\n",
       "      <td>4.2</td>\n",
       "    </tr>\n",
       "    <tr>\n",
       "      <th>Czechoslovakia</th>\n",
       "      <td>9.7</td>\n",
       "      <td>11.4</td>\n",
       "      <td>2.8</td>\n",
       "      <td>12.5</td>\n",
       "      <td>2.0</td>\n",
       "      <td>34.3</td>\n",
       "      <td>5.0</td>\n",
       "      <td>1.1</td>\n",
       "      <td>4.0</td>\n",
       "    </tr>\n",
       "  </tbody>\n",
       "</table>\n",
       "</div>"
      ],
      "text/plain": [
       "                Red_Meat  White_Meat  Eggs  Milk  Fish  Cereal  Starch  Nuts  \\\n",
       "Country                                                                        \n",
       "Albania             10.1         1.4   0.5   8.9   0.2    42.3     0.6   5.5   \n",
       "Austria              8.9        14.0   4.3  19.9   2.1    28.0     3.6   1.3   \n",
       "Belgium             13.5         9.3   4.1  17.5   4.5    26.6     5.7   2.1   \n",
       "Bulgaria             7.8         6.0   1.6   8.3   1.2    56.7     1.1   3.7   \n",
       "Czechoslovakia       9.7        11.4   2.8  12.5   2.0    34.3     5.0   1.1   \n",
       "\n",
       "                Fruits_Vegetables  \n",
       "Country                            \n",
       "Albania                       1.7  \n",
       "Austria                       4.3  \n",
       "Belgium                       4.0  \n",
       "Bulgaria                      4.2  \n",
       "Czechoslovakia                4.0  "
      ]
     },
     "metadata": {
      "tags": []
     },
     "execution_count": 56
    }
   ]
  },
  {
   "cell_type": "markdown",
   "metadata": {
    "collapsed": false,
    "pycharm": {
     "name": "#%% md\n"
    },
    "id": "C7qYVNAwqqVg"
   },
   "source": [
    " a.\tPlaats de gegevens in een dataframe. Gebruik daarbij de namen van de landen die in de eerste kolom staan als index."
   ]
  },
  {
   "cell_type": "code",
   "execution_count": null,
   "outputs": [],
   "source": [],
   "metadata": {
    "collapsed": false
   }
  },
  {
   "cell_type": "markdown",
   "metadata": {
    "collapsed": false,
    "pycharm": {
     "name": "#%% md\n"
    },
    "id": "Wu8hvD3OqqVh"
   },
   "source": [
    "b.\tWelke kolommen dien je te verwijderen om een Principale-Componenten Analyse te kunnen uitvoeren?\n",
    "\n",
    "_Tip:  Verwijder eventuele kolommen met de verkeerde meetschaal, kolommen die niet zinvol zijn, afhankelijk zijn …._"
   ]
  },
  {
   "cell_type": "code",
   "execution_count": null,
   "outputs": [],
   "source": [],
   "metadata": {
    "collapsed": false
   }
  },
  {
   "cell_type": "markdown",
   "metadata": {
    "collapsed": false,
    "pycharm": {
     "name": "#%% md\n"
    },
    "id": "64MN97j3qqVh"
   },
   "source": [
    "c.\tBekijk de correlaties tussen de variabelen. Zijn de gegevens bruikbaar om er een Principale-Componenten Analyse op toe te passen?"
   ]
  },
  {
   "cell_type": "code",
   "execution_count": null,
   "outputs": [],
   "source": [],
   "metadata": {
    "collapsed": false
   }
  },
  {
   "cell_type": "markdown",
   "metadata": {
    "collapsed": false,
    "pycharm": {
     "name": "#%% md\n"
    },
    "id": "jTsnPwCbqqVi"
   },
   "source": [
    "d.\tVoer een Principale-Componenten Analyse uit en interpreteer de resultaten. Vergeet niet dat je de gegevens eerst moet standardiseren. Je kan hier best een pipeline voor aanmaken met een StandardScaler"
   ]
  },
  {
   "cell_type": "code",
   "execution_count": null,
   "outputs": [],
   "source": [],
   "metadata": {
    "collapsed": false
   }
  },
  {
   "cell_type": "markdown",
   "metadata": {
    "collapsed": false,
    "pycharm": {
     "name": "#%% md\n"
    },
    "id": "P82OobltqqVj"
   },
   "source": [
    "e.\tZijn er een of meerdere variabelen die uitgesproken doorweegt in het bepalen van de eerste hoofdcomponent? Zo ja welke?"
   ]
  },
  {
   "cell_type": "code",
   "execution_count": null,
   "outputs": [],
   "source": [],
   "metadata": {
    "collapsed": false
   }
  },
  {
   "cell_type": "markdown",
   "metadata": {
    "collapsed": false,
    "pycharm": {
     "name": "#%% md\n"
    },
    "id": "RP2ltk3DqqVj"
   },
   "source": [
    "f.\tMaak een biplot. Welke landen horen bij elkaar? Vind je dit verrassend?"
   ]
  },
  {
   "cell_type": "code",
   "execution_count": null,
   "outputs": [],
   "source": [],
   "metadata": {
    "collapsed": false
   }
  },
  {
   "cell_type": "markdown",
   "metadata": {
    "collapsed": false,
    "pycharm": {
     "name": "#%% md\n"
    },
    "id": "hD6wRZFTqqVk"
   },
   "source": [
    "g.\tMaak een nieuw dataframe aan waarbij we voor de observaties de eerste drie hoofdcomponenten nemen."
   ]
  },
  {
   "cell_type": "code",
   "execution_count": null,
   "outputs": [],
   "source": [],
   "metadata": {
    "collapsed": false
   }
  },
  {
   "cell_type": "markdown",
   "metadata": {
    "collapsed": false,
    "pycharm": {
     "name": "#%% md\n"
    },
    "id": "MLizVd1VqqVl"
   },
   "source": [
    "h.\tPas hier een hiërarchische cluster analyse op toe (euclidische afstand). Vergelijk de resultaten met de resultaten bekomen met een cluster analyse toegepast op de oorspronkelijke variabelen. Welke landen horen samen?"
   ]
  },
  {
   "cell_type": "code",
   "execution_count": null,
   "outputs": [],
   "source": [],
   "metadata": {
    "collapsed": false
   }
  },
  {
   "cell_type": "markdown",
   "metadata": {
    "collapsed": false,
    "pycharm": {
     "name": "#%% md\n"
    },
    "id": "WgnFZ-_0qqVl"
   },
   "source": [
    "i. Vergelijk tot slot ook even de biplots. Kom je hier ook tot dezelfde conclusies?"
   ]
  },
  {
   "cell_type": "code",
   "execution_count": null,
   "outputs": [],
   "source": [],
   "metadata": {
    "collapsed": false
   }
  }
 ]
}
