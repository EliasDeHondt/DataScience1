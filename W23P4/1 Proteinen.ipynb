{
 "nbformat": 4,
 "nbformat_minor": 0,
 "metadata": {
  "kernelspec": {
   "display_name": "Python 3",
   "language": "python",
   "name": "python3"
  },
  "language_info": {
   "codemirror_mode": {
    "name": "ipython",
    "version": 2
   },
   "file_extension": ".py",
   "mimetype": "text/x-python",
   "name": "python",
   "nbconvert_exporter": "python",
   "pygments_lexer": "ipython2",
   "version": "2.7.6"
  },
  "colab": {
   "name": "1 Proteinen.ipynb",
   "provenance": [],
   "collapsed_sections": []
  }
 },
 "cells": [
  {
   "cell_type": "markdown",
   "metadata": {
    "collapsed": true,
    "pycharm": {
     "name": "#%% md\n"
    },
    "id": "CEP-yjO0qqVY"
   },
   "source": [
    "# Proteïnen\n",
    "De onderstaande gegevens met betrekking tot de gemiddelde proteïneconsumptie komende van verschillende voedselbronnen door inwoners in 25 Europese landen, kan je terug vinden op Canvas (Protein consumption in 25 European countries.csv).\n",
    "\n",
    "<font size=2>_Bron: Manly, Bryan and Navarro Alberto , Jorge (2017): Multivariate Statistical Methods A Primer, Fourth Edition, CRC Press_</font>"
   ]
  },
  {
   "cell_type": "code",
   "metadata": {
    "pycharm": {
     "name": "#%%\n"
    },
    "id": "QuoPYzpLqqVd",
    "outputId": "089bdda4-b601-4af7-d83d-e5ba5e7a9686",
    "ExecuteTime": {
     "end_time": "2023-05-25T08:37:32.076933900Z",
     "start_time": "2023-05-25T08:37:31.964345100Z"
    }
   },
   "source": [
    "import pandas as pd\n",
    "\n",
    "protein = pd.read_csv(\"data/Protein consumption in 25 European countries.csv\", sep=\",\", decimal=\".\")\n",
    "display(protein)"
   ],
   "execution_count": 50,
   "outputs": [
    {
     "data": {
      "text/plain": "           Country Comunist  Region  Red_Meat  White_Meat  Eggs  Milk  Fish   \n0          Albania      Yes   South      10.1         1.4   0.5   8.9   0.2  \\\n1          Austria       No  Center       8.9        14.0   4.3  19.9   2.1   \n2          Belgium       No  Center      13.5         9.3   4.1  17.5   4.5   \n3         Bulgaria      Yes   South       7.8         6.0   1.6   8.3   1.2   \n4   Czechoslovakia      Yes  Center       9.7        11.4   2.8  12.5   2.0   \n5          Denmark       No   North      10.6        10.8   3.7  25.0   9.9   \n6        E_Germany      Yes  Center       8.4        11.6   3.7  11.1   5.4   \n7          Finland       No   North       9.5         4.9   2.7  33.7   5.8   \n8           France       No  Center      18.0         9.9   3.3  19.5   5.7   \n9           Greece       No   South      10.2         3.0   2.8  17.6   5.9   \n10         Hungary      Yes  Center       5.3        12.4   2.9   9.7   0.3   \n11         Ireland       No  Center      13.9        10.0   4.7  25.8   2.2   \n12           Italy       No   South       9.0         5.1   2.9  13.7   3.4   \n13          Holand       No  Center       9.5        13.6   3.6  23.4   2.5   \n14          Norway       No   North       9.4         4.7   2.7  23.3   9.7   \n15          Poland      Yes  Center       6.9        10.2   2.7  19.3   3.0   \n16        Portugal       No   South       6.2         3.7   1.1   4.9  14.2   \n17         Romania      Yes   South       6.2         6.3   1.5  11.1   1.0   \n18           Spain       No   South       7.1         3.4   3.1   8.6   7.0   \n19          Sweden       No   North       9.9         7.8   3.5  24.7   7.5   \n20     Switzerland       No  Center      13.1        10.1   3.1  23.8   2.3   \n21              UK       No  Center      17.4         5.7   4.7  20.6   4.3   \n22            USSR      Yes  Center       9.3         4.6   2.1  16.6   3.0   \n23       W_Germany       No  Center      11.4        12.5   4.1  18.8   3.4   \n24      Yugoslavia      Yes   South       4.4         5.0   1.2   9.5   0.6   \n\n    Cereal  Starch  Nuts  Fruits_Vegetables  Total  \n0     42.3     0.6   5.5                1.7   71.2  \n1     28.0     3.6   1.3                4.3   86.4  \n2     26.6     5.7   2.1                4.0   87.3  \n3     56.7     1.1   3.7                4.2   90.6  \n4     34.3     5.0   1.1                4.0   82.8  \n5     21.9     4.8   0.7                2.4   89.8  \n6     24.6     6.5   0.8                3.6   75.7  \n7     26.3     5.1   1.0                1.4   90.4  \n8     28.1     4.8   2.4                6.5   98.2  \n9     41.7     2.2   7.8                6.5   97.7  \n10    40.1     4.0   5.4                4.2   84.3  \n11    24.0     6.2   1.6                2.9   91.3  \n12    36.8     2.1   4.3                6.7   84.0  \n13    22.4     4.2   1.8                3.7   84.7  \n14    23.0     4.6   1.6                2.7   81.7  \n15    36.1     5.9   2.0                6.6   92.7  \n16    27.0     5.9   4.7                7.9   75.6  \n17    49.6     3.1   5.3                2.8   86.9  \n18    29.2     5.7   5.9                7.2   77.2  \n19    19.5     3.7   1.4                2.0   80.0  \n20    25.6     2.8   2.4                4.9   88.1  \n21    24.3     4.7   3.4                3.3   88.4  \n22    43.6     6.4   3.4                2.9   91.9  \n23    18.6     5.2   1.5                3.8   79.3  \n24    55.9     3.0   5.7                3.2   88.5  ",
      "text/html": "<div>\n<style scoped>\n    .dataframe tbody tr th:only-of-type {\n        vertical-align: middle;\n    }\n\n    .dataframe tbody tr th {\n        vertical-align: top;\n    }\n\n    .dataframe thead th {\n        text-align: right;\n    }\n</style>\n<table border=\"1\" class=\"dataframe\">\n  <thead>\n    <tr style=\"text-align: right;\">\n      <th></th>\n      <th>Country</th>\n      <th>Comunist</th>\n      <th>Region</th>\n      <th>Red_Meat</th>\n      <th>White_Meat</th>\n      <th>Eggs</th>\n      <th>Milk</th>\n      <th>Fish</th>\n      <th>Cereal</th>\n      <th>Starch</th>\n      <th>Nuts</th>\n      <th>Fruits_Vegetables</th>\n      <th>Total</th>\n    </tr>\n  </thead>\n  <tbody>\n    <tr>\n      <th>0</th>\n      <td>Albania</td>\n      <td>Yes</td>\n      <td>South</td>\n      <td>10.1</td>\n      <td>1.4</td>\n      <td>0.5</td>\n      <td>8.9</td>\n      <td>0.2</td>\n      <td>42.3</td>\n      <td>0.6</td>\n      <td>5.5</td>\n      <td>1.7</td>\n      <td>71.2</td>\n    </tr>\n    <tr>\n      <th>1</th>\n      <td>Austria</td>\n      <td>No</td>\n      <td>Center</td>\n      <td>8.9</td>\n      <td>14.0</td>\n      <td>4.3</td>\n      <td>19.9</td>\n      <td>2.1</td>\n      <td>28.0</td>\n      <td>3.6</td>\n      <td>1.3</td>\n      <td>4.3</td>\n      <td>86.4</td>\n    </tr>\n    <tr>\n      <th>2</th>\n      <td>Belgium</td>\n      <td>No</td>\n      <td>Center</td>\n      <td>13.5</td>\n      <td>9.3</td>\n      <td>4.1</td>\n      <td>17.5</td>\n      <td>4.5</td>\n      <td>26.6</td>\n      <td>5.7</td>\n      <td>2.1</td>\n      <td>4.0</td>\n      <td>87.3</td>\n    </tr>\n    <tr>\n      <th>3</th>\n      <td>Bulgaria</td>\n      <td>Yes</td>\n      <td>South</td>\n      <td>7.8</td>\n      <td>6.0</td>\n      <td>1.6</td>\n      <td>8.3</td>\n      <td>1.2</td>\n      <td>56.7</td>\n      <td>1.1</td>\n      <td>3.7</td>\n      <td>4.2</td>\n      <td>90.6</td>\n    </tr>\n    <tr>\n      <th>4</th>\n      <td>Czechoslovakia</td>\n      <td>Yes</td>\n      <td>Center</td>\n      <td>9.7</td>\n      <td>11.4</td>\n      <td>2.8</td>\n      <td>12.5</td>\n      <td>2.0</td>\n      <td>34.3</td>\n      <td>5.0</td>\n      <td>1.1</td>\n      <td>4.0</td>\n      <td>82.8</td>\n    </tr>\n    <tr>\n      <th>5</th>\n      <td>Denmark</td>\n      <td>No</td>\n      <td>North</td>\n      <td>10.6</td>\n      <td>10.8</td>\n      <td>3.7</td>\n      <td>25.0</td>\n      <td>9.9</td>\n      <td>21.9</td>\n      <td>4.8</td>\n      <td>0.7</td>\n      <td>2.4</td>\n      <td>89.8</td>\n    </tr>\n    <tr>\n      <th>6</th>\n      <td>E_Germany</td>\n      <td>Yes</td>\n      <td>Center</td>\n      <td>8.4</td>\n      <td>11.6</td>\n      <td>3.7</td>\n      <td>11.1</td>\n      <td>5.4</td>\n      <td>24.6</td>\n      <td>6.5</td>\n      <td>0.8</td>\n      <td>3.6</td>\n      <td>75.7</td>\n    </tr>\n    <tr>\n      <th>7</th>\n      <td>Finland</td>\n      <td>No</td>\n      <td>North</td>\n      <td>9.5</td>\n      <td>4.9</td>\n      <td>2.7</td>\n      <td>33.7</td>\n      <td>5.8</td>\n      <td>26.3</td>\n      <td>5.1</td>\n      <td>1.0</td>\n      <td>1.4</td>\n      <td>90.4</td>\n    </tr>\n    <tr>\n      <th>8</th>\n      <td>France</td>\n      <td>No</td>\n      <td>Center</td>\n      <td>18.0</td>\n      <td>9.9</td>\n      <td>3.3</td>\n      <td>19.5</td>\n      <td>5.7</td>\n      <td>28.1</td>\n      <td>4.8</td>\n      <td>2.4</td>\n      <td>6.5</td>\n      <td>98.2</td>\n    </tr>\n    <tr>\n      <th>9</th>\n      <td>Greece</td>\n      <td>No</td>\n      <td>South</td>\n      <td>10.2</td>\n      <td>3.0</td>\n      <td>2.8</td>\n      <td>17.6</td>\n      <td>5.9</td>\n      <td>41.7</td>\n      <td>2.2</td>\n      <td>7.8</td>\n      <td>6.5</td>\n      <td>97.7</td>\n    </tr>\n    <tr>\n      <th>10</th>\n      <td>Hungary</td>\n      <td>Yes</td>\n      <td>Center</td>\n      <td>5.3</td>\n      <td>12.4</td>\n      <td>2.9</td>\n      <td>9.7</td>\n      <td>0.3</td>\n      <td>40.1</td>\n      <td>4.0</td>\n      <td>5.4</td>\n      <td>4.2</td>\n      <td>84.3</td>\n    </tr>\n    <tr>\n      <th>11</th>\n      <td>Ireland</td>\n      <td>No</td>\n      <td>Center</td>\n      <td>13.9</td>\n      <td>10.0</td>\n      <td>4.7</td>\n      <td>25.8</td>\n      <td>2.2</td>\n      <td>24.0</td>\n      <td>6.2</td>\n      <td>1.6</td>\n      <td>2.9</td>\n      <td>91.3</td>\n    </tr>\n    <tr>\n      <th>12</th>\n      <td>Italy</td>\n      <td>No</td>\n      <td>South</td>\n      <td>9.0</td>\n      <td>5.1</td>\n      <td>2.9</td>\n      <td>13.7</td>\n      <td>3.4</td>\n      <td>36.8</td>\n      <td>2.1</td>\n      <td>4.3</td>\n      <td>6.7</td>\n      <td>84.0</td>\n    </tr>\n    <tr>\n      <th>13</th>\n      <td>Holand</td>\n      <td>No</td>\n      <td>Center</td>\n      <td>9.5</td>\n      <td>13.6</td>\n      <td>3.6</td>\n      <td>23.4</td>\n      <td>2.5</td>\n      <td>22.4</td>\n      <td>4.2</td>\n      <td>1.8</td>\n      <td>3.7</td>\n      <td>84.7</td>\n    </tr>\n    <tr>\n      <th>14</th>\n      <td>Norway</td>\n      <td>No</td>\n      <td>North</td>\n      <td>9.4</td>\n      <td>4.7</td>\n      <td>2.7</td>\n      <td>23.3</td>\n      <td>9.7</td>\n      <td>23.0</td>\n      <td>4.6</td>\n      <td>1.6</td>\n      <td>2.7</td>\n      <td>81.7</td>\n    </tr>\n    <tr>\n      <th>15</th>\n      <td>Poland</td>\n      <td>Yes</td>\n      <td>Center</td>\n      <td>6.9</td>\n      <td>10.2</td>\n      <td>2.7</td>\n      <td>19.3</td>\n      <td>3.0</td>\n      <td>36.1</td>\n      <td>5.9</td>\n      <td>2.0</td>\n      <td>6.6</td>\n      <td>92.7</td>\n    </tr>\n    <tr>\n      <th>16</th>\n      <td>Portugal</td>\n      <td>No</td>\n      <td>South</td>\n      <td>6.2</td>\n      <td>3.7</td>\n      <td>1.1</td>\n      <td>4.9</td>\n      <td>14.2</td>\n      <td>27.0</td>\n      <td>5.9</td>\n      <td>4.7</td>\n      <td>7.9</td>\n      <td>75.6</td>\n    </tr>\n    <tr>\n      <th>17</th>\n      <td>Romania</td>\n      <td>Yes</td>\n      <td>South</td>\n      <td>6.2</td>\n      <td>6.3</td>\n      <td>1.5</td>\n      <td>11.1</td>\n      <td>1.0</td>\n      <td>49.6</td>\n      <td>3.1</td>\n      <td>5.3</td>\n      <td>2.8</td>\n      <td>86.9</td>\n    </tr>\n    <tr>\n      <th>18</th>\n      <td>Spain</td>\n      <td>No</td>\n      <td>South</td>\n      <td>7.1</td>\n      <td>3.4</td>\n      <td>3.1</td>\n      <td>8.6</td>\n      <td>7.0</td>\n      <td>29.2</td>\n      <td>5.7</td>\n      <td>5.9</td>\n      <td>7.2</td>\n      <td>77.2</td>\n    </tr>\n    <tr>\n      <th>19</th>\n      <td>Sweden</td>\n      <td>No</td>\n      <td>North</td>\n      <td>9.9</td>\n      <td>7.8</td>\n      <td>3.5</td>\n      <td>24.7</td>\n      <td>7.5</td>\n      <td>19.5</td>\n      <td>3.7</td>\n      <td>1.4</td>\n      <td>2.0</td>\n      <td>80.0</td>\n    </tr>\n    <tr>\n      <th>20</th>\n      <td>Switzerland</td>\n      <td>No</td>\n      <td>Center</td>\n      <td>13.1</td>\n      <td>10.1</td>\n      <td>3.1</td>\n      <td>23.8</td>\n      <td>2.3</td>\n      <td>25.6</td>\n      <td>2.8</td>\n      <td>2.4</td>\n      <td>4.9</td>\n      <td>88.1</td>\n    </tr>\n    <tr>\n      <th>21</th>\n      <td>UK</td>\n      <td>No</td>\n      <td>Center</td>\n      <td>17.4</td>\n      <td>5.7</td>\n      <td>4.7</td>\n      <td>20.6</td>\n      <td>4.3</td>\n      <td>24.3</td>\n      <td>4.7</td>\n      <td>3.4</td>\n      <td>3.3</td>\n      <td>88.4</td>\n    </tr>\n    <tr>\n      <th>22</th>\n      <td>USSR</td>\n      <td>Yes</td>\n      <td>Center</td>\n      <td>9.3</td>\n      <td>4.6</td>\n      <td>2.1</td>\n      <td>16.6</td>\n      <td>3.0</td>\n      <td>43.6</td>\n      <td>6.4</td>\n      <td>3.4</td>\n      <td>2.9</td>\n      <td>91.9</td>\n    </tr>\n    <tr>\n      <th>23</th>\n      <td>W_Germany</td>\n      <td>No</td>\n      <td>Center</td>\n      <td>11.4</td>\n      <td>12.5</td>\n      <td>4.1</td>\n      <td>18.8</td>\n      <td>3.4</td>\n      <td>18.6</td>\n      <td>5.2</td>\n      <td>1.5</td>\n      <td>3.8</td>\n      <td>79.3</td>\n    </tr>\n    <tr>\n      <th>24</th>\n      <td>Yugoslavia</td>\n      <td>Yes</td>\n      <td>South</td>\n      <td>4.4</td>\n      <td>5.0</td>\n      <td>1.2</td>\n      <td>9.5</td>\n      <td>0.6</td>\n      <td>55.9</td>\n      <td>3.0</td>\n      <td>5.7</td>\n      <td>3.2</td>\n      <td>88.5</td>\n    </tr>\n  </tbody>\n</table>\n</div>"
     },
     "metadata": {},
     "output_type": "display_data"
    }
   ]
  },
  {
   "cell_type": "markdown",
   "metadata": {
    "collapsed": false,
    "pycharm": {
     "name": "#%% md\n"
    },
    "id": "C7qYVNAwqqVg"
   },
   "source": [
    " a.\tPlaats de gegevens in een dataframe. Gebruik daarbij de namen van de landen die in de eerste kolom staan als index."
   ]
  },
  {
   "cell_type": "code",
   "execution_count": 51,
   "outputs": [],
   "source": [
    "protein.index = protein['Country']"
   ],
   "metadata": {
    "collapsed": false,
    "ExecuteTime": {
     "end_time": "2023-05-25T08:37:32.076933900Z",
     "start_time": "2023-05-25T08:37:32.009013200Z"
    }
   }
  },
  {
   "cell_type": "markdown",
   "metadata": {
    "collapsed": false,
    "pycharm": {
     "name": "#%% md\n"
    },
    "id": "Wu8hvD3OqqVh"
   },
   "source": [
    "b.\tWelke kolommen dien je te verwijderen om een Principale-Componenten Analyse te kunnen uitvoeren?\n",
    "\n",
    "_Tip:  Verwijder eventuele kolommen met de verkeerde meetschaal, kolommen die niet zinvol zijn, afhankelijk zijn …._"
   ]
  },
  {
   "cell_type": "code",
   "execution_count": 52,
   "outputs": [
    {
     "data": {
      "text/plain": "                Red_Meat  White_Meat  Eggs  Milk  Fish  Cereal  Starch  Nuts   \nCountry                                                                        \nAlbania             10.1         1.4   0.5   8.9   0.2    42.3     0.6   5.5  \\\nAustria              8.9        14.0   4.3  19.9   2.1    28.0     3.6   1.3   \nBelgium             13.5         9.3   4.1  17.5   4.5    26.6     5.7   2.1   \nBulgaria             7.8         6.0   1.6   8.3   1.2    56.7     1.1   3.7   \nCzechoslovakia       9.7        11.4   2.8  12.5   2.0    34.3     5.0   1.1   \nDenmark             10.6        10.8   3.7  25.0   9.9    21.9     4.8   0.7   \nE_Germany            8.4        11.6   3.7  11.1   5.4    24.6     6.5   0.8   \nFinland              9.5         4.9   2.7  33.7   5.8    26.3     5.1   1.0   \nFrance              18.0         9.9   3.3  19.5   5.7    28.1     4.8   2.4   \nGreece              10.2         3.0   2.8  17.6   5.9    41.7     2.2   7.8   \nHungary              5.3        12.4   2.9   9.7   0.3    40.1     4.0   5.4   \nIreland             13.9        10.0   4.7  25.8   2.2    24.0     6.2   1.6   \nItaly                9.0         5.1   2.9  13.7   3.4    36.8     2.1   4.3   \nHoland               9.5        13.6   3.6  23.4   2.5    22.4     4.2   1.8   \nNorway               9.4         4.7   2.7  23.3   9.7    23.0     4.6   1.6   \nPoland               6.9        10.2   2.7  19.3   3.0    36.1     5.9   2.0   \nPortugal             6.2         3.7   1.1   4.9  14.2    27.0     5.9   4.7   \nRomania              6.2         6.3   1.5  11.1   1.0    49.6     3.1   5.3   \nSpain                7.1         3.4   3.1   8.6   7.0    29.2     5.7   5.9   \nSweden               9.9         7.8   3.5  24.7   7.5    19.5     3.7   1.4   \nSwitzerland         13.1        10.1   3.1  23.8   2.3    25.6     2.8   2.4   \nUK                  17.4         5.7   4.7  20.6   4.3    24.3     4.7   3.4   \nUSSR                 9.3         4.6   2.1  16.6   3.0    43.6     6.4   3.4   \nW_Germany           11.4        12.5   4.1  18.8   3.4    18.6     5.2   1.5   \nYugoslavia           4.4         5.0   1.2   9.5   0.6    55.9     3.0   5.7   \n\n                Fruits_Vegetables  Total  \nCountry                                   \nAlbania                       1.7   71.2  \nAustria                       4.3   86.4  \nBelgium                       4.0   87.3  \nBulgaria                      4.2   90.6  \nCzechoslovakia                4.0   82.8  \nDenmark                       2.4   89.8  \nE_Germany                     3.6   75.7  \nFinland                       1.4   90.4  \nFrance                        6.5   98.2  \nGreece                        6.5   97.7  \nHungary                       4.2   84.3  \nIreland                       2.9   91.3  \nItaly                         6.7   84.0  \nHoland                        3.7   84.7  \nNorway                        2.7   81.7  \nPoland                        6.6   92.7  \nPortugal                      7.9   75.6  \nRomania                       2.8   86.9  \nSpain                         7.2   77.2  \nSweden                        2.0   80.0  \nSwitzerland                   4.9   88.1  \nUK                            3.3   88.4  \nUSSR                          2.9   91.9  \nW_Germany                     3.8   79.3  \nYugoslavia                    3.2   88.5  ",
      "text/html": "<div>\n<style scoped>\n    .dataframe tbody tr th:only-of-type {\n        vertical-align: middle;\n    }\n\n    .dataframe tbody tr th {\n        vertical-align: top;\n    }\n\n    .dataframe thead th {\n        text-align: right;\n    }\n</style>\n<table border=\"1\" class=\"dataframe\">\n  <thead>\n    <tr style=\"text-align: right;\">\n      <th></th>\n      <th>Red_Meat</th>\n      <th>White_Meat</th>\n      <th>Eggs</th>\n      <th>Milk</th>\n      <th>Fish</th>\n      <th>Cereal</th>\n      <th>Starch</th>\n      <th>Nuts</th>\n      <th>Fruits_Vegetables</th>\n      <th>Total</th>\n    </tr>\n    <tr>\n      <th>Country</th>\n      <th></th>\n      <th></th>\n      <th></th>\n      <th></th>\n      <th></th>\n      <th></th>\n      <th></th>\n      <th></th>\n      <th></th>\n      <th></th>\n    </tr>\n  </thead>\n  <tbody>\n    <tr>\n      <th>Albania</th>\n      <td>10.1</td>\n      <td>1.4</td>\n      <td>0.5</td>\n      <td>8.9</td>\n      <td>0.2</td>\n      <td>42.3</td>\n      <td>0.6</td>\n      <td>5.5</td>\n      <td>1.7</td>\n      <td>71.2</td>\n    </tr>\n    <tr>\n      <th>Austria</th>\n      <td>8.9</td>\n      <td>14.0</td>\n      <td>4.3</td>\n      <td>19.9</td>\n      <td>2.1</td>\n      <td>28.0</td>\n      <td>3.6</td>\n      <td>1.3</td>\n      <td>4.3</td>\n      <td>86.4</td>\n    </tr>\n    <tr>\n      <th>Belgium</th>\n      <td>13.5</td>\n      <td>9.3</td>\n      <td>4.1</td>\n      <td>17.5</td>\n      <td>4.5</td>\n      <td>26.6</td>\n      <td>5.7</td>\n      <td>2.1</td>\n      <td>4.0</td>\n      <td>87.3</td>\n    </tr>\n    <tr>\n      <th>Bulgaria</th>\n      <td>7.8</td>\n      <td>6.0</td>\n      <td>1.6</td>\n      <td>8.3</td>\n      <td>1.2</td>\n      <td>56.7</td>\n      <td>1.1</td>\n      <td>3.7</td>\n      <td>4.2</td>\n      <td>90.6</td>\n    </tr>\n    <tr>\n      <th>Czechoslovakia</th>\n      <td>9.7</td>\n      <td>11.4</td>\n      <td>2.8</td>\n      <td>12.5</td>\n      <td>2.0</td>\n      <td>34.3</td>\n      <td>5.0</td>\n      <td>1.1</td>\n      <td>4.0</td>\n      <td>82.8</td>\n    </tr>\n    <tr>\n      <th>Denmark</th>\n      <td>10.6</td>\n      <td>10.8</td>\n      <td>3.7</td>\n      <td>25.0</td>\n      <td>9.9</td>\n      <td>21.9</td>\n      <td>4.8</td>\n      <td>0.7</td>\n      <td>2.4</td>\n      <td>89.8</td>\n    </tr>\n    <tr>\n      <th>E_Germany</th>\n      <td>8.4</td>\n      <td>11.6</td>\n      <td>3.7</td>\n      <td>11.1</td>\n      <td>5.4</td>\n      <td>24.6</td>\n      <td>6.5</td>\n      <td>0.8</td>\n      <td>3.6</td>\n      <td>75.7</td>\n    </tr>\n    <tr>\n      <th>Finland</th>\n      <td>9.5</td>\n      <td>4.9</td>\n      <td>2.7</td>\n      <td>33.7</td>\n      <td>5.8</td>\n      <td>26.3</td>\n      <td>5.1</td>\n      <td>1.0</td>\n      <td>1.4</td>\n      <td>90.4</td>\n    </tr>\n    <tr>\n      <th>France</th>\n      <td>18.0</td>\n      <td>9.9</td>\n      <td>3.3</td>\n      <td>19.5</td>\n      <td>5.7</td>\n      <td>28.1</td>\n      <td>4.8</td>\n      <td>2.4</td>\n      <td>6.5</td>\n      <td>98.2</td>\n    </tr>\n    <tr>\n      <th>Greece</th>\n      <td>10.2</td>\n      <td>3.0</td>\n      <td>2.8</td>\n      <td>17.6</td>\n      <td>5.9</td>\n      <td>41.7</td>\n      <td>2.2</td>\n      <td>7.8</td>\n      <td>6.5</td>\n      <td>97.7</td>\n    </tr>\n    <tr>\n      <th>Hungary</th>\n      <td>5.3</td>\n      <td>12.4</td>\n      <td>2.9</td>\n      <td>9.7</td>\n      <td>0.3</td>\n      <td>40.1</td>\n      <td>4.0</td>\n      <td>5.4</td>\n      <td>4.2</td>\n      <td>84.3</td>\n    </tr>\n    <tr>\n      <th>Ireland</th>\n      <td>13.9</td>\n      <td>10.0</td>\n      <td>4.7</td>\n      <td>25.8</td>\n      <td>2.2</td>\n      <td>24.0</td>\n      <td>6.2</td>\n      <td>1.6</td>\n      <td>2.9</td>\n      <td>91.3</td>\n    </tr>\n    <tr>\n      <th>Italy</th>\n      <td>9.0</td>\n      <td>5.1</td>\n      <td>2.9</td>\n      <td>13.7</td>\n      <td>3.4</td>\n      <td>36.8</td>\n      <td>2.1</td>\n      <td>4.3</td>\n      <td>6.7</td>\n      <td>84.0</td>\n    </tr>\n    <tr>\n      <th>Holand</th>\n      <td>9.5</td>\n      <td>13.6</td>\n      <td>3.6</td>\n      <td>23.4</td>\n      <td>2.5</td>\n      <td>22.4</td>\n      <td>4.2</td>\n      <td>1.8</td>\n      <td>3.7</td>\n      <td>84.7</td>\n    </tr>\n    <tr>\n      <th>Norway</th>\n      <td>9.4</td>\n      <td>4.7</td>\n      <td>2.7</td>\n      <td>23.3</td>\n      <td>9.7</td>\n      <td>23.0</td>\n      <td>4.6</td>\n      <td>1.6</td>\n      <td>2.7</td>\n      <td>81.7</td>\n    </tr>\n    <tr>\n      <th>Poland</th>\n      <td>6.9</td>\n      <td>10.2</td>\n      <td>2.7</td>\n      <td>19.3</td>\n      <td>3.0</td>\n      <td>36.1</td>\n      <td>5.9</td>\n      <td>2.0</td>\n      <td>6.6</td>\n      <td>92.7</td>\n    </tr>\n    <tr>\n      <th>Portugal</th>\n      <td>6.2</td>\n      <td>3.7</td>\n      <td>1.1</td>\n      <td>4.9</td>\n      <td>14.2</td>\n      <td>27.0</td>\n      <td>5.9</td>\n      <td>4.7</td>\n      <td>7.9</td>\n      <td>75.6</td>\n    </tr>\n    <tr>\n      <th>Romania</th>\n      <td>6.2</td>\n      <td>6.3</td>\n      <td>1.5</td>\n      <td>11.1</td>\n      <td>1.0</td>\n      <td>49.6</td>\n      <td>3.1</td>\n      <td>5.3</td>\n      <td>2.8</td>\n      <td>86.9</td>\n    </tr>\n    <tr>\n      <th>Spain</th>\n      <td>7.1</td>\n      <td>3.4</td>\n      <td>3.1</td>\n      <td>8.6</td>\n      <td>7.0</td>\n      <td>29.2</td>\n      <td>5.7</td>\n      <td>5.9</td>\n      <td>7.2</td>\n      <td>77.2</td>\n    </tr>\n    <tr>\n      <th>Sweden</th>\n      <td>9.9</td>\n      <td>7.8</td>\n      <td>3.5</td>\n      <td>24.7</td>\n      <td>7.5</td>\n      <td>19.5</td>\n      <td>3.7</td>\n      <td>1.4</td>\n      <td>2.0</td>\n      <td>80.0</td>\n    </tr>\n    <tr>\n      <th>Switzerland</th>\n      <td>13.1</td>\n      <td>10.1</td>\n      <td>3.1</td>\n      <td>23.8</td>\n      <td>2.3</td>\n      <td>25.6</td>\n      <td>2.8</td>\n      <td>2.4</td>\n      <td>4.9</td>\n      <td>88.1</td>\n    </tr>\n    <tr>\n      <th>UK</th>\n      <td>17.4</td>\n      <td>5.7</td>\n      <td>4.7</td>\n      <td>20.6</td>\n      <td>4.3</td>\n      <td>24.3</td>\n      <td>4.7</td>\n      <td>3.4</td>\n      <td>3.3</td>\n      <td>88.4</td>\n    </tr>\n    <tr>\n      <th>USSR</th>\n      <td>9.3</td>\n      <td>4.6</td>\n      <td>2.1</td>\n      <td>16.6</td>\n      <td>3.0</td>\n      <td>43.6</td>\n      <td>6.4</td>\n      <td>3.4</td>\n      <td>2.9</td>\n      <td>91.9</td>\n    </tr>\n    <tr>\n      <th>W_Germany</th>\n      <td>11.4</td>\n      <td>12.5</td>\n      <td>4.1</td>\n      <td>18.8</td>\n      <td>3.4</td>\n      <td>18.6</td>\n      <td>5.2</td>\n      <td>1.5</td>\n      <td>3.8</td>\n      <td>79.3</td>\n    </tr>\n    <tr>\n      <th>Yugoslavia</th>\n      <td>4.4</td>\n      <td>5.0</td>\n      <td>1.2</td>\n      <td>9.5</td>\n      <td>0.6</td>\n      <td>55.9</td>\n      <td>3.0</td>\n      <td>5.7</td>\n      <td>3.2</td>\n      <td>88.5</td>\n    </tr>\n  </tbody>\n</table>\n</div>"
     },
     "metadata": {},
     "output_type": "display_data"
    }
   ],
   "source": [
    "X = protein.drop(columns=['Country', 'Comunist', 'Region'])\n",
    "display(X)"
   ],
   "metadata": {
    "collapsed": false,
    "ExecuteTime": {
     "end_time": "2023-05-25T08:37:32.093262500Z",
     "start_time": "2023-05-25T08:37:32.014990100Z"
    }
   }
  },
  {
   "cell_type": "markdown",
   "metadata": {
    "collapsed": false,
    "pycharm": {
     "name": "#%% md\n"
    },
    "id": "64MN97j3qqVh"
   },
   "source": [
    "c.\tBekijk de correlaties tussen de variabelen. Zijn de gegevens bruikbaar om er een Principale-Componenten Analyse op toe te passen?"
   ]
  },
  {
   "cell_type": "code",
   "execution_count": 53,
   "outputs": [
    {
     "data": {
      "text/plain": "                   Red_Meat  White_Meat      Eggs      Milk      Fish   \nRed_Meat           1.000000    0.153003  0.585609  0.502931  0.060957  \\\nWhite_Meat         0.153003    1.000000  0.620409  0.281484 -0.234009   \nEggs               0.585609    0.620409  1.000000  0.575533  0.065571   \nMilk               0.502931    0.281484  0.575533  1.000000  0.137884   \nFish               0.060957   -0.234009  0.065571  0.137884  1.000000   \nCereal            -0.499877   -0.413797 -0.712437 -0.592737 -0.524231   \nStarch             0.135426    0.313772  0.452231  0.222411  0.403853   \nNuts              -0.349449   -0.634962 -0.559781 -0.621087 -0.147153   \nFruits_Vegetables -0.074221   -0.061317 -0.045518 -0.408364  0.266139   \nTotal              0.333816    0.104113  0.208494  0.418801 -0.164361   \n\n                     Cereal    Starch      Nuts  Fruits_Vegetables     Total  \nRed_Meat          -0.499877  0.135426 -0.349449          -0.074221  0.333816  \nWhite_Meat        -0.413797  0.313772 -0.634962          -0.061317  0.104113  \nEggs              -0.712437  0.452231 -0.559781          -0.045518  0.208494  \nMilk              -0.592737  0.222411 -0.621087          -0.408364  0.418801  \nFish              -0.524231  0.403853 -0.147153           0.266139 -0.164361  \nCereal             1.000000 -0.533262  0.650997           0.046548  0.220067  \nStarch            -0.533262  1.000000 -0.474312           0.084410  0.009522  \nNuts               0.650997 -0.474312  1.000000           0.374970 -0.003412  \nFruits_Vegetables  0.046548  0.084410  0.374970           1.000000  0.099975  \nTotal              0.220067  0.009522 -0.003412           0.099975  1.000000  ",
      "text/html": "<div>\n<style scoped>\n    .dataframe tbody tr th:only-of-type {\n        vertical-align: middle;\n    }\n\n    .dataframe tbody tr th {\n        vertical-align: top;\n    }\n\n    .dataframe thead th {\n        text-align: right;\n    }\n</style>\n<table border=\"1\" class=\"dataframe\">\n  <thead>\n    <tr style=\"text-align: right;\">\n      <th></th>\n      <th>Red_Meat</th>\n      <th>White_Meat</th>\n      <th>Eggs</th>\n      <th>Milk</th>\n      <th>Fish</th>\n      <th>Cereal</th>\n      <th>Starch</th>\n      <th>Nuts</th>\n      <th>Fruits_Vegetables</th>\n      <th>Total</th>\n    </tr>\n  </thead>\n  <tbody>\n    <tr>\n      <th>Red_Meat</th>\n      <td>1.000000</td>\n      <td>0.153003</td>\n      <td>0.585609</td>\n      <td>0.502931</td>\n      <td>0.060957</td>\n      <td>-0.499877</td>\n      <td>0.135426</td>\n      <td>-0.349449</td>\n      <td>-0.074221</td>\n      <td>0.333816</td>\n    </tr>\n    <tr>\n      <th>White_Meat</th>\n      <td>0.153003</td>\n      <td>1.000000</td>\n      <td>0.620409</td>\n      <td>0.281484</td>\n      <td>-0.234009</td>\n      <td>-0.413797</td>\n      <td>0.313772</td>\n      <td>-0.634962</td>\n      <td>-0.061317</td>\n      <td>0.104113</td>\n    </tr>\n    <tr>\n      <th>Eggs</th>\n      <td>0.585609</td>\n      <td>0.620409</td>\n      <td>1.000000</td>\n      <td>0.575533</td>\n      <td>0.065571</td>\n      <td>-0.712437</td>\n      <td>0.452231</td>\n      <td>-0.559781</td>\n      <td>-0.045518</td>\n      <td>0.208494</td>\n    </tr>\n    <tr>\n      <th>Milk</th>\n      <td>0.502931</td>\n      <td>0.281484</td>\n      <td>0.575533</td>\n      <td>1.000000</td>\n      <td>0.137884</td>\n      <td>-0.592737</td>\n      <td>0.222411</td>\n      <td>-0.621087</td>\n      <td>-0.408364</td>\n      <td>0.418801</td>\n    </tr>\n    <tr>\n      <th>Fish</th>\n      <td>0.060957</td>\n      <td>-0.234009</td>\n      <td>0.065571</td>\n      <td>0.137884</td>\n      <td>1.000000</td>\n      <td>-0.524231</td>\n      <td>0.403853</td>\n      <td>-0.147153</td>\n      <td>0.266139</td>\n      <td>-0.164361</td>\n    </tr>\n    <tr>\n      <th>Cereal</th>\n      <td>-0.499877</td>\n      <td>-0.413797</td>\n      <td>-0.712437</td>\n      <td>-0.592737</td>\n      <td>-0.524231</td>\n      <td>1.000000</td>\n      <td>-0.533262</td>\n      <td>0.650997</td>\n      <td>0.046548</td>\n      <td>0.220067</td>\n    </tr>\n    <tr>\n      <th>Starch</th>\n      <td>0.135426</td>\n      <td>0.313772</td>\n      <td>0.452231</td>\n      <td>0.222411</td>\n      <td>0.403853</td>\n      <td>-0.533262</td>\n      <td>1.000000</td>\n      <td>-0.474312</td>\n      <td>0.084410</td>\n      <td>0.009522</td>\n    </tr>\n    <tr>\n      <th>Nuts</th>\n      <td>-0.349449</td>\n      <td>-0.634962</td>\n      <td>-0.559781</td>\n      <td>-0.621087</td>\n      <td>-0.147153</td>\n      <td>0.650997</td>\n      <td>-0.474312</td>\n      <td>1.000000</td>\n      <td>0.374970</td>\n      <td>-0.003412</td>\n    </tr>\n    <tr>\n      <th>Fruits_Vegetables</th>\n      <td>-0.074221</td>\n      <td>-0.061317</td>\n      <td>-0.045518</td>\n      <td>-0.408364</td>\n      <td>0.266139</td>\n      <td>0.046548</td>\n      <td>0.084410</td>\n      <td>0.374970</td>\n      <td>1.000000</td>\n      <td>0.099975</td>\n    </tr>\n    <tr>\n      <th>Total</th>\n      <td>0.333816</td>\n      <td>0.104113</td>\n      <td>0.208494</td>\n      <td>0.418801</td>\n      <td>-0.164361</td>\n      <td>0.220067</td>\n      <td>0.009522</td>\n      <td>-0.003412</td>\n      <td>0.099975</td>\n      <td>1.000000</td>\n    </tr>\n  </tbody>\n</table>\n</div>"
     },
     "metadata": {},
     "output_type": "display_data"
    }
   ],
   "source": [
    "display(X.corr())"
   ],
   "metadata": {
    "collapsed": false,
    "ExecuteTime": {
     "end_time": "2023-05-25T08:37:32.094276400Z",
     "start_time": "2023-05-25T08:37:32.054627600Z"
    }
   }
  },
  {
   "cell_type": "markdown",
   "metadata": {
    "collapsed": false,
    "pycharm": {
     "name": "#%% md\n"
    },
    "id": "jTsnPwCbqqVi"
   },
   "source": [
    "d.\tVoer een Principale-Componenten Analyse uit en interpreteer de resultaten. Vergeet niet dat je de gegevens eerst moet standardiseren. Je kan hier best een pipeline voor aanmaken met een StandardScaler"
   ]
  },
  {
   "cell_type": "code",
   "execution_count": 54,
   "outputs": [],
   "source": [
    "from sklearn.preprocessing import StandardScaler\n",
    "from sklearn.decomposition import PCA\n",
    "from sklearn.pipeline import make_pipeline\n",
    "\n",
    "# Slechts twee hoofdcomponenten behouden\n",
    "model = make_pipeline(StandardScaler(), PCA(n_components=2))\n",
    "model.fit(X)\n",
    "X_PCA = model.transform(X) # Kan ook in één stap met fit_transform()"
   ],
   "metadata": {
    "collapsed": false,
    "ExecuteTime": {
     "end_time": "2023-05-25T08:37:32.094793600Z",
     "start_time": "2023-05-25T08:37:32.073857Z"
    }
   }
  },
  {
   "cell_type": "markdown",
   "metadata": {
    "collapsed": false,
    "pycharm": {
     "name": "#%% md\n"
    },
    "id": "P82OobltqqVj"
   },
   "source": [
    "e.\tZijn er een of meerdere variabelen die uitgesproken doorweegt in het bepalen van de eerste hoofdcomponent? Zo ja welke?"
   ]
  },
  {
   "cell_type": "code",
   "execution_count": 54,
   "outputs": [],
   "source": [],
   "metadata": {
    "collapsed": false,
    "ExecuteTime": {
     "end_time": "2023-05-25T08:37:32.094793600Z",
     "start_time": "2023-05-25T08:37:32.076933900Z"
    }
   }
  },
  {
   "cell_type": "markdown",
   "metadata": {
    "collapsed": false,
    "pycharm": {
     "name": "#%% md\n"
    },
    "id": "RP2ltk3DqqVj"
   },
   "source": [
    "f.\tMaak een biplot. Welke landen horen bij elkaar? Vind je dit verrassend?"
   ]
  },
  {
   "cell_type": "code",
   "execution_count": 54,
   "outputs": [],
   "source": [],
   "metadata": {
    "collapsed": false,
    "ExecuteTime": {
     "end_time": "2023-05-25T08:37:32.104089900Z",
     "start_time": "2023-05-25T08:37:32.088333200Z"
    }
   }
  },
  {
   "cell_type": "markdown",
   "metadata": {
    "collapsed": false,
    "pycharm": {
     "name": "#%% md\n"
    },
    "id": "hD6wRZFTqqVk"
   },
   "source": [
    "g.\tMaak een nieuw dataframe aan waarbij we voor de observaties de eerste drie hoofdcomponenten nemen."
   ]
  },
  {
   "cell_type": "code",
   "execution_count": 54,
   "outputs": [],
   "source": [],
   "metadata": {
    "collapsed": false,
    "ExecuteTime": {
     "end_time": "2023-05-25T08:37:32.144918900Z",
     "start_time": "2023-05-25T08:37:32.098322Z"
    }
   }
  },
  {
   "cell_type": "markdown",
   "metadata": {
    "collapsed": false,
    "pycharm": {
     "name": "#%% md\n"
    },
    "id": "MLizVd1VqqVl"
   },
   "source": [
    "h.\tPas hier een hiërarchische cluster analyse op toe (euclidische afstand). Vergelijk de resultaten met de resultaten bekomen met een cluster analyse toegepast op de oorspronkelijke variabelen. Welke landen horen samen?"
   ]
  },
  {
   "cell_type": "code",
   "execution_count": 54,
   "outputs": [],
   "source": [],
   "metadata": {
    "collapsed": false,
    "ExecuteTime": {
     "end_time": "2023-05-25T08:37:32.168949700Z",
     "start_time": "2023-05-25T08:37:32.106882Z"
    }
   }
  },
  {
   "cell_type": "markdown",
   "metadata": {
    "collapsed": false,
    "pycharm": {
     "name": "#%% md\n"
    },
    "id": "WgnFZ-_0qqVl"
   },
   "source": [
    "i. Vergelijk tot slot ook even de biplots. Kom je hier ook tot dezelfde conclusies?"
   ]
  },
  {
   "cell_type": "code",
   "execution_count": 54,
   "outputs": [],
   "source": [],
   "metadata": {
    "collapsed": false,
    "ExecuteTime": {
     "end_time": "2023-05-25T08:37:32.168949700Z",
     "start_time": "2023-05-25T08:37:32.118252100Z"
    }
   }
  }
 ]
}
