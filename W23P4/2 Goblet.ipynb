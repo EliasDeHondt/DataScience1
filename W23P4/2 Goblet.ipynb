{
 "cells": [
  {
   "cell_type": "markdown",
   "metadata": {
    "collapsed": true,
    "pycharm": {
     "name": "#%% md\n"
    }
   },
   "source": [
    "# Goblets\n",
    "\n",
    "De onderstaande gegevens met betrekking tot **prehistorische bekers** (aardewerk) uit Thailand, kan je terug vinden op Canvas (Prehistoric goblets from Thailand.csv)."
   ]
  },
  {
   "cell_type": "markdown",
   "metadata": {
    "collapsed": false,
    "pycharm": {
     "name": "#%% md\n"
    }
   },
   "source": [
    "a.\tPlaats de gegevens in het dataframe goblet"
   ]
  },
  {
   "cell_type": "code",
   "execution_count": 10,
   "outputs": [
    {
     "data": {
      "text/plain": "    Goblet  X1  X2  X3  X4  X5  X6\n0        1  13  21  23  14   7   8\n1        2  14  14  24  19   5   9\n2        3  19  23  24  20   6  12\n3        4  17  18  16  16  11   8\n4        5  19  20  16  16  10   7\n5        6  12  20  24  17   6   9\n6        7  12  19  22  16   6  10\n7        8  12  22  25  15   7   7\n8        9  11  15  17  11   6   5\n9       10  11  13  14  11   7   4\n10      11  12  20  25  18   5  12\n11      12  13  21  23  15   9   8\n12      13  12  15  19  12   5   6\n13      14  13  22  26  17   7  10\n14      15  14  22  26  15   7   9\n15      16  14  19  20  17   5  10\n16      17  15  16  15  15   9   7\n17      18  19  21  20  16   9  10\n18      19  12  20  26  16   7  10\n19      20  17  20  27  18   6  14\n20      21  13  20  27  17   6   9\n21      22   9   9  10   7   4   3\n22      23   8   8   7   5   2   2\n23      24   9   9   8   4   2   2\n24      25  12  19  27  18   5  12",
      "text/html": "<div>\n<style scoped>\n    .dataframe tbody tr th:only-of-type {\n        vertical-align: middle;\n    }\n\n    .dataframe tbody tr th {\n        vertical-align: top;\n    }\n\n    .dataframe thead th {\n        text-align: right;\n    }\n</style>\n<table border=\"1\" class=\"dataframe\">\n  <thead>\n    <tr style=\"text-align: right;\">\n      <th></th>\n      <th>Goblet</th>\n      <th>X1</th>\n      <th>X2</th>\n      <th>X3</th>\n      <th>X4</th>\n      <th>X5</th>\n      <th>X6</th>\n    </tr>\n  </thead>\n  <tbody>\n    <tr>\n      <th>0</th>\n      <td>1</td>\n      <td>13</td>\n      <td>21</td>\n      <td>23</td>\n      <td>14</td>\n      <td>7</td>\n      <td>8</td>\n    </tr>\n    <tr>\n      <th>1</th>\n      <td>2</td>\n      <td>14</td>\n      <td>14</td>\n      <td>24</td>\n      <td>19</td>\n      <td>5</td>\n      <td>9</td>\n    </tr>\n    <tr>\n      <th>2</th>\n      <td>3</td>\n      <td>19</td>\n      <td>23</td>\n      <td>24</td>\n      <td>20</td>\n      <td>6</td>\n      <td>12</td>\n    </tr>\n    <tr>\n      <th>3</th>\n      <td>4</td>\n      <td>17</td>\n      <td>18</td>\n      <td>16</td>\n      <td>16</td>\n      <td>11</td>\n      <td>8</td>\n    </tr>\n    <tr>\n      <th>4</th>\n      <td>5</td>\n      <td>19</td>\n      <td>20</td>\n      <td>16</td>\n      <td>16</td>\n      <td>10</td>\n      <td>7</td>\n    </tr>\n    <tr>\n      <th>5</th>\n      <td>6</td>\n      <td>12</td>\n      <td>20</td>\n      <td>24</td>\n      <td>17</td>\n      <td>6</td>\n      <td>9</td>\n    </tr>\n    <tr>\n      <th>6</th>\n      <td>7</td>\n      <td>12</td>\n      <td>19</td>\n      <td>22</td>\n      <td>16</td>\n      <td>6</td>\n      <td>10</td>\n    </tr>\n    <tr>\n      <th>7</th>\n      <td>8</td>\n      <td>12</td>\n      <td>22</td>\n      <td>25</td>\n      <td>15</td>\n      <td>7</td>\n      <td>7</td>\n    </tr>\n    <tr>\n      <th>8</th>\n      <td>9</td>\n      <td>11</td>\n      <td>15</td>\n      <td>17</td>\n      <td>11</td>\n      <td>6</td>\n      <td>5</td>\n    </tr>\n    <tr>\n      <th>9</th>\n      <td>10</td>\n      <td>11</td>\n      <td>13</td>\n      <td>14</td>\n      <td>11</td>\n      <td>7</td>\n      <td>4</td>\n    </tr>\n    <tr>\n      <th>10</th>\n      <td>11</td>\n      <td>12</td>\n      <td>20</td>\n      <td>25</td>\n      <td>18</td>\n      <td>5</td>\n      <td>12</td>\n    </tr>\n    <tr>\n      <th>11</th>\n      <td>12</td>\n      <td>13</td>\n      <td>21</td>\n      <td>23</td>\n      <td>15</td>\n      <td>9</td>\n      <td>8</td>\n    </tr>\n    <tr>\n      <th>12</th>\n      <td>13</td>\n      <td>12</td>\n      <td>15</td>\n      <td>19</td>\n      <td>12</td>\n      <td>5</td>\n      <td>6</td>\n    </tr>\n    <tr>\n      <th>13</th>\n      <td>14</td>\n      <td>13</td>\n      <td>22</td>\n      <td>26</td>\n      <td>17</td>\n      <td>7</td>\n      <td>10</td>\n    </tr>\n    <tr>\n      <th>14</th>\n      <td>15</td>\n      <td>14</td>\n      <td>22</td>\n      <td>26</td>\n      <td>15</td>\n      <td>7</td>\n      <td>9</td>\n    </tr>\n    <tr>\n      <th>15</th>\n      <td>16</td>\n      <td>14</td>\n      <td>19</td>\n      <td>20</td>\n      <td>17</td>\n      <td>5</td>\n      <td>10</td>\n    </tr>\n    <tr>\n      <th>16</th>\n      <td>17</td>\n      <td>15</td>\n      <td>16</td>\n      <td>15</td>\n      <td>15</td>\n      <td>9</td>\n      <td>7</td>\n    </tr>\n    <tr>\n      <th>17</th>\n      <td>18</td>\n      <td>19</td>\n      <td>21</td>\n      <td>20</td>\n      <td>16</td>\n      <td>9</td>\n      <td>10</td>\n    </tr>\n    <tr>\n      <th>18</th>\n      <td>19</td>\n      <td>12</td>\n      <td>20</td>\n      <td>26</td>\n      <td>16</td>\n      <td>7</td>\n      <td>10</td>\n    </tr>\n    <tr>\n      <th>19</th>\n      <td>20</td>\n      <td>17</td>\n      <td>20</td>\n      <td>27</td>\n      <td>18</td>\n      <td>6</td>\n      <td>14</td>\n    </tr>\n    <tr>\n      <th>20</th>\n      <td>21</td>\n      <td>13</td>\n      <td>20</td>\n      <td>27</td>\n      <td>17</td>\n      <td>6</td>\n      <td>9</td>\n    </tr>\n    <tr>\n      <th>21</th>\n      <td>22</td>\n      <td>9</td>\n      <td>9</td>\n      <td>10</td>\n      <td>7</td>\n      <td>4</td>\n      <td>3</td>\n    </tr>\n    <tr>\n      <th>22</th>\n      <td>23</td>\n      <td>8</td>\n      <td>8</td>\n      <td>7</td>\n      <td>5</td>\n      <td>2</td>\n      <td>2</td>\n    </tr>\n    <tr>\n      <th>23</th>\n      <td>24</td>\n      <td>9</td>\n      <td>9</td>\n      <td>8</td>\n      <td>4</td>\n      <td>2</td>\n      <td>2</td>\n    </tr>\n    <tr>\n      <th>24</th>\n      <td>25</td>\n      <td>12</td>\n      <td>19</td>\n      <td>27</td>\n      <td>18</td>\n      <td>5</td>\n      <td>12</td>\n    </tr>\n  </tbody>\n</table>\n</div>"
     },
     "metadata": {},
     "output_type": "display_data"
    }
   ],
   "source": [
    "import pandas as pd\n",
    "\n",
    "goblet = pd.read_csv('data/Prehistoric goblets from Thailand.csv', sep=';')\n",
    "display(goblet)"
   ],
   "metadata": {
    "collapsed": false,
    "ExecuteTime": {
     "end_time": "2023-05-25T09:45:49.682435Z",
     "start_time": "2023-05-25T09:45:49.597175200Z"
    }
   }
  },
  {
   "cell_type": "markdown",
   "metadata": {
    "collapsed": false,
    "pycharm": {
     "name": "#%% md\n"
    }
   },
   "source": [
    "b.\tWelke kolommen dien je te verwijderen om een Principale-Componenten Analyse te kunnen uitvoeren?\n",
    "Verwijder eventuele kolommen met de verkeerde meetschaal, kolommen die niet zinvol zijn,…."
   ]
  },
  {
   "cell_type": "code",
   "execution_count": 10,
   "outputs": [],
   "source": [],
   "metadata": {
    "collapsed": false,
    "ExecuteTime": {
     "end_time": "2023-05-25T09:45:49.682435Z",
     "start_time": "2023-05-25T09:45:49.618773700Z"
    }
   }
  },
  {
   "cell_type": "markdown",
   "metadata": {
    "collapsed": false,
    "pycharm": {
     "name": "#%% md\n"
    }
   },
   "source": [
    "c.\tVoer een Principale-Componenten Analyse uit en interpreteer de resultaten."
   ]
  },
  {
   "cell_type": "code",
   "execution_count": 10,
   "outputs": [],
   "source": [],
   "metadata": {
    "collapsed": false,
    "ExecuteTime": {
     "end_time": "2023-05-25T09:45:49.682435Z",
     "start_time": "2023-05-25T09:45:49.625002800Z"
    }
   }
  },
  {
   "cell_type": "markdown",
   "metadata": {
    "collapsed": false,
    "pycharm": {
     "name": "#%% md\n"
    }
   },
   "source": [
    "d.\tMaak een plot en biplot"
   ]
  },
  {
   "cell_type": "code",
   "execution_count": 10,
   "outputs": [],
   "source": [],
   "metadata": {
    "collapsed": false,
    "ExecuteTime": {
     "end_time": "2023-05-25T09:45:49.687464700Z",
     "start_time": "2023-05-25T09:45:49.638704400Z"
    }
   }
  },
  {
   "cell_type": "markdown",
   "metadata": {
    "collapsed": false,
    "pycharm": {
     "name": "#%% md\n"
    }
   },
   "source": [
    "e.\tMaak een nieuw dataframe verhoudingen aan met de volgende variabelen:\n",
    " * V1 = X2/X1\n",
    " * V2 = X2/X4\n",
    " * V3 = X1/X4\n",
    " * V4 = X2/X5\n",
    " * V5 = X1/X5\n",
    " * V6 = X4/X5\n",
    " * V7 = X3/X6"
   ]
  },
  {
   "cell_type": "code",
   "execution_count": 10,
   "outputs": [],
   "source": [],
   "metadata": {
    "collapsed": false,
    "ExecuteTime": {
     "end_time": "2023-05-25T09:45:49.687464700Z",
     "start_time": "2023-05-25T09:45:49.646732400Z"
    }
   }
  },
  {
   "cell_type": "markdown",
   "metadata": {
    "collapsed": false,
    "pycharm": {
     "name": "#%% md\n"
    }
   },
   "source": [
    "f.\tVoer een Principale-Componenten Analyse uit op de dataframe verhoudingen en interpreteer de resultaten."
   ]
  },
  {
   "cell_type": "code",
   "execution_count": 10,
   "outputs": [],
   "source": [],
   "metadata": {
    "collapsed": false,
    "ExecuteTime": {
     "end_time": "2023-05-25T09:45:49.687464700Z",
     "start_time": "2023-05-25T09:45:49.655229600Z"
    }
   }
  },
  {
   "cell_type": "markdown",
   "metadata": {
    "collapsed": false,
    "pycharm": {
     "name": "#%% md\n"
    }
   },
   "source": [
    "g.\tMaak een plot en biplot"
   ]
  },
  {
   "cell_type": "code",
   "execution_count": 10,
   "outputs": [],
   "source": [],
   "metadata": {
    "collapsed": false,
    "ExecuteTime": {
     "end_time": "2023-05-25T09:45:49.687464700Z",
     "start_time": "2023-05-25T09:45:49.668507500Z"
    }
   }
  },
  {
   "cell_type": "markdown",
   "metadata": {
    "collapsed": false,
    "pycharm": {
     "name": "#%% md\n"
    }
   },
   "source": [
    "h.\tVergelijk de resultaten van beide Principale Componenten Analyse en formuleer een conclusie (Kijk eventueel ook naar de gemiddelde absolute correlaties)."
   ]
  },
  {
   "cell_type": "code",
   "execution_count": 10,
   "outputs": [],
   "source": [],
   "metadata": {
    "collapsed": false,
    "ExecuteTime": {
     "end_time": "2023-05-25T09:45:49.687464700Z",
     "start_time": "2023-05-25T09:45:49.675296900Z"
    }
   }
  }
 ],
 "metadata": {
  "kernelspec": {
   "display_name": "Python 3",
   "language": "python",
   "name": "python3"
  },
  "language_info": {
   "codemirror_mode": {
    "name": "ipython",
    "version": 2
   },
   "file_extension": ".py",
   "mimetype": "text/x-python",
   "name": "python",
   "nbconvert_exporter": "python",
   "pygments_lexer": "ipython2",
   "version": "2.7.6"
  }
 },
 "nbformat": 4,
 "nbformat_minor": 0
}
