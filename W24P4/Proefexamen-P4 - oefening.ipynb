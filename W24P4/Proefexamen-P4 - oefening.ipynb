{
 "cells": [
  {
   "cell_type": "markdown",
   "source": [
    "<span style=\"color: #4F94F0;\">Copyright claim</span>\n",
    "<span style=\"color: #4F94F0;\">Author: Elias De Hondt</span>\n",
    "<span style=\"color: #4F94F0;\">Website: <a href=\"https://eliasdh.com\">https://eliasdh.com</a></span>\n",
    "<span style=\"color: #4F94F0;\">All rights reserved.</span>\n",
    "<br>\n",
    "<img src=\"https://eliasdh.com/assets/img/logo-hd.png\" alt=\"Logo\" width=\"100\">"
   ],
   "metadata": {
    "collapsed": false
   }
  },
  {
   "cell_type": "markdown",
   "source": [
    "# Proefexamen Periode 4\n",
    "\n",
    "This exam consists of 5 parts.\n",
    "\n",
    "-   [Samenhang](##Samenhang)\n",
    "-   [Forecasting](##Forecasting)\n",
    "-   [Beslissingsbomen](##Beslissingsbomen)\n",
    "-   [Cluster Analyse](##Cluster_Analyse)\n",
    "-   [Principale-Componenten Analyse PCA](##Principale-Aomponenten_Analyse_PCA)\n",
    "\n",
    "\n",
    "There are also help functions for each part. You can find these help functions in the GitHub repositories below.\n",
    "[DS1-Examen-Hulp-Samenhang.py](https://github.com/EliasDeHondt/DataScience1/blob/master/W24P4/DS1-Examen-Hulp-Samenhang.py)\n",
    "[DS1-Examen-Hulp-Forecasting.py](https://github.com/EliasDeHondt/DataScience1/blob/master/W24P4/DS1-Examen-Hulp-Forecasting.py)\n",
    "[DS1-Examen-Hulp-Beslissingsbomen.py](https://github.com/EliasDeHondt/DataScience1/blob/master/W24P4/DS1-Examen-Hulp-Beslissingsbomen.py)\n",
    "[DS1-Examen-Hulp-Cluster_Analyse.py](https://github.com/EliasDeHondt/DataScience1/blob/master/W24P4/DS1-Examen-Hulp-Cluster_Analyse.py)\n",
    "[DS1-Examen-Hulp-PCA.py](https://github.com/EliasDeHondt/DataScience1/blob/master/W24P4/DS1-Examen-Hulp-PCA.py)\n",
    "\n",
    "Auxiliary functions from previous period (P3).\n",
    "[DS1-Examen-Hulp-Diagram.py](https://github.com/EliasDeHondt/DataScience1/blob/master/W18P3/DS1-Examen-Hulp-Diagram.py)\n",
    "[DS1-Examen-Hulp-Frequenties.py](https://github.com/EliasDeHondt/DataScience1/blob/master/W18P3/DS1-Examen-Hulp-Frequenties.py)\n",
    "[DS1-Examen-Hulp-Spreidingsmaten-en-Centrum.py](https://github.com/EliasDeHondt/DataScience1/blob/master/W18P3/DS1-Examen-Hulp-Spreidingsmaten-en-Centrum.py)\n",
    "\n",
    "You can find all the datasets that we are going to use on canvas, but also in the following GitHub folder.\n",
    "[Datasets](https://github.com/EliasDeHondt/DataScience1/blob/master/W24P4/data)\n",
    "\n",
    "And for everyone who's using GitHub Copilot, I suggest you disable it because it's not available during the final exam because you do need an internet connection to use it.\n",
    "You can turn it off with the following shortcut: `Ctrl + Alt + Shift + O` or `Ctrl + Shift + P` and then type `GitHub Copilot: Disable` and press enter."
   ],
   "metadata": {
    "collapsed": false
   }
  },
  {
   "cell_type": "code",
   "execution_count": 14,
   "outputs": [],
   "source": [
    "# Imports\n",
    "import pandas as pd\n",
    "import numpy as np\n",
    "from IPython import InteractiveShell\n",
    "from sklearn.metrics import r2_score\n",
    "from sklearn.linear_model import LinearRegression\n",
    "from scipy.stats import linregress\n",
    "from sklearn.metrics import mean_squared_error\n",
    "from statsmodels.tsa.seasonal import seasonal_decompose\n",
    "# These are helper functions that can be found on canvas or also in the GitHub repository.\n",
    "from W20P4.forecast import find_period, plot_seasonal_decompositon, create_trend_model, predict, forecast_errors, GeneralRegression, linear_combination\n",
    "import graphviz\n",
    "from id3 import Id3Estimator, export_graphviz\n",
    "from matplotlib import pyplot as plt\n",
    "import matplotlib\n",
    "from scipy.cluster.hierarchy import linkage, dendrogram\n",
    "from scipy.spatial.distance import cdist\n",
    "from sklearn.cluster import AgglomerativeClustering\n",
    "from sklearn.tree import DecisionTreeClassifier\n",
    "from sklearn import tree\n",
    "from sklearn.cluster import KMeans\n",
    "from sklearn.preprocessing import StandardScaler\n",
    "from sklearn.decomposition import PCA\n",
    "from sklearn.pipeline import make_pipeline\n",
    "from pca import pca\n",
    "\n",
    "# The function below comes from an utilities file, but it was partly statically programmed and has been modified here to make it visually clearer what is happening.\n",
    "def plot_trends(y1: np.array, y2=None, sub_title=None, label1='gegeven', label2='voorspeld', color='C0', ax=None):\n",
    "    if y2 is not None:\n",
    "        n = max(y1.size, y2.size)\n",
    "    else:\n",
    "        n = y1.size\n",
    "\n",
    "    if not ax:\n",
    "        fig, ax = plt.subplots(figsize=(25, 5))\n",
    "    else:\n",
    "        fig = ax.figure\n",
    "\n",
    "    if sub_title:\n",
    "        fig.suptitle(sub_title, y=1.02)\n",
    "\n",
    "    ax.set_xlabel('Maanden')\n",
    "    ax.set_ylabel('Aantal bezoekers')\n",
    "    ax2 = ax.secondary_xaxis('top')\n",
    "    ax2.set_xticks(range(n))\n",
    "    ax2.set_xticklabels(['{}'.format(j % 12 + 1) for j in range(n)])\n",
    "\n",
    "    ax.set_xticks(range(n))\n",
    "    ax.plot(y1, label=label1, color=color, marker='o')\n",
    "    if y2 is not None:\n",
    "        ax.plot(y2, label=label2, color='C1', marker='^')\n",
    "    for i in range(0, n, 4):\n",
    "        ax.axvline(i, color='gray', linewidth=0.5)\n",
    "\n",
    "    ax.legend()"
   ],
   "metadata": {
    "collapsed": false,
    "ExecuteTime": {
     "end_time": "2023-06-09T15:03:18.311823900Z",
     "start_time": "2023-06-09T15:03:16.359421700Z"
    }
   }
  },
  {
   "cell_type": "markdown",
   "source": [
    "## Samenhang\n",
    "Dataset We are going to use equals `batterijen.csv` and contains the following columns: `geproduceerd`, `aantalDefect`.\n",
    "Total questions: 12"
   ],
   "metadata": {
    "collapsed": false
   }
  },
  {
   "cell_type": "markdown",
   "source": [
    "Question 1: Read in the data. Put this data in variable `batterijen`."
   ],
   "metadata": {
    "collapsed": false
   }
  },
  {
   "cell_type": "code",
   "execution_count": 14,
   "metadata": {
    "collapsed": true,
    "ExecuteTime": {
     "end_time": "2023-06-09T15:03:18.343720200Z",
     "start_time": "2023-06-09T15:03:16.388149300Z"
    }
   },
   "outputs": [],
   "source": []
  },
  {
   "cell_type": "markdown",
   "source": [
    "Question 2: There are outliers in the `aantalDefect` column. Remove these. And reset the index."
   ],
   "metadata": {
    "collapsed": false
   }
  },
  {
   "cell_type": "code",
   "execution_count": 14,
   "outputs": [],
   "source": [],
   "metadata": {
    "collapsed": false,
    "ExecuteTime": {
     "end_time": "2023-06-09T15:03:18.358486100Z",
     "start_time": "2023-06-09T15:03:16.408840100Z"
    }
   }
  },
  {
   "cell_type": "markdown",
   "source": [
    "Question 3: Create a scatterplot of the two columns. Is there a linear relationship?"
   ],
   "metadata": {
    "collapsed": false
   }
  },
  {
   "cell_type": "code",
   "execution_count": 14,
   "outputs": [],
   "source": [],
   "metadata": {
    "collapsed": false,
    "ExecuteTime": {
     "end_time": "2023-06-09T15:03:18.378377Z",
     "start_time": "2023-06-09T15:03:16.424462200Z"
    }
   }
  },
  {
   "cell_type": "markdown",
   "source": [
    "Question 4: What correlation do you find with Kendall's method?"
   ],
   "metadata": {
    "collapsed": false
   }
  },
  {
   "cell_type": "code",
   "execution_count": 14,
   "outputs": [],
   "source": [],
   "metadata": {
    "collapsed": false,
    "ExecuteTime": {
     "end_time": "2023-06-09T15:03:18.393463800Z",
     "start_time": "2023-06-09T15:03:16.443200200Z"
    }
   }
  },
  {
   "cell_type": "markdown",
   "source": [
    "Question 5: Actually, we are not interested in the absolute number of defective batteries, but we are interested in its\n",
    "percentage. So divide the number of defects by the number of batteries produced. What is it\n",
    "average percentage of defective batteries? Put this in a data frame and print it out."
   ],
   "metadata": {
    "collapsed": false
   }
  },
  {
   "cell_type": "code",
   "execution_count": 14,
   "outputs": [],
   "source": [],
   "metadata": {
    "collapsed": false,
    "ExecuteTime": {
     "end_time": "2023-06-09T15:03:18.416720200Z",
     "start_time": "2023-06-09T15:03:16.462257600Z"
    }
   }
  },
  {
   "cell_type": "markdown",
   "source": [
    "Question 6: Make a scatter plot again with the percentage of defective batteries. Do you see the difference with the previous chart?"
   ],
   "metadata": {
    "collapsed": false
   }
  },
  {
   "cell_type": "code",
   "execution_count": 14,
   "outputs": [],
   "source": [],
   "metadata": {
    "collapsed": false,
    "ExecuteTime": {
     "end_time": "2023-06-09T15:03:18.416720200Z",
     "start_time": "2023-06-09T15:03:16.477928300Z"
    }
   }
  },
  {
   "cell_type": "markdown",
   "source": [
    "Question 7: Now calculate the correlation between the number of batteries produced and the percentage of defective ones\n",
    "batteries."
   ],
   "metadata": {
    "collapsed": false
   }
  },
  {
   "cell_type": "code",
   "execution_count": 14,
   "outputs": [],
   "source": [],
   "metadata": {
    "collapsed": false,
    "ExecuteTime": {
     "end_time": "2023-06-09T15:03:18.422805200Z",
     "start_time": "2023-06-09T15:03:16.495840Z"
    }
   }
  },
  {
   "cell_type": "markdown",
   "source": [
    "Question 8: What is the value of R²? What does this mean?"
   ],
   "metadata": {
    "collapsed": false
   }
  },
  {
   "cell_type": "code",
   "execution_count": 14,
   "outputs": [],
   "source": [],
   "metadata": {
    "collapsed": false,
    "ExecuteTime": {
     "end_time": "2023-06-09T15:03:18.427345100Z",
     "start_time": "2023-06-09T15:03:16.512884Z"
    }
   }
  },
  {
   "cell_type": "markdown",
   "source": [
    "Question 9: Draw the regression line on the scatter plot. What are the slope and intercept values?"
   ],
   "metadata": {
    "collapsed": false
   }
  },
  {
   "cell_type": "code",
   "execution_count": 14,
   "outputs": [],
   "source": [],
   "metadata": {
    "collapsed": false,
    "ExecuteTime": {
     "end_time": "2023-06-09T15:03:18.442866700Z",
     "start_time": "2023-06-09T15:03:16.527694400Z"
    }
   }
  },
  {
   "cell_type": "markdown",
   "source": [
    "Question 10: What is the standard error of estimation? What does this mean?"
   ],
   "metadata": {
    "collapsed": false
   }
  },
  {
   "cell_type": "code",
   "execution_count": 14,
   "outputs": [],
   "source": [],
   "metadata": {
    "collapsed": false,
    "ExecuteTime": {
     "end_time": "2023-06-09T15:03:18.459444400Z",
     "start_time": "2023-06-09T15:03:16.545473200Z"
    }
   }
  },
  {
   "cell_type": "markdown",
   "source": [
    "Question 11: If production were to be increased to 8,000 batteries/day. How many defective batteries would you\n",
    "then expect?"
   ],
   "metadata": {
    "collapsed": false
   }
  },
  {
   "cell_type": "code",
   "execution_count": 14,
   "outputs": [],
   "source": [],
   "metadata": {
    "collapsed": false,
    "ExecuteTime": {
     "end_time": "2023-06-09T15:03:18.480625200Z",
     "start_time": "2023-06-09T15:03:16.565304400Z"
    }
   }
  },
  {
   "cell_type": "markdown",
   "source": [
    "Question 12: How many batteries can the factory produce per day so that at most 1 percent is defective?"
   ],
   "metadata": {
    "collapsed": false
   }
  },
  {
   "cell_type": "code",
   "execution_count": 14,
   "outputs": [],
   "source": [],
   "metadata": {
    "collapsed": false,
    "ExecuteTime": {
     "end_time": "2023-06-09T15:03:18.480625200Z",
     "start_time": "2023-06-09T15:03:16.582542200Z"
    }
   }
  },
  {
   "cell_type": "markdown",
   "source": [
    "## Forecasting\n",
    "Dataset We are going to use equals `pretpark.csv` and contains the following columns: `jaar`, `maand`, `aantal_bezoekers`.\n",
    "Total questions: 11"
   ],
   "metadata": {
    "collapsed": false
   }
  },
  {
   "cell_type": "markdown",
   "source": [
    "Question 1: Read in the data. Put this data in variable `pretpark`."
   ],
   "metadata": {
    "collapsed": false
   }
  },
  {
   "cell_type": "code",
   "execution_count": 14,
   "outputs": [],
   "source": [],
   "metadata": {
    "collapsed": false,
    "ExecuteTime": {
     "end_time": "2023-06-09T15:03:18.485852300Z",
     "start_time": "2023-06-09T15:03:16.607953200Z"
    }
   }
  },
  {
   "cell_type": "markdown",
   "source": [
    "Question 2: Make sure that the column `aantal_bezoekers` becomes a float."
   ],
   "metadata": {
    "collapsed": false
   }
  },
  {
   "cell_type": "code",
   "execution_count": 14,
   "outputs": [],
   "source": [],
   "metadata": {
    "collapsed": false,
    "ExecuteTime": {
     "end_time": "2023-06-09T15:03:18.501089900Z",
     "start_time": "2023-06-09T15:03:16.621826400Z"
    }
   }
  },
  {
   "cell_type": "markdown",
   "source": [
    "Question 3: Make a graph of the data. What do you notice visually? Is the number of visitors increasing or decreasing? Is there a recognizable pattern?"
   ],
   "metadata": {
    "collapsed": false
   }
  },
  {
   "cell_type": "code",
   "execution_count": 14,
   "outputs": [],
   "source": [],
   "metadata": {
    "collapsed": false,
    "ExecuteTime": {
     "end_time": "2023-06-09T15:03:18.508098500Z",
     "start_time": "2023-06-09T15:03:16.637610700Z"
    }
   }
  },
  {
   "cell_type": "markdown",
   "source": [
    "Question 4: Would you use the additive or multiplicative model?"
   ],
   "metadata": {
    "collapsed": false
   }
  },
  {
   "cell_type": "code",
   "execution_count": 14,
   "outputs": [],
   "source": [],
   "metadata": {
    "collapsed": false,
    "ExecuteTime": {
     "end_time": "2023-06-09T15:03:18.526395700Z",
     "start_time": "2023-06-09T15:03:16.654672300Z"
    }
   }
  },
  {
   "cell_type": "markdown",
   "source": [
    "Question 5: What is the size of 1 “season”?"
   ],
   "metadata": {
    "collapsed": false
   }
  },
  {
   "cell_type": "code",
   "execution_count": 14,
   "outputs": [],
   "source": [],
   "metadata": {
    "collapsed": false,
    "ExecuteTime": {
     "end_time": "2023-06-09T15:03:18.530911200Z",
     "start_time": "2023-06-09T15:03:16.670959500Z"
    }
   }
  },
  {
   "cell_type": "markdown",
   "source": [
    "Question 6: Now do a decomposition. Plot these in a diagram."
   ],
   "metadata": {
    "collapsed": false
   }
  },
  {
   "cell_type": "code",
   "execution_count": 14,
   "outputs": [],
   "source": [],
   "metadata": {
    "collapsed": false,
    "ExecuteTime": {
     "end_time": "2023-06-09T15:03:18.549953800Z",
     "start_time": "2023-06-09T15:03:16.688714Z"
    }
   }
  },
  {
   "cell_type": "markdown",
   "source": [
    "Question 7: We are now going to make a model to make predictions for the future. Do a linear regression on the trend and determine the slope and the intercept."
   ],
   "metadata": {
    "collapsed": false
   }
  },
  {
   "cell_type": "code",
   "execution_count": 14,
   "outputs": [],
   "source": [],
   "metadata": {
    "collapsed": false,
    "ExecuteTime": {
     "end_time": "2023-06-09T15:03:18.568262800Z",
     "start_time": "2023-06-09T15:03:16.708818400Z"
    }
   }
  },
  {
   "cell_type": "markdown",
   "source": [
    "Question 8: Calculate the values of the trend for the upcoming year."
   ],
   "metadata": {
    "collapsed": false
   }
  },
  {
   "cell_type": "code",
   "execution_count": 14,
   "outputs": [],
   "source": [],
   "metadata": {
    "collapsed": false,
    "ExecuteTime": {
     "end_time": "2023-06-09T15:03:18.568262800Z",
     "start_time": "2023-06-09T15:03:16.745813100Z"
    }
   }
  },
  {
   "cell_type": "markdown",
   "source": [
    "Question 9: What are the values of the season?"
   ],
   "metadata": {
    "collapsed": false
   }
  },
  {
   "cell_type": "code",
   "execution_count": null,
   "outputs": [],
   "source": [],
   "metadata": {
    "collapsed": false,
    "is_executing": true,
    "ExecuteTime": {
     "start_time": "2023-06-09T15:03:16.748811Z"
    }
   }
  },
  {
   "cell_type": "markdown",
   "source": [
    "Question 10: Now multiply the trend values by the pattern. You now have an estimate of the number of visitors for the following year. What values do you come up with (round the values to an integer)?"
   ],
   "metadata": {
    "collapsed": false
   }
  },
  {
   "cell_type": "code",
   "execution_count": 14,
   "outputs": [],
   "source": [],
   "metadata": {
    "collapsed": false,
    "ExecuteTime": {
     "end_time": "2023-06-09T15:03:18.765685700Z",
     "start_time": "2023-06-09T15:03:17.368211600Z"
    }
   }
  },
  {
   "cell_type": "markdown",
   "source": [
    "Question 11: What is the MAE, RMSE and the MAPE? What does the MAPE mean?"
   ],
   "metadata": {
    "collapsed": false
   }
  },
  {
   "cell_type": "code",
   "execution_count": 14,
   "outputs": [],
   "source": [],
   "metadata": {
    "collapsed": false,
    "ExecuteTime": {
     "end_time": "2023-06-09T15:03:18.765685700Z",
     "start_time": "2023-06-09T15:03:17.374194200Z"
    }
   }
  },
  {
   "cell_type": "markdown",
   "source": [
    "## Beslissingsbomen\n",
    "Dataset We are going to use equals `playBall.csv` and contains the following columns: `Outlook`, `Temperature`, `Humidity`, `Wind`, `Play`.\n",
    "Total questions: 6"
   ],
   "metadata": {
    "collapsed": false
   }
  },
  {
   "cell_type": "markdown",
   "source": [
    "Question 1: Read in the data. Put this data in variable `playBall`."
   ],
   "metadata": {
    "collapsed": false
   }
  },
  {
   "cell_type": "code",
   "execution_count": 14,
   "outputs": [],
   "source": [],
   "metadata": {
    "collapsed": false,
    "ExecuteTime": {
     "end_time": "2023-06-09T15:03:18.779718Z",
     "start_time": "2023-06-09T15:03:17.383044100Z"
    }
   }
  },
  {
   "cell_type": "markdown",
   "source": [
    "Question 2: Calculate the entropy of this table. Also write down the formula."
   ],
   "metadata": {
    "collapsed": false
   }
  },
  {
   "cell_type": "code",
   "execution_count": 14,
   "outputs": [],
   "source": [],
   "metadata": {
    "collapsed": false,
    "ExecuteTime": {
     "end_time": "2023-06-09T15:03:18.779718Z",
     "start_time": "2023-06-09T15:03:17.399799100Z"
    }
   }
  },
  {
   "cell_type": "markdown",
   "source": [
    "Question 3: Calculate the gain for each column."
   ],
   "metadata": {
    "collapsed": false
   }
  },
  {
   "cell_type": "code",
   "execution_count": 14,
   "outputs": [],
   "source": [],
   "metadata": {
    "collapsed": false,
    "ExecuteTime": {
     "end_time": "2023-06-09T15:03:18.784277300Z",
     "start_time": "2023-06-09T15:03:17.414129100Z"
    }
   }
  },
  {
   "cell_type": "markdown",
   "source": [
    "Question 4: Which column do you choose for the first node?"
   ],
   "metadata": {
    "collapsed": false
   }
  },
  {
   "cell_type": "code",
   "execution_count": 14,
   "outputs": [],
   "source": [],
   "metadata": {
    "collapsed": false,
    "ExecuteTime": {
     "end_time": "2023-06-09T15:03:18.784277300Z",
     "start_time": "2023-06-09T15:03:17.429622300Z"
    }
   }
  },
  {
   "cell_type": "markdown",
   "source": [
    "Question 5: Create the tree structure."
   ],
   "metadata": {
    "collapsed": false
   }
  },
  {
   "cell_type": "code",
   "execution_count": 14,
   "outputs": [],
   "source": [],
   "metadata": {
    "collapsed": false,
    "ExecuteTime": {
     "end_time": "2023-06-09T15:03:18.788281400Z",
     "start_time": "2023-06-09T15:03:17.444057100Z"
    }
   }
  },
  {
   "cell_type": "markdown",
   "source": [
    "Question 6: Make a prediction now? Will games be played in the following weather conditions?\n",
    " * Outlook = Sunny\n",
    " * Temperature = Mild\n",
    " * Humidity = High\n",
    " * Wind = Weak"
   ],
   "metadata": {
    "collapsed": false
   }
  },
  {
   "cell_type": "code",
   "execution_count": 14,
   "outputs": [],
   "source": [],
   "metadata": {
    "collapsed": false,
    "ExecuteTime": {
     "end_time": "2023-06-09T15:03:18.788281400Z",
     "start_time": "2023-06-09T15:03:17.460449200Z"
    }
   }
  },
  {
   "cell_type": "markdown",
   "source": [
    "## Cluster_Analyse\n",
    "Dataset We are going to use equals `simpsons.csv` and contains the following columns: `naam`, `haarlengte`, `gewicht`, `leeftijd`, `geslacht`.\n",
    "Total questions: 12"
   ],
   "metadata": {
    "collapsed": false
   }
  },
  {
   "cell_type": "markdown",
   "source": [
    "Question 1: Read in the data. Put this data in variable `simpsons`."
   ],
   "metadata": {
    "collapsed": false
   }
  },
  {
   "cell_type": "code",
   "execution_count": null,
   "outputs": [],
   "source": [],
   "metadata": {
    "collapsed": false,
    "is_executing": true,
    "ExecuteTime": {
     "start_time": "2023-06-09T15:03:17.476198900Z"
    }
   }
  },
  {
   "cell_type": "markdown",
   "source": [
    "Question 2: Delete the `name` and `gender` columns as they are nominal. And use the names as index."
   ],
   "metadata": {
    "collapsed": false
   }
  },
  {
   "cell_type": "code",
   "execution_count": null,
   "outputs": [],
   "source": [],
   "metadata": {
    "collapsed": false,
    "is_executing": true
   }
  },
  {
   "cell_type": "markdown",
   "source": [
    "Question 3: Determine the Euclidean distances between the Simpsons."
   ],
   "metadata": {
    "collapsed": false
   }
  },
  {
   "cell_type": "code",
   "execution_count": null,
   "outputs": [],
   "source": [],
   "metadata": {
    "collapsed": false,
    "is_executing": true
   }
  },
  {
   "cell_type": "markdown",
   "source": [
    "Question 4: Which Simpsons Are Closest to Each Other?"
   ],
   "metadata": {
    "collapsed": false
   }
  },
  {
   "cell_type": "code",
   "execution_count": null,
   "outputs": [],
   "source": [],
   "metadata": {
    "collapsed": false,
    "is_executing": true,
    "ExecuteTime": {
     "start_time": "2023-06-09T15:03:17.563263200Z"
    }
   }
  },
  {
   "cell_type": "markdown",
   "source": [
    "Question 5: What is the Manhattan distance between Homer and Bart?"
   ],
   "metadata": {
    "collapsed": false
   }
  },
  {
   "cell_type": "code",
   "execution_count": null,
   "outputs": [],
   "source": [],
   "metadata": {
    "collapsed": false,
    "is_executing": true,
    "ExecuteTime": {
     "start_time": "2023-06-09T15:03:17.566867600Z"
    }
   }
  },
  {
   "cell_type": "markdown",
   "source": [
    "Question 6: What is the standardized Euclidean distance between Marge and Maggie?"
   ],
   "metadata": {
    "collapsed": false
   }
  },
  {
   "cell_type": "code",
   "execution_count": null,
   "outputs": [],
   "source": [],
   "metadata": {
    "collapsed": false,
    "is_executing": true,
    "ExecuteTime": {
     "start_time": "2023-06-09T15:03:17.570470900Z"
    }
   }
  },
  {
   "cell_type": "markdown",
   "source": [
    "Question 7: Now make a dendrogram (using Euclidean distances)"
   ],
   "metadata": {
    "collapsed": false
   }
  },
  {
   "cell_type": "code",
   "execution_count": null,
   "outputs": [],
   "source": [],
   "metadata": {
    "collapsed": false,
    "is_executing": true,
    "ExecuteTime": {
     "start_time": "2023-06-09T15:03:17.573044200Z"
    }
   }
  },
  {
   "cell_type": "markdown",
   "source": [
    "Question 8: If you had to select 2 clusters from this tree, what would they be? How would you name those clusters?"
   ],
   "metadata": {
    "collapsed": false
   }
  },
  {
   "cell_type": "code",
   "execution_count": null,
   "outputs": [],
   "source": [],
   "metadata": {
    "collapsed": false,
    "is_executing": true,
    "ExecuteTime": {
     "start_time": "2023-06-09T15:03:17.581788900Z"
    }
   }
  },
  {
   "cell_type": "markdown",
   "source": [
    "Question 9: Make a scatterplot of the Simpsons with age in the X-axis and weight in the Y-axis. Use the cluster number for the color."
   ],
   "metadata": {
    "collapsed": false
   }
  },
  {
   "cell_type": "code",
   "execution_count": null,
   "outputs": [],
   "source": [],
   "metadata": {
    "collapsed": false,
    "is_executing": true,
    "ExecuteTime": {
     "start_time": "2023-06-09T15:03:17.597896400Z"
    }
   }
  },
  {
   "cell_type": "markdown",
   "source": [
    "Question 10: Now determine 3 clusters from the tree and plot again. Which Simpsons are now in which category?"
   ],
   "metadata": {
    "collapsed": false
   }
  },
  {
   "cell_type": "code",
   "execution_count": null,
   "outputs": [],
   "source": [],
   "metadata": {
    "collapsed": false,
    "is_executing": true,
    "ExecuteTime": {
     "start_time": "2023-06-09T15:03:17.614331300Z"
    }
   }
  },
  {
   "cell_type": "code",
   "execution_count": null,
   "outputs": [],
   "source": [],
   "metadata": {
    "collapsed": false,
    "is_executing": true,
    "ExecuteTime": {
     "start_time": "2023-06-09T15:03:17.629465Z"
    }
   }
  },
  {
   "cell_type": "markdown",
   "source": [
    "Question 11: Now try to make 2 clusters with the k-means algorithm."
   ],
   "metadata": {
    "collapsed": false
   }
  },
  {
   "cell_type": "code",
   "execution_count": null,
   "outputs": [],
   "source": [],
   "metadata": {
    "collapsed": false,
    "is_executing": true,
    "ExecuteTime": {
     "start_time": "2023-06-09T15:03:17.647154900Z"
    }
   }
  },
  {
   "cell_type": "code",
   "execution_count": null,
   "outputs": [],
   "source": [],
   "metadata": {
    "collapsed": false,
    "is_executing": true,
    "ExecuteTime": {
     "start_time": "2023-06-09T15:03:17.661443500Z"
    }
   }
  },
  {
   "cell_type": "markdown",
   "source": [
    "Question 12: Can you draw up a decision tree that determines which cluster a Simpson falls into?\n",
    "To do this, create a column that contains the cluster number and use DecisionTreeClassifier to construct the tree."
   ],
   "metadata": {
    "collapsed": false
   }
  },
  {
   "cell_type": "code",
   "execution_count": null,
   "outputs": [],
   "source": [],
   "metadata": {
    "collapsed": false,
    "is_executing": true,
    "ExecuteTime": {
     "start_time": "2023-06-09T15:03:17.677072700Z"
    }
   }
  },
  {
   "cell_type": "markdown",
   "source": [
    "## Principale-Aomponenten_Analyse_PCA\n",
    "Dataset We are going to use equals `protein_consumption.csv` and contains the following columns: `Country`, `Comunist`, `Region`, `Red_Meat`, `White_Meat`, `Eggs`, `Milk`, `Fish`, `Cereal`, `Starch`, `Nuts`, `Fruits_Vegetables`, `Total`.\n",
    "Total questions: 10"
   ],
   "metadata": {
    "collapsed": false
   }
  },
  {
   "cell_type": "markdown",
   "source": [
    "Question 1: Read in the data. Put this data in variable `protein_consumption`."
   ],
   "metadata": {
    "collapsed": false
   }
  },
  {
   "cell_type": "code",
   "execution_count": null,
   "outputs": [],
   "source": [],
   "metadata": {
    "collapsed": false,
    "is_executing": true,
    "ExecuteTime": {
     "start_time": "2023-06-09T15:03:17.691928200Z"
    }
   }
  },
  {
   "cell_type": "markdown",
   "source": [
    "Question 2: Use the names of the countries listed in the first column as an index."
   ],
   "metadata": {
    "collapsed": false
   }
  },
  {
   "cell_type": "code",
   "execution_count": null,
   "outputs": [],
   "source": [],
   "metadata": {
    "collapsed": false,
    "is_executing": true,
    "ExecuteTime": {
     "start_time": "2023-06-09T15:03:17.706251700Z"
    }
   }
  },
  {
   "cell_type": "markdown",
   "source": [
    "Question 3: Which columns should you remove in order to perform a Principal Component Analysis?\n",
    "_Tip: Remove any columns with the wrong measure scale, columns that don't make sense._"
   ],
   "metadata": {
    "collapsed": false
   }
  },
  {
   "cell_type": "code",
   "execution_count": null,
   "outputs": [],
   "source": [],
   "metadata": {
    "collapsed": false,
    "is_executing": true,
    "ExecuteTime": {
     "start_time": "2023-06-09T15:03:17.721641700Z"
    }
   }
  },
  {
   "cell_type": "markdown",
   "source": [
    "Question 4: View the correlations between the variables. (matrix)"
   ],
   "metadata": {
    "collapsed": false
   }
  },
  {
   "cell_type": "code",
   "execution_count": null,
   "outputs": [],
   "source": [],
   "metadata": {
    "collapsed": false,
    "is_executing": true,
    "ExecuteTime": {
     "start_time": "2023-06-09T15:03:17.740963Z"
    }
   }
  },
  {
   "cell_type": "markdown",
   "source": [
    "Question 5: Perform a Principal Component Analysis. Remember that you need to standardize the data first. It is best to create a pipeline for this with a StandardScaler"
   ],
   "metadata": {
    "collapsed": false
   }
  },
  {
   "cell_type": "code",
   "execution_count": null,
   "outputs": [],
   "source": [],
   "metadata": {
    "collapsed": false,
    "is_executing": true,
    "ExecuteTime": {
     "start_time": "2023-06-09T15:03:17.752901Z"
    }
   }
  },
  {
   "cell_type": "markdown",
   "source": [
    "Question 6: Are there one or more variables that play a significant role in determining the first principal component?"
   ],
   "metadata": {
    "collapsed": false
   }
  },
  {
   "cell_type": "code",
   "execution_count": null,
   "outputs": [],
   "source": [],
   "metadata": {
    "collapsed": false,
    "is_executing": true,
    "ExecuteTime": {
     "start_time": "2023-06-09T15:03:17.772878100Z"
    }
   }
  },
  {
   "cell_type": "markdown",
   "source": [
    "Question 7: Make a biplot. Which countries belong together?"
   ],
   "metadata": {
    "collapsed": false
   }
  },
  {
   "cell_type": "code",
   "execution_count": 14,
   "outputs": [],
   "source": [],
   "metadata": {
    "collapsed": false,
    "ExecuteTime": {
     "end_time": "2023-06-09T15:03:18.837796100Z",
     "start_time": "2023-06-09T15:03:17.785650600Z"
    }
   }
  },
  {
   "cell_type": "markdown",
   "source": [
    "Question 8: Create a new data frame where we take the first three main components for the observations."
   ],
   "metadata": {
    "collapsed": false
   }
  },
  {
   "cell_type": "code",
   "execution_count": 14,
   "outputs": [],
   "source": [],
   "metadata": {
    "collapsed": false,
    "ExecuteTime": {
     "end_time": "2023-06-09T15:03:18.838793700Z",
     "start_time": "2023-06-09T15:03:17.800800900Z"
    }
   }
  },
  {
   "cell_type": "markdown",
   "source": [
    "Question 9: Apply a hierarchical cluster analysis to this (Euclidean distance). Compare the results with the results obtained with a cluster analysis applied to the original variables."
   ],
   "metadata": {
    "collapsed": false
   }
  },
  {
   "cell_type": "code",
   "execution_count": 14,
   "outputs": [],
   "source": [],
   "metadata": {
    "collapsed": false,
    "ExecuteTime": {
     "end_time": "2023-06-09T15:03:18.838793700Z",
     "start_time": "2023-06-09T15:03:17.816611200Z"
    }
   }
  },
  {
   "cell_type": "markdown",
   "source": [
    "Question 10: Finally, compare the biplots."
   ],
   "metadata": {
    "collapsed": false
   }
  },
  {
   "cell_type": "code",
   "execution_count": 14,
   "outputs": [],
   "source": [],
   "metadata": {
    "collapsed": false,
    "ExecuteTime": {
     "end_time": "2023-06-09T15:03:18.838793700Z",
     "start_time": "2023-06-09T15:03:17.831666600Z"
    }
   }
  }
 ],
 "metadata": {
  "kernelspec": {
   "display_name": "Python 3",
   "language": "python",
   "name": "python3"
  },
  "language_info": {
   "codemirror_mode": {
    "name": "ipython",
    "version": 2
   },
   "file_extension": ".py",
   "mimetype": "text/x-python",
   "name": "python",
   "nbconvert_exporter": "python",
   "pygments_lexer": "ipython2",
   "version": "2.7.6"
  }
 },
 "nbformat": 4,
 "nbformat_minor": 0
}
