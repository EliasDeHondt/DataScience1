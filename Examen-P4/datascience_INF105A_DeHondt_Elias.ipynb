{
 "cells": [
  {
   "cell_type": "markdown",
   "source": [
    "# Examen Data science 1\n",
    "## 2023 - P4\n",
    "\n",
    "Naam: Elias De Hondt\n",
    "Klas: INF105A\n",
    "Studentnummer: 0160712-80"
   ],
   "metadata": {
    "collapsed": false
   }
  },
  {
   "cell_type": "code",
   "execution_count": 60,
   "outputs": [],
   "source": [
    "# Zet hier al je imports:\n",
    "import pandas as pd\n",
    "import numpy as np\n",
    "from IPython import InteractiveShell\n",
    "from sklearn.metrics import r2_score\n",
    "from sklearn.linear_model import LinearRegression\n",
    "from scipy.stats import linregress\n",
    "from sklearn.metrics import mean_squared_error\n",
    "from W20P4.forecast import seasonal_decomposition_forecast\n",
    "from statsmodels.tsa.seasonal import seasonal_decompose\n",
    "from W20P4.forecast import find_period, plot_seasonal_decompositon, create_trend_model, predict, forecast_errors, GeneralRegression, linear_combination\n",
    "import graphviz\n",
    "from id3 import Id3Estimator, export_graphviz\n",
    "from matplotlib import pyplot as plt\n",
    "import matplotlib\n",
    "from scipy.cluster.hierarchy import linkage, dendrogram\n",
    "from scipy.spatial.distance import cdist\n",
    "from sklearn.cluster import AgglomerativeClustering\n",
    "from sklearn.tree import DecisionTreeClassifier\n",
    "from sklearn import tree\n",
    "from sklearn.cluster import KMeans\n",
    "from sklearn.preprocessing import StandardScaler\n",
    "from sklearn.decomposition import PCA\n",
    "from sklearn.pipeline import make_pipeline\n",
    "from W23P4.scripts.pca_hulpfuncties import plot_pca\n",
    "from pca import pca"
   ],
   "metadata": {
    "collapsed": false,
    "ExecuteTime": {
     "end_time": "2023-06-13T09:13:06.026933800Z",
     "start_time": "2023-06-13T09:13:05.859396700Z"
    }
   }
  },
  {
   "cell_type": "code",
   "execution_count": 61,
   "outputs": [],
   "source": [
    "# Zet hier alle functies die je wil gebruiken:\n",
    "def moving_average(y: np.array, m=4):\n",
    "    if y.size < m:\n",
    "        return np.nan\n",
    "\n",
    "    return np.mean(y[-m:])\n",
    "\n",
    "def entropy(series: pd.Series):\n",
    "    vc = series.value_counts(normalize=True, sort=False)\n",
    "    return -(vc * np.log2(vc)).sum()\n",
    "\n",
    "def information_gain(parent_table: pd.DataFrame, attribute: str, target: str):\n",
    "    # bepaal entropie van parent table\n",
    "    entropy_parent = entropy(parent_table[target])\n",
    "    child_entropies = []\n",
    "    child_weights = []\n",
    "\n",
    "    # bereken entropies of child tables\n",
    "    for (label, fraction) in parent_table[attribute].value_counts().items():\n",
    "        child_df = parent_table[parent_table[attribute] == label]\n",
    "        child_entropies.append(entropy(child_df[target]))\n",
    "        child_weights.append(int(fraction))\n",
    "\n",
    "    # calculate the difference between parent entropy and weighted child entropies\n",
    "    return entropy_parent - np.average(child_entropies, weights=child_weights)"
   ],
   "metadata": {
    "collapsed": false,
    "ExecuteTime": {
     "end_time": "2023-06-13T09:13:06.026933800Z",
     "start_time": "2023-06-13T09:13:05.883551400Z"
    }
   }
  },
  {
   "cell_type": "markdown",
   "source": [
    "Hier staat code om het bestand in te lezen.  Pas eventueel het path aan.  De rest van de code zou zo moeten werken:"
   ],
   "metadata": {
    "collapsed": false
   }
  },
  {
   "cell_type": "code",
   "execution_count": 62,
   "outputs": [
    {
     "data": {
      "text/plain": "    klantNummer  grootte  waardering  totaal_bedrag   bedrag  lengte   \n0         32814  normaal           3        8109.12  1556.30   194.4  \\\n1         32856  normaal           3        9481.44  1339.01   172.1   \n2         32041  normaal           3        8515.58  1480.33   160.6   \n3         32739    klein           2        7881.27  1736.86   178.1   \n4         32757  normaal           2        7095.56  1802.29   160.9   \n5         32359    klein           2        9047.55  1606.87   178.0   \n6         32274  normaal           4        8395.51  1471.27   174.2   \n7         32012  normaal           2        7901.42  1619.80   184.8   \n8         32908    klein           1        8368.78  1599.27   173.3   \n9         32365  normaal           2        9245.22  1601.39   159.1   \n10        32763  normaal           2        9988.90  1481.91   185.9   \n11        32178    klein           2        9163.45  1414.51   167.2   \n12        32767  normaal           2        8876.99  1556.78   182.3   \n13        32280  normaal           2        8184.61  1632.51   205.1   \n14        32565  normaal           4        9749.28  1280.24   157.7   \n15        32252    groot           5        8624.22  1596.62   200.4   \n16        32391    klein           1        8418.19  1578.66   173.0   \n17        32637    klein           2        9123.59  1550.21   205.7   \n18        32164  normaal           2        8720.39  1500.50   150.0   \n19        32305  normaal           4        9913.20  1203.88   162.0   \n20        32390    groot           5        8523.63  1516.40   178.5   \n21        32391  normaal           2        8168.51  1715.59   181.1   \n22        32392  normaal           1        9407.94  1564.50   195.7   \n23        32241    klein           1        9823.11  1028.11   182.2   \n24        32119    groot           4        7627.66  1588.99   178.4   \n25        32746  normaal           3        7708.56  1651.27   195.4   \n26        32500  normaal           3        8675.75  1328.63   182.6   \n27        32810  normaal           3        9123.65  1535.81   165.7   \n28        32204  normaal           2        9066.83  1362.34   142.2   \n29        32992  normaal           4        8177.52  1620.84   199.3   \n30        32080    klein           2        9030.37  1532.42   141.1   \n31        32023  normaal           3        8238.74  1682.81   196.6   \n32        32967    klein           3        8904.62  1569.28   191.9   \n33        32339    klein           2       10652.61  1288.64   153.9   \n34        32506  normaal           3        9226.29  1446.78   177.5   \n35        32399    klein           1        8334.91  1674.10   134.0   \n36        32214  normaal           2       10742.51  1141.93   180.7   \n37        32936  normaal           3        6286.66  1866.36   201.5   \n38        32937  normaal           3        7776.77  1712.46   175.0   \n39        32497  normaal           2        9092.20  1569.05   182.6   \n40        32557    groot           5        9457.40  1409.03   180.2   \n41        32392  normaal           2        7585.14  1691.68   146.3   \n42        32753    groot           5        8188.50  1645.59   187.7   \n43        32609  normaal           4        8571.72  1616.08   188.7   \n44        32462  normaal           2        8475.26  1653.08   183.4   \n45        32081    groot           4        8890.56  1582.37   169.9   \n46        32865    groot           5        9170.93  1475.53   170.6   \n47        32664    klein           1        8879.58  1574.02   147.4   \n48        32312    klein           1        8177.91  1657.30   173.8   \n49        32741    groot           5        7765.15  1452.47   189.9   \n50        32578  normaal           3        8650.29  1516.60   179.8   \n51        32079  normaal           4        8668.21  1611.41   206.7   \n52        32139  normaal           4        8407.29  1561.25   176.8   \n53        32059  normaal           2        9206.89  1499.50   186.7   \n54        32673  normaal           2        9702.22  1457.33   135.8   \n55        32257  normaal           3        7852.57  1748.46   185.0   \n56        32805  normaal           3        7826.63  1615.28   162.1   \n57        32940  normaal           2        7880.05  1661.89   165.3   \n58        32524    groot           5        8116.38  1702.01   187.5   \n59        32372  normaal           4        9553.82  1428.61   181.5   \n\n    oplaadtijd  concentratie  beltijd      tevredenheid     belangrijkheid   \n0        199.7         54.51    136.8     teleurgesteld    heel belangrijk  \\\n1        165.3         44.67    131.0  licht ontevreden         belangrijk   \n2        188.5         42.37    127.6          tevreden  beetje belangrijk   \n3        208.3         47.25    130.8                ok    heel belangrijk   \n4        214.8         49.08    135.3                ok  beetje belangrijk   \n5        177.6         52.62    143.2          tevreden  beetje belangrijk   \n6        190.9         52.65    141.8          tevreden         belangrijk   \n7        198.1         43.05    137.6                ok    heel belangrijk   \n8        196.6         52.36    133.9          tevreden  beetje belangrijk   \n9        169.1         41.52    136.3                ok         belangrijk   \n10       159.5         54.94    141.5     heel tevreden    niet belangrijk   \n11       163.3         48.93    148.1  licht ontevreden  beetje belangrijk   \n12       159.0         50.89    147.9          tevreden         belangrijk   \n13       195.2         56.03    142.0          tevreden         belangrijk   \n14       163.1         49.93    137.5                ok    heel belangrijk   \n15       178.9         55.33    141.4     teleurgesteld  beetje belangrijk   \n16       192.1         53.08    146.8                ok    heel belangrijk   \n17       177.0         53.63    154.0          tevreden  beetje belangrijk   \n18       177.0         50.81    153.3          tevreden         belangrijk   \n19       157.8         48.98    147.5                ok    heel belangrijk   \n20       168.4         42.57    142.9                ok    heel belangrijk   \n21       193.8         48.39    147.1          tevreden  beetje belangrijk   \n22       162.8         52.86    152.7                ok         belangrijk   \n23       162.3         53.75    159.0          tevreden         belangrijk   \n24       186.5         47.02    158.0                ok  beetje belangrijk   \n25       209.3         53.71    152.5          tevreden         belangrijk   \n26       182.5         51.32    148.4     teleurgesteld    heel belangrijk   \n27       166.5         44.25    150.8          tevreden  beetje belangrijk   \n28       179.3         47.39    157.9          tevreden  beetje belangrijk   \n29       200.0         54.98    164.6          tevreden         belangrijk   \n30       178.4         47.60    163.0          tevreden  beetje belangrijk   \n31       188.7         55.19    157.3          tevreden  beetje belangrijk   \n32       173.2         58.02    153.3     heel tevreden  beetje belangrijk   \n33       140.6         48.34    157.2          tevreden    heel belangrijk   \n34       173.8         46.83    163.4          tevreden  beetje belangrijk   \n35       184.0         37.69    169.8          tevreden         belangrijk   \n36       145.3         54.32    168.6                ok         belangrijk   \n37       199.4         48.37    162.9          tevreden         belangrijk   \n38       201.2         51.59    158.7          tevreden    heel belangrijk   \n39       172.8         50.67    162.9          tevreden         belangrijk   \n40       170.4         48.71    168.2     heel tevreden    heel belangrijk   \n41       213.0         44.87    175.1          tevreden    heel belangrijk   \n42       197.7         54.05    173.8          tevreden    heel belangrijk   \n43       188.0         53.49    168.4     heel tevreden  beetje belangrijk   \n44       181.0         53.22    164.3          tevreden         belangrijk   \n45       183.2         52.69    166.9  licht ontevreden         belangrijk   \n46       160.2         53.13    173.0          tevreden         belangrijk   \n47       176.1         50.58    179.7          tevreden         belangrijk   \n48       185.9         49.78    178.0     heel tevreden         belangrijk   \n49       207.5         51.98    173.6  licht ontevreden         belangrijk   \n50       186.4         55.45    169.2                ok    heel belangrijk   \n51       175.6         51.86    173.5          tevreden         belangrijk   \n52       186.4         47.77    179.1          tevreden         belangrijk   \n53       169.6         49.03    184.2          tevreden         belangrijk   \n54       157.0         45.67    183.3          tevreden         belangrijk   \n55       205.3         35.52    179.2          tevreden    heel belangrijk   \n56       195.4         46.08    174.5          tevreden    heel belangrijk   \n57       203.3         43.36    176.9          tevreden  beetje belangrijk   \n58       193.0         42.94    183.2     heel tevreden    heel belangrijk   \n59       148.3         54.30    190.6          tevreden  beetje belangrijk   \n\n             behaalde_graad    saldo  \n0                   gebuisd   -71.26  \n1                voldoening    95.40  \n2            onderscheiding  -162.92  \n3            onderscheiding     9.92  \n4                   gebuisd   214.24  \n5      grote onderscheiding  -108.81  \n6                voldoening   137.52  \n7            onderscheiding     6.00  \n8                voldoening    54.19  \n9            onderscheiding   216.55  \n10     grote onderscheiding   134.16  \n11               voldoening   293.79  \n12           onderscheiding    47.39  \n13               voldoening   221.91  \n14               voldoening   385.00  \n15                  gebuisd    96.59  \n16               voldoening   305.54  \n17     grote onderscheiding   194.25  \n18           onderscheiding   230.48  \n19           onderscheiding   429.27  \n20           onderscheiding   311.72  \n21  grootste onderscheiding   484.82  \n22     grote onderscheiding   235.07  \n23     grote onderscheiding   402.86  \n24               voldoening   609.60  \n25               voldoening   299.90  \n26                  gebuisd   515.87  \n27     grote onderscheiding   375.34  \n28     grote onderscheiding   419.42  \n29           onderscheiding   637.14  \n30           onderscheiding   526.75  \n31           onderscheiding   689.11  \n32     grote onderscheiding   410.66  \n33           onderscheiding   579.09  \n34     grote onderscheiding   794.23  \n35     grote onderscheiding   458.18  \n36           onderscheiding   709.73  \n37     grote onderscheiding   579.25  \n38               voldoening   616.71  \n39           onderscheiding   802.72  \n40  grootste onderscheiding   696.42  \n41               voldoening   891.28  \n42     grote onderscheiding   613.52  \n43  grootste onderscheiding   779.93  \n44           onderscheiding   963.26  \n45               voldoening   683.33  \n46           onderscheiding   914.09  \n47               voldoening   770.62  \n48  grootste onderscheiding   808.57  \n49               voldoening   988.62  \n50           onderscheiding   888.52  \n51     grote onderscheiding  1062.25  \n52     grote onderscheiding   800.62  \n53     grote onderscheiding   975.39  \n54           onderscheiding  1184.16  \n55           onderscheiding   872.36  \n56           onderscheiding  1056.62  \n57           onderscheiding   944.43  \n58           onderscheiding   999.77  \n59           onderscheiding  1178.89  ",
      "text/html": "<div>\n<style scoped>\n    .dataframe tbody tr th:only-of-type {\n        vertical-align: middle;\n    }\n\n    .dataframe tbody tr th {\n        vertical-align: top;\n    }\n\n    .dataframe thead th {\n        text-align: right;\n    }\n</style>\n<table border=\"1\" class=\"dataframe\">\n  <thead>\n    <tr style=\"text-align: right;\">\n      <th></th>\n      <th>klantNummer</th>\n      <th>grootte</th>\n      <th>waardering</th>\n      <th>totaal_bedrag</th>\n      <th>bedrag</th>\n      <th>lengte</th>\n      <th>oplaadtijd</th>\n      <th>concentratie</th>\n      <th>beltijd</th>\n      <th>tevredenheid</th>\n      <th>belangrijkheid</th>\n      <th>behaalde_graad</th>\n      <th>saldo</th>\n    </tr>\n  </thead>\n  <tbody>\n    <tr>\n      <th>0</th>\n      <td>32814</td>\n      <td>normaal</td>\n      <td>3</td>\n      <td>8109.12</td>\n      <td>1556.30</td>\n      <td>194.4</td>\n      <td>199.7</td>\n      <td>54.51</td>\n      <td>136.8</td>\n      <td>teleurgesteld</td>\n      <td>heel belangrijk</td>\n      <td>gebuisd</td>\n      <td>-71.26</td>\n    </tr>\n    <tr>\n      <th>1</th>\n      <td>32856</td>\n      <td>normaal</td>\n      <td>3</td>\n      <td>9481.44</td>\n      <td>1339.01</td>\n      <td>172.1</td>\n      <td>165.3</td>\n      <td>44.67</td>\n      <td>131.0</td>\n      <td>licht ontevreden</td>\n      <td>belangrijk</td>\n      <td>voldoening</td>\n      <td>95.40</td>\n    </tr>\n    <tr>\n      <th>2</th>\n      <td>32041</td>\n      <td>normaal</td>\n      <td>3</td>\n      <td>8515.58</td>\n      <td>1480.33</td>\n      <td>160.6</td>\n      <td>188.5</td>\n      <td>42.37</td>\n      <td>127.6</td>\n      <td>tevreden</td>\n      <td>beetje belangrijk</td>\n      <td>onderscheiding</td>\n      <td>-162.92</td>\n    </tr>\n    <tr>\n      <th>3</th>\n      <td>32739</td>\n      <td>klein</td>\n      <td>2</td>\n      <td>7881.27</td>\n      <td>1736.86</td>\n      <td>178.1</td>\n      <td>208.3</td>\n      <td>47.25</td>\n      <td>130.8</td>\n      <td>ok</td>\n      <td>heel belangrijk</td>\n      <td>onderscheiding</td>\n      <td>9.92</td>\n    </tr>\n    <tr>\n      <th>4</th>\n      <td>32757</td>\n      <td>normaal</td>\n      <td>2</td>\n      <td>7095.56</td>\n      <td>1802.29</td>\n      <td>160.9</td>\n      <td>214.8</td>\n      <td>49.08</td>\n      <td>135.3</td>\n      <td>ok</td>\n      <td>beetje belangrijk</td>\n      <td>gebuisd</td>\n      <td>214.24</td>\n    </tr>\n    <tr>\n      <th>5</th>\n      <td>32359</td>\n      <td>klein</td>\n      <td>2</td>\n      <td>9047.55</td>\n      <td>1606.87</td>\n      <td>178.0</td>\n      <td>177.6</td>\n      <td>52.62</td>\n      <td>143.2</td>\n      <td>tevreden</td>\n      <td>beetje belangrijk</td>\n      <td>grote onderscheiding</td>\n      <td>-108.81</td>\n    </tr>\n    <tr>\n      <th>6</th>\n      <td>32274</td>\n      <td>normaal</td>\n      <td>4</td>\n      <td>8395.51</td>\n      <td>1471.27</td>\n      <td>174.2</td>\n      <td>190.9</td>\n      <td>52.65</td>\n      <td>141.8</td>\n      <td>tevreden</td>\n      <td>belangrijk</td>\n      <td>voldoening</td>\n      <td>137.52</td>\n    </tr>\n    <tr>\n      <th>7</th>\n      <td>32012</td>\n      <td>normaal</td>\n      <td>2</td>\n      <td>7901.42</td>\n      <td>1619.80</td>\n      <td>184.8</td>\n      <td>198.1</td>\n      <td>43.05</td>\n      <td>137.6</td>\n      <td>ok</td>\n      <td>heel belangrijk</td>\n      <td>onderscheiding</td>\n      <td>6.00</td>\n    </tr>\n    <tr>\n      <th>8</th>\n      <td>32908</td>\n      <td>klein</td>\n      <td>1</td>\n      <td>8368.78</td>\n      <td>1599.27</td>\n      <td>173.3</td>\n      <td>196.6</td>\n      <td>52.36</td>\n      <td>133.9</td>\n      <td>tevreden</td>\n      <td>beetje belangrijk</td>\n      <td>voldoening</td>\n      <td>54.19</td>\n    </tr>\n    <tr>\n      <th>9</th>\n      <td>32365</td>\n      <td>normaal</td>\n      <td>2</td>\n      <td>9245.22</td>\n      <td>1601.39</td>\n      <td>159.1</td>\n      <td>169.1</td>\n      <td>41.52</td>\n      <td>136.3</td>\n      <td>ok</td>\n      <td>belangrijk</td>\n      <td>onderscheiding</td>\n      <td>216.55</td>\n    </tr>\n    <tr>\n      <th>10</th>\n      <td>32763</td>\n      <td>normaal</td>\n      <td>2</td>\n      <td>9988.90</td>\n      <td>1481.91</td>\n      <td>185.9</td>\n      <td>159.5</td>\n      <td>54.94</td>\n      <td>141.5</td>\n      <td>heel tevreden</td>\n      <td>niet belangrijk</td>\n      <td>grote onderscheiding</td>\n      <td>134.16</td>\n    </tr>\n    <tr>\n      <th>11</th>\n      <td>32178</td>\n      <td>klein</td>\n      <td>2</td>\n      <td>9163.45</td>\n      <td>1414.51</td>\n      <td>167.2</td>\n      <td>163.3</td>\n      <td>48.93</td>\n      <td>148.1</td>\n      <td>licht ontevreden</td>\n      <td>beetje belangrijk</td>\n      <td>voldoening</td>\n      <td>293.79</td>\n    </tr>\n    <tr>\n      <th>12</th>\n      <td>32767</td>\n      <td>normaal</td>\n      <td>2</td>\n      <td>8876.99</td>\n      <td>1556.78</td>\n      <td>182.3</td>\n      <td>159.0</td>\n      <td>50.89</td>\n      <td>147.9</td>\n      <td>tevreden</td>\n      <td>belangrijk</td>\n      <td>onderscheiding</td>\n      <td>47.39</td>\n    </tr>\n    <tr>\n      <th>13</th>\n      <td>32280</td>\n      <td>normaal</td>\n      <td>2</td>\n      <td>8184.61</td>\n      <td>1632.51</td>\n      <td>205.1</td>\n      <td>195.2</td>\n      <td>56.03</td>\n      <td>142.0</td>\n      <td>tevreden</td>\n      <td>belangrijk</td>\n      <td>voldoening</td>\n      <td>221.91</td>\n    </tr>\n    <tr>\n      <th>14</th>\n      <td>32565</td>\n      <td>normaal</td>\n      <td>4</td>\n      <td>9749.28</td>\n      <td>1280.24</td>\n      <td>157.7</td>\n      <td>163.1</td>\n      <td>49.93</td>\n      <td>137.5</td>\n      <td>ok</td>\n      <td>heel belangrijk</td>\n      <td>voldoening</td>\n      <td>385.00</td>\n    </tr>\n    <tr>\n      <th>15</th>\n      <td>32252</td>\n      <td>groot</td>\n      <td>5</td>\n      <td>8624.22</td>\n      <td>1596.62</td>\n      <td>200.4</td>\n      <td>178.9</td>\n      <td>55.33</td>\n      <td>141.4</td>\n      <td>teleurgesteld</td>\n      <td>beetje belangrijk</td>\n      <td>gebuisd</td>\n      <td>96.59</td>\n    </tr>\n    <tr>\n      <th>16</th>\n      <td>32391</td>\n      <td>klein</td>\n      <td>1</td>\n      <td>8418.19</td>\n      <td>1578.66</td>\n      <td>173.0</td>\n      <td>192.1</td>\n      <td>53.08</td>\n      <td>146.8</td>\n      <td>ok</td>\n      <td>heel belangrijk</td>\n      <td>voldoening</td>\n      <td>305.54</td>\n    </tr>\n    <tr>\n      <th>17</th>\n      <td>32637</td>\n      <td>klein</td>\n      <td>2</td>\n      <td>9123.59</td>\n      <td>1550.21</td>\n      <td>205.7</td>\n      <td>177.0</td>\n      <td>53.63</td>\n      <td>154.0</td>\n      <td>tevreden</td>\n      <td>beetje belangrijk</td>\n      <td>grote onderscheiding</td>\n      <td>194.25</td>\n    </tr>\n    <tr>\n      <th>18</th>\n      <td>32164</td>\n      <td>normaal</td>\n      <td>2</td>\n      <td>8720.39</td>\n      <td>1500.50</td>\n      <td>150.0</td>\n      <td>177.0</td>\n      <td>50.81</td>\n      <td>153.3</td>\n      <td>tevreden</td>\n      <td>belangrijk</td>\n      <td>onderscheiding</td>\n      <td>230.48</td>\n    </tr>\n    <tr>\n      <th>19</th>\n      <td>32305</td>\n      <td>normaal</td>\n      <td>4</td>\n      <td>9913.20</td>\n      <td>1203.88</td>\n      <td>162.0</td>\n      <td>157.8</td>\n      <td>48.98</td>\n      <td>147.5</td>\n      <td>ok</td>\n      <td>heel belangrijk</td>\n      <td>onderscheiding</td>\n      <td>429.27</td>\n    </tr>\n    <tr>\n      <th>20</th>\n      <td>32390</td>\n      <td>groot</td>\n      <td>5</td>\n      <td>8523.63</td>\n      <td>1516.40</td>\n      <td>178.5</td>\n      <td>168.4</td>\n      <td>42.57</td>\n      <td>142.9</td>\n      <td>ok</td>\n      <td>heel belangrijk</td>\n      <td>onderscheiding</td>\n      <td>311.72</td>\n    </tr>\n    <tr>\n      <th>21</th>\n      <td>32391</td>\n      <td>normaal</td>\n      <td>2</td>\n      <td>8168.51</td>\n      <td>1715.59</td>\n      <td>181.1</td>\n      <td>193.8</td>\n      <td>48.39</td>\n      <td>147.1</td>\n      <td>tevreden</td>\n      <td>beetje belangrijk</td>\n      <td>grootste onderscheiding</td>\n      <td>484.82</td>\n    </tr>\n    <tr>\n      <th>22</th>\n      <td>32392</td>\n      <td>normaal</td>\n      <td>1</td>\n      <td>9407.94</td>\n      <td>1564.50</td>\n      <td>195.7</td>\n      <td>162.8</td>\n      <td>52.86</td>\n      <td>152.7</td>\n      <td>ok</td>\n      <td>belangrijk</td>\n      <td>grote onderscheiding</td>\n      <td>235.07</td>\n    </tr>\n    <tr>\n      <th>23</th>\n      <td>32241</td>\n      <td>klein</td>\n      <td>1</td>\n      <td>9823.11</td>\n      <td>1028.11</td>\n      <td>182.2</td>\n      <td>162.3</td>\n      <td>53.75</td>\n      <td>159.0</td>\n      <td>tevreden</td>\n      <td>belangrijk</td>\n      <td>grote onderscheiding</td>\n      <td>402.86</td>\n    </tr>\n    <tr>\n      <th>24</th>\n      <td>32119</td>\n      <td>groot</td>\n      <td>4</td>\n      <td>7627.66</td>\n      <td>1588.99</td>\n      <td>178.4</td>\n      <td>186.5</td>\n      <td>47.02</td>\n      <td>158.0</td>\n      <td>ok</td>\n      <td>beetje belangrijk</td>\n      <td>voldoening</td>\n      <td>609.60</td>\n    </tr>\n    <tr>\n      <th>25</th>\n      <td>32746</td>\n      <td>normaal</td>\n      <td>3</td>\n      <td>7708.56</td>\n      <td>1651.27</td>\n      <td>195.4</td>\n      <td>209.3</td>\n      <td>53.71</td>\n      <td>152.5</td>\n      <td>tevreden</td>\n      <td>belangrijk</td>\n      <td>voldoening</td>\n      <td>299.90</td>\n    </tr>\n    <tr>\n      <th>26</th>\n      <td>32500</td>\n      <td>normaal</td>\n      <td>3</td>\n      <td>8675.75</td>\n      <td>1328.63</td>\n      <td>182.6</td>\n      <td>182.5</td>\n      <td>51.32</td>\n      <td>148.4</td>\n      <td>teleurgesteld</td>\n      <td>heel belangrijk</td>\n      <td>gebuisd</td>\n      <td>515.87</td>\n    </tr>\n    <tr>\n      <th>27</th>\n      <td>32810</td>\n      <td>normaal</td>\n      <td>3</td>\n      <td>9123.65</td>\n      <td>1535.81</td>\n      <td>165.7</td>\n      <td>166.5</td>\n      <td>44.25</td>\n      <td>150.8</td>\n      <td>tevreden</td>\n      <td>beetje belangrijk</td>\n      <td>grote onderscheiding</td>\n      <td>375.34</td>\n    </tr>\n    <tr>\n      <th>28</th>\n      <td>32204</td>\n      <td>normaal</td>\n      <td>2</td>\n      <td>9066.83</td>\n      <td>1362.34</td>\n      <td>142.2</td>\n      <td>179.3</td>\n      <td>47.39</td>\n      <td>157.9</td>\n      <td>tevreden</td>\n      <td>beetje belangrijk</td>\n      <td>grote onderscheiding</td>\n      <td>419.42</td>\n    </tr>\n    <tr>\n      <th>29</th>\n      <td>32992</td>\n      <td>normaal</td>\n      <td>4</td>\n      <td>8177.52</td>\n      <td>1620.84</td>\n      <td>199.3</td>\n      <td>200.0</td>\n      <td>54.98</td>\n      <td>164.6</td>\n      <td>tevreden</td>\n      <td>belangrijk</td>\n      <td>onderscheiding</td>\n      <td>637.14</td>\n    </tr>\n    <tr>\n      <th>30</th>\n      <td>32080</td>\n      <td>klein</td>\n      <td>2</td>\n      <td>9030.37</td>\n      <td>1532.42</td>\n      <td>141.1</td>\n      <td>178.4</td>\n      <td>47.60</td>\n      <td>163.0</td>\n      <td>tevreden</td>\n      <td>beetje belangrijk</td>\n      <td>onderscheiding</td>\n      <td>526.75</td>\n    </tr>\n    <tr>\n      <th>31</th>\n      <td>32023</td>\n      <td>normaal</td>\n      <td>3</td>\n      <td>8238.74</td>\n      <td>1682.81</td>\n      <td>196.6</td>\n      <td>188.7</td>\n      <td>55.19</td>\n      <td>157.3</td>\n      <td>tevreden</td>\n      <td>beetje belangrijk</td>\n      <td>onderscheiding</td>\n      <td>689.11</td>\n    </tr>\n    <tr>\n      <th>32</th>\n      <td>32967</td>\n      <td>klein</td>\n      <td>3</td>\n      <td>8904.62</td>\n      <td>1569.28</td>\n      <td>191.9</td>\n      <td>173.2</td>\n      <td>58.02</td>\n      <td>153.3</td>\n      <td>heel tevreden</td>\n      <td>beetje belangrijk</td>\n      <td>grote onderscheiding</td>\n      <td>410.66</td>\n    </tr>\n    <tr>\n      <th>33</th>\n      <td>32339</td>\n      <td>klein</td>\n      <td>2</td>\n      <td>10652.61</td>\n      <td>1288.64</td>\n      <td>153.9</td>\n      <td>140.6</td>\n      <td>48.34</td>\n      <td>157.2</td>\n      <td>tevreden</td>\n      <td>heel belangrijk</td>\n      <td>onderscheiding</td>\n      <td>579.09</td>\n    </tr>\n    <tr>\n      <th>34</th>\n      <td>32506</td>\n      <td>normaal</td>\n      <td>3</td>\n      <td>9226.29</td>\n      <td>1446.78</td>\n      <td>177.5</td>\n      <td>173.8</td>\n      <td>46.83</td>\n      <td>163.4</td>\n      <td>tevreden</td>\n      <td>beetje belangrijk</td>\n      <td>grote onderscheiding</td>\n      <td>794.23</td>\n    </tr>\n    <tr>\n      <th>35</th>\n      <td>32399</td>\n      <td>klein</td>\n      <td>1</td>\n      <td>8334.91</td>\n      <td>1674.10</td>\n      <td>134.0</td>\n      <td>184.0</td>\n      <td>37.69</td>\n      <td>169.8</td>\n      <td>tevreden</td>\n      <td>belangrijk</td>\n      <td>grote onderscheiding</td>\n      <td>458.18</td>\n    </tr>\n    <tr>\n      <th>36</th>\n      <td>32214</td>\n      <td>normaal</td>\n      <td>2</td>\n      <td>10742.51</td>\n      <td>1141.93</td>\n      <td>180.7</td>\n      <td>145.3</td>\n      <td>54.32</td>\n      <td>168.6</td>\n      <td>ok</td>\n      <td>belangrijk</td>\n      <td>onderscheiding</td>\n      <td>709.73</td>\n    </tr>\n    <tr>\n      <th>37</th>\n      <td>32936</td>\n      <td>normaal</td>\n      <td>3</td>\n      <td>6286.66</td>\n      <td>1866.36</td>\n      <td>201.5</td>\n      <td>199.4</td>\n      <td>48.37</td>\n      <td>162.9</td>\n      <td>tevreden</td>\n      <td>belangrijk</td>\n      <td>grote onderscheiding</td>\n      <td>579.25</td>\n    </tr>\n    <tr>\n      <th>38</th>\n      <td>32937</td>\n      <td>normaal</td>\n      <td>3</td>\n      <td>7776.77</td>\n      <td>1712.46</td>\n      <td>175.0</td>\n      <td>201.2</td>\n      <td>51.59</td>\n      <td>158.7</td>\n      <td>tevreden</td>\n      <td>heel belangrijk</td>\n      <td>voldoening</td>\n      <td>616.71</td>\n    </tr>\n    <tr>\n      <th>39</th>\n      <td>32497</td>\n      <td>normaal</td>\n      <td>2</td>\n      <td>9092.20</td>\n      <td>1569.05</td>\n      <td>182.6</td>\n      <td>172.8</td>\n      <td>50.67</td>\n      <td>162.9</td>\n      <td>tevreden</td>\n      <td>belangrijk</td>\n      <td>onderscheiding</td>\n      <td>802.72</td>\n    </tr>\n    <tr>\n      <th>40</th>\n      <td>32557</td>\n      <td>groot</td>\n      <td>5</td>\n      <td>9457.40</td>\n      <td>1409.03</td>\n      <td>180.2</td>\n      <td>170.4</td>\n      <td>48.71</td>\n      <td>168.2</td>\n      <td>heel tevreden</td>\n      <td>heel belangrijk</td>\n      <td>grootste onderscheiding</td>\n      <td>696.42</td>\n    </tr>\n    <tr>\n      <th>41</th>\n      <td>32392</td>\n      <td>normaal</td>\n      <td>2</td>\n      <td>7585.14</td>\n      <td>1691.68</td>\n      <td>146.3</td>\n      <td>213.0</td>\n      <td>44.87</td>\n      <td>175.1</td>\n      <td>tevreden</td>\n      <td>heel belangrijk</td>\n      <td>voldoening</td>\n      <td>891.28</td>\n    </tr>\n    <tr>\n      <th>42</th>\n      <td>32753</td>\n      <td>groot</td>\n      <td>5</td>\n      <td>8188.50</td>\n      <td>1645.59</td>\n      <td>187.7</td>\n      <td>197.7</td>\n      <td>54.05</td>\n      <td>173.8</td>\n      <td>tevreden</td>\n      <td>heel belangrijk</td>\n      <td>grote onderscheiding</td>\n      <td>613.52</td>\n    </tr>\n    <tr>\n      <th>43</th>\n      <td>32609</td>\n      <td>normaal</td>\n      <td>4</td>\n      <td>8571.72</td>\n      <td>1616.08</td>\n      <td>188.7</td>\n      <td>188.0</td>\n      <td>53.49</td>\n      <td>168.4</td>\n      <td>heel tevreden</td>\n      <td>beetje belangrijk</td>\n      <td>grootste onderscheiding</td>\n      <td>779.93</td>\n    </tr>\n    <tr>\n      <th>44</th>\n      <td>32462</td>\n      <td>normaal</td>\n      <td>2</td>\n      <td>8475.26</td>\n      <td>1653.08</td>\n      <td>183.4</td>\n      <td>181.0</td>\n      <td>53.22</td>\n      <td>164.3</td>\n      <td>tevreden</td>\n      <td>belangrijk</td>\n      <td>onderscheiding</td>\n      <td>963.26</td>\n    </tr>\n    <tr>\n      <th>45</th>\n      <td>32081</td>\n      <td>groot</td>\n      <td>4</td>\n      <td>8890.56</td>\n      <td>1582.37</td>\n      <td>169.9</td>\n      <td>183.2</td>\n      <td>52.69</td>\n      <td>166.9</td>\n      <td>licht ontevreden</td>\n      <td>belangrijk</td>\n      <td>voldoening</td>\n      <td>683.33</td>\n    </tr>\n    <tr>\n      <th>46</th>\n      <td>32865</td>\n      <td>groot</td>\n      <td>5</td>\n      <td>9170.93</td>\n      <td>1475.53</td>\n      <td>170.6</td>\n      <td>160.2</td>\n      <td>53.13</td>\n      <td>173.0</td>\n      <td>tevreden</td>\n      <td>belangrijk</td>\n      <td>onderscheiding</td>\n      <td>914.09</td>\n    </tr>\n    <tr>\n      <th>47</th>\n      <td>32664</td>\n      <td>klein</td>\n      <td>1</td>\n      <td>8879.58</td>\n      <td>1574.02</td>\n      <td>147.4</td>\n      <td>176.1</td>\n      <td>50.58</td>\n      <td>179.7</td>\n      <td>tevreden</td>\n      <td>belangrijk</td>\n      <td>voldoening</td>\n      <td>770.62</td>\n    </tr>\n    <tr>\n      <th>48</th>\n      <td>32312</td>\n      <td>klein</td>\n      <td>1</td>\n      <td>8177.91</td>\n      <td>1657.30</td>\n      <td>173.8</td>\n      <td>185.9</td>\n      <td>49.78</td>\n      <td>178.0</td>\n      <td>heel tevreden</td>\n      <td>belangrijk</td>\n      <td>grootste onderscheiding</td>\n      <td>808.57</td>\n    </tr>\n    <tr>\n      <th>49</th>\n      <td>32741</td>\n      <td>groot</td>\n      <td>5</td>\n      <td>7765.15</td>\n      <td>1452.47</td>\n      <td>189.9</td>\n      <td>207.5</td>\n      <td>51.98</td>\n      <td>173.6</td>\n      <td>licht ontevreden</td>\n      <td>belangrijk</td>\n      <td>voldoening</td>\n      <td>988.62</td>\n    </tr>\n    <tr>\n      <th>50</th>\n      <td>32578</td>\n      <td>normaal</td>\n      <td>3</td>\n      <td>8650.29</td>\n      <td>1516.60</td>\n      <td>179.8</td>\n      <td>186.4</td>\n      <td>55.45</td>\n      <td>169.2</td>\n      <td>ok</td>\n      <td>heel belangrijk</td>\n      <td>onderscheiding</td>\n      <td>888.52</td>\n    </tr>\n    <tr>\n      <th>51</th>\n      <td>32079</td>\n      <td>normaal</td>\n      <td>4</td>\n      <td>8668.21</td>\n      <td>1611.41</td>\n      <td>206.7</td>\n      <td>175.6</td>\n      <td>51.86</td>\n      <td>173.5</td>\n      <td>tevreden</td>\n      <td>belangrijk</td>\n      <td>grote onderscheiding</td>\n      <td>1062.25</td>\n    </tr>\n    <tr>\n      <th>52</th>\n      <td>32139</td>\n      <td>normaal</td>\n      <td>4</td>\n      <td>8407.29</td>\n      <td>1561.25</td>\n      <td>176.8</td>\n      <td>186.4</td>\n      <td>47.77</td>\n      <td>179.1</td>\n      <td>tevreden</td>\n      <td>belangrijk</td>\n      <td>grote onderscheiding</td>\n      <td>800.62</td>\n    </tr>\n    <tr>\n      <th>53</th>\n      <td>32059</td>\n      <td>normaal</td>\n      <td>2</td>\n      <td>9206.89</td>\n      <td>1499.50</td>\n      <td>186.7</td>\n      <td>169.6</td>\n      <td>49.03</td>\n      <td>184.2</td>\n      <td>tevreden</td>\n      <td>belangrijk</td>\n      <td>grote onderscheiding</td>\n      <td>975.39</td>\n    </tr>\n    <tr>\n      <th>54</th>\n      <td>32673</td>\n      <td>normaal</td>\n      <td>2</td>\n      <td>9702.22</td>\n      <td>1457.33</td>\n      <td>135.8</td>\n      <td>157.0</td>\n      <td>45.67</td>\n      <td>183.3</td>\n      <td>tevreden</td>\n      <td>belangrijk</td>\n      <td>onderscheiding</td>\n      <td>1184.16</td>\n    </tr>\n    <tr>\n      <th>55</th>\n      <td>32257</td>\n      <td>normaal</td>\n      <td>3</td>\n      <td>7852.57</td>\n      <td>1748.46</td>\n      <td>185.0</td>\n      <td>205.3</td>\n      <td>35.52</td>\n      <td>179.2</td>\n      <td>tevreden</td>\n      <td>heel belangrijk</td>\n      <td>onderscheiding</td>\n      <td>872.36</td>\n    </tr>\n    <tr>\n      <th>56</th>\n      <td>32805</td>\n      <td>normaal</td>\n      <td>3</td>\n      <td>7826.63</td>\n      <td>1615.28</td>\n      <td>162.1</td>\n      <td>195.4</td>\n      <td>46.08</td>\n      <td>174.5</td>\n      <td>tevreden</td>\n      <td>heel belangrijk</td>\n      <td>onderscheiding</td>\n      <td>1056.62</td>\n    </tr>\n    <tr>\n      <th>57</th>\n      <td>32940</td>\n      <td>normaal</td>\n      <td>2</td>\n      <td>7880.05</td>\n      <td>1661.89</td>\n      <td>165.3</td>\n      <td>203.3</td>\n      <td>43.36</td>\n      <td>176.9</td>\n      <td>tevreden</td>\n      <td>beetje belangrijk</td>\n      <td>onderscheiding</td>\n      <td>944.43</td>\n    </tr>\n    <tr>\n      <th>58</th>\n      <td>32524</td>\n      <td>groot</td>\n      <td>5</td>\n      <td>8116.38</td>\n      <td>1702.01</td>\n      <td>187.5</td>\n      <td>193.0</td>\n      <td>42.94</td>\n      <td>183.2</td>\n      <td>heel tevreden</td>\n      <td>heel belangrijk</td>\n      <td>onderscheiding</td>\n      <td>999.77</td>\n    </tr>\n    <tr>\n      <th>59</th>\n      <td>32372</td>\n      <td>normaal</td>\n      <td>4</td>\n      <td>9553.82</td>\n      <td>1428.61</td>\n      <td>181.5</td>\n      <td>148.3</td>\n      <td>54.30</td>\n      <td>190.6</td>\n      <td>tevreden</td>\n      <td>beetje belangrijk</td>\n      <td>onderscheiding</td>\n      <td>1178.89</td>\n    </tr>\n  </tbody>\n</table>\n</div>"
     },
     "metadata": {},
     "output_type": "display_data"
    }
   ],
   "source": [
    "# Voorgeschreven code:\n",
    "examen = pd.read_csv('examen_2023_P4.csv')\n",
    "examen.grootte = pd.Categorical(examen.grootte, categories=('klein', 'normaal', 'groot'), ordered=True)\n",
    "examen.tevredenheid = pd.Categorical(examen.tevredenheid, categories=('teleurgesteld', 'licht ontevreden', 'ok', 'tevreden', 'heel tevreden'), ordered=True)\n",
    "examen.belangrijkheid = pd.Categorical(examen.belangrijkheid, categories=('niet belangrijk', 'beetje belangrijk', 'belangrijk', 'heel belangrijk'), ordered=True)\n",
    "examen.behaalde_graad = pd.Categorical(examen.behaalde_graad, categories=('gebuisd', 'voldoening', 'onderscheiding', 'grote onderscheiding', 'grootste onderscheiding'), ordered=True)\n",
    "display(examen)\n",
    "# De code doet dus het volgende:  Het zet de kolommen om naar een categorie en geeft de volgorde van de categorie mee.  Dit is nodig voor de ID3 en ook k-means algoritme. En zorgt ervoor dat de data niet als een nummer wordt gezien maar als een categorie. Dit is nodig voor de ID3 en ook k-means algoritme. (extra punt? :) ).\n",
    "# Dus Kolommen \"grootte\", \"tevredenheid\", \"belangrijkheid\" en \"behaalde_graad\" worden omgezet naar een categorie."
   ],
   "metadata": {
    "collapsed": false,
    "ExecuteTime": {
     "end_time": "2023-06-13T09:13:06.043258700Z",
     "start_time": "2023-06-13T09:13:05.898107200Z"
    }
   }
  },
  {
   "cell_type": "markdown",
   "source": [
    "## Vraag 1"
   ],
   "metadata": {
    "collapsed": false
   }
  },
  {
   "cell_type": "markdown",
   "source": [
    "antwoorden:\n",
    "a) **0.703083**\n",
    "b) **0.703083**\n",
    "c) **Dus C**\n",
    "d) **-0.9001109182755574**\n",
    "e) **De correlatiecoëfficiënt is een statistische maat die de sterkte en richting van de lineaire relatie tussen twee variabelen aangeeft. Dus nee, de correlatie is te laag.**"
   ],
   "metadata": {
    "collapsed": false
   }
  },
  {
   "cell_type": "code",
   "execution_count": 63,
   "outputs": [
    {
     "data": {
      "text/plain": "               klantNummer  waardering  totaal_bedrag    bedrag    lengte   \nklantNummer       1.000000    0.078869      -0.212889  0.219002  0.109729  \\\nwaardering        0.078869    1.000000      -0.102473 -0.032464  0.307897   \ntotaal_bedrag    -0.212889   -0.102473       1.000000 -0.800002 -0.211897   \nbedrag            0.219002   -0.032464      -0.800002  1.000000  0.200211   \nlengte            0.109729    0.307897      -0.211897  0.200211  1.000000   \noplaadtijd        0.203819    0.045171      -0.900111  0.703083  0.171829   \nconcentratie      0.158211    0.076863       0.167332 -0.165064  0.499936   \nsaldo             0.009933    0.247219      -0.011340  0.037204 -0.060052   \n\n               oplaadtijd  concentratie     saldo  \nklantNummer      0.203819      0.158211  0.009933  \nwaardering       0.045171      0.076863  0.247219  \ntotaal_bedrag   -0.900111      0.167332 -0.011340  \nbedrag           0.703083     -0.165064  0.037204  \nlengte           0.171829      0.499936 -0.060052  \noplaadtijd       1.000000     -0.117171 -0.045437  \nconcentratie    -0.117171      1.000000 -0.058147  \nsaldo           -0.045437     -0.058147  1.000000  ",
      "text/html": "<div>\n<style scoped>\n    .dataframe tbody tr th:only-of-type {\n        vertical-align: middle;\n    }\n\n    .dataframe tbody tr th {\n        vertical-align: top;\n    }\n\n    .dataframe thead th {\n        text-align: right;\n    }\n</style>\n<table border=\"1\" class=\"dataframe\">\n  <thead>\n    <tr style=\"text-align: right;\">\n      <th></th>\n      <th>klantNummer</th>\n      <th>waardering</th>\n      <th>totaal_bedrag</th>\n      <th>bedrag</th>\n      <th>lengte</th>\n      <th>oplaadtijd</th>\n      <th>concentratie</th>\n      <th>saldo</th>\n    </tr>\n  </thead>\n  <tbody>\n    <tr>\n      <th>klantNummer</th>\n      <td>1.000000</td>\n      <td>0.078869</td>\n      <td>-0.212889</td>\n      <td>0.219002</td>\n      <td>0.109729</td>\n      <td>0.203819</td>\n      <td>0.158211</td>\n      <td>0.009933</td>\n    </tr>\n    <tr>\n      <th>waardering</th>\n      <td>0.078869</td>\n      <td>1.000000</td>\n      <td>-0.102473</td>\n      <td>-0.032464</td>\n      <td>0.307897</td>\n      <td>0.045171</td>\n      <td>0.076863</td>\n      <td>0.247219</td>\n    </tr>\n    <tr>\n      <th>totaal_bedrag</th>\n      <td>-0.212889</td>\n      <td>-0.102473</td>\n      <td>1.000000</td>\n      <td>-0.800002</td>\n      <td>-0.211897</td>\n      <td>-0.900111</td>\n      <td>0.167332</td>\n      <td>-0.011340</td>\n    </tr>\n    <tr>\n      <th>bedrag</th>\n      <td>0.219002</td>\n      <td>-0.032464</td>\n      <td>-0.800002</td>\n      <td>1.000000</td>\n      <td>0.200211</td>\n      <td>0.703083</td>\n      <td>-0.165064</td>\n      <td>0.037204</td>\n    </tr>\n    <tr>\n      <th>lengte</th>\n      <td>0.109729</td>\n      <td>0.307897</td>\n      <td>-0.211897</td>\n      <td>0.200211</td>\n      <td>1.000000</td>\n      <td>0.171829</td>\n      <td>0.499936</td>\n      <td>-0.060052</td>\n    </tr>\n    <tr>\n      <th>oplaadtijd</th>\n      <td>0.203819</td>\n      <td>0.045171</td>\n      <td>-0.900111</td>\n      <td>0.703083</td>\n      <td>0.171829</td>\n      <td>1.000000</td>\n      <td>-0.117171</td>\n      <td>-0.045437</td>\n    </tr>\n    <tr>\n      <th>concentratie</th>\n      <td>0.158211</td>\n      <td>0.076863</td>\n      <td>0.167332</td>\n      <td>-0.165064</td>\n      <td>0.499936</td>\n      <td>-0.117171</td>\n      <td>1.000000</td>\n      <td>-0.058147</td>\n    </tr>\n    <tr>\n      <th>saldo</th>\n      <td>0.009933</td>\n      <td>0.247219</td>\n      <td>-0.011340</td>\n      <td>0.037204</td>\n      <td>-0.060052</td>\n      <td>-0.045437</td>\n      <td>-0.058147</td>\n      <td>1.000000</td>\n    </tr>\n  </tbody>\n</table>\n</div>"
     },
     "metadata": {},
     "output_type": "display_data"
    },
    {
     "data": {
      "text/plain": "-0.9001109182755574"
     },
     "metadata": {},
     "output_type": "display_data"
    }
   ],
   "source": [
    "# a) & b)\n",
    "TEMP = examen[['klantNummer', 'waardering', 'totaal_bedrag', 'bedrag', 'lengte', 'oplaadtijd', 'concentratie', 'saldo']]\n",
    "corr = TEMP.corr()\n",
    "display(corr) # 0.703083\n",
    "\n",
    "# c)\n",
    "# Dus C\n",
    "\n",
    "# d)\n",
    "corr = np.corrcoef(examen.oplaadtijd, examen.totaal_bedrag)[0, 1]\n",
    "display(corr)\n",
    "\n",
    "# e)\n",
    "# De correlatiecoëfficiënt is een statistische maat die de sterkte en richting van de lineaire relatie tussen twee variabelen aangeeft.\n",
    "# Dus nee, de correlatie is te laag."
   ],
   "metadata": {
    "collapsed": false,
    "ExecuteTime": {
     "end_time": "2023-06-13T09:13:06.044673500Z",
     "start_time": "2023-06-13T09:13:05.945995800Z"
    }
   }
  },
  {
   "cell_type": "markdown",
   "source": [
    "## Vraag 2"
   ],
   "metadata": {
    "collapsed": false
   }
  },
  {
   "cell_type": "markdown",
   "source": [
    "antwoorden:\n",
    "a) **[182.47954633 165.14082597 176.41749752 196.88738537 202.10839173\n",
    " 186.51479456 175.69455212 187.54654776 185.90835029 186.07751632\n",
    " 176.54357409 171.16537099 182.51784807 188.560746   160.4512563\n",
    " 185.69689275 184.26376919 181.99359296 178.02696868 154.35808733\n",
    " 179.29571393 195.19013938 183.13386777 140.33246776 185.08805462\n",
    " 190.0577058  164.31255078 180.84454066 167.00245028 187.62953487\n",
    " 180.5740346  192.5744495  183.5152893  161.1215368  173.74036526\n",
    " 191.87943246 149.4147686  207.22087649 194.9403801  183.49693638\n",
    " 170.72809276 193.2822338  189.6044685  187.24970925 190.20213529\n",
    " 184.55980975 176.03448009 183.89351901 190.53887145 174.19440051\n",
    " 179.31167299 186.87706521 182.87453305 177.94717339 174.58220566\n",
    " 197.81301083 187.18587301 190.90513186 194.10651923 172.29048469]**\n",
    "b)\n",
    "c) **0.4943250544126929**\n",
    "d) **Als de R²-waarde van de regressie dicht bij 1 ligt, geeft dit aan dat er een sterke lineaire relatie is tussen de variabelen. Variantie is een statistische maat die de spreiding van een dataset rondom het gemiddelde beschrijft, terwijl R² de proportie van de variantie van de afhankelijke variabele verklaard door de regressievergelijking weergeeft. Dus [A]**\n",
    "e)\n",
    "f) **Dus B**"
   ],
   "metadata": {
    "collapsed": false
   }
  },
  {
   "cell_type": "code",
   "execution_count": 64,
   "outputs": [
    {
     "data": {
      "text/plain": "LinearRegression()",
      "text/html": "<style>#sk-container-id-1 {color: black;background-color: white;}#sk-container-id-1 pre{padding: 0;}#sk-container-id-1 div.sk-toggleable {background-color: white;}#sk-container-id-1 label.sk-toggleable__label {cursor: pointer;display: block;width: 100%;margin-bottom: 0;padding: 0.3em;box-sizing: border-box;text-align: center;}#sk-container-id-1 label.sk-toggleable__label-arrow:before {content: \"▸\";float: left;margin-right: 0.25em;color: #696969;}#sk-container-id-1 label.sk-toggleable__label-arrow:hover:before {color: black;}#sk-container-id-1 div.sk-estimator:hover label.sk-toggleable__label-arrow:before {color: black;}#sk-container-id-1 div.sk-toggleable__content {max-height: 0;max-width: 0;overflow: hidden;text-align: left;background-color: #f0f8ff;}#sk-container-id-1 div.sk-toggleable__content pre {margin: 0.2em;color: black;border-radius: 0.25em;background-color: #f0f8ff;}#sk-container-id-1 input.sk-toggleable__control:checked~div.sk-toggleable__content {max-height: 200px;max-width: 100%;overflow: auto;}#sk-container-id-1 input.sk-toggleable__control:checked~label.sk-toggleable__label-arrow:before {content: \"▾\";}#sk-container-id-1 div.sk-estimator input.sk-toggleable__control:checked~label.sk-toggleable__label {background-color: #d4ebff;}#sk-container-id-1 div.sk-label input.sk-toggleable__control:checked~label.sk-toggleable__label {background-color: #d4ebff;}#sk-container-id-1 input.sk-hidden--visually {border: 0;clip: rect(1px 1px 1px 1px);clip: rect(1px, 1px, 1px, 1px);height: 1px;margin: -1px;overflow: hidden;padding: 0;position: absolute;width: 1px;}#sk-container-id-1 div.sk-estimator {font-family: monospace;background-color: #f0f8ff;border: 1px dotted black;border-radius: 0.25em;box-sizing: border-box;margin-bottom: 0.5em;}#sk-container-id-1 div.sk-estimator:hover {background-color: #d4ebff;}#sk-container-id-1 div.sk-parallel-item::after {content: \"\";width: 100%;border-bottom: 1px solid gray;flex-grow: 1;}#sk-container-id-1 div.sk-label:hover label.sk-toggleable__label {background-color: #d4ebff;}#sk-container-id-1 div.sk-serial::before {content: \"\";position: absolute;border-left: 1px solid gray;box-sizing: border-box;top: 0;bottom: 0;left: 50%;z-index: 0;}#sk-container-id-1 div.sk-serial {display: flex;flex-direction: column;align-items: center;background-color: white;padding-right: 0.2em;padding-left: 0.2em;position: relative;}#sk-container-id-1 div.sk-item {position: relative;z-index: 1;}#sk-container-id-1 div.sk-parallel {display: flex;align-items: stretch;justify-content: center;background-color: white;position: relative;}#sk-container-id-1 div.sk-item::before, #sk-container-id-1 div.sk-parallel-item::before {content: \"\";position: absolute;border-left: 1px solid gray;box-sizing: border-box;top: 0;bottom: 0;left: 50%;z-index: -1;}#sk-container-id-1 div.sk-parallel-item {display: flex;flex-direction: column;z-index: 1;position: relative;background-color: white;}#sk-container-id-1 div.sk-parallel-item:first-child::after {align-self: flex-end;width: 50%;}#sk-container-id-1 div.sk-parallel-item:last-child::after {align-self: flex-start;width: 50%;}#sk-container-id-1 div.sk-parallel-item:only-child::after {width: 0;}#sk-container-id-1 div.sk-dashed-wrapped {border: 1px dashed gray;margin: 0 0.4em 0.5em 0.4em;box-sizing: border-box;padding-bottom: 0.4em;background-color: white;}#sk-container-id-1 div.sk-label label {font-family: monospace;font-weight: bold;display: inline-block;line-height: 1.2em;}#sk-container-id-1 div.sk-label-container {text-align: center;}#sk-container-id-1 div.sk-container {/* jupyter's `normalize.less` sets `[hidden] { display: none; }` but bootstrap.min.css set `[hidden] { display: none !important; }` so we also need the `!important` here to be able to override the default hidden behavior on the sphinx rendered scikit-learn.org. See: https://github.com/scikit-learn/scikit-learn/issues/21755 */display: inline-block !important;position: relative;}#sk-container-id-1 div.sk-text-repr-fallback {display: none;}</style><div id=\"sk-container-id-1\" class=\"sk-top-container\"><div class=\"sk-text-repr-fallback\"><pre>LinearRegression()</pre><b>In a Jupyter environment, please rerun this cell to show the HTML representation or trust the notebook. <br />On GitHub, the HTML representation is unable to render, please try loading this page with nbviewer.org.</b></div><div class=\"sk-container\" hidden><div class=\"sk-item\"><div class=\"sk-estimator sk-toggleable\"><input class=\"sk-toggleable__control sk-hidden--visually\" id=\"sk-estimator-id-1\" type=\"checkbox\" checked><label for=\"sk-estimator-id-1\" class=\"sk-toggleable__label sk-toggleable__label-arrow\">LinearRegression</label><div class=\"sk-toggleable__content\"><pre>LinearRegression()</pre></div></div></div></div></div>"
     },
     "execution_count": 64,
     "metadata": {},
     "output_type": "execute_result"
    },
    {
     "name": "stdout",
     "output_type": "stream",
     "text": [
      "[182.47954633 165.14082597 176.41749752 196.88738537 202.10839173\n",
      " 186.51479456 175.69455212 187.54654776 185.90835029 186.07751632\n",
      " 176.54357409 171.16537099 182.51784807 188.560746   160.4512563\n",
      " 185.69689275 184.26376919 181.99359296 178.02696868 154.35808733\n",
      " 179.29571393 195.19013938 183.13386777 140.33246776 185.08805462\n",
      " 190.0577058  164.31255078 180.84454066 167.00245028 187.62953487\n",
      " 180.5740346  192.5744495  183.5152893  161.1215368  173.74036526\n",
      " 191.87943246 149.4147686  207.22087649 194.9403801  183.49693638\n",
      " 170.72809276 193.2822338  189.6044685  187.24970925 190.20213529\n",
      " 184.55980975 176.03448009 183.89351901 190.53887145 174.19440051\n",
      " 179.31167299 186.87706521 182.87453305 177.94717339 174.58220566\n",
      " 197.81301083 187.18587301 190.90513186 194.10651923 172.29048469]\n",
      "0.4943250544126929\n"
     ]
    }
   ],
   "source": [
    "# a)\n",
    "model = LinearRegression()\n",
    "\n",
    "X = examen[['bedrag']]\n",
    "y = examen.oplaadtijd\n",
    "model.fit(X, y)\n",
    "y_hat = model.predict(X) # Voorspellingen maken.\n",
    "print(y_hat) # y_hat = Voorspellingen.\n",
    "# b)\n",
    "\n",
    "\n",
    "# c)\n",
    "print(r2_score(y, y_hat))\n",
    "\n",
    "# d)\n",
    "# Als de R²-waarde van de regressie dicht bij 1 ligt, geeft dit aan dat er een sterke lineaire relatie is tussen de variabelen. Variantie is een statistische maat die de spreiding van een dataset rondom het gemiddelde beschrijft, terwijl R² de proportie van de variantie van de afhankelijke variabele verklaard door de regressievergelijking weergeeft. Dus [A]\n",
    "\n",
    "# e)\n",
    "\n",
    "\n",
    "# f)\n",
    "# Dus B"
   ],
   "metadata": {
    "collapsed": false,
    "ExecuteTime": {
     "end_time": "2023-06-13T09:13:06.044673500Z",
     "start_time": "2023-06-13T09:13:05.964725800Z"
    }
   }
  },
  {
   "cell_type": "markdown",
   "source": [
    "## Vraag 3"
   ],
   "metadata": {
    "collapsed": false
   }
  },
  {
   "cell_type": "markdown",
   "source": [
    "antwoorden:\n",
    "a) **180.88**\n",
    "b) **183.920809**\n",
    "c) **120.88**\n",
    "d) **Dus A**\n",
    "e) **1**\n",
    "f) **132.57386**\n",
    "g) **Index 4**"
   ],
   "metadata": {
    "collapsed": false
   }
  },
  {
   "cell_type": "code",
   "execution_count": 65,
   "outputs": [
    {
     "name": "stdout",
     "output_type": "stream",
     "text": [
      "180.88\n"
     ]
    },
    {
     "data": {
      "text/plain": "                            61\nlinear_combination  183.920809",
      "text/html": "<div>\n<style scoped>\n    .dataframe tbody tr th:only-of-type {\n        vertical-align: middle;\n    }\n\n    .dataframe tbody tr th {\n        vertical-align: top;\n    }\n\n    .dataframe thead th {\n        text-align: right;\n    }\n</style>\n<table border=\"1\" class=\"dataframe\">\n  <thead>\n    <tr style=\"text-align: right;\">\n      <th></th>\n      <th>61</th>\n    </tr>\n  </thead>\n  <tbody>\n    <tr>\n      <th>linear_combination</th>\n      <td>183.920809</td>\n    </tr>\n  </tbody>\n</table>\n</div>"
     },
     "metadata": {},
     "output_type": "display_data"
    },
    {
     "data": {
      "text/plain": "                   MAE    RMSE      MAPE\nmoving_average  120.88  120.88  2.014667",
      "text/html": "<div>\n<style scoped>\n    .dataframe tbody tr th:only-of-type {\n        vertical-align: middle;\n    }\n\n    .dataframe tbody tr th {\n        vertical-align: top;\n    }\n\n    .dataframe thead th {\n        text-align: right;\n    }\n</style>\n<table border=\"1\" class=\"dataframe\">\n  <thead>\n    <tr style=\"text-align: right;\">\n      <th></th>\n      <th>MAE</th>\n      <th>RMSE</th>\n      <th>MAPE</th>\n    </tr>\n  </thead>\n  <tbody>\n    <tr>\n      <th>moving_average</th>\n      <td>120.88</td>\n      <td>120.88</td>\n      <td>2.014667</td>\n    </tr>\n  </tbody>\n</table>\n</div>"
     },
     "metadata": {},
     "output_type": "display_data"
    },
    {
     "name": "stdout",
     "output_type": "stream",
     "text": [
      "m = [1]\n"
     ]
    },
    {
     "data": {
      "text/plain": "0     -21.15944\n1     132.57386\n2    -148.79944\n3       2.74446\n4     179.07926\n5    -150.11034\n6      61.33536\n7     -89.42654\n8     -67.93464\n9     101.69746\n10    -21.15944\n11    132.57386\n12   -148.79944\n13      2.74446\n14    179.07926\n15   -150.11034\n16     61.33536\n17    -89.42654\n18    -67.93464\n19    101.69746\n20    -21.15944\n21    132.57386\n22   -148.79944\n23      2.74446\n24    179.07926\n25   -150.11034\n26     61.33536\n27    -89.42654\n28    -67.93464\n29    101.69746\n30    -21.15944\n31    132.57386\n32   -148.79944\n33      2.74446\n34    179.07926\n35   -150.11034\n36     61.33536\n37    -89.42654\n38    -67.93464\n39    101.69746\n40    -21.15944\n41    132.57386\n42   -148.79944\n43      2.74446\n44    179.07926\n45   -150.11034\n46     61.33536\n47    -89.42654\n48    -67.93464\n49    101.69746\n50    -21.15944\n51    132.57386\n52   -148.79944\n53      2.74446\n54    179.07926\n55   -150.11034\n56     61.33536\n57    -89.42654\n58    -67.93464\n59    101.69746\nName: seasonal, dtype: float64"
     },
     "metadata": {},
     "output_type": "display_data"
    },
    {
     "name": "stdout",
     "output_type": "stream",
     "text": [
      "179.07925999999998\n"
     ]
    }
   ],
   "source": [
    "# a)\n",
    "moving_average = moving_average(examen.beltijd, m=5)\n",
    "print(moving_average) # 180.88\n",
    "\n",
    "# b)\n",
    "PredictionData = pd.DataFrame(predict(examen.beltijd, 54, 62, linear_combination)[61:], columns=['linear_combination'], index=range(61, 62)).transpose()\n",
    "# predict met data 54 tot 62 (laatste 5 waarden)\n",
    "display(PredictionData) # 183.920809\n",
    "\n",
    "# c)\n",
    "errors = forecast_errors(examen.beltijd.size, moving_average, method='moving_average')\n",
    "display(errors) # 120.88\n",
    "\n",
    "# d)\n",
    "# Dus [A]\n",
    "\n",
    "# e)\n",
    "m = find_period(examen.beltijd)\n",
    "print('m =', m)\n",
    "# Periode is 1, maar dit hier geen echte periode, want er is geen herhaling.\n",
    "# f)\n",
    "sd_model = seasonal_decompose(examen.saldo, model='additive', period=10)\n",
    "display(sd_model.seasonal) # 132.57386\n",
    "\n",
    "# g)\n",
    "# plot_seasonal_decompositon(sd_model, 'additive', figsize=(15, 15))\n",
    "print(sd_model.seasonal.max())"
   ],
   "metadata": {
    "collapsed": false,
    "ExecuteTime": {
     "end_time": "2023-06-13T09:13:06.047267900Z",
     "start_time": "2023-06-13T09:13:05.985255700Z"
    }
   }
  },
  {
   "cell_type": "markdown",
   "source": [
    "## Vraag 4"
   ],
   "metadata": {
    "collapsed": false
   }
  },
  {
   "cell_type": "markdown",
   "source": [
    "antwoorden:\n",
    "a)\n",
    "**Entropy grootte = 1.3059524812806642**\n",
    "\n",
    "**Entropy tevredenheid = 1.726739\n",
    "Entropy belangrijkheid = 1.663814\n",
    "Entropy behaalde_graad = 2.041086**\n",
    "b) **lengte**\n",
    "c) **1.3059524812806642**\n",
    "d)\n",
    "e) zie code, stel de max_depth gelijk aan 3\n",
    "f)"
   ],
   "metadata": {
    "collapsed": false
   }
  },
  {
   "cell_type": "code",
   "execution_count": 66,
   "outputs": [
    {
     "data": {
      "text/plain": "       tevredenheid     belangrijkheid  behaalde_graad\n0     teleurgesteld    heel belangrijk         gebuisd\n1  licht ontevreden         belangrijk      voldoening\n2          tevreden  beetje belangrijk  onderscheiding\n3                ok    heel belangrijk  onderscheiding\n4                ok  beetje belangrijk         gebuisd",
      "text/html": "<div>\n<style scoped>\n    .dataframe tbody tr th:only-of-type {\n        vertical-align: middle;\n    }\n\n    .dataframe tbody tr th {\n        vertical-align: top;\n    }\n\n    .dataframe thead th {\n        text-align: right;\n    }\n</style>\n<table border=\"1\" class=\"dataframe\">\n  <thead>\n    <tr style=\"text-align: right;\">\n      <th></th>\n      <th>tevredenheid</th>\n      <th>belangrijkheid</th>\n      <th>behaalde_graad</th>\n    </tr>\n  </thead>\n  <tbody>\n    <tr>\n      <th>0</th>\n      <td>teleurgesteld</td>\n      <td>heel belangrijk</td>\n      <td>gebuisd</td>\n    </tr>\n    <tr>\n      <th>1</th>\n      <td>licht ontevreden</td>\n      <td>belangrijk</td>\n      <td>voldoening</td>\n    </tr>\n    <tr>\n      <th>2</th>\n      <td>tevreden</td>\n      <td>beetje belangrijk</td>\n      <td>onderscheiding</td>\n    </tr>\n    <tr>\n      <th>3</th>\n      <td>ok</td>\n      <td>heel belangrijk</td>\n      <td>onderscheiding</td>\n    </tr>\n    <tr>\n      <th>4</th>\n      <td>ok</td>\n      <td>beetje belangrijk</td>\n      <td>gebuisd</td>\n    </tr>\n  </tbody>\n</table>\n</div>"
     },
     "metadata": {},
     "output_type": "display_data"
    }
   ],
   "source": [
    "# Voorgeschreven code:\n",
    "examen2 = examen[['tevredenheid', 'belangrijkheid', 'behaalde_graad']]\n",
    "display(examen2.head())"
   ],
   "metadata": {
    "collapsed": false,
    "ExecuteTime": {
     "end_time": "2023-06-13T09:13:06.167087900Z",
     "start_time": "2023-06-13T09:13:06.043258700Z"
    }
   }
  },
  {
   "cell_type": "code",
   "execution_count": 67,
   "outputs": [
    {
     "data": {
      "text/plain": "    bedrag  lengte   saldo\n0  1556.30   194.4  -71.26\n1  1339.01   172.1   95.40\n2  1480.33   160.6 -162.92\n3  1736.86   178.1    9.92\n4  1802.29   160.9  214.24",
      "text/html": "<div>\n<style scoped>\n    .dataframe tbody tr th:only-of-type {\n        vertical-align: middle;\n    }\n\n    .dataframe tbody tr th {\n        vertical-align: top;\n    }\n\n    .dataframe thead th {\n        text-align: right;\n    }\n</style>\n<table border=\"1\" class=\"dataframe\">\n  <thead>\n    <tr style=\"text-align: right;\">\n      <th></th>\n      <th>bedrag</th>\n      <th>lengte</th>\n      <th>saldo</th>\n    </tr>\n  </thead>\n  <tbody>\n    <tr>\n      <th>0</th>\n      <td>1556.30</td>\n      <td>194.4</td>\n      <td>-71.26</td>\n    </tr>\n    <tr>\n      <th>1</th>\n      <td>1339.01</td>\n      <td>172.1</td>\n      <td>95.40</td>\n    </tr>\n    <tr>\n      <th>2</th>\n      <td>1480.33</td>\n      <td>160.6</td>\n      <td>-162.92</td>\n    </tr>\n    <tr>\n      <th>3</th>\n      <td>1736.86</td>\n      <td>178.1</td>\n      <td>9.92</td>\n    </tr>\n    <tr>\n      <th>4</th>\n      <td>1802.29</td>\n      <td>160.9</td>\n      <td>214.24</td>\n    </tr>\n  </tbody>\n</table>\n</div>"
     },
     "metadata": {},
     "output_type": "display_data"
    }
   ],
   "source": [
    "# Voorgeschreven code:\n",
    "examen3 = examen[['bedrag', 'lengte', 'saldo']]\n",
    "display(examen3.head())"
   ],
   "metadata": {
    "collapsed": false,
    "ExecuteTime": {
     "end_time": "2023-06-13T09:13:06.270129700Z",
     "start_time": "2023-06-13T09:13:06.068949400Z"
    }
   }
  },
  {
   "cell_type": "code",
   "execution_count": 68,
   "outputs": [
    {
     "name": "stdout",
     "output_type": "stream",
     "text": [
      "Entropy, E(S) = 1.3059524812806642\n",
      "\n",
      "\n",
      "tevredenheid      1.726739\n",
      "belangrijkheid    1.663814\n",
      "behaalde_graad    2.041086\n",
      "dtype: float64\n"
     ]
    },
    {
     "name": "stderr",
     "output_type": "stream",
     "text": [
      "C:\\Users\\elias\\Downloads\\DataScience1\\venv\\lib\\site-packages\\pandas\\core\\arraylike.py:396: RuntimeWarning: divide by zero encountered in log2\n",
      "  result = getattr(ufunc, method)(*inputs, **kwargs)\n",
      "C:\\Users\\elias\\Downloads\\DataScience1\\venv\\lib\\site-packages\\pandas\\core\\arraylike.py:396: RuntimeWarning: divide by zero encountered in log2\n",
      "  result = getattr(ufunc, method)(*inputs, **kwargs)\n",
      "C:\\Users\\elias\\Downloads\\DataScience1\\venv\\lib\\site-packages\\pandas\\core\\arraylike.py:396: RuntimeWarning: divide by zero encountered in log2\n",
      "  result = getattr(ufunc, method)(*inputs, **kwargs)\n",
      "C:\\Users\\elias\\Downloads\\DataScience1\\venv\\lib\\site-packages\\pandas\\core\\arraylike.py:396: RuntimeWarning: divide by zero encountered in log2\n",
      "  result = getattr(ufunc, method)(*inputs, **kwargs)\n",
      "C:\\Users\\elias\\Downloads\\DataScience1\\venv\\lib\\site-packages\\pandas\\core\\arraylike.py:396: RuntimeWarning: divide by zero encountered in log2\n",
      "  result = getattr(ufunc, method)(*inputs, **kwargs)\n",
      "C:\\Users\\elias\\Downloads\\DataScience1\\venv\\lib\\site-packages\\pandas\\core\\arraylike.py:396: RuntimeWarning: divide by zero encountered in log2\n",
      "  result = getattr(ufunc, method)(*inputs, **kwargs)\n",
      "C:\\Users\\elias\\Downloads\\DataScience1\\venv\\lib\\site-packages\\pandas\\core\\arraylike.py:396: RuntimeWarning: divide by zero encountered in log2\n",
      "  result = getattr(ufunc, method)(*inputs, **kwargs)\n",
      "C:\\Users\\elias\\Downloads\\DataScience1\\venv\\lib\\site-packages\\pandas\\core\\arraylike.py:396: RuntimeWarning: divide by zero encountered in log2\n",
      "  result = getattr(ufunc, method)(*inputs, **kwargs)\n",
      "C:\\Users\\elias\\Downloads\\DataScience1\\venv\\lib\\site-packages\\pandas\\core\\arraylike.py:396: RuntimeWarning: divide by zero encountered in log2\n",
      "  result = getattr(ufunc, method)(*inputs, **kwargs)\n",
      "C:\\Users\\elias\\Downloads\\DataScience1\\venv\\lib\\site-packages\\pandas\\core\\arraylike.py:396: RuntimeWarning: divide by zero encountered in log2\n",
      "  result = getattr(ufunc, method)(*inputs, **kwargs)\n",
      "C:\\Users\\elias\\Downloads\\DataScience1\\venv\\lib\\site-packages\\pandas\\core\\arraylike.py:396: RuntimeWarning: divide by zero encountered in log2\n",
      "  result = getattr(ufunc, method)(*inputs, **kwargs)\n",
      "C:\\Users\\elias\\Downloads\\DataScience1\\venv\\lib\\site-packages\\pandas\\core\\arraylike.py:396: RuntimeWarning: divide by zero encountered in log2\n",
      "  result = getattr(ufunc, method)(*inputs, **kwargs)\n",
      "C:\\Users\\elias\\Downloads\\DataScience1\\venv\\lib\\site-packages\\pandas\\core\\arraylike.py:396: RuntimeWarning: divide by zero encountered in log2\n",
      "  result = getattr(ufunc, method)(*inputs, **kwargs)\n",
      "C:\\Users\\elias\\Downloads\\DataScience1\\venv\\lib\\site-packages\\pandas\\core\\arraylike.py:396: RuntimeWarning: divide by zero encountered in log2\n",
      "  result = getattr(ufunc, method)(*inputs, **kwargs)\n",
      "C:\\Users\\elias\\Downloads\\DataScience1\\venv\\lib\\site-packages\\pandas\\core\\arraylike.py:396: RuntimeWarning: divide by zero encountered in log2\n",
      "  result = getattr(ufunc, method)(*inputs, **kwargs)\n",
      "C:\\Users\\elias\\Downloads\\DataScience1\\venv\\lib\\site-packages\\pandas\\core\\arraylike.py:396: RuntimeWarning: divide by zero encountered in log2\n",
      "  result = getattr(ufunc, method)(*inputs, **kwargs)\n",
      "C:\\Users\\elias\\Downloads\\DataScience1\\venv\\lib\\site-packages\\pandas\\core\\arraylike.py:396: RuntimeWarning: divide by zero encountered in log2\n",
      "  result = getattr(ufunc, method)(*inputs, **kwargs)\n",
      "C:\\Users\\elias\\Downloads\\DataScience1\\venv\\lib\\site-packages\\pandas\\core\\arraylike.py:396: RuntimeWarning: divide by zero encountered in log2\n",
      "  result = getattr(ufunc, method)(*inputs, **kwargs)\n",
      "C:\\Users\\elias\\Downloads\\DataScience1\\venv\\lib\\site-packages\\pandas\\core\\arraylike.py:396: RuntimeWarning: divide by zero encountered in log2\n",
      "  result = getattr(ufunc, method)(*inputs, **kwargs)\n",
      "C:\\Users\\elias\\Downloads\\DataScience1\\venv\\lib\\site-packages\\pandas\\core\\arraylike.py:396: RuntimeWarning: divide by zero encountered in log2\n",
      "  result = getattr(ufunc, method)(*inputs, **kwargs)\n",
      "C:\\Users\\elias\\Downloads\\DataScience1\\venv\\lib\\site-packages\\pandas\\core\\arraylike.py:396: RuntimeWarning: divide by zero encountered in log2\n",
      "  result = getattr(ufunc, method)(*inputs, **kwargs)\n",
      "C:\\Users\\elias\\Downloads\\DataScience1\\venv\\lib\\site-packages\\pandas\\core\\arraylike.py:396: RuntimeWarning: divide by zero encountered in log2\n",
      "  result = getattr(ufunc, method)(*inputs, **kwargs)\n",
      "C:\\Users\\elias\\Downloads\\DataScience1\\venv\\lib\\site-packages\\pandas\\core\\arraylike.py:396: RuntimeWarning: divide by zero encountered in log2\n",
      "  result = getattr(ufunc, method)(*inputs, **kwargs)\n",
      "C:\\Users\\elias\\Downloads\\DataScience1\\venv\\lib\\site-packages\\pandas\\core\\arraylike.py:396: RuntimeWarning: divide by zero encountered in log2\n",
      "  result = getattr(ufunc, method)(*inputs, **kwargs)\n",
      "C:\\Users\\elias\\Downloads\\DataScience1\\venv\\lib\\site-packages\\pandas\\core\\arraylike.py:396: RuntimeWarning: divide by zero encountered in log2\n",
      "  result = getattr(ufunc, method)(*inputs, **kwargs)\n",
      "C:\\Users\\elias\\Downloads\\DataScience1\\venv\\lib\\site-packages\\pandas\\core\\arraylike.py:396: RuntimeWarning: divide by zero encountered in log2\n",
      "  result = getattr(ufunc, method)(*inputs, **kwargs)\n",
      "C:\\Users\\elias\\Downloads\\DataScience1\\venv\\lib\\site-packages\\pandas\\core\\arraylike.py:396: RuntimeWarning: divide by zero encountered in log2\n",
      "  result = getattr(ufunc, method)(*inputs, **kwargs)\n",
      "C:\\Users\\elias\\Downloads\\DataScience1\\venv\\lib\\site-packages\\pandas\\core\\arraylike.py:396: RuntimeWarning: divide by zero encountered in log2\n",
      "  result = getattr(ufunc, method)(*inputs, **kwargs)\n",
      "C:\\Users\\elias\\Downloads\\DataScience1\\venv\\lib\\site-packages\\pandas\\core\\arraylike.py:396: RuntimeWarning: divide by zero encountered in log2\n",
      "  result = getattr(ufunc, method)(*inputs, **kwargs)\n",
      "C:\\Users\\elias\\Downloads\\DataScience1\\venv\\lib\\site-packages\\pandas\\core\\arraylike.py:396: RuntimeWarning: divide by zero encountered in log2\n",
      "  result = getattr(ufunc, method)(*inputs, **kwargs)\n",
      "C:\\Users\\elias\\Downloads\\DataScience1\\venv\\lib\\site-packages\\pandas\\core\\arraylike.py:396: RuntimeWarning: divide by zero encountered in log2\n",
      "  result = getattr(ufunc, method)(*inputs, **kwargs)\n",
      "C:\\Users\\elias\\Downloads\\DataScience1\\venv\\lib\\site-packages\\pandas\\core\\arraylike.py:396: RuntimeWarning: divide by zero encountered in log2\n",
      "  result = getattr(ufunc, method)(*inputs, **kwargs)\n",
      "C:\\Users\\elias\\Downloads\\DataScience1\\venv\\lib\\site-packages\\pandas\\core\\arraylike.py:396: RuntimeWarning: divide by zero encountered in log2\n",
      "  result = getattr(ufunc, method)(*inputs, **kwargs)\n",
      "C:\\Users\\elias\\Downloads\\DataScience1\\venv\\lib\\site-packages\\pandas\\core\\arraylike.py:396: RuntimeWarning: divide by zero encountered in log2\n",
      "  result = getattr(ufunc, method)(*inputs, **kwargs)\n",
      "C:\\Users\\elias\\Downloads\\DataScience1\\venv\\lib\\site-packages\\pandas\\core\\arraylike.py:396: RuntimeWarning: divide by zero encountered in log2\n",
      "  result = getattr(ufunc, method)(*inputs, **kwargs)\n",
      "C:\\Users\\elias\\Downloads\\DataScience1\\venv\\lib\\site-packages\\pandas\\core\\arraylike.py:396: RuntimeWarning: divide by zero encountered in log2\n",
      "  result = getattr(ufunc, method)(*inputs, **kwargs)\n",
      "C:\\Users\\elias\\Downloads\\DataScience1\\venv\\lib\\site-packages\\pandas\\core\\arraylike.py:396: RuntimeWarning: divide by zero encountered in log2\n",
      "  result = getattr(ufunc, method)(*inputs, **kwargs)\n",
      "C:\\Users\\elias\\Downloads\\DataScience1\\venv\\lib\\site-packages\\pandas\\core\\arraylike.py:396: RuntimeWarning: divide by zero encountered in log2\n",
      "  result = getattr(ufunc, method)(*inputs, **kwargs)\n",
      "C:\\Users\\elias\\Downloads\\DataScience1\\venv\\lib\\site-packages\\pandas\\core\\arraylike.py:396: RuntimeWarning: divide by zero encountered in log2\n",
      "  result = getattr(ufunc, method)(*inputs, **kwargs)\n",
      "C:\\Users\\elias\\Downloads\\DataScience1\\venv\\lib\\site-packages\\pandas\\core\\arraylike.py:396: RuntimeWarning: divide by zero encountered in log2\n",
      "  result = getattr(ufunc, method)(*inputs, **kwargs)\n",
      "C:\\Users\\elias\\Downloads\\DataScience1\\venv\\lib\\site-packages\\pandas\\core\\arraylike.py:396: RuntimeWarning: divide by zero encountered in log2\n",
      "  result = getattr(ufunc, method)(*inputs, **kwargs)\n",
      "C:\\Users\\elias\\Downloads\\DataScience1\\venv\\lib\\site-packages\\pandas\\core\\arraylike.py:396: RuntimeWarning: divide by zero encountered in log2\n",
      "  result = getattr(ufunc, method)(*inputs, **kwargs)\n",
      "C:\\Users\\elias\\Downloads\\DataScience1\\venv\\lib\\site-packages\\pandas\\core\\arraylike.py:396: RuntimeWarning: divide by zero encountered in log2\n",
      "  result = getattr(ufunc, method)(*inputs, **kwargs)\n",
      "C:\\Users\\elias\\Downloads\\DataScience1\\venv\\lib\\site-packages\\pandas\\core\\arraylike.py:396: RuntimeWarning: divide by zero encountered in log2\n",
      "  result = getattr(ufunc, method)(*inputs, **kwargs)\n",
      "C:\\Users\\elias\\Downloads\\DataScience1\\venv\\lib\\site-packages\\pandas\\core\\arraylike.py:396: RuntimeWarning: divide by zero encountered in log2\n",
      "  result = getattr(ufunc, method)(*inputs, **kwargs)\n",
      "C:\\Users\\elias\\Downloads\\DataScience1\\venv\\lib\\site-packages\\pandas\\core\\arraylike.py:396: RuntimeWarning: divide by zero encountered in log2\n",
      "  result = getattr(ufunc, method)(*inputs, **kwargs)\n",
      "C:\\Users\\elias\\Downloads\\DataScience1\\venv\\lib\\site-packages\\pandas\\core\\arraylike.py:396: RuntimeWarning: divide by zero encountered in log2\n",
      "  result = getattr(ufunc, method)(*inputs, **kwargs)\n",
      "C:\\Users\\elias\\Downloads\\DataScience1\\venv\\lib\\site-packages\\pandas\\core\\arraylike.py:396: RuntimeWarning: divide by zero encountered in log2\n",
      "  result = getattr(ufunc, method)(*inputs, **kwargs)\n",
      "C:\\Users\\elias\\Downloads\\DataScience1\\venv\\lib\\site-packages\\pandas\\core\\arraylike.py:396: RuntimeWarning: divide by zero encountered in log2\n",
      "  result = getattr(ufunc, method)(*inputs, **kwargs)\n",
      "C:\\Users\\elias\\Downloads\\DataScience1\\venv\\lib\\site-packages\\pandas\\core\\arraylike.py:396: RuntimeWarning: divide by zero encountered in log2\n",
      "  result = getattr(ufunc, method)(*inputs, **kwargs)\n",
      "C:\\Users\\elias\\Downloads\\DataScience1\\venv\\lib\\site-packages\\pandas\\core\\arraylike.py:396: RuntimeWarning: divide by zero encountered in log2\n",
      "  result = getattr(ufunc, method)(*inputs, **kwargs)\n",
      "C:\\Users\\elias\\Downloads\\DataScience1\\venv\\lib\\site-packages\\pandas\\core\\arraylike.py:396: RuntimeWarning: divide by zero encountered in log2\n",
      "  result = getattr(ufunc, method)(*inputs, **kwargs)\n",
      "C:\\Users\\elias\\Downloads\\DataScience1\\venv\\lib\\site-packages\\pandas\\core\\arraylike.py:396: RuntimeWarning: divide by zero encountered in log2\n",
      "  result = getattr(ufunc, method)(*inputs, **kwargs)\n",
      "C:\\Users\\elias\\Downloads\\DataScience1\\venv\\lib\\site-packages\\pandas\\core\\arraylike.py:396: RuntimeWarning: divide by zero encountered in log2\n",
      "  result = getattr(ufunc, method)(*inputs, **kwargs)\n",
      "C:\\Users\\elias\\Downloads\\DataScience1\\venv\\lib\\site-packages\\pandas\\core\\arraylike.py:396: RuntimeWarning: divide by zero encountered in log2\n",
      "  result = getattr(ufunc, method)(*inputs, **kwargs)\n",
      "C:\\Users\\elias\\Downloads\\DataScience1\\venv\\lib\\site-packages\\pandas\\core\\arraylike.py:396: RuntimeWarning: divide by zero encountered in log2\n",
      "  result = getattr(ufunc, method)(*inputs, **kwargs)\n",
      "C:\\Users\\elias\\Downloads\\DataScience1\\venv\\lib\\site-packages\\pandas\\core\\arraylike.py:396: RuntimeWarning: divide by zero encountered in log2\n",
      "  result = getattr(ufunc, method)(*inputs, **kwargs)\n",
      "C:\\Users\\elias\\Downloads\\DataScience1\\venv\\lib\\site-packages\\pandas\\core\\arraylike.py:396: RuntimeWarning: divide by zero encountered in log2\n",
      "  result = getattr(ufunc, method)(*inputs, **kwargs)\n",
      "C:\\Users\\elias\\Downloads\\DataScience1\\venv\\lib\\site-packages\\pandas\\core\\arraylike.py:396: RuntimeWarning: divide by zero encountered in log2\n",
      "  result = getattr(ufunc, method)(*inputs, **kwargs)\n",
      "C:\\Users\\elias\\Downloads\\DataScience1\\venv\\lib\\site-packages\\pandas\\core\\arraylike.py:396: RuntimeWarning: divide by zero encountered in log2\n",
      "  result = getattr(ufunc, method)(*inputs, **kwargs)\n",
      "C:\\Users\\elias\\Downloads\\DataScience1\\venv\\lib\\site-packages\\pandas\\core\\arraylike.py:396: RuntimeWarning: divide by zero encountered in log2\n",
      "  result = getattr(ufunc, method)(*inputs, **kwargs)\n",
      "C:\\Users\\elias\\Downloads\\DataScience1\\venv\\lib\\site-packages\\pandas\\core\\arraylike.py:396: RuntimeWarning: divide by zero encountered in log2\n",
      "  result = getattr(ufunc, method)(*inputs, **kwargs)\n",
      "C:\\Users\\elias\\Downloads\\DataScience1\\venv\\lib\\site-packages\\pandas\\core\\arraylike.py:396: RuntimeWarning: divide by zero encountered in log2\n",
      "  result = getattr(ufunc, method)(*inputs, **kwargs)\n",
      "C:\\Users\\elias\\Downloads\\DataScience1\\venv\\lib\\site-packages\\pandas\\core\\arraylike.py:396: RuntimeWarning: divide by zero encountered in log2\n",
      "  result = getattr(ufunc, method)(*inputs, **kwargs)\n",
      "C:\\Users\\elias\\Downloads\\DataScience1\\venv\\lib\\site-packages\\pandas\\core\\arraylike.py:396: RuntimeWarning: divide by zero encountered in log2\n",
      "  result = getattr(ufunc, method)(*inputs, **kwargs)\n",
      "C:\\Users\\elias\\Downloads\\DataScience1\\venv\\lib\\site-packages\\pandas\\core\\arraylike.py:396: RuntimeWarning: divide by zero encountered in log2\n",
      "  result = getattr(ufunc, method)(*inputs, **kwargs)\n",
      "C:\\Users\\elias\\Downloads\\DataScience1\\venv\\lib\\site-packages\\pandas\\core\\arraylike.py:396: RuntimeWarning: divide by zero encountered in log2\n",
      "  result = getattr(ufunc, method)(*inputs, **kwargs)\n",
      "C:\\Users\\elias\\Downloads\\DataScience1\\venv\\lib\\site-packages\\pandas\\core\\arraylike.py:396: RuntimeWarning: divide by zero encountered in log2\n",
      "  result = getattr(ufunc, method)(*inputs, **kwargs)\n",
      "C:\\Users\\elias\\Downloads\\DataScience1\\venv\\lib\\site-packages\\pandas\\core\\arraylike.py:396: RuntimeWarning: divide by zero encountered in log2\n",
      "  result = getattr(ufunc, method)(*inputs, **kwargs)\n",
      "C:\\Users\\elias\\Downloads\\DataScience1\\venv\\lib\\site-packages\\pandas\\core\\arraylike.py:396: RuntimeWarning: divide by zero encountered in log2\n",
      "  result = getattr(ufunc, method)(*inputs, **kwargs)\n",
      "C:\\Users\\elias\\Downloads\\DataScience1\\venv\\lib\\site-packages\\pandas\\core\\arraylike.py:396: RuntimeWarning: divide by zero encountered in log2\n",
      "  result = getattr(ufunc, method)(*inputs, **kwargs)\n",
      "C:\\Users\\elias\\Downloads\\DataScience1\\venv\\lib\\site-packages\\pandas\\core\\arraylike.py:396: RuntimeWarning: divide by zero encountered in log2\n",
      "  result = getattr(ufunc, method)(*inputs, **kwargs)\n",
      "C:\\Users\\elias\\Downloads\\DataScience1\\venv\\lib\\site-packages\\pandas\\core\\arraylike.py:396: RuntimeWarning: divide by zero encountered in log2\n",
      "  result = getattr(ufunc, method)(*inputs, **kwargs)\n",
      "C:\\Users\\elias\\Downloads\\DataScience1\\venv\\lib\\site-packages\\pandas\\core\\arraylike.py:396: RuntimeWarning: divide by zero encountered in log2\n",
      "  result = getattr(ufunc, method)(*inputs, **kwargs)\n",
      "C:\\Users\\elias\\Downloads\\DataScience1\\venv\\lib\\site-packages\\pandas\\core\\arraylike.py:396: RuntimeWarning: divide by zero encountered in log2\n",
      "  result = getattr(ufunc, method)(*inputs, **kwargs)\n",
      "C:\\Users\\elias\\Downloads\\DataScience1\\venv\\lib\\site-packages\\pandas\\core\\arraylike.py:396: RuntimeWarning: divide by zero encountered in log2\n",
      "  result = getattr(ufunc, method)(*inputs, **kwargs)\n",
      "C:\\Users\\elias\\Downloads\\DataScience1\\venv\\lib\\site-packages\\pandas\\core\\arraylike.py:396: RuntimeWarning: divide by zero encountered in log2\n",
      "  result = getattr(ufunc, method)(*inputs, **kwargs)\n",
      "C:\\Users\\elias\\Downloads\\DataScience1\\venv\\lib\\site-packages\\pandas\\core\\arraylike.py:396: RuntimeWarning: divide by zero encountered in log2\n",
      "  result = getattr(ufunc, method)(*inputs, **kwargs)\n",
      "C:\\Users\\elias\\Downloads\\DataScience1\\venv\\lib\\site-packages\\pandas\\core\\arraylike.py:396: RuntimeWarning: divide by zero encountered in log2\n",
      "  result = getattr(ufunc, method)(*inputs, **kwargs)\n",
      "C:\\Users\\elias\\Downloads\\DataScience1\\venv\\lib\\site-packages\\pandas\\core\\arraylike.py:396: RuntimeWarning: divide by zero encountered in log2\n",
      "  result = getattr(ufunc, method)(*inputs, **kwargs)\n",
      "C:\\Users\\elias\\Downloads\\DataScience1\\venv\\lib\\site-packages\\pandas\\core\\arraylike.py:396: RuntimeWarning: divide by zero encountered in log2\n",
      "  result = getattr(ufunc, method)(*inputs, **kwargs)\n",
      "C:\\Users\\elias\\Downloads\\DataScience1\\venv\\lib\\site-packages\\pandas\\core\\arraylike.py:396: RuntimeWarning: divide by zero encountered in log2\n",
      "  result = getattr(ufunc, method)(*inputs, **kwargs)\n",
      "C:\\Users\\elias\\Downloads\\DataScience1\\venv\\lib\\site-packages\\pandas\\core\\arraylike.py:396: RuntimeWarning: divide by zero encountered in log2\n",
      "  result = getattr(ufunc, method)(*inputs, **kwargs)\n",
      "C:\\Users\\elias\\Downloads\\DataScience1\\venv\\lib\\site-packages\\pandas\\core\\arraylike.py:396: RuntimeWarning: divide by zero encountered in log2\n",
      "  result = getattr(ufunc, method)(*inputs, **kwargs)\n",
      "C:\\Users\\elias\\Downloads\\DataScience1\\venv\\lib\\site-packages\\pandas\\core\\arraylike.py:396: RuntimeWarning: divide by zero encountered in log2\n",
      "  result = getattr(ufunc, method)(*inputs, **kwargs)\n",
      "C:\\Users\\elias\\Downloads\\DataScience1\\venv\\lib\\site-packages\\pandas\\core\\arraylike.py:396: RuntimeWarning: divide by zero encountered in log2\n",
      "  result = getattr(ufunc, method)(*inputs, **kwargs)\n",
      "C:\\Users\\elias\\Downloads\\DataScience1\\venv\\lib\\site-packages\\pandas\\core\\arraylike.py:396: RuntimeWarning: divide by zero encountered in log2\n",
      "  result = getattr(ufunc, method)(*inputs, **kwargs)\n",
      "C:\\Users\\elias\\Downloads\\DataScience1\\venv\\lib\\site-packages\\pandas\\core\\arraylike.py:396: RuntimeWarning: divide by zero encountered in log2\n",
      "  result = getattr(ufunc, method)(*inputs, **kwargs)\n",
      "C:\\Users\\elias\\Downloads\\DataScience1\\venv\\lib\\site-packages\\pandas\\core\\arraylike.py:396: RuntimeWarning: divide by zero encountered in log2\n",
      "  result = getattr(ufunc, method)(*inputs, **kwargs)\n",
      "C:\\Users\\elias\\Downloads\\DataScience1\\venv\\lib\\site-packages\\pandas\\core\\arraylike.py:396: RuntimeWarning: divide by zero encountered in log2\n",
      "  result = getattr(ufunc, method)(*inputs, **kwargs)\n",
      "C:\\Users\\elias\\Downloads\\DataScience1\\venv\\lib\\site-packages\\pandas\\core\\arraylike.py:396: RuntimeWarning: divide by zero encountered in log2\n",
      "  result = getattr(ufunc, method)(*inputs, **kwargs)\n",
      "C:\\Users\\elias\\Downloads\\DataScience1\\venv\\lib\\site-packages\\pandas\\core\\arraylike.py:396: RuntimeWarning: divide by zero encountered in log2\n",
      "  result = getattr(ufunc, method)(*inputs, **kwargs)\n",
      "C:\\Users\\elias\\Downloads\\DataScience1\\venv\\lib\\site-packages\\pandas\\core\\arraylike.py:396: RuntimeWarning: divide by zero encountered in log2\n",
      "  result = getattr(ufunc, method)(*inputs, **kwargs)\n",
      "C:\\Users\\elias\\Downloads\\DataScience1\\venv\\lib\\site-packages\\pandas\\core\\arraylike.py:396: RuntimeWarning: divide by zero encountered in log2\n",
      "  result = getattr(ufunc, method)(*inputs, **kwargs)\n",
      "C:\\Users\\elias\\Downloads\\DataScience1\\venv\\lib\\site-packages\\pandas\\core\\arraylike.py:396: RuntimeWarning: divide by zero encountered in log2\n",
      "  result = getattr(ufunc, method)(*inputs, **kwargs)\n",
      "C:\\Users\\elias\\Downloads\\DataScience1\\venv\\lib\\site-packages\\pandas\\core\\arraylike.py:396: RuntimeWarning: divide by zero encountered in log2\n",
      "  result = getattr(ufunc, method)(*inputs, **kwargs)\n",
      "C:\\Users\\elias\\Downloads\\DataScience1\\venv\\lib\\site-packages\\pandas\\core\\arraylike.py:396: RuntimeWarning: divide by zero encountered in log2\n",
      "  result = getattr(ufunc, method)(*inputs, **kwargs)\n",
      "C:\\Users\\elias\\Downloads\\DataScience1\\venv\\lib\\site-packages\\pandas\\core\\arraylike.py:396: RuntimeWarning: divide by zero encountered in log2\n",
      "  result = getattr(ufunc, method)(*inputs, **kwargs)\n",
      "C:\\Users\\elias\\Downloads\\DataScience1\\venv\\lib\\site-packages\\pandas\\core\\arraylike.py:396: RuntimeWarning: divide by zero encountered in log2\n",
      "  result = getattr(ufunc, method)(*inputs, **kwargs)\n",
      "C:\\Users\\elias\\Downloads\\DataScience1\\venv\\lib\\site-packages\\pandas\\core\\arraylike.py:396: RuntimeWarning: divide by zero encountered in log2\n",
      "  result = getattr(ufunc, method)(*inputs, **kwargs)\n",
      "C:\\Users\\elias\\Downloads\\DataScience1\\venv\\lib\\site-packages\\pandas\\core\\arraylike.py:396: RuntimeWarning: divide by zero encountered in log2\n",
      "  result = getattr(ufunc, method)(*inputs, **kwargs)\n",
      "C:\\Users\\elias\\Downloads\\DataScience1\\venv\\lib\\site-packages\\pandas\\core\\arraylike.py:396: RuntimeWarning: divide by zero encountered in log2\n",
      "  result = getattr(ufunc, method)(*inputs, **kwargs)\n",
      "C:\\Users\\elias\\Downloads\\DataScience1\\venv\\lib\\site-packages\\pandas\\core\\arraylike.py:396: RuntimeWarning: divide by zero encountered in log2\n",
      "  result = getattr(ufunc, method)(*inputs, **kwargs)\n",
      "C:\\Users\\elias\\Downloads\\DataScience1\\venv\\lib\\site-packages\\pandas\\core\\arraylike.py:396: RuntimeWarning: divide by zero encountered in log2\n",
      "  result = getattr(ufunc, method)(*inputs, **kwargs)\n",
      "C:\\Users\\elias\\Downloads\\DataScience1\\venv\\lib\\site-packages\\pandas\\core\\arraylike.py:396: RuntimeWarning: divide by zero encountered in log2\n",
      "  result = getattr(ufunc, method)(*inputs, **kwargs)\n",
      "C:\\Users\\elias\\Downloads\\DataScience1\\venv\\lib\\site-packages\\pandas\\core\\arraylike.py:396: RuntimeWarning: divide by zero encountered in log2\n",
      "  result = getattr(ufunc, method)(*inputs, **kwargs)\n",
      "C:\\Users\\elias\\Downloads\\DataScience1\\venv\\lib\\site-packages\\pandas\\core\\arraylike.py:396: RuntimeWarning: divide by zero encountered in log2\n",
      "  result = getattr(ufunc, method)(*inputs, **kwargs)\n",
      "C:\\Users\\elias\\Downloads\\DataScience1\\venv\\lib\\site-packages\\pandas\\core\\arraylike.py:396: RuntimeWarning: divide by zero encountered in log2\n",
      "  result = getattr(ufunc, method)(*inputs, **kwargs)\n",
      "C:\\Users\\elias\\Downloads\\DataScience1\\venv\\lib\\site-packages\\pandas\\core\\arraylike.py:396: RuntimeWarning: divide by zero encountered in log2\n",
      "  result = getattr(ufunc, method)(*inputs, **kwargs)\n",
      "C:\\Users\\elias\\Downloads\\DataScience1\\venv\\lib\\site-packages\\pandas\\core\\arraylike.py:396: RuntimeWarning: divide by zero encountered in log2\n",
      "  result = getattr(ufunc, method)(*inputs, **kwargs)\n",
      "C:\\Users\\elias\\Downloads\\DataScience1\\venv\\lib\\site-packages\\pandas\\core\\arraylike.py:396: RuntimeWarning: divide by zero encountered in log2\n",
      "  result = getattr(ufunc, method)(*inputs, **kwargs)\n",
      "C:\\Users\\elias\\Downloads\\DataScience1\\venv\\lib\\site-packages\\pandas\\core\\arraylike.py:396: RuntimeWarning: divide by zero encountered in log2\n",
      "  result = getattr(ufunc, method)(*inputs, **kwargs)\n",
      "C:\\Users\\elias\\Downloads\\DataScience1\\venv\\lib\\site-packages\\pandas\\core\\arraylike.py:396: RuntimeWarning: divide by zero encountered in log2\n",
      "  result = getattr(ufunc, method)(*inputs, **kwargs)\n",
      "C:\\Users\\elias\\Downloads\\DataScience1\\venv\\lib\\site-packages\\pandas\\core\\arraylike.py:396: RuntimeWarning: divide by zero encountered in log2\n",
      "  result = getattr(ufunc, method)(*inputs, **kwargs)\n",
      "C:\\Users\\elias\\Downloads\\DataScience1\\venv\\lib\\site-packages\\pandas\\core\\arraylike.py:396: RuntimeWarning: divide by zero encountered in log2\n",
      "  result = getattr(ufunc, method)(*inputs, **kwargs)\n",
      "C:\\Users\\elias\\Downloads\\DataScience1\\venv\\lib\\site-packages\\pandas\\core\\arraylike.py:396: RuntimeWarning: divide by zero encountered in log2\n",
      "  result = getattr(ufunc, method)(*inputs, **kwargs)\n",
      "C:\\Users\\elias\\Downloads\\DataScience1\\venv\\lib\\site-packages\\pandas\\core\\arraylike.py:396: RuntimeWarning: divide by zero encountered in log2\n",
      "  result = getattr(ufunc, method)(*inputs, **kwargs)\n",
      "C:\\Users\\elias\\Downloads\\DataScience1\\venv\\lib\\site-packages\\pandas\\core\\arraylike.py:396: RuntimeWarning: divide by zero encountered in log2\n",
      "  result = getattr(ufunc, method)(*inputs, **kwargs)\n",
      "C:\\Users\\elias\\Downloads\\DataScience1\\venv\\lib\\site-packages\\pandas\\core\\arraylike.py:396: RuntimeWarning: divide by zero encountered in log2\n",
      "  result = getattr(ufunc, method)(*inputs, **kwargs)\n",
      "C:\\Users\\elias\\Downloads\\DataScience1\\venv\\lib\\site-packages\\pandas\\core\\arraylike.py:396: RuntimeWarning: divide by zero encountered in log2\n",
      "  result = getattr(ufunc, method)(*inputs, **kwargs)\n",
      "C:\\Users\\elias\\Downloads\\DataScience1\\venv\\lib\\site-packages\\pandas\\core\\arraylike.py:396: RuntimeWarning: divide by zero encountered in log2\n",
      "  result = getattr(ufunc, method)(*inputs, **kwargs)\n",
      "C:\\Users\\elias\\Downloads\\DataScience1\\venv\\lib\\site-packages\\pandas\\core\\arraylike.py:396: RuntimeWarning: divide by zero encountered in log2\n",
      "  result = getattr(ufunc, method)(*inputs, **kwargs)\n",
      "C:\\Users\\elias\\Downloads\\DataScience1\\venv\\lib\\site-packages\\pandas\\core\\arraylike.py:396: RuntimeWarning: divide by zero encountered in log2\n",
      "  result = getattr(ufunc, method)(*inputs, **kwargs)\n",
      "C:\\Users\\elias\\Downloads\\DataScience1\\venv\\lib\\site-packages\\pandas\\core\\arraylike.py:396: RuntimeWarning: divide by zero encountered in log2\n",
      "  result = getattr(ufunc, method)(*inputs, **kwargs)\n",
      "C:\\Users\\elias\\Downloads\\DataScience1\\venv\\lib\\site-packages\\pandas\\core\\arraylike.py:396: RuntimeWarning: divide by zero encountered in log2\n",
      "  result = getattr(ufunc, method)(*inputs, **kwargs)\n",
      "C:\\Users\\elias\\Downloads\\DataScience1\\venv\\lib\\site-packages\\pandas\\core\\arraylike.py:396: RuntimeWarning: divide by zero encountered in log2\n",
      "  result = getattr(ufunc, method)(*inputs, **kwargs)\n",
      "C:\\Users\\elias\\Downloads\\DataScience1\\venv\\lib\\site-packages\\pandas\\core\\arraylike.py:396: RuntimeWarning: divide by zero encountered in log2\n",
      "  result = getattr(ufunc, method)(*inputs, **kwargs)\n",
      "C:\\Users\\elias\\Downloads\\DataScience1\\venv\\lib\\site-packages\\pandas\\core\\arraylike.py:396: RuntimeWarning: divide by zero encountered in log2\n",
      "  result = getattr(ufunc, method)(*inputs, **kwargs)\n",
      "C:\\Users\\elias\\Downloads\\DataScience1\\venv\\lib\\site-packages\\pandas\\core\\arraylike.py:396: RuntimeWarning: divide by zero encountered in log2\n",
      "  result = getattr(ufunc, method)(*inputs, **kwargs)\n",
      "C:\\Users\\elias\\Downloads\\DataScience1\\venv\\lib\\site-packages\\pandas\\core\\arraylike.py:396: RuntimeWarning: divide by zero encountered in log2\n",
      "  result = getattr(ufunc, method)(*inputs, **kwargs)\n",
      "C:\\Users\\elias\\Downloads\\DataScience1\\venv\\lib\\site-packages\\pandas\\core\\arraylike.py:396: RuntimeWarning: divide by zero encountered in log2\n",
      "  result = getattr(ufunc, method)(*inputs, **kwargs)\n",
      "C:\\Users\\elias\\Downloads\\DataScience1\\venv\\lib\\site-packages\\pandas\\core\\arraylike.py:396: RuntimeWarning: divide by zero encountered in log2\n",
      "  result = getattr(ufunc, method)(*inputs, **kwargs)\n",
      "C:\\Users\\elias\\Downloads\\DataScience1\\venv\\lib\\site-packages\\pandas\\core\\arraylike.py:396: RuntimeWarning: divide by zero encountered in log2\n",
      "  result = getattr(ufunc, method)(*inputs, **kwargs)\n",
      "C:\\Users\\elias\\Downloads\\DataScience1\\venv\\lib\\site-packages\\pandas\\core\\arraylike.py:396: RuntimeWarning: divide by zero encountered in log2\n",
      "  result = getattr(ufunc, method)(*inputs, **kwargs)\n",
      "C:\\Users\\elias\\Downloads\\DataScience1\\venv\\lib\\site-packages\\pandas\\core\\arraylike.py:396: RuntimeWarning: divide by zero encountered in log2\n",
      "  result = getattr(ufunc, method)(*inputs, **kwargs)\n",
      "C:\\Users\\elias\\Downloads\\DataScience1\\venv\\lib\\site-packages\\pandas\\core\\arraylike.py:396: RuntimeWarning: divide by zero encountered in log2\n",
      "  result = getattr(ufunc, method)(*inputs, **kwargs)\n",
      "C:\\Users\\elias\\Downloads\\DataScience1\\venv\\lib\\site-packages\\pandas\\core\\arraylike.py:396: RuntimeWarning: divide by zero encountered in log2\n",
      "  result = getattr(ufunc, method)(*inputs, **kwargs)\n",
      "C:\\Users\\elias\\Downloads\\DataScience1\\venv\\lib\\site-packages\\pandas\\core\\arraylike.py:396: RuntimeWarning: divide by zero encountered in log2\n",
      "  result = getattr(ufunc, method)(*inputs, **kwargs)\n",
      "C:\\Users\\elias\\Downloads\\DataScience1\\venv\\lib\\site-packages\\pandas\\core\\arraylike.py:396: RuntimeWarning: divide by zero encountered in log2\n",
      "  result = getattr(ufunc, method)(*inputs, **kwargs)\n",
      "C:\\Users\\elias\\Downloads\\DataScience1\\venv\\lib\\site-packages\\pandas\\core\\arraylike.py:396: RuntimeWarning: divide by zero encountered in log2\n",
      "  result = getattr(ufunc, method)(*inputs, **kwargs)\n",
      "C:\\Users\\elias\\Downloads\\DataScience1\\venv\\lib\\site-packages\\pandas\\core\\arraylike.py:396: RuntimeWarning: divide by zero encountered in log2\n",
      "  result = getattr(ufunc, method)(*inputs, **kwargs)\n",
      "C:\\Users\\elias\\Downloads\\DataScience1\\venv\\lib\\site-packages\\pandas\\core\\arraylike.py:396: RuntimeWarning: divide by zero encountered in log2\n",
      "  result = getattr(ufunc, method)(*inputs, **kwargs)\n",
      "C:\\Users\\elias\\Downloads\\DataScience1\\venv\\lib\\site-packages\\pandas\\core\\arraylike.py:396: RuntimeWarning: divide by zero encountered in log2\n",
      "  result = getattr(ufunc, method)(*inputs, **kwargs)\n",
      "C:\\Users\\elias\\Downloads\\DataScience1\\venv\\lib\\site-packages\\pandas\\core\\arraylike.py:396: RuntimeWarning: divide by zero encountered in log2\n",
      "  result = getattr(ufunc, method)(*inputs, **kwargs)\n",
      "C:\\Users\\elias\\Downloads\\DataScience1\\venv\\lib\\site-packages\\pandas\\core\\arraylike.py:396: RuntimeWarning: divide by zero encountered in log2\n",
      "  result = getattr(ufunc, method)(*inputs, **kwargs)\n",
      "C:\\Users\\elias\\Downloads\\DataScience1\\venv\\lib\\site-packages\\pandas\\core\\arraylike.py:396: RuntimeWarning: divide by zero encountered in log2\n",
      "  result = getattr(ufunc, method)(*inputs, **kwargs)\n",
      "C:\\Users\\elias\\Downloads\\DataScience1\\venv\\lib\\site-packages\\pandas\\core\\arraylike.py:396: RuntimeWarning: divide by zero encountered in log2\n",
      "  result = getattr(ufunc, method)(*inputs, **kwargs)\n",
      "C:\\Users\\elias\\Downloads\\DataScience1\\venv\\lib\\site-packages\\pandas\\core\\arraylike.py:396: RuntimeWarning: divide by zero encountered in log2\n",
      "  result = getattr(ufunc, method)(*inputs, **kwargs)\n",
      "C:\\Users\\elias\\Downloads\\DataScience1\\venv\\lib\\site-packages\\pandas\\core\\arraylike.py:396: RuntimeWarning: divide by zero encountered in log2\n",
      "  result = getattr(ufunc, method)(*inputs, **kwargs)\n",
      "C:\\Users\\elias\\Downloads\\DataScience1\\venv\\lib\\site-packages\\pandas\\core\\arraylike.py:396: RuntimeWarning: divide by zero encountered in log2\n",
      "  result = getattr(ufunc, method)(*inputs, **kwargs)\n",
      "C:\\Users\\elias\\Downloads\\DataScience1\\venv\\lib\\site-packages\\pandas\\core\\arraylike.py:396: RuntimeWarning: divide by zero encountered in log2\n",
      "  result = getattr(ufunc, method)(*inputs, **kwargs)\n",
      "C:\\Users\\elias\\Downloads\\DataScience1\\venv\\lib\\site-packages\\pandas\\core\\arraylike.py:396: RuntimeWarning: divide by zero encountered in log2\n",
      "  result = getattr(ufunc, method)(*inputs, **kwargs)\n",
      "C:\\Users\\elias\\Downloads\\DataScience1\\venv\\lib\\site-packages\\pandas\\core\\arraylike.py:396: RuntimeWarning: divide by zero encountered in log2\n",
      "  result = getattr(ufunc, method)(*inputs, **kwargs)\n",
      "C:\\Users\\elias\\Downloads\\DataScience1\\venv\\lib\\site-packages\\pandas\\core\\arraylike.py:396: RuntimeWarning: divide by zero encountered in log2\n",
      "  result = getattr(ufunc, method)(*inputs, **kwargs)\n",
      "C:\\Users\\elias\\Downloads\\DataScience1\\venv\\lib\\site-packages\\pandas\\core\\arraylike.py:396: RuntimeWarning: divide by zero encountered in log2\n",
      "  result = getattr(ufunc, method)(*inputs, **kwargs)\n",
      "C:\\Users\\elias\\Downloads\\DataScience1\\venv\\lib\\site-packages\\pandas\\core\\arraylike.py:396: RuntimeWarning: divide by zero encountered in log2\n",
      "  result = getattr(ufunc, method)(*inputs, **kwargs)\n",
      "C:\\Users\\elias\\Downloads\\DataScience1\\venv\\lib\\site-packages\\pandas\\core\\arraylike.py:396: RuntimeWarning: divide by zero encountered in log2\n",
      "  result = getattr(ufunc, method)(*inputs, **kwargs)\n",
      "C:\\Users\\elias\\Downloads\\DataScience1\\venv\\lib\\site-packages\\pandas\\core\\arraylike.py:396: RuntimeWarning: divide by zero encountered in log2\n",
      "  result = getattr(ufunc, method)(*inputs, **kwargs)\n",
      "C:\\Users\\elias\\Downloads\\DataScience1\\venv\\lib\\site-packages\\pandas\\core\\arraylike.py:396: RuntimeWarning: divide by zero encountered in log2\n",
      "  result = getattr(ufunc, method)(*inputs, **kwargs)\n",
      "C:\\Users\\elias\\Downloads\\DataScience1\\venv\\lib\\site-packages\\pandas\\core\\arraylike.py:396: RuntimeWarning: divide by zero encountered in log2\n",
      "  result = getattr(ufunc, method)(*inputs, **kwargs)\n",
      "C:\\Users\\elias\\Downloads\\DataScience1\\venv\\lib\\site-packages\\pandas\\core\\arraylike.py:396: RuntimeWarning: divide by zero encountered in log2\n",
      "  result = getattr(ufunc, method)(*inputs, **kwargs)\n",
      "C:\\Users\\elias\\Downloads\\DataScience1\\venv\\lib\\site-packages\\pandas\\core\\arraylike.py:396: RuntimeWarning: divide by zero encountered in log2\n",
      "  result = getattr(ufunc, method)(*inputs, **kwargs)\n",
      "C:\\Users\\elias\\Downloads\\DataScience1\\venv\\lib\\site-packages\\pandas\\core\\arraylike.py:396: RuntimeWarning: divide by zero encountered in log2\n",
      "  result = getattr(ufunc, method)(*inputs, **kwargs)\n",
      "C:\\Users\\elias\\Downloads\\DataScience1\\venv\\lib\\site-packages\\pandas\\core\\arraylike.py:396: RuntimeWarning: divide by zero encountered in log2\n",
      "  result = getattr(ufunc, method)(*inputs, **kwargs)\n",
      "C:\\Users\\elias\\Downloads\\DataScience1\\venv\\lib\\site-packages\\pandas\\core\\arraylike.py:396: RuntimeWarning: divide by zero encountered in log2\n",
      "  result = getattr(ufunc, method)(*inputs, **kwargs)\n",
      "C:\\Users\\elias\\Downloads\\DataScience1\\venv\\lib\\site-packages\\pandas\\core\\arraylike.py:396: RuntimeWarning: divide by zero encountered in log2\n",
      "  result = getattr(ufunc, method)(*inputs, **kwargs)\n",
      "C:\\Users\\elias\\Downloads\\DataScience1\\venv\\lib\\site-packages\\pandas\\core\\arraylike.py:396: RuntimeWarning: divide by zero encountered in log2\n",
      "  result = getattr(ufunc, method)(*inputs, **kwargs)\n",
      "C:\\Users\\elias\\Downloads\\DataScience1\\venv\\lib\\site-packages\\pandas\\core\\arraylike.py:396: RuntimeWarning: divide by zero encountered in log2\n",
      "  result = getattr(ufunc, method)(*inputs, **kwargs)\n",
      "C:\\Users\\elias\\Downloads\\DataScience1\\venv\\lib\\site-packages\\pandas\\core\\arraylike.py:396: RuntimeWarning: divide by zero encountered in log2\n",
      "  result = getattr(ufunc, method)(*inputs, **kwargs)\n",
      "C:\\Users\\elias\\Downloads\\DataScience1\\venv\\lib\\site-packages\\pandas\\core\\arraylike.py:396: RuntimeWarning: divide by zero encountered in log2\n",
      "  result = getattr(ufunc, method)(*inputs, **kwargs)\n",
      "C:\\Users\\elias\\Downloads\\DataScience1\\venv\\lib\\site-packages\\pandas\\core\\arraylike.py:396: RuntimeWarning: divide by zero encountered in log2\n",
      "  result = getattr(ufunc, method)(*inputs, **kwargs)\n",
      "C:\\Users\\elias\\Downloads\\DataScience1\\venv\\lib\\site-packages\\pandas\\core\\arraylike.py:396: RuntimeWarning: divide by zero encountered in log2\n",
      "  result = getattr(ufunc, method)(*inputs, **kwargs)\n",
      "C:\\Users\\elias\\Downloads\\DataScience1\\venv\\lib\\site-packages\\pandas\\core\\arraylike.py:396: RuntimeWarning: divide by zero encountered in log2\n",
      "  result = getattr(ufunc, method)(*inputs, **kwargs)\n",
      "C:\\Users\\elias\\Downloads\\DataScience1\\venv\\lib\\site-packages\\pandas\\core\\arraylike.py:396: RuntimeWarning: divide by zero encountered in log2\n",
      "  result = getattr(ufunc, method)(*inputs, **kwargs)\n",
      "C:\\Users\\elias\\Downloads\\DataScience1\\venv\\lib\\site-packages\\pandas\\core\\arraylike.py:396: RuntimeWarning: divide by zero encountered in log2\n",
      "  result = getattr(ufunc, method)(*inputs, **kwargs)\n",
      "C:\\Users\\elias\\Downloads\\DataScience1\\venv\\lib\\site-packages\\pandas\\core\\arraylike.py:396: RuntimeWarning: divide by zero encountered in log2\n",
      "  result = getattr(ufunc, method)(*inputs, **kwargs)\n",
      "C:\\Users\\elias\\Downloads\\DataScience1\\venv\\lib\\site-packages\\pandas\\core\\arraylike.py:396: RuntimeWarning: divide by zero encountered in log2\n",
      "  result = getattr(ufunc, method)(*inputs, **kwargs)\n",
      "C:\\Users\\elias\\Downloads\\DataScience1\\venv\\lib\\site-packages\\pandas\\core\\arraylike.py:396: RuntimeWarning: divide by zero encountered in log2\n",
      "  result = getattr(ufunc, method)(*inputs, **kwargs)\n",
      "C:\\Users\\elias\\Downloads\\DataScience1\\venv\\lib\\site-packages\\pandas\\core\\arraylike.py:396: RuntimeWarning: divide by zero encountered in log2\n",
      "  result = getattr(ufunc, method)(*inputs, **kwargs)\n",
      "C:\\Users\\elias\\Downloads\\DataScience1\\venv\\lib\\site-packages\\pandas\\core\\arraylike.py:396: RuntimeWarning: divide by zero encountered in log2\n",
      "  result = getattr(ufunc, method)(*inputs, **kwargs)\n",
      "C:\\Users\\elias\\Downloads\\DataScience1\\venv\\lib\\site-packages\\pandas\\core\\arraylike.py:396: RuntimeWarning: divide by zero encountered in log2\n",
      "  result = getattr(ufunc, method)(*inputs, **kwargs)\n",
      "C:\\Users\\elias\\Downloads\\DataScience1\\venv\\lib\\site-packages\\pandas\\core\\arraylike.py:396: RuntimeWarning: divide by zero encountered in log2\n",
      "  result = getattr(ufunc, method)(*inputs, **kwargs)\n",
      "C:\\Users\\elias\\Downloads\\DataScience1\\venv\\lib\\site-packages\\pandas\\core\\arraylike.py:396: RuntimeWarning: divide by zero encountered in log2\n",
      "  result = getattr(ufunc, method)(*inputs, **kwargs)\n",
      "C:\\Users\\elias\\Downloads\\DataScience1\\venv\\lib\\site-packages\\pandas\\core\\arraylike.py:396: RuntimeWarning: divide by zero encountered in log2\n",
      "  result = getattr(ufunc, method)(*inputs, **kwargs)\n",
      "C:\\Users\\elias\\Downloads\\DataScience1\\venv\\lib\\site-packages\\pandas\\core\\arraylike.py:396: RuntimeWarning: divide by zero encountered in log2\n",
      "  result = getattr(ufunc, method)(*inputs, **kwargs)\n",
      "C:\\Users\\elias\\Downloads\\DataScience1\\venv\\lib\\site-packages\\pandas\\core\\arraylike.py:396: RuntimeWarning: divide by zero encountered in log2\n",
      "  result = getattr(ufunc, method)(*inputs, **kwargs)\n",
      "C:\\Users\\elias\\Downloads\\DataScience1\\venv\\lib\\site-packages\\pandas\\core\\arraylike.py:396: RuntimeWarning: divide by zero encountered in log2\n",
      "  result = getattr(ufunc, method)(*inputs, **kwargs)\n",
      "C:\\Users\\elias\\Downloads\\DataScience1\\venv\\lib\\site-packages\\pandas\\core\\arraylike.py:396: RuntimeWarning: divide by zero encountered in log2\n",
      "  result = getattr(ufunc, method)(*inputs, **kwargs)\n",
      "C:\\Users\\elias\\Downloads\\DataScience1\\venv\\lib\\site-packages\\pandas\\core\\arraylike.py:396: RuntimeWarning: divide by zero encountered in log2\n",
      "  result = getattr(ufunc, method)(*inputs, **kwargs)\n",
      "C:\\Users\\elias\\Downloads\\DataScience1\\venv\\lib\\site-packages\\pandas\\core\\arraylike.py:396: RuntimeWarning: divide by zero encountered in log2\n",
      "  result = getattr(ufunc, method)(*inputs, **kwargs)\n",
      "C:\\Users\\elias\\Downloads\\DataScience1\\venv\\lib\\site-packages\\pandas\\core\\arraylike.py:396: RuntimeWarning: divide by zero encountered in log2\n",
      "  result = getattr(ufunc, method)(*inputs, **kwargs)\n",
      "C:\\Users\\elias\\Downloads\\DataScience1\\venv\\lib\\site-packages\\pandas\\core\\arraylike.py:396: RuntimeWarning: divide by zero encountered in log2\n",
      "  result = getattr(ufunc, method)(*inputs, **kwargs)\n",
      "C:\\Users\\elias\\Downloads\\DataScience1\\venv\\lib\\site-packages\\pandas\\core\\arraylike.py:396: RuntimeWarning: divide by zero encountered in log2\n",
      "  result = getattr(ufunc, method)(*inputs, **kwargs)\n",
      "C:\\Users\\elias\\Downloads\\DataScience1\\venv\\lib\\site-packages\\pandas\\core\\arraylike.py:396: RuntimeWarning: divide by zero encountered in log2\n",
      "  result = getattr(ufunc, method)(*inputs, **kwargs)\n",
      "C:\\Users\\elias\\Downloads\\DataScience1\\venv\\lib\\site-packages\\pandas\\core\\arraylike.py:396: RuntimeWarning: divide by zero encountered in log2\n",
      "  result = getattr(ufunc, method)(*inputs, **kwargs)\n",
      "C:\\Users\\elias\\Downloads\\DataScience1\\venv\\lib\\site-packages\\pandas\\core\\arraylike.py:396: RuntimeWarning: divide by zero encountered in log2\n",
      "  result = getattr(ufunc, method)(*inputs, **kwargs)\n",
      "C:\\Users\\elias\\Downloads\\DataScience1\\venv\\lib\\site-packages\\pandas\\core\\arraylike.py:396: RuntimeWarning: divide by zero encountered in log2\n",
      "  result = getattr(ufunc, method)(*inputs, **kwargs)\n",
      "C:\\Users\\elias\\Downloads\\DataScience1\\venv\\lib\\site-packages\\pandas\\core\\arraylike.py:396: RuntimeWarning: divide by zero encountered in log2\n",
      "  result = getattr(ufunc, method)(*inputs, **kwargs)\n",
      "C:\\Users\\elias\\Downloads\\DataScience1\\venv\\lib\\site-packages\\pandas\\core\\arraylike.py:396: RuntimeWarning: divide by zero encountered in log2\n",
      "  result = getattr(ufunc, method)(*inputs, **kwargs)\n",
      "C:\\Users\\elias\\Downloads\\DataScience1\\venv\\lib\\site-packages\\pandas\\core\\arraylike.py:396: RuntimeWarning: divide by zero encountered in log2\n",
      "  result = getattr(ufunc, method)(*inputs, **kwargs)\n",
      "C:\\Users\\elias\\Downloads\\DataScience1\\venv\\lib\\site-packages\\pandas\\core\\arraylike.py:396: RuntimeWarning: divide by zero encountered in log2\n",
      "  result = getattr(ufunc, method)(*inputs, **kwargs)\n",
      "C:\\Users\\elias\\Downloads\\DataScience1\\venv\\lib\\site-packages\\pandas\\core\\arraylike.py:396: RuntimeWarning: divide by zero encountered in log2\n",
      "  result = getattr(ufunc, method)(*inputs, **kwargs)\n",
      "C:\\Users\\elias\\Downloads\\DataScience1\\venv\\lib\\site-packages\\pandas\\core\\arraylike.py:396: RuntimeWarning: divide by zero encountered in log2\n",
      "  result = getattr(ufunc, method)(*inputs, **kwargs)\n",
      "C:\\Users\\elias\\Downloads\\DataScience1\\venv\\lib\\site-packages\\pandas\\core\\arraylike.py:396: RuntimeWarning: divide by zero encountered in log2\n",
      "  result = getattr(ufunc, method)(*inputs, **kwargs)\n",
      "C:\\Users\\elias\\Downloads\\DataScience1\\venv\\lib\\site-packages\\pandas\\core\\arraylike.py:396: RuntimeWarning: divide by zero encountered in log2\n",
      "  result = getattr(ufunc, method)(*inputs, **kwargs)\n",
      "C:\\Users\\elias\\Downloads\\DataScience1\\venv\\lib\\site-packages\\pandas\\core\\arraylike.py:396: RuntimeWarning: divide by zero encountered in log2\n",
      "  result = getattr(ufunc, method)(*inputs, **kwargs)\n",
      "C:\\Users\\elias\\Downloads\\DataScience1\\venv\\lib\\site-packages\\pandas\\core\\arraylike.py:396: RuntimeWarning: divide by zero encountered in log2\n",
      "  result = getattr(ufunc, method)(*inputs, **kwargs)\n",
      "C:\\Users\\elias\\Downloads\\DataScience1\\venv\\lib\\site-packages\\pandas\\core\\arraylike.py:396: RuntimeWarning: divide by zero encountered in log2\n",
      "  result = getattr(ufunc, method)(*inputs, **kwargs)\n",
      "C:\\Users\\elias\\Downloads\\DataScience1\\venv\\lib\\site-packages\\pandas\\core\\arraylike.py:396: RuntimeWarning: divide by zero encountered in log2\n",
      "  result = getattr(ufunc, method)(*inputs, **kwargs)\n",
      "C:\\Users\\elias\\Downloads\\DataScience1\\venv\\lib\\site-packages\\pandas\\core\\arraylike.py:396: RuntimeWarning: divide by zero encountered in log2\n",
      "  result = getattr(ufunc, method)(*inputs, **kwargs)\n",
      "C:\\Users\\elias\\Downloads\\DataScience1\\venv\\lib\\site-packages\\pandas\\core\\arraylike.py:396: RuntimeWarning: divide by zero encountered in log2\n",
      "  result = getattr(ufunc, method)(*inputs, **kwargs)\n",
      "C:\\Users\\elias\\Downloads\\DataScience1\\venv\\lib\\site-packages\\pandas\\core\\arraylike.py:396: RuntimeWarning: divide by zero encountered in log2\n",
      "  result = getattr(ufunc, method)(*inputs, **kwargs)\n",
      "C:\\Users\\elias\\Downloads\\DataScience1\\venv\\lib\\site-packages\\pandas\\core\\arraylike.py:396: RuntimeWarning: divide by zero encountered in log2\n",
      "  result = getattr(ufunc, method)(*inputs, **kwargs)\n",
      "C:\\Users\\elias\\Downloads\\DataScience1\\venv\\lib\\site-packages\\pandas\\core\\arraylike.py:396: RuntimeWarning: divide by zero encountered in log2\n",
      "  result = getattr(ufunc, method)(*inputs, **kwargs)\n",
      "C:\\Users\\elias\\Downloads\\DataScience1\\venv\\lib\\site-packages\\pandas\\core\\arraylike.py:396: RuntimeWarning: divide by zero encountered in log2\n",
      "  result = getattr(ufunc, method)(*inputs, **kwargs)\n",
      "C:\\Users\\elias\\Downloads\\DataScience1\\venv\\lib\\site-packages\\pandas\\core\\arraylike.py:396: RuntimeWarning: divide by zero encountered in log2\n",
      "  result = getattr(ufunc, method)(*inputs, **kwargs)\n",
      "C:\\Users\\elias\\Downloads\\DataScience1\\venv\\lib\\site-packages\\pandas\\core\\arraylike.py:396: RuntimeWarning: divide by zero encountered in log2\n",
      "  result = getattr(ufunc, method)(*inputs, **kwargs)\n",
      "C:\\Users\\elias\\Downloads\\DataScience1\\venv\\lib\\site-packages\\pandas\\core\\arraylike.py:396: RuntimeWarning: divide by zero encountered in log2\n",
      "  result = getattr(ufunc, method)(*inputs, **kwargs)\n",
      "C:\\Users\\elias\\Downloads\\DataScience1\\venv\\lib\\site-packages\\pandas\\core\\arraylike.py:396: RuntimeWarning: divide by zero encountered in log2\n",
      "  result = getattr(ufunc, method)(*inputs, **kwargs)\n",
      "C:\\Users\\elias\\Downloads\\DataScience1\\venv\\lib\\site-packages\\pandas\\core\\arraylike.py:396: RuntimeWarning: divide by zero encountered in log2\n",
      "  result = getattr(ufunc, method)(*inputs, **kwargs)\n",
      "C:\\Users\\elias\\Downloads\\DataScience1\\venv\\lib\\site-packages\\pandas\\core\\arraylike.py:396: RuntimeWarning: divide by zero encountered in log2\n",
      "  result = getattr(ufunc, method)(*inputs, **kwargs)\n",
      "C:\\Users\\elias\\Downloads\\DataScience1\\venv\\lib\\site-packages\\pandas\\core\\arraylike.py:396: RuntimeWarning: divide by zero encountered in log2\n",
      "  result = getattr(ufunc, method)(*inputs, **kwargs)\n",
      "C:\\Users\\elias\\Downloads\\DataScience1\\venv\\lib\\site-packages\\pandas\\core\\arraylike.py:396: RuntimeWarning: divide by zero encountered in log2\n",
      "  result = getattr(ufunc, method)(*inputs, **kwargs)\n",
      "C:\\Users\\elias\\Downloads\\DataScience1\\venv\\lib\\site-packages\\pandas\\core\\arraylike.py:396: RuntimeWarning: divide by zero encountered in log2\n",
      "  result = getattr(ufunc, method)(*inputs, **kwargs)\n",
      "C:\\Users\\elias\\Downloads\\DataScience1\\venv\\lib\\site-packages\\pandas\\core\\arraylike.py:396: RuntimeWarning: divide by zero encountered in log2\n",
      "  result = getattr(ufunc, method)(*inputs, **kwargs)\n",
      "C:\\Users\\elias\\Downloads\\DataScience1\\venv\\lib\\site-packages\\pandas\\core\\arraylike.py:396: RuntimeWarning: divide by zero encountered in log2\n",
      "  result = getattr(ufunc, method)(*inputs, **kwargs)\n",
      "C:\\Users\\elias\\Downloads\\DataScience1\\venv\\lib\\site-packages\\pandas\\core\\arraylike.py:396: RuntimeWarning: divide by zero encountered in log2\n",
      "  result = getattr(ufunc, method)(*inputs, **kwargs)\n",
      "C:\\Users\\elias\\Downloads\\DataScience1\\venv\\lib\\site-packages\\pandas\\core\\arraylike.py:396: RuntimeWarning: divide by zero encountered in log2\n",
      "  result = getattr(ufunc, method)(*inputs, **kwargs)\n",
      "C:\\Users\\elias\\Downloads\\DataScience1\\venv\\lib\\site-packages\\pandas\\core\\arraylike.py:396: RuntimeWarning: divide by zero encountered in log2\n",
      "  result = getattr(ufunc, method)(*inputs, **kwargs)\n",
      "C:\\Users\\elias\\Downloads\\DataScience1\\venv\\lib\\site-packages\\pandas\\core\\arraylike.py:396: RuntimeWarning: divide by zero encountered in log2\n",
      "  result = getattr(ufunc, method)(*inputs, **kwargs)\n",
      "C:\\Users\\elias\\Downloads\\DataScience1\\venv\\lib\\site-packages\\pandas\\core\\arraylike.py:396: RuntimeWarning: divide by zero encountered in log2\n",
      "  result = getattr(ufunc, method)(*inputs, **kwargs)\n",
      "C:\\Users\\elias\\Downloads\\DataScience1\\venv\\lib\\site-packages\\pandas\\core\\arraylike.py:396: RuntimeWarning: divide by zero encountered in log2\n",
      "  result = getattr(ufunc, method)(*inputs, **kwargs)\n",
      "C:\\Users\\elias\\Downloads\\DataScience1\\venv\\lib\\site-packages\\pandas\\core\\arraylike.py:396: RuntimeWarning: divide by zero encountered in log2\n",
      "  result = getattr(ufunc, method)(*inputs, **kwargs)\n",
      "C:\\Users\\elias\\Downloads\\DataScience1\\venv\\lib\\site-packages\\pandas\\core\\arraylike.py:396: RuntimeWarning: divide by zero encountered in log2\n",
      "  result = getattr(ufunc, method)(*inputs, **kwargs)\n",
      "C:\\Users\\elias\\Downloads\\DataScience1\\venv\\lib\\site-packages\\pandas\\core\\arraylike.py:396: RuntimeWarning: divide by zero encountered in log2\n",
      "  result = getattr(ufunc, method)(*inputs, **kwargs)\n",
      "C:\\Users\\elias\\Downloads\\DataScience1\\venv\\lib\\site-packages\\pandas\\core\\arraylike.py:396: RuntimeWarning: divide by zero encountered in log2\n",
      "  result = getattr(ufunc, method)(*inputs, **kwargs)\n",
      "C:\\Users\\elias\\Downloads\\DataScience1\\venv\\lib\\site-packages\\pandas\\core\\arraylike.py:396: RuntimeWarning: divide by zero encountered in log2\n",
      "  result = getattr(ufunc, method)(*inputs, **kwargs)\n",
      "C:\\Users\\elias\\Downloads\\DataScience1\\venv\\lib\\site-packages\\pandas\\core\\arraylike.py:396: RuntimeWarning: divide by zero encountered in log2\n",
      "  result = getattr(ufunc, method)(*inputs, **kwargs)\n",
      "C:\\Users\\elias\\Downloads\\DataScience1\\venv\\lib\\site-packages\\pandas\\core\\arraylike.py:396: RuntimeWarning: divide by zero encountered in log2\n",
      "  result = getattr(ufunc, method)(*inputs, **kwargs)\n",
      "C:\\Users\\elias\\Downloads\\DataScience1\\venv\\lib\\site-packages\\pandas\\core\\arraylike.py:396: RuntimeWarning: divide by zero encountered in log2\n",
      "  result = getattr(ufunc, method)(*inputs, **kwargs)\n",
      "C:\\Users\\elias\\Downloads\\DataScience1\\venv\\lib\\site-packages\\pandas\\core\\arraylike.py:396: RuntimeWarning: divide by zero encountered in log2\n",
      "  result = getattr(ufunc, method)(*inputs, **kwargs)\n",
      "C:\\Users\\elias\\Downloads\\DataScience1\\venv\\lib\\site-packages\\pandas\\core\\arraylike.py:396: RuntimeWarning: divide by zero encountered in log2\n",
      "  result = getattr(ufunc, method)(*inputs, **kwargs)\n",
      "C:\\Users\\elias\\Downloads\\DataScience1\\venv\\lib\\site-packages\\pandas\\core\\arraylike.py:396: RuntimeWarning: divide by zero encountered in log2\n",
      "  result = getattr(ufunc, method)(*inputs, **kwargs)\n",
      "C:\\Users\\elias\\Downloads\\DataScience1\\venv\\lib\\site-packages\\pandas\\core\\arraylike.py:396: RuntimeWarning: divide by zero encountered in log2\n",
      "  result = getattr(ufunc, method)(*inputs, **kwargs)\n",
      "C:\\Users\\elias\\Downloads\\DataScience1\\venv\\lib\\site-packages\\pandas\\core\\arraylike.py:396: RuntimeWarning: divide by zero encountered in log2\n",
      "  result = getattr(ufunc, method)(*inputs, **kwargs)\n",
      "C:\\Users\\elias\\Downloads\\DataScience1\\venv\\lib\\site-packages\\pandas\\core\\arraylike.py:396: RuntimeWarning: divide by zero encountered in log2\n",
      "  result = getattr(ufunc, method)(*inputs, **kwargs)\n",
      "C:\\Users\\elias\\Downloads\\DataScience1\\venv\\lib\\site-packages\\pandas\\core\\arraylike.py:396: RuntimeWarning: divide by zero encountered in log2\n",
      "  result = getattr(ufunc, method)(*inputs, **kwargs)\n",
      "C:\\Users\\elias\\Downloads\\DataScience1\\venv\\lib\\site-packages\\pandas\\core\\arraylike.py:396: RuntimeWarning: divide by zero encountered in log2\n",
      "  result = getattr(ufunc, method)(*inputs, **kwargs)\n",
      "C:\\Users\\elias\\Downloads\\DataScience1\\venv\\lib\\site-packages\\pandas\\core\\arraylike.py:396: RuntimeWarning: divide by zero encountered in log2\n",
      "  result = getattr(ufunc, method)(*inputs, **kwargs)\n",
      "C:\\Users\\elias\\Downloads\\DataScience1\\venv\\lib\\site-packages\\pandas\\core\\arraylike.py:396: RuntimeWarning: divide by zero encountered in log2\n",
      "  result = getattr(ufunc, method)(*inputs, **kwargs)\n",
      "C:\\Users\\elias\\Downloads\\DataScience1\\venv\\lib\\site-packages\\pandas\\core\\arraylike.py:396: RuntimeWarning: divide by zero encountered in log2\n",
      "  result = getattr(ufunc, method)(*inputs, **kwargs)\n",
      "C:\\Users\\elias\\Downloads\\DataScience1\\venv\\lib\\site-packages\\pandas\\core\\arraylike.py:396: RuntimeWarning: divide by zero encountered in log2\n",
      "  result = getattr(ufunc, method)(*inputs, **kwargs)\n",
      "C:\\Users\\elias\\Downloads\\DataScience1\\venv\\lib\\site-packages\\pandas\\core\\arraylike.py:396: RuntimeWarning: divide by zero encountered in log2\n",
      "  result = getattr(ufunc, method)(*inputs, **kwargs)\n",
      "C:\\Users\\elias\\Downloads\\DataScience1\\venv\\lib\\site-packages\\pandas\\core\\arraylike.py:396: RuntimeWarning: divide by zero encountered in log2\n",
      "  result = getattr(ufunc, method)(*inputs, **kwargs)\n",
      "C:\\Users\\elias\\Downloads\\DataScience1\\venv\\lib\\site-packages\\pandas\\core\\arraylike.py:396: RuntimeWarning: divide by zero encountered in log2\n",
      "  result = getattr(ufunc, method)(*inputs, **kwargs)\n",
      "C:\\Users\\elias\\Downloads\\DataScience1\\venv\\lib\\site-packages\\pandas\\core\\arraylike.py:396: RuntimeWarning: divide by zero encountered in log2\n",
      "  result = getattr(ufunc, method)(*inputs, **kwargs)\n",
      "C:\\Users\\elias\\Downloads\\DataScience1\\venv\\lib\\site-packages\\pandas\\core\\arraylike.py:396: RuntimeWarning: divide by zero encountered in log2\n",
      "  result = getattr(ufunc, method)(*inputs, **kwargs)\n",
      "C:\\Users\\elias\\Downloads\\DataScience1\\venv\\lib\\site-packages\\pandas\\core\\arraylike.py:396: RuntimeWarning: divide by zero encountered in log2\n",
      "  result = getattr(ufunc, method)(*inputs, **kwargs)\n",
      "C:\\Users\\elias\\Downloads\\DataScience1\\venv\\lib\\site-packages\\pandas\\core\\arraylike.py:396: RuntimeWarning: divide by zero encountered in log2\n",
      "  result = getattr(ufunc, method)(*inputs, **kwargs)\n",
      "C:\\Users\\elias\\Downloads\\DataScience1\\venv\\lib\\site-packages\\pandas\\core\\arraylike.py:396: RuntimeWarning: divide by zero encountered in log2\n",
      "  result = getattr(ufunc, method)(*inputs, **kwargs)\n",
      "C:\\Users\\elias\\Downloads\\DataScience1\\venv\\lib\\site-packages\\pandas\\core\\arraylike.py:396: RuntimeWarning: divide by zero encountered in log2\n",
      "  result = getattr(ufunc, method)(*inputs, **kwargs)\n",
      "C:\\Users\\elias\\Downloads\\DataScience1\\venv\\lib\\site-packages\\pandas\\core\\arraylike.py:396: RuntimeWarning: divide by zero encountered in log2\n",
      "  result = getattr(ufunc, method)(*inputs, **kwargs)\n",
      "C:\\Users\\elias\\Downloads\\DataScience1\\venv\\lib\\site-packages\\pandas\\core\\arraylike.py:396: RuntimeWarning: divide by zero encountered in log2\n",
      "  result = getattr(ufunc, method)(*inputs, **kwargs)\n",
      "C:\\Users\\elias\\Downloads\\DataScience1\\venv\\lib\\site-packages\\pandas\\core\\arraylike.py:396: RuntimeWarning: divide by zero encountered in log2\n",
      "  result = getattr(ufunc, method)(*inputs, **kwargs)\n",
      "C:\\Users\\elias\\Downloads\\DataScience1\\venv\\lib\\site-packages\\pandas\\core\\arraylike.py:396: RuntimeWarning: divide by zero encountered in log2\n",
      "  result = getattr(ufunc, method)(*inputs, **kwargs)\n",
      "C:\\Users\\elias\\Downloads\\DataScience1\\venv\\lib\\site-packages\\pandas\\core\\arraylike.py:396: RuntimeWarning: divide by zero encountered in log2\n",
      "  result = getattr(ufunc, method)(*inputs, **kwargs)\n",
      "C:\\Users\\elias\\Downloads\\DataScience1\\venv\\lib\\site-packages\\pandas\\core\\arraylike.py:396: RuntimeWarning: divide by zero encountered in log2\n",
      "  result = getattr(ufunc, method)(*inputs, **kwargs)\n",
      "C:\\Users\\elias\\Downloads\\DataScience1\\venv\\lib\\site-packages\\pandas\\core\\arraylike.py:396: RuntimeWarning: divide by zero encountered in log2\n",
      "  result = getattr(ufunc, method)(*inputs, **kwargs)\n",
      "C:\\Users\\elias\\Downloads\\DataScience1\\venv\\lib\\site-packages\\pandas\\core\\arraylike.py:396: RuntimeWarning: divide by zero encountered in log2\n",
      "  result = getattr(ufunc, method)(*inputs, **kwargs)\n",
      "C:\\Users\\elias\\Downloads\\DataScience1\\venv\\lib\\site-packages\\pandas\\core\\arraylike.py:396: RuntimeWarning: divide by zero encountered in log2\n",
      "  result = getattr(ufunc, method)(*inputs, **kwargs)\n",
      "C:\\Users\\elias\\Downloads\\DataScience1\\venv\\lib\\site-packages\\pandas\\core\\arraylike.py:396: RuntimeWarning: divide by zero encountered in log2\n",
      "  result = getattr(ufunc, method)(*inputs, **kwargs)\n",
      "C:\\Users\\elias\\Downloads\\DataScience1\\venv\\lib\\site-packages\\pandas\\core\\arraylike.py:396: RuntimeWarning: divide by zero encountered in log2\n",
      "  result = getattr(ufunc, method)(*inputs, **kwargs)\n",
      "C:\\Users\\elias\\Downloads\\DataScience1\\venv\\lib\\site-packages\\pandas\\core\\arraylike.py:396: RuntimeWarning: divide by zero encountered in log2\n",
      "  result = getattr(ufunc, method)(*inputs, **kwargs)\n",
      "C:\\Users\\elias\\Downloads\\DataScience1\\venv\\lib\\site-packages\\pandas\\core\\arraylike.py:396: RuntimeWarning: divide by zero encountered in log2\n",
      "  result = getattr(ufunc, method)(*inputs, **kwargs)\n",
      "C:\\Users\\elias\\Downloads\\DataScience1\\venv\\lib\\site-packages\\pandas\\core\\arraylike.py:396: RuntimeWarning: divide by zero encountered in log2\n",
      "  result = getattr(ufunc, method)(*inputs, **kwargs)\n",
      "C:\\Users\\elias\\Downloads\\DataScience1\\venv\\lib\\site-packages\\pandas\\core\\arraylike.py:396: RuntimeWarning: divide by zero encountered in log2\n",
      "  result = getattr(ufunc, method)(*inputs, **kwargs)\n",
      "C:\\Users\\elias\\Downloads\\DataScience1\\venv\\lib\\site-packages\\pandas\\core\\arraylike.py:396: RuntimeWarning: divide by zero encountered in log2\n",
      "  result = getattr(ufunc, method)(*inputs, **kwargs)\n",
      "C:\\Users\\elias\\Downloads\\DataScience1\\venv\\lib\\site-packages\\pandas\\core\\arraylike.py:396: RuntimeWarning: divide by zero encountered in log2\n",
      "  result = getattr(ufunc, method)(*inputs, **kwargs)\n",
      "C:\\Users\\elias\\Downloads\\DataScience1\\venv\\lib\\site-packages\\pandas\\core\\arraylike.py:396: RuntimeWarning: divide by zero encountered in log2\n",
      "  result = getattr(ufunc, method)(*inputs, **kwargs)\n",
      "C:\\Users\\elias\\Downloads\\DataScience1\\venv\\lib\\site-packages\\pandas\\core\\arraylike.py:396: RuntimeWarning: divide by zero encountered in log2\n",
      "  result = getattr(ufunc, method)(*inputs, **kwargs)\n",
      "C:\\Users\\elias\\Downloads\\DataScience1\\venv\\lib\\site-packages\\pandas\\core\\arraylike.py:396: RuntimeWarning: divide by zero encountered in log2\n",
      "  result = getattr(ufunc, method)(*inputs, **kwargs)\n",
      "C:\\Users\\elias\\Downloads\\DataScience1\\venv\\lib\\site-packages\\pandas\\core\\arraylike.py:396: RuntimeWarning: divide by zero encountered in log2\n",
      "  result = getattr(ufunc, method)(*inputs, **kwargs)\n",
      "C:\\Users\\elias\\Downloads\\DataScience1\\venv\\lib\\site-packages\\pandas\\core\\arraylike.py:396: RuntimeWarning: divide by zero encountered in log2\n",
      "  result = getattr(ufunc, method)(*inputs, **kwargs)\n",
      "C:\\Users\\elias\\Downloads\\DataScience1\\venv\\lib\\site-packages\\pandas\\core\\arraylike.py:396: RuntimeWarning: divide by zero encountered in log2\n",
      "  result = getattr(ufunc, method)(*inputs, **kwargs)\n",
      "C:\\Users\\elias\\Downloads\\DataScience1\\venv\\lib\\site-packages\\pandas\\core\\arraylike.py:396: RuntimeWarning: divide by zero encountered in log2\n",
      "  result = getattr(ufunc, method)(*inputs, **kwargs)\n",
      "C:\\Users\\elias\\Downloads\\DataScience1\\venv\\lib\\site-packages\\pandas\\core\\arraylike.py:396: RuntimeWarning: divide by zero encountered in log2\n",
      "  result = getattr(ufunc, method)(*inputs, **kwargs)\n",
      "C:\\Users\\elias\\Downloads\\DataScience1\\venv\\lib\\site-packages\\pandas\\core\\arraylike.py:396: RuntimeWarning: divide by zero encountered in log2\n",
      "  result = getattr(ufunc, method)(*inputs, **kwargs)\n",
      "C:\\Users\\elias\\Downloads\\DataScience1\\venv\\lib\\site-packages\\pandas\\core\\arraylike.py:396: RuntimeWarning: divide by zero encountered in log2\n",
      "  result = getattr(ufunc, method)(*inputs, **kwargs)\n",
      "C:\\Users\\elias\\Downloads\\DataScience1\\venv\\lib\\site-packages\\pandas\\core\\arraylike.py:396: RuntimeWarning: divide by zero encountered in log2\n",
      "  result = getattr(ufunc, method)(*inputs, **kwargs)\n",
      "C:\\Users\\elias\\Downloads\\DataScience1\\venv\\lib\\site-packages\\pandas\\core\\arraylike.py:396: RuntimeWarning: divide by zero encountered in log2\n",
      "  result = getattr(ufunc, method)(*inputs, **kwargs)\n",
      "C:\\Users\\elias\\Downloads\\DataScience1\\venv\\lib\\site-packages\\pandas\\core\\arraylike.py:396: RuntimeWarning: divide by zero encountered in log2\n",
      "  result = getattr(ufunc, method)(*inputs, **kwargs)\n",
      "C:\\Users\\elias\\Downloads\\DataScience1\\venv\\lib\\site-packages\\pandas\\core\\arraylike.py:396: RuntimeWarning: divide by zero encountered in log2\n",
      "  result = getattr(ufunc, method)(*inputs, **kwargs)\n"
     ]
    },
    {
     "name": "stdout",
     "output_type": "stream",
     "text": [
      "1.3059524812806642\n",
      "1.2726191479473308\n",
      "1.3059524812806642\n",
      "1.2726191479473308\n",
      "0.12740725854983115\n",
      "0.045291845666193264\n",
      "0.07842940493874684\n",
      "1.3059524812806642\n"
     ]
    },
    {
     "name": "stderr",
     "output_type": "stream",
     "text": [
      "C:\\Users\\elias\\Downloads\\DataScience1\\venv\\lib\\site-packages\\pandas\\core\\arraylike.py:396: RuntimeWarning: divide by zero encountered in log2\n",
      "  result = getattr(ufunc, method)(*inputs, **kwargs)\n",
      "C:\\Users\\elias\\Downloads\\DataScience1\\venv\\lib\\site-packages\\pandas\\core\\arraylike.py:396: RuntimeWarning: divide by zero encountered in log2\n",
      "  result = getattr(ufunc, method)(*inputs, **kwargs)\n",
      "C:\\Users\\elias\\Downloads\\DataScience1\\venv\\lib\\site-packages\\pandas\\core\\arraylike.py:396: RuntimeWarning: divide by zero encountered in log2\n",
      "  result = getattr(ufunc, method)(*inputs, **kwargs)\n",
      "C:\\Users\\elias\\Downloads\\DataScience1\\venv\\lib\\site-packages\\pandas\\core\\arraylike.py:396: RuntimeWarning: divide by zero encountered in log2\n",
      "  result = getattr(ufunc, method)(*inputs, **kwargs)\n",
      "C:\\Users\\elias\\Downloads\\DataScience1\\venv\\lib\\site-packages\\pandas\\core\\arraylike.py:396: RuntimeWarning: divide by zero encountered in log2\n",
      "  result = getattr(ufunc, method)(*inputs, **kwargs)\n",
      "C:\\Users\\elias\\Downloads\\DataScience1\\venv\\lib\\site-packages\\pandas\\core\\arraylike.py:396: RuntimeWarning: divide by zero encountered in log2\n",
      "  result = getattr(ufunc, method)(*inputs, **kwargs)\n"
     ]
    }
   ],
   "source": [
    "# a)\n",
    "E_ouder = entropy(examen.grootte)\n",
    "print('Entropy, E(S) =', E_ouder)\n",
    "print(\"\\n\")\n",
    "E_ouder = examen2.apply(entropy)\n",
    "print(E_ouder)\n",
    "# e(tabel) = soma(x) -(p/n) * log^2(p/n)\n",
    "# -(vc * np.log(vc) / np.log(base)).sum()\n",
    "\n",
    "# b) | c)\n",
    "IG_lengte = information_gain(examen, 'lengte', 'grootte')\n",
    "IG_oplaadtijde = information_gain(examen, 'oplaadtijd', 'grootte')\n",
    "IG_concentratie = information_gain(examen, 'concentratie', 'grootte')\n",
    "IG_beltijd = information_gain(examen, 'beltijd', 'grootte')\n",
    "IG_tevredenheid = information_gain(examen, 'tevredenheid', 'grootte')\n",
    "IG_belangrijkheid = information_gain(examen, 'belangrijkheid', 'grootte')\n",
    "IG_behaalde_graad = information_gain(examen, 'behaalde_graad', 'grootte')\n",
    "IG_saldo = information_gain(examen, 'saldo', 'grootte')\n",
    "\n",
    "print(IG_lengte)\n",
    "print(IG_oplaadtijde)\n",
    "print(IG_concentratie)\n",
    "print(IG_beltijd)\n",
    "print(IG_tevredenheid)\n",
    "print(IG_belangrijkheid)\n",
    "print(IG_behaalde_graad)\n",
    "print(IG_saldo)\n",
    "\n",
    "# d)\n",
    "\n",
    "\n",
    "# e)\n",
    "\n",
    "\n",
    "# f)\n",
    "\n"
   ],
   "metadata": {
    "collapsed": false,
    "ExecuteTime": {
     "end_time": "2023-06-13T09:13:06.703560100Z",
     "start_time": "2023-06-13T09:13:06.085569600Z"
    }
   }
  },
  {
   "cell_type": "markdown",
   "source": [
    "## Vraag 5"
   ],
   "metadata": {
    "collapsed": false
   }
  },
  {
   "cell_type": "markdown",
   "source": [
    "antwoorden:\n",
    "a) **175.30**\n",
    "b) **20**\n",
    "c) **20**\n"
   ],
   "metadata": {
    "collapsed": false
   }
  },
  {
   "cell_type": "code",
   "execution_count": 69,
   "outputs": [
    {
     "data": {
      "text/plain": "     bedrag  lengte    saldo\n0   1556.30   194.4   -71.26\n1   1339.01   172.1    95.40\n2   1480.33   160.6  -162.92\n3   1736.86   178.1     9.92\n4   1802.29   160.9   214.24\n5   1606.87   178.0  -108.81\n6   1471.27   174.2   137.52\n7   1619.80   184.8     6.00\n8   1599.27   173.3    54.19\n9   1601.39   159.1   216.55\n10  1481.91   185.9   134.16\n11  1414.51   167.2   293.79\n12  1556.78   182.3    47.39\n13  1632.51   205.1   221.91\n14  1280.24   157.7   385.00\n15  1596.62   200.4    96.59\n16  1578.66   173.0   305.54\n17  1550.21   205.7   194.25\n18  1500.50   150.0   230.48\n19  1203.88   162.0   429.27\n20  1516.40   178.5   311.72\n21  1715.59   181.1   484.82\n22  1564.50   195.7   235.07\n23  1028.11   182.2   402.86\n24  1588.99   178.4   609.60\n25  1651.27   195.4   299.90\n26  1328.63   182.6   515.87\n27  1535.81   165.7   375.34\n28  1362.34   142.2   419.42\n29  1620.84   199.3   637.14\n30  1532.42   141.1   526.75\n31  1682.81   196.6   689.11\n32  1569.28   191.9   410.66\n33  1288.64   153.9   579.09\n34  1446.78   177.5   794.23\n35  1674.10   134.0   458.18\n36  1141.93   180.7   709.73\n37  1866.36   201.5   579.25\n38  1712.46   175.0   616.71\n39  1569.05   182.6   802.72\n40  1409.03   180.2   696.42\n41  1691.68   146.3   891.28\n42  1645.59   187.7   613.52\n43  1616.08   188.7   779.93\n44  1653.08   183.4   963.26\n45  1582.37   169.9   683.33\n46  1475.53   170.6   914.09\n47  1574.02   147.4   770.62\n48  1657.30   173.8   808.57\n49  1452.47   189.9   988.62\n50  1516.60   179.8   888.52\n51  1611.41   206.7  1062.25\n52  1561.25   176.8   800.62\n53  1499.50   186.7   975.39\n54  1457.33   135.8  1184.16\n55  1748.46   185.0   872.36\n56  1615.28   162.1  1056.62\n57  1661.89   165.3   944.43\n58  1702.01   187.5   999.77\n59  1428.61   181.5  1178.89",
      "text/html": "<div>\n<style scoped>\n    .dataframe tbody tr th:only-of-type {\n        vertical-align: middle;\n    }\n\n    .dataframe tbody tr th {\n        vertical-align: top;\n    }\n\n    .dataframe thead th {\n        text-align: right;\n    }\n</style>\n<table border=\"1\" class=\"dataframe\">\n  <thead>\n    <tr style=\"text-align: right;\">\n      <th></th>\n      <th>bedrag</th>\n      <th>lengte</th>\n      <th>saldo</th>\n    </tr>\n  </thead>\n  <tbody>\n    <tr>\n      <th>0</th>\n      <td>1556.30</td>\n      <td>194.4</td>\n      <td>-71.26</td>\n    </tr>\n    <tr>\n      <th>1</th>\n      <td>1339.01</td>\n      <td>172.1</td>\n      <td>95.40</td>\n    </tr>\n    <tr>\n      <th>2</th>\n      <td>1480.33</td>\n      <td>160.6</td>\n      <td>-162.92</td>\n    </tr>\n    <tr>\n      <th>3</th>\n      <td>1736.86</td>\n      <td>178.1</td>\n      <td>9.92</td>\n    </tr>\n    <tr>\n      <th>4</th>\n      <td>1802.29</td>\n      <td>160.9</td>\n      <td>214.24</td>\n    </tr>\n    <tr>\n      <th>5</th>\n      <td>1606.87</td>\n      <td>178.0</td>\n      <td>-108.81</td>\n    </tr>\n    <tr>\n      <th>6</th>\n      <td>1471.27</td>\n      <td>174.2</td>\n      <td>137.52</td>\n    </tr>\n    <tr>\n      <th>7</th>\n      <td>1619.80</td>\n      <td>184.8</td>\n      <td>6.00</td>\n    </tr>\n    <tr>\n      <th>8</th>\n      <td>1599.27</td>\n      <td>173.3</td>\n      <td>54.19</td>\n    </tr>\n    <tr>\n      <th>9</th>\n      <td>1601.39</td>\n      <td>159.1</td>\n      <td>216.55</td>\n    </tr>\n    <tr>\n      <th>10</th>\n      <td>1481.91</td>\n      <td>185.9</td>\n      <td>134.16</td>\n    </tr>\n    <tr>\n      <th>11</th>\n      <td>1414.51</td>\n      <td>167.2</td>\n      <td>293.79</td>\n    </tr>\n    <tr>\n      <th>12</th>\n      <td>1556.78</td>\n      <td>182.3</td>\n      <td>47.39</td>\n    </tr>\n    <tr>\n      <th>13</th>\n      <td>1632.51</td>\n      <td>205.1</td>\n      <td>221.91</td>\n    </tr>\n    <tr>\n      <th>14</th>\n      <td>1280.24</td>\n      <td>157.7</td>\n      <td>385.00</td>\n    </tr>\n    <tr>\n      <th>15</th>\n      <td>1596.62</td>\n      <td>200.4</td>\n      <td>96.59</td>\n    </tr>\n    <tr>\n      <th>16</th>\n      <td>1578.66</td>\n      <td>173.0</td>\n      <td>305.54</td>\n    </tr>\n    <tr>\n      <th>17</th>\n      <td>1550.21</td>\n      <td>205.7</td>\n      <td>194.25</td>\n    </tr>\n    <tr>\n      <th>18</th>\n      <td>1500.50</td>\n      <td>150.0</td>\n      <td>230.48</td>\n    </tr>\n    <tr>\n      <th>19</th>\n      <td>1203.88</td>\n      <td>162.0</td>\n      <td>429.27</td>\n    </tr>\n    <tr>\n      <th>20</th>\n      <td>1516.40</td>\n      <td>178.5</td>\n      <td>311.72</td>\n    </tr>\n    <tr>\n      <th>21</th>\n      <td>1715.59</td>\n      <td>181.1</td>\n      <td>484.82</td>\n    </tr>\n    <tr>\n      <th>22</th>\n      <td>1564.50</td>\n      <td>195.7</td>\n      <td>235.07</td>\n    </tr>\n    <tr>\n      <th>23</th>\n      <td>1028.11</td>\n      <td>182.2</td>\n      <td>402.86</td>\n    </tr>\n    <tr>\n      <th>24</th>\n      <td>1588.99</td>\n      <td>178.4</td>\n      <td>609.60</td>\n    </tr>\n    <tr>\n      <th>25</th>\n      <td>1651.27</td>\n      <td>195.4</td>\n      <td>299.90</td>\n    </tr>\n    <tr>\n      <th>26</th>\n      <td>1328.63</td>\n      <td>182.6</td>\n      <td>515.87</td>\n    </tr>\n    <tr>\n      <th>27</th>\n      <td>1535.81</td>\n      <td>165.7</td>\n      <td>375.34</td>\n    </tr>\n    <tr>\n      <th>28</th>\n      <td>1362.34</td>\n      <td>142.2</td>\n      <td>419.42</td>\n    </tr>\n    <tr>\n      <th>29</th>\n      <td>1620.84</td>\n      <td>199.3</td>\n      <td>637.14</td>\n    </tr>\n    <tr>\n      <th>30</th>\n      <td>1532.42</td>\n      <td>141.1</td>\n      <td>526.75</td>\n    </tr>\n    <tr>\n      <th>31</th>\n      <td>1682.81</td>\n      <td>196.6</td>\n      <td>689.11</td>\n    </tr>\n    <tr>\n      <th>32</th>\n      <td>1569.28</td>\n      <td>191.9</td>\n      <td>410.66</td>\n    </tr>\n    <tr>\n      <th>33</th>\n      <td>1288.64</td>\n      <td>153.9</td>\n      <td>579.09</td>\n    </tr>\n    <tr>\n      <th>34</th>\n      <td>1446.78</td>\n      <td>177.5</td>\n      <td>794.23</td>\n    </tr>\n    <tr>\n      <th>35</th>\n      <td>1674.10</td>\n      <td>134.0</td>\n      <td>458.18</td>\n    </tr>\n    <tr>\n      <th>36</th>\n      <td>1141.93</td>\n      <td>180.7</td>\n      <td>709.73</td>\n    </tr>\n    <tr>\n      <th>37</th>\n      <td>1866.36</td>\n      <td>201.5</td>\n      <td>579.25</td>\n    </tr>\n    <tr>\n      <th>38</th>\n      <td>1712.46</td>\n      <td>175.0</td>\n      <td>616.71</td>\n    </tr>\n    <tr>\n      <th>39</th>\n      <td>1569.05</td>\n      <td>182.6</td>\n      <td>802.72</td>\n    </tr>\n    <tr>\n      <th>40</th>\n      <td>1409.03</td>\n      <td>180.2</td>\n      <td>696.42</td>\n    </tr>\n    <tr>\n      <th>41</th>\n      <td>1691.68</td>\n      <td>146.3</td>\n      <td>891.28</td>\n    </tr>\n    <tr>\n      <th>42</th>\n      <td>1645.59</td>\n      <td>187.7</td>\n      <td>613.52</td>\n    </tr>\n    <tr>\n      <th>43</th>\n      <td>1616.08</td>\n      <td>188.7</td>\n      <td>779.93</td>\n    </tr>\n    <tr>\n      <th>44</th>\n      <td>1653.08</td>\n      <td>183.4</td>\n      <td>963.26</td>\n    </tr>\n    <tr>\n      <th>45</th>\n      <td>1582.37</td>\n      <td>169.9</td>\n      <td>683.33</td>\n    </tr>\n    <tr>\n      <th>46</th>\n      <td>1475.53</td>\n      <td>170.6</td>\n      <td>914.09</td>\n    </tr>\n    <tr>\n      <th>47</th>\n      <td>1574.02</td>\n      <td>147.4</td>\n      <td>770.62</td>\n    </tr>\n    <tr>\n      <th>48</th>\n      <td>1657.30</td>\n      <td>173.8</td>\n      <td>808.57</td>\n    </tr>\n    <tr>\n      <th>49</th>\n      <td>1452.47</td>\n      <td>189.9</td>\n      <td>988.62</td>\n    </tr>\n    <tr>\n      <th>50</th>\n      <td>1516.60</td>\n      <td>179.8</td>\n      <td>888.52</td>\n    </tr>\n    <tr>\n      <th>51</th>\n      <td>1611.41</td>\n      <td>206.7</td>\n      <td>1062.25</td>\n    </tr>\n    <tr>\n      <th>52</th>\n      <td>1561.25</td>\n      <td>176.8</td>\n      <td>800.62</td>\n    </tr>\n    <tr>\n      <th>53</th>\n      <td>1499.50</td>\n      <td>186.7</td>\n      <td>975.39</td>\n    </tr>\n    <tr>\n      <th>54</th>\n      <td>1457.33</td>\n      <td>135.8</td>\n      <td>1184.16</td>\n    </tr>\n    <tr>\n      <th>55</th>\n      <td>1748.46</td>\n      <td>185.0</td>\n      <td>872.36</td>\n    </tr>\n    <tr>\n      <th>56</th>\n      <td>1615.28</td>\n      <td>162.1</td>\n      <td>1056.62</td>\n    </tr>\n    <tr>\n      <th>57</th>\n      <td>1661.89</td>\n      <td>165.3</td>\n      <td>944.43</td>\n    </tr>\n    <tr>\n      <th>58</th>\n      <td>1702.01</td>\n      <td>187.5</td>\n      <td>999.77</td>\n    </tr>\n    <tr>\n      <th>59</th>\n      <td>1428.61</td>\n      <td>181.5</td>\n      <td>1178.89</td>\n    </tr>\n  </tbody>\n</table>\n</div>"
     },
     "metadata": {},
     "output_type": "display_data"
    }
   ],
   "source": [
    "# Voorgeschreven code:\n",
    "examen4 = examen[['bedrag', 'lengte', 'saldo']]\n",
    "display(examen4)"
   ],
   "metadata": {
    "collapsed": false,
    "ExecuteTime": {
     "end_time": "2023-06-13T09:13:06.703560100Z",
     "start_time": "2023-06-13T09:13:06.592681200Z"
    }
   }
  },
  {
   "cell_type": "code",
   "execution_count": 70,
   "outputs": [
    {
     "data": {
      "text/plain": "         0        1        2        3        4        5        6        7    \n0      0.00   406.25   201.43   278.04   564.99   104.52   314.01   150.36  \\\n1    406.25     0.00   411.14   489.33   593.32   477.97   176.48   382.89   \n2    201.43   411.14     0.00   446.87   699.42   198.05   323.10   332.59   \n3    278.04   489.33   446.87     0.00   286.95   248.82   397.09   127.68   \n4    564.99   593.32   699.42   286.95     0.00   535.57   421.04   414.63   \n5    104.52   477.97   198.05   248.82   535.57     0.00   385.73   134.54   \n6    314.01   176.48   323.10   397.09   421.04   385.73     0.00   290.65   \n7    150.36   382.89   332.59   127.68   414.63   134.54   290.65     0.00   \n8    189.52   302.67   348.75   186.66   375.47   175.30   212.23    80.22   \n9    368.20   396.53   502.03   361.10   205.01   349.74   224.25   254.66   \n10   288.31   195.46   323.96   386.99   425.46   375.83    25.70   267.15   \n11   534.04   278.79   529.13   617.12   473.63   605.76   220.03   510.68   \n12   131.23   275.98   308.46   221.75   433.76   210.59   183.74   106.91   \n13   380.08   453.01   581.51   343.34   221.65   383.46   276.53   248.92   \n14   769.02   362.77   750.91   852.10   696.01   840.74   455.01   745.66   \n15   214.17   287.10   415.60   249.21   362.82   238.05   192.48   129.37   \n16   420.56   450.69   579.19   458.92   327.03   447.56   276.61   352.48   \n17   282.90   343.65   472.15   398.58   316.87   387.42   167.17   278.74   \n18   401.94   318.67   424.17   485.02   328.93   473.66   146.39   378.58   \n19   885.35   479.10   870.04   968.43   814.54   957.07   571.34   861.99   \n20   438.78   400.11   528.61   522.66   400.97   511.50   223.63   415.42   \n21   728.67   775.00   903.50   499.17   377.48   705.45   598.52   578.31   \n22   315.83   388.76   517.26   415.11   293.42   403.95   212.28   295.27   \n23  1014.51   628.46  1039.60  1105.79   984.10  1094.63   716.50   991.15   \n24   729.55   770.48   898.98   747.85   626.16   736.69   594.00   640.81   \n25   467.13   540.06   668.56   392.87   271.18   470.51   363.58   335.97   \n26   826.60   441.35   852.49   918.68   796.99   907.52   529.39   803.24   \n27   495.79   483.14   598.84   578.87   432.38   567.51   310.86   472.43   \n28   736.84   377.25   718.73   819.92   663.83   808.56   422.83   713.48   \n29   777.84   850.77   979.27   764.44   642.75   781.22   674.29   646.68   \n30   675.19   655.76   761.26   758.27   602.18   746.91   483.48   651.83   \n31   889.08   962.01  1090.51   751.74   630.05   892.46   785.53   757.92   \n32   497.40   565.33   693.83   582.12   460.43   570.96   388.85   462.28   \n33   958.51   552.26   940.40  1041.59   885.50  1030.23   644.50   935.15   \n34   991.91   812.00  1007.60  1074.99   952.10  1063.63   684.50   968.55   \n35   707.64   735.97   841.47   555.12   399.03   678.22   563.69   557.28   \n36  1209.06   820.01  1231.15  1297.34  1175.65  1286.18   908.05  1185.70   \n37   967.67  1040.60  1169.10   722.23   469.68   971.05   864.12   836.51   \n38   863.53   897.66  1026.16   634.29   506.40   834.11   721.18   713.17   \n39   898.53   947.86  1076.36   965.11   843.42   953.95   771.38   849.67   \n40   929.15   679.14   950.24  1016.43   894.74  1005.27   627.14   905.79   \n41  1146.02  1174.35  1279.85   958.34   802.25  1116.60  1002.07   995.66   \n42   780.77   840.30   968.80   704.47   582.78   770.75   663.82   636.21   \n43   916.67   978.20  1106.70   901.39   779.70   908.65   801.72   781.55   \n44  1142.30  1193.23  1321.73  1042.42   920.73  1123.68  1016.75   991.94   \n45   805.16   833.49   957.59   836.10   698.01   824.74   661.21   729.66   \n46  1089.92   956.71  1091.81  1173.00  1036.31  1161.64   784.43  1066.56   \n47   906.60   934.93  1040.43   954.24   798.15   942.88   762.65   847.80   \n48  1001.43  1033.16  1161.66   882.51   752.22   972.01   857.48   851.07   \n49  1168.21  1024.48  1208.70  1274.89  1153.20  1263.73   885.60  1155.05   \n50  1014.08   978.41  1106.91  1100.56   978.87  1089.40   801.93   990.72   \n51  1200.92  1273.85  1402.35  1206.38  1084.69  1204.30  1097.37  1086.54   \n52   894.43   932.16  1060.66   967.61   843.32   956.25   755.68   861.17   \n53  1111.15  1055.08  1183.58  1211.43  1089.74  1200.27   878.60  1091.59   \n54  1412.99  1243.38  1394.88  1496.07  1339.98  1484.71  1098.98  1389.63   \n55  1145.18  1199.31  1327.81   880.94   736.05  1129.76  1022.83   995.22   \n56  1219.16  1247.49  1355.99  1184.28  1030.59  1189.74  1075.21  1077.84   \n57  1150.38  1178.71  1293.61  1022.28   874.99  1120.96  1006.43  1000.02   \n58  1223.64  1282.77  1411.27  1034.10   912.41  1213.22  1106.29  1078.68   \n59  1390.74  1182.49  1414.43  1480.62  1358.93  1469.46  1091.33  1367.38   \n\n         8        9   ...       50       51       52       53       54   \n0    189.52   368.20  ...  1014.08  1200.92   894.43  1111.15  1412.99  \\\n1    302.67   396.53  ...   978.41  1273.85   932.16  1055.08  1243.38   \n2    348.75   502.03  ...  1106.91  1402.35  1060.66  1183.58  1394.88   \n3    186.66   361.10  ...  1100.56  1206.38   967.61  1211.43  1496.07   \n4    375.47   205.01  ...   978.87  1084.69   843.32  1089.74  1339.98   \n5    175.30   349.74  ...  1089.40  1204.30   956.25  1200.27  1484.71   \n6    212.23   224.25  ...   801.93  1097.37   755.68   878.60  1098.98   \n7     80.22   254.66  ...   990.72  1086.54   861.17  1091.59  1389.63   \n8      0.00   178.68  ...   923.50  1053.60   787.95  1034.37  1309.41   \n9    178.68     0.00  ...   777.46   903.32   641.91   888.33  1134.97   \n10   209.93   228.67  ...   795.15  1078.39   754.90   859.62  1124.68   \n11   430.46   272.22  ...   709.42  1004.86   663.17   786.09   964.59   \n12    58.29   236.97  ...   883.81  1093.89   763.20   989.68  1282.72   \n13   232.76    82.48  ...   807.82   863.04   678.27   904.89  1206.73   \n14   665.44   491.00  ...   761.98  1057.42   715.73   838.65   998.15   \n15    72.15   166.03  ...   892.55   986.75   763.00   989.62  1291.46   \n16   272.26   125.62  ...   651.84   823.16   516.29   762.71  1037.15   \n17   221.52   120.08  ...   753.78   930.20   646.31   850.85  1152.69   \n18   298.36   123.92  ...   703.94   999.38   657.69   782.61  1011.05   \n19   781.77   613.13  ...   789.77  1085.21   743.52   866.44  1034.54   \n20   345.60   199.56  ...   578.30   873.74   535.45   688.77   974.21   \n21   554.75   404.47  ...   603.99   707.21   474.44   712.26  1002.90   \n22   238.05    92.01  ...   717.25   885.09   587.70   814.32  1116.16   \n23   928.73   782.69  ...   976.55  1267.19   936.30  1048.42  1256.92   \n24   570.79   424.75  ...   352.71   503.37   220.36   463.58   748.82   \n25   319.81   169.53  ...   738.89   813.51   609.34   835.96  1137.80   \n26   741.62   595.58  ...   563.42   853.26   523.17   634.49   843.79   \n27   392.21   230.97  ...   546.49   803.51   461.82   657.36   917.20   \n28   633.26   458.82  ...   660.96   956.40   614.71   737.63   866.13   \n29   630.52   480.24  ...   375.12   441.94   245.57   472.19   774.03   \n30   571.61   397.17  ...   416.29   680.09   338.40   527.16   737.80   \n31   741.76   591.48  ...   382.42   454.64   252.87   479.49   781.33   \n32   405.06   259.02  ...   542.64   708.52   413.09   639.71   941.55   \n33   854.93   680.49  ...   563.29   858.73   517.04   639.96   791.86   \n34   896.73   750.69  ...   166.41   461.85   121.56   243.08   442.18   \n35   518.12   339.44  ...   633.64   739.46   498.09   744.51   944.55   \n36  1120.28   974.24  ...   554.36   848.00   514.11   629.23   834.73   \n37   820.35   670.07  ...   680.73   743.15   551.18   777.80  1079.64   \n38   677.41   527.13  ...   472.47   578.29   336.92   583.34   861.78   \n39   788.05   642.01  ...   141.05   325.99    15.70   246.32   539.96   \n40   839.37   693.33  ...   300.07   594.71   259.82   375.94   580.44   \n41   956.50   777.82  ...   211.34   311.64   251.59   316.69   537.73   \n42   620.05   469.77  ...   411.89   501.91   282.34   508.96   810.80   \n43   757.95   607.67  ...   216.97   304.99    87.42   314.04   615.88   \n44   972.98   822.70  ...   214.82   163.96   261.07   169.01   464.25   \n45   649.44   496.60  ...   280.86   444.76   145.31   391.73   659.97   \n46   986.34   834.90  ...    75.84   320.14   205.39   101.37   323.07   \n47   767.58   593.14  ...   207.72   388.32    72.17   318.59   541.83   \n48   812.91   662.63  ...   226.65   332.47   107.00   337.52   613.56   \n49  1097.83   951.79  ...   174.33   249.37   309.88    63.46   254.50   \n50   923.50   777.46  ...     0.00   295.44   135.55   110.87   398.91   \n51  1053.60   903.32  ...   295.44     0.00   341.69   218.77   346.89   \n52   787.95   641.91  ...   135.55   341.69     0.00   246.42   528.46   \n53  1034.37   888.33  ...   110.87   218.77   246.42     0.00   301.84   \n54  1309.41  1134.97  ...   398.91   346.89   528.46   301.84     0.00   \n55   979.06   828.78  ...   253.22   348.64   267.15   353.69   652.13   \n56  1029.64   856.96  ...   284.48    54.10   324.73   221.61   311.79   \n57   960.86   794.58  ...   215.70   209.70   255.95   214.75   473.79   \n58  1062.52   912.24  ...   304.36   172.28   350.61   227.69   480.77   \n59  1303.56  1157.52  ...   380.06   324.64   515.61   279.59    79.69   \n\n         55       56       57       58       59  \n0   1145.18  1219.16  1150.38  1223.64  1390.74  \n1   1199.31  1247.49  1178.71  1282.77  1182.49  \n2   1327.81  1355.99  1293.61  1411.27  1414.43  \n3    880.94  1184.28  1022.28  1034.10  1480.62  \n4    736.05  1030.59   874.99   912.41  1358.93  \n5   1129.76  1189.74  1120.96  1213.22  1469.46  \n6   1022.83  1075.21  1006.43  1106.29  1091.33  \n7    995.22  1077.84  1000.02  1078.68  1367.38  \n8    979.06  1029.64   960.86  1062.52  1303.56  \n9    828.78   856.96   794.58   912.24  1157.52  \n10  1005.65  1079.63  1010.85  1087.31  1102.43  \n11   930.32   968.70   899.92  1013.78   913.50  \n12  1019.35  1087.93  1019.15  1102.81  1260.47  \n13   786.50   894.94   791.70   864.96  1184.48  \n14   982.88  1011.06   948.68  1066.34   966.06  \n15   943.01  1016.99   948.21  1021.47  1269.21  \n16   748.62   798.60   729.82   832.08  1031.90  \n17   897.06   971.04   902.26   975.52  1130.44  \n18   924.84   953.02   890.64  1008.30  1051.80  \n19  1010.67  1038.85   976.47  1094.13   993.85  \n20   799.20   860.18   791.40   882.66   957.96  \n21   424.31   691.11   529.11   534.93   981.45  \n22   831.95   905.93   837.15   910.41  1093.91  \n23  1192.65  1261.03  1192.25  1276.11  1177.23  \n24   428.83   489.61   420.83   512.29   732.77  \n25   680.05   826.01   685.25   758.51  1115.55  \n26   778.72   847.90   779.12   862.18   764.10  \n27   728.97   764.35   695.57   812.43   926.55  \n28   881.86   910.04   847.66   965.32   865.04  \n29   377.14   462.24   382.34   455.60   751.78  \n30   605.55   633.73   571.35   689.01   796.35  \n31   260.50   469.54   307.54   338.96   759.08  \n32   647.78   721.76   652.98   726.24   919.30  \n33   784.19   812.37   749.99   867.65   767.37  \n34   387.31   446.29   377.51   470.77   406.83  \n35   539.54   685.36   529.76   623.00  1013.70  \n36   773.46   838.84   770.06   856.92   756.64  \n37   427.51   767.85   605.85   598.87  1057.39  \n38   301.65   549.99   387.99   406.01   852.53  \n39   251.45   320.63   251.85   334.91   517.71  \n40   520.17   584.55   515.77   603.63   503.35  \n41   114.40   257.54   101.94   160.02   585.88  \n42   364.41   499.01   369.61   442.87   788.55  \n43   228.51   304.09   233.71   306.97   593.63  \n44   187.88   152.46    45.74    89.54   442.00  \n45   370.22   414.00   345.22   453.68   660.92  \n46   329.06   290.78   222.00   329.06   322.62  \n47   313.78   341.96   279.58   397.24   587.78  \n48   166.15   301.77   148.95   249.61   606.71  \n49   417.15   258.61   278.21   263.09   222.53  \n50   253.22   284.48   215.70   304.36   380.06  \n51   348.64    54.10   209.70   172.28   324.64  \n52   267.15   324.73   255.95   350.61   515.61  \n53   353.69   221.61   214.75   227.69   279.59  \n54   652.13   311.79   473.79   480.77    79.69  \n55     0.00   340.34   178.34   176.36   629.88  \n56   340.34     0.00   162.00   168.98   328.34  \n57   178.34   162.00     0.00   117.66   483.94  \n58   176.36   168.98   117.66     0.00   458.52  \n59   629.88   328.34   483.94   458.52     0.00  \n\n[60 rows x 60 columns]",
      "text/html": "<div>\n<style scoped>\n    .dataframe tbody tr th:only-of-type {\n        vertical-align: middle;\n    }\n\n    .dataframe tbody tr th {\n        vertical-align: top;\n    }\n\n    .dataframe thead th {\n        text-align: right;\n    }\n</style>\n<table border=\"1\" class=\"dataframe\">\n  <thead>\n    <tr style=\"text-align: right;\">\n      <th></th>\n      <th>0</th>\n      <th>1</th>\n      <th>2</th>\n      <th>3</th>\n      <th>4</th>\n      <th>5</th>\n      <th>6</th>\n      <th>7</th>\n      <th>8</th>\n      <th>9</th>\n      <th>...</th>\n      <th>50</th>\n      <th>51</th>\n      <th>52</th>\n      <th>53</th>\n      <th>54</th>\n      <th>55</th>\n      <th>56</th>\n      <th>57</th>\n      <th>58</th>\n      <th>59</th>\n    </tr>\n  </thead>\n  <tbody>\n    <tr>\n      <th>0</th>\n      <td>0.00</td>\n      <td>406.25</td>\n      <td>201.43</td>\n      <td>278.04</td>\n      <td>564.99</td>\n      <td>104.52</td>\n      <td>314.01</td>\n      <td>150.36</td>\n      <td>189.52</td>\n      <td>368.20</td>\n      <td>...</td>\n      <td>1014.08</td>\n      <td>1200.92</td>\n      <td>894.43</td>\n      <td>1111.15</td>\n      <td>1412.99</td>\n      <td>1145.18</td>\n      <td>1219.16</td>\n      <td>1150.38</td>\n      <td>1223.64</td>\n      <td>1390.74</td>\n    </tr>\n    <tr>\n      <th>1</th>\n      <td>406.25</td>\n      <td>0.00</td>\n      <td>411.14</td>\n      <td>489.33</td>\n      <td>593.32</td>\n      <td>477.97</td>\n      <td>176.48</td>\n      <td>382.89</td>\n      <td>302.67</td>\n      <td>396.53</td>\n      <td>...</td>\n      <td>978.41</td>\n      <td>1273.85</td>\n      <td>932.16</td>\n      <td>1055.08</td>\n      <td>1243.38</td>\n      <td>1199.31</td>\n      <td>1247.49</td>\n      <td>1178.71</td>\n      <td>1282.77</td>\n      <td>1182.49</td>\n    </tr>\n    <tr>\n      <th>2</th>\n      <td>201.43</td>\n      <td>411.14</td>\n      <td>0.00</td>\n      <td>446.87</td>\n      <td>699.42</td>\n      <td>198.05</td>\n      <td>323.10</td>\n      <td>332.59</td>\n      <td>348.75</td>\n      <td>502.03</td>\n      <td>...</td>\n      <td>1106.91</td>\n      <td>1402.35</td>\n      <td>1060.66</td>\n      <td>1183.58</td>\n      <td>1394.88</td>\n      <td>1327.81</td>\n      <td>1355.99</td>\n      <td>1293.61</td>\n      <td>1411.27</td>\n      <td>1414.43</td>\n    </tr>\n    <tr>\n      <th>3</th>\n      <td>278.04</td>\n      <td>489.33</td>\n      <td>446.87</td>\n      <td>0.00</td>\n      <td>286.95</td>\n      <td>248.82</td>\n      <td>397.09</td>\n      <td>127.68</td>\n      <td>186.66</td>\n      <td>361.10</td>\n      <td>...</td>\n      <td>1100.56</td>\n      <td>1206.38</td>\n      <td>967.61</td>\n      <td>1211.43</td>\n      <td>1496.07</td>\n      <td>880.94</td>\n      <td>1184.28</td>\n      <td>1022.28</td>\n      <td>1034.10</td>\n      <td>1480.62</td>\n    </tr>\n    <tr>\n      <th>4</th>\n      <td>564.99</td>\n      <td>593.32</td>\n      <td>699.42</td>\n      <td>286.95</td>\n      <td>0.00</td>\n      <td>535.57</td>\n      <td>421.04</td>\n      <td>414.63</td>\n      <td>375.47</td>\n      <td>205.01</td>\n      <td>...</td>\n      <td>978.87</td>\n      <td>1084.69</td>\n      <td>843.32</td>\n      <td>1089.74</td>\n      <td>1339.98</td>\n      <td>736.05</td>\n      <td>1030.59</td>\n      <td>874.99</td>\n      <td>912.41</td>\n      <td>1358.93</td>\n    </tr>\n    <tr>\n      <th>5</th>\n      <td>104.52</td>\n      <td>477.97</td>\n      <td>198.05</td>\n      <td>248.82</td>\n      <td>535.57</td>\n      <td>0.00</td>\n      <td>385.73</td>\n      <td>134.54</td>\n      <td>175.30</td>\n      <td>349.74</td>\n      <td>...</td>\n      <td>1089.40</td>\n      <td>1204.30</td>\n      <td>956.25</td>\n      <td>1200.27</td>\n      <td>1484.71</td>\n      <td>1129.76</td>\n      <td>1189.74</td>\n      <td>1120.96</td>\n      <td>1213.22</td>\n      <td>1469.46</td>\n    </tr>\n    <tr>\n      <th>6</th>\n      <td>314.01</td>\n      <td>176.48</td>\n      <td>323.10</td>\n      <td>397.09</td>\n      <td>421.04</td>\n      <td>385.73</td>\n      <td>0.00</td>\n      <td>290.65</td>\n      <td>212.23</td>\n      <td>224.25</td>\n      <td>...</td>\n      <td>801.93</td>\n      <td>1097.37</td>\n      <td>755.68</td>\n      <td>878.60</td>\n      <td>1098.98</td>\n      <td>1022.83</td>\n      <td>1075.21</td>\n      <td>1006.43</td>\n      <td>1106.29</td>\n      <td>1091.33</td>\n    </tr>\n    <tr>\n      <th>7</th>\n      <td>150.36</td>\n      <td>382.89</td>\n      <td>332.59</td>\n      <td>127.68</td>\n      <td>414.63</td>\n      <td>134.54</td>\n      <td>290.65</td>\n      <td>0.00</td>\n      <td>80.22</td>\n      <td>254.66</td>\n      <td>...</td>\n      <td>990.72</td>\n      <td>1086.54</td>\n      <td>861.17</td>\n      <td>1091.59</td>\n      <td>1389.63</td>\n      <td>995.22</td>\n      <td>1077.84</td>\n      <td>1000.02</td>\n      <td>1078.68</td>\n      <td>1367.38</td>\n    </tr>\n    <tr>\n      <th>8</th>\n      <td>189.52</td>\n      <td>302.67</td>\n      <td>348.75</td>\n      <td>186.66</td>\n      <td>375.47</td>\n      <td>175.30</td>\n      <td>212.23</td>\n      <td>80.22</td>\n      <td>0.00</td>\n      <td>178.68</td>\n      <td>...</td>\n      <td>923.50</td>\n      <td>1053.60</td>\n      <td>787.95</td>\n      <td>1034.37</td>\n      <td>1309.41</td>\n      <td>979.06</td>\n      <td>1029.64</td>\n      <td>960.86</td>\n      <td>1062.52</td>\n      <td>1303.56</td>\n    </tr>\n    <tr>\n      <th>9</th>\n      <td>368.20</td>\n      <td>396.53</td>\n      <td>502.03</td>\n      <td>361.10</td>\n      <td>205.01</td>\n      <td>349.74</td>\n      <td>224.25</td>\n      <td>254.66</td>\n      <td>178.68</td>\n      <td>0.00</td>\n      <td>...</td>\n      <td>777.46</td>\n      <td>903.32</td>\n      <td>641.91</td>\n      <td>888.33</td>\n      <td>1134.97</td>\n      <td>828.78</td>\n      <td>856.96</td>\n      <td>794.58</td>\n      <td>912.24</td>\n      <td>1157.52</td>\n    </tr>\n    <tr>\n      <th>10</th>\n      <td>288.31</td>\n      <td>195.46</td>\n      <td>323.96</td>\n      <td>386.99</td>\n      <td>425.46</td>\n      <td>375.83</td>\n      <td>25.70</td>\n      <td>267.15</td>\n      <td>209.93</td>\n      <td>228.67</td>\n      <td>...</td>\n      <td>795.15</td>\n      <td>1078.39</td>\n      <td>754.90</td>\n      <td>859.62</td>\n      <td>1124.68</td>\n      <td>1005.65</td>\n      <td>1079.63</td>\n      <td>1010.85</td>\n      <td>1087.31</td>\n      <td>1102.43</td>\n    </tr>\n    <tr>\n      <th>11</th>\n      <td>534.04</td>\n      <td>278.79</td>\n      <td>529.13</td>\n      <td>617.12</td>\n      <td>473.63</td>\n      <td>605.76</td>\n      <td>220.03</td>\n      <td>510.68</td>\n      <td>430.46</td>\n      <td>272.22</td>\n      <td>...</td>\n      <td>709.42</td>\n      <td>1004.86</td>\n      <td>663.17</td>\n      <td>786.09</td>\n      <td>964.59</td>\n      <td>930.32</td>\n      <td>968.70</td>\n      <td>899.92</td>\n      <td>1013.78</td>\n      <td>913.50</td>\n    </tr>\n    <tr>\n      <th>12</th>\n      <td>131.23</td>\n      <td>275.98</td>\n      <td>308.46</td>\n      <td>221.75</td>\n      <td>433.76</td>\n      <td>210.59</td>\n      <td>183.74</td>\n      <td>106.91</td>\n      <td>58.29</td>\n      <td>236.97</td>\n      <td>...</td>\n      <td>883.81</td>\n      <td>1093.89</td>\n      <td>763.20</td>\n      <td>989.68</td>\n      <td>1282.72</td>\n      <td>1019.35</td>\n      <td>1087.93</td>\n      <td>1019.15</td>\n      <td>1102.81</td>\n      <td>1260.47</td>\n    </tr>\n    <tr>\n      <th>13</th>\n      <td>380.08</td>\n      <td>453.01</td>\n      <td>581.51</td>\n      <td>343.34</td>\n      <td>221.65</td>\n      <td>383.46</td>\n      <td>276.53</td>\n      <td>248.92</td>\n      <td>232.76</td>\n      <td>82.48</td>\n      <td>...</td>\n      <td>807.82</td>\n      <td>863.04</td>\n      <td>678.27</td>\n      <td>904.89</td>\n      <td>1206.73</td>\n      <td>786.50</td>\n      <td>894.94</td>\n      <td>791.70</td>\n      <td>864.96</td>\n      <td>1184.48</td>\n    </tr>\n    <tr>\n      <th>14</th>\n      <td>769.02</td>\n      <td>362.77</td>\n      <td>750.91</td>\n      <td>852.10</td>\n      <td>696.01</td>\n      <td>840.74</td>\n      <td>455.01</td>\n      <td>745.66</td>\n      <td>665.44</td>\n      <td>491.00</td>\n      <td>...</td>\n      <td>761.98</td>\n      <td>1057.42</td>\n      <td>715.73</td>\n      <td>838.65</td>\n      <td>998.15</td>\n      <td>982.88</td>\n      <td>1011.06</td>\n      <td>948.68</td>\n      <td>1066.34</td>\n      <td>966.06</td>\n    </tr>\n    <tr>\n      <th>15</th>\n      <td>214.17</td>\n      <td>287.10</td>\n      <td>415.60</td>\n      <td>249.21</td>\n      <td>362.82</td>\n      <td>238.05</td>\n      <td>192.48</td>\n      <td>129.37</td>\n      <td>72.15</td>\n      <td>166.03</td>\n      <td>...</td>\n      <td>892.55</td>\n      <td>986.75</td>\n      <td>763.00</td>\n      <td>989.62</td>\n      <td>1291.46</td>\n      <td>943.01</td>\n      <td>1016.99</td>\n      <td>948.21</td>\n      <td>1021.47</td>\n      <td>1269.21</td>\n    </tr>\n    <tr>\n      <th>16</th>\n      <td>420.56</td>\n      <td>450.69</td>\n      <td>579.19</td>\n      <td>458.92</td>\n      <td>327.03</td>\n      <td>447.56</td>\n      <td>276.61</td>\n      <td>352.48</td>\n      <td>272.26</td>\n      <td>125.62</td>\n      <td>...</td>\n      <td>651.84</td>\n      <td>823.16</td>\n      <td>516.29</td>\n      <td>762.71</td>\n      <td>1037.15</td>\n      <td>748.62</td>\n      <td>798.60</td>\n      <td>729.82</td>\n      <td>832.08</td>\n      <td>1031.90</td>\n    </tr>\n    <tr>\n      <th>17</th>\n      <td>282.90</td>\n      <td>343.65</td>\n      <td>472.15</td>\n      <td>398.58</td>\n      <td>316.87</td>\n      <td>387.42</td>\n      <td>167.17</td>\n      <td>278.74</td>\n      <td>221.52</td>\n      <td>120.08</td>\n      <td>...</td>\n      <td>753.78</td>\n      <td>930.20</td>\n      <td>646.31</td>\n      <td>850.85</td>\n      <td>1152.69</td>\n      <td>897.06</td>\n      <td>971.04</td>\n      <td>902.26</td>\n      <td>975.52</td>\n      <td>1130.44</td>\n    </tr>\n    <tr>\n      <th>18</th>\n      <td>401.94</td>\n      <td>318.67</td>\n      <td>424.17</td>\n      <td>485.02</td>\n      <td>328.93</td>\n      <td>473.66</td>\n      <td>146.39</td>\n      <td>378.58</td>\n      <td>298.36</td>\n      <td>123.92</td>\n      <td>...</td>\n      <td>703.94</td>\n      <td>999.38</td>\n      <td>657.69</td>\n      <td>782.61</td>\n      <td>1011.05</td>\n      <td>924.84</td>\n      <td>953.02</td>\n      <td>890.64</td>\n      <td>1008.30</td>\n      <td>1051.80</td>\n    </tr>\n    <tr>\n      <th>19</th>\n      <td>885.35</td>\n      <td>479.10</td>\n      <td>870.04</td>\n      <td>968.43</td>\n      <td>814.54</td>\n      <td>957.07</td>\n      <td>571.34</td>\n      <td>861.99</td>\n      <td>781.77</td>\n      <td>613.13</td>\n      <td>...</td>\n      <td>789.77</td>\n      <td>1085.21</td>\n      <td>743.52</td>\n      <td>866.44</td>\n      <td>1034.54</td>\n      <td>1010.67</td>\n      <td>1038.85</td>\n      <td>976.47</td>\n      <td>1094.13</td>\n      <td>993.85</td>\n    </tr>\n    <tr>\n      <th>20</th>\n      <td>438.78</td>\n      <td>400.11</td>\n      <td>528.61</td>\n      <td>522.66</td>\n      <td>400.97</td>\n      <td>511.50</td>\n      <td>223.63</td>\n      <td>415.42</td>\n      <td>345.60</td>\n      <td>199.56</td>\n      <td>...</td>\n      <td>578.30</td>\n      <td>873.74</td>\n      <td>535.45</td>\n      <td>688.77</td>\n      <td>974.21</td>\n      <td>799.20</td>\n      <td>860.18</td>\n      <td>791.40</td>\n      <td>882.66</td>\n      <td>957.96</td>\n    </tr>\n    <tr>\n      <th>21</th>\n      <td>728.67</td>\n      <td>775.00</td>\n      <td>903.50</td>\n      <td>499.17</td>\n      <td>377.48</td>\n      <td>705.45</td>\n      <td>598.52</td>\n      <td>578.31</td>\n      <td>554.75</td>\n      <td>404.47</td>\n      <td>...</td>\n      <td>603.99</td>\n      <td>707.21</td>\n      <td>474.44</td>\n      <td>712.26</td>\n      <td>1002.90</td>\n      <td>424.31</td>\n      <td>691.11</td>\n      <td>529.11</td>\n      <td>534.93</td>\n      <td>981.45</td>\n    </tr>\n    <tr>\n      <th>22</th>\n      <td>315.83</td>\n      <td>388.76</td>\n      <td>517.26</td>\n      <td>415.11</td>\n      <td>293.42</td>\n      <td>403.95</td>\n      <td>212.28</td>\n      <td>295.27</td>\n      <td>238.05</td>\n      <td>92.01</td>\n      <td>...</td>\n      <td>717.25</td>\n      <td>885.09</td>\n      <td>587.70</td>\n      <td>814.32</td>\n      <td>1116.16</td>\n      <td>831.95</td>\n      <td>905.93</td>\n      <td>837.15</td>\n      <td>910.41</td>\n      <td>1093.91</td>\n    </tr>\n    <tr>\n      <th>23</th>\n      <td>1014.51</td>\n      <td>628.46</td>\n      <td>1039.60</td>\n      <td>1105.79</td>\n      <td>984.10</td>\n      <td>1094.63</td>\n      <td>716.50</td>\n      <td>991.15</td>\n      <td>928.73</td>\n      <td>782.69</td>\n      <td>...</td>\n      <td>976.55</td>\n      <td>1267.19</td>\n      <td>936.30</td>\n      <td>1048.42</td>\n      <td>1256.92</td>\n      <td>1192.65</td>\n      <td>1261.03</td>\n      <td>1192.25</td>\n      <td>1276.11</td>\n      <td>1177.23</td>\n    </tr>\n    <tr>\n      <th>24</th>\n      <td>729.55</td>\n      <td>770.48</td>\n      <td>898.98</td>\n      <td>747.85</td>\n      <td>626.16</td>\n      <td>736.69</td>\n      <td>594.00</td>\n      <td>640.81</td>\n      <td>570.79</td>\n      <td>424.75</td>\n      <td>...</td>\n      <td>352.71</td>\n      <td>503.37</td>\n      <td>220.36</td>\n      <td>463.58</td>\n      <td>748.82</td>\n      <td>428.83</td>\n      <td>489.61</td>\n      <td>420.83</td>\n      <td>512.29</td>\n      <td>732.77</td>\n    </tr>\n    <tr>\n      <th>25</th>\n      <td>467.13</td>\n      <td>540.06</td>\n      <td>668.56</td>\n      <td>392.87</td>\n      <td>271.18</td>\n      <td>470.51</td>\n      <td>363.58</td>\n      <td>335.97</td>\n      <td>319.81</td>\n      <td>169.53</td>\n      <td>...</td>\n      <td>738.89</td>\n      <td>813.51</td>\n      <td>609.34</td>\n      <td>835.96</td>\n      <td>1137.80</td>\n      <td>680.05</td>\n      <td>826.01</td>\n      <td>685.25</td>\n      <td>758.51</td>\n      <td>1115.55</td>\n    </tr>\n    <tr>\n      <th>26</th>\n      <td>826.60</td>\n      <td>441.35</td>\n      <td>852.49</td>\n      <td>918.68</td>\n      <td>796.99</td>\n      <td>907.52</td>\n      <td>529.39</td>\n      <td>803.24</td>\n      <td>741.62</td>\n      <td>595.58</td>\n      <td>...</td>\n      <td>563.42</td>\n      <td>853.26</td>\n      <td>523.17</td>\n      <td>634.49</td>\n      <td>843.79</td>\n      <td>778.72</td>\n      <td>847.90</td>\n      <td>779.12</td>\n      <td>862.18</td>\n      <td>764.10</td>\n    </tr>\n    <tr>\n      <th>27</th>\n      <td>495.79</td>\n      <td>483.14</td>\n      <td>598.84</td>\n      <td>578.87</td>\n      <td>432.38</td>\n      <td>567.51</td>\n      <td>310.86</td>\n      <td>472.43</td>\n      <td>392.21</td>\n      <td>230.97</td>\n      <td>...</td>\n      <td>546.49</td>\n      <td>803.51</td>\n      <td>461.82</td>\n      <td>657.36</td>\n      <td>917.20</td>\n      <td>728.97</td>\n      <td>764.35</td>\n      <td>695.57</td>\n      <td>812.43</td>\n      <td>926.55</td>\n    </tr>\n    <tr>\n      <th>28</th>\n      <td>736.84</td>\n      <td>377.25</td>\n      <td>718.73</td>\n      <td>819.92</td>\n      <td>663.83</td>\n      <td>808.56</td>\n      <td>422.83</td>\n      <td>713.48</td>\n      <td>633.26</td>\n      <td>458.82</td>\n      <td>...</td>\n      <td>660.96</td>\n      <td>956.40</td>\n      <td>614.71</td>\n      <td>737.63</td>\n      <td>866.13</td>\n      <td>881.86</td>\n      <td>910.04</td>\n      <td>847.66</td>\n      <td>965.32</td>\n      <td>865.04</td>\n    </tr>\n    <tr>\n      <th>29</th>\n      <td>777.84</td>\n      <td>850.77</td>\n      <td>979.27</td>\n      <td>764.44</td>\n      <td>642.75</td>\n      <td>781.22</td>\n      <td>674.29</td>\n      <td>646.68</td>\n      <td>630.52</td>\n      <td>480.24</td>\n      <td>...</td>\n      <td>375.12</td>\n      <td>441.94</td>\n      <td>245.57</td>\n      <td>472.19</td>\n      <td>774.03</td>\n      <td>377.14</td>\n      <td>462.24</td>\n      <td>382.34</td>\n      <td>455.60</td>\n      <td>751.78</td>\n    </tr>\n    <tr>\n      <th>30</th>\n      <td>675.19</td>\n      <td>655.76</td>\n      <td>761.26</td>\n      <td>758.27</td>\n      <td>602.18</td>\n      <td>746.91</td>\n      <td>483.48</td>\n      <td>651.83</td>\n      <td>571.61</td>\n      <td>397.17</td>\n      <td>...</td>\n      <td>416.29</td>\n      <td>680.09</td>\n      <td>338.40</td>\n      <td>527.16</td>\n      <td>737.80</td>\n      <td>605.55</td>\n      <td>633.73</td>\n      <td>571.35</td>\n      <td>689.01</td>\n      <td>796.35</td>\n    </tr>\n    <tr>\n      <th>31</th>\n      <td>889.08</td>\n      <td>962.01</td>\n      <td>1090.51</td>\n      <td>751.74</td>\n      <td>630.05</td>\n      <td>892.46</td>\n      <td>785.53</td>\n      <td>757.92</td>\n      <td>741.76</td>\n      <td>591.48</td>\n      <td>...</td>\n      <td>382.42</td>\n      <td>454.64</td>\n      <td>252.87</td>\n      <td>479.49</td>\n      <td>781.33</td>\n      <td>260.50</td>\n      <td>469.54</td>\n      <td>307.54</td>\n      <td>338.96</td>\n      <td>759.08</td>\n    </tr>\n    <tr>\n      <th>32</th>\n      <td>497.40</td>\n      <td>565.33</td>\n      <td>693.83</td>\n      <td>582.12</td>\n      <td>460.43</td>\n      <td>570.96</td>\n      <td>388.85</td>\n      <td>462.28</td>\n      <td>405.06</td>\n      <td>259.02</td>\n      <td>...</td>\n      <td>542.64</td>\n      <td>708.52</td>\n      <td>413.09</td>\n      <td>639.71</td>\n      <td>941.55</td>\n      <td>647.78</td>\n      <td>721.76</td>\n      <td>652.98</td>\n      <td>726.24</td>\n      <td>919.30</td>\n    </tr>\n    <tr>\n      <th>33</th>\n      <td>958.51</td>\n      <td>552.26</td>\n      <td>940.40</td>\n      <td>1041.59</td>\n      <td>885.50</td>\n      <td>1030.23</td>\n      <td>644.50</td>\n      <td>935.15</td>\n      <td>854.93</td>\n      <td>680.49</td>\n      <td>...</td>\n      <td>563.29</td>\n      <td>858.73</td>\n      <td>517.04</td>\n      <td>639.96</td>\n      <td>791.86</td>\n      <td>784.19</td>\n      <td>812.37</td>\n      <td>749.99</td>\n      <td>867.65</td>\n      <td>767.37</td>\n    </tr>\n    <tr>\n      <th>34</th>\n      <td>991.91</td>\n      <td>812.00</td>\n      <td>1007.60</td>\n      <td>1074.99</td>\n      <td>952.10</td>\n      <td>1063.63</td>\n      <td>684.50</td>\n      <td>968.55</td>\n      <td>896.73</td>\n      <td>750.69</td>\n      <td>...</td>\n      <td>166.41</td>\n      <td>461.85</td>\n      <td>121.56</td>\n      <td>243.08</td>\n      <td>442.18</td>\n      <td>387.31</td>\n      <td>446.29</td>\n      <td>377.51</td>\n      <td>470.77</td>\n      <td>406.83</td>\n    </tr>\n    <tr>\n      <th>35</th>\n      <td>707.64</td>\n      <td>735.97</td>\n      <td>841.47</td>\n      <td>555.12</td>\n      <td>399.03</td>\n      <td>678.22</td>\n      <td>563.69</td>\n      <td>557.28</td>\n      <td>518.12</td>\n      <td>339.44</td>\n      <td>...</td>\n      <td>633.64</td>\n      <td>739.46</td>\n      <td>498.09</td>\n      <td>744.51</td>\n      <td>944.55</td>\n      <td>539.54</td>\n      <td>685.36</td>\n      <td>529.76</td>\n      <td>623.00</td>\n      <td>1013.70</td>\n    </tr>\n    <tr>\n      <th>36</th>\n      <td>1209.06</td>\n      <td>820.01</td>\n      <td>1231.15</td>\n      <td>1297.34</td>\n      <td>1175.65</td>\n      <td>1286.18</td>\n      <td>908.05</td>\n      <td>1185.70</td>\n      <td>1120.28</td>\n      <td>974.24</td>\n      <td>...</td>\n      <td>554.36</td>\n      <td>848.00</td>\n      <td>514.11</td>\n      <td>629.23</td>\n      <td>834.73</td>\n      <td>773.46</td>\n      <td>838.84</td>\n      <td>770.06</td>\n      <td>856.92</td>\n      <td>756.64</td>\n    </tr>\n    <tr>\n      <th>37</th>\n      <td>967.67</td>\n      <td>1040.60</td>\n      <td>1169.10</td>\n      <td>722.23</td>\n      <td>469.68</td>\n      <td>971.05</td>\n      <td>864.12</td>\n      <td>836.51</td>\n      <td>820.35</td>\n      <td>670.07</td>\n      <td>...</td>\n      <td>680.73</td>\n      <td>743.15</td>\n      <td>551.18</td>\n      <td>777.80</td>\n      <td>1079.64</td>\n      <td>427.51</td>\n      <td>767.85</td>\n      <td>605.85</td>\n      <td>598.87</td>\n      <td>1057.39</td>\n    </tr>\n    <tr>\n      <th>38</th>\n      <td>863.53</td>\n      <td>897.66</td>\n      <td>1026.16</td>\n      <td>634.29</td>\n      <td>506.40</td>\n      <td>834.11</td>\n      <td>721.18</td>\n      <td>713.17</td>\n      <td>677.41</td>\n      <td>527.13</td>\n      <td>...</td>\n      <td>472.47</td>\n      <td>578.29</td>\n      <td>336.92</td>\n      <td>583.34</td>\n      <td>861.78</td>\n      <td>301.65</td>\n      <td>549.99</td>\n      <td>387.99</td>\n      <td>406.01</td>\n      <td>852.53</td>\n    </tr>\n    <tr>\n      <th>39</th>\n      <td>898.53</td>\n      <td>947.86</td>\n      <td>1076.36</td>\n      <td>965.11</td>\n      <td>843.42</td>\n      <td>953.95</td>\n      <td>771.38</td>\n      <td>849.67</td>\n      <td>788.05</td>\n      <td>642.01</td>\n      <td>...</td>\n      <td>141.05</td>\n      <td>325.99</td>\n      <td>15.70</td>\n      <td>246.32</td>\n      <td>539.96</td>\n      <td>251.45</td>\n      <td>320.63</td>\n      <td>251.85</td>\n      <td>334.91</td>\n      <td>517.71</td>\n    </tr>\n    <tr>\n      <th>40</th>\n      <td>929.15</td>\n      <td>679.14</td>\n      <td>950.24</td>\n      <td>1016.43</td>\n      <td>894.74</td>\n      <td>1005.27</td>\n      <td>627.14</td>\n      <td>905.79</td>\n      <td>839.37</td>\n      <td>693.33</td>\n      <td>...</td>\n      <td>300.07</td>\n      <td>594.71</td>\n      <td>259.82</td>\n      <td>375.94</td>\n      <td>580.44</td>\n      <td>520.17</td>\n      <td>584.55</td>\n      <td>515.77</td>\n      <td>603.63</td>\n      <td>503.35</td>\n    </tr>\n    <tr>\n      <th>41</th>\n      <td>1146.02</td>\n      <td>1174.35</td>\n      <td>1279.85</td>\n      <td>958.34</td>\n      <td>802.25</td>\n      <td>1116.60</td>\n      <td>1002.07</td>\n      <td>995.66</td>\n      <td>956.50</td>\n      <td>777.82</td>\n      <td>...</td>\n      <td>211.34</td>\n      <td>311.64</td>\n      <td>251.59</td>\n      <td>316.69</td>\n      <td>537.73</td>\n      <td>114.40</td>\n      <td>257.54</td>\n      <td>101.94</td>\n      <td>160.02</td>\n      <td>585.88</td>\n    </tr>\n    <tr>\n      <th>42</th>\n      <td>780.77</td>\n      <td>840.30</td>\n      <td>968.80</td>\n      <td>704.47</td>\n      <td>582.78</td>\n      <td>770.75</td>\n      <td>663.82</td>\n      <td>636.21</td>\n      <td>620.05</td>\n      <td>469.77</td>\n      <td>...</td>\n      <td>411.89</td>\n      <td>501.91</td>\n      <td>282.34</td>\n      <td>508.96</td>\n      <td>810.80</td>\n      <td>364.41</td>\n      <td>499.01</td>\n      <td>369.61</td>\n      <td>442.87</td>\n      <td>788.55</td>\n    </tr>\n    <tr>\n      <th>43</th>\n      <td>916.67</td>\n      <td>978.20</td>\n      <td>1106.70</td>\n      <td>901.39</td>\n      <td>779.70</td>\n      <td>908.65</td>\n      <td>801.72</td>\n      <td>781.55</td>\n      <td>757.95</td>\n      <td>607.67</td>\n      <td>...</td>\n      <td>216.97</td>\n      <td>304.99</td>\n      <td>87.42</td>\n      <td>314.04</td>\n      <td>615.88</td>\n      <td>228.51</td>\n      <td>304.09</td>\n      <td>233.71</td>\n      <td>306.97</td>\n      <td>593.63</td>\n    </tr>\n    <tr>\n      <th>44</th>\n      <td>1142.30</td>\n      <td>1193.23</td>\n      <td>1321.73</td>\n      <td>1042.42</td>\n      <td>920.73</td>\n      <td>1123.68</td>\n      <td>1016.75</td>\n      <td>991.94</td>\n      <td>972.98</td>\n      <td>822.70</td>\n      <td>...</td>\n      <td>214.82</td>\n      <td>163.96</td>\n      <td>261.07</td>\n      <td>169.01</td>\n      <td>464.25</td>\n      <td>187.88</td>\n      <td>152.46</td>\n      <td>45.74</td>\n      <td>89.54</td>\n      <td>442.00</td>\n    </tr>\n    <tr>\n      <th>45</th>\n      <td>805.16</td>\n      <td>833.49</td>\n      <td>957.59</td>\n      <td>836.10</td>\n      <td>698.01</td>\n      <td>824.74</td>\n      <td>661.21</td>\n      <td>729.66</td>\n      <td>649.44</td>\n      <td>496.60</td>\n      <td>...</td>\n      <td>280.86</td>\n      <td>444.76</td>\n      <td>145.31</td>\n      <td>391.73</td>\n      <td>659.97</td>\n      <td>370.22</td>\n      <td>414.00</td>\n      <td>345.22</td>\n      <td>453.68</td>\n      <td>660.92</td>\n    </tr>\n    <tr>\n      <th>46</th>\n      <td>1089.92</td>\n      <td>956.71</td>\n      <td>1091.81</td>\n      <td>1173.00</td>\n      <td>1036.31</td>\n      <td>1161.64</td>\n      <td>784.43</td>\n      <td>1066.56</td>\n      <td>986.34</td>\n      <td>834.90</td>\n      <td>...</td>\n      <td>75.84</td>\n      <td>320.14</td>\n      <td>205.39</td>\n      <td>101.37</td>\n      <td>323.07</td>\n      <td>329.06</td>\n      <td>290.78</td>\n      <td>222.00</td>\n      <td>329.06</td>\n      <td>322.62</td>\n    </tr>\n    <tr>\n      <th>47</th>\n      <td>906.60</td>\n      <td>934.93</td>\n      <td>1040.43</td>\n      <td>954.24</td>\n      <td>798.15</td>\n      <td>942.88</td>\n      <td>762.65</td>\n      <td>847.80</td>\n      <td>767.58</td>\n      <td>593.14</td>\n      <td>...</td>\n      <td>207.72</td>\n      <td>388.32</td>\n      <td>72.17</td>\n      <td>318.59</td>\n      <td>541.83</td>\n      <td>313.78</td>\n      <td>341.96</td>\n      <td>279.58</td>\n      <td>397.24</td>\n      <td>587.78</td>\n    </tr>\n    <tr>\n      <th>48</th>\n      <td>1001.43</td>\n      <td>1033.16</td>\n      <td>1161.66</td>\n      <td>882.51</td>\n      <td>752.22</td>\n      <td>972.01</td>\n      <td>857.48</td>\n      <td>851.07</td>\n      <td>812.91</td>\n      <td>662.63</td>\n      <td>...</td>\n      <td>226.65</td>\n      <td>332.47</td>\n      <td>107.00</td>\n      <td>337.52</td>\n      <td>613.56</td>\n      <td>166.15</td>\n      <td>301.77</td>\n      <td>148.95</td>\n      <td>249.61</td>\n      <td>606.71</td>\n    </tr>\n    <tr>\n      <th>49</th>\n      <td>1168.21</td>\n      <td>1024.48</td>\n      <td>1208.70</td>\n      <td>1274.89</td>\n      <td>1153.20</td>\n      <td>1263.73</td>\n      <td>885.60</td>\n      <td>1155.05</td>\n      <td>1097.83</td>\n      <td>951.79</td>\n      <td>...</td>\n      <td>174.33</td>\n      <td>249.37</td>\n      <td>309.88</td>\n      <td>63.46</td>\n      <td>254.50</td>\n      <td>417.15</td>\n      <td>258.61</td>\n      <td>278.21</td>\n      <td>263.09</td>\n      <td>222.53</td>\n    </tr>\n    <tr>\n      <th>50</th>\n      <td>1014.08</td>\n      <td>978.41</td>\n      <td>1106.91</td>\n      <td>1100.56</td>\n      <td>978.87</td>\n      <td>1089.40</td>\n      <td>801.93</td>\n      <td>990.72</td>\n      <td>923.50</td>\n      <td>777.46</td>\n      <td>...</td>\n      <td>0.00</td>\n      <td>295.44</td>\n      <td>135.55</td>\n      <td>110.87</td>\n      <td>398.91</td>\n      <td>253.22</td>\n      <td>284.48</td>\n      <td>215.70</td>\n      <td>304.36</td>\n      <td>380.06</td>\n    </tr>\n    <tr>\n      <th>51</th>\n      <td>1200.92</td>\n      <td>1273.85</td>\n      <td>1402.35</td>\n      <td>1206.38</td>\n      <td>1084.69</td>\n      <td>1204.30</td>\n      <td>1097.37</td>\n      <td>1086.54</td>\n      <td>1053.60</td>\n      <td>903.32</td>\n      <td>...</td>\n      <td>295.44</td>\n      <td>0.00</td>\n      <td>341.69</td>\n      <td>218.77</td>\n      <td>346.89</td>\n      <td>348.64</td>\n      <td>54.10</td>\n      <td>209.70</td>\n      <td>172.28</td>\n      <td>324.64</td>\n    </tr>\n    <tr>\n      <th>52</th>\n      <td>894.43</td>\n      <td>932.16</td>\n      <td>1060.66</td>\n      <td>967.61</td>\n      <td>843.32</td>\n      <td>956.25</td>\n      <td>755.68</td>\n      <td>861.17</td>\n      <td>787.95</td>\n      <td>641.91</td>\n      <td>...</td>\n      <td>135.55</td>\n      <td>341.69</td>\n      <td>0.00</td>\n      <td>246.42</td>\n      <td>528.46</td>\n      <td>267.15</td>\n      <td>324.73</td>\n      <td>255.95</td>\n      <td>350.61</td>\n      <td>515.61</td>\n    </tr>\n    <tr>\n      <th>53</th>\n      <td>1111.15</td>\n      <td>1055.08</td>\n      <td>1183.58</td>\n      <td>1211.43</td>\n      <td>1089.74</td>\n      <td>1200.27</td>\n      <td>878.60</td>\n      <td>1091.59</td>\n      <td>1034.37</td>\n      <td>888.33</td>\n      <td>...</td>\n      <td>110.87</td>\n      <td>218.77</td>\n      <td>246.42</td>\n      <td>0.00</td>\n      <td>301.84</td>\n      <td>353.69</td>\n      <td>221.61</td>\n      <td>214.75</td>\n      <td>227.69</td>\n      <td>279.59</td>\n    </tr>\n    <tr>\n      <th>54</th>\n      <td>1412.99</td>\n      <td>1243.38</td>\n      <td>1394.88</td>\n      <td>1496.07</td>\n      <td>1339.98</td>\n      <td>1484.71</td>\n      <td>1098.98</td>\n      <td>1389.63</td>\n      <td>1309.41</td>\n      <td>1134.97</td>\n      <td>...</td>\n      <td>398.91</td>\n      <td>346.89</td>\n      <td>528.46</td>\n      <td>301.84</td>\n      <td>0.00</td>\n      <td>652.13</td>\n      <td>311.79</td>\n      <td>473.79</td>\n      <td>480.77</td>\n      <td>79.69</td>\n    </tr>\n    <tr>\n      <th>55</th>\n      <td>1145.18</td>\n      <td>1199.31</td>\n      <td>1327.81</td>\n      <td>880.94</td>\n      <td>736.05</td>\n      <td>1129.76</td>\n      <td>1022.83</td>\n      <td>995.22</td>\n      <td>979.06</td>\n      <td>828.78</td>\n      <td>...</td>\n      <td>253.22</td>\n      <td>348.64</td>\n      <td>267.15</td>\n      <td>353.69</td>\n      <td>652.13</td>\n      <td>0.00</td>\n      <td>340.34</td>\n      <td>178.34</td>\n      <td>176.36</td>\n      <td>629.88</td>\n    </tr>\n    <tr>\n      <th>56</th>\n      <td>1219.16</td>\n      <td>1247.49</td>\n      <td>1355.99</td>\n      <td>1184.28</td>\n      <td>1030.59</td>\n      <td>1189.74</td>\n      <td>1075.21</td>\n      <td>1077.84</td>\n      <td>1029.64</td>\n      <td>856.96</td>\n      <td>...</td>\n      <td>284.48</td>\n      <td>54.10</td>\n      <td>324.73</td>\n      <td>221.61</td>\n      <td>311.79</td>\n      <td>340.34</td>\n      <td>0.00</td>\n      <td>162.00</td>\n      <td>168.98</td>\n      <td>328.34</td>\n    </tr>\n    <tr>\n      <th>57</th>\n      <td>1150.38</td>\n      <td>1178.71</td>\n      <td>1293.61</td>\n      <td>1022.28</td>\n      <td>874.99</td>\n      <td>1120.96</td>\n      <td>1006.43</td>\n      <td>1000.02</td>\n      <td>960.86</td>\n      <td>794.58</td>\n      <td>...</td>\n      <td>215.70</td>\n      <td>209.70</td>\n      <td>255.95</td>\n      <td>214.75</td>\n      <td>473.79</td>\n      <td>178.34</td>\n      <td>162.00</td>\n      <td>0.00</td>\n      <td>117.66</td>\n      <td>483.94</td>\n    </tr>\n    <tr>\n      <th>58</th>\n      <td>1223.64</td>\n      <td>1282.77</td>\n      <td>1411.27</td>\n      <td>1034.10</td>\n      <td>912.41</td>\n      <td>1213.22</td>\n      <td>1106.29</td>\n      <td>1078.68</td>\n      <td>1062.52</td>\n      <td>912.24</td>\n      <td>...</td>\n      <td>304.36</td>\n      <td>172.28</td>\n      <td>350.61</td>\n      <td>227.69</td>\n      <td>480.77</td>\n      <td>176.36</td>\n      <td>168.98</td>\n      <td>117.66</td>\n      <td>0.00</td>\n      <td>458.52</td>\n    </tr>\n    <tr>\n      <th>59</th>\n      <td>1390.74</td>\n      <td>1182.49</td>\n      <td>1414.43</td>\n      <td>1480.62</td>\n      <td>1358.93</td>\n      <td>1469.46</td>\n      <td>1091.33</td>\n      <td>1367.38</td>\n      <td>1303.56</td>\n      <td>1157.52</td>\n      <td>...</td>\n      <td>380.06</td>\n      <td>324.64</td>\n      <td>515.61</td>\n      <td>279.59</td>\n      <td>79.69</td>\n      <td>629.88</td>\n      <td>328.34</td>\n      <td>483.94</td>\n      <td>458.52</td>\n      <td>0.00</td>\n    </tr>\n  </tbody>\n</table>\n<p>60 rows × 60 columns</p>\n</div>"
     },
     "metadata": {},
     "output_type": "display_data"
    },
    {
     "name": "stderr",
     "output_type": "stream",
     "text": [
      "C:\\Users\\elias\\Downloads\\DataScience1\\venv\\lib\\site-packages\\sklearn\\cluster\\_agglomerative.py:983: FutureWarning: Attribute `affinity` was deprecated in version 1.2 and will be removed in 1.4. Use `metric` instead\n",
      "  warnings.warn(\n"
     ]
    },
    {
     "data": {
      "text/plain": "AgglomerativeClustering(affinity='euclidean', linkage='single', n_clusters=3)",
      "text/html": "<style>#sk-container-id-2 {color: black;background-color: white;}#sk-container-id-2 pre{padding: 0;}#sk-container-id-2 div.sk-toggleable {background-color: white;}#sk-container-id-2 label.sk-toggleable__label {cursor: pointer;display: block;width: 100%;margin-bottom: 0;padding: 0.3em;box-sizing: border-box;text-align: center;}#sk-container-id-2 label.sk-toggleable__label-arrow:before {content: \"▸\";float: left;margin-right: 0.25em;color: #696969;}#sk-container-id-2 label.sk-toggleable__label-arrow:hover:before {color: black;}#sk-container-id-2 div.sk-estimator:hover label.sk-toggleable__label-arrow:before {color: black;}#sk-container-id-2 div.sk-toggleable__content {max-height: 0;max-width: 0;overflow: hidden;text-align: left;background-color: #f0f8ff;}#sk-container-id-2 div.sk-toggleable__content pre {margin: 0.2em;color: black;border-radius: 0.25em;background-color: #f0f8ff;}#sk-container-id-2 input.sk-toggleable__control:checked~div.sk-toggleable__content {max-height: 200px;max-width: 100%;overflow: auto;}#sk-container-id-2 input.sk-toggleable__control:checked~label.sk-toggleable__label-arrow:before {content: \"▾\";}#sk-container-id-2 div.sk-estimator input.sk-toggleable__control:checked~label.sk-toggleable__label {background-color: #d4ebff;}#sk-container-id-2 div.sk-label input.sk-toggleable__control:checked~label.sk-toggleable__label {background-color: #d4ebff;}#sk-container-id-2 input.sk-hidden--visually {border: 0;clip: rect(1px 1px 1px 1px);clip: rect(1px, 1px, 1px, 1px);height: 1px;margin: -1px;overflow: hidden;padding: 0;position: absolute;width: 1px;}#sk-container-id-2 div.sk-estimator {font-family: monospace;background-color: #f0f8ff;border: 1px dotted black;border-radius: 0.25em;box-sizing: border-box;margin-bottom: 0.5em;}#sk-container-id-2 div.sk-estimator:hover {background-color: #d4ebff;}#sk-container-id-2 div.sk-parallel-item::after {content: \"\";width: 100%;border-bottom: 1px solid gray;flex-grow: 1;}#sk-container-id-2 div.sk-label:hover label.sk-toggleable__label {background-color: #d4ebff;}#sk-container-id-2 div.sk-serial::before {content: \"\";position: absolute;border-left: 1px solid gray;box-sizing: border-box;top: 0;bottom: 0;left: 50%;z-index: 0;}#sk-container-id-2 div.sk-serial {display: flex;flex-direction: column;align-items: center;background-color: white;padding-right: 0.2em;padding-left: 0.2em;position: relative;}#sk-container-id-2 div.sk-item {position: relative;z-index: 1;}#sk-container-id-2 div.sk-parallel {display: flex;align-items: stretch;justify-content: center;background-color: white;position: relative;}#sk-container-id-2 div.sk-item::before, #sk-container-id-2 div.sk-parallel-item::before {content: \"\";position: absolute;border-left: 1px solid gray;box-sizing: border-box;top: 0;bottom: 0;left: 50%;z-index: -1;}#sk-container-id-2 div.sk-parallel-item {display: flex;flex-direction: column;z-index: 1;position: relative;background-color: white;}#sk-container-id-2 div.sk-parallel-item:first-child::after {align-self: flex-end;width: 50%;}#sk-container-id-2 div.sk-parallel-item:last-child::after {align-self: flex-start;width: 50%;}#sk-container-id-2 div.sk-parallel-item:only-child::after {width: 0;}#sk-container-id-2 div.sk-dashed-wrapped {border: 1px dashed gray;margin: 0 0.4em 0.5em 0.4em;box-sizing: border-box;padding-bottom: 0.4em;background-color: white;}#sk-container-id-2 div.sk-label label {font-family: monospace;font-weight: bold;display: inline-block;line-height: 1.2em;}#sk-container-id-2 div.sk-label-container {text-align: center;}#sk-container-id-2 div.sk-container {/* jupyter's `normalize.less` sets `[hidden] { display: none; }` but bootstrap.min.css set `[hidden] { display: none !important; }` so we also need the `!important` here to be able to override the default hidden behavior on the sphinx rendered scikit-learn.org. See: https://github.com/scikit-learn/scikit-learn/issues/21755 */display: inline-block !important;position: relative;}#sk-container-id-2 div.sk-text-repr-fallback {display: none;}</style><div id=\"sk-container-id-2\" class=\"sk-top-container\"><div class=\"sk-text-repr-fallback\"><pre>AgglomerativeClustering(affinity=&#x27;euclidean&#x27;, linkage=&#x27;single&#x27;, n_clusters=3)</pre><b>In a Jupyter environment, please rerun this cell to show the HTML representation or trust the notebook. <br />On GitHub, the HTML representation is unable to render, please try loading this page with nbviewer.org.</b></div><div class=\"sk-container\" hidden><div class=\"sk-item\"><div class=\"sk-estimator sk-toggleable\"><input class=\"sk-toggleable__control sk-hidden--visually\" id=\"sk-estimator-id-2\" type=\"checkbox\" checked><label for=\"sk-estimator-id-2\" class=\"sk-toggleable__label sk-toggleable__label-arrow\">AgglomerativeClustering</label><div class=\"sk-toggleable__content\"><pre>AgglomerativeClustering(affinity=&#x27;euclidean&#x27;, linkage=&#x27;single&#x27;, n_clusters=3)</pre></div></div></div></div></div>"
     },
     "execution_count": 70,
     "metadata": {},
     "output_type": "execute_result"
    },
    {
     "name": "stderr",
     "output_type": "stream",
     "text": [
      "C:\\Users\\elias\\AppData\\Local\\Temp\\ipykernel_9988\\328195160.py:21: SettingWithCopyWarning: \n",
      "A value is trying to be set on a copy of a slice from a DataFrame.\n",
      "Try using .loc[row_indexer,col_indexer] = value instead\n",
      "\n",
      "See the caveats in the documentation: https://pandas.pydata.org/pandas-docs/stable/user_guide/indexing.html#returning-a-view-versus-a-copy\n",
      "  examen4['cluster_with_3'] = cluster.labels_\n"
     ]
    },
    {
     "data": {
      "text/plain": "     bedrag  lengte    saldo  cluster_with_3\n0   1556.30   194.4   -71.26               0\n1   1339.01   172.1    95.40               0\n2   1480.33   160.6  -162.92               0\n3   1736.86   178.1     9.92               0\n4   1802.29   160.9   214.24               0\n5   1606.87   178.0  -108.81               0\n6   1471.27   174.2   137.52               0\n7   1619.80   184.8     6.00               0\n8   1599.27   173.3    54.19               0\n9   1601.39   159.1   216.55               0\n10  1481.91   185.9   134.16               0\n11  1414.51   167.2   293.79               0\n12  1556.78   182.3    47.39               0\n13  1632.51   205.1   221.91               0\n14  1280.24   157.7   385.00               0\n15  1596.62   200.4    96.59               0\n16  1578.66   173.0   305.54               0\n17  1550.21   205.7   194.25               0\n18  1500.50   150.0   230.48               0\n19  1203.88   162.0   429.27               0\n20  1516.40   178.5   311.72               0\n21  1715.59   181.1   484.82               0\n22  1564.50   195.7   235.07               0\n23  1028.11   182.2   402.86               0\n24  1588.99   178.4   609.60               0\n25  1651.27   195.4   299.90               0\n26  1328.63   182.6   515.87               0\n27  1535.81   165.7   375.34               0\n28  1362.34   142.2   419.42               0\n29  1620.84   199.3   637.14               0\n30  1532.42   141.1   526.75               0\n31  1682.81   196.6   689.11               0\n32  1569.28   191.9   410.66               0\n33  1288.64   153.9   579.09               0\n34  1446.78   177.5   794.23               0\n35  1674.10   134.0   458.18               0\n36  1141.93   180.7   709.73               1\n37  1866.36   201.5   579.25               0\n38  1712.46   175.0   616.71               0\n39  1569.05   182.6   802.72               0\n40  1409.03   180.2   696.42               0\n41  1691.68   146.3   891.28               0\n42  1645.59   187.7   613.52               0\n43  1616.08   188.7   779.93               0\n44  1653.08   183.4   963.26               0\n45  1582.37   169.9   683.33               0\n46  1475.53   170.6   914.09               0\n47  1574.02   147.4   770.62               0\n48  1657.30   173.8   808.57               0\n49  1452.47   189.9   988.62               0\n50  1516.60   179.8   888.52               0\n51  1611.41   206.7  1062.25               0\n52  1561.25   176.8   800.62               0\n53  1499.50   186.7   975.39               0\n54  1457.33   135.8  1184.16               2\n55  1748.46   185.0   872.36               0\n56  1615.28   162.1  1056.62               0\n57  1661.89   165.3   944.43               0\n58  1702.01   187.5   999.77               0\n59  1428.61   181.5  1178.89               2",
      "text/html": "<div>\n<style scoped>\n    .dataframe tbody tr th:only-of-type {\n        vertical-align: middle;\n    }\n\n    .dataframe tbody tr th {\n        vertical-align: top;\n    }\n\n    .dataframe thead th {\n        text-align: right;\n    }\n</style>\n<table border=\"1\" class=\"dataframe\">\n  <thead>\n    <tr style=\"text-align: right;\">\n      <th></th>\n      <th>bedrag</th>\n      <th>lengte</th>\n      <th>saldo</th>\n      <th>cluster_with_3</th>\n    </tr>\n  </thead>\n  <tbody>\n    <tr>\n      <th>0</th>\n      <td>1556.30</td>\n      <td>194.4</td>\n      <td>-71.26</td>\n      <td>0</td>\n    </tr>\n    <tr>\n      <th>1</th>\n      <td>1339.01</td>\n      <td>172.1</td>\n      <td>95.40</td>\n      <td>0</td>\n    </tr>\n    <tr>\n      <th>2</th>\n      <td>1480.33</td>\n      <td>160.6</td>\n      <td>-162.92</td>\n      <td>0</td>\n    </tr>\n    <tr>\n      <th>3</th>\n      <td>1736.86</td>\n      <td>178.1</td>\n      <td>9.92</td>\n      <td>0</td>\n    </tr>\n    <tr>\n      <th>4</th>\n      <td>1802.29</td>\n      <td>160.9</td>\n      <td>214.24</td>\n      <td>0</td>\n    </tr>\n    <tr>\n      <th>5</th>\n      <td>1606.87</td>\n      <td>178.0</td>\n      <td>-108.81</td>\n      <td>0</td>\n    </tr>\n    <tr>\n      <th>6</th>\n      <td>1471.27</td>\n      <td>174.2</td>\n      <td>137.52</td>\n      <td>0</td>\n    </tr>\n    <tr>\n      <th>7</th>\n      <td>1619.80</td>\n      <td>184.8</td>\n      <td>6.00</td>\n      <td>0</td>\n    </tr>\n    <tr>\n      <th>8</th>\n      <td>1599.27</td>\n      <td>173.3</td>\n      <td>54.19</td>\n      <td>0</td>\n    </tr>\n    <tr>\n      <th>9</th>\n      <td>1601.39</td>\n      <td>159.1</td>\n      <td>216.55</td>\n      <td>0</td>\n    </tr>\n    <tr>\n      <th>10</th>\n      <td>1481.91</td>\n      <td>185.9</td>\n      <td>134.16</td>\n      <td>0</td>\n    </tr>\n    <tr>\n      <th>11</th>\n      <td>1414.51</td>\n      <td>167.2</td>\n      <td>293.79</td>\n      <td>0</td>\n    </tr>\n    <tr>\n      <th>12</th>\n      <td>1556.78</td>\n      <td>182.3</td>\n      <td>47.39</td>\n      <td>0</td>\n    </tr>\n    <tr>\n      <th>13</th>\n      <td>1632.51</td>\n      <td>205.1</td>\n      <td>221.91</td>\n      <td>0</td>\n    </tr>\n    <tr>\n      <th>14</th>\n      <td>1280.24</td>\n      <td>157.7</td>\n      <td>385.00</td>\n      <td>0</td>\n    </tr>\n    <tr>\n      <th>15</th>\n      <td>1596.62</td>\n      <td>200.4</td>\n      <td>96.59</td>\n      <td>0</td>\n    </tr>\n    <tr>\n      <th>16</th>\n      <td>1578.66</td>\n      <td>173.0</td>\n      <td>305.54</td>\n      <td>0</td>\n    </tr>\n    <tr>\n      <th>17</th>\n      <td>1550.21</td>\n      <td>205.7</td>\n      <td>194.25</td>\n      <td>0</td>\n    </tr>\n    <tr>\n      <th>18</th>\n      <td>1500.50</td>\n      <td>150.0</td>\n      <td>230.48</td>\n      <td>0</td>\n    </tr>\n    <tr>\n      <th>19</th>\n      <td>1203.88</td>\n      <td>162.0</td>\n      <td>429.27</td>\n      <td>0</td>\n    </tr>\n    <tr>\n      <th>20</th>\n      <td>1516.40</td>\n      <td>178.5</td>\n      <td>311.72</td>\n      <td>0</td>\n    </tr>\n    <tr>\n      <th>21</th>\n      <td>1715.59</td>\n      <td>181.1</td>\n      <td>484.82</td>\n      <td>0</td>\n    </tr>\n    <tr>\n      <th>22</th>\n      <td>1564.50</td>\n      <td>195.7</td>\n      <td>235.07</td>\n      <td>0</td>\n    </tr>\n    <tr>\n      <th>23</th>\n      <td>1028.11</td>\n      <td>182.2</td>\n      <td>402.86</td>\n      <td>0</td>\n    </tr>\n    <tr>\n      <th>24</th>\n      <td>1588.99</td>\n      <td>178.4</td>\n      <td>609.60</td>\n      <td>0</td>\n    </tr>\n    <tr>\n      <th>25</th>\n      <td>1651.27</td>\n      <td>195.4</td>\n      <td>299.90</td>\n      <td>0</td>\n    </tr>\n    <tr>\n      <th>26</th>\n      <td>1328.63</td>\n      <td>182.6</td>\n      <td>515.87</td>\n      <td>0</td>\n    </tr>\n    <tr>\n      <th>27</th>\n      <td>1535.81</td>\n      <td>165.7</td>\n      <td>375.34</td>\n      <td>0</td>\n    </tr>\n    <tr>\n      <th>28</th>\n      <td>1362.34</td>\n      <td>142.2</td>\n      <td>419.42</td>\n      <td>0</td>\n    </tr>\n    <tr>\n      <th>29</th>\n      <td>1620.84</td>\n      <td>199.3</td>\n      <td>637.14</td>\n      <td>0</td>\n    </tr>\n    <tr>\n      <th>30</th>\n      <td>1532.42</td>\n      <td>141.1</td>\n      <td>526.75</td>\n      <td>0</td>\n    </tr>\n    <tr>\n      <th>31</th>\n      <td>1682.81</td>\n      <td>196.6</td>\n      <td>689.11</td>\n      <td>0</td>\n    </tr>\n    <tr>\n      <th>32</th>\n      <td>1569.28</td>\n      <td>191.9</td>\n      <td>410.66</td>\n      <td>0</td>\n    </tr>\n    <tr>\n      <th>33</th>\n      <td>1288.64</td>\n      <td>153.9</td>\n      <td>579.09</td>\n      <td>0</td>\n    </tr>\n    <tr>\n      <th>34</th>\n      <td>1446.78</td>\n      <td>177.5</td>\n      <td>794.23</td>\n      <td>0</td>\n    </tr>\n    <tr>\n      <th>35</th>\n      <td>1674.10</td>\n      <td>134.0</td>\n      <td>458.18</td>\n      <td>0</td>\n    </tr>\n    <tr>\n      <th>36</th>\n      <td>1141.93</td>\n      <td>180.7</td>\n      <td>709.73</td>\n      <td>1</td>\n    </tr>\n    <tr>\n      <th>37</th>\n      <td>1866.36</td>\n      <td>201.5</td>\n      <td>579.25</td>\n      <td>0</td>\n    </tr>\n    <tr>\n      <th>38</th>\n      <td>1712.46</td>\n      <td>175.0</td>\n      <td>616.71</td>\n      <td>0</td>\n    </tr>\n    <tr>\n      <th>39</th>\n      <td>1569.05</td>\n      <td>182.6</td>\n      <td>802.72</td>\n      <td>0</td>\n    </tr>\n    <tr>\n      <th>40</th>\n      <td>1409.03</td>\n      <td>180.2</td>\n      <td>696.42</td>\n      <td>0</td>\n    </tr>\n    <tr>\n      <th>41</th>\n      <td>1691.68</td>\n      <td>146.3</td>\n      <td>891.28</td>\n      <td>0</td>\n    </tr>\n    <tr>\n      <th>42</th>\n      <td>1645.59</td>\n      <td>187.7</td>\n      <td>613.52</td>\n      <td>0</td>\n    </tr>\n    <tr>\n      <th>43</th>\n      <td>1616.08</td>\n      <td>188.7</td>\n      <td>779.93</td>\n      <td>0</td>\n    </tr>\n    <tr>\n      <th>44</th>\n      <td>1653.08</td>\n      <td>183.4</td>\n      <td>963.26</td>\n      <td>0</td>\n    </tr>\n    <tr>\n      <th>45</th>\n      <td>1582.37</td>\n      <td>169.9</td>\n      <td>683.33</td>\n      <td>0</td>\n    </tr>\n    <tr>\n      <th>46</th>\n      <td>1475.53</td>\n      <td>170.6</td>\n      <td>914.09</td>\n      <td>0</td>\n    </tr>\n    <tr>\n      <th>47</th>\n      <td>1574.02</td>\n      <td>147.4</td>\n      <td>770.62</td>\n      <td>0</td>\n    </tr>\n    <tr>\n      <th>48</th>\n      <td>1657.30</td>\n      <td>173.8</td>\n      <td>808.57</td>\n      <td>0</td>\n    </tr>\n    <tr>\n      <th>49</th>\n      <td>1452.47</td>\n      <td>189.9</td>\n      <td>988.62</td>\n      <td>0</td>\n    </tr>\n    <tr>\n      <th>50</th>\n      <td>1516.60</td>\n      <td>179.8</td>\n      <td>888.52</td>\n      <td>0</td>\n    </tr>\n    <tr>\n      <th>51</th>\n      <td>1611.41</td>\n      <td>206.7</td>\n      <td>1062.25</td>\n      <td>0</td>\n    </tr>\n    <tr>\n      <th>52</th>\n      <td>1561.25</td>\n      <td>176.8</td>\n      <td>800.62</td>\n      <td>0</td>\n    </tr>\n    <tr>\n      <th>53</th>\n      <td>1499.50</td>\n      <td>186.7</td>\n      <td>975.39</td>\n      <td>0</td>\n    </tr>\n    <tr>\n      <th>54</th>\n      <td>1457.33</td>\n      <td>135.8</td>\n      <td>1184.16</td>\n      <td>2</td>\n    </tr>\n    <tr>\n      <th>55</th>\n      <td>1748.46</td>\n      <td>185.0</td>\n      <td>872.36</td>\n      <td>0</td>\n    </tr>\n    <tr>\n      <th>56</th>\n      <td>1615.28</td>\n      <td>162.1</td>\n      <td>1056.62</td>\n      <td>0</td>\n    </tr>\n    <tr>\n      <th>57</th>\n      <td>1661.89</td>\n      <td>165.3</td>\n      <td>944.43</td>\n      <td>0</td>\n    </tr>\n    <tr>\n      <th>58</th>\n      <td>1702.01</td>\n      <td>187.5</td>\n      <td>999.77</td>\n      <td>0</td>\n    </tr>\n    <tr>\n      <th>59</th>\n      <td>1428.61</td>\n      <td>181.5</td>\n      <td>1178.89</td>\n      <td>2</td>\n    </tr>\n  </tbody>\n</table>\n</div>"
     },
     "metadata": {},
     "output_type": "display_data"
    },
    {
     "data": {
      "text/plain": "KMeans(max_iter=100, n_clusters=2, n_init='auto')",
      "text/html": "<style>#sk-container-id-3 {color: black;background-color: white;}#sk-container-id-3 pre{padding: 0;}#sk-container-id-3 div.sk-toggleable {background-color: white;}#sk-container-id-3 label.sk-toggleable__label {cursor: pointer;display: block;width: 100%;margin-bottom: 0;padding: 0.3em;box-sizing: border-box;text-align: center;}#sk-container-id-3 label.sk-toggleable__label-arrow:before {content: \"▸\";float: left;margin-right: 0.25em;color: #696969;}#sk-container-id-3 label.sk-toggleable__label-arrow:hover:before {color: black;}#sk-container-id-3 div.sk-estimator:hover label.sk-toggleable__label-arrow:before {color: black;}#sk-container-id-3 div.sk-toggleable__content {max-height: 0;max-width: 0;overflow: hidden;text-align: left;background-color: #f0f8ff;}#sk-container-id-3 div.sk-toggleable__content pre {margin: 0.2em;color: black;border-radius: 0.25em;background-color: #f0f8ff;}#sk-container-id-3 input.sk-toggleable__control:checked~div.sk-toggleable__content {max-height: 200px;max-width: 100%;overflow: auto;}#sk-container-id-3 input.sk-toggleable__control:checked~label.sk-toggleable__label-arrow:before {content: \"▾\";}#sk-container-id-3 div.sk-estimator input.sk-toggleable__control:checked~label.sk-toggleable__label {background-color: #d4ebff;}#sk-container-id-3 div.sk-label input.sk-toggleable__control:checked~label.sk-toggleable__label {background-color: #d4ebff;}#sk-container-id-3 input.sk-hidden--visually {border: 0;clip: rect(1px 1px 1px 1px);clip: rect(1px, 1px, 1px, 1px);height: 1px;margin: -1px;overflow: hidden;padding: 0;position: absolute;width: 1px;}#sk-container-id-3 div.sk-estimator {font-family: monospace;background-color: #f0f8ff;border: 1px dotted black;border-radius: 0.25em;box-sizing: border-box;margin-bottom: 0.5em;}#sk-container-id-3 div.sk-estimator:hover {background-color: #d4ebff;}#sk-container-id-3 div.sk-parallel-item::after {content: \"\";width: 100%;border-bottom: 1px solid gray;flex-grow: 1;}#sk-container-id-3 div.sk-label:hover label.sk-toggleable__label {background-color: #d4ebff;}#sk-container-id-3 div.sk-serial::before {content: \"\";position: absolute;border-left: 1px solid gray;box-sizing: border-box;top: 0;bottom: 0;left: 50%;z-index: 0;}#sk-container-id-3 div.sk-serial {display: flex;flex-direction: column;align-items: center;background-color: white;padding-right: 0.2em;padding-left: 0.2em;position: relative;}#sk-container-id-3 div.sk-item {position: relative;z-index: 1;}#sk-container-id-3 div.sk-parallel {display: flex;align-items: stretch;justify-content: center;background-color: white;position: relative;}#sk-container-id-3 div.sk-item::before, #sk-container-id-3 div.sk-parallel-item::before {content: \"\";position: absolute;border-left: 1px solid gray;box-sizing: border-box;top: 0;bottom: 0;left: 50%;z-index: -1;}#sk-container-id-3 div.sk-parallel-item {display: flex;flex-direction: column;z-index: 1;position: relative;background-color: white;}#sk-container-id-3 div.sk-parallel-item:first-child::after {align-self: flex-end;width: 50%;}#sk-container-id-3 div.sk-parallel-item:last-child::after {align-self: flex-start;width: 50%;}#sk-container-id-3 div.sk-parallel-item:only-child::after {width: 0;}#sk-container-id-3 div.sk-dashed-wrapped {border: 1px dashed gray;margin: 0 0.4em 0.5em 0.4em;box-sizing: border-box;padding-bottom: 0.4em;background-color: white;}#sk-container-id-3 div.sk-label label {font-family: monospace;font-weight: bold;display: inline-block;line-height: 1.2em;}#sk-container-id-3 div.sk-label-container {text-align: center;}#sk-container-id-3 div.sk-container {/* jupyter's `normalize.less` sets `[hidden] { display: none; }` but bootstrap.min.css set `[hidden] { display: none !important; }` so we also need the `!important` here to be able to override the default hidden behavior on the sphinx rendered scikit-learn.org. See: https://github.com/scikit-learn/scikit-learn/issues/21755 */display: inline-block !important;position: relative;}#sk-container-id-3 div.sk-text-repr-fallback {display: none;}</style><div id=\"sk-container-id-3\" class=\"sk-top-container\"><div class=\"sk-text-repr-fallback\"><pre>KMeans(max_iter=100, n_clusters=2, n_init=&#x27;auto&#x27;)</pre><b>In a Jupyter environment, please rerun this cell to show the HTML representation or trust the notebook. <br />On GitHub, the HTML representation is unable to render, please try loading this page with nbviewer.org.</b></div><div class=\"sk-container\" hidden><div class=\"sk-item\"><div class=\"sk-estimator sk-toggleable\"><input class=\"sk-toggleable__control sk-hidden--visually\" id=\"sk-estimator-id-3\" type=\"checkbox\" checked><label for=\"sk-estimator-id-3\" class=\"sk-toggleable__label sk-toggleable__label-arrow\">KMeans</label><div class=\"sk-toggleable__content\"><pre>KMeans(max_iter=100, n_clusters=2, n_init=&#x27;auto&#x27;)</pre></div></div></div></div></div>"
     },
     "execution_count": 70,
     "metadata": {},
     "output_type": "execute_result"
    },
    {
     "data": {
      "text/plain": "          x        y  cluster\n0    -71.26  1556.30        0\n1     95.40  1339.01        0\n2   -162.92  1480.33        0\n3      9.92  1736.86        0\n4    214.24  1802.29        0\n5   -108.81  1606.87        0\n6    137.52  1471.27        0\n7      6.00  1619.80        0\n8     54.19  1599.27        0\n9    216.55  1601.39        0\n10   134.16  1481.91        0\n11   293.79  1414.51        0\n12    47.39  1556.78        0\n13   221.91  1632.51        0\n14   385.00  1280.24        0\n15    96.59  1596.62        0\n16   305.54  1578.66        0\n17   194.25  1550.21        0\n18   230.48  1500.50        0\n19   429.27  1203.88        0\n20   311.72  1516.40        0\n21   484.82  1715.59        0\n22   235.07  1564.50        0\n23   402.86  1028.11        0\n24   609.60  1588.99        1\n25   299.90  1651.27        0\n26   515.87  1328.63        0\n27   375.34  1535.81        0\n28   419.42  1362.34        0\n29   637.14  1620.84        1\n30   526.75  1532.42        1\n31   689.11  1682.81        1\n32   410.66  1569.28        0\n33   579.09  1288.64        1\n34   794.23  1446.78        1\n35   458.18  1674.10        0\n36   709.73  1141.93        1\n37   579.25  1866.36        1\n38   616.71  1712.46        1\n39   802.72  1569.05        1\n40   696.42  1409.03        1\n41   891.28  1691.68        1\n42   613.52  1645.59        1\n43   779.93  1616.08        1\n44   963.26  1653.08        1\n45   683.33  1582.37        1\n46   914.09  1475.53        1\n47   770.62  1574.02        1\n48   808.57  1657.30        1\n49   988.62  1452.47        1\n50   888.52  1516.60        1\n51  1062.25  1611.41        1\n52   800.62  1561.25        1\n53   975.39  1499.50        1\n54  1184.16  1457.33        1\n55   872.36  1748.46        1\n56  1056.62  1615.28        1\n57   944.43  1661.89        1\n58   999.77  1702.01        1\n59  1178.89  1428.61        1",
      "text/html": "<div>\n<style scoped>\n    .dataframe tbody tr th:only-of-type {\n        vertical-align: middle;\n    }\n\n    .dataframe tbody tr th {\n        vertical-align: top;\n    }\n\n    .dataframe thead th {\n        text-align: right;\n    }\n</style>\n<table border=\"1\" class=\"dataframe\">\n  <thead>\n    <tr style=\"text-align: right;\">\n      <th></th>\n      <th>x</th>\n      <th>y</th>\n      <th>cluster</th>\n    </tr>\n  </thead>\n  <tbody>\n    <tr>\n      <th>0</th>\n      <td>-71.26</td>\n      <td>1556.30</td>\n      <td>0</td>\n    </tr>\n    <tr>\n      <th>1</th>\n      <td>95.40</td>\n      <td>1339.01</td>\n      <td>0</td>\n    </tr>\n    <tr>\n      <th>2</th>\n      <td>-162.92</td>\n      <td>1480.33</td>\n      <td>0</td>\n    </tr>\n    <tr>\n      <th>3</th>\n      <td>9.92</td>\n      <td>1736.86</td>\n      <td>0</td>\n    </tr>\n    <tr>\n      <th>4</th>\n      <td>214.24</td>\n      <td>1802.29</td>\n      <td>0</td>\n    </tr>\n    <tr>\n      <th>5</th>\n      <td>-108.81</td>\n      <td>1606.87</td>\n      <td>0</td>\n    </tr>\n    <tr>\n      <th>6</th>\n      <td>137.52</td>\n      <td>1471.27</td>\n      <td>0</td>\n    </tr>\n    <tr>\n      <th>7</th>\n      <td>6.00</td>\n      <td>1619.80</td>\n      <td>0</td>\n    </tr>\n    <tr>\n      <th>8</th>\n      <td>54.19</td>\n      <td>1599.27</td>\n      <td>0</td>\n    </tr>\n    <tr>\n      <th>9</th>\n      <td>216.55</td>\n      <td>1601.39</td>\n      <td>0</td>\n    </tr>\n    <tr>\n      <th>10</th>\n      <td>134.16</td>\n      <td>1481.91</td>\n      <td>0</td>\n    </tr>\n    <tr>\n      <th>11</th>\n      <td>293.79</td>\n      <td>1414.51</td>\n      <td>0</td>\n    </tr>\n    <tr>\n      <th>12</th>\n      <td>47.39</td>\n      <td>1556.78</td>\n      <td>0</td>\n    </tr>\n    <tr>\n      <th>13</th>\n      <td>221.91</td>\n      <td>1632.51</td>\n      <td>0</td>\n    </tr>\n    <tr>\n      <th>14</th>\n      <td>385.00</td>\n      <td>1280.24</td>\n      <td>0</td>\n    </tr>\n    <tr>\n      <th>15</th>\n      <td>96.59</td>\n      <td>1596.62</td>\n      <td>0</td>\n    </tr>\n    <tr>\n      <th>16</th>\n      <td>305.54</td>\n      <td>1578.66</td>\n      <td>0</td>\n    </tr>\n    <tr>\n      <th>17</th>\n      <td>194.25</td>\n      <td>1550.21</td>\n      <td>0</td>\n    </tr>\n    <tr>\n      <th>18</th>\n      <td>230.48</td>\n      <td>1500.50</td>\n      <td>0</td>\n    </tr>\n    <tr>\n      <th>19</th>\n      <td>429.27</td>\n      <td>1203.88</td>\n      <td>0</td>\n    </tr>\n    <tr>\n      <th>20</th>\n      <td>311.72</td>\n      <td>1516.40</td>\n      <td>0</td>\n    </tr>\n    <tr>\n      <th>21</th>\n      <td>484.82</td>\n      <td>1715.59</td>\n      <td>0</td>\n    </tr>\n    <tr>\n      <th>22</th>\n      <td>235.07</td>\n      <td>1564.50</td>\n      <td>0</td>\n    </tr>\n    <tr>\n      <th>23</th>\n      <td>402.86</td>\n      <td>1028.11</td>\n      <td>0</td>\n    </tr>\n    <tr>\n      <th>24</th>\n      <td>609.60</td>\n      <td>1588.99</td>\n      <td>1</td>\n    </tr>\n    <tr>\n      <th>25</th>\n      <td>299.90</td>\n      <td>1651.27</td>\n      <td>0</td>\n    </tr>\n    <tr>\n      <th>26</th>\n      <td>515.87</td>\n      <td>1328.63</td>\n      <td>0</td>\n    </tr>\n    <tr>\n      <th>27</th>\n      <td>375.34</td>\n      <td>1535.81</td>\n      <td>0</td>\n    </tr>\n    <tr>\n      <th>28</th>\n      <td>419.42</td>\n      <td>1362.34</td>\n      <td>0</td>\n    </tr>\n    <tr>\n      <th>29</th>\n      <td>637.14</td>\n      <td>1620.84</td>\n      <td>1</td>\n    </tr>\n    <tr>\n      <th>30</th>\n      <td>526.75</td>\n      <td>1532.42</td>\n      <td>1</td>\n    </tr>\n    <tr>\n      <th>31</th>\n      <td>689.11</td>\n      <td>1682.81</td>\n      <td>1</td>\n    </tr>\n    <tr>\n      <th>32</th>\n      <td>410.66</td>\n      <td>1569.28</td>\n      <td>0</td>\n    </tr>\n    <tr>\n      <th>33</th>\n      <td>579.09</td>\n      <td>1288.64</td>\n      <td>1</td>\n    </tr>\n    <tr>\n      <th>34</th>\n      <td>794.23</td>\n      <td>1446.78</td>\n      <td>1</td>\n    </tr>\n    <tr>\n      <th>35</th>\n      <td>458.18</td>\n      <td>1674.10</td>\n      <td>0</td>\n    </tr>\n    <tr>\n      <th>36</th>\n      <td>709.73</td>\n      <td>1141.93</td>\n      <td>1</td>\n    </tr>\n    <tr>\n      <th>37</th>\n      <td>579.25</td>\n      <td>1866.36</td>\n      <td>1</td>\n    </tr>\n    <tr>\n      <th>38</th>\n      <td>616.71</td>\n      <td>1712.46</td>\n      <td>1</td>\n    </tr>\n    <tr>\n      <th>39</th>\n      <td>802.72</td>\n      <td>1569.05</td>\n      <td>1</td>\n    </tr>\n    <tr>\n      <th>40</th>\n      <td>696.42</td>\n      <td>1409.03</td>\n      <td>1</td>\n    </tr>\n    <tr>\n      <th>41</th>\n      <td>891.28</td>\n      <td>1691.68</td>\n      <td>1</td>\n    </tr>\n    <tr>\n      <th>42</th>\n      <td>613.52</td>\n      <td>1645.59</td>\n      <td>1</td>\n    </tr>\n    <tr>\n      <th>43</th>\n      <td>779.93</td>\n      <td>1616.08</td>\n      <td>1</td>\n    </tr>\n    <tr>\n      <th>44</th>\n      <td>963.26</td>\n      <td>1653.08</td>\n      <td>1</td>\n    </tr>\n    <tr>\n      <th>45</th>\n      <td>683.33</td>\n      <td>1582.37</td>\n      <td>1</td>\n    </tr>\n    <tr>\n      <th>46</th>\n      <td>914.09</td>\n      <td>1475.53</td>\n      <td>1</td>\n    </tr>\n    <tr>\n      <th>47</th>\n      <td>770.62</td>\n      <td>1574.02</td>\n      <td>1</td>\n    </tr>\n    <tr>\n      <th>48</th>\n      <td>808.57</td>\n      <td>1657.30</td>\n      <td>1</td>\n    </tr>\n    <tr>\n      <th>49</th>\n      <td>988.62</td>\n      <td>1452.47</td>\n      <td>1</td>\n    </tr>\n    <tr>\n      <th>50</th>\n      <td>888.52</td>\n      <td>1516.60</td>\n      <td>1</td>\n    </tr>\n    <tr>\n      <th>51</th>\n      <td>1062.25</td>\n      <td>1611.41</td>\n      <td>1</td>\n    </tr>\n    <tr>\n      <th>52</th>\n      <td>800.62</td>\n      <td>1561.25</td>\n      <td>1</td>\n    </tr>\n    <tr>\n      <th>53</th>\n      <td>975.39</td>\n      <td>1499.50</td>\n      <td>1</td>\n    </tr>\n    <tr>\n      <th>54</th>\n      <td>1184.16</td>\n      <td>1457.33</td>\n      <td>1</td>\n    </tr>\n    <tr>\n      <th>55</th>\n      <td>872.36</td>\n      <td>1748.46</td>\n      <td>1</td>\n    </tr>\n    <tr>\n      <th>56</th>\n      <td>1056.62</td>\n      <td>1615.28</td>\n      <td>1</td>\n    </tr>\n    <tr>\n      <th>57</th>\n      <td>944.43</td>\n      <td>1661.89</td>\n      <td>1</td>\n    </tr>\n    <tr>\n      <th>58</th>\n      <td>999.77</td>\n      <td>1702.01</td>\n      <td>1</td>\n    </tr>\n    <tr>\n      <th>59</th>\n      <td>1178.89</td>\n      <td>1428.61</td>\n      <td>1</td>\n    </tr>\n  </tbody>\n</table>\n</div>"
     },
     "metadata": {},
     "output_type": "display_data"
    }
   ],
   "source": [
    "# a)\n",
    "afstand_manhattan = pd.DataFrame(cdist(examen4, examen4, metric='cityblock'), columns=examen4.index.values, index=examen4.index.values)\n",
    "display(afstand_manhattan) # 175.30\n",
    "\n",
    "# b)\n",
    "# afstanden_euclidische = pd.DataFrame(cdist(examen4, examen4, metric='euclidean'), columns=examen4.index, index=examen4.index)\n",
    "#\n",
    "# colors=list(matplotlib.colors.cnames.keys())[0:100:2] # Kleuren voor de dendrogram\n",
    "#\n",
    "# fig,ax=plt.subplots(figsize=(12,5))\n",
    "# distances_single = linkage(afstanden_euclidische, method='single') # Single linkage (kleinste afstand eerst)\n",
    "# _=ax.set_title('Dendrogram met Single Linkage')\n",
    "# _=ax.set_xlabel('punt')\n",
    "# _=ax.set_ylabel('Euclidischeafstand')\n",
    "# _=ax.grid(linestyle='--' ,axis='y')\n",
    "#\n",
    "# dgram = dendrogram(distances_single, labels=afstanden_euclidische.index.values, link_color_func=lambda x: colors[x], ax=ax)\n",
    "\n",
    "cluster = AgglomerativeClustering(n_clusters=3, affinity='euclidean', linkage='single')\n",
    "cluster.fit(examen4)\n",
    "examen4['cluster_with_3'] = cluster.labels_\n",
    "display(examen4)\n",
    "\n",
    "# c)\n",
    "model = KMeans(n_clusters=2, n_init='auto', max_iter=100)\n",
    "model.fit(examen4)\n",
    "model_simpsons_Kmeans = pd.DataFrame(zip(examen4.saldo, examen4.bedrag, model.labels_),columns=[\"x\", \"y\", \"cluster\"])\n",
    "display(model_simpsons_Kmeans)\n"
   ],
   "metadata": {
    "collapsed": false,
    "ExecuteTime": {
     "end_time": "2023-06-13T09:13:06.886159400Z",
     "start_time": "2023-06-13T09:13:06.637894300Z"
    }
   }
  },
  {
   "cell_type": "markdown",
   "source": [
    "## Vraag 6"
   ],
   "metadata": {
    "collapsed": false
   }
  },
  {
   "cell_type": "markdown",
   "source": [
    "antwoorden:\n",
    "a) **waardering, bedrag, lengte, oplaadtijd, concentratie, beltijd, saldo** **Alleen kolommen met nutege data**\n",
    "b) **zie code**\n",
    "c) **0.77324315%**\n",
    "d) **De verklaarde variantie per hoofdcomponent.**\n",
    "e) **PC1 = 0.259568 PC2 = -0.126818**"
   ],
   "metadata": {
    "collapsed": false
   }
  },
  {
   "cell_type": "code",
   "execution_count": 71,
   "outputs": [
    {
     "data": {
      "text/plain": "    waardering   bedrag  lengte  oplaadtijd  concentratie  beltijd    saldo\n0            3  1556.30   194.4       199.7         54.51    136.8   -71.26\n1            3  1339.01   172.1       165.3         44.67    131.0    95.40\n2            3  1480.33   160.6       188.5         42.37    127.6  -162.92\n3            2  1736.86   178.1       208.3         47.25    130.8     9.92\n4            2  1802.29   160.9       214.8         49.08    135.3   214.24\n5            2  1606.87   178.0       177.6         52.62    143.2  -108.81\n6            4  1471.27   174.2       190.9         52.65    141.8   137.52\n7            2  1619.80   184.8       198.1         43.05    137.6     6.00\n8            1  1599.27   173.3       196.6         52.36    133.9    54.19\n9            2  1601.39   159.1       169.1         41.52    136.3   216.55\n10           2  1481.91   185.9       159.5         54.94    141.5   134.16\n11           2  1414.51   167.2       163.3         48.93    148.1   293.79\n12           2  1556.78   182.3       159.0         50.89    147.9    47.39\n13           2  1632.51   205.1       195.2         56.03    142.0   221.91\n14           4  1280.24   157.7       163.1         49.93    137.5   385.00\n15           5  1596.62   200.4       178.9         55.33    141.4    96.59\n16           1  1578.66   173.0       192.1         53.08    146.8   305.54\n17           2  1550.21   205.7       177.0         53.63    154.0   194.25\n18           2  1500.50   150.0       177.0         50.81    153.3   230.48\n19           4  1203.88   162.0       157.8         48.98    147.5   429.27\n20           5  1516.40   178.5       168.4         42.57    142.9   311.72\n21           2  1715.59   181.1       193.8         48.39    147.1   484.82\n22           1  1564.50   195.7       162.8         52.86    152.7   235.07\n23           1  1028.11   182.2       162.3         53.75    159.0   402.86\n24           4  1588.99   178.4       186.5         47.02    158.0   609.60\n25           3  1651.27   195.4       209.3         53.71    152.5   299.90\n26           3  1328.63   182.6       182.5         51.32    148.4   515.87\n27           3  1535.81   165.7       166.5         44.25    150.8   375.34\n28           2  1362.34   142.2       179.3         47.39    157.9   419.42\n29           4  1620.84   199.3       200.0         54.98    164.6   637.14\n30           2  1532.42   141.1       178.4         47.60    163.0   526.75\n31           3  1682.81   196.6       188.7         55.19    157.3   689.11\n32           3  1569.28   191.9       173.2         58.02    153.3   410.66\n33           2  1288.64   153.9       140.6         48.34    157.2   579.09\n34           3  1446.78   177.5       173.8         46.83    163.4   794.23\n35           1  1674.10   134.0       184.0         37.69    169.8   458.18\n36           2  1141.93   180.7       145.3         54.32    168.6   709.73\n37           3  1866.36   201.5       199.4         48.37    162.9   579.25\n38           3  1712.46   175.0       201.2         51.59    158.7   616.71\n39           2  1569.05   182.6       172.8         50.67    162.9   802.72\n40           5  1409.03   180.2       170.4         48.71    168.2   696.42\n41           2  1691.68   146.3       213.0         44.87    175.1   891.28\n42           5  1645.59   187.7       197.7         54.05    173.8   613.52\n43           4  1616.08   188.7       188.0         53.49    168.4   779.93\n44           2  1653.08   183.4       181.0         53.22    164.3   963.26\n45           4  1582.37   169.9       183.2         52.69    166.9   683.33\n46           5  1475.53   170.6       160.2         53.13    173.0   914.09\n47           1  1574.02   147.4       176.1         50.58    179.7   770.62\n48           1  1657.30   173.8       185.9         49.78    178.0   808.57\n49           5  1452.47   189.9       207.5         51.98    173.6   988.62\n50           3  1516.60   179.8       186.4         55.45    169.2   888.52\n51           4  1611.41   206.7       175.6         51.86    173.5  1062.25\n52           4  1561.25   176.8       186.4         47.77    179.1   800.62\n53           2  1499.50   186.7       169.6         49.03    184.2   975.39\n54           2  1457.33   135.8       157.0         45.67    183.3  1184.16\n55           3  1748.46   185.0       205.3         35.52    179.2   872.36\n56           3  1615.28   162.1       195.4         46.08    174.5  1056.62\n57           2  1661.89   165.3       203.3         43.36    176.9   944.43\n58           5  1702.01   187.5       193.0         42.94    183.2   999.77\n59           4  1428.61   181.5       148.3         54.30    190.6  1178.89",
      "text/html": "<div>\n<style scoped>\n    .dataframe tbody tr th:only-of-type {\n        vertical-align: middle;\n    }\n\n    .dataframe tbody tr th {\n        vertical-align: top;\n    }\n\n    .dataframe thead th {\n        text-align: right;\n    }\n</style>\n<table border=\"1\" class=\"dataframe\">\n  <thead>\n    <tr style=\"text-align: right;\">\n      <th></th>\n      <th>waardering</th>\n      <th>bedrag</th>\n      <th>lengte</th>\n      <th>oplaadtijd</th>\n      <th>concentratie</th>\n      <th>beltijd</th>\n      <th>saldo</th>\n    </tr>\n  </thead>\n  <tbody>\n    <tr>\n      <th>0</th>\n      <td>3</td>\n      <td>1556.30</td>\n      <td>194.4</td>\n      <td>199.7</td>\n      <td>54.51</td>\n      <td>136.8</td>\n      <td>-71.26</td>\n    </tr>\n    <tr>\n      <th>1</th>\n      <td>3</td>\n      <td>1339.01</td>\n      <td>172.1</td>\n      <td>165.3</td>\n      <td>44.67</td>\n      <td>131.0</td>\n      <td>95.40</td>\n    </tr>\n    <tr>\n      <th>2</th>\n      <td>3</td>\n      <td>1480.33</td>\n      <td>160.6</td>\n      <td>188.5</td>\n      <td>42.37</td>\n      <td>127.6</td>\n      <td>-162.92</td>\n    </tr>\n    <tr>\n      <th>3</th>\n      <td>2</td>\n      <td>1736.86</td>\n      <td>178.1</td>\n      <td>208.3</td>\n      <td>47.25</td>\n      <td>130.8</td>\n      <td>9.92</td>\n    </tr>\n    <tr>\n      <th>4</th>\n      <td>2</td>\n      <td>1802.29</td>\n      <td>160.9</td>\n      <td>214.8</td>\n      <td>49.08</td>\n      <td>135.3</td>\n      <td>214.24</td>\n    </tr>\n    <tr>\n      <th>5</th>\n      <td>2</td>\n      <td>1606.87</td>\n      <td>178.0</td>\n      <td>177.6</td>\n      <td>52.62</td>\n      <td>143.2</td>\n      <td>-108.81</td>\n    </tr>\n    <tr>\n      <th>6</th>\n      <td>4</td>\n      <td>1471.27</td>\n      <td>174.2</td>\n      <td>190.9</td>\n      <td>52.65</td>\n      <td>141.8</td>\n      <td>137.52</td>\n    </tr>\n    <tr>\n      <th>7</th>\n      <td>2</td>\n      <td>1619.80</td>\n      <td>184.8</td>\n      <td>198.1</td>\n      <td>43.05</td>\n      <td>137.6</td>\n      <td>6.00</td>\n    </tr>\n    <tr>\n      <th>8</th>\n      <td>1</td>\n      <td>1599.27</td>\n      <td>173.3</td>\n      <td>196.6</td>\n      <td>52.36</td>\n      <td>133.9</td>\n      <td>54.19</td>\n    </tr>\n    <tr>\n      <th>9</th>\n      <td>2</td>\n      <td>1601.39</td>\n      <td>159.1</td>\n      <td>169.1</td>\n      <td>41.52</td>\n      <td>136.3</td>\n      <td>216.55</td>\n    </tr>\n    <tr>\n      <th>10</th>\n      <td>2</td>\n      <td>1481.91</td>\n      <td>185.9</td>\n      <td>159.5</td>\n      <td>54.94</td>\n      <td>141.5</td>\n      <td>134.16</td>\n    </tr>\n    <tr>\n      <th>11</th>\n      <td>2</td>\n      <td>1414.51</td>\n      <td>167.2</td>\n      <td>163.3</td>\n      <td>48.93</td>\n      <td>148.1</td>\n      <td>293.79</td>\n    </tr>\n    <tr>\n      <th>12</th>\n      <td>2</td>\n      <td>1556.78</td>\n      <td>182.3</td>\n      <td>159.0</td>\n      <td>50.89</td>\n      <td>147.9</td>\n      <td>47.39</td>\n    </tr>\n    <tr>\n      <th>13</th>\n      <td>2</td>\n      <td>1632.51</td>\n      <td>205.1</td>\n      <td>195.2</td>\n      <td>56.03</td>\n      <td>142.0</td>\n      <td>221.91</td>\n    </tr>\n    <tr>\n      <th>14</th>\n      <td>4</td>\n      <td>1280.24</td>\n      <td>157.7</td>\n      <td>163.1</td>\n      <td>49.93</td>\n      <td>137.5</td>\n      <td>385.00</td>\n    </tr>\n    <tr>\n      <th>15</th>\n      <td>5</td>\n      <td>1596.62</td>\n      <td>200.4</td>\n      <td>178.9</td>\n      <td>55.33</td>\n      <td>141.4</td>\n      <td>96.59</td>\n    </tr>\n    <tr>\n      <th>16</th>\n      <td>1</td>\n      <td>1578.66</td>\n      <td>173.0</td>\n      <td>192.1</td>\n      <td>53.08</td>\n      <td>146.8</td>\n      <td>305.54</td>\n    </tr>\n    <tr>\n      <th>17</th>\n      <td>2</td>\n      <td>1550.21</td>\n      <td>205.7</td>\n      <td>177.0</td>\n      <td>53.63</td>\n      <td>154.0</td>\n      <td>194.25</td>\n    </tr>\n    <tr>\n      <th>18</th>\n      <td>2</td>\n      <td>1500.50</td>\n      <td>150.0</td>\n      <td>177.0</td>\n      <td>50.81</td>\n      <td>153.3</td>\n      <td>230.48</td>\n    </tr>\n    <tr>\n      <th>19</th>\n      <td>4</td>\n      <td>1203.88</td>\n      <td>162.0</td>\n      <td>157.8</td>\n      <td>48.98</td>\n      <td>147.5</td>\n      <td>429.27</td>\n    </tr>\n    <tr>\n      <th>20</th>\n      <td>5</td>\n      <td>1516.40</td>\n      <td>178.5</td>\n      <td>168.4</td>\n      <td>42.57</td>\n      <td>142.9</td>\n      <td>311.72</td>\n    </tr>\n    <tr>\n      <th>21</th>\n      <td>2</td>\n      <td>1715.59</td>\n      <td>181.1</td>\n      <td>193.8</td>\n      <td>48.39</td>\n      <td>147.1</td>\n      <td>484.82</td>\n    </tr>\n    <tr>\n      <th>22</th>\n      <td>1</td>\n      <td>1564.50</td>\n      <td>195.7</td>\n      <td>162.8</td>\n      <td>52.86</td>\n      <td>152.7</td>\n      <td>235.07</td>\n    </tr>\n    <tr>\n      <th>23</th>\n      <td>1</td>\n      <td>1028.11</td>\n      <td>182.2</td>\n      <td>162.3</td>\n      <td>53.75</td>\n      <td>159.0</td>\n      <td>402.86</td>\n    </tr>\n    <tr>\n      <th>24</th>\n      <td>4</td>\n      <td>1588.99</td>\n      <td>178.4</td>\n      <td>186.5</td>\n      <td>47.02</td>\n      <td>158.0</td>\n      <td>609.60</td>\n    </tr>\n    <tr>\n      <th>25</th>\n      <td>3</td>\n      <td>1651.27</td>\n      <td>195.4</td>\n      <td>209.3</td>\n      <td>53.71</td>\n      <td>152.5</td>\n      <td>299.90</td>\n    </tr>\n    <tr>\n      <th>26</th>\n      <td>3</td>\n      <td>1328.63</td>\n      <td>182.6</td>\n      <td>182.5</td>\n      <td>51.32</td>\n      <td>148.4</td>\n      <td>515.87</td>\n    </tr>\n    <tr>\n      <th>27</th>\n      <td>3</td>\n      <td>1535.81</td>\n      <td>165.7</td>\n      <td>166.5</td>\n      <td>44.25</td>\n      <td>150.8</td>\n      <td>375.34</td>\n    </tr>\n    <tr>\n      <th>28</th>\n      <td>2</td>\n      <td>1362.34</td>\n      <td>142.2</td>\n      <td>179.3</td>\n      <td>47.39</td>\n      <td>157.9</td>\n      <td>419.42</td>\n    </tr>\n    <tr>\n      <th>29</th>\n      <td>4</td>\n      <td>1620.84</td>\n      <td>199.3</td>\n      <td>200.0</td>\n      <td>54.98</td>\n      <td>164.6</td>\n      <td>637.14</td>\n    </tr>\n    <tr>\n      <th>30</th>\n      <td>2</td>\n      <td>1532.42</td>\n      <td>141.1</td>\n      <td>178.4</td>\n      <td>47.60</td>\n      <td>163.0</td>\n      <td>526.75</td>\n    </tr>\n    <tr>\n      <th>31</th>\n      <td>3</td>\n      <td>1682.81</td>\n      <td>196.6</td>\n      <td>188.7</td>\n      <td>55.19</td>\n      <td>157.3</td>\n      <td>689.11</td>\n    </tr>\n    <tr>\n      <th>32</th>\n      <td>3</td>\n      <td>1569.28</td>\n      <td>191.9</td>\n      <td>173.2</td>\n      <td>58.02</td>\n      <td>153.3</td>\n      <td>410.66</td>\n    </tr>\n    <tr>\n      <th>33</th>\n      <td>2</td>\n      <td>1288.64</td>\n      <td>153.9</td>\n      <td>140.6</td>\n      <td>48.34</td>\n      <td>157.2</td>\n      <td>579.09</td>\n    </tr>\n    <tr>\n      <th>34</th>\n      <td>3</td>\n      <td>1446.78</td>\n      <td>177.5</td>\n      <td>173.8</td>\n      <td>46.83</td>\n      <td>163.4</td>\n      <td>794.23</td>\n    </tr>\n    <tr>\n      <th>35</th>\n      <td>1</td>\n      <td>1674.10</td>\n      <td>134.0</td>\n      <td>184.0</td>\n      <td>37.69</td>\n      <td>169.8</td>\n      <td>458.18</td>\n    </tr>\n    <tr>\n      <th>36</th>\n      <td>2</td>\n      <td>1141.93</td>\n      <td>180.7</td>\n      <td>145.3</td>\n      <td>54.32</td>\n      <td>168.6</td>\n      <td>709.73</td>\n    </tr>\n    <tr>\n      <th>37</th>\n      <td>3</td>\n      <td>1866.36</td>\n      <td>201.5</td>\n      <td>199.4</td>\n      <td>48.37</td>\n      <td>162.9</td>\n      <td>579.25</td>\n    </tr>\n    <tr>\n      <th>38</th>\n      <td>3</td>\n      <td>1712.46</td>\n      <td>175.0</td>\n      <td>201.2</td>\n      <td>51.59</td>\n      <td>158.7</td>\n      <td>616.71</td>\n    </tr>\n    <tr>\n      <th>39</th>\n      <td>2</td>\n      <td>1569.05</td>\n      <td>182.6</td>\n      <td>172.8</td>\n      <td>50.67</td>\n      <td>162.9</td>\n      <td>802.72</td>\n    </tr>\n    <tr>\n      <th>40</th>\n      <td>5</td>\n      <td>1409.03</td>\n      <td>180.2</td>\n      <td>170.4</td>\n      <td>48.71</td>\n      <td>168.2</td>\n      <td>696.42</td>\n    </tr>\n    <tr>\n      <th>41</th>\n      <td>2</td>\n      <td>1691.68</td>\n      <td>146.3</td>\n      <td>213.0</td>\n      <td>44.87</td>\n      <td>175.1</td>\n      <td>891.28</td>\n    </tr>\n    <tr>\n      <th>42</th>\n      <td>5</td>\n      <td>1645.59</td>\n      <td>187.7</td>\n      <td>197.7</td>\n      <td>54.05</td>\n      <td>173.8</td>\n      <td>613.52</td>\n    </tr>\n    <tr>\n      <th>43</th>\n      <td>4</td>\n      <td>1616.08</td>\n      <td>188.7</td>\n      <td>188.0</td>\n      <td>53.49</td>\n      <td>168.4</td>\n      <td>779.93</td>\n    </tr>\n    <tr>\n      <th>44</th>\n      <td>2</td>\n      <td>1653.08</td>\n      <td>183.4</td>\n      <td>181.0</td>\n      <td>53.22</td>\n      <td>164.3</td>\n      <td>963.26</td>\n    </tr>\n    <tr>\n      <th>45</th>\n      <td>4</td>\n      <td>1582.37</td>\n      <td>169.9</td>\n      <td>183.2</td>\n      <td>52.69</td>\n      <td>166.9</td>\n      <td>683.33</td>\n    </tr>\n    <tr>\n      <th>46</th>\n      <td>5</td>\n      <td>1475.53</td>\n      <td>170.6</td>\n      <td>160.2</td>\n      <td>53.13</td>\n      <td>173.0</td>\n      <td>914.09</td>\n    </tr>\n    <tr>\n      <th>47</th>\n      <td>1</td>\n      <td>1574.02</td>\n      <td>147.4</td>\n      <td>176.1</td>\n      <td>50.58</td>\n      <td>179.7</td>\n      <td>770.62</td>\n    </tr>\n    <tr>\n      <th>48</th>\n      <td>1</td>\n      <td>1657.30</td>\n      <td>173.8</td>\n      <td>185.9</td>\n      <td>49.78</td>\n      <td>178.0</td>\n      <td>808.57</td>\n    </tr>\n    <tr>\n      <th>49</th>\n      <td>5</td>\n      <td>1452.47</td>\n      <td>189.9</td>\n      <td>207.5</td>\n      <td>51.98</td>\n      <td>173.6</td>\n      <td>988.62</td>\n    </tr>\n    <tr>\n      <th>50</th>\n      <td>3</td>\n      <td>1516.60</td>\n      <td>179.8</td>\n      <td>186.4</td>\n      <td>55.45</td>\n      <td>169.2</td>\n      <td>888.52</td>\n    </tr>\n    <tr>\n      <th>51</th>\n      <td>4</td>\n      <td>1611.41</td>\n      <td>206.7</td>\n      <td>175.6</td>\n      <td>51.86</td>\n      <td>173.5</td>\n      <td>1062.25</td>\n    </tr>\n    <tr>\n      <th>52</th>\n      <td>4</td>\n      <td>1561.25</td>\n      <td>176.8</td>\n      <td>186.4</td>\n      <td>47.77</td>\n      <td>179.1</td>\n      <td>800.62</td>\n    </tr>\n    <tr>\n      <th>53</th>\n      <td>2</td>\n      <td>1499.50</td>\n      <td>186.7</td>\n      <td>169.6</td>\n      <td>49.03</td>\n      <td>184.2</td>\n      <td>975.39</td>\n    </tr>\n    <tr>\n      <th>54</th>\n      <td>2</td>\n      <td>1457.33</td>\n      <td>135.8</td>\n      <td>157.0</td>\n      <td>45.67</td>\n      <td>183.3</td>\n      <td>1184.16</td>\n    </tr>\n    <tr>\n      <th>55</th>\n      <td>3</td>\n      <td>1748.46</td>\n      <td>185.0</td>\n      <td>205.3</td>\n      <td>35.52</td>\n      <td>179.2</td>\n      <td>872.36</td>\n    </tr>\n    <tr>\n      <th>56</th>\n      <td>3</td>\n      <td>1615.28</td>\n      <td>162.1</td>\n      <td>195.4</td>\n      <td>46.08</td>\n      <td>174.5</td>\n      <td>1056.62</td>\n    </tr>\n    <tr>\n      <th>57</th>\n      <td>2</td>\n      <td>1661.89</td>\n      <td>165.3</td>\n      <td>203.3</td>\n      <td>43.36</td>\n      <td>176.9</td>\n      <td>944.43</td>\n    </tr>\n    <tr>\n      <th>58</th>\n      <td>5</td>\n      <td>1702.01</td>\n      <td>187.5</td>\n      <td>193.0</td>\n      <td>42.94</td>\n      <td>183.2</td>\n      <td>999.77</td>\n    </tr>\n    <tr>\n      <th>59</th>\n      <td>4</td>\n      <td>1428.61</td>\n      <td>181.5</td>\n      <td>148.3</td>\n      <td>54.30</td>\n      <td>190.6</td>\n      <td>1178.89</td>\n    </tr>\n  </tbody>\n</table>\n</div>"
     },
     "metadata": {},
     "output_type": "display_data"
    },
    {
     "data": {
      "text/plain": "array([0.2862623 , 0.54414061, 0.77324315, 0.89458805, 0.95119387,\n       0.98783968, 1.        ])"
     },
     "metadata": {},
     "output_type": "display_data"
    },
    {
     "data": {
      "text/plain": "    PC       feature   loading  type\n0  PC1         saldo  0.682748  best\n1  PC2    oplaadtijd -0.652011  best\n2  PC3  concentratie -0.641497  best\n3  PC4    waardering  0.822911  best\n4  PC5        lengte  0.635637  best\n5  PC2        bedrag -0.644692  weak\n6  PC1       beltijd  0.672622  weak",
      "text/html": "<div>\n<style scoped>\n    .dataframe tbody tr th:only-of-type {\n        vertical-align: middle;\n    }\n\n    .dataframe tbody tr th {\n        vertical-align: top;\n    }\n\n    .dataframe thead th {\n        text-align: right;\n    }\n</style>\n<table border=\"1\" class=\"dataframe\">\n  <thead>\n    <tr style=\"text-align: right;\">\n      <th></th>\n      <th>PC</th>\n      <th>feature</th>\n      <th>loading</th>\n      <th>type</th>\n    </tr>\n  </thead>\n  <tbody>\n    <tr>\n      <th>0</th>\n      <td>PC1</td>\n      <td>saldo</td>\n      <td>0.682748</td>\n      <td>best</td>\n    </tr>\n    <tr>\n      <th>1</th>\n      <td>PC2</td>\n      <td>oplaadtijd</td>\n      <td>-0.652011</td>\n      <td>best</td>\n    </tr>\n    <tr>\n      <th>2</th>\n      <td>PC3</td>\n      <td>concentratie</td>\n      <td>-0.641497</td>\n      <td>best</td>\n    </tr>\n    <tr>\n      <th>3</th>\n      <td>PC4</td>\n      <td>waardering</td>\n      <td>0.822911</td>\n      <td>best</td>\n    </tr>\n    <tr>\n      <th>4</th>\n      <td>PC5</td>\n      <td>lengte</td>\n      <td>0.635637</td>\n      <td>best</td>\n    </tr>\n    <tr>\n      <th>5</th>\n      <td>PC2</td>\n      <td>bedrag</td>\n      <td>-0.644692</td>\n      <td>weak</td>\n    </tr>\n    <tr>\n      <th>6</th>\n      <td>PC1</td>\n      <td>beltijd</td>\n      <td>0.672622</td>\n      <td>weak</td>\n    </tr>\n  </tbody>\n</table>\n</div>"
     },
     "metadata": {},
     "output_type": "display_data"
    }
   ],
   "source": [
    "# a)\n",
    "# waardering, bedrag, lengte, oplaadtijd, concentratie, beltijd, saldo Alleen kolommen met nutege data\n",
    "\n",
    "# b)\n",
    "examenX = examen.drop(columns=['grootte', 'tevredenheid', 'belangrijkheid', 'behaalde_graad', 'totaal_bedrag', 'klantNummer'])\n",
    "display(examenX)\n",
    "\n",
    "# c)\n",
    "model = pca(normalize=True)\n",
    "out = model.fit_transform(examenX, verbose=False)\n",
    "display(out['explained_var'])\n",
    "\n",
    "# d)\n",
    "# De verklaarde variantie per hoofdcomponent.\n",
    "\n",
    "# e)\n",
    "display(out['topfeat'])\n",
    "# PC1 = 0.259568 PC2 = -0.126818"
   ],
   "metadata": {
    "collapsed": false,
    "ExecuteTime": {
     "end_time": "2023-06-13T09:13:07.067227500Z",
     "start_time": "2023-06-13T09:13:06.794155200Z"
    }
   }
  }
 ],
 "metadata": {
  "kernelspec": {
   "display_name": "Python 3",
   "language": "python",
   "name": "python3"
  },
  "language_info": {
   "codemirror_mode": {
    "name": "ipython",
    "version": 2
   },
   "file_extension": ".py",
   "mimetype": "text/x-python",
   "name": "python",
   "nbconvert_exporter": "python",
   "pygments_lexer": "ipython2",
   "version": "2.7.6"
  }
 },
 "nbformat": 4,
 "nbformat_minor": 0
}
