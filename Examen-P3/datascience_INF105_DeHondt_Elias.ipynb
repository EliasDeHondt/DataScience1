{
 "cells": [
  {
   "cell_type": "markdown",
   "source": [
    "# Examen Data science 1\n",
    "## 2023 - P3\n",
    "\n",
    "Naam: Elias De Hondt\n",
    "Klas: INF105A\n",
    "Studentnummer: 0160712-80"
   ],
   "metadata": {
    "collapsed": false
   }
  },
  {
   "cell_type": "code",
   "execution_count": 184,
   "outputs": [],
   "source": [
    "# zet hier al je imports:\n",
    "import pandas as pd\n",
    "import math"
   ],
   "metadata": {
    "collapsed": false
   }
  },
  {
   "cell_type": "code",
   "execution_count": 185,
   "outputs": [],
   "source": [
    "# zet hier al je zelfgeschreven functies:"
   ],
   "metadata": {
    "collapsed": false
   }
  },
  {
   "cell_type": "markdown",
   "source": [
    "# DEEL 1"
   ],
   "metadata": {
    "collapsed": false
   }
  },
  {
   "cell_type": "markdown",
   "source": [
    "## Vraag 1\n",
    "\n",
    "antwoorden:\n",
    "1a) \"   \" = (Tab) = (\\t)\n",
    "1b) \"ontbrekend\" en \"onbekend\"\n",
    "1c) zie code\n",
    "1d) zie code\n",
    "1e) 908"
   ],
   "metadata": {
    "collapsed": false
   }
  },
  {
   "cell_type": "code",
   "execution_count": 186,
   "metadata": {
    "collapsed": true
   },
   "outputs": [
    {
     "data": {
      "text/plain": "    klantNummer   bedrag    saldo kwaliteitEten aanwezig teamNummer  \\\n0         32858  1536.76   123.34   heel lekker      Nee          5   \n1         32103  1536.76   332.45   heel lekker       Ja          3   \n2         32698  1536.86   454.95   zeer slecht      Nee          3   \n3         32554  1536.75   476.03      neutraal       Ja          3   \n4         32974  1536.76   670.12        slecht       Ja          3   \n..          ...      ...      ...           ...      ...        ...   \n969       32255  1536.79    19.16      neutraal       Ja          2   \n970       32348  1536.76  -316.09   heel lekker       Ja          4   \n971       32283  1536.75  1595.39   heel lekker       Ja          5   \n972       32938  1536.76    99.02   heel lekker       Ja          4   \n973       32737  1536.79   963.97        lekker       Ja          4   \n\n    totaal_bedrag       temperatuur meting3  inkomen  \n0         8731.82    aangenaam warm   670.0   2625.4  \n1         8619.01    aangenaam warm   745.0  2625.21  \n2         8762.06    aangenaam warm  1109.0  2625.22  \n3         8708.54    aangenaam warm  2510.0  2625.22  \n4         8618.96              warm  4001.0  2625.21  \n..            ...               ...     ...      ...  \n969       8618.94  lage temperatuur  3400.0  2625.21  \n970       8619.04    aangenaam warm  2534.0  2625.22  \n971       8618.94    aangenaam warm   717.0  2625.21  \n972       8618.94          vrieskou   511.0  2625.21  \n973        8619.1              warm  1873.0  2625.21  \n\n[974 rows x 10 columns]",
      "text/html": "<div>\n<style scoped>\n    .dataframe tbody tr th:only-of-type {\n        vertical-align: middle;\n    }\n\n    .dataframe tbody tr th {\n        vertical-align: top;\n    }\n\n    .dataframe thead th {\n        text-align: right;\n    }\n</style>\n<table border=\"1\" class=\"dataframe\">\n  <thead>\n    <tr style=\"text-align: right;\">\n      <th></th>\n      <th>klantNummer</th>\n      <th>bedrag</th>\n      <th>saldo</th>\n      <th>kwaliteitEten</th>\n      <th>aanwezig</th>\n      <th>teamNummer</th>\n      <th>totaal_bedrag</th>\n      <th>temperatuur</th>\n      <th>meting3</th>\n      <th>inkomen</th>\n    </tr>\n  </thead>\n  <tbody>\n    <tr>\n      <th>0</th>\n      <td>32858</td>\n      <td>1536.76</td>\n      <td>123.34</td>\n      <td>heel lekker</td>\n      <td>Nee</td>\n      <td>5</td>\n      <td>8731.82</td>\n      <td>aangenaam warm</td>\n      <td>670.0</td>\n      <td>2625.4</td>\n    </tr>\n    <tr>\n      <th>1</th>\n      <td>32103</td>\n      <td>1536.76</td>\n      <td>332.45</td>\n      <td>heel lekker</td>\n      <td>Ja</td>\n      <td>3</td>\n      <td>8619.01</td>\n      <td>aangenaam warm</td>\n      <td>745.0</td>\n      <td>2625.21</td>\n    </tr>\n    <tr>\n      <th>2</th>\n      <td>32698</td>\n      <td>1536.86</td>\n      <td>454.95</td>\n      <td>zeer slecht</td>\n      <td>Nee</td>\n      <td>3</td>\n      <td>8762.06</td>\n      <td>aangenaam warm</td>\n      <td>1109.0</td>\n      <td>2625.22</td>\n    </tr>\n    <tr>\n      <th>3</th>\n      <td>32554</td>\n      <td>1536.75</td>\n      <td>476.03</td>\n      <td>neutraal</td>\n      <td>Ja</td>\n      <td>3</td>\n      <td>8708.54</td>\n      <td>aangenaam warm</td>\n      <td>2510.0</td>\n      <td>2625.22</td>\n    </tr>\n    <tr>\n      <th>4</th>\n      <td>32974</td>\n      <td>1536.76</td>\n      <td>670.12</td>\n      <td>slecht</td>\n      <td>Ja</td>\n      <td>3</td>\n      <td>8618.96</td>\n      <td>warm</td>\n      <td>4001.0</td>\n      <td>2625.21</td>\n    </tr>\n    <tr>\n      <th>...</th>\n      <td>...</td>\n      <td>...</td>\n      <td>...</td>\n      <td>...</td>\n      <td>...</td>\n      <td>...</td>\n      <td>...</td>\n      <td>...</td>\n      <td>...</td>\n      <td>...</td>\n    </tr>\n    <tr>\n      <th>969</th>\n      <td>32255</td>\n      <td>1536.79</td>\n      <td>19.16</td>\n      <td>neutraal</td>\n      <td>Ja</td>\n      <td>2</td>\n      <td>8618.94</td>\n      <td>lage temperatuur</td>\n      <td>3400.0</td>\n      <td>2625.21</td>\n    </tr>\n    <tr>\n      <th>970</th>\n      <td>32348</td>\n      <td>1536.76</td>\n      <td>-316.09</td>\n      <td>heel lekker</td>\n      <td>Ja</td>\n      <td>4</td>\n      <td>8619.04</td>\n      <td>aangenaam warm</td>\n      <td>2534.0</td>\n      <td>2625.22</td>\n    </tr>\n    <tr>\n      <th>971</th>\n      <td>32283</td>\n      <td>1536.75</td>\n      <td>1595.39</td>\n      <td>heel lekker</td>\n      <td>Ja</td>\n      <td>5</td>\n      <td>8618.94</td>\n      <td>aangenaam warm</td>\n      <td>717.0</td>\n      <td>2625.21</td>\n    </tr>\n    <tr>\n      <th>972</th>\n      <td>32938</td>\n      <td>1536.76</td>\n      <td>99.02</td>\n      <td>heel lekker</td>\n      <td>Ja</td>\n      <td>4</td>\n      <td>8618.94</td>\n      <td>vrieskou</td>\n      <td>511.0</td>\n      <td>2625.21</td>\n    </tr>\n    <tr>\n      <th>973</th>\n      <td>32737</td>\n      <td>1536.79</td>\n      <td>963.97</td>\n      <td>lekker</td>\n      <td>Ja</td>\n      <td>4</td>\n      <td>8619.1</td>\n      <td>warm</td>\n      <td>1873.0</td>\n      <td>2625.21</td>\n    </tr>\n  </tbody>\n</table>\n<p>974 rows × 10 columns</p>\n</div>"
     },
     "metadata": {},
     "output_type": "display_data"
    },
    {
     "data": {
      "text/plain": "      bedrag    saldo kwaliteitEten aanwezig teamNummer totaal_bedrag  \\\n0    1536.76   123.34   heel lekker      Nee          5       8731.82   \n1    1536.76   332.45   heel lekker       Ja          3       8619.01   \n2    1536.86   454.95   zeer slecht      Nee          3       8762.06   \n3    1536.75   476.03      neutraal       Ja          3       8708.54   \n4    1536.76   670.12        slecht       Ja          3       8618.96   \n..       ...      ...           ...      ...        ...           ...   \n969  1536.79    19.16      neutraal       Ja          2       8618.94   \n970  1536.76  -316.09   heel lekker       Ja          4       8619.04   \n971  1536.75  1595.39   heel lekker       Ja          5       8618.94   \n972  1536.76    99.02   heel lekker       Ja          4       8618.94   \n973  1536.79   963.97        lekker       Ja          4        8619.1   \n\n          temperatuur meting3  inkomen  \n0      aangenaam warm   670.0   2625.4  \n1      aangenaam warm   745.0  2625.21  \n2      aangenaam warm  1109.0  2625.22  \n3      aangenaam warm  2510.0  2625.22  \n4                warm  4001.0  2625.21  \n..                ...     ...      ...  \n969  lage temperatuur  3400.0  2625.21  \n970    aangenaam warm  2534.0  2625.22  \n971    aangenaam warm   717.0  2625.21  \n972          vrieskou   511.0  2625.21  \n973              warm  1873.0  2625.21  \n\n[974 rows x 9 columns]",
      "text/html": "<div>\n<style scoped>\n    .dataframe tbody tr th:only-of-type {\n        vertical-align: middle;\n    }\n\n    .dataframe tbody tr th {\n        vertical-align: top;\n    }\n\n    .dataframe thead th {\n        text-align: right;\n    }\n</style>\n<table border=\"1\" class=\"dataframe\">\n  <thead>\n    <tr style=\"text-align: right;\">\n      <th></th>\n      <th>bedrag</th>\n      <th>saldo</th>\n      <th>kwaliteitEten</th>\n      <th>aanwezig</th>\n      <th>teamNummer</th>\n      <th>totaal_bedrag</th>\n      <th>temperatuur</th>\n      <th>meting3</th>\n      <th>inkomen</th>\n    </tr>\n  </thead>\n  <tbody>\n    <tr>\n      <th>0</th>\n      <td>1536.76</td>\n      <td>123.34</td>\n      <td>heel lekker</td>\n      <td>Nee</td>\n      <td>5</td>\n      <td>8731.82</td>\n      <td>aangenaam warm</td>\n      <td>670.0</td>\n      <td>2625.4</td>\n    </tr>\n    <tr>\n      <th>1</th>\n      <td>1536.76</td>\n      <td>332.45</td>\n      <td>heel lekker</td>\n      <td>Ja</td>\n      <td>3</td>\n      <td>8619.01</td>\n      <td>aangenaam warm</td>\n      <td>745.0</td>\n      <td>2625.21</td>\n    </tr>\n    <tr>\n      <th>2</th>\n      <td>1536.86</td>\n      <td>454.95</td>\n      <td>zeer slecht</td>\n      <td>Nee</td>\n      <td>3</td>\n      <td>8762.06</td>\n      <td>aangenaam warm</td>\n      <td>1109.0</td>\n      <td>2625.22</td>\n    </tr>\n    <tr>\n      <th>3</th>\n      <td>1536.75</td>\n      <td>476.03</td>\n      <td>neutraal</td>\n      <td>Ja</td>\n      <td>3</td>\n      <td>8708.54</td>\n      <td>aangenaam warm</td>\n      <td>2510.0</td>\n      <td>2625.22</td>\n    </tr>\n    <tr>\n      <th>4</th>\n      <td>1536.76</td>\n      <td>670.12</td>\n      <td>slecht</td>\n      <td>Ja</td>\n      <td>3</td>\n      <td>8618.96</td>\n      <td>warm</td>\n      <td>4001.0</td>\n      <td>2625.21</td>\n    </tr>\n    <tr>\n      <th>...</th>\n      <td>...</td>\n      <td>...</td>\n      <td>...</td>\n      <td>...</td>\n      <td>...</td>\n      <td>...</td>\n      <td>...</td>\n      <td>...</td>\n      <td>...</td>\n    </tr>\n    <tr>\n      <th>969</th>\n      <td>1536.79</td>\n      <td>19.16</td>\n      <td>neutraal</td>\n      <td>Ja</td>\n      <td>2</td>\n      <td>8618.94</td>\n      <td>lage temperatuur</td>\n      <td>3400.0</td>\n      <td>2625.21</td>\n    </tr>\n    <tr>\n      <th>970</th>\n      <td>1536.76</td>\n      <td>-316.09</td>\n      <td>heel lekker</td>\n      <td>Ja</td>\n      <td>4</td>\n      <td>8619.04</td>\n      <td>aangenaam warm</td>\n      <td>2534.0</td>\n      <td>2625.22</td>\n    </tr>\n    <tr>\n      <th>971</th>\n      <td>1536.75</td>\n      <td>1595.39</td>\n      <td>heel lekker</td>\n      <td>Ja</td>\n      <td>5</td>\n      <td>8618.94</td>\n      <td>aangenaam warm</td>\n      <td>717.0</td>\n      <td>2625.21</td>\n    </tr>\n    <tr>\n      <th>972</th>\n      <td>1536.76</td>\n      <td>99.02</td>\n      <td>heel lekker</td>\n      <td>Ja</td>\n      <td>4</td>\n      <td>8618.94</td>\n      <td>vrieskou</td>\n      <td>511.0</td>\n      <td>2625.21</td>\n    </tr>\n    <tr>\n      <th>973</th>\n      <td>1536.79</td>\n      <td>963.97</td>\n      <td>lekker</td>\n      <td>Ja</td>\n      <td>4</td>\n      <td>8619.1</td>\n      <td>warm</td>\n      <td>1873.0</td>\n      <td>2625.21</td>\n    </tr>\n  </tbody>\n</table>\n<p>974 rows × 9 columns</p>\n</div>"
     },
     "metadata": {},
     "output_type": "display_data"
    },
    {
     "name": "stdout",
     "output_type": "stream",
     "text": [
      "908\n"
     ]
    }
   ],
   "source": [
    "# 1c) Code\n",
    "dataCSV = pd.read_csv(\"examen_2023_P3_DEEL1.csv\", delimiter=\"\\t\", header=0, decimal=\".\")\n",
    "\n",
    "display(dataCSV)\n",
    "\n",
    "# 1d) Code\n",
    "dataCSV = dataCSV.drop(['klantNummer'], axis=1)\n",
    "display(dataCSV)\n",
    "\n",
    "# 1e) Code\n",
    "dataCSV.saldo = pd.to_numeric(dataCSV.saldo, errors=\"coerce\")\n",
    "\n",
    "dataCSV = dataCSV.loc[dataCSV['saldo'] > 0]\n",
    "print(len(dataCSV.saldo))"
   ]
  },
  {
   "cell_type": "markdown",
   "source": [
    "## Vraag 2\n",
    "\n",
    "antwoorden:\n",
    "2a) zie code\n",
    "2b) 6"
   ],
   "metadata": {
    "collapsed": false
   }
  },
  {
   "cell_type": "code",
   "execution_count": 187,
   "outputs": [
    {
     "name": "stdout",
     "output_type": "stream",
     "text": [
      "6\n"
     ]
    }
   ],
   "source": [
    "# 2a) Code\n",
    "dataCSV['kwaliteitEten'] = pd.Categorical(dataCSV['kwaliteitEten'])\n",
    "\n",
    "print(len(dataCSV['kwaliteitEten'].unique()))"
   ],
   "metadata": {
    "collapsed": false
   }
  },
  {
   "cell_type": "markdown",
   "source": [
    "## Vraag 3\n",
    "\n",
    "antwoorden:\n",
    "3a) zie code\n",
    "3b) 4\n",
    "3c) 904"
   ],
   "metadata": {
    "collapsed": false
   }
  },
  {
   "cell_type": "code",
   "execution_count": 188,
   "outputs": [
    {
     "data": {
      "text/plain": "      bedrag    saldo kwaliteitEten aanwezig teamNummer totaal_bedrag  \\\n0    1536.76   123.34   heel lekker      Nee          5       8731.82   \n1    1536.76   332.45   heel lekker       Ja          3       8619.01   \n2    1536.86   454.95   zeer slecht      Nee          3       8762.06   \n3    1536.75   476.03      neutraal       Ja          3       8708.54   \n4    1536.76   670.12        slecht       Ja          3       8618.96   \n..       ...      ...           ...      ...        ...           ...   \n968  1543.37   836.05        slecht       Ja          3       8619.04   \n969  1536.79    19.16      neutraal       Ja          2       8618.94   \n971  1536.75  1595.39   heel lekker       Ja          5       8618.94   \n972  1536.76    99.02   heel lekker       Ja          4       8618.94   \n973  1536.79   963.97        lekker       Ja          4        8619.1   \n\n          temperatuur meting3  inkomen  \n0      aangenaam warm   670.0   2625.4  \n1      aangenaam warm   745.0  2625.21  \n2      aangenaam warm  1109.0  2625.22  \n3      aangenaam warm  2510.0  2625.22  \n4                warm  4001.0  2625.21  \n..                ...     ...      ...  \n968    aangenaam warm  -177.0  2625.23  \n969  lage temperatuur  3400.0  2625.21  \n971    aangenaam warm   717.0  2625.21  \n972          vrieskou   511.0  2625.21  \n973              warm  1873.0  2625.21  \n\n[908 rows x 9 columns]",
      "text/html": "<div>\n<style scoped>\n    .dataframe tbody tr th:only-of-type {\n        vertical-align: middle;\n    }\n\n    .dataframe tbody tr th {\n        vertical-align: top;\n    }\n\n    .dataframe thead th {\n        text-align: right;\n    }\n</style>\n<table border=\"1\" class=\"dataframe\">\n  <thead>\n    <tr style=\"text-align: right;\">\n      <th></th>\n      <th>bedrag</th>\n      <th>saldo</th>\n      <th>kwaliteitEten</th>\n      <th>aanwezig</th>\n      <th>teamNummer</th>\n      <th>totaal_bedrag</th>\n      <th>temperatuur</th>\n      <th>meting3</th>\n      <th>inkomen</th>\n    </tr>\n  </thead>\n  <tbody>\n    <tr>\n      <th>0</th>\n      <td>1536.76</td>\n      <td>123.34</td>\n      <td>heel lekker</td>\n      <td>Nee</td>\n      <td>5</td>\n      <td>8731.82</td>\n      <td>aangenaam warm</td>\n      <td>670.0</td>\n      <td>2625.4</td>\n    </tr>\n    <tr>\n      <th>1</th>\n      <td>1536.76</td>\n      <td>332.45</td>\n      <td>heel lekker</td>\n      <td>Ja</td>\n      <td>3</td>\n      <td>8619.01</td>\n      <td>aangenaam warm</td>\n      <td>745.0</td>\n      <td>2625.21</td>\n    </tr>\n    <tr>\n      <th>2</th>\n      <td>1536.86</td>\n      <td>454.95</td>\n      <td>zeer slecht</td>\n      <td>Nee</td>\n      <td>3</td>\n      <td>8762.06</td>\n      <td>aangenaam warm</td>\n      <td>1109.0</td>\n      <td>2625.22</td>\n    </tr>\n    <tr>\n      <th>3</th>\n      <td>1536.75</td>\n      <td>476.03</td>\n      <td>neutraal</td>\n      <td>Ja</td>\n      <td>3</td>\n      <td>8708.54</td>\n      <td>aangenaam warm</td>\n      <td>2510.0</td>\n      <td>2625.22</td>\n    </tr>\n    <tr>\n      <th>4</th>\n      <td>1536.76</td>\n      <td>670.12</td>\n      <td>slecht</td>\n      <td>Ja</td>\n      <td>3</td>\n      <td>8618.96</td>\n      <td>warm</td>\n      <td>4001.0</td>\n      <td>2625.21</td>\n    </tr>\n    <tr>\n      <th>...</th>\n      <td>...</td>\n      <td>...</td>\n      <td>...</td>\n      <td>...</td>\n      <td>...</td>\n      <td>...</td>\n      <td>...</td>\n      <td>...</td>\n      <td>...</td>\n    </tr>\n    <tr>\n      <th>968</th>\n      <td>1543.37</td>\n      <td>836.05</td>\n      <td>slecht</td>\n      <td>Ja</td>\n      <td>3</td>\n      <td>8619.04</td>\n      <td>aangenaam warm</td>\n      <td>-177.0</td>\n      <td>2625.23</td>\n    </tr>\n    <tr>\n      <th>969</th>\n      <td>1536.79</td>\n      <td>19.16</td>\n      <td>neutraal</td>\n      <td>Ja</td>\n      <td>2</td>\n      <td>8618.94</td>\n      <td>lage temperatuur</td>\n      <td>3400.0</td>\n      <td>2625.21</td>\n    </tr>\n    <tr>\n      <th>971</th>\n      <td>1536.75</td>\n      <td>1595.39</td>\n      <td>heel lekker</td>\n      <td>Ja</td>\n      <td>5</td>\n      <td>8618.94</td>\n      <td>aangenaam warm</td>\n      <td>717.0</td>\n      <td>2625.21</td>\n    </tr>\n    <tr>\n      <th>972</th>\n      <td>1536.76</td>\n      <td>99.02</td>\n      <td>heel lekker</td>\n      <td>Ja</td>\n      <td>4</td>\n      <td>8618.94</td>\n      <td>vrieskou</td>\n      <td>511.0</td>\n      <td>2625.21</td>\n    </tr>\n    <tr>\n      <th>973</th>\n      <td>1536.79</td>\n      <td>963.97</td>\n      <td>lekker</td>\n      <td>Ja</td>\n      <td>4</td>\n      <td>8619.1</td>\n      <td>warm</td>\n      <td>1873.0</td>\n      <td>2625.21</td>\n    </tr>\n  </tbody>\n</table>\n<p>908 rows × 9 columns</p>\n</div>"
     },
     "metadata": {},
     "output_type": "display_data"
    },
    {
     "name": "stdout",
     "output_type": "stream",
     "text": [
      "4\n"
     ]
    },
    {
     "data": {
      "text/plain": "      bedrag    saldo kwaliteitEten aanwezig teamNummer totaal_bedrag  \\\n0    1536.76   123.34   heel lekker      Nee          5       8731.82   \n1    1536.76   332.45   heel lekker       Ja          3       8619.01   \n2    1536.86   454.95   zeer slecht      Nee          3       8762.06   \n3    1536.75   476.03      neutraal       Ja          3       8708.54   \n4    1536.76   670.12        slecht       Ja          3       8618.96   \n..       ...      ...           ...      ...        ...           ...   \n968  1543.37   836.05        slecht       Ja          3       8619.04   \n969  1536.79    19.16      neutraal       Ja          2       8618.94   \n971  1536.75  1595.39   heel lekker       Ja          5       8618.94   \n972  1536.76    99.02   heel lekker       Ja          4       8618.94   \n973  1536.79   963.97        lekker       Ja          4        8619.1   \n\n          temperatuur meting3  inkomen  \n0      aangenaam warm   670.0   2625.4  \n1      aangenaam warm   745.0  2625.21  \n2      aangenaam warm  1109.0  2625.22  \n3      aangenaam warm  2510.0  2625.22  \n4                warm  4001.0  2625.21  \n..                ...     ...      ...  \n968    aangenaam warm  -177.0  2625.23  \n969  lage temperatuur  3400.0  2625.21  \n971    aangenaam warm   717.0  2625.21  \n972          vrieskou   511.0  2625.21  \n973              warm  1873.0  2625.21  \n\n[904 rows x 9 columns]",
      "text/html": "<div>\n<style scoped>\n    .dataframe tbody tr th:only-of-type {\n        vertical-align: middle;\n    }\n\n    .dataframe tbody tr th {\n        vertical-align: top;\n    }\n\n    .dataframe thead th {\n        text-align: right;\n    }\n</style>\n<table border=\"1\" class=\"dataframe\">\n  <thead>\n    <tr style=\"text-align: right;\">\n      <th></th>\n      <th>bedrag</th>\n      <th>saldo</th>\n      <th>kwaliteitEten</th>\n      <th>aanwezig</th>\n      <th>teamNummer</th>\n      <th>totaal_bedrag</th>\n      <th>temperatuur</th>\n      <th>meting3</th>\n      <th>inkomen</th>\n    </tr>\n  </thead>\n  <tbody>\n    <tr>\n      <th>0</th>\n      <td>1536.76</td>\n      <td>123.34</td>\n      <td>heel lekker</td>\n      <td>Nee</td>\n      <td>5</td>\n      <td>8731.82</td>\n      <td>aangenaam warm</td>\n      <td>670.0</td>\n      <td>2625.4</td>\n    </tr>\n    <tr>\n      <th>1</th>\n      <td>1536.76</td>\n      <td>332.45</td>\n      <td>heel lekker</td>\n      <td>Ja</td>\n      <td>3</td>\n      <td>8619.01</td>\n      <td>aangenaam warm</td>\n      <td>745.0</td>\n      <td>2625.21</td>\n    </tr>\n    <tr>\n      <th>2</th>\n      <td>1536.86</td>\n      <td>454.95</td>\n      <td>zeer slecht</td>\n      <td>Nee</td>\n      <td>3</td>\n      <td>8762.06</td>\n      <td>aangenaam warm</td>\n      <td>1109.0</td>\n      <td>2625.22</td>\n    </tr>\n    <tr>\n      <th>3</th>\n      <td>1536.75</td>\n      <td>476.03</td>\n      <td>neutraal</td>\n      <td>Ja</td>\n      <td>3</td>\n      <td>8708.54</td>\n      <td>aangenaam warm</td>\n      <td>2510.0</td>\n      <td>2625.22</td>\n    </tr>\n    <tr>\n      <th>4</th>\n      <td>1536.76</td>\n      <td>670.12</td>\n      <td>slecht</td>\n      <td>Ja</td>\n      <td>3</td>\n      <td>8618.96</td>\n      <td>warm</td>\n      <td>4001.0</td>\n      <td>2625.21</td>\n    </tr>\n    <tr>\n      <th>...</th>\n      <td>...</td>\n      <td>...</td>\n      <td>...</td>\n      <td>...</td>\n      <td>...</td>\n      <td>...</td>\n      <td>...</td>\n      <td>...</td>\n      <td>...</td>\n    </tr>\n    <tr>\n      <th>968</th>\n      <td>1543.37</td>\n      <td>836.05</td>\n      <td>slecht</td>\n      <td>Ja</td>\n      <td>3</td>\n      <td>8619.04</td>\n      <td>aangenaam warm</td>\n      <td>-177.0</td>\n      <td>2625.23</td>\n    </tr>\n    <tr>\n      <th>969</th>\n      <td>1536.79</td>\n      <td>19.16</td>\n      <td>neutraal</td>\n      <td>Ja</td>\n      <td>2</td>\n      <td>8618.94</td>\n      <td>lage temperatuur</td>\n      <td>3400.0</td>\n      <td>2625.21</td>\n    </tr>\n    <tr>\n      <th>971</th>\n      <td>1536.75</td>\n      <td>1595.39</td>\n      <td>heel lekker</td>\n      <td>Ja</td>\n      <td>5</td>\n      <td>8618.94</td>\n      <td>aangenaam warm</td>\n      <td>717.0</td>\n      <td>2625.21</td>\n    </tr>\n    <tr>\n      <th>972</th>\n      <td>1536.76</td>\n      <td>99.02</td>\n      <td>heel lekker</td>\n      <td>Ja</td>\n      <td>4</td>\n      <td>8618.94</td>\n      <td>vrieskou</td>\n      <td>511.0</td>\n      <td>2625.21</td>\n    </tr>\n    <tr>\n      <th>973</th>\n      <td>1536.79</td>\n      <td>963.97</td>\n      <td>lekker</td>\n      <td>Ja</td>\n      <td>4</td>\n      <td>8619.1</td>\n      <td>warm</td>\n      <td>1873.0</td>\n      <td>2625.21</td>\n    </tr>\n  </tbody>\n</table>\n<p>904 rows × 9 columns</p>\n</div>"
     },
     "metadata": {},
     "output_type": "display_data"
    }
   ],
   "source": [
    "# 3a) Code\n",
    "dataCSV.bedrag = dataCSV.bedrag.str.replace(\"ontbrekend\" ,\"1500\", regex=False)\n",
    "display(dataCSV)\n",
    "\n",
    "# 3b) Code\n",
    "t = 0\n",
    "for rij in dataCSV.inkomen:\n",
    "\tif rij == \"onbekend\":\n",
    "            t = t + 1\n",
    "print(t)\n",
    "# 3c) Code\n",
    "dataCSV = dataCSV.loc[dataCSV['inkomen'] != \"onbekend\"]\n",
    "display(dataCSV)"
   ],
   "metadata": {
    "collapsed": false
   }
  },
  {
   "cell_type": "markdown",
   "source": [
    "## Vraag 4\n",
    "\n",
    "antwoorden:\n",
    "4a) klantNummer = \"nominaal of ordinaal\" | meting3 = \"nominaal of ordinaal\"\n",
    "4b) C = Deze heeft geen interval meetniveau\n",
    "(Interval (Negatieve getallen zijn mogelijk) (\"[) =, Niet=,>,<,+,- ) & Ratio (Negatieve getallen zijn niet mogelijk) ( =, Niet=,>,<,+,-,x,/ ))"
   ],
   "metadata": {
    "collapsed": false
   }
  },
  {
   "cell_type": "code",
   "execution_count": 189,
   "outputs": [],
   "source": [
    "# 4a) Code\n",
    "# my_series = dataCSV.klantNummer\n",
    "# if my_series.dtype == \"int64\" or my_series.dtype == \"float64\":\n",
    "#     print(\"De serie heeft een ratio meetniveau\")\n",
    "# elif my_series.dtype == \"object\":\n",
    "#     if my_series.str.isnumeric().all():\n",
    "#         print(\"De serie heeft een ratio meetniveau\")\n",
    "#     else:\n",
    "#         print(\"De serie heeft een nominaal of ordinaal meetniveau\")\n",
    "# else:\n",
    "#     print(\"Het meetniveau van de serie kan niet worden bepaald\")\n",
    "# my_series = dataCSV.meting3\n",
    "# if my_series.dtype == \"int64\" or my_series.dtype == \"float64\":\n",
    "#     print(\"De serie heeft een ratio meetniveau\")\n",
    "# elif my_series.dtype == \"object\":\n",
    "#     if my_series.str.isnumeric().all():\n",
    "#         print(\"De serie heeft een ratio meetniveau\")\n",
    "#     else:\n",
    "#         print(\"De serie heeft een nominaal of ordinaal meetniveau\")\n",
    "# else:\n",
    "#     print(\"Het meetniveau van de serie kan niet worden bepaald\")"
   ],
   "metadata": {
    "collapsed": false
   }
  },
  {
   "cell_type": "markdown",
   "source": [
    "## Vraag 5\n",
    "\n",
    "antwoorden:\n",
    "5a) zie code\n",
    "5b) 1679.72\n",
    "5c) 634.5840880503144\n",
    "5d) 351193.0"
   ],
   "metadata": {
    "collapsed": false
   }
  },
  {
   "cell_type": "code",
   "execution_count": 190,
   "outputs": [
    {
     "data": {
      "text/plain": "      bedrag    saldo kwaliteitEten aanwezig  teamNummer totaal_bedrag  \\\n4    1536.76   670.12        slecht       Ja           3       8618.96   \n9    1536.75   746.82   heel lekker       Ja           1       8622.91   \n14   1537.09   807.49        slecht      Nee           2       8618.97   \n16   1536.75   750.47      neutraal       Ja           4       8618.94   \n19    1536.8   545.07      neutraal      Nee           1        8620.2   \n..       ...      ...           ...      ...         ...           ...   \n930  1536.89   756.89   heel lekker       Ja  ontbrekend       8619.38   \n934  1537.04  1146.82   heel lekker       Ja           4        8620.0   \n939  1536.76   578.75   heel lekker      Nee           4       8618.94   \n945  1536.75   567.04      neutraal      Nee           3       8618.95   \n973  1536.79   963.97        lekker       Ja           4        8619.1   \n\n    temperatuur meting3  inkomen  \n4          warm  4001.0  2625.21  \n9          warm  1689.0  2746.58  \n14         warm  2768.0  2625.25  \n16         warm  1150.0  2625.21  \n19         warm   530.0  2625.21  \n..          ...     ...      ...  \n930        warm   846.0  2625.25  \n934        warm  3374.0  2625.21  \n939        warm   139.0  2625.21  \n945        warm   806.0  2625.21  \n973        warm  1873.0  2625.21  \n\n[183 rows x 9 columns]",
      "text/html": "<div>\n<style scoped>\n    .dataframe tbody tr th:only-of-type {\n        vertical-align: middle;\n    }\n\n    .dataframe tbody tr th {\n        vertical-align: top;\n    }\n\n    .dataframe thead th {\n        text-align: right;\n    }\n</style>\n<table border=\"1\" class=\"dataframe\">\n  <thead>\n    <tr style=\"text-align: right;\">\n      <th></th>\n      <th>bedrag</th>\n      <th>saldo</th>\n      <th>kwaliteitEten</th>\n      <th>aanwezig</th>\n      <th>teamNummer</th>\n      <th>totaal_bedrag</th>\n      <th>temperatuur</th>\n      <th>meting3</th>\n      <th>inkomen</th>\n    </tr>\n  </thead>\n  <tbody>\n    <tr>\n      <th>4</th>\n      <td>1536.76</td>\n      <td>670.12</td>\n      <td>slecht</td>\n      <td>Ja</td>\n      <td>3</td>\n      <td>8618.96</td>\n      <td>warm</td>\n      <td>4001.0</td>\n      <td>2625.21</td>\n    </tr>\n    <tr>\n      <th>9</th>\n      <td>1536.75</td>\n      <td>746.82</td>\n      <td>heel lekker</td>\n      <td>Ja</td>\n      <td>1</td>\n      <td>8622.91</td>\n      <td>warm</td>\n      <td>1689.0</td>\n      <td>2746.58</td>\n    </tr>\n    <tr>\n      <th>14</th>\n      <td>1537.09</td>\n      <td>807.49</td>\n      <td>slecht</td>\n      <td>Nee</td>\n      <td>2</td>\n      <td>8618.97</td>\n      <td>warm</td>\n      <td>2768.0</td>\n      <td>2625.25</td>\n    </tr>\n    <tr>\n      <th>16</th>\n      <td>1536.75</td>\n      <td>750.47</td>\n      <td>neutraal</td>\n      <td>Ja</td>\n      <td>4</td>\n      <td>8618.94</td>\n      <td>warm</td>\n      <td>1150.0</td>\n      <td>2625.21</td>\n    </tr>\n    <tr>\n      <th>19</th>\n      <td>1536.8</td>\n      <td>545.07</td>\n      <td>neutraal</td>\n      <td>Nee</td>\n      <td>1</td>\n      <td>8620.2</td>\n      <td>warm</td>\n      <td>530.0</td>\n      <td>2625.21</td>\n    </tr>\n    <tr>\n      <th>...</th>\n      <td>...</td>\n      <td>...</td>\n      <td>...</td>\n      <td>...</td>\n      <td>...</td>\n      <td>...</td>\n      <td>...</td>\n      <td>...</td>\n      <td>...</td>\n    </tr>\n    <tr>\n      <th>930</th>\n      <td>1536.89</td>\n      <td>756.89</td>\n      <td>heel lekker</td>\n      <td>Ja</td>\n      <td>ontbrekend</td>\n      <td>8619.38</td>\n      <td>warm</td>\n      <td>846.0</td>\n      <td>2625.25</td>\n    </tr>\n    <tr>\n      <th>934</th>\n      <td>1537.04</td>\n      <td>1146.82</td>\n      <td>heel lekker</td>\n      <td>Ja</td>\n      <td>4</td>\n      <td>8620.0</td>\n      <td>warm</td>\n      <td>3374.0</td>\n      <td>2625.21</td>\n    </tr>\n    <tr>\n      <th>939</th>\n      <td>1536.76</td>\n      <td>578.75</td>\n      <td>heel lekker</td>\n      <td>Nee</td>\n      <td>4</td>\n      <td>8618.94</td>\n      <td>warm</td>\n      <td>139.0</td>\n      <td>2625.21</td>\n    </tr>\n    <tr>\n      <th>945</th>\n      <td>1536.75</td>\n      <td>567.04</td>\n      <td>neutraal</td>\n      <td>Nee</td>\n      <td>3</td>\n      <td>8618.95</td>\n      <td>warm</td>\n      <td>806.0</td>\n      <td>2625.21</td>\n    </tr>\n    <tr>\n      <th>973</th>\n      <td>1536.79</td>\n      <td>963.97</td>\n      <td>lekker</td>\n      <td>Ja</td>\n      <td>4</td>\n      <td>8619.1</td>\n      <td>warm</td>\n      <td>1873.0</td>\n      <td>2625.21</td>\n    </tr>\n  </tbody>\n</table>\n<p>183 rows × 9 columns</p>\n</div>"
     },
     "metadata": {},
     "output_type": "display_data"
    },
    {
     "name": "stdout",
     "output_type": "stream",
     "text": [
      "1679.72\n"
     ]
    },
    {
     "data": {
      "text/plain": "634.5840880503144"
     },
     "metadata": {},
     "output_type": "display_data"
    },
    {
     "name": "stdout",
     "output_type": "stream",
     "text": [
      "351193.0\n"
     ]
    }
   ],
   "source": [
    "# 5a) Code\n",
    "tempData1 = dataCSV.loc[dataCSV['temperatuur'] == \"warm\"]\n",
    "display(tempData1)\n",
    "\n",
    "# 5b) Code\n",
    "print(max(tempData1.bedrag))\n",
    "\n",
    "# 5c) Code\n",
    "tempData2 = tempData1.loc[tempData1['saldo'] > 200]\n",
    "display(tempData2.saldo.mean())\n",
    "\n",
    "# 5d) Code\n",
    "tempData3 = dataCSV.loc[dataCSV['kwaliteitEten'] == \"neutraal\"]\n",
    "tempData3 = tempData3.loc[tempData3['meting3'] != \"onbekend\"]\n",
    "tempData3.meting3 = pd.to_numeric(tempData3.meting3, errors=\"coerce\")\n",
    "\n",
    "print(tempData3.meting3.sum())"
   ],
   "metadata": {
    "collapsed": false
   }
  },
  {
   "cell_type": "markdown",
   "source": [
    "# DEEL 2"
   ],
   "metadata": {
    "collapsed": false
   }
  },
  {
   "cell_type": "code",
   "execution_count": 191,
   "outputs": [
    {
     "data": {
      "text/plain": "     klantNummer   bedrag    saldo kwaliteitEten aanwezig  teamNummer  \\\n0          32858  1536.76   123.34   heel lekker      Nee           5   \n1          32103  1536.76   332.45   heel lekker       Ja           3   \n2          32698  1536.86   454.95   zeer slecht      Nee           3   \n3          32554  1536.75   476.03      neutraal       Ja           3   \n4          32974  1536.76   670.12        slecht       Ja           3   \n..           ...      ...      ...           ...      ...         ...   \n969        32255  1536.79    19.16      neutraal       Ja           2   \n970        32348  1536.76  -316.09   heel lekker       Ja           4   \n971        32283  1536.75  1595.39   heel lekker       Ja           5   \n972        32938  1536.76    99.02   heel lekker       Ja           4   \n973        32737  1536.79   963.97        lekker       Ja           4   \n\n     totaal_bedrag       temperatuur  meting3  inkomen  \n0          8731.82    aangenaam warm    670.0  2625.40  \n1          8619.01    aangenaam warm    745.0  2625.21  \n2          8762.06    aangenaam warm   1109.0  2625.22  \n3          8708.54    aangenaam warm   2510.0  2625.22  \n4          8618.96              warm   4001.0  2625.21  \n..             ...               ...      ...      ...  \n969        8618.94  lage temperatuur   3400.0  2625.21  \n970        8619.04    aangenaam warm   2534.0  2625.22  \n971        8618.94    aangenaam warm    717.0  2625.21  \n972        8618.94          vrieskou    511.0  2625.21  \n973        8619.10              warm   1873.0  2625.21  \n\n[974 rows x 10 columns]",
      "text/html": "<div>\n<style scoped>\n    .dataframe tbody tr th:only-of-type {\n        vertical-align: middle;\n    }\n\n    .dataframe tbody tr th {\n        vertical-align: top;\n    }\n\n    .dataframe thead th {\n        text-align: right;\n    }\n</style>\n<table border=\"1\" class=\"dataframe\">\n  <thead>\n    <tr style=\"text-align: right;\">\n      <th></th>\n      <th>klantNummer</th>\n      <th>bedrag</th>\n      <th>saldo</th>\n      <th>kwaliteitEten</th>\n      <th>aanwezig</th>\n      <th>teamNummer</th>\n      <th>totaal_bedrag</th>\n      <th>temperatuur</th>\n      <th>meting3</th>\n      <th>inkomen</th>\n    </tr>\n  </thead>\n  <tbody>\n    <tr>\n      <th>0</th>\n      <td>32858</td>\n      <td>1536.76</td>\n      <td>123.34</td>\n      <td>heel lekker</td>\n      <td>Nee</td>\n      <td>5</td>\n      <td>8731.82</td>\n      <td>aangenaam warm</td>\n      <td>670.0</td>\n      <td>2625.40</td>\n    </tr>\n    <tr>\n      <th>1</th>\n      <td>32103</td>\n      <td>1536.76</td>\n      <td>332.45</td>\n      <td>heel lekker</td>\n      <td>Ja</td>\n      <td>3</td>\n      <td>8619.01</td>\n      <td>aangenaam warm</td>\n      <td>745.0</td>\n      <td>2625.21</td>\n    </tr>\n    <tr>\n      <th>2</th>\n      <td>32698</td>\n      <td>1536.86</td>\n      <td>454.95</td>\n      <td>zeer slecht</td>\n      <td>Nee</td>\n      <td>3</td>\n      <td>8762.06</td>\n      <td>aangenaam warm</td>\n      <td>1109.0</td>\n      <td>2625.22</td>\n    </tr>\n    <tr>\n      <th>3</th>\n      <td>32554</td>\n      <td>1536.75</td>\n      <td>476.03</td>\n      <td>neutraal</td>\n      <td>Ja</td>\n      <td>3</td>\n      <td>8708.54</td>\n      <td>aangenaam warm</td>\n      <td>2510.0</td>\n      <td>2625.22</td>\n    </tr>\n    <tr>\n      <th>4</th>\n      <td>32974</td>\n      <td>1536.76</td>\n      <td>670.12</td>\n      <td>slecht</td>\n      <td>Ja</td>\n      <td>3</td>\n      <td>8618.96</td>\n      <td>warm</td>\n      <td>4001.0</td>\n      <td>2625.21</td>\n    </tr>\n    <tr>\n      <th>...</th>\n      <td>...</td>\n      <td>...</td>\n      <td>...</td>\n      <td>...</td>\n      <td>...</td>\n      <td>...</td>\n      <td>...</td>\n      <td>...</td>\n      <td>...</td>\n      <td>...</td>\n    </tr>\n    <tr>\n      <th>969</th>\n      <td>32255</td>\n      <td>1536.79</td>\n      <td>19.16</td>\n      <td>neutraal</td>\n      <td>Ja</td>\n      <td>2</td>\n      <td>8618.94</td>\n      <td>lage temperatuur</td>\n      <td>3400.0</td>\n      <td>2625.21</td>\n    </tr>\n    <tr>\n      <th>970</th>\n      <td>32348</td>\n      <td>1536.76</td>\n      <td>-316.09</td>\n      <td>heel lekker</td>\n      <td>Ja</td>\n      <td>4</td>\n      <td>8619.04</td>\n      <td>aangenaam warm</td>\n      <td>2534.0</td>\n      <td>2625.22</td>\n    </tr>\n    <tr>\n      <th>971</th>\n      <td>32283</td>\n      <td>1536.75</td>\n      <td>1595.39</td>\n      <td>heel lekker</td>\n      <td>Ja</td>\n      <td>5</td>\n      <td>8618.94</td>\n      <td>aangenaam warm</td>\n      <td>717.0</td>\n      <td>2625.21</td>\n    </tr>\n    <tr>\n      <th>972</th>\n      <td>32938</td>\n      <td>1536.76</td>\n      <td>99.02</td>\n      <td>heel lekker</td>\n      <td>Ja</td>\n      <td>4</td>\n      <td>8618.94</td>\n      <td>vrieskou</td>\n      <td>511.0</td>\n      <td>2625.21</td>\n    </tr>\n    <tr>\n      <th>973</th>\n      <td>32737</td>\n      <td>1536.79</td>\n      <td>963.97</td>\n      <td>lekker</td>\n      <td>Ja</td>\n      <td>4</td>\n      <td>8619.10</td>\n      <td>warm</td>\n      <td>1873.0</td>\n      <td>2625.21</td>\n    </tr>\n  </tbody>\n</table>\n<p>974 rows × 10 columns</p>\n</div>"
     },
     "metadata": {},
     "output_type": "display_data"
    }
   ],
   "source": [
    "examen_deel2 = pd.read_csv(\"examen_2023_P3_DEEL2.csv\", delimiter=\",\", header=0, decimal=\".\")\n",
    "display(examen_deel2)"
   ],
   "metadata": {
    "collapsed": false
   }
  },
  {
   "cell_type": "markdown",
   "source": [
    "## Vraag 6\n",
    "\n",
    "antwoorden:\n",
    "6a) B (Relatieve Frequenties)\n",
    "6b) 11\n",
    "6c) ?\n",
    "6d) ?\n",
    "6e) ?\n",
    "6f) 92\n",
    "6g) A\n",
    "6h) D"
   ],
   "metadata": {
    "collapsed": false
   }
  },
  {
   "cell_type": "code",
   "execution_count": 192,
   "outputs": [
    {
     "name": "stdout",
     "output_type": "stream",
     "text": [
      "3    287\n",
      "1    220\n",
      "4    203\n",
      "2    146\n",
      "5    118\n",
      "Name: teamNummer, dtype: int64\n",
      "3    0.294661\n",
      "1    0.225873\n",
      "4    0.208419\n",
      "2    0.149897\n",
      "5    0.121150\n",
      "Name: teamNummer, dtype: float64\n",
      "11\n",
      "0      NaN\n",
      "1      NaN\n",
      "2      NaN\n",
      "3      NaN\n",
      "4      NaN\n",
      "      ... \n",
      "969    NaN\n",
      "970    NaN\n",
      "971    NaN\n",
      "972    NaN\n",
      "973    NaN\n",
      "Name: saldo, Length: 974, dtype: category\n",
      "Categories (0, interval[float64, right]): []\n",
      "Series([], Name: saldo, dtype: int64)\n",
      "aangenaam warm      416\n",
      "warm                192\n",
      "lage temperatuur    178\n",
      "vrieskou             96\n",
      "heet                 92\n",
      "Name: temperatuur, dtype: int64\n",
      "0        0.102334\n",
      "1        0.204661\n",
      "2        0.306988\n",
      "3        0.409315\n",
      "4        0.511642\n",
      "          ...    \n",
      "969     99.590693\n",
      "970     99.693020\n",
      "971     99.795346\n",
      "972     99.897673\n",
      "973    100.000000\n",
      "Name: inkomen, Length: 974, dtype: float64\n"
     ]
    }
   ],
   "source": [
    "# 6a) Code\n",
    "aFreq = examen_deel2.teamNummer.value_counts(dropna=False) # Om de NaN toch mee te tellen (Standaard is dit True).\n",
    "print(aFreq)\n",
    "\n",
    "rFreq = examen_deel2.teamNummer.value_counts(normalize=True)\n",
    "print(rFreq)\n",
    "\n",
    "# 6b) Code\n",
    "series = examen_deel2.inkomen.dropna()\n",
    "n = len(series)\n",
    "sturges = math.ceil(1 + math.log2(n))\n",
    "print(sturges)\n",
    "\n",
    "# 6c) Code\n",
    "\n",
    "cutpoints = range(0, int(len(examen_deel2.saldo) / 10), 100)\n",
    "\n",
    "klassen = pd.cut(examen_deel2.saldo, bins=cutpoints, include_lowest=True)\n",
    "print(klassen)\n",
    "\n",
    "# Absolute Frequenties (Klassen)\n",
    "print(klassen.value_counts().sort_index())\n",
    "\n",
    "# 6f) Code\n",
    "a = examen_deel2.temperatuur.value_counts()\n",
    "print(a)\n",
    "\n",
    "# 6g) Code\n",
    "cum_frequentie = examen_deel2.inkomen.cumsum()\n",
    "totaal_frequentie = examen_deel2['inkomen'].sum()\n",
    "cum_percentage = cum_frequentie/totaal_frequentie*100\n",
    "print(cum_percentage)"
   ],
   "metadata": {
    "collapsed": false
   }
  },
  {
   "cell_type": "markdown",
   "source": [
    "## Vraag 7\n",
    "\n",
    "antwoorden:\n",
    "7a) \"aangenaam warm\"\n",
    "7b) \"heet\"\n",
    "7c) C\n",
    "7d) B"
   ],
   "metadata": {
    "collapsed": false
   }
  },
  {
   "cell_type": "code",
   "execution_count": 193,
   "outputs": [
    {
     "name": "stdout",
     "output_type": "stream",
     "text": [
      "['aangenaam warm']\n",
      "heet\n"
     ]
    }
   ],
   "source": [
    "# 6a) Code\n",
    "print(examen_deel2.temperatuur.mode().values)\n",
    "\n",
    "# 6a) Code\n",
    "import math\n",
    "\n",
    "d = examen_deel2.temperatuur.dropna()\n",
    "n = len(d)\n",
    "middle = math.floor(n / 2)\n",
    "medianCategorical = d.sort_values().reset_index(drop=True)[middle]\n",
    "print(medianCategorical)"
   ],
   "metadata": {
    "collapsed": false
   }
  },
  {
   "cell_type": "markdown",
   "source": [
    "## Vraag 8\n",
    "\n",
    "antwoorden:\n",
    "8a) 0.009999999999763531\n",
    "8b) 2625.21\n",
    "8c) 263.39999537389235\n",
    "8d) B\n",
    "8e) D"
   ],
   "metadata": {
    "collapsed": false
   }
  },
  {
   "cell_type": "code",
   "execution_count": 194,
   "outputs": [
    {
     "name": "stdout",
     "output_type": "stream",
     "text": [
      "0.009999999999763531\n",
      "2625.21\n",
      "263.39999537389235\n"
     ]
    }
   ],
   "source": [
    "# 8a) Code\n",
    "Q1 = examen_deel2.inkomen.quantile(0.25)\n",
    "Q3 = examen_deel2.inkomen.quantile(0.75)\n",
    "IQR = Q3 - Q1\n",
    "print(IQR)\n",
    "\n",
    "# 8b) Code\n",
    "print(Q1)\n",
    "\n",
    "# 8c) Code\n",
    "print(examen_deel2.inkomen.std())"
   ],
   "metadata": {
    "collapsed": false
   }
  },
  {
   "cell_type": "markdown",
   "source": [
    "## Vraag 9\n",
    "\n",
    "antwoorden:\n",
    "9a) -441.70625\n",
    "9b) 1465.6437500000002\n",
    "9c) 522.97\n",
    "9d) 7"
   ],
   "metadata": {
    "collapsed": false
   }
  },
  {
   "cell_type": "code",
   "execution_count": 195,
   "outputs": [
    {
     "name": "stdout",
     "output_type": "stream",
     "text": [
      "-441.70625\n",
      "1465.6437500000002\n"
     ]
    },
    {
     "data": {
      "text/plain": "522.97"
     },
     "metadata": {},
     "output_type": "display_data"
    },
    {
     "name": "stdout",
     "output_type": "stream",
     "text": [
      "7\n"
     ]
    }
   ],
   "source": [
    "# 9a) & 9b) Code\n",
    "Q1 = examen_deel2.saldo.quantile(0.25)\n",
    "Q3 = examen_deel2.saldo.quantile(0.75)\n",
    "IQR = Q3 - Q1\n",
    "lower_bound = Q1 - IQR * 1.5\n",
    "upper_bound = Q3 + IQR * 1.5\n",
    "print(lower_bound)\n",
    "print(upper_bound)\n",
    "\n",
    "# 9c) Code\n",
    "testData1 = examen_deel2[(examen_deel2['saldo'] >= lower_bound) & (examen_deel2['saldo'] <= upper_bound)]\n",
    "display(testData1.saldo.median())\n",
    "\n",
    "# 9d) Code\n",
    "print(len(examen_deel2.saldo) - len(testData1.saldo))"
   ],
   "metadata": {
    "collapsed": false
   }
  }
 ],
 "metadata": {
  "kernelspec": {
   "display_name": "Python 3",
   "language": "python",
   "name": "python3"
  },
  "language_info": {
   "codemirror_mode": {
    "name": "ipython",
    "version": 2
   },
   "file_extension": ".py",
   "mimetype": "text/x-python",
   "name": "python",
   "nbconvert_exporter": "python",
   "pygments_lexer": "ipython2",
   "version": "2.7.6"
  }
 },
 "nbformat": 4,
 "nbformat_minor": 0
}
