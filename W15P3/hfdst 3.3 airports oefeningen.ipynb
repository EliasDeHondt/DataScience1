{
 "cells": [
  {
   "cell_type": "markdown",
   "source": [
    "# Oefening Airports"
   ],
   "metadata": {
    "collapsed": false
   }
  },
  {
   "cell_type": "markdown",
   "source": [
    "Importeer hier alle nodige bibliotheken:"
   ],
   "metadata": {
    "collapsed": false
   }
  },
  {
   "cell_type": "code",
   "execution_count": 576,
   "metadata": {},
   "outputs": [],
   "source": [
    "import pandas as pd"
   ]
  },
  {
   "cell_type": "markdown",
   "metadata": {},
   "source": [
    "Lees de volgende CSV-bestanden met de vertragingsgegevens van Amerikaanse luchtvaartmaatschappijen in in twee DataFrames. Je vindt deze gegevens op volgende URL's:\n",
    "\n",
    "* https://raw.githubusercontent.com/nickdcox/learn-airline-delays/main/delays_2018.csv (noem dit dataframe `delays2018`)\n",
    "* https://raw.githubusercontent.com/nickdcox/learn-airline-delays/main/delays_2019.csv (noem dit dataframe `delays2019`)\n",
    "\n",
    "Je vindt daarin volgende gegevens:"
   ]
  },
  {
   "cell_type": "markdown",
   "source": [
    "```{text}\n",
    "            Column Name                                                                                           Description\n",
    "0                  date                                                   Year and month, in the format YYYY-M (e.g., 2018-1)\n",
    "1               carrier                                                 The two character designator for the carrier/airline.\n",
    "2          carrier_name                                                                 The full name of the carrier/airline.\n",
    "3               airport                                               The three character designator for the arrival airport.\n",
    "4          airport_name                                                                 The full name of the arrival airport.\n",
    "5           arr_flights            The total number of arriving flights for the carrier-airport pair for the month specified.\n",
    "6             arr_del15   The number of arriving flights that were delayed. Delayed is when a flight arrives more than 15 ...\n",
    "7            carrier_ct                                        The number of arriving flights delayed due to a carrier issue.\n",
    "8            weather_ct                                        The number of arriving flights delayed due to a weather issue.\n",
    "9                nas_ct                            The number of arriving flights delayed due to a national air system issue.\n",
    "10          security_ct                                      The number of arriving flights delayed due to a security issue.\n",
    "11     late_aircraft_ct                The number of arriving flights delayed due to an earlier late arrival of an aircraft.\n",
    "12        arr_cancelled                                                                     The number of cancelled flights.\n",
    "13         arr_diverted                                                                      The number of diverted flights.\n",
    "14            arr_delay                                                   The total number of delayed minutes due to delays.\n",
    "15        carrier_delay                                           The total number of delayed minutes due to carrier issues.\n",
    "16        weather_delay                                           The total number of delayed minutes due to weather issues.\n",
    "17            nas_delay                               The total number of delayed minutes due to national air system issues.\n",
    "18       security_delay                                          The total number of delayed minutes due to security issues.\n",
    "19  late_aircraft_delay                        The total number of delayed minutes due to earlier later arrival of aircraft.\n",
    "```"
   ],
   "metadata": {
    "collapsed": false
   }
  },
  {
   "cell_type": "code",
   "execution_count": 577,
   "metadata": {},
   "outputs": [],
   "source": [
    "delays2018 = pd.read_csv(\"delays_2018.csv\", sep=\",\", decimal=\".\", header=0)\n",
    "delays2019 = pd.read_csv(\"delays_2019.csv\", sep=\",\", decimal=\".\", header=0)"
   ]
  },
  {
   "cell_type": "markdown",
   "metadata": {},
   "source": [
    "Concateneer de twee dataframes tot één dataframe genaamd `delays` en geef vervolgens het totale aantal rijen weer. Je kan dataframes concateneren met de methode `concat()`. Maak een nieuwe index aan bij het concateneren, dat kan met een bepaalde parameter. In totaal zou je 41177 rijen moeten bekomen. Controleer dat."
   ]
  },
  {
   "cell_type": "code",
   "execution_count": 578,
   "metadata": {},
   "outputs": [
    {
     "data": {
      "text/plain": "         date carrier carrier_name airport  \\\n0      2018-1      MQ    Envoy Air     BIS   \n1      2018-1      MQ    Envoy Air     BNA   \n2      2018-1      MQ    Envoy Air     BOI   \n3      2018-1      MQ    Envoy Air     BPT   \n4      2018-1      MQ    Envoy Air     BUF   \n...       ...     ...          ...     ...   \n41172  2019-1      MQ    Envoy Air     RIC   \n41173  2019-1      MQ    Envoy Air     ROA   \n41174  2019-1      MQ    Envoy Air     ROC   \n41175  2019-1      MQ    Envoy Air     RST   \n41176  2019-1      MQ    Envoy Air     SAT   \n\n                                            airport_name  arr_flights  \\\n0                Bismarck/Mandan, ND: Bismarck Municipal          5.0   \n1                 Nashville, TN: Nashville International        110.0   \n2                          Boise, ID: Boise Air Terminal         32.0   \n3         Beaumont/Port Arthur, TX: Jack Brooks Regional         63.0   \n4             Buffalo, NY: Buffalo Niagara International         31.0   \n...                                                  ...          ...   \n41172               Richmond, VA: Richmond International        195.0   \n41173  Roanoke, VA: Roanoke Blacksburg Regional Woodr...         52.0   \n41174     Rochester, NY: Greater Rochester International        106.0   \n41175             Rochester, MN: Rochester International        116.0   \n41176         San Antonio, TX: San Antonio International         26.0   \n\n       arr_del15  carrier_ct  weather_ct  nas_ct  security_ct  \\\n0            3.0        1.00        0.06    1.94          0.0   \n1           21.0        7.17        1.16    6.76          0.0   \n2            8.0        0.22        0.35    5.61          0.0   \n3           11.0        1.75        1.08    2.98          0.0   \n4           12.0        0.82        3.00    6.62          0.0   \n...          ...         ...         ...     ...          ...   \n41172       68.0       12.12        1.87   17.97          0.0   \n41173       14.0        2.74        0.69    2.46          0.0   \n41174       26.0        4.67        2.26   11.81          0.0   \n41175       35.0        6.83        6.92   11.50          0.0   \n41176        4.0        1.16        0.64    1.92          0.0   \n\n       late_aircraft_ct  arr_cancelled  arr_diverted  arr_delay  \\\n0                  0.00            0.0           0.0      104.0   \n1                  5.92            3.0           0.0      897.0   \n2                  1.82            0.0           0.0      353.0   \n3                  5.19            3.0           0.0      657.0   \n4                  1.55            0.0           0.0      484.0   \n...                 ...            ...           ...        ...   \n41172             36.04           22.0           0.0     4138.0   \n41173              8.11            2.0           1.0      726.0   \n41174              7.26           17.0           0.0     1259.0   \n41175              9.75           22.0           0.0     2307.0   \n41176              0.29            5.0           0.0      120.0   \n\n       carrier_delay  weather_delay  nas_delay  security_delay  \\\n0               54.0            1.0       49.0             0.0   \n1              344.0           37.0      226.0             0.0   \n2                9.0           18.0      233.0             0.0   \n3               83.0           34.0      130.0             0.0   \n4               27.0          136.0      207.0             0.0   \n...              ...            ...        ...             ...   \n41172          603.0          196.0      780.0             0.0   \n41173          323.0           31.0      112.0             0.0   \n41174          313.0           99.0      484.0             0.0   \n41175          474.0          633.0      523.0             0.0   \n41176           50.0           14.0       41.0             0.0   \n\n       late_aircraft_delay  \n0                      0.0  \n1                    290.0  \n2                     93.0  \n3                    410.0  \n4                    114.0  \n...                    ...  \n41172               2559.0  \n41173                260.0  \n41174                363.0  \n41175                677.0  \n41176                 15.0  \n\n[41177 rows x 20 columns]",
      "text/html": "<div>\n<style scoped>\n    .dataframe tbody tr th:only-of-type {\n        vertical-align: middle;\n    }\n\n    .dataframe tbody tr th {\n        vertical-align: top;\n    }\n\n    .dataframe thead th {\n        text-align: right;\n    }\n</style>\n<table border=\"1\" class=\"dataframe\">\n  <thead>\n    <tr style=\"text-align: right;\">\n      <th></th>\n      <th>date</th>\n      <th>carrier</th>\n      <th>carrier_name</th>\n      <th>airport</th>\n      <th>airport_name</th>\n      <th>arr_flights</th>\n      <th>arr_del15</th>\n      <th>carrier_ct</th>\n      <th>weather_ct</th>\n      <th>nas_ct</th>\n      <th>security_ct</th>\n      <th>late_aircraft_ct</th>\n      <th>arr_cancelled</th>\n      <th>arr_diverted</th>\n      <th>arr_delay</th>\n      <th>carrier_delay</th>\n      <th>weather_delay</th>\n      <th>nas_delay</th>\n      <th>security_delay</th>\n      <th>late_aircraft_delay</th>\n    </tr>\n  </thead>\n  <tbody>\n    <tr>\n      <th>0</th>\n      <td>2018-1</td>\n      <td>MQ</td>\n      <td>Envoy Air</td>\n      <td>BIS</td>\n      <td>Bismarck/Mandan, ND: Bismarck Municipal</td>\n      <td>5.0</td>\n      <td>3.0</td>\n      <td>1.00</td>\n      <td>0.06</td>\n      <td>1.94</td>\n      <td>0.0</td>\n      <td>0.00</td>\n      <td>0.0</td>\n      <td>0.0</td>\n      <td>104.0</td>\n      <td>54.0</td>\n      <td>1.0</td>\n      <td>49.0</td>\n      <td>0.0</td>\n      <td>0.0</td>\n    </tr>\n    <tr>\n      <th>1</th>\n      <td>2018-1</td>\n      <td>MQ</td>\n      <td>Envoy Air</td>\n      <td>BNA</td>\n      <td>Nashville, TN: Nashville International</td>\n      <td>110.0</td>\n      <td>21.0</td>\n      <td>7.17</td>\n      <td>1.16</td>\n      <td>6.76</td>\n      <td>0.0</td>\n      <td>5.92</td>\n      <td>3.0</td>\n      <td>0.0</td>\n      <td>897.0</td>\n      <td>344.0</td>\n      <td>37.0</td>\n      <td>226.0</td>\n      <td>0.0</td>\n      <td>290.0</td>\n    </tr>\n    <tr>\n      <th>2</th>\n      <td>2018-1</td>\n      <td>MQ</td>\n      <td>Envoy Air</td>\n      <td>BOI</td>\n      <td>Boise, ID: Boise Air Terminal</td>\n      <td>32.0</td>\n      <td>8.0</td>\n      <td>0.22</td>\n      <td>0.35</td>\n      <td>5.61</td>\n      <td>0.0</td>\n      <td>1.82</td>\n      <td>0.0</td>\n      <td>0.0</td>\n      <td>353.0</td>\n      <td>9.0</td>\n      <td>18.0</td>\n      <td>233.0</td>\n      <td>0.0</td>\n      <td>93.0</td>\n    </tr>\n    <tr>\n      <th>3</th>\n      <td>2018-1</td>\n      <td>MQ</td>\n      <td>Envoy Air</td>\n      <td>BPT</td>\n      <td>Beaumont/Port Arthur, TX: Jack Brooks Regional</td>\n      <td>63.0</td>\n      <td>11.0</td>\n      <td>1.75</td>\n      <td>1.08</td>\n      <td>2.98</td>\n      <td>0.0</td>\n      <td>5.19</td>\n      <td>3.0</td>\n      <td>0.0</td>\n      <td>657.0</td>\n      <td>83.0</td>\n      <td>34.0</td>\n      <td>130.0</td>\n      <td>0.0</td>\n      <td>410.0</td>\n    </tr>\n    <tr>\n      <th>4</th>\n      <td>2018-1</td>\n      <td>MQ</td>\n      <td>Envoy Air</td>\n      <td>BUF</td>\n      <td>Buffalo, NY: Buffalo Niagara International</td>\n      <td>31.0</td>\n      <td>12.0</td>\n      <td>0.82</td>\n      <td>3.00</td>\n      <td>6.62</td>\n      <td>0.0</td>\n      <td>1.55</td>\n      <td>0.0</td>\n      <td>0.0</td>\n      <td>484.0</td>\n      <td>27.0</td>\n      <td>136.0</td>\n      <td>207.0</td>\n      <td>0.0</td>\n      <td>114.0</td>\n    </tr>\n    <tr>\n      <th>...</th>\n      <td>...</td>\n      <td>...</td>\n      <td>...</td>\n      <td>...</td>\n      <td>...</td>\n      <td>...</td>\n      <td>...</td>\n      <td>...</td>\n      <td>...</td>\n      <td>...</td>\n      <td>...</td>\n      <td>...</td>\n      <td>...</td>\n      <td>...</td>\n      <td>...</td>\n      <td>...</td>\n      <td>...</td>\n      <td>...</td>\n      <td>...</td>\n      <td>...</td>\n    </tr>\n    <tr>\n      <th>41172</th>\n      <td>2019-1</td>\n      <td>MQ</td>\n      <td>Envoy Air</td>\n      <td>RIC</td>\n      <td>Richmond, VA: Richmond International</td>\n      <td>195.0</td>\n      <td>68.0</td>\n      <td>12.12</td>\n      <td>1.87</td>\n      <td>17.97</td>\n      <td>0.0</td>\n      <td>36.04</td>\n      <td>22.0</td>\n      <td>0.0</td>\n      <td>4138.0</td>\n      <td>603.0</td>\n      <td>196.0</td>\n      <td>780.0</td>\n      <td>0.0</td>\n      <td>2559.0</td>\n    </tr>\n    <tr>\n      <th>41173</th>\n      <td>2019-1</td>\n      <td>MQ</td>\n      <td>Envoy Air</td>\n      <td>ROA</td>\n      <td>Roanoke, VA: Roanoke Blacksburg Regional Woodr...</td>\n      <td>52.0</td>\n      <td>14.0</td>\n      <td>2.74</td>\n      <td>0.69</td>\n      <td>2.46</td>\n      <td>0.0</td>\n      <td>8.11</td>\n      <td>2.0</td>\n      <td>1.0</td>\n      <td>726.0</td>\n      <td>323.0</td>\n      <td>31.0</td>\n      <td>112.0</td>\n      <td>0.0</td>\n      <td>260.0</td>\n    </tr>\n    <tr>\n      <th>41174</th>\n      <td>2019-1</td>\n      <td>MQ</td>\n      <td>Envoy Air</td>\n      <td>ROC</td>\n      <td>Rochester, NY: Greater Rochester International</td>\n      <td>106.0</td>\n      <td>26.0</td>\n      <td>4.67</td>\n      <td>2.26</td>\n      <td>11.81</td>\n      <td>0.0</td>\n      <td>7.26</td>\n      <td>17.0</td>\n      <td>0.0</td>\n      <td>1259.0</td>\n      <td>313.0</td>\n      <td>99.0</td>\n      <td>484.0</td>\n      <td>0.0</td>\n      <td>363.0</td>\n    </tr>\n    <tr>\n      <th>41175</th>\n      <td>2019-1</td>\n      <td>MQ</td>\n      <td>Envoy Air</td>\n      <td>RST</td>\n      <td>Rochester, MN: Rochester International</td>\n      <td>116.0</td>\n      <td>35.0</td>\n      <td>6.83</td>\n      <td>6.92</td>\n      <td>11.50</td>\n      <td>0.0</td>\n      <td>9.75</td>\n      <td>22.0</td>\n      <td>0.0</td>\n      <td>2307.0</td>\n      <td>474.0</td>\n      <td>633.0</td>\n      <td>523.0</td>\n      <td>0.0</td>\n      <td>677.0</td>\n    </tr>\n    <tr>\n      <th>41176</th>\n      <td>2019-1</td>\n      <td>MQ</td>\n      <td>Envoy Air</td>\n      <td>SAT</td>\n      <td>San Antonio, TX: San Antonio International</td>\n      <td>26.0</td>\n      <td>4.0</td>\n      <td>1.16</td>\n      <td>0.64</td>\n      <td>1.92</td>\n      <td>0.0</td>\n      <td>0.29</td>\n      <td>5.0</td>\n      <td>0.0</td>\n      <td>120.0</td>\n      <td>50.0</td>\n      <td>14.0</td>\n      <td>41.0</td>\n      <td>0.0</td>\n      <td>15.0</td>\n    </tr>\n  </tbody>\n</table>\n<p>41177 rows × 20 columns</p>\n</div>"
     },
     "metadata": {},
     "output_type": "display_data"
    },
    {
     "name": "stdout",
     "output_type": "stream",
     "text": [
      "41177\n"
     ]
    }
   ],
   "source": [
    "delays = pd.concat([delays2018, delays2019], ignore_index=True)\n",
    "\n",
    "# TEST\n",
    "display(delays)\n",
    "print(len(delays))"
   ]
  },
  {
   "cell_type": "markdown",
   "metadata": {},
   "source": [
    "Welke rijen hebben minstens 1 van volgende eigenschappen?\n",
    "* de luchthaven heeft geen arriving flights (ontbrekende waarde voor arr_flights)\n",
    "* lege carrier of lege airports\n",
    "\n",
    "Verwijder deze rijen uit de tabel\n",
    "In totaal zou je nu nog 41097 rijen moeten overhouden. Controleer dat."
   ]
  },
  {
   "cell_type": "code",
   "execution_count": 579,
   "metadata": {},
   "outputs": [
    {
     "name": "stdout",
     "output_type": "stream",
     "text": [
      "41097\n"
     ]
    }
   ],
   "source": [
    "dataNAN = delays.arr_flights.isna() | delays.carrier.isna() | delays.airport.isna()\n",
    "\n",
    "dataNANIndex = dataNAN.index[dataNAN]\n",
    "\n",
    "delays = delays.drop(dataNANIndex)\n",
    "\n",
    "# TEST\n",
    "print(len(delays))"
   ]
  },
  {
   "cell_type": "markdown",
   "metadata": {},
   "source": [
    "Geef een lijst weer van alle luchthavens waarvan de airport in \"Tennessee\" ligt. Deze luchthavens hebben de letters \"TN:\" in hun \"airport_name\" zitten. Dit zouden er 5 moeten zijn.  Je kan dit met een for lus doen, maar er is ook een methode \"contains()\" die je kan gebruiken op een pandas Series.  Het resultaat is een lijst van booleans die weergeeft op welke plaats het gezochte patroon voorkomt."
   ]
  },
  {
   "cell_type": "code",
   "execution_count": 580,
   "metadata": {},
   "outputs": [
    {
     "name": "stdout",
     "output_type": "stream",
     "text": [
      "['BNA' 'MEM' 'CHA' 'TYS' 'TRI']\n",
      "5\n"
     ]
    }
   ],
   "source": [
    "TN_Name = delays.airport_name.str.contains(\"TN:\")\n",
    "\n",
    "\n",
    "print(delays.airport[TN_Name].unique())\n",
    "print(len(delays.airport[TN_Name].unique()))"
   ]
  },
  {
   "cell_type": "markdown",
   "metadata": {},
   "source": [
    "Importeer het coördinatenbestand \"airport_coordinates.csv\". Dit bestand bevat de lengte -en breedtegraden van verschillende Amerikaanse luchthavens evenals hun airport-code"
   ]
  },
  {
   "cell_type": "code",
   "execution_count": 581,
   "metadata": {},
   "outputs": [
    {
     "data": {
      "text/plain": "     airport        lat        long\n0        01A  58.109444 -152.906667\n1        03A  65.548056 -161.071667\n2        04A  68.083333 -163.166667\n3        05A  67.570000 -148.183889\n4        06A  57.745278 -152.882778\n...      ...        ...         ...\n4086     RVR        NaN         NaN\n4087     MAZ        NaN         NaN\n4088     NRR        NaN         NaN\n4089     PPD        NaN         NaN\n4090     SIG        NaN         NaN\n\n[4091 rows x 3 columns]",
      "text/html": "<div>\n<style scoped>\n    .dataframe tbody tr th:only-of-type {\n        vertical-align: middle;\n    }\n\n    .dataframe tbody tr th {\n        vertical-align: top;\n    }\n\n    .dataframe thead th {\n        text-align: right;\n    }\n</style>\n<table border=\"1\" class=\"dataframe\">\n  <thead>\n    <tr style=\"text-align: right;\">\n      <th></th>\n      <th>airport</th>\n      <th>lat</th>\n      <th>long</th>\n    </tr>\n  </thead>\n  <tbody>\n    <tr>\n      <th>0</th>\n      <td>01A</td>\n      <td>58.109444</td>\n      <td>-152.906667</td>\n    </tr>\n    <tr>\n      <th>1</th>\n      <td>03A</td>\n      <td>65.548056</td>\n      <td>-161.071667</td>\n    </tr>\n    <tr>\n      <th>2</th>\n      <td>04A</td>\n      <td>68.083333</td>\n      <td>-163.166667</td>\n    </tr>\n    <tr>\n      <th>3</th>\n      <td>05A</td>\n      <td>67.570000</td>\n      <td>-148.183889</td>\n    </tr>\n    <tr>\n      <th>4</th>\n      <td>06A</td>\n      <td>57.745278</td>\n      <td>-152.882778</td>\n    </tr>\n    <tr>\n      <th>...</th>\n      <td>...</td>\n      <td>...</td>\n      <td>...</td>\n    </tr>\n    <tr>\n      <th>4086</th>\n      <td>RVR</td>\n      <td>NaN</td>\n      <td>NaN</td>\n    </tr>\n    <tr>\n      <th>4087</th>\n      <td>MAZ</td>\n      <td>NaN</td>\n      <td>NaN</td>\n    </tr>\n    <tr>\n      <th>4088</th>\n      <td>NRR</td>\n      <td>NaN</td>\n      <td>NaN</td>\n    </tr>\n    <tr>\n      <th>4089</th>\n      <td>PPD</td>\n      <td>NaN</td>\n      <td>NaN</td>\n    </tr>\n    <tr>\n      <th>4090</th>\n      <td>SIG</td>\n      <td>NaN</td>\n      <td>NaN</td>\n    </tr>\n  </tbody>\n</table>\n<p>4091 rows × 3 columns</p>\n</div>"
     },
     "metadata": {},
     "output_type": "display_data"
    },
    {
     "name": "stdout",
     "output_type": "stream",
     "text": [
      "4091\n"
     ]
    }
   ],
   "source": [
    "airports_coord = pd.read_csv(\"airport_coordinates.csv\", sep=\",\", decimal=\".\", header=0)\n",
    "\n",
    "# TEST\n",
    "display(airports_coord)\n",
    "print(len(airports_coord))"
   ]
  },
  {
   "cell_type": "markdown",
   "metadata": {},
   "source": [
    "Volgende code wordt al gegeven.  Ze maakt een nieuw dataframe, genaamd \"airports\", met een lijst van luchthavens en hun code (\"airport\" en \"airport_name\"). In dit nieuwe dataframe worden duplicaten verwijderd. Daarna worden de twee dataframes samengevoegd op de `airport`-sleutel met de \"merge\"-methode.  Het resultaat is een tabel met \"airport\", \"airport_name\", \"lat\" en \"long\" als komommen."
   ]
  },
  {
   "cell_type": "code",
   "execution_count": 582,
   "metadata": {},
   "outputs": [
    {
     "data": {
      "text/plain": "    airport                                    airport_name        lat  \\\n0       BIS         Bismarck/Mandan, ND: Bismarck Municipal  46.778889   \n1       BNA          Nashville, TN: Nashville International  36.126667   \n2       BOI                   Boise, ID: Boise Air Terminal  43.565278   \n3       BPT  Beaumont/Port Arthur, TX: Jack Brooks Regional  29.950833   \n4       BUF      Buffalo, NY: Buffalo Niagara International  42.941111   \n..      ...                                             ...        ...   \n355     PAE                   Everett, WA: Snohomish County  47.908333   \n356     ATY               Watertown, SD: Watertown Regional  44.908889   \n357     PIR                     Pierre, SD: Pierre Regional  44.383611   \n358     BFM                     Mobile, AL: Mobile Downtown  30.626389   \n359     XWA    Williston, ND: Williston Basin International  48.260833   \n\n           long  \n0   -100.752500  \n1    -86.681944  \n2   -116.225000  \n3    -94.020000  \n4    -78.736389  \n..          ...  \n355 -122.281389  \n356  -97.154167  \n357 -100.284167  \n358  -88.068056  \n359 -103.751111  \n\n[360 rows x 4 columns]",
      "text/html": "<div>\n<style scoped>\n    .dataframe tbody tr th:only-of-type {\n        vertical-align: middle;\n    }\n\n    .dataframe tbody tr th {\n        vertical-align: top;\n    }\n\n    .dataframe thead th {\n        text-align: right;\n    }\n</style>\n<table border=\"1\" class=\"dataframe\">\n  <thead>\n    <tr style=\"text-align: right;\">\n      <th></th>\n      <th>airport</th>\n      <th>airport_name</th>\n      <th>lat</th>\n      <th>long</th>\n    </tr>\n  </thead>\n  <tbody>\n    <tr>\n      <th>0</th>\n      <td>BIS</td>\n      <td>Bismarck/Mandan, ND: Bismarck Municipal</td>\n      <td>46.778889</td>\n      <td>-100.752500</td>\n    </tr>\n    <tr>\n      <th>1</th>\n      <td>BNA</td>\n      <td>Nashville, TN: Nashville International</td>\n      <td>36.126667</td>\n      <td>-86.681944</td>\n    </tr>\n    <tr>\n      <th>2</th>\n      <td>BOI</td>\n      <td>Boise, ID: Boise Air Terminal</td>\n      <td>43.565278</td>\n      <td>-116.225000</td>\n    </tr>\n    <tr>\n      <th>3</th>\n      <td>BPT</td>\n      <td>Beaumont/Port Arthur, TX: Jack Brooks Regional</td>\n      <td>29.950833</td>\n      <td>-94.020000</td>\n    </tr>\n    <tr>\n      <th>4</th>\n      <td>BUF</td>\n      <td>Buffalo, NY: Buffalo Niagara International</td>\n      <td>42.941111</td>\n      <td>-78.736389</td>\n    </tr>\n    <tr>\n      <th>...</th>\n      <td>...</td>\n      <td>...</td>\n      <td>...</td>\n      <td>...</td>\n    </tr>\n    <tr>\n      <th>355</th>\n      <td>PAE</td>\n      <td>Everett, WA: Snohomish County</td>\n      <td>47.908333</td>\n      <td>-122.281389</td>\n    </tr>\n    <tr>\n      <th>356</th>\n      <td>ATY</td>\n      <td>Watertown, SD: Watertown Regional</td>\n      <td>44.908889</td>\n      <td>-97.154167</td>\n    </tr>\n    <tr>\n      <th>357</th>\n      <td>PIR</td>\n      <td>Pierre, SD: Pierre Regional</td>\n      <td>44.383611</td>\n      <td>-100.284167</td>\n    </tr>\n    <tr>\n      <th>358</th>\n      <td>BFM</td>\n      <td>Mobile, AL: Mobile Downtown</td>\n      <td>30.626389</td>\n      <td>-88.068056</td>\n    </tr>\n    <tr>\n      <th>359</th>\n      <td>XWA</td>\n      <td>Williston, ND: Williston Basin International</td>\n      <td>48.260833</td>\n      <td>-103.751111</td>\n    </tr>\n  </tbody>\n</table>\n<p>360 rows × 4 columns</p>\n</div>"
     },
     "metadata": {},
     "output_type": "display_data"
    },
    {
     "name": "stdout",
     "output_type": "stream",
     "text": [
      "360\n"
     ]
    }
   ],
   "source": [
    "# keep\n",
    "airports = delays[['airport', 'airport_name']]\n",
    "airports = airports.drop_duplicates()\n",
    "result = airports.merge(airports_coord)\n",
    "\n",
    "# TEST\n",
    "display(result)\n",
    "print(len(result))"
   ]
  },
  {
   "cell_type": "markdown",
   "metadata": {},
   "source": [
    "Bereken de gemiddelde lengte- en breedtegraad van alle luchthavens waarvan de naam begint met de letter 'B'.  Je kan hierbij de methode \"startswith()\" van Series gebruiken."
   ]
  },
  {
   "cell_type": "code",
   "execution_count": 583,
   "metadata": {},
   "outputs": [
    {
     "name": "stdout",
     "output_type": "stream",
     "text": [
      "Breedtegraad -> 41.75543103413793\n",
      "Lengtegraad -> -100.07142720172413\n"
     ]
    }
   ],
   "source": [
    "# The startswith() method returns True if the string starts with the specified value, otherwise False.\n",
    "breedtegraad = result[result.airport_name.str.startswith(\"B\")].lat.mean()\n",
    "\n",
    "lengtegraad = result[result.airport_name.str.startswith(\"B\")].long.mean()\n",
    "\n",
    "# TEST\n",
    "print(\"Breedtegraad ->\" ,breedtegraad)\n",
    "print(\"Lengtegraad ->\" ,lengtegraad)"
   ]
  },
  {
   "cell_type": "markdown",
   "source": [
    "Bereken de minimale en maximale waarden voor latitude en longitude.  Waar zijn de luchthavens gesitueerd?"
   ],
   "metadata": {
    "collapsed": false
   }
  },
  {
   "cell_type": "code",
   "execution_count": 584,
   "outputs": [
    {
     "name": "stdout",
     "output_type": "stream",
     "text": [
      "Minimale latitude -> 17.70388889\n",
      "Maximale latitude -> 71.28555556\n",
      "Minimale longitude -> -176.6447222\n",
      "Maximale longitude -> -64.79888889\n"
     ]
    }
   ],
   "source": [
    "minLat = result.lat.min()\n",
    "maxLat = result.lat.max()\n",
    "minLong = result.long.min()\n",
    "maxLong = result.long.max()\n",
    "\n",
    "# TEST\n",
    "print(\"Minimale latitude ->\", minLat)\n",
    "print(\"Maximale latitude ->\", maxLat)\n",
    "print(\"Minimale longitude ->\", minLong)\n",
    "print(\"Maximale longitude ->\", maxLong)"
   ],
   "metadata": {
    "collapsed": false
   }
  },
  {
   "cell_type": "markdown",
   "source": [
    "Voeg een nieuwe kolom \"zone\" toe die aangeeft waar de luchthaven zich ergens bevindt.  Er zijn vier zones:\n",
    "- \"ZW\": Zuid-Westelijk (lat < 44.48, long < -120.72)\n",
    "- \"ZO\": Zuid-Oostelijk (lat < 44.48, long > -120.72)\n",
    "- \"NW\": Noord-Westelijk (lat > 44.48, long < -120.72)\n",
    "- \"NO\": Noord-Oostelijk (lat > 44.48, long > -120.72)\n",
    "Gebruik de afkortingen ZW, ZO, NW en NO als waarden voor de nieuwe kolom.\n"
   ],
   "metadata": {
    "collapsed": false
   }
  },
  {
   "cell_type": "code",
   "execution_count": 585,
   "outputs": [
    {
     "data": {
      "text/plain": "    airport                                    airport_name        lat  \\\n0       BIS         Bismarck/Mandan, ND: Bismarck Municipal  46.778889   \n1       BNA          Nashville, TN: Nashville International  36.126667   \n2       BOI                   Boise, ID: Boise Air Terminal  43.565278   \n3       BPT  Beaumont/Port Arthur, TX: Jack Brooks Regional  29.950833   \n4       BUF      Buffalo, NY: Buffalo Niagara International  42.941111   \n..      ...                                             ...        ...   \n355     PAE                   Everett, WA: Snohomish County  47.908333   \n356     ATY               Watertown, SD: Watertown Regional  44.908889   \n357     PIR                     Pierre, SD: Pierre Regional  44.383611   \n358     BFM                     Mobile, AL: Mobile Downtown  30.626389   \n359     XWA    Williston, ND: Williston Basin International  48.260833   \n\n           long zone  \n0   -100.752500   NO  \n1    -86.681944   ZO  \n2   -116.225000   ZO  \n3    -94.020000   ZO  \n4    -78.736389   ZO  \n..          ...  ...  \n355 -122.281389   NW  \n356  -97.154167   NO  \n357 -100.284167   ZO  \n358  -88.068056   ZO  \n359 -103.751111   NO  \n\n[360 rows x 5 columns]",
      "text/html": "<div>\n<style scoped>\n    .dataframe tbody tr th:only-of-type {\n        vertical-align: middle;\n    }\n\n    .dataframe tbody tr th {\n        vertical-align: top;\n    }\n\n    .dataframe thead th {\n        text-align: right;\n    }\n</style>\n<table border=\"1\" class=\"dataframe\">\n  <thead>\n    <tr style=\"text-align: right;\">\n      <th></th>\n      <th>airport</th>\n      <th>airport_name</th>\n      <th>lat</th>\n      <th>long</th>\n      <th>zone</th>\n    </tr>\n  </thead>\n  <tbody>\n    <tr>\n      <th>0</th>\n      <td>BIS</td>\n      <td>Bismarck/Mandan, ND: Bismarck Municipal</td>\n      <td>46.778889</td>\n      <td>-100.752500</td>\n      <td>NO</td>\n    </tr>\n    <tr>\n      <th>1</th>\n      <td>BNA</td>\n      <td>Nashville, TN: Nashville International</td>\n      <td>36.126667</td>\n      <td>-86.681944</td>\n      <td>ZO</td>\n    </tr>\n    <tr>\n      <th>2</th>\n      <td>BOI</td>\n      <td>Boise, ID: Boise Air Terminal</td>\n      <td>43.565278</td>\n      <td>-116.225000</td>\n      <td>ZO</td>\n    </tr>\n    <tr>\n      <th>3</th>\n      <td>BPT</td>\n      <td>Beaumont/Port Arthur, TX: Jack Brooks Regional</td>\n      <td>29.950833</td>\n      <td>-94.020000</td>\n      <td>ZO</td>\n    </tr>\n    <tr>\n      <th>4</th>\n      <td>BUF</td>\n      <td>Buffalo, NY: Buffalo Niagara International</td>\n      <td>42.941111</td>\n      <td>-78.736389</td>\n      <td>ZO</td>\n    </tr>\n    <tr>\n      <th>...</th>\n      <td>...</td>\n      <td>...</td>\n      <td>...</td>\n      <td>...</td>\n      <td>...</td>\n    </tr>\n    <tr>\n      <th>355</th>\n      <td>PAE</td>\n      <td>Everett, WA: Snohomish County</td>\n      <td>47.908333</td>\n      <td>-122.281389</td>\n      <td>NW</td>\n    </tr>\n    <tr>\n      <th>356</th>\n      <td>ATY</td>\n      <td>Watertown, SD: Watertown Regional</td>\n      <td>44.908889</td>\n      <td>-97.154167</td>\n      <td>NO</td>\n    </tr>\n    <tr>\n      <th>357</th>\n      <td>PIR</td>\n      <td>Pierre, SD: Pierre Regional</td>\n      <td>44.383611</td>\n      <td>-100.284167</td>\n      <td>ZO</td>\n    </tr>\n    <tr>\n      <th>358</th>\n      <td>BFM</td>\n      <td>Mobile, AL: Mobile Downtown</td>\n      <td>30.626389</td>\n      <td>-88.068056</td>\n      <td>ZO</td>\n    </tr>\n    <tr>\n      <th>359</th>\n      <td>XWA</td>\n      <td>Williston, ND: Williston Basin International</td>\n      <td>48.260833</td>\n      <td>-103.751111</td>\n      <td>NO</td>\n    </tr>\n  </tbody>\n</table>\n<p>360 rows × 5 columns</p>\n</div>"
     },
     "metadata": {},
     "output_type": "display_data"
    }
   ],
   "source": [
    "zone = []\n",
    "waarden = \"\"\n",
    "for rij in range(len(result)):\n",
    "    # ZW\n",
    "    if result.lat[rij] < 44.48 and result.long[rij] < -120.72:\n",
    "        waarden = \"ZW\"\n",
    "    # ZO\n",
    "    if result.lat[rij] < 44.48 and result.long[rij] > -120.72:\n",
    "        waarden = \"ZO\"\n",
    "    # NW\n",
    "    if result.lat[rij] >  44.48 and result.long[rij] < -120.72:\n",
    "        waarden = \"NW\"\n",
    "    # NO\n",
    "    if result.lat[rij] >  44.48 and result.long[rij] > -120.72:\n",
    "        waarden = \"NO\"\n",
    "    # Voegt elke keer de waarde die boven is gevonden, toe aan zone.\n",
    "    zone.append(waarden)\n",
    "\n",
    "# Maakt een nieuwe kolom in de df result genaamd zone en voegt de lijst zone hier aan toe.\n",
    "result[\"zone\"] = zone\n",
    "\n",
    "# TEST\n",
    "display(result)"
   ],
   "metadata": {
    "collapsed": false
   }
  },
  {
   "cell_type": "markdown",
   "source": [
    "Bereken nu de gemiddelde latitude en longitude per zone.  Je mag dit doen met een for loop.  Er is een methode \"mean()\" die het gemiddelde van een Series berekent.  Die mag je gebruiken."
   ],
   "metadata": {
    "collapsed": false
   }
  },
  {
   "cell_type": "code",
   "execution_count": 586,
   "outputs": [
    {
     "name": "stdout",
     "output_type": "stream",
     "text": [
      "NO: Gemiddelde latitude -> 46.268080808409096 \t NO: Gemiddelde longitude -> -97.15940656068183\n",
      "ZO: Gemiddelde latitude -> 36.60349409842491 \t ZO: Gemiddelde longitude -> -90.93104904216118\n",
      "ZW: Gemiddelde latitude -> 35.43457516411765 \t ZW: Gemiddelde longitude -> -130.51699347058826\n",
      "NW: Gemiddelde latitude -> 58.22694444478261 \t NW: Gemiddelde longitude -> -144.12050725652173\n"
     ]
    }
   ],
   "source": [
    "for zone in result.zone.unique():\n",
    "    # De latitude wordt in het variabel \"lat\" gezet als het gelijk is aan de gegeven zone in de loop.\n",
    "    lat = result.lat[result.zone == zone]\n",
    "    # Het gemiddelde wordt berekend van het variabel \"lat\"\n",
    "    gem_lat = lat.mean()\n",
    "    # De longitude wordt in het variabel \"long\" gezet als het gelijk is aan de gegeven zone in de loop.\n",
    "    long = result.long[result.zone == zone]\n",
    "    # Het gemiddelde wordt berekend van het variabel \"long\"\n",
    "    gem_long = long.mean()\n",
    "    # Print data\n",
    "    print(zone + \": Gemiddelde latitude ->\", gem_lat, \"\\t\", zone + \": Gemiddelde longitude ->\", gem_long)"
   ],
   "metadata": {
    "collapsed": false
   }
  }
 ],
 "metadata": {
  "kernelspec": {
   "display_name": "Python 3",
   "language": "python",
   "name": "python3"
  },
  "language_info": {
   "codemirror_mode": {
    "name": "ipython",
    "version": 3
   },
   "file_extension": ".py",
   "mimetype": "text/x-python",
   "name": "python",
   "nbconvert_exporter": "python",
   "pygments_lexer": "ipython3",
   "version": "3.8.7"
  },
  "toc": {
   "base_numbering": 1,
   "nav_menu": {},
   "number_sections": true,
   "sideBar": true,
   "skip_h1_title": false,
   "title_cell": "Table of Contents",
   "title_sidebar": "Contents",
   "toc_cell": false,
   "toc_position": {},
   "toc_section_display": true,
   "toc_window_display": false
  },
  "varInspector": {
   "cols": {
    "lenName": 16,
    "lenType": 16,
    "lenVar": 40
   },
   "kernels_config": {
    "python": {
     "delete_cmd_postfix": "",
     "delete_cmd_prefix": "del ",
     "library": "var_list.py",
     "varRefreshCmd": "print(var_dic_list())"
    },
    "r": {
     "delete_cmd_postfix": ") ",
     "delete_cmd_prefix": "rm(",
     "library": "var_list.r",
     "varRefreshCmd": "cat(var_dic_list()) "
    }
   },
   "types_to_exclude": [
    "module",
    "function",
    "builtin_function_or_method",
    "instance",
    "_Feature"
   ],
   "window_display": false
  }
 },
 "nbformat": 4,
 "nbformat_minor": 1
}
