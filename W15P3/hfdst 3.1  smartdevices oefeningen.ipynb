{
 "cells": [
  {
   "cell_type": "markdown",
   "metadata": {
    "collapsed": true
   },
   "source": [
    "# Oefeningen Smart Devices\n",
    "\n",
    "De buurman heeft in zijn huis een aantal sensoren geplaatst. De sensoren meten het verbruik van bepaalde toestellen en ook de temperatuur.  De gegevens worden in een logbestand bewaard. In het bestand “smartDevices.csv” zie je de data van een aantal dagen staan. De buur heeft aan jou gevraagd om een script te schrijven waarmee hij maandelijks een nieuwe CSV kan aanmaken die een aantal gegevens op dagbasis wegschrijft. Om dit te doen moet je gegevens groeperen per dag.\n",
    "\n",
    "Hij wil volgende zaken in het bestand zien staan:\n",
    "- Datum\n",
    "- Totaal verbruik in kWh voor die dag (enkel gegevens waarvan de eenheid kWh is)\n",
    "- Gemiddelde temperatuur in de woonkamer (enkel metingen voor WOONKAMER)"
   ]
  },
  {
   "cell_type": "markdown",
   "source": [
    "Importeer hier alle nodige bibliotheken:"
   ],
   "metadata": {
    "collapsed": false
   }
  },
  {
   "cell_type": "code",
   "execution_count": 15,
   "metadata": {},
   "outputs": [],
   "source": [
    "import pandas as pd"
   ]
  },
  {
   "cell_type": "markdown",
   "metadata": {
    "collapsed": false
   },
   "source": [
    "### Inlezen van de gegevens\n",
    "Lees de dataset in.  Het CSV-bestand begint met enkele informatieregels, die moet je overslaan.\n",
    "Je zal zien dat kommagetallen met een ',' geschreven zijn.  Lees dit juist in.\n",
    "\n",
    "Bekijk de kolommen en hun datatypes."
   ]
  },
  {
   "cell_type": "code",
   "execution_count": 16,
   "metadata": {},
   "outputs": [
    {
     "data": {
      "text/plain": "            Login Naam  Gateway Mac Address   Apparaat-ID    Apparaat  \\\n0      bla@hotmail.com         123447484679      5653a456  wasmachine   \n1      bla@hotmail.com         123447484679      5653a456  wasmachine   \n2      bla@hotmail.com         123447484679      5653a456  wasmachine   \n3      bla@hotmail.com         123447484679      5653a456  wasmachine   \n4      bla@hotmail.com         123447484679      5653a456  wasmachine   \n...                ...                  ...           ...         ...   \n11177  bla@hotmail.com         123447484679  TM12:1543687  SLAAPKAMER   \n11178  bla@hotmail.com         123447484679  TM12:1543687  SLAAPKAMER   \n11179  bla@hotmail.com         123447484679  TM12:1543687  SLAAPKAMER   \n11180  bla@hotmail.com         123447484679  TM12:1543687  SLAAPKAMER   \n11181  bla@hotmail.com         123447484679  TM12:1543687  SLAAPKAMER   \n\n            Datum    Uur  Meetwaarde  Eenheid  Kost (EUR)  CO2 (kg)  \\\n0      2018-01-21  00:00      0.0002      kWh         0.0       0.0   \n1      2018-01-21  00:15      0.0001      kWh         0.0       0.0   \n2      2018-01-21  00:30      0.0001      kWh         0.0       0.0   \n3      2018-01-21  00:45      0.0001      kWh         0.0       0.0   \n4      2018-01-21  01:00      0.0001      kWh         0.0       0.0   \n...           ...    ...         ...      ...         ...       ...   \n11177  2018-01-28  22:45     14.0000  Celsius         0.0       0.0   \n11178  2018-01-28  23:00     14.0000  Celsius         0.0       0.0   \n11179  2018-01-28  23:15     14.0000  Celsius         0.0       0.0   \n11180  2018-01-28  23:30     14.0000  Celsius         0.0       0.0   \n11181  2018-01-28  23:45     14.0000  Celsius         0.0       0.0   \n\n                  Meettype Consument / Producent Hoofd / deelmeter  \\\n0            electriciteit             Consument         Deelmeter   \n1            electriciteit             Consument         Deelmeter   \n2            electriciteit             Consument         Deelmeter   \n3            electriciteit             Consument         Deelmeter   \n4            electriciteit             Consument         Deelmeter   \n...                    ...                   ...               ...   \n11177  Thermostat Setpoint                   NaN               NaN   \n11178  Thermostat Setpoint                   NaN               NaN   \n11179  Thermostat Setpoint                   NaN               NaN   \n11180  Thermostat Setpoint                   NaN               NaN   \n11181  Thermostat Setpoint                   NaN               NaN   \n\n        Type apparaat        Kamer  Groep-Ids  Groepen  Unnamed: 17  \\\n0      WASHINGMACHINE  DefaultRoom        NaN      NaN          NaN   \n1      WASHINGMACHINE  DefaultRoom        NaN      NaN          NaN   \n2      WASHINGMACHINE  DefaultRoom        NaN      NaN          NaN   \n3      WASHINGMACHINE  DefaultRoom        NaN      NaN          NaN   \n4      WASHINGMACHINE  DefaultRoom        NaN      NaN          NaN   \n...               ...          ...        ...      ...          ...   \n11177             NaN  DefaultRoom        NaN      NaN          NaN   \n11178             NaN  DefaultRoom        NaN      NaN          NaN   \n11179             NaN  DefaultRoom        NaN      NaN          NaN   \n11180             NaN  DefaultRoom        NaN      NaN          NaN   \n11181             NaN  DefaultRoom        NaN      NaN          NaN   \n\n       Unnamed: 18  Unnamed: 19  \n0              NaN          NaN  \n1              NaN          NaN  \n2              NaN          NaN  \n3              NaN          NaN  \n4              NaN          NaN  \n...            ...          ...  \n11177          NaN          NaN  \n11178          NaN          NaN  \n11179          NaN          NaN  \n11180          NaN          NaN  \n11181          NaN          NaN  \n\n[11182 rows x 20 columns]",
      "text/html": "<div>\n<style scoped>\n    .dataframe tbody tr th:only-of-type {\n        vertical-align: middle;\n    }\n\n    .dataframe tbody tr th {\n        vertical-align: top;\n    }\n\n    .dataframe thead th {\n        text-align: right;\n    }\n</style>\n<table border=\"1\" class=\"dataframe\">\n  <thead>\n    <tr style=\"text-align: right;\">\n      <th></th>\n      <th>Login Naam</th>\n      <th>Gateway Mac Address</th>\n      <th>Apparaat-ID</th>\n      <th>Apparaat</th>\n      <th>Datum</th>\n      <th>Uur</th>\n      <th>Meetwaarde</th>\n      <th>Eenheid</th>\n      <th>Kost (EUR)</th>\n      <th>CO2 (kg)</th>\n      <th>Meettype</th>\n      <th>Consument / Producent</th>\n      <th>Hoofd / deelmeter</th>\n      <th>Type apparaat</th>\n      <th>Kamer</th>\n      <th>Groep-Ids</th>\n      <th>Groepen</th>\n      <th>Unnamed: 17</th>\n      <th>Unnamed: 18</th>\n      <th>Unnamed: 19</th>\n    </tr>\n  </thead>\n  <tbody>\n    <tr>\n      <th>0</th>\n      <td>bla@hotmail.com</td>\n      <td>123447484679</td>\n      <td>5653a456</td>\n      <td>wasmachine</td>\n      <td>2018-01-21</td>\n      <td>00:00</td>\n      <td>0.0002</td>\n      <td>kWh</td>\n      <td>0.0</td>\n      <td>0.0</td>\n      <td>electriciteit</td>\n      <td>Consument</td>\n      <td>Deelmeter</td>\n      <td>WASHINGMACHINE</td>\n      <td>DefaultRoom</td>\n      <td>NaN</td>\n      <td>NaN</td>\n      <td>NaN</td>\n      <td>NaN</td>\n      <td>NaN</td>\n    </tr>\n    <tr>\n      <th>1</th>\n      <td>bla@hotmail.com</td>\n      <td>123447484679</td>\n      <td>5653a456</td>\n      <td>wasmachine</td>\n      <td>2018-01-21</td>\n      <td>00:15</td>\n      <td>0.0001</td>\n      <td>kWh</td>\n      <td>0.0</td>\n      <td>0.0</td>\n      <td>electriciteit</td>\n      <td>Consument</td>\n      <td>Deelmeter</td>\n      <td>WASHINGMACHINE</td>\n      <td>DefaultRoom</td>\n      <td>NaN</td>\n      <td>NaN</td>\n      <td>NaN</td>\n      <td>NaN</td>\n      <td>NaN</td>\n    </tr>\n    <tr>\n      <th>2</th>\n      <td>bla@hotmail.com</td>\n      <td>123447484679</td>\n      <td>5653a456</td>\n      <td>wasmachine</td>\n      <td>2018-01-21</td>\n      <td>00:30</td>\n      <td>0.0001</td>\n      <td>kWh</td>\n      <td>0.0</td>\n      <td>0.0</td>\n      <td>electriciteit</td>\n      <td>Consument</td>\n      <td>Deelmeter</td>\n      <td>WASHINGMACHINE</td>\n      <td>DefaultRoom</td>\n      <td>NaN</td>\n      <td>NaN</td>\n      <td>NaN</td>\n      <td>NaN</td>\n      <td>NaN</td>\n    </tr>\n    <tr>\n      <th>3</th>\n      <td>bla@hotmail.com</td>\n      <td>123447484679</td>\n      <td>5653a456</td>\n      <td>wasmachine</td>\n      <td>2018-01-21</td>\n      <td>00:45</td>\n      <td>0.0001</td>\n      <td>kWh</td>\n      <td>0.0</td>\n      <td>0.0</td>\n      <td>electriciteit</td>\n      <td>Consument</td>\n      <td>Deelmeter</td>\n      <td>WASHINGMACHINE</td>\n      <td>DefaultRoom</td>\n      <td>NaN</td>\n      <td>NaN</td>\n      <td>NaN</td>\n      <td>NaN</td>\n      <td>NaN</td>\n    </tr>\n    <tr>\n      <th>4</th>\n      <td>bla@hotmail.com</td>\n      <td>123447484679</td>\n      <td>5653a456</td>\n      <td>wasmachine</td>\n      <td>2018-01-21</td>\n      <td>01:00</td>\n      <td>0.0001</td>\n      <td>kWh</td>\n      <td>0.0</td>\n      <td>0.0</td>\n      <td>electriciteit</td>\n      <td>Consument</td>\n      <td>Deelmeter</td>\n      <td>WASHINGMACHINE</td>\n      <td>DefaultRoom</td>\n      <td>NaN</td>\n      <td>NaN</td>\n      <td>NaN</td>\n      <td>NaN</td>\n      <td>NaN</td>\n    </tr>\n    <tr>\n      <th>...</th>\n      <td>...</td>\n      <td>...</td>\n      <td>...</td>\n      <td>...</td>\n      <td>...</td>\n      <td>...</td>\n      <td>...</td>\n      <td>...</td>\n      <td>...</td>\n      <td>...</td>\n      <td>...</td>\n      <td>...</td>\n      <td>...</td>\n      <td>...</td>\n      <td>...</td>\n      <td>...</td>\n      <td>...</td>\n      <td>...</td>\n      <td>...</td>\n      <td>...</td>\n    </tr>\n    <tr>\n      <th>11177</th>\n      <td>bla@hotmail.com</td>\n      <td>123447484679</td>\n      <td>TM12:1543687</td>\n      <td>SLAAPKAMER</td>\n      <td>2018-01-28</td>\n      <td>22:45</td>\n      <td>14.0000</td>\n      <td>Celsius</td>\n      <td>0.0</td>\n      <td>0.0</td>\n      <td>Thermostat Setpoint</td>\n      <td>NaN</td>\n      <td>NaN</td>\n      <td>NaN</td>\n      <td>DefaultRoom</td>\n      <td>NaN</td>\n      <td>NaN</td>\n      <td>NaN</td>\n      <td>NaN</td>\n      <td>NaN</td>\n    </tr>\n    <tr>\n      <th>11178</th>\n      <td>bla@hotmail.com</td>\n      <td>123447484679</td>\n      <td>TM12:1543687</td>\n      <td>SLAAPKAMER</td>\n      <td>2018-01-28</td>\n      <td>23:00</td>\n      <td>14.0000</td>\n      <td>Celsius</td>\n      <td>0.0</td>\n      <td>0.0</td>\n      <td>Thermostat Setpoint</td>\n      <td>NaN</td>\n      <td>NaN</td>\n      <td>NaN</td>\n      <td>DefaultRoom</td>\n      <td>NaN</td>\n      <td>NaN</td>\n      <td>NaN</td>\n      <td>NaN</td>\n      <td>NaN</td>\n    </tr>\n    <tr>\n      <th>11179</th>\n      <td>bla@hotmail.com</td>\n      <td>123447484679</td>\n      <td>TM12:1543687</td>\n      <td>SLAAPKAMER</td>\n      <td>2018-01-28</td>\n      <td>23:15</td>\n      <td>14.0000</td>\n      <td>Celsius</td>\n      <td>0.0</td>\n      <td>0.0</td>\n      <td>Thermostat Setpoint</td>\n      <td>NaN</td>\n      <td>NaN</td>\n      <td>NaN</td>\n      <td>DefaultRoom</td>\n      <td>NaN</td>\n      <td>NaN</td>\n      <td>NaN</td>\n      <td>NaN</td>\n      <td>NaN</td>\n    </tr>\n    <tr>\n      <th>11180</th>\n      <td>bla@hotmail.com</td>\n      <td>123447484679</td>\n      <td>TM12:1543687</td>\n      <td>SLAAPKAMER</td>\n      <td>2018-01-28</td>\n      <td>23:30</td>\n      <td>14.0000</td>\n      <td>Celsius</td>\n      <td>0.0</td>\n      <td>0.0</td>\n      <td>Thermostat Setpoint</td>\n      <td>NaN</td>\n      <td>NaN</td>\n      <td>NaN</td>\n      <td>DefaultRoom</td>\n      <td>NaN</td>\n      <td>NaN</td>\n      <td>NaN</td>\n      <td>NaN</td>\n      <td>NaN</td>\n    </tr>\n    <tr>\n      <th>11181</th>\n      <td>bla@hotmail.com</td>\n      <td>123447484679</td>\n      <td>TM12:1543687</td>\n      <td>SLAAPKAMER</td>\n      <td>2018-01-28</td>\n      <td>23:45</td>\n      <td>14.0000</td>\n      <td>Celsius</td>\n      <td>0.0</td>\n      <td>0.0</td>\n      <td>Thermostat Setpoint</td>\n      <td>NaN</td>\n      <td>NaN</td>\n      <td>NaN</td>\n      <td>DefaultRoom</td>\n      <td>NaN</td>\n      <td>NaN</td>\n      <td>NaN</td>\n      <td>NaN</td>\n      <td>NaN</td>\n    </tr>\n  </tbody>\n</table>\n<p>11182 rows × 20 columns</p>\n</div>"
     },
     "metadata": {},
     "output_type": "display_data"
    }
   ],
   "source": [
    "smartDevices = pd.read_csv(\"data/smartDevices.csv\", header=4, delimiter=\";\", decimal=\",\")\n",
    "display(smartDevices)"
   ]
  },
  {
   "cell_type": "markdown",
   "source": [
    "Er zijn 3 kolommen zonder naam (unnamed).  Verwijder deze"
   ],
   "metadata": {
    "collapsed": false
   }
  },
  {
   "cell_type": "code",
   "execution_count": 17,
   "outputs": [
    {
     "data": {
      "text/plain": "            Login Naam  Gateway Mac Address   Apparaat-ID    Apparaat  \\\n0      bla@hotmail.com         123447484679      5653a456  wasmachine   \n1      bla@hotmail.com         123447484679      5653a456  wasmachine   \n2      bla@hotmail.com         123447484679      5653a456  wasmachine   \n3      bla@hotmail.com         123447484679      5653a456  wasmachine   \n4      bla@hotmail.com         123447484679      5653a456  wasmachine   \n...                ...                  ...           ...         ...   \n11177  bla@hotmail.com         123447484679  TM12:1543687  SLAAPKAMER   \n11178  bla@hotmail.com         123447484679  TM12:1543687  SLAAPKAMER   \n11179  bla@hotmail.com         123447484679  TM12:1543687  SLAAPKAMER   \n11180  bla@hotmail.com         123447484679  TM12:1543687  SLAAPKAMER   \n11181  bla@hotmail.com         123447484679  TM12:1543687  SLAAPKAMER   \n\n            Datum    Uur  Meetwaarde  Eenheid  Kost (EUR)  CO2 (kg)  \\\n0      2018-01-21  00:00      0.0002      kWh         0.0       0.0   \n1      2018-01-21  00:15      0.0001      kWh         0.0       0.0   \n2      2018-01-21  00:30      0.0001      kWh         0.0       0.0   \n3      2018-01-21  00:45      0.0001      kWh         0.0       0.0   \n4      2018-01-21  01:00      0.0001      kWh         0.0       0.0   \n...           ...    ...         ...      ...         ...       ...   \n11177  2018-01-28  22:45     14.0000  Celsius         0.0       0.0   \n11178  2018-01-28  23:00     14.0000  Celsius         0.0       0.0   \n11179  2018-01-28  23:15     14.0000  Celsius         0.0       0.0   \n11180  2018-01-28  23:30     14.0000  Celsius         0.0       0.0   \n11181  2018-01-28  23:45     14.0000  Celsius         0.0       0.0   \n\n                  Meettype Consument / Producent Hoofd / deelmeter  \\\n0            electriciteit             Consument         Deelmeter   \n1            electriciteit             Consument         Deelmeter   \n2            electriciteit             Consument         Deelmeter   \n3            electriciteit             Consument         Deelmeter   \n4            electriciteit             Consument         Deelmeter   \n...                    ...                   ...               ...   \n11177  Thermostat Setpoint                   NaN               NaN   \n11178  Thermostat Setpoint                   NaN               NaN   \n11179  Thermostat Setpoint                   NaN               NaN   \n11180  Thermostat Setpoint                   NaN               NaN   \n11181  Thermostat Setpoint                   NaN               NaN   \n\n        Type apparaat        Kamer  Groep-Ids  Groepen  \n0      WASHINGMACHINE  DefaultRoom        NaN      NaN  \n1      WASHINGMACHINE  DefaultRoom        NaN      NaN  \n2      WASHINGMACHINE  DefaultRoom        NaN      NaN  \n3      WASHINGMACHINE  DefaultRoom        NaN      NaN  \n4      WASHINGMACHINE  DefaultRoom        NaN      NaN  \n...               ...          ...        ...      ...  \n11177             NaN  DefaultRoom        NaN      NaN  \n11178             NaN  DefaultRoom        NaN      NaN  \n11179             NaN  DefaultRoom        NaN      NaN  \n11180             NaN  DefaultRoom        NaN      NaN  \n11181             NaN  DefaultRoom        NaN      NaN  \n\n[11182 rows x 17 columns]",
      "text/html": "<div>\n<style scoped>\n    .dataframe tbody tr th:only-of-type {\n        vertical-align: middle;\n    }\n\n    .dataframe tbody tr th {\n        vertical-align: top;\n    }\n\n    .dataframe thead th {\n        text-align: right;\n    }\n</style>\n<table border=\"1\" class=\"dataframe\">\n  <thead>\n    <tr style=\"text-align: right;\">\n      <th></th>\n      <th>Login Naam</th>\n      <th>Gateway Mac Address</th>\n      <th>Apparaat-ID</th>\n      <th>Apparaat</th>\n      <th>Datum</th>\n      <th>Uur</th>\n      <th>Meetwaarde</th>\n      <th>Eenheid</th>\n      <th>Kost (EUR)</th>\n      <th>CO2 (kg)</th>\n      <th>Meettype</th>\n      <th>Consument / Producent</th>\n      <th>Hoofd / deelmeter</th>\n      <th>Type apparaat</th>\n      <th>Kamer</th>\n      <th>Groep-Ids</th>\n      <th>Groepen</th>\n    </tr>\n  </thead>\n  <tbody>\n    <tr>\n      <th>0</th>\n      <td>bla@hotmail.com</td>\n      <td>123447484679</td>\n      <td>5653a456</td>\n      <td>wasmachine</td>\n      <td>2018-01-21</td>\n      <td>00:00</td>\n      <td>0.0002</td>\n      <td>kWh</td>\n      <td>0.0</td>\n      <td>0.0</td>\n      <td>electriciteit</td>\n      <td>Consument</td>\n      <td>Deelmeter</td>\n      <td>WASHINGMACHINE</td>\n      <td>DefaultRoom</td>\n      <td>NaN</td>\n      <td>NaN</td>\n    </tr>\n    <tr>\n      <th>1</th>\n      <td>bla@hotmail.com</td>\n      <td>123447484679</td>\n      <td>5653a456</td>\n      <td>wasmachine</td>\n      <td>2018-01-21</td>\n      <td>00:15</td>\n      <td>0.0001</td>\n      <td>kWh</td>\n      <td>0.0</td>\n      <td>0.0</td>\n      <td>electriciteit</td>\n      <td>Consument</td>\n      <td>Deelmeter</td>\n      <td>WASHINGMACHINE</td>\n      <td>DefaultRoom</td>\n      <td>NaN</td>\n      <td>NaN</td>\n    </tr>\n    <tr>\n      <th>2</th>\n      <td>bla@hotmail.com</td>\n      <td>123447484679</td>\n      <td>5653a456</td>\n      <td>wasmachine</td>\n      <td>2018-01-21</td>\n      <td>00:30</td>\n      <td>0.0001</td>\n      <td>kWh</td>\n      <td>0.0</td>\n      <td>0.0</td>\n      <td>electriciteit</td>\n      <td>Consument</td>\n      <td>Deelmeter</td>\n      <td>WASHINGMACHINE</td>\n      <td>DefaultRoom</td>\n      <td>NaN</td>\n      <td>NaN</td>\n    </tr>\n    <tr>\n      <th>3</th>\n      <td>bla@hotmail.com</td>\n      <td>123447484679</td>\n      <td>5653a456</td>\n      <td>wasmachine</td>\n      <td>2018-01-21</td>\n      <td>00:45</td>\n      <td>0.0001</td>\n      <td>kWh</td>\n      <td>0.0</td>\n      <td>0.0</td>\n      <td>electriciteit</td>\n      <td>Consument</td>\n      <td>Deelmeter</td>\n      <td>WASHINGMACHINE</td>\n      <td>DefaultRoom</td>\n      <td>NaN</td>\n      <td>NaN</td>\n    </tr>\n    <tr>\n      <th>4</th>\n      <td>bla@hotmail.com</td>\n      <td>123447484679</td>\n      <td>5653a456</td>\n      <td>wasmachine</td>\n      <td>2018-01-21</td>\n      <td>01:00</td>\n      <td>0.0001</td>\n      <td>kWh</td>\n      <td>0.0</td>\n      <td>0.0</td>\n      <td>electriciteit</td>\n      <td>Consument</td>\n      <td>Deelmeter</td>\n      <td>WASHINGMACHINE</td>\n      <td>DefaultRoom</td>\n      <td>NaN</td>\n      <td>NaN</td>\n    </tr>\n    <tr>\n      <th>...</th>\n      <td>...</td>\n      <td>...</td>\n      <td>...</td>\n      <td>...</td>\n      <td>...</td>\n      <td>...</td>\n      <td>...</td>\n      <td>...</td>\n      <td>...</td>\n      <td>...</td>\n      <td>...</td>\n      <td>...</td>\n      <td>...</td>\n      <td>...</td>\n      <td>...</td>\n      <td>...</td>\n      <td>...</td>\n    </tr>\n    <tr>\n      <th>11177</th>\n      <td>bla@hotmail.com</td>\n      <td>123447484679</td>\n      <td>TM12:1543687</td>\n      <td>SLAAPKAMER</td>\n      <td>2018-01-28</td>\n      <td>22:45</td>\n      <td>14.0000</td>\n      <td>Celsius</td>\n      <td>0.0</td>\n      <td>0.0</td>\n      <td>Thermostat Setpoint</td>\n      <td>NaN</td>\n      <td>NaN</td>\n      <td>NaN</td>\n      <td>DefaultRoom</td>\n      <td>NaN</td>\n      <td>NaN</td>\n    </tr>\n    <tr>\n      <th>11178</th>\n      <td>bla@hotmail.com</td>\n      <td>123447484679</td>\n      <td>TM12:1543687</td>\n      <td>SLAAPKAMER</td>\n      <td>2018-01-28</td>\n      <td>23:00</td>\n      <td>14.0000</td>\n      <td>Celsius</td>\n      <td>0.0</td>\n      <td>0.0</td>\n      <td>Thermostat Setpoint</td>\n      <td>NaN</td>\n      <td>NaN</td>\n      <td>NaN</td>\n      <td>DefaultRoom</td>\n      <td>NaN</td>\n      <td>NaN</td>\n    </tr>\n    <tr>\n      <th>11179</th>\n      <td>bla@hotmail.com</td>\n      <td>123447484679</td>\n      <td>TM12:1543687</td>\n      <td>SLAAPKAMER</td>\n      <td>2018-01-28</td>\n      <td>23:15</td>\n      <td>14.0000</td>\n      <td>Celsius</td>\n      <td>0.0</td>\n      <td>0.0</td>\n      <td>Thermostat Setpoint</td>\n      <td>NaN</td>\n      <td>NaN</td>\n      <td>NaN</td>\n      <td>DefaultRoom</td>\n      <td>NaN</td>\n      <td>NaN</td>\n    </tr>\n    <tr>\n      <th>11180</th>\n      <td>bla@hotmail.com</td>\n      <td>123447484679</td>\n      <td>TM12:1543687</td>\n      <td>SLAAPKAMER</td>\n      <td>2018-01-28</td>\n      <td>23:30</td>\n      <td>14.0000</td>\n      <td>Celsius</td>\n      <td>0.0</td>\n      <td>0.0</td>\n      <td>Thermostat Setpoint</td>\n      <td>NaN</td>\n      <td>NaN</td>\n      <td>NaN</td>\n      <td>DefaultRoom</td>\n      <td>NaN</td>\n      <td>NaN</td>\n    </tr>\n    <tr>\n      <th>11181</th>\n      <td>bla@hotmail.com</td>\n      <td>123447484679</td>\n      <td>TM12:1543687</td>\n      <td>SLAAPKAMER</td>\n      <td>2018-01-28</td>\n      <td>23:45</td>\n      <td>14.0000</td>\n      <td>Celsius</td>\n      <td>0.0</td>\n      <td>0.0</td>\n      <td>Thermostat Setpoint</td>\n      <td>NaN</td>\n      <td>NaN</td>\n      <td>NaN</td>\n      <td>DefaultRoom</td>\n      <td>NaN</td>\n      <td>NaN</td>\n    </tr>\n  </tbody>\n</table>\n<p>11182 rows × 17 columns</p>\n</div>"
     },
     "metadata": {},
     "output_type": "display_data"
    }
   ],
   "source": [
    "smartDevices = smartDevices.drop(columns=['Unnamed: 17', 'Unnamed: 18', 'Unnamed: 19'], axis=1)\n",
    "display(smartDevices)"
   ],
   "metadata": {
    "collapsed": false
   }
  },
  {
   "cell_type": "markdown",
   "metadata": {},
   "source": [
    "### Numeriek maken\n",
    "Wat is het type van de elementen in de kolom \"Meetwaarde\"?\n",
    "Als dit float is, dan is alles OK en heb je het bestand juist ingelezen.\n",
    "Als dat niet het geval is, heb je een fout gemaakt bij het inlezen van het bestand.  Kan je zien welke?\n",
    "Zet in dit geval de kolom \"Meetwaarde\" om naar decimale waarden."
   ]
  },
  {
   "cell_type": "code",
   "execution_count": 18,
   "metadata": {},
   "outputs": [
    {
     "data": {
      "text/plain": "dtype('float64')"
     },
     "metadata": {},
     "output_type": "display_data"
    }
   ],
   "source": [
    "display(smartDevices.Meetwaarde.dtype)\n",
    "\n",
    "# df['Meetwaarde'] = pd.to_numeric(df['Meetwaarde'], errors='coerce')"
   ]
  },
  {
   "cell_type": "markdown",
   "source": [
    "### Categorical"
   ],
   "metadata": {
    "collapsed": false
   }
  },
  {
   "cell_type": "markdown",
   "source": [
    "Verwijder alle kolommen die maar 1 waarde of enkel ontbrekende waarden bevatten.  Deze zijn toch maar constanten en hoeven niet bijgehouden te worden."
   ],
   "metadata": {
    "collapsed": false
   }
  },
  {
   "cell_type": "code",
   "execution_count": 19,
   "outputs": [
    {
     "data": {
      "text/plain": "        Apparaat-ID    Apparaat       Datum    Uur  Meetwaarde  Eenheid  \\\n0          5653a456  wasmachine  2018-01-21  00:00      0.0002      kWh   \n1          5653a456  wasmachine  2018-01-21  00:15      0.0001      kWh   \n2          5653a456  wasmachine  2018-01-21  00:30      0.0001      kWh   \n3          5653a456  wasmachine  2018-01-21  00:45      0.0001      kWh   \n4          5653a456  wasmachine  2018-01-21  01:00      0.0001      kWh   \n...             ...         ...         ...    ...         ...      ...   \n11177  TM12:1543687  SLAAPKAMER  2018-01-28  22:45     14.0000  Celsius   \n11178  TM12:1543687  SLAAPKAMER  2018-01-28  23:00     14.0000  Celsius   \n11179  TM12:1543687  SLAAPKAMER  2018-01-28  23:15     14.0000  Celsius   \n11180  TM12:1543687  SLAAPKAMER  2018-01-28  23:30     14.0000  Celsius   \n11181  TM12:1543687  SLAAPKAMER  2018-01-28  23:45     14.0000  Celsius   \n\n       Kost (EUR)             Meettype   Type apparaat  \n0             0.0        electriciteit  WASHINGMACHINE  \n1             0.0        electriciteit  WASHINGMACHINE  \n2             0.0        electriciteit  WASHINGMACHINE  \n3             0.0        electriciteit  WASHINGMACHINE  \n4             0.0        electriciteit  WASHINGMACHINE  \n...           ...                  ...             ...  \n11177         0.0  Thermostat Setpoint             NaN  \n11178         0.0  Thermostat Setpoint             NaN  \n11179         0.0  Thermostat Setpoint             NaN  \n11180         0.0  Thermostat Setpoint             NaN  \n11181         0.0  Thermostat Setpoint             NaN  \n\n[11182 rows x 9 columns]",
      "text/html": "<div>\n<style scoped>\n    .dataframe tbody tr th:only-of-type {\n        vertical-align: middle;\n    }\n\n    .dataframe tbody tr th {\n        vertical-align: top;\n    }\n\n    .dataframe thead th {\n        text-align: right;\n    }\n</style>\n<table border=\"1\" class=\"dataframe\">\n  <thead>\n    <tr style=\"text-align: right;\">\n      <th></th>\n      <th>Apparaat-ID</th>\n      <th>Apparaat</th>\n      <th>Datum</th>\n      <th>Uur</th>\n      <th>Meetwaarde</th>\n      <th>Eenheid</th>\n      <th>Kost (EUR)</th>\n      <th>Meettype</th>\n      <th>Type apparaat</th>\n    </tr>\n  </thead>\n  <tbody>\n    <tr>\n      <th>0</th>\n      <td>5653a456</td>\n      <td>wasmachine</td>\n      <td>2018-01-21</td>\n      <td>00:00</td>\n      <td>0.0002</td>\n      <td>kWh</td>\n      <td>0.0</td>\n      <td>electriciteit</td>\n      <td>WASHINGMACHINE</td>\n    </tr>\n    <tr>\n      <th>1</th>\n      <td>5653a456</td>\n      <td>wasmachine</td>\n      <td>2018-01-21</td>\n      <td>00:15</td>\n      <td>0.0001</td>\n      <td>kWh</td>\n      <td>0.0</td>\n      <td>electriciteit</td>\n      <td>WASHINGMACHINE</td>\n    </tr>\n    <tr>\n      <th>2</th>\n      <td>5653a456</td>\n      <td>wasmachine</td>\n      <td>2018-01-21</td>\n      <td>00:30</td>\n      <td>0.0001</td>\n      <td>kWh</td>\n      <td>0.0</td>\n      <td>electriciteit</td>\n      <td>WASHINGMACHINE</td>\n    </tr>\n    <tr>\n      <th>3</th>\n      <td>5653a456</td>\n      <td>wasmachine</td>\n      <td>2018-01-21</td>\n      <td>00:45</td>\n      <td>0.0001</td>\n      <td>kWh</td>\n      <td>0.0</td>\n      <td>electriciteit</td>\n      <td>WASHINGMACHINE</td>\n    </tr>\n    <tr>\n      <th>4</th>\n      <td>5653a456</td>\n      <td>wasmachine</td>\n      <td>2018-01-21</td>\n      <td>01:00</td>\n      <td>0.0001</td>\n      <td>kWh</td>\n      <td>0.0</td>\n      <td>electriciteit</td>\n      <td>WASHINGMACHINE</td>\n    </tr>\n    <tr>\n      <th>...</th>\n      <td>...</td>\n      <td>...</td>\n      <td>...</td>\n      <td>...</td>\n      <td>...</td>\n      <td>...</td>\n      <td>...</td>\n      <td>...</td>\n      <td>...</td>\n    </tr>\n    <tr>\n      <th>11177</th>\n      <td>TM12:1543687</td>\n      <td>SLAAPKAMER</td>\n      <td>2018-01-28</td>\n      <td>22:45</td>\n      <td>14.0000</td>\n      <td>Celsius</td>\n      <td>0.0</td>\n      <td>Thermostat Setpoint</td>\n      <td>NaN</td>\n    </tr>\n    <tr>\n      <th>11178</th>\n      <td>TM12:1543687</td>\n      <td>SLAAPKAMER</td>\n      <td>2018-01-28</td>\n      <td>23:00</td>\n      <td>14.0000</td>\n      <td>Celsius</td>\n      <td>0.0</td>\n      <td>Thermostat Setpoint</td>\n      <td>NaN</td>\n    </tr>\n    <tr>\n      <th>11179</th>\n      <td>TM12:1543687</td>\n      <td>SLAAPKAMER</td>\n      <td>2018-01-28</td>\n      <td>23:15</td>\n      <td>14.0000</td>\n      <td>Celsius</td>\n      <td>0.0</td>\n      <td>Thermostat Setpoint</td>\n      <td>NaN</td>\n    </tr>\n    <tr>\n      <th>11180</th>\n      <td>TM12:1543687</td>\n      <td>SLAAPKAMER</td>\n      <td>2018-01-28</td>\n      <td>23:30</td>\n      <td>14.0000</td>\n      <td>Celsius</td>\n      <td>0.0</td>\n      <td>Thermostat Setpoint</td>\n      <td>NaN</td>\n    </tr>\n    <tr>\n      <th>11181</th>\n      <td>TM12:1543687</td>\n      <td>SLAAPKAMER</td>\n      <td>2018-01-28</td>\n      <td>23:45</td>\n      <td>14.0000</td>\n      <td>Celsius</td>\n      <td>0.0</td>\n      <td>Thermostat Setpoint</td>\n      <td>NaN</td>\n    </tr>\n  </tbody>\n</table>\n<p>11182 rows × 9 columns</p>\n</div>"
     },
     "metadata": {},
     "output_type": "display_data"
    }
   ],
   "source": [
    "# Verwijder alle kolommen die maar 1 waarde of enkel ontbrekende waarden bevatten\n",
    "smartDevices = smartDevices.dropna(axis=1, how='all') # Verwijder kolommen met alleen ontbrekende waarden\n",
    "for col in smartDevices.columns:\n",
    "    if smartDevices[col].nunique() == 1:\n",
    "        smartDevices = smartDevices.drop(col, axis=1) # Verwijder kolommen met slechts 1 unieke waarde\n",
    "\n",
    "display(smartDevices)"
   ],
   "metadata": {
    "collapsed": false
   }
  },
  {
   "cell_type": "markdown",
   "source": [
    "Zet de kolommen met nominale of ordinale gegevens (strings) om naar een Categorical.  De datums en tijdstippen mag je negeren."
   ],
   "metadata": {
    "collapsed": false
   }
  },
  {
   "cell_type": "code",
   "execution_count": 20,
   "outputs": [],
   "source": [
    "smartDevices['Apparaat-ID'] = pd.Categorical(smartDevices['Apparaat-ID'])\n",
    "smartDevices['Apparaat'] = pd.Categorical(smartDevices['Apparaat'])\n",
    "smartDevices['Eenheid'] = pd.Categorical(smartDevices['Eenheid'])\n",
    "smartDevices['Meettype'] = pd.Categorical(smartDevices['Meettype'])\n",
    "smartDevices['Type apparaat'] = pd.Categorical(smartDevices['Type apparaat'])"
   ],
   "metadata": {
    "collapsed": false
   }
  },
  {
   "cell_type": "markdown",
   "source": [
    "Geef een lijst van alle kolomnamen die ontbrekende waarden bevatten.  Geef het resultaat als een pandas Series van strings (de namen van de kolommen met ontbrekende waarden)."
   ],
   "metadata": {
    "collapsed": false
   }
  },
  {
   "cell_type": "code",
   "execution_count": 21,
   "outputs": [
    {
     "data": {
      "text/plain": "0    Type apparaat\ndtype: object"
     },
     "metadata": {},
     "output_type": "display_data"
    },
    {
     "data": {
      "text/plain": "pandas.core.series.Series"
     },
     "metadata": {},
     "output_type": "display_data"
    }
   ],
   "source": [
    "nanLijst = smartDevices.isna().any()\n",
    "nanLijst = pd.Series(nanLijst.index[nanLijst])\n",
    "\n",
    "display(nanLijst)\n",
    "display(type(nanLijst))"
   ],
   "metadata": {
    "collapsed": false
   }
  },
  {
   "cell_type": "markdown",
   "source": [
    "Schrijf de gegevens nu weg naar een bestand \"smartDevices_resultaat.csv\".  Gebruik een \".\" voor decimale getallen en een tab als deliminator."
   ],
   "metadata": {
    "collapsed": false
   }
  },
  {
   "cell_type": "code",
   "execution_count": 22,
   "outputs": [],
   "source": [
    "smartDevices.to_csv('data/smartDevices_resultaat.csv', decimal='.', sep=\",\")"
   ],
   "metadata": {
    "collapsed": false
   }
  }
 ],
 "metadata": {
  "kernelspec": {
   "display_name": "Python 3",
   "language": "python",
   "name": "python3"
  },
  "language_info": {
   "codemirror_mode": {
    "name": "ipython",
    "version": 2
   },
   "file_extension": ".py",
   "mimetype": "text/x-python",
   "name": "python",
   "nbconvert_exporter": "python",
   "pygments_lexer": "ipython2",
   "version": "3.8.7-final"
  }
 },
 "nbformat": 4,
 "nbformat_minor": 0
}
