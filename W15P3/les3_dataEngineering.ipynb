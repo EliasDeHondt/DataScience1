{
 "cells": [
  {
   "cell_type": "markdown",
   "source": [
    "# Data engineering"
   ],
   "metadata": {
    "collapsed": false
   }
  },
  {
   "cell_type": "markdown",
   "source": [
    "## Imports"
   ],
   "metadata": {
    "collapsed": false
   }
  },
  {
   "cell_type": "code",
   "execution_count": 619,
   "metadata": {
    "collapsed": true
   },
   "outputs": [],
   "source": [
    "import pandas as pd\n",
    "import numpy as np\n",
    "import math"
   ]
  },
  {
   "cell_type": "markdown",
   "source": [
    "## CSV bestanden"
   ],
   "metadata": {
    "collapsed": false
   }
  },
  {
   "cell_type": "markdown",
   "source": [
    "### CSV maken"
   ],
   "metadata": {
    "collapsed": false
   }
  },
  {
   "cell_type": "code",
   "execution_count": 620,
   "outputs": [
    {
     "name": "stdout",
     "output_type": "stream",
     "text": [
      "     a    b\n",
      "0  bla  1.1\n",
      "1  boe  2.2\n",
      "2  bla  3.3\n"
     ]
    }
   ],
   "source": [
    "# een data frame wegschrijven naar een bestand\n",
    "f = pd.DataFrame({\"a\":[\"bla\", \"boe\", \"bla\"], \"b\":[1.1, 2.2, 3.3]})\n",
    "print(f)\n",
    "# je kan ook de huidige directory wijzigen:\n",
    "# import os\n",
    "# os.chdir(\"/tmp\")\n",
    "f.to_csv(\"testje_nl.csv\", sep=\";\", decimal=\",\", index=False)\n",
    "f.to_csv(\"testje_en.csv\", sep=\",\", decimal=\".\", index=False)"
   ],
   "metadata": {
    "collapsed": false
   }
  },
  {
   "cell_type": "markdown",
   "source": [
    "### CSV lezen"
   ],
   "metadata": {
    "collapsed": false
   }
  },
  {
   "cell_type": "code",
   "execution_count": 621,
   "outputs": [
    {
     "name": "stdout",
     "output_type": "stream",
     "text": [
      "   id  gewicht  lengte\n",
      "0   1     43.2     154\n",
      "1   2     55.1     160\n",
      "2   3     45.7     148\n",
      "3   4     61.4     161\n",
      "4   5     51.1     165\n"
     ]
    }
   ],
   "source": [
    "# Engelstalig bestand\n",
    "data_en = pd.read_csv(\"data_en.csv\", sep=\",\", decimal=\".\", header=0)\n",
    "print(data_en)"
   ],
   "metadata": {
    "collapsed": false
   }
  },
  {
   "cell_type": "code",
   "execution_count": 622,
   "outputs": [
    {
     "name": "stdout",
     "output_type": "stream",
     "text": [
      "   id  gewicht  lengte\n",
      "0   1     43.2     154\n",
      "1   2     55.1     160\n",
      "2   3     45.7     148\n",
      "3   4     61.4     161\n",
      "4   5     51.1     165\n"
     ]
    }
   ],
   "source": [
    "# Nederlandstalig bestand\n",
    "data_nl = pd.read_csv(\"data_nl.csv\", sep=\";\", decimal=\",\", header=0)\n",
    "print(data_nl)"
   ],
   "metadata": {
    "collapsed": false
   }
  },
  {
   "cell_type": "code",
   "execution_count": 623,
   "outputs": [
    {
     "name": "stdout",
     "output_type": "stream",
     "text": [
      "    0        1       2\n",
      "0  id  gewicht  lengte\n",
      "1   1     43,2     154\n",
      "2   2     55,1     160\n",
      "3   3     45,7     148\n",
      "4   4     61,4     161\n",
      "5   5     51,1     165\n"
     ]
    }
   ],
   "source": [
    "# Met en zonder header\n",
    "data_nl = pd.read_csv(\"data_nl.csv\", sep=\";\", decimal=\",\", header=None)\n",
    "print(data_nl)"
   ],
   "metadata": {
    "collapsed": false
   }
  },
  {
   "cell_type": "code",
   "execution_count": 624,
   "outputs": [
    {
     "name": "stdout",
     "output_type": "stream",
     "text": [
      "   id  gewicht  lengte\n",
      "0   1     43.2     154\n",
      "1   2     55.1     160\n",
      "2   3     45.7     148\n",
      "3   4     61.4     161\n",
      "4   5     51.1     165\n"
     ]
    }
   ],
   "source": [
    "# algemeen:\n",
    "# data = pd.read_csv('bestandsnaam.csv', sep='separator', decimal='komma', skiprows=aantalCommentaarRegels, header=regelnummer, encoding='encodering')\n",
    "data_nl = pd.read_csv(\"data_nl.csv\", sep=\";\", decimal=\",\", skiprows=0, header=0, encoding='utf-8')\n",
    "print(data_nl)"
   ],
   "metadata": {
    "collapsed": false
   }
  },
  {
   "cell_type": "markdown",
   "source": [
    "fouten bij inlezen:"
   ],
   "metadata": {
    "collapsed": false
   }
  },
  {
   "cell_type": "code",
   "execution_count": 625,
   "outputs": [],
   "source": [
    "# tabel = pd.read_csv('bestand1.csv', sep=',')"
   ],
   "metadata": {
    "collapsed": false
   }
  },
  {
   "cell_type": "code",
   "execution_count": 626,
   "outputs": [
    {
     "name": "stdout",
     "output_type": "stream",
     "text": [
      "   id          slogan\n",
      "0   1  Een voor allen\n",
      "1   2  Allen Voor een\n",
      "2   4     Wait for it\n"
     ]
    }
   ],
   "source": [
    "tabel = pd.read_csv('bestand1.csv', sep=',', on_bad_lines='skip')\n",
    "print(tabel)"
   ],
   "metadata": {
    "collapsed": false
   }
  },
  {
   "cell_type": "markdown",
   "source": [
    "# Informatie verkrijgen"
   ],
   "metadata": {
    "collapsed": false
   }
  },
  {
   "cell_type": "code",
   "execution_count": 627,
   "outputs": [
    {
     "name": "stdout",
     "output_type": "stream",
     "text": [
      "   id  gewicht  lengte\n",
      "0   1     43.2     154\n",
      "1   2     55.1     160\n",
      "2   3     45.7     148\n",
      "3   4     61.4     161\n",
      "4   5     51.1     165\n"
     ]
    }
   ],
   "source": [
    "print(data_en)"
   ],
   "metadata": {
    "collapsed": false
   }
  },
  {
   "cell_type": "code",
   "execution_count": 628,
   "outputs": [
    {
     "name": "stdout",
     "output_type": "stream",
     "text": [
      "   id  gewicht  lengte\n",
      "0   1     43.2     154\n",
      "1   2     55.1     160\n",
      "2   3     45.7     148\n"
     ]
    }
   ],
   "source": [
    "print(data_en.head(n=3))"
   ],
   "metadata": {
    "collapsed": false
   }
  },
  {
   "cell_type": "code",
   "execution_count": 629,
   "outputs": [
    {
     "name": "stdout",
     "output_type": "stream",
     "text": [
      "<class 'pandas.core.frame.DataFrame'>\n",
      "RangeIndex: 5 entries, 0 to 4\n",
      "Data columns (total 3 columns):\n",
      " #   Column   Non-Null Count  Dtype  \n",
      "---  ------   --------------  -----  \n",
      " 0   id       5 non-null      int64  \n",
      " 1   gewicht  5 non-null      float64\n",
      " 2   lengte   5 non-null      int64  \n",
      "dtypes: float64(1), int64(2)\n",
      "memory usage: 248.0 bytes\n"
     ]
    }
   ],
   "source": [
    "data_en.info()"
   ],
   "metadata": {
    "collapsed": false
   }
  },
  {
   "cell_type": "code",
   "execution_count": 630,
   "outputs": [
    {
     "name": "stdout",
     "output_type": "stream",
     "text": [
      "             id    gewicht      lengte\n",
      "count  5.000000   5.000000    5.000000\n",
      "mean   3.000000  51.300000  157.600000\n",
      "std    1.581139   7.305135    6.655825\n",
      "min    1.000000  43.200000  148.000000\n",
      "25%    2.000000  45.700000  154.000000\n",
      "50%    3.000000  51.100000  160.000000\n",
      "75%    4.000000  55.100000  161.000000\n",
      "max    5.000000  61.400000  165.000000\n"
     ]
    }
   ],
   "source": [
    "print(data_en.describe())"
   ],
   "metadata": {
    "collapsed": false
   }
  },
  {
   "cell_type": "code",
   "execution_count": 631,
   "outputs": [
    {
     "name": "stdout",
     "output_type": "stream",
     "text": [
      "count     5.000000\n",
      "mean     51.300000\n",
      "std       7.305135\n",
      "min      43.200000\n",
      "25%      45.700000\n",
      "50%      51.100000\n",
      "75%      55.100000\n",
      "max      61.400000\n",
      "Name: gewicht, dtype: float64\n"
     ]
    }
   ],
   "source": [
    "print(data_en.gewicht.describe())"
   ],
   "metadata": {
    "collapsed": false
   }
  },
  {
   "cell_type": "code",
   "execution_count": 632,
   "outputs": [
    {
     "name": "stdout",
     "output_type": "stream",
     "text": [
      "count       7\n",
      "unique      4\n",
      "top       bla\n",
      "freq        3\n",
      "dtype: object\n"
     ]
    }
   ],
   "source": [
    "s = pd.Series(['bla', 'bla', 'boe', 'bie', 'boo', 'boo', 'bla'])\n",
    "print(s.describe())"
   ],
   "metadata": {
    "collapsed": false
   }
  },
  {
   "cell_type": "markdown",
   "source": [
    "## Ontbrekende waarden"
   ],
   "metadata": {
    "collapsed": false
   }
  },
  {
   "cell_type": "code",
   "execution_count": 633,
   "outputs": [
    {
     "name": "stdout",
     "output_type": "stream",
     "text": [
      "0       1\n",
      "1     NaN\n",
      "2       2\n",
      "3    None\n",
      "4    <NA>\n",
      "5     NaN\n",
      "dtype: object\n"
     ]
    }
   ],
   "source": [
    "data = pd.Series([1, np.nan, 2, None, pd.NA, math.nan])\n",
    "print(data)"
   ],
   "metadata": {
    "collapsed": false
   }
  },
  {
   "cell_type": "code",
   "execution_count": 634,
   "outputs": [
    {
     "name": "stdout",
     "output_type": "stream",
     "text": [
      "0    False\n",
      "1     True\n",
      "2    False\n",
      "3     True\n",
      "4     True\n",
      "5     True\n",
      "dtype: bool\n"
     ]
    }
   ],
   "source": [
    "print(data.isna())"
   ],
   "metadata": {
    "collapsed": false
   }
  },
  {
   "cell_type": "code",
   "execution_count": 635,
   "outputs": [
    {
     "name": "stdout",
     "output_type": "stream",
     "text": [
      "4\n"
     ]
    }
   ],
   "source": [
    "print(data.isna().sum())"
   ],
   "metadata": {
    "collapsed": false
   }
  },
  {
   "cell_type": "code",
   "execution_count": 636,
   "outputs": [
    {
     "name": "stdout",
     "output_type": "stream",
     "text": [
      "0    1\n",
      "2    2\n",
      "dtype: object\n"
     ]
    }
   ],
   "source": [
    "data.dropna(inplace=True)\n",
    "print(data)"
   ],
   "metadata": {
    "collapsed": false
   }
  },
  {
   "cell_type": "markdown",
   "source": [
    "werkt ook op tabellen:"
   ],
   "metadata": {
    "collapsed": false
   }
  },
  {
   "cell_type": "code",
   "execution_count": 637,
   "outputs": [
    {
     "name": "stdout",
     "output_type": "stream",
     "text": [
      "      a    b\n",
      "0     1  0.0\n",
      "1   NaN  1.0\n",
      "2     2  NaN\n",
      "3  None  3.0\n",
      "4  <NA>  4.0\n",
      "5     3  5.0\n"
     ]
    }
   ],
   "source": [
    "df = pd.DataFrame({'a':[1, np.nan, 2, None, pd.NA, 3], 'b':range(6)})\n",
    "df.iloc[2, 1] = math.nan\n",
    "print(df)"
   ],
   "metadata": {
    "collapsed": false
   }
  },
  {
   "cell_type": "code",
   "execution_count": 638,
   "outputs": [
    {
     "name": "stdout",
     "output_type": "stream",
     "text": [
      "4\n"
     ]
    }
   ],
   "source": [
    "print(df.isna().sum().sum()) # totaal aantal ontbrekende waarden"
   ],
   "metadata": {
    "collapsed": false
   }
  },
  {
   "cell_type": "code",
   "execution_count": 639,
   "outputs": [
    {
     "name": "stdout",
     "output_type": "stream",
     "text": [
      "   a    b\n",
      "0  1  0.0\n",
      "5  3  5.0\n"
     ]
    }
   ],
   "source": [
    "df = df.dropna() # wis alle rijen met ontbrekende waarden\n",
    "print(df)"
   ],
   "metadata": {
    "collapsed": false
   }
  },
  {
   "cell_type": "code",
   "execution_count": 640,
   "outputs": [
    {
     "name": "stdout",
     "output_type": "stream",
     "text": [
      "   a    b\n",
      "0  1  0.0\n",
      "5  3  5.0\n"
     ]
    }
   ],
   "source": [
    "df.dropna(inplace=True)\n",
    "print(df)"
   ],
   "metadata": {
    "collapsed": false
   }
  },
  {
   "cell_type": "markdown",
   "source": [
    "## Ontbrekende waarden bij het inlezen"
   ],
   "metadata": {
    "collapsed": false
   }
  },
  {
   "cell_type": "code",
   "execution_count": 641,
   "outputs": [
    {
     "name": "stdout",
     "output_type": "stream",
     "text": [
      "<class 'pandas.core.frame.DataFrame'>\n",
      "RangeIndex: 4 entries, 0 to 3\n",
      "Data columns (total 3 columns):\n",
      " #   Column   Non-Null Count  Dtype \n",
      "---  ------   --------------  ----- \n",
      " 0   id       4 non-null      int64 \n",
      " 1   lengte   4 non-null      object\n",
      " 2   gewicht  3 non-null      object\n",
      "dtypes: int64(1), object(2)\n",
      "memory usage: 224.0+ bytes\n"
     ]
    }
   ],
   "source": [
    "tabel = pd.read_csv('bestand2.csv', sep=';', decimal=',')\n",
    "tabel.info() # lengte en gewicht werden niet herkend als getallen.  Waarom?"
   ],
   "metadata": {
    "collapsed": false
   }
  },
  {
   "cell_type": "code",
   "execution_count": 642,
   "outputs": [
    {
     "name": "stdout",
     "output_type": "stream",
     "text": [
      "   id   lengte gewicht\n",
      "0   1      173    70.1\n",
      "1   2      174    60.3\n",
      "2   3    175,3     NaN\n",
      "3   4  Missing      60\n"
     ]
    }
   ],
   "source": [
    "print(tabel)"
   ],
   "metadata": {
    "collapsed": false
   }
  },
  {
   "cell_type": "code",
   "execution_count": 643,
   "outputs": [
    {
     "name": "stdout",
     "output_type": "stream",
     "text": [
      "['173' '174' '175,3' 'Missing']\n"
     ]
    }
   ],
   "source": [
    "print(tabel.lengte.unique())"
   ],
   "metadata": {
    "collapsed": false
   }
  },
  {
   "cell_type": "markdown",
   "source": [
    "Zet alle komma's om naar punten in kolom \"lengte\":"
   ],
   "metadata": {
    "collapsed": false
   }
  },
  {
   "cell_type": "code",
   "execution_count": 644,
   "outputs": [
    {
     "name": "stdout",
     "output_type": "stream",
     "text": [
      "   id   lengte gewicht\n",
      "0   1      173    70.1\n",
      "1   2      174    60.3\n",
      "2   3    175.3     NaN\n",
      "3   4  Missing      60\n"
     ]
    }
   ],
   "source": [
    "tabel.lengte = tabel.lengte.str.replace(',', '.', regex=False)\n",
    "print(tabel)"
   ],
   "metadata": {
    "collapsed": false
   }
  },
  {
   "cell_type": "markdown",
   "source": [
    "Zet kolom \"lengte\" om naar getallen"
   ],
   "metadata": {
    "collapsed": false
   }
  },
  {
   "cell_type": "code",
   "execution_count": 645,
   "outputs": [
    {
     "name": "stdout",
     "output_type": "stream",
     "text": [
      "   id  lengte gewicht\n",
      "0   1   173.0    70.1\n",
      "1   2   174.0    60.3\n",
      "2   3   175.3     NaN\n",
      "3   4     NaN      60\n"
     ]
    }
   ],
   "source": [
    "tabel.lengte = pd.to_numeric(tabel.lengte, errors='coerce')\n",
    "print(tabel)"
   ],
   "metadata": {
    "collapsed": false
   }
  },
  {
   "cell_type": "code",
   "execution_count": 646,
   "outputs": [
    {
     "name": "stdout",
     "output_type": "stream",
     "text": [
      "<class 'pandas.core.frame.DataFrame'>\n",
      "RangeIndex: 4 entries, 0 to 3\n",
      "Data columns (total 3 columns):\n",
      " #   Column   Non-Null Count  Dtype  \n",
      "---  ------   --------------  -----  \n",
      " 0   id       4 non-null      int64  \n",
      " 1   lengte   3 non-null      float64\n",
      " 2   gewicht  3 non-null      object \n",
      "dtypes: float64(1), int64(1), object(1)\n",
      "memory usage: 224.0+ bytes\n",
      "None\n"
     ]
    }
   ],
   "source": [
    "print(tabel.info())"
   ],
   "metadata": {
    "collapsed": false
   }
  },
  {
   "cell_type": "markdown",
   "source": [
    "Zet kolom gewicht nu ook om naar getallen:"
   ],
   "metadata": {
    "collapsed": false
   }
  },
  {
   "cell_type": "code",
   "execution_count": 647,
   "outputs": [
    {
     "name": "stdout",
     "output_type": "stream",
     "text": [
      "   id  lengte  gewicht\n",
      "0   1   173.0     70.1\n",
      "1   2   174.0     60.3\n",
      "2   3   175.3      NaN\n",
      "3   4     NaN     60.0\n",
      "<class 'pandas.core.frame.DataFrame'>\n",
      "RangeIndex: 4 entries, 0 to 3\n",
      "Data columns (total 3 columns):\n",
      " #   Column   Non-Null Count  Dtype  \n",
      "---  ------   --------------  -----  \n",
      " 0   id       4 non-null      int64  \n",
      " 1   lengte   3 non-null      float64\n",
      " 2   gewicht  3 non-null      float64\n",
      "dtypes: float64(2), int64(1)\n",
      "memory usage: 224.0 bytes\n"
     ]
    }
   ],
   "source": [
    "tabel.gewicht = pd.to_numeric(tabel.gewicht, errors='coerce')\n",
    "print(tabel)\n",
    "tabel.info()"
   ],
   "metadata": {
    "collapsed": false
   }
  },
  {
   "cell_type": "markdown",
   "source": [
    "Dit kon ook allemaal iets sneller:"
   ],
   "metadata": {
    "collapsed": false
   }
  },
  {
   "cell_type": "code",
   "execution_count": 648,
   "outputs": [
    {
     "name": "stdout",
     "output_type": "stream",
     "text": [
      "   id  lengte  gewicht\n",
      "0   1   173.0     70.1\n",
      "1   2   174.0     60.3\n",
      "2   3   175.3      NaN\n",
      "3   4     NaN     60.0\n"
     ]
    }
   ],
   "source": [
    "tabel = pd.read_csv('bestand2.csv', sep=';', decimal='.', header=0, na_values=['Missing'])\n",
    "tabel.lengte = tabel.lengte.str.replace(',', '.', regex=False)\n",
    "tabel.lengte = pd.to_numeric(tabel.lengte, errors='coerce')\n",
    "print(tabel)"
   ],
   "metadata": {
    "collapsed": false
   }
  },
  {
   "cell_type": "code",
   "execution_count": 649,
   "outputs": [
    {
     "name": "stdout",
     "output_type": "stream",
     "text": [
      "<class 'pandas.core.frame.DataFrame'>\n",
      "RangeIndex: 4 entries, 0 to 3\n",
      "Data columns (total 3 columns):\n",
      " #   Column   Non-Null Count  Dtype  \n",
      "---  ------   --------------  -----  \n",
      " 0   id       4 non-null      int64  \n",
      " 1   lengte   3 non-null      float64\n",
      " 2   gewicht  3 non-null      float64\n",
      "dtypes: float64(2), int64(1)\n",
      "memory usage: 224.0 bytes\n"
     ]
    }
   ],
   "source": [
    "tabel.info()"
   ],
   "metadata": {
    "collapsed": false
   }
  },
  {
   "cell_type": "code",
   "execution_count": 650,
   "outputs": [
    {
     "name": "stdout",
     "output_type": "stream",
     "text": [
      "             id      lengte    gewicht\n",
      "count  4.000000    3.000000   3.000000\n",
      "mean   2.500000  174.100000  63.466667\n",
      "std    1.290994    1.153256   5.746593\n",
      "min    1.000000  173.000000  60.000000\n",
      "25%    1.750000  173.500000  60.150000\n",
      "50%    2.500000  174.000000  60.300000\n",
      "75%    3.250000  174.650000  65.200000\n",
      "max    4.000000  175.300000  70.100000\n"
     ]
    }
   ],
   "source": [
    "print(tabel.describe())"
   ],
   "metadata": {
    "collapsed": false
   }
  },
  {
   "cell_type": "markdown",
   "source": [
    "## Ontbrekende waarden bij omzettingen"
   ],
   "metadata": {
    "collapsed": false
   }
  },
  {
   "cell_type": "code",
   "execution_count": 651,
   "outputs": [
    {
     "name": "stdout",
     "output_type": "stream",
     "text": [
      "['a', 'b', 'a', NaN, 'a', 'b']\n",
      "Categories (2, object): ['a', 'b']\n"
     ]
    }
   ],
   "source": [
    "kolom = pd.Series(['a', 'b', 'a', 'c', 'a', 'b'])\n",
    "cats = pd.Categorical(kolom, categories=['a', 'b'])\n",
    "print(cats)"
   ],
   "metadata": {
    "collapsed": false
   }
  },
  {
   "cell_type": "code",
   "execution_count": 652,
   "outputs": [
    {
     "name": "stdout",
     "output_type": "stream",
     "text": [
      "['a' 'b' 'c']\n"
     ]
    }
   ],
   "source": [
    "print(kolom.unique())"
   ],
   "metadata": {
    "collapsed": false
   }
  },
  {
   "cell_type": "markdown",
   "source": [
    "## Omgaan met ontbrekende waarden\n",
    "\n",
    "Niets doen..."
   ],
   "metadata": {
    "collapsed": false
   }
  },
  {
   "cell_type": "markdown",
   "source": [
    "## Omgaan met ontbrekende waarden: verwijderen"
   ],
   "metadata": {
    "collapsed": false
   }
  },
  {
   "cell_type": "code",
   "execution_count": 653,
   "outputs": [
    {
     "name": "stdout",
     "output_type": "stream",
     "text": [
      "   id  lengte  gewicht\n",
      "0   1   173.0     70.1\n",
      "1   2   174.0     60.3\n"
     ]
    }
   ],
   "source": [
    "print(tabel.dropna(axis='rows'))"
   ],
   "metadata": {
    "collapsed": false
   }
  },
  {
   "cell_type": "code",
   "execution_count": 654,
   "outputs": [
    {
     "name": "stdout",
     "output_type": "stream",
     "text": [
      "   id\n",
      "0   1\n",
      "1   2\n",
      "2   3\n",
      "3   4\n"
     ]
    }
   ],
   "source": [
    "print(tabel.dropna(axis='columns'))"
   ],
   "metadata": {
    "collapsed": false
   }
  },
  {
   "cell_type": "markdown",
   "source": [
    "## Omgaan met ontbrekende waarden: vervangen"
   ],
   "metadata": {
    "collapsed": false
   }
  },
  {
   "cell_type": "code",
   "execution_count": 655,
   "outputs": [
    {
     "name": "stdout",
     "output_type": "stream",
     "text": [
      "0         geslaagd\n",
      "1         geslaagd\n",
      "2              NaN\n",
      "3    niet geslaagd\n",
      "dtype: object\n"
     ]
    }
   ],
   "source": [
    "waarden = ['geslaagd', 'geslaagd', np.nan, 'niet geslaagd']\n",
    "scores = pd.Series(waarden)\n",
    "print(scores)"
   ],
   "metadata": {
    "collapsed": false
   }
  },
  {
   "cell_type": "code",
   "execution_count": 656,
   "outputs": [
    {
     "name": "stdout",
     "output_type": "stream",
     "text": [
      "0            geslaagd\n",
      "1            geslaagd\n",
      "2    niet deelgenomen\n",
      "3       niet geslaagd\n",
      "dtype: object\n"
     ]
    }
   ],
   "source": [
    "scores.fillna(\"niet deelgenomen\", inplace=True)\n",
    "print(scores)"
   ],
   "metadata": {
    "collapsed": false
   }
  },
  {
   "cell_type": "markdown",
   "source": [
    "Let op: vervang ontbrekende getallen niet zomaar door 0!  Dat beïnvloed de data te veel."
   ],
   "metadata": {
    "collapsed": false
   }
  },
  {
   "cell_type": "markdown",
   "source": [
    "## Interpoleren"
   ],
   "metadata": {
    "collapsed": false
   }
  },
  {
   "cell_type": "code",
   "execution_count": 657,
   "outputs": [
    {
     "name": "stdout",
     "output_type": "stream",
     "text": [
      "[18.4, nan, 19.5, 20.5, 20.5, 19.5, nan, 17.8]\n"
     ]
    }
   ],
   "source": [
    "waarden = [18.4, math.nan, 19.5, 20.5, 20.5, 19.5, math.nan, 17.8]\n",
    "temps = pd.Series(waarden)\n",
    "print(temps.tolist())"
   ],
   "metadata": {
    "collapsed": false
   }
  },
  {
   "cell_type": "code",
   "execution_count": 658,
   "outputs": [],
   "source": [
    "# import matplotlib.pyplot as plt\n",
    "# plt.plot(temps, 'o-')"
   ],
   "metadata": {
    "collapsed": false
   }
  },
  {
   "cell_type": "code",
   "execution_count": 659,
   "outputs": [
    {
     "name": "stdout",
     "output_type": "stream",
     "text": [
      "[18.4, 18.95, 19.5, 20.5, 20.5, 19.5, 18.65, 17.8]\n"
     ]
    }
   ],
   "source": [
    "new_temps = temps.interpolate() # lineaire interpolatie\n",
    "print(new_temps.tolist())"
   ],
   "metadata": {
    "collapsed": false
   }
  },
  {
   "cell_type": "code",
   "execution_count": 660,
   "outputs": [
    {
     "name": "stdout",
     "output_type": "stream",
     "text": [
      "18.95\n"
     ]
    }
   ],
   "source": [
    "print((18.4+19.5)/2)"
   ],
   "metadata": {
    "collapsed": false
   }
  },
  {
   "cell_type": "code",
   "execution_count": 661,
   "outputs": [],
   "source": [
    "# plt.plot(new_temps, 'o-')"
   ],
   "metadata": {
    "collapsed": false
   }
  },
  {
   "cell_type": "code",
   "execution_count": 662,
   "outputs": [],
   "source": [
    "# new_temps = temps.interpolate(method='spline', order=3) # cubic splines\n",
    "# print(new_temps.tolist())"
   ],
   "metadata": {
    "collapsed": false
   }
  },
  {
   "cell_type": "code",
   "execution_count": 663,
   "outputs": [],
   "source": [
    "# plt.plot(new_temps, 'o-')"
   ],
   "metadata": {
    "collapsed": false
   }
  },
  {
   "cell_type": "markdown",
   "source": [
    "## Verkeerde waarden"
   ],
   "metadata": {
    "collapsed": false
   }
  },
  {
   "cell_type": "code",
   "execution_count": 664,
   "outputs": [
    {
     "name": "stdout",
     "output_type": "stream",
     "text": [
      "  geslacht  x\n",
      "0        v  0\n",
      "1        m  1\n",
      "2        x  2\n",
      "3        f  3\n",
      "4        v  4\n",
      "5        m  5\n",
      "6        v  6\n",
      "7        v  7\n"
     ]
    }
   ],
   "source": [
    "geslacht = pd.Series(['v', 'm', 'x', 'f', 'v', 'm', 'v', 'v'])\n",
    "x = range(8)\n",
    "tabel = pd.DataFrame({'geslacht': geslacht, 'x': x})\n",
    "print(tabel)"
   ],
   "metadata": {
    "collapsed": false
   }
  },
  {
   "cell_type": "code",
   "execution_count": 665,
   "outputs": [
    {
     "name": "stdout",
     "output_type": "stream",
     "text": [
      "['v' 'm' 'x' 'f']\n"
     ]
    }
   ],
   "source": [
    "print(tabel.geslacht.unique())"
   ],
   "metadata": {
    "collapsed": false
   }
  },
  {
   "cell_type": "code",
   "execution_count": 666,
   "outputs": [
    {
     "name": "stdout",
     "output_type": "stream",
     "text": [
      "0    False\n",
      "1    False\n",
      "2    False\n",
      "3     True\n",
      "4    False\n",
      "5    False\n",
      "6    False\n",
      "7    False\n",
      "Name: geslacht, dtype: bool\n"
     ]
    }
   ],
   "source": [
    "rijen = tabel.geslacht == 'f'\n",
    "print(rijen)"
   ],
   "metadata": {
    "collapsed": false
   }
  },
  {
   "cell_type": "code",
   "execution_count": 667,
   "outputs": [
    {
     "name": "stdout",
     "output_type": "stream",
     "text": [
      "  geslacht  x\n",
      "0        v  0\n",
      "1        m  1\n",
      "2        x  2\n",
      "3        v  3\n",
      "4        v  4\n",
      "5        m  5\n",
      "6        v  6\n",
      "7        v  7\n"
     ]
    }
   ],
   "source": [
    "tabel.loc[rijen, 'geslacht'] = 'v'\n",
    "print(tabel)"
   ],
   "metadata": {
    "collapsed": false
   }
  },
  {
   "cell_type": "markdown",
   "source": [
    "## Delen vervangen"
   ],
   "metadata": {
    "collapsed": false
   }
  },
  {
   "cell_type": "code",
   "execution_count": 668,
   "outputs": [
    {
     "name": "stdout",
     "output_type": "stream",
     "text": [
      "0              dit \n",
      "1            en dat\n",
      "2    is een testje \n",
      "dtype: object\n"
     ]
    }
   ],
   "source": [
    "kolom = pd.Series(['dit ', 'en dat', 'is een testje '])\n",
    "print(kolom)"
   ],
   "metadata": {
    "collapsed": false
   }
  },
  {
   "cell_type": "code",
   "execution_count": 669,
   "outputs": [
    {
     "name": "stdout",
     "output_type": "stream",
     "text": [
      "0              dit_\n",
      "1            en_dat\n",
      "2    is_een_testje_\n",
      "dtype: object\n"
     ]
    }
   ],
   "source": [
    "kolom = kolom.str.replace(' ', '_', regex=False)\n",
    "print(kolom)"
   ],
   "metadata": {
    "collapsed": false
   }
  },
  {
   "cell_type": "code",
   "execution_count": 670,
   "outputs": [
    {
     "name": "stdout",
     "output_type": "stream",
     "text": [
      "0              dot_\n",
      "1            en_dot\n",
      "2    is_een_testje_\n",
      "dtype: object\n"
     ]
    }
   ],
   "source": [
    "kolom = kolom.str.replace('d.t', 'dot', regex=True) # . kan alles zijn\n",
    "print(kolom)"
   ],
   "metadata": {
    "collapsed": false
   }
  },
  {
   "cell_type": "markdown",
   "source": [
    "## Datatypes"
   ],
   "metadata": {
    "collapsed": false
   }
  },
  {
   "cell_type": "code",
   "execution_count": 671,
   "outputs": [
    {
     "name": "stdout",
     "output_type": "stream",
     "text": [
      "<class 'pandas.core.frame.DataFrame'>\n",
      "RangeIndex: 5 entries, 0 to 4\n",
      "Data columns (total 4 columns):\n",
      " #   Column           Non-Null Count  Dtype \n",
      "---  ------           --------------  ----- \n",
      " 0   datum            5 non-null      object\n",
      " 1   tijdstip         5 non-null      object\n",
      " 2   waarde           5 non-null      object\n",
      " 3   betrouwbaarheid  4 non-null      object\n",
      "dtypes: object(4)\n",
      "memory usage: 288.0+ bytes\n"
     ]
    }
   ],
   "source": [
    "tabel = pd.read_csv('bestand3.csv', sep=',', decimal='.', header=0)\n",
    "tabel.info()"
   ],
   "metadata": {
    "collapsed": false
   }
  },
  {
   "cell_type": "code",
   "execution_count": 672,
   "outputs": [
    {
     "name": "stdout",
     "output_type": "stream",
     "text": [
      "        datum tijdstip    waarde betrouwbaarheid\n",
      "0  2022-01-01    00:00       3.5          slecht\n",
      "1  2022-01-02    00:05       3.4            goed\n",
      "2  2022-01-03    00:10  Onbekend    ontoereikend\n",
      "3  2022-01-04    00:15       3.2            goed\n",
      "4  2022-01-05     1:15       3.1             NaN\n"
     ]
    }
   ],
   "source": [
    "print(tabel)"
   ],
   "metadata": {
    "collapsed": false
   }
  },
  {
   "cell_type": "code",
   "execution_count": 673,
   "outputs": [
    {
     "name": "stdout",
     "output_type": "stream",
     "text": [
      "0    3.5\n",
      "1    3.4\n",
      "2    NaN\n",
      "3    3.2\n",
      "4    3.1\n",
      "Name: waarde, dtype: float64\n"
     ]
    }
   ],
   "source": [
    "tabel.waarde = pd.to_numeric(tabel.waarde, errors='coerce') # x naar NAN\n",
    "print(tabel.waarde)\n",
    "# kan je dit ook bij het inlezen al oplossen?"
   ],
   "metadata": {
    "collapsed": false
   }
  },
  {
   "cell_type": "code",
   "execution_count": 674,
   "outputs": [
    {
     "name": "stdout",
     "output_type": "stream",
     "text": [
      "['slecht' 'goed' 'ontoereikend' nan]\n"
     ]
    }
   ],
   "source": [
    "print(tabel.betrouwbaarheid.unique())"
   ],
   "metadata": {
    "collapsed": false
   }
  },
  {
   "cell_type": "code",
   "execution_count": 675,
   "outputs": [
    {
     "name": "stdout",
     "output_type": "stream",
     "text": [
      "<class 'pandas.core.frame.DataFrame'>\n",
      "RangeIndex: 5 entries, 0 to 4\n",
      "Data columns (total 4 columns):\n",
      " #   Column           Non-Null Count  Dtype   \n",
      "---  ------           --------------  -----   \n",
      " 0   datum            5 non-null      object  \n",
      " 1   tijdstip         5 non-null      object  \n",
      " 2   waarde           4 non-null      float64 \n",
      " 3   betrouwbaarheid  4 non-null      category\n",
      "dtypes: category(1), float64(1), object(2)\n",
      "memory usage: 385.0+ bytes\n",
      "None\n"
     ]
    }
   ],
   "source": [
    "cats = [ \"ontoereikend\", \"slecht\", \"goed\"]\n",
    "tabel.betrouwbaarheid = pd.Categorical(tabel.betrouwbaarheid, categories=cats, ordered=True) # ordered = ordered :)\n",
    "print(tabel.info())"
   ],
   "metadata": {
    "collapsed": false
   }
  },
  {
   "cell_type": "code",
   "execution_count": 676,
   "outputs": [
    {
     "name": "stdout",
     "output_type": "stream",
     "text": [
      "<class 'pandas.core.frame.DataFrame'>\n",
      "RangeIndex: 5 entries, 0 to 4\n",
      "Data columns (total 4 columns):\n",
      " #   Column           Non-Null Count  Dtype         \n",
      "---  ------           --------------  -----         \n",
      " 0   datum            5 non-null      datetime64[ns]\n",
      " 1   tijdstip         5 non-null      object        \n",
      " 2   waarde           4 non-null      float64       \n",
      " 3   betrouwbaarheid  4 non-null      category      \n",
      "dtypes: category(1), datetime64[ns](1), float64(1), object(1)\n",
      "memory usage: 385.0+ bytes\n",
      "None\n"
     ]
    }
   ],
   "source": [
    "tabel.datum = pd.to_datetime(tabel.datum, format='%Y-%m-%d') # tijdstip naar format ('%Y-%m-%d')\n",
    "print(tabel.info())"
   ],
   "metadata": {
    "collapsed": false
   }
  },
  {
   "cell_type": "code",
   "execution_count": 677,
   "outputs": [
    {
     "name": "stdout",
     "output_type": "stream",
     "text": [
      "<class 'pandas.core.frame.DataFrame'>\n",
      "RangeIndex: 5 entries, 0 to 4\n",
      "Data columns (total 4 columns):\n",
      " #   Column           Non-Null Count  Dtype         \n",
      "---  ------           --------------  -----         \n",
      " 0   datum            5 non-null      datetime64[ns]\n",
      " 1   tijdstip         5 non-null      datetime64[ns]\n",
      " 2   waarde           4 non-null      float64       \n",
      " 3   betrouwbaarheid  4 non-null      category      \n",
      "dtypes: category(1), datetime64[ns](2), float64(1)\n",
      "memory usage: 385.0 bytes\n",
      "None\n"
     ]
    }
   ],
   "source": [
    "tabel.tijdstip = pd.to_datetime(tabel.tijdstip, format='%H:%M') # tijdstip naar format ('%H:%M')\n",
    "print(tabel.info())"
   ],
   "metadata": {
    "collapsed": false
   }
  },
  {
   "cell_type": "code",
   "execution_count": 678,
   "outputs": [
    {
     "name": "stdout",
     "output_type": "stream",
     "text": [
      "       datum            tijdstip  waarde betrouwbaarheid\n",
      "0 2022-01-01 1900-01-01 00:00:00     3.5          slecht\n",
      "1 2022-01-02 1900-01-01 00:05:00     3.4            goed\n",
      "2 2022-01-03 1900-01-01 00:10:00     NaN    ontoereikend\n",
      "3 2022-01-04 1900-01-01 00:15:00     3.2            goed\n",
      "4 2022-01-05 1900-01-01 01:15:00     3.1             NaN\n"
     ]
    }
   ],
   "source": [
    "print(tabel) # bemerk dat een tijdstip altijd een datum bevat"
   ],
   "metadata": {
    "collapsed": false
   }
  },
  {
   "cell_type": "code",
   "execution_count": 679,
   "outputs": [
    {
     "name": "stdout",
     "output_type": "stream",
     "text": [
      "0    00:00:00\n",
      "1    00:05:00\n",
      "2    00:10:00\n",
      "3    00:15:00\n",
      "4    01:15:00\n",
      "Name: tijdstip, dtype: object\n"
     ]
    }
   ],
   "source": [
    "print(tabel.tijdstip.dt.time)"
   ],
   "metadata": {
    "collapsed": false
   }
  }
 ],
 "metadata": {
  "kernelspec": {
   "display_name": "Python 3",
   "language": "python",
   "name": "python3"
  },
  "language_info": {
   "codemirror_mode": {
    "name": "ipython",
    "version": 2
   },
   "file_extension": ".py",
   "mimetype": "text/x-python",
   "name": "python",
   "nbconvert_exporter": "python",
   "pygments_lexer": "ipython2",
   "version": "2.7.6"
  }
 },
 "nbformat": 4,
 "nbformat_minor": 0
}
