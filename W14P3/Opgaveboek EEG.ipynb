{
 "cells": [
  {
   "cell_type": "markdown",
   "metadata": {
    "collapsed": false
   },
   "source": [
    "# Elektro-encefalografie\n",
    "\n",
    "Elektro-encefalografie is een methode om de **elektrische activiteit** van de hersenen te meten. Het is een non-invasieve ingreep, waarbij de elektroden doorgaans op de hoofdhuid worden geplakt. EEG meet potentiaalverschillen die ontstaan door de ionenstroom in de zenuwcellen van de hersenen.  Via een speciale headset kan de hersenactiviteit in 14 punten gemeten worden."
   ]
  },
  {
   "cell_type": "markdown",
   "metadata": {
    "collapsed": false
   },
   "source": [
    "Lees de **eegdata1.csv** dataset in een variabele `eeg1` en bekijk de eerste rijen en de datatypes van de kolommen. Zijn er noemenswaardige problemen?"
   ]
  },
  {
   "cell_type": "code",
   "execution_count": 208,
   "id": "9233c224",
   "metadata": {},
   "outputs": [
    {
     "data": {
      "text/plain": "     COUNTER  INTERPOLATED  RAW_CQ          AF3           F7           F3  \\\n0         50             0       0  4354.358974  4220.000000  4356.410256   \n1         51             0       0  4347.692308  4215.897436  4348.717949   \n2         52             0       0  4341.025641  4206.153846  4348.205128   \n3         53             0       0  4335.897436  4203.589744  4349.743590   \n4         54             0       0  4335.384615  4205.641026  4345.128205   \n..       ...           ...     ...          ...          ...          ...   \n507       41             0       0  4292.307692  4155.897436  4297.435897   \n508       42             0       0  4292.307692  4153.333333  4297.435897   \n509       43             0       0  4298.974359  4157.435897  4299.487179   \n510       44             0       0  4303.076923  4159.487179  4298.461538   \n511       45             0       0  4297.948718  4156.923077  4291.794872   \n\n             FC5           T7           P7           O1  ...           F8  \\\n0    4400.000000  4369.743590  4481.538462  4601.025641  ...  4188.717949   \n1    4397.948718  4367.692308  4480.000000  4596.410256  ...  4183.589744   \n2    4394.358974  4364.102564  4476.923077  4590.769231  ...  4173.333333   \n3    4397.435897  4362.564103  4480.000000  4594.871795  ...  4170.769231   \n4    4399.487179  4365.641026  4485.641026  4600.512821  ...  4170.256410   \n..           ...          ...          ...          ...  ...          ...   \n507  4306.666667  4341.025641  4457.435897  4516.923077  ...  4112.307692   \n508  4300.512821  4342.051282  4454.871795  4518.461538  ...  4113.846154   \n509  4307.692308  4344.102564  4450.256410  4517.948718  ...  4113.846154   \n510  4310.769231  4344.615385  4451.794872  4517.948718  ...  4110.769231   \n511  4305.641026  4342.051282  4454.871795  4518.974359  ...  4101.538462   \n\n             AF4  GYROX  GYROY  TIMESTAMP  ES_TIMESTAMP  FUNC_ID  FUNC_VALUE  \\\n0    4990.769231   1594   1740     71.840     14.528111        0           0   \n1    4980.512821   1592   1739     71.848     14.528111        0           0   \n2    4972.307692   1594   1740     71.856     14.528111        0           0   \n3    4969.230769   1593   1737     71.864     14.528111        0           0   \n4    4964.102564   1593   1737     71.872     14.528111        0           0   \n..           ...    ...    ...        ...           ...      ...         ...   \n507  4925.641026   1593   1739     75.804     18.531551        0           0   \n508  4930.769231   1593   1741     75.812     18.531551        0           0   \n509  4930.256410   1594   1739     75.820     18.531551        0           0   \n510  4918.461538   1592   1739     75.827     18.531551        0           0   \n511  4903.589744   1593   1739     75.835     18.531551        0           0   \n\n     MARKER  SYNC_SIGNAL  \n0         0            0  \n1         0            0  \n2         0            0  \n3         0            0  \n4         0            0  \n..      ...          ...  \n507       0            0  \n508       0            0  \n509       0            0  \n510       0            0  \n511       0            0  \n\n[512 rows x 25 columns]",
      "text/html": "<div>\n<style scoped>\n    .dataframe tbody tr th:only-of-type {\n        vertical-align: middle;\n    }\n\n    .dataframe tbody tr th {\n        vertical-align: top;\n    }\n\n    .dataframe thead th {\n        text-align: right;\n    }\n</style>\n<table border=\"1\" class=\"dataframe\">\n  <thead>\n    <tr style=\"text-align: right;\">\n      <th></th>\n      <th>COUNTER</th>\n      <th>INTERPOLATED</th>\n      <th>RAW_CQ</th>\n      <th>AF3</th>\n      <th>F7</th>\n      <th>F3</th>\n      <th>FC5</th>\n      <th>T7</th>\n      <th>P7</th>\n      <th>O1</th>\n      <th>...</th>\n      <th>F8</th>\n      <th>AF4</th>\n      <th>GYROX</th>\n      <th>GYROY</th>\n      <th>TIMESTAMP</th>\n      <th>ES_TIMESTAMP</th>\n      <th>FUNC_ID</th>\n      <th>FUNC_VALUE</th>\n      <th>MARKER</th>\n      <th>SYNC_SIGNAL</th>\n    </tr>\n  </thead>\n  <tbody>\n    <tr>\n      <th>0</th>\n      <td>50</td>\n      <td>0</td>\n      <td>0</td>\n      <td>4354.358974</td>\n      <td>4220.000000</td>\n      <td>4356.410256</td>\n      <td>4400.000000</td>\n      <td>4369.743590</td>\n      <td>4481.538462</td>\n      <td>4601.025641</td>\n      <td>...</td>\n      <td>4188.717949</td>\n      <td>4990.769231</td>\n      <td>1594</td>\n      <td>1740</td>\n      <td>71.840</td>\n      <td>14.528111</td>\n      <td>0</td>\n      <td>0</td>\n      <td>0</td>\n      <td>0</td>\n    </tr>\n    <tr>\n      <th>1</th>\n      <td>51</td>\n      <td>0</td>\n      <td>0</td>\n      <td>4347.692308</td>\n      <td>4215.897436</td>\n      <td>4348.717949</td>\n      <td>4397.948718</td>\n      <td>4367.692308</td>\n      <td>4480.000000</td>\n      <td>4596.410256</td>\n      <td>...</td>\n      <td>4183.589744</td>\n      <td>4980.512821</td>\n      <td>1592</td>\n      <td>1739</td>\n      <td>71.848</td>\n      <td>14.528111</td>\n      <td>0</td>\n      <td>0</td>\n      <td>0</td>\n      <td>0</td>\n    </tr>\n    <tr>\n      <th>2</th>\n      <td>52</td>\n      <td>0</td>\n      <td>0</td>\n      <td>4341.025641</td>\n      <td>4206.153846</td>\n      <td>4348.205128</td>\n      <td>4394.358974</td>\n      <td>4364.102564</td>\n      <td>4476.923077</td>\n      <td>4590.769231</td>\n      <td>...</td>\n      <td>4173.333333</td>\n      <td>4972.307692</td>\n      <td>1594</td>\n      <td>1740</td>\n      <td>71.856</td>\n      <td>14.528111</td>\n      <td>0</td>\n      <td>0</td>\n      <td>0</td>\n      <td>0</td>\n    </tr>\n    <tr>\n      <th>3</th>\n      <td>53</td>\n      <td>0</td>\n      <td>0</td>\n      <td>4335.897436</td>\n      <td>4203.589744</td>\n      <td>4349.743590</td>\n      <td>4397.435897</td>\n      <td>4362.564103</td>\n      <td>4480.000000</td>\n      <td>4594.871795</td>\n      <td>...</td>\n      <td>4170.769231</td>\n      <td>4969.230769</td>\n      <td>1593</td>\n      <td>1737</td>\n      <td>71.864</td>\n      <td>14.528111</td>\n      <td>0</td>\n      <td>0</td>\n      <td>0</td>\n      <td>0</td>\n    </tr>\n    <tr>\n      <th>4</th>\n      <td>54</td>\n      <td>0</td>\n      <td>0</td>\n      <td>4335.384615</td>\n      <td>4205.641026</td>\n      <td>4345.128205</td>\n      <td>4399.487179</td>\n      <td>4365.641026</td>\n      <td>4485.641026</td>\n      <td>4600.512821</td>\n      <td>...</td>\n      <td>4170.256410</td>\n      <td>4964.102564</td>\n      <td>1593</td>\n      <td>1737</td>\n      <td>71.872</td>\n      <td>14.528111</td>\n      <td>0</td>\n      <td>0</td>\n      <td>0</td>\n      <td>0</td>\n    </tr>\n    <tr>\n      <th>...</th>\n      <td>...</td>\n      <td>...</td>\n      <td>...</td>\n      <td>...</td>\n      <td>...</td>\n      <td>...</td>\n      <td>...</td>\n      <td>...</td>\n      <td>...</td>\n      <td>...</td>\n      <td>...</td>\n      <td>...</td>\n      <td>...</td>\n      <td>...</td>\n      <td>...</td>\n      <td>...</td>\n      <td>...</td>\n      <td>...</td>\n      <td>...</td>\n      <td>...</td>\n      <td>...</td>\n    </tr>\n    <tr>\n      <th>507</th>\n      <td>41</td>\n      <td>0</td>\n      <td>0</td>\n      <td>4292.307692</td>\n      <td>4155.897436</td>\n      <td>4297.435897</td>\n      <td>4306.666667</td>\n      <td>4341.025641</td>\n      <td>4457.435897</td>\n      <td>4516.923077</td>\n      <td>...</td>\n      <td>4112.307692</td>\n      <td>4925.641026</td>\n      <td>1593</td>\n      <td>1739</td>\n      <td>75.804</td>\n      <td>18.531551</td>\n      <td>0</td>\n      <td>0</td>\n      <td>0</td>\n      <td>0</td>\n    </tr>\n    <tr>\n      <th>508</th>\n      <td>42</td>\n      <td>0</td>\n      <td>0</td>\n      <td>4292.307692</td>\n      <td>4153.333333</td>\n      <td>4297.435897</td>\n      <td>4300.512821</td>\n      <td>4342.051282</td>\n      <td>4454.871795</td>\n      <td>4518.461538</td>\n      <td>...</td>\n      <td>4113.846154</td>\n      <td>4930.769231</td>\n      <td>1593</td>\n      <td>1741</td>\n      <td>75.812</td>\n      <td>18.531551</td>\n      <td>0</td>\n      <td>0</td>\n      <td>0</td>\n      <td>0</td>\n    </tr>\n    <tr>\n      <th>509</th>\n      <td>43</td>\n      <td>0</td>\n      <td>0</td>\n      <td>4298.974359</td>\n      <td>4157.435897</td>\n      <td>4299.487179</td>\n      <td>4307.692308</td>\n      <td>4344.102564</td>\n      <td>4450.256410</td>\n      <td>4517.948718</td>\n      <td>...</td>\n      <td>4113.846154</td>\n      <td>4930.256410</td>\n      <td>1594</td>\n      <td>1739</td>\n      <td>75.820</td>\n      <td>18.531551</td>\n      <td>0</td>\n      <td>0</td>\n      <td>0</td>\n      <td>0</td>\n    </tr>\n    <tr>\n      <th>510</th>\n      <td>44</td>\n      <td>0</td>\n      <td>0</td>\n      <td>4303.076923</td>\n      <td>4159.487179</td>\n      <td>4298.461538</td>\n      <td>4310.769231</td>\n      <td>4344.615385</td>\n      <td>4451.794872</td>\n      <td>4517.948718</td>\n      <td>...</td>\n      <td>4110.769231</td>\n      <td>4918.461538</td>\n      <td>1592</td>\n      <td>1739</td>\n      <td>75.827</td>\n      <td>18.531551</td>\n      <td>0</td>\n      <td>0</td>\n      <td>0</td>\n      <td>0</td>\n    </tr>\n    <tr>\n      <th>511</th>\n      <td>45</td>\n      <td>0</td>\n      <td>0</td>\n      <td>4297.948718</td>\n      <td>4156.923077</td>\n      <td>4291.794872</td>\n      <td>4305.641026</td>\n      <td>4342.051282</td>\n      <td>4454.871795</td>\n      <td>4518.974359</td>\n      <td>...</td>\n      <td>4101.538462</td>\n      <td>4903.589744</td>\n      <td>1593</td>\n      <td>1739</td>\n      <td>75.835</td>\n      <td>18.531551</td>\n      <td>0</td>\n      <td>0</td>\n      <td>0</td>\n      <td>0</td>\n    </tr>\n  </tbody>\n</table>\n<p>512 rows × 25 columns</p>\n</div>"
     },
     "metadata": {},
     "output_type": "display_data"
    }
   ],
   "source": [
    "import pandas as pd\n",
    "eeg1 = pd.read_csv('eegdata1.csv', delimiter=',')\n",
    "display(eeg1)"
   ]
  },
  {
   "cell_type": "markdown",
   "metadata": {
    "collapsed": false
   },
   "source": [
    "Print de kolomnamen op van de dataset en ook de index."
   ]
  },
  {
   "cell_type": "code",
   "execution_count": 209,
   "id": "0b3d826e",
   "metadata": {},
   "outputs": [
    {
     "data": {
      "text/plain": "Index(['COUNTER', 'INTERPOLATED', 'RAW_CQ', 'AF3', 'F7', 'F3', 'FC5', 'T7',\n       'P7', 'O1', 'O2', 'P8', 'T8', 'FC6', 'F4', 'F8', 'AF4', 'GYROX',\n       'GYROY', 'TIMESTAMP', 'ES_TIMESTAMP', 'FUNC_ID', 'FUNC_VALUE', 'MARKER',\n       'SYNC_SIGNAL'],\n      dtype='object')"
     },
     "metadata": {},
     "output_type": "display_data"
    },
    {
     "data": {
      "text/plain": "RangeIndex(start=0, stop=512, step=1)"
     },
     "metadata": {},
     "output_type": "display_data"
    }
   ],
   "source": [
    "display(eeg1.columns)\n",
    "display(eeg1.index)"
   ]
  },
  {
   "cell_type": "markdown",
   "metadata": {
    "collapsed": false
   },
   "source": [
    "Print de waarden van meetpunt AF3 uit de `eeg1` dataset."
   ]
  },
  {
   "cell_type": "code",
   "execution_count": 210,
   "id": "03a753fa",
   "metadata": {},
   "outputs": [
    {
     "data": {
      "text/plain": "0      4354.358974\n1      4347.692308\n2      4341.025641\n3      4335.897436\n4      4335.384615\n          ...     \n507    4292.307692\n508    4292.307692\n509    4298.974359\n510    4303.076923\n511    4297.948718\nName: AF3, Length: 512, dtype: float64"
     },
     "metadata": {},
     "output_type": "display_data"
    }
   ],
   "source": [
    "display(eeg1.AF3)"
   ]
  },
  {
   "cell_type": "markdown",
   "metadata": {
    "collapsed": false
   },
   "source": [
    "Print nu ook het **gemiddelde, de minimum en maximum waarden** van meetpunt AF3."
   ]
  },
  {
   "cell_type": "code",
   "execution_count": 211,
   "id": "5e50f827",
   "metadata": {},
   "outputs": [
    {
     "data": {
      "text/plain": "4315.92"
     },
     "metadata": {},
     "output_type": "display_data"
    },
    {
     "data": {
      "text/plain": "4267.18"
     },
     "metadata": {},
     "output_type": "display_data"
    },
    {
     "data": {
      "text/plain": "4469.23"
     },
     "metadata": {},
     "output_type": "display_data"
    }
   ],
   "source": [
    "# 1\n",
    "display(round(eeg1['AF3'].mean(),2))\n",
    "# 2\n",
    "display(round(eeg1['AF3'].min(),2))\n",
    "# 3\n",
    "display(round(eeg1['AF3'].max(),2))"
   ]
  },
  {
   "cell_type": "markdown",
   "metadata": {
    "collapsed": false
   },
   "source": [
    "Doe hetzelfde voor de meetpunten F7 en F3."
   ]
  },
  {
   "cell_type": "code",
   "execution_count": 212,
   "id": "c689aaed",
   "metadata": {},
   "outputs": [
    {
     "data": {
      "text/plain": "4180.96"
     },
     "metadata": {},
     "output_type": "display_data"
    },
    {
     "data": {
      "text/plain": "4143.08"
     },
     "metadata": {},
     "output_type": "display_data"
    },
    {
     "data": {
      "text/plain": "4250.77"
     },
     "metadata": {},
     "output_type": "display_data"
    },
    {
     "data": {
      "text/plain": "4322.66"
     },
     "metadata": {},
     "output_type": "display_data"
    },
    {
     "data": {
      "text/plain": "4262.56"
     },
     "metadata": {},
     "output_type": "display_data"
    },
    {
     "data": {
      "text/plain": "4392.82"
     },
     "metadata": {},
     "output_type": "display_data"
    }
   ],
   "source": [
    "# 1.1\n",
    "display(round(eeg1['F7'].mean(),2))\n",
    "# 2.1\n",
    "display(round(eeg1['F7'].min(),2))\n",
    "# 3.1\n",
    "display(round(eeg1['F7'].max(),2))\n",
    "\n",
    "# 1.2\n",
    "display(round(eeg1['F3'].mean(),2))\n",
    "# 2.2\n",
    "display(round(eeg1['F3'].min(),2))\n",
    "# 3.2\n",
    "display(round(eeg1['F3'].max(),2))"
   ]
  },
  {
   "cell_type": "markdown",
   "metadata": {
    "collapsed": false
   },
   "source": [
    "Print de inhoud van de cel op positie [10, 10], print dan enkel de 4de kolom en print totslot enkel de 4de rij uit."
   ]
  },
  {
   "cell_type": "code",
   "execution_count": 213,
   "id": "0cbc919f",
   "metadata": {},
   "outputs": [
    {
     "data": {
      "text/plain": "4012.307692"
     },
     "metadata": {},
     "output_type": "display_data"
    },
    {
     "data": {
      "text/plain": "0      4354.358974\n1      4347.692308\n2      4341.025641\n3      4335.897436\n4      4335.384615\n          ...     \n507    4292.307692\n508    4292.307692\n509    4298.974359\n510    4303.076923\n511    4297.948718\nName: AF3, Length: 512, dtype: float64"
     },
     "metadata": {},
     "output_type": "display_data"
    },
    {
     "data": {
      "text/plain": "COUNTER           53.000000\nINTERPOLATED       0.000000\nRAW_CQ             0.000000\nAF3             4335.897436\nF7              4203.589744\nF3              4349.743590\nFC5             4397.435897\nT7              4362.564103\nP7              4480.000000\nO1              4594.871795\nO2              4010.256410\nP8              4430.256410\nT8              4364.102564\nFC6             4576.410256\nF4              4200.000000\nF8              4170.769231\nAF4             4969.230769\nGYROX           1593.000000\nGYROY           1737.000000\nTIMESTAMP         71.864000\nES_TIMESTAMP      14.528111\nFUNC_ID            0.000000\nFUNC_VALUE         0.000000\nMARKER             0.000000\nSYNC_SIGNAL        0.000000\nName: 3, dtype: float64"
     },
     "metadata": {},
     "output_type": "display_data"
    }
   ],
   "source": [
    "# 1\n",
    "display(eeg1.iloc[10][10])\n",
    "# 2\n",
    "display(eeg1.iloc[:,3])\n",
    "# 3\n",
    "display(eeg1.iloc[3])"
   ]
  },
  {
   "cell_type": "markdown",
   "metadata": {
    "collapsed": false
   },
   "source": [
    "Vraag de waarde van cel [1,1] op, verander ze daarna naar 120 en controleer of de waarde veranderd is."
   ]
  },
  {
   "cell_type": "code",
   "execution_count": 214,
   "id": "39ea292f",
   "metadata": {},
   "outputs": [
    {
     "name": "stdout",
     "output_type": "stream",
     "text": [
      "Old value: 0\n",
      "New value: 120\n",
      "Value has changed.\n"
     ]
    }
   ],
   "source": [
    "# Get the value of cell [1,1]\n",
    "old_value = eeg1.iloc[1, 1]\n",
    "print(\"Old value:\", old_value)\n",
    "\n",
    "# Change the value of cell [1,1] to 120\n",
    "eeg1.iloc[1, 1] = 120\n",
    "\n",
    "# Check if the value has changed\n",
    "new_value = eeg1.iloc[1, 1]\n",
    "print(\"New value:\", new_value)\n",
    "\n",
    "if new_value == old_value:\n",
    "    print(\"Value has not changed.\")\n",
    "else:\n",
    "    print(\"Value has changed.\")"
   ]
  },
  {
   "cell_type": "markdown",
   "metadata": {
    "collapsed": false
   },
   "source": [
    "Print de waarden van kolommen TIMESTAMP kolom uit als een series-object."
   ]
  },
  {
   "cell_type": "code",
   "execution_count": 215,
   "id": "5b7ebfc7",
   "metadata": {},
   "outputs": [
    {
     "name": "stdout",
     "output_type": "stream",
     "text": [
      "0      71.840\n",
      "1      71.848\n",
      "2      71.856\n",
      "3      71.864\n",
      "4      71.872\n",
      "        ...  \n",
      "507    75.804\n",
      "508    75.812\n",
      "509    75.820\n",
      "510    75.827\n",
      "511    75.835\n",
      "Length: 512, dtype: float64\n"
     ]
    }
   ],
   "source": [
    "# Print the TIMESTAMP column as a Series object\n",
    "timestamps = pd.Series(eeg1['TIMESTAMP'].values)\n",
    "print(timestamps)"
   ]
  },
  {
   "cell_type": "markdown",
   "metadata": {
    "collapsed": false
   },
   "source": [
    "Print de waarden van kolommen TIMESTAMP kolom uit als een dataframe-object. Gebruik een list van strings om te indexeren i.p.v. alleen een string."
   ]
  },
  {
   "cell_type": "code",
   "execution_count": 216,
   "id": "0e48dde3",
   "metadata": {},
   "outputs": [
    {
     "name": "stdout",
     "output_type": "stream",
     "text": [
      "     TIMESTAMP\n",
      "0       71.840\n",
      "1       71.848\n",
      "2       71.856\n",
      "3       71.864\n",
      "4       71.872\n",
      "..         ...\n",
      "507     75.804\n",
      "508     75.812\n",
      "509     75.820\n",
      "510     75.827\n",
      "511     75.835\n",
      "\n",
      "[512 rows x 1 columns]\n"
     ]
    }
   ],
   "source": [
    "# Print the TIMESTAMP column as a DataFrame object\n",
    "timestamps = pd.DataFrame(eeg1.loc[:, ['TIMESTAMP']])\n",
    "print(timestamps)"
   ]
  },
  {
   "cell_type": "markdown",
   "metadata": {
    "collapsed": false
   },
   "source": [
    "Lees dataset eegdata4.csv in een dataframe genaamd `eeg4` en bekijk de NA-waarden van deze dataset. Hoeveel vind je er per kolom? Hoeveel vind je er in totaal?"
   ]
  },
  {
   "cell_type": "code",
   "execution_count": 217,
   "id": "8b092b87",
   "metadata": {},
   "outputs": [
    {
     "name": "stdout",
     "output_type": "stream",
     "text": [
      "Missing values per column:\n",
      "COUNTER         0\n",
      "INTERPOLATED    0\n",
      "RAW_CQ          0\n",
      "AF3             1\n",
      "F7              0\n",
      "F3              0\n",
      "FC5             0\n",
      "T7              0\n",
      "P7              1\n",
      "O1              0\n",
      "O2              1\n",
      "P8              0\n",
      "T8              0\n",
      "FC6             0\n",
      "F4              0\n",
      "F8              0\n",
      "AF4             0\n",
      "GYROX           0\n",
      "GYROY           0\n",
      "TIMESTAMP       0\n",
      "ES_TIMESTAMP    0\n",
      "FUNC_ID         0\n",
      "FUNC_VALUE      0\n",
      "MARKER          0\n",
      "SYNC_SIGNAL     0\n",
      "dtype: int64\n",
      "\n",
      "Total number of missing values: 3\n"
     ]
    }
   ],
   "source": [
    "eeg4 = pd.read_csv('eegdata4.csv', delimiter=',')\n",
    "\n",
    "# Count the number of missing values per column\n",
    "missing_per_column = eeg4.isna().sum()\n",
    "\n",
    "# Count the total number of missing values\n",
    "total_missing = eeg4.isna().sum().sum()\n",
    "\n",
    "# Print the results\n",
    "print(\"Missing values per column:\")\n",
    "print(missing_per_column)\n",
    "print(\"\\nTotal number of missing values:\", total_missing)"
   ]
  },
  {
   "cell_type": "markdown",
   "metadata": {
    "collapsed": false
   },
   "source": [
    "Verander de NA-waarden naar de waarde -1, maar sla het resultaat niet op in het originele dataframe (dus voer de veranderingen niet door). Controleer of er dan effectief geen NA-waarden meer aanwezig zijn in het resulterende dataframe."
   ]
  },
  {
   "cell_type": "code",
   "execution_count": 218,
   "id": "87d8d9a4",
   "metadata": {},
   "outputs": [
    {
     "name": "stdout",
     "output_type": "stream",
     "text": [
      "Missing values per column:\n",
      "COUNTER         0\n",
      "INTERPOLATED    0\n",
      "RAW_CQ          0\n",
      "AF3             0\n",
      "F7              0\n",
      "F3              0\n",
      "FC5             0\n",
      "T7              0\n",
      "P7              0\n",
      "O1              0\n",
      "O2              0\n",
      "P8              0\n",
      "T8              0\n",
      "FC6             0\n",
      "F4              0\n",
      "F8              0\n",
      "AF4             0\n",
      "GYROX           0\n",
      "GYROY           0\n",
      "TIMESTAMP       0\n",
      "ES_TIMESTAMP    0\n",
      "FUNC_ID         0\n",
      "FUNC_VALUE      0\n",
      "MARKER          0\n",
      "SYNC_SIGNAL     0\n",
      "dtype: int64\n",
      "\n",
      "Total number of missing values: 0\n"
     ]
    }
   ],
   "source": [
    "# Load CSV data into a pandas DataFrame\n",
    "eeg4 = pd.read_csv('eegdata4.csv')\n",
    "\n",
    "# Replace missing values with -1\n",
    "eeg4_filled = eeg4.fillna(-1, inplace=False)\n",
    "\n",
    "# Check for missing values in the resulting DataFrame\n",
    "# Count the number of missing values per column\n",
    "missing_per_column = eeg4_filled.isna().sum()\n",
    "\n",
    "# Count the total number of missing values\n",
    "total_missing = eeg4_filled.isna().sum().sum()\n",
    "\n",
    "# Print the results\n",
    "print(\"Missing values per column:\")\n",
    "print(missing_per_column)\n",
    "print(\"\\nTotal number of missing values:\", total_missing)"
   ]
  },
  {
   "cell_type": "markdown",
   "metadata": {
    "collapsed": false
   },
   "source": [
    "Verwijder nu alle rijen met een NA waarde met één commando, maar sla het resultaat ditmaal op in een nieuw dataframe genaamd eeg4_zonder_na."
   ]
  },
  {
   "cell_type": "code",
   "execution_count": 219,
   "id": "f416fccb",
   "metadata": {},
   "outputs": [
    {
     "name": "stdout",
     "output_type": "stream",
     "text": [
      "Missing values per column:\n",
      "COUNTER         0\n",
      "INTERPOLATED    0\n",
      "RAW_CQ          0\n",
      "AF3             0\n",
      "F7              0\n",
      "F3              0\n",
      "FC5             0\n",
      "T7              0\n",
      "P7              0\n",
      "O1              0\n",
      "O2              0\n",
      "P8              0\n",
      "T8              0\n",
      "FC6             0\n",
      "F4              0\n",
      "F8              0\n",
      "AF4             0\n",
      "GYROX           0\n",
      "GYROY           0\n",
      "TIMESTAMP       0\n",
      "ES_TIMESTAMP    0\n",
      "FUNC_ID         0\n",
      "FUNC_VALUE      0\n",
      "MARKER          0\n",
      "SYNC_SIGNAL     0\n",
      "dtype: int64\n",
      "\n",
      "Total number of missing values: 0\n"
     ]
    }
   ],
   "source": [
    "# Drop rows with missing values and save the result to a new DataFrame\n",
    "eeg4_zonder_na = eeg4.dropna()\n",
    "\n",
    "# Check for missing values in the resulting DataFrame\n",
    "# Count the number of missing values per column\n",
    "missing_per_column = eeg4_filled.isna().sum()\n",
    "\n",
    "# Count the total number of missing values\n",
    "total_missing = eeg4_filled.isna().sum().sum()\n",
    "\n",
    "# Print the results\n",
    "print(\"Missing values per column:\")\n",
    "print(missing_per_column)\n",
    "print(\"\\nTotal number of missing values:\", total_missing)"
   ]
  },
  {
   "cell_type": "markdown",
   "metadata": {
    "collapsed": false
   },
   "source": [
    "Maak een nieuw dataframe, enkel de kolommen 4 tm 17."
   ]
  },
  {
   "cell_type": "code",
   "execution_count": 220,
   "id": "8daa7e58",
   "metadata": {},
   "outputs": [
    {
     "data": {
      "text/plain": "             F7           F3          FC5           T7           P7  \\\n0   4220.000000  4356.410256  4400.000000  4369.743590  4481.538462   \n1   4215.897436  4348.717949  4397.948718  4367.692308  4480.000000   \n2   4206.153846  4348.205128  4394.358974  4364.102564  4476.923077   \n3   4203.589744  4349.743590  4397.435897  4362.564103  4480.000000   \n4   4205.641026  4345.128205  4399.487179  4365.641026  4485.641026   \n5   4201.538462  4342.051282  4398.461538  4367.179487  4487.692308   \n6   4200.512821  4347.692308  4400.512821  4367.692308  4491.794872   \n7   4203.076923  4351.794872  4398.461538  4367.692308  4493.333333   \n8   4202.051282  4349.743590  4394.358974  4366.666667  4488.205128   \n9   4202.051282  4348.205128  4396.410256  4365.128205  4484.102564   \n10  4206.153846  4353.846154  4402.051282  4366.153846  4481.538462   \n11  4209.743590  4358.461538  4406.666667  4366.153846  4480.512821   \n12  4206.666667  4351.282051  4404.102564  4368.717949  4480.000000   \n13  4203.589744  4341.025641  4395.897436  4374.358974  4477.435897   \n14  4204.102564  4335.384615  4395.897436  4373.333333  4471.794872   \n15  4204.102564  4335.384615  4402.051282  4368.205128  4471.282051   \n16  4206.666667  4343.589744  4406.153846  4369.230769  4476.410256   \n17  4207.692308  4343.076923  4403.076923  4369.230769  4474.358974   \n18  4196.410256  4325.641026  4390.769231  4362.051282  4466.153846   \n19  4188.205128  4318.461538  4388.205128  4358.974359  4466.153846   \n20  4194.871795  4328.205128  4396.923077  4360.512821  4469.743590   \n21  4195.384615  4327.692308  4394.871795  4358.461538          NaN   \n22  4184.102564  4322.051282  4386.666667  4354.358974  4469.230769   \n23  4181.025641  4328.205128  4390.769231  4353.333333  4474.358974   \n24  4191.282051  4339.487179  4398.461538  4356.410256  4477.948718   \n25  4202.051282  4346.153846  4397.435897  4358.461538  4476.923077   \n26  4208.205128  4350.769231  4402.051282  4356.410256  4466.666667   \n27  4213.333333  4358.461538  4409.743590  4353.846154  4455.897436   \n28  4217.948718  4369.230769  4412.820513  4352.820513  4452.307692   \n29  4227.179487  4381.538462  4414.871795  4354.871795  4450.256410   \n30  4238.974359  4386.666667  4417.948718  4354.358974  4442.051282   \n31  4238.974359  4382.051282  4415.897436  4350.769231  4441.538462   \n32  4229.743590  4375.897436  4411.282051  4351.282051  4447.692308   \n33  4222.051282  4369.230769  4408.205128  4354.871795  4452.307692   \n34  4215.897436  4357.435897  4405.128205  4354.358974  4454.358974   \n35  4205.641026  4345.641026  4400.000000  4351.794872  4454.358974   \n36  4198.974359  4338.974359  4397.435897  4353.846154  4454.358974   \n37  4196.923077  4336.410256  4394.358974  4355.897436  4456.410256   \n38  4192.307692  4333.846154  4392.307692  4349.743590  4459.487179   \n\n             O1           O2           P8           T8          FC6  \\\n0   4601.025641  4024.102564  4436.410256  4396.923077  4599.487179   \n1   4596.410256  4024.102564  4434.871795  4384.615385  4595.897436   \n2   4590.769231  4016.410256  4432.820513  4369.743590  4586.153846   \n3   4594.871795  4010.256410  4430.256410  4364.102564  4576.410256   \n4   4600.512821  4014.358974  4431.282051  4363.589744  4571.794872   \n5   4602.564103  4020.000000  4432.820513  4355.897436  4569.230769   \n6   4607.692308  4024.102564  4437.435897  4353.846154  4571.794872   \n7   4610.256410  4026.153846  4441.538462  4362.564103  4574.871795   \n8   4604.102564  4024.102564  4436.410256  4360.512821  4570.256410   \n9   4596.410256  4015.897436  4428.717949  4351.794872  4566.666667   \n10  4593.333333  4012.307692  4432.307692  4354.358974  4569.743590   \n11  4591.794872  4014.358974  4436.410256  4354.358974  4566.666667   \n12  4593.333333  4014.871795  4431.282051  4344.615385  4558.461538   \n13  4595.897436  4014.871795  4430.256410  4342.051282  4554.358974   \n14  4592.307692  4012.820513  4429.230769  4334.358974  4547.692308   \n15  4587.179487  4010.256410  4426.153846  4316.410256  4538.461538   \n16  4591.794872  4011.794872  4428.717949  4316.923077  4539.487179   \n17  4592.820513  4012.307692  4429.230769  4324.102564  4541.025641   \n18  4583.589744  4005.641026  4424.102564  4304.102564  4528.205128   \n19  4577.435897  4001.025641  4422.051282  4281.025641  4513.333333   \n20  4578.974359  4000.000000  4424.102564  4278.974359  4507.692308   \n21  4580.000000  4003.589744  4424.102564  4280.000000  4506.666667   \n22  4584.615385  4010.769231  4425.128205  4274.358974  4502.051282   \n23  4589.743590  4011.794872  4428.717949  4272.307692  4501.025641   \n24  4590.769231  4012.307692  4430.256410  4282.564103  4507.692308   \n25  4586.666667  4012.307692  4429.743590  4302.051282  4518.461538   \n26  4580.512821  4007.179487  4427.692308  4314.871795  4528.205128   \n27  4578.461538  4007.179487  4424.102564  4320.000000  4533.333333   \n28  4582.051282  4011.794872  4421.025641  4332.307692  4539.487179   \n29  4586.153846  4010.769231  4424.102564  4349.230769  4549.230769   \n30  4583.589744  4008.717949  4425.641026  4364.102564  4563.076923   \n31  4580.000000  4009.743590  4422.564103  4375.897436  4572.307692   \n32  4582.051282  4008.717949  4424.102564  4381.025641  4572.820513   \n33  4587.692308  4008.717949  4423.589744  4375.897436  4573.846154   \n34  4584.102564  4007.692308  4420.512821  4361.538462  4565.128205   \n35  4576.410256  4003.076923  4416.923077  4336.923077  4541.538462   \n36  4577.948718  4001.025641  4413.846154  4307.692308  4522.564103   \n37  4581.538462  3998.974359  4412.307692  4286.666667  4512.820513   \n38  4580.512821          NaN  4411.794872  4276.410256  4498.974359   \n\n             F4           F8          AF4  \n0   4205.641026  4188.717949  4990.769231  \n1   4203.589744  4183.589744  4980.512821  \n2   4200.000000  4173.333333  4972.307692  \n3   4200.000000  4170.769231  4969.230769  \n4   4202.564103  4170.256410  4964.102564  \n5   4196.410256  4166.153846  4956.410256  \n6   4199.487179  4168.717949  4960.512821  \n7   4212.820513  4172.307692  4968.205128  \n8   4214.871795  4169.743590  4965.641026  \n9   4209.230769  4171.282051  4965.641026  \n10  4213.333333  4174.358974  4970.769231  \n11  4220.000000  4168.205128  4964.102564  \n12  4216.410256  4160.512821  4954.358974  \n13  4210.769231  4162.564103  4960.000000  \n14  4209.230769  4162.564103  4961.025641  \n15  4211.282051  4157.435897  4947.179487  \n16  4218.461538  4162.564103  4949.743590  \n17  4221.538462  4167.179487  4961.025641  \n18  4215.897436  4157.948718  4950.769231  \n19  4212.820513  4151.282051  4937.948718  \n20  4216.923077  4154.358974  4944.615385  \n21  4217.435897  4157.948718  4951.282051  \n22  4217.435897  4159.487179  4953.333333  \n23  4227.692308  4164.615385  4960.000000  \n24  4238.461538  4174.871795  4971.282051  \n25  4243.589744  4188.205128  4988.205128  \n26  4251.282051  4200.000000  5006.153846  \n27  4258.974359  4210.256410  5021.025641  \n28  4263.589744  4218.461538  5033.846154  \n29  4272.307692  4227.179487  5047.692308  \n30  4284.102564  4239.487179  5062.051282  \n31  4289.743590  4247.692308  5068.205128  \n32  4291.794872  4245.128205  5061.025641  \n33  4290.256410  4235.897436  5049.743590  \n34  4283.589744  4219.487179  5030.769231  \n35  4276.410256  4196.410256  5002.564103  \n36  4274.358974  4176.923077  4982.051282  \n37  4275.897436  4168.205128  4972.307692  \n38  4276.410256  4165.128205  4965.641026  ",
      "text/html": "<div>\n<style scoped>\n    .dataframe tbody tr th:only-of-type {\n        vertical-align: middle;\n    }\n\n    .dataframe tbody tr th {\n        vertical-align: top;\n    }\n\n    .dataframe thead th {\n        text-align: right;\n    }\n</style>\n<table border=\"1\" class=\"dataframe\">\n  <thead>\n    <tr style=\"text-align: right;\">\n      <th></th>\n      <th>F7</th>\n      <th>F3</th>\n      <th>FC5</th>\n      <th>T7</th>\n      <th>P7</th>\n      <th>O1</th>\n      <th>O2</th>\n      <th>P8</th>\n      <th>T8</th>\n      <th>FC6</th>\n      <th>F4</th>\n      <th>F8</th>\n      <th>AF4</th>\n    </tr>\n  </thead>\n  <tbody>\n    <tr>\n      <th>0</th>\n      <td>4220.000000</td>\n      <td>4356.410256</td>\n      <td>4400.000000</td>\n      <td>4369.743590</td>\n      <td>4481.538462</td>\n      <td>4601.025641</td>\n      <td>4024.102564</td>\n      <td>4436.410256</td>\n      <td>4396.923077</td>\n      <td>4599.487179</td>\n      <td>4205.641026</td>\n      <td>4188.717949</td>\n      <td>4990.769231</td>\n    </tr>\n    <tr>\n      <th>1</th>\n      <td>4215.897436</td>\n      <td>4348.717949</td>\n      <td>4397.948718</td>\n      <td>4367.692308</td>\n      <td>4480.000000</td>\n      <td>4596.410256</td>\n      <td>4024.102564</td>\n      <td>4434.871795</td>\n      <td>4384.615385</td>\n      <td>4595.897436</td>\n      <td>4203.589744</td>\n      <td>4183.589744</td>\n      <td>4980.512821</td>\n    </tr>\n    <tr>\n      <th>2</th>\n      <td>4206.153846</td>\n      <td>4348.205128</td>\n      <td>4394.358974</td>\n      <td>4364.102564</td>\n      <td>4476.923077</td>\n      <td>4590.769231</td>\n      <td>4016.410256</td>\n      <td>4432.820513</td>\n      <td>4369.743590</td>\n      <td>4586.153846</td>\n      <td>4200.000000</td>\n      <td>4173.333333</td>\n      <td>4972.307692</td>\n    </tr>\n    <tr>\n      <th>3</th>\n      <td>4203.589744</td>\n      <td>4349.743590</td>\n      <td>4397.435897</td>\n      <td>4362.564103</td>\n      <td>4480.000000</td>\n      <td>4594.871795</td>\n      <td>4010.256410</td>\n      <td>4430.256410</td>\n      <td>4364.102564</td>\n      <td>4576.410256</td>\n      <td>4200.000000</td>\n      <td>4170.769231</td>\n      <td>4969.230769</td>\n    </tr>\n    <tr>\n      <th>4</th>\n      <td>4205.641026</td>\n      <td>4345.128205</td>\n      <td>4399.487179</td>\n      <td>4365.641026</td>\n      <td>4485.641026</td>\n      <td>4600.512821</td>\n      <td>4014.358974</td>\n      <td>4431.282051</td>\n      <td>4363.589744</td>\n      <td>4571.794872</td>\n      <td>4202.564103</td>\n      <td>4170.256410</td>\n      <td>4964.102564</td>\n    </tr>\n    <tr>\n      <th>5</th>\n      <td>4201.538462</td>\n      <td>4342.051282</td>\n      <td>4398.461538</td>\n      <td>4367.179487</td>\n      <td>4487.692308</td>\n      <td>4602.564103</td>\n      <td>4020.000000</td>\n      <td>4432.820513</td>\n      <td>4355.897436</td>\n      <td>4569.230769</td>\n      <td>4196.410256</td>\n      <td>4166.153846</td>\n      <td>4956.410256</td>\n    </tr>\n    <tr>\n      <th>6</th>\n      <td>4200.512821</td>\n      <td>4347.692308</td>\n      <td>4400.512821</td>\n      <td>4367.692308</td>\n      <td>4491.794872</td>\n      <td>4607.692308</td>\n      <td>4024.102564</td>\n      <td>4437.435897</td>\n      <td>4353.846154</td>\n      <td>4571.794872</td>\n      <td>4199.487179</td>\n      <td>4168.717949</td>\n      <td>4960.512821</td>\n    </tr>\n    <tr>\n      <th>7</th>\n      <td>4203.076923</td>\n      <td>4351.794872</td>\n      <td>4398.461538</td>\n      <td>4367.692308</td>\n      <td>4493.333333</td>\n      <td>4610.256410</td>\n      <td>4026.153846</td>\n      <td>4441.538462</td>\n      <td>4362.564103</td>\n      <td>4574.871795</td>\n      <td>4212.820513</td>\n      <td>4172.307692</td>\n      <td>4968.205128</td>\n    </tr>\n    <tr>\n      <th>8</th>\n      <td>4202.051282</td>\n      <td>4349.743590</td>\n      <td>4394.358974</td>\n      <td>4366.666667</td>\n      <td>4488.205128</td>\n      <td>4604.102564</td>\n      <td>4024.102564</td>\n      <td>4436.410256</td>\n      <td>4360.512821</td>\n      <td>4570.256410</td>\n      <td>4214.871795</td>\n      <td>4169.743590</td>\n      <td>4965.641026</td>\n    </tr>\n    <tr>\n      <th>9</th>\n      <td>4202.051282</td>\n      <td>4348.205128</td>\n      <td>4396.410256</td>\n      <td>4365.128205</td>\n      <td>4484.102564</td>\n      <td>4596.410256</td>\n      <td>4015.897436</td>\n      <td>4428.717949</td>\n      <td>4351.794872</td>\n      <td>4566.666667</td>\n      <td>4209.230769</td>\n      <td>4171.282051</td>\n      <td>4965.641026</td>\n    </tr>\n    <tr>\n      <th>10</th>\n      <td>4206.153846</td>\n      <td>4353.846154</td>\n      <td>4402.051282</td>\n      <td>4366.153846</td>\n      <td>4481.538462</td>\n      <td>4593.333333</td>\n      <td>4012.307692</td>\n      <td>4432.307692</td>\n      <td>4354.358974</td>\n      <td>4569.743590</td>\n      <td>4213.333333</td>\n      <td>4174.358974</td>\n      <td>4970.769231</td>\n    </tr>\n    <tr>\n      <th>11</th>\n      <td>4209.743590</td>\n      <td>4358.461538</td>\n      <td>4406.666667</td>\n      <td>4366.153846</td>\n      <td>4480.512821</td>\n      <td>4591.794872</td>\n      <td>4014.358974</td>\n      <td>4436.410256</td>\n      <td>4354.358974</td>\n      <td>4566.666667</td>\n      <td>4220.000000</td>\n      <td>4168.205128</td>\n      <td>4964.102564</td>\n    </tr>\n    <tr>\n      <th>12</th>\n      <td>4206.666667</td>\n      <td>4351.282051</td>\n      <td>4404.102564</td>\n      <td>4368.717949</td>\n      <td>4480.000000</td>\n      <td>4593.333333</td>\n      <td>4014.871795</td>\n      <td>4431.282051</td>\n      <td>4344.615385</td>\n      <td>4558.461538</td>\n      <td>4216.410256</td>\n      <td>4160.512821</td>\n      <td>4954.358974</td>\n    </tr>\n    <tr>\n      <th>13</th>\n      <td>4203.589744</td>\n      <td>4341.025641</td>\n      <td>4395.897436</td>\n      <td>4374.358974</td>\n      <td>4477.435897</td>\n      <td>4595.897436</td>\n      <td>4014.871795</td>\n      <td>4430.256410</td>\n      <td>4342.051282</td>\n      <td>4554.358974</td>\n      <td>4210.769231</td>\n      <td>4162.564103</td>\n      <td>4960.000000</td>\n    </tr>\n    <tr>\n      <th>14</th>\n      <td>4204.102564</td>\n      <td>4335.384615</td>\n      <td>4395.897436</td>\n      <td>4373.333333</td>\n      <td>4471.794872</td>\n      <td>4592.307692</td>\n      <td>4012.820513</td>\n      <td>4429.230769</td>\n      <td>4334.358974</td>\n      <td>4547.692308</td>\n      <td>4209.230769</td>\n      <td>4162.564103</td>\n      <td>4961.025641</td>\n    </tr>\n    <tr>\n      <th>15</th>\n      <td>4204.102564</td>\n      <td>4335.384615</td>\n      <td>4402.051282</td>\n      <td>4368.205128</td>\n      <td>4471.282051</td>\n      <td>4587.179487</td>\n      <td>4010.256410</td>\n      <td>4426.153846</td>\n      <td>4316.410256</td>\n      <td>4538.461538</td>\n      <td>4211.282051</td>\n      <td>4157.435897</td>\n      <td>4947.179487</td>\n    </tr>\n    <tr>\n      <th>16</th>\n      <td>4206.666667</td>\n      <td>4343.589744</td>\n      <td>4406.153846</td>\n      <td>4369.230769</td>\n      <td>4476.410256</td>\n      <td>4591.794872</td>\n      <td>4011.794872</td>\n      <td>4428.717949</td>\n      <td>4316.923077</td>\n      <td>4539.487179</td>\n      <td>4218.461538</td>\n      <td>4162.564103</td>\n      <td>4949.743590</td>\n    </tr>\n    <tr>\n      <th>17</th>\n      <td>4207.692308</td>\n      <td>4343.076923</td>\n      <td>4403.076923</td>\n      <td>4369.230769</td>\n      <td>4474.358974</td>\n      <td>4592.820513</td>\n      <td>4012.307692</td>\n      <td>4429.230769</td>\n      <td>4324.102564</td>\n      <td>4541.025641</td>\n      <td>4221.538462</td>\n      <td>4167.179487</td>\n      <td>4961.025641</td>\n    </tr>\n    <tr>\n      <th>18</th>\n      <td>4196.410256</td>\n      <td>4325.641026</td>\n      <td>4390.769231</td>\n      <td>4362.051282</td>\n      <td>4466.153846</td>\n      <td>4583.589744</td>\n      <td>4005.641026</td>\n      <td>4424.102564</td>\n      <td>4304.102564</td>\n      <td>4528.205128</td>\n      <td>4215.897436</td>\n      <td>4157.948718</td>\n      <td>4950.769231</td>\n    </tr>\n    <tr>\n      <th>19</th>\n      <td>4188.205128</td>\n      <td>4318.461538</td>\n      <td>4388.205128</td>\n      <td>4358.974359</td>\n      <td>4466.153846</td>\n      <td>4577.435897</td>\n      <td>4001.025641</td>\n      <td>4422.051282</td>\n      <td>4281.025641</td>\n      <td>4513.333333</td>\n      <td>4212.820513</td>\n      <td>4151.282051</td>\n      <td>4937.948718</td>\n    </tr>\n    <tr>\n      <th>20</th>\n      <td>4194.871795</td>\n      <td>4328.205128</td>\n      <td>4396.923077</td>\n      <td>4360.512821</td>\n      <td>4469.743590</td>\n      <td>4578.974359</td>\n      <td>4000.000000</td>\n      <td>4424.102564</td>\n      <td>4278.974359</td>\n      <td>4507.692308</td>\n      <td>4216.923077</td>\n      <td>4154.358974</td>\n      <td>4944.615385</td>\n    </tr>\n    <tr>\n      <th>21</th>\n      <td>4195.384615</td>\n      <td>4327.692308</td>\n      <td>4394.871795</td>\n      <td>4358.461538</td>\n      <td>NaN</td>\n      <td>4580.000000</td>\n      <td>4003.589744</td>\n      <td>4424.102564</td>\n      <td>4280.000000</td>\n      <td>4506.666667</td>\n      <td>4217.435897</td>\n      <td>4157.948718</td>\n      <td>4951.282051</td>\n    </tr>\n    <tr>\n      <th>22</th>\n      <td>4184.102564</td>\n      <td>4322.051282</td>\n      <td>4386.666667</td>\n      <td>4354.358974</td>\n      <td>4469.230769</td>\n      <td>4584.615385</td>\n      <td>4010.769231</td>\n      <td>4425.128205</td>\n      <td>4274.358974</td>\n      <td>4502.051282</td>\n      <td>4217.435897</td>\n      <td>4159.487179</td>\n      <td>4953.333333</td>\n    </tr>\n    <tr>\n      <th>23</th>\n      <td>4181.025641</td>\n      <td>4328.205128</td>\n      <td>4390.769231</td>\n      <td>4353.333333</td>\n      <td>4474.358974</td>\n      <td>4589.743590</td>\n      <td>4011.794872</td>\n      <td>4428.717949</td>\n      <td>4272.307692</td>\n      <td>4501.025641</td>\n      <td>4227.692308</td>\n      <td>4164.615385</td>\n      <td>4960.000000</td>\n    </tr>\n    <tr>\n      <th>24</th>\n      <td>4191.282051</td>\n      <td>4339.487179</td>\n      <td>4398.461538</td>\n      <td>4356.410256</td>\n      <td>4477.948718</td>\n      <td>4590.769231</td>\n      <td>4012.307692</td>\n      <td>4430.256410</td>\n      <td>4282.564103</td>\n      <td>4507.692308</td>\n      <td>4238.461538</td>\n      <td>4174.871795</td>\n      <td>4971.282051</td>\n    </tr>\n    <tr>\n      <th>25</th>\n      <td>4202.051282</td>\n      <td>4346.153846</td>\n      <td>4397.435897</td>\n      <td>4358.461538</td>\n      <td>4476.923077</td>\n      <td>4586.666667</td>\n      <td>4012.307692</td>\n      <td>4429.743590</td>\n      <td>4302.051282</td>\n      <td>4518.461538</td>\n      <td>4243.589744</td>\n      <td>4188.205128</td>\n      <td>4988.205128</td>\n    </tr>\n    <tr>\n      <th>26</th>\n      <td>4208.205128</td>\n      <td>4350.769231</td>\n      <td>4402.051282</td>\n      <td>4356.410256</td>\n      <td>4466.666667</td>\n      <td>4580.512821</td>\n      <td>4007.179487</td>\n      <td>4427.692308</td>\n      <td>4314.871795</td>\n      <td>4528.205128</td>\n      <td>4251.282051</td>\n      <td>4200.000000</td>\n      <td>5006.153846</td>\n    </tr>\n    <tr>\n      <th>27</th>\n      <td>4213.333333</td>\n      <td>4358.461538</td>\n      <td>4409.743590</td>\n      <td>4353.846154</td>\n      <td>4455.897436</td>\n      <td>4578.461538</td>\n      <td>4007.179487</td>\n      <td>4424.102564</td>\n      <td>4320.000000</td>\n      <td>4533.333333</td>\n      <td>4258.974359</td>\n      <td>4210.256410</td>\n      <td>5021.025641</td>\n    </tr>\n    <tr>\n      <th>28</th>\n      <td>4217.948718</td>\n      <td>4369.230769</td>\n      <td>4412.820513</td>\n      <td>4352.820513</td>\n      <td>4452.307692</td>\n      <td>4582.051282</td>\n      <td>4011.794872</td>\n      <td>4421.025641</td>\n      <td>4332.307692</td>\n      <td>4539.487179</td>\n      <td>4263.589744</td>\n      <td>4218.461538</td>\n      <td>5033.846154</td>\n    </tr>\n    <tr>\n      <th>29</th>\n      <td>4227.179487</td>\n      <td>4381.538462</td>\n      <td>4414.871795</td>\n      <td>4354.871795</td>\n      <td>4450.256410</td>\n      <td>4586.153846</td>\n      <td>4010.769231</td>\n      <td>4424.102564</td>\n      <td>4349.230769</td>\n      <td>4549.230769</td>\n      <td>4272.307692</td>\n      <td>4227.179487</td>\n      <td>5047.692308</td>\n    </tr>\n    <tr>\n      <th>30</th>\n      <td>4238.974359</td>\n      <td>4386.666667</td>\n      <td>4417.948718</td>\n      <td>4354.358974</td>\n      <td>4442.051282</td>\n      <td>4583.589744</td>\n      <td>4008.717949</td>\n      <td>4425.641026</td>\n      <td>4364.102564</td>\n      <td>4563.076923</td>\n      <td>4284.102564</td>\n      <td>4239.487179</td>\n      <td>5062.051282</td>\n    </tr>\n    <tr>\n      <th>31</th>\n      <td>4238.974359</td>\n      <td>4382.051282</td>\n      <td>4415.897436</td>\n      <td>4350.769231</td>\n      <td>4441.538462</td>\n      <td>4580.000000</td>\n      <td>4009.743590</td>\n      <td>4422.564103</td>\n      <td>4375.897436</td>\n      <td>4572.307692</td>\n      <td>4289.743590</td>\n      <td>4247.692308</td>\n      <td>5068.205128</td>\n    </tr>\n    <tr>\n      <th>32</th>\n      <td>4229.743590</td>\n      <td>4375.897436</td>\n      <td>4411.282051</td>\n      <td>4351.282051</td>\n      <td>4447.692308</td>\n      <td>4582.051282</td>\n      <td>4008.717949</td>\n      <td>4424.102564</td>\n      <td>4381.025641</td>\n      <td>4572.820513</td>\n      <td>4291.794872</td>\n      <td>4245.128205</td>\n      <td>5061.025641</td>\n    </tr>\n    <tr>\n      <th>33</th>\n      <td>4222.051282</td>\n      <td>4369.230769</td>\n      <td>4408.205128</td>\n      <td>4354.871795</td>\n      <td>4452.307692</td>\n      <td>4587.692308</td>\n      <td>4008.717949</td>\n      <td>4423.589744</td>\n      <td>4375.897436</td>\n      <td>4573.846154</td>\n      <td>4290.256410</td>\n      <td>4235.897436</td>\n      <td>5049.743590</td>\n    </tr>\n    <tr>\n      <th>34</th>\n      <td>4215.897436</td>\n      <td>4357.435897</td>\n      <td>4405.128205</td>\n      <td>4354.358974</td>\n      <td>4454.358974</td>\n      <td>4584.102564</td>\n      <td>4007.692308</td>\n      <td>4420.512821</td>\n      <td>4361.538462</td>\n      <td>4565.128205</td>\n      <td>4283.589744</td>\n      <td>4219.487179</td>\n      <td>5030.769231</td>\n    </tr>\n    <tr>\n      <th>35</th>\n      <td>4205.641026</td>\n      <td>4345.641026</td>\n      <td>4400.000000</td>\n      <td>4351.794872</td>\n      <td>4454.358974</td>\n      <td>4576.410256</td>\n      <td>4003.076923</td>\n      <td>4416.923077</td>\n      <td>4336.923077</td>\n      <td>4541.538462</td>\n      <td>4276.410256</td>\n      <td>4196.410256</td>\n      <td>5002.564103</td>\n    </tr>\n    <tr>\n      <th>36</th>\n      <td>4198.974359</td>\n      <td>4338.974359</td>\n      <td>4397.435897</td>\n      <td>4353.846154</td>\n      <td>4454.358974</td>\n      <td>4577.948718</td>\n      <td>4001.025641</td>\n      <td>4413.846154</td>\n      <td>4307.692308</td>\n      <td>4522.564103</td>\n      <td>4274.358974</td>\n      <td>4176.923077</td>\n      <td>4982.051282</td>\n    </tr>\n    <tr>\n      <th>37</th>\n      <td>4196.923077</td>\n      <td>4336.410256</td>\n      <td>4394.358974</td>\n      <td>4355.897436</td>\n      <td>4456.410256</td>\n      <td>4581.538462</td>\n      <td>3998.974359</td>\n      <td>4412.307692</td>\n      <td>4286.666667</td>\n      <td>4512.820513</td>\n      <td>4275.897436</td>\n      <td>4168.205128</td>\n      <td>4972.307692</td>\n    </tr>\n    <tr>\n      <th>38</th>\n      <td>4192.307692</td>\n      <td>4333.846154</td>\n      <td>4392.307692</td>\n      <td>4349.743590</td>\n      <td>4459.487179</td>\n      <td>4580.512821</td>\n      <td>NaN</td>\n      <td>4411.794872</td>\n      <td>4276.410256</td>\n      <td>4498.974359</td>\n      <td>4276.410256</td>\n      <td>4165.128205</td>\n      <td>4965.641026</td>\n    </tr>\n  </tbody>\n</table>\n</div>"
     },
     "metadata": {},
     "output_type": "display_data"
    }
   ],
   "source": [
    "# Create a new DataFrame with only columns 4 through 17\n",
    "eeg4_subset = eeg4.iloc[:, 4:17]\n",
    "\n",
    "# Display the new DataFrame\n",
    "display(eeg4_subset)"
   ]
  },
  {
   "cell_type": "markdown",
   "metadata": {
    "collapsed": false
   },
   "source": [
    "Bereken per kolom het gemiddelde. Gebruik de .mean()-methode"
   ]
  },
  {
   "cell_type": "code",
   "execution_count": 221,
   "id": "1831e8b6",
   "metadata": {},
   "outputs": [
    {
     "data": {
      "text/plain": "COUNTER           69.00\nINTERPOLATED       0.00\nRAW_CQ           278.82\nAF3             4359.01\nF7              4206.38\nF3              4347.99\nFC5             4400.50\nT7              4360.95\nP7              4469.76\nO1              4589.13\nO2              4011.69\nP8              4427.25\nT8              4333.56\nFC6             4547.61\nF4              4234.48\nF8              4182.29\nAF4             4982.62\nGYROX           1593.41\nGYROY           1739.08\nTIMESTAMP         71.99\nES_TIMESTAMP      14.82\nFUNC_ID            0.00\nFUNC_VALUE         0.00\nMARKER             0.00\nSYNC_SIGNAL        0.00\ndtype: float64"
     },
     "metadata": {},
     "output_type": "display_data"
    }
   ],
   "source": [
    "# Compute the mean of each column\n",
    "mean_per_column = eeg4.mean()\n",
    "\n",
    "# Display the result\n",
    "display(round(mean_per_column,2))"
   ]
  },
  {
   "cell_type": "markdown",
   "metadata": {
    "collapsed": false
   },
   "source": [
    "Bereken per rij het gemiddelde. Gebruik eveneens de .mean()-methode\n",
    "data.mean(axis=1)"
   ]
  },
  {
   "cell_type": "markdown",
   "metadata": {
    "collapsed": false
   },
   "source": [
    "Wijzig het data type van timestamp (een float) naar een aantal microseconden sinds de start. De EEG headset doet namelijk 512 metingen elke 4ms.\n",
    "\n",
    "Ga als volgt te werk:\n",
    "\n",
    "1. Gebruik een reguliere expressie om de milliseconden te extraheren uit de timestamp. Dit doe je met een matching group.\n",
    "2. Cast dat resultaat naar een int en zet die gegevens om naar `timedelta`-objecten met de `to_timedelta`-functie waarbij je de `unit` gelijkstelt aan `ms`. Stop het resultaat in een series genaamd `milliseconden`.\n",
    "3. Doe gelijkaardige stappen voor de seconden.\n",
    "4. Trek van alle seconden het minimumseconden af.\n",
    "5. Tel de seconden op bij de milliseconden."
   ]
  },
  {
   "cell_type": "code",
   "execution_count": 222,
   "id": "2dcbc591",
   "metadata": {},
   "outputs": [
    {
     "data": {
      "text/plain": "    COUNTER  INTERPOLATED  RAW_CQ          AF3           F7           F3  \\\n0        50             0       0  4354.358974  4220.000000  4356.410256   \n1        51             0       0  4347.692308  4215.897436  4348.717949   \n2        52             0       0  4341.025641  4206.153846  4348.205128   \n3        53             0       0  4335.897436  4203.589744  4349.743590   \n4        54             0       0  4335.384615  4205.641026  4345.128205   \n5        55             0       0  4331.794872  4201.538462  4342.051282   \n6        56             0       0  4326.666667  4200.512821  4347.692308   \n7        57             0       0  4329.743590  4203.076923  4351.794872   \n8        58             0       0  4335.897436  4202.051282  4349.743590   \n9        59             0       0  4338.974359  4202.051282  4348.205128   \n10       60             0       0  4343.076923  4206.153846  4353.846154   \n11       61             0       0  4346.153846  4209.743590  4358.461538   \n12       62             0       0  4343.589744  4206.666667  4351.282051   \n13       63             0       0  4336.923077  4203.589744  4341.025641   \n14       64             0     466  4328.205128  4204.102564  4335.384615   \n15       65             0     410  4324.615385  4204.102564  4335.384615   \n16       66             0     497  4332.307692  4206.666667  4343.589744   \n17       67             0     504  4332.820513  4207.692308  4343.076923   \n18       68             0     502          NaN  4196.410256  4325.641026   \n19       69             0     486  4314.871795  4188.205128  4318.461538   \n20       70             0     456  4323.589744  4194.871795  4328.205128   \n21       71             0     383  4324.615385  4195.384615  4327.692308   \n22       72             0     383  4316.923077  4184.102564  4322.051282   \n23       73             0     526  4320.512821  4181.025641  4328.205128   \n24       74             0     465  4335.897436  4191.282051  4339.487179   \n25       75             0     452  4352.307692  4202.051282  4346.153846   \n26       76             0     352  4374.358974  4208.205128  4350.769231   \n27       77             0     395  4402.051282  4213.333333  4358.461538   \n28       78             0     465  4424.615385  4217.948718  4369.230769   \n29       79             0     452  4445.641026  4227.179487  4381.538462   \n30       80             0     352  4464.615385  4238.974359  4386.666667   \n31       81             0     395  4464.615385  4238.974359  4382.051282   \n32       82             0     465  4446.666667  4229.743590  4375.897436   \n33       83             0     452  4422.564103  4222.051282  4369.230769   \n34       84             0     352  4400.000000  4215.897436  4357.435897   \n35       85             0     395  4382.051282  4205.641026  4345.641026   \n36       86             0     465  4365.128205  4198.974359  4338.974359   \n37       87             0     452  4350.769231  4196.923077  4336.410256   \n38       88             0     352  4345.641026  4192.307692  4333.846154   \n\n            FC5           T7           P7           O1  ...  TIMESTAMP  \\\n0   4400.000000  4369.743590  4481.538462  4601.025641  ...     71.840   \n1   4397.948718  4367.692308  4480.000000  4596.410256  ...     71.848   \n2   4394.358974  4364.102564  4476.923077  4590.769231  ...     71.856   \n3   4397.435897  4362.564103  4480.000000  4594.871795  ...     71.864   \n4   4399.487179  4365.641026  4485.641026  4600.512821  ...     71.872   \n5   4398.461538  4367.179487  4487.692308  4602.564103  ...     71.880   \n6   4400.512821  4367.692308  4491.794872  4607.692308  ...     71.887   \n7   4398.461538  4367.692308  4493.333333  4610.256410  ...     71.895   \n8   4394.358974  4366.666667  4488.205128  4604.102564  ...     71.903   \n9   4396.410256  4365.128205  4484.102564  4596.410256  ...     71.910   \n10  4402.051282  4366.153846  4481.538462  4593.333333  ...     71.919   \n11  4406.666667  4366.153846  4480.512821  4591.794872  ...     71.926   \n12  4404.102564  4368.717949  4480.000000  4593.333333  ...     71.933   \n13  4395.897436  4374.358974  4477.435897  4595.897436  ...     71.942   \n14  4395.897436  4373.333333  4471.794872  4592.307692  ...     71.951   \n15  4402.051282  4368.205128  4471.282051  4587.179487  ...     71.959   \n16  4406.153846  4369.230769  4476.410256  4591.794872  ...     71.966   \n17  4403.076923  4369.230769  4474.358974  4592.820513  ...     71.974   \n18  4390.769231  4362.051282  4466.153846  4583.589744  ...     71.983   \n19  4388.205128  4358.974359  4466.153846  4577.435897  ...     71.989   \n20  4396.923077  4360.512821  4469.743590  4578.974359  ...     71.997   \n21  4394.871795  4358.461538          NaN  4580.000000  ...     72.005   \n22  4386.666667  4354.358974  4469.230769  4584.615385  ...     72.012   \n23  4390.769231  4353.333333  4474.358974  4589.743590  ...     72.020   \n24  4398.461538  4356.410256  4477.948718  4590.769231  ...     72.028   \n25  4397.435897  4358.461538  4476.923077  4586.666667  ...     72.036   \n26  4402.051282  4356.410256  4466.666667  4580.512821  ...     72.043   \n27  4409.743590  4353.846154  4455.897436  4578.461538  ...     72.051   \n28  4412.820513  4352.820513  4452.307692  4582.051282  ...     72.058   \n29  4414.871795  4354.871795  4450.256410  4586.153846  ...     72.066   \n30  4417.948718  4354.358974  4442.051282  4583.589744  ...     72.075   \n31  4415.897436  4350.769231  4441.538462  4580.000000  ...     72.083   \n32  4411.282051  4351.282051  4447.692308  4582.051282  ...     72.091   \n33  4408.205128  4354.871795  4452.307692  4587.692308  ...     72.098   \n34  4405.128205  4354.358974  4454.358974  4584.102564  ...     72.106   \n35  4400.000000  4351.794872  4454.358974  4576.410256  ...     72.114   \n36  4397.435897  4353.846154  4454.358974  4577.948718  ...     72.122   \n37  4394.358974  4355.897436  4456.410256  4581.538462  ...     72.129   \n38  4392.307692  4349.743590  4459.487179  4580.512821  ...     72.137   \n\n    ES_TIMESTAMP  FUNC_ID  FUNC_VALUE  MARKER  SYNC_SIGNAL       time  \\\n0      14.528111        0           0       0            0   (71, 84)   \n1      14.528111        0           0       0            0  (71, 848)   \n2      14.528111        0           0       0            0  (71, 856)   \n3      14.528111        0           0       0            0  (71, 864)   \n4      14.528111        0           0       0            0  (71, 872)   \n5      14.528111        0           0       0            0   (71, 88)   \n6      14.528111        0           0       0            0  (71, 887)   \n7      14.528111        0           0       0            0  (71, 895)   \n8      14.528111        0           0       0            0  (71, 903)   \n9      14.528111        0           0       0            0   (71, 91)   \n10     14.528111        0           0       0            0  (71, 919)   \n11     14.528111        0           0       0            0  (71, 926)   \n12     14.528111        0           0       0            0  (71, 933)   \n13     14.528111        0           0       0            0  (71, 942)   \n14     14.528111        0           0       0            0  (71, 951)   \n15     14.528111        0           0       0            0  (71, 959)   \n16     15.028541        0           0       0            0  (71, 966)   \n17     15.028541        0           0       0            0  (71, 974)   \n18     15.028541        0           0       0            0  (71, 983)   \n19     15.028541        0           0       0            0  (71, 989)   \n20     15.028541        0           0       0            0  (71, 997)   \n21     15.028541        0           0       0            0    (72, 5)   \n22     15.028541        0           0       0            0   (72, 12)   \n23     15.028541        0           0       0            0    (72, 2)   \n24     15.028541        0           0       0            0   (72, 28)   \n25     15.028541        0           0       0            0   (72, 36)   \n26     15.028541        0           0       0            0   (72, 43)   \n27     15.028541        0           0       0            0   (72, 51)   \n28     15.028541        0           0       0            0   (72, 58)   \n29     15.028541        0           0       0            0   (72, 66)   \n30     15.028541        0           0       0            0   (72, 75)   \n31     15.028541        0           0       0            0   (72, 83)   \n32     15.028541        0           0       0            0   (72, 91)   \n33     15.028541        0           0       0            0   (72, 98)   \n34     15.028541        0           0       0            0  (72, 106)   \n35     15.028541        0           0       0            0  (72, 114)   \n36     15.028541        0           0       0            0  (72, 122)   \n37     15.028541        0           0       0            0  (72, 129)   \n38     15.028541        0           0       0            0  (72, 137)   \n\n    milliseconds  seconds  time_since_start  \n0             84        0                84  \n1            848        0               848  \n2            856        0               856  \n3            864        0               864  \n4            872        0               872  \n5             88        0                88  \n6            887        0               887  \n7            895        0               895  \n8            903        0               903  \n9             91        0                91  \n10           919        0               919  \n11           926        0               926  \n12           933        0               933  \n13           942        0               942  \n14           951        0               951  \n15           959        0               959  \n16           966        0               966  \n17           974        0               974  \n18           983        0               983  \n19           989        0               989  \n20           997        0               997  \n21             5        1              1005  \n22            12        1              1012  \n23             2        1              1002  \n24            28        1              1028  \n25            36        1              1036  \n26            43        1              1043  \n27            51        1              1051  \n28            58        1              1058  \n29            66        1              1066  \n30            75        1              1075  \n31            83        1              1083  \n32            91        1              1091  \n33            98        1              1098  \n34           106        1              1106  \n35           114        1              1114  \n36           122        1              1122  \n37           129        1              1129  \n38           137        1              1137  \n\n[39 rows x 29 columns]",
      "text/html": "<div>\n<style scoped>\n    .dataframe tbody tr th:only-of-type {\n        vertical-align: middle;\n    }\n\n    .dataframe tbody tr th {\n        vertical-align: top;\n    }\n\n    .dataframe thead th {\n        text-align: right;\n    }\n</style>\n<table border=\"1\" class=\"dataframe\">\n  <thead>\n    <tr style=\"text-align: right;\">\n      <th></th>\n      <th>COUNTER</th>\n      <th>INTERPOLATED</th>\n      <th>RAW_CQ</th>\n      <th>AF3</th>\n      <th>F7</th>\n      <th>F3</th>\n      <th>FC5</th>\n      <th>T7</th>\n      <th>P7</th>\n      <th>O1</th>\n      <th>...</th>\n      <th>TIMESTAMP</th>\n      <th>ES_TIMESTAMP</th>\n      <th>FUNC_ID</th>\n      <th>FUNC_VALUE</th>\n      <th>MARKER</th>\n      <th>SYNC_SIGNAL</th>\n      <th>time</th>\n      <th>milliseconds</th>\n      <th>seconds</th>\n      <th>time_since_start</th>\n    </tr>\n  </thead>\n  <tbody>\n    <tr>\n      <th>0</th>\n      <td>50</td>\n      <td>0</td>\n      <td>0</td>\n      <td>4354.358974</td>\n      <td>4220.000000</td>\n      <td>4356.410256</td>\n      <td>4400.000000</td>\n      <td>4369.743590</td>\n      <td>4481.538462</td>\n      <td>4601.025641</td>\n      <td>...</td>\n      <td>71.840</td>\n      <td>14.528111</td>\n      <td>0</td>\n      <td>0</td>\n      <td>0</td>\n      <td>0</td>\n      <td>(71, 84)</td>\n      <td>84</td>\n      <td>0</td>\n      <td>84</td>\n    </tr>\n    <tr>\n      <th>1</th>\n      <td>51</td>\n      <td>0</td>\n      <td>0</td>\n      <td>4347.692308</td>\n      <td>4215.897436</td>\n      <td>4348.717949</td>\n      <td>4397.948718</td>\n      <td>4367.692308</td>\n      <td>4480.000000</td>\n      <td>4596.410256</td>\n      <td>...</td>\n      <td>71.848</td>\n      <td>14.528111</td>\n      <td>0</td>\n      <td>0</td>\n      <td>0</td>\n      <td>0</td>\n      <td>(71, 848)</td>\n      <td>848</td>\n      <td>0</td>\n      <td>848</td>\n    </tr>\n    <tr>\n      <th>2</th>\n      <td>52</td>\n      <td>0</td>\n      <td>0</td>\n      <td>4341.025641</td>\n      <td>4206.153846</td>\n      <td>4348.205128</td>\n      <td>4394.358974</td>\n      <td>4364.102564</td>\n      <td>4476.923077</td>\n      <td>4590.769231</td>\n      <td>...</td>\n      <td>71.856</td>\n      <td>14.528111</td>\n      <td>0</td>\n      <td>0</td>\n      <td>0</td>\n      <td>0</td>\n      <td>(71, 856)</td>\n      <td>856</td>\n      <td>0</td>\n      <td>856</td>\n    </tr>\n    <tr>\n      <th>3</th>\n      <td>53</td>\n      <td>0</td>\n      <td>0</td>\n      <td>4335.897436</td>\n      <td>4203.589744</td>\n      <td>4349.743590</td>\n      <td>4397.435897</td>\n      <td>4362.564103</td>\n      <td>4480.000000</td>\n      <td>4594.871795</td>\n      <td>...</td>\n      <td>71.864</td>\n      <td>14.528111</td>\n      <td>0</td>\n      <td>0</td>\n      <td>0</td>\n      <td>0</td>\n      <td>(71, 864)</td>\n      <td>864</td>\n      <td>0</td>\n      <td>864</td>\n    </tr>\n    <tr>\n      <th>4</th>\n      <td>54</td>\n      <td>0</td>\n      <td>0</td>\n      <td>4335.384615</td>\n      <td>4205.641026</td>\n      <td>4345.128205</td>\n      <td>4399.487179</td>\n      <td>4365.641026</td>\n      <td>4485.641026</td>\n      <td>4600.512821</td>\n      <td>...</td>\n      <td>71.872</td>\n      <td>14.528111</td>\n      <td>0</td>\n      <td>0</td>\n      <td>0</td>\n      <td>0</td>\n      <td>(71, 872)</td>\n      <td>872</td>\n      <td>0</td>\n      <td>872</td>\n    </tr>\n    <tr>\n      <th>5</th>\n      <td>55</td>\n      <td>0</td>\n      <td>0</td>\n      <td>4331.794872</td>\n      <td>4201.538462</td>\n      <td>4342.051282</td>\n      <td>4398.461538</td>\n      <td>4367.179487</td>\n      <td>4487.692308</td>\n      <td>4602.564103</td>\n      <td>...</td>\n      <td>71.880</td>\n      <td>14.528111</td>\n      <td>0</td>\n      <td>0</td>\n      <td>0</td>\n      <td>0</td>\n      <td>(71, 88)</td>\n      <td>88</td>\n      <td>0</td>\n      <td>88</td>\n    </tr>\n    <tr>\n      <th>6</th>\n      <td>56</td>\n      <td>0</td>\n      <td>0</td>\n      <td>4326.666667</td>\n      <td>4200.512821</td>\n      <td>4347.692308</td>\n      <td>4400.512821</td>\n      <td>4367.692308</td>\n      <td>4491.794872</td>\n      <td>4607.692308</td>\n      <td>...</td>\n      <td>71.887</td>\n      <td>14.528111</td>\n      <td>0</td>\n      <td>0</td>\n      <td>0</td>\n      <td>0</td>\n      <td>(71, 887)</td>\n      <td>887</td>\n      <td>0</td>\n      <td>887</td>\n    </tr>\n    <tr>\n      <th>7</th>\n      <td>57</td>\n      <td>0</td>\n      <td>0</td>\n      <td>4329.743590</td>\n      <td>4203.076923</td>\n      <td>4351.794872</td>\n      <td>4398.461538</td>\n      <td>4367.692308</td>\n      <td>4493.333333</td>\n      <td>4610.256410</td>\n      <td>...</td>\n      <td>71.895</td>\n      <td>14.528111</td>\n      <td>0</td>\n      <td>0</td>\n      <td>0</td>\n      <td>0</td>\n      <td>(71, 895)</td>\n      <td>895</td>\n      <td>0</td>\n      <td>895</td>\n    </tr>\n    <tr>\n      <th>8</th>\n      <td>58</td>\n      <td>0</td>\n      <td>0</td>\n      <td>4335.897436</td>\n      <td>4202.051282</td>\n      <td>4349.743590</td>\n      <td>4394.358974</td>\n      <td>4366.666667</td>\n      <td>4488.205128</td>\n      <td>4604.102564</td>\n      <td>...</td>\n      <td>71.903</td>\n      <td>14.528111</td>\n      <td>0</td>\n      <td>0</td>\n      <td>0</td>\n      <td>0</td>\n      <td>(71, 903)</td>\n      <td>903</td>\n      <td>0</td>\n      <td>903</td>\n    </tr>\n    <tr>\n      <th>9</th>\n      <td>59</td>\n      <td>0</td>\n      <td>0</td>\n      <td>4338.974359</td>\n      <td>4202.051282</td>\n      <td>4348.205128</td>\n      <td>4396.410256</td>\n      <td>4365.128205</td>\n      <td>4484.102564</td>\n      <td>4596.410256</td>\n      <td>...</td>\n      <td>71.910</td>\n      <td>14.528111</td>\n      <td>0</td>\n      <td>0</td>\n      <td>0</td>\n      <td>0</td>\n      <td>(71, 91)</td>\n      <td>91</td>\n      <td>0</td>\n      <td>91</td>\n    </tr>\n    <tr>\n      <th>10</th>\n      <td>60</td>\n      <td>0</td>\n      <td>0</td>\n      <td>4343.076923</td>\n      <td>4206.153846</td>\n      <td>4353.846154</td>\n      <td>4402.051282</td>\n      <td>4366.153846</td>\n      <td>4481.538462</td>\n      <td>4593.333333</td>\n      <td>...</td>\n      <td>71.919</td>\n      <td>14.528111</td>\n      <td>0</td>\n      <td>0</td>\n      <td>0</td>\n      <td>0</td>\n      <td>(71, 919)</td>\n      <td>919</td>\n      <td>0</td>\n      <td>919</td>\n    </tr>\n    <tr>\n      <th>11</th>\n      <td>61</td>\n      <td>0</td>\n      <td>0</td>\n      <td>4346.153846</td>\n      <td>4209.743590</td>\n      <td>4358.461538</td>\n      <td>4406.666667</td>\n      <td>4366.153846</td>\n      <td>4480.512821</td>\n      <td>4591.794872</td>\n      <td>...</td>\n      <td>71.926</td>\n      <td>14.528111</td>\n      <td>0</td>\n      <td>0</td>\n      <td>0</td>\n      <td>0</td>\n      <td>(71, 926)</td>\n      <td>926</td>\n      <td>0</td>\n      <td>926</td>\n    </tr>\n    <tr>\n      <th>12</th>\n      <td>62</td>\n      <td>0</td>\n      <td>0</td>\n      <td>4343.589744</td>\n      <td>4206.666667</td>\n      <td>4351.282051</td>\n      <td>4404.102564</td>\n      <td>4368.717949</td>\n      <td>4480.000000</td>\n      <td>4593.333333</td>\n      <td>...</td>\n      <td>71.933</td>\n      <td>14.528111</td>\n      <td>0</td>\n      <td>0</td>\n      <td>0</td>\n      <td>0</td>\n      <td>(71, 933)</td>\n      <td>933</td>\n      <td>0</td>\n      <td>933</td>\n    </tr>\n    <tr>\n      <th>13</th>\n      <td>63</td>\n      <td>0</td>\n      <td>0</td>\n      <td>4336.923077</td>\n      <td>4203.589744</td>\n      <td>4341.025641</td>\n      <td>4395.897436</td>\n      <td>4374.358974</td>\n      <td>4477.435897</td>\n      <td>4595.897436</td>\n      <td>...</td>\n      <td>71.942</td>\n      <td>14.528111</td>\n      <td>0</td>\n      <td>0</td>\n      <td>0</td>\n      <td>0</td>\n      <td>(71, 942)</td>\n      <td>942</td>\n      <td>0</td>\n      <td>942</td>\n    </tr>\n    <tr>\n      <th>14</th>\n      <td>64</td>\n      <td>0</td>\n      <td>466</td>\n      <td>4328.205128</td>\n      <td>4204.102564</td>\n      <td>4335.384615</td>\n      <td>4395.897436</td>\n      <td>4373.333333</td>\n      <td>4471.794872</td>\n      <td>4592.307692</td>\n      <td>...</td>\n      <td>71.951</td>\n      <td>14.528111</td>\n      <td>0</td>\n      <td>0</td>\n      <td>0</td>\n      <td>0</td>\n      <td>(71, 951)</td>\n      <td>951</td>\n      <td>0</td>\n      <td>951</td>\n    </tr>\n    <tr>\n      <th>15</th>\n      <td>65</td>\n      <td>0</td>\n      <td>410</td>\n      <td>4324.615385</td>\n      <td>4204.102564</td>\n      <td>4335.384615</td>\n      <td>4402.051282</td>\n      <td>4368.205128</td>\n      <td>4471.282051</td>\n      <td>4587.179487</td>\n      <td>...</td>\n      <td>71.959</td>\n      <td>14.528111</td>\n      <td>0</td>\n      <td>0</td>\n      <td>0</td>\n      <td>0</td>\n      <td>(71, 959)</td>\n      <td>959</td>\n      <td>0</td>\n      <td>959</td>\n    </tr>\n    <tr>\n      <th>16</th>\n      <td>66</td>\n      <td>0</td>\n      <td>497</td>\n      <td>4332.307692</td>\n      <td>4206.666667</td>\n      <td>4343.589744</td>\n      <td>4406.153846</td>\n      <td>4369.230769</td>\n      <td>4476.410256</td>\n      <td>4591.794872</td>\n      <td>...</td>\n      <td>71.966</td>\n      <td>15.028541</td>\n      <td>0</td>\n      <td>0</td>\n      <td>0</td>\n      <td>0</td>\n      <td>(71, 966)</td>\n      <td>966</td>\n      <td>0</td>\n      <td>966</td>\n    </tr>\n    <tr>\n      <th>17</th>\n      <td>67</td>\n      <td>0</td>\n      <td>504</td>\n      <td>4332.820513</td>\n      <td>4207.692308</td>\n      <td>4343.076923</td>\n      <td>4403.076923</td>\n      <td>4369.230769</td>\n      <td>4474.358974</td>\n      <td>4592.820513</td>\n      <td>...</td>\n      <td>71.974</td>\n      <td>15.028541</td>\n      <td>0</td>\n      <td>0</td>\n      <td>0</td>\n      <td>0</td>\n      <td>(71, 974)</td>\n      <td>974</td>\n      <td>0</td>\n      <td>974</td>\n    </tr>\n    <tr>\n      <th>18</th>\n      <td>68</td>\n      <td>0</td>\n      <td>502</td>\n      <td>NaN</td>\n      <td>4196.410256</td>\n      <td>4325.641026</td>\n      <td>4390.769231</td>\n      <td>4362.051282</td>\n      <td>4466.153846</td>\n      <td>4583.589744</td>\n      <td>...</td>\n      <td>71.983</td>\n      <td>15.028541</td>\n      <td>0</td>\n      <td>0</td>\n      <td>0</td>\n      <td>0</td>\n      <td>(71, 983)</td>\n      <td>983</td>\n      <td>0</td>\n      <td>983</td>\n    </tr>\n    <tr>\n      <th>19</th>\n      <td>69</td>\n      <td>0</td>\n      <td>486</td>\n      <td>4314.871795</td>\n      <td>4188.205128</td>\n      <td>4318.461538</td>\n      <td>4388.205128</td>\n      <td>4358.974359</td>\n      <td>4466.153846</td>\n      <td>4577.435897</td>\n      <td>...</td>\n      <td>71.989</td>\n      <td>15.028541</td>\n      <td>0</td>\n      <td>0</td>\n      <td>0</td>\n      <td>0</td>\n      <td>(71, 989)</td>\n      <td>989</td>\n      <td>0</td>\n      <td>989</td>\n    </tr>\n    <tr>\n      <th>20</th>\n      <td>70</td>\n      <td>0</td>\n      <td>456</td>\n      <td>4323.589744</td>\n      <td>4194.871795</td>\n      <td>4328.205128</td>\n      <td>4396.923077</td>\n      <td>4360.512821</td>\n      <td>4469.743590</td>\n      <td>4578.974359</td>\n      <td>...</td>\n      <td>71.997</td>\n      <td>15.028541</td>\n      <td>0</td>\n      <td>0</td>\n      <td>0</td>\n      <td>0</td>\n      <td>(71, 997)</td>\n      <td>997</td>\n      <td>0</td>\n      <td>997</td>\n    </tr>\n    <tr>\n      <th>21</th>\n      <td>71</td>\n      <td>0</td>\n      <td>383</td>\n      <td>4324.615385</td>\n      <td>4195.384615</td>\n      <td>4327.692308</td>\n      <td>4394.871795</td>\n      <td>4358.461538</td>\n      <td>NaN</td>\n      <td>4580.000000</td>\n      <td>...</td>\n      <td>72.005</td>\n      <td>15.028541</td>\n      <td>0</td>\n      <td>0</td>\n      <td>0</td>\n      <td>0</td>\n      <td>(72, 5)</td>\n      <td>5</td>\n      <td>1</td>\n      <td>1005</td>\n    </tr>\n    <tr>\n      <th>22</th>\n      <td>72</td>\n      <td>0</td>\n      <td>383</td>\n      <td>4316.923077</td>\n      <td>4184.102564</td>\n      <td>4322.051282</td>\n      <td>4386.666667</td>\n      <td>4354.358974</td>\n      <td>4469.230769</td>\n      <td>4584.615385</td>\n      <td>...</td>\n      <td>72.012</td>\n      <td>15.028541</td>\n      <td>0</td>\n      <td>0</td>\n      <td>0</td>\n      <td>0</td>\n      <td>(72, 12)</td>\n      <td>12</td>\n      <td>1</td>\n      <td>1012</td>\n    </tr>\n    <tr>\n      <th>23</th>\n      <td>73</td>\n      <td>0</td>\n      <td>526</td>\n      <td>4320.512821</td>\n      <td>4181.025641</td>\n      <td>4328.205128</td>\n      <td>4390.769231</td>\n      <td>4353.333333</td>\n      <td>4474.358974</td>\n      <td>4589.743590</td>\n      <td>...</td>\n      <td>72.020</td>\n      <td>15.028541</td>\n      <td>0</td>\n      <td>0</td>\n      <td>0</td>\n      <td>0</td>\n      <td>(72, 2)</td>\n      <td>2</td>\n      <td>1</td>\n      <td>1002</td>\n    </tr>\n    <tr>\n      <th>24</th>\n      <td>74</td>\n      <td>0</td>\n      <td>465</td>\n      <td>4335.897436</td>\n      <td>4191.282051</td>\n      <td>4339.487179</td>\n      <td>4398.461538</td>\n      <td>4356.410256</td>\n      <td>4477.948718</td>\n      <td>4590.769231</td>\n      <td>...</td>\n      <td>72.028</td>\n      <td>15.028541</td>\n      <td>0</td>\n      <td>0</td>\n      <td>0</td>\n      <td>0</td>\n      <td>(72, 28)</td>\n      <td>28</td>\n      <td>1</td>\n      <td>1028</td>\n    </tr>\n    <tr>\n      <th>25</th>\n      <td>75</td>\n      <td>0</td>\n      <td>452</td>\n      <td>4352.307692</td>\n      <td>4202.051282</td>\n      <td>4346.153846</td>\n      <td>4397.435897</td>\n      <td>4358.461538</td>\n      <td>4476.923077</td>\n      <td>4586.666667</td>\n      <td>...</td>\n      <td>72.036</td>\n      <td>15.028541</td>\n      <td>0</td>\n      <td>0</td>\n      <td>0</td>\n      <td>0</td>\n      <td>(72, 36)</td>\n      <td>36</td>\n      <td>1</td>\n      <td>1036</td>\n    </tr>\n    <tr>\n      <th>26</th>\n      <td>76</td>\n      <td>0</td>\n      <td>352</td>\n      <td>4374.358974</td>\n      <td>4208.205128</td>\n      <td>4350.769231</td>\n      <td>4402.051282</td>\n      <td>4356.410256</td>\n      <td>4466.666667</td>\n      <td>4580.512821</td>\n      <td>...</td>\n      <td>72.043</td>\n      <td>15.028541</td>\n      <td>0</td>\n      <td>0</td>\n      <td>0</td>\n      <td>0</td>\n      <td>(72, 43)</td>\n      <td>43</td>\n      <td>1</td>\n      <td>1043</td>\n    </tr>\n    <tr>\n      <th>27</th>\n      <td>77</td>\n      <td>0</td>\n      <td>395</td>\n      <td>4402.051282</td>\n      <td>4213.333333</td>\n      <td>4358.461538</td>\n      <td>4409.743590</td>\n      <td>4353.846154</td>\n      <td>4455.897436</td>\n      <td>4578.461538</td>\n      <td>...</td>\n      <td>72.051</td>\n      <td>15.028541</td>\n      <td>0</td>\n      <td>0</td>\n      <td>0</td>\n      <td>0</td>\n      <td>(72, 51)</td>\n      <td>51</td>\n      <td>1</td>\n      <td>1051</td>\n    </tr>\n    <tr>\n      <th>28</th>\n      <td>78</td>\n      <td>0</td>\n      <td>465</td>\n      <td>4424.615385</td>\n      <td>4217.948718</td>\n      <td>4369.230769</td>\n      <td>4412.820513</td>\n      <td>4352.820513</td>\n      <td>4452.307692</td>\n      <td>4582.051282</td>\n      <td>...</td>\n      <td>72.058</td>\n      <td>15.028541</td>\n      <td>0</td>\n      <td>0</td>\n      <td>0</td>\n      <td>0</td>\n      <td>(72, 58)</td>\n      <td>58</td>\n      <td>1</td>\n      <td>1058</td>\n    </tr>\n    <tr>\n      <th>29</th>\n      <td>79</td>\n      <td>0</td>\n      <td>452</td>\n      <td>4445.641026</td>\n      <td>4227.179487</td>\n      <td>4381.538462</td>\n      <td>4414.871795</td>\n      <td>4354.871795</td>\n      <td>4450.256410</td>\n      <td>4586.153846</td>\n      <td>...</td>\n      <td>72.066</td>\n      <td>15.028541</td>\n      <td>0</td>\n      <td>0</td>\n      <td>0</td>\n      <td>0</td>\n      <td>(72, 66)</td>\n      <td>66</td>\n      <td>1</td>\n      <td>1066</td>\n    </tr>\n    <tr>\n      <th>30</th>\n      <td>80</td>\n      <td>0</td>\n      <td>352</td>\n      <td>4464.615385</td>\n      <td>4238.974359</td>\n      <td>4386.666667</td>\n      <td>4417.948718</td>\n      <td>4354.358974</td>\n      <td>4442.051282</td>\n      <td>4583.589744</td>\n      <td>...</td>\n      <td>72.075</td>\n      <td>15.028541</td>\n      <td>0</td>\n      <td>0</td>\n      <td>0</td>\n      <td>0</td>\n      <td>(72, 75)</td>\n      <td>75</td>\n      <td>1</td>\n      <td>1075</td>\n    </tr>\n    <tr>\n      <th>31</th>\n      <td>81</td>\n      <td>0</td>\n      <td>395</td>\n      <td>4464.615385</td>\n      <td>4238.974359</td>\n      <td>4382.051282</td>\n      <td>4415.897436</td>\n      <td>4350.769231</td>\n      <td>4441.538462</td>\n      <td>4580.000000</td>\n      <td>...</td>\n      <td>72.083</td>\n      <td>15.028541</td>\n      <td>0</td>\n      <td>0</td>\n      <td>0</td>\n      <td>0</td>\n      <td>(72, 83)</td>\n      <td>83</td>\n      <td>1</td>\n      <td>1083</td>\n    </tr>\n    <tr>\n      <th>32</th>\n      <td>82</td>\n      <td>0</td>\n      <td>465</td>\n      <td>4446.666667</td>\n      <td>4229.743590</td>\n      <td>4375.897436</td>\n      <td>4411.282051</td>\n      <td>4351.282051</td>\n      <td>4447.692308</td>\n      <td>4582.051282</td>\n      <td>...</td>\n      <td>72.091</td>\n      <td>15.028541</td>\n      <td>0</td>\n      <td>0</td>\n      <td>0</td>\n      <td>0</td>\n      <td>(72, 91)</td>\n      <td>91</td>\n      <td>1</td>\n      <td>1091</td>\n    </tr>\n    <tr>\n      <th>33</th>\n      <td>83</td>\n      <td>0</td>\n      <td>452</td>\n      <td>4422.564103</td>\n      <td>4222.051282</td>\n      <td>4369.230769</td>\n      <td>4408.205128</td>\n      <td>4354.871795</td>\n      <td>4452.307692</td>\n      <td>4587.692308</td>\n      <td>...</td>\n      <td>72.098</td>\n      <td>15.028541</td>\n      <td>0</td>\n      <td>0</td>\n      <td>0</td>\n      <td>0</td>\n      <td>(72, 98)</td>\n      <td>98</td>\n      <td>1</td>\n      <td>1098</td>\n    </tr>\n    <tr>\n      <th>34</th>\n      <td>84</td>\n      <td>0</td>\n      <td>352</td>\n      <td>4400.000000</td>\n      <td>4215.897436</td>\n      <td>4357.435897</td>\n      <td>4405.128205</td>\n      <td>4354.358974</td>\n      <td>4454.358974</td>\n      <td>4584.102564</td>\n      <td>...</td>\n      <td>72.106</td>\n      <td>15.028541</td>\n      <td>0</td>\n      <td>0</td>\n      <td>0</td>\n      <td>0</td>\n      <td>(72, 106)</td>\n      <td>106</td>\n      <td>1</td>\n      <td>1106</td>\n    </tr>\n    <tr>\n      <th>35</th>\n      <td>85</td>\n      <td>0</td>\n      <td>395</td>\n      <td>4382.051282</td>\n      <td>4205.641026</td>\n      <td>4345.641026</td>\n      <td>4400.000000</td>\n      <td>4351.794872</td>\n      <td>4454.358974</td>\n      <td>4576.410256</td>\n      <td>...</td>\n      <td>72.114</td>\n      <td>15.028541</td>\n      <td>0</td>\n      <td>0</td>\n      <td>0</td>\n      <td>0</td>\n      <td>(72, 114)</td>\n      <td>114</td>\n      <td>1</td>\n      <td>1114</td>\n    </tr>\n    <tr>\n      <th>36</th>\n      <td>86</td>\n      <td>0</td>\n      <td>465</td>\n      <td>4365.128205</td>\n      <td>4198.974359</td>\n      <td>4338.974359</td>\n      <td>4397.435897</td>\n      <td>4353.846154</td>\n      <td>4454.358974</td>\n      <td>4577.948718</td>\n      <td>...</td>\n      <td>72.122</td>\n      <td>15.028541</td>\n      <td>0</td>\n      <td>0</td>\n      <td>0</td>\n      <td>0</td>\n      <td>(72, 122)</td>\n      <td>122</td>\n      <td>1</td>\n      <td>1122</td>\n    </tr>\n    <tr>\n      <th>37</th>\n      <td>87</td>\n      <td>0</td>\n      <td>452</td>\n      <td>4350.769231</td>\n      <td>4196.923077</td>\n      <td>4336.410256</td>\n      <td>4394.358974</td>\n      <td>4355.897436</td>\n      <td>4456.410256</td>\n      <td>4581.538462</td>\n      <td>...</td>\n      <td>72.129</td>\n      <td>15.028541</td>\n      <td>0</td>\n      <td>0</td>\n      <td>0</td>\n      <td>0</td>\n      <td>(72, 129)</td>\n      <td>129</td>\n      <td>1</td>\n      <td>1129</td>\n    </tr>\n    <tr>\n      <th>38</th>\n      <td>88</td>\n      <td>0</td>\n      <td>352</td>\n      <td>4345.641026</td>\n      <td>4192.307692</td>\n      <td>4333.846154</td>\n      <td>4392.307692</td>\n      <td>4349.743590</td>\n      <td>4459.487179</td>\n      <td>4580.512821</td>\n      <td>...</td>\n      <td>72.137</td>\n      <td>15.028541</td>\n      <td>0</td>\n      <td>0</td>\n      <td>0</td>\n      <td>0</td>\n      <td>(72, 137)</td>\n      <td>137</td>\n      <td>1</td>\n      <td>1137</td>\n    </tr>\n  </tbody>\n</table>\n<p>39 rows × 29 columns</p>\n</div>"
     },
     "metadata": {},
     "output_type": "display_data"
    }
   ],
   "source": [
    "# Definieer een functie die de milliseconden en seconden uit de TIMESTAMP kolom haalt met behulp van een reguliere expressie en deze teruggeeft als een tuple:\n",
    "import re\n",
    "\n",
    "def extract_time(row):\n",
    "    timestamp = row['TIMESTAMP']\n",
    "    time_regex = re.compile(r'(?P<seconds>\\d+)\\.(?P<milliseconds>\\d+)')\n",
    "    match = time_regex.search(str(timestamp))\n",
    "    if match:\n",
    "        seconds = int(match.group('seconds'))\n",
    "        milliseconds = int(match.group('milliseconds'))\n",
    "        return seconds, milliseconds\n",
    "    else:\n",
    "        return None\n",
    "\n",
    "# Pas deze functie toe op elke rij van de dataframe om de milliseconden en seconden te extraheren:\n",
    "eeg4['time'] = eeg4.apply(extract_time, axis=1)\n",
    "\n",
    "# Maak twee nieuwe kolommen aan in de dataframe voor de milliseconden en seconden:\n",
    "eeg4['milliseconds'] = eeg4['time'].apply(lambda x: x[1])\n",
    "eeg4['seconds'] = eeg4['time'].apply(lambda x: x[0])\n",
    "\n",
    "# Trek het minimum aantal seconden af van elke seconde om te beginnen vanaf 0 seconden:\n",
    "min_seconds = eeg4['seconds'].min()\n",
    "eeg4['seconds'] = eeg4['seconds'] - min_seconds\n",
    "\n",
    "# Tel de seconden en milliseconden op om de totale tijd in milliseconden te krijgen en sla deze op in een nieuwe kolom:\n",
    "eeg4['time_since_start'] = eeg4['seconds'] * 1000 + eeg4['milliseconds']\n",
    "\n",
    "# Verwijder de kolommen 'time', 'seconds', en 'milliseconds':\n",
    "eeg_data = eeg4.drop(['time', 'seconds', 'milliseconds'], axis=1)\n",
    "\n",
    "# Test\n",
    "display(eeg_data)"
   ]
  }
 ],
 "metadata": {
  "kernelspec": {
   "display_name": "Python 3",
   "language": "python",
   "name": "python3"
  },
  "language_info": {
   "codemirror_mode": {
    "name": "ipython",
    "version": 3
   },
   "file_extension": ".py",
   "mimetype": "text/x-python",
   "name": "python",
   "nbconvert_exporter": "python",
   "pygments_lexer": "ipython3",
   "version": "3.8.7-final"
  }
 },
 "nbformat": 4,
 "nbformat_minor": 2
}
