{
 "cells": [
  {
   "cell_type": "code",
   "execution_count": 728,
   "id": "06fb06c1",
   "metadata": {},
   "outputs": [],
   "source": [
    "import pandas as pd"
   ]
  },
  {
   "cell_type": "markdown",
   "metadata": {
    "id": "SEz-NszwHpn9"
   },
   "source": [
    "### Oefening 1 - Werking van eenvoudige DataFrames"
   ]
  },
  {
   "cell_type": "markdown",
   "metadata": {
    "id": "ilpq7gH32b7Q"
   },
   "source": [
    "Een Pandas dataframe kan je aanmaken met de <a href=\"https://pandas.pydata.org/pandas-docs/stable/reference/api/pandas.DataFrame.html\">`DataFrame`-constructor</a>.\n",
    "\n",
    "```python\n",
    "import pandas as pd # Pandas importeren\n",
    "\n",
    "df = pd.DataFrame()\n",
    "```\n",
    "Maak een Dataframe-object aan met de naam *data* met daarin deze Python `list` van `list` van waarden\n",
    "\n",
    "```\n",
    "[[0.25, 'Q1'],\n",
    "[0.5, 'Q2'],\n",
    "[0.75, 'Q3'],\n",
    "[1.0, 'Q4']]\n",
    "```\n",
    "\n",
    "De kolommen moeten de namen `waarde` en `kwartiel` hebben.  Dit kan je doen door de `columns`-parameter van de `DataFrame`-constructor te gebruiken, en deze een lijst van de kolomnamen te geven. Dus `columns=['waarde', 'kwartiel']`."
   ]
  },
  {
   "cell_type": "code",
   "execution_count": 729,
   "id": "4444cfa9",
   "metadata": {},
   "outputs": [
    {
     "name": "stdout",
     "output_type": "stream",
     "text": [
      "   waarde kwartiel\n",
      "0    0.25       Q1\n",
      "1    0.50       Q2\n",
      "2    0.75       Q3\n",
      "3    1.00       Q4\n"
     ]
    }
   ],
   "source": [
    "data = pd.DataFrame({\n",
    "    'waarde':[0.25, 0.5, 0.75, 1.0],\n",
    "    'kwartiel':['Q1', 'Q2', 'Q3', 'Q4']\n",
    "})\n",
    "print(data)"
   ]
  },
  {
   "cell_type": "markdown",
   "metadata": {
    "collapsed": false,
    "id": "A92-9Hr-2VSC"
   },
   "source": [
    "Een dataframe is een 2D-tabel (ook als maar één kolom in de tabel zit). Je kan de dimensie opvragen met de eigenschap `.shape`. \n",
    "\n",
    "Een shape is een Python <a href=\"https://realpython.com/python-lists-tuples/#python-tuples\">tuple</a>. Je tuples nog heel vaak tegenkomen.\n",
    "\n",
    "Wat is de shape van het `DataFrame`?"
   ]
  },
  {
   "cell_type": "code",
   "execution_count": 730,
   "id": "1d1e57ef",
   "metadata": {},
   "outputs": [
    {
     "name": "stdout",
     "output_type": "stream",
     "text": [
      "(4, 2)\n"
     ]
    }
   ],
   "source": [
    "print(data.shape)"
   ]
  },
  {
   "cell_type": "markdown",
   "metadata": {
    "collapsed": false,
    "id": "_YKY3Z552VSD"
   },
   "source": [
    "Een bepaalde kolom van een dataframe heeft altijd één bepaald datatype. Elke kolom is een Pandas `Series` of `Categorical`. \n",
    "\n",
    "De datatypes van een dataframe kan je opvragen met de `.dtypes`-eigenschap.\n",
    "\n",
    "Wat zijn de datatypes van dit dataframe? Wat is het verschil met een Pandas `Series`? "
   ]
  },
  {
   "cell_type": "code",
   "execution_count": 731,
   "id": "76456c39",
   "metadata": {},
   "outputs": [
    {
     "name": "stdout",
     "output_type": "stream",
     "text": [
      "waarde      float64\n",
      "kwartiel     object\n",
      "dtype: object\n"
     ]
    }
   ],
   "source": [
    "print(data.dtypes)\n",
    "# Elke kolom heeft zijn eigen data type hier.Een series kan dat niet hebben."
   ]
  },
  {
   "cell_type": "markdown",
   "metadata": {
    "collapsed": false,
    "id": "FnVGuYrJ2VSE"
   },
   "source": [
    "Zoals je nu al zou moeten weten is Pandas gebouwd bovenop Numpy-arrays en standaard Python. Achter de schermen gebruikt Pandas dus eigenlijk Numpy-arrays. Je kan deze altijd opvragen m.b.v. van volgende methode.\n",
    "\n",
    "```python\n",
    "df.to_numpy()\n",
    "```\n",
    "*Nota: In het Oefenboek op Numpy leer je meer over Numpy-arrays.*\n",
    "\n",
    "Converteer het dataframe naar een Numpy array. Welke methode gebruik je hiervoor? \n",
    "\n",
    "Hoe verschilt de omzetting naar een Numpy array van een DataFrame met de omzetting naar Numpy array van een Series? \n",
    "\n",
    "*Tip: bekijk het aantal dimensies met de `shape` - eigenschap van een Numpy-array en vergelijk deze met die van een Series, bv. van `pd.Series([0.25, 0.5, 0.75, 1.0])`*\n"
   ]
  },
  {
   "cell_type": "code",
   "execution_count": 732,
   "id": "64531359",
   "metadata": {},
   "outputs": [
    {
     "name": "stdout",
     "output_type": "stream",
     "text": [
      "[[0.25 'Q1']\n",
      " [0.5 'Q2']\n",
      " [0.75 'Q3']\n",
      " [1.0 'Q4']] \n",
      "\n",
      " (4, 2)\n"
     ]
    }
   ],
   "source": [
    "numpy = data.to_numpy()\n",
    "print(numpy, '\\n\\n', numpy.shape)\n",
    "# Je hebt geen visuele indexen en ook kolomnamen zijn weg."
   ]
  },
  {
   "cell_type": "markdown",
   "metadata": {
    "collapsed": false,
    "id": "9u4NGv182VSF"
   },
   "source": [
    "Bekijk de index van het DataFrame door de `.index`-eigenschap te bekijken."
   ]
  },
  {
   "cell_type": "code",
   "execution_count": 733,
   "id": "72ca08a4",
   "metadata": {},
   "outputs": [
    {
     "name": "stdout",
     "output_type": "stream",
     "text": [
      "[0 1 2 3]\n"
     ]
    }
   ],
   "source": [
    "print(data.index.values)"
   ]
  },
  {
   "cell_type": "markdown",
   "metadata": {
    "collapsed": false,
    "id": "7ifKAZ7B2VSG"
   },
   "source": [
    "Bekijk de kolommen van het DataFrame door de `.columns`-eigenschap te bekijken. Is er wezenlijk verschil met de index van het dataframe?"
   ]
  },
  {
   "cell_type": "code",
   "execution_count": 734,
   "id": "937ebce9",
   "metadata": {},
   "outputs": [
    {
     "name": "stdout",
     "output_type": "stream",
     "text": [
      "['waarde' 'kwartiel']\n"
     ]
    }
   ],
   "source": [
    "print(data.columns.values)"
   ]
  },
  {
   "cell_type": "markdown",
   "metadata": {
    "collapsed": false,
    "id": "HVGpOs4J2VSH"
   },
   "source": [
    "Het <a href=\"https://pandas.pydata.org/pandas-docs/stable/reference/api/pandas.DataFrame.loc.html\">loc</a>-commando werkt met verschillende soorten argumenten en geeft soms ook andere resultaten terug. \n",
    "\n",
    "Je kan één kolom of meerdere kolommen selecteren. Je kan ook hele rijen selecteren. Je kan het ook combineren waarbij je specifieke rijen uit specifieke kolommen selecteert. Je mag daarbij gebruikmaken van Python <a href=\"https://realpython.com/lessons/indexing-and-slicing/\">`slices`</a>\n",
    "\n",
    "Hieronder zie je enkele tips van hoe je commando kan gebruiken. Het kost enige moeite om het goed te begrijpen dus je hoeft niet te panikeren als je het niet meteen begrijpt. Indexen of slices voor de komma slaan op rijen, erna op kolommen. Heb je geen komma? Dan gaat het over kolommen.\n",
    "\n",
    "```python\n",
    "df.loc[...]\n",
    "df.loc[...,...]\n",
    "df.loc[[]]\n",
    "df.loc[[],[]] \n",
    "``` \n",
    "\n",
    "Het `loc`-commando werkt op **expliciete indexen** in de dataframes (en series). Expliciete indexen zijn diegene die wij zelf definiëren en die je vindt m.b.v. `.index` en `.columns`\n",
    "\n",
    "Haal het tweede element en het tweede t.e.m. het derde element op m.b.v. het `loc`-commando. Dit kan op heel wat verschillende manieren gerealiseerd worden."
   ]
  },
  {
   "cell_type": "code",
   "execution_count": 735,
   "id": "63c4ee6d",
   "metadata": {},
   "outputs": [
    {
     "name": "stdout",
     "output_type": "stream",
     "text": [
      "   waarde kwartiel\n",
      "0    0.25       Q1\n",
      "1    0.50       Q2\n",
      "2    0.75       Q3\n",
      "3    1.00       Q4 \n",
      "\n",
      "   waarde kwartiel\n",
      "1     0.5       Q2 \n",
      "\n",
      "   waarde kwartiel\n",
      "1    0.50       Q2\n",
      "2    0.75       Q3 \n",
      "\n"
     ]
    }
   ],
   "source": [
    "print(data,'\\n')\n",
    "\n",
    "x = data.loc[1:1]\n",
    "\n",
    "print(x,'\\n')\n",
    "\n",
    "y = data.loc[1:2]\n",
    "\n",
    "print(y,'\\n')"
   ]
  },
  {
   "cell_type": "markdown",
   "metadata": {
    "collapsed": false,
    "id": "XBrzVMUJ2VSJ"
   },
   "source": [
    "Het <a href=\"https://pandas.pydata.org/pandas-docs/stable/reference/api/pandas.DataFrame.iloc.html\">iloc</a>-commando is qua indexering zeer gelijkaardig aan het `loc`-commando, maar het werkt op **impliciete indexen**. Dit zijn een soort absolute indexen die elk dataframe heeft en die losstaan van de **expliciete indexen** die door de data scientist gedefiniëerd zijn in `Index`-objecten en die zijn gestockeerd in `.index` en `.columns`.\n",
    "\n",
    "Haal het tweede element en het tweede t.e.m. het derde element op m.b.v. het `iloc`-commando. Is er *in dit geval* een verschil met het `loc`-commando qua indexwaarden? \n",
    "\n",
    "Waarom (niet)?"
   ]
  },
  {
   "cell_type": "code",
   "execution_count": 736,
   "id": "bda0457d",
   "metadata": {},
   "outputs": [
    {
     "name": "stdout",
     "output_type": "stream",
     "text": [
      "   waarde kwartiel\n",
      "0    0.25       Q1\n",
      "1    0.50       Q2\n",
      "2    0.75       Q3\n",
      "3    1.00       Q4 \n",
      "\n",
      "waarde      0.5\n",
      "kwartiel     Q2\n",
      "Name: 1, dtype: object \n",
      "\n",
      "   waarde kwartiel\n",
      "1    0.50       Q2\n",
      "2    0.75       Q3 \n",
      "\n"
     ]
    }
   ],
   "source": [
    "print(data,'\\n')\n",
    "\n",
    "x = data.iloc[1]\n",
    "\n",
    "print(x,'\\n')\n",
    "\n",
    "y = data.iloc[1:3]\n",
    "\n",
    "print(y,'\\n')\n",
    "\n",
    "# .iloc heeft geen expliciete indexen"
   ]
  },
  {
   "cell_type": "markdown",
   "metadata": {
    "id": "jTqjbaLYHuNU"
   },
   "source": [
    "### Oefening 2 - Werking van DataFrames"
   ]
  },
  {
   "cell_type": "markdown",
   "metadata": {
    "collapsed": false,
    "id": "44FqTBJl2VSK"
   },
   "source": [
    "Maak een `Dataframe` object aan met drie rijen waavan de waarden gelijk zijn aan:\n",
    "\n",
    "* rij 1: `['eerste', 1, 0.83, 1.3]`,\n",
    "* rij 2: `['tweede', 4, 0.75, 1.0]`,\n",
    "* rij 3: `['derde', 2, 4.75, 0.2]`\n",
    "\n",
    "Gebruik hiervoor een 2D Pythonlist.\n",
    "\n",
    "Zorg ervoor dat de kolommen gelijk zijn aan `['a', 'b', 'c', 'd']`. \n",
    "\n",
    "Maak de index gelijk aan de getallen `[1,2]`."
   ]
  },
  {
   "cell_type": "code",
   "execution_count": 737,
   "id": "7829579e",
   "metadata": {},
   "outputs": [
    {
     "name": "stdout",
     "output_type": "stream",
     "text": [
      "        a  b     c    d\n",
      "1  eerste  1  0.83  1.3\n",
      "2  tweede  4  0.75  1.0\n",
      "3   derde  2  4.75  0.2\n"
     ]
    }
   ],
   "source": [
    "# 2D Pythonlist\n",
    "data = [\n",
    "    ['eerste', 1, 0.83, 1.3],\n",
    "    ['tweede', 4, 0.75, 1.0],\n",
    "    ['derde', 2, 4.75, 0.2]\n",
    "]\n",
    "\n",
    "df = pd.DataFrame(data, index=[1,2,3], columns=['a', 'b', 'c', 'd'])\n",
    "\n",
    "print(df)"
   ]
  },
  {
   "cell_type": "markdown",
   "metadata": {
    "collapsed": false,
    "id": "XnjN6EGN2VSL"
   },
   "source": [
    "\n",
    "Wat is de shape van dit `DataFrame`?"
   ]
  },
  {
   "cell_type": "code",
   "execution_count": 738,
   "id": "90209e58",
   "metadata": {},
   "outputs": [
    {
     "name": "stdout",
     "output_type": "stream",
     "text": [
      "(3, 4)\n"
     ]
    }
   ],
   "source": [
    "print(df.shape)"
   ]
  },
  {
   "cell_type": "markdown",
   "metadata": {
    "collapsed": false,
    "id": "mr9A5TxC2VSM"
   },
   "source": [
    "Wat zijn de datatypes van dit dataframe? Hoeveel datatypes zijn er?"
   ]
  },
  {
   "cell_type": "code",
   "execution_count": 739,
   "id": "b8dbcc03",
   "metadata": {},
   "outputs": [
    {
     "name": "stdout",
     "output_type": "stream",
     "text": [
      "a     object\n",
      "b      int64\n",
      "c    float64\n",
      "d    float64\n",
      "dtype: object\n"
     ]
    }
   ],
   "source": [
    "print(df.dtypes)"
   ]
  },
  {
   "cell_type": "markdown",
   "metadata": {
    "collapsed": false,
    "id": "fNQJsHrn2VSN"
   },
   "source": [
    "Wat is de output van de method `.info()` en `.describe()`?\n",
    "\n"
   ]
  },
  {
   "cell_type": "code",
   "execution_count": 740,
   "id": "fb4d8628",
   "metadata": {},
   "outputs": [
    {
     "name": "stdout",
     "output_type": "stream",
     "text": [
      "<bound method DataFrame.info of         a  b     c    d\n",
      "1  eerste  1  0.83  1.3\n",
      "2  tweede  4  0.75  1.0\n",
      "3   derde  2  4.75  0.2> \n",
      "\n",
      "              b         c         d\n",
      "count  3.000000  3.000000  3.000000\n",
      "mean   2.333333  2.110000  0.833333\n",
      "std    1.527525  2.286657  0.568624\n",
      "min    1.000000  0.750000  0.200000\n",
      "25%    1.500000  0.790000  0.600000\n",
      "50%    2.000000  0.830000  1.000000\n",
      "75%    3.000000  2.790000  1.150000\n",
      "max    4.000000  4.750000  1.300000\n"
     ]
    }
   ],
   "source": [
    "print(df.info, '\\n')\n",
    "print(df.describe()) # Kollom a is een numerieke kollom dus..."
   ]
  },
  {
   "cell_type": "markdown",
   "metadata": {
    "collapsed": false,
    "id": "qVpjqV522VSP"
   },
   "source": [
    "Is er een rij-`Index` gemaakt? Zo ja, welke?"
   ]
  },
  {
   "cell_type": "code",
   "execution_count": 741,
   "id": "cf11ef94",
   "metadata": {},
   "outputs": [
    {
     "name": "stdout",
     "output_type": "stream",
     "text": [
      "[1 2 3]\n"
     ]
    }
   ],
   "source": [
    "print(df.index.values)"
   ]
  },
  {
   "cell_type": "markdown",
   "metadata": {
    "collapsed": false,
    "id": "6jRgMo5O2VSQ"
   },
   "source": [
    "* Haal de elementen van kolom `'b'` op. Doe dit m.b.v.drie notaties:\n",
    "    * met de `.`-operator\n",
    "    * met de `[]`-operator\n",
    "    * met twee `[]`-operatoren: `[[]]`\n",
    "\n",
    "Bekijk telkens het type object dat je terugkrijgt met de Python type-functie."
   ]
  },
  {
   "cell_type": "code",
   "execution_count": 742,
   "id": "223f8894",
   "metadata": {},
   "outputs": [
    {
     "name": "stdout",
     "output_type": "stream",
     "text": [
      "(.) Notaties data: [1 4 2] data type: <class 'pandas.core.series.Series'>\n",
      "([]]) Notaties data: [1 4 2] data type: <class 'pandas.core.series.Series'>\n",
      "([[]]) Notaties data: [1 4 2] data type: <class 'pandas.core.frame.DataFrame'>\n"
     ]
    }
   ],
   "source": [
    "print(\"(.) Notaties data:\", df.b.values,'data type:', type(df.b))\n",
    "print(\"([]]) Notaties data:\", df['b'].values,'data type:', type(df['b']))\n",
    "print(\"([[]]) Notaties data:\", df[['b']].b.values,'data type:', type(df[['b']]))"
   ]
  },
  {
   "cell_type": "markdown",
   "metadata": {
    "collapsed": false,
    "id": "H3LBvxrI2VSR"
   },
   "source": [
    "Haal nu de elementen van kolommen `'b'` en `'c'` op. Doe dit met:\n",
    "* de `[]` - operator\n",
    "* de `loc` - operator\n",
    "* de `iloc` - operator"
   ]
  },
  {
   "cell_type": "code",
   "execution_count": 743,
   "id": "85a22ab1",
   "metadata": {},
   "outputs": [
    {
     "name": "stdout",
     "output_type": "stream",
     "text": [
      "([]) Notaties data 'b': [1 4 2] data 'c': [0.83 0.75 4.75]\n",
      "(.loc) Notaties data: [1 4 2] data 'c': [0.83 0.75 4.75]\n",
      "(.iloc) Notaties data: [1 4 2] [0.83 0.75 4.75]\n"
     ]
    }
   ],
   "source": [
    "print(\"([]) Notaties data 'b':\", df['b'].values, \"data 'c':\", df['c'].values)\n",
    "print(\"(.loc) Notaties data:\", df.loc[:, 'b'].values, \"data 'c':\", df.loc[:, 'c'].values)\n",
    "print(\"(.iloc) Notaties data:\", df.iloc[:,1].values, df.iloc[:,2].values)"
   ]
  },
  {
   "cell_type": "markdown",
   "metadata": {
    "collapsed": false,
    "id": "8FeEHb_S2VSS"
   },
   "source": [
    "Haal nu enkel de 2e rij van elementen van kolommen `'b'` en `'c'` op. Doe dit met:\n",
    "* de `[]` - operator\n",
    "* de `loc` - operator\n",
    "* de `iloc` - operator"
   ]
  },
  {
   "cell_type": "code",
   "execution_count": 744,
   "id": "96bf5591",
   "metadata": {},
   "outputs": [
    {
     "name": "stdout",
     "output_type": "stream",
     "text": [
      "([]) Notaties data 'b': 4 data 'c': 0.75\n",
      "(.loc) Notaties data 'b': 4 data 'c': 0.75\n",
      "(.iloc) Notaties data 'b': [[4]] data 'c': [[0.75]]\n"
     ]
    }
   ],
   "source": [
    "print(\"([]) Notaties data 'b':\", df['b'].iloc[1], \"data 'c':\", df['c'].iloc[1])\n",
    "print(\"(.loc) Notaties data 'b':\", df.loc[2, 'b'], \"data 'c':\", df.loc[2, 'c'])\n",
    "print(\"(.iloc) Notaties data 'b':\", df.iloc[1:2,1:2].values, \"data 'c':\", df.iloc[1:2,2:3].values)"
   ]
  },
  {
   "cell_type": "markdown",
   "metadata": {
    "collapsed": false,
    "id": "1lHI66UQ2VSU"
   },
   "source": [
    "Is er een Index gemaakt? Zo ja, welke?"
   ]
  },
  {
   "cell_type": "code",
   "execution_count": 745,
   "id": "92d7287f",
   "metadata": {},
   "outputs": [
    {
     "name": "stdout",
     "output_type": "stream",
     "text": [
      "Int64Index([1, 2, 3], dtype='int64')\n"
     ]
    }
   ],
   "source": [
    "print(df.index)"
   ]
  },
  {
   "cell_type": "markdown",
   "metadata": {
    "collapsed": false,
    "id": "WE3_HTSS2VSV"
   },
   "source": [
    "Het datatype van de index is 'object'. Waarom is dit geen string? Zoek dit op."
   ]
  },
  {
   "cell_type": "code",
   "execution_count": 746,
   "id": "2d294b30",
   "metadata": {},
   "outputs": [],
   "source": [
    "# Ja, in Python zijn strings ook objecten. Dit betekent dat elke string variabele in Python wordt beschouwd als een instantie van de klasse str. De klasse str is een ingebouwde Python-klasse die methoden biedt voor het werken met strings.\n",
    "\n",
    "# string = object in Python"
   ]
  },
  {
   "cell_type": "markdown",
   "metadata": {
    "id": "TmeLygtbH3pz"
   },
   "source": [
    "### Oefening 3 - Simpele selecties uitvoeren"
   ]
  },
  {
   "cell_type": "markdown",
   "metadata": {
    "collapsed": false,
    "id": "LE4j0MEN2VSW"
   },
   "source": [
    "Maak een Pandas DataFrame genaamd **cars** m.b.v. deze internet url.\n",
    "\n",
    "https://raw.githubusercontent.com/OCulzac/pandas-foundations/master/_datasets/auto-mpg.csv\n",
    "\n",
    "Je kan hiervoor de `read_csv` functie gebruiken en de url als <u>string</u>-argument meegeven als volgt:\n",
    "\n",
    "```python\n",
    "url = 'https://raw.githubusercontent.com/OCulzac/pandas-foundations/master/_datasets/auto-mpg.csv'\n",
    "df = pd.read_csv(url)\n",
    "```\n",
    "\n",
    "Bestudeer dit dataframe met de methoden `.info()` en `.describe()`."
   ]
  },
  {
   "cell_type": "code",
   "execution_count": 747,
   "id": "4a651751",
   "metadata": {},
   "outputs": [
    {
     "data": {
      "text/plain": "      mpg  cyl  displ   hp  weight  accel  yr  origin  \\\n0    18.0    8  307.0  130    3504   12.0  70      US   \n1    15.0    8  350.0  165    3693   11.5  70      US   \n2    18.0    8  318.0  150    3436   11.0  70      US   \n3    16.0    8  304.0  150    3433   12.0  70      US   \n4    17.0    8  302.0  140    3449   10.5  70      US   \n..    ...  ...    ...  ...     ...    ...  ..     ...   \n387  27.0    4  140.0   86    2790   15.6  82      US   \n388  44.0    4   97.0   52    2130   24.6  82  Europe   \n389  32.0    4  135.0   84    2295   11.6  82      US   \n390  28.0    4  120.0   79    2625   18.6  82      US   \n391  31.0    4  119.0   82    2720   19.4  82      US   \n\n                          name  \n0    chevrolet chevelle malibu  \n1            buick skylark 320  \n2           plymouth satellite  \n3                amc rebel sst  \n4                  ford torino  \n..                         ...  \n387            ford mustang gl  \n388                  vw pickup  \n389              dodge rampage  \n390                ford ranger  \n391                 chevy s-10  \n\n[392 rows x 9 columns]",
      "text/html": "<div>\n<style scoped>\n    .dataframe tbody tr th:only-of-type {\n        vertical-align: middle;\n    }\n\n    .dataframe tbody tr th {\n        vertical-align: top;\n    }\n\n    .dataframe thead th {\n        text-align: right;\n    }\n</style>\n<table border=\"1\" class=\"dataframe\">\n  <thead>\n    <tr style=\"text-align: right;\">\n      <th></th>\n      <th>mpg</th>\n      <th>cyl</th>\n      <th>displ</th>\n      <th>hp</th>\n      <th>weight</th>\n      <th>accel</th>\n      <th>yr</th>\n      <th>origin</th>\n      <th>name</th>\n    </tr>\n  </thead>\n  <tbody>\n    <tr>\n      <th>0</th>\n      <td>18.0</td>\n      <td>8</td>\n      <td>307.0</td>\n      <td>130</td>\n      <td>3504</td>\n      <td>12.0</td>\n      <td>70</td>\n      <td>US</td>\n      <td>chevrolet chevelle malibu</td>\n    </tr>\n    <tr>\n      <th>1</th>\n      <td>15.0</td>\n      <td>8</td>\n      <td>350.0</td>\n      <td>165</td>\n      <td>3693</td>\n      <td>11.5</td>\n      <td>70</td>\n      <td>US</td>\n      <td>buick skylark 320</td>\n    </tr>\n    <tr>\n      <th>2</th>\n      <td>18.0</td>\n      <td>8</td>\n      <td>318.0</td>\n      <td>150</td>\n      <td>3436</td>\n      <td>11.0</td>\n      <td>70</td>\n      <td>US</td>\n      <td>plymouth satellite</td>\n    </tr>\n    <tr>\n      <th>3</th>\n      <td>16.0</td>\n      <td>8</td>\n      <td>304.0</td>\n      <td>150</td>\n      <td>3433</td>\n      <td>12.0</td>\n      <td>70</td>\n      <td>US</td>\n      <td>amc rebel sst</td>\n    </tr>\n    <tr>\n      <th>4</th>\n      <td>17.0</td>\n      <td>8</td>\n      <td>302.0</td>\n      <td>140</td>\n      <td>3449</td>\n      <td>10.5</td>\n      <td>70</td>\n      <td>US</td>\n      <td>ford torino</td>\n    </tr>\n    <tr>\n      <th>...</th>\n      <td>...</td>\n      <td>...</td>\n      <td>...</td>\n      <td>...</td>\n      <td>...</td>\n      <td>...</td>\n      <td>...</td>\n      <td>...</td>\n      <td>...</td>\n    </tr>\n    <tr>\n      <th>387</th>\n      <td>27.0</td>\n      <td>4</td>\n      <td>140.0</td>\n      <td>86</td>\n      <td>2790</td>\n      <td>15.6</td>\n      <td>82</td>\n      <td>US</td>\n      <td>ford mustang gl</td>\n    </tr>\n    <tr>\n      <th>388</th>\n      <td>44.0</td>\n      <td>4</td>\n      <td>97.0</td>\n      <td>52</td>\n      <td>2130</td>\n      <td>24.6</td>\n      <td>82</td>\n      <td>Europe</td>\n      <td>vw pickup</td>\n    </tr>\n    <tr>\n      <th>389</th>\n      <td>32.0</td>\n      <td>4</td>\n      <td>135.0</td>\n      <td>84</td>\n      <td>2295</td>\n      <td>11.6</td>\n      <td>82</td>\n      <td>US</td>\n      <td>dodge rampage</td>\n    </tr>\n    <tr>\n      <th>390</th>\n      <td>28.0</td>\n      <td>4</td>\n      <td>120.0</td>\n      <td>79</td>\n      <td>2625</td>\n      <td>18.6</td>\n      <td>82</td>\n      <td>US</td>\n      <td>ford ranger</td>\n    </tr>\n    <tr>\n      <th>391</th>\n      <td>31.0</td>\n      <td>4</td>\n      <td>119.0</td>\n      <td>82</td>\n      <td>2720</td>\n      <td>19.4</td>\n      <td>82</td>\n      <td>US</td>\n      <td>chevy s-10</td>\n    </tr>\n  </tbody>\n</table>\n<p>392 rows × 9 columns</p>\n</div>"
     },
     "metadata": {},
     "output_type": "display_data"
    }
   ],
   "source": [
    "url = \"https://raw.githubusercontent.com/OCulzac/pandas-foundations/master/_datasets/auto-mpg.csv\"\n",
    "cars = pd.read_csv(url ,header=0, decimal=\".\", delimiter=\",\")\n",
    "display(cars)"
   ]
  },
  {
   "cell_type": "code",
   "execution_count": 748,
   "id": "d1fde19f",
   "metadata": {},
   "outputs": [
    {
     "name": "stdout",
     "output_type": "stream",
     "text": [
      "<class 'pandas.core.frame.DataFrame'>\n",
      "RangeIndex: 392 entries, 0 to 391\n",
      "Data columns (total 9 columns):\n",
      " #   Column  Non-Null Count  Dtype  \n",
      "---  ------  --------------  -----  \n",
      " 0   mpg     392 non-null    float64\n",
      " 1   cyl     392 non-null    int64  \n",
      " 2   displ   392 non-null    float64\n",
      " 3   hp      392 non-null    int64  \n",
      " 4   weight  392 non-null    int64  \n",
      " 5   accel   392 non-null    float64\n",
      " 6   yr      392 non-null    int64  \n",
      " 7   origin  392 non-null    object \n",
      " 8   name    392 non-null    object \n",
      "dtypes: float64(3), int64(4), object(2)\n",
      "memory usage: 27.7+ KB\n"
     ]
    },
    {
     "data": {
      "text/plain": "None"
     },
     "metadata": {},
     "output_type": "display_data"
    }
   ],
   "source": [
    "display(cars.info())"
   ]
  },
  {
   "cell_type": "code",
   "execution_count": 749,
   "id": "6ee9d0d9",
   "metadata": {},
   "outputs": [
    {
     "data": {
      "text/plain": "              mpg         cyl       displ          hp       weight  \\\ncount  392.000000  392.000000  392.000000  392.000000   392.000000   \nmean    23.445918    5.471939  194.411990  104.469388  2977.584184   \nstd      7.805007    1.705783  104.644004   38.491160   849.402560   \nmin      9.000000    3.000000   68.000000   46.000000  1613.000000   \n25%     17.000000    4.000000  105.000000   75.000000  2225.250000   \n50%     22.750000    4.000000  151.000000   93.500000  2803.500000   \n75%     29.000000    8.000000  275.750000  126.000000  3614.750000   \nmax     46.600000    8.000000  455.000000  230.000000  5140.000000   \n\n            accel          yr  \ncount  392.000000  392.000000  \nmean    15.541327   75.979592  \nstd      2.758864    3.683737  \nmin      8.000000   70.000000  \n25%     13.775000   73.000000  \n50%     15.500000   76.000000  \n75%     17.025000   79.000000  \nmax     24.800000   82.000000  ",
      "text/html": "<div>\n<style scoped>\n    .dataframe tbody tr th:only-of-type {\n        vertical-align: middle;\n    }\n\n    .dataframe tbody tr th {\n        vertical-align: top;\n    }\n\n    .dataframe thead th {\n        text-align: right;\n    }\n</style>\n<table border=\"1\" class=\"dataframe\">\n  <thead>\n    <tr style=\"text-align: right;\">\n      <th></th>\n      <th>mpg</th>\n      <th>cyl</th>\n      <th>displ</th>\n      <th>hp</th>\n      <th>weight</th>\n      <th>accel</th>\n      <th>yr</th>\n    </tr>\n  </thead>\n  <tbody>\n    <tr>\n      <th>count</th>\n      <td>392.000000</td>\n      <td>392.000000</td>\n      <td>392.000000</td>\n      <td>392.000000</td>\n      <td>392.000000</td>\n      <td>392.000000</td>\n      <td>392.000000</td>\n    </tr>\n    <tr>\n      <th>mean</th>\n      <td>23.445918</td>\n      <td>5.471939</td>\n      <td>194.411990</td>\n      <td>104.469388</td>\n      <td>2977.584184</td>\n      <td>15.541327</td>\n      <td>75.979592</td>\n    </tr>\n    <tr>\n      <th>std</th>\n      <td>7.805007</td>\n      <td>1.705783</td>\n      <td>104.644004</td>\n      <td>38.491160</td>\n      <td>849.402560</td>\n      <td>2.758864</td>\n      <td>3.683737</td>\n    </tr>\n    <tr>\n      <th>min</th>\n      <td>9.000000</td>\n      <td>3.000000</td>\n      <td>68.000000</td>\n      <td>46.000000</td>\n      <td>1613.000000</td>\n      <td>8.000000</td>\n      <td>70.000000</td>\n    </tr>\n    <tr>\n      <th>25%</th>\n      <td>17.000000</td>\n      <td>4.000000</td>\n      <td>105.000000</td>\n      <td>75.000000</td>\n      <td>2225.250000</td>\n      <td>13.775000</td>\n      <td>73.000000</td>\n    </tr>\n    <tr>\n      <th>50%</th>\n      <td>22.750000</td>\n      <td>4.000000</td>\n      <td>151.000000</td>\n      <td>93.500000</td>\n      <td>2803.500000</td>\n      <td>15.500000</td>\n      <td>76.000000</td>\n    </tr>\n    <tr>\n      <th>75%</th>\n      <td>29.000000</td>\n      <td>8.000000</td>\n      <td>275.750000</td>\n      <td>126.000000</td>\n      <td>3614.750000</td>\n      <td>17.025000</td>\n      <td>79.000000</td>\n    </tr>\n    <tr>\n      <th>max</th>\n      <td>46.600000</td>\n      <td>8.000000</td>\n      <td>455.000000</td>\n      <td>230.000000</td>\n      <td>5140.000000</td>\n      <td>24.800000</td>\n      <td>82.000000</td>\n    </tr>\n  </tbody>\n</table>\n</div>"
     },
     "metadata": {},
     "output_type": "display_data"
    }
   ],
   "source": [
    "display(cars.describe())"
   ]
  },
  {
   "cell_type": "markdown",
   "metadata": {
    "collapsed": false,
    "id": "2ciT3Zyt2VSW"
   },
   "source": [
    "Selecteer nu alle auto's die een **mpg** waarde groter dan 40 hebben. Dit kan je doen door dit commando toe te passen:\n",
    "\n",
    "```python\n",
    "df[df.kolom > waarde]\n",
    "```\n",
    "\n",
    "Hoeveel auto's vind je?"
   ]
  },
  {
   "cell_type": "code",
   "execution_count": 750,
   "id": "9c7b7c1d",
   "metadata": {},
   "outputs": [
    {
     "data": {
      "text/plain": "      mpg  cyl  displ  hp  weight  accel  yr  origin  \\\n242  43.1    4   90.0  48    1985   21.5  78  Europe   \n307  41.5    4   98.0  76    2144   14.7  80  Europe   \n320  46.6    4   86.0  65    2110   17.9  80    Asia   \n322  40.8    4   85.0  65    2110   19.2  80    Asia   \n323  44.3    4   90.0  48    2085   21.7  80  Europe   \n324  43.4    4   90.0  48    2335   23.7  80  Europe   \n327  44.6    4   91.0  67    1850   13.8  80    Asia   \n388  44.0    4   97.0  52    2130   24.6  82  Europe   \n\n                                name  \n242  volkswagen rabbit custom diesel  \n307                        vw rabbit  \n320                        mazda glc  \n322                       datsun 210  \n323             vw rabbit c (diesel)  \n324               vw dasher (diesel)  \n327              honda civic 1500 gl  \n388                        vw pickup  ",
      "text/html": "<div>\n<style scoped>\n    .dataframe tbody tr th:only-of-type {\n        vertical-align: middle;\n    }\n\n    .dataframe tbody tr th {\n        vertical-align: top;\n    }\n\n    .dataframe thead th {\n        text-align: right;\n    }\n</style>\n<table border=\"1\" class=\"dataframe\">\n  <thead>\n    <tr style=\"text-align: right;\">\n      <th></th>\n      <th>mpg</th>\n      <th>cyl</th>\n      <th>displ</th>\n      <th>hp</th>\n      <th>weight</th>\n      <th>accel</th>\n      <th>yr</th>\n      <th>origin</th>\n      <th>name</th>\n    </tr>\n  </thead>\n  <tbody>\n    <tr>\n      <th>242</th>\n      <td>43.1</td>\n      <td>4</td>\n      <td>90.0</td>\n      <td>48</td>\n      <td>1985</td>\n      <td>21.5</td>\n      <td>78</td>\n      <td>Europe</td>\n      <td>volkswagen rabbit custom diesel</td>\n    </tr>\n    <tr>\n      <th>307</th>\n      <td>41.5</td>\n      <td>4</td>\n      <td>98.0</td>\n      <td>76</td>\n      <td>2144</td>\n      <td>14.7</td>\n      <td>80</td>\n      <td>Europe</td>\n      <td>vw rabbit</td>\n    </tr>\n    <tr>\n      <th>320</th>\n      <td>46.6</td>\n      <td>4</td>\n      <td>86.0</td>\n      <td>65</td>\n      <td>2110</td>\n      <td>17.9</td>\n      <td>80</td>\n      <td>Asia</td>\n      <td>mazda glc</td>\n    </tr>\n    <tr>\n      <th>322</th>\n      <td>40.8</td>\n      <td>4</td>\n      <td>85.0</td>\n      <td>65</td>\n      <td>2110</td>\n      <td>19.2</td>\n      <td>80</td>\n      <td>Asia</td>\n      <td>datsun 210</td>\n    </tr>\n    <tr>\n      <th>323</th>\n      <td>44.3</td>\n      <td>4</td>\n      <td>90.0</td>\n      <td>48</td>\n      <td>2085</td>\n      <td>21.7</td>\n      <td>80</td>\n      <td>Europe</td>\n      <td>vw rabbit c (diesel)</td>\n    </tr>\n    <tr>\n      <th>324</th>\n      <td>43.4</td>\n      <td>4</td>\n      <td>90.0</td>\n      <td>48</td>\n      <td>2335</td>\n      <td>23.7</td>\n      <td>80</td>\n      <td>Europe</td>\n      <td>vw dasher (diesel)</td>\n    </tr>\n    <tr>\n      <th>327</th>\n      <td>44.6</td>\n      <td>4</td>\n      <td>91.0</td>\n      <td>67</td>\n      <td>1850</td>\n      <td>13.8</td>\n      <td>80</td>\n      <td>Asia</td>\n      <td>honda civic 1500 gl</td>\n    </tr>\n    <tr>\n      <th>388</th>\n      <td>44.0</td>\n      <td>4</td>\n      <td>97.0</td>\n      <td>52</td>\n      <td>2130</td>\n      <td>24.6</td>\n      <td>82</td>\n      <td>Europe</td>\n      <td>vw pickup</td>\n    </tr>\n  </tbody>\n</table>\n</div>"
     },
     "metadata": {},
     "output_type": "display_data"
    }
   ],
   "source": [
    "display(cars[cars.mpg > 40])"
   ]
  },
  {
   "cell_type": "markdown",
   "metadata": {
    "collapsed": false,
    "id": "Q0K13pmZ2VSX"
   },
   "source": [
    "Als je meerdere eigenschappen wil gebruiken om op te filteren, moet je ze combineren met logische operatoren (&, |) en de condities tussen haakjes zetten. \n",
    "\n",
    "Je kan de condities ook in aparte variabelen stoppen en die gebruiken om te filteren.\n",
    "\n",
    "```python\n",
    "df[(df.kolom1 > waarde1) & (df.kolom2 < waarde2)]\n",
    "\n",
    "cond1 = df.kolom1 > waarde1\n",
    "cond2 = df.kolom2 < waarde2\n",
    "\n",
    "df[cond1 & cond2]\n",
    "```\n",
    "Selecteer nu alle auto's die een **mpg** waarde groter hebben dan 40 en die uit **Europa** komen.\n"
   ]
  },
  {
   "cell_type": "code",
   "execution_count": 751,
   "id": "04ea7342",
   "metadata": {},
   "outputs": [
    {
     "data": {
      "text/plain": "      mpg  cyl  displ  hp  weight  accel  yr  origin  \\\n242  43.1    4   90.0  48    1985   21.5  78  Europe   \n307  41.5    4   98.0  76    2144   14.7  80  Europe   \n323  44.3    4   90.0  48    2085   21.7  80  Europe   \n324  43.4    4   90.0  48    2335   23.7  80  Europe   \n388  44.0    4   97.0  52    2130   24.6  82  Europe   \n\n                                name  \n242  volkswagen rabbit custom diesel  \n307                        vw rabbit  \n323             vw rabbit c (diesel)  \n324               vw dasher (diesel)  \n388                        vw pickup  ",
      "text/html": "<div>\n<style scoped>\n    .dataframe tbody tr th:only-of-type {\n        vertical-align: middle;\n    }\n\n    .dataframe tbody tr th {\n        vertical-align: top;\n    }\n\n    .dataframe thead th {\n        text-align: right;\n    }\n</style>\n<table border=\"1\" class=\"dataframe\">\n  <thead>\n    <tr style=\"text-align: right;\">\n      <th></th>\n      <th>mpg</th>\n      <th>cyl</th>\n      <th>displ</th>\n      <th>hp</th>\n      <th>weight</th>\n      <th>accel</th>\n      <th>yr</th>\n      <th>origin</th>\n      <th>name</th>\n    </tr>\n  </thead>\n  <tbody>\n    <tr>\n      <th>242</th>\n      <td>43.1</td>\n      <td>4</td>\n      <td>90.0</td>\n      <td>48</td>\n      <td>1985</td>\n      <td>21.5</td>\n      <td>78</td>\n      <td>Europe</td>\n      <td>volkswagen rabbit custom diesel</td>\n    </tr>\n    <tr>\n      <th>307</th>\n      <td>41.5</td>\n      <td>4</td>\n      <td>98.0</td>\n      <td>76</td>\n      <td>2144</td>\n      <td>14.7</td>\n      <td>80</td>\n      <td>Europe</td>\n      <td>vw rabbit</td>\n    </tr>\n    <tr>\n      <th>323</th>\n      <td>44.3</td>\n      <td>4</td>\n      <td>90.0</td>\n      <td>48</td>\n      <td>2085</td>\n      <td>21.7</td>\n      <td>80</td>\n      <td>Europe</td>\n      <td>vw rabbit c (diesel)</td>\n    </tr>\n    <tr>\n      <th>324</th>\n      <td>43.4</td>\n      <td>4</td>\n      <td>90.0</td>\n      <td>48</td>\n      <td>2335</td>\n      <td>23.7</td>\n      <td>80</td>\n      <td>Europe</td>\n      <td>vw dasher (diesel)</td>\n    </tr>\n    <tr>\n      <th>388</th>\n      <td>44.0</td>\n      <td>4</td>\n      <td>97.0</td>\n      <td>52</td>\n      <td>2130</td>\n      <td>24.6</td>\n      <td>82</td>\n      <td>Europe</td>\n      <td>vw pickup</td>\n    </tr>\n  </tbody>\n</table>\n</div>"
     },
     "metadata": {},
     "output_type": "display_data"
    }
   ],
   "source": [
    "display(cars[(cars.mpg > 40) & (cars.origin == 'Europe')])"
   ]
  },
  {
   "cell_type": "markdown",
   "metadata": {
    "collapsed": false,
    "id": "Sj9QoRdNBuTE"
   },
   "source": [
    "Je kan de waarden in dataframe ook sorteren. Daarvoor gebruik je de <code>sort_values</code> functie.\n",
    "\n",
    "```python\n",
    "df.sort_values('kolom')\n",
    "df.sort_values('kolom', ascending = False)\n",
    "\n",
    "df.sort_values(['kolom1','kolom2'], ascending = [False, True])\n",
    "```\n",
    "\n",
    "Sorteer de auto's op **hp** van groot naar klein en tegerlijktijd op **accel** van klein naar groot. Auto nummer 115 zou bovenaan moeten komen te staan.\n"
   ]
  },
  {
   "cell_type": "code",
   "execution_count": 752,
   "id": "5671d091",
   "metadata": {},
   "outputs": [
    {
     "data": {
      "text/plain": "      mpg  cyl  displ   hp  weight  accel  yr  origin  \\\n175  23.0    4  115.0   95    2694   15.0  75  Europe   \n115  16.0    8  400.0  230    4278    9.5  73      US   \n8    14.0    8  455.0  225    4425   10.0  70      US   \n13   14.0    8  455.0  225    3086   10.0  70      US   \n94   12.0    8  455.0  225    4951   11.0  73      US   \n..    ...  ...    ...  ...     ...    ...  ..     ...   \n242  43.1    4   90.0   48    1985   21.5  78  Europe   \n323  44.3    4   90.0   48    2085   21.7  80  Europe   \n324  43.4    4   90.0   48    2335   23.7  80  Europe   \n19   26.0    4   97.0   46    1835   20.5  70  Europe   \n101  26.0    4   97.0   46    1950   21.0  73  Europe   \n\n                                name  \n175                       audi 100ls  \n115               pontiac grand prix  \n8                   pontiac catalina  \n13           buick estate wagon (sw)  \n94          buick electra 225 custom  \n..                               ...  \n242  volkswagen rabbit custom diesel  \n323             vw rabbit c (diesel)  \n324               vw dasher (diesel)  \n19      volkswagen 1131 deluxe sedan  \n101          volkswagen super beetle  \n\n[393 rows x 9 columns]",
      "text/html": "<div>\n<style scoped>\n    .dataframe tbody tr th:only-of-type {\n        vertical-align: middle;\n    }\n\n    .dataframe tbody tr th {\n        vertical-align: top;\n    }\n\n    .dataframe thead th {\n        text-align: right;\n    }\n</style>\n<table border=\"1\" class=\"dataframe\">\n  <thead>\n    <tr style=\"text-align: right;\">\n      <th></th>\n      <th>mpg</th>\n      <th>cyl</th>\n      <th>displ</th>\n      <th>hp</th>\n      <th>weight</th>\n      <th>accel</th>\n      <th>yr</th>\n      <th>origin</th>\n      <th>name</th>\n    </tr>\n  </thead>\n  <tbody>\n    <tr>\n      <th>175</th>\n      <td>23.0</td>\n      <td>4</td>\n      <td>115.0</td>\n      <td>95</td>\n      <td>2694</td>\n      <td>15.0</td>\n      <td>75</td>\n      <td>Europe</td>\n      <td>audi 100ls</td>\n    </tr>\n    <tr>\n      <th>115</th>\n      <td>16.0</td>\n      <td>8</td>\n      <td>400.0</td>\n      <td>230</td>\n      <td>4278</td>\n      <td>9.5</td>\n      <td>73</td>\n      <td>US</td>\n      <td>pontiac grand prix</td>\n    </tr>\n    <tr>\n      <th>8</th>\n      <td>14.0</td>\n      <td>8</td>\n      <td>455.0</td>\n      <td>225</td>\n      <td>4425</td>\n      <td>10.0</td>\n      <td>70</td>\n      <td>US</td>\n      <td>pontiac catalina</td>\n    </tr>\n    <tr>\n      <th>13</th>\n      <td>14.0</td>\n      <td>8</td>\n      <td>455.0</td>\n      <td>225</td>\n      <td>3086</td>\n      <td>10.0</td>\n      <td>70</td>\n      <td>US</td>\n      <td>buick estate wagon (sw)</td>\n    </tr>\n    <tr>\n      <th>94</th>\n      <td>12.0</td>\n      <td>8</td>\n      <td>455.0</td>\n      <td>225</td>\n      <td>4951</td>\n      <td>11.0</td>\n      <td>73</td>\n      <td>US</td>\n      <td>buick electra 225 custom</td>\n    </tr>\n    <tr>\n      <th>...</th>\n      <td>...</td>\n      <td>...</td>\n      <td>...</td>\n      <td>...</td>\n      <td>...</td>\n      <td>...</td>\n      <td>...</td>\n      <td>...</td>\n      <td>...</td>\n    </tr>\n    <tr>\n      <th>242</th>\n      <td>43.1</td>\n      <td>4</td>\n      <td>90.0</td>\n      <td>48</td>\n      <td>1985</td>\n      <td>21.5</td>\n      <td>78</td>\n      <td>Europe</td>\n      <td>volkswagen rabbit custom diesel</td>\n    </tr>\n    <tr>\n      <th>323</th>\n      <td>44.3</td>\n      <td>4</td>\n      <td>90.0</td>\n      <td>48</td>\n      <td>2085</td>\n      <td>21.7</td>\n      <td>80</td>\n      <td>Europe</td>\n      <td>vw rabbit c (diesel)</td>\n    </tr>\n    <tr>\n      <th>324</th>\n      <td>43.4</td>\n      <td>4</td>\n      <td>90.0</td>\n      <td>48</td>\n      <td>2335</td>\n      <td>23.7</td>\n      <td>80</td>\n      <td>Europe</td>\n      <td>vw dasher (diesel)</td>\n    </tr>\n    <tr>\n      <th>19</th>\n      <td>26.0</td>\n      <td>4</td>\n      <td>97.0</td>\n      <td>46</td>\n      <td>1835</td>\n      <td>20.5</td>\n      <td>70</td>\n      <td>Europe</td>\n      <td>volkswagen 1131 deluxe sedan</td>\n    </tr>\n    <tr>\n      <th>101</th>\n      <td>26.0</td>\n      <td>4</td>\n      <td>97.0</td>\n      <td>46</td>\n      <td>1950</td>\n      <td>21.0</td>\n      <td>73</td>\n      <td>Europe</td>\n      <td>volkswagen super beetle</td>\n    </tr>\n  </tbody>\n</table>\n<p>393 rows × 9 columns</p>\n</div>"
     },
     "metadata": {},
     "output_type": "display_data"
    }
   ],
   "source": [
    "# cars.sort_values('hp', ascending=False, inplace=True) # Groot naar klein\n",
    "# cars.sort_values('accel', ascending=True, inplace=True) # Klein naar groot\n",
    "#\n",
    "# display(cars)\n",
    "\n",
    "# sorteer op \"hp\" van groot naar klein en \"accel\" van klein naar groot\n",
    "cars.sort_values(['hp', 'accel'], ascending=[False, True], inplace=True)\n",
    "\n",
    "# plaats de rij voor auto nummer 115 bovenaan\n",
    "cars = pd.concat([cars[cars['displ'] == 115], cars[cars['displ'] != 150]])\n",
    "\n",
    "display(cars)"
   ]
  },
  {
   "cell_type": "markdown",
   "metadata": {
    "id": "78JJMJw0LB7H"
   },
   "source": [
    "Selecteer nu alle auto die in Europe en de US zijn gemaakt. Hiervoor ga je gebruikmaken van een nieuwe methode: `.isin()`.\n",
    "\n",
    "\n",
    "\n",
    "```python\n",
    "df.kolomnaam.isin(\"lijst van waarden\")\n",
    "```\n",
    "Probeer dit uit op `origin` kolom en met de waarden `['Europe','US']` en sla dit resultaat op in een variabele `europe_us_cars`.\n",
    "\n",
    "Tip: *je kan deze uitdrukking ook negeren door er een tilde (~) voor te plaatsen.*\n",
    "\n",
    "Welk resultaat krijg je en wat is het type van dit resultaat? (`type()`)"
   ]
  },
  {
   "cell_type": "code",
   "execution_count": 753,
   "id": "734b20d2",
   "metadata": {},
   "outputs": [
    {
     "data": {
      "text/plain": "175    True\n115    True\n8      True\n13     True\n94     True\n       ... \n242    True\n323    True\n324    True\n19     True\n101    True\nName: origin, Length: 393, dtype: bool"
     },
     "metadata": {},
     "output_type": "display_data"
    },
    {
     "data": {
      "text/plain": "pandas.core.series.Series"
     },
     "metadata": {},
     "output_type": "display_data"
    }
   ],
   "source": [
    "europe_us_cars = cars.origin.isin(['Europe','US'])\n",
    "display(europe_us_cars)\n",
    "display(type(europe_us_cars))"
   ]
  },
  {
   "cell_type": "markdown",
   "metadata": {
    "id": "yL7ZGrJAMyLX"
   },
   "source": [
    "Gebruik de `europe_us_cars`-variabele in combinatie met het originele dataframe `cars` om alleen de auto's te selecteren die uit Europe of de US komen. Je kan dit doen met de haakjes `[]` of met de `.loc`-methode (, en zelfs de `.iloc`-methode, maar dat is hier minder gepast).\n",
    "\n"
   ]
  },
  {
   "cell_type": "code",
   "execution_count": 754,
   "id": "1590b438",
   "metadata": {},
   "outputs": [
    {
     "data": {
      "text/plain": "      mpg  cyl  displ   hp  weight  accel  yr  origin  \\\n175  23.0    4  115.0   95    2694   15.0  75  Europe   \n115  16.0    8  400.0  230    4278    9.5  73      US   \n8    14.0    8  455.0  225    4425   10.0  70      US   \n13   14.0    8  455.0  225    3086   10.0  70      US   \n94   12.0    8  455.0  225    4951   11.0  73      US   \n..    ...  ...    ...  ...     ...    ...  ..     ...   \n242  43.1    4   90.0   48    1985   21.5  78  Europe   \n323  44.3    4   90.0   48    2085   21.7  80  Europe   \n324  43.4    4   90.0   48    2335   23.7  80  Europe   \n19   26.0    4   97.0   46    1835   20.5  70  Europe   \n101  26.0    4   97.0   46    1950   21.0  73  Europe   \n\n                                name  \n175                       audi 100ls  \n115               pontiac grand prix  \n8                   pontiac catalina  \n13           buick estate wagon (sw)  \n94          buick electra 225 custom  \n..                               ...  \n242  volkswagen rabbit custom diesel  \n323             vw rabbit c (diesel)  \n324               vw dasher (diesel)  \n19      volkswagen 1131 deluxe sedan  \n101          volkswagen super beetle  \n\n[314 rows x 9 columns]",
      "text/html": "<div>\n<style scoped>\n    .dataframe tbody tr th:only-of-type {\n        vertical-align: middle;\n    }\n\n    .dataframe tbody tr th {\n        vertical-align: top;\n    }\n\n    .dataframe thead th {\n        text-align: right;\n    }\n</style>\n<table border=\"1\" class=\"dataframe\">\n  <thead>\n    <tr style=\"text-align: right;\">\n      <th></th>\n      <th>mpg</th>\n      <th>cyl</th>\n      <th>displ</th>\n      <th>hp</th>\n      <th>weight</th>\n      <th>accel</th>\n      <th>yr</th>\n      <th>origin</th>\n      <th>name</th>\n    </tr>\n  </thead>\n  <tbody>\n    <tr>\n      <th>175</th>\n      <td>23.0</td>\n      <td>4</td>\n      <td>115.0</td>\n      <td>95</td>\n      <td>2694</td>\n      <td>15.0</td>\n      <td>75</td>\n      <td>Europe</td>\n      <td>audi 100ls</td>\n    </tr>\n    <tr>\n      <th>115</th>\n      <td>16.0</td>\n      <td>8</td>\n      <td>400.0</td>\n      <td>230</td>\n      <td>4278</td>\n      <td>9.5</td>\n      <td>73</td>\n      <td>US</td>\n      <td>pontiac grand prix</td>\n    </tr>\n    <tr>\n      <th>8</th>\n      <td>14.0</td>\n      <td>8</td>\n      <td>455.0</td>\n      <td>225</td>\n      <td>4425</td>\n      <td>10.0</td>\n      <td>70</td>\n      <td>US</td>\n      <td>pontiac catalina</td>\n    </tr>\n    <tr>\n      <th>13</th>\n      <td>14.0</td>\n      <td>8</td>\n      <td>455.0</td>\n      <td>225</td>\n      <td>3086</td>\n      <td>10.0</td>\n      <td>70</td>\n      <td>US</td>\n      <td>buick estate wagon (sw)</td>\n    </tr>\n    <tr>\n      <th>94</th>\n      <td>12.0</td>\n      <td>8</td>\n      <td>455.0</td>\n      <td>225</td>\n      <td>4951</td>\n      <td>11.0</td>\n      <td>73</td>\n      <td>US</td>\n      <td>buick electra 225 custom</td>\n    </tr>\n    <tr>\n      <th>...</th>\n      <td>...</td>\n      <td>...</td>\n      <td>...</td>\n      <td>...</td>\n      <td>...</td>\n      <td>...</td>\n      <td>...</td>\n      <td>...</td>\n      <td>...</td>\n    </tr>\n    <tr>\n      <th>242</th>\n      <td>43.1</td>\n      <td>4</td>\n      <td>90.0</td>\n      <td>48</td>\n      <td>1985</td>\n      <td>21.5</td>\n      <td>78</td>\n      <td>Europe</td>\n      <td>volkswagen rabbit custom diesel</td>\n    </tr>\n    <tr>\n      <th>323</th>\n      <td>44.3</td>\n      <td>4</td>\n      <td>90.0</td>\n      <td>48</td>\n      <td>2085</td>\n      <td>21.7</td>\n      <td>80</td>\n      <td>Europe</td>\n      <td>vw rabbit c (diesel)</td>\n    </tr>\n    <tr>\n      <th>324</th>\n      <td>43.4</td>\n      <td>4</td>\n      <td>90.0</td>\n      <td>48</td>\n      <td>2335</td>\n      <td>23.7</td>\n      <td>80</td>\n      <td>Europe</td>\n      <td>vw dasher (diesel)</td>\n    </tr>\n    <tr>\n      <th>19</th>\n      <td>26.0</td>\n      <td>4</td>\n      <td>97.0</td>\n      <td>46</td>\n      <td>1835</td>\n      <td>20.5</td>\n      <td>70</td>\n      <td>Europe</td>\n      <td>volkswagen 1131 deluxe sedan</td>\n    </tr>\n    <tr>\n      <th>101</th>\n      <td>26.0</td>\n      <td>4</td>\n      <td>97.0</td>\n      <td>46</td>\n      <td>1950</td>\n      <td>21.0</td>\n      <td>73</td>\n      <td>Europe</td>\n      <td>volkswagen super beetle</td>\n    </tr>\n  </tbody>\n</table>\n<p>314 rows × 9 columns</p>\n</div>"
     },
     "metadata": {},
     "output_type": "display_data"
    }
   ],
   "source": [
    "newdata = cars.loc[True == europe_us_cars]\n",
    "\n",
    "display(newdata)"
   ]
  },
  {
   "cell_type": "markdown",
   "metadata": {
    "id": "w53C2VSUNw0R"
   },
   "source": [
    "Combineer nu de vorige oefening door enkel de **cyl** en de **weight** te selecteren van de **Europe** en **US** auto's. Hiervoor kan je enkel gebruikmaken van de `.loc`-operator."
   ]
  },
  {
   "cell_type": "code",
   "execution_count": 755,
   "id": "a646a577",
   "metadata": {},
   "outputs": [
    {
     "data": {
      "text/plain": "     cyl  weight\n175    4    2694\n115    8    4278\n8      8    4425\n13     8    3086\n94     8    4951\n..   ...     ...\n242    4    1985\n323    4    2085\n324    4    2335\n19     4    1835\n101    4    1950\n\n[314 rows x 2 columns]",
      "text/html": "<div>\n<style scoped>\n    .dataframe tbody tr th:only-of-type {\n        vertical-align: middle;\n    }\n\n    .dataframe tbody tr th {\n        vertical-align: top;\n    }\n\n    .dataframe thead th {\n        text-align: right;\n    }\n</style>\n<table border=\"1\" class=\"dataframe\">\n  <thead>\n    <tr style=\"text-align: right;\">\n      <th></th>\n      <th>cyl</th>\n      <th>weight</th>\n    </tr>\n  </thead>\n  <tbody>\n    <tr>\n      <th>175</th>\n      <td>4</td>\n      <td>2694</td>\n    </tr>\n    <tr>\n      <th>115</th>\n      <td>8</td>\n      <td>4278</td>\n    </tr>\n    <tr>\n      <th>8</th>\n      <td>8</td>\n      <td>4425</td>\n    </tr>\n    <tr>\n      <th>13</th>\n      <td>8</td>\n      <td>3086</td>\n    </tr>\n    <tr>\n      <th>94</th>\n      <td>8</td>\n      <td>4951</td>\n    </tr>\n    <tr>\n      <th>...</th>\n      <td>...</td>\n      <td>...</td>\n    </tr>\n    <tr>\n      <th>242</th>\n      <td>4</td>\n      <td>1985</td>\n    </tr>\n    <tr>\n      <th>323</th>\n      <td>4</td>\n      <td>2085</td>\n    </tr>\n    <tr>\n      <th>324</th>\n      <td>4</td>\n      <td>2335</td>\n    </tr>\n    <tr>\n      <th>19</th>\n      <td>4</td>\n      <td>1835</td>\n    </tr>\n    <tr>\n      <th>101</th>\n      <td>4</td>\n      <td>1950</td>\n    </tr>\n  </tbody>\n</table>\n<p>314 rows × 2 columns</p>\n</div>"
     },
     "metadata": {},
     "output_type": "display_data"
    }
   ],
   "source": [
    "newdata = cars.loc[True == europe_us_cars, ['cyl','weight']]\n",
    "\n",
    "display(newdata)"
   ]
  },
  {
   "cell_type": "markdown",
   "metadata": {
    "id": "RwZVGauXOTRe"
   },
   "source": [
    "We gaan nu het gemiddelde gewicht van Amerikaanse auto's (US) vergelijken het gemiddelde gewicht van Aziatische auto's. We moeten eerst weten welke waarde de kolom `origin` allemaal kan aannemen.\n",
    "\n",
    "We selecteren die kolom en passen de `.unique()`-methode toe. Probeer dit hieronder uit. Welke waarde heeft `origin` voor Aziatische auto's?"
   ]
  },
  {
   "cell_type": "code",
   "execution_count": 756,
   "id": "ff7a0fc8",
   "metadata": {},
   "outputs": [
    {
     "data": {
      "text/plain": "array(['Europe', 'US', 'Asia'], dtype=object)"
     },
     "metadata": {},
     "output_type": "display_data"
    }
   ],
   "source": [
    "display(cars.origin.unique())"
   ]
  },
  {
   "cell_type": "markdown",
   "metadata": {
    "id": "1LtCswvtPD4-"
   },
   "source": [
    "Op een Pandas Series kan je een aantal statistiche methoden uitvoeren (zie ook verder). Het gemiddelde van een bepaalde selectie kun je laten berekenen met de `.mean()`-methode.\n",
    "\n",
    "Zoek het gemiddelde gewicht van Aziatische auto's en dat van Amerikaanse auto's. Ben je verrast over het resultaat?\n",
    "\n",
    "In les 3 zullen we nieuwe commando's leren waarmee we dit resultaat zullen kunnen bekomen.\n"
   ]
  },
  {
   "cell_type": "code",
   "execution_count": 757,
   "id": "abd76ed5",
   "metadata": {},
   "outputs": [
    {
     "name": "stdout",
     "output_type": "stream",
     "text": [
      "Gemiddelde gewicht US 3372.49\n",
      "Gemiddelde gewicht Asia 2221.23\n"
     ]
    }
   ],
   "source": [
    "autosAM = cars.origin.isin(['US'])\n",
    "autosAM = cars.loc[True == autosAM]\n",
    "gemiddeldeGewichtAM = autosAM.weight.mean()\n",
    "\n",
    "autosAZ = cars.origin.isin(['Asia'])\n",
    "autosAZ = cars.loc[True == autosAZ]\n",
    "gemiddeldeGewichtAZ = autosAZ.weight.mean()\n",
    "\n",
    "print(\"Gemiddelde gewicht US\", round(gemiddeldeGewichtAM,2))\n",
    "print(\"Gemiddelde gewicht Asia\", round(gemiddeldeGewichtAZ,2))\n"
   ]
  },
  {
   "cell_type": "markdown",
   "metadata": {
    "id": "2ZqZPPkLH7rH"
   },
   "source": [
    "### Oefening 4 - Dataframe aanpassen"
   ]
  },
  {
   "cell_type": "markdown",
   "metadata": {
    "collapsed": false,
    "id": "CP3UPBAKDUWa"
   },
   "source": [
    "Maak een Pandas DataFrame genaamd **train** m.b.v. train.csv\n",
    "\n",
    "Bestudeer dit dataframe met `.info()`, `.describe()`, `.head()`, en `.tail()`. Aan de laatste methoden kan je ook een parameter meegeven om de hoeveelheid te tonen rijen te bepalen."
   ]
  },
  {
   "cell_type": "code",
   "execution_count": 758,
   "id": "68e041a4",
   "metadata": {},
   "outputs": [
    {
     "data": {
      "text/plain": "     PassengerId  Survived  Pclass  \\\n0              1         0       3   \n1              2         1       1   \n2              3         1       3   \n3              4         1       1   \n4              5         0       3   \n..           ...       ...     ...   \n886          887         0       2   \n887          888         1       1   \n888          889         0       3   \n889          890         1       1   \n890          891         0       3   \n\n                                                  Name     Sex   Age  SibSp  \\\n0                              Braund, Mr. Owen Harris    male  22.0      1   \n1    Cumings, Mrs. John Bradley (Florence Briggs Th...  female  38.0      1   \n2                               Heikkinen, Miss. Laina  female  26.0      0   \n3         Futrelle, Mrs. Jacques Heath (Lily May Peel)  female  35.0      1   \n4                             Allen, Mr. William Henry    male  35.0      0   \n..                                                 ...     ...   ...    ...   \n886                              Montvila, Rev. Juozas    male  27.0      0   \n887                       Graham, Miss. Margaret Edith  female  19.0      0   \n888           Johnston, Miss. Catherine Helen \"Carrie\"  female   NaN      1   \n889                              Behr, Mr. Karl Howell    male  26.0      0   \n890                                Dooley, Mr. Patrick    male  32.0      0   \n\n     Parch            Ticket      Fare Cabin Embarked  \n0        0         A/5 21171  7.    25   NaN        S  \n1        0          PC 17599   71.2833   C85        C  \n2        0  STON/O2. 3101282     7.925   NaN        S  \n3        0            113803      53.1  C123        S  \n4        0            373450      8.05   NaN        S  \n..     ...               ...       ...   ...      ...  \n886      0            211536        13   NaN        S  \n887      0            112053        30   B42        S  \n888      2        W./C. 6607     23.45   NaN        S  \n889      0            111369        30  C148        C  \n890      0            370376      7.75   NaN        Q  \n\n[891 rows x 12 columns]",
      "text/html": "<div>\n<style scoped>\n    .dataframe tbody tr th:only-of-type {\n        vertical-align: middle;\n    }\n\n    .dataframe tbody tr th {\n        vertical-align: top;\n    }\n\n    .dataframe thead th {\n        text-align: right;\n    }\n</style>\n<table border=\"1\" class=\"dataframe\">\n  <thead>\n    <tr style=\"text-align: right;\">\n      <th></th>\n      <th>PassengerId</th>\n      <th>Survived</th>\n      <th>Pclass</th>\n      <th>Name</th>\n      <th>Sex</th>\n      <th>Age</th>\n      <th>SibSp</th>\n      <th>Parch</th>\n      <th>Ticket</th>\n      <th>Fare</th>\n      <th>Cabin</th>\n      <th>Embarked</th>\n    </tr>\n  </thead>\n  <tbody>\n    <tr>\n      <th>0</th>\n      <td>1</td>\n      <td>0</td>\n      <td>3</td>\n      <td>Braund, Mr. Owen Harris</td>\n      <td>male</td>\n      <td>22.0</td>\n      <td>1</td>\n      <td>0</td>\n      <td>A/5 21171</td>\n      <td>7.    25</td>\n      <td>NaN</td>\n      <td>S</td>\n    </tr>\n    <tr>\n      <th>1</th>\n      <td>2</td>\n      <td>1</td>\n      <td>1</td>\n      <td>Cumings, Mrs. John Bradley (Florence Briggs Th...</td>\n      <td>female</td>\n      <td>38.0</td>\n      <td>1</td>\n      <td>0</td>\n      <td>PC 17599</td>\n      <td>71.2833</td>\n      <td>C85</td>\n      <td>C</td>\n    </tr>\n    <tr>\n      <th>2</th>\n      <td>3</td>\n      <td>1</td>\n      <td>3</td>\n      <td>Heikkinen, Miss. Laina</td>\n      <td>female</td>\n      <td>26.0</td>\n      <td>0</td>\n      <td>0</td>\n      <td>STON/O2. 3101282</td>\n      <td>7.925</td>\n      <td>NaN</td>\n      <td>S</td>\n    </tr>\n    <tr>\n      <th>3</th>\n      <td>4</td>\n      <td>1</td>\n      <td>1</td>\n      <td>Futrelle, Mrs. Jacques Heath (Lily May Peel)</td>\n      <td>female</td>\n      <td>35.0</td>\n      <td>1</td>\n      <td>0</td>\n      <td>113803</td>\n      <td>53.1</td>\n      <td>C123</td>\n      <td>S</td>\n    </tr>\n    <tr>\n      <th>4</th>\n      <td>5</td>\n      <td>0</td>\n      <td>3</td>\n      <td>Allen, Mr. William Henry</td>\n      <td>male</td>\n      <td>35.0</td>\n      <td>0</td>\n      <td>0</td>\n      <td>373450</td>\n      <td>8.05</td>\n      <td>NaN</td>\n      <td>S</td>\n    </tr>\n    <tr>\n      <th>...</th>\n      <td>...</td>\n      <td>...</td>\n      <td>...</td>\n      <td>...</td>\n      <td>...</td>\n      <td>...</td>\n      <td>...</td>\n      <td>...</td>\n      <td>...</td>\n      <td>...</td>\n      <td>...</td>\n      <td>...</td>\n    </tr>\n    <tr>\n      <th>886</th>\n      <td>887</td>\n      <td>0</td>\n      <td>2</td>\n      <td>Montvila, Rev. Juozas</td>\n      <td>male</td>\n      <td>27.0</td>\n      <td>0</td>\n      <td>0</td>\n      <td>211536</td>\n      <td>13</td>\n      <td>NaN</td>\n      <td>S</td>\n    </tr>\n    <tr>\n      <th>887</th>\n      <td>888</td>\n      <td>1</td>\n      <td>1</td>\n      <td>Graham, Miss. Margaret Edith</td>\n      <td>female</td>\n      <td>19.0</td>\n      <td>0</td>\n      <td>0</td>\n      <td>112053</td>\n      <td>30</td>\n      <td>B42</td>\n      <td>S</td>\n    </tr>\n    <tr>\n      <th>888</th>\n      <td>889</td>\n      <td>0</td>\n      <td>3</td>\n      <td>Johnston, Miss. Catherine Helen \"Carrie\"</td>\n      <td>female</td>\n      <td>NaN</td>\n      <td>1</td>\n      <td>2</td>\n      <td>W./C. 6607</td>\n      <td>23.45</td>\n      <td>NaN</td>\n      <td>S</td>\n    </tr>\n    <tr>\n      <th>889</th>\n      <td>890</td>\n      <td>1</td>\n      <td>1</td>\n      <td>Behr, Mr. Karl Howell</td>\n      <td>male</td>\n      <td>26.0</td>\n      <td>0</td>\n      <td>0</td>\n      <td>111369</td>\n      <td>30</td>\n      <td>C148</td>\n      <td>C</td>\n    </tr>\n    <tr>\n      <th>890</th>\n      <td>891</td>\n      <td>0</td>\n      <td>3</td>\n      <td>Dooley, Mr. Patrick</td>\n      <td>male</td>\n      <td>32.0</td>\n      <td>0</td>\n      <td>0</td>\n      <td>370376</td>\n      <td>7.75</td>\n      <td>NaN</td>\n      <td>Q</td>\n    </tr>\n  </tbody>\n</table>\n<p>891 rows × 12 columns</p>\n</div>"
     },
     "metadata": {},
     "output_type": "display_data"
    }
   ],
   "source": [
    "url = \"train.csv\"\n",
    "\n",
    "train = pd.read_csv(url, header=0, delimiter=\",\", decimal=\".\")\n",
    "display(train)"
   ]
  },
  {
   "cell_type": "code",
   "execution_count": 759,
   "id": "673db39a",
   "metadata": {},
   "outputs": [
    {
     "name": "stdout",
     "output_type": "stream",
     "text": [
      "<class 'pandas.core.frame.DataFrame'>\n",
      "RangeIndex: 891 entries, 0 to 890\n",
      "Data columns (total 12 columns):\n",
      " #   Column       Non-Null Count  Dtype  \n",
      "---  ------       --------------  -----  \n",
      " 0   PassengerId  891 non-null    int64  \n",
      " 1   Survived     891 non-null    int64  \n",
      " 2   Pclass       891 non-null    int64  \n",
      " 3   Name         891 non-null    object \n",
      " 4   Sex          891 non-null    object \n",
      " 5   Age          714 non-null    float64\n",
      " 6   SibSp        891 non-null    int64  \n",
      " 7   Parch        891 non-null    int64  \n",
      " 8   Ticket       891 non-null    object \n",
      " 9   Fare         891 non-null    object \n",
      " 10  Cabin        204 non-null    object \n",
      " 11  Embarked     889 non-null    object \n",
      "dtypes: float64(1), int64(5), object(6)\n",
      "memory usage: 83.7+ KB\n"
     ]
    },
    {
     "data": {
      "text/plain": "None"
     },
     "metadata": {},
     "output_type": "display_data"
    }
   ],
   "source": [
    "display(train.info())"
   ]
  },
  {
   "cell_type": "code",
   "execution_count": 760,
   "id": "9c2196e8",
   "metadata": {},
   "outputs": [
    {
     "data": {
      "text/plain": "       PassengerId    Survived      Pclass         Age       SibSp       Parch\ncount   891.000000  891.000000  891.000000  714.000000  891.000000  891.000000\nmean    446.000000    0.383838    2.308642   29.699118    0.523008    0.381594\nstd     257.353842    0.486592    0.836071   14.526497    1.102743    0.806057\nmin       1.000000    0.000000    1.000000    0.420000    0.000000    0.000000\n25%     223.500000    0.000000    2.000000   20.125000    0.000000    0.000000\n50%     446.000000    0.000000    3.000000   28.000000    0.000000    0.000000\n75%     668.500000    1.000000    3.000000   38.000000    1.000000    0.000000\nmax     891.000000    1.000000    3.000000   80.000000    8.000000    6.000000",
      "text/html": "<div>\n<style scoped>\n    .dataframe tbody tr th:only-of-type {\n        vertical-align: middle;\n    }\n\n    .dataframe tbody tr th {\n        vertical-align: top;\n    }\n\n    .dataframe thead th {\n        text-align: right;\n    }\n</style>\n<table border=\"1\" class=\"dataframe\">\n  <thead>\n    <tr style=\"text-align: right;\">\n      <th></th>\n      <th>PassengerId</th>\n      <th>Survived</th>\n      <th>Pclass</th>\n      <th>Age</th>\n      <th>SibSp</th>\n      <th>Parch</th>\n    </tr>\n  </thead>\n  <tbody>\n    <tr>\n      <th>count</th>\n      <td>891.000000</td>\n      <td>891.000000</td>\n      <td>891.000000</td>\n      <td>714.000000</td>\n      <td>891.000000</td>\n      <td>891.000000</td>\n    </tr>\n    <tr>\n      <th>mean</th>\n      <td>446.000000</td>\n      <td>0.383838</td>\n      <td>2.308642</td>\n      <td>29.699118</td>\n      <td>0.523008</td>\n      <td>0.381594</td>\n    </tr>\n    <tr>\n      <th>std</th>\n      <td>257.353842</td>\n      <td>0.486592</td>\n      <td>0.836071</td>\n      <td>14.526497</td>\n      <td>1.102743</td>\n      <td>0.806057</td>\n    </tr>\n    <tr>\n      <th>min</th>\n      <td>1.000000</td>\n      <td>0.000000</td>\n      <td>1.000000</td>\n      <td>0.420000</td>\n      <td>0.000000</td>\n      <td>0.000000</td>\n    </tr>\n    <tr>\n      <th>25%</th>\n      <td>223.500000</td>\n      <td>0.000000</td>\n      <td>2.000000</td>\n      <td>20.125000</td>\n      <td>0.000000</td>\n      <td>0.000000</td>\n    </tr>\n    <tr>\n      <th>50%</th>\n      <td>446.000000</td>\n      <td>0.000000</td>\n      <td>3.000000</td>\n      <td>28.000000</td>\n      <td>0.000000</td>\n      <td>0.000000</td>\n    </tr>\n    <tr>\n      <th>75%</th>\n      <td>668.500000</td>\n      <td>1.000000</td>\n      <td>3.000000</td>\n      <td>38.000000</td>\n      <td>1.000000</td>\n      <td>0.000000</td>\n    </tr>\n    <tr>\n      <th>max</th>\n      <td>891.000000</td>\n      <td>1.000000</td>\n      <td>3.000000</td>\n      <td>80.000000</td>\n      <td>8.000000</td>\n      <td>6.000000</td>\n    </tr>\n  </tbody>\n</table>\n</div>"
     },
     "metadata": {},
     "output_type": "display_data"
    }
   ],
   "source": [
    "display(train.describe())"
   ]
  },
  {
   "cell_type": "code",
   "execution_count": 761,
   "id": "027f661c",
   "metadata": {},
   "outputs": [
    {
     "data": {
      "text/plain": "   PassengerId  Survived  Pclass  \\\n0            1         0       3   \n1            2         1       1   \n2            3         1       3   \n3            4         1       1   \n4            5         0       3   \n\n                                                Name     Sex   Age  SibSp  \\\n0                            Braund, Mr. Owen Harris    male  22.0      1   \n1  Cumings, Mrs. John Bradley (Florence Briggs Th...  female  38.0      1   \n2                             Heikkinen, Miss. Laina  female  26.0      0   \n3       Futrelle, Mrs. Jacques Heath (Lily May Peel)  female  35.0      1   \n4                           Allen, Mr. William Henry    male  35.0      0   \n\n   Parch            Ticket      Fare Cabin Embarked  \n0      0         A/5 21171  7.    25   NaN        S  \n1      0          PC 17599   71.2833   C85        C  \n2      0  STON/O2. 3101282     7.925   NaN        S  \n3      0            113803      53.1  C123        S  \n4      0            373450      8.05   NaN        S  ",
      "text/html": "<div>\n<style scoped>\n    .dataframe tbody tr th:only-of-type {\n        vertical-align: middle;\n    }\n\n    .dataframe tbody tr th {\n        vertical-align: top;\n    }\n\n    .dataframe thead th {\n        text-align: right;\n    }\n</style>\n<table border=\"1\" class=\"dataframe\">\n  <thead>\n    <tr style=\"text-align: right;\">\n      <th></th>\n      <th>PassengerId</th>\n      <th>Survived</th>\n      <th>Pclass</th>\n      <th>Name</th>\n      <th>Sex</th>\n      <th>Age</th>\n      <th>SibSp</th>\n      <th>Parch</th>\n      <th>Ticket</th>\n      <th>Fare</th>\n      <th>Cabin</th>\n      <th>Embarked</th>\n    </tr>\n  </thead>\n  <tbody>\n    <tr>\n      <th>0</th>\n      <td>1</td>\n      <td>0</td>\n      <td>3</td>\n      <td>Braund, Mr. Owen Harris</td>\n      <td>male</td>\n      <td>22.0</td>\n      <td>1</td>\n      <td>0</td>\n      <td>A/5 21171</td>\n      <td>7.    25</td>\n      <td>NaN</td>\n      <td>S</td>\n    </tr>\n    <tr>\n      <th>1</th>\n      <td>2</td>\n      <td>1</td>\n      <td>1</td>\n      <td>Cumings, Mrs. John Bradley (Florence Briggs Th...</td>\n      <td>female</td>\n      <td>38.0</td>\n      <td>1</td>\n      <td>0</td>\n      <td>PC 17599</td>\n      <td>71.2833</td>\n      <td>C85</td>\n      <td>C</td>\n    </tr>\n    <tr>\n      <th>2</th>\n      <td>3</td>\n      <td>1</td>\n      <td>3</td>\n      <td>Heikkinen, Miss. Laina</td>\n      <td>female</td>\n      <td>26.0</td>\n      <td>0</td>\n      <td>0</td>\n      <td>STON/O2. 3101282</td>\n      <td>7.925</td>\n      <td>NaN</td>\n      <td>S</td>\n    </tr>\n    <tr>\n      <th>3</th>\n      <td>4</td>\n      <td>1</td>\n      <td>1</td>\n      <td>Futrelle, Mrs. Jacques Heath (Lily May Peel)</td>\n      <td>female</td>\n      <td>35.0</td>\n      <td>1</td>\n      <td>0</td>\n      <td>113803</td>\n      <td>53.1</td>\n      <td>C123</td>\n      <td>S</td>\n    </tr>\n    <tr>\n      <th>4</th>\n      <td>5</td>\n      <td>0</td>\n      <td>3</td>\n      <td>Allen, Mr. William Henry</td>\n      <td>male</td>\n      <td>35.0</td>\n      <td>0</td>\n      <td>0</td>\n      <td>373450</td>\n      <td>8.05</td>\n      <td>NaN</td>\n      <td>S</td>\n    </tr>\n  </tbody>\n</table>\n</div>"
     },
     "metadata": {},
     "output_type": "display_data"
    }
   ],
   "source": [
    "display(train.head())"
   ]
  },
  {
   "cell_type": "code",
   "execution_count": 762,
   "outputs": [
    {
     "data": {
      "text/plain": "     PassengerId  Survived  Pclass                                      Name  \\\n886          887         0       2                     Montvila, Rev. Juozas   \n887          888         1       1              Graham, Miss. Margaret Edith   \n888          889         0       3  Johnston, Miss. Catherine Helen \"Carrie\"   \n889          890         1       1                     Behr, Mr. Karl Howell   \n890          891         0       3                       Dooley, Mr. Patrick   \n\n        Sex   Age  SibSp  Parch      Ticket   Fare Cabin Embarked  \n886    male  27.0      0      0      211536     13   NaN        S  \n887  female  19.0      0      0      112053     30   B42        S  \n888  female   NaN      1      2  W./C. 6607  23.45   NaN        S  \n889    male  26.0      0      0      111369     30  C148        C  \n890    male  32.0      0      0      370376   7.75   NaN        Q  ",
      "text/html": "<div>\n<style scoped>\n    .dataframe tbody tr th:only-of-type {\n        vertical-align: middle;\n    }\n\n    .dataframe tbody tr th {\n        vertical-align: top;\n    }\n\n    .dataframe thead th {\n        text-align: right;\n    }\n</style>\n<table border=\"1\" class=\"dataframe\">\n  <thead>\n    <tr style=\"text-align: right;\">\n      <th></th>\n      <th>PassengerId</th>\n      <th>Survived</th>\n      <th>Pclass</th>\n      <th>Name</th>\n      <th>Sex</th>\n      <th>Age</th>\n      <th>SibSp</th>\n      <th>Parch</th>\n      <th>Ticket</th>\n      <th>Fare</th>\n      <th>Cabin</th>\n      <th>Embarked</th>\n    </tr>\n  </thead>\n  <tbody>\n    <tr>\n      <th>886</th>\n      <td>887</td>\n      <td>0</td>\n      <td>2</td>\n      <td>Montvila, Rev. Juozas</td>\n      <td>male</td>\n      <td>27.0</td>\n      <td>0</td>\n      <td>0</td>\n      <td>211536</td>\n      <td>13</td>\n      <td>NaN</td>\n      <td>S</td>\n    </tr>\n    <tr>\n      <th>887</th>\n      <td>888</td>\n      <td>1</td>\n      <td>1</td>\n      <td>Graham, Miss. Margaret Edith</td>\n      <td>female</td>\n      <td>19.0</td>\n      <td>0</td>\n      <td>0</td>\n      <td>112053</td>\n      <td>30</td>\n      <td>B42</td>\n      <td>S</td>\n    </tr>\n    <tr>\n      <th>888</th>\n      <td>889</td>\n      <td>0</td>\n      <td>3</td>\n      <td>Johnston, Miss. Catherine Helen \"Carrie\"</td>\n      <td>female</td>\n      <td>NaN</td>\n      <td>1</td>\n      <td>2</td>\n      <td>W./C. 6607</td>\n      <td>23.45</td>\n      <td>NaN</td>\n      <td>S</td>\n    </tr>\n    <tr>\n      <th>889</th>\n      <td>890</td>\n      <td>1</td>\n      <td>1</td>\n      <td>Behr, Mr. Karl Howell</td>\n      <td>male</td>\n      <td>26.0</td>\n      <td>0</td>\n      <td>0</td>\n      <td>111369</td>\n      <td>30</td>\n      <td>C148</td>\n      <td>C</td>\n    </tr>\n    <tr>\n      <th>890</th>\n      <td>891</td>\n      <td>0</td>\n      <td>3</td>\n      <td>Dooley, Mr. Patrick</td>\n      <td>male</td>\n      <td>32.0</td>\n      <td>0</td>\n      <td>0</td>\n      <td>370376</td>\n      <td>7.75</td>\n      <td>NaN</td>\n      <td>Q</td>\n    </tr>\n  </tbody>\n</table>\n</div>"
     },
     "metadata": {},
     "output_type": "display_data"
    }
   ],
   "source": [
    "display(train.tail())"
   ],
   "metadata": {
    "collapsed": false
   }
  },
  {
   "cell_type": "markdown",
   "metadata": {
    "id": "zNBccg8hJmKJ"
   },
   "source": [
    "Met welk commando kan je alleen kolom `Embarked` bekijken? \n",
    "\n",
    "Combineer dit met de `.head()`-methode. Je zou een Pandas `Series` moeten krijgen die  S, C en Q's bevat."
   ]
  },
  {
   "cell_type": "code",
   "execution_count": 763,
   "id": "61b52c36",
   "metadata": {},
   "outputs": [
    {
     "name": "stdout",
     "output_type": "stream",
     "text": [
      "0    S\n",
      "1    C\n",
      "2    S\n",
      "3    S\n",
      "4    S\n",
      "Name: Embarked, dtype: object\n"
     ]
    }
   ],
   "source": [
    "print(train.Embarked.head())"
   ]
  },
  {
   "cell_type": "markdown",
   "metadata": {
    "id": "-z2KDCu0KMNp"
   },
   "source": [
    "Kolom `Embarked` staat voor *Port of Embarkation* met (C = Cherbourg; Q = Queenstown; S = Southampton).\n",
    "\n",
    "Schrijf eerst een commando om alleen de rijen over te houden waarin het vertrek C(herbourg) is. Herhaal dit voor de andere 2 havens. Met de `.loc`-methoden kan je makkelijk realiseren (het gaat ook met de vierkante haakjes)."
   ]
  },
  {
   "cell_type": "code",
   "execution_count": 764,
   "id": "aff5c90f",
   "metadata": {},
   "outputs": [
    {
     "name": "stdout",
     "output_type": "stream",
     "text": [
      "\n",
      "\n",
      "Vanuit C vertrokken 168 personen\n",
      "Vanuit Q vertrokken 77 personen\n",
      "Vanuit S vertrokken 644 personen\n"
     ]
    }
   ],
   "source": [
    "EmbarkedC = train.Embarked.isin(['C'])\n",
    "EmbarkedC = train.loc[True == EmbarkedC]\n",
    "\n",
    "EmbarkedQ = train.Embarked.isin(['Q'])\n",
    "EmbarkedQ = train.loc[True == EmbarkedQ]\n",
    "\n",
    "EmbarkedS = train.Embarked.isin(['S'])\n",
    "EmbarkedS = train.loc[True == EmbarkedS]\n",
    "\n",
    "print('\\n\\nVanuit C vertrokken {} personen\\nVanuit Q vertrokken {} personen\\nVanuit S vertrokken {} personen'.format(EmbarkedC.Embarked.size,EmbarkedQ.Embarked.size,EmbarkedS.Embarked.size))"
   ]
  },
  {
   "cell_type": "markdown",
   "metadata": {
    "id": "PGZQ3_xlQ8D1"
   },
   "source": [
    "Schrijf nu een Python `for`-loop waarmee je over een lijst van waarde `['C','Q','S']` itereert zodat je binnen de `for`-loop telkens die rijen van het dataframe selecteert die overeenstemmen met de `Embarked`-waarde uit de lijst. Voor elk van de havens print je het aantal rijen uit door op de selectie (een subdataframe dus) de `.size`-eigenschap op te roepen.\n",
    "\n",
    "Dus zoiets ongeveer:\n",
    "```python\n",
    "for haven in ['C','Q','S']:\n",
    "  \"# selecteer alle rijen die gelijk zijn de waarde 'haven'.\"\n",
    "  \"# print het aantal rijen uit met de .size - eigenschap in een duidelijke boodschap\"\n",
    "```\n",
    "\n",
    "Nota: een eigenschap is geen methode en daarom hoef je ook geen ronde haakjes te plaatsen achter `.size`.  Je zou dit resultaat moeten bekomen.\n",
    "\n",
    "```\n",
    "Vanuit C vertrokken 168 personen\n",
    "Vanuit Q vertrokken 77 personen\n",
    "Vanuit S vertrokken 644 personen\n",
    "```"
   ]
  },
  {
   "cell_type": "code",
   "execution_count": 765,
   "id": "218129b9",
   "metadata": {},
   "outputs": [
    {
     "name": "stdout",
     "output_type": "stream",
     "text": [
      "Vanuit C vertrokken 168 personen\n",
      "Vanuit Q vertrokken 77 personen\n",
      "Vanuit S vertrokken 644 personen\n"
     ]
    }
   ],
   "source": [
    "for x in ['C','Q','S']:\n",
    "    y = train.loc[train.Embarked == x]\n",
    "    print('Vanuit {} vertrokken {} personen'.format(x,y.Embarked.size))"
   ]
  },
  {
   "cell_type": "markdown",
   "metadata": {
    "id": "OUdO_P9lTAS8"
   },
   "source": [
    "Een waarde in een dataframe vervangen kan m.b.v. het toekenningsstatement (`=`).\n",
    "\n",
    "```\n",
    "df.kolom_naam = nieuwe_waarde\n",
    "```\n",
    "\n",
    "Je kan dit ook combineren met een selectie op bepaalde rijen zoals je hierboven reeds toepaste.\n",
    "\n",
    "We willen de afkortingen van de havens vervangen door de volledige namen van havens van vertrek. Zoals steeds kan dit op verschillende manieren en in dit oefenboek bekijken we dan enkele mogelijke oplossingen. \n",
    "\n",
    "Gebruik de `.loc`-eigenschap om eerst alleen de kolom `Embarked` te selecteren met de waarde gelijk aan 'C'. Je moet hiervoor een komma gebruiken binnen de haakjes van `.loc` (`.loc[ , ]`). Probeer vervolgens de nieuwe waarde 'Cherbourg' toe te kennen aan de geselecteerde gegevens.\n",
    "\n",
    "*Let op: als je fout maakt, moet je het originele dataframe herladen met de eerste stap. Veiliger is om eerst een kopie te maken en daarop te proberen. Je kan een kopie `train2` maken met de `.copy()`-methode of met een toekenning aan een nieuwe variabele*\n"
   ]
  },
  {
   "cell_type": "code",
   "execution_count": 766,
   "id": "b1cd9403",
   "metadata": {},
   "outputs": [
    {
     "data": {
      "text/plain": "     PassengerId  Survived  Pclass  \\\n0              1         0       3   \n1              2         1       1   \n2              3         1       3   \n3              4         1       1   \n4              5         0       3   \n..           ...       ...     ...   \n886          887         0       2   \n887          888         1       1   \n888          889         0       3   \n889          890         1       1   \n890          891         0       3   \n\n                                                  Name     Sex   Age  SibSp  \\\n0                              Braund, Mr. Owen Harris    male  22.0      1   \n1    Cumings, Mrs. John Bradley (Florence Briggs Th...  female  38.0      1   \n2                               Heikkinen, Miss. Laina  female  26.0      0   \n3         Futrelle, Mrs. Jacques Heath (Lily May Peel)  female  35.0      1   \n4                             Allen, Mr. William Henry    male  35.0      0   \n..                                                 ...     ...   ...    ...   \n886                              Montvila, Rev. Juozas    male  27.0      0   \n887                       Graham, Miss. Margaret Edith  female  19.0      0   \n888           Johnston, Miss. Catherine Helen \"Carrie\"  female   NaN      1   \n889                              Behr, Mr. Karl Howell    male  26.0      0   \n890                                Dooley, Mr. Patrick    male  32.0      0   \n\n     Parch            Ticket      Fare Cabin Embarked  \n0        0         A/5 21171  7.    25   NaN        S  \n1        0          PC 17599   71.2833   C85        C  \n2        0  STON/O2. 3101282     7.925   NaN        S  \n3        0            113803      53.1  C123        S  \n4        0            373450      8.05   NaN        S  \n..     ...               ...       ...   ...      ...  \n886      0            211536        13   NaN        S  \n887      0            112053        30   B42        S  \n888      2        W./C. 6607     23.45   NaN        S  \n889      0            111369        30  C148        C  \n890      0            370376      7.75   NaN        Q  \n\n[891 rows x 12 columns]",
      "text/html": "<div>\n<style scoped>\n    .dataframe tbody tr th:only-of-type {\n        vertical-align: middle;\n    }\n\n    .dataframe tbody tr th {\n        vertical-align: top;\n    }\n\n    .dataframe thead th {\n        text-align: right;\n    }\n</style>\n<table border=\"1\" class=\"dataframe\">\n  <thead>\n    <tr style=\"text-align: right;\">\n      <th></th>\n      <th>PassengerId</th>\n      <th>Survived</th>\n      <th>Pclass</th>\n      <th>Name</th>\n      <th>Sex</th>\n      <th>Age</th>\n      <th>SibSp</th>\n      <th>Parch</th>\n      <th>Ticket</th>\n      <th>Fare</th>\n      <th>Cabin</th>\n      <th>Embarked</th>\n    </tr>\n  </thead>\n  <tbody>\n    <tr>\n      <th>0</th>\n      <td>1</td>\n      <td>0</td>\n      <td>3</td>\n      <td>Braund, Mr. Owen Harris</td>\n      <td>male</td>\n      <td>22.0</td>\n      <td>1</td>\n      <td>0</td>\n      <td>A/5 21171</td>\n      <td>7.    25</td>\n      <td>NaN</td>\n      <td>S</td>\n    </tr>\n    <tr>\n      <th>1</th>\n      <td>2</td>\n      <td>1</td>\n      <td>1</td>\n      <td>Cumings, Mrs. John Bradley (Florence Briggs Th...</td>\n      <td>female</td>\n      <td>38.0</td>\n      <td>1</td>\n      <td>0</td>\n      <td>PC 17599</td>\n      <td>71.2833</td>\n      <td>C85</td>\n      <td>C</td>\n    </tr>\n    <tr>\n      <th>2</th>\n      <td>3</td>\n      <td>1</td>\n      <td>3</td>\n      <td>Heikkinen, Miss. Laina</td>\n      <td>female</td>\n      <td>26.0</td>\n      <td>0</td>\n      <td>0</td>\n      <td>STON/O2. 3101282</td>\n      <td>7.925</td>\n      <td>NaN</td>\n      <td>S</td>\n    </tr>\n    <tr>\n      <th>3</th>\n      <td>4</td>\n      <td>1</td>\n      <td>1</td>\n      <td>Futrelle, Mrs. Jacques Heath (Lily May Peel)</td>\n      <td>female</td>\n      <td>35.0</td>\n      <td>1</td>\n      <td>0</td>\n      <td>113803</td>\n      <td>53.1</td>\n      <td>C123</td>\n      <td>S</td>\n    </tr>\n    <tr>\n      <th>4</th>\n      <td>5</td>\n      <td>0</td>\n      <td>3</td>\n      <td>Allen, Mr. William Henry</td>\n      <td>male</td>\n      <td>35.0</td>\n      <td>0</td>\n      <td>0</td>\n      <td>373450</td>\n      <td>8.05</td>\n      <td>NaN</td>\n      <td>S</td>\n    </tr>\n    <tr>\n      <th>...</th>\n      <td>...</td>\n      <td>...</td>\n      <td>...</td>\n      <td>...</td>\n      <td>...</td>\n      <td>...</td>\n      <td>...</td>\n      <td>...</td>\n      <td>...</td>\n      <td>...</td>\n      <td>...</td>\n      <td>...</td>\n    </tr>\n    <tr>\n      <th>886</th>\n      <td>887</td>\n      <td>0</td>\n      <td>2</td>\n      <td>Montvila, Rev. Juozas</td>\n      <td>male</td>\n      <td>27.0</td>\n      <td>0</td>\n      <td>0</td>\n      <td>211536</td>\n      <td>13</td>\n      <td>NaN</td>\n      <td>S</td>\n    </tr>\n    <tr>\n      <th>887</th>\n      <td>888</td>\n      <td>1</td>\n      <td>1</td>\n      <td>Graham, Miss. Margaret Edith</td>\n      <td>female</td>\n      <td>19.0</td>\n      <td>0</td>\n      <td>0</td>\n      <td>112053</td>\n      <td>30</td>\n      <td>B42</td>\n      <td>S</td>\n    </tr>\n    <tr>\n      <th>888</th>\n      <td>889</td>\n      <td>0</td>\n      <td>3</td>\n      <td>Johnston, Miss. Catherine Helen \"Carrie\"</td>\n      <td>female</td>\n      <td>NaN</td>\n      <td>1</td>\n      <td>2</td>\n      <td>W./C. 6607</td>\n      <td>23.45</td>\n      <td>NaN</td>\n      <td>S</td>\n    </tr>\n    <tr>\n      <th>889</th>\n      <td>890</td>\n      <td>1</td>\n      <td>1</td>\n      <td>Behr, Mr. Karl Howell</td>\n      <td>male</td>\n      <td>26.0</td>\n      <td>0</td>\n      <td>0</td>\n      <td>111369</td>\n      <td>30</td>\n      <td>C148</td>\n      <td>C</td>\n    </tr>\n    <tr>\n      <th>890</th>\n      <td>891</td>\n      <td>0</td>\n      <td>3</td>\n      <td>Dooley, Mr. Patrick</td>\n      <td>male</td>\n      <td>32.0</td>\n      <td>0</td>\n      <td>0</td>\n      <td>370376</td>\n      <td>7.75</td>\n      <td>NaN</td>\n      <td>Q</td>\n    </tr>\n  </tbody>\n</table>\n<p>891 rows × 12 columns</p>\n</div>"
     },
     "metadata": {},
     "output_type": "display_data"
    }
   ],
   "source": [
    "train2 = train.copy()\n",
    "\n",
    "display(train2)"
   ]
  },
  {
   "cell_type": "markdown",
   "metadata": {
    "id": "o4e1xI7LYoxO"
   },
   "source": [
    "Als je zeker bent dat je commando's gewerkt hebben op de kopie van onze train dataset kunnen we nu alle wijzigingen in één keer doorvoeren m.b.v. een for-loop.\n",
    "\n",
    "```python\n",
    "for afkorting, haven in [('C', 'Cherbourg'), ('Q', 'Queenstown'), ('S','Southampton')]:\n",
    "  \"# selecteer de juiste rijen en vervang daarin de afkorting door de volledige naam\"\n",
    "```\n",
    "\n",
    "Met bovenstaande code doorloop je een lijst van tuples. Per iteratie haal je twee gegevens op: de afkorting en de naam van de haven. "
   ]
  },
  {
   "cell_type": "code",
   "execution_count": 767,
   "id": "c30f5d42",
   "metadata": {},
   "outputs": [
    {
     "data": {
      "text/plain": "     PassengerId  Survived  Pclass  \\\n0              1         0       3   \n1              2         1       1   \n2              3         1       3   \n3              4         1       1   \n4              5         0       3   \n..           ...       ...     ...   \n886          887         0       2   \n887          888         1       1   \n888          889         0       3   \n889          890         1       1   \n890          891         0       3   \n\n                                                  Name     Sex   Age  SibSp  \\\n0                              Braund, Mr. Owen Harris    male  22.0      1   \n1    Cumings, Mrs. John Bradley (Florence Briggs Th...  female  38.0      1   \n2                               Heikkinen, Miss. Laina  female  26.0      0   \n3         Futrelle, Mrs. Jacques Heath (Lily May Peel)  female  35.0      1   \n4                             Allen, Mr. William Henry    male  35.0      0   \n..                                                 ...     ...   ...    ...   \n886                              Montvila, Rev. Juozas    male  27.0      0   \n887                       Graham, Miss. Margaret Edith  female  19.0      0   \n888           Johnston, Miss. Catherine Helen \"Carrie\"  female   NaN      1   \n889                              Behr, Mr. Karl Howell    male  26.0      0   \n890                                Dooley, Mr. Patrick    male  32.0      0   \n\n     Parch            Ticket      Fare Cabin     Embarked  \n0        0         A/5 21171  7.    25   NaN  Southampton  \n1        0          PC 17599   71.2833   C85    Cherbourg  \n2        0  STON/O2. 3101282     7.925   NaN  Southampton  \n3        0            113803      53.1  C123  Southampton  \n4        0            373450      8.05   NaN  Southampton  \n..     ...               ...       ...   ...          ...  \n886      0            211536        13   NaN  Southampton  \n887      0            112053        30   B42  Southampton  \n888      2        W./C. 6607     23.45   NaN  Southampton  \n889      0            111369        30  C148    Cherbourg  \n890      0            370376      7.75   NaN   Queenstown  \n\n[891 rows x 12 columns]",
      "text/html": "<div>\n<style scoped>\n    .dataframe tbody tr th:only-of-type {\n        vertical-align: middle;\n    }\n\n    .dataframe tbody tr th {\n        vertical-align: top;\n    }\n\n    .dataframe thead th {\n        text-align: right;\n    }\n</style>\n<table border=\"1\" class=\"dataframe\">\n  <thead>\n    <tr style=\"text-align: right;\">\n      <th></th>\n      <th>PassengerId</th>\n      <th>Survived</th>\n      <th>Pclass</th>\n      <th>Name</th>\n      <th>Sex</th>\n      <th>Age</th>\n      <th>SibSp</th>\n      <th>Parch</th>\n      <th>Ticket</th>\n      <th>Fare</th>\n      <th>Cabin</th>\n      <th>Embarked</th>\n    </tr>\n  </thead>\n  <tbody>\n    <tr>\n      <th>0</th>\n      <td>1</td>\n      <td>0</td>\n      <td>3</td>\n      <td>Braund, Mr. Owen Harris</td>\n      <td>male</td>\n      <td>22.0</td>\n      <td>1</td>\n      <td>0</td>\n      <td>A/5 21171</td>\n      <td>7.    25</td>\n      <td>NaN</td>\n      <td>Southampton</td>\n    </tr>\n    <tr>\n      <th>1</th>\n      <td>2</td>\n      <td>1</td>\n      <td>1</td>\n      <td>Cumings, Mrs. John Bradley (Florence Briggs Th...</td>\n      <td>female</td>\n      <td>38.0</td>\n      <td>1</td>\n      <td>0</td>\n      <td>PC 17599</td>\n      <td>71.2833</td>\n      <td>C85</td>\n      <td>Cherbourg</td>\n    </tr>\n    <tr>\n      <th>2</th>\n      <td>3</td>\n      <td>1</td>\n      <td>3</td>\n      <td>Heikkinen, Miss. Laina</td>\n      <td>female</td>\n      <td>26.0</td>\n      <td>0</td>\n      <td>0</td>\n      <td>STON/O2. 3101282</td>\n      <td>7.925</td>\n      <td>NaN</td>\n      <td>Southampton</td>\n    </tr>\n    <tr>\n      <th>3</th>\n      <td>4</td>\n      <td>1</td>\n      <td>1</td>\n      <td>Futrelle, Mrs. Jacques Heath (Lily May Peel)</td>\n      <td>female</td>\n      <td>35.0</td>\n      <td>1</td>\n      <td>0</td>\n      <td>113803</td>\n      <td>53.1</td>\n      <td>C123</td>\n      <td>Southampton</td>\n    </tr>\n    <tr>\n      <th>4</th>\n      <td>5</td>\n      <td>0</td>\n      <td>3</td>\n      <td>Allen, Mr. William Henry</td>\n      <td>male</td>\n      <td>35.0</td>\n      <td>0</td>\n      <td>0</td>\n      <td>373450</td>\n      <td>8.05</td>\n      <td>NaN</td>\n      <td>Southampton</td>\n    </tr>\n    <tr>\n      <th>...</th>\n      <td>...</td>\n      <td>...</td>\n      <td>...</td>\n      <td>...</td>\n      <td>...</td>\n      <td>...</td>\n      <td>...</td>\n      <td>...</td>\n      <td>...</td>\n      <td>...</td>\n      <td>...</td>\n      <td>...</td>\n    </tr>\n    <tr>\n      <th>886</th>\n      <td>887</td>\n      <td>0</td>\n      <td>2</td>\n      <td>Montvila, Rev. Juozas</td>\n      <td>male</td>\n      <td>27.0</td>\n      <td>0</td>\n      <td>0</td>\n      <td>211536</td>\n      <td>13</td>\n      <td>NaN</td>\n      <td>Southampton</td>\n    </tr>\n    <tr>\n      <th>887</th>\n      <td>888</td>\n      <td>1</td>\n      <td>1</td>\n      <td>Graham, Miss. Margaret Edith</td>\n      <td>female</td>\n      <td>19.0</td>\n      <td>0</td>\n      <td>0</td>\n      <td>112053</td>\n      <td>30</td>\n      <td>B42</td>\n      <td>Southampton</td>\n    </tr>\n    <tr>\n      <th>888</th>\n      <td>889</td>\n      <td>0</td>\n      <td>3</td>\n      <td>Johnston, Miss. Catherine Helen \"Carrie\"</td>\n      <td>female</td>\n      <td>NaN</td>\n      <td>1</td>\n      <td>2</td>\n      <td>W./C. 6607</td>\n      <td>23.45</td>\n      <td>NaN</td>\n      <td>Southampton</td>\n    </tr>\n    <tr>\n      <th>889</th>\n      <td>890</td>\n      <td>1</td>\n      <td>1</td>\n      <td>Behr, Mr. Karl Howell</td>\n      <td>male</td>\n      <td>26.0</td>\n      <td>0</td>\n      <td>0</td>\n      <td>111369</td>\n      <td>30</td>\n      <td>C148</td>\n      <td>Cherbourg</td>\n    </tr>\n    <tr>\n      <th>890</th>\n      <td>891</td>\n      <td>0</td>\n      <td>3</td>\n      <td>Dooley, Mr. Patrick</td>\n      <td>male</td>\n      <td>32.0</td>\n      <td>0</td>\n      <td>0</td>\n      <td>370376</td>\n      <td>7.75</td>\n      <td>NaN</td>\n      <td>Queenstown</td>\n    </tr>\n  </tbody>\n</table>\n<p>891 rows × 12 columns</p>\n</div>"
     },
     "metadata": {},
     "output_type": "display_data"
    }
   ],
   "source": [
    "for afkorting, haven in [('C', 'Cherbourg'), ('Q', 'Queenstown'), ('S','Southampton')]:\n",
    "    train2.loc[train2.Embarked == afkorting, 'Embarked'] = haven\n",
    "\n",
    "display(train2)"
   ]
  }
 ],
 "metadata": {
  "colab": {
   "collapsed_sections": [
    "jTqjbaLYHuNU",
    "TmeLygtbH3pz",
    "2ZqZPPkLH7rH"
   ],
   "name": "Oefenboek op Pandas Dataframe - oplossingen.ipynb",
   "provenance": [],
   "toc_visible": true
  },
  "kernelspec": {
   "display_name": "Python 3",
   "language": "python",
   "name": "python3"
  },
  "language_info": {
   "codemirror_mode": {
    "name": "ipython",
    "version": 2
   },
   "file_extension": ".py",
   "mimetype": "text/x-python",
   "name": "python",
   "nbconvert_exporter": "python",
   "pygments_lexer": "ipython2",
   "version": "2.7.6"
  }
 },
 "nbformat": 4,
 "nbformat_minor": 0
}
