{
 "cells": [
  {
   "cell_type": "code",
   "execution_count": 832,
   "metadata": {
    "id": "e7b739b8"
   },
   "outputs": [],
   "source": [
    "import pandas as pd\n",
    "import numpy as np"
   ]
  },
  {
   "cell_type": "markdown",
   "metadata": {
    "collapsed": true,
    "id": "OWpwKVd1Y1Zg"
   },
   "source": [
    "# Opgaven op Python, Numpy en Pandas\n",
    "In de opgaveboekjes is het de bedoeling dat je zelf eerst goed zoekt, en wroet om oplossingen te vinden. Dit is de beste manier om veel bij te leren."
   ]
  },
  {
   "cell_type": "markdown",
   "metadata": {
    "collapsed": false,
    "id": "2kzmpSpFY1Zi"
   },
   "source": [
    "## Vraag 1\n",
    "Maak een Pandas tabel met 4 kolommen.\n",
    "* id: 1, 2, 3, 4, 5\n",
    "* leeftijd: 15, 18, 11, 17, 20\n",
    "* gewicht: 54, 68, 41, 59, 65\n",
    "* temp: 36.5, 37.1, 36.4, 37.2, 36.9\n",
    "\n",
    "Je kunt deze aanmaken op verschillende manieren, hoe meer je er vindt, hoe beter je de leerstof onder de knie hebt.\n",
    "\n",
    "Enkele begrippen die je kunnen leiden in je zoektocht:\n",
    "* een Python dictionary met Python lists\n",
    "* een Python dictionary met Pandas Series\n",
    "* een 2D - Numpy array"
   ]
  },
  {
   "cell_type": "code",
   "execution_count": 833,
   "metadata": {
    "colab": {
     "base_uri": "https://localhost:8080/"
    },
    "id": "096b8803",
    "executionInfo": {
     "status": "ok",
     "timestamp": 1676487330210,
     "user_tz": -60,
     "elapsed": 195,
     "user": {
      "displayName": "Rony Baekeland",
      "userId": "01731985152349302060"
     }
    },
    "outputId": "a48d481b-5197-4e01-b12c-8fce29e8c072"
   },
   "outputs": [
    {
     "name": "stdout",
     "output_type": "stream",
     "text": [
      "   id  leeftijd  gewicht  temp\n",
      "0   1        15       54  36.5\n",
      "1   2        18       68  37.1\n",
      "2   3        11       41  36.4\n",
      "3   4        17       59  37.2\n",
      "4   5        20       65  36.9\n"
     ]
    }
   ],
   "source": [
    "data = {\"id\": pd.Series([1, 2, 3, 4, 5]),\n",
    "        \"leeftijd\": pd.Series([15, 18, 11, 17, 20]),\n",
    "        \"gewicht\": pd.Series([54, 68, 41, 59, 65]),\n",
    "        \"temp\": pd.Series([36.5, 37.1, 36.4, 37.2, 36.9])}\n",
    "\n",
    "df = pd.DataFrame(data)\n",
    "print(df)"
   ]
  },
  {
   "cell_type": "code",
   "execution_count": 834,
   "metadata": {
    "id": "fa0f55dd",
    "executionInfo": {
     "status": "ok",
     "timestamp": 1676487926477,
     "user_tz": -60,
     "elapsed": 199,
     "user": {
      "displayName": "Rony Baekeland",
      "userId": "01731985152349302060"
     }
    },
    "colab": {
     "base_uri": "https://localhost:8080/"
    },
    "outputId": "0ff8fd4b-74c4-4351-9a6f-b2f96262a891"
   },
   "outputs": [
    {
     "name": "stdout",
     "output_type": "stream",
     "text": [
      "   id  leeftijd  gewicht  temp\n",
      "0   1        15       54  36.5\n",
      "1   2        18       68  37.1\n",
      "2   3        11       41  36.4\n",
      "3   4        17       59  37.2\n",
      "4   5        20       65  36.9\n"
     ]
    }
   ],
   "source": [
    "data = {\"id\": [1, 2, 3, 4, 5],\n",
    "        \"leeftijd\": [15, 18, 11, 17, 20],\n",
    "        \"gewicht\": [54, 68, 41, 59, 65],\n",
    "        \"temp\": [36.5, 37.1, 36.4, 37.2, 36.9]}\n",
    "\n",
    "df = pd.DataFrame(data)\n",
    "print(df)"
   ]
  },
  {
   "cell_type": "code",
   "execution_count": 835,
   "metadata": {
    "id": "9a683aa5",
    "colab": {
     "base_uri": "https://localhost:8080/"
    },
    "executionInfo": {
     "status": "ok",
     "timestamp": 1676487900602,
     "user_tz": -60,
     "elapsed": 236,
     "user": {
      "displayName": "Rony Baekeland",
      "userId": "01731985152349302060"
     }
    },
    "outputId": "ac3632fa-8781-4827-d20c-c7b5f8719ee9"
   },
   "outputs": [
    {
     "name": "stdout",
     "output_type": "stream",
     "text": [
      "    id  leeftijd  gewicht  temp\n",
      "0  1.0      15.0     54.0  36.5\n",
      "1  2.0      18.0     68.0  37.1\n",
      "2  3.0      11.0     41.0  36.4\n",
      "3  4.0      17.0     59.0  37.2\n",
      "4  5.0      20.0     65.0  36.9\n"
     ]
    }
   ],
   "source": [
    "data = np.array([[1, 15, 54, 36.5],\n",
    "                 [2, 18, 68, 37.1],\n",
    "                 [3, 11, 41, 36.4],\n",
    "                 [4, 17, 59, 37.2],\n",
    "                 [5, 20, 65, 36.9]])\n",
    "\n",
    "df = pd.DataFrame(data, columns=[\"id\", \"leeftijd\", \"gewicht\", \"temp\"])\n",
    "print(df)"
   ]
  },
  {
   "cell_type": "markdown",
   "metadata": {
    "collapsed": false,
    "id": "uwlhrsNJY1Zl"
   },
   "source": [
    "## Vraag 2\n",
    "Haal de 2e kolom uit de tabel. Hier zijn heel veel mogelijkheden om te doen.\n",
    "Bekijk per mogelijkheid ook welke Python type het is. Vind je ze alle 7?"
   ]
  },
  {
   "cell_type": "code",
   "execution_count": 836,
   "metadata": {
    "id": "ef8ac94d"
   },
   "outputs": [
    {
     "name": "stdout",
     "output_type": "stream",
     "text": [
      "0    15.0\n",
      "1    18.0\n",
      "2    11.0\n",
      "3    17.0\n",
      "4    20.0\n",
      "Name: leeftijd, dtype: float64\n",
      "<class 'pandas.core.series.Series'>\n"
     ]
    }
   ],
   "source": [
    "# 1\n",
    "col_2 = df['leeftijd']\n",
    "print(col_2)\n",
    "print(type(col_2))"
   ]
  },
  {
   "cell_type": "code",
   "execution_count": 837,
   "metadata": {
    "id": "200599a5"
   },
   "outputs": [
    {
     "name": "stdout",
     "output_type": "stream",
     "text": [
      "0    15.0\n",
      "1    18.0\n",
      "2    11.0\n",
      "3    17.0\n",
      "4    20.0\n",
      "Name: leeftijd, dtype: float64\n",
      "<class 'pandas.core.series.Series'>\n"
     ]
    }
   ],
   "source": [
    "# 2\n",
    "col_2 = df.leeftijd\n",
    "print(col_2)\n",
    "print(type(col_2))"
   ]
  },
  {
   "cell_type": "code",
   "execution_count": 838,
   "metadata": {
    "id": "7f181a4a"
   },
   "outputs": [
    {
     "name": "stdout",
     "output_type": "stream",
     "text": [
      "0    15.0\n",
      "1    18.0\n",
      "2    11.0\n",
      "3    17.0\n",
      "4    20.0\n",
      "Name: leeftijd, dtype: float64\n",
      "<class 'pandas.core.series.Series'>\n"
     ]
    }
   ],
   "source": [
    "# 3\n",
    "col_2 = df.iloc[:,1]\n",
    "print(col_2)\n",
    "print(type(col_2))"
   ]
  },
  {
   "cell_type": "code",
   "execution_count": 839,
   "metadata": {
    "id": "2f90e30f"
   },
   "outputs": [
    {
     "name": "stdout",
     "output_type": "stream",
     "text": [
      "0    15.0\n",
      "1    18.0\n",
      "2    11.0\n",
      "3    17.0\n",
      "4    20.0\n",
      "Name: leeftijd, dtype: float64\n",
      "<class 'pandas.core.series.Series'>\n"
     ]
    }
   ],
   "source": [
    "# 4\n",
    "col_2 = df.loc[:,'leeftijd']\n",
    "print(col_2)\n",
    "print(type(col_2))"
   ]
  },
  {
   "cell_type": "markdown",
   "metadata": {
    "collapsed": false,
    "id": "2xZu0bPeY1Zq"
   },
   "source": [
    "## Vraag 3\n",
    "Haal de 3e rij uit de tabel"
   ]
  },
  {
   "cell_type": "code",
   "execution_count": 840,
   "metadata": {
    "id": "6753f967"
   },
   "outputs": [
    {
     "name": "stdout",
     "output_type": "stream",
     "text": [
      "11.0\n"
     ]
    }
   ],
   "source": [
    "print(col_2[2])"
   ]
  },
  {
   "cell_type": "markdown",
   "metadata": {
    "collapsed": false,
    "id": "WxsW0DLTY1Zq"
   },
   "source": [
    "## Vraag 4\n",
    "Bereken de minimum- en maximumleeftijd"
   ]
  },
  {
   "cell_type": "code",
   "execution_count": 841,
   "metadata": {
    "id": "9dc7d27d"
   },
   "outputs": [
    {
     "data": {
      "text/plain": "11.0"
     },
     "metadata": {},
     "output_type": "display_data"
    },
    {
     "data": {
      "text/plain": "20.0"
     },
     "metadata": {},
     "output_type": "display_data"
    }
   ],
   "source": [
    "# 1\n",
    "display(round(df['leeftijd'].min(),2))\n",
    "\n",
    "# 2\n",
    "display(round(df['leeftijd'].max(),2))"
   ]
  },
  {
   "cell_type": "markdown",
   "metadata": {
    "collapsed": false,
    "id": "05bS7xz3Y1Zr"
   },
   "source": [
    "## Vraag 5\n",
    "Bereken de som van alle gewichten en deel die door het aantal gewichten"
   ]
  },
  {
   "cell_type": "code",
   "execution_count": 842,
   "metadata": {
    "id": "6bf4b180"
   },
   "outputs": [
    {
     "name": "stdout",
     "output_type": "stream",
     "text": [
      "57.4\n"
     ]
    }
   ],
   "source": [
    "print(round(df['gewicht'].mean(),2))"
   ]
  },
  {
   "cell_type": "markdown",
   "metadata": {
    "collapsed": false,
    "id": "qA_o1edoY1Zs"
   },
   "source": [
    "## Vraag 6\n",
    "Deel alle gewichten door 1000"
   ]
  },
  {
   "cell_type": "code",
   "execution_count": 843,
   "metadata": {
    "id": "6c3beeb0"
   },
   "outputs": [
    {
     "name": "stdout",
     "output_type": "stream",
     "text": [
      "0    0.05\n",
      "1    0.07\n",
      "2    0.04\n",
      "3    0.06\n",
      "4    0.06\n",
      "Name: gewicht, dtype: float64\n"
     ]
    }
   ],
   "source": [
    "print(round(df['gewicht']/1000,2))"
   ]
  },
  {
   "cell_type": "markdown",
   "metadata": {
    "collapsed": false,
    "id": "3ie-hHhwY1Zs"
   },
   "source": [
    "## Vraag 7\n",
    "Zet alle temperaturen om naar Fahrenheit"
   ]
  },
  {
   "cell_type": "code",
   "execution_count": 844,
   "metadata": {
    "id": "cf6e255e"
   },
   "outputs": [
    {
     "name": "stdout",
     "output_type": "stream",
     "text": [
      "    id  leeftijd  gewicht   temp\n",
      "0  1.0      15.0     54.0  97.70\n",
      "1  2.0      18.0     68.0  98.78\n",
      "2  3.0      11.0     41.0  97.52\n",
      "3  4.0      17.0     59.0  98.96\n",
      "4  5.0      20.0     65.0  98.42\n"
     ]
    }
   ],
   "source": [
    "df['temp'] = round(df['temp'].apply(lambda x: (x * 1.8) + 32),2)\n",
    "\n",
    "print(df)"
   ]
  },
  {
   "cell_type": "markdown",
   "metadata": {
    "collapsed": false,
    "id": "ePE9VCdKY1Zt"
   },
   "source": [
    "## Vraag 8\n",
    "Bewaar de tabel in een bestand"
   ]
  },
  {
   "cell_type": "code",
   "execution_count": 845,
   "metadata": {
    "id": "307e2c4b"
   },
   "outputs": [],
   "source": [
    "# Save the DataFrame to a CSV file\n",
    "df.to_csv('data.csv', index=False)"
   ]
  },
  {
   "cell_type": "markdown",
   "metadata": {
    "collapsed": false,
    "id": "krs9aKj6Y1Zu"
   },
   "source": [
    "## Vraag 9\n",
    "Open de tabel in PyCharm als een datatabel (tabblad Data onderaan), verander er iets aan en bewaar terug."
   ]
  },
  {
   "cell_type": "code",
   "execution_count": 846,
   "metadata": {
    "id": "b58e6d69"
   },
   "outputs": [],
   "source": [
    "# id,leeftijd,gewicht,temp\n",
    "# 1.0,15.0,54.0,97.7\n",
    "# 2.0,18.0,68.0,98.78\n",
    "# 3.0,11.0,41.0,97.52\n",
    "# 4.0,17.0,59.0,98.96\n",
    "# 5.0,20.0,65.0,98.42\n",
    "\n",
    "# To\n",
    "\n",
    "# id,leeftijd,gewicht,temp\n",
    "# 1.0,30.0,54.0,97.7\n",
    "# 2.0,18.0,68.0,98.78\n",
    "# 3.0,11.0,41.0,97.52\n",
    "# 4.0,17.0,59.0,98.96\n",
    "# 5.0,20.0,65.0,98.42"
   ]
  },
  {
   "cell_type": "markdown",
   "metadata": {
    "collapsed": false,
    "id": "PQACcHc_Y1Zu"
   },
   "source": [
    "## Vraag 10\n",
    "Lees de tabel terug uit het bestand"
   ]
  },
  {
   "cell_type": "code",
   "execution_count": 847,
   "metadata": {
    "id": "29ecab37"
   },
   "outputs": [
    {
     "name": "stdout",
     "output_type": "stream",
     "text": [
      "    id  leeftijd  gewicht   temp\n",
      "0  1.0      15.0     54.0  97.70\n",
      "1  2.0      18.0     68.0  98.78\n",
      "2  3.0      11.0     41.0  97.52\n",
      "3  4.0      17.0     59.0  98.96\n",
      "4  5.0      20.0     65.0  98.42\n"
     ]
    }
   ],
   "source": [
    "df = pd.read_csv('data.csv')\n",
    "print(df)"
   ]
  },
  {
   "cell_type": "markdown",
   "metadata": {
    "collapsed": false,
    "id": "khR9qrsoY1Zv"
   },
   "source": [
    "## Vraag 11\n",
    "Verwijder de kolom “id”"
   ]
  },
  {
   "cell_type": "code",
   "execution_count": 848,
   "metadata": {
    "id": "c49ca630"
   },
   "outputs": [
    {
     "name": "stdout",
     "output_type": "stream",
     "text": [
      "   leeftijd  gewicht   temp\n",
      "0      15.0     54.0  97.70\n",
      "1      18.0     68.0  98.78\n",
      "2      11.0     41.0  97.52\n",
      "3      17.0     59.0  98.96\n",
      "4      20.0     65.0  98.42\n"
     ]
    }
   ],
   "source": [
    "# Remove the 'id' column\n",
    "df = df.drop('id', axis=1)\n",
    "\n",
    "# Show the updated DataFrame\n",
    "print(df)"
   ]
  },
  {
   "cell_type": "markdown",
   "metadata": {
    "collapsed": false,
    "id": "XYRyp1ZnY1Zw"
   },
   "source": [
    "## Vraag 12\n",
    "Voeg een kolom “lengte” toe met gegevens: 160, 175, 162, 169, 179"
   ]
  },
  {
   "cell_type": "code",
   "execution_count": 849,
   "metadata": {
    "id": "17d11bc3"
   },
   "outputs": [
    {
     "name": "stdout",
     "output_type": "stream",
     "text": [
      "   leeftijd  gewicht   temp  lengte\n",
      "0      15.0     54.0  97.70     160\n",
      "1      18.0     68.0  98.78     175\n",
      "2      11.0     41.0  97.52     162\n",
      "3      17.0     59.0  98.96     169\n",
      "4      20.0     65.0  98.42     179\n"
     ]
    }
   ],
   "source": [
    "# Add a new column 'lengte'\n",
    "lengte = [160, 175, 162, 169, 179]\n",
    "df['lengte'] = lengte\n",
    "\n",
    "# Show the updated DataFrame\n",
    "print(df)"
   ]
  },
  {
   "cell_type": "markdown",
   "metadata": {
    "collapsed": false,
    "id": "KnxePLXhY1Zw"
   },
   "source": [
    "## Vraag 13\n",
    "Bereken de BMI van iedere persoon in de tabel"
   ]
  },
  {
   "cell_type": "code",
   "execution_count": 850,
   "metadata": {
    "id": "3e5c7100"
   },
   "outputs": [],
   "source": [
    "# Calculate the BMI\n",
    "BMI = round(df['gewicht'] / (df['lengte'] / 100) ** 2 ,2)"
   ]
  },
  {
   "cell_type": "markdown",
   "metadata": {
    "collapsed": false,
    "id": "FQyqVcNhY1Zx"
   },
   "source": [
    "## Vraag 14\n",
    "Voeg deze BMI als kolom toe aan de tabel"
   ]
  },
  {
   "cell_type": "code",
   "execution_count": 851,
   "metadata": {
    "id": "528bfe21"
   },
   "outputs": [
    {
     "name": "stdout",
     "output_type": "stream",
     "text": [
      "   leeftijd  gewicht   temp  lengte    BMI\n",
      "0      15.0     54.0  97.70     160  21.09\n",
      "1      18.0     68.0  98.78     175  22.20\n",
      "2      11.0     41.0  97.52     162  15.62\n",
      "3      17.0     59.0  98.96     169  20.66\n",
      "4      20.0     65.0  98.42     179  20.29\n"
     ]
    }
   ],
   "source": [
    "# BMI\n",
    "df['BMI'] = BMI\n",
    "\n",
    "# Show the updated DataFrame\n",
    "print(df)"
   ]
  },
  {
   "cell_type": "markdown",
   "metadata": {
    "collapsed": false,
    "id": "oLc88fjcY1Zy"
   },
   "source": [
    "## Vraag 15\n",
    "Behoud alleen de gewichten die kleiner of gelijk zijn aan 60 uit de kolom gewicht."
   ]
  },
  {
   "cell_type": "code",
   "execution_count": 852,
   "metadata": {
    "id": "a7b08484"
   },
   "outputs": [
    {
     "name": "stdout",
     "output_type": "stream",
     "text": [
      "   leeftijd  gewicht   temp  lengte    BMI\n",
      "0      15.0     54.0  97.70     160  21.09\n",
      "2      11.0     41.0  97.52     162  15.62\n",
      "3      17.0     59.0  98.96     169  20.66\n"
     ]
    }
   ],
   "source": [
    "# Keep only weights less than or equal to 60\n",
    "df = df.loc[df['gewicht'] <= 60]\n",
    "\n",
    "# Show the updated DataFrame\n",
    "print(df)"
   ]
  },
  {
   "cell_type": "markdown",
   "metadata": {
    "collapsed": false,
    "id": "cXFDqBgNY1Zz"
   },
   "source": [
    "## Vraag 16\n",
    "Vervang in de kolom leeftijd alle leeftijden groter of gelijk aan 18 door 19"
   ]
  },
  {
   "cell_type": "code",
   "execution_count": 853,
   "metadata": {
    "id": "bfc61fb3"
   },
   "outputs": [
    {
     "name": "stdout",
     "output_type": "stream",
     "text": [
      "   leeftijd  gewicht   temp  lengte    BMI\n",
      "0      15.0     54.0  97.70     160  21.09\n",
      "2      11.0     41.0  97.52     162  15.62\n",
      "3      17.0     59.0  98.96     169  20.66\n"
     ]
    }
   ],
   "source": [
    "# Replace all ages greater than or equal to 18 with 19\n",
    "df.loc[df['leeftijd'] >= 18, 'leeftijd'] = 19\n",
    "\n",
    "# Show the updated DataFrame\n",
    "print(df)"
   ]
  },
  {
   "cell_type": "markdown",
   "metadata": {
    "collapsed": false,
    "id": "qMFdNgpCY1Zz"
   },
   "source": [
    "## Vraag 17\n",
    "Vind alle temperaturen van de personen die ouder zijn dan 16 jaar"
   ]
  },
  {
   "cell_type": "code",
   "execution_count": 854,
   "metadata": {
    "id": "4a3c3d3e"
   },
   "outputs": [
    {
     "name": "stdout",
     "output_type": "stream",
     "text": [
      "3    98.96\n",
      "Name: temp, dtype: float64\n"
     ]
    }
   ],
   "source": [
    "print(df.loc[df['leeftijd'] > 16].temp)"
   ]
  }
 ],
 "metadata": {
  "kernelspec": {
   "display_name": "Python 3",
   "language": "python",
   "name": "python3"
  },
  "language_info": {
   "codemirror_mode": {
    "name": "ipython",
    "version": 2
   },
   "file_extension": ".py",
   "mimetype": "text/x-python",
   "name": "python",
   "nbconvert_exporter": "python",
   "pygments_lexer": "ipython2",
   "version": "2.7.6"
  },
  "colab": {
   "provenance": []
  }
 },
 "nbformat": 4,
 "nbformat_minor": 0
}
