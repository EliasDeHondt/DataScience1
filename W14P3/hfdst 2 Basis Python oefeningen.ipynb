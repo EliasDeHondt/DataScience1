{
 "cells": [
  {
   "cell_type": "markdown",
   "metadata": {
    "collapsed": false,
    "id": "mFaxRo4zFTjR"
   },
   "source": [
    "# Oefeningen basis Python"
   ]
  },
  {
   "cell_type": "markdown",
   "metadata": {
    "collapsed": false,
    "id": "ZU2HAOAjFTjb"
   },
   "source": [
    "Importeer de volgende bibliotheken: math, numpy en pandas"
   ]
  },
  {
   "cell_type": "code",
   "execution_count": null,
   "metadata": {
    "id": "vPoaAv94FTjd"
   },
   "outputs": [],
   "source": [
    "import math\n",
    "import re\n",
    "\n",
    "import numpy as np\n",
    "import pandas as pd"
   ]
  },
  {
   "cell_type": "markdown",
   "metadata": {
    "collapsed": false,
    "id": "f44pVVZjFTjg"
   },
   "source": [
    "## Lijsten en tabellen"
   ]
  },
  {
   "cell_type": "markdown",
   "metadata": {
    "collapsed": false,
    "id": "teXMkG81FTjh"
   },
   "source": [
    "Maak een list met volgende waarden: 1, 2, 3, 4, 5 en stop deze in de variabele \"id\""
   ]
  },
  {
   "cell_type": "code",
   "execution_count": null,
   "metadata": {
    "collapsed": true,
    "id": "jib4os2EFTji"
   },
   "outputs": [
    {
     "name": "stdout",
     "output_type": "stream",
     "text": [
      "[1, 2, 3, 4, 5]\n"
     ]
    }
   ],
   "source": [
    "id = [1,2,3,4,5]\n",
    "print(id)"
   ]
  },
  {
   "cell_type": "markdown",
   "metadata": {
    "collapsed": false,
    "id": "OqRybAaCFTjj"
   },
   "source": [
    "Maak een numpy array met volgende waarden: 15, 18, 11, 17, 20 en stop deze in de variabele \"leeftijd\""
   ]
  },
  {
   "cell_type": "code",
   "execution_count": null,
   "metadata": {
    "id": "g2wPE-lrFTjk"
   },
   "outputs": [
    {
     "name": "stdout",
     "output_type": "stream",
     "text": [
      "[15 18 11 17 20]\n"
     ]
    }
   ],
   "source": [
    "leeftijd = np.array ([15,18,11,17,20])\n",
    "print(leeftijd)"
   ]
  },
  {
   "cell_type": "markdown",
   "metadata": {
    "collapsed": false,
    "id": "QaJTRPTjFTjm"
   },
   "source": [
    "Zet de waarden van \"leeftijd\" om naar een pandas Series en zet het resultaat terug in de variabele \"leeftijd\".  Verifieer dat het type klopt."
   ]
  },
  {
   "cell_type": "code",
   "execution_count": null,
   "metadata": {
    "id": "RXzNSHxoFTjo"
   },
   "outputs": [
    {
     "name": "stdout",
     "output_type": "stream",
     "text": [
      "<class 'pandas.core.series.Series'>\n"
     ]
    }
   ],
   "source": [
    "leeftijd = pd.Series (leeftijd)\n",
    "print(type(leeftijd))"
   ]
  },
  {
   "cell_type": "markdown",
   "metadata": {
    "collapsed": false,
    "id": "Bdqg6K2RFTjp"
   },
   "source": [
    "Maak een list met volgende waarden: 54.2, 68.1, 41.7, 59.5, 65.4 en stop deze in de variabele \"gewicht\""
   ]
  },
  {
   "cell_type": "code",
   "execution_count": null,
   "metadata": {
    "id": "UF2IQTAhFTjq"
   },
   "outputs": [
    {
     "name": "stdout",
     "output_type": "stream",
     "text": [
      "[54.2, 68.1, 41.7, 59.5, 65.4]\n"
     ]
    }
   ],
   "source": [
    "gewicht = [54.2, 68.1, 41.7, 59.5, 65.4]\n",
    "print(gewicht)"
   ]
  },
  {
   "cell_type": "markdown",
   "metadata": {
    "collapsed": false,
    "id": "4x4nUepqFTjr"
   },
   "source": [
    "Maak een numpy array met volgende waarden: 36.5, 37.1, 36.4, 37.2, 36.9 en stop deze in de variabele \"temp\""
   ]
  },
  {
   "cell_type": "code",
   "execution_count": null,
   "metadata": {
    "id": "pDJ_6XrmFTjr"
   },
   "outputs": [
    {
     "name": "stdout",
     "output_type": "stream",
     "text": [
      "[36.5 37.1 36.4 37.2 36.9]\n"
     ]
    }
   ],
   "source": [
    "# hier komt jouw code\n",
    "import numpy as np\n",
    "temp = np.array ([36.5, 37.1, 36.4, 37.2, 36.9])\n",
    "print(temp)"
   ]
  },
  {
   "cell_type": "markdown",
   "metadata": {
    "collapsed": false,
    "id": "a7BrLqdtFTjs"
   },
   "source": [
    "Zet de array \"temp\" om naar een list en bewaar het resultaat terug in \"temp\".  Verifieer dat het type nu wel degelijk een list is."
   ]
  },
  {
   "cell_type": "code",
   "execution_count": null,
   "metadata": {
    "id": "UWujLkrqFTjs"
   },
   "outputs": [
    {
     "name": "stdout",
     "output_type": "stream",
     "text": [
      "<class 'list'>\n"
     ]
    }
   ],
   "source": [
    "temp = list(temp)\n",
    "print(type(temp))"
   ]
  },
  {
   "cell_type": "markdown",
   "metadata": {
    "collapsed": false,
    "id": "ybEteHLCFTjt"
   },
   "source": [
    "Maak een tabel (data frame) waarin de vorige lijsten de kolommen vormen en stop deze in de variabele \"gegevens\".  Gebruik voor de namen van de kolommen de namen van de variabelen (\"id\", \"leeftijd\", \"gewicht\" en \"temp\")."
   ]
  },
  {
   "cell_type": "code",
   "execution_count": null,
   "metadata": {
    "id": "3ihm76soFTju"
   },
   "outputs": [
    {
     "name": "stdout",
     "output_type": "stream",
     "text": [
      "   Id  Leeftijd  Gewicht  Temp\n",
      "0   1        15     54.2  36.5\n",
      "1   2        18     68.1  37.1\n",
      "2   3        11     41.7  36.4\n",
      "3   4        17     59.5  37.2\n",
      "4   5        20     65.4  36.9\n"
     ]
    }
   ],
   "source": [
    "gegevens = {'Id' : id, 'Leeftijd' : leeftijd, 'Gewicht' : gewicht, 'Temp' : temp}\n",
    "gegevens = pd.DataFrame(data=gegevens)\n",
    "print(gegevens)"
   ]
  },
  {
   "cell_type": "markdown",
   "metadata": {
    "collapsed": false,
    "id": "z25r7HrDFTju"
   },
   "source": [
    "Toon de kolomnamen van de tabel"
   ]
  },
  {
   "cell_type": "code",
   "execution_count": null,
   "metadata": {
    "id": "T2qgegfgFTju"
   },
   "outputs": [
    {
     "name": "stdout",
     "output_type": "stream",
     "text": [
      "['Id', 'Leeftijd', 'Gewicht', 'Temp']\n"
     ]
    }
   ],
   "source": [
    "columnName = list(gegevens.columns.values)\n",
    "print(columnName)"
   ]
  },
  {
   "cell_type": "markdown",
   "metadata": {
    "collapsed": false,
    "id": "8mTm8XsnFTjv"
   },
   "source": [
    "Toon het aantal kolommen"
   ]
  },
  {
   "cell_type": "code",
   "execution_count": null,
   "metadata": {
    "id": "zRa_esQLFTjv"
   },
   "outputs": [
    {
     "name": "stdout",
     "output_type": "stream",
     "text": [
      "4\n"
     ]
    }
   ],
   "source": [
    "print(gegevens.keys().size)"
   ]
  },
  {
   "cell_type": "markdown",
   "metadata": {
    "collapsed": false,
    "id": "_PGiTno2FTjw"
   },
   "source": [
    "Toon de kolom met naam 'temp'"
   ]
  },
  {
   "cell_type": "code",
   "execution_count": null,
   "metadata": {
    "id": "LrBVH_ViFTjw"
   },
   "outputs": [
    {
     "name": "stdout",
     "output_type": "stream",
     "text": [
      "0    36.5\n",
      "1    37.1\n",
      "2    36.4\n",
      "3    37.2\n",
      "4    36.9\n",
      "Name: Temp, dtype: float64\n"
     ]
    }
   ],
   "source": [
    "print(gegevens.Temp)"
   ]
  },
  {
   "cell_type": "markdown",
   "metadata": {
    "collapsed": false,
    "id": "IBeuxH-mFTjw"
   },
   "source": [
    "Toon de 2e kolom uit de tabel zonder de naam te gebruiken"
   ]
  },
  {
   "cell_type": "code",
   "execution_count": null,
   "metadata": {
    "id": "R35dos9WFTjx"
   },
   "outputs": [
    {
     "name": "stdout",
     "output_type": "stream",
     "text": [
      "0    15\n",
      "1    18\n",
      "2    11\n",
      "3    17\n",
      "4    20\n",
      "Name: Leeftijd, dtype: int32\n"
     ]
    }
   ],
   "source": [
    "print(gegevens.iloc[:,1])"
   ]
  },
  {
   "cell_type": "markdown",
   "metadata": {
    "collapsed": false,
    "id": "z-l4nMLZFTjx"
   },
   "source": [
    "Verwijder de derde rij uit de tabel"
   ]
  },
  {
   "cell_type": "code",
   "execution_count": null,
   "metadata": {
    "id": "9LZHZPezFTjx"
   },
   "outputs": [],
   "source": [
    "# del gegevens['Gewicht']\n",
    "# print(gegevens)"
   ]
  },
  {
   "cell_type": "markdown",
   "metadata": {
    "collapsed": false,
    "id": "LY6TOoNeFTjx"
   },
   "source": [
    "Toon de 3e rij uit de tabel"
   ]
  },
  {
   "cell_type": "code",
   "execution_count": null,
   "metadata": {
    "id": "PoZewT1MFTjy"
   },
   "outputs": [
    {
     "name": "stdout",
     "output_type": "stream",
     "text": [
      "Id           3.0\n",
      "Leeftijd    11.0\n",
      "Gewicht     41.7\n",
      "Temp        36.4\n",
      "Name: 2, dtype: float64\n"
     ]
    }
   ],
   "source": [
    "print(gegevens.iloc[2])"
   ]
  },
  {
   "cell_type": "markdown",
   "metadata": {
    "collapsed": false,
    "id": "4KfUES6aFTjy"
   },
   "source": [
    "Toon de 2e en de 4e rij uit de tabel"
   ]
  },
  {
   "cell_type": "code",
   "execution_count": null,
   "metadata": {
    "id": "glgbhLvJFTjy"
   },
   "outputs": [
    {
     "name": "stdout",
     "output_type": "stream",
     "text": [
      "   Id  Leeftijd  Gewicht  Temp\n",
      "1   2        18     68.1  37.1\n",
      "3   4        17     59.5  37.2\n"
     ]
    }
   ],
   "source": [
    "print(gegevens.iloc[[1,3]])"
   ]
  },
  {
   "cell_type": "markdown",
   "metadata": {
    "collapsed": false,
    "id": "8c5wiMBdFTjy"
   },
   "source": [
    "Toon de 2e tot en met 4e rij uit de tabel"
   ]
  },
  {
   "cell_type": "code",
   "execution_count": null,
   "metadata": {
    "id": "rklfZ4lQFTjy"
   },
   "outputs": [
    {
     "name": "stdout",
     "output_type": "stream",
     "text": [
      "   Id  Leeftijd  Gewicht  Temp\n",
      "1   2        18     68.1  37.1\n",
      "2   3        11     41.7  36.4\n",
      "3   4        17     59.5  37.2\n"
     ]
    }
   ],
   "source": [
    "print(gegevens.iloc[1:4])"
   ]
  },
  {
   "cell_type": "markdown",
   "metadata": {
    "collapsed": false,
    "id": "AkAdinLeFTjz"
   },
   "source": [
    "Bereken de minimum en maximum leeftijd.  Je kan dit doen door de methoden \"min()\" en \"max()\" op te roepen op de kolom."
   ]
  },
  {
   "cell_type": "code",
   "execution_count": null,
   "metadata": {
    "id": "DLuV6UoLFTjz"
   },
   "outputs": [
    {
     "name": "stdout",
     "output_type": "stream",
     "text": [
      "11\n",
      "20\n"
     ]
    }
   ],
   "source": [
    "print(gegevens.iloc[:,1].min()) # of print(gegevens['Leeftijd'].min())\n",
    "print(gegevens.iloc[:,1].max()) # of print(gegevens['Leeftijd'].max())"
   ]
  },
  {
   "cell_type": "markdown",
   "metadata": {
    "collapsed": false,
    "id": "Qc_3ezfrFTjz"
   },
   "source": [
    "Bereken de som van alle gewichten en deel die door het aantal gewichten (bereken dus het gemiddelde gewicht).  Je kan hiervoor de methode \"sum()\" oproepen op de kolom.  De lengte van de kolom vind je met de functie \"len()\".\n",
    "Bemerk dat sum() een methode is die je op een object oproept (de kolom) en len() een functie is die niet aan een object gekoppeld is (vergelijkbaar met een static method in java).  Dit laat zien dat Python een hybride taal is waarin je tegelijk OO en procedureel kan programmeren.\n",
    "Toon het resultaat met 3 cijfers na de komma.  Hier zie je een hint hoe je dat kan doen:\n",
    "```python\n",
    "print(\"pi is{:10.2f}\".format(math.pi))\n",
    "```"
   ]
  },
  {
   "cell_type": "code",
   "execution_count": null,
   "metadata": {
    "id": "YggSGT6WFTj0"
   },
   "outputs": [
    {
     "name": "stdout",
     "output_type": "stream",
     "text": [
      "57.78\n"
     ]
    }
   ],
   "source": [
    "print(round(gegevens.iloc[:,2].sum()/len(gegevens.iloc[:,2]),3))"
   ]
  },
  {
   "cell_type": "markdown",
   "metadata": {
    "collapsed": false,
    "id": "kJ8B6HxGFTj1"
   },
   "source": [
    "Bereken alle gewichten in gram (vermenigvuldig ze dus met 1000) maar verander de tabel niet.  Geef het resultaat weer als een Python list.\n",
    "Zie je wat er met de laatste waarde gebeurt?  Hoe komt dit?"
   ]
  },
  {
   "cell_type": "code",
   "execution_count": null,
   "metadata": {
    "id": "DX2xu8vlFTj1"
   },
   "outputs": [
    {
     "name": "stdout",
     "output_type": "stream",
     "text": [
      "[0    54200.0\n",
      "1    68100.0\n",
      "2    41700.0\n",
      "3    59500.0\n",
      "4    65400.0\n",
      "Name: Gewicht, dtype: float64]\n"
     ]
    }
   ],
   "source": [
    "newLijst = [gegevens.iloc[:,2]*1000]\n",
    "print(newLijst)"
   ]
  },
  {
   "cell_type": "markdown",
   "metadata": {
    "collapsed": false,
    "id": "Yzgi7V3MFTj1"
   },
   "source": [
    "Zet alle temperaturen om naar Fahrenheit, rondt deze af op 1 cijfer na de komma en zet deze waarden in de tabel in een nieuwe kolom met de naam \"temp_far\".\n",
    "Hint: een kolom uit een data frame is een Series en heeft een methode \"round()\""
   ]
  },
  {
   "cell_type": "code",
   "execution_count": null,
   "metadata": {
    "id": "gZbxqkVMFTj2"
   },
   "outputs": [],
   "source": [
    "# een lege kolom 'C' toevoegen aan de DataFrame\n",
    "# gegevens['temp_far'] = None\n",
    "\n",
    "gegevens['temp_far'] = round((gegevens.iloc[:,3]*9/5)+32,1)"
   ]
  },
  {
   "cell_type": "markdown",
   "metadata": {
    "collapsed": false,
    "id": "9hGP5vI2FTj2"
   },
   "source": [
    "Bewaar de tabel in een bestand \"gegevens.csv\".  Gebruik je lokale settings voor de seperator en het formatteren van kommagetallen."
   ]
  },
  {
   "cell_type": "code",
   "execution_count": null,
   "metadata": {
    "id": "7_RC9UuRFTj3"
   },
   "outputs": [],
   "source": [
    "gegevens.to_csv(\"gegevens.csv\", sep=\";\", decimal=\",\", index=False)"
   ]
  },
  {
   "cell_type": "markdown",
   "metadata": {
    "collapsed": false,
    "id": "wc5KRHi2FTj3"
   },
   "source": [
    "Open de tabel in excel of open office. Als je het bestand juist bewaard hebt, zou dit moeten lukken.  Je kan het bestand eventueel ook uploaden naar google drive en openen met google spreadheets.\n",
    "Voeg er een kolom aan toe met de naam \"extra\".  Zet volgende gegevens in de kolom: \"hallo\", \"dit\", \"is\", \"een\", \"testje\"\n",
    "Bewaar het bestand als csv."
   ]
  },
  {
   "cell_type": "markdown",
   "metadata": {
    "collapsed": false,
    "id": "ABYB2tQnFTj3"
   },
   "source": [
    "Lees de aangepaste tabel nu terug in en kijk na of de nieuwe kolom goed werd ingelezen."
   ]
  },
  {
   "cell_type": "code",
   "execution_count": null,
   "metadata": {
    "id": "wWPYgmdbFTj4"
   },
   "outputs": [
    {
     "name": "stdout",
     "output_type": "stream",
     "text": [
      "   Id  Leeftijd  Gewicht  Temp  Temp_far   Extra\n",
      "0   1        15     54.2  36.5      97.7   hallo\n",
      "1   2        18     68.1  37.1      98.8     dit\n",
      "2   3        11     41.7  36.4      97.5      is\n",
      "3   4        17     59.5  37.2      99.0     een\n",
      "4   5        20     65.4  36.9      98.4  testje\n"
     ]
    }
   ],
   "source": [
    "gegevens = pd.read_csv(\"test.csv\", sep=\";\", decimal=\",\")\n",
    "print(gegevens)"
   ]
  },
  {
   "cell_type": "markdown",
   "metadata": {
    "collapsed": false,
    "id": "lEJFMazhFTj4"
   },
   "source": [
    "Verwijder de kolom “id”."
   ]
  },
  {
   "cell_type": "code",
   "execution_count": null,
   "metadata": {
    "id": "8bShY8FbFTj5"
   },
   "outputs": [
    {
     "name": "stdout",
     "output_type": "stream",
     "text": [
      "   Leeftijd  Gewicht  Temp  Temp_far   Extra\n",
      "0        15     54.2  36.5      97.7   hallo\n",
      "1        18     68.1  37.1      98.8     dit\n",
      "2        11     41.7  36.4      97.5      is\n",
      "3        17     59.5  37.2      99.0     een\n",
      "4        20     65.4  36.9      98.4  testje\n"
     ]
    }
   ],
   "source": [
    "del gegevens['Id']\n",
    "print(gegevens)"
   ]
  },
  {
   "cell_type": "markdown",
   "metadata": {
    "collapsed": false,
    "id": "cmHqaCGkFTj5"
   },
   "source": [
    "Voeg een rij toe met [ 30, 74.1, 36.5, 97.7 ] als waarden (zoek eens op hoe je dat kan doen):"
   ]
  },
  {
   "cell_type": "code",
   "execution_count": null,
   "metadata": {
    "id": "Atkuac-hFTj6"
   },
   "outputs": [],
   "source": [
    "# loc is alleen voor en rij toe te voegen\n",
    "# nieuwe_rij = [30, 74.1, 36.5, 97.7, '']\n",
    "# gegevens.loc[len(gegevens)] = nieuwe_rij\n",
    "# print(gegevens)"
   ]
  },
  {
   "cell_type": "markdown",
   "metadata": {
    "collapsed": false,
    "id": "_dbiCoCbFTj6"
   },
   "source": [
    "Voeg een kolom “lengte” toe met gegevens: 160, 175, 162, 169, 179"
   ]
  },
  {
   "cell_type": "code",
   "execution_count": null,
   "metadata": {
    "id": "p8WjU7Q7FTj7"
   },
   "outputs": [
    {
     "name": "stdout",
     "output_type": "stream",
     "text": [
      "   Leeftijd  Gewicht  Temp  Temp_far   Extra  Lengte\n",
      "0        15     54.2  36.5      97.7   hallo     160\n",
      "1        18     68.1  37.1      98.8     dit     175\n",
      "2        11     41.7  36.4      97.5      is     162\n",
      "3        17     59.5  37.2      99.0     een     169\n",
      "4        20     65.4  36.9      98.4  testje     179\n"
     ]
    }
   ],
   "source": [
    "lengteData = [160, 175, 162, 169, 179]\n",
    "gegevens['Lengte'] = lengteData\n",
    "print(gegevens)"
   ]
  },
  {
   "cell_type": "markdown",
   "metadata": {
    "collapsed": false,
    "id": "zEgxRBx-FTj7"
   },
   "source": [
    "Bereken de BMI van iedere persoon in de tabel en rond deze af op 1 cijfer na de komma.\n",
    "De BMI is gelijk aan het gewicht gedeeld door de lengte in het kwadraat.  De lengte moet in meter uitgedrukt zijn en het gewicht in kilogram.\n",
    "Het resultaat moet een list zijn."
   ]
  },
  {
   "cell_type": "code",
   "execution_count": null,
   "metadata": {
    "id": "uHODwbqsFTj7"
   },
   "outputs": [],
   "source": [
    "# for gewicht, lengte in zip(df['Gewicht'], df['Lengte'])] is a loop that iterates through each pair of corresponding weight and height values from the Gewicht and Lengte columns of a DataFrame df. The zip() function is used to create an iterator that aggregates the elements from each of the iterables passed to it as arguments. In this case, it aggregates the values from the Gewicht and Lengte columns of the DataFrame. The loop then assigns the current weight and height values to the variables gewicht and lengte, respectively, in each iteration of the loop. This allows us to calculate the BMI for each individual based on their weight and height.\n",
    "\n",
    "BMI = [round(gewicht / ((lengte / 100) ** 2), 1) for gewicht, lengte in zip(gegevens['Gewicht'], gegevens['Lengte'])];"
   ]
  },
  {
   "cell_type": "markdown",
   "metadata": {
    "collapsed": false,
    "id": "bmBJ5txsFTj8"
   },
   "source": [
    "Voeg deze BMI als kolom toe aan de tabel."
   ]
  },
  {
   "cell_type": "code",
   "execution_count": null,
   "metadata": {
    "id": "8eGkrzDpFTj8"
   },
   "outputs": [
    {
     "name": "stdout",
     "output_type": "stream",
     "text": [
      "   Leeftijd  Gewicht  Temp  Temp_far   Extra  Lengte   BMI\n",
      "0        15     54.2  36.5      97.7   hallo     160  21.2\n",
      "1        18     68.1  37.1      98.8     dit     175  22.2\n",
      "2        11     41.7  36.4      97.5      is     162  15.9\n",
      "3        17     59.5  37.2      99.0     een     169  20.8\n",
      "4        20     65.4  36.9      98.4  testje     179  20.4\n"
     ]
    }
   ],
   "source": [
    "# Aanmaken van een nieuwe Kolom met de lijst als enige kolom\n",
    "gegevens['BMI'] = BMI\n",
    "print(gegevens)"
   ]
  },
  {
   "cell_type": "markdown",
   "metadata": {
    "collapsed": false,
    "id": "HXPSxuO7FTj8"
   },
   "source": [
    "Toon alle gewichten die kleiner of gelijk zijn aan 60 uit de kolom gewicht als een list."
   ]
  },
  {
   "cell_type": "code",
   "execution_count": null,
   "metadata": {
    "id": "XWjIbMmKFTj8"
   },
   "outputs": [
    {
     "name": "stdout",
     "output_type": "stream",
     "text": [
      "[54.2, 41.7, 59.5]\n"
     ]
    }
   ],
   "source": [
    "Gewicht2 = []\n",
    "\n",
    "for element in gegevens.Gewicht:\n",
    "    if element <= 60:\n",
    "        Gewicht2.append(element)\n",
    "\n",
    "\n",
    "print(Gewicht2)\n"
   ]
  },
  {
   "cell_type": "markdown",
   "metadata": {
    "collapsed": false,
    "id": "qqV2k702FTj9"
   },
   "source": [
    "Vervang in de kolom leeftijd alle leeftijden groter of gelijk aan 18 door 19.\n",
    "Krijg je een warning?  Je kan dit oplossen door gegevens.loc[] te gebruiken."
   ]
  },
  {
   "cell_type": "code",
   "execution_count": null,
   "metadata": {
    "id": "rpP5SOLOFTj9"
   },
   "outputs": [
    {
     "name": "stdout",
     "output_type": "stream",
     "text": [
      "   Leeftijd  Gewicht  Temp  Temp_far   Extra  Lengte   BMI\n",
      "0        15     54.2  36.5      97.7   hallo     160  21.2\n",
      "1        19     68.1  37.1      98.8     dit     175  22.2\n",
      "2        11     41.7  36.4      97.5      is     162  15.9\n",
      "3        17     59.5  37.2      99.0     een     169  20.8\n",
      "4        19     65.4  36.9      98.4  testje     179  20.4\n"
     ]
    }
   ],
   "source": [
    "# Vervang leeftijden groter of gelijk aan 18 door 19\n",
    "gegevens.loc[gegevens['Leeftijd'] >= 18, 'Leeftijd'] = 19\n",
    "\n",
    "# Print de aangepaste DataFrame\n",
    "print(gegevens)"
   ]
  },
  {
   "cell_type": "markdown",
   "metadata": {
    "collapsed": false,
    "id": "UH66Pxl_FTj9"
   },
   "source": [
    "Vind alle temperaturen van de personen die ouder zijn dan 16 jaar.  Geef het resultaat weer als een numpy array."
   ]
  },
  {
   "cell_type": "code",
   "execution_count": null,
   "metadata": {
    "id": "HFkF5oEqFTj9"
   },
   "outputs": [
    {
     "name": "stdout",
     "output_type": "stream",
     "text": [
      "[37.1 37.2 36.9]\n",
      "<class 'numpy.ndarray'>\n"
     ]
    }
   ],
   "source": [
    "TempData = np.array(gegevens.loc[gegevens['Leeftijd'] > 16, 'Temp'])\n",
    "\n",
    "\n",
    "print(TempData)\n",
    "print(type(TempData))"
   ]
  },
  {
   "cell_type": "markdown",
   "metadata": {
    "collapsed": false,
    "id": "UPJxVn4iFTj-"
   },
   "source": [
    "## Sport data"
   ]
  },
  {
   "cell_type": "markdown",
   "metadata": {
    "collapsed": false,
    "id": "P2fJqznzFTj-"
   },
   "source": [
    "Bepaal de separator en teken voor kommagetallen in het bestand \"sportData.csv\".\n",
    "Lees het bestand \"sportData.csv\" vervolgens in en zet het resultaat in de variabele \"sport\".\n",
    "Toon tenslotte alle kolommen van de tabel, samen met hun type."
   ]
  },
  {
   "cell_type": "code",
   "execution_count": null,
   "metadata": {
    "id": "RFsGsPSNFTj-"
   },
   "outputs": [
    {
     "data": {
      "text/plain": "    leeftijd geslacht      sport  keer per week  uren per week\n0         12        m       geen              0              0\n1         12        m  basketbal              1              2\n2         13        m    voetbal              2              4\n3         11        v    voetbal              2              4\n4         13        v       geen              0              0\n..       ...      ...        ...            ...            ...\n70        12        v     turnen              2              4\n71        11        v       judo              2              4\n72        11        v    voetbal              1              2\n73        12        v       geen              0              0\n74        11        v     anders              1              2\n\n[75 rows x 5 columns]",
      "text/html": "<div>\n<style scoped>\n    .dataframe tbody tr th:only-of-type {\n        vertical-align: middle;\n    }\n\n    .dataframe tbody tr th {\n        vertical-align: top;\n    }\n\n    .dataframe thead th {\n        text-align: right;\n    }\n</style>\n<table border=\"1\" class=\"dataframe\">\n  <thead>\n    <tr style=\"text-align: right;\">\n      <th></th>\n      <th>leeftijd</th>\n      <th>geslacht</th>\n      <th>sport</th>\n      <th>keer per week</th>\n      <th>uren per week</th>\n    </tr>\n  </thead>\n  <tbody>\n    <tr>\n      <th>0</th>\n      <td>12</td>\n      <td>m</td>\n      <td>geen</td>\n      <td>0</td>\n      <td>0</td>\n    </tr>\n    <tr>\n      <th>1</th>\n      <td>12</td>\n      <td>m</td>\n      <td>basketbal</td>\n      <td>1</td>\n      <td>2</td>\n    </tr>\n    <tr>\n      <th>2</th>\n      <td>13</td>\n      <td>m</td>\n      <td>voetbal</td>\n      <td>2</td>\n      <td>4</td>\n    </tr>\n    <tr>\n      <th>3</th>\n      <td>11</td>\n      <td>v</td>\n      <td>voetbal</td>\n      <td>2</td>\n      <td>4</td>\n    </tr>\n    <tr>\n      <th>4</th>\n      <td>13</td>\n      <td>v</td>\n      <td>geen</td>\n      <td>0</td>\n      <td>0</td>\n    </tr>\n    <tr>\n      <th>...</th>\n      <td>...</td>\n      <td>...</td>\n      <td>...</td>\n      <td>...</td>\n      <td>...</td>\n    </tr>\n    <tr>\n      <th>70</th>\n      <td>12</td>\n      <td>v</td>\n      <td>turnen</td>\n      <td>2</td>\n      <td>4</td>\n    </tr>\n    <tr>\n      <th>71</th>\n      <td>11</td>\n      <td>v</td>\n      <td>judo</td>\n      <td>2</td>\n      <td>4</td>\n    </tr>\n    <tr>\n      <th>72</th>\n      <td>11</td>\n      <td>v</td>\n      <td>voetbal</td>\n      <td>1</td>\n      <td>2</td>\n    </tr>\n    <tr>\n      <th>73</th>\n      <td>12</td>\n      <td>v</td>\n      <td>geen</td>\n      <td>0</td>\n      <td>0</td>\n    </tr>\n    <tr>\n      <th>74</th>\n      <td>11</td>\n      <td>v</td>\n      <td>anders</td>\n      <td>1</td>\n      <td>2</td>\n    </tr>\n  </tbody>\n</table>\n<p>75 rows × 5 columns</p>\n</div>"
     },
     "metadata": {},
     "output_type": "display_data"
    },
    {
     "data": {
      "text/plain": "leeftijd          int64\ngeslacht         object\nsport            object\nkeer per week     int64\nuren per week     int64\ndtype: object"
     },
     "metadata": {},
     "output_type": "display_data"
    }
   ],
   "source": [
    "sport = pd.read_csv('sportdata.csv', delimiter=';')\n",
    "\n",
    "display(sport) # Met print kan ook\n",
    "\n",
    "display(sport.dtypes) # Met print kan ook"
   ]
  },
  {
   "cell_type": "markdown",
   "metadata": {
    "collapsed": false,
    "id": "cls-mrwZFTj_"
   },
   "source": [
    "Hoeveel data-rijen zijn er in dit bestand?"
   ]
  },
  {
   "cell_type": "code",
   "execution_count": null,
   "metadata": {
    "id": "RvvrxnIUFTj_"
   },
   "outputs": [
    {
     "name": "stdout",
     "output_type": "stream",
     "text": [
      "Het aantal rijen in het sportdata.csv bestand: 75\n"
     ]
    }
   ],
   "source": [
    "print(\"Het aantal rijen in het sportdata.csv bestand:\", len(sport) )"
   ]
  },
  {
   "cell_type": "markdown",
   "metadata": {
    "collapsed": false,
    "id": "XhD_tH-7FTj_"
   },
   "source": [
    "Bepaal alle mogelijke waarden die in de kolom \"sport\" voorkomen."
   ]
  },
  {
   "cell_type": "code",
   "execution_count": null,
   "metadata": {
    "id": "D0khnY10FTj_"
   },
   "outputs": [
    {
     "name": "stdout",
     "output_type": "stream",
     "text": [
      "['geen' 'basketbal' 'voetbal' 'klimmen' 'turnen' 'anders' 'zwemmen' 'judo'\n",
      " 'fitness']\n"
     ]
    }
   ],
   "source": [
    "waarde = sport['sport'].unique()\n",
    "print(waarde)"
   ]
  },
  {
   "cell_type": "markdown",
   "metadata": {
    "collapsed": false,
    "id": "kCoDgLu5FTkA"
   },
   "source": [
    "De kolom \"sport\" bevat blijkbaar de waarden \"Niet bekend\" en \"niet geweten\".  Deze waarden zijn geen geldige waarde en zouden we willen lezen als een ontbrekende waarde.\n",
    "In Python worden verschillende waarden gebruikt om aan te duiden dat er een waarde ontbreekt.  De meest voorkomende is NaN.\n",
    "Lees het bestand terug in, maar gebruikt de optie om aan te geven welke strings als ontbrekende waarde moeten worden herkend.\n",
    "Controleer of het gelukt is door alle mogelijke waarden van de kolom \"sport\" te bekijken.  De twee ongeldige waarden zouden nu weg moeten zijn en vervangen door de waarde nan."
   ]
  },
  {
   "cell_type": "code",
   "execution_count": null,
   "metadata": {
    "id": "MBTBvW2cFTkA"
   },
   "outputs": [
    {
     "data": {
      "text/plain": "    leeftijd geslacht      sport  keer per week  uren per week\n0         12        m        NaN              0              0\n1         12        m  basketbal              1              2\n2         13        m    voetbal              2              4\n3         11        v    voetbal              2              4\n4         13        v        NaN              0              0\n..       ...      ...        ...            ...            ...\n70        12        v     turnen              2              4\n71        11        v       judo              2              4\n72        11        v    voetbal              1              2\n73        12        v        NaN              0              0\n74        11        v     anders              1              2\n\n[75 rows x 5 columns]",
      "text/html": "<div>\n<style scoped>\n    .dataframe tbody tr th:only-of-type {\n        vertical-align: middle;\n    }\n\n    .dataframe tbody tr th {\n        vertical-align: top;\n    }\n\n    .dataframe thead th {\n        text-align: right;\n    }\n</style>\n<table border=\"1\" class=\"dataframe\">\n  <thead>\n    <tr style=\"text-align: right;\">\n      <th></th>\n      <th>leeftijd</th>\n      <th>geslacht</th>\n      <th>sport</th>\n      <th>keer per week</th>\n      <th>uren per week</th>\n    </tr>\n  </thead>\n  <tbody>\n    <tr>\n      <th>0</th>\n      <td>12</td>\n      <td>m</td>\n      <td>NaN</td>\n      <td>0</td>\n      <td>0</td>\n    </tr>\n    <tr>\n      <th>1</th>\n      <td>12</td>\n      <td>m</td>\n      <td>basketbal</td>\n      <td>1</td>\n      <td>2</td>\n    </tr>\n    <tr>\n      <th>2</th>\n      <td>13</td>\n      <td>m</td>\n      <td>voetbal</td>\n      <td>2</td>\n      <td>4</td>\n    </tr>\n    <tr>\n      <th>3</th>\n      <td>11</td>\n      <td>v</td>\n      <td>voetbal</td>\n      <td>2</td>\n      <td>4</td>\n    </tr>\n    <tr>\n      <th>4</th>\n      <td>13</td>\n      <td>v</td>\n      <td>NaN</td>\n      <td>0</td>\n      <td>0</td>\n    </tr>\n    <tr>\n      <th>...</th>\n      <td>...</td>\n      <td>...</td>\n      <td>...</td>\n      <td>...</td>\n      <td>...</td>\n    </tr>\n    <tr>\n      <th>70</th>\n      <td>12</td>\n      <td>v</td>\n      <td>turnen</td>\n      <td>2</td>\n      <td>4</td>\n    </tr>\n    <tr>\n      <th>71</th>\n      <td>11</td>\n      <td>v</td>\n      <td>judo</td>\n      <td>2</td>\n      <td>4</td>\n    </tr>\n    <tr>\n      <th>72</th>\n      <td>11</td>\n      <td>v</td>\n      <td>voetbal</td>\n      <td>1</td>\n      <td>2</td>\n    </tr>\n    <tr>\n      <th>73</th>\n      <td>12</td>\n      <td>v</td>\n      <td>NaN</td>\n      <td>0</td>\n      <td>0</td>\n    </tr>\n    <tr>\n      <th>74</th>\n      <td>11</td>\n      <td>v</td>\n      <td>anders</td>\n      <td>1</td>\n      <td>2</td>\n    </tr>\n  </tbody>\n</table>\n<p>75 rows × 5 columns</p>\n</div>"
     },
     "metadata": {},
     "output_type": "display_data"
    }
   ],
   "source": [
    "sport2 = pd.read_csv('sportdata.csv', delimiter=';', na_values=['geen'])\n",
    "display(sport2)"
   ]
  },
  {
   "cell_type": "markdown",
   "metadata": {
    "collapsed": false,
    "id": "FWWGUeplFTkA"
   },
   "source": [
    "Geef een commando dat voor iedere kolom bepaalt of er ontbrekende waarden in voor komen."
   ]
  },
  {
   "cell_type": "code",
   "execution_count": null,
   "metadata": {
    "id": "n1DtRifTFTkA"
   },
   "outputs": [
    {
     "name": "stdout",
     "output_type": "stream",
     "text": [
      "leeftijd         False\n",
      "geslacht         False\n",
      "sport             True\n",
      "keer per week    False\n",
      "uren per week    False\n",
      "dtype: bool\n"
     ]
    }
   ],
   "source": [
    "print(sport2.isna().any())"
   ]
  },
  {
   "cell_type": "markdown",
   "metadata": {
    "collapsed": false,
    "id": "NsUZIg4lFTkB"
   },
   "source": [
    "Welke rijen bevatten ontbrekende (NaN) waarden?  Geef een list met alle rijnummers waarin minstens 1 ontbrekende waarde zit."
   ]
  },
  {
   "cell_type": "code",
   "execution_count": null,
   "metadata": {
    "id": "fJxWjOd3FTkB"
   },
   "outputs": [
    {
     "name": "stdout",
     "output_type": "stream",
     "text": [
      "Rijnummers met ontbrekende waarden:  [0, 4, 9, 10, 15, 17, 18, 19, 24, 27, 30, 33, 36, 39, 43, 58, 64, 73]\n"
     ]
    }
   ],
   "source": [
    "# Spory\n",
    "# Create a list of row numbers with missing values\n",
    "missing_rows = sport2.isna().any(axis=1).index[sport2.isna().any(axis=1)].tolist()\n",
    "\n",
    "print(\"Rijnummers met ontbrekende waarden: \", missing_rows)"
   ]
  },
  {
   "cell_type": "markdown",
   "metadata": {
    "collapsed": false,
    "id": "AXpUW1vyFTkB"
   },
   "source": [
    "Verwijder alle rijen met ontbrekende waarden en stop het resultaat in een nieuwe tabel \"sport_new\".  De oorspronkelijke tabel mag niet veranderd worden."
   ]
  },
  {
   "cell_type": "code",
   "execution_count": null,
   "metadata": {
    "id": "6wWtzWy5FTkB"
   },
   "outputs": [
    {
     "name": "stdout",
     "output_type": "stream",
     "text": [
      "    leeftijd geslacht      sport  keer per week  uren per week\n",
      "1         12        m  basketbal              1              2\n",
      "2         13        m    voetbal              2              4\n",
      "3         11        v    voetbal              2              4\n",
      "5         12        v    klimmen              1              2\n",
      "6         12        m     turnen              1              2\n",
      "7         11        m    voetbal              1              2\n",
      "8         12        v     anders              1              2\n",
      "11        11        m     turnen              2              4\n",
      "12        12        v     anders              2              4\n",
      "13        12        m    voetbal              1              2\n",
      "14        13        v    zwemmen              2              4\n",
      "16        11        m    klimmen              2              4\n",
      "20        13        m  basketbal              2              4\n",
      "21        11        v    voetbal              2              4\n",
      "22        12        m     turnen              1              2\n",
      "23        13        m    voetbal              3              6\n",
      "25        11        v     anders              1              2\n",
      "26        13        m    voetbal              1              2\n",
      "28        13        m    voetbal              2              4\n",
      "29        11        m    voetbal              4              8\n",
      "31        11        m    klimmen              4              8\n",
      "32        14        v       judo              3              6\n",
      "34        12        m    voetbal              2              4\n",
      "35        13        m       judo              3              6\n",
      "37        12        m  basketbal              4              8\n",
      "38        13        m    voetbal              3              6\n",
      "40        12        v    fitness              2              4\n",
      "41        13        m     anders              2              4\n",
      "42        11        v    fitness              3              6\n",
      "44        13        v    fitness              1              2\n",
      "45        12        m    voetbal              1              2\n",
      "46        12        v    voetbal              1              2\n",
      "47        14        v    zwemmen              2              4\n",
      "48        11        m    voetbal              2              4\n",
      "49        11        v     turnen              1              2\n",
      "50        11        v    fitness              3              6\n",
      "51        11        m  basketbal              2              4\n",
      "52        13        v  basketbal              3              6\n",
      "53        12        m    voetbal              1              2\n",
      "54        12        v    voetbal              3              6\n",
      "55        12        v    zwemmen              2              4\n",
      "56        11        m    voetbal              2              4\n",
      "57        13        v       judo              3              6\n",
      "59        13        v       judo              6             12\n",
      "60        11        m  basketbal              1              2\n",
      "61        13        v  basketbal              5             10\n",
      "62        12        v     anders              2              4\n",
      "63        14        v       judo              2              4\n",
      "65        11        v     anders              3              6\n",
      "66        12        v    klimmen              2              4\n",
      "67        13        v    klimmen              1              2\n",
      "68        12        m    voetbal              1              2\n",
      "69        13        v     turnen              1              2\n",
      "70        12        v     turnen              2              4\n",
      "71        11        v       judo              2              4\n",
      "72        11        v    voetbal              1              2\n",
      "74        11        v     anders              1              2\n"
     ]
    }
   ],
   "source": [
    "sport_new = sport2.dropna()\n",
    "print(sport_new)"
   ]
  },
  {
   "cell_type": "markdown",
   "metadata": {
    "collapsed": false,
    "id": "yFXv7xwXFTkB"
   },
   "source": [
    "Wat is het maximum van kolom \"leeftijd\"?"
   ]
  },
  {
   "cell_type": "code",
   "execution_count": null,
   "metadata": {
    "id": "qzN2_LhPFTkC"
   },
   "outputs": [
    {
     "name": "stdout",
     "output_type": "stream",
     "text": [
      "14\n"
     ]
    }
   ],
   "source": [
    "print(sport2['leeftijd'].max())"
   ]
  },
  {
   "cell_type": "markdown",
   "metadata": {
    "collapsed": false,
    "id": "RnHnW47QFTkC"
   },
   "source": [
    "Wat is de som van alle waarden van kolom \"keer per week\" die groter zijn dan 1?"
   ]
  },
  {
   "cell_type": "code",
   "execution_count": null,
   "metadata": {
    "id": "spg3c3zTFTkC"
   },
   "outputs": [
    {
     "name": "stdout",
     "output_type": "stream",
     "text": [
      "97\n"
     ]
    }
   ],
   "source": [
    "# Select only the rows where \"keer per week\" is greater than 1\n",
    "selected_rows = sport_new.loc[sport_new['keer per week'] > 1]\n",
    "# Calculate the sum of the \"keer per week\" column in the selected rows\n",
    "totaal = selected_rows['keer per week'].sum()\n",
    "\n",
    "print(totaal)"
   ]
  },
  {
   "cell_type": "markdown",
   "metadata": {
    "collapsed": false,
    "id": "BZqPBIKyFTkD"
   },
   "source": [
    "Geef een lijst van alle sporten die beoefend worden door mensen die meer dan 3 keer per week sporten.  Geef het resultaat als een Series."
   ]
  },
  {
   "cell_type": "code",
   "execution_count": null,
   "metadata": {
    "id": "wcx-k4qTFTkD"
   },
   "outputs": [
    {
     "name": "stdout",
     "output_type": "stream",
     "text": [
      "29      voetbal\n",
      "31      klimmen\n",
      "37    basketbal\n",
      "59         judo\n",
      "Name: sport, dtype: object\n"
     ]
    }
   ],
   "source": [
    "rij = pd.Series(sport_new.loc[sport_new['keer per week'] > 3, 'sport'])\n",
    "rij = rij.drop_duplicates()\n",
    "\n",
    "print(rij)"
   ]
  },
  {
   "cell_type": "markdown",
   "metadata": {
    "collapsed": false,
    "id": "WEJyDFB0FTkD"
   },
   "source": [
    "## Programmeren"
   ]
  },
  {
   "cell_type": "markdown",
   "metadata": {
    "collapsed": false,
    "id": "Ux6lMdMPFTkE"
   },
   "source": [
    "Hier staan een aantal programmeeropdrachten om gewoon te raken aan de syntax en mogelijkheden van Python."
   ]
  },
  {
   "cell_type": "markdown",
   "metadata": {
    "collapsed": false,
    "id": "lJEWGh4TFTkE"
   },
   "source": [
    "### Dobbelsteen\n",
    "Schrijf een programma dat 6000 keer met de dobbelsteen rolt en telt hoeveel keer iedere waarde voorkomt.  Probeer geen lussen te moeten schrijven.  Je kan dit doen door te starten met een numpy array van 6000 willekeurige getallen tussen 1 en 6.\n",
    "\n",
    "Voorbeeld van de werking (dit kan afwijken omdat het willekeurige getallen zijn, maar alle getallen zouden rond de 1000 moeten liggen):\n",
    "\n",
    "```{text}\n",
    "Aantal enen: 1007\n",
    "Aantal tweeën: 994\n",
    "Aantal drieën: 1006\n",
    "Aantal vieren: 995\n",
    "Aantal vijven: 998\n",
    "Aantal zessen: 1000\n",
    "```"
   ]
  },
  {
   "cell_type": "code",
   "execution_count": null,
   "metadata": {
    "id": "RP7bF1AcFTkE"
   },
   "outputs": [
    {
     "name": "stdout",
     "output_type": "stream",
     "text": [
      "\n",
      "Aantal enen 976\n",
      "Aantal tweeën 1029\n",
      "Aantal drieën 1060\n",
      "Aantal vieren 973\n",
      "Aantal vijven 985\n",
      "Aantal zessen 977\n",
      "\n"
     ]
    }
   ],
   "source": [
    "random = np.random.randint(1, 7,size=6000)\n",
    "enen = 0\n",
    "tweeen = 0\n",
    "drieen = 0\n",
    "vieren = 0\n",
    "vijven = 0\n",
    "zessen = 0\n",
    "\n",
    "for i in random:\n",
    "    if i == 1:\n",
    "        enen = enen + 1\n",
    "    if i == 2:\n",
    "        tweeen = tweeen + 1\n",
    "    if i == 3:\n",
    "        drieen = drieen + 1\n",
    "    if i == 4:\n",
    "        vieren = vieren + 1\n",
    "    if i == 5:\n",
    "        vijven = vijven + 1\n",
    "    if i == 6:\n",
    "        zessen = zessen + 1\n",
    "print(\"\"\"\n",
    "Aantal enen {0:0d}\n",
    "Aantal tweeën {1:0d}\n",
    "Aantal drieën {2:0d}\n",
    "Aantal vieren {3:0d}\n",
    "Aantal vijven {4:0d}\n",
    "Aantal zessen {5:0d}\n",
    "\"\"\".format(enen,tweeen,drieen,vieren,vijven,zessen))\n",
    "\n",
    "# Dit kan ook\n",
    "# random = np.random.randint(1, 7, size=6000)\n",
    "# counts = np.bincount(random)\n",
    "#\n",
    "# print(\"Aantal enen:\", counts[1])\n",
    "# print(\"Aantal tweeën:\", counts[2])\n",
    "# print(\"Aantal drieën:\", counts[3])\n",
    "# print(\"Aantal vieren:\", counts[4])\n",
    "# print(\"Aantal vijven:\", counts[5])\n",
    "# print(\"Aantal zessen:\", counts[6])"
   ]
  },
  {
   "cell_type": "markdown",
   "metadata": {
    "collapsed": false,
    "id": "ZOlDVh48FTkE"
   },
   "source": [
    "### Kerstboom\n",
    "\n",
    "Schrijf een programma om een kerstboom af te drukken met behulp van ‘*’ tekens. De breedte van de boom wordt als een oneven geheel getal (13..29)  ingegeven. Indien niet voldaan is aan deze voorwaarde wordt de breedte op 13 ingesteld.\n",
    "\n",
    "Eerst moet je het midden van de boom bepalen aan de hand van de breedte.\n",
    "Vervolgens druk je de boom regel per regel af.\n",
    "Opmerking: de stam bestaat altijd uit 4 regels met een breedte van 3.\n",
    "Gebruik een for-lus om de boom af te drukken.\n",
    "\n",
    "Je kan het getal inlezen met volgende code:\n",
    "```{python}\n",
    "breedte = int(input(\"Geef de breedte de van kerstboom (oneven getal in bereik 13..29):\"))\n",
    "```\n",
    "Als je iets wil printen zonder newline op het einde (zoals System.out.print() in Java), dan kan dat als volgt:\n",
    "```{python}\n",
    "print(\"hello, \", end='')\n",
    "print(\"world!\")\n",
    "```\n",
    "Je kan een aantal keer hetzelfde karakter in een string zetten met:\n",
    "```{python}\n",
    "karakter = \"*\"\n",
    "aantal = 5\n",
    "print(karakter * aantal)\n",
    "```\n",
    "\n",
    "Voorbeeld van de werking:\n",
    "\n",
    "```{text}\n",
    "Geef de breedte de van kerstboom (oneven getal in bereik 13..29): 13\n",
    "\n",
    "      *\n",
    "     ***\n",
    "    *****\n",
    "   *******\n",
    "  *********\n",
    " ***********\n",
    "*************\n",
    "     ***\n",
    "     ***\n",
    "     ***\n",
    "     ***\n",
    "```"
   ]
  },
  {
   "cell_type": "code",
   "execution_count": 44,
   "metadata": {
    "id": "6Ks31u9sFTkF"
   },
   "outputs": [
    {
     "name": "stdout",
     "output_type": "stream",
     "text": [
      "      *\n",
      "     ***\n",
      "    *****\n",
      "   *******\n",
      "  *********\n",
      " ***********\n",
      "     ***\n",
      "     ***\n",
      "     ***\n",
      "     ***\n"
     ]
    }
   ],
   "source": [
    "# Input user (breedte)\n",
    "breedte = int(input(\"Geef de breedte de van kerstboom (oneven getal in bereik 13..29):\"))\n",
    "\n",
    "# Controleren of dat de breedte tussen 13 en 29 valt (inclusief). Indien niet wordt breedte op 13 gezet.\n",
    "if not (13 <= breedte <= 29):\n",
    "    breedte = 13\n",
    "\n",
    "# Bepaal het midden van de boom\n",
    "midden = breedte // 2\n",
    "\n",
    "# Boom maken\n",
    "for i in range(midden):\n",
    "    print(\" \" * (midden - i) + \"*\" * (2 * i + 1))\n",
    "\n",
    "# Stam maken\n",
    "for i in range(4):\n",
    "    print(\" \" * (midden - 1) + \"***\")"
   ]
  },
  {
   "cell_type": "markdown",
   "metadata": {
    "collapsed": false,
    "id": "0eJZGeBDFTkF"
   },
   "source": [
    "### Geheim schrift\n",
    "Schrijf een programma om berichten te coderen en te decoderen zoals Julius Caesar deed.\n",
    "Het programma vraagt eerst een bericht.  Dit bericht wordt naar hoofdletters omgezet.\n",
    "Daarna vraagt het programma aan de gebruiker of het bericht gecodeerd of gedecodeerd moet worden.\n",
    "Om te coderen, doorloopt het programma alle letters in het bericht en verschuift deze letter telkens een aantal plaatsen (zet deze verschuiving in een variabele).\n",
    "Met een verschuiving van 3 wordt bijvoorbeeld de letter 'A' een 'D'.  Indien je aan het einde van het alfabet komt begin je terug bij de 'A' (een 'Z' wordt in dit geval een 'C'). Bij het decoderen doe je uiteraard het tegenovergestelde.  Je kan dit heel snel doen door gebruik te maken van de ASCII code van ieder karakter (je mag ervan uitgaan dat alle karakters in de ASCII set passen).\n",
    "Als een karakter geen letter is, dan wordt die gewoon ongecodeerd (of ongedecodeerd) weergegeven.\n",
    "\n",
    "Voorbeeld van werking (de verschuiving staat hier op 6):\n",
    "```{text}\n",
    "Geef een bericht: The quick brown fox jumps over the lazy dog.\n",
    "Wil je dit encoderen? J\n",
    "Gecodeerd bericht:\n",
    "ZNK WAOIQ HXUCT LUD PASVY UBKX ZNK RGFE JUM.\n",
    "\n",
    "Geef een bericht: ZNK WAOIQ HXUCT LUD PASVY UBKX ZNK RGFE JUM.\n",
    "Wil je dit encoderen? N\n",
    "Gedecodeerd bericht:\n",
    "THE QUICK BROWN FOX JUMPS OVER THE LAZY DOG.\n",
    "```\n",
    "Hint: je kan de code heel compact maken als je gebruik maakt van de modulo (%) operator.\n",
    "Hint: je kan een karakter omzetten naar zijn ASCII code met \"ord(c)\" en omgekeerd kan je een ASCII code naar een karakter omzetten met \"chr(code)\""
   ]
  },
  {
   "cell_type": "code",
   "execution_count": 43,
   "metadata": {
    "id": "R5z7YOelFTkF"
   },
   "outputs": [
    {
     "name": "stdout",
     "output_type": "stream",
     "text": [
      "Gecodeerd bericht:\n",
      "FMJBT\n"
     ]
    }
   ],
   "source": [
    "# Input user (bericht)\n",
    "bericht = str(input(\"Geef een bericht: \"))\n",
    "\n",
    "# Naar hoofdletters\n",
    "bericht = bericht.upper()\n",
    "\n",
    "# Yes or no\n",
    "encdec = str(input(\"Wil je dit encoderen? (Y/N): \"))\n",
    "\n",
    "# new_bericht initialiseren\n",
    "new_bericht = \"\"\n",
    "# Dit stukje code codeert of decodeert het bovenstaande bericht.\n",
    "if encdec == \"Y\" or encdec == \"y\":\n",
    "    for i in bericht:\n",
    "        temp = ord(i)+1\n",
    "        new_bericht = new_bericht + chr(temp)\n",
    "    print(\"Gecodeerd bericht:\\n\" + new_bericht)\n",
    "elif encdec == \"N\" or encdec == \"n\":\n",
    "    for i in bericht:\n",
    "        temp = ord(i)-1\n",
    "        new_bericht = new_bericht + chr(temp)\n",
    "    print(\"Gedecodeerd bericht:\\n\" + new_bericht)\n",
    "else: print(\"Ongeldige invoer voor encoderen/decoderen. Voer 'Y' of 'N' in.\")"
   ]
  },
  {
   "cell_type": "markdown",
   "metadata": {
    "collapsed": false,
    "id": "MgNg8gz7FTkG"
   },
   "source": [
    "### Vervangen\n",
    "Maak een functie \"vervang(lijst, te_zoeken, vervanging)\" die in een list op zoek gaat naar een waarde en die vervangt door een andere."
   ]
  },
  {
   "cell_type": "code",
   "execution_count": 46,
   "metadata": {
    "id": "1BjjFiStFTkG"
   },
   "outputs": [],
   "source": [
    "def vervang (lijst, te_zoeken, vervanging):\n",
    "    \"\"\"\n",
    "    Vervangt een waarde in de lijst door een andere waarde.\n",
    "\n",
    "    Parameters:\n",
    "        lijst (list): De lijst waarin gezocht wordt.\n",
    "        te_zoeken: De waarde die gezocht wordt.\n",
    "        vervanging: De waarde waarmee te_zoeken vervangen wordt.\n",
    "\n",
    "    Returns:\n",
    "        list: De bijgewerkte lijst.\n",
    "    \"\"\"\n",
    "    for i in range(len(lijst)):\n",
    "        if lijst[i] == te_zoeken:\n",
    "            lijst[i] = vervanging\n",
    "    return lijst"
   ]
  },
  {
   "cell_type": "markdown",
   "metadata": {
    "collapsed": false,
    "id": "DYIJLzkbFTkG"
   },
   "source": [
    "Test de functie uit door in de list [ 10, 20, 30, 30, 40, 30, 0 ] de waarde 30 te vervangen door 42.\n",
    "Probeer of je functie ook werkt op een numpy array en een pandas Series.  Dat zou moeten lukken."
   ]
  },
  {
   "cell_type": "code",
   "execution_count": 54,
   "metadata": {
    "id": "dTydKyqqFTkH"
   },
   "outputs": [
    {
     "name": "stdout",
     "output_type": "stream",
     "text": [
      "[10, 20, 42, 42, 40, 42, 0]\n",
      "[10 20 42 42 40 42  0]\n",
      "0    10\n",
      "1    20\n",
      "2    42\n",
      "3    42\n",
      "4    40\n",
      "5    42\n",
      "6     0\n",
      "dtype: int64\n"
     ]
    }
   ],
   "source": [
    "# import\n",
    "import numpy as np\n",
    "import pandas as pd\n",
    "\n",
    "# De normale lijst\n",
    "testN = [ 10, 20, 30, 30, 40, 30, 0 ]\n",
    "testN_new = vervang(testN, 30, 42)\n",
    "print(testN_new) # New\n",
    "\n",
    "# Numpy array\n",
    "tempNp = np.array([ 10, 20, 30, 30, 40, 30, 0 ])\n",
    "testNp_new = vervang(tempNp, 30, 42)\n",
    "print(testNp_new) # New\n",
    "\n",
    "# Pandas Series\n",
    "tempNd = pd.Series([ 10, 20, 30, 30, 40, 30, 0 ])\n",
    "tempNd_new = vervang(tempNd, 30, 42)\n",
    "print(tempNd_new) # New"
   ]
  },
  {
   "cell_type": "markdown",
   "metadata": {
    "collapsed": false,
    "id": "jXaUo7ReFTkH"
   },
   "source": [
    "### Wachtwoorden\n",
    "Een goed wachtwoord kiezen, is voor sommige gebruikers een ware opgave.  We willen een programma maken waarin de gebruiker een nieuw wachtwoord moet kiezen.  Dit moet (omdat we het graag ingewikkeld maken) minstens 8 karakters lang zijn, minstens 1 hoofdletter, 1 kleine letter, een cijfer en een leesteken bevatten.\n",
    "Maak een functie \"is_goed_wachtwoord\" die een wachtwoord als parameter meekrijgt en een boolean teruggeeft.  Die boolean is true als het gegeven wachtwoord voldoet aan alle eisen.  De functie geeft ook een foutmelding op het scherm als het wachtwoord niet goed is.\n",
    "Maak dan een programma dat een nieuw wachtwoord vraagt totdat alle eisen voldaan zijn.\n",
    "\n",
    "Voorbeeld van de werking:\n",
    "\n",
    "```{text}\n",
    "Geef een nieuw wachtwoord: ww\n",
    "Het moet minstens 8 karakters lang zijn\n",
    "Geef een nieuw wachtwoord: wachtwoord\n",
    "Het moet minstens 1 hoofdletter bevatten\n",
    "Geef een nieuw wachtwoord: WACHTWOORD\n",
    "Het moet minstens 1 kleine letter bevatten\n",
    "Geef een nieuw wachtwoord: Wachtwoord\n",
    "Het moet minstens 1 cijfer bevatten\n",
    "Geef een nieuw wachtwoord: Wachtw00rd\n",
    "Het moet minstens 1 leesteken bevatten\n",
    "Geef een nieuw wachtwoord: Wachtw00rd!\n",
    "Je nieuwe wachtwoord is goedgekeurd!\n",
    "```\n",
    "\n",
    "Hint: je kan heel eenvoudig itereren door de karakters van een string met:\n",
    "```{python}\n",
    "for c in string:\n",
    "    ...\n",
    "```"
   ]
  },
  {
   "cell_type": "code",
   "execution_count": 70,
   "metadata": {
    "id": "rsgKjzIJFTkI"
   },
   "outputs": [
    {
     "name": "stdout",
     "output_type": "stream",
     "text": [
      "Het wachtwoord moet minstens 8 karakters lang zijn.\n",
      "Het wachtwoord moet minstens 8 karakters lang zijn.\n",
      "Het wachtwoord moet minstens 8 karakters lang zijn.\n",
      "Het wachtwoord moet minstens 1 hoofdletter bevatten.\n",
      "Het wachtwoord moet minstens 1 hoofdletter bevatten.\n",
      "Het wachtwoord moet minstens 8 karakters lang zijn.\n",
      "Het wachtwoord moet minstens 8 karakters lang zijn.\n",
      "Het wachtwoord moet minstens 8 karakters lang zijn.\n",
      "Het wachtwoord moet minstens 8 karakters lang zijn.\n",
      "Het wachtwoord moet minstens 8 karakters lang zijn.\n",
      "Het wachtwoord moet minstens 8 karakters lang zijn.\n",
      "Het wachtwoord moet minstens 8 karakters lang zijn.\n",
      "Het wachtwoord moet minstens 8 karakters lang zijn.\n",
      "Het wachtwoord moet minstens 8 karakters lang zijn.\n",
      "Het wachtwoord moet minstens 8 karakters lang zijn.\n",
      "Het wachtwoord moet minstens 8 karakters lang zijn.\n",
      "Het wachtwoord moet minstens 8 karakters lang zijn.\n",
      "Het wachtwoord moet minstens 8 karakters lang zijn.\n",
      "Het wachtwoord moet minstens 8 karakters lang zijn.\n",
      "Het wachtwoord moet minstens 8 karakters lang zijn.\n",
      "Het wachtwoord moet minstens 8 karakters lang zijn.\n",
      "Het wachtwoord moet minstens 8 karakters lang zijn.\n",
      "Het wachtwoord moet minstens 8 karakters lang zijn.\n",
      "Het wachtwoord moet minstens 8 karakters lang zijn.\n",
      "Het wachtwoord moet minstens 8 karakters lang zijn.\n",
      "Het wachtwoord moet minstens 8 karakters lang zijn.\n",
      "Het wachtwoord moet minstens 8 karakters lang zijn.\n",
      "Het wachtwoord moet minstens 8 karakters lang zijn.\n",
      "Het wachtwoord moet minstens 8 karakters lang zijn.\n",
      "Het wachtwoord moet minstens 8 karakters lang zijn.\n",
      "Het wachtwoord moet minstens 8 karakters lang zijn.\n",
      "Het wachtwoord moet minstens 8 karakters lang zijn.\n",
      "Het wachtwoord moet minstens 8 karakters lang zijn.\n",
      "Het wachtwoord moet minstens 8 karakters lang zijn.\n",
      "Het wachtwoord moet minstens 8 karakters lang zijn.\n",
      "Het wachtwoord moet minstens 8 karakters lang zijn.\n",
      "Het wachtwoord moet minstens 8 karakters lang zijn.\n",
      "Het wachtwoord moet minstens 8 karakters lang zijn.\n",
      "Het wachtwoord moet minstens 8 karakters lang zijn.\n",
      "Het wachtwoord moet minstens 8 karakters lang zijn.\n",
      "Het wachtwoord moet minstens 8 karakters lang zijn.\n",
      "Het wachtwoord moet minstens 8 karakters lang zijn.\n",
      "Het wachtwoord moet minstens 8 karakters lang zijn.\n",
      "Het wachtwoord moet minstens 8 karakters lang zijn.\n",
      "Het wachtwoord moet minstens 8 karakters lang zijn.\n",
      "Het wachtwoord moet minstens 8 karakters lang zijn.\n",
      "Het wachtwoord moet minstens 8 karakters lang zijn.\n",
      "Het wachtwoord moet minstens 8 karakters lang zijn.\n",
      "Het wachtwoord moet minstens 8 karakters lang zijn.\n",
      "Het wachtwoord moet minstens 8 karakters lang zijn.\n",
      "Het wachtwoord moet minstens 8 karakters lang zijn.\n",
      "Het wachtwoord moet minstens 1 leesteken bevatten.\n",
      "Het wachtwoord moet minstens 1 leesteken bevatten.\n",
      "Het wachtwoord moet minstens 8 karakters lang zijn.\n",
      "Het wachtwoord moet minstens 8 karakters lang zijn.\n",
      "Je nieuwe wachtwoord is goedgekeurd!\n"
     ]
    }
   ],
   "source": [
    "import re\n",
    "def is_goed_wachtwoord (wachtwoord):\n",
    "    # Minstens 8 Karakters\n",
    "    if not len(wachtwoord) >= 8:\n",
    "        print(\"Het wachtwoord moet minstens 8 karakters lang zijn.\")\n",
    "        return False\n",
    "    # Minstens 1 Hoofdletter\n",
    "    if not re.search(\"[A-Z]\", wachtwoord):\n",
    "        print(\"Het wachtwoord moet minstens 1 hoofdletter bevatten.\")\n",
    "        return False\n",
    "    # Minstens 1 Kleine letter\n",
    "    if not re.search(\"[a-z]\", wachtwoord):\n",
    "        print(\"Het wachtwoord moet minstens 1 kleine letter bevatten.\")\n",
    "        return False\n",
    "    # Minstens 1 Cijfer\n",
    "    if not re.search(\"[0-9]\", wachtwoord):\n",
    "        print(\"Het wachtwoord moet minstens 1 cijfer bevatten.\")\n",
    "        return False\n",
    "    # Minstens 1 Leesteken\n",
    "    if not re.search(\"[^a-zA-Z0-9]\", wachtwoord):\n",
    "        print(\"Het wachtwoord moet minstens 1 leesteken bevatten.\")\n",
    "        return False\n",
    "    # Else\n",
    "    return True\n",
    "\n",
    "\n",
    "# Input user (wachtwoord)\n",
    "wachtwoord = str(input(\"Geef een nieuw wachtwoord: \"))\n",
    "\n",
    "while not is_goed_wachtwoord(wachtwoord):\n",
    "    # Input user (wachtwoord)\n",
    "    wachtwoord = str(input(\"Geef een nieuw wachtwoord: \"))\n",
    "    if is_goed_wachtwoord(wachtwoord):\n",
    "        print(\"Je nieuwe wachtwoord is goedgekeurd!\")\n",
    "        break"
   ]
  }
 ],
 "metadata": {
  "colab": {
   "provenance": []
  },
  "kernelspec": {
   "display_name": "Python 3",
   "language": "python",
   "name": "python3"
  },
  "language_info": {
   "codemirror_mode": {
    "name": "ipython",
    "version": 3
   },
   "file_extension": ".py",
   "mimetype": "text/x-python",
   "name": "python",
   "nbconvert_exporter": "python",
   "pygments_lexer": "ipython3",
   "version": "3.9.13"
  },
  "vscode": {
   "interpreter": {
    "hash": "dadf8f407cf22f7c7afd2eadcc33cb055cbff1a79b57c3576717f45ff6b3c861"
   }
  }
 },
 "nbformat": 4,
 "nbformat_minor": 0
}
