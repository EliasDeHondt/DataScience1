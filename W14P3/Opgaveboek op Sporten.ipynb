{
 "cells": [
  {
   "cell_type": "markdown",
   "metadata": {
    "collapsed": false
   },
   "source": [
    "# Sportstatistieken\n",
    "\n",
    "We oefenen op basis Pandas commando's met de sport dataset."
   ]
  },
  {
   "cell_type": "markdown",
   "metadata": {
    "collapsed": false
   },
   "source": [
    "Open de file 'sportdata.csv' en maak er een nieuwe dataframe van."
   ]
  },
  {
   "cell_type": "code",
   "execution_count": 141,
   "id": "4d0e3f87",
   "metadata": {},
   "outputs": [
    {
     "data": {
      "text/plain": "    leeftijd geslacht      sport  keer per week  uren per week\n0         12        m       geen              0              0\n1         12        m  basketbal              1              2\n2         13        m    voetbal              2              4\n3         11        v    voetbal              2              4\n4         13        v       geen              0              0\n..       ...      ...        ...            ...            ...\n70        12        v     turnen              2              4\n71        11        v       judo              2              4\n72        11        v    voetbal              1              2\n73        12        v       geen              0              0\n74        11        v     anders              1              2\n\n[75 rows x 5 columns]",
      "text/html": "<div>\n<style scoped>\n    .dataframe tbody tr th:only-of-type {\n        vertical-align: middle;\n    }\n\n    .dataframe tbody tr th {\n        vertical-align: top;\n    }\n\n    .dataframe thead th {\n        text-align: right;\n    }\n</style>\n<table border=\"1\" class=\"dataframe\">\n  <thead>\n    <tr style=\"text-align: right;\">\n      <th></th>\n      <th>leeftijd</th>\n      <th>geslacht</th>\n      <th>sport</th>\n      <th>keer per week</th>\n      <th>uren per week</th>\n    </tr>\n  </thead>\n  <tbody>\n    <tr>\n      <th>0</th>\n      <td>12</td>\n      <td>m</td>\n      <td>geen</td>\n      <td>0</td>\n      <td>0</td>\n    </tr>\n    <tr>\n      <th>1</th>\n      <td>12</td>\n      <td>m</td>\n      <td>basketbal</td>\n      <td>1</td>\n      <td>2</td>\n    </tr>\n    <tr>\n      <th>2</th>\n      <td>13</td>\n      <td>m</td>\n      <td>voetbal</td>\n      <td>2</td>\n      <td>4</td>\n    </tr>\n    <tr>\n      <th>3</th>\n      <td>11</td>\n      <td>v</td>\n      <td>voetbal</td>\n      <td>2</td>\n      <td>4</td>\n    </tr>\n    <tr>\n      <th>4</th>\n      <td>13</td>\n      <td>v</td>\n      <td>geen</td>\n      <td>0</td>\n      <td>0</td>\n    </tr>\n    <tr>\n      <th>...</th>\n      <td>...</td>\n      <td>...</td>\n      <td>...</td>\n      <td>...</td>\n      <td>...</td>\n    </tr>\n    <tr>\n      <th>70</th>\n      <td>12</td>\n      <td>v</td>\n      <td>turnen</td>\n      <td>2</td>\n      <td>4</td>\n    </tr>\n    <tr>\n      <th>71</th>\n      <td>11</td>\n      <td>v</td>\n      <td>judo</td>\n      <td>2</td>\n      <td>4</td>\n    </tr>\n    <tr>\n      <th>72</th>\n      <td>11</td>\n      <td>v</td>\n      <td>voetbal</td>\n      <td>1</td>\n      <td>2</td>\n    </tr>\n    <tr>\n      <th>73</th>\n      <td>12</td>\n      <td>v</td>\n      <td>geen</td>\n      <td>0</td>\n      <td>0</td>\n    </tr>\n    <tr>\n      <th>74</th>\n      <td>11</td>\n      <td>v</td>\n      <td>anders</td>\n      <td>1</td>\n      <td>2</td>\n    </tr>\n  </tbody>\n</table>\n<p>75 rows × 5 columns</p>\n</div>"
     },
     "metadata": {},
     "output_type": "display_data"
    }
   ],
   "source": [
    "import pandas as pd\n",
    "sportData = pd.read_csv('sportdata.csv', delimiter=';')\n",
    "display(sportData)"
   ]
  },
  {
   "cell_type": "markdown",
   "metadata": {
    "collapsed": false
   },
   "source": [
    "Toon alle data van rij 10 t.e.m. rij 20."
   ]
  },
  {
   "cell_type": "code",
   "execution_count": 142,
   "id": "077d3e51",
   "metadata": {},
   "outputs": [
    {
     "data": {
      "text/plain": "    leeftijd geslacht      sport  keer per week  uren per week\n10        13        v       geen              0              0\n11        11        m     turnen              2              4\n12        12        v     anders              2              4\n13        12        m    voetbal              1              2\n14        13        v    zwemmen              2              4\n15        14        v       geen              0              0\n16        11        m    klimmen              2              4\n17        11        v       geen              0              0\n18        12        m       geen              0              0\n19        13        m       geen              0              0\n20        13        m  basketbal              2              4",
      "text/html": "<div>\n<style scoped>\n    .dataframe tbody tr th:only-of-type {\n        vertical-align: middle;\n    }\n\n    .dataframe tbody tr th {\n        vertical-align: top;\n    }\n\n    .dataframe thead th {\n        text-align: right;\n    }\n</style>\n<table border=\"1\" class=\"dataframe\">\n  <thead>\n    <tr style=\"text-align: right;\">\n      <th></th>\n      <th>leeftijd</th>\n      <th>geslacht</th>\n      <th>sport</th>\n      <th>keer per week</th>\n      <th>uren per week</th>\n    </tr>\n  </thead>\n  <tbody>\n    <tr>\n      <th>10</th>\n      <td>13</td>\n      <td>v</td>\n      <td>geen</td>\n      <td>0</td>\n      <td>0</td>\n    </tr>\n    <tr>\n      <th>11</th>\n      <td>11</td>\n      <td>m</td>\n      <td>turnen</td>\n      <td>2</td>\n      <td>4</td>\n    </tr>\n    <tr>\n      <th>12</th>\n      <td>12</td>\n      <td>v</td>\n      <td>anders</td>\n      <td>2</td>\n      <td>4</td>\n    </tr>\n    <tr>\n      <th>13</th>\n      <td>12</td>\n      <td>m</td>\n      <td>voetbal</td>\n      <td>1</td>\n      <td>2</td>\n    </tr>\n    <tr>\n      <th>14</th>\n      <td>13</td>\n      <td>v</td>\n      <td>zwemmen</td>\n      <td>2</td>\n      <td>4</td>\n    </tr>\n    <tr>\n      <th>15</th>\n      <td>14</td>\n      <td>v</td>\n      <td>geen</td>\n      <td>0</td>\n      <td>0</td>\n    </tr>\n    <tr>\n      <th>16</th>\n      <td>11</td>\n      <td>m</td>\n      <td>klimmen</td>\n      <td>2</td>\n      <td>4</td>\n    </tr>\n    <tr>\n      <th>17</th>\n      <td>11</td>\n      <td>v</td>\n      <td>geen</td>\n      <td>0</td>\n      <td>0</td>\n    </tr>\n    <tr>\n      <th>18</th>\n      <td>12</td>\n      <td>m</td>\n      <td>geen</td>\n      <td>0</td>\n      <td>0</td>\n    </tr>\n    <tr>\n      <th>19</th>\n      <td>13</td>\n      <td>m</td>\n      <td>geen</td>\n      <td>0</td>\n      <td>0</td>\n    </tr>\n    <tr>\n      <th>20</th>\n      <td>13</td>\n      <td>m</td>\n      <td>basketbal</td>\n      <td>2</td>\n      <td>4</td>\n    </tr>\n  </tbody>\n</table>\n</div>"
     },
     "metadata": {},
     "output_type": "display_data"
    }
   ],
   "source": [
    "display(sportData.loc[10:20])"
   ]
  },
  {
   "cell_type": "markdown",
   "metadata": {
    "collapsed": false
   },
   "source": [
    "Alle data van de eerste 2 kolommen van rij 10 tm 20."
   ]
  },
  {
   "cell_type": "code",
   "execution_count": 143,
   "id": "defa8d1c",
   "metadata": {},
   "outputs": [
    {
     "data": {
      "text/plain": "    leeftijd geslacht\n10        13        v\n11        11        m\n12        12        v\n13        12        m\n14        13        v\n15        14        v\n16        11        m\n17        11        v\n18        12        m\n19        13        m\n20        13        m",
      "text/html": "<div>\n<style scoped>\n    .dataframe tbody tr th:only-of-type {\n        vertical-align: middle;\n    }\n\n    .dataframe tbody tr th {\n        vertical-align: top;\n    }\n\n    .dataframe thead th {\n        text-align: right;\n    }\n</style>\n<table border=\"1\" class=\"dataframe\">\n  <thead>\n    <tr style=\"text-align: right;\">\n      <th></th>\n      <th>leeftijd</th>\n      <th>geslacht</th>\n    </tr>\n  </thead>\n  <tbody>\n    <tr>\n      <th>10</th>\n      <td>13</td>\n      <td>v</td>\n    </tr>\n    <tr>\n      <th>11</th>\n      <td>11</td>\n      <td>m</td>\n    </tr>\n    <tr>\n      <th>12</th>\n      <td>12</td>\n      <td>v</td>\n    </tr>\n    <tr>\n      <th>13</th>\n      <td>12</td>\n      <td>m</td>\n    </tr>\n    <tr>\n      <th>14</th>\n      <td>13</td>\n      <td>v</td>\n    </tr>\n    <tr>\n      <th>15</th>\n      <td>14</td>\n      <td>v</td>\n    </tr>\n    <tr>\n      <th>16</th>\n      <td>11</td>\n      <td>m</td>\n    </tr>\n    <tr>\n      <th>17</th>\n      <td>11</td>\n      <td>v</td>\n    </tr>\n    <tr>\n      <th>18</th>\n      <td>12</td>\n      <td>m</td>\n    </tr>\n    <tr>\n      <th>19</th>\n      <td>13</td>\n      <td>m</td>\n    </tr>\n    <tr>\n      <th>20</th>\n      <td>13</td>\n      <td>m</td>\n    </tr>\n  </tbody>\n</table>\n</div>"
     },
     "metadata": {},
     "output_type": "display_data"
    }
   ],
   "source": [
    "display(sportData.loc[10:20][['leeftijd', 'geslacht']])"
   ]
  },
  {
   "cell_type": "markdown",
   "metadata": {
    "collapsed": false
   },
   "source": [
    "Selecteer alle instanties die meer 3 keer per week sporten"
   ]
  },
  {
   "cell_type": "code",
   "execution_count": 144,
   "id": "1948e82d",
   "metadata": {},
   "outputs": [
    {
     "data": {
      "text/plain": "    leeftijd geslacht      sport  keer per week  uren per week\n23        13        m    voetbal              3              6\n29        11        m    voetbal              4              8\n31        11        m    klimmen              4              8\n32        14        v       judo              3              6\n35        13        m       judo              3              6\n37        12        m  basketbal              4              8\n38        13        m    voetbal              3              6\n42        11        v    fitness              3              6\n50        11        v    fitness              3              6\n52        13        v  basketbal              3              6\n54        12        v    voetbal              3              6\n57        13        v       judo              3              6\n59        13        v       judo              6             12\n61        13        v  basketbal              5             10\n65        11        v     anders              3              6",
      "text/html": "<div>\n<style scoped>\n    .dataframe tbody tr th:only-of-type {\n        vertical-align: middle;\n    }\n\n    .dataframe tbody tr th {\n        vertical-align: top;\n    }\n\n    .dataframe thead th {\n        text-align: right;\n    }\n</style>\n<table border=\"1\" class=\"dataframe\">\n  <thead>\n    <tr style=\"text-align: right;\">\n      <th></th>\n      <th>leeftijd</th>\n      <th>geslacht</th>\n      <th>sport</th>\n      <th>keer per week</th>\n      <th>uren per week</th>\n    </tr>\n  </thead>\n  <tbody>\n    <tr>\n      <th>23</th>\n      <td>13</td>\n      <td>m</td>\n      <td>voetbal</td>\n      <td>3</td>\n      <td>6</td>\n    </tr>\n    <tr>\n      <th>29</th>\n      <td>11</td>\n      <td>m</td>\n      <td>voetbal</td>\n      <td>4</td>\n      <td>8</td>\n    </tr>\n    <tr>\n      <th>31</th>\n      <td>11</td>\n      <td>m</td>\n      <td>klimmen</td>\n      <td>4</td>\n      <td>8</td>\n    </tr>\n    <tr>\n      <th>32</th>\n      <td>14</td>\n      <td>v</td>\n      <td>judo</td>\n      <td>3</td>\n      <td>6</td>\n    </tr>\n    <tr>\n      <th>35</th>\n      <td>13</td>\n      <td>m</td>\n      <td>judo</td>\n      <td>3</td>\n      <td>6</td>\n    </tr>\n    <tr>\n      <th>37</th>\n      <td>12</td>\n      <td>m</td>\n      <td>basketbal</td>\n      <td>4</td>\n      <td>8</td>\n    </tr>\n    <tr>\n      <th>38</th>\n      <td>13</td>\n      <td>m</td>\n      <td>voetbal</td>\n      <td>3</td>\n      <td>6</td>\n    </tr>\n    <tr>\n      <th>42</th>\n      <td>11</td>\n      <td>v</td>\n      <td>fitness</td>\n      <td>3</td>\n      <td>6</td>\n    </tr>\n    <tr>\n      <th>50</th>\n      <td>11</td>\n      <td>v</td>\n      <td>fitness</td>\n      <td>3</td>\n      <td>6</td>\n    </tr>\n    <tr>\n      <th>52</th>\n      <td>13</td>\n      <td>v</td>\n      <td>basketbal</td>\n      <td>3</td>\n      <td>6</td>\n    </tr>\n    <tr>\n      <th>54</th>\n      <td>12</td>\n      <td>v</td>\n      <td>voetbal</td>\n      <td>3</td>\n      <td>6</td>\n    </tr>\n    <tr>\n      <th>57</th>\n      <td>13</td>\n      <td>v</td>\n      <td>judo</td>\n      <td>3</td>\n      <td>6</td>\n    </tr>\n    <tr>\n      <th>59</th>\n      <td>13</td>\n      <td>v</td>\n      <td>judo</td>\n      <td>6</td>\n      <td>12</td>\n    </tr>\n    <tr>\n      <th>61</th>\n      <td>13</td>\n      <td>v</td>\n      <td>basketbal</td>\n      <td>5</td>\n      <td>10</td>\n    </tr>\n    <tr>\n      <th>65</th>\n      <td>11</td>\n      <td>v</td>\n      <td>anders</td>\n      <td>3</td>\n      <td>6</td>\n    </tr>\n  </tbody>\n</table>\n</div>"
     },
     "metadata": {},
     "output_type": "display_data"
    }
   ],
   "source": [
    "display(sportData[sportData['keer per week'] >= 3])"
   ]
  },
  {
   "cell_type": "markdown",
   "metadata": {
    "collapsed": false
   },
   "source": [
    "Hoeveel uur sporten deze personen gemiddelde per week?"
   ]
  },
  {
   "cell_type": "code",
   "execution_count": 145,
   "id": "250180ac",
   "metadata": {},
   "outputs": [
    {
     "data": {
      "text/plain": "7.07"
     },
     "metadata": {},
     "output_type": "display_data"
    }
   ],
   "source": [
    "display(round(sportData[sportData['keer per week'] >= 3]['uren per week'].mean(),2))"
   ]
  },
  {
   "cell_type": "markdown",
   "metadata": {
    "collapsed": false
   },
   "source": [
    "Wat is de gemiddelde leeftijd van de jongens die turnen?"
   ]
  },
  {
   "cell_type": "code",
   "execution_count": 146,
   "id": "ed885848",
   "metadata": {},
   "outputs": [
    {
     "data": {
      "text/plain": "11.83"
     },
     "metadata": {},
     "output_type": "display_data"
    }
   ],
   "source": [
    "display(round(sportData[sportData['sport'] == 'turnen']['leeftijd'].mean(),2))"
   ]
  },
  {
   "cell_type": "markdown",
   "metadata": {
    "collapsed": false
   },
   "source": [
    "Wat is het maximaal aantal uur dat iemand judo beoefent?"
   ]
  },
  {
   "cell_type": "code",
   "execution_count": 147,
   "id": "82cb099d",
   "metadata": {},
   "outputs": [
    {
     "data": {
      "text/plain": "12"
     },
     "metadata": {},
     "output_type": "display_data"
    }
   ],
   "source": [
    "display(sportData[sportData['sport'] == 'judo']['uren per week'].max())"
   ]
  }
 ],
 "metadata": {
  "kernelspec": {
   "display_name": "Python 3",
   "language": "python",
   "name": "python3"
  },
  "language_info": {
   "codemirror_mode": {
    "name": "ipython",
    "version": 2
   },
   "file_extension": ".py",
   "mimetype": "text/x-python",
   "name": "python",
   "nbconvert_exporter": "python",
   "pygments_lexer": "ipython2",
   "version": "2.7.6"
  }
 },
 "nbformat": 4,
 "nbformat_minor": 0
}
