{
 "cells": [
  {
   "cell_type": "markdown",
   "metadata": {
    "collapsed": true,
    "id": "cTK3Qq0P2VR-"
   },
   "source": [
    "# Oefenboek op het gebruik van Numpy\n",
    "\n",
    "Deze oefenboekjes bevatten oefeningen om te leren (leeroefeningen). We gaan er dus vanuit dat je op dit punt nog niet veel kennis hebt over de deze topic. Ze zijn bedoeld om de leerstof nog te leren begrijpen en **niet** om te testen of je de leerstof al onder de knie hebt. Daarvoor hebben we een ander soort oefeningen."
   ]
  },
  {
   "cell_type": "markdown",
   "metadata": {
    "id": "c2s2OP3hHnBd"
   },
   "source": [
    "## Oefeningen op Numpy arrays\n",
    "\n",
    "Maak eerst de oefenboekjes op Python alvorens je hier aan begint. Importeer nu eerst de juiste libraries zodat je aan de slag kan.\n",
    "\n",
    "```python\n",
    "import numpy as np\n",
    "```"
   ]
  },
  {
   "cell_type": "code",
   "execution_count": 2185,
   "id": "c61053df",
   "metadata": {},
   "outputs": [],
   "source": [
    "import numpy as np"
   ]
  },
  {
   "cell_type": "markdown",
   "metadata": {
    "id": "SEz-NszwHpn9"
   },
   "source": [
    "### Oefening 1 - Eenvoudige Numpy arrays aanmaken"
   ]
  },
  {
   "cell_type": "markdown",
   "metadata": {
    "id": "ilpq7gH32b7Q"
   },
   "source": [
    "De eenvoudigste manier om een Numpy `array` aan te maken is om te vertrekken van Python `list`. Dat kan bv. zo:\n",
    "\n",
    "```python\n",
    "import numpy as np     # Niet vergeten om Numpy te importeren met alias np.\n",
    "\n",
    "lijst = [1,2,3,4,5,6]\n",
    "data = np.array(lijst)\n",
    "```\n",
    "Je kan nu afvragen wat het nut is van een Numpy `array` t.o.v. een klassieke Python `list`. Ze hebben beide hun voor -en nadelen. Zo zijn Python lists flexibeler als het aankomt op datatypes en uitbreiding (ze kunnen verschillende datatypes bevatten, en je kan ze makkelijker groter of kleiner maken). Numpy arrays daarentegen kunnen dat niet. De gegevens in een Numpy array moeten altijd van hetzelfde datatype zijn (bv. allemaal `int`), en ze zijn immutable waardoor je ze niet groter of kleiner kan maken. Toch hebben Numpy arrays enkele troeven in huis waarvan de belangrijkste hun **broadcasting** eigenschap is. Wat dat is, leer je hier.\n",
    "\n",
    "Maak nu bovenstaand Numpy-array object aan met de naam *data* met daarin deze Python `list` van waarden `[1,2,3,4,5,6]`. Je mag ook een `range` gebruiken."
   ]
  },
  {
   "cell_type": "code",
   "execution_count": 2186,
   "id": "a5378f14",
   "metadata": {},
   "outputs": [
    {
     "name": "stdout",
     "output_type": "stream",
     "text": [
      "[1 2 3 4 5 6]\n"
     ]
    }
   ],
   "source": [
    "data = np.array([1,2,3,4,5,6])\n",
    "print(data)"
   ]
  },
  {
   "cell_type": "markdown",
   "metadata": {
    "collapsed": false,
    "id": "A92-9Hr-2VSC"
   },
   "source": [
    "Een Numpy array is een tabel met zoveel dimensies als je maar wil.Je kan de dimensieinformatie opvragen met de eigenschap `.shape`. \n",
    "\n",
    "Een shape is een Python <a href=\"https://realpython.com/python-lists-tuples/#python-tuples\">tuple</a>. Je zal tuples nog heel vaak tegenkomen.\n",
    "\n",
    "Wat is de shape van je zonet gemaakte Numpy array?\n",
    "\n",
    "*Nota: Je zal merken dat de `tuple` er een beetje vreemd uit ziet. Dat komt omdat deze array maar 1 dimensie heeft en tuple minstens twee waarden moet bevatten*"
   ]
  },
  {
   "cell_type": "code",
   "execution_count": 2187,
   "id": "ed11e7ce",
   "metadata": {},
   "outputs": [
    {
     "name": "stdout",
     "output_type": "stream",
     "text": [
      "(6,)\n"
     ]
    }
   ],
   "source": [
    "print(data.shape)\n",
    "# (6,)"
   ]
  },
  {
   "cell_type": "markdown",
   "metadata": {
    "collapsed": false,
    "id": "_YKY3Z552VSD"
   },
   "source": [
    "Zoals hierboven al aangehaald heeft een array altijd één bepaald datatype. Het datatype van een array kan je opvragen met de `.dtype`-eigenschap.\n",
    "\n",
    "Vraag nu het datatype op van je array?"
   ]
  },
  {
   "cell_type": "code",
   "execution_count": 2188,
   "id": "cd2e64e3",
   "metadata": {},
   "outputs": [
    {
     "name": "stdout",
     "output_type": "stream",
     "text": [
      "int32\n"
     ]
    }
   ],
   "source": [
    "print(data.dtype)\n",
    "# int32"
   ]
  },
  {
   "cell_type": "markdown",
   "metadata": {
    "collapsed": false,
    "id": "yukkJnzrr0bl"
   },
   "source": [
    "Maak nu een nieuwe array aan met de volgende commando's:\n",
    "* `np.array([1.0,2.0,3.0,4.0])`\n",
    "* `np.array([1.0,2.0,3.0,4.0], dtype=int)`\n",
    "\n",
    "Wat is het verschil?"
   ]
  },
  {
   "cell_type": "code",
   "execution_count": 2189,
   "id": "8e3d1b90",
   "metadata": {},
   "outputs": [
    {
     "name": "stdout",
     "output_type": "stream",
     "text": [
      "float64\n",
      "int32\n"
     ]
    }
   ],
   "source": [
    "test1 = np.array([1.0,2.0,3.0,4.0])\n",
    "test2 = np.array([1.0,2.0,3.0,4.0], dtype=int)\n",
    "print(test1.dtype)\n",
    "print(test2.dtype)\n",
    "# test1 = float64\n",
    "# test1 = int32"
   ]
  },
  {
   "cell_type": "markdown",
   "metadata": {
    "collapsed": false,
    "id": "HVGpOs4J2VSH"
   },
   "source": [
    "Je kan elementen uit de array selecteren m.b.v. vierkante haakjes `[]` met daartussen een of meerdere indexen. Je mag daarbij ook gebruikmaken van Python <a href=\"https://realpython.com/lessons/indexing-and-slicing/\">`slices`</a>. Met slices kan je ook per twee tellen of achteruit tellen bv. \n",
    "\n",
    "Hieronder zie je enkele tips van hoe je commando kan gebruiken. \n",
    "\n",
    "```python\n",
    "a[1]\n",
    "a[1:3]\n",
    "a[[1,3,5]] \n",
    "``` \n",
    "\n",
    "Haal het tweede element en het tweede t.e.m. het derde element. Dit kan op heel wat verschillende manieren gerealiseerd worden. Probeer zoveel mogelijk zaken uit."
   ]
  },
  {
   "cell_type": "code",
   "execution_count": 2190,
   "id": "07583f80",
   "metadata": {},
   "outputs": [
    {
     "name": "stdout",
     "output_type": "stream",
     "text": [
      "2\n",
      "[2 3]\n",
      "[2 3]\n"
     ]
    }
   ],
   "source": [
    "# 1\n",
    "print(data[1])\n",
    "# 2\n",
    "print(data[1:3])\n",
    "print(data[[1,2]])"
   ]
  },
  {
   "cell_type": "markdown",
   "metadata": {
    "id": "jTqjbaLYHuNU"
   },
   "source": [
    "### Oefening 2 - Twee dimensionele Numpy arrays"
   ]
  },
  {
   "cell_type": "markdown",
   "metadata": {
    "collapsed": false,
    "id": "44FqTBJl2VSK"
   },
   "source": [
    "Een 2D array bestaat uit een `list` van een `list` van elementen.\n",
    "\n",
    "```python\n",
    "matrix = [\n",
    "  [],\n",
    "  [],\n",
    "  []\n",
    "]\n",
    "a = np.array(matrix)\n",
    "```\n",
    "\n",
    "Maak een Numpy `array` object aan, genaamd `data`, met drie rijen waavan de waarden gelijk zijn aan:\n",
    "\n",
    "* rij 1: `[1, 1, 0.83, 1.3]`,\n",
    "* rij 2: `[2, 4, 0.75, 1.0]`,\n",
    "* rij 3: `[3, 2, 4.75, 0.2]`"
   ]
  },
  {
   "cell_type": "code",
   "execution_count": 2191,
   "id": "be83b7d2",
   "metadata": {},
   "outputs": [
    {
     "name": "stdout",
     "output_type": "stream",
     "text": [
      "[[1.   1.   0.83 1.3 ]\n",
      " [2.   4.   0.75 1.  ]\n",
      " [3.   2.   4.75 0.2 ]]\n"
     ]
    }
   ],
   "source": [
    "data = np.array([\n",
    "    [1, 1, 0.83, 1.3],\n",
    "    [2, 4, 0.75, 1.0],\n",
    "    [3, 2, 4.75, 0.2]\n",
    "])\n",
    "print(data)"
   ]
  },
  {
   "cell_type": "markdown",
   "metadata": {
    "collapsed": false,
    "id": "XnjN6EGN2VSL"
   },
   "source": [
    "\n",
    "Wat is de shape van dit DataFrame\"?"
   ]
  },
  {
   "cell_type": "code",
   "execution_count": 2192,
   "id": "8b57a18c",
   "metadata": {},
   "outputs": [
    {
     "name": "stdout",
     "output_type": "stream",
     "text": [
      "(3, 4)\n"
     ]
    }
   ],
   "source": [
    "print(data.shape)\n",
    "# (3, 4)"
   ]
  },
  {
   "cell_type": "markdown",
   "metadata": {
    "collapsed": false,
    "id": "mr9A5TxC2VSM"
   },
   "source": [
    "Wat is het datatype van deze array? "
   ]
  },
  {
   "cell_type": "code",
   "execution_count": 2193,
   "id": "1d2ebf8b",
   "metadata": {},
   "outputs": [
    {
     "name": "stdout",
     "output_type": "stream",
     "text": [
      "float64\n"
     ]
    }
   ],
   "source": [
    "print(data.dtype)\n",
    "# float64"
   ]
  },
  {
   "cell_type": "markdown",
   "metadata": {
    "collapsed": false,
    "id": "yGxXMLJbQ1jy"
   },
   "source": [
    "Natuurlijk kan je ook uit 2D arrays elementen selecteren m.b.v. vierkante haakjes `[]` met daartussen een of meerdere indexen. \n",
    "\n",
    "Hieronder zie je enkele tips van hoe je commando kan gebruiken. \n",
    "\n",
    "```python\n",
    "a[1,1]\n",
    "a[1:3,3]\n",
    "a[[1,3,5], 2:4]\n",
    "``` \n",
    "\n",
    "Haal het 2e element op van de 3e rij.\n",
    "Haal nu het tweede t.e.m. het derde element op van rijen 1 en 2. Dit kan op heel wat verschillende manieren gerealiseerd worden. Probeer weer zoveel mogelijk zaken uit."
   ]
  },
  {
   "cell_type": "code",
   "execution_count": 2194,
   "id": "44d3e089",
   "metadata": {},
   "outputs": [
    {
     "name": "stdout",
     "output_type": "stream",
     "text": [
      "2.0\n",
      "[[1.   0.83]\n",
      " [4.   0.75]]\n",
      "\n",
      "[[4.   0.75]\n",
      " [2.   4.75]]\n"
     ]
    }
   ],
   "source": [
    "# [0,0] [0,1] [0,2] [0,3]\n",
    "# [1,0] [1,1] [1,2] [1,3]\n",
    "# [2,0] [2,1] [2,2] [2,3]\n",
    "# [3,0] [3,1] [3,2] [3,3]\n",
    "# 1\n",
    "print(data[2,1])\n",
    "# 2\n",
    "print(data[0:2,1:3])\n",
    "print() # /n\n",
    "print(data[[1,2], 1:3])"
   ]
  },
  {
   "cell_type": "markdown",
   "metadata": {
    "id": "TmeLygtbH3pz"
   },
   "source": [
    "### Oefening 3 - Broadcasting begrijpen"
   ]
  },
  {
   "cell_type": "markdown",
   "metadata": {
    "collapsed": false,
    "id": "LE4j0MEN2VSW"
   },
   "source": [
    "Maak twee Numpy arrays, `enen` en `vijven` aan met onderstaande code, en tel ze bij elkaar op.\n",
    "\n",
    "```python\n",
    "enen = np.ones(10)        # shape = (10,)\n",
    "vijven = np.tile(5,10)    # shape = (10,)\n",
    "enen + vijven             # shape = (10,)\n",
    "```\n",
    "Merk op dat de dimensie van deze arrays gelijk zijn. Het zijn 1D arrays met lengte 10.\n",
    "Print de gemaakte arrays uit evenals hun shapes."
   ]
  },
  {
   "cell_type": "code",
   "execution_count": 2195,
   "id": "3af63b07",
   "metadata": {},
   "outputs": [
    {
     "name": "stdout",
     "output_type": "stream",
     "text": [
      "[1. 1. 1. 1. 1. 1. 1. 1. 1. 1.]\n",
      "(10,)\n",
      "\n",
      "[5 5 5 5 5 5 5 5 5 5]\n",
      "(10,)\n",
      "\n",
      "[6. 6. 6. 6. 6. 6. 6. 6. 6. 6.]\n",
      "(10,)\n"
     ]
    }
   ],
   "source": [
    "enen = np.ones(10)            # shape = (10,)\n",
    "vijven = np.tile(5,10)        # shape = (10,)\n",
    "enen + vijven                 # shape = (10,)\n",
    "print(enen)\n",
    "print(enen.shape)\n",
    "print() # /n\n",
    "print(vijven)\n",
    "print(vijven.shape)\n",
    "print() # /n\n",
    "print(enen + vijven)\n",
    "print((enen + vijven).shape)"
   ]
  },
  {
   "cell_type": "markdown",
   "metadata": {
    "collapsed": false,
    "id": "Xt4JkwAHl5ac"
   },
   "source": [
    "Maak nu twee arrays met onderstaande code\n",
    "\n",
    "```python\n",
    "a = np.array([[1,2], \n",
    "              [3,4],\n",
    "              [5,6]])\n",
    "b = np.array([\n",
    "              [10,100]\n",
    "              ])\n",
    "```\n",
    "\n",
    "Merk op dat de dimensie van deze arrays **niet meer gelijk** zijn, maar het *laatste deel* van hun shapes zijn wel hetzelfde en dat één van de dimensie ook gelijk is aan 1. Controleer dit door de shapes van deze arrays uit te printen."
   ]
  },
  {
   "cell_type": "code",
   "execution_count": 2196,
   "id": "07fc7cc3",
   "metadata": {},
   "outputs": [
    {
     "name": "stdout",
     "output_type": "stream",
     "text": [
      "(3, 2)\n",
      "\n",
      "(1, 2)\n"
     ]
    }
   ],
   "source": [
    "a = np.array([[1,2],\n",
    "              [3,4],\n",
    "              [5,6]])\n",
    "\n",
    "b = np.array([\n",
    "              [10,100]\n",
    "              ])\n",
    "\n",
    "print(a.shape)\n",
    "print() # /n\n",
    "print(b.shape)"
   ]
  },
  {
   "cell_type": "markdown",
   "metadata": {
    "id": "npZ0D1PBnod-"
   },
   "source": [
    "Tel nu de arrays `a` en `b` bij elkaar op en stop het resultaat in variabele `c` en print het resultaat uit. Wat is de shape van nieuwe array? Verklaar in woorden wat er volgens jou gebeurd is."
   ]
  },
  {
   "cell_type": "code",
   "execution_count": 2197,
   "id": "bbe200f1",
   "metadata": {},
   "outputs": [
    {
     "name": "stdout",
     "output_type": "stream",
     "text": [
      "[[ 11 102]\n",
      " [ 13 104]\n",
      " [ 15 106]]\n",
      "\n",
      "(3, 2)\n"
     ]
    }
   ],
   "source": [
    "c = np.array(a + b)\n",
    "print(c)\n",
    "print() # /n\n",
    "print(c.shape)\n",
    "# De shape van de nieuwe array c is (3, 2), wat betekent dat het drie rijen en twee kolommen heeft.\n",
    "# Wat hier gebeurt is dat we de elementen van elke kolom in b optellen bij de overeenkomstige elementen in de\n",
    "# kolommen van a. Dit resulteert in een nieuwe array c met dezelfde vorm als a en b, waarbij de elementen van b zijn opgeteld bij de elementen van a."
   ]
  },
  {
   "cell_type": "markdown",
   "metadata": {
    "id": "WzYpIYUtq3V4"
   },
   "source": [
    "Eens kijken of vermenigvuldigen ook werkt?\n",
    "\n",
    "Vermenigvuldig `a` met `b`."
   ]
  },
  {
   "cell_type": "code",
   "execution_count": 2198,
   "id": "27d5ada6",
   "metadata": {},
   "outputs": [
    {
     "name": "stdout",
     "output_type": "stream",
     "text": [
      "[[ 10 200]\n",
      " [ 30 400]\n",
      " [ 50 600]]\n",
      "\n",
      "(3, 2)\n"
     ]
    }
   ],
   "source": [
    "d = np.array(a * b)\n",
    "print(d)\n",
    "print() # /n\n",
    "print(d.shape)"
   ]
  },
  {
   "cell_type": "markdown",
   "metadata": {
    "id": "XB3qJChYoOMM"
   },
   "source": [
    "In de vorige voorbeelden wordt de dimensie van `b` tijdelijk 'opgerekt' tot die van `a` langs de as met dimensie 1, zodat de dimensies overeenkomen. Dit oprekken kan je zelf ook nabootsen met de `repeat`-functie uit Numpy. \n",
    "\n",
    "```python\n",
    "temp = np.repeat(b,3,axis=0)    # wat zou axis=1 doen?\n",
    "print(temp)\n",
    "temp.shape\n",
    "```\n",
    "*Nota: de `repeat`-functie lijkt op de `tile`-functie maar werkt net iets anders. Probeer zelf de verschillen te vinden door te experimenteren met het herhalen van een volledige Numpy array*\n",
    "\n"
   ]
  },
  {
   "cell_type": "code",
   "execution_count": 2199,
   "id": "fa4e1a23",
   "metadata": {},
   "outputs": [
    {
     "name": "stdout",
     "output_type": "stream",
     "text": [
      "[[ 10 100]\n",
      " [ 10 100]\n",
      " [ 10 100]]\n",
      "(3, 2)\n"
     ]
    }
   ],
   "source": [
    "temp = np.repeat(b,3,axis=0)    # wat zou axis=1 doen? -> Alle rijen gaan in 1D\n",
    "print(temp)\n",
    "print(temp.shape)"
   ]
  },
  {
   "cell_type": "markdown",
   "metadata": {
    "id": "oNa7ih8JrBUF"
   },
   "source": [
    "Nu onderzoeken wanneer **broadcasting** niet werkt, zodat je beter kan begrijpen hoe het wel werkt, en tegelijkertijd leren we nog enkele handige functies bij uit de Numpy library (die wel goed werken).\n",
    "\n",
    "```\n",
    "a = np.full(shape=(2,4), fill_value=np.pi)       # 2D array met getal pi\n",
    "b = np.full(shape=(3,1), fill_value=np.exp(1))  # 2D array met getal van Euler\n",
    "print(a)\n",
    "print(b)\n",
    "a+b   \n",
    "```\n",
    "\n",
    "Probeer deze code uit en je zal een <font color=\"red\">_Value Error: operands could not be broadcast together</font>_ krijgen.\n",
    "\n",
    "Zet de foute regel in commentaar en controleer de shapes van `a` en `b`."
   ]
  },
  {
   "cell_type": "code",
   "execution_count": 2200,
   "id": "4d6cf24f",
   "metadata": {},
   "outputs": [
    {
     "name": "stdout",
     "output_type": "stream",
     "text": [
      "[[3.14159265 3.14159265 3.14159265 3.14159265]\n",
      " [3.14159265 3.14159265 3.14159265 3.14159265]]\n",
      "(2, 4)\n",
      "\n",
      "[[2.71828183 2.71828183 2.71828183 2.71828183]\n",
      " [2.71828183 2.71828183 2.71828183 2.71828183]]\n",
      "(2, 4)\n",
      "\n",
      "[[5.85987448 5.85987448 5.85987448 5.85987448]\n",
      " [5.85987448 5.85987448 5.85987448 5.85987448]]\n",
      "(2, 4)\n"
     ]
    }
   ],
   "source": [
    "a = np.full(shape=(2,4), fill_value=np.pi)       # 2D array met getal pi\n",
    "b = np.full(shape=(2,4), fill_value=np.exp(1))  # 2D array met getal van Euler\n",
    "print(a)\n",
    "print(a.shape)\n",
    "print() # /n\n",
    "print(b)\n",
    "print(b.shape)\n",
    "print() # /n\n",
    "print(a + b)\n",
    "print((a + b).shape)"
   ]
  },
  {
   "cell_type": "markdown",
   "metadata": {
    "id": "MWIz7_nqVQzf"
   },
   "source": [
    "Lees de [uitleg](https://numpy.org/doc/stable/user/basics.broadcasting.html) over wanneer broadcasting wel kan werken op de officiële website van de Numpy library. Broadcasting kan alleen werken indien:\n",
    "\n",
    "* de laatste dimensie gelijk is\n",
    "* alle niet-overeenstemmende dimensies gelijk zijn aan de dimensie 1 in de andere array.\n",
    "\n",
    "Enkele voorbeelden van dimensies waar broadcasting zal **werken** (van bovenstaande link):\n",
    "\n",
    "```\n",
    "256 x 256 x 3      # shape van array a\n",
    "          x 3      # shape van array b\n",
    "-------------\n",
    "256 x 256 x 3      # shape van array c\n",
    "```\n",
    "```\n",
    "8 x 1 x 6 x 1      # shape van array a\n",
    "    7 x 1 x 5      # shape van array b\n",
    "-------------\n",
    "8 x 7 x 6 x 5      # shape van array c\n",
    "```\n",
    "```\n",
    "1                  # shape van array a\n",
    "4                  # shape van array b\n",
    "-\n",
    "4                  # shape van array c\n",
    "```\n",
    "\n",
    "Voorbeelden waar broadcasting **niet zal werken**:\n",
    "\n",
    "```\n",
    "3                  # shape van array a\n",
    "4                  # shape van array b\n",
    "-\n",
    "?                 \n",
    "```\n",
    "\n",
    "```\n",
    "2 x 4              # shape van array a\n",
    "3 x 1              # shape van array b\n",
    "-----\n",
    "?????\n",
    "```\n",
    "```\n",
    "    2 x 1          # shape van array a\n",
    "8 x 4 x 3          # shape van array b\n",
    "---------\n",
    "?????????\n",
    "```"
   ]
  },
  {
   "cell_type": "markdown",
   "metadata": {
    "id": "2ZqZPPkLH7rH"
   },
   "source": [
    "### Oefening 4 - Numpy arrays vervormen"
   ]
  },
  {
   "cell_type": "markdown",
   "metadata": {
    "id": "lg91XVaT_MYP"
   },
   "source": [
    "Een vaak gebruikte functie om arrays te vervormen is `np.reshape`.  Veel algoritmen verwachten namelijk dat de inputdata in een bepaalde vorm staat. Wanneer we neurale netwerken willen trainen die afbeeldingen leren herkennen, zullen we eerst vierkante 2D-matrix van pixels moeten omzetten naar één lange 1D-array.\n",
    "\n",
    "Zoals de naam al laat vermoeden, kun je met `np.reshape` de **dimensies** van een array **aanpassen**. Uiteraard moeten deze dimensie wijzigingen gebeuren binnen *de mate van het mogelijke*, d.w.z.: alle elementen uit de originele array moeten een nieuwe plaats kunnen krijgen in de nieuwe vorm. Na de hervorming moeten er dus evenveel plaatsen zijn voor alle originele elementen.\n",
    "\n",
    "**Voorbeelden**\n",
    "\n",
    "* 1D-array van 10 kun je omzetten naar een 2D-array van 5 x 2\n",
    "* 2D-array van 5 x 4 kun je omzetten naar een 2D-array van 4 x 5\n",
    "* 2D-array van 5 x 4 kun je omzetten naar een 1D-array van 20\n",
    "* 2D-array van 5 x 4 kun je omzetten naar een 2D-array van 10 x 2\n",
    "* 3D-array van 28 x 28 x 3 kun je omzetten naar een array van 2352\n",
    "* ...\n",
    "\n",
    "Naast de **functie** `np.reshape` kan je ook gebruikmaken van de **methode** `.reshape()`. Ze doet hetzelfde, maar je roept ze gewoon op vanaf de array zelf.  Een laatste nuttige tip is dat je altijd **één dimensie minder** hoeft op te geven van de nieuwe vorm. Als je van 2D naar een andere 2D wil gaan, kan je één dimensie op geven en de andere op -1 zetten. Numpy vindt dan zelf de juiste waarde voor die ontbrekende dimensie. Het maakt ook niet uit welke dimensie je achterwege laat.\n",
    "\n",
    "**Voorbeeld**\n",
    "\n",
    "* Een 1D-array van 6 kun je omzetten naar een 2D-array van 3 x 2 door mee te geven dat er 3 rijen moeten zijn. Numpy berekent zelf dat er dan 2 kolommen zullen zijn.\n",
    "* Een 1D-array van 5 x 4 kun je omzetten naar een 2D-array van 4 x 5 door mee te geven dat er 4 kolommen moeten zijn. Numpy berekent zelf dat er dan 5 rijen zullen zijn.\n",
    "\n",
    "```\n",
    "a = np.array([1,2,3,4,5,6])\n",
    "a.reshape(3,2)                # met de methode, en expliciet \n",
    "a.reshape(3,-1)               # met de methode en Numpy zoekt het zelf wel uit\n",
    "np.reshape(a,(3,-1))          # kan ook met de functie, nieuwe dimensie is tuple\n",
    "\n",
    "# Let op: hierboven a is hier nog steeds hetzelfde, want je hebt niets toegekend aan a\n",
    "\n",
    "a = a.reshape(3,-1)           # nu is a wel aangepast\n",
    "a = np.reshape(a,(3,-1))      # of kan ook met de functie\n",
    "```\n",
    "\n",
    "Maak een array `a` van getallen met de functie met 100 oplopende getallen van 1 t.e.m. 100 (gebruik een `range`). Transformeer deze naar een matrix `b` van 10 x 10, transformeer deze vervolgens naar een 3D-array `c` met dimensies 10 x 5 x 2.\n"
   ]
  },
  {
   "cell_type": "code",
   "execution_count": 2201,
   "id": "94fda126",
   "metadata": {},
   "outputs": [
    {
     "name": "stdout",
     "output_type": "stream",
     "text": [
      "[  1   2   3   4   5   6   7   8   9  10  11  12  13  14  15  16  17  18\n",
      "  19  20  21  22  23  24  25  26  27  28  29  30  31  32  33  34  35  36\n",
      "  37  38  39  40  41  42  43  44  45  46  47  48  49  50  51  52  53  54\n",
      "  55  56  57  58  59  60  61  62  63  64  65  66  67  68  69  70  71  72\n",
      "  73  74  75  76  77  78  79  80  81  82  83  84  85  86  87  88  89  90\n",
      "  91  92  93  94  95  96  97  98  99 100]\n",
      "(100,)\n",
      "\n",
      "[[  1   2   3   4   5   6   7   8   9  10]\n",
      " [ 11  12  13  14  15  16  17  18  19  20]\n",
      " [ 21  22  23  24  25  26  27  28  29  30]\n",
      " [ 31  32  33  34  35  36  37  38  39  40]\n",
      " [ 41  42  43  44  45  46  47  48  49  50]\n",
      " [ 51  52  53  54  55  56  57  58  59  60]\n",
      " [ 61  62  63  64  65  66  67  68  69  70]\n",
      " [ 71  72  73  74  75  76  77  78  79  80]\n",
      " [ 81  82  83  84  85  86  87  88  89  90]\n",
      " [ 91  92  93  94  95  96  97  98  99 100]]\n",
      "(10, 10)\n",
      "\n",
      "[[[  1   2]\n",
      "  [  3   4]\n",
      "  [  5   6]\n",
      "  [  7   8]\n",
      "  [  9  10]]\n",
      "\n",
      " [[ 11  12]\n",
      "  [ 13  14]\n",
      "  [ 15  16]\n",
      "  [ 17  18]\n",
      "  [ 19  20]]\n",
      "\n",
      " [[ 21  22]\n",
      "  [ 23  24]\n",
      "  [ 25  26]\n",
      "  [ 27  28]\n",
      "  [ 29  30]]\n",
      "\n",
      " [[ 31  32]\n",
      "  [ 33  34]\n",
      "  [ 35  36]\n",
      "  [ 37  38]\n",
      "  [ 39  40]]\n",
      "\n",
      " [[ 41  42]\n",
      "  [ 43  44]\n",
      "  [ 45  46]\n",
      "  [ 47  48]\n",
      "  [ 49  50]]\n",
      "\n",
      " [[ 51  52]\n",
      "  [ 53  54]\n",
      "  [ 55  56]\n",
      "  [ 57  58]\n",
      "  [ 59  60]]\n",
      "\n",
      " [[ 61  62]\n",
      "  [ 63  64]\n",
      "  [ 65  66]\n",
      "  [ 67  68]\n",
      "  [ 69  70]]\n",
      "\n",
      " [[ 71  72]\n",
      "  [ 73  74]\n",
      "  [ 75  76]\n",
      "  [ 77  78]\n",
      "  [ 79  80]]\n",
      "\n",
      " [[ 81  82]\n",
      "  [ 83  84]\n",
      "  [ 85  86]\n",
      "  [ 87  88]\n",
      "  [ 89  90]]\n",
      "\n",
      " [[ 91  92]\n",
      "  [ 93  94]\n",
      "  [ 95  96]\n",
      "  [ 97  98]\n",
      "  [ 99 100]]]\n",
      "(10, 5, 2)\n"
     ]
    }
   ],
   "source": [
    "# 1\n",
    "a = np.array(range(1,101))\n",
    "print(a)\n",
    "print(a.shape)\n",
    "#\n",
    "print()\n",
    "# 2\n",
    "b = a.reshape(10,10)\n",
    "print(b)\n",
    "print(b.shape)\n",
    "#\n",
    "print()\n",
    "# 3\n",
    "c = b.reshape(10,5,2)\n",
    "print(c)\n",
    "print(c.shape)"
   ]
  },
  {
   "cell_type": "markdown",
   "metadata": {
    "collapsed": false,
    "id": "cYGVX3HZr0bv"
   },
   "source": [
    "Maak een array `x` met met de functie `np.arange(1,5)`. Maak een array `y` met `np.ones(5)`.\n",
    "Probeer beide arrays bij elkaar op te tellen, zodat je een array krijgt van `(4,5)`."
   ]
  },
  {
   "cell_type": "code",
   "execution_count": 2202,
   "id": "b48beaef",
   "metadata": {},
   "outputs": [
    {
     "name": "stdout",
     "output_type": "stream",
     "text": [
      "[1 2 3 4]\n",
      "(4,)\n",
      "\n",
      "[1. 1. 1. 1. 1.]\n",
      "(5,)\n",
      "\n",
      "[[1.]\n",
      " [1.]\n",
      " [1.]\n",
      " [1.]\n",
      " [1.]]\n",
      "(5, 1)\n",
      "\n",
      "[[2. 3. 4. 5.]\n",
      " [2. 3. 4. 5.]\n",
      " [2. 3. 4. 5.]\n",
      " [2. 3. 4. 5.]\n",
      " [2. 3. 4. 5.]]\n",
      "(5, 4)\n"
     ]
    }
   ],
   "source": [
    "x = np.arange(1,5)\n",
    "y = np.ones(5)\n",
    "print(x)\n",
    "print(x.shape)\n",
    "print() # /n\n",
    "print(y)\n",
    "print(y.shape)\n",
    "print() # /n\n",
    "y = y.reshape((5,1))\n",
    "print(y)\n",
    "print(y.shape)\n",
    "print() # /n\n",
    "z = x + y\n",
    "print(z)\n",
    "print(z.shape)"
   ]
  },
  {
   "cell_type": "markdown",
   "metadata": {
    "id": "L1qx40SC7Xbc"
   },
   "source": [
    "Zoals eerder vermeld kunnen we arrays niet zomaar groter of kleiner maken, maar er zijn we functies waarmee we dit kunnen doen: we kunnen arrays aan elkaar **kleven**. Je kan dit ook realiseren met basis Python code en met de Pandas library (zie andere oefenboekjes), maar soms is het gewoon veel handiger om dit gewoon met Numpy te doen en daarna pas met Pandas aan te slag te gaan (zoals je zal leren is Pandas gebouwd op Numpy arrays).\n",
    "\n",
    "De belangrijkste Numpy functies zijn:\n",
    "\n",
    "```\n",
    "np.stack(lijst van arrays, richting waarin we stapelen)       # algemene functie\n",
    "np.hstack(lijst van arrays)                                   # horizontaal stapelen\n",
    "np.vstack(lijst van arrays)                                   # verticaal stapelen\n",
    "np.concatenate(lijst van arrays, richting waarin we plakken)  # algemene functie\n",
    "```\n",
    "\n",
    "Al deze functie nemen de originele arrays als input en bouwen voor jou een volledig nieuwe array met de juiste vorm.\n",
    "\n",
    "\n",
    "Maak met de functie `np.zeros` een array `a` van 10 nullen en een variabele `b=1`. Maak een array `c` die de som is van `a + b + 1` (hier wordt broadcasting gebruikt natuurlijk).\n",
    "\n",
    "Plak `a`, `b` en `c` achter elkaar en boven elkaar. \n",
    "\n",
    "*Let op: voor `b` ga je nog wel iets extra moeten ondernemen (zie Numpy-functie hierboven om `b` langer te maken)* "
   ]
  },
  {
   "cell_type": "code",
   "execution_count": 2203,
   "id": "1fc52be7",
   "metadata": {},
   "outputs": [
    {
     "name": "stdout",
     "output_type": "stream",
     "text": [
      "[0. 0. 0. 0. 0. 0. 0. 0. 0. 0.]\n",
      "(10,)\n",
      "\n",
      "1\n",
      "\n",
      "[2. 2. 2. 2. 2. 2. 2. 2. 2. 2.]\n",
      "(10,)\n",
      "\n",
      "[0. 0. 0. 0. 0. 0. 0. 0. 0. 0. 1. 2. 2. 2. 2. 2. 2. 2. 2. 2. 2.]\n",
      "(21,)\n",
      "\n",
      "[[0. 0. 0. 0. 0. 0. 0. 0. 0. 0. 1. 2. 2. 2. 2. 2. 2. 2. 2. 2. 2.]\n",
      " [0. 0. 0. 0. 0. 0. 0. 0. 0. 0. 1. 2. 2. 2. 2. 2. 2. 2. 2. 2. 2.]]\n",
      "(2, 21)\n"
     ]
    }
   ],
   "source": [
    "# 1\n",
    "a = np.zeros(10)\n",
    "print(a)\n",
    "print(a.shape)\n",
    "#\n",
    "print()\n",
    "# 2\n",
    "b = 1\n",
    "print(b)\n",
    "#\n",
    "print()\n",
    "# 3\n",
    "c = a + b + 1\n",
    "print(c)\n",
    "print(c.shape)\n",
    "#\n",
    "print()\n",
    "# 4.2\n",
    "d = np.hstack([a,b,c])\n",
    "print(d)\n",
    "print(d.shape)\n",
    "#\n",
    "print()\n",
    "# 4.2\n",
    "e = np.vstack([d,d])\n",
    "print(e)\n",
    "print(e.shape)"
   ]
  },
  {
   "cell_type": "markdown",
   "metadata": {
    "id": "YGxDicdPAh8h"
   },
   "source": [
    "### Oefening 5 - Nog enkele nuttige truukjes"
   ]
  },
  {
   "cell_type": "markdown",
   "metadata": {
    "id": "k9cXs1A6Jo08"
   },
   "source": [
    "Het kan gebeuren dat je twee arrays elementgewijs moet **vermenigvuldigen** en dan de **som** moet maken van die producten. In spreadsheet software heet deze functie vaak SUMPRODUCT of iets dergelijks.\n",
    "\n",
    "**Voorbeeld**\n",
    "Voor Programmeren 1 zijn gewichten van de vakken als volgt verdeeld:\n",
    "* OO - Concepten 1: 0.17 (17%)\n",
    "* OO - Concepten 1: 0.38 (38%)\n",
    "* Java FX: 0.45 (45%)\n",
    "\n",
    "Student Milan haalt volgende scores: `[13,8,10]`. \n",
    "\n",
    "Op dit punt ken je voldende Numpy functie om dit op te lossen met enkele regels code.\n",
    "\n",
    "```\n",
    "gewichten = np.array([0.17,0.38,0.45])\n",
    "milan = np.array([13,9,10])                          \n",
    "np.sum(gewichten * milan)                   # broadcasting + np.sum functie gebruiken\n",
    "(gewichten * milan).sum()                   # kan ook met broadcasting + sum-methode gebruiken \n",
    "```\n",
    "\n",
    "Is hij geslaagd voor Programmeren 1?\n"
   ]
  },
  {
   "cell_type": "code",
   "execution_count": 2204,
   "id": "2bea9ab9",
   "metadata": {},
   "outputs": [
    {
     "name": "stdout",
     "output_type": "stream",
     "text": [
      "Geslaagd :)\n"
     ]
    }
   ],
   "source": [
    "gewichten = np.array([0.17,0.38,0.45])\n",
    "milan = np.array([13,9,10])\n",
    "resultaat = np.sum(gewichten * milan)\n",
    "\n",
    "if resultaat >= 10:\n",
    "    print(\"Geslaagd :)\")\n",
    "else: print(\"Niet geslaagd :(\")"
   ]
  },
  {
   "cell_type": "markdown",
   "metadata": {
    "id": "BdktVn2JPUuF"
   },
   "source": [
    "De functie `np.dot` kan dit in één keer berekenen. Het vermenigvuldigt en telt op. Het werkt ook gewoon op Python lists, de omzetting naar Numpy arrays gebeurt achter de schermen.\n",
    "\n",
    "```\n",
    "np.dot([0.17,0.38,0.45],[13,9,10])\n",
    "```\n",
    "\n",
    "Dat lijkt misschien niet meteen mega specatulair maar meestal doen er wel meer studenten mee aan een examen. Veronderstel dat we nu alle punten van de studenten hebben in een Python lijst van een lijst of 2D Numpy array.\n",
    "\n",
    "```\n",
    "gewichten = np.array([0.17,0.38,0.45])\n",
    "punten = np.array([\n",
    "                   [13,9,10],\n",
    "                   [12,10,10],\n",
    "                   [9,7,np.NaN],         # deze student heeft JavaFX niet afgelegd, np.NaN (Not A Number)\n",
    "                   [10,7,12],\n",
    "                   [8,9,10]]\n",
    "                  )              \n",
    "np.dot(punten, gewichten)                # bereken alle totaalpunten\n",
    "np.dot(gewichten,punten.transpose())     # idem, maar punten moeten getransponeerd worden\n",
    "```\n",
    "\n",
    "Met de `transpose` methode (en functie) kun je de rijen in kolommen veranderen en vice versa. Deze heb je ook zo nu en dan eens nodig. Hier is het nodig als je de argumenten verwisselt van plaats, omdat `np.dot` eigenlijk een matrix-operatie is uit de wiskunde. Sommige studenten zullen deze leerstof in het middelbaar zeker gekregen hebben. "
   ]
  },
  {
   "cell_type": "code",
   "execution_count": 2205,
   "id": "825c24b1",
   "metadata": {},
   "outputs": [
    {
     "data": {
      "text/plain": "array([10.13, 10.34,   nan,  9.76,  9.28])"
     },
     "execution_count": 2205,
     "metadata": {},
     "output_type": "execute_result"
    }
   ],
   "source": [
    "gewichten = np.array([0.17,0.38,0.45])\n",
    "punten = np.array([\n",
    "                   [13,9,10],\n",
    "                   [12,10,10],\n",
    "                   [9,7,np.NaN],         # deze student heeft JavaFX niet afgelegd, np.NaN (Not A Number)\n",
    "                   [10,7,12],\n",
    "                   [8,9,10]]\n",
    "                  )\n",
    "np.dot(punten, gewichten)                # bereken alle totaalpunten\n",
    "np.dot(gewichten,punten.transpose())     # idem, maar punten moeten getransponeerd worden\n",
    "# VB.\n",
    "# 0.17 * 13 = x\n",
    "# 0.17 * 12 = y\n",
    "# x + y"
   ]
  },
  {
   "cell_type": "markdown",
   "metadata": {
    "id": "qXlOSSo0VO5F"
   },
   "source": [
    "De kans dat je met een dobbelsteen een bepaald aantal ogen gooit, is gelijk aan $\\frac{1}{6}$\n",
    "\n",
    "Hoeveel ga je gemiddeld gooien als je heel veel dobbelstenen zou opwerpen?"
   ]
  },
  {
   "cell_type": "code",
   "execution_count": 2206,
   "id": "f00c256e",
   "metadata": {},
   "outputs": [],
   "source": [
    "# De kans dat je met een eerlijke dobbelsteen een bepaald aantal ogen gooit, is gelijk aan 1/6, omdat er zes mogelijke uitkomsten zijn en elke uitkomst even waarschijnlijk is.\n",
    "\n",
    "# Als je heel veel dobbelstenen zou opwerpen, dan zou het gemiddelde aantal ogen dat je gooit dichter bij het verwachte gemiddelde van de verdeling komen. Het verwachte gemiddelde van de verdeling van de som van n dobbelstenen is gelijk aan n keer het verwachte gemiddelde van de verdeling van één dobbelsteen, oftewel n*(1+2+3+4+5+6)/6 = n*3.5.\n",
    "\n",
    "# Dus als je heel veel dobbelstenen zou opwerpen, zou het gemiddelde aantal ogen dat je gooit dicht bij n*3.5 komen. Dit betekent dat als je bijvoorbeeld 100 dobbelstenen opwerpt, het gemiddelde aantal ogen dat je gooit dicht bij 350 zou komen. Echter, het is belangrijk om op te merken dat het werpen van een grote hoeveelheid dobbelstenen niet noodzakelijkerwijs betekent dat het resultaat precies gelijk zal zijn aan het verwachte gemiddelde, omdat er altijd variatie zal zijn in de resultaten."
   ]
  },
  {
   "cell_type": "markdown",
   "metadata": {
    "id": "U9YhJ9VsV4DN"
   },
   "source": [
    "Numpy bevat nog vele andere functies en methoden die je kan gebruiken. We lijsten er hier nog enkele voor je op. Probeer ze zelf uit op enkele arrays, meestal zegt de naam al voldoende. Soms bestaan ze als functie, soms als methode, en soms als beide.\n",
    "\n",
    "* `mean()`\n",
    "* `nansum()` , som zonder NaN-waarden \n",
    "* `prod()`\n",
    "* `max()`\n",
    "* `min()`\n",
    "* `cumsum()`\n",
    "* `sin()`, `cos()`, ... `exp()`\n",
    "* ...\n",
    "\n",
    "De lijst is veel te lang om hier op te sommen, maar je kan er quasi zeker vanuit gaan dat jouw probleem al door iemand anders is opgelost.Dus probeer het warmwater niet opnieuw uit te vinden, maar raadpleeg de documentatie. \n",
    "\n",
    "Hier is een mooie lijst van functies: https://numpy.org/doc/stable/reference/routines.html.  We zullen gaandeweg nog veel meer functies en truukjes leren."
   ]
  },
  {
   "cell_type": "markdown",
   "metadata": {
    "collapsed": false,
    "id": "YH_Lcj25r0bz"
   },
   "source": [
    "### Oefening 6 - Numpy arrays uit bestanden"
   ]
  },
  {
   "cell_type": "markdown",
   "metadata": {
    "collapsed": false,
    "id": "PgnnXJVQr0b0"
   },
   "source": [
    "Je kan ook Numpy arrays maken op basis van gegevens uit tekstbestanden. Hieronder zie je een voorbeeld van hoe dit werkt op de dataset `tabel.csv`.\n",
    "```python\n",
    "data = np.genfromtxt('../datasets/tabel.csv',\n",
    "                     delimiter=',',                             # delimiter teken kiezen\n",
    "                     usecols=range(1,5),                        # welke kolommen willen inlezen\n",
    "                     skip_header=1)                             # eerste kolom is header dus skippen\n",
    "data\n",
    "```\n",
    "Probeer dit een keertje uit en bekijk het resultaat. Wat zijn de datatypes? Bekijk de shape.\n",
    "Wat is het type van de variabele `data`?"
   ]
  },
  {
   "cell_type": "code",
   "execution_count": 2207,
   "id": "a78e6183",
   "metadata": {},
   "outputs": [
    {
     "name": "stdout",
     "output_type": "stream",
     "text": [
      "[[ 1.         15.         54.         36.5       ]\n",
      " [ 2.         18.         68.         37.09999847]\n",
      " [ 3.         11.         41.         36.40000153]\n",
      " [ 4.         17.         59.         37.20000076]\n",
      " [ 5.         20.         65.         36.90000153]]\n",
      "float64\n",
      "(5, 4)\n",
      "<class 'numpy.ndarray'>\n"
     ]
    }
   ],
   "source": [
    "# data = np.genfromtxt(\"tabel.csv\",\n",
    "#                      delimiter=',',\n",
    "#                      usecols=range(0,5))\n",
    "# print(data)\n",
    "data = np.genfromtxt(\"tabel.csv\",\n",
    "                     delimiter=',',                             # delimiter teken kiezen\n",
    "                     usecols=range(1,5),                        # welke kolommen willen inlezen\n",
    "                     skip_header=1)                             # eerste kolom is header dus skippen\n",
    "# Probeer dit een keertje uit en bekijk het resultaat.\n",
    "print(data)\n",
    "# Wat zijn de datatypes?\n",
    "print(data.dtype)\n",
    "# Bekijk de shape.\n",
    "print(data.shape)\n",
    "# Wat is het type van de variabele data?\n",
    "print(type(data))"
   ]
  },
  {
   "cell_type": "markdown",
   "metadata": {
    "collapsed": false,
    "id": "NGlchg6dr0b0"
   },
   "source": [
    "Een andere manier om de gegevens in te lezen, is de volgende waarbij je ook namen van kolommen opgeeft, en optioneel ook enkele datatypes.\n",
    "\n",
    "```python\n",
    "import numpy as np\n",
    "data = np.genfromtxt('../datasets/tabel.csv',\n",
    "                     delimiter=',',                             # delimiter teken kiezen\n",
    "                     usecols=range(1,5),                        # welke kolommen willen inlezen\n",
    "                     skip_header=1,                             # eerste kolom is header dus skippen\n",
    "                     names=['id','leeftijd','gewicht','temp'],  # we kunnen namen geven aan de kolommen\n",
    "                     dtype=[int, int, float, float])            # we kunnen data types meegeven\n",
    "```\n",
    "\n",
    "Probeer dit ook een keertje uit. Bekijk het resultaat. Wat zijn de datatypes? Bekijk de shape.\n",
    "\n",
    "Wat is het type van de variabele `data`?\n",
    "Welke verschillen zijn er met de vorige manier van inlezen? Kijk goed."
   ]
  },
  {
   "cell_type": "code",
   "execution_count": 2208,
   "id": "791ad68f",
   "metadata": {},
   "outputs": [
    {
     "name": "stdout",
     "output_type": "stream",
     "text": [
      "[(1, 15, 54., 36.5       ) (2, 18, 68., 37.09999847)\n",
      " (3, 11, 41., 36.40000153) (4, 17, 59., 37.20000076)\n",
      " (5, 20, 65., 36.90000153)]\n",
      "[('id', '<i4'), ('leeftijd', '<i4'), ('gewicht', '<f8'), ('temp', '<f8')]\n",
      "(5,)\n",
      "<class 'numpy.ndarray'>\n"
     ]
    }
   ],
   "source": [
    "data = np.genfromtxt('tabel.csv',\n",
    "                     delimiter=',',                             # delimiter teken kiezen\n",
    "                     usecols=range(1,5),                        # welke kolommen willen inlezen\n",
    "                     skip_header=1,                             # eerste kolom is header dus skippen\n",
    "                     names=['id','leeftijd','gewicht','temp'],  # we kunnen namen geven aan de kolommen\n",
    "                     dtype=[int, int, float, float])            # we kunnen data types meegeven\n",
    "\n",
    "# Probeer dit een keertje uit en bekijk het resultaat.\n",
    "print(data)\n",
    "# Wat zijn de datatypes?\n",
    "print(data.dtype)\n",
    "# Bekijk de shape.\n",
    "print(data.shape)\n",
    "# Wat is het type van de variabele data?\n",
    "print(type(data))"
   ]
  },
  {
   "cell_type": "markdown",
   "metadata": {
    "collapsed": false,
    "id": "BrlDmM6Er0b3"
   },
   "source": [
    "De tweede manier van inlezen levert een heterogene Numpy array -ook wel structured array genoemd-, die nu bestaat uit een lijst van tuples i.p.v. een lijst van een lijst. Daardoor kan je nu ook werken met de kolomnamen om te indexeren.\n",
    "\n",
    "```python\n",
    "data['id']\n",
    "```\n",
    "Test uit."
   ]
  },
  {
   "cell_type": "code",
   "execution_count": 2209,
   "id": "564d765d",
   "metadata": {},
   "outputs": [
    {
     "name": "stdout",
     "output_type": "stream",
     "text": [
      "['id']\n"
     ]
    }
   ],
   "source": [
    "print(['id'])\n",
    "# Hier hebben we de kolom 'id' geïndexeerd, die we hebben gedefinieerd in het CSV-bestand. De functie np.recfromcsv() creëert een gestructureerde array, die bestaat uit een lijst van tuples, waarbij elke tuple overeenkomt met een rij in het bestand. De kolommen worden geïndexeerd op basis van hun naam in plaats van hun positie in de array.\n",
    "\n",
    "# Door data['id'] te gebruiken, krijgen we de kolom 'id' als NumPy-array."
   ]
  }
 ],
 "metadata": {
  "colab": {
   "collapsed_sections": [
    "SEz-NszwHpn9",
    "jTqjbaLYHuNU",
    "TmeLygtbH3pz",
    "2ZqZPPkLH7rH"
   ],
   "name": "Oefenboek op Numpy - oplossingen.ipynb",
   "provenance": []
  },
  "kernelspec": {
   "display_name": "Python 3",
   "language": "python",
   "name": "python3"
  },
  "language_info": {
   "codemirror_mode": {
    "name": "ipython",
    "version": 2
   },
   "file_extension": ".py",
   "mimetype": "text/x-python",
   "name": "python",
   "nbconvert_exporter": "python",
   "pygments_lexer": "ipython2",
   "version": "2.7.6"
  }
 },
 "nbformat": 4,
 "nbformat_minor": 0
}
